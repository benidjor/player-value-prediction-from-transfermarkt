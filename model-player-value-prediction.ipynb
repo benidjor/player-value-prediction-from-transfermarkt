{
 "cells": [
  {
   "cell_type": "markdown",
   "metadata": {},
   "source": [
    "# Modeling for Football Data from Transfermarkt\n",
    "- Kaggle Data URL\n",
    "\n",
    "    - https://www.kaggle.com/datasets/davidcariboo/player-scores"
   ]
  },
  {
   "cell_type": "markdown",
   "metadata": {},
   "source": [
    "## 데이터 설명\n",
    "\n",
    "- `csv` 파일 설명\n",
    "    - `apperances` : 선수 출장 기록\n",
    "    - `club_games` : 클럽별 경기 홈팀, 어웨이팀 정보\n",
    "    - `clubs` : 리그별 속해 있는 클럽\n",
    "    - `competitions` : 대회 정보\n",
    "    - `game_events` : 경기별 이벤트 정보 (카드, 득점, 어시스트 등)\n",
    "    - `game_lineups` : 경기별 선수의 선발, 교체 명단 등재 여부\n",
    "    - `games` : 경기에 대한 정보 (시즌, 라운드, 홈팀, 어웨이팀, 순위)\n",
    "    - `player_valuations` : Transfermarkt 웹사이트에서 매긴 선수의 가치\n",
    "    - `players` : 선수에 대한 세부 정보"
   ]
  },
  {
   "cell_type": "code",
   "execution_count": 1,
   "metadata": {},
   "outputs": [
    {
     "name": "stderr",
     "output_type": "stream",
     "text": [
      "c:\\Users\\aryij\\anaconda3\\envs\\football\\Lib\\site-packages\\tqdm\\auto.py:21: TqdmWarning: IProgress not found. Please update jupyter and ipywidgets. See https://ipywidgets.readthedocs.io/en/stable/user_install.html\n",
      "  from .autonotebook import tqdm as notebook_tqdm\n"
     ]
    }
   ],
   "source": [
    "import numpy as np\n",
    "import pandas as pd\n",
    "import matplotlib.pyplot as plt\n",
    "import seaborn as sns\n",
    "%matplotlib inline\n",
    "\n",
    "from sklearn import metrics\n",
    "from sklearn.linear_model import LinearRegression\n",
    "from sklearn.tree import DecisionTreeRegressor\n",
    "from sklearn.ensemble import RandomForestRegressor\n",
    "from xgboost import XGBRegressor\n",
    "from lightgbm import LGBMRegressor\n",
    "from catboost import CatBoostRegressor\n",
    "\n",
    "import optuna\n",
    "from optuna.samplers import TPESampler\n",
    "\n",
    "from sklearn.model_selection import train_test_split\n",
    "\n",
    "from sklearn.preprocessing import TargetEncoder\n",
    "\n",
    "from xgboost import plot_importance\n",
    "\n",
    "import shap\n",
    "\n",
    "import warnings\n",
    "warnings.filterwarnings(action='ignore')"
   ]
  },
  {
   "cell_type": "code",
   "execution_count": 2,
   "metadata": {},
   "outputs": [],
   "source": [
    "# 데이터 경로\n",
    "path = \"data/df_eda.csv\"\n",
    "df = pd.read_csv(path)"
   ]
  },
  {
   "cell_type": "code",
   "execution_count": 3,
   "metadata": {},
   "outputs": [
    {
     "data": {
      "text/html": [
       "<div>\n",
       "<style scoped>\n",
       "    .dataframe tbody tr th:only-of-type {\n",
       "        vertical-align: middle;\n",
       "    }\n",
       "\n",
       "    .dataframe tbody tr th {\n",
       "        vertical-align: top;\n",
       "    }\n",
       "\n",
       "    .dataframe thead th {\n",
       "        text-align: right;\n",
       "    }\n",
       "</style>\n",
       "<table border=\"1\" class=\"dataframe\">\n",
       "  <thead>\n",
       "    <tr style=\"text-align: right;\">\n",
       "      <th></th>\n",
       "      <th>player_name</th>\n",
       "      <th>start_season</th>\n",
       "      <th>goals</th>\n",
       "      <th>assists</th>\n",
       "      <th>minutes_played</th>\n",
       "      <th>competition_code</th>\n",
       "      <th>date_of_birth</th>\n",
       "      <th>age</th>\n",
       "      <th>position</th>\n",
       "      <th>current_club_name</th>\n",
       "      <th>market_value_per_season</th>\n",
       "      <th>country</th>\n",
       "      <th>foot</th>\n",
       "      <th>height_in_cm</th>\n",
       "    </tr>\n",
       "  </thead>\n",
       "  <tbody>\n",
       "    <tr>\n",
       "      <th>0</th>\n",
       "      <td>Aaron Connolly</td>\n",
       "      <td>2019</td>\n",
       "      <td>3</td>\n",
       "      <td>2</td>\n",
       "      <td>1261</td>\n",
       "      <td>premier-league</td>\n",
       "      <td>2000-01-28</td>\n",
       "      <td>20</td>\n",
       "      <td>Centre-Forward</td>\n",
       "      <td>Brighton and Hove Albion Football Club</td>\n",
       "      <td>4000000.0</td>\n",
       "      <td>Ireland</td>\n",
       "      <td>right</td>\n",
       "      <td>174.0</td>\n",
       "    </tr>\n",
       "    <tr>\n",
       "      <th>1</th>\n",
       "      <td>Aaron Connolly</td>\n",
       "      <td>2020</td>\n",
       "      <td>2</td>\n",
       "      <td>1</td>\n",
       "      <td>791</td>\n",
       "      <td>premier-league</td>\n",
       "      <td>2000-01-28</td>\n",
       "      <td>21</td>\n",
       "      <td>Centre-Forward</td>\n",
       "      <td>Brighton and Hove Albion Football Club</td>\n",
       "      <td>7000000.0</td>\n",
       "      <td>Ireland</td>\n",
       "      <td>right</td>\n",
       "      <td>174.0</td>\n",
       "    </tr>\n",
       "    <tr>\n",
       "      <th>2</th>\n",
       "      <td>Aaron Connolly</td>\n",
       "      <td>2021</td>\n",
       "      <td>0</td>\n",
       "      <td>0</td>\n",
       "      <td>155</td>\n",
       "      <td>premier-league</td>\n",
       "      <td>2000-01-28</td>\n",
       "      <td>22</td>\n",
       "      <td>Centre-Forward</td>\n",
       "      <td>Brighton and Hove Albion Football Club</td>\n",
       "      <td>6000000.0</td>\n",
       "      <td>Ireland</td>\n",
       "      <td>right</td>\n",
       "      <td>174.0</td>\n",
       "    </tr>\n",
       "    <tr>\n",
       "      <th>3</th>\n",
       "      <td>Aaron Cresswell</td>\n",
       "      <td>2019</td>\n",
       "      <td>3</td>\n",
       "      <td>0</td>\n",
       "      <td>2730</td>\n",
       "      <td>premier-league</td>\n",
       "      <td>1989-12-15</td>\n",
       "      <td>30</td>\n",
       "      <td>Left-Back</td>\n",
       "      <td>West Ham United Football Club</td>\n",
       "      <td>6500000.0</td>\n",
       "      <td>England</td>\n",
       "      <td>left</td>\n",
       "      <td>170.0</td>\n",
       "    </tr>\n",
       "    <tr>\n",
       "      <th>4</th>\n",
       "      <td>Aaron Cresswell</td>\n",
       "      <td>2020</td>\n",
       "      <td>0</td>\n",
       "      <td>8</td>\n",
       "      <td>3172</td>\n",
       "      <td>premier-league</td>\n",
       "      <td>1989-12-15</td>\n",
       "      <td>31</td>\n",
       "      <td>Left-Back</td>\n",
       "      <td>West Ham United Football Club</td>\n",
       "      <td>5000000.0</td>\n",
       "      <td>England</td>\n",
       "      <td>left</td>\n",
       "      <td>170.0</td>\n",
       "    </tr>\n",
       "  </tbody>\n",
       "</table>\n",
       "</div>"
      ],
      "text/plain": [
       "       player_name  start_season  goals  assists  minutes_played  \\\n",
       "0   Aaron Connolly          2019      3        2            1261   \n",
       "1   Aaron Connolly          2020      2        1             791   \n",
       "2   Aaron Connolly          2021      0        0             155   \n",
       "3  Aaron Cresswell          2019      3        0            2730   \n",
       "4  Aaron Cresswell          2020      0        8            3172   \n",
       "\n",
       "  competition_code date_of_birth  age        position  \\\n",
       "0   premier-league    2000-01-28   20  Centre-Forward   \n",
       "1   premier-league    2000-01-28   21  Centre-Forward   \n",
       "2   premier-league    2000-01-28   22  Centre-Forward   \n",
       "3   premier-league    1989-12-15   30       Left-Back   \n",
       "4   premier-league    1989-12-15   31       Left-Back   \n",
       "\n",
       "                        current_club_name  market_value_per_season  country  \\\n",
       "0  Brighton and Hove Albion Football Club                4000000.0  Ireland   \n",
       "1  Brighton and Hove Albion Football Club                7000000.0  Ireland   \n",
       "2  Brighton and Hove Albion Football Club                6000000.0  Ireland   \n",
       "3           West Ham United Football Club                6500000.0  England   \n",
       "4           West Ham United Football Club                5000000.0  England   \n",
       "\n",
       "    foot  height_in_cm  \n",
       "0  right         174.0  \n",
       "1  right         174.0  \n",
       "2  right         174.0  \n",
       "3   left         170.0  \n",
       "4   left         170.0  "
      ]
     },
     "execution_count": 3,
     "metadata": {},
     "output_type": "execute_result"
    }
   ],
   "source": [
    "df.head()"
   ]
  },
  {
   "cell_type": "code",
   "execution_count": 4,
   "metadata": {},
   "outputs": [],
   "source": [
    "# date_of_birth 열 제거 (age로 대체)\n",
    "df = df.drop(\"date_of_birth\", axis=1)"
   ]
  },
  {
   "cell_type": "code",
   "execution_count": 5,
   "metadata": {},
   "outputs": [
    {
     "name": "stdout",
     "output_type": "stream",
     "text": [
      "<class 'pandas.core.frame.DataFrame'>\n",
      "RangeIndex: 15999 entries, 0 to 15998\n",
      "Data columns (total 13 columns):\n",
      " #   Column                   Non-Null Count  Dtype  \n",
      "---  ------                   --------------  -----  \n",
      " 0   player_name              15999 non-null  object \n",
      " 1   start_season             15999 non-null  int64  \n",
      " 2   goals                    15999 non-null  int64  \n",
      " 3   assists                  15999 non-null  int64  \n",
      " 4   minutes_played           15999 non-null  int64  \n",
      " 5   competition_code         15999 non-null  object \n",
      " 6   age                      15999 non-null  int64  \n",
      " 7   position                 15999 non-null  object \n",
      " 8   current_club_name        15999 non-null  object \n",
      " 9   market_value_per_season  15999 non-null  float64\n",
      " 10  country                  15999 non-null  object \n",
      " 11  foot                     15999 non-null  object \n",
      " 12  height_in_cm             15999 non-null  float64\n",
      "dtypes: float64(2), int64(5), object(6)\n",
      "memory usage: 1.6+ MB\n"
     ]
    }
   ],
   "source": [
    "df.info()"
   ]
  },
  {
   "cell_type": "code",
   "execution_count": 6,
   "metadata": {},
   "outputs": [],
   "source": [
    "# 수치형, 범주형 변수 따로 선언\n",
    "num_cols = df.select_dtypes(include=np.number).columns.tolist()\n",
    "cat_cols = df.select_dtypes(exclude=np.number).columns.tolist()"
   ]
  },
  {
   "cell_type": "code",
   "execution_count": 7,
   "metadata": {},
   "outputs": [
    {
     "name": "stdout",
     "output_type": "stream",
     "text": [
      "수치형 변수 : ['start_season', 'goals', 'assists', 'minutes_played', 'age', 'market_value_per_season', 'height_in_cm']\n",
      "범주형 변수 : ['player_name', 'competition_code', 'position', 'current_club_name', 'country', 'foot']\n"
     ]
    }
   ],
   "source": [
    "print(\"수치형 변수 :\", num_cols)\n",
    "print(\"범주형 변수 :\", cat_cols)"
   ]
  },
  {
   "cell_type": "markdown",
   "metadata": {},
   "source": [
    "## 데이터 분리"
   ]
  },
  {
   "cell_type": "code",
   "execution_count": 8,
   "metadata": {},
   "outputs": [
    {
     "data": {
      "text/plain": [
       "((13083, 13), (2916, 13))"
      ]
     },
     "execution_count": 8,
     "metadata": {},
     "output_type": "execute_result"
    }
   ],
   "source": [
    "# target 컬럼 \"market_value_per_season\"\n",
    "target = \"market_value_per_season\"\n",
    "# 나머지 컬럼 features에 선언\n",
    "features = df.drop(columns=target).columns\n",
    "\n",
    "# 학습할 train 데이터 : 19-20 ~ 22-23 시즌 데이터 (4시즌)\n",
    "train = df[df.start_season != 2023]\n",
    "# 예측할 test 데이터 : 23-24 시즌 데이터\n",
    "test = df[df.start_season == 2023]\n",
    "\n",
    "train.shape, test.shape"
   ]
  },
  {
   "cell_type": "code",
   "execution_count": 9,
   "metadata": {},
   "outputs": [],
   "source": [
    "# validation 데이터셋 생성\n",
    "train, val = train_test_split(train, train_size=0.8, random_state=42)"
   ]
  },
  {
   "cell_type": "code",
   "execution_count": 10,
   "metadata": {},
   "outputs": [
    {
     "data": {
      "text/plain": [
       "((10466, 12), (10466,), (2617, 12), (2617,), (2916, 12), (2916,))"
      ]
     },
     "execution_count": 10,
     "metadata": {},
     "output_type": "execute_result"
    }
   ],
   "source": [
    "# train 데이터 나눠준다\n",
    "X_train = train[features]\n",
    "y_train = train[target]\n",
    "\n",
    "# validation 데이터 나눠준다\n",
    "X_val = val[features]\n",
    "y_val = val[target]\n",
    "\n",
    "# test 데이터 나눠준다\n",
    "X_test = test[features]\n",
    "y_test = test[target]\n",
    "\n",
    "X_train.shape, y_train.shape, X_val.shape, y_val.shape, X_test.shape, y_test.shape"
   ]
  },
  {
   "cell_type": "code",
   "execution_count": 11,
   "metadata": {},
   "outputs": [],
   "source": [
    "num_cols = df.drop(columns=target).select_dtypes(include=np.number).columns.tolist()\n",
    "\n",
    "# train 데이터 copy\n",
    "X_train_no_enc = train[features].copy()\n",
    "# y_train_no_enc = train[target].copy()\n",
    "\n",
    "# validation 데이터 copy\n",
    "X_val_no_enc = val[features].copy()\n",
    "# y_val_no_enc = val[target].copy()\n",
    "\n",
    "# test 데이터 copy\n",
    "X_test_no_enc = test[features].copy()\n",
    "# y_test_no_enc = test[target].copy()"
   ]
  },
  {
   "cell_type": "markdown",
   "metadata": {},
   "source": [
    "## 인코딩"
   ]
  },
  {
   "cell_type": "markdown",
   "metadata": {},
   "source": [
    "### Target Encoding\n",
    "- 머신 러닝 모델의 출력이 숫자 (회귀)일 때만 범주형 feature에 사용\n",
    "\n",
    "- 각 범주에 대한 평균 목표값 계산 → 인코딩 하기 위해 범주형 값이 갖는 범주에 해당하는 백분율 대체\n",
    "- 각 카테고리의 값을 학습 데이터의 target 값의 평균값으로 설정한다\n",
    "- 데이터 관측치가 많아야 한다\n",
    "- 과적합의 원인이 될 수 있다\n",
    "- references\n",
    "    - https://conanmoon.medium.com/%EB%8D%B0%EC%9D%B4%ED%84%B0%EA%B3%BC%ED%95%99-%EC%9C%A0%EB%A7%9D%EC%A3%BC%EC%9D%98-%EB%A7%A4%EC%9D%BC-%EA%B8%80%EC%93%B0%EA%B8%B0-%EC%9D%BC%EA%B3%B1%EB%B2%88%EC%A7%B8-%EC%9D%BC%EC%9A%94%EC%9D%BC-7a40e7de39d4\n",
    "    - https://velog.io/@seungwoong12/encoding"
   ]
  },
  {
   "cell_type": "code",
   "execution_count": 12,
   "metadata": {},
   "outputs": [],
   "source": [
    "# Scikit-learn TargetEncoder 사용\n",
    "# https://scikit-learn.org/stable/modules/generated/sklearn.preprocessing.TargetEncoder.html\n",
    "# Scikit-learn 버전 높아야 사용 가능 (업데이트 필요)\n",
    "\n",
    "# 범주형 변수 목록 cat_features에 선언\n",
    "cat_features = df.select_dtypes(exclude=np.number).columns.tolist()\n",
    "\n",
    "# smooth=\"auto\", cv=5로 TargetEncoder 객체 생성\n",
    "te = TargetEncoder(target_type=\"continuous\", smooth=\"auto\", cv=5)\n",
    "\n",
    "for cat_feature in cat_features:\n",
    "    # Train 데이터로 fit_transform 해준다\n",
    "    X_train[[cat_feature]] = te.fit_transform(X_train[[cat_feature]], y_train)\n",
    "    X_val[[cat_feature]] = te.transform(X_val[[cat_feature]])\n",
    "    X_test[[cat_feature]] = te.transform(X_test[[cat_feature]])"
   ]
  },
  {
   "cell_type": "markdown",
   "metadata": {},
   "source": [
    "## 회귀모델 평가 지표  \n",
    "- `RMSLE`\n",
    "    - MSE에 루트를 씌운 RMSE의 각 인자에 로그를 취해준 값\n",
    "        - 로그 변환을 통해 이상치에 대한 영향을 줄이고, 모델이 이상치에 대해 과도하게 페널티를 받지 않게 한다\n",
    "        - 과소평가된 항목에 큰 패널티를 부여한다\n",
    "        - 상대적 ERROR 측정\n",
    "        - 값의 범위가 넓은 데이터에서 이상치에 대해 변화의 폭이 크지 않다\n",
    "    - 정규 분포를 따르지 않고 불균형한 모형일 때 사용되는 방법\n",
    "\n",
    "- `R2 Score` (결정 계수)\n",
    "    - 종속 변수의 총 변동 중 모델이 설명하는 변동의 비율\n",
    "    - 0 ~ 1 사이의 값을 가지며, 높을 수록 모델이 데이터를 잘 설명한다는 뜻\n",
    "\n",
    "- 평가 지표 선정 이유\n",
    "    - 예측하고자 하는 타겟에 이상치가 많이 존재한다 (`market_value_per_season`)\n",
    "        - `RMSLE` : 이상치에 강건한 특성을 갖는다\n",
    "            - 실제보다 작게 예측이 되었을 때 페널티를 더 크게 부여한다\n",
    "            - 선수 몸값이 실제 몸값 보다 적게 측정된다면, \n",
    "                - Transfermarkt 웹사이트가 몸값을 부풀린다고 오해받을 수 있다 \n",
    "                - 실제 이적시장에 거품이 많이 끼어있다고 생각할 수도 있다\n",
    "            - 따라서 과소 평가 항목에 페널티를 주는 `RMSLE`를 통해 평가\n",
    "        - `R2 Score` : 모델이 얼마나 데이터의 변동을 잘 설명하는지 평가\n",
    "\n",
    "- References\n",
    "    - https://shinminyong.tistory.com/32\n",
    "    - https://wikidocs.net/219419\n",
    "    - https://www.inflearn.com/questions/992421/rmsle%EC%9D%98-%EC%82%AC%EC%9A%A9%EC%97%90-%EA%B4%80%ED%95%9C-%EC%A7%88%EB%AC%B8%EC%9E%85%EB%8B%88%EB%8B%A4"
   ]
  },
  {
   "cell_type": "code",
   "execution_count": 13,
   "metadata": {},
   "outputs": [],
   "source": [
    "def get_rmsle(y_actual, y_pred):\n",
    "    # sklearn의 mean_square_log_error 함수는 y_pred 값 중 하나라도 0 미만인 경우 에러 발생\n",
    "    # y_pred + 1 만들어 0보다 크게 만들어 준다 (음수가 되지 않게 방지)\n",
    "    # 이후 optuna에 적용하여 RMSLE를 기준으로 하이퍼파라미터 튜닝\n",
    "    \n",
    "    diff = np.log(y_pred + 1) - np.log(y_actual + 1)\n",
    "    mean_error = np.square(diff).mean()                 \n",
    "    return np.sqrt(mean_error)   "
   ]
  },
  {
   "cell_type": "code",
   "execution_count": 14,
   "metadata": {},
   "outputs": [],
   "source": [
    "# def rmsle(y, pred):\n",
    "#     log_y = np.log1p(y)\n",
    "#     log_pred = np.log1p(pred)\n",
    "#     squared_error = (log_y-log_pred)**2\n",
    "#     rmsle = np.sqrt(np.mean(squared_error))\n",
    "#     return rmsle"
   ]
  },
  {
   "cell_type": "markdown",
   "metadata": {},
   "source": [
    "## Baseline 모델 생성"
   ]
  },
  {
   "cell_type": "code",
   "execution_count": 15,
   "metadata": {},
   "outputs": [],
   "source": [
    "# https://medium.com/machine-learning-with-python/multiple-linear-regression-implementation-in-python-2de9b303fc0c"
   ]
  },
  {
   "cell_type": "code",
   "execution_count": 16,
   "metadata": {},
   "outputs": [
    {
     "data": {
      "text/html": [
       "<style>#sk-container-id-1 {\n",
       "  /* Definition of color scheme common for light and dark mode */\n",
       "  --sklearn-color-text: black;\n",
       "  --sklearn-color-line: gray;\n",
       "  /* Definition of color scheme for unfitted estimators */\n",
       "  --sklearn-color-unfitted-level-0: #fff5e6;\n",
       "  --sklearn-color-unfitted-level-1: #f6e4d2;\n",
       "  --sklearn-color-unfitted-level-2: #ffe0b3;\n",
       "  --sklearn-color-unfitted-level-3: chocolate;\n",
       "  /* Definition of color scheme for fitted estimators */\n",
       "  --sklearn-color-fitted-level-0: #f0f8ff;\n",
       "  --sklearn-color-fitted-level-1: #d4ebff;\n",
       "  --sklearn-color-fitted-level-2: #b3dbfd;\n",
       "  --sklearn-color-fitted-level-3: cornflowerblue;\n",
       "\n",
       "  /* Specific color for light theme */\n",
       "  --sklearn-color-text-on-default-background: var(--sg-text-color, var(--theme-code-foreground, var(--jp-content-font-color1, black)));\n",
       "  --sklearn-color-background: var(--sg-background-color, var(--theme-background, var(--jp-layout-color0, white)));\n",
       "  --sklearn-color-border-box: var(--sg-text-color, var(--theme-code-foreground, var(--jp-content-font-color1, black)));\n",
       "  --sklearn-color-icon: #696969;\n",
       "\n",
       "  @media (prefers-color-scheme: dark) {\n",
       "    /* Redefinition of color scheme for dark theme */\n",
       "    --sklearn-color-text-on-default-background: var(--sg-text-color, var(--theme-code-foreground, var(--jp-content-font-color1, white)));\n",
       "    --sklearn-color-background: var(--sg-background-color, var(--theme-background, var(--jp-layout-color0, #111)));\n",
       "    --sklearn-color-border-box: var(--sg-text-color, var(--theme-code-foreground, var(--jp-content-font-color1, white)));\n",
       "    --sklearn-color-icon: #878787;\n",
       "  }\n",
       "}\n",
       "\n",
       "#sk-container-id-1 {\n",
       "  color: var(--sklearn-color-text);\n",
       "}\n",
       "\n",
       "#sk-container-id-1 pre {\n",
       "  padding: 0;\n",
       "}\n",
       "\n",
       "#sk-container-id-1 input.sk-hidden--visually {\n",
       "  border: 0;\n",
       "  clip: rect(1px 1px 1px 1px);\n",
       "  clip: rect(1px, 1px, 1px, 1px);\n",
       "  height: 1px;\n",
       "  margin: -1px;\n",
       "  overflow: hidden;\n",
       "  padding: 0;\n",
       "  position: absolute;\n",
       "  width: 1px;\n",
       "}\n",
       "\n",
       "#sk-container-id-1 div.sk-dashed-wrapped {\n",
       "  border: 1px dashed var(--sklearn-color-line);\n",
       "  margin: 0 0.4em 0.5em 0.4em;\n",
       "  box-sizing: border-box;\n",
       "  padding-bottom: 0.4em;\n",
       "  background-color: var(--sklearn-color-background);\n",
       "}\n",
       "\n",
       "#sk-container-id-1 div.sk-container {\n",
       "  /* jupyter's `normalize.less` sets `[hidden] { display: none; }`\n",
       "     but bootstrap.min.css set `[hidden] { display: none !important; }`\n",
       "     so we also need the `!important` here to be able to override the\n",
       "     default hidden behavior on the sphinx rendered scikit-learn.org.\n",
       "     See: https://github.com/scikit-learn/scikit-learn/issues/21755 */\n",
       "  display: inline-block !important;\n",
       "  position: relative;\n",
       "}\n",
       "\n",
       "#sk-container-id-1 div.sk-text-repr-fallback {\n",
       "  display: none;\n",
       "}\n",
       "\n",
       "div.sk-parallel-item,\n",
       "div.sk-serial,\n",
       "div.sk-item {\n",
       "  /* draw centered vertical line to link estimators */\n",
       "  background-image: linear-gradient(var(--sklearn-color-text-on-default-background), var(--sklearn-color-text-on-default-background));\n",
       "  background-size: 2px 100%;\n",
       "  background-repeat: no-repeat;\n",
       "  background-position: center center;\n",
       "}\n",
       "\n",
       "/* Parallel-specific style estimator block */\n",
       "\n",
       "#sk-container-id-1 div.sk-parallel-item::after {\n",
       "  content: \"\";\n",
       "  width: 100%;\n",
       "  border-bottom: 2px solid var(--sklearn-color-text-on-default-background);\n",
       "  flex-grow: 1;\n",
       "}\n",
       "\n",
       "#sk-container-id-1 div.sk-parallel {\n",
       "  display: flex;\n",
       "  align-items: stretch;\n",
       "  justify-content: center;\n",
       "  background-color: var(--sklearn-color-background);\n",
       "  position: relative;\n",
       "}\n",
       "\n",
       "#sk-container-id-1 div.sk-parallel-item {\n",
       "  display: flex;\n",
       "  flex-direction: column;\n",
       "}\n",
       "\n",
       "#sk-container-id-1 div.sk-parallel-item:first-child::after {\n",
       "  align-self: flex-end;\n",
       "  width: 50%;\n",
       "}\n",
       "\n",
       "#sk-container-id-1 div.sk-parallel-item:last-child::after {\n",
       "  align-self: flex-start;\n",
       "  width: 50%;\n",
       "}\n",
       "\n",
       "#sk-container-id-1 div.sk-parallel-item:only-child::after {\n",
       "  width: 0;\n",
       "}\n",
       "\n",
       "/* Serial-specific style estimator block */\n",
       "\n",
       "#sk-container-id-1 div.sk-serial {\n",
       "  display: flex;\n",
       "  flex-direction: column;\n",
       "  align-items: center;\n",
       "  background-color: var(--sklearn-color-background);\n",
       "  padding-right: 1em;\n",
       "  padding-left: 1em;\n",
       "}\n",
       "\n",
       "\n",
       "/* Toggleable style: style used for estimator/Pipeline/ColumnTransformer box that is\n",
       "clickable and can be expanded/collapsed.\n",
       "- Pipeline and ColumnTransformer use this feature and define the default style\n",
       "- Estimators will overwrite some part of the style using the `sk-estimator` class\n",
       "*/\n",
       "\n",
       "/* Pipeline and ColumnTransformer style (default) */\n",
       "\n",
       "#sk-container-id-1 div.sk-toggleable {\n",
       "  /* Default theme specific background. It is overwritten whether we have a\n",
       "  specific estimator or a Pipeline/ColumnTransformer */\n",
       "  background-color: var(--sklearn-color-background);\n",
       "}\n",
       "\n",
       "/* Toggleable label */\n",
       "#sk-container-id-1 label.sk-toggleable__label {\n",
       "  cursor: pointer;\n",
       "  display: block;\n",
       "  width: 100%;\n",
       "  margin-bottom: 0;\n",
       "  padding: 0.5em;\n",
       "  box-sizing: border-box;\n",
       "  text-align: center;\n",
       "}\n",
       "\n",
       "#sk-container-id-1 label.sk-toggleable__label-arrow:before {\n",
       "  /* Arrow on the left of the label */\n",
       "  content: \"▸\";\n",
       "  float: left;\n",
       "  margin-right: 0.25em;\n",
       "  color: var(--sklearn-color-icon);\n",
       "}\n",
       "\n",
       "#sk-container-id-1 label.sk-toggleable__label-arrow:hover:before {\n",
       "  color: var(--sklearn-color-text);\n",
       "}\n",
       "\n",
       "/* Toggleable content - dropdown */\n",
       "\n",
       "#sk-container-id-1 div.sk-toggleable__content {\n",
       "  max-height: 0;\n",
       "  max-width: 0;\n",
       "  overflow: hidden;\n",
       "  text-align: left;\n",
       "  /* unfitted */\n",
       "  background-color: var(--sklearn-color-unfitted-level-0);\n",
       "}\n",
       "\n",
       "#sk-container-id-1 div.sk-toggleable__content.fitted {\n",
       "  /* fitted */\n",
       "  background-color: var(--sklearn-color-fitted-level-0);\n",
       "}\n",
       "\n",
       "#sk-container-id-1 div.sk-toggleable__content pre {\n",
       "  margin: 0.2em;\n",
       "  border-radius: 0.25em;\n",
       "  color: var(--sklearn-color-text);\n",
       "  /* unfitted */\n",
       "  background-color: var(--sklearn-color-unfitted-level-0);\n",
       "}\n",
       "\n",
       "#sk-container-id-1 div.sk-toggleable__content.fitted pre {\n",
       "  /* unfitted */\n",
       "  background-color: var(--sklearn-color-fitted-level-0);\n",
       "}\n",
       "\n",
       "#sk-container-id-1 input.sk-toggleable__control:checked~div.sk-toggleable__content {\n",
       "  /* Expand drop-down */\n",
       "  max-height: 200px;\n",
       "  max-width: 100%;\n",
       "  overflow: auto;\n",
       "}\n",
       "\n",
       "#sk-container-id-1 input.sk-toggleable__control:checked~label.sk-toggleable__label-arrow:before {\n",
       "  content: \"▾\";\n",
       "}\n",
       "\n",
       "/* Pipeline/ColumnTransformer-specific style */\n",
       "\n",
       "#sk-container-id-1 div.sk-label input.sk-toggleable__control:checked~label.sk-toggleable__label {\n",
       "  color: var(--sklearn-color-text);\n",
       "  background-color: var(--sklearn-color-unfitted-level-2);\n",
       "}\n",
       "\n",
       "#sk-container-id-1 div.sk-label.fitted input.sk-toggleable__control:checked~label.sk-toggleable__label {\n",
       "  background-color: var(--sklearn-color-fitted-level-2);\n",
       "}\n",
       "\n",
       "/* Estimator-specific style */\n",
       "\n",
       "/* Colorize estimator box */\n",
       "#sk-container-id-1 div.sk-estimator input.sk-toggleable__control:checked~label.sk-toggleable__label {\n",
       "  /* unfitted */\n",
       "  background-color: var(--sklearn-color-unfitted-level-2);\n",
       "}\n",
       "\n",
       "#sk-container-id-1 div.sk-estimator.fitted input.sk-toggleable__control:checked~label.sk-toggleable__label {\n",
       "  /* fitted */\n",
       "  background-color: var(--sklearn-color-fitted-level-2);\n",
       "}\n",
       "\n",
       "#sk-container-id-1 div.sk-label label.sk-toggleable__label,\n",
       "#sk-container-id-1 div.sk-label label {\n",
       "  /* The background is the default theme color */\n",
       "  color: var(--sklearn-color-text-on-default-background);\n",
       "}\n",
       "\n",
       "/* On hover, darken the color of the background */\n",
       "#sk-container-id-1 div.sk-label:hover label.sk-toggleable__label {\n",
       "  color: var(--sklearn-color-text);\n",
       "  background-color: var(--sklearn-color-unfitted-level-2);\n",
       "}\n",
       "\n",
       "/* Label box, darken color on hover, fitted */\n",
       "#sk-container-id-1 div.sk-label.fitted:hover label.sk-toggleable__label.fitted {\n",
       "  color: var(--sklearn-color-text);\n",
       "  background-color: var(--sklearn-color-fitted-level-2);\n",
       "}\n",
       "\n",
       "/* Estimator label */\n",
       "\n",
       "#sk-container-id-1 div.sk-label label {\n",
       "  font-family: monospace;\n",
       "  font-weight: bold;\n",
       "  display: inline-block;\n",
       "  line-height: 1.2em;\n",
       "}\n",
       "\n",
       "#sk-container-id-1 div.sk-label-container {\n",
       "  text-align: center;\n",
       "}\n",
       "\n",
       "/* Estimator-specific */\n",
       "#sk-container-id-1 div.sk-estimator {\n",
       "  font-family: monospace;\n",
       "  border: 1px dotted var(--sklearn-color-border-box);\n",
       "  border-radius: 0.25em;\n",
       "  box-sizing: border-box;\n",
       "  margin-bottom: 0.5em;\n",
       "  /* unfitted */\n",
       "  background-color: var(--sklearn-color-unfitted-level-0);\n",
       "}\n",
       "\n",
       "#sk-container-id-1 div.sk-estimator.fitted {\n",
       "  /* fitted */\n",
       "  background-color: var(--sklearn-color-fitted-level-0);\n",
       "}\n",
       "\n",
       "/* on hover */\n",
       "#sk-container-id-1 div.sk-estimator:hover {\n",
       "  /* unfitted */\n",
       "  background-color: var(--sklearn-color-unfitted-level-2);\n",
       "}\n",
       "\n",
       "#sk-container-id-1 div.sk-estimator.fitted:hover {\n",
       "  /* fitted */\n",
       "  background-color: var(--sklearn-color-fitted-level-2);\n",
       "}\n",
       "\n",
       "/* Specification for estimator info (e.g. \"i\" and \"?\") */\n",
       "\n",
       "/* Common style for \"i\" and \"?\" */\n",
       "\n",
       ".sk-estimator-doc-link,\n",
       "a:link.sk-estimator-doc-link,\n",
       "a:visited.sk-estimator-doc-link {\n",
       "  float: right;\n",
       "  font-size: smaller;\n",
       "  line-height: 1em;\n",
       "  font-family: monospace;\n",
       "  background-color: var(--sklearn-color-background);\n",
       "  border-radius: 1em;\n",
       "  height: 1em;\n",
       "  width: 1em;\n",
       "  text-decoration: none !important;\n",
       "  margin-left: 1ex;\n",
       "  /* unfitted */\n",
       "  border: var(--sklearn-color-unfitted-level-1) 1pt solid;\n",
       "  color: var(--sklearn-color-unfitted-level-1);\n",
       "}\n",
       "\n",
       ".sk-estimator-doc-link.fitted,\n",
       "a:link.sk-estimator-doc-link.fitted,\n",
       "a:visited.sk-estimator-doc-link.fitted {\n",
       "  /* fitted */\n",
       "  border: var(--sklearn-color-fitted-level-1) 1pt solid;\n",
       "  color: var(--sklearn-color-fitted-level-1);\n",
       "}\n",
       "\n",
       "/* On hover */\n",
       "div.sk-estimator:hover .sk-estimator-doc-link:hover,\n",
       ".sk-estimator-doc-link:hover,\n",
       "div.sk-label-container:hover .sk-estimator-doc-link:hover,\n",
       ".sk-estimator-doc-link:hover {\n",
       "  /* unfitted */\n",
       "  background-color: var(--sklearn-color-unfitted-level-3);\n",
       "  color: var(--sklearn-color-background);\n",
       "  text-decoration: none;\n",
       "}\n",
       "\n",
       "div.sk-estimator.fitted:hover .sk-estimator-doc-link.fitted:hover,\n",
       ".sk-estimator-doc-link.fitted:hover,\n",
       "div.sk-label-container:hover .sk-estimator-doc-link.fitted:hover,\n",
       ".sk-estimator-doc-link.fitted:hover {\n",
       "  /* fitted */\n",
       "  background-color: var(--sklearn-color-fitted-level-3);\n",
       "  color: var(--sklearn-color-background);\n",
       "  text-decoration: none;\n",
       "}\n",
       "\n",
       "/* Span, style for the box shown on hovering the info icon */\n",
       ".sk-estimator-doc-link span {\n",
       "  display: none;\n",
       "  z-index: 9999;\n",
       "  position: relative;\n",
       "  font-weight: normal;\n",
       "  right: .2ex;\n",
       "  padding: .5ex;\n",
       "  margin: .5ex;\n",
       "  width: min-content;\n",
       "  min-width: 20ex;\n",
       "  max-width: 50ex;\n",
       "  color: var(--sklearn-color-text);\n",
       "  box-shadow: 2pt 2pt 4pt #999;\n",
       "  /* unfitted */\n",
       "  background: var(--sklearn-color-unfitted-level-0);\n",
       "  border: .5pt solid var(--sklearn-color-unfitted-level-3);\n",
       "}\n",
       "\n",
       ".sk-estimator-doc-link.fitted span {\n",
       "  /* fitted */\n",
       "  background: var(--sklearn-color-fitted-level-0);\n",
       "  border: var(--sklearn-color-fitted-level-3);\n",
       "}\n",
       "\n",
       ".sk-estimator-doc-link:hover span {\n",
       "  display: block;\n",
       "}\n",
       "\n",
       "/* \"?\"-specific style due to the `<a>` HTML tag */\n",
       "\n",
       "#sk-container-id-1 a.estimator_doc_link {\n",
       "  float: right;\n",
       "  font-size: 1rem;\n",
       "  line-height: 1em;\n",
       "  font-family: monospace;\n",
       "  background-color: var(--sklearn-color-background);\n",
       "  border-radius: 1rem;\n",
       "  height: 1rem;\n",
       "  width: 1rem;\n",
       "  text-decoration: none;\n",
       "  /* unfitted */\n",
       "  color: var(--sklearn-color-unfitted-level-1);\n",
       "  border: var(--sklearn-color-unfitted-level-1) 1pt solid;\n",
       "}\n",
       "\n",
       "#sk-container-id-1 a.estimator_doc_link.fitted {\n",
       "  /* fitted */\n",
       "  border: var(--sklearn-color-fitted-level-1) 1pt solid;\n",
       "  color: var(--sklearn-color-fitted-level-1);\n",
       "}\n",
       "\n",
       "/* On hover */\n",
       "#sk-container-id-1 a.estimator_doc_link:hover {\n",
       "  /* unfitted */\n",
       "  background-color: var(--sklearn-color-unfitted-level-3);\n",
       "  color: var(--sklearn-color-background);\n",
       "  text-decoration: none;\n",
       "}\n",
       "\n",
       "#sk-container-id-1 a.estimator_doc_link.fitted:hover {\n",
       "  /* fitted */\n",
       "  background-color: var(--sklearn-color-fitted-level-3);\n",
       "}\n",
       "</style><div id=\"sk-container-id-1\" class=\"sk-top-container\"><div class=\"sk-text-repr-fallback\"><pre>LinearRegression()</pre><b>In a Jupyter environment, please rerun this cell to show the HTML representation or trust the notebook. <br />On GitHub, the HTML representation is unable to render, please try loading this page with nbviewer.org.</b></div><div class=\"sk-container\" hidden><div class=\"sk-item\"><div class=\"sk-estimator fitted sk-toggleable\"><input class=\"sk-toggleable__control sk-hidden--visually\" id=\"sk-estimator-id-1\" type=\"checkbox\" checked><label for=\"sk-estimator-id-1\" class=\"sk-toggleable__label fitted sk-toggleable__label-arrow fitted\">&nbsp;&nbsp;LinearRegression<a class=\"sk-estimator-doc-link fitted\" rel=\"noreferrer\" target=\"_blank\" href=\"https://scikit-learn.org/1.4/modules/generated/sklearn.linear_model.LinearRegression.html\">?<span>Documentation for LinearRegression</span></a><span class=\"sk-estimator-doc-link fitted\">i<span>Fitted</span></span></label><div class=\"sk-toggleable__content fitted\"><pre>LinearRegression()</pre></div> </div></div></div></div>"
      ],
      "text/plain": [
       "LinearRegression()"
      ]
     },
     "execution_count": 16,
     "metadata": {},
     "output_type": "execute_result"
    }
   ],
   "source": [
    "# 선형회귀 모델로 Baseline 모델 생성\n",
    "lr = LinearRegression()\n",
    "lr.fit(X_train, y_train)"
   ]
  },
  {
   "cell_type": "code",
   "execution_count": 17,
   "metadata": {},
   "outputs": [
    {
     "name": "stdout",
     "output_type": "stream",
     "text": [
      "Intercept:  347262606.98156476\n",
      "Coefficients:\n"
     ]
    },
    {
     "data": {
      "text/plain": [
       "[('player_name', 0.5937233387317923),\n",
       " ('start_season', -167995.35551564215),\n",
       " ('goals', 673432.9348593699),\n",
       " ('assists', 751921.2259216892),\n",
       " ('minutes_played', 1685.0130094869426),\n",
       " ('competition_code', 0.1765412591776112),\n",
       " ('age', -291993.08863382915),\n",
       " ('position', 0.061714072787253826),\n",
       " ('current_club_name', 0.3928700765245594),\n",
       " ('country', 0.04409305842455069),\n",
       " ('foot', -1.6821105026862622),\n",
       " ('height_in_cm', 42635.17911879805)]"
      ]
     },
     "execution_count": 17,
     "metadata": {},
     "output_type": "execute_result"
    }
   ],
   "source": [
    "# Baseline 모델 절편, 결정 계수 확인\n",
    "\n",
    "print(\"Intercept: \", lr.intercept_)\n",
    "print(\"Coefficients:\")\n",
    "list(zip(X_train, lr.coef_))"
   ]
  },
  {
   "cell_type": "code",
   "execution_count": 18,
   "metadata": {},
   "outputs": [],
   "source": [
    "def baseline_model(model_name, model):\n",
    "    baseline_results = []\n",
    "\n",
    "    print(f\"\\n====== Baseline Model : {model_name} ======\")\n",
    "    \n",
    "    # 모델 생성 및 훈련\n",
    "    # model.fit(X_train, y_train)\n",
    "\n",
    "    # Baseline 모델로 train, validation, test 데이터셋 예측\n",
    "    y_train_pred_lr = model.predict(X_train)\n",
    "    y_val_pred_lr = model.predict(X_val)\n",
    "    y_test_pred_lr = model.predict(X_test)\n",
    "\n",
    "    # Baseline 모델의 MAE, MSE, RMSE, RMSLE, R2 score 확인\n",
    "    base_meanAbErr = metrics.mean_absolute_error(y_test, y_test_pred_lr)\n",
    "    base_meanSqErr = metrics.mean_squared_error(y_test, y_test_pred_lr)\n",
    "    base_rootMeanSqErr = metrics.mean_squared_error(y_test, y_test_pred_lr, squared=False)\n",
    "    base_rootMeanSqLogErr = get_rmsle(y_test, y_test_pred_lr)\n",
    "\n",
    "\n",
    "    # 결과를 리스트에 저장\n",
    "    baseline_results.append({\"Model\" : model_name,\n",
    "                             \"MAE\" : '{:.2f}'.format(base_meanAbErr),\n",
    "                             \"MSE\" : '{:.2f}'.format(base_meanSqErr),\n",
    "                             \"RMSE\" : '{:.2f}'.format(base_rootMeanSqErr),\n",
    "                             \"RMSLE\" : '{:.2f}'.format(base_rootMeanSqLogErr),\n",
    "                             \"R2 Score\" : '{:.2f}'.format(model.score(X_test, y_test))})\n",
    "    \n",
    "    # 결과 리스트를 DataFrame으로 변환\n",
    "    baseline_df = pd.DataFrame(baseline_results)\n",
    "    \n",
    "    return baseline_df"
   ]
  },
  {
   "cell_type": "code",
   "execution_count": 19,
   "metadata": {},
   "outputs": [
    {
     "name": "stdout",
     "output_type": "stream",
     "text": [
      "\n",
      "====== Baseline Model : Linear Regression ======\n"
     ]
    },
    {
     "data": {
      "text/html": [
       "<div>\n",
       "<style scoped>\n",
       "    .dataframe tbody tr th:only-of-type {\n",
       "        vertical-align: middle;\n",
       "    }\n",
       "\n",
       "    .dataframe tbody tr th {\n",
       "        vertical-align: top;\n",
       "    }\n",
       "\n",
       "    .dataframe thead th {\n",
       "        text-align: right;\n",
       "    }\n",
       "</style>\n",
       "<table border=\"1\" class=\"dataframe\">\n",
       "  <thead>\n",
       "    <tr style=\"text-align: right;\">\n",
       "      <th></th>\n",
       "      <th>Model</th>\n",
       "      <th>MAE</th>\n",
       "      <th>MSE</th>\n",
       "      <th>RMSE</th>\n",
       "      <th>RMSLE</th>\n",
       "      <th>R2 Score</th>\n",
       "    </tr>\n",
       "  </thead>\n",
       "  <tbody>\n",
       "    <tr>\n",
       "      <th>0</th>\n",
       "      <td>Linear Regression</td>\n",
       "      <td>5367047.51</td>\n",
       "      <td>89344749369249.31</td>\n",
       "      <td>9452235.15</td>\n",
       "      <td>1.01</td>\n",
       "      <td>0.67</td>\n",
       "    </tr>\n",
       "  </tbody>\n",
       "</table>\n",
       "</div>"
      ],
      "text/plain": [
       "               Model         MAE                MSE        RMSE RMSLE R2 Score\n",
       "0  Linear Regression  5367047.51  89344749369249.31  9452235.15  1.01     0.67"
      ]
     },
     "execution_count": 19,
     "metadata": {},
     "output_type": "execute_result"
    }
   ],
   "source": [
    "baseline_model(\"Linear Regression\", lr)"
   ]
  },
  {
   "cell_type": "markdown",
   "metadata": {},
   "source": [
    "## 스케일링\n",
    "- 데이터셋의 다양한 컬럼들에 이상치 다수 존재\n",
    "    - 하지만 축구라는 스포츠의 특성 상, 득점, 도움, 시장 가치 등 몇몇의 특출난 선수들의 스탯이 도드라진다\n",
    "    - 따라서 이상치 제거하지 않음\n",
    "- `RobustScaler` 선택 (이상치의 영향 최소화)\n",
    "- References\n",
    "    - https://cheris8.github.io/data%20analysis/DP-Data-Scaling/"
   ]
  },
  {
   "cell_type": "markdown",
   "metadata": {},
   "source": [
    "### `RobustScaling`\n",
    "- 데이터의 중앙값 = 0, IQE = 1이 되도록 스케일링\n",
    "    - IQR = Q3 - Q1 : 25퍼센타일과 75퍼센타일의 값들\n",
    "- 중앙값 (Median)과 IQR (Interquartile Range) 사용\n",
    "    - `RobustScaler`를 사용할 경우, `StandardScaler`에 비해 스케일링 결과가 더 넓게 분포\n",
    "- 모든 feature들이 같은 스케일을 갖는다\n",
    "- 이상치의 영향을 최소화 한다\n",
    "- 이번에는 사용하지 않는다\n",
    "    - Tree 기반 모델에서는 스케일링이 큰 효과가 없기 때문"
   ]
  },
  {
   "cell_type": "code",
   "execution_count": 20,
   "metadata": {},
   "outputs": [],
   "source": [
    "# # RobustScaler X_train 데이터셋에 fit\n",
    "# robustScaler = RobustScaler().fit(X_train)\n",
    "\n",
    "# # RobustScaler로 X_train, X_val, X_test 데이터셋 변환\n",
    "# X_train_robust = robustScaler.transform(X_train)\n",
    "# X_val_robust = robustScaler.transform(X_val)\n",
    "# X_test_robust = robustScaler.transform(X_test)"
   ]
  },
  {
   "cell_type": "markdown",
   "metadata": {},
   "source": [
    "## 머신러닝 모델링"
   ]
  },
  {
   "cell_type": "markdown",
   "metadata": {},
   "source": [
    "### 하이퍼 파라미터 튜닝 전 모델 생성"
   ]
  },
  {
   "cell_type": "code",
   "execution_count": 21,
   "metadata": {},
   "outputs": [],
   "source": [
    "model_list = [\"lr_model\", \"dt_model\", \"rf_model\", \"cat_model\", \"lgbm_model\", \"xgb_model\"]\n",
    "\n",
    "lr_model = LinearRegression()\n",
    "dt_model = DecisionTreeRegressor(random_state=42)\n",
    "rf_model = RandomForestRegressor(random_state=42)\n",
    "cat_model = CatBoostRegressor(random_state=42)\n",
    "lgbm_model = LGBMRegressor(random_state=42)\n",
    "xgb_model = XGBRegressor(random_state=42)"
   ]
  },
  {
   "cell_type": "code",
   "execution_count": 22,
   "metadata": {},
   "outputs": [],
   "source": [
    "models = [\n",
    "    (\"Linear Regression\", LinearRegression()),\n",
    "    (\"Decision Tree\", DecisionTreeRegressor(random_state=42)),\n",
    "    (\"Random Forest\", RandomForestRegressor(random_state=42)),\n",
    "    (\"CatBoost\", CatBoostRegressor(random_state=42)),\n",
    "    (\"LightGBM\", LGBMRegressor(random_state=42)),\n",
    "    (\"XGBoost\", XGBRegressor(random_state=42))\n",
    "]"
   ]
  },
  {
   "cell_type": "code",
   "execution_count": 23,
   "metadata": {},
   "outputs": [],
   "source": [
    "def model_list(models, when=\"Before\"):\n",
    "    models_results = []\n",
    "\n",
    "    for model_name, model in models:\n",
    "\n",
    "        # 모델 생성 및 훈련\n",
    "        # 트리 기반 모델들은 각 변수의 information gain을 기반으로 판단하기 때문에 굳이 스케일링 해줄 필요가 없다\n",
    "\n",
    "        model.fit(X_train, y_train)\n",
    "\n",
    "        y_train_pred = model.predict(X_train)\n",
    "        y_val_pred = model.predict(X_val)\n",
    "        y_test_pred = model.predict(X_test)\n",
    "\n",
    "        # 모델의 MAE, MSE, RMSE, RMSLE, R2 score 확인\n",
    "        meanAbErr = metrics.mean_absolute_error(y_test, y_test_pred)\n",
    "        meanSqErr = metrics.mean_squared_error(y_test, y_test_pred)\n",
    "        rootMeanSqErr = metrics.mean_squared_error(y_test, y_test_pred, squared=False)\n",
    "        rootMeanSqLogErr = get_rmsle(y_test, y_test_pred)\n",
    "\n",
    "\n",
    "        # 결과를 리스트에 저장\n",
    "        models_results.append({\"Model\" : model_name,\n",
    "                                \"MAE\" : '{:.2f}'.format(meanAbErr),\n",
    "                                \"MSE\" : '{:.2f}'.format(meanSqErr),\n",
    "                                \"RMSE\" : '{:.2f}'.format(rootMeanSqErr),\n",
    "                                \"RMSLE\" : '{:.2f}'.format(rootMeanSqLogErr),\n",
    "                                \"R2 Score\" : '{:.2f}'.format(model.score(X_test, y_test))})\n",
    "    \n",
    "    # 결과 리스트를 DataFrame으로 변환\n",
    "    models_df = pd.DataFrame(models_results)\n",
    "\n",
    "    print(f\"\\n====== Models {when} Hyper Parameter Tuning ======\")\n",
    "    \n",
    "    return models_df.sort_values(by=[\"RMSLE\", \"R2 Score\"], ascending=[True, False]).reset_index(drop=True)"
   ]
  },
  {
   "cell_type": "code",
   "execution_count": 24,
   "metadata": {},
   "outputs": [
    {
     "name": "stdout",
     "output_type": "stream",
     "text": [
      "Learning rate set to 0.059334\n",
      "0:\tlearn: 13830800.2476729\ttotal: 135ms\tremaining: 2m 14s\n",
      "1:\tlearn: 13357703.3126133\ttotal: 138ms\tremaining: 1m 8s\n",
      "2:\tlearn: 12922486.5872620\ttotal: 140ms\tremaining: 46.6s\n",
      "3:\tlearn: 12487160.3776749\ttotal: 143ms\tremaining: 35.5s\n",
      "4:\tlearn: 12093755.5470775\ttotal: 145ms\tremaining: 28.9s\n",
      "5:\tlearn: 11703798.1034282\ttotal: 148ms\tremaining: 24.5s\n",
      "6:\tlearn: 11358117.0622625\ttotal: 151ms\tremaining: 21.4s\n",
      "7:\tlearn: 11036272.4592914\ttotal: 153ms\tremaining: 19s\n",
      "8:\tlearn: 10711262.9457120\ttotal: 156ms\tremaining: 17.2s\n",
      "9:\tlearn: 10440591.2339328\ttotal: 159ms\tremaining: 15.7s\n",
      "10:\tlearn: 10197633.4834545\ttotal: 161ms\tremaining: 14.5s\n",
      "11:\tlearn: 9962018.0274968\ttotal: 164ms\tremaining: 13.5s\n",
      "12:\tlearn: 9705643.3608356\ttotal: 168ms\tremaining: 12.7s\n",
      "13:\tlearn: 9484336.7543583\ttotal: 171ms\tremaining: 12s\n",
      "14:\tlearn: 9291941.2499728\ttotal: 174ms\tremaining: 11.4s\n",
      "15:\tlearn: 9095609.3228752\ttotal: 176ms\tremaining: 10.8s\n",
      "16:\tlearn: 8911766.5975728\ttotal: 178ms\tremaining: 10.3s\n",
      "17:\tlearn: 8730846.6625811\ttotal: 181ms\tremaining: 9.85s\n",
      "18:\tlearn: 8561629.8594600\ttotal: 185ms\tremaining: 9.53s\n",
      "19:\tlearn: 8430642.6769938\ttotal: 187ms\tremaining: 9.17s\n",
      "20:\tlearn: 8300928.2600461\ttotal: 190ms\tremaining: 8.84s\n",
      "21:\tlearn: 8170162.5201424\ttotal: 192ms\tremaining: 8.53s\n",
      "22:\tlearn: 8067148.2979553\ttotal: 194ms\tremaining: 8.25s\n",
      "23:\tlearn: 7958648.7484219\ttotal: 197ms\tremaining: 7.99s\n",
      "24:\tlearn: 7847335.8696440\ttotal: 201ms\tremaining: 7.82s\n",
      "25:\tlearn: 7745757.7697425\ttotal: 204ms\tremaining: 7.63s\n",
      "26:\tlearn: 7653489.0000618\ttotal: 207ms\tremaining: 7.46s\n",
      "27:\tlearn: 7578040.9979529\ttotal: 210ms\tremaining: 7.29s\n",
      "28:\tlearn: 7500520.1723519\ttotal: 213ms\tremaining: 7.12s\n",
      "29:\tlearn: 7418878.5216429\ttotal: 217ms\tremaining: 7.01s\n",
      "30:\tlearn: 7350145.7619988\ttotal: 219ms\tremaining: 6.85s\n",
      "31:\tlearn: 7285218.0449781\ttotal: 222ms\tremaining: 6.71s\n",
      "32:\tlearn: 7222921.4334775\ttotal: 224ms\tremaining: 6.58s\n",
      "33:\tlearn: 7171529.8906615\ttotal: 227ms\tremaining: 6.44s\n",
      "34:\tlearn: 7114445.0876882\ttotal: 230ms\tremaining: 6.33s\n",
      "35:\tlearn: 7057546.7581379\ttotal: 232ms\tremaining: 6.22s\n",
      "36:\tlearn: 7007876.5005499\ttotal: 235ms\tremaining: 6.11s\n",
      "37:\tlearn: 6954170.3598623\ttotal: 238ms\tremaining: 6.01s\n",
      "38:\tlearn: 6906601.9944845\ttotal: 240ms\tremaining: 5.91s\n",
      "39:\tlearn: 6864810.7319524\ttotal: 242ms\tremaining: 5.82s\n",
      "40:\tlearn: 6831185.4855271\ttotal: 245ms\tremaining: 5.72s\n",
      "41:\tlearn: 6793478.8899086\ttotal: 248ms\tremaining: 5.66s\n",
      "42:\tlearn: 6756780.6311837\ttotal: 251ms\tremaining: 5.58s\n",
      "43:\tlearn: 6728005.1847863\ttotal: 253ms\tremaining: 5.49s\n",
      "44:\tlearn: 6699674.6029449\ttotal: 255ms\tremaining: 5.41s\n",
      "45:\tlearn: 6672491.6384875\ttotal: 257ms\tremaining: 5.34s\n",
      "46:\tlearn: 6638847.9268570\ttotal: 260ms\tremaining: 5.26s\n",
      "47:\tlearn: 6614098.4514848\ttotal: 263ms\tremaining: 5.21s\n",
      "48:\tlearn: 6583726.7646753\ttotal: 265ms\tremaining: 5.15s\n",
      "49:\tlearn: 6560371.0780587\ttotal: 268ms\tremaining: 5.08s\n",
      "50:\tlearn: 6526307.5341976\ttotal: 270ms\tremaining: 5.02s\n",
      "51:\tlearn: 6506443.5106765\ttotal: 272ms\tremaining: 4.96s\n",
      "52:\tlearn: 6483212.6684181\ttotal: 274ms\tremaining: 4.9s\n",
      "53:\tlearn: 6452831.3615533\ttotal: 277ms\tremaining: 4.85s\n",
      "54:\tlearn: 6433988.4875872\ttotal: 280ms\tremaining: 4.8s\n",
      "55:\tlearn: 6412979.0974502\ttotal: 282ms\tremaining: 4.75s\n",
      "56:\tlearn: 6398221.1049011\ttotal: 284ms\tremaining: 4.7s\n",
      "57:\tlearn: 6382754.6055095\ttotal: 287ms\tremaining: 4.66s\n",
      "58:\tlearn: 6369407.7717262\ttotal: 289ms\tremaining: 4.61s\n",
      "59:\tlearn: 6354532.5853400\ttotal: 291ms\tremaining: 4.56s\n",
      "60:\tlearn: 6336526.0048948\ttotal: 294ms\tremaining: 4.52s\n",
      "61:\tlearn: 6324347.8488520\ttotal: 296ms\tremaining: 4.48s\n",
      "62:\tlearn: 6309625.4569339\ttotal: 298ms\tremaining: 4.44s\n",
      "63:\tlearn: 6290580.3231825\ttotal: 301ms\tremaining: 4.4s\n",
      "64:\tlearn: 6277302.5513605\ttotal: 303ms\tremaining: 4.36s\n",
      "65:\tlearn: 6266886.1545907\ttotal: 305ms\tremaining: 4.32s\n",
      "66:\tlearn: 6252263.3983424\ttotal: 308ms\tremaining: 4.28s\n",
      "67:\tlearn: 6240536.3866074\ttotal: 310ms\tremaining: 4.25s\n",
      "68:\tlearn: 6215557.4911929\ttotal: 313ms\tremaining: 4.22s\n",
      "69:\tlearn: 6196444.8266313\ttotal: 315ms\tremaining: 4.18s\n",
      "70:\tlearn: 6183959.8432355\ttotal: 318ms\tremaining: 4.16s\n",
      "71:\tlearn: 6163964.0461456\ttotal: 320ms\tremaining: 4.13s\n",
      "72:\tlearn: 6149341.7342631\ttotal: 323ms\tremaining: 4.09s\n",
      "73:\tlearn: 6131166.2185408\ttotal: 325ms\tremaining: 4.06s\n",
      "74:\tlearn: 6122037.0745577\ttotal: 327ms\tremaining: 4.04s\n",
      "75:\tlearn: 6109788.0743352\ttotal: 330ms\tremaining: 4.01s\n",
      "76:\tlearn: 6097264.8596973\ttotal: 332ms\tremaining: 3.98s\n",
      "77:\tlearn: 6078957.8852678\ttotal: 335ms\tremaining: 3.95s\n",
      "78:\tlearn: 6063966.8149278\ttotal: 337ms\tremaining: 3.93s\n",
      "79:\tlearn: 6052055.3856338\ttotal: 339ms\tremaining: 3.9s\n",
      "80:\tlearn: 6042484.6389476\ttotal: 341ms\tremaining: 3.87s\n",
      "81:\tlearn: 6033840.4324954\ttotal: 344ms\tremaining: 3.85s\n",
      "82:\tlearn: 6021610.7027380\ttotal: 347ms\tremaining: 3.83s\n",
      "83:\tlearn: 6012876.9728693\ttotal: 349ms\tremaining: 3.81s\n",
      "84:\tlearn: 5997118.7226021\ttotal: 352ms\tremaining: 3.79s\n",
      "85:\tlearn: 5988316.7151708\ttotal: 354ms\tremaining: 3.76s\n",
      "86:\tlearn: 5983212.8756918\ttotal: 357ms\tremaining: 3.74s\n",
      "87:\tlearn: 5969578.9802525\ttotal: 360ms\tremaining: 3.73s\n",
      "88:\tlearn: 5961319.3229788\ttotal: 362ms\tremaining: 3.71s\n",
      "89:\tlearn: 5953234.9827520\ttotal: 364ms\tremaining: 3.68s\n",
      "90:\tlearn: 5946686.5145976\ttotal: 367ms\tremaining: 3.66s\n",
      "91:\tlearn: 5941353.5953275\ttotal: 369ms\tremaining: 3.64s\n",
      "92:\tlearn: 5933557.9732624\ttotal: 371ms\tremaining: 3.62s\n",
      "93:\tlearn: 5924516.4694546\ttotal: 374ms\tremaining: 3.6s\n",
      "94:\tlearn: 5917127.6450640\ttotal: 376ms\tremaining: 3.58s\n",
      "95:\tlearn: 5912271.6106397\ttotal: 379ms\tremaining: 3.56s\n",
      "96:\tlearn: 5906265.2622467\ttotal: 381ms\tremaining: 3.54s\n",
      "97:\tlearn: 5900059.7972734\ttotal: 383ms\tremaining: 3.52s\n",
      "98:\tlearn: 5889872.7602344\ttotal: 385ms\tremaining: 3.51s\n",
      "99:\tlearn: 5882595.8126100\ttotal: 388ms\tremaining: 3.49s\n",
      "100:\tlearn: 5871388.8919520\ttotal: 390ms\tremaining: 3.47s\n",
      "101:\tlearn: 5862135.6232690\ttotal: 393ms\tremaining: 3.46s\n",
      "102:\tlearn: 5850195.1621840\ttotal: 395ms\tremaining: 3.44s\n",
      "103:\tlearn: 5841170.7868758\ttotal: 397ms\tremaining: 3.42s\n",
      "104:\tlearn: 5833010.3336707\ttotal: 400ms\tremaining: 3.4s\n",
      "105:\tlearn: 5822063.9536286\ttotal: 403ms\tremaining: 3.4s\n",
      "106:\tlearn: 5811135.6395739\ttotal: 405ms\tremaining: 3.38s\n",
      "107:\tlearn: 5798678.4581028\ttotal: 409ms\tremaining: 3.38s\n",
      "108:\tlearn: 5793699.3653394\ttotal: 411ms\tremaining: 3.36s\n",
      "109:\tlearn: 5785947.8357637\ttotal: 414ms\tremaining: 3.35s\n",
      "110:\tlearn: 5776657.0227429\ttotal: 417ms\tremaining: 3.34s\n",
      "111:\tlearn: 5769856.4888406\ttotal: 420ms\tremaining: 3.33s\n",
      "112:\tlearn: 5761763.9854748\ttotal: 422ms\tremaining: 3.31s\n",
      "113:\tlearn: 5755804.3839475\ttotal: 425ms\tremaining: 3.31s\n",
      "114:\tlearn: 5750444.7134340\ttotal: 428ms\tremaining: 3.29s\n",
      "115:\tlearn: 5742256.8711417\ttotal: 430ms\tremaining: 3.28s\n",
      "116:\tlearn: 5730561.5879158\ttotal: 433ms\tremaining: 3.27s\n",
      "117:\tlearn: 5725708.4924629\ttotal: 435ms\tremaining: 3.25s\n",
      "118:\tlearn: 5723486.8845671\ttotal: 438ms\tremaining: 3.24s\n",
      "119:\tlearn: 5717530.3795712\ttotal: 441ms\tremaining: 3.23s\n",
      "120:\tlearn: 5709743.9209082\ttotal: 443ms\tremaining: 3.22s\n",
      "121:\tlearn: 5707230.9903570\ttotal: 446ms\tremaining: 3.21s\n",
      "122:\tlearn: 5703843.6997603\ttotal: 449ms\tremaining: 3.2s\n",
      "123:\tlearn: 5696592.1875094\ttotal: 452ms\tremaining: 3.19s\n",
      "124:\tlearn: 5687245.3799144\ttotal: 454ms\tremaining: 3.18s\n",
      "125:\tlearn: 5679268.4601315\ttotal: 458ms\tremaining: 3.17s\n",
      "126:\tlearn: 5668996.7085381\ttotal: 460ms\tremaining: 3.17s\n",
      "127:\tlearn: 5660037.0312946\ttotal: 463ms\tremaining: 3.15s\n",
      "128:\tlearn: 5650270.0675228\ttotal: 466ms\tremaining: 3.15s\n",
      "129:\tlearn: 5645168.6727177\ttotal: 468ms\tremaining: 3.13s\n",
      "130:\tlearn: 5635482.8225840\ttotal: 472ms\tremaining: 3.13s\n",
      "131:\tlearn: 5633285.8290578\ttotal: 476ms\tremaining: 3.13s\n",
      "132:\tlearn: 5626734.4587776\ttotal: 479ms\tremaining: 3.12s\n",
      "133:\tlearn: 5617225.4381875\ttotal: 483ms\tremaining: 3.12s\n",
      "134:\tlearn: 5609403.9239244\ttotal: 486ms\tremaining: 3.11s\n",
      "135:\tlearn: 5604249.9334111\ttotal: 490ms\tremaining: 3.11s\n",
      "136:\tlearn: 5599419.5420111\ttotal: 492ms\tremaining: 3.1s\n",
      "137:\tlearn: 5591156.2857817\ttotal: 495ms\tremaining: 3.09s\n",
      "138:\tlearn: 5585407.2138449\ttotal: 497ms\tremaining: 3.08s\n",
      "139:\tlearn: 5576209.3776174\ttotal: 500ms\tremaining: 3.07s\n",
      "140:\tlearn: 5569883.7685274\ttotal: 502ms\tremaining: 3.06s\n",
      "141:\tlearn: 5568069.3860162\ttotal: 505ms\tremaining: 3.05s\n",
      "142:\tlearn: 5566901.1619745\ttotal: 508ms\tremaining: 3.04s\n",
      "143:\tlearn: 5563293.4034568\ttotal: 510ms\tremaining: 3.03s\n",
      "144:\tlearn: 5557642.8659853\ttotal: 512ms\tremaining: 3.02s\n",
      "145:\tlearn: 5551153.3859295\ttotal: 515ms\tremaining: 3.01s\n",
      "146:\tlearn: 5544274.0292917\ttotal: 517ms\tremaining: 3s\n",
      "147:\tlearn: 5535533.2732271\ttotal: 520ms\tremaining: 2.99s\n",
      "148:\tlearn: 5531697.3492804\ttotal: 522ms\tremaining: 2.98s\n",
      "149:\tlearn: 5527782.1138543\ttotal: 524ms\tremaining: 2.97s\n",
      "150:\tlearn: 5523584.1398237\ttotal: 527ms\tremaining: 2.96s\n",
      "151:\tlearn: 5518012.1208528\ttotal: 529ms\tremaining: 2.95s\n",
      "152:\tlearn: 5505857.9356571\ttotal: 531ms\tremaining: 2.94s\n",
      "153:\tlearn: 5496943.2844055\ttotal: 534ms\tremaining: 2.93s\n",
      "154:\tlearn: 5490552.3140084\ttotal: 536ms\tremaining: 2.92s\n",
      "155:\tlearn: 5484168.3091690\ttotal: 539ms\tremaining: 2.92s\n",
      "156:\tlearn: 5478658.9678332\ttotal: 541ms\tremaining: 2.91s\n",
      "157:\tlearn: 5474395.9549476\ttotal: 544ms\tremaining: 2.9s\n",
      "158:\tlearn: 5466602.0410141\ttotal: 546ms\tremaining: 2.89s\n",
      "159:\tlearn: 5459989.8033209\ttotal: 548ms\tremaining: 2.88s\n",
      "160:\tlearn: 5457184.1318597\ttotal: 551ms\tremaining: 2.87s\n",
      "161:\tlearn: 5452249.7381061\ttotal: 553ms\tremaining: 2.86s\n",
      "162:\tlearn: 5447292.1178209\ttotal: 556ms\tremaining: 2.85s\n",
      "163:\tlearn: 5441297.0572932\ttotal: 558ms\tremaining: 2.84s\n",
      "164:\tlearn: 5435027.5102978\ttotal: 560ms\tremaining: 2.83s\n",
      "165:\tlearn: 5434069.0008406\ttotal: 562ms\tremaining: 2.82s\n",
      "166:\tlearn: 5428814.5945758\ttotal: 565ms\tremaining: 2.81s\n",
      "167:\tlearn: 5421389.8436765\ttotal: 567ms\tremaining: 2.81s\n",
      "168:\tlearn: 5419340.4488007\ttotal: 569ms\tremaining: 2.8s\n",
      "169:\tlearn: 5412641.0933595\ttotal: 572ms\tremaining: 2.79s\n",
      "170:\tlearn: 5404979.3692989\ttotal: 574ms\tremaining: 2.78s\n",
      "171:\tlearn: 5398973.1010722\ttotal: 576ms\tremaining: 2.77s\n",
      "172:\tlearn: 5391694.9039044\ttotal: 579ms\tremaining: 2.77s\n",
      "173:\tlearn: 5387669.3215785\ttotal: 581ms\tremaining: 2.76s\n",
      "174:\tlearn: 5383276.2299243\ttotal: 585ms\tremaining: 2.76s\n",
      "175:\tlearn: 5377371.3053633\ttotal: 587ms\tremaining: 2.75s\n",
      "176:\tlearn: 5373013.4382891\ttotal: 589ms\tremaining: 2.74s\n",
      "177:\tlearn: 5366542.2418006\ttotal: 592ms\tremaining: 2.73s\n",
      "178:\tlearn: 5361302.5133377\ttotal: 594ms\tremaining: 2.73s\n",
      "179:\tlearn: 5356168.1221473\ttotal: 597ms\tremaining: 2.72s\n",
      "180:\tlearn: 5349071.4435228\ttotal: 599ms\tremaining: 2.71s\n",
      "181:\tlearn: 5344215.6037540\ttotal: 602ms\tremaining: 2.7s\n",
      "182:\tlearn: 5340294.0000033\ttotal: 604ms\tremaining: 2.7s\n",
      "183:\tlearn: 5335480.4679828\ttotal: 607ms\tremaining: 2.69s\n",
      "184:\tlearn: 5330457.1243682\ttotal: 609ms\tremaining: 2.68s\n",
      "185:\tlearn: 5325345.3939925\ttotal: 612ms\tremaining: 2.68s\n",
      "186:\tlearn: 5321125.8389356\ttotal: 614ms\tremaining: 2.67s\n",
      "187:\tlearn: 5313644.3644836\ttotal: 617ms\tremaining: 2.67s\n",
      "188:\tlearn: 5311923.5064227\ttotal: 619ms\tremaining: 2.66s\n",
      "189:\tlearn: 5306974.3173887\ttotal: 622ms\tremaining: 2.65s\n",
      "190:\tlearn: 5301948.5713425\ttotal: 625ms\tremaining: 2.65s\n",
      "191:\tlearn: 5297069.0078141\ttotal: 627ms\tremaining: 2.64s\n",
      "192:\tlearn: 5292705.4224389\ttotal: 629ms\tremaining: 2.63s\n",
      "193:\tlearn: 5287234.0829548\ttotal: 632ms\tremaining: 2.63s\n",
      "194:\tlearn: 5279952.2607031\ttotal: 634ms\tremaining: 2.62s\n",
      "195:\tlearn: 5274399.6491423\ttotal: 637ms\tremaining: 2.61s\n",
      "196:\tlearn: 5271004.3996062\ttotal: 639ms\tremaining: 2.6s\n",
      "197:\tlearn: 5266725.1355919\ttotal: 641ms\tremaining: 2.6s\n",
      "198:\tlearn: 5260007.7383558\ttotal: 644ms\tremaining: 2.59s\n",
      "199:\tlearn: 5256576.9485832\ttotal: 646ms\tremaining: 2.58s\n",
      "200:\tlearn: 5253470.3077639\ttotal: 649ms\tremaining: 2.58s\n",
      "201:\tlearn: 5246531.6212211\ttotal: 651ms\tremaining: 2.57s\n",
      "202:\tlearn: 5243846.3008373\ttotal: 654ms\tremaining: 2.56s\n",
      "203:\tlearn: 5241498.6017323\ttotal: 656ms\tremaining: 2.56s\n",
      "204:\tlearn: 5237039.3594468\ttotal: 658ms\tremaining: 2.55s\n",
      "205:\tlearn: 5231243.6422006\ttotal: 660ms\tremaining: 2.54s\n",
      "206:\tlearn: 5229678.8805050\ttotal: 662ms\tremaining: 2.54s\n",
      "207:\tlearn: 5226622.0634078\ttotal: 665ms\tremaining: 2.53s\n",
      "208:\tlearn: 5218701.6464197\ttotal: 667ms\tremaining: 2.53s\n",
      "209:\tlearn: 5217787.8373164\ttotal: 669ms\tremaining: 2.52s\n",
      "210:\tlearn: 5213886.4167313\ttotal: 672ms\tremaining: 2.51s\n",
      "211:\tlearn: 5211995.8391040\ttotal: 674ms\tremaining: 2.5s\n",
      "212:\tlearn: 5209448.5888592\ttotal: 676ms\tremaining: 2.5s\n",
      "213:\tlearn: 5200831.6984910\ttotal: 679ms\tremaining: 2.49s\n",
      "214:\tlearn: 5199097.5254717\ttotal: 681ms\tremaining: 2.49s\n",
      "215:\tlearn: 5197787.1208834\ttotal: 684ms\tremaining: 2.48s\n",
      "216:\tlearn: 5192203.3386278\ttotal: 686ms\tremaining: 2.47s\n",
      "217:\tlearn: 5188358.9257519\ttotal: 688ms\tremaining: 2.47s\n",
      "218:\tlearn: 5182940.4329758\ttotal: 690ms\tremaining: 2.46s\n",
      "219:\tlearn: 5177151.1075181\ttotal: 693ms\tremaining: 2.46s\n",
      "220:\tlearn: 5175652.1820435\ttotal: 697ms\tremaining: 2.46s\n",
      "221:\tlearn: 5174495.9786055\ttotal: 699ms\tremaining: 2.45s\n",
      "222:\tlearn: 5170489.6735384\ttotal: 702ms\tremaining: 2.44s\n",
      "223:\tlearn: 5165773.8893343\ttotal: 704ms\tremaining: 2.44s\n",
      "224:\tlearn: 5160369.7436122\ttotal: 707ms\tremaining: 2.43s\n",
      "225:\tlearn: 5154447.9264322\ttotal: 709ms\tremaining: 2.43s\n",
      "226:\tlearn: 5150969.2879972\ttotal: 712ms\tremaining: 2.42s\n",
      "227:\tlearn: 5146810.4584176\ttotal: 714ms\tremaining: 2.42s\n",
      "228:\tlearn: 5142829.9182477\ttotal: 717ms\tremaining: 2.41s\n",
      "229:\tlearn: 5141480.9751907\ttotal: 719ms\tremaining: 2.41s\n",
      "230:\tlearn: 5140413.7412292\ttotal: 721ms\tremaining: 2.4s\n",
      "231:\tlearn: 5133645.5315383\ttotal: 724ms\tremaining: 2.4s\n",
      "232:\tlearn: 5127390.0154168\ttotal: 726ms\tremaining: 2.39s\n",
      "233:\tlearn: 5123812.8028851\ttotal: 729ms\tremaining: 2.38s\n",
      "234:\tlearn: 5117926.7802384\ttotal: 731ms\tremaining: 2.38s\n",
      "235:\tlearn: 5116964.7825856\ttotal: 733ms\tremaining: 2.37s\n",
      "236:\tlearn: 5113243.2097037\ttotal: 736ms\tremaining: 2.37s\n",
      "237:\tlearn: 5106741.0694985\ttotal: 738ms\tremaining: 2.36s\n",
      "238:\tlearn: 5105839.9767338\ttotal: 740ms\tremaining: 2.36s\n",
      "239:\tlearn: 5104796.5386026\ttotal: 743ms\tremaining: 2.35s\n",
      "240:\tlearn: 5099326.0647663\ttotal: 745ms\tremaining: 2.35s\n",
      "241:\tlearn: 5094942.1936719\ttotal: 748ms\tremaining: 2.34s\n",
      "242:\tlearn: 5092060.2100868\ttotal: 750ms\tremaining: 2.34s\n",
      "243:\tlearn: 5086635.2509740\ttotal: 752ms\tremaining: 2.33s\n",
      "244:\tlearn: 5082729.3444326\ttotal: 755ms\tremaining: 2.33s\n",
      "245:\tlearn: 5075163.8918107\ttotal: 757ms\tremaining: 2.32s\n",
      "246:\tlearn: 5073246.4666402\ttotal: 759ms\tremaining: 2.31s\n",
      "247:\tlearn: 5071499.6236585\ttotal: 762ms\tremaining: 2.31s\n",
      "248:\tlearn: 5065817.6630418\ttotal: 765ms\tremaining: 2.31s\n",
      "249:\tlearn: 5059033.4249978\ttotal: 767ms\tremaining: 2.3s\n",
      "250:\tlearn: 5054128.1209793\ttotal: 769ms\tremaining: 2.29s\n",
      "251:\tlearn: 5052046.8736235\ttotal: 772ms\tremaining: 2.29s\n",
      "252:\tlearn: 5044694.8437126\ttotal: 774ms\tremaining: 2.28s\n",
      "253:\tlearn: 5041056.6887849\ttotal: 776ms\tremaining: 2.28s\n",
      "254:\tlearn: 5035169.0976192\ttotal: 779ms\tremaining: 2.27s\n",
      "255:\tlearn: 5031631.0912608\ttotal: 781ms\tremaining: 2.27s\n",
      "256:\tlearn: 5028656.5614029\ttotal: 783ms\tremaining: 2.27s\n",
      "257:\tlearn: 5021644.4150341\ttotal: 786ms\tremaining: 2.26s\n",
      "258:\tlearn: 5017788.0345827\ttotal: 788ms\tremaining: 2.25s\n",
      "259:\tlearn: 5017363.0040398\ttotal: 790ms\tremaining: 2.25s\n",
      "260:\tlearn: 5011177.1742353\ttotal: 793ms\tremaining: 2.25s\n",
      "261:\tlearn: 5010781.7022833\ttotal: 795ms\tremaining: 2.24s\n",
      "262:\tlearn: 5002979.7514549\ttotal: 797ms\tremaining: 2.23s\n",
      "263:\tlearn: 4997720.3948579\ttotal: 800ms\tremaining: 2.23s\n",
      "264:\tlearn: 4996475.4928896\ttotal: 802ms\tremaining: 2.22s\n",
      "265:\tlearn: 4996102.8849295\ttotal: 804ms\tremaining: 2.22s\n",
      "266:\tlearn: 4995659.0300948\ttotal: 806ms\tremaining: 2.21s\n",
      "267:\tlearn: 4992504.1849214\ttotal: 809ms\tremaining: 2.21s\n",
      "268:\tlearn: 4987970.6339839\ttotal: 812ms\tremaining: 2.21s\n",
      "269:\tlearn: 4982265.9840326\ttotal: 814ms\tremaining: 2.2s\n",
      "270:\tlearn: 4976936.0958127\ttotal: 817ms\tremaining: 2.2s\n",
      "271:\tlearn: 4972660.0941367\ttotal: 819ms\tremaining: 2.19s\n",
      "272:\tlearn: 4969093.3014691\ttotal: 822ms\tremaining: 2.19s\n",
      "273:\tlearn: 4960731.5158623\ttotal: 826ms\tremaining: 2.19s\n",
      "274:\tlearn: 4955481.3133725\ttotal: 828ms\tremaining: 2.18s\n",
      "275:\tlearn: 4950710.3236285\ttotal: 830ms\tremaining: 2.18s\n",
      "276:\tlearn: 4947515.0589018\ttotal: 833ms\tremaining: 2.17s\n",
      "277:\tlearn: 4944405.6051757\ttotal: 835ms\tremaining: 2.17s\n",
      "278:\tlearn: 4940938.8746952\ttotal: 837ms\tremaining: 2.16s\n",
      "279:\tlearn: 4938088.0782932\ttotal: 840ms\tremaining: 2.16s\n",
      "280:\tlearn: 4936606.1547249\ttotal: 842ms\tremaining: 2.15s\n",
      "281:\tlearn: 4933868.9041356\ttotal: 845ms\tremaining: 2.15s\n",
      "282:\tlearn: 4931509.1753498\ttotal: 847ms\tremaining: 2.15s\n",
      "283:\tlearn: 4926311.4456120\ttotal: 849ms\tremaining: 2.14s\n",
      "284:\tlearn: 4926003.7662688\ttotal: 852ms\tremaining: 2.14s\n",
      "285:\tlearn: 4921625.1472141\ttotal: 854ms\tremaining: 2.13s\n",
      "286:\tlearn: 4918411.0978647\ttotal: 856ms\tremaining: 2.13s\n",
      "287:\tlearn: 4915393.5114461\ttotal: 859ms\tremaining: 2.12s\n",
      "288:\tlearn: 4912847.1799455\ttotal: 861ms\tremaining: 2.12s\n",
      "289:\tlearn: 4912343.0033772\ttotal: 863ms\tremaining: 2.11s\n",
      "290:\tlearn: 4909615.9520712\ttotal: 865ms\tremaining: 2.11s\n",
      "291:\tlearn: 4909196.9289858\ttotal: 867ms\tremaining: 2.1s\n",
      "292:\tlearn: 4906379.2549066\ttotal: 870ms\tremaining: 2.1s\n",
      "293:\tlearn: 4899418.9554544\ttotal: 872ms\tremaining: 2.09s\n",
      "294:\tlearn: 4895275.8097888\ttotal: 875ms\tremaining: 2.09s\n",
      "295:\tlearn: 4893611.9459711\ttotal: 877ms\tremaining: 2.08s\n",
      "296:\tlearn: 4888980.2612971\ttotal: 879ms\tremaining: 2.08s\n",
      "297:\tlearn: 4886976.5013150\ttotal: 882ms\tremaining: 2.08s\n",
      "298:\tlearn: 4881568.9473303\ttotal: 884ms\tremaining: 2.07s\n",
      "299:\tlearn: 4878528.8867105\ttotal: 886ms\tremaining: 2.07s\n",
      "300:\tlearn: 4874675.8831889\ttotal: 889ms\tremaining: 2.06s\n",
      "301:\tlearn: 4868933.7349564\ttotal: 891ms\tremaining: 2.06s\n",
      "302:\tlearn: 4862205.6917645\ttotal: 894ms\tremaining: 2.06s\n",
      "303:\tlearn: 4856359.7240569\ttotal: 896ms\tremaining: 2.05s\n",
      "304:\tlearn: 4850505.4270039\ttotal: 898ms\tremaining: 2.05s\n",
      "305:\tlearn: 4844256.3522280\ttotal: 900ms\tremaining: 2.04s\n",
      "306:\tlearn: 4840125.8004579\ttotal: 903ms\tremaining: 2.04s\n",
      "307:\tlearn: 4838653.6889299\ttotal: 905ms\tremaining: 2.03s\n",
      "308:\tlearn: 4832819.4623173\ttotal: 908ms\tremaining: 2.03s\n",
      "309:\tlearn: 4827515.2208043\ttotal: 910ms\tremaining: 2.02s\n",
      "310:\tlearn: 4823285.6899759\ttotal: 912ms\tremaining: 2.02s\n",
      "311:\tlearn: 4818673.7726397\ttotal: 915ms\tremaining: 2.02s\n",
      "312:\tlearn: 4817752.8077924\ttotal: 917ms\tremaining: 2.01s\n",
      "313:\tlearn: 4812299.9880099\ttotal: 919ms\tremaining: 2.01s\n",
      "314:\tlearn: 4808482.5821435\ttotal: 922ms\tremaining: 2s\n",
      "315:\tlearn: 4808081.9134400\ttotal: 924ms\tremaining: 2s\n",
      "316:\tlearn: 4803419.4476349\ttotal: 927ms\tremaining: 2s\n",
      "317:\tlearn: 4801696.0856697\ttotal: 929ms\tremaining: 1.99s\n",
      "318:\tlearn: 4794132.2620876\ttotal: 932ms\tremaining: 1.99s\n",
      "319:\tlearn: 4791953.9568697\ttotal: 935ms\tremaining: 1.99s\n",
      "320:\tlearn: 4788037.2071283\ttotal: 938ms\tremaining: 1.98s\n",
      "321:\tlearn: 4782138.8580397\ttotal: 940ms\tremaining: 1.98s\n",
      "322:\tlearn: 4779215.6657677\ttotal: 943ms\tremaining: 1.98s\n",
      "323:\tlearn: 4775981.9859448\ttotal: 945ms\tremaining: 1.97s\n",
      "324:\tlearn: 4774587.5355242\ttotal: 947ms\tremaining: 1.97s\n",
      "325:\tlearn: 4771268.9142248\ttotal: 950ms\tremaining: 1.96s\n",
      "326:\tlearn: 4768538.8627300\ttotal: 953ms\tremaining: 1.96s\n",
      "327:\tlearn: 4765751.1833288\ttotal: 955ms\tremaining: 1.96s\n",
      "328:\tlearn: 4758964.2781892\ttotal: 958ms\tremaining: 1.95s\n",
      "329:\tlearn: 4754636.9041971\ttotal: 960ms\tremaining: 1.95s\n",
      "330:\tlearn: 4751329.8182400\ttotal: 962ms\tremaining: 1.94s\n",
      "331:\tlearn: 4748003.6434418\ttotal: 964ms\tremaining: 1.94s\n",
      "332:\tlearn: 4743643.5424500\ttotal: 967ms\tremaining: 1.94s\n",
      "333:\tlearn: 4743020.6604493\ttotal: 969ms\tremaining: 1.93s\n",
      "334:\tlearn: 4739860.4763164\ttotal: 971ms\tremaining: 1.93s\n",
      "335:\tlearn: 4736174.2594740\ttotal: 974ms\tremaining: 1.92s\n",
      "336:\tlearn: 4733626.4990228\ttotal: 976ms\tremaining: 1.92s\n",
      "337:\tlearn: 4732602.6691048\ttotal: 978ms\tremaining: 1.92s\n",
      "338:\tlearn: 4728186.7545032\ttotal: 981ms\tremaining: 1.91s\n",
      "339:\tlearn: 4723323.7464579\ttotal: 983ms\tremaining: 1.91s\n",
      "340:\tlearn: 4717373.1221888\ttotal: 985ms\tremaining: 1.9s\n",
      "341:\tlearn: 4710362.0712764\ttotal: 988ms\tremaining: 1.9s\n",
      "342:\tlearn: 4708103.3290308\ttotal: 990ms\tremaining: 1.9s\n",
      "343:\tlearn: 4705206.1219599\ttotal: 993ms\tremaining: 1.89s\n",
      "344:\tlearn: 4702382.6547233\ttotal: 995ms\tremaining: 1.89s\n",
      "345:\tlearn: 4698957.0527948\ttotal: 997ms\tremaining: 1.88s\n",
      "346:\tlearn: 4697003.7022569\ttotal: 999ms\tremaining: 1.88s\n",
      "347:\tlearn: 4694784.9484166\ttotal: 1s\tremaining: 1.88s\n",
      "348:\tlearn: 4688558.4793407\ttotal: 1s\tremaining: 1.87s\n",
      "349:\tlearn: 4687658.9091073\ttotal: 1.01s\tremaining: 1.87s\n",
      "350:\tlearn: 4684399.3806517\ttotal: 1.01s\tremaining: 1.86s\n",
      "351:\tlearn: 4679495.8976560\ttotal: 1.01s\tremaining: 1.86s\n",
      "352:\tlearn: 4676701.1878478\ttotal: 1.01s\tremaining: 1.86s\n",
      "353:\tlearn: 4670982.6656696\ttotal: 1.02s\tremaining: 1.85s\n",
      "354:\tlearn: 4668226.7744393\ttotal: 1.02s\tremaining: 1.85s\n",
      "355:\tlearn: 4664321.1443644\ttotal: 1.02s\tremaining: 1.85s\n",
      "356:\tlearn: 4660767.6568286\ttotal: 1.02s\tremaining: 1.84s\n",
      "357:\tlearn: 4654450.9920404\ttotal: 1.03s\tremaining: 1.84s\n",
      "358:\tlearn: 4651549.5234088\ttotal: 1.03s\tremaining: 1.84s\n",
      "359:\tlearn: 4644794.1777488\ttotal: 1.03s\tremaining: 1.83s\n",
      "360:\tlearn: 4640895.5242026\ttotal: 1.03s\tremaining: 1.83s\n",
      "361:\tlearn: 4637571.0059142\ttotal: 1.04s\tremaining: 1.83s\n",
      "362:\tlearn: 4633521.1259952\ttotal: 1.04s\tremaining: 1.82s\n",
      "363:\tlearn: 4630975.3070591\ttotal: 1.04s\tremaining: 1.82s\n",
      "364:\tlearn: 4627872.0796378\ttotal: 1.04s\tremaining: 1.81s\n",
      "365:\tlearn: 4625515.5729806\ttotal: 1.05s\tremaining: 1.81s\n",
      "366:\tlearn: 4621820.3348096\ttotal: 1.05s\tremaining: 1.81s\n",
      "367:\tlearn: 4618023.6388664\ttotal: 1.05s\tremaining: 1.81s\n",
      "368:\tlearn: 4616512.8510606\ttotal: 1.05s\tremaining: 1.8s\n",
      "369:\tlearn: 4612984.3603549\ttotal: 1.06s\tremaining: 1.8s\n",
      "370:\tlearn: 4609779.9432229\ttotal: 1.06s\tremaining: 1.79s\n",
      "371:\tlearn: 4604722.4812728\ttotal: 1.06s\tremaining: 1.79s\n",
      "372:\tlearn: 4602385.6838932\ttotal: 1.06s\tremaining: 1.79s\n",
      "373:\tlearn: 4600183.9869046\ttotal: 1.07s\tremaining: 1.78s\n",
      "374:\tlearn: 4597347.8730590\ttotal: 1.07s\tremaining: 1.78s\n",
      "375:\tlearn: 4595810.1019240\ttotal: 1.07s\tremaining: 1.78s\n",
      "376:\tlearn: 4593664.2657603\ttotal: 1.07s\tremaining: 1.77s\n",
      "377:\tlearn: 4589086.1697304\ttotal: 1.08s\tremaining: 1.77s\n",
      "378:\tlearn: 4585639.8277833\ttotal: 1.08s\tremaining: 1.77s\n",
      "379:\tlearn: 4580706.8274535\ttotal: 1.08s\tremaining: 1.76s\n",
      "380:\tlearn: 4575135.7208506\ttotal: 1.08s\tremaining: 1.76s\n",
      "381:\tlearn: 4574083.1733460\ttotal: 1.09s\tremaining: 1.76s\n",
      "382:\tlearn: 4570294.7678272\ttotal: 1.09s\tremaining: 1.75s\n",
      "383:\tlearn: 4565758.4881481\ttotal: 1.09s\tremaining: 1.75s\n",
      "384:\tlearn: 4564259.4172299\ttotal: 1.09s\tremaining: 1.75s\n",
      "385:\tlearn: 4561514.8718740\ttotal: 1.09s\tremaining: 1.74s\n",
      "386:\tlearn: 4558568.6811141\ttotal: 1.1s\tremaining: 1.74s\n",
      "387:\tlearn: 4555173.6994631\ttotal: 1.1s\tremaining: 1.74s\n",
      "388:\tlearn: 4553019.2875375\ttotal: 1.1s\tremaining: 1.73s\n",
      "389:\tlearn: 4552201.9647618\ttotal: 1.1s\tremaining: 1.73s\n",
      "390:\tlearn: 4550637.8142855\ttotal: 1.11s\tremaining: 1.72s\n",
      "391:\tlearn: 4548533.4024026\ttotal: 1.11s\tremaining: 1.72s\n",
      "392:\tlearn: 4545432.5563316\ttotal: 1.11s\tremaining: 1.72s\n",
      "393:\tlearn: 4541289.7681437\ttotal: 1.11s\tremaining: 1.71s\n",
      "394:\tlearn: 4538922.2196651\ttotal: 1.12s\tremaining: 1.71s\n",
      "395:\tlearn: 4534769.7834752\ttotal: 1.12s\tremaining: 1.71s\n",
      "396:\tlearn: 4530765.0523646\ttotal: 1.12s\tremaining: 1.7s\n",
      "397:\tlearn: 4525670.8833436\ttotal: 1.12s\tremaining: 1.7s\n",
      "398:\tlearn: 4522267.3294615\ttotal: 1.13s\tremaining: 1.7s\n",
      "399:\tlearn: 4520857.9156147\ttotal: 1.13s\tremaining: 1.69s\n",
      "400:\tlearn: 4518308.5694801\ttotal: 1.13s\tremaining: 1.69s\n",
      "401:\tlearn: 4516350.5428785\ttotal: 1.13s\tremaining: 1.69s\n",
      "402:\tlearn: 4514054.5672616\ttotal: 1.14s\tremaining: 1.68s\n",
      "403:\tlearn: 4512011.0211962\ttotal: 1.14s\tremaining: 1.68s\n",
      "404:\tlearn: 4509027.7083492\ttotal: 1.14s\tremaining: 1.68s\n",
      "405:\tlearn: 4507059.4710101\ttotal: 1.14s\tremaining: 1.67s\n",
      "406:\tlearn: 4504546.8283843\ttotal: 1.15s\tremaining: 1.67s\n",
      "407:\tlearn: 4502101.4230954\ttotal: 1.15s\tremaining: 1.67s\n",
      "408:\tlearn: 4500792.4333918\ttotal: 1.15s\tremaining: 1.66s\n",
      "409:\tlearn: 4499922.2238471\ttotal: 1.15s\tremaining: 1.66s\n",
      "410:\tlearn: 4496968.1467861\ttotal: 1.16s\tremaining: 1.66s\n",
      "411:\tlearn: 4494782.3198353\ttotal: 1.16s\tremaining: 1.65s\n",
      "412:\tlearn: 4491262.6954768\ttotal: 1.16s\tremaining: 1.65s\n",
      "413:\tlearn: 4487628.9462562\ttotal: 1.16s\tremaining: 1.65s\n",
      "414:\tlearn: 4485676.4849683\ttotal: 1.17s\tremaining: 1.64s\n",
      "415:\tlearn: 4483938.9481812\ttotal: 1.17s\tremaining: 1.64s\n",
      "416:\tlearn: 4479834.2930738\ttotal: 1.17s\tremaining: 1.64s\n",
      "417:\tlearn: 4476777.3414144\ttotal: 1.17s\tremaining: 1.63s\n",
      "418:\tlearn: 4474552.7264164\ttotal: 1.18s\tremaining: 1.63s\n",
      "419:\tlearn: 4472119.6500704\ttotal: 1.18s\tremaining: 1.63s\n",
      "420:\tlearn: 4467967.0743255\ttotal: 1.18s\tremaining: 1.62s\n",
      "421:\tlearn: 4464830.8665929\ttotal: 1.18s\tremaining: 1.62s\n",
      "422:\tlearn: 4461494.5626388\ttotal: 1.19s\tremaining: 1.62s\n",
      "423:\tlearn: 4458489.7576826\ttotal: 1.19s\tremaining: 1.61s\n",
      "424:\tlearn: 4456420.0851841\ttotal: 1.19s\tremaining: 1.61s\n",
      "425:\tlearn: 4453398.6238060\ttotal: 1.19s\tremaining: 1.61s\n",
      "426:\tlearn: 4451661.4587604\ttotal: 1.19s\tremaining: 1.6s\n",
      "427:\tlearn: 4448295.9615400\ttotal: 1.2s\tremaining: 1.6s\n",
      "428:\tlearn: 4446010.8052668\ttotal: 1.2s\tremaining: 1.6s\n",
      "429:\tlearn: 4444237.9489771\ttotal: 1.2s\tremaining: 1.59s\n",
      "430:\tlearn: 4440050.0952120\ttotal: 1.2s\tremaining: 1.59s\n",
      "431:\tlearn: 4438078.4456573\ttotal: 1.21s\tremaining: 1.59s\n",
      "432:\tlearn: 4434502.3600414\ttotal: 1.21s\tremaining: 1.58s\n",
      "433:\tlearn: 4430248.4613540\ttotal: 1.21s\tremaining: 1.58s\n",
      "434:\tlearn: 4427972.9346632\ttotal: 1.21s\tremaining: 1.58s\n",
      "435:\tlearn: 4425880.2350557\ttotal: 1.22s\tremaining: 1.57s\n",
      "436:\tlearn: 4423972.4091758\ttotal: 1.22s\tremaining: 1.57s\n",
      "437:\tlearn: 4421779.0767717\ttotal: 1.22s\tremaining: 1.57s\n",
      "438:\tlearn: 4418877.3841699\ttotal: 1.22s\tremaining: 1.56s\n",
      "439:\tlearn: 4414992.7256105\ttotal: 1.23s\tremaining: 1.56s\n",
      "440:\tlearn: 4413072.2933112\ttotal: 1.23s\tremaining: 1.56s\n",
      "441:\tlearn: 4408801.7649079\ttotal: 1.23s\tremaining: 1.55s\n",
      "442:\tlearn: 4406779.5041709\ttotal: 1.23s\tremaining: 1.55s\n",
      "443:\tlearn: 4406079.7093009\ttotal: 1.24s\tremaining: 1.55s\n",
      "444:\tlearn: 4403860.1915314\ttotal: 1.24s\tremaining: 1.54s\n",
      "445:\tlearn: 4402700.0724361\ttotal: 1.24s\tremaining: 1.54s\n",
      "446:\tlearn: 4400195.4891295\ttotal: 1.24s\tremaining: 1.54s\n",
      "447:\tlearn: 4398843.1847029\ttotal: 1.25s\tremaining: 1.53s\n",
      "448:\tlearn: 4394095.4576981\ttotal: 1.25s\tremaining: 1.53s\n",
      "449:\tlearn: 4390963.9863189\ttotal: 1.25s\tremaining: 1.53s\n",
      "450:\tlearn: 4389887.2018252\ttotal: 1.25s\tremaining: 1.52s\n",
      "451:\tlearn: 4387548.1557660\ttotal: 1.25s\tremaining: 1.52s\n",
      "452:\tlearn: 4383013.6184918\ttotal: 1.26s\tremaining: 1.52s\n",
      "453:\tlearn: 4381018.4123064\ttotal: 1.26s\tremaining: 1.51s\n",
      "454:\tlearn: 4377994.9721521\ttotal: 1.26s\tremaining: 1.51s\n",
      "455:\tlearn: 4376283.4383140\ttotal: 1.26s\tremaining: 1.51s\n",
      "456:\tlearn: 4373628.0305909\ttotal: 1.27s\tremaining: 1.5s\n",
      "457:\tlearn: 4372258.4317801\ttotal: 1.27s\tremaining: 1.5s\n",
      "458:\tlearn: 4370537.8422999\ttotal: 1.27s\tremaining: 1.5s\n",
      "459:\tlearn: 4368386.7247283\ttotal: 1.27s\tremaining: 1.5s\n",
      "460:\tlearn: 4366967.8878739\ttotal: 1.28s\tremaining: 1.49s\n",
      "461:\tlearn: 4360652.7028389\ttotal: 1.28s\tremaining: 1.49s\n",
      "462:\tlearn: 4358809.0157639\ttotal: 1.28s\tremaining: 1.49s\n",
      "463:\tlearn: 4356248.4305348\ttotal: 1.28s\tremaining: 1.48s\n",
      "464:\tlearn: 4353924.4733841\ttotal: 1.29s\tremaining: 1.48s\n",
      "465:\tlearn: 4350346.1226036\ttotal: 1.29s\tremaining: 1.48s\n",
      "466:\tlearn: 4348652.6129456\ttotal: 1.29s\tremaining: 1.48s\n",
      "467:\tlearn: 4346524.2857539\ttotal: 1.29s\tremaining: 1.47s\n",
      "468:\tlearn: 4344203.2635984\ttotal: 1.3s\tremaining: 1.47s\n",
      "469:\tlearn: 4341437.3658128\ttotal: 1.3s\tremaining: 1.47s\n",
      "470:\tlearn: 4339049.6898824\ttotal: 1.3s\tremaining: 1.46s\n",
      "471:\tlearn: 4336587.8396441\ttotal: 1.3s\tremaining: 1.46s\n",
      "472:\tlearn: 4335177.0101662\ttotal: 1.31s\tremaining: 1.46s\n",
      "473:\tlearn: 4332206.5983134\ttotal: 1.31s\tremaining: 1.45s\n",
      "474:\tlearn: 4329685.2823256\ttotal: 1.31s\tremaining: 1.45s\n",
      "475:\tlearn: 4327313.3317223\ttotal: 1.31s\tremaining: 1.45s\n",
      "476:\tlearn: 4324596.9937871\ttotal: 1.32s\tremaining: 1.44s\n",
      "477:\tlearn: 4322615.2282787\ttotal: 1.32s\tremaining: 1.44s\n",
      "478:\tlearn: 4319845.2175602\ttotal: 1.32s\tremaining: 1.44s\n",
      "479:\tlearn: 4318170.1784593\ttotal: 1.32s\tremaining: 1.44s\n",
      "480:\tlearn: 4316646.8881340\ttotal: 1.33s\tremaining: 1.43s\n",
      "481:\tlearn: 4314369.8995953\ttotal: 1.33s\tremaining: 1.43s\n",
      "482:\tlearn: 4311870.8051588\ttotal: 1.33s\tremaining: 1.43s\n",
      "483:\tlearn: 4310456.9913310\ttotal: 1.33s\tremaining: 1.42s\n",
      "484:\tlearn: 4308880.1400710\ttotal: 1.34s\tremaining: 1.42s\n",
      "485:\tlearn: 4304852.4902959\ttotal: 1.34s\tremaining: 1.42s\n",
      "486:\tlearn: 4303077.2418117\ttotal: 1.34s\tremaining: 1.41s\n",
      "487:\tlearn: 4300544.4681257\ttotal: 1.35s\tremaining: 1.41s\n",
      "488:\tlearn: 4296936.2744320\ttotal: 1.35s\tremaining: 1.41s\n",
      "489:\tlearn: 4294845.7292122\ttotal: 1.35s\tremaining: 1.41s\n",
      "490:\tlearn: 4292973.6291819\ttotal: 1.35s\tremaining: 1.4s\n",
      "491:\tlearn: 4290742.3995411\ttotal: 1.35s\tremaining: 1.4s\n",
      "492:\tlearn: 4289068.8873934\ttotal: 1.36s\tremaining: 1.4s\n",
      "493:\tlearn: 4287507.1982437\ttotal: 1.36s\tremaining: 1.39s\n",
      "494:\tlearn: 4285804.0322644\ttotal: 1.36s\tremaining: 1.39s\n",
      "495:\tlearn: 4282420.8689188\ttotal: 1.36s\tremaining: 1.39s\n",
      "496:\tlearn: 4279846.4560913\ttotal: 1.37s\tremaining: 1.38s\n",
      "497:\tlearn: 4277062.0025759\ttotal: 1.37s\tremaining: 1.38s\n",
      "498:\tlearn: 4274991.7248974\ttotal: 1.37s\tremaining: 1.38s\n",
      "499:\tlearn: 4273405.0306791\ttotal: 1.38s\tremaining: 1.38s\n",
      "500:\tlearn: 4271233.5574349\ttotal: 1.38s\tremaining: 1.37s\n",
      "501:\tlearn: 4264963.3618947\ttotal: 1.38s\tremaining: 1.37s\n",
      "502:\tlearn: 4262223.6483639\ttotal: 1.38s\tremaining: 1.37s\n",
      "503:\tlearn: 4260002.3564398\ttotal: 1.39s\tremaining: 1.36s\n",
      "504:\tlearn: 4255812.8752547\ttotal: 1.39s\tremaining: 1.36s\n",
      "505:\tlearn: 4253527.6965252\ttotal: 1.39s\tremaining: 1.36s\n",
      "506:\tlearn: 4251452.9100956\ttotal: 1.4s\tremaining: 1.36s\n",
      "507:\tlearn: 4249349.2169765\ttotal: 1.4s\tremaining: 1.35s\n",
      "508:\tlearn: 4245272.9312695\ttotal: 1.4s\tremaining: 1.35s\n",
      "509:\tlearn: 4242005.8681923\ttotal: 1.4s\tremaining: 1.35s\n",
      "510:\tlearn: 4239446.5251373\ttotal: 1.41s\tremaining: 1.34s\n",
      "511:\tlearn: 4236063.5100739\ttotal: 1.41s\tremaining: 1.34s\n",
      "512:\tlearn: 4233649.7700353\ttotal: 1.41s\tremaining: 1.34s\n",
      "513:\tlearn: 4230959.4533280\ttotal: 1.41s\tremaining: 1.34s\n",
      "514:\tlearn: 4229126.8984531\ttotal: 1.42s\tremaining: 1.33s\n",
      "515:\tlearn: 4226758.3054270\ttotal: 1.42s\tremaining: 1.33s\n",
      "516:\tlearn: 4224646.2752816\ttotal: 1.42s\tremaining: 1.33s\n",
      "517:\tlearn: 4220921.3869466\ttotal: 1.42s\tremaining: 1.32s\n",
      "518:\tlearn: 4218817.3159652\ttotal: 1.43s\tremaining: 1.32s\n",
      "519:\tlearn: 4216789.9419429\ttotal: 1.43s\tremaining: 1.32s\n",
      "520:\tlearn: 4214491.9954026\ttotal: 1.43s\tremaining: 1.32s\n",
      "521:\tlearn: 4212567.2087924\ttotal: 1.44s\tremaining: 1.31s\n",
      "522:\tlearn: 4210102.8862449\ttotal: 1.44s\tremaining: 1.31s\n",
      "523:\tlearn: 4207175.7818197\ttotal: 1.44s\tremaining: 1.31s\n",
      "524:\tlearn: 4204403.2161890\ttotal: 1.44s\tremaining: 1.3s\n",
      "525:\tlearn: 4202007.9416661\ttotal: 1.45s\tremaining: 1.3s\n",
      "526:\tlearn: 4199905.0133800\ttotal: 1.45s\tremaining: 1.3s\n",
      "527:\tlearn: 4198287.3771853\ttotal: 1.45s\tremaining: 1.3s\n",
      "528:\tlearn: 4194641.8388777\ttotal: 1.45s\tremaining: 1.29s\n",
      "529:\tlearn: 4192076.0882403\ttotal: 1.46s\tremaining: 1.29s\n",
      "530:\tlearn: 4188607.4793737\ttotal: 1.46s\tremaining: 1.29s\n",
      "531:\tlearn: 4186582.7569011\ttotal: 1.46s\tremaining: 1.28s\n",
      "532:\tlearn: 4185119.1736011\ttotal: 1.46s\tremaining: 1.28s\n",
      "533:\tlearn: 4182975.4577764\ttotal: 1.47s\tremaining: 1.28s\n",
      "534:\tlearn: 4182207.4917724\ttotal: 1.47s\tremaining: 1.28s\n",
      "535:\tlearn: 4180003.9334312\ttotal: 1.47s\tremaining: 1.27s\n",
      "536:\tlearn: 4178661.9939465\ttotal: 1.47s\tremaining: 1.27s\n",
      "537:\tlearn: 4176763.1131577\ttotal: 1.48s\tremaining: 1.27s\n",
      "538:\tlearn: 4175543.8320617\ttotal: 1.48s\tremaining: 1.26s\n",
      "539:\tlearn: 4172801.2553523\ttotal: 1.48s\tremaining: 1.26s\n",
      "540:\tlearn: 4170765.0911153\ttotal: 1.48s\tremaining: 1.26s\n",
      "541:\tlearn: 4168892.6409525\ttotal: 1.49s\tremaining: 1.25s\n",
      "542:\tlearn: 4167091.3454385\ttotal: 1.49s\tremaining: 1.25s\n",
      "543:\tlearn: 4166141.3312918\ttotal: 1.49s\tremaining: 1.25s\n",
      "544:\tlearn: 4161725.6629433\ttotal: 1.49s\tremaining: 1.25s\n",
      "545:\tlearn: 4159348.8027050\ttotal: 1.49s\tremaining: 1.24s\n",
      "546:\tlearn: 4156697.6427359\ttotal: 1.5s\tremaining: 1.24s\n",
      "547:\tlearn: 4154915.1517612\ttotal: 1.5s\tremaining: 1.24s\n",
      "548:\tlearn: 4153762.9725342\ttotal: 1.5s\tremaining: 1.23s\n",
      "549:\tlearn: 4151652.8124383\ttotal: 1.5s\tremaining: 1.23s\n",
      "550:\tlearn: 4150295.6757587\ttotal: 1.51s\tremaining: 1.23s\n",
      "551:\tlearn: 4148340.1264640\ttotal: 1.51s\tremaining: 1.22s\n",
      "552:\tlearn: 4147210.4803847\ttotal: 1.51s\tremaining: 1.22s\n",
      "553:\tlearn: 4143939.9643056\ttotal: 1.51s\tremaining: 1.22s\n",
      "554:\tlearn: 4141782.6960372\ttotal: 1.52s\tremaining: 1.22s\n",
      "555:\tlearn: 4139295.1694482\ttotal: 1.52s\tremaining: 1.21s\n",
      "556:\tlearn: 4136982.2268181\ttotal: 1.52s\tremaining: 1.21s\n",
      "557:\tlearn: 4135065.7074700\ttotal: 1.52s\tremaining: 1.21s\n",
      "558:\tlearn: 4133115.4926074\ttotal: 1.53s\tremaining: 1.2s\n",
      "559:\tlearn: 4131723.9672873\ttotal: 1.53s\tremaining: 1.2s\n",
      "560:\tlearn: 4129772.0345410\ttotal: 1.53s\tremaining: 1.2s\n",
      "561:\tlearn: 4126572.8755489\ttotal: 1.53s\tremaining: 1.2s\n",
      "562:\tlearn: 4123714.6607620\ttotal: 1.54s\tremaining: 1.19s\n",
      "563:\tlearn: 4122292.3983765\ttotal: 1.54s\tremaining: 1.19s\n",
      "564:\tlearn: 4120566.8954892\ttotal: 1.54s\tremaining: 1.19s\n",
      "565:\tlearn: 4119318.2867966\ttotal: 1.54s\tremaining: 1.18s\n",
      "566:\tlearn: 4117728.5264754\ttotal: 1.55s\tremaining: 1.18s\n",
      "567:\tlearn: 4116034.9359943\ttotal: 1.55s\tremaining: 1.18s\n",
      "568:\tlearn: 4114321.2105806\ttotal: 1.55s\tremaining: 1.18s\n",
      "569:\tlearn: 4112966.5431923\ttotal: 1.55s\tremaining: 1.17s\n",
      "570:\tlearn: 4109601.0140735\ttotal: 1.56s\tremaining: 1.17s\n",
      "571:\tlearn: 4106484.0368221\ttotal: 1.56s\tremaining: 1.17s\n",
      "572:\tlearn: 4104623.8812988\ttotal: 1.56s\tremaining: 1.16s\n",
      "573:\tlearn: 4102046.2041584\ttotal: 1.56s\tremaining: 1.16s\n",
      "574:\tlearn: 4099240.1170212\ttotal: 1.56s\tremaining: 1.16s\n",
      "575:\tlearn: 4097835.9776847\ttotal: 1.57s\tremaining: 1.15s\n",
      "576:\tlearn: 4096459.8719538\ttotal: 1.57s\tremaining: 1.15s\n",
      "577:\tlearn: 4094933.2948667\ttotal: 1.57s\tremaining: 1.15s\n",
      "578:\tlearn: 4093374.3884892\ttotal: 1.57s\tremaining: 1.15s\n",
      "579:\tlearn: 4092036.0380068\ttotal: 1.58s\tremaining: 1.14s\n",
      "580:\tlearn: 4089948.6360044\ttotal: 1.58s\tremaining: 1.14s\n",
      "581:\tlearn: 4088291.5617582\ttotal: 1.58s\tremaining: 1.14s\n",
      "582:\tlearn: 4086816.1405493\ttotal: 1.58s\tremaining: 1.13s\n",
      "583:\tlearn: 4083687.8385013\ttotal: 1.59s\tremaining: 1.13s\n",
      "584:\tlearn: 4081108.5658766\ttotal: 1.59s\tremaining: 1.13s\n",
      "585:\tlearn: 4079063.4162778\ttotal: 1.59s\tremaining: 1.12s\n",
      "586:\tlearn: 4076140.5620907\ttotal: 1.59s\tremaining: 1.12s\n",
      "587:\tlearn: 4073821.2880476\ttotal: 1.6s\tremaining: 1.12s\n",
      "588:\tlearn: 4071481.2487309\ttotal: 1.6s\tremaining: 1.11s\n",
      "589:\tlearn: 4070062.1654844\ttotal: 1.6s\tremaining: 1.11s\n",
      "590:\tlearn: 4066801.8390977\ttotal: 1.6s\tremaining: 1.11s\n",
      "591:\tlearn: 4063563.4391439\ttotal: 1.61s\tremaining: 1.11s\n",
      "592:\tlearn: 4061704.8156915\ttotal: 1.61s\tremaining: 1.1s\n",
      "593:\tlearn: 4059956.9215575\ttotal: 1.61s\tremaining: 1.1s\n",
      "594:\tlearn: 4057866.6331712\ttotal: 1.61s\tremaining: 1.1s\n",
      "595:\tlearn: 4055644.3090379\ttotal: 1.62s\tremaining: 1.09s\n",
      "596:\tlearn: 4052770.1423016\ttotal: 1.62s\tremaining: 1.09s\n",
      "597:\tlearn: 4050884.7650780\ttotal: 1.62s\tremaining: 1.09s\n",
      "598:\tlearn: 4048552.2159944\ttotal: 1.62s\tremaining: 1.09s\n",
      "599:\tlearn: 4045507.5475957\ttotal: 1.63s\tremaining: 1.08s\n",
      "600:\tlearn: 4041245.7801790\ttotal: 1.63s\tremaining: 1.08s\n",
      "601:\tlearn: 4039844.2518090\ttotal: 1.63s\tremaining: 1.08s\n",
      "602:\tlearn: 4037510.2686858\ttotal: 1.64s\tremaining: 1.08s\n",
      "603:\tlearn: 4035933.2515812\ttotal: 1.64s\tremaining: 1.07s\n",
      "604:\tlearn: 4034100.9588049\ttotal: 1.64s\tremaining: 1.07s\n",
      "605:\tlearn: 4032225.3963964\ttotal: 1.64s\tremaining: 1.07s\n",
      "606:\tlearn: 4031930.0332917\ttotal: 1.65s\tremaining: 1.06s\n",
      "607:\tlearn: 4029269.6582891\ttotal: 1.65s\tremaining: 1.06s\n",
      "608:\tlearn: 4027155.7577090\ttotal: 1.65s\tremaining: 1.06s\n",
      "609:\tlearn: 4025051.3656323\ttotal: 1.65s\tremaining: 1.06s\n",
      "610:\tlearn: 4023594.8196719\ttotal: 1.66s\tremaining: 1.05s\n",
      "611:\tlearn: 4020362.3485826\ttotal: 1.66s\tremaining: 1.05s\n",
      "612:\tlearn: 4019053.2600001\ttotal: 1.66s\tremaining: 1.05s\n",
      "613:\tlearn: 4016634.8087136\ttotal: 1.66s\tremaining: 1.04s\n",
      "614:\tlearn: 4013908.2662165\ttotal: 1.67s\tremaining: 1.04s\n",
      "615:\tlearn: 4012290.0564212\ttotal: 1.67s\tremaining: 1.04s\n",
      "616:\tlearn: 4010383.2511622\ttotal: 1.67s\tremaining: 1.04s\n",
      "617:\tlearn: 4008458.4682850\ttotal: 1.67s\tremaining: 1.03s\n",
      "618:\tlearn: 4006696.1168026\ttotal: 1.67s\tremaining: 1.03s\n",
      "619:\tlearn: 4003726.2560194\ttotal: 1.68s\tremaining: 1.03s\n",
      "620:\tlearn: 4001896.8063989\ttotal: 1.68s\tremaining: 1.02s\n",
      "621:\tlearn: 3999959.0883662\ttotal: 1.68s\tremaining: 1.02s\n",
      "622:\tlearn: 3997593.0722869\ttotal: 1.68s\tremaining: 1.02s\n",
      "623:\tlearn: 3996004.6711547\ttotal: 1.69s\tremaining: 1.02s\n",
      "624:\tlearn: 3992588.6067621\ttotal: 1.69s\tremaining: 1.01s\n",
      "625:\tlearn: 3990258.8866084\ttotal: 1.69s\tremaining: 1.01s\n",
      "626:\tlearn: 3988609.2121169\ttotal: 1.69s\tremaining: 1.01s\n",
      "627:\tlearn: 3986944.4605839\ttotal: 1.7s\tremaining: 1s\n",
      "628:\tlearn: 3986576.5001147\ttotal: 1.7s\tremaining: 1s\n",
      "629:\tlearn: 3983741.9612019\ttotal: 1.7s\tremaining: 999ms\n",
      "630:\tlearn: 3981898.6133156\ttotal: 1.7s\tremaining: 996ms\n",
      "631:\tlearn: 3978779.1096723\ttotal: 1.7s\tremaining: 993ms\n",
      "632:\tlearn: 3977416.0873704\ttotal: 1.71s\tremaining: 990ms\n",
      "633:\tlearn: 3975439.1519437\ttotal: 1.71s\tremaining: 987ms\n",
      "634:\tlearn: 3973664.8117369\ttotal: 1.71s\tremaining: 984ms\n",
      "635:\tlearn: 3970211.1837428\ttotal: 1.71s\tremaining: 981ms\n",
      "636:\tlearn: 3968145.5879013\ttotal: 1.72s\tremaining: 979ms\n",
      "637:\tlearn: 3966893.6793614\ttotal: 1.72s\tremaining: 976ms\n",
      "638:\tlearn: 3965502.2777817\ttotal: 1.72s\tremaining: 973ms\n",
      "639:\tlearn: 3964949.2822477\ttotal: 1.72s\tremaining: 970ms\n",
      "640:\tlearn: 3963303.3837550\ttotal: 1.73s\tremaining: 967ms\n",
      "641:\tlearn: 3962147.8603490\ttotal: 1.73s\tremaining: 964ms\n",
      "642:\tlearn: 3960173.7099918\ttotal: 1.73s\tremaining: 961ms\n",
      "643:\tlearn: 3959601.9838000\ttotal: 1.73s\tremaining: 958ms\n",
      "644:\tlearn: 3957668.4083851\ttotal: 1.74s\tremaining: 956ms\n",
      "645:\tlearn: 3956469.2322750\ttotal: 1.74s\tremaining: 953ms\n",
      "646:\tlearn: 3954948.7587508\ttotal: 1.74s\tremaining: 950ms\n",
      "647:\tlearn: 3952820.1911762\ttotal: 1.74s\tremaining: 947ms\n",
      "648:\tlearn: 3950385.0975866\ttotal: 1.75s\tremaining: 945ms\n",
      "649:\tlearn: 3949150.6962971\ttotal: 1.75s\tremaining: 942ms\n",
      "650:\tlearn: 3947422.0271087\ttotal: 1.75s\tremaining: 939ms\n",
      "651:\tlearn: 3945945.8155528\ttotal: 1.75s\tremaining: 936ms\n",
      "652:\tlearn: 3943559.0335829\ttotal: 1.76s\tremaining: 933ms\n",
      "653:\tlearn: 3942271.1560481\ttotal: 1.76s\tremaining: 931ms\n",
      "654:\tlearn: 3939357.7677868\ttotal: 1.76s\tremaining: 928ms\n",
      "655:\tlearn: 3936878.8080515\ttotal: 1.76s\tremaining: 925ms\n",
      "656:\tlearn: 3935521.9542775\ttotal: 1.77s\tremaining: 922ms\n",
      "657:\tlearn: 3933271.8050331\ttotal: 1.77s\tremaining: 919ms\n",
      "658:\tlearn: 3931175.6368037\ttotal: 1.77s\tremaining: 916ms\n",
      "659:\tlearn: 3929403.4191792\ttotal: 1.77s\tremaining: 914ms\n",
      "660:\tlearn: 3927614.7739127\ttotal: 1.77s\tremaining: 911ms\n",
      "661:\tlearn: 3925996.7895039\ttotal: 1.78s\tremaining: 908ms\n",
      "662:\tlearn: 3924014.3081968\ttotal: 1.78s\tremaining: 905ms\n",
      "663:\tlearn: 3921797.4758721\ttotal: 1.78s\tremaining: 902ms\n",
      "664:\tlearn: 3919376.6258850\ttotal: 1.78s\tremaining: 899ms\n",
      "665:\tlearn: 3917370.4935877\ttotal: 1.79s\tremaining: 896ms\n",
      "666:\tlearn: 3915692.5881935\ttotal: 1.79s\tremaining: 894ms\n",
      "667:\tlearn: 3913824.8420592\ttotal: 1.79s\tremaining: 891ms\n",
      "668:\tlearn: 3911576.9411174\ttotal: 1.79s\tremaining: 888ms\n",
      "669:\tlearn: 3909143.7858362\ttotal: 1.8s\tremaining: 885ms\n",
      "670:\tlearn: 3907571.6750933\ttotal: 1.8s\tremaining: 882ms\n",
      "671:\tlearn: 3905129.0095103\ttotal: 1.8s\tremaining: 879ms\n",
      "672:\tlearn: 3904047.1514744\ttotal: 1.8s\tremaining: 876ms\n",
      "673:\tlearn: 3902300.3364166\ttotal: 1.81s\tremaining: 874ms\n",
      "674:\tlearn: 3900420.8780194\ttotal: 1.81s\tremaining: 871ms\n",
      "675:\tlearn: 3898728.1260191\ttotal: 1.81s\tremaining: 868ms\n",
      "676:\tlearn: 3896870.0746011\ttotal: 1.81s\tremaining: 865ms\n",
      "677:\tlearn: 3895057.2719841\ttotal: 1.81s\tremaining: 862ms\n",
      "678:\tlearn: 3893951.5968793\ttotal: 1.82s\tremaining: 860ms\n",
      "679:\tlearn: 3891258.7516965\ttotal: 1.82s\tremaining: 857ms\n",
      "680:\tlearn: 3889079.3994741\ttotal: 1.82s\tremaining: 854ms\n",
      "681:\tlearn: 3888400.4320208\ttotal: 1.83s\tremaining: 852ms\n",
      "682:\tlearn: 3886982.9005973\ttotal: 1.83s\tremaining: 849ms\n",
      "683:\tlearn: 3884766.9232976\ttotal: 1.83s\tremaining: 846ms\n",
      "684:\tlearn: 3884015.0729157\ttotal: 1.83s\tremaining: 843ms\n",
      "685:\tlearn: 3882078.7418768\ttotal: 1.83s\tremaining: 840ms\n",
      "686:\tlearn: 3880358.6487228\ttotal: 1.84s\tremaining: 838ms\n",
      "687:\tlearn: 3879644.6897305\ttotal: 1.84s\tremaining: 835ms\n",
      "688:\tlearn: 3877198.7914010\ttotal: 1.84s\tremaining: 833ms\n",
      "689:\tlearn: 3875796.3776217\ttotal: 1.85s\tremaining: 830ms\n",
      "690:\tlearn: 3875517.1672165\ttotal: 1.85s\tremaining: 827ms\n",
      "691:\tlearn: 3874436.6208608\ttotal: 1.85s\tremaining: 825ms\n",
      "692:\tlearn: 3873335.7234014\ttotal: 1.86s\tremaining: 823ms\n",
      "693:\tlearn: 3871899.0647494\ttotal: 1.86s\tremaining: 820ms\n",
      "694:\tlearn: 3868782.3973966\ttotal: 1.86s\tremaining: 818ms\n",
      "695:\tlearn: 3865306.6082386\ttotal: 1.87s\tremaining: 815ms\n",
      "696:\tlearn: 3863843.0323579\ttotal: 1.87s\tremaining: 813ms\n",
      "697:\tlearn: 3860628.8866275\ttotal: 1.87s\tremaining: 810ms\n",
      "698:\tlearn: 3858570.8337296\ttotal: 1.87s\tremaining: 807ms\n",
      "699:\tlearn: 3856677.1714633\ttotal: 1.88s\tremaining: 805ms\n",
      "700:\tlearn: 3854586.8076823\ttotal: 1.88s\tremaining: 802ms\n",
      "701:\tlearn: 3853105.2084448\ttotal: 1.88s\tremaining: 799ms\n",
      "702:\tlearn: 3851710.6376237\ttotal: 1.88s\tremaining: 796ms\n",
      "703:\tlearn: 3849403.8122202\ttotal: 1.89s\tremaining: 794ms\n",
      "704:\tlearn: 3847685.5856628\ttotal: 1.89s\tremaining: 791ms\n",
      "705:\tlearn: 3845981.3486885\ttotal: 1.89s\tremaining: 789ms\n",
      "706:\tlearn: 3843115.8966691\ttotal: 1.9s\tremaining: 786ms\n",
      "707:\tlearn: 3841802.8437956\ttotal: 1.9s\tremaining: 783ms\n",
      "708:\tlearn: 3838968.7179233\ttotal: 1.9s\tremaining: 780ms\n",
      "709:\tlearn: 3837702.9566966\ttotal: 1.9s\tremaining: 778ms\n",
      "710:\tlearn: 3835382.5252260\ttotal: 1.91s\tremaining: 775ms\n",
      "711:\tlearn: 3834045.8356901\ttotal: 1.91s\tremaining: 773ms\n",
      "712:\tlearn: 3831908.9003964\ttotal: 1.91s\tremaining: 770ms\n",
      "713:\tlearn: 3830781.4840251\ttotal: 1.92s\tremaining: 767ms\n",
      "714:\tlearn: 3828825.2729857\ttotal: 1.92s\tremaining: 765ms\n",
      "715:\tlearn: 3827985.7259595\ttotal: 1.92s\tremaining: 762ms\n",
      "716:\tlearn: 3826529.8753409\ttotal: 1.92s\tremaining: 759ms\n",
      "717:\tlearn: 3823332.6594984\ttotal: 1.93s\tremaining: 757ms\n",
      "718:\tlearn: 3821212.0483908\ttotal: 1.93s\tremaining: 754ms\n",
      "719:\tlearn: 3820427.0248695\ttotal: 1.93s\tremaining: 751ms\n",
      "720:\tlearn: 3819324.3176947\ttotal: 1.93s\tremaining: 749ms\n",
      "721:\tlearn: 3818723.2703506\ttotal: 1.94s\tremaining: 746ms\n",
      "722:\tlearn: 3816380.5823623\ttotal: 1.94s\tremaining: 743ms\n",
      "723:\tlearn: 3815384.6834723\ttotal: 1.94s\tremaining: 740ms\n",
      "724:\tlearn: 3815036.8989185\ttotal: 1.94s\tremaining: 738ms\n",
      "725:\tlearn: 3813166.0486783\ttotal: 1.95s\tremaining: 735ms\n",
      "726:\tlearn: 3811989.1015307\ttotal: 1.95s\tremaining: 732ms\n",
      "727:\tlearn: 3810912.9066228\ttotal: 1.95s\tremaining: 730ms\n",
      "728:\tlearn: 3809568.2298191\ttotal: 1.96s\tremaining: 727ms\n",
      "729:\tlearn: 3808014.7424286\ttotal: 1.96s\tremaining: 724ms\n",
      "730:\tlearn: 3806062.4685969\ttotal: 1.96s\tremaining: 722ms\n",
      "731:\tlearn: 3804641.3691728\ttotal: 1.96s\tremaining: 719ms\n",
      "732:\tlearn: 3803042.0634293\ttotal: 1.97s\tremaining: 717ms\n",
      "733:\tlearn: 3802875.9868181\ttotal: 1.97s\tremaining: 714ms\n",
      "734:\tlearn: 3800154.0431971\ttotal: 1.97s\tremaining: 711ms\n",
      "735:\tlearn: 3798086.8451882\ttotal: 1.97s\tremaining: 708ms\n",
      "736:\tlearn: 3796279.8898520\ttotal: 1.98s\tremaining: 705ms\n",
      "737:\tlearn: 3794426.0315295\ttotal: 1.98s\tremaining: 703ms\n",
      "738:\tlearn: 3792460.7813741\ttotal: 1.98s\tremaining: 700ms\n",
      "739:\tlearn: 3790077.9909488\ttotal: 1.98s\tremaining: 697ms\n",
      "740:\tlearn: 3788412.9696057\ttotal: 1.99s\tremaining: 694ms\n",
      "741:\tlearn: 3786800.0098959\ttotal: 1.99s\tremaining: 692ms\n",
      "742:\tlearn: 3784597.4491936\ttotal: 1.99s\tremaining: 689ms\n",
      "743:\tlearn: 3783663.4692912\ttotal: 1.99s\tremaining: 686ms\n",
      "744:\tlearn: 3782701.1676856\ttotal: 2s\tremaining: 684ms\n",
      "745:\tlearn: 3782442.4094188\ttotal: 2s\tremaining: 681ms\n",
      "746:\tlearn: 3779952.5400007\ttotal: 2s\tremaining: 678ms\n",
      "747:\tlearn: 3777704.6119430\ttotal: 2s\tremaining: 675ms\n",
      "748:\tlearn: 3775955.3521851\ttotal: 2.01s\tremaining: 673ms\n",
      "749:\tlearn: 3773791.7462776\ttotal: 2.01s\tremaining: 670ms\n",
      "750:\tlearn: 3771835.7129273\ttotal: 2.01s\tremaining: 667ms\n",
      "751:\tlearn: 3769417.4777915\ttotal: 2.02s\tremaining: 665ms\n",
      "752:\tlearn: 3767625.4458405\ttotal: 2.02s\tremaining: 662ms\n",
      "753:\tlearn: 3765293.6751572\ttotal: 2.02s\tremaining: 659ms\n",
      "754:\tlearn: 3764085.3823365\ttotal: 2.02s\tremaining: 657ms\n",
      "755:\tlearn: 3762785.4342131\ttotal: 2.03s\tremaining: 654ms\n",
      "756:\tlearn: 3760817.0779331\ttotal: 2.03s\tremaining: 651ms\n",
      "757:\tlearn: 3757831.7687599\ttotal: 2.03s\tremaining: 649ms\n",
      "758:\tlearn: 3755850.1193812\ttotal: 2.04s\tremaining: 646ms\n",
      "759:\tlearn: 3754108.0880924\ttotal: 2.04s\tremaining: 643ms\n",
      "760:\tlearn: 3751860.9310019\ttotal: 2.04s\tremaining: 641ms\n",
      "761:\tlearn: 3750246.4814751\ttotal: 2.04s\tremaining: 638ms\n",
      "762:\tlearn: 3748422.5320722\ttotal: 2.04s\tremaining: 635ms\n",
      "763:\tlearn: 3746207.0957017\ttotal: 2.05s\tremaining: 633ms\n",
      "764:\tlearn: 3744343.5648051\ttotal: 2.05s\tremaining: 630ms\n",
      "765:\tlearn: 3742746.1449158\ttotal: 2.05s\tremaining: 627ms\n",
      "766:\tlearn: 3740236.0822767\ttotal: 2.06s\tremaining: 625ms\n",
      "767:\tlearn: 3737926.9419688\ttotal: 2.06s\tremaining: 622ms\n",
      "768:\tlearn: 3735778.0737855\ttotal: 2.06s\tremaining: 619ms\n",
      "769:\tlearn: 3734770.4551215\ttotal: 2.06s\tremaining: 617ms\n",
      "770:\tlearn: 3733096.8575090\ttotal: 2.07s\tremaining: 614ms\n",
      "771:\tlearn: 3731621.1688723\ttotal: 2.07s\tremaining: 611ms\n",
      "772:\tlearn: 3729581.6816367\ttotal: 2.07s\tremaining: 608ms\n",
      "773:\tlearn: 3727248.1919013\ttotal: 2.07s\tremaining: 606ms\n",
      "774:\tlearn: 3726256.8789180\ttotal: 2.08s\tremaining: 603ms\n",
      "775:\tlearn: 3724527.2045126\ttotal: 2.08s\tremaining: 600ms\n",
      "776:\tlearn: 3722980.7627846\ttotal: 2.08s\tremaining: 598ms\n",
      "777:\tlearn: 3720829.7252731\ttotal: 2.08s\tremaining: 595ms\n",
      "778:\tlearn: 3719909.8474523\ttotal: 2.09s\tremaining: 592ms\n",
      "779:\tlearn: 3717119.4444196\ttotal: 2.09s\tremaining: 589ms\n",
      "780:\tlearn: 3715606.2695819\ttotal: 2.09s\tremaining: 587ms\n",
      "781:\tlearn: 3713996.4674704\ttotal: 2.09s\tremaining: 584ms\n",
      "782:\tlearn: 3712886.9021521\ttotal: 2.1s\tremaining: 581ms\n",
      "783:\tlearn: 3711246.2391760\ttotal: 2.1s\tremaining: 578ms\n",
      "784:\tlearn: 3709998.0101393\ttotal: 2.1s\tremaining: 576ms\n",
      "785:\tlearn: 3708235.8737924\ttotal: 2.1s\tremaining: 573ms\n",
      "786:\tlearn: 3706522.9099913\ttotal: 2.11s\tremaining: 570ms\n",
      "787:\tlearn: 3703873.1974321\ttotal: 2.11s\tremaining: 567ms\n",
      "788:\tlearn: 3702548.9397730\ttotal: 2.11s\tremaining: 565ms\n",
      "789:\tlearn: 3700396.4832582\ttotal: 2.11s\tremaining: 562ms\n",
      "790:\tlearn: 3698462.9245705\ttotal: 2.12s\tremaining: 559ms\n",
      "791:\tlearn: 3697160.1123367\ttotal: 2.12s\tremaining: 556ms\n",
      "792:\tlearn: 3696135.9032125\ttotal: 2.12s\tremaining: 554ms\n",
      "793:\tlearn: 3694744.2800897\ttotal: 2.12s\tremaining: 551ms\n",
      "794:\tlearn: 3693546.7194303\ttotal: 2.13s\tremaining: 548ms\n",
      "795:\tlearn: 3691955.5141589\ttotal: 2.13s\tremaining: 545ms\n",
      "796:\tlearn: 3690129.8414777\ttotal: 2.13s\tremaining: 543ms\n",
      "797:\tlearn: 3688876.7393942\ttotal: 2.13s\tremaining: 540ms\n",
      "798:\tlearn: 3687780.4662252\ttotal: 2.13s\tremaining: 537ms\n",
      "799:\tlearn: 3685716.0284891\ttotal: 2.14s\tremaining: 534ms\n",
      "800:\tlearn: 3684141.8384079\ttotal: 2.14s\tremaining: 532ms\n",
      "801:\tlearn: 3681512.6458678\ttotal: 2.14s\tremaining: 529ms\n",
      "802:\tlearn: 3680594.1699262\ttotal: 2.14s\tremaining: 526ms\n",
      "803:\tlearn: 3679058.3510125\ttotal: 2.15s\tremaining: 523ms\n",
      "804:\tlearn: 3677443.2255592\ttotal: 2.15s\tremaining: 521ms\n",
      "805:\tlearn: 3676384.9531359\ttotal: 2.15s\tremaining: 518ms\n",
      "806:\tlearn: 3674614.8188122\ttotal: 2.15s\tremaining: 515ms\n",
      "807:\tlearn: 3673320.4220995\ttotal: 2.15s\tremaining: 512ms\n",
      "808:\tlearn: 3671625.8351980\ttotal: 2.16s\tremaining: 509ms\n",
      "809:\tlearn: 3670691.9846279\ttotal: 2.16s\tremaining: 507ms\n",
      "810:\tlearn: 3669249.2317346\ttotal: 2.16s\tremaining: 504ms\n",
      "811:\tlearn: 3666772.7884511\ttotal: 2.17s\tremaining: 501ms\n",
      "812:\tlearn: 3664088.1602897\ttotal: 2.17s\tremaining: 499ms\n",
      "813:\tlearn: 3662578.3155725\ttotal: 2.17s\tremaining: 496ms\n",
      "814:\tlearn: 3661185.0534661\ttotal: 2.17s\tremaining: 493ms\n",
      "815:\tlearn: 3658861.3862797\ttotal: 2.17s\tremaining: 490ms\n",
      "816:\tlearn: 3656736.0048400\ttotal: 2.18s\tremaining: 488ms\n",
      "817:\tlearn: 3654882.4898982\ttotal: 2.18s\tremaining: 485ms\n",
      "818:\tlearn: 3653432.3995185\ttotal: 2.18s\tremaining: 482ms\n",
      "819:\tlearn: 3652532.2031938\ttotal: 2.18s\tremaining: 479ms\n",
      "820:\tlearn: 3650423.6372094\ttotal: 2.19s\tremaining: 477ms\n",
      "821:\tlearn: 3648714.0054525\ttotal: 2.19s\tremaining: 474ms\n",
      "822:\tlearn: 3647478.5398941\ttotal: 2.19s\tremaining: 471ms\n",
      "823:\tlearn: 3646115.3315684\ttotal: 2.19s\tremaining: 469ms\n",
      "824:\tlearn: 3645287.6871359\ttotal: 2.2s\tremaining: 466ms\n",
      "825:\tlearn: 3643050.1720936\ttotal: 2.2s\tremaining: 463ms\n",
      "826:\tlearn: 3640618.0305886\ttotal: 2.2s\tremaining: 460ms\n",
      "827:\tlearn: 3638941.4724035\ttotal: 2.2s\tremaining: 458ms\n",
      "828:\tlearn: 3637452.2715988\ttotal: 2.21s\tremaining: 455ms\n",
      "829:\tlearn: 3634867.4705443\ttotal: 2.21s\tremaining: 452ms\n",
      "830:\tlearn: 3633563.7898869\ttotal: 2.21s\tremaining: 450ms\n",
      "831:\tlearn: 3631853.2897142\ttotal: 2.21s\tremaining: 447ms\n",
      "832:\tlearn: 3630753.2409962\ttotal: 2.21s\tremaining: 444ms\n",
      "833:\tlearn: 3629190.3908216\ttotal: 2.22s\tremaining: 441ms\n",
      "834:\tlearn: 3628007.9526769\ttotal: 2.22s\tremaining: 439ms\n",
      "835:\tlearn: 3625595.3349485\ttotal: 2.22s\tremaining: 436ms\n",
      "836:\tlearn: 3623847.0901261\ttotal: 2.23s\tremaining: 433ms\n",
      "837:\tlearn: 3622725.2739625\ttotal: 2.23s\tremaining: 431ms\n",
      "838:\tlearn: 3620687.6544480\ttotal: 2.23s\tremaining: 428ms\n",
      "839:\tlearn: 3619483.0322365\ttotal: 2.23s\tremaining: 425ms\n",
      "840:\tlearn: 3618078.3158095\ttotal: 2.23s\tremaining: 423ms\n",
      "841:\tlearn: 3617059.1601515\ttotal: 2.24s\tremaining: 420ms\n",
      "842:\tlearn: 3615692.2523584\ttotal: 2.24s\tremaining: 417ms\n",
      "843:\tlearn: 3614674.2176241\ttotal: 2.24s\tremaining: 415ms\n",
      "844:\tlearn: 3612533.5627450\ttotal: 2.25s\tremaining: 412ms\n",
      "845:\tlearn: 3610853.1829052\ttotal: 2.25s\tremaining: 409ms\n",
      "846:\tlearn: 3609435.5771821\ttotal: 2.25s\tremaining: 407ms\n",
      "847:\tlearn: 3608457.1207208\ttotal: 2.25s\tremaining: 404ms\n",
      "848:\tlearn: 3605859.6247324\ttotal: 2.25s\tremaining: 401ms\n",
      "849:\tlearn: 3604710.2348276\ttotal: 2.26s\tremaining: 398ms\n",
      "850:\tlearn: 3603219.2811807\ttotal: 2.26s\tremaining: 396ms\n",
      "851:\tlearn: 3602096.6357004\ttotal: 2.26s\tremaining: 393ms\n",
      "852:\tlearn: 3600775.6034576\ttotal: 2.27s\tremaining: 390ms\n",
      "853:\tlearn: 3599386.9040361\ttotal: 2.27s\tremaining: 388ms\n",
      "854:\tlearn: 3597774.1692008\ttotal: 2.27s\tremaining: 385ms\n",
      "855:\tlearn: 3596423.7173997\ttotal: 2.27s\tremaining: 382ms\n",
      "856:\tlearn: 3594602.2139973\ttotal: 2.27s\tremaining: 380ms\n",
      "857:\tlearn: 3593654.3366092\ttotal: 2.28s\tremaining: 377ms\n",
      "858:\tlearn: 3592162.3268683\ttotal: 2.28s\tremaining: 374ms\n",
      "859:\tlearn: 3590586.2138421\ttotal: 2.28s\tremaining: 371ms\n",
      "860:\tlearn: 3589610.8129000\ttotal: 2.28s\tremaining: 369ms\n",
      "861:\tlearn: 3588157.9837461\ttotal: 2.29s\tremaining: 366ms\n",
      "862:\tlearn: 3585973.3956208\ttotal: 2.29s\tremaining: 363ms\n",
      "863:\tlearn: 3584596.5710466\ttotal: 2.29s\tremaining: 361ms\n",
      "864:\tlearn: 3583122.9057307\ttotal: 2.29s\tremaining: 358ms\n",
      "865:\tlearn: 3581352.3156484\ttotal: 2.3s\tremaining: 355ms\n",
      "866:\tlearn: 3580546.5629591\ttotal: 2.3s\tremaining: 353ms\n",
      "867:\tlearn: 3578852.5682420\ttotal: 2.3s\tremaining: 350ms\n",
      "868:\tlearn: 3577775.1057328\ttotal: 2.3s\tremaining: 347ms\n",
      "869:\tlearn: 3577184.7008307\ttotal: 2.31s\tremaining: 345ms\n",
      "870:\tlearn: 3575401.2184264\ttotal: 2.31s\tremaining: 342ms\n",
      "871:\tlearn: 3573147.6253349\ttotal: 2.31s\tremaining: 339ms\n",
      "872:\tlearn: 3571332.4788204\ttotal: 2.31s\tremaining: 337ms\n",
      "873:\tlearn: 3569203.9552992\ttotal: 2.32s\tremaining: 334ms\n",
      "874:\tlearn: 3567180.1931317\ttotal: 2.32s\tremaining: 331ms\n",
      "875:\tlearn: 3565913.2203199\ttotal: 2.32s\tremaining: 329ms\n",
      "876:\tlearn: 3564515.9609033\ttotal: 2.32s\tremaining: 326ms\n",
      "877:\tlearn: 3563208.3697368\ttotal: 2.33s\tremaining: 323ms\n",
      "878:\tlearn: 3561465.6152197\ttotal: 2.33s\tremaining: 321ms\n",
      "879:\tlearn: 3559924.5907330\ttotal: 2.33s\tremaining: 318ms\n",
      "880:\tlearn: 3558496.1226621\ttotal: 2.33s\tremaining: 315ms\n",
      "881:\tlearn: 3556952.3907200\ttotal: 2.33s\tremaining: 313ms\n",
      "882:\tlearn: 3555661.3457622\ttotal: 2.34s\tremaining: 310ms\n",
      "883:\tlearn: 3554797.9097543\ttotal: 2.34s\tremaining: 307ms\n",
      "884:\tlearn: 3553187.9829671\ttotal: 2.34s\tremaining: 304ms\n",
      "885:\tlearn: 3550901.3174591\ttotal: 2.35s\tremaining: 302ms\n",
      "886:\tlearn: 3549747.0032428\ttotal: 2.35s\tremaining: 299ms\n",
      "887:\tlearn: 3548149.1866063\ttotal: 2.35s\tremaining: 296ms\n",
      "888:\tlearn: 3547139.0398312\ttotal: 2.35s\tremaining: 294ms\n",
      "889:\tlearn: 3545883.0330651\ttotal: 2.35s\tremaining: 291ms\n",
      "890:\tlearn: 3543479.8911533\ttotal: 2.36s\tremaining: 288ms\n",
      "891:\tlearn: 3540985.2710796\ttotal: 2.36s\tremaining: 286ms\n",
      "892:\tlearn: 3539390.2349567\ttotal: 2.36s\tremaining: 283ms\n",
      "893:\tlearn: 3538386.2687140\ttotal: 2.36s\tremaining: 280ms\n",
      "894:\tlearn: 3537606.1293605\ttotal: 2.37s\tremaining: 278ms\n",
      "895:\tlearn: 3536267.3889674\ttotal: 2.37s\tremaining: 275ms\n",
      "896:\tlearn: 3535059.7886693\ttotal: 2.37s\tremaining: 272ms\n",
      "897:\tlearn: 3533746.5566434\ttotal: 2.37s\tremaining: 270ms\n",
      "898:\tlearn: 3531422.7084135\ttotal: 2.38s\tremaining: 267ms\n",
      "899:\tlearn: 3530655.4175989\ttotal: 2.38s\tremaining: 264ms\n",
      "900:\tlearn: 3529519.7995453\ttotal: 2.38s\tremaining: 262ms\n",
      "901:\tlearn: 3527830.0182706\ttotal: 2.38s\tremaining: 259ms\n",
      "902:\tlearn: 3526058.6224060\ttotal: 2.39s\tremaining: 256ms\n",
      "903:\tlearn: 3524376.7707386\ttotal: 2.39s\tremaining: 254ms\n",
      "904:\tlearn: 3523379.5221580\ttotal: 2.39s\tremaining: 251ms\n",
      "905:\tlearn: 3522860.6342032\ttotal: 2.39s\tremaining: 248ms\n",
      "906:\tlearn: 3521658.5265221\ttotal: 2.4s\tremaining: 246ms\n",
      "907:\tlearn: 3519984.4897566\ttotal: 2.4s\tremaining: 243ms\n",
      "908:\tlearn: 3518553.1987138\ttotal: 2.4s\tremaining: 240ms\n",
      "909:\tlearn: 3516722.0000672\ttotal: 2.4s\tremaining: 238ms\n",
      "910:\tlearn: 3515604.7277218\ttotal: 2.4s\tremaining: 235ms\n",
      "911:\tlearn: 3513909.8290679\ttotal: 2.41s\tremaining: 232ms\n",
      "912:\tlearn: 3511656.6682839\ttotal: 2.41s\tremaining: 230ms\n",
      "913:\tlearn: 3509600.1202447\ttotal: 2.41s\tremaining: 227ms\n",
      "914:\tlearn: 3506993.6325111\ttotal: 2.42s\tremaining: 224ms\n",
      "915:\tlearn: 3504740.8706044\ttotal: 2.42s\tremaining: 222ms\n",
      "916:\tlearn: 3502794.8526601\ttotal: 2.42s\tremaining: 219ms\n",
      "917:\tlearn: 3501050.4626267\ttotal: 2.42s\tremaining: 217ms\n",
      "918:\tlearn: 3499979.7924599\ttotal: 2.43s\tremaining: 214ms\n",
      "919:\tlearn: 3498889.0749735\ttotal: 2.43s\tremaining: 211ms\n",
      "920:\tlearn: 3496881.1689579\ttotal: 2.43s\tremaining: 209ms\n",
      "921:\tlearn: 3496348.9431268\ttotal: 2.44s\tremaining: 206ms\n",
      "922:\tlearn: 3494965.0301474\ttotal: 2.44s\tremaining: 203ms\n",
      "923:\tlearn: 3492025.2217853\ttotal: 2.44s\tremaining: 201ms\n",
      "924:\tlearn: 3490911.4729084\ttotal: 2.44s\tremaining: 198ms\n",
      "925:\tlearn: 3489923.2371142\ttotal: 2.44s\tremaining: 195ms\n",
      "926:\tlearn: 3488756.2377153\ttotal: 2.45s\tremaining: 193ms\n",
      "927:\tlearn: 3486753.4117350\ttotal: 2.45s\tremaining: 190ms\n",
      "928:\tlearn: 3485402.8490710\ttotal: 2.45s\tremaining: 187ms\n",
      "929:\tlearn: 3484393.4137495\ttotal: 2.46s\tremaining: 185ms\n",
      "930:\tlearn: 3483496.2415498\ttotal: 2.46s\tremaining: 182ms\n",
      "931:\tlearn: 3482742.9610089\ttotal: 2.46s\tremaining: 179ms\n",
      "932:\tlearn: 3481063.7115120\ttotal: 2.46s\tremaining: 177ms\n",
      "933:\tlearn: 3479685.0251989\ttotal: 2.46s\tremaining: 174ms\n",
      "934:\tlearn: 3478638.4921422\ttotal: 2.47s\tremaining: 171ms\n",
      "935:\tlearn: 3477628.8771909\ttotal: 2.47s\tremaining: 169ms\n",
      "936:\tlearn: 3476001.1891953\ttotal: 2.47s\tremaining: 166ms\n",
      "937:\tlearn: 3474536.7917807\ttotal: 2.47s\tremaining: 164ms\n",
      "938:\tlearn: 3473010.7348942\ttotal: 2.48s\tremaining: 161ms\n",
      "939:\tlearn: 3471122.4327906\ttotal: 2.48s\tremaining: 158ms\n",
      "940:\tlearn: 3469851.3707242\ttotal: 2.48s\tremaining: 156ms\n",
      "941:\tlearn: 3467866.9387047\ttotal: 2.48s\tremaining: 153ms\n",
      "942:\tlearn: 3466389.8915884\ttotal: 2.48s\tremaining: 150ms\n",
      "943:\tlearn: 3465154.6384025\ttotal: 2.49s\tremaining: 148ms\n",
      "944:\tlearn: 3464295.9051488\ttotal: 2.49s\tremaining: 145ms\n",
      "945:\tlearn: 3463067.5480599\ttotal: 2.49s\tremaining: 142ms\n",
      "946:\tlearn: 3461569.7560606\ttotal: 2.5s\tremaining: 140ms\n",
      "947:\tlearn: 3460311.2072853\ttotal: 2.5s\tremaining: 137ms\n",
      "948:\tlearn: 3458702.1573487\ttotal: 2.5s\tremaining: 134ms\n",
      "949:\tlearn: 3456792.1581504\ttotal: 2.5s\tremaining: 132ms\n",
      "950:\tlearn: 3455720.1863242\ttotal: 2.5s\tremaining: 129ms\n",
      "951:\tlearn: 3454165.5823834\ttotal: 2.51s\tremaining: 126ms\n",
      "952:\tlearn: 3453463.8521194\ttotal: 2.51s\tremaining: 124ms\n",
      "953:\tlearn: 3452199.6231089\ttotal: 2.51s\tremaining: 121ms\n",
      "954:\tlearn: 3450706.5678889\ttotal: 2.51s\tremaining: 119ms\n",
      "955:\tlearn: 3449149.1444718\ttotal: 2.52s\tremaining: 116ms\n",
      "956:\tlearn: 3447820.7117970\ttotal: 2.52s\tremaining: 113ms\n",
      "957:\tlearn: 3446045.8431731\ttotal: 2.52s\tremaining: 111ms\n",
      "958:\tlearn: 3445225.3096012\ttotal: 2.52s\tremaining: 108ms\n",
      "959:\tlearn: 3444533.7201642\ttotal: 2.53s\tremaining: 105ms\n",
      "960:\tlearn: 3443238.6922564\ttotal: 2.53s\tremaining: 103ms\n",
      "961:\tlearn: 3441848.9543073\ttotal: 2.53s\tremaining: 100ms\n",
      "962:\tlearn: 3441192.7866618\ttotal: 2.53s\tremaining: 97.3ms\n",
      "963:\tlearn: 3439923.6331490\ttotal: 2.54s\tremaining: 94.7ms\n",
      "964:\tlearn: 3438174.9242326\ttotal: 2.54s\tremaining: 92.1ms\n",
      "965:\tlearn: 3437130.3145243\ttotal: 2.54s\tremaining: 89.4ms\n",
      "966:\tlearn: 3436413.5923458\ttotal: 2.54s\tremaining: 86.8ms\n",
      "967:\tlearn: 3434252.9738479\ttotal: 2.55s\tremaining: 84.2ms\n",
      "968:\tlearn: 3432664.3316776\ttotal: 2.55s\tremaining: 81.5ms\n",
      "969:\tlearn: 3431575.3490693\ttotal: 2.55s\tremaining: 78.9ms\n",
      "970:\tlearn: 3430936.6726899\ttotal: 2.55s\tremaining: 76.3ms\n",
      "971:\tlearn: 3429810.3011679\ttotal: 2.56s\tremaining: 73.6ms\n",
      "972:\tlearn: 3428859.7031402\ttotal: 2.56s\tremaining: 71ms\n",
      "973:\tlearn: 3427518.6577386\ttotal: 2.56s\tremaining: 68.3ms\n",
      "974:\tlearn: 3426444.6757003\ttotal: 2.56s\tremaining: 65.7ms\n",
      "975:\tlearn: 3424272.5617821\ttotal: 2.56s\tremaining: 63.1ms\n",
      "976:\tlearn: 3422653.1353545\ttotal: 2.57s\tremaining: 60.5ms\n",
      "977:\tlearn: 3421951.9384327\ttotal: 2.57s\tremaining: 57.8ms\n",
      "978:\tlearn: 3420318.1797986\ttotal: 2.57s\tremaining: 55.2ms\n",
      "979:\tlearn: 3419576.4877002\ttotal: 2.58s\tremaining: 52.6ms\n",
      "980:\tlearn: 3418705.3566932\ttotal: 2.58s\tremaining: 49.9ms\n",
      "981:\tlearn: 3417516.3662906\ttotal: 2.58s\tremaining: 47.3ms\n",
      "982:\tlearn: 3415945.6861570\ttotal: 2.58s\tremaining: 44.7ms\n",
      "983:\tlearn: 3414179.2016977\ttotal: 2.58s\tremaining: 42ms\n",
      "984:\tlearn: 3412304.0338475\ttotal: 2.59s\tremaining: 39.4ms\n",
      "985:\tlearn: 3409916.6017251\ttotal: 2.59s\tremaining: 36.8ms\n",
      "986:\tlearn: 3408470.5166274\ttotal: 2.59s\tremaining: 34.1ms\n",
      "987:\tlearn: 3406598.5779766\ttotal: 2.59s\tremaining: 31.5ms\n",
      "988:\tlearn: 3405095.8327888\ttotal: 2.6s\tremaining: 28.9ms\n",
      "989:\tlearn: 3403290.3876902\ttotal: 2.6s\tremaining: 26.2ms\n",
      "990:\tlearn: 3402064.5508024\ttotal: 2.6s\tremaining: 23.6ms\n",
      "991:\tlearn: 3401167.2897654\ttotal: 2.6s\tremaining: 21ms\n",
      "992:\tlearn: 3399681.6247913\ttotal: 2.6s\tremaining: 18.4ms\n",
      "993:\tlearn: 3399102.1028723\ttotal: 2.61s\tremaining: 15.7ms\n",
      "994:\tlearn: 3396978.3568042\ttotal: 2.61s\tremaining: 13.1ms\n",
      "995:\tlearn: 3395323.8526000\ttotal: 2.61s\tremaining: 10.5ms\n",
      "996:\tlearn: 3393626.6469862\ttotal: 2.61s\tremaining: 7.87ms\n",
      "997:\tlearn: 3391835.5231819\ttotal: 2.62s\tremaining: 5.24ms\n",
      "998:\tlearn: 3391024.5791507\ttotal: 2.62s\tremaining: 2.62ms\n",
      "999:\tlearn: 3389487.5086029\ttotal: 2.62s\tremaining: 0us\n",
      "[LightGBM] [Info] Auto-choosing row-wise multi-threading, the overhead of testing was 0.000626 seconds.\n",
      "You can set `force_row_wise=true` to remove the overhead.\n",
      "And if memory is not enough, you can set `force_col_wise=true`.\n",
      "[LightGBM] [Info] Total Bins 1230\n",
      "[LightGBM] [Info] Number of data points in the train set: 10466, number of used features: 12\n",
      "[LightGBM] [Info] Start training from score 8995590.483470\n",
      "\n",
      "====== Models Before Hyper Parameter Tuning ======\n"
     ]
    },
    {
     "data": {
      "text/html": [
       "<div>\n",
       "<style scoped>\n",
       "    .dataframe tbody tr th:only-of-type {\n",
       "        vertical-align: middle;\n",
       "    }\n",
       "\n",
       "    .dataframe tbody tr th {\n",
       "        vertical-align: top;\n",
       "    }\n",
       "\n",
       "    .dataframe thead th {\n",
       "        text-align: right;\n",
       "    }\n",
       "</style>\n",
       "<table border=\"1\" class=\"dataframe\">\n",
       "  <thead>\n",
       "    <tr style=\"text-align: right;\">\n",
       "      <th></th>\n",
       "      <th>Model</th>\n",
       "      <th>MAE</th>\n",
       "      <th>MSE</th>\n",
       "      <th>RMSE</th>\n",
       "      <th>RMSLE</th>\n",
       "      <th>R2 Score</th>\n",
       "    </tr>\n",
       "  </thead>\n",
       "  <tbody>\n",
       "    <tr>\n",
       "      <th>0</th>\n",
       "      <td>Random Forest</td>\n",
       "      <td>4199426.87</td>\n",
       "      <td>68593476438936.03</td>\n",
       "      <td>8282117.87</td>\n",
       "      <td>0.65</td>\n",
       "      <td>0.75</td>\n",
       "    </tr>\n",
       "    <tr>\n",
       "      <th>1</th>\n",
       "      <td>LightGBM</td>\n",
       "      <td>3880224.80</td>\n",
       "      <td>54696393930066.98</td>\n",
       "      <td>7395701.04</td>\n",
       "      <td>0.69</td>\n",
       "      <td>0.80</td>\n",
       "    </tr>\n",
       "    <tr>\n",
       "      <th>2</th>\n",
       "      <td>XGBoost</td>\n",
       "      <td>3972273.43</td>\n",
       "      <td>54660632274491.61</td>\n",
       "      <td>7393282.92</td>\n",
       "      <td>0.72</td>\n",
       "      <td>0.80</td>\n",
       "    </tr>\n",
       "    <tr>\n",
       "      <th>3</th>\n",
       "      <td>CatBoost</td>\n",
       "      <td>3727128.77</td>\n",
       "      <td>49483329105684.12</td>\n",
       "      <td>7034438.79</td>\n",
       "      <td>0.74</td>\n",
       "      <td>0.82</td>\n",
       "    </tr>\n",
       "    <tr>\n",
       "      <th>4</th>\n",
       "      <td>Decision Tree</td>\n",
       "      <td>5600848.77</td>\n",
       "      <td>118385415166323.73</td>\n",
       "      <td>10880506.20</td>\n",
       "      <td>0.89</td>\n",
       "      <td>0.57</td>\n",
       "    </tr>\n",
       "    <tr>\n",
       "      <th>5</th>\n",
       "      <td>Linear Regression</td>\n",
       "      <td>5367047.51</td>\n",
       "      <td>89344749369249.31</td>\n",
       "      <td>9452235.15</td>\n",
       "      <td>1.01</td>\n",
       "      <td>0.67</td>\n",
       "    </tr>\n",
       "  </tbody>\n",
       "</table>\n",
       "</div>"
      ],
      "text/plain": [
       "               Model         MAE                 MSE         RMSE RMSLE  \\\n",
       "0      Random Forest  4199426.87   68593476438936.03   8282117.87  0.65   \n",
       "1           LightGBM  3880224.80   54696393930066.98   7395701.04  0.69   \n",
       "2            XGBoost  3972273.43   54660632274491.61   7393282.92  0.72   \n",
       "3           CatBoost  3727128.77   49483329105684.12   7034438.79  0.74   \n",
       "4      Decision Tree  5600848.77  118385415166323.73  10880506.20  0.89   \n",
       "5  Linear Regression  5367047.51   89344749369249.31   9452235.15  1.01   \n",
       "\n",
       "  R2 Score  \n",
       "0     0.75  \n",
       "1     0.80  \n",
       "2     0.80  \n",
       "3     0.82  \n",
       "4     0.57  \n",
       "5     0.67  "
      ]
     },
     "execution_count": 24,
     "metadata": {},
     "output_type": "execute_result"
    }
   ],
   "source": [
    "# Top 3 : Random Forest, LightGBM, CatBoost, XGBoost순으로 RMSLE 높다\n",
    "model_list(models)"
   ]
  },
  {
   "cell_type": "code",
   "execution_count": 25,
   "metadata": {},
   "outputs": [],
   "source": [
    "# 범주형 변수를 따로 Target Encoding 거치지 않은 데이터셋으로 학습한 CatBoost 확인\n",
    "def model_list2(models):\n",
    "    models_results = []\n",
    "\n",
    "    for model_name, model in models:\n",
    "\n",
    "        if model_name == \"CatBoost\":\n",
    "\n",
    "            cat_features = X_train_no_enc.select_dtypes(exclude=np.number).columns.tolist()\n",
    "\n",
    "            # 모델 생성 및 훈련\n",
    "            model.fit(X_train_no_enc, y_train, cat_features=cat_features)\n",
    "\n",
    "            # Robust Scaling 거치지 않은 train 데이터를 바탕으로 예측\n",
    "            y_train_pred_cat = model.predict(X_train_no_enc)\n",
    "            y_val_pred_cat = model.predict(X_val_no_enc)\n",
    "            y_test_pred_cat = model.predict(X_test_no_enc)\n",
    "\n",
    "            # 모델의 MAE, MSE, RMSE, RMSLE, R2 score 확인\n",
    "            meanAbErr_cat = metrics.mean_absolute_error(y_test, y_test_pred_cat)\n",
    "            meanSqErr_cat = metrics.mean_squared_error(y_test, y_test_pred_cat)\n",
    "            rootMeanSqErr_cat = metrics.mean_squared_error(y_test, y_test_pred_cat, squared=False)\n",
    "            rootMeanSqLogErr_cat = get_rmsle(y_test, y_test_pred_cat)\n",
    "\n",
    "            # 결과를 리스트에 저장\n",
    "            models_results.append({\"Model\" : model_name,\n",
    "                                    \"MAE\" : '{:.2f}'.format(meanAbErr_cat),\n",
    "                                    \"MSE\" : '{:.2f}'.format(meanSqErr_cat),\n",
    "                                    \"RMSE\" : '{:.2f}'.format(rootMeanSqErr_cat),\n",
    "                                    \"RMSLE\" : '{:.2f}'.format(rootMeanSqLogErr_cat),\n",
    "                                    \"R2 Score\" : '{:.2f}'.format(model.score(X_test_no_enc, y_test))})\n",
    "        \n",
    "        else:\n",
    "            \n",
    "            # 모델 생성 및 훈련\n",
    "            model.fit(X_train, y_train)\n",
    "\n",
    "            y_train_pred = model.predict(X_train)\n",
    "            y_val_pred = model.predict(X_val)\n",
    "            y_test_pred = model.predict(X_test)\n",
    "\n",
    "            # 모델의 MAE, MSE, RMSE, RMSLE, R2 score 확인\n",
    "            meanAbErr = metrics.mean_absolute_error(y_test, y_test_pred)\n",
    "            meanSqErr = metrics.mean_squared_error(y_test, y_test_pred)\n",
    "            rootMeanSqErr = metrics.mean_squared_error(y_test, y_test_pred, squared=False)\n",
    "            rootMeanSqLogErr = get_rmsle(y_test, y_test_pred)\n",
    "\n",
    "\n",
    "            # 결과를 리스트에 저장\n",
    "            models_results.append({\"Model\" : model_name,\n",
    "                                    \"MAE\" : '{:.2f}'.format(meanAbErr),\n",
    "                                    \"MSE\" : '{:.2f}'.format(meanSqErr),\n",
    "                                    \"RMSE\" : '{:.2f}'.format(rootMeanSqErr),\n",
    "                                    \"RMSLE\" : '{:.2f}'.format(rootMeanSqLogErr),\n",
    "                                    \"R2 Score\" : '{:.2f}'.format(model.score(X_test, y_test))})\n",
    "    \n",
    "    # 결과 리스트를 DataFrame으로 변환\n",
    "    models_df = pd.DataFrame(models_results)\n",
    "\n",
    "    print(f\"\\n====== Models before Hyper Parameter Tuning ======\")\n",
    "    \n",
    "    return models_df.sort_values(by=[\"RMSLE\", \"R2 Score\"], ascending=[True, False]).reset_index(drop=True)"
   ]
  },
  {
   "cell_type": "code",
   "execution_count": 26,
   "metadata": {},
   "outputs": [
    {
     "name": "stdout",
     "output_type": "stream",
     "text": [
      "Learning rate set to 0.059334\n",
      "0:\tlearn: 13930548.5583636\ttotal: 34.3ms\tremaining: 34.3s\n",
      "1:\tlearn: 13577890.4655601\ttotal: 71.6ms\tremaining: 35.7s\n",
      "2:\tlearn: 13222271.2793252\ttotal: 111ms\tremaining: 37s\n",
      "3:\tlearn: 12899943.7729440\ttotal: 148ms\tremaining: 36.8s\n",
      "4:\tlearn: 12623886.1740279\ttotal: 185ms\tremaining: 36.9s\n",
      "5:\tlearn: 12340601.2050759\ttotal: 220ms\tremaining: 36.5s\n",
      "6:\tlearn: 12095714.7281121\ttotal: 253ms\tremaining: 35.8s\n",
      "7:\tlearn: 11858503.2699037\ttotal: 282ms\tremaining: 34.9s\n",
      "8:\tlearn: 11636685.6397711\ttotal: 312ms\tremaining: 34.4s\n",
      "9:\tlearn: 11439067.5152900\ttotal: 346ms\tremaining: 34.3s\n",
      "10:\tlearn: 11240777.4448081\ttotal: 377ms\tremaining: 33.9s\n",
      "11:\tlearn: 11059435.8285289\ttotal: 407ms\tremaining: 33.5s\n",
      "12:\tlearn: 10898438.6546236\ttotal: 437ms\tremaining: 33.2s\n",
      "13:\tlearn: 10741650.7373015\ttotal: 469ms\tremaining: 33s\n",
      "14:\tlearn: 10582372.9299953\ttotal: 498ms\tremaining: 32.7s\n",
      "15:\tlearn: 10423272.4012737\ttotal: 528ms\tremaining: 32.5s\n",
      "16:\tlearn: 10286684.8161792\ttotal: 558ms\tremaining: 32.3s\n",
      "17:\tlearn: 10174710.2297151\ttotal: 591ms\tremaining: 32.2s\n",
      "18:\tlearn: 10051220.9434261\ttotal: 625ms\tremaining: 32.3s\n",
      "19:\tlearn: 9923060.2529165\ttotal: 672ms\tremaining: 32.9s\n",
      "20:\tlearn: 9839310.6185314\ttotal: 717ms\tremaining: 33.4s\n",
      "21:\tlearn: 9740817.0829767\ttotal: 747ms\tremaining: 33.2s\n",
      "22:\tlearn: 9639351.5947375\ttotal: 780ms\tremaining: 33.1s\n",
      "23:\tlearn: 9544392.9996252\ttotal: 813ms\tremaining: 33.1s\n",
      "24:\tlearn: 9461774.3861881\ttotal: 847ms\tremaining: 33s\n",
      "25:\tlearn: 9369136.8885538\ttotal: 877ms\tremaining: 32.8s\n",
      "26:\tlearn: 9296716.9577079\ttotal: 907ms\tremaining: 32.7s\n",
      "27:\tlearn: 9223274.3386358\ttotal: 952ms\tremaining: 33s\n",
      "28:\tlearn: 9165536.7334720\ttotal: 983ms\tremaining: 32.9s\n",
      "29:\tlearn: 9108278.5313218\ttotal: 1.01s\tremaining: 32.7s\n",
      "30:\tlearn: 9050973.6867830\ttotal: 1.04s\tremaining: 32.5s\n",
      "31:\tlearn: 8997616.9147895\ttotal: 1.07s\tremaining: 32.5s\n",
      "32:\tlearn: 8943937.5753531\ttotal: 1.1s\tremaining: 32.3s\n",
      "33:\tlearn: 8899102.4631451\ttotal: 1.13s\tremaining: 32.2s\n",
      "34:\tlearn: 8868089.4737396\ttotal: 1.16s\tremaining: 32s\n",
      "35:\tlearn: 8830728.0046710\ttotal: 1.19s\tremaining: 32s\n",
      "36:\tlearn: 8789767.1052179\ttotal: 1.23s\tremaining: 31.9s\n",
      "37:\tlearn: 8752856.4930943\ttotal: 1.25s\tremaining: 31.8s\n",
      "38:\tlearn: 8715863.9104373\ttotal: 1.29s\tremaining: 31.7s\n",
      "39:\tlearn: 8676816.3163001\ttotal: 1.32s\tremaining: 31.6s\n",
      "40:\tlearn: 8639261.9994826\ttotal: 1.35s\tremaining: 31.6s\n",
      "41:\tlearn: 8611133.2626293\ttotal: 1.38s\tremaining: 31.5s\n",
      "42:\tlearn: 8574235.9719924\ttotal: 1.42s\tremaining: 31.5s\n",
      "43:\tlearn: 8551543.8966519\ttotal: 1.44s\tremaining: 31.4s\n",
      "44:\tlearn: 8518368.3273052\ttotal: 1.47s\tremaining: 31.3s\n",
      "45:\tlearn: 8483467.6285750\ttotal: 1.5s\tremaining: 31.2s\n",
      "46:\tlearn: 8458433.9271160\ttotal: 1.54s\tremaining: 31.2s\n",
      "47:\tlearn: 8432245.2144160\ttotal: 1.57s\tremaining: 31.1s\n",
      "48:\tlearn: 8413456.0369679\ttotal: 1.6s\tremaining: 31.1s\n",
      "49:\tlearn: 8398234.5301381\ttotal: 1.63s\tremaining: 31s\n",
      "50:\tlearn: 8381415.2627314\ttotal: 1.66s\tremaining: 31s\n",
      "51:\tlearn: 8355531.4248476\ttotal: 1.69s\tremaining: 30.8s\n",
      "52:\tlearn: 8329609.8066989\ttotal: 1.72s\tremaining: 30.7s\n",
      "53:\tlearn: 8301748.1708698\ttotal: 1.75s\tremaining: 30.7s\n",
      "54:\tlearn: 8280284.5519871\ttotal: 1.78s\tremaining: 30.6s\n",
      "55:\tlearn: 8255534.8241171\ttotal: 1.81s\tremaining: 30.6s\n",
      "56:\tlearn: 8236563.3452643\ttotal: 1.84s\tremaining: 30.5s\n",
      "57:\tlearn: 8213894.8685909\ttotal: 1.87s\tremaining: 30.4s\n",
      "58:\tlearn: 8196546.0798619\ttotal: 1.91s\tremaining: 30.4s\n",
      "59:\tlearn: 8181611.6605317\ttotal: 1.93s\tremaining: 30.3s\n",
      "60:\tlearn: 8169416.1371271\ttotal: 1.96s\tremaining: 30.2s\n",
      "61:\tlearn: 8148516.7193509\ttotal: 1.99s\tremaining: 30.2s\n",
      "62:\tlearn: 8135010.5513185\ttotal: 2.03s\tremaining: 30.1s\n",
      "63:\tlearn: 8117984.0183692\ttotal: 2.06s\tremaining: 30.1s\n",
      "64:\tlearn: 8104581.2796022\ttotal: 2.09s\tremaining: 30s\n",
      "65:\tlearn: 8092434.7480093\ttotal: 2.12s\tremaining: 30s\n",
      "66:\tlearn: 8076747.5926499\ttotal: 2.15s\tremaining: 29.9s\n",
      "67:\tlearn: 8064180.7047316\ttotal: 2.18s\tremaining: 29.8s\n",
      "68:\tlearn: 8046979.7533748\ttotal: 2.21s\tremaining: 29.8s\n",
      "69:\tlearn: 8032830.8756368\ttotal: 2.24s\tremaining: 29.7s\n",
      "70:\tlearn: 8023518.1104711\ttotal: 2.27s\tremaining: 29.7s\n",
      "71:\tlearn: 8008882.2168846\ttotal: 2.31s\tremaining: 29.8s\n",
      "72:\tlearn: 7993763.9749282\ttotal: 2.37s\tremaining: 30.1s\n",
      "73:\tlearn: 7977792.9739238\ttotal: 2.4s\tremaining: 30.1s\n",
      "74:\tlearn: 7957800.8553236\ttotal: 2.44s\tremaining: 30.1s\n",
      "75:\tlearn: 7949636.0395964\ttotal: 2.48s\tremaining: 30.1s\n",
      "76:\tlearn: 7943874.2599431\ttotal: 2.52s\tremaining: 30.2s\n",
      "77:\tlearn: 7934584.9762960\ttotal: 2.55s\tremaining: 30.2s\n",
      "78:\tlearn: 7926048.8762506\ttotal: 2.59s\tremaining: 30.2s\n",
      "79:\tlearn: 7919728.1431394\ttotal: 2.62s\tremaining: 30.1s\n",
      "80:\tlearn: 7904508.4562548\ttotal: 2.65s\tremaining: 30s\n",
      "81:\tlearn: 7892153.8443073\ttotal: 2.68s\tremaining: 30s\n",
      "82:\tlearn: 7883187.3518158\ttotal: 2.71s\tremaining: 29.9s\n",
      "83:\tlearn: 7874669.7715959\ttotal: 2.74s\tremaining: 29.9s\n",
      "84:\tlearn: 7864016.0795626\ttotal: 2.79s\tremaining: 30.1s\n",
      "85:\tlearn: 7851573.6869244\ttotal: 2.83s\tremaining: 30s\n",
      "86:\tlearn: 7846871.7059976\ttotal: 2.88s\tremaining: 30.3s\n",
      "87:\tlearn: 7843516.6877095\ttotal: 2.94s\tremaining: 30.4s\n",
      "88:\tlearn: 7829512.1560552\ttotal: 2.98s\tremaining: 30.5s\n",
      "89:\tlearn: 7823767.9183400\ttotal: 3.08s\tremaining: 31.1s\n",
      "90:\tlearn: 7823439.3150968\ttotal: 3.1s\tremaining: 31s\n",
      "91:\tlearn: 7818444.6905775\ttotal: 3.14s\tremaining: 31s\n",
      "92:\tlearn: 7804855.8461290\ttotal: 3.18s\tremaining: 31s\n",
      "93:\tlearn: 7796848.0338503\ttotal: 3.21s\tremaining: 31s\n",
      "94:\tlearn: 7787020.5274338\ttotal: 3.27s\tremaining: 31.1s\n",
      "95:\tlearn: 7770755.3086880\ttotal: 3.31s\tremaining: 31.2s\n",
      "96:\tlearn: 7765371.7908592\ttotal: 3.35s\tremaining: 31.2s\n",
      "97:\tlearn: 7751550.4324500\ttotal: 3.38s\tremaining: 31.2s\n",
      "98:\tlearn: 7751478.3083820\ttotal: 3.4s\tremaining: 31s\n",
      "99:\tlearn: 7742182.2522142\ttotal: 3.44s\tremaining: 30.9s\n",
      "100:\tlearn: 7733434.5772244\ttotal: 3.47s\tremaining: 30.9s\n",
      "101:\tlearn: 7720850.6558700\ttotal: 3.51s\tremaining: 30.9s\n",
      "102:\tlearn: 7717694.9403870\ttotal: 3.54s\tremaining: 30.8s\n",
      "103:\tlearn: 7713943.1920782\ttotal: 3.6s\tremaining: 31s\n",
      "104:\tlearn: 7700534.9301346\ttotal: 3.63s\tremaining: 31s\n",
      "105:\tlearn: 7696891.1520948\ttotal: 3.67s\tremaining: 31s\n",
      "106:\tlearn: 7690751.2487303\ttotal: 3.71s\tremaining: 31s\n",
      "107:\tlearn: 7687443.8565213\ttotal: 3.75s\tremaining: 31s\n",
      "108:\tlearn: 7674224.7365299\ttotal: 3.79s\tremaining: 31s\n",
      "109:\tlearn: 7661317.0193398\ttotal: 3.83s\tremaining: 31s\n",
      "110:\tlearn: 7655547.9301543\ttotal: 3.86s\tremaining: 30.9s\n",
      "111:\tlearn: 7649506.2233640\ttotal: 3.89s\tremaining: 30.9s\n",
      "112:\tlearn: 7647766.6391878\ttotal: 3.93s\tremaining: 30.9s\n",
      "113:\tlearn: 7638892.3602668\ttotal: 3.96s\tremaining: 30.8s\n",
      "114:\tlearn: 7627056.4520815\ttotal: 4s\tremaining: 30.8s\n",
      "115:\tlearn: 7614233.2814835\ttotal: 4.04s\tremaining: 30.8s\n",
      "116:\tlearn: 7604775.1807480\ttotal: 4.08s\tremaining: 30.8s\n",
      "117:\tlearn: 7597944.6078388\ttotal: 4.11s\tremaining: 30.8s\n",
      "118:\tlearn: 7591244.1219833\ttotal: 4.15s\tremaining: 30.8s\n",
      "119:\tlearn: 7591243.6610967\ttotal: 4.17s\tremaining: 30.6s\n",
      "120:\tlearn: 7585640.5188446\ttotal: 4.2s\tremaining: 30.5s\n",
      "121:\tlearn: 7584456.8646820\ttotal: 4.23s\tremaining: 30.4s\n",
      "122:\tlearn: 7575150.8845051\ttotal: 4.26s\tremaining: 30.4s\n",
      "123:\tlearn: 7562574.0781267\ttotal: 4.31s\tremaining: 30.4s\n",
      "124:\tlearn: 7545510.2032863\ttotal: 4.34s\tremaining: 30.4s\n",
      "125:\tlearn: 7535655.5373774\ttotal: 4.37s\tremaining: 30.3s\n",
      "126:\tlearn: 7530911.1250047\ttotal: 4.43s\tremaining: 30.5s\n",
      "127:\tlearn: 7528156.2633364\ttotal: 4.47s\tremaining: 30.4s\n",
      "128:\tlearn: 7523603.5326785\ttotal: 4.5s\tremaining: 30.4s\n",
      "129:\tlearn: 7515338.7931169\ttotal: 4.54s\tremaining: 30.4s\n",
      "130:\tlearn: 7504197.8567655\ttotal: 4.57s\tremaining: 30.3s\n",
      "131:\tlearn: 7499872.1287865\ttotal: 4.61s\tremaining: 30.3s\n",
      "132:\tlearn: 7494391.5728831\ttotal: 4.65s\tremaining: 30.3s\n",
      "133:\tlearn: 7483415.1149722\ttotal: 4.68s\tremaining: 30.3s\n",
      "134:\tlearn: 7475019.5756814\ttotal: 4.71s\tremaining: 30.2s\n",
      "135:\tlearn: 7469316.9726702\ttotal: 4.75s\tremaining: 30.2s\n",
      "136:\tlearn: 7461987.3505416\ttotal: 4.78s\tremaining: 30.1s\n",
      "137:\tlearn: 7459695.3274304\ttotal: 4.81s\tremaining: 30.1s\n",
      "138:\tlearn: 7455123.0998357\ttotal: 4.85s\tremaining: 30s\n",
      "139:\tlearn: 7437784.9307329\ttotal: 4.88s\tremaining: 30s\n",
      "140:\tlearn: 7433373.2760085\ttotal: 4.92s\tremaining: 29.9s\n",
      "141:\tlearn: 7426646.1230562\ttotal: 4.95s\tremaining: 29.9s\n",
      "142:\tlearn: 7422690.3554797\ttotal: 4.98s\tremaining: 29.8s\n",
      "143:\tlearn: 7412254.1943976\ttotal: 5.01s\tremaining: 29.8s\n",
      "144:\tlearn: 7409293.4571363\ttotal: 5.04s\tremaining: 29.8s\n",
      "145:\tlearn: 7405052.1120310\ttotal: 5.08s\tremaining: 29.7s\n",
      "146:\tlearn: 7399377.4709949\ttotal: 5.11s\tremaining: 29.7s\n",
      "147:\tlearn: 7396657.8128903\ttotal: 5.17s\tremaining: 29.7s\n",
      "148:\tlearn: 7386772.5419996\ttotal: 5.21s\tremaining: 29.8s\n",
      "149:\tlearn: 7381251.3406323\ttotal: 5.27s\tremaining: 29.8s\n",
      "150:\tlearn: 7376348.8820185\ttotal: 5.3s\tremaining: 29.8s\n",
      "151:\tlearn: 7372104.7465732\ttotal: 5.34s\tremaining: 29.8s\n",
      "152:\tlearn: 7362702.9674508\ttotal: 5.38s\tremaining: 29.8s\n",
      "153:\tlearn: 7359997.4827267\ttotal: 5.43s\tremaining: 29.8s\n",
      "154:\tlearn: 7355599.3040201\ttotal: 5.47s\tremaining: 29.8s\n",
      "155:\tlearn: 7349705.0211794\ttotal: 5.51s\tremaining: 29.8s\n",
      "156:\tlearn: 7342910.8955759\ttotal: 5.54s\tremaining: 29.8s\n",
      "157:\tlearn: 7329732.0224972\ttotal: 5.58s\tremaining: 29.7s\n",
      "158:\tlearn: 7325161.2463545\ttotal: 5.62s\tremaining: 29.7s\n",
      "159:\tlearn: 7317078.6922583\ttotal: 5.65s\tremaining: 29.7s\n",
      "160:\tlearn: 7312935.7322475\ttotal: 5.68s\tremaining: 29.6s\n",
      "161:\tlearn: 7307571.2223111\ttotal: 5.72s\tremaining: 29.6s\n",
      "162:\tlearn: 7302658.1392071\ttotal: 5.76s\tremaining: 29.6s\n",
      "163:\tlearn: 7301743.0224551\ttotal: 5.79s\tremaining: 29.5s\n",
      "164:\tlearn: 7292594.1588883\ttotal: 5.83s\tremaining: 29.5s\n",
      "165:\tlearn: 7282733.0422613\ttotal: 5.88s\tremaining: 29.5s\n",
      "166:\tlearn: 7282026.3068299\ttotal: 5.91s\tremaining: 29.5s\n",
      "167:\tlearn: 7274268.6941667\ttotal: 5.95s\tremaining: 29.5s\n",
      "168:\tlearn: 7271061.0265153\ttotal: 5.98s\tremaining: 29.4s\n",
      "169:\tlearn: 7265094.1093289\ttotal: 6.01s\tremaining: 29.4s\n",
      "170:\tlearn: 7251578.0417003\ttotal: 6.06s\tremaining: 29.4s\n",
      "171:\tlearn: 7246688.9950567\ttotal: 6.09s\tremaining: 29.3s\n",
      "172:\tlearn: 7236732.2397293\ttotal: 6.13s\tremaining: 29.3s\n",
      "173:\tlearn: 7230731.1954139\ttotal: 6.16s\tremaining: 29.3s\n",
      "174:\tlearn: 7223958.6997139\ttotal: 6.2s\tremaining: 29.2s\n",
      "175:\tlearn: 7223348.7236738\ttotal: 6.23s\tremaining: 29.2s\n",
      "176:\tlearn: 7221702.8474591\ttotal: 6.26s\tremaining: 29.1s\n",
      "177:\tlearn: 7214145.5061066\ttotal: 6.3s\tremaining: 29.1s\n",
      "178:\tlearn: 7208650.4283331\ttotal: 6.33s\tremaining: 29s\n",
      "179:\tlearn: 7202744.7358438\ttotal: 6.36s\tremaining: 29s\n",
      "180:\tlearn: 7189725.8751341\ttotal: 6.4s\tremaining: 29s\n",
      "181:\tlearn: 7185843.6003436\ttotal: 6.44s\tremaining: 28.9s\n",
      "182:\tlearn: 7181085.0102753\ttotal: 6.47s\tremaining: 28.9s\n",
      "183:\tlearn: 7175136.0822367\ttotal: 6.51s\tremaining: 28.9s\n",
      "184:\tlearn: 7172180.8011975\ttotal: 6.54s\tremaining: 28.8s\n",
      "185:\tlearn: 7162730.0992440\ttotal: 6.58s\tremaining: 28.8s\n",
      "186:\tlearn: 7159134.1121974\ttotal: 6.62s\tremaining: 28.8s\n",
      "187:\tlearn: 7149137.6636423\ttotal: 6.66s\tremaining: 28.8s\n",
      "188:\tlearn: 7148343.1007310\ttotal: 6.7s\tremaining: 28.7s\n",
      "189:\tlearn: 7147628.0302914\ttotal: 6.73s\tremaining: 28.7s\n",
      "190:\tlearn: 7142230.1872460\ttotal: 6.76s\tremaining: 28.6s\n",
      "191:\tlearn: 7137064.1434576\ttotal: 6.79s\tremaining: 28.6s\n",
      "192:\tlearn: 7123338.4936985\ttotal: 6.83s\tremaining: 28.6s\n",
      "193:\tlearn: 7119686.9788401\ttotal: 6.86s\tremaining: 28.5s\n",
      "194:\tlearn: 7115897.1969130\ttotal: 6.9s\tremaining: 28.5s\n",
      "195:\tlearn: 7109309.1899704\ttotal: 6.94s\tremaining: 28.5s\n",
      "196:\tlearn: 7101398.8189169\ttotal: 6.99s\tremaining: 28.5s\n",
      "197:\tlearn: 7096677.4160362\ttotal: 7.02s\tremaining: 28.5s\n",
      "198:\tlearn: 7088834.4572718\ttotal: 7.06s\tremaining: 28.4s\n",
      "199:\tlearn: 7087752.8220066\ttotal: 7.09s\tremaining: 28.4s\n",
      "200:\tlearn: 7087363.0002113\ttotal: 7.12s\tremaining: 28.3s\n",
      "201:\tlearn: 7083603.3385368\ttotal: 7.16s\tremaining: 28.3s\n",
      "202:\tlearn: 7077453.0671748\ttotal: 7.19s\tremaining: 28.2s\n",
      "203:\tlearn: 7074318.9118784\ttotal: 7.22s\tremaining: 28.2s\n",
      "204:\tlearn: 7072147.0152522\ttotal: 7.25s\tremaining: 28.1s\n",
      "205:\tlearn: 7067096.5400528\ttotal: 7.28s\tremaining: 28.1s\n",
      "206:\tlearn: 7062625.8173987\ttotal: 7.31s\tremaining: 28s\n",
      "207:\tlearn: 7058201.7401181\ttotal: 7.34s\tremaining: 28s\n",
      "208:\tlearn: 7054920.0996384\ttotal: 7.38s\tremaining: 27.9s\n",
      "209:\tlearn: 7046294.3989808\ttotal: 7.42s\tremaining: 27.9s\n",
      "210:\tlearn: 7037151.4984180\ttotal: 7.47s\tremaining: 27.9s\n",
      "211:\tlearn: 7036327.8483578\ttotal: 7.52s\tremaining: 27.9s\n",
      "212:\tlearn: 7031805.6274768\ttotal: 7.57s\tremaining: 28s\n",
      "213:\tlearn: 7027566.0220522\ttotal: 7.62s\tremaining: 28s\n",
      "214:\tlearn: 7022299.7922273\ttotal: 7.68s\tremaining: 28s\n",
      "215:\tlearn: 7019528.5253560\ttotal: 7.75s\tremaining: 28.1s\n",
      "216:\tlearn: 7014653.6947774\ttotal: 7.79s\tremaining: 28.1s\n",
      "217:\tlearn: 7009344.3259480\ttotal: 7.82s\tremaining: 28.1s\n",
      "218:\tlearn: 7006461.3264928\ttotal: 7.86s\tremaining: 28s\n",
      "219:\tlearn: 7005320.8378370\ttotal: 7.89s\tremaining: 28s\n",
      "220:\tlearn: 7000273.2856997\ttotal: 7.92s\tremaining: 27.9s\n",
      "221:\tlearn: 6993781.0783106\ttotal: 7.96s\tremaining: 27.9s\n",
      "222:\tlearn: 6993139.9436242\ttotal: 8s\tremaining: 27.9s\n",
      "223:\tlearn: 6986245.8771155\ttotal: 8.03s\tremaining: 27.8s\n",
      "224:\tlearn: 6984011.5416426\ttotal: 8.07s\tremaining: 27.8s\n",
      "225:\tlearn: 6979790.1630202\ttotal: 8.11s\tremaining: 27.8s\n",
      "226:\tlearn: 6979303.3830457\ttotal: 8.16s\tremaining: 27.8s\n",
      "227:\tlearn: 6974794.2609238\ttotal: 8.2s\tremaining: 27.8s\n",
      "228:\tlearn: 6973210.0914769\ttotal: 8.25s\tremaining: 27.8s\n",
      "229:\tlearn: 6969215.7026716\ttotal: 8.29s\tremaining: 27.8s\n",
      "230:\tlearn: 6966627.6960656\ttotal: 8.34s\tremaining: 27.7s\n",
      "231:\tlearn: 6966032.0633964\ttotal: 8.37s\tremaining: 27.7s\n",
      "232:\tlearn: 6964115.5077903\ttotal: 8.4s\tremaining: 27.6s\n",
      "233:\tlearn: 6961734.6901630\ttotal: 8.45s\tremaining: 27.6s\n",
      "234:\tlearn: 6959910.7576486\ttotal: 8.48s\tremaining: 27.6s\n",
      "235:\tlearn: 6957267.1891591\ttotal: 8.51s\tremaining: 27.5s\n",
      "236:\tlearn: 6953983.5986040\ttotal: 8.54s\tremaining: 27.5s\n",
      "237:\tlearn: 6946468.6233323\ttotal: 8.57s\tremaining: 27.4s\n",
      "238:\tlearn: 6943675.6420273\ttotal: 8.6s\tremaining: 27.4s\n",
      "239:\tlearn: 6941722.0638610\ttotal: 8.63s\tremaining: 27.3s\n",
      "240:\tlearn: 6934772.2272624\ttotal: 8.66s\tremaining: 27.3s\n",
      "241:\tlearn: 6932746.9342105\ttotal: 8.7s\tremaining: 27.2s\n",
      "242:\tlearn: 6924290.6175564\ttotal: 8.73s\tremaining: 27.2s\n",
      "243:\tlearn: 6921866.0184479\ttotal: 8.76s\tremaining: 27.1s\n",
      "244:\tlearn: 6919037.0870283\ttotal: 8.79s\tremaining: 27.1s\n",
      "245:\tlearn: 6913009.9952078\ttotal: 8.83s\tremaining: 27.1s\n",
      "246:\tlearn: 6907203.9560829\ttotal: 8.86s\tremaining: 27s\n",
      "247:\tlearn: 6900437.6237387\ttotal: 8.89s\tremaining: 27s\n",
      "248:\tlearn: 6897402.3348531\ttotal: 8.93s\tremaining: 26.9s\n",
      "249:\tlearn: 6889722.2762072\ttotal: 8.96s\tremaining: 26.9s\n",
      "250:\tlearn: 6884694.6118791\ttotal: 8.99s\tremaining: 26.8s\n",
      "251:\tlearn: 6884130.9098418\ttotal: 9.03s\tremaining: 26.8s\n",
      "252:\tlearn: 6883589.0563517\ttotal: 9.06s\tremaining: 26.8s\n",
      "253:\tlearn: 6876162.6660166\ttotal: 9.1s\tremaining: 26.7s\n",
      "254:\tlearn: 6866481.5207423\ttotal: 9.13s\tremaining: 26.7s\n",
      "255:\tlearn: 6864395.1166148\ttotal: 9.17s\tremaining: 26.7s\n",
      "256:\tlearn: 6856717.1574485\ttotal: 9.21s\tremaining: 26.6s\n",
      "257:\tlearn: 6855980.3524705\ttotal: 9.23s\tremaining: 26.6s\n",
      "258:\tlearn: 6855467.7799285\ttotal: 9.27s\tremaining: 26.5s\n",
      "259:\tlearn: 6847319.3971785\ttotal: 9.3s\tremaining: 26.5s\n",
      "260:\tlearn: 6844900.3117242\ttotal: 9.33s\tremaining: 26.4s\n",
      "261:\tlearn: 6841842.0727751\ttotal: 9.37s\tremaining: 26.4s\n",
      "262:\tlearn: 6839063.9079902\ttotal: 9.4s\tremaining: 26.3s\n",
      "263:\tlearn: 6838573.9503972\ttotal: 9.43s\tremaining: 26.3s\n",
      "264:\tlearn: 6836598.1588440\ttotal: 9.46s\tremaining: 26.2s\n",
      "265:\tlearn: 6831597.2611964\ttotal: 9.49s\tremaining: 26.2s\n",
      "266:\tlearn: 6823095.4161724\ttotal: 9.53s\tremaining: 26.1s\n",
      "267:\tlearn: 6814684.2783185\ttotal: 9.56s\tremaining: 26.1s\n",
      "268:\tlearn: 6805773.8269083\ttotal: 9.59s\tremaining: 26.1s\n",
      "269:\tlearn: 6797875.4772825\ttotal: 9.62s\tremaining: 26s\n",
      "270:\tlearn: 6794055.5134194\ttotal: 9.65s\tremaining: 26s\n",
      "271:\tlearn: 6792936.5098790\ttotal: 9.69s\tremaining: 25.9s\n",
      "272:\tlearn: 6790319.0684503\ttotal: 9.72s\tremaining: 25.9s\n",
      "273:\tlearn: 6786376.3682583\ttotal: 9.76s\tremaining: 25.9s\n",
      "274:\tlearn: 6784352.6941432\ttotal: 9.8s\tremaining: 25.8s\n",
      "275:\tlearn: 6775670.4072762\ttotal: 9.83s\tremaining: 25.8s\n",
      "276:\tlearn: 6774168.1584247\ttotal: 9.87s\tremaining: 25.8s\n",
      "277:\tlearn: 6771850.8364164\ttotal: 9.9s\tremaining: 25.7s\n",
      "278:\tlearn: 6769891.9169367\ttotal: 9.93s\tremaining: 25.7s\n",
      "279:\tlearn: 6769467.0155939\ttotal: 9.96s\tremaining: 25.6s\n",
      "280:\tlearn: 6769115.1818596\ttotal: 9.99s\tremaining: 25.6s\n",
      "281:\tlearn: 6759211.3833910\ttotal: 10s\tremaining: 25.5s\n",
      "282:\tlearn: 6758194.7757365\ttotal: 10.1s\tremaining: 25.5s\n",
      "283:\tlearn: 6751968.3043310\ttotal: 10.1s\tremaining: 25.4s\n",
      "284:\tlearn: 6749411.4179686\ttotal: 10.1s\tremaining: 25.4s\n",
      "285:\tlearn: 6748004.1217948\ttotal: 10.1s\tremaining: 25.3s\n",
      "286:\tlearn: 6744493.9178530\ttotal: 10.2s\tremaining: 25.3s\n",
      "287:\tlearn: 6738532.1114252\ttotal: 10.2s\tremaining: 25.2s\n",
      "288:\tlearn: 6736201.8943762\ttotal: 10.2s\tremaining: 25.2s\n",
      "289:\tlearn: 6732219.9261132\ttotal: 10.3s\tremaining: 25.1s\n",
      "290:\tlearn: 6730530.6625792\ttotal: 10.3s\tremaining: 25.1s\n",
      "291:\tlearn: 6728780.3695180\ttotal: 10.3s\tremaining: 25s\n",
      "292:\tlearn: 6725827.5465087\ttotal: 10.4s\tremaining: 25s\n",
      "293:\tlearn: 6723531.2193924\ttotal: 10.4s\tremaining: 24.9s\n",
      "294:\tlearn: 6719329.4418568\ttotal: 10.4s\tremaining: 24.9s\n",
      "295:\tlearn: 6716087.7719370\ttotal: 10.5s\tremaining: 24.9s\n",
      "296:\tlearn: 6715753.7665205\ttotal: 10.5s\tremaining: 24.8s\n",
      "297:\tlearn: 6714019.9853644\ttotal: 10.5s\tremaining: 24.8s\n",
      "298:\tlearn: 6713711.4003974\ttotal: 10.5s\tremaining: 24.7s\n",
      "299:\tlearn: 6704507.7218021\ttotal: 10.6s\tremaining: 24.7s\n",
      "300:\tlearn: 6704203.5926573\ttotal: 10.6s\tremaining: 24.6s\n",
      "301:\tlearn: 6703297.6896887\ttotal: 10.6s\tremaining: 24.6s\n",
      "302:\tlearn: 6701212.7935631\ttotal: 10.7s\tremaining: 24.5s\n",
      "303:\tlearn: 6700847.2609644\ttotal: 10.7s\tremaining: 24.5s\n",
      "304:\tlearn: 6694836.7906892\ttotal: 10.7s\tremaining: 24.5s\n",
      "305:\tlearn: 6694524.3275552\ttotal: 10.8s\tremaining: 24.4s\n",
      "306:\tlearn: 6690264.0788594\ttotal: 10.8s\tremaining: 24.4s\n",
      "307:\tlearn: 6688513.0970032\ttotal: 10.8s\tremaining: 24.3s\n",
      "308:\tlearn: 6683585.0664380\ttotal: 10.9s\tremaining: 24.3s\n",
      "309:\tlearn: 6677838.0136306\ttotal: 10.9s\tremaining: 24.2s\n",
      "310:\tlearn: 6672085.3007610\ttotal: 10.9s\tremaining: 24.2s\n",
      "311:\tlearn: 6668522.5751194\ttotal: 11s\tremaining: 24.2s\n",
      "312:\tlearn: 6666182.9294541\ttotal: 11s\tremaining: 24.1s\n",
      "313:\tlearn: 6665618.7799969\ttotal: 11s\tremaining: 24.1s\n",
      "314:\tlearn: 6654875.6865387\ttotal: 11s\tremaining: 24s\n",
      "315:\tlearn: 6649488.3532650\ttotal: 11.1s\tremaining: 24s\n",
      "316:\tlearn: 6647251.1351953\ttotal: 11.1s\tremaining: 24s\n",
      "317:\tlearn: 6640087.6268324\ttotal: 11.2s\tremaining: 23.9s\n",
      "318:\tlearn: 6637497.5655427\ttotal: 11.2s\tremaining: 23.9s\n",
      "319:\tlearn: 6635784.7211105\ttotal: 11.2s\tremaining: 23.8s\n",
      "320:\tlearn: 6632502.7503393\ttotal: 11.3s\tremaining: 23.8s\n",
      "321:\tlearn: 6629519.8450366\ttotal: 11.3s\tremaining: 23.8s\n",
      "322:\tlearn: 6618738.6095909\ttotal: 11.3s\tremaining: 23.7s\n",
      "323:\tlearn: 6616740.9319481\ttotal: 11.3s\tremaining: 23.7s\n",
      "324:\tlearn: 6607831.1137839\ttotal: 11.4s\tremaining: 23.6s\n",
      "325:\tlearn: 6603734.3386877\ttotal: 11.4s\tremaining: 23.6s\n",
      "326:\tlearn: 6601356.0658816\ttotal: 11.5s\tremaining: 23.6s\n",
      "327:\tlearn: 6594551.9671311\ttotal: 11.5s\tremaining: 23.5s\n",
      "328:\tlearn: 6590853.1903795\ttotal: 11.5s\tremaining: 23.5s\n",
      "329:\tlearn: 6584969.4560288\ttotal: 11.5s\tremaining: 23.4s\n",
      "330:\tlearn: 6579364.9815328\ttotal: 11.6s\tremaining: 23.4s\n",
      "331:\tlearn: 6574984.6210288\ttotal: 11.6s\tremaining: 23.4s\n",
      "332:\tlearn: 6569515.9465649\ttotal: 11.6s\tremaining: 23.3s\n",
      "333:\tlearn: 6566542.0678283\ttotal: 11.7s\tremaining: 23.3s\n",
      "334:\tlearn: 6566291.1589862\ttotal: 11.7s\tremaining: 23.2s\n",
      "335:\tlearn: 6562997.7515406\ttotal: 11.7s\tremaining: 23.2s\n",
      "336:\tlearn: 6557397.9710856\ttotal: 11.8s\tremaining: 23.1s\n",
      "337:\tlearn: 6556574.6707342\ttotal: 11.8s\tremaining: 23.1s\n",
      "338:\tlearn: 6552199.8971005\ttotal: 11.8s\tremaining: 23.1s\n",
      "339:\tlearn: 6550241.0401010\ttotal: 11.9s\tremaining: 23s\n",
      "340:\tlearn: 6546097.4045623\ttotal: 11.9s\tremaining: 23s\n",
      "341:\tlearn: 6539575.6275523\ttotal: 11.9s\tremaining: 22.9s\n",
      "342:\tlearn: 6535732.7443315\ttotal: 12s\tremaining: 22.9s\n",
      "343:\tlearn: 6528045.8744764\ttotal: 12s\tremaining: 22.9s\n",
      "344:\tlearn: 6527138.8630507\ttotal: 12s\tremaining: 22.9s\n",
      "345:\tlearn: 6526802.5004239\ttotal: 12.1s\tremaining: 22.8s\n",
      "346:\tlearn: 6522343.8494221\ttotal: 12.1s\tremaining: 22.8s\n",
      "347:\tlearn: 6520615.0323163\ttotal: 12.1s\tremaining: 22.8s\n",
      "348:\tlearn: 6520232.1074486\ttotal: 12.2s\tremaining: 22.7s\n",
      "349:\tlearn: 6518200.8964832\ttotal: 12.2s\tremaining: 22.7s\n",
      "350:\tlearn: 6515459.4369260\ttotal: 12.2s\tremaining: 22.6s\n",
      "351:\tlearn: 6511257.5047681\ttotal: 12.3s\tremaining: 22.6s\n",
      "352:\tlearn: 6509598.6463080\ttotal: 12.3s\tremaining: 22.5s\n",
      "353:\tlearn: 6503507.4555893\ttotal: 12.3s\tremaining: 22.5s\n",
      "354:\tlearn: 6502197.8907370\ttotal: 12.4s\tremaining: 22.4s\n",
      "355:\tlearn: 6499738.6252852\ttotal: 12.4s\tremaining: 22.4s\n",
      "356:\tlearn: 6496108.6819377\ttotal: 12.4s\tremaining: 22.4s\n",
      "357:\tlearn: 6494624.3258289\ttotal: 12.4s\tremaining: 22.3s\n",
      "358:\tlearn: 6490793.5089416\ttotal: 12.5s\tremaining: 22.3s\n",
      "359:\tlearn: 6488613.9429019\ttotal: 12.5s\tremaining: 22.2s\n",
      "360:\tlearn: 6487908.9609996\ttotal: 12.5s\tremaining: 22.2s\n",
      "361:\tlearn: 6487607.5476317\ttotal: 12.6s\tremaining: 22.1s\n",
      "362:\tlearn: 6483689.3580127\ttotal: 12.6s\tremaining: 22.1s\n",
      "363:\tlearn: 6482725.8666159\ttotal: 12.6s\tremaining: 22.1s\n",
      "364:\tlearn: 6482496.9228175\ttotal: 12.7s\tremaining: 22s\n",
      "365:\tlearn: 6476174.6003766\ttotal: 12.7s\tremaining: 22s\n",
      "366:\tlearn: 6473477.6033927\ttotal: 12.7s\tremaining: 21.9s\n",
      "367:\tlearn: 6468982.9324056\ttotal: 12.7s\tremaining: 21.9s\n",
      "368:\tlearn: 6468424.6845851\ttotal: 12.8s\tremaining: 21.9s\n",
      "369:\tlearn: 6466861.0430823\ttotal: 12.8s\tremaining: 21.8s\n",
      "370:\tlearn: 6463812.0529794\ttotal: 12.9s\tremaining: 21.8s\n",
      "371:\tlearn: 6462233.4099983\ttotal: 12.9s\tremaining: 21.8s\n",
      "372:\tlearn: 6458206.7536529\ttotal: 12.9s\tremaining: 21.7s\n",
      "373:\tlearn: 6457762.1841307\ttotal: 13s\tremaining: 21.7s\n",
      "374:\tlearn: 6453207.8079190\ttotal: 13s\tremaining: 21.7s\n",
      "375:\tlearn: 6451814.4158972\ttotal: 13s\tremaining: 21.6s\n",
      "376:\tlearn: 6445642.0838190\ttotal: 13s\tremaining: 21.6s\n",
      "377:\tlearn: 6445437.4807301\ttotal: 13.1s\tremaining: 21.5s\n",
      "378:\tlearn: 6441263.6354371\ttotal: 13.1s\tremaining: 21.5s\n",
      "379:\tlearn: 6441098.2368617\ttotal: 13.1s\tremaining: 21.4s\n",
      "380:\tlearn: 6439146.2685952\ttotal: 13.2s\tremaining: 21.4s\n",
      "381:\tlearn: 6434274.2111490\ttotal: 13.2s\tremaining: 21.3s\n",
      "382:\tlearn: 6432834.6169119\ttotal: 13.2s\tremaining: 21.3s\n",
      "383:\tlearn: 6428644.6491786\ttotal: 13.3s\tremaining: 21.3s\n",
      "384:\tlearn: 6425725.4202698\ttotal: 13.3s\tremaining: 21.3s\n",
      "385:\tlearn: 6425515.6076977\ttotal: 13.4s\tremaining: 21.3s\n",
      "386:\tlearn: 6420315.6517464\ttotal: 13.4s\tremaining: 21.2s\n",
      "387:\tlearn: 6418622.7999297\ttotal: 13.4s\tremaining: 21.2s\n",
      "388:\tlearn: 6417501.1031236\ttotal: 13.5s\tremaining: 21.2s\n",
      "389:\tlearn: 6414949.7231098\ttotal: 13.5s\tremaining: 21.2s\n",
      "390:\tlearn: 6412387.0742994\ttotal: 13.6s\tremaining: 21.1s\n",
      "391:\tlearn: 6407564.5974010\ttotal: 13.6s\tremaining: 21.1s\n",
      "392:\tlearn: 6405223.5748005\ttotal: 13.6s\tremaining: 21s\n",
      "393:\tlearn: 6405157.5405727\ttotal: 13.7s\tremaining: 21s\n",
      "394:\tlearn: 6402618.2978020\ttotal: 13.7s\tremaining: 21s\n",
      "395:\tlearn: 6399020.4719093\ttotal: 13.7s\tremaining: 20.9s\n",
      "396:\tlearn: 6396557.8502492\ttotal: 13.7s\tremaining: 20.9s\n",
      "397:\tlearn: 6396498.4339779\ttotal: 13.8s\tremaining: 20.8s\n",
      "398:\tlearn: 6391217.1945118\ttotal: 13.8s\tremaining: 20.8s\n",
      "399:\tlearn: 6387855.6424505\ttotal: 13.8s\tremaining: 20.7s\n",
      "400:\tlearn: 6383503.4713050\ttotal: 13.9s\tremaining: 20.7s\n",
      "401:\tlearn: 6380007.6010116\ttotal: 13.9s\tremaining: 20.7s\n",
      "402:\tlearn: 6377285.3774066\ttotal: 13.9s\tremaining: 20.6s\n",
      "403:\tlearn: 6371527.5873079\ttotal: 14s\tremaining: 20.6s\n",
      "404:\tlearn: 6365255.2384664\ttotal: 14s\tremaining: 20.6s\n",
      "405:\tlearn: 6365041.2848644\ttotal: 14s\tremaining: 20.5s\n",
      "406:\tlearn: 6361866.8748186\ttotal: 14.1s\tremaining: 20.5s\n",
      "407:\tlearn: 6361735.7689791\ttotal: 14.1s\tremaining: 20.4s\n",
      "408:\tlearn: 6358003.8360813\ttotal: 14.1s\tremaining: 20.4s\n",
      "409:\tlearn: 6352384.1711624\ttotal: 14.1s\tremaining: 20.4s\n",
      "410:\tlearn: 6351839.6990914\ttotal: 14.2s\tremaining: 20.3s\n",
      "411:\tlearn: 6350013.7751027\ttotal: 14.2s\tremaining: 20.3s\n",
      "412:\tlearn: 6344746.2386427\ttotal: 14.3s\tremaining: 20.3s\n",
      "413:\tlearn: 6342886.7750070\ttotal: 14.3s\tremaining: 20.3s\n",
      "414:\tlearn: 6342825.1095030\ttotal: 14.4s\tremaining: 20.2s\n",
      "415:\tlearn: 6338922.8803054\ttotal: 14.4s\tremaining: 20.2s\n",
      "416:\tlearn: 6338541.7750530\ttotal: 14.4s\tremaining: 20.2s\n",
      "417:\tlearn: 6335143.8952664\ttotal: 14.4s\tremaining: 20.1s\n",
      "418:\tlearn: 6334145.5572018\ttotal: 14.5s\tremaining: 20.1s\n",
      "419:\tlearn: 6325067.8009915\ttotal: 14.5s\tremaining: 20s\n",
      "420:\tlearn: 6324882.1131092\ttotal: 14.5s\tremaining: 20s\n",
      "421:\tlearn: 6320999.8482908\ttotal: 14.6s\tremaining: 20s\n",
      "422:\tlearn: 6317215.2554829\ttotal: 14.6s\tremaining: 19.9s\n",
      "423:\tlearn: 6314370.3807270\ttotal: 14.6s\tremaining: 19.9s\n",
      "424:\tlearn: 6313720.8997239\ttotal: 14.7s\tremaining: 19.9s\n",
      "425:\tlearn: 6312378.2656123\ttotal: 14.7s\tremaining: 19.8s\n",
      "426:\tlearn: 6312110.0484706\ttotal: 14.7s\tremaining: 19.8s\n",
      "427:\tlearn: 6306259.1165905\ttotal: 14.8s\tremaining: 19.7s\n",
      "428:\tlearn: 6303931.2672050\ttotal: 14.8s\tremaining: 19.7s\n",
      "429:\tlearn: 6301946.1505014\ttotal: 14.8s\tremaining: 19.7s\n",
      "430:\tlearn: 6299238.5805530\ttotal: 14.9s\tremaining: 19.6s\n",
      "431:\tlearn: 6296983.7530677\ttotal: 14.9s\tremaining: 19.6s\n",
      "432:\tlearn: 6296283.3867641\ttotal: 14.9s\tremaining: 19.6s\n",
      "433:\tlearn: 6293365.8934213\ttotal: 15s\tremaining: 19.5s\n",
      "434:\tlearn: 6288210.3502260\ttotal: 15s\tremaining: 19.5s\n",
      "435:\tlearn: 6282788.9976522\ttotal: 15s\tremaining: 19.4s\n",
      "436:\tlearn: 6276766.7653064\ttotal: 15.1s\tremaining: 19.4s\n",
      "437:\tlearn: 6274009.0753110\ttotal: 15.1s\tremaining: 19.4s\n",
      "438:\tlearn: 6273824.7682555\ttotal: 15.1s\tremaining: 19.3s\n",
      "439:\tlearn: 6273586.1840612\ttotal: 15.2s\tremaining: 19.3s\n",
      "440:\tlearn: 6273425.9956702\ttotal: 15.2s\tremaining: 19.3s\n",
      "441:\tlearn: 6270885.3371053\ttotal: 15.2s\tremaining: 19.2s\n",
      "442:\tlearn: 6270735.6546318\ttotal: 15.3s\tremaining: 19.2s\n",
      "443:\tlearn: 6263124.1672513\ttotal: 15.3s\tremaining: 19.2s\n",
      "444:\tlearn: 6258136.2903162\ttotal: 15.3s\tremaining: 19.1s\n",
      "445:\tlearn: 6254582.2367143\ttotal: 15.4s\tremaining: 19.1s\n",
      "446:\tlearn: 6250752.5114162\ttotal: 15.4s\tremaining: 19.1s\n",
      "447:\tlearn: 6249523.9732088\ttotal: 15.4s\tremaining: 19s\n",
      "448:\tlearn: 6245602.0972738\ttotal: 15.5s\tremaining: 19s\n",
      "449:\tlearn: 6240465.5332970\ttotal: 15.5s\tremaining: 18.9s\n",
      "450:\tlearn: 6240003.1199099\ttotal: 15.5s\tremaining: 18.9s\n",
      "451:\tlearn: 6237772.5238588\ttotal: 15.6s\tremaining: 18.9s\n",
      "452:\tlearn: 6236437.1253237\ttotal: 15.6s\tremaining: 18.8s\n",
      "453:\tlearn: 6236030.8614913\ttotal: 15.6s\tremaining: 18.8s\n",
      "454:\tlearn: 6234906.9949040\ttotal: 15.7s\tremaining: 18.8s\n",
      "455:\tlearn: 6232874.4772432\ttotal: 15.7s\tremaining: 18.7s\n",
      "456:\tlearn: 6230526.6695285\ttotal: 15.8s\tremaining: 18.7s\n",
      "457:\tlearn: 6225312.6757474\ttotal: 15.8s\tremaining: 18.7s\n",
      "458:\tlearn: 6222705.2599599\ttotal: 15.9s\tremaining: 18.7s\n",
      "459:\tlearn: 6218579.3114264\ttotal: 15.9s\tremaining: 18.7s\n",
      "460:\tlearn: 6215554.4831740\ttotal: 16s\tremaining: 18.7s\n",
      "461:\tlearn: 6212544.1549052\ttotal: 16s\tremaining: 18.6s\n",
      "462:\tlearn: 6211342.4075622\ttotal: 16s\tremaining: 18.6s\n",
      "463:\tlearn: 6208850.7324571\ttotal: 16.1s\tremaining: 18.6s\n",
      "464:\tlearn: 6208648.9240110\ttotal: 16.2s\tremaining: 18.6s\n",
      "465:\tlearn: 6206368.0621039\ttotal: 16.2s\tremaining: 18.6s\n",
      "466:\tlearn: 6201253.2962754\ttotal: 16.3s\tremaining: 18.6s\n",
      "467:\tlearn: 6198291.7522431\ttotal: 16.4s\tremaining: 18.6s\n",
      "468:\tlearn: 6197687.1221776\ttotal: 16.6s\tremaining: 18.8s\n",
      "469:\tlearn: 6194913.4665971\ttotal: 16.7s\tremaining: 18.8s\n",
      "470:\tlearn: 6191572.2693938\ttotal: 16.7s\tremaining: 18.8s\n",
      "471:\tlearn: 6190124.9715096\ttotal: 16.8s\tremaining: 18.8s\n",
      "472:\tlearn: 6189951.8639575\ttotal: 16.9s\tremaining: 18.8s\n",
      "473:\tlearn: 6187689.8289913\ttotal: 16.9s\tremaining: 18.8s\n",
      "474:\tlearn: 6177271.8671548\ttotal: 17s\tremaining: 18.8s\n",
      "475:\tlearn: 6177124.8963170\ttotal: 17.2s\tremaining: 18.9s\n",
      "476:\tlearn: 6176056.9568728\ttotal: 17.2s\tremaining: 18.9s\n",
      "477:\tlearn: 6175090.9718803\ttotal: 17.3s\tremaining: 18.8s\n",
      "478:\tlearn: 6169583.8842403\ttotal: 17.3s\tremaining: 18.8s\n",
      "479:\tlearn: 6167267.6570346\ttotal: 17.4s\tremaining: 18.8s\n",
      "480:\tlearn: 6163229.9456530\ttotal: 17.4s\tremaining: 18.8s\n",
      "481:\tlearn: 6162697.3503605\ttotal: 17.5s\tremaining: 18.8s\n",
      "482:\tlearn: 6161215.0673402\ttotal: 17.5s\tremaining: 18.8s\n",
      "483:\tlearn: 6159424.0590818\ttotal: 17.6s\tremaining: 18.7s\n",
      "484:\tlearn: 6155731.7932688\ttotal: 17.6s\tremaining: 18.7s\n",
      "485:\tlearn: 6154372.9671798\ttotal: 17.7s\tremaining: 18.7s\n",
      "486:\tlearn: 6151717.3270461\ttotal: 17.8s\tremaining: 18.7s\n",
      "487:\tlearn: 6151580.6220028\ttotal: 17.8s\tremaining: 18.7s\n",
      "488:\tlearn: 6149344.9477123\ttotal: 17.9s\tremaining: 18.7s\n",
      "489:\tlearn: 6146957.1736672\ttotal: 17.9s\tremaining: 18.7s\n",
      "490:\tlearn: 6144295.4084359\ttotal: 18s\tremaining: 18.6s\n",
      "491:\tlearn: 6142179.2793616\ttotal: 18s\tremaining: 18.6s\n",
      "492:\tlearn: 6141920.7991904\ttotal: 18s\tremaining: 18.5s\n",
      "493:\tlearn: 6140991.0961042\ttotal: 18.1s\tremaining: 18.5s\n",
      "494:\tlearn: 6139110.1784542\ttotal: 18.1s\tremaining: 18.5s\n",
      "495:\tlearn: 6138240.2999359\ttotal: 18.1s\tremaining: 18.4s\n",
      "496:\tlearn: 6135366.7193711\ttotal: 18.2s\tremaining: 18.4s\n",
      "497:\tlearn: 6132796.6659070\ttotal: 18.2s\tremaining: 18.3s\n",
      "498:\tlearn: 6130551.8282721\ttotal: 18.2s\tremaining: 18.3s\n",
      "499:\tlearn: 6129662.2921418\ttotal: 18.3s\tremaining: 18.3s\n",
      "500:\tlearn: 6124924.5734276\ttotal: 18.3s\tremaining: 18.2s\n",
      "501:\tlearn: 6123634.3213886\ttotal: 18.3s\tremaining: 18.2s\n",
      "502:\tlearn: 6111545.0681702\ttotal: 18.4s\tremaining: 18.1s\n",
      "503:\tlearn: 6109558.8113496\ttotal: 18.4s\tremaining: 18.1s\n",
      "504:\tlearn: 6107104.7500287\ttotal: 18.4s\tremaining: 18.1s\n",
      "505:\tlearn: 6096326.1876908\ttotal: 18.5s\tremaining: 18s\n",
      "506:\tlearn: 6092286.3226264\ttotal: 18.5s\tremaining: 18s\n",
      "507:\tlearn: 6088921.2744242\ttotal: 18.5s\tremaining: 17.9s\n",
      "508:\tlearn: 6081180.4559707\ttotal: 18.6s\tremaining: 17.9s\n",
      "509:\tlearn: 6075180.8985701\ttotal: 18.6s\tremaining: 17.9s\n",
      "510:\tlearn: 6074645.3418704\ttotal: 18.6s\tremaining: 17.8s\n",
      "511:\tlearn: 6069695.4867745\ttotal: 18.7s\tremaining: 17.8s\n",
      "512:\tlearn: 6065027.7375053\ttotal: 18.7s\tremaining: 17.8s\n",
      "513:\tlearn: 6062540.5197603\ttotal: 18.7s\tremaining: 17.7s\n",
      "514:\tlearn: 6056623.4545722\ttotal: 18.8s\tremaining: 17.7s\n",
      "515:\tlearn: 6053329.7729422\ttotal: 18.8s\tremaining: 17.6s\n",
      "516:\tlearn: 6051040.2881110\ttotal: 18.8s\tremaining: 17.6s\n",
      "517:\tlearn: 6046541.7038021\ttotal: 18.9s\tremaining: 17.5s\n",
      "518:\tlearn: 6045075.8713163\ttotal: 18.9s\tremaining: 17.5s\n",
      "519:\tlearn: 6043038.8009514\ttotal: 18.9s\tremaining: 17.5s\n",
      "520:\tlearn: 6039926.3610722\ttotal: 19s\tremaining: 17.4s\n",
      "521:\tlearn: 6039143.0562335\ttotal: 19s\tremaining: 17.4s\n",
      "522:\tlearn: 6038408.2439955\ttotal: 19.1s\tremaining: 17.4s\n",
      "523:\tlearn: 6034977.6211663\ttotal: 19.1s\tremaining: 17.3s\n",
      "524:\tlearn: 6030550.2811738\ttotal: 19.1s\tremaining: 17.3s\n",
      "525:\tlearn: 6029861.3683861\ttotal: 19.2s\tremaining: 17.3s\n",
      "526:\tlearn: 6028002.3776277\ttotal: 19.2s\tremaining: 17.2s\n",
      "527:\tlearn: 6026042.7251862\ttotal: 19.2s\tremaining: 17.2s\n",
      "528:\tlearn: 6020716.4423260\ttotal: 19.3s\tremaining: 17.2s\n",
      "529:\tlearn: 6017957.1801914\ttotal: 19.3s\tremaining: 17.1s\n",
      "530:\tlearn: 6015789.6649761\ttotal: 19.3s\tremaining: 17.1s\n",
      "531:\tlearn: 6012805.1775795\ttotal: 19.4s\tremaining: 17s\n",
      "532:\tlearn: 6007748.2491849\ttotal: 19.4s\tremaining: 17s\n",
      "533:\tlearn: 6004889.8518838\ttotal: 19.4s\tremaining: 17s\n",
      "534:\tlearn: 6001085.1747599\ttotal: 19.5s\tremaining: 16.9s\n",
      "535:\tlearn: 6000985.3222833\ttotal: 19.5s\tremaining: 16.9s\n",
      "536:\tlearn: 5998710.5682116\ttotal: 19.5s\tremaining: 16.8s\n",
      "537:\tlearn: 5992950.8002717\ttotal: 19.6s\tremaining: 16.8s\n",
      "538:\tlearn: 5989044.4161556\ttotal: 19.6s\tremaining: 16.8s\n",
      "539:\tlearn: 5985741.0917725\ttotal: 19.6s\tremaining: 16.7s\n",
      "540:\tlearn: 5983135.4972796\ttotal: 19.7s\tremaining: 16.7s\n",
      "541:\tlearn: 5982510.5434697\ttotal: 19.7s\tremaining: 16.6s\n",
      "542:\tlearn: 5979891.1726587\ttotal: 19.7s\tremaining: 16.6s\n",
      "543:\tlearn: 5976661.8205372\ttotal: 19.7s\tremaining: 16.6s\n",
      "544:\tlearn: 5974235.6007985\ttotal: 19.8s\tremaining: 16.5s\n",
      "545:\tlearn: 5971593.3210591\ttotal: 19.8s\tremaining: 16.5s\n",
      "546:\tlearn: 5969389.8224335\ttotal: 19.8s\tremaining: 16.4s\n",
      "547:\tlearn: 5965616.8239050\ttotal: 19.9s\tremaining: 16.4s\n",
      "548:\tlearn: 5964471.1656840\ttotal: 19.9s\tremaining: 16.4s\n",
      "549:\tlearn: 5962283.5807660\ttotal: 19.9s\tremaining: 16.3s\n",
      "550:\tlearn: 5959927.3256023\ttotal: 20s\tremaining: 16.3s\n",
      "551:\tlearn: 5956879.9665073\ttotal: 20s\tremaining: 16.2s\n",
      "552:\tlearn: 5952975.2062716\ttotal: 20s\tremaining: 16.2s\n",
      "553:\tlearn: 5950240.2125912\ttotal: 20.1s\tremaining: 16.2s\n",
      "554:\tlearn: 5947918.0005218\ttotal: 20.1s\tremaining: 16.1s\n",
      "555:\tlearn: 5947037.6523909\ttotal: 20.2s\tremaining: 16.1s\n",
      "556:\tlearn: 5944359.8099412\ttotal: 20.2s\tremaining: 16.1s\n",
      "557:\tlearn: 5939578.5618036\ttotal: 20.2s\tremaining: 16s\n",
      "558:\tlearn: 5936312.4137263\ttotal: 20.3s\tremaining: 16s\n",
      "559:\tlearn: 5933267.1517875\ttotal: 20.3s\tremaining: 16s\n",
      "560:\tlearn: 5932427.8293606\ttotal: 20.3s\tremaining: 15.9s\n",
      "561:\tlearn: 5928927.1770060\ttotal: 20.4s\tremaining: 15.9s\n",
      "562:\tlearn: 5925864.3260651\ttotal: 20.4s\tremaining: 15.9s\n",
      "563:\tlearn: 5924222.7714698\ttotal: 20.5s\tremaining: 15.8s\n",
      "564:\tlearn: 5917625.2808429\ttotal: 20.5s\tremaining: 15.8s\n",
      "565:\tlearn: 5910095.0955645\ttotal: 20.5s\tremaining: 15.7s\n",
      "566:\tlearn: 5909287.6224421\ttotal: 20.6s\tremaining: 15.7s\n",
      "567:\tlearn: 5908275.7822202\ttotal: 20.6s\tremaining: 15.7s\n",
      "568:\tlearn: 5906648.7102539\ttotal: 20.6s\tremaining: 15.6s\n",
      "569:\tlearn: 5896897.1761368\ttotal: 20.7s\tremaining: 15.6s\n",
      "570:\tlearn: 5894824.4249399\ttotal: 20.7s\tremaining: 15.6s\n",
      "571:\tlearn: 5892895.6200293\ttotal: 20.8s\tremaining: 15.5s\n",
      "572:\tlearn: 5892651.3293678\ttotal: 20.8s\tremaining: 15.5s\n",
      "573:\tlearn: 5888706.5798788\ttotal: 20.8s\tremaining: 15.5s\n",
      "574:\tlearn: 5885578.4718697\ttotal: 20.9s\tremaining: 15.4s\n",
      "575:\tlearn: 5884968.3302434\ttotal: 20.9s\tremaining: 15.4s\n",
      "576:\tlearn: 5880871.0579984\ttotal: 20.9s\tremaining: 15.3s\n",
      "577:\tlearn: 5874877.9122332\ttotal: 21s\tremaining: 15.3s\n",
      "578:\tlearn: 5868075.5641760\ttotal: 21s\tremaining: 15.3s\n",
      "579:\tlearn: 5866720.5760434\ttotal: 21s\tremaining: 15.2s\n",
      "580:\tlearn: 5865964.8617611\ttotal: 21.1s\tremaining: 15.2s\n",
      "581:\tlearn: 5862467.0615911\ttotal: 21.1s\tremaining: 15.1s\n",
      "582:\tlearn: 5862213.5231289\ttotal: 21.1s\tremaining: 15.1s\n",
      "583:\tlearn: 5859876.8485740\ttotal: 21.2s\tremaining: 15.1s\n",
      "584:\tlearn: 5856997.5654171\ttotal: 21.2s\tremaining: 15.1s\n",
      "585:\tlearn: 5854236.9658188\ttotal: 21.3s\tremaining: 15s\n",
      "586:\tlearn: 5851241.9490524\ttotal: 21.3s\tremaining: 15s\n",
      "587:\tlearn: 5849436.6262800\ttotal: 21.4s\tremaining: 15s\n",
      "588:\tlearn: 5847141.7238998\ttotal: 21.4s\tremaining: 15s\n",
      "589:\tlearn: 5843527.4308191\ttotal: 21.5s\tremaining: 14.9s\n",
      "590:\tlearn: 5842822.2387278\ttotal: 21.5s\tremaining: 14.9s\n",
      "591:\tlearn: 5842393.6248934\ttotal: 21.6s\tremaining: 14.9s\n",
      "592:\tlearn: 5839277.2302318\ttotal: 21.6s\tremaining: 14.8s\n",
      "593:\tlearn: 5837603.1700559\ttotal: 21.6s\tremaining: 14.8s\n",
      "594:\tlearn: 5837442.8325507\ttotal: 21.7s\tremaining: 14.8s\n",
      "595:\tlearn: 5836504.3384624\ttotal: 21.7s\tremaining: 14.7s\n",
      "596:\tlearn: 5836081.3377935\ttotal: 21.7s\tremaining: 14.7s\n",
      "597:\tlearn: 5834045.3916482\ttotal: 21.8s\tremaining: 14.7s\n",
      "598:\tlearn: 5831272.1641240\ttotal: 21.9s\tremaining: 14.7s\n",
      "599:\tlearn: 5828821.9539480\ttotal: 22s\tremaining: 14.7s\n",
      "600:\tlearn: 5826784.7358605\ttotal: 22s\tremaining: 14.6s\n",
      "601:\tlearn: 5826404.8837486\ttotal: 22.2s\tremaining: 14.6s\n",
      "602:\tlearn: 5824337.4103201\ttotal: 22.2s\tremaining: 14.6s\n",
      "603:\tlearn: 5822278.9588597\ttotal: 22.3s\tremaining: 14.6s\n",
      "604:\tlearn: 5821954.6150413\ttotal: 22.3s\tremaining: 14.6s\n",
      "605:\tlearn: 5821808.3020815\ttotal: 22.3s\tremaining: 14.5s\n",
      "606:\tlearn: 5821585.3836915\ttotal: 22.4s\tremaining: 14.5s\n",
      "607:\tlearn: 5820401.4438206\ttotal: 22.4s\tremaining: 14.5s\n",
      "608:\tlearn: 5818111.4414214\ttotal: 22.5s\tremaining: 14.4s\n",
      "609:\tlearn: 5814289.5626177\ttotal: 22.5s\tremaining: 14.4s\n",
      "610:\tlearn: 5808983.6314921\ttotal: 22.6s\tremaining: 14.4s\n",
      "611:\tlearn: 5806635.1360782\ttotal: 22.6s\tremaining: 14.3s\n",
      "612:\tlearn: 5804201.6728685\ttotal: 22.7s\tremaining: 14.3s\n",
      "613:\tlearn: 5802288.7647316\ttotal: 22.7s\tremaining: 14.3s\n",
      "614:\tlearn: 5802182.4004896\ttotal: 22.7s\tremaining: 14.2s\n",
      "615:\tlearn: 5798913.2019238\ttotal: 22.8s\tremaining: 14.2s\n",
      "616:\tlearn: 5798561.7168841\ttotal: 22.8s\tremaining: 14.2s\n",
      "617:\tlearn: 5794946.6915085\ttotal: 22.8s\tremaining: 14.1s\n",
      "618:\tlearn: 5790870.9603862\ttotal: 22.9s\tremaining: 14.1s\n",
      "619:\tlearn: 5788976.7533472\ttotal: 22.9s\tremaining: 14s\n",
      "620:\tlearn: 5787712.7294689\ttotal: 23s\tremaining: 14s\n",
      "621:\tlearn: 5786474.3679931\ttotal: 23s\tremaining: 14s\n",
      "622:\tlearn: 5783597.0916962\ttotal: 23s\tremaining: 13.9s\n",
      "623:\tlearn: 5780446.8495612\ttotal: 23.1s\tremaining: 13.9s\n",
      "624:\tlearn: 5778794.6548266\ttotal: 23.1s\tremaining: 13.9s\n",
      "625:\tlearn: 5775434.0050748\ttotal: 23.2s\tremaining: 13.8s\n",
      "626:\tlearn: 5773490.4592360\ttotal: 23.2s\tremaining: 13.8s\n",
      "627:\tlearn: 5773076.1301314\ttotal: 23.2s\tremaining: 13.8s\n",
      "628:\tlearn: 5766758.0475592\ttotal: 23.3s\tremaining: 13.7s\n",
      "629:\tlearn: 5765911.5740849\ttotal: 23.3s\tremaining: 13.7s\n",
      "630:\tlearn: 5762505.7958150\ttotal: 23.3s\tremaining: 13.6s\n",
      "631:\tlearn: 5760524.1875280\ttotal: 23.4s\tremaining: 13.6s\n",
      "632:\tlearn: 5758728.4378581\ttotal: 23.4s\tremaining: 13.6s\n",
      "633:\tlearn: 5756197.8602652\ttotal: 23.5s\tremaining: 13.6s\n",
      "634:\tlearn: 5755683.3207974\ttotal: 23.6s\tremaining: 13.5s\n",
      "635:\tlearn: 5753365.6784180\ttotal: 23.6s\tremaining: 13.5s\n",
      "636:\tlearn: 5752982.5093274\ttotal: 23.7s\tremaining: 13.5s\n",
      "637:\tlearn: 5751797.8560734\ttotal: 23.8s\tremaining: 13.5s\n",
      "638:\tlearn: 5749270.1978038\ttotal: 23.9s\tremaining: 13.5s\n",
      "639:\tlearn: 5747667.3108899\ttotal: 24s\tremaining: 13.5s\n",
      "640:\tlearn: 5746287.3419234\ttotal: 24s\tremaining: 13.4s\n",
      "641:\tlearn: 5744495.9468316\ttotal: 24s\tremaining: 13.4s\n",
      "642:\tlearn: 5742633.3742471\ttotal: 24.1s\tremaining: 13.4s\n",
      "643:\tlearn: 5741713.2114695\ttotal: 24.1s\tremaining: 13.3s\n",
      "644:\tlearn: 5740680.6703704\ttotal: 24.2s\tremaining: 13.3s\n",
      "645:\tlearn: 5735805.1303707\ttotal: 24.2s\tremaining: 13.3s\n",
      "646:\tlearn: 5734372.0166253\ttotal: 24.2s\tremaining: 13.2s\n",
      "647:\tlearn: 5733903.4075106\ttotal: 24.3s\tremaining: 13.2s\n",
      "648:\tlearn: 5732198.4246835\ttotal: 24.4s\tremaining: 13.2s\n",
      "649:\tlearn: 5731231.0561079\ttotal: 24.4s\tremaining: 13.1s\n",
      "650:\tlearn: 5729446.6345379\ttotal: 24.5s\tremaining: 13.1s\n",
      "651:\tlearn: 5728046.4235412\ttotal: 24.5s\tremaining: 13.1s\n",
      "652:\tlearn: 5726718.3203991\ttotal: 24.5s\tremaining: 13s\n",
      "653:\tlearn: 5724938.2691296\ttotal: 24.6s\tremaining: 13s\n",
      "654:\tlearn: 5723969.1116163\ttotal: 24.7s\tremaining: 13s\n",
      "655:\tlearn: 5723638.2219551\ttotal: 24.7s\tremaining: 13s\n",
      "656:\tlearn: 5721748.6409243\ttotal: 24.8s\tremaining: 12.9s\n",
      "657:\tlearn: 5719469.1210917\ttotal: 24.8s\tremaining: 12.9s\n",
      "658:\tlearn: 5717446.6550833\ttotal: 24.9s\tremaining: 12.9s\n",
      "659:\tlearn: 5715397.1528006\ttotal: 24.9s\tremaining: 12.8s\n",
      "660:\tlearn: 5715305.3231676\ttotal: 24.9s\tremaining: 12.8s\n",
      "661:\tlearn: 5715218.4782383\ttotal: 25s\tremaining: 12.7s\n",
      "662:\tlearn: 5711559.2900679\ttotal: 25s\tremaining: 12.7s\n",
      "663:\tlearn: 5709910.6743540\ttotal: 25s\tremaining: 12.7s\n",
      "664:\tlearn: 5706059.8348974\ttotal: 25.1s\tremaining: 12.6s\n",
      "665:\tlearn: 5705972.5073032\ttotal: 25.1s\tremaining: 12.6s\n",
      "666:\tlearn: 5704574.2594363\ttotal: 25.2s\tremaining: 12.6s\n",
      "667:\tlearn: 5702908.4292433\ttotal: 25.2s\tremaining: 12.5s\n",
      "668:\tlearn: 5701607.8044716\ttotal: 25.2s\tremaining: 12.5s\n",
      "669:\tlearn: 5698250.6831979\ttotal: 25.3s\tremaining: 12.5s\n",
      "670:\tlearn: 5697845.9292672\ttotal: 25.3s\tremaining: 12.4s\n",
      "671:\tlearn: 5696524.9457181\ttotal: 25.4s\tremaining: 12.4s\n",
      "672:\tlearn: 5694976.3144011\ttotal: 25.4s\tremaining: 12.3s\n",
      "673:\tlearn: 5694607.9597278\ttotal: 25.4s\tremaining: 12.3s\n",
      "674:\tlearn: 5690627.2472488\ttotal: 25.5s\tremaining: 12.3s\n",
      "675:\tlearn: 5688412.8826885\ttotal: 25.5s\tremaining: 12.2s\n",
      "676:\tlearn: 5687155.9539091\ttotal: 25.6s\tremaining: 12.2s\n",
      "677:\tlearn: 5684820.6815150\ttotal: 25.7s\tremaining: 12.2s\n",
      "678:\tlearn: 5683644.9617631\ttotal: 25.8s\tremaining: 12.2s\n",
      "679:\tlearn: 5682237.2699179\ttotal: 25.8s\tremaining: 12.2s\n",
      "680:\tlearn: 5679331.9048355\ttotal: 25.9s\tremaining: 12.1s\n",
      "681:\tlearn: 5678998.9936438\ttotal: 26s\tremaining: 12.1s\n",
      "682:\tlearn: 5678779.7952064\ttotal: 26s\tremaining: 12.1s\n",
      "683:\tlearn: 5676613.5577926\ttotal: 26s\tremaining: 12s\n",
      "684:\tlearn: 5673934.9117584\ttotal: 26.1s\tremaining: 12s\n",
      "685:\tlearn: 5672385.2727511\ttotal: 26.1s\tremaining: 11.9s\n",
      "686:\tlearn: 5670977.1115558\ttotal: 26.1s\tremaining: 11.9s\n",
      "687:\tlearn: 5667711.7371269\ttotal: 26.2s\tremaining: 11.9s\n",
      "688:\tlearn: 5665181.3219825\ttotal: 26.2s\tremaining: 11.8s\n",
      "689:\tlearn: 5664204.2571238\ttotal: 26.2s\tremaining: 11.8s\n",
      "690:\tlearn: 5664030.0221147\ttotal: 26.3s\tremaining: 11.7s\n",
      "691:\tlearn: 5660663.9035605\ttotal: 26.3s\tremaining: 11.7s\n",
      "692:\tlearn: 5658176.7346601\ttotal: 26.3s\tremaining: 11.7s\n",
      "693:\tlearn: 5651839.9656812\ttotal: 26.4s\tremaining: 11.6s\n",
      "694:\tlearn: 5651530.6157801\ttotal: 26.4s\tremaining: 11.6s\n",
      "695:\tlearn: 5647452.4926732\ttotal: 26.4s\tremaining: 11.5s\n",
      "696:\tlearn: 5646562.7295741\ttotal: 26.5s\tremaining: 11.5s\n",
      "697:\tlearn: 5638855.8973957\ttotal: 26.5s\tremaining: 11.5s\n",
      "698:\tlearn: 5638701.1234343\ttotal: 26.5s\tremaining: 11.4s\n",
      "699:\tlearn: 5635185.1568435\ttotal: 26.6s\tremaining: 11.4s\n",
      "700:\tlearn: 5629124.3818292\ttotal: 26.6s\tremaining: 11.3s\n",
      "701:\tlearn: 5626789.3861681\ttotal: 26.6s\tremaining: 11.3s\n",
      "702:\tlearn: 5623128.8449811\ttotal: 26.7s\tremaining: 11.3s\n",
      "703:\tlearn: 5622851.3112236\ttotal: 26.7s\tremaining: 11.2s\n",
      "704:\tlearn: 5621003.1530051\ttotal: 26.7s\tremaining: 11.2s\n",
      "705:\tlearn: 5617677.9655142\ttotal: 26.8s\tremaining: 11.2s\n",
      "706:\tlearn: 5615265.2781230\ttotal: 26.8s\tremaining: 11.1s\n",
      "707:\tlearn: 5611816.6128989\ttotal: 26.9s\tremaining: 11.1s\n",
      "708:\tlearn: 5609004.5462531\ttotal: 26.9s\tremaining: 11s\n",
      "709:\tlearn: 5604875.4872498\ttotal: 27s\tremaining: 11s\n",
      "710:\tlearn: 5601438.3277950\ttotal: 27s\tremaining: 11s\n",
      "711:\tlearn: 5600430.6983103\ttotal: 27s\tremaining: 10.9s\n",
      "712:\tlearn: 5597816.5659779\ttotal: 27.1s\tremaining: 10.9s\n",
      "713:\tlearn: 5597159.1672307\ttotal: 27.1s\tremaining: 10.8s\n",
      "714:\tlearn: 5593459.4975001\ttotal: 27.1s\tremaining: 10.8s\n",
      "715:\tlearn: 5590958.1021051\ttotal: 27.2s\tremaining: 10.8s\n",
      "716:\tlearn: 5589148.9343129\ttotal: 27.2s\tremaining: 10.7s\n",
      "717:\tlearn: 5585522.1352223\ttotal: 27.2s\tremaining: 10.7s\n",
      "718:\tlearn: 5584308.4707325\ttotal: 27.3s\tremaining: 10.7s\n",
      "719:\tlearn: 5583661.9870390\ttotal: 27.3s\tremaining: 10.6s\n",
      "720:\tlearn: 5582654.3801524\ttotal: 27.4s\tremaining: 10.6s\n",
      "721:\tlearn: 5582607.2493831\ttotal: 27.4s\tremaining: 10.6s\n",
      "722:\tlearn: 5581233.5123276\ttotal: 27.5s\tremaining: 10.5s\n",
      "723:\tlearn: 5581025.9200023\ttotal: 27.5s\tremaining: 10.5s\n",
      "724:\tlearn: 5579761.2032517\ttotal: 27.5s\tremaining: 10.4s\n",
      "725:\tlearn: 5577439.0736788\ttotal: 27.6s\tremaining: 10.4s\n",
      "726:\tlearn: 5573594.5095514\ttotal: 27.6s\tremaining: 10.4s\n",
      "727:\tlearn: 5570707.9797949\ttotal: 27.7s\tremaining: 10.3s\n",
      "728:\tlearn: 5569580.6041959\ttotal: 27.7s\tremaining: 10.3s\n",
      "729:\tlearn: 5568684.2927326\ttotal: 27.7s\tremaining: 10.3s\n",
      "730:\tlearn: 5567510.6522957\ttotal: 27.8s\tremaining: 10.2s\n",
      "731:\tlearn: 5565461.1771173\ttotal: 27.8s\tremaining: 10.2s\n",
      "732:\tlearn: 5565239.1660077\ttotal: 27.9s\tremaining: 10.1s\n",
      "733:\tlearn: 5564263.0499697\ttotal: 27.9s\tremaining: 10.1s\n",
      "734:\tlearn: 5564184.5128313\ttotal: 27.9s\tremaining: 10.1s\n",
      "735:\tlearn: 5563157.9294064\ttotal: 28s\tremaining: 10s\n",
      "736:\tlearn: 5560052.8860521\ttotal: 28s\tremaining: 9.99s\n",
      "737:\tlearn: 5558921.1108401\ttotal: 28s\tremaining: 9.95s\n",
      "738:\tlearn: 5555891.2195816\ttotal: 28.1s\tremaining: 9.91s\n",
      "739:\tlearn: 5553226.7773734\ttotal: 28.1s\tremaining: 9.88s\n",
      "740:\tlearn: 5551308.7429858\ttotal: 28.2s\tremaining: 9.84s\n",
      "741:\tlearn: 5551111.3220157\ttotal: 28.2s\tremaining: 9.8s\n",
      "742:\tlearn: 5548109.6498302\ttotal: 28.2s\tremaining: 9.77s\n",
      "743:\tlearn: 5547396.8370659\ttotal: 28.3s\tremaining: 9.73s\n",
      "744:\tlearn: 5546346.2125096\ttotal: 28.3s\tremaining: 9.69s\n",
      "745:\tlearn: 5544001.5394494\ttotal: 28.4s\tremaining: 9.65s\n",
      "746:\tlearn: 5543109.5273941\ttotal: 28.4s\tremaining: 9.61s\n",
      "747:\tlearn: 5540860.3733397\ttotal: 28.4s\tremaining: 9.57s\n",
      "748:\tlearn: 5540310.0415316\ttotal: 28.5s\tremaining: 9.54s\n",
      "749:\tlearn: 5536863.1702972\ttotal: 28.5s\tremaining: 9.5s\n",
      "750:\tlearn: 5532911.7159877\ttotal: 28.5s\tremaining: 9.46s\n",
      "751:\tlearn: 5529070.1083822\ttotal: 28.6s\tremaining: 9.42s\n",
      "752:\tlearn: 5526457.5154656\ttotal: 28.6s\tremaining: 9.38s\n",
      "753:\tlearn: 5523824.5826852\ttotal: 28.6s\tremaining: 9.34s\n",
      "754:\tlearn: 5521122.6303642\ttotal: 28.7s\tremaining: 9.3s\n",
      "755:\tlearn: 5520550.7406822\ttotal: 28.7s\tremaining: 9.26s\n",
      "756:\tlearn: 5519235.6901792\ttotal: 28.7s\tremaining: 9.22s\n",
      "757:\tlearn: 5517794.2246736\ttotal: 28.8s\tremaining: 9.19s\n",
      "758:\tlearn: 5514164.6976697\ttotal: 28.8s\tremaining: 9.15s\n",
      "759:\tlearn: 5513401.5307245\ttotal: 28.8s\tremaining: 9.11s\n",
      "760:\tlearn: 5512441.9556349\ttotal: 28.9s\tremaining: 9.07s\n",
      "761:\tlearn: 5511130.3453586\ttotal: 28.9s\tremaining: 9.03s\n",
      "762:\tlearn: 5507352.5062790\ttotal: 28.9s\tremaining: 8.99s\n",
      "763:\tlearn: 5506685.5609037\ttotal: 29s\tremaining: 8.95s\n",
      "764:\tlearn: 5505986.0945319\ttotal: 29s\tremaining: 8.91s\n",
      "765:\tlearn: 5505115.5730290\ttotal: 29.1s\tremaining: 8.88s\n",
      "766:\tlearn: 5502530.8166295\ttotal: 29.1s\tremaining: 8.84s\n",
      "767:\tlearn: 5502322.8137204\ttotal: 29.1s\tremaining: 8.8s\n",
      "768:\tlearn: 5498170.9895027\ttotal: 29.2s\tremaining: 8.76s\n",
      "769:\tlearn: 5495943.6477921\ttotal: 29.2s\tremaining: 8.72s\n",
      "770:\tlearn: 5490342.7643062\ttotal: 29.2s\tremaining: 8.68s\n",
      "771:\tlearn: 5488181.6856394\ttotal: 29.3s\tremaining: 8.64s\n",
      "772:\tlearn: 5486641.1486644\ttotal: 29.3s\tremaining: 8.61s\n",
      "773:\tlearn: 5484728.2918849\ttotal: 29.3s\tremaining: 8.57s\n",
      "774:\tlearn: 5482332.8332206\ttotal: 29.4s\tremaining: 8.53s\n",
      "775:\tlearn: 5479072.7305150\ttotal: 29.4s\tremaining: 8.49s\n",
      "776:\tlearn: 5478133.2007974\ttotal: 29.4s\tremaining: 8.45s\n",
      "777:\tlearn: 5475533.1516478\ttotal: 29.5s\tremaining: 8.41s\n",
      "778:\tlearn: 5471951.9725315\ttotal: 29.5s\tremaining: 8.37s\n",
      "779:\tlearn: 5468485.8107065\ttotal: 29.5s\tremaining: 8.33s\n",
      "780:\tlearn: 5464813.2943529\ttotal: 29.6s\tremaining: 8.29s\n",
      "781:\tlearn: 5463596.2298121\ttotal: 29.6s\tremaining: 8.25s\n",
      "782:\tlearn: 5461387.6803661\ttotal: 29.6s\tremaining: 8.21s\n",
      "783:\tlearn: 5456708.2375568\ttotal: 29.7s\tremaining: 8.17s\n",
      "784:\tlearn: 5456523.9696380\ttotal: 29.7s\tremaining: 8.14s\n",
      "785:\tlearn: 5453671.0466597\ttotal: 29.8s\tremaining: 8.11s\n",
      "786:\tlearn: 5452616.9400670\ttotal: 29.8s\tremaining: 8.06s\n",
      "787:\tlearn: 5450370.2667604\ttotal: 29.8s\tremaining: 8.03s\n",
      "788:\tlearn: 5449406.7764155\ttotal: 29.9s\tremaining: 7.99s\n",
      "789:\tlearn: 5448405.8259370\ttotal: 29.9s\tremaining: 7.95s\n",
      "790:\tlearn: 5448075.2684684\ttotal: 30s\tremaining: 7.92s\n",
      "791:\tlearn: 5447983.2152851\ttotal: 30s\tremaining: 7.88s\n",
      "792:\tlearn: 5446836.6444540\ttotal: 30s\tremaining: 7.84s\n",
      "793:\tlearn: 5444524.5721024\ttotal: 30.1s\tremaining: 7.8s\n",
      "794:\tlearn: 5444027.2818850\ttotal: 30.1s\tremaining: 7.76s\n",
      "795:\tlearn: 5443560.5448574\ttotal: 30.1s\tremaining: 7.72s\n",
      "796:\tlearn: 5442164.3285171\ttotal: 30.2s\tremaining: 7.68s\n",
      "797:\tlearn: 5440873.4723979\ttotal: 30.2s\tremaining: 7.64s\n",
      "798:\tlearn: 5440737.8308199\ttotal: 30.2s\tremaining: 7.6s\n",
      "799:\tlearn: 5439471.4182398\ttotal: 30.3s\tremaining: 7.56s\n",
      "800:\tlearn: 5437307.5004543\ttotal: 30.3s\tremaining: 7.53s\n",
      "801:\tlearn: 5437104.1726309\ttotal: 30.4s\tremaining: 7.5s\n",
      "802:\tlearn: 5436374.2699793\ttotal: 30.4s\tremaining: 7.46s\n",
      "803:\tlearn: 5434482.2169938\ttotal: 30.5s\tremaining: 7.42s\n",
      "804:\tlearn: 5431532.8414830\ttotal: 30.5s\tremaining: 7.39s\n",
      "805:\tlearn: 5426022.8947700\ttotal: 30.5s\tremaining: 7.35s\n",
      "806:\tlearn: 5425126.4999230\ttotal: 30.6s\tremaining: 7.31s\n",
      "807:\tlearn: 5424405.6739459\ttotal: 30.6s\tremaining: 7.27s\n",
      "808:\tlearn: 5424338.3692264\ttotal: 30.6s\tremaining: 7.24s\n",
      "809:\tlearn: 5421185.3124647\ttotal: 30.7s\tremaining: 7.2s\n",
      "810:\tlearn: 5417585.1154935\ttotal: 30.7s\tremaining: 7.16s\n",
      "811:\tlearn: 5416968.7996979\ttotal: 30.7s\tremaining: 7.12s\n",
      "812:\tlearn: 5415406.1841974\ttotal: 30.8s\tremaining: 7.08s\n",
      "813:\tlearn: 5413722.8291624\ttotal: 30.8s\tremaining: 7.04s\n",
      "814:\tlearn: 5412113.9912126\ttotal: 30.8s\tremaining: 7s\n",
      "815:\tlearn: 5410722.6290837\ttotal: 30.9s\tremaining: 6.96s\n",
      "816:\tlearn: 5409572.1334625\ttotal: 30.9s\tremaining: 6.92s\n",
      "817:\tlearn: 5407953.8593038\ttotal: 30.9s\tremaining: 6.88s\n",
      "818:\tlearn: 5405893.6530562\ttotal: 31s\tremaining: 6.84s\n",
      "819:\tlearn: 5405717.7221762\ttotal: 31s\tremaining: 6.8s\n",
      "820:\tlearn: 5403348.4845965\ttotal: 31s\tremaining: 6.76s\n",
      "821:\tlearn: 5402460.3031513\ttotal: 31.1s\tremaining: 6.72s\n",
      "822:\tlearn: 5400327.4219525\ttotal: 31.1s\tremaining: 6.69s\n",
      "823:\tlearn: 5399974.5216089\ttotal: 31.1s\tremaining: 6.65s\n",
      "824:\tlearn: 5399081.9443596\ttotal: 31.2s\tremaining: 6.61s\n",
      "825:\tlearn: 5397151.5294017\ttotal: 31.2s\tremaining: 6.57s\n",
      "826:\tlearn: 5395137.0342322\ttotal: 31.2s\tremaining: 6.53s\n",
      "827:\tlearn: 5394198.6605931\ttotal: 31.2s\tremaining: 6.49s\n",
      "828:\tlearn: 5393015.1150941\ttotal: 31.3s\tremaining: 6.45s\n",
      "829:\tlearn: 5390923.0152466\ttotal: 31.3s\tremaining: 6.41s\n",
      "830:\tlearn: 5386849.2340394\ttotal: 31.3s\tremaining: 6.37s\n",
      "831:\tlearn: 5383610.5159137\ttotal: 31.4s\tremaining: 6.33s\n",
      "832:\tlearn: 5382759.7380275\ttotal: 31.4s\tremaining: 6.29s\n",
      "833:\tlearn: 5382728.9796431\ttotal: 31.4s\tremaining: 6.26s\n",
      "834:\tlearn: 5380813.7215106\ttotal: 31.5s\tremaining: 6.22s\n",
      "835:\tlearn: 5380366.8832411\ttotal: 31.5s\tremaining: 6.18s\n",
      "836:\tlearn: 5378368.2292811\ttotal: 31.5s\tremaining: 6.14s\n",
      "837:\tlearn: 5376669.7815525\ttotal: 31.6s\tremaining: 6.1s\n",
      "838:\tlearn: 5375383.2194341\ttotal: 31.6s\tremaining: 6.06s\n",
      "839:\tlearn: 5373108.6781270\ttotal: 31.6s\tremaining: 6.02s\n",
      "840:\tlearn: 5368244.9125683\ttotal: 31.6s\tremaining: 5.98s\n",
      "841:\tlearn: 5367678.0505375\ttotal: 31.7s\tremaining: 5.94s\n",
      "842:\tlearn: 5367369.6658713\ttotal: 31.7s\tremaining: 5.91s\n",
      "843:\tlearn: 5367209.3770686\ttotal: 31.7s\tremaining: 5.87s\n",
      "844:\tlearn: 5365708.1940220\ttotal: 31.8s\tremaining: 5.83s\n",
      "845:\tlearn: 5364178.2546354\ttotal: 31.8s\tremaining: 5.79s\n",
      "846:\tlearn: 5363191.6198160\ttotal: 31.8s\tremaining: 5.75s\n",
      "847:\tlearn: 5362669.1443909\ttotal: 31.9s\tremaining: 5.71s\n",
      "848:\tlearn: 5358161.9265087\ttotal: 31.9s\tremaining: 5.67s\n",
      "849:\tlearn: 5356854.1763658\ttotal: 31.9s\tremaining: 5.63s\n",
      "850:\tlearn: 5353428.6985271\ttotal: 32s\tremaining: 5.59s\n",
      "851:\tlearn: 5352483.5284170\ttotal: 32s\tremaining: 5.56s\n",
      "852:\tlearn: 5352383.4442838\ttotal: 32s\tremaining: 5.52s\n",
      "853:\tlearn: 5351176.4425737\ttotal: 32s\tremaining: 5.48s\n",
      "854:\tlearn: 5351088.7331544\ttotal: 32.1s\tremaining: 5.44s\n",
      "855:\tlearn: 5348136.2964513\ttotal: 32.1s\tremaining: 5.4s\n",
      "856:\tlearn: 5345006.2317331\ttotal: 32.1s\tremaining: 5.36s\n",
      "857:\tlearn: 5343357.4300825\ttotal: 32.2s\tremaining: 5.32s\n",
      "858:\tlearn: 5340612.4473104\ttotal: 32.2s\tremaining: 5.28s\n",
      "859:\tlearn: 5339521.9920764\ttotal: 32.2s\tremaining: 5.25s\n",
      "860:\tlearn: 5338979.8901779\ttotal: 32.3s\tremaining: 5.21s\n",
      "861:\tlearn: 5336825.3807287\ttotal: 32.3s\tremaining: 5.17s\n",
      "862:\tlearn: 5335563.0199268\ttotal: 32.3s\tremaining: 5.13s\n",
      "863:\tlearn: 5334965.5791155\ttotal: 32.3s\tremaining: 5.09s\n",
      "864:\tlearn: 5334659.5246744\ttotal: 32.4s\tremaining: 5.05s\n",
      "865:\tlearn: 5333467.4198633\ttotal: 32.4s\tremaining: 5.01s\n",
      "866:\tlearn: 5332649.8243280\ttotal: 32.4s\tremaining: 4.97s\n",
      "867:\tlearn: 5329504.4580533\ttotal: 32.5s\tremaining: 4.94s\n",
      "868:\tlearn: 5328635.8481908\ttotal: 32.5s\tremaining: 4.9s\n",
      "869:\tlearn: 5326587.5147368\ttotal: 32.6s\tremaining: 4.87s\n",
      "870:\tlearn: 5325718.8217582\ttotal: 32.6s\tremaining: 4.83s\n",
      "871:\tlearn: 5324995.0512199\ttotal: 32.6s\tremaining: 4.79s\n",
      "872:\tlearn: 5321418.2368717\ttotal: 32.7s\tremaining: 4.75s\n",
      "873:\tlearn: 5318762.0988729\ttotal: 32.7s\tremaining: 4.72s\n",
      "874:\tlearn: 5317609.4866220\ttotal: 32.8s\tremaining: 4.68s\n",
      "875:\tlearn: 5315983.5112910\ttotal: 32.8s\tremaining: 4.64s\n",
      "876:\tlearn: 5314229.5664280\ttotal: 32.8s\tremaining: 4.6s\n",
      "877:\tlearn: 5312976.4638437\ttotal: 32.9s\tremaining: 4.56s\n",
      "878:\tlearn: 5311993.6092129\ttotal: 32.9s\tremaining: 4.53s\n",
      "879:\tlearn: 5311841.0262373\ttotal: 32.9s\tremaining: 4.49s\n",
      "880:\tlearn: 5310920.2807152\ttotal: 32.9s\tremaining: 4.45s\n",
      "881:\tlearn: 5310453.0630703\ttotal: 33s\tremaining: 4.41s\n",
      "882:\tlearn: 5309510.4903627\ttotal: 33s\tremaining: 4.37s\n",
      "883:\tlearn: 5307954.0716120\ttotal: 33s\tremaining: 4.33s\n",
      "884:\tlearn: 5306586.3244054\ttotal: 33.1s\tremaining: 4.3s\n",
      "885:\tlearn: 5305410.9449691\ttotal: 33.1s\tremaining: 4.26s\n",
      "886:\tlearn: 5304347.6572080\ttotal: 33.1s\tremaining: 4.22s\n",
      "887:\tlearn: 5301165.7992194\ttotal: 33.2s\tremaining: 4.18s\n",
      "888:\tlearn: 5299557.6569045\ttotal: 33.2s\tremaining: 4.14s\n",
      "889:\tlearn: 5298349.4785913\ttotal: 33.2s\tremaining: 4.11s\n",
      "890:\tlearn: 5294157.9221570\ttotal: 33.3s\tremaining: 4.07s\n",
      "891:\tlearn: 5293603.2457655\ttotal: 33.3s\tremaining: 4.03s\n",
      "892:\tlearn: 5292105.9713230\ttotal: 33.3s\tremaining: 3.99s\n",
      "893:\tlearn: 5290405.4029973\ttotal: 33.3s\tremaining: 3.95s\n",
      "894:\tlearn: 5288463.7139232\ttotal: 33.4s\tremaining: 3.92s\n",
      "895:\tlearn: 5285748.3791280\ttotal: 33.4s\tremaining: 3.88s\n",
      "896:\tlearn: 5281277.3491175\ttotal: 33.4s\tremaining: 3.84s\n",
      "897:\tlearn: 5279617.8114914\ttotal: 33.5s\tremaining: 3.8s\n",
      "898:\tlearn: 5279144.7804505\ttotal: 33.5s\tremaining: 3.76s\n",
      "899:\tlearn: 5278207.1903770\ttotal: 33.5s\tremaining: 3.73s\n",
      "900:\tlearn: 5277774.7335834\ttotal: 33.6s\tremaining: 3.69s\n",
      "901:\tlearn: 5277265.0903366\ttotal: 33.6s\tremaining: 3.65s\n",
      "902:\tlearn: 5276328.6455321\ttotal: 33.6s\tremaining: 3.61s\n",
      "903:\tlearn: 5275701.7746240\ttotal: 33.7s\tremaining: 3.57s\n",
      "904:\tlearn: 5273960.7012347\ttotal: 33.7s\tremaining: 3.54s\n",
      "905:\tlearn: 5272398.9047881\ttotal: 33.7s\tremaining: 3.5s\n",
      "906:\tlearn: 5271998.7264459\ttotal: 33.8s\tremaining: 3.46s\n",
      "907:\tlearn: 5270987.9897216\ttotal: 33.8s\tremaining: 3.42s\n",
      "908:\tlearn: 5268868.0479741\ttotal: 33.8s\tremaining: 3.38s\n",
      "909:\tlearn: 5264944.2679229\ttotal: 33.8s\tremaining: 3.35s\n",
      "910:\tlearn: 5261837.7577206\ttotal: 33.9s\tremaining: 3.31s\n",
      "911:\tlearn: 5261366.0683762\ttotal: 33.9s\tremaining: 3.27s\n",
      "912:\tlearn: 5259549.3873808\ttotal: 33.9s\tremaining: 3.23s\n",
      "913:\tlearn: 5257378.1933253\ttotal: 34s\tremaining: 3.2s\n",
      "914:\tlearn: 5255903.3136429\ttotal: 34s\tremaining: 3.16s\n",
      "915:\tlearn: 5253939.7137796\ttotal: 34s\tremaining: 3.12s\n",
      "916:\tlearn: 5253627.0442833\ttotal: 34.1s\tremaining: 3.08s\n",
      "917:\tlearn: 5252838.2680283\ttotal: 34.1s\tremaining: 3.04s\n",
      "918:\tlearn: 5251855.6360653\ttotal: 34.1s\tremaining: 3.01s\n",
      "919:\tlearn: 5250102.1656180\ttotal: 34.2s\tremaining: 2.97s\n",
      "920:\tlearn: 5246132.4019973\ttotal: 34.2s\tremaining: 2.93s\n",
      "921:\tlearn: 5245026.8899228\ttotal: 34.2s\tremaining: 2.9s\n",
      "922:\tlearn: 5243745.9318969\ttotal: 34.3s\tremaining: 2.86s\n",
      "923:\tlearn: 5240853.6836304\ttotal: 34.3s\tremaining: 2.82s\n",
      "924:\tlearn: 5240336.4221235\ttotal: 34.3s\tremaining: 2.78s\n",
      "925:\tlearn: 5240275.3874937\ttotal: 34.4s\tremaining: 2.75s\n",
      "926:\tlearn: 5239268.0462530\ttotal: 34.4s\tremaining: 2.71s\n",
      "927:\tlearn: 5237766.0845911\ttotal: 34.4s\tremaining: 2.67s\n",
      "928:\tlearn: 5231908.4351456\ttotal: 34.4s\tremaining: 2.63s\n",
      "929:\tlearn: 5231317.3944282\ttotal: 34.5s\tremaining: 2.59s\n",
      "930:\tlearn: 5228079.3063811\ttotal: 34.5s\tremaining: 2.56s\n",
      "931:\tlearn: 5227604.9125631\ttotal: 34.5s\tremaining: 2.52s\n",
      "932:\tlearn: 5225756.7443703\ttotal: 34.6s\tremaining: 2.48s\n",
      "933:\tlearn: 5224245.7095974\ttotal: 34.6s\tremaining: 2.44s\n",
      "934:\tlearn: 5223582.2196361\ttotal: 34.6s\tremaining: 2.41s\n",
      "935:\tlearn: 5221195.9880610\ttotal: 34.7s\tremaining: 2.37s\n",
      "936:\tlearn: 5217864.7054135\ttotal: 34.7s\tremaining: 2.33s\n",
      "937:\tlearn: 5216251.9646695\ttotal: 34.8s\tremaining: 2.3s\n",
      "938:\tlearn: 5215117.5936327\ttotal: 34.8s\tremaining: 2.26s\n",
      "939:\tlearn: 5212856.0523581\ttotal: 34.9s\tremaining: 2.23s\n",
      "940:\tlearn: 5210785.3496339\ttotal: 35s\tremaining: 2.19s\n",
      "941:\tlearn: 5208521.5332798\ttotal: 35s\tremaining: 2.15s\n",
      "942:\tlearn: 5207323.0022345\ttotal: 35s\tremaining: 2.12s\n",
      "943:\tlearn: 5206861.8798971\ttotal: 35.1s\tremaining: 2.08s\n",
      "944:\tlearn: 5203386.0444995\ttotal: 35.1s\tremaining: 2.04s\n",
      "945:\tlearn: 5202979.0832302\ttotal: 35.2s\tremaining: 2.01s\n",
      "946:\tlearn: 5202003.2577927\ttotal: 35.2s\tremaining: 1.97s\n",
      "947:\tlearn: 5198421.3253050\ttotal: 35.2s\tremaining: 1.93s\n",
      "948:\tlearn: 5197717.2437652\ttotal: 35.3s\tremaining: 1.9s\n",
      "949:\tlearn: 5194826.8212108\ttotal: 35.3s\tremaining: 1.86s\n",
      "950:\tlearn: 5194054.8236592\ttotal: 35.4s\tremaining: 1.82s\n",
      "951:\tlearn: 5192069.7429265\ttotal: 35.4s\tremaining: 1.78s\n",
      "952:\tlearn: 5189073.7317600\ttotal: 35.4s\tremaining: 1.75s\n",
      "953:\tlearn: 5186135.9753117\ttotal: 35.5s\tremaining: 1.71s\n",
      "954:\tlearn: 5184647.2953997\ttotal: 35.5s\tremaining: 1.67s\n",
      "955:\tlearn: 5180055.7758004\ttotal: 35.6s\tremaining: 1.64s\n",
      "956:\tlearn: 5177877.6023153\ttotal: 35.6s\tremaining: 1.6s\n",
      "957:\tlearn: 5176182.8880978\ttotal: 35.7s\tremaining: 1.56s\n",
      "958:\tlearn: 5175849.5229377\ttotal: 35.7s\tremaining: 1.53s\n",
      "959:\tlearn: 5174133.4089696\ttotal: 35.8s\tremaining: 1.49s\n",
      "960:\tlearn: 5173658.8737814\ttotal: 35.8s\tremaining: 1.45s\n",
      "961:\tlearn: 5172684.8386379\ttotal: 35.9s\tremaining: 1.42s\n",
      "962:\tlearn: 5169694.8641871\ttotal: 35.9s\tremaining: 1.38s\n",
      "963:\tlearn: 5168175.6595116\ttotal: 35.9s\tremaining: 1.34s\n",
      "964:\tlearn: 5165948.4560872\ttotal: 36s\tremaining: 1.3s\n",
      "965:\tlearn: 5163254.2164161\ttotal: 36s\tremaining: 1.27s\n",
      "966:\tlearn: 5162438.0202529\ttotal: 36.1s\tremaining: 1.23s\n",
      "967:\tlearn: 5162344.8110307\ttotal: 36.1s\tremaining: 1.19s\n",
      "968:\tlearn: 5161285.9711838\ttotal: 36.2s\tremaining: 1.16s\n",
      "969:\tlearn: 5160859.7350293\ttotal: 36.2s\tremaining: 1.12s\n",
      "970:\tlearn: 5160169.6892096\ttotal: 36.2s\tremaining: 1.08s\n",
      "971:\tlearn: 5157794.0474579\ttotal: 36.3s\tremaining: 1.04s\n",
      "972:\tlearn: 5157203.6828941\ttotal: 36.3s\tremaining: 1.01s\n",
      "973:\tlearn: 5155723.0771951\ttotal: 36.3s\tremaining: 970ms\n",
      "974:\tlearn: 5154508.3799868\ttotal: 36.4s\tremaining: 932ms\n",
      "975:\tlearn: 5152767.2393128\ttotal: 36.4s\tremaining: 895ms\n",
      "976:\tlearn: 5152177.0602222\ttotal: 36.4s\tremaining: 858ms\n",
      "977:\tlearn: 5151440.5695877\ttotal: 36.5s\tremaining: 821ms\n",
      "978:\tlearn: 5149489.9159769\ttotal: 36.5s\tremaining: 783ms\n",
      "979:\tlearn: 5148606.5047492\ttotal: 36.6s\tremaining: 746ms\n",
      "980:\tlearn: 5148375.2693390\ttotal: 36.6s\tremaining: 709ms\n",
      "981:\tlearn: 5147968.0507833\ttotal: 36.6s\tremaining: 672ms\n",
      "982:\tlearn: 5146623.5517118\ttotal: 36.7s\tremaining: 634ms\n",
      "983:\tlearn: 5145712.2706295\ttotal: 36.7s\tremaining: 597ms\n",
      "984:\tlearn: 5145507.8754933\ttotal: 36.8s\tremaining: 560ms\n",
      "985:\tlearn: 5144038.7566581\ttotal: 36.8s\tremaining: 522ms\n",
      "986:\tlearn: 5143235.4921945\ttotal: 36.8s\tremaining: 485ms\n",
      "987:\tlearn: 5142882.3736224\ttotal: 36.9s\tremaining: 448ms\n",
      "988:\tlearn: 5141307.5758926\ttotal: 36.9s\tremaining: 410ms\n",
      "989:\tlearn: 5140581.1633730\ttotal: 36.9s\tremaining: 373ms\n",
      "990:\tlearn: 5139606.7401540\ttotal: 37s\tremaining: 336ms\n",
      "991:\tlearn: 5134977.5672965\ttotal: 37s\tremaining: 298ms\n",
      "992:\tlearn: 5133424.7677920\ttotal: 37s\tremaining: 261ms\n",
      "993:\tlearn: 5130765.7614976\ttotal: 37.1s\tremaining: 224ms\n",
      "994:\tlearn: 5130554.0521180\ttotal: 37.1s\tremaining: 186ms\n",
      "995:\tlearn: 5129720.9354416\ttotal: 37.2s\tremaining: 149ms\n",
      "996:\tlearn: 5129126.1164257\ttotal: 37.2s\tremaining: 112ms\n",
      "997:\tlearn: 5127552.8667423\ttotal: 37.2s\tremaining: 74.6ms\n",
      "998:\tlearn: 5126120.1179633\ttotal: 37.3s\tremaining: 37.3ms\n",
      "999:\tlearn: 5125459.9813919\ttotal: 37.3s\tremaining: 0us\n",
      "[LightGBM] [Info] Auto-choosing col-wise multi-threading, the overhead of testing was 0.000286 seconds.\n",
      "You can set `force_col_wise=true` to remove the overhead.\n",
      "[LightGBM] [Info] Total Bins 1230\n",
      "[LightGBM] [Info] Number of data points in the train set: 10466, number of used features: 12\n",
      "[LightGBM] [Info] Start training from score 8995590.483470\n",
      "\n",
      "====== Models before Hyper Parameter Tuning ======\n"
     ]
    },
    {
     "data": {
      "text/html": [
       "<div>\n",
       "<style scoped>\n",
       "    .dataframe tbody tr th:only-of-type {\n",
       "        vertical-align: middle;\n",
       "    }\n",
       "\n",
       "    .dataframe tbody tr th {\n",
       "        vertical-align: top;\n",
       "    }\n",
       "\n",
       "    .dataframe thead th {\n",
       "        text-align: right;\n",
       "    }\n",
       "</style>\n",
       "<table border=\"1\" class=\"dataframe\">\n",
       "  <thead>\n",
       "    <tr style=\"text-align: right;\">\n",
       "      <th></th>\n",
       "      <th>Model</th>\n",
       "      <th>MAE</th>\n",
       "      <th>MSE</th>\n",
       "      <th>RMSE</th>\n",
       "      <th>RMSLE</th>\n",
       "      <th>R2 Score</th>\n",
       "    </tr>\n",
       "  </thead>\n",
       "  <tbody>\n",
       "    <tr>\n",
       "      <th>0</th>\n",
       "      <td>Random Forest</td>\n",
       "      <td>4199426.87</td>\n",
       "      <td>68593476438936.03</td>\n",
       "      <td>8282117.87</td>\n",
       "      <td>0.65</td>\n",
       "      <td>0.75</td>\n",
       "    </tr>\n",
       "    <tr>\n",
       "      <th>1</th>\n",
       "      <td>LightGBM</td>\n",
       "      <td>3880224.80</td>\n",
       "      <td>54696393930066.98</td>\n",
       "      <td>7395701.04</td>\n",
       "      <td>0.69</td>\n",
       "      <td>0.80</td>\n",
       "    </tr>\n",
       "    <tr>\n",
       "      <th>2</th>\n",
       "      <td>XGBoost</td>\n",
       "      <td>3972273.43</td>\n",
       "      <td>54660632274491.61</td>\n",
       "      <td>7393282.92</td>\n",
       "      <td>0.72</td>\n",
       "      <td>0.80</td>\n",
       "    </tr>\n",
       "    <tr>\n",
       "      <th>3</th>\n",
       "      <td>CatBoost</td>\n",
       "      <td>4174150.13</td>\n",
       "      <td>63399948620137.79</td>\n",
       "      <td>7962408.47</td>\n",
       "      <td>0.76</td>\n",
       "      <td>0.77</td>\n",
       "    </tr>\n",
       "    <tr>\n",
       "      <th>4</th>\n",
       "      <td>Decision Tree</td>\n",
       "      <td>5600848.77</td>\n",
       "      <td>118385415166323.73</td>\n",
       "      <td>10880506.20</td>\n",
       "      <td>0.89</td>\n",
       "      <td>0.57</td>\n",
       "    </tr>\n",
       "    <tr>\n",
       "      <th>5</th>\n",
       "      <td>Linear Regression</td>\n",
       "      <td>5367047.51</td>\n",
       "      <td>89344749369249.31</td>\n",
       "      <td>9452235.15</td>\n",
       "      <td>1.01</td>\n",
       "      <td>0.67</td>\n",
       "    </tr>\n",
       "  </tbody>\n",
       "</table>\n",
       "</div>"
      ],
      "text/plain": [
       "               Model         MAE                 MSE         RMSE RMSLE  \\\n",
       "0      Random Forest  4199426.87   68593476438936.03   8282117.87  0.65   \n",
       "1           LightGBM  3880224.80   54696393930066.98   7395701.04  0.69   \n",
       "2            XGBoost  3972273.43   54660632274491.61   7393282.92  0.72   \n",
       "3           CatBoost  4174150.13   63399948620137.79   7962408.47  0.76   \n",
       "4      Decision Tree  5600848.77  118385415166323.73  10880506.20  0.89   \n",
       "5  Linear Regression  5367047.51   89344749369249.31   9452235.15  1.01   \n",
       "\n",
       "  R2 Score  \n",
       "0     0.75  \n",
       "1     0.80  \n",
       "2     0.80  \n",
       "3     0.77  \n",
       "4     0.57  \n",
       "5     0.67  "
      ]
     },
     "execution_count": 26,
     "metadata": {},
     "output_type": "execute_result"
    }
   ],
   "source": [
    "model_list2(models)"
   ]
  },
  {
   "cell_type": "markdown",
   "metadata": {},
   "source": [
    "#### `CatBoost` 성능 비교\n",
    "- 별도로 `Target Encoding` 거친 데이터셋으로 진행(`model_list` 함수)한 `CatBoost`가 더 낮은 `RMSLE` 기록\n",
    "\n",
    "    - **0.73 vs 0.84** (Target Encoding 실행한 데이터셋으로 진행)"
   ]
  },
  {
   "cell_type": "markdown",
   "metadata": {},
   "source": [
    "### 하이퍼 파라미터 튜닝\n",
    "- `RMSLE`가 낮은 `Random Forest`, `CatBoost`, `LightGBM`, `XGBoost` 을 갖고 하이퍼 파라미터 튜닝\n",
    "    - Baseline 모델인 `Linear Regression`의 `RMSLE`보다 낮다 (0.98)\n",
    "\n",
    "- `optuna` 활용\n",
    "    - References : https://forecastegy.com/posts/xgboost-hyperparameter-tuning-with-optuna/\n"
   ]
  },
  {
   "cell_type": "code",
   "execution_count": 27,
   "metadata": {},
   "outputs": [],
   "source": [
    "# optuna sampling seed 고정\n",
    "sampler = TPESampler(seed=42)"
   ]
  },
  {
   "cell_type": "markdown",
   "metadata": {},
   "source": [
    "#### `Random Forest`"
   ]
  },
  {
   "cell_type": "code",
   "execution_count": 28,
   "metadata": {},
   "outputs": [],
   "source": [
    "def objective_rf(trial):\n",
    "    params = {\n",
    "        # \"iterations\": 1000,\n",
    "        \"n_estimators\" : trial.suggest_int('n_estimators', 500, 4000),\n",
    "        # \"learning_rate\": trial.suggest_float(\"learning_rate\", 1e-3, 0.1, log=True),\n",
    "        \"max_depth\": trial.suggest_int(\"max_depth\", 1, 10),\n",
    "        \"max_samples\": trial.suggest_float(\"max_samples\", 0.05, 1.0),\n",
    "        \"max_features\": trial.suggest_float(\"max_features\", 0.05, 1.0),\n",
    "        \"min_weight_fraction_leaf\": trial.suggest_int(\"min_weight_fraction_leaf\", 0.05, 0.5),\n",
    "    }\n",
    "\n",
    "    model = RandomForestRegressor(**params, random_state=42)\n",
    "    model.fit(X_train, y_train)\n",
    "    predictions = model.predict(X_test)\n",
    "    rmsle = get_rmsle(y_test, predictions)\n",
    "\n",
    "    return rmsle"
   ]
  },
  {
   "cell_type": "code",
   "execution_count": 29,
   "metadata": {},
   "outputs": [
    {
     "name": "stderr",
     "output_type": "stream",
     "text": [
      "[I 2024-05-12 20:29:38,014] A new study created in memory with name: no-name-53a3ce76-2e43-4de7-996b-7c74b09d0e0d\n",
      "[I 2024-05-12 20:30:09,331] Trial 0 finished with value: 0.6975107591356479 and parameters: {'n_estimators': 1811, 'max_depth': 10, 'max_samples': 0.7453942447208348, 'max_features': 0.6187255599871848, 'min_weight_fraction_leaf': 0}. Best is trial 0 with value: 0.6975107591356479.\n",
      "[I 2024-05-12 20:30:11,634] Trial 1 finished with value: 1.1595879913113714 and parameters: {'n_estimators': 1046, 'max_depth': 2, 'max_samples': 0.10517943155978948, 'max_features': 0.8728673384861885, 'min_weight_fraction_leaf': 0}. Best is trial 0 with value: 0.6975107591356479.\n",
      "[I 2024-05-12 20:30:22,084] Trial 2 finished with value: 0.7732653872695374 and parameters: {'n_estimators': 2604, 'max_depth': 8, 'max_samples': 0.06955526958101232, 'max_features': 0.9714143595538947, 'min_weight_fraction_leaf': 0}. Best is trial 0 with value: 0.6975107591356479.\n",
      "[I 2024-05-12 20:30:28,130] Trial 3 finished with value: 1.214294740843848 and parameters: {'n_estimators': 3414, 'max_depth': 3, 'max_samples': 0.2227337188467456, 'max_features': 0.22423428436076215, 'min_weight_fraction_leaf': 0}. Best is trial 0 with value: 0.6975107591356479.\n",
      "[I 2024-05-12 20:30:34,638] Trial 4 finished with value: 0.9253242267837046 and parameters: {'n_estimators': 1565, 'max_depth': 6, 'max_samples': 0.46034776771000996, 'max_features': 0.32666768318813977, 'min_weight_fraction_leaf': 0}. Best is trial 0 with value: 0.6975107591356479.\n",
      "[I 2024-05-12 20:30:40,569] Trial 5 finished with value: 1.224194129322173 and parameters: {'n_estimators': 2642, 'max_depth': 2, 'max_samples': 0.3275374161084572, 'max_features': 0.3980437511290071, 'min_weight_fraction_leaf': 0}. Best is trial 0 with value: 0.6975107591356479.\n",
      "[I 2024-05-12 20:30:52,831] Trial 6 finished with value: 0.7639324627460163 and parameters: {'n_estimators': 2096, 'max_depth': 8, 'max_samples': 0.23969009305044175, 'max_features': 0.538522716492931, 'min_weight_fraction_leaf': 0}. Best is trial 0 with value: 0.6975107591356479.\n",
      "[I 2024-05-12 20:30:57,234] Trial 7 finished with value: 1.4386553273344704 and parameters: {'n_estimators': 2574, 'max_depth': 1, 'max_samples': 0.6271676093063665, 'max_features': 0.21199791750292696, 'min_weight_fraction_leaf': 0}. Best is trial 0 with value: 0.6975107591356479.\n",
      "[I 2024-05-12 20:31:15,225] Trial 8 finished with value: 0.6956468752457899 and parameters: {'n_estimators': 727, 'max_depth': 10, 'max_samples': 0.9673504314208314, 'max_features': 0.8179774807106381, 'min_weight_fraction_leaf': 0}. Best is trial 8 with value: 0.6956468752457899.\n",
      "[I 2024-05-12 20:31:18,808] Trial 9 finished with value: 1.3654324150894075 and parameters: {'n_estimators': 1566, 'max_depth': 1, 'max_samples': 0.700021375186549, 'max_features': 0.4681448690526212, 'min_weight_fraction_leaf': 0}. Best is trial 8 with value: 0.6956468752457899.\n",
      "[I 2024-05-12 20:31:31,436] Trial 10 finished with value: 0.6959260705164123 and parameters: {'n_estimators': 571, 'max_depth': 10, 'max_samples': 0.9710602552484724, 'max_features': 0.7241578540621256, 'min_weight_fraction_leaf': 0}. Best is trial 8 with value: 0.6956468752457899.\n",
      "[I 2024-05-12 20:31:45,265] Trial 11 finished with value: 0.6955952060677775 and parameters: {'n_estimators': 550, 'max_depth': 10, 'max_samples': 0.9877470050017445, 'max_features': 0.7730149086140286, 'min_weight_fraction_leaf': 0}. Best is trial 11 with value: 0.6955952060677775.\n",
      "[I 2024-05-12 20:31:57,543] Trial 12 finished with value: 0.7517725350444968 and parameters: {'n_estimators': 620, 'max_depth': 8, 'max_samples': 0.9960533070015573, 'max_features': 0.7759762314591196, 'min_weight_fraction_leaf': 0}. Best is trial 11 with value: 0.6955952060677775.\n",
      "[I 2024-05-12 20:32:11,352] Trial 13 finished with value: 0.8415364879698982 and parameters: {'n_estimators': 1114, 'max_depth': 6, 'max_samples': 0.8649698988918638, 'max_features': 0.6928534052914541, 'min_weight_fraction_leaf': 0}. Best is trial 11 with value: 0.6955952060677775.\n",
      "[I 2024-05-12 20:32:38,312] Trial 14 finished with value: 0.6964514778797687 and parameters: {'n_estimators': 1060, 'max_depth': 10, 'max_samples': 0.8411074694429032, 'max_features': 0.8626263855845917, 'min_weight_fraction_leaf': 0}. Best is trial 11 with value: 0.6955952060677775.\n",
      "[I 2024-05-12 20:33:50,742] Trial 15 finished with value: 0.7231198535865726 and parameters: {'n_estimators': 3692, 'max_depth': 9, 'max_samples': 0.5415754267067965, 'max_features': 0.917606803555867, 'min_weight_fraction_leaf': 0}. Best is trial 11 with value: 0.6955952060677775.\n",
      "[I 2024-05-12 20:33:56,381] Trial 16 finished with value: 0.9188334135724725 and parameters: {'n_estimators': 552, 'max_depth': 5, 'max_samples': 0.8600923159660636, 'max_features': 0.611896464211815, 'min_weight_fraction_leaf': 0}. Best is trial 11 with value: 0.6955952060677775.\n",
      "[I 2024-05-12 20:34:18,105] Trial 17 finished with value: 0.7919811672968508 and parameters: {'n_estimators': 1182, 'max_depth': 7, 'max_samples': 0.9993943167094734, 'max_features': 0.8204389971281699, 'min_weight_fraction_leaf': 0}. Best is trial 11 with value: 0.6955952060677775.\n",
      "[I 2024-05-12 20:34:27,686] Trial 18 finished with value: 1.030643433354911 and parameters: {'n_estimators': 819, 'max_depth': 4, 'max_samples': 0.7960604413482161, 'max_features': 0.9974578705664652, 'min_weight_fraction_leaf': 0}. Best is trial 11 with value: 0.6955952060677775.\n",
      "[I 2024-05-12 20:35:14,253] Trial 19 finished with value: 0.7221568569123665 and parameters: {'n_estimators': 3055, 'max_depth': 9, 'max_samples': 0.663112282499336, 'max_features': 0.66139777585444, 'min_weight_fraction_leaf': 0}. Best is trial 11 with value: 0.6955952060677775.\n",
      "[I 2024-05-12 20:35:46,506] Trial 20 finished with value: 0.7204068974264376 and parameters: {'n_estimators': 1425, 'max_depth': 9, 'max_samples': 0.9128767181444559, 'max_features': 0.76246240109856, 'min_weight_fraction_leaf': 0}. Best is trial 11 with value: 0.6955952060677775.\n",
      "[I 2024-05-12 20:36:01,028] Trial 21 finished with value: 0.69465994281129 and parameters: {'n_estimators': 631, 'max_depth': 10, 'max_samples': 0.9390046689278375, 'max_features': 0.7376193928070954, 'min_weight_fraction_leaf': 0}. Best is trial 21 with value: 0.69465994281129.\n",
      "[I 2024-05-12 20:36:15,878] Trial 22 finished with value: 0.7005096917746608 and parameters: {'n_estimators': 844, 'max_depth': 10, 'max_samples': 0.8972728217311797, 'max_features': 0.5604133073320753, 'min_weight_fraction_leaf': 0}. Best is trial 21 with value: 0.69465994281129.\n",
      "[I 2024-05-12 20:36:18,313] Trial 23 finished with value: 1.0049440172698623 and parameters: {'n_estimators': 518, 'max_depth': 9, 'max_samples': 0.9247072737697439, 'max_features': 0.06986788815923367, 'min_weight_fraction_leaf': 0}. Best is trial 21 with value: 0.69465994281129.\n",
      "[I 2024-05-12 20:36:49,671] Trial 24 finished with value: 0.7911182974383083 and parameters: {'n_estimators': 1956, 'max_depth': 7, 'max_samples': 0.7755600251691103, 'max_features': 0.8137972740893099, 'min_weight_fraction_leaf': 0}. Best is trial 21 with value: 0.69465994281129.\n",
      "[I 2024-05-12 20:37:13,977] Trial 25 finished with value: 0.6992061494369404 and parameters: {'n_estimators': 1398, 'max_depth': 10, 'max_samples': 0.5637558013236805, 'max_features': 0.7006058378548264, 'min_weight_fraction_leaf': 0}. Best is trial 21 with value: 0.69465994281129.\n",
      "[I 2024-05-12 20:37:30,487] Trial 26 finished with value: 0.7978152099304125 and parameters: {'n_estimators': 844, 'max_depth': 7, 'max_samples': 0.807781667726049, 'max_features': 0.9306347108281664, 'min_weight_fraction_leaf': 0}. Best is trial 21 with value: 0.69465994281129.\n",
      "[I 2024-05-12 20:37:49,580] Trial 27 finished with value: 0.7530033482502843 and parameters: {'n_estimators': 852, 'max_depth': 8, 'max_samples': 0.9363222978288375, 'max_features': 0.8632838532746385, 'min_weight_fraction_leaf': 0}. Best is trial 21 with value: 0.69465994281129.\n",
      "[I 2024-05-12 20:38:01,062] Trial 28 finished with value: 0.7359600885928993 and parameters: {'n_estimators': 1267, 'max_depth': 9, 'max_samples': 0.43367205627959193, 'max_features': 0.4611083306214668, 'min_weight_fraction_leaf': 0}. Best is trial 21 with value: 0.69465994281129.\n",
      "[I 2024-05-12 20:38:30,584] Trial 29 finished with value: 0.698299563731551 and parameters: {'n_estimators': 1641, 'max_depth': 10, 'max_samples': 0.7367246383423717, 'max_features': 0.6217877744397861, 'min_weight_fraction_leaf': 0}. Best is trial 21 with value: 0.69465994281129.\n"
     ]
    }
   ],
   "source": [
    "study_rf = optuna.create_study(direction='minimize', sampler=sampler)\n",
    "study_rf.optimize(objective_rf, n_trials=30)"
   ]
  },
  {
   "cell_type": "code",
   "execution_count": 30,
   "metadata": {},
   "outputs": [
    {
     "name": "stdout",
     "output_type": "stream",
     "text": [
      "Best hyperparameters:\n",
      "{'n_estimators': 631, 'max_depth': 10, 'max_samples': 0.9390046689278375, 'max_features': 0.7376193928070954, 'min_weight_fraction_leaf': 0}\n",
      "-----------------------------------------------------------------------------------------------------------------\n",
      "Best RMSLE:\n",
      "0.69465994281129\n"
     ]
    }
   ],
   "source": [
    "print(\"Best hyperparameters:\", study_rf.best_params, sep=\"\\n\")\n",
    "print(\"-----------------------------------------------------------------------------------------------------------------\")\n",
    "print(\"Best RMSLE:\", study_rf.best_value, sep=\"\\n\")"
   ]
  },
  {
   "cell_type": "code",
   "execution_count": 31,
   "metadata": {},
   "outputs": [
    {
     "data": {
      "application/vnd.plotly.v1+json": {
       "config": {
        "plotlyServerURL": "https://plot.ly"
       },
       "data": [
        {
         "cliponaxis": false,
         "hovertemplate": [
          "min_weight_fraction_leaf (IntDistribution): 0.0<extra></extra>",
          "n_estimators (IntDistribution): 0.006935719687284937<extra></extra>",
          "max_samples (FloatDistribution): 0.008241064598069427<extra></extra>",
          "max_features (FloatDistribution): 0.05233685111358294<extra></extra>",
          "max_depth (IntDistribution): 0.9324863646010628<extra></extra>"
         ],
         "name": "Objective Value",
         "orientation": "h",
         "text": [
          "<0.01",
          "<0.01",
          "<0.01",
          "0.05",
          "0.93"
         ],
         "textposition": "outside",
         "type": "bar",
         "x": [
          0,
          0.006935719687284937,
          0.008241064598069427,
          0.05233685111358294,
          0.9324863646010628
         ],
         "y": [
          "min_weight_fraction_leaf",
          "n_estimators",
          "max_samples",
          "max_features",
          "max_depth"
         ]
        }
       ],
       "layout": {
        "template": {
         "data": {
          "bar": [
           {
            "error_x": {
             "color": "#2a3f5f"
            },
            "error_y": {
             "color": "#2a3f5f"
            },
            "marker": {
             "line": {
              "color": "#E5ECF6",
              "width": 0.5
             },
             "pattern": {
              "fillmode": "overlay",
              "size": 10,
              "solidity": 0.2
             }
            },
            "type": "bar"
           }
          ],
          "barpolar": [
           {
            "marker": {
             "line": {
              "color": "#E5ECF6",
              "width": 0.5
             },
             "pattern": {
              "fillmode": "overlay",
              "size": 10,
              "solidity": 0.2
             }
            },
            "type": "barpolar"
           }
          ],
          "carpet": [
           {
            "aaxis": {
             "endlinecolor": "#2a3f5f",
             "gridcolor": "white",
             "linecolor": "white",
             "minorgridcolor": "white",
             "startlinecolor": "#2a3f5f"
            },
            "baxis": {
             "endlinecolor": "#2a3f5f",
             "gridcolor": "white",
             "linecolor": "white",
             "minorgridcolor": "white",
             "startlinecolor": "#2a3f5f"
            },
            "type": "carpet"
           }
          ],
          "choropleth": [
           {
            "colorbar": {
             "outlinewidth": 0,
             "ticks": ""
            },
            "type": "choropleth"
           }
          ],
          "contour": [
           {
            "colorbar": {
             "outlinewidth": 0,
             "ticks": ""
            },
            "colorscale": [
             [
              0,
              "#0d0887"
             ],
             [
              0.1111111111111111,
              "#46039f"
             ],
             [
              0.2222222222222222,
              "#7201a8"
             ],
             [
              0.3333333333333333,
              "#9c179e"
             ],
             [
              0.4444444444444444,
              "#bd3786"
             ],
             [
              0.5555555555555556,
              "#d8576b"
             ],
             [
              0.6666666666666666,
              "#ed7953"
             ],
             [
              0.7777777777777778,
              "#fb9f3a"
             ],
             [
              0.8888888888888888,
              "#fdca26"
             ],
             [
              1,
              "#f0f921"
             ]
            ],
            "type": "contour"
           }
          ],
          "contourcarpet": [
           {
            "colorbar": {
             "outlinewidth": 0,
             "ticks": ""
            },
            "type": "contourcarpet"
           }
          ],
          "heatmap": [
           {
            "colorbar": {
             "outlinewidth": 0,
             "ticks": ""
            },
            "colorscale": [
             [
              0,
              "#0d0887"
             ],
             [
              0.1111111111111111,
              "#46039f"
             ],
             [
              0.2222222222222222,
              "#7201a8"
             ],
             [
              0.3333333333333333,
              "#9c179e"
             ],
             [
              0.4444444444444444,
              "#bd3786"
             ],
             [
              0.5555555555555556,
              "#d8576b"
             ],
             [
              0.6666666666666666,
              "#ed7953"
             ],
             [
              0.7777777777777778,
              "#fb9f3a"
             ],
             [
              0.8888888888888888,
              "#fdca26"
             ],
             [
              1,
              "#f0f921"
             ]
            ],
            "type": "heatmap"
           }
          ],
          "heatmapgl": [
           {
            "colorbar": {
             "outlinewidth": 0,
             "ticks": ""
            },
            "colorscale": [
             [
              0,
              "#0d0887"
             ],
             [
              0.1111111111111111,
              "#46039f"
             ],
             [
              0.2222222222222222,
              "#7201a8"
             ],
             [
              0.3333333333333333,
              "#9c179e"
             ],
             [
              0.4444444444444444,
              "#bd3786"
             ],
             [
              0.5555555555555556,
              "#d8576b"
             ],
             [
              0.6666666666666666,
              "#ed7953"
             ],
             [
              0.7777777777777778,
              "#fb9f3a"
             ],
             [
              0.8888888888888888,
              "#fdca26"
             ],
             [
              1,
              "#f0f921"
             ]
            ],
            "type": "heatmapgl"
           }
          ],
          "histogram": [
           {
            "marker": {
             "pattern": {
              "fillmode": "overlay",
              "size": 10,
              "solidity": 0.2
             }
            },
            "type": "histogram"
           }
          ],
          "histogram2d": [
           {
            "colorbar": {
             "outlinewidth": 0,
             "ticks": ""
            },
            "colorscale": [
             [
              0,
              "#0d0887"
             ],
             [
              0.1111111111111111,
              "#46039f"
             ],
             [
              0.2222222222222222,
              "#7201a8"
             ],
             [
              0.3333333333333333,
              "#9c179e"
             ],
             [
              0.4444444444444444,
              "#bd3786"
             ],
             [
              0.5555555555555556,
              "#d8576b"
             ],
             [
              0.6666666666666666,
              "#ed7953"
             ],
             [
              0.7777777777777778,
              "#fb9f3a"
             ],
             [
              0.8888888888888888,
              "#fdca26"
             ],
             [
              1,
              "#f0f921"
             ]
            ],
            "type": "histogram2d"
           }
          ],
          "histogram2dcontour": [
           {
            "colorbar": {
             "outlinewidth": 0,
             "ticks": ""
            },
            "colorscale": [
             [
              0,
              "#0d0887"
             ],
             [
              0.1111111111111111,
              "#46039f"
             ],
             [
              0.2222222222222222,
              "#7201a8"
             ],
             [
              0.3333333333333333,
              "#9c179e"
             ],
             [
              0.4444444444444444,
              "#bd3786"
             ],
             [
              0.5555555555555556,
              "#d8576b"
             ],
             [
              0.6666666666666666,
              "#ed7953"
             ],
             [
              0.7777777777777778,
              "#fb9f3a"
             ],
             [
              0.8888888888888888,
              "#fdca26"
             ],
             [
              1,
              "#f0f921"
             ]
            ],
            "type": "histogram2dcontour"
           }
          ],
          "mesh3d": [
           {
            "colorbar": {
             "outlinewidth": 0,
             "ticks": ""
            },
            "type": "mesh3d"
           }
          ],
          "parcoords": [
           {
            "line": {
             "colorbar": {
              "outlinewidth": 0,
              "ticks": ""
             }
            },
            "type": "parcoords"
           }
          ],
          "pie": [
           {
            "automargin": true,
            "type": "pie"
           }
          ],
          "scatter": [
           {
            "fillpattern": {
             "fillmode": "overlay",
             "size": 10,
             "solidity": 0.2
            },
            "type": "scatter"
           }
          ],
          "scatter3d": [
           {
            "line": {
             "colorbar": {
              "outlinewidth": 0,
              "ticks": ""
             }
            },
            "marker": {
             "colorbar": {
              "outlinewidth": 0,
              "ticks": ""
             }
            },
            "type": "scatter3d"
           }
          ],
          "scattercarpet": [
           {
            "marker": {
             "colorbar": {
              "outlinewidth": 0,
              "ticks": ""
             }
            },
            "type": "scattercarpet"
           }
          ],
          "scattergeo": [
           {
            "marker": {
             "colorbar": {
              "outlinewidth": 0,
              "ticks": ""
             }
            },
            "type": "scattergeo"
           }
          ],
          "scattergl": [
           {
            "marker": {
             "colorbar": {
              "outlinewidth": 0,
              "ticks": ""
             }
            },
            "type": "scattergl"
           }
          ],
          "scattermapbox": [
           {
            "marker": {
             "colorbar": {
              "outlinewidth": 0,
              "ticks": ""
             }
            },
            "type": "scattermapbox"
           }
          ],
          "scatterpolar": [
           {
            "marker": {
             "colorbar": {
              "outlinewidth": 0,
              "ticks": ""
             }
            },
            "type": "scatterpolar"
           }
          ],
          "scatterpolargl": [
           {
            "marker": {
             "colorbar": {
              "outlinewidth": 0,
              "ticks": ""
             }
            },
            "type": "scatterpolargl"
           }
          ],
          "scatterternary": [
           {
            "marker": {
             "colorbar": {
              "outlinewidth": 0,
              "ticks": ""
             }
            },
            "type": "scatterternary"
           }
          ],
          "surface": [
           {
            "colorbar": {
             "outlinewidth": 0,
             "ticks": ""
            },
            "colorscale": [
             [
              0,
              "#0d0887"
             ],
             [
              0.1111111111111111,
              "#46039f"
             ],
             [
              0.2222222222222222,
              "#7201a8"
             ],
             [
              0.3333333333333333,
              "#9c179e"
             ],
             [
              0.4444444444444444,
              "#bd3786"
             ],
             [
              0.5555555555555556,
              "#d8576b"
             ],
             [
              0.6666666666666666,
              "#ed7953"
             ],
             [
              0.7777777777777778,
              "#fb9f3a"
             ],
             [
              0.8888888888888888,
              "#fdca26"
             ],
             [
              1,
              "#f0f921"
             ]
            ],
            "type": "surface"
           }
          ],
          "table": [
           {
            "cells": {
             "fill": {
              "color": "#EBF0F8"
             },
             "line": {
              "color": "white"
             }
            },
            "header": {
             "fill": {
              "color": "#C8D4E3"
             },
             "line": {
              "color": "white"
             }
            },
            "type": "table"
           }
          ]
         },
         "layout": {
          "annotationdefaults": {
           "arrowcolor": "#2a3f5f",
           "arrowhead": 0,
           "arrowwidth": 1
          },
          "autotypenumbers": "strict",
          "coloraxis": {
           "colorbar": {
            "outlinewidth": 0,
            "ticks": ""
           }
          },
          "colorscale": {
           "diverging": [
            [
             0,
             "#8e0152"
            ],
            [
             0.1,
             "#c51b7d"
            ],
            [
             0.2,
             "#de77ae"
            ],
            [
             0.3,
             "#f1b6da"
            ],
            [
             0.4,
             "#fde0ef"
            ],
            [
             0.5,
             "#f7f7f7"
            ],
            [
             0.6,
             "#e6f5d0"
            ],
            [
             0.7,
             "#b8e186"
            ],
            [
             0.8,
             "#7fbc41"
            ],
            [
             0.9,
             "#4d9221"
            ],
            [
             1,
             "#276419"
            ]
           ],
           "sequential": [
            [
             0,
             "#0d0887"
            ],
            [
             0.1111111111111111,
             "#46039f"
            ],
            [
             0.2222222222222222,
             "#7201a8"
            ],
            [
             0.3333333333333333,
             "#9c179e"
            ],
            [
             0.4444444444444444,
             "#bd3786"
            ],
            [
             0.5555555555555556,
             "#d8576b"
            ],
            [
             0.6666666666666666,
             "#ed7953"
            ],
            [
             0.7777777777777778,
             "#fb9f3a"
            ],
            [
             0.8888888888888888,
             "#fdca26"
            ],
            [
             1,
             "#f0f921"
            ]
           ],
           "sequentialminus": [
            [
             0,
             "#0d0887"
            ],
            [
             0.1111111111111111,
             "#46039f"
            ],
            [
             0.2222222222222222,
             "#7201a8"
            ],
            [
             0.3333333333333333,
             "#9c179e"
            ],
            [
             0.4444444444444444,
             "#bd3786"
            ],
            [
             0.5555555555555556,
             "#d8576b"
            ],
            [
             0.6666666666666666,
             "#ed7953"
            ],
            [
             0.7777777777777778,
             "#fb9f3a"
            ],
            [
             0.8888888888888888,
             "#fdca26"
            ],
            [
             1,
             "#f0f921"
            ]
           ]
          },
          "colorway": [
           "#636efa",
           "#EF553B",
           "#00cc96",
           "#ab63fa",
           "#FFA15A",
           "#19d3f3",
           "#FF6692",
           "#B6E880",
           "#FF97FF",
           "#FECB52"
          ],
          "font": {
           "color": "#2a3f5f"
          },
          "geo": {
           "bgcolor": "white",
           "lakecolor": "white",
           "landcolor": "#E5ECF6",
           "showlakes": true,
           "showland": true,
           "subunitcolor": "white"
          },
          "hoverlabel": {
           "align": "left"
          },
          "hovermode": "closest",
          "mapbox": {
           "style": "light"
          },
          "paper_bgcolor": "white",
          "plot_bgcolor": "#E5ECF6",
          "polar": {
           "angularaxis": {
            "gridcolor": "white",
            "linecolor": "white",
            "ticks": ""
           },
           "bgcolor": "#E5ECF6",
           "radialaxis": {
            "gridcolor": "white",
            "linecolor": "white",
            "ticks": ""
           }
          },
          "scene": {
           "xaxis": {
            "backgroundcolor": "#E5ECF6",
            "gridcolor": "white",
            "gridwidth": 2,
            "linecolor": "white",
            "showbackground": true,
            "ticks": "",
            "zerolinecolor": "white"
           },
           "yaxis": {
            "backgroundcolor": "#E5ECF6",
            "gridcolor": "white",
            "gridwidth": 2,
            "linecolor": "white",
            "showbackground": true,
            "ticks": "",
            "zerolinecolor": "white"
           },
           "zaxis": {
            "backgroundcolor": "#E5ECF6",
            "gridcolor": "white",
            "gridwidth": 2,
            "linecolor": "white",
            "showbackground": true,
            "ticks": "",
            "zerolinecolor": "white"
           }
          },
          "shapedefaults": {
           "line": {
            "color": "#2a3f5f"
           }
          },
          "ternary": {
           "aaxis": {
            "gridcolor": "white",
            "linecolor": "white",
            "ticks": ""
           },
           "baxis": {
            "gridcolor": "white",
            "linecolor": "white",
            "ticks": ""
           },
           "bgcolor": "#E5ECF6",
           "caxis": {
            "gridcolor": "white",
            "linecolor": "white",
            "ticks": ""
           }
          },
          "title": {
           "x": 0.05
          },
          "xaxis": {
           "automargin": true,
           "gridcolor": "white",
           "linecolor": "white",
           "ticks": "",
           "title": {
            "standoff": 15
           },
           "zerolinecolor": "white",
           "zerolinewidth": 2
          },
          "yaxis": {
           "automargin": true,
           "gridcolor": "white",
           "linecolor": "white",
           "ticks": "",
           "title": {
            "standoff": 15
           },
           "zerolinecolor": "white",
           "zerolinewidth": 2
          }
         }
        },
        "title": {
         "text": "Hyperparameter Importances"
        },
        "xaxis": {
         "title": {
          "text": "Hyperparameter Importance"
         }
        },
        "yaxis": {
         "title": {
          "text": "Hyperparameter"
         }
        }
       }
      }
     },
     "metadata": {},
     "output_type": "display_data"
    }
   ],
   "source": [
    "# 하이퍼파라미터별 중요도를 확인할 수 있는 그래프\n",
    "optuna.visualization.plot_param_importances(study_rf)"
   ]
  },
  {
   "cell_type": "code",
   "execution_count": 32,
   "metadata": {},
   "outputs": [
    {
     "data": {
      "application/vnd.plotly.v1+json": {
       "config": {
        "plotlyServerURL": "https://plot.ly"
       },
       "data": [
        {
         "mode": "markers",
         "name": "Objective Value",
         "type": "scatter",
         "x": [
          0,
          1,
          2,
          3,
          4,
          5,
          6,
          7,
          8,
          9,
          10,
          11,
          12,
          13,
          14,
          15,
          16,
          17,
          18,
          19,
          20,
          21,
          22,
          23,
          24,
          25,
          26,
          27,
          28,
          29
         ],
         "y": [
          0.6975107591356479,
          1.1595879913113714,
          0.7732653872695374,
          1.214294740843848,
          0.9253242267837046,
          1.224194129322173,
          0.7639324627460163,
          1.4386553273344704,
          0.6956468752457899,
          1.3654324150894075,
          0.6959260705164123,
          0.6955952060677775,
          0.7517725350444968,
          0.8415364879698982,
          0.6964514778797687,
          0.7231198535865726,
          0.9188334135724725,
          0.7919811672968508,
          1.030643433354911,
          0.7221568569123665,
          0.7204068974264376,
          0.69465994281129,
          0.7005096917746608,
          1.0049440172698623,
          0.7911182974383083,
          0.6992061494369404,
          0.7978152099304125,
          0.7530033482502843,
          0.7359600885928993,
          0.698299563731551
         ]
        },
        {
         "mode": "lines",
         "name": "Best Value",
         "type": "scatter",
         "x": [
          0,
          1,
          2,
          3,
          4,
          5,
          6,
          7,
          8,
          9,
          10,
          11,
          12,
          13,
          14,
          15,
          16,
          17,
          18,
          19,
          20,
          21,
          22,
          23,
          24,
          25,
          26,
          27,
          28,
          29
         ],
         "y": [
          0.6975107591356479,
          0.6975107591356479,
          0.6975107591356479,
          0.6975107591356479,
          0.6975107591356479,
          0.6975107591356479,
          0.6975107591356479,
          0.6975107591356479,
          0.6956468752457899,
          0.6956468752457899,
          0.6956468752457899,
          0.6955952060677775,
          0.6955952060677775,
          0.6955952060677775,
          0.6955952060677775,
          0.6955952060677775,
          0.6955952060677775,
          0.6955952060677775,
          0.6955952060677775,
          0.6955952060677775,
          0.6955952060677775,
          0.69465994281129,
          0.69465994281129,
          0.69465994281129,
          0.69465994281129,
          0.69465994281129,
          0.69465994281129,
          0.69465994281129,
          0.69465994281129,
          0.69465994281129
         ]
        },
        {
         "marker": {
          "color": "#cccccc"
         },
         "mode": "markers",
         "name": "Infeasible Trial",
         "showlegend": false,
         "type": "scatter",
         "x": [],
         "y": []
        }
       ],
       "layout": {
        "template": {
         "data": {
          "bar": [
           {
            "error_x": {
             "color": "#2a3f5f"
            },
            "error_y": {
             "color": "#2a3f5f"
            },
            "marker": {
             "line": {
              "color": "#E5ECF6",
              "width": 0.5
             },
             "pattern": {
              "fillmode": "overlay",
              "size": 10,
              "solidity": 0.2
             }
            },
            "type": "bar"
           }
          ],
          "barpolar": [
           {
            "marker": {
             "line": {
              "color": "#E5ECF6",
              "width": 0.5
             },
             "pattern": {
              "fillmode": "overlay",
              "size": 10,
              "solidity": 0.2
             }
            },
            "type": "barpolar"
           }
          ],
          "carpet": [
           {
            "aaxis": {
             "endlinecolor": "#2a3f5f",
             "gridcolor": "white",
             "linecolor": "white",
             "minorgridcolor": "white",
             "startlinecolor": "#2a3f5f"
            },
            "baxis": {
             "endlinecolor": "#2a3f5f",
             "gridcolor": "white",
             "linecolor": "white",
             "minorgridcolor": "white",
             "startlinecolor": "#2a3f5f"
            },
            "type": "carpet"
           }
          ],
          "choropleth": [
           {
            "colorbar": {
             "outlinewidth": 0,
             "ticks": ""
            },
            "type": "choropleth"
           }
          ],
          "contour": [
           {
            "colorbar": {
             "outlinewidth": 0,
             "ticks": ""
            },
            "colorscale": [
             [
              0,
              "#0d0887"
             ],
             [
              0.1111111111111111,
              "#46039f"
             ],
             [
              0.2222222222222222,
              "#7201a8"
             ],
             [
              0.3333333333333333,
              "#9c179e"
             ],
             [
              0.4444444444444444,
              "#bd3786"
             ],
             [
              0.5555555555555556,
              "#d8576b"
             ],
             [
              0.6666666666666666,
              "#ed7953"
             ],
             [
              0.7777777777777778,
              "#fb9f3a"
             ],
             [
              0.8888888888888888,
              "#fdca26"
             ],
             [
              1,
              "#f0f921"
             ]
            ],
            "type": "contour"
           }
          ],
          "contourcarpet": [
           {
            "colorbar": {
             "outlinewidth": 0,
             "ticks": ""
            },
            "type": "contourcarpet"
           }
          ],
          "heatmap": [
           {
            "colorbar": {
             "outlinewidth": 0,
             "ticks": ""
            },
            "colorscale": [
             [
              0,
              "#0d0887"
             ],
             [
              0.1111111111111111,
              "#46039f"
             ],
             [
              0.2222222222222222,
              "#7201a8"
             ],
             [
              0.3333333333333333,
              "#9c179e"
             ],
             [
              0.4444444444444444,
              "#bd3786"
             ],
             [
              0.5555555555555556,
              "#d8576b"
             ],
             [
              0.6666666666666666,
              "#ed7953"
             ],
             [
              0.7777777777777778,
              "#fb9f3a"
             ],
             [
              0.8888888888888888,
              "#fdca26"
             ],
             [
              1,
              "#f0f921"
             ]
            ],
            "type": "heatmap"
           }
          ],
          "heatmapgl": [
           {
            "colorbar": {
             "outlinewidth": 0,
             "ticks": ""
            },
            "colorscale": [
             [
              0,
              "#0d0887"
             ],
             [
              0.1111111111111111,
              "#46039f"
             ],
             [
              0.2222222222222222,
              "#7201a8"
             ],
             [
              0.3333333333333333,
              "#9c179e"
             ],
             [
              0.4444444444444444,
              "#bd3786"
             ],
             [
              0.5555555555555556,
              "#d8576b"
             ],
             [
              0.6666666666666666,
              "#ed7953"
             ],
             [
              0.7777777777777778,
              "#fb9f3a"
             ],
             [
              0.8888888888888888,
              "#fdca26"
             ],
             [
              1,
              "#f0f921"
             ]
            ],
            "type": "heatmapgl"
           }
          ],
          "histogram": [
           {
            "marker": {
             "pattern": {
              "fillmode": "overlay",
              "size": 10,
              "solidity": 0.2
             }
            },
            "type": "histogram"
           }
          ],
          "histogram2d": [
           {
            "colorbar": {
             "outlinewidth": 0,
             "ticks": ""
            },
            "colorscale": [
             [
              0,
              "#0d0887"
             ],
             [
              0.1111111111111111,
              "#46039f"
             ],
             [
              0.2222222222222222,
              "#7201a8"
             ],
             [
              0.3333333333333333,
              "#9c179e"
             ],
             [
              0.4444444444444444,
              "#bd3786"
             ],
             [
              0.5555555555555556,
              "#d8576b"
             ],
             [
              0.6666666666666666,
              "#ed7953"
             ],
             [
              0.7777777777777778,
              "#fb9f3a"
             ],
             [
              0.8888888888888888,
              "#fdca26"
             ],
             [
              1,
              "#f0f921"
             ]
            ],
            "type": "histogram2d"
           }
          ],
          "histogram2dcontour": [
           {
            "colorbar": {
             "outlinewidth": 0,
             "ticks": ""
            },
            "colorscale": [
             [
              0,
              "#0d0887"
             ],
             [
              0.1111111111111111,
              "#46039f"
             ],
             [
              0.2222222222222222,
              "#7201a8"
             ],
             [
              0.3333333333333333,
              "#9c179e"
             ],
             [
              0.4444444444444444,
              "#bd3786"
             ],
             [
              0.5555555555555556,
              "#d8576b"
             ],
             [
              0.6666666666666666,
              "#ed7953"
             ],
             [
              0.7777777777777778,
              "#fb9f3a"
             ],
             [
              0.8888888888888888,
              "#fdca26"
             ],
             [
              1,
              "#f0f921"
             ]
            ],
            "type": "histogram2dcontour"
           }
          ],
          "mesh3d": [
           {
            "colorbar": {
             "outlinewidth": 0,
             "ticks": ""
            },
            "type": "mesh3d"
           }
          ],
          "parcoords": [
           {
            "line": {
             "colorbar": {
              "outlinewidth": 0,
              "ticks": ""
             }
            },
            "type": "parcoords"
           }
          ],
          "pie": [
           {
            "automargin": true,
            "type": "pie"
           }
          ],
          "scatter": [
           {
            "fillpattern": {
             "fillmode": "overlay",
             "size": 10,
             "solidity": 0.2
            },
            "type": "scatter"
           }
          ],
          "scatter3d": [
           {
            "line": {
             "colorbar": {
              "outlinewidth": 0,
              "ticks": ""
             }
            },
            "marker": {
             "colorbar": {
              "outlinewidth": 0,
              "ticks": ""
             }
            },
            "type": "scatter3d"
           }
          ],
          "scattercarpet": [
           {
            "marker": {
             "colorbar": {
              "outlinewidth": 0,
              "ticks": ""
             }
            },
            "type": "scattercarpet"
           }
          ],
          "scattergeo": [
           {
            "marker": {
             "colorbar": {
              "outlinewidth": 0,
              "ticks": ""
             }
            },
            "type": "scattergeo"
           }
          ],
          "scattergl": [
           {
            "marker": {
             "colorbar": {
              "outlinewidth": 0,
              "ticks": ""
             }
            },
            "type": "scattergl"
           }
          ],
          "scattermapbox": [
           {
            "marker": {
             "colorbar": {
              "outlinewidth": 0,
              "ticks": ""
             }
            },
            "type": "scattermapbox"
           }
          ],
          "scatterpolar": [
           {
            "marker": {
             "colorbar": {
              "outlinewidth": 0,
              "ticks": ""
             }
            },
            "type": "scatterpolar"
           }
          ],
          "scatterpolargl": [
           {
            "marker": {
             "colorbar": {
              "outlinewidth": 0,
              "ticks": ""
             }
            },
            "type": "scatterpolargl"
           }
          ],
          "scatterternary": [
           {
            "marker": {
             "colorbar": {
              "outlinewidth": 0,
              "ticks": ""
             }
            },
            "type": "scatterternary"
           }
          ],
          "surface": [
           {
            "colorbar": {
             "outlinewidth": 0,
             "ticks": ""
            },
            "colorscale": [
             [
              0,
              "#0d0887"
             ],
             [
              0.1111111111111111,
              "#46039f"
             ],
             [
              0.2222222222222222,
              "#7201a8"
             ],
             [
              0.3333333333333333,
              "#9c179e"
             ],
             [
              0.4444444444444444,
              "#bd3786"
             ],
             [
              0.5555555555555556,
              "#d8576b"
             ],
             [
              0.6666666666666666,
              "#ed7953"
             ],
             [
              0.7777777777777778,
              "#fb9f3a"
             ],
             [
              0.8888888888888888,
              "#fdca26"
             ],
             [
              1,
              "#f0f921"
             ]
            ],
            "type": "surface"
           }
          ],
          "table": [
           {
            "cells": {
             "fill": {
              "color": "#EBF0F8"
             },
             "line": {
              "color": "white"
             }
            },
            "header": {
             "fill": {
              "color": "#C8D4E3"
             },
             "line": {
              "color": "white"
             }
            },
            "type": "table"
           }
          ]
         },
         "layout": {
          "annotationdefaults": {
           "arrowcolor": "#2a3f5f",
           "arrowhead": 0,
           "arrowwidth": 1
          },
          "autotypenumbers": "strict",
          "coloraxis": {
           "colorbar": {
            "outlinewidth": 0,
            "ticks": ""
           }
          },
          "colorscale": {
           "diverging": [
            [
             0,
             "#8e0152"
            ],
            [
             0.1,
             "#c51b7d"
            ],
            [
             0.2,
             "#de77ae"
            ],
            [
             0.3,
             "#f1b6da"
            ],
            [
             0.4,
             "#fde0ef"
            ],
            [
             0.5,
             "#f7f7f7"
            ],
            [
             0.6,
             "#e6f5d0"
            ],
            [
             0.7,
             "#b8e186"
            ],
            [
             0.8,
             "#7fbc41"
            ],
            [
             0.9,
             "#4d9221"
            ],
            [
             1,
             "#276419"
            ]
           ],
           "sequential": [
            [
             0,
             "#0d0887"
            ],
            [
             0.1111111111111111,
             "#46039f"
            ],
            [
             0.2222222222222222,
             "#7201a8"
            ],
            [
             0.3333333333333333,
             "#9c179e"
            ],
            [
             0.4444444444444444,
             "#bd3786"
            ],
            [
             0.5555555555555556,
             "#d8576b"
            ],
            [
             0.6666666666666666,
             "#ed7953"
            ],
            [
             0.7777777777777778,
             "#fb9f3a"
            ],
            [
             0.8888888888888888,
             "#fdca26"
            ],
            [
             1,
             "#f0f921"
            ]
           ],
           "sequentialminus": [
            [
             0,
             "#0d0887"
            ],
            [
             0.1111111111111111,
             "#46039f"
            ],
            [
             0.2222222222222222,
             "#7201a8"
            ],
            [
             0.3333333333333333,
             "#9c179e"
            ],
            [
             0.4444444444444444,
             "#bd3786"
            ],
            [
             0.5555555555555556,
             "#d8576b"
            ],
            [
             0.6666666666666666,
             "#ed7953"
            ],
            [
             0.7777777777777778,
             "#fb9f3a"
            ],
            [
             0.8888888888888888,
             "#fdca26"
            ],
            [
             1,
             "#f0f921"
            ]
           ]
          },
          "colorway": [
           "#636efa",
           "#EF553B",
           "#00cc96",
           "#ab63fa",
           "#FFA15A",
           "#19d3f3",
           "#FF6692",
           "#B6E880",
           "#FF97FF",
           "#FECB52"
          ],
          "font": {
           "color": "#2a3f5f"
          },
          "geo": {
           "bgcolor": "white",
           "lakecolor": "white",
           "landcolor": "#E5ECF6",
           "showlakes": true,
           "showland": true,
           "subunitcolor": "white"
          },
          "hoverlabel": {
           "align": "left"
          },
          "hovermode": "closest",
          "mapbox": {
           "style": "light"
          },
          "paper_bgcolor": "white",
          "plot_bgcolor": "#E5ECF6",
          "polar": {
           "angularaxis": {
            "gridcolor": "white",
            "linecolor": "white",
            "ticks": ""
           },
           "bgcolor": "#E5ECF6",
           "radialaxis": {
            "gridcolor": "white",
            "linecolor": "white",
            "ticks": ""
           }
          },
          "scene": {
           "xaxis": {
            "backgroundcolor": "#E5ECF6",
            "gridcolor": "white",
            "gridwidth": 2,
            "linecolor": "white",
            "showbackground": true,
            "ticks": "",
            "zerolinecolor": "white"
           },
           "yaxis": {
            "backgroundcolor": "#E5ECF6",
            "gridcolor": "white",
            "gridwidth": 2,
            "linecolor": "white",
            "showbackground": true,
            "ticks": "",
            "zerolinecolor": "white"
           },
           "zaxis": {
            "backgroundcolor": "#E5ECF6",
            "gridcolor": "white",
            "gridwidth": 2,
            "linecolor": "white",
            "showbackground": true,
            "ticks": "",
            "zerolinecolor": "white"
           }
          },
          "shapedefaults": {
           "line": {
            "color": "#2a3f5f"
           }
          },
          "ternary": {
           "aaxis": {
            "gridcolor": "white",
            "linecolor": "white",
            "ticks": ""
           },
           "baxis": {
            "gridcolor": "white",
            "linecolor": "white",
            "ticks": ""
           },
           "bgcolor": "#E5ECF6",
           "caxis": {
            "gridcolor": "white",
            "linecolor": "white",
            "ticks": ""
           }
          },
          "title": {
           "x": 0.05
          },
          "xaxis": {
           "automargin": true,
           "gridcolor": "white",
           "linecolor": "white",
           "ticks": "",
           "title": {
            "standoff": 15
           },
           "zerolinecolor": "white",
           "zerolinewidth": 2
          },
          "yaxis": {
           "automargin": true,
           "gridcolor": "white",
           "linecolor": "white",
           "ticks": "",
           "title": {
            "standoff": 15
           },
           "zerolinecolor": "white",
           "zerolinewidth": 2
          }
         }
        },
        "title": {
         "text": "Optimization History Plot"
        },
        "xaxis": {
         "title": {
          "text": "Trial"
         }
        },
        "yaxis": {
         "title": {
          "text": "Objective Value"
         }
        }
       }
      }
     },
     "metadata": {},
     "output_type": "display_data"
    }
   ],
   "source": [
    "# 하이퍼파라미터 최적화 과정을 확인\n",
    "optuna.visualization.plot_optimization_history(study_rf)"
   ]
  },
  {
   "cell_type": "code",
   "execution_count": 33,
   "metadata": {},
   "outputs": [
    {
     "name": "stdout",
     "output_type": "stream",
     "text": [
      "\n",
      "====== Models After Hyper Parameter Tuning ======\n"
     ]
    },
    {
     "data": {
      "text/html": [
       "<div>\n",
       "<style scoped>\n",
       "    .dataframe tbody tr th:only-of-type {\n",
       "        vertical-align: middle;\n",
       "    }\n",
       "\n",
       "    .dataframe tbody tr th {\n",
       "        vertical-align: top;\n",
       "    }\n",
       "\n",
       "    .dataframe thead th {\n",
       "        text-align: right;\n",
       "    }\n",
       "</style>\n",
       "<table border=\"1\" class=\"dataframe\">\n",
       "  <thead>\n",
       "    <tr style=\"text-align: right;\">\n",
       "      <th></th>\n",
       "      <th>Model</th>\n",
       "      <th>MAE</th>\n",
       "      <th>MSE</th>\n",
       "      <th>RMSE</th>\n",
       "      <th>RMSLE</th>\n",
       "      <th>R2 Score</th>\n",
       "    </tr>\n",
       "  </thead>\n",
       "  <tbody>\n",
       "    <tr>\n",
       "      <th>0</th>\n",
       "      <td>RandomForest_tuned</td>\n",
       "      <td>4314788.99</td>\n",
       "      <td>70506305803398.89</td>\n",
       "      <td>8396803.31</td>\n",
       "      <td>0.69</td>\n",
       "      <td>0.74</td>\n",
       "    </tr>\n",
       "  </tbody>\n",
       "</table>\n",
       "</div>"
      ],
      "text/plain": [
       "                Model         MAE                MSE        RMSE RMSLE  \\\n",
       "0  RandomForest_tuned  4314788.99  70506305803398.89  8396803.31  0.69   \n",
       "\n",
       "  R2 Score  \n",
       "0     0.74  "
      ]
     },
     "execution_count": 33,
     "metadata": {},
     "output_type": "execute_result"
    }
   ],
   "source": [
    "rf_optuna = RandomForestRegressor(**study_rf.best_params)\n",
    "model_list([(\"RandomForest_tuned\", rf_optuna)], \"After\")"
   ]
  },
  {
   "cell_type": "markdown",
   "metadata": {},
   "source": [
    "#### `CatBoost`"
   ]
  },
  {
   "cell_type": "code",
   "execution_count": 34,
   "metadata": {},
   "outputs": [],
   "source": [
    "def objective_cat(trial):\n",
    "    params = {\n",
    "        # \"iterations\": 1000,\n",
    "        \"iterations\" : trial.suggest_int('n_estimators', 500, 4000),\n",
    "        \"learning_rate\": trial.suggest_float(\"learning_rate\", 1e-3, 0.1, log=True),\n",
    "        \"depth\": trial.suggest_int(\"depth\", 1, 10),\n",
    "        \"subsample\": trial.suggest_float(\"subsample\", 0.05, 1.0),\n",
    "        \"colsample_bylevel\": trial.suggest_float(\"colsample_bylevel\", 0.05, 1.0),\n",
    "        \"min_data_in_leaf\": trial.suggest_int(\"min_data_in_leaf\", 1, 100),\n",
    "    }\n",
    "\n",
    "    model = CatBoostRegressor(**params, silent=True, random_state=42)\n",
    "    model.fit(X_train, y_train)\n",
    "    predictions = model.predict(X_test)\n",
    "    rmsle = get_rmsle(y_test, predictions)\n",
    "\n",
    "    return rmsle"
   ]
  },
  {
   "cell_type": "code",
   "execution_count": 35,
   "metadata": {},
   "outputs": [
    {
     "name": "stderr",
     "output_type": "stream",
     "text": [
      "[I 2024-05-12 20:38:46,910] A new study created in memory with name: no-name-bf308c35-6a75-4fdd-a632-b75c986375e5\n"
     ]
    },
    {
     "name": "stderr",
     "output_type": "stream",
     "text": [
      "[I 2024-05-12 20:38:48,070] Trial 0 finished with value: 0.92993956901987 and parameters: {'n_estimators': 927, 'learning_rate': 0.009780337016659405, 'depth': 1, 'subsample': 0.9138543819748429, 'colsample_bylevel': 0.29584098252001606, 'min_data_in_leaf': 67}. Best is trial 0 with value: 0.92993956901987.\n",
      "[I 2024-05-12 20:38:52,532] Trial 1 finished with value: 0.7010139847811233 and parameters: {'n_estimators': 1591, 'learning_rate': 0.010968217207529524, 'depth': 6, 'subsample': 0.22561173274925067, 'colsample_bylevel': 0.9711053963763306, 'min_data_in_leaf': 78}. Best is trial 1 with value: 0.7010139847811233.\n",
      "[I 2024-05-12 20:38:59,378] Trial 2 finished with value: 0.7514566004672186 and parameters: {'n_estimators': 3789, 'learning_rate': 0.06161049539380966, 'depth': 6, 'subsample': 0.925780523271961, 'colsample_bylevel': 0.13406787694932354, 'min_data_in_leaf': 20}. Best is trial 1 with value: 0.7010139847811233.\n",
      "[I 2024-05-12 20:39:00,741] Trial 3 finished with value: 0.9608289778351752 and parameters: {'n_estimators': 658, 'learning_rate': 0.004473636174621266, 'depth': 4, 'subsample': 0.3077815801852011, 'colsample_bylevel': 0.8373006336943328, 'min_data_in_leaf': 36}. Best is trial 1 with value: 0.7010139847811233.\n",
      "[I 2024-05-12 20:39:02,651] Trial 4 finished with value: 0.8283644930314474 and parameters: {'n_estimators': 1483, 'learning_rate': 0.012172847081122434, 'depth': 2, 'subsample': 0.8120871317163377, 'colsample_bylevel': 0.12082311149578229, 'min_data_in_leaf': 99}. Best is trial 1 with value: 0.7010139847811233.\n",
      "[I 2024-05-12 20:39:06,588] Trial 5 finished with value: 0.9518609886344999 and parameters: {'n_estimators': 3203, 'learning_rate': 0.002497073714505273, 'depth': 1, 'subsample': 0.8246883570320924, 'colsample_bylevel': 0.7215144766552363, 'min_data_in_leaf': 73}. Best is trial 1 with value: 0.7010139847811233.\n",
      "[I 2024-05-12 20:39:12,281] Trial 6 finished with value: 0.8182304139827693 and parameters: {'n_estimators': 3200, 'learning_rate': 0.001406336677771817, 'depth': 4, 'subsample': 0.1600756065488732, 'colsample_bylevel': 0.8699482545818139, 'min_data_in_leaf': 63}. Best is trial 1 with value: 0.7010139847811233.\n",
      "[I 2024-05-12 20:39:15,490] Trial 7 finished with value: 1.0504327714419623 and parameters: {'n_estimators': 1658, 'learning_rate': 0.0013400367243354798, 'depth': 4, 'subsample': 0.35892415592540966, 'colsample_bylevel': 0.7431258694211609, 'min_data_in_leaf': 64}. Best is trial 1 with value: 0.7010139847811233.\n",
      "[I 2024-05-12 20:39:20,911] Trial 8 finished with value: 0.77708138912783 and parameters: {'n_estimators': 3606, 'learning_rate': 0.008798929749689027, 'depth': 2, 'subsample': 0.7275825478618453, 'colsample_bylevel': 0.7727457961860525, 'min_data_in_leaf': 57}. Best is trial 1 with value: 0.7010139847811233.\n",
      "[I 2024-05-12 20:39:24,895] Trial 9 finished with value: 0.7930688878458809 and parameters: {'n_estimators': 3199, 'learning_rate': 0.009718319944817401, 'depth': 6, 'subsample': 0.4561639674406221, 'colsample_bylevel': 0.07414817040689042, 'min_data_in_leaf': 11}. Best is trial 1 with value: 0.7010139847811233.\n",
      "[I 2024-05-12 20:40:12,515] Trial 10 finished with value: 0.6941614770462212 and parameters: {'n_estimators': 2269, 'learning_rate': 0.03935461796991323, 'depth': 10, 'subsample': 0.07215275100022916, 'colsample_bylevel': 0.9917133363364197, 'min_data_in_leaf': 94}. Best is trial 10 with value: 0.6941614770462212.\n",
      "[I 2024-05-12 20:40:55,280] Trial 11 finished with value: 0.6957066968264763 and parameters: {'n_estimators': 2299, 'learning_rate': 0.043260848327979155, 'depth': 10, 'subsample': 0.07580939800173264, 'colsample_bylevel': 0.9570215722060379, 'min_data_in_leaf': 97}. Best is trial 10 with value: 0.6941614770462212.\n",
      "[I 2024-05-12 20:41:29,283] Trial 12 finished with value: 0.7071006740300795 and parameters: {'n_estimators': 2431, 'learning_rate': 0.051974294568809226, 'depth': 10, 'subsample': 0.09185215383942102, 'colsample_bylevel': 0.5363494123908807, 'min_data_in_leaf': 99}. Best is trial 10 with value: 0.6941614770462212.\n",
      "[I 2024-05-12 20:42:12,940] Trial 13 finished with value: 0.6707888313323839 and parameters: {'n_estimators': 2292, 'learning_rate': 0.03026733982974222, 'depth': 10, 'subsample': 0.058129277019094754, 'colsample_bylevel': 0.9853322431635869, 'min_data_in_leaf': 87}. Best is trial 13 with value: 0.6707888313323839.\n",
      "[I 2024-05-12 20:42:30,107] Trial 14 finished with value: 0.7417666733220611 and parameters: {'n_estimators': 2626, 'learning_rate': 0.02734661238419533, 'depth': 8, 'subsample': 0.5846892919582982, 'colsample_bylevel': 0.6238514932598784, 'min_data_in_leaf': 83}. Best is trial 13 with value: 0.6707888313323839.\n",
      "[I 2024-05-12 20:42:39,632] Trial 15 finished with value: 0.7911594628267248 and parameters: {'n_estimators': 1877, 'learning_rate': 0.09526261766589357, 'depth': 8, 'subsample': 0.25901994116749316, 'colsample_bylevel': 0.3626407848328813, 'min_data_in_leaf': 86}. Best is trial 13 with value: 0.6707888313323839.\n",
      "[I 2024-05-12 20:42:55,895] Trial 16 finished with value: 0.7272962262225658 and parameters: {'n_estimators': 2739, 'learning_rate': 0.020068347526863116, 'depth': 8, 'subsample': 0.468216779570501, 'colsample_bylevel': 0.999328803229584, 'min_data_in_leaf': 43}. Best is trial 13 with value: 0.6707888313323839.\n",
      "[I 2024-05-12 20:43:15,372] Trial 17 finished with value: 0.6586354521712067 and parameters: {'n_estimators': 2022, 'learning_rate': 0.028204804864628587, 'depth': 9, 'subsample': 0.15650692277791461, 'colsample_bylevel': 0.6407165683110188, 'min_data_in_leaf': 87}. Best is trial 17 with value: 0.6586354521712067.\n",
      "[I 2024-05-12 20:43:25,538] Trial 18 finished with value: 0.6562093882389614 and parameters: {'n_estimators': 1217, 'learning_rate': 0.025146444860712838, 'depth': 9, 'subsample': 0.18684225593777123, 'colsample_bylevel': 0.39443584116734437, 'min_data_in_leaf': 47}. Best is trial 18 with value: 0.6562093882389614.\n",
      "[I 2024-05-12 20:43:35,655] Trial 19 finished with value: 0.6566601958247295 and parameters: {'n_estimators': 1156, 'learning_rate': 0.021830756010775536, 'depth': 9, 'subsample': 0.3713066586354785, 'colsample_bylevel': 0.39203848061678104, 'min_data_in_leaf': 31}. Best is trial 18 with value: 0.6562093882389614.\n",
      "[I 2024-05-12 20:43:42,061] Trial 20 finished with value: 0.65661404522623 and parameters: {'n_estimators': 1043, 'learning_rate': 0.017617945823043116, 'depth': 8, 'subsample': 0.5891158001277164, 'colsample_bylevel': 0.3984167453133531, 'min_data_in_leaf': 28}. Best is trial 18 with value: 0.6562093882389614.\n",
      "[I 2024-05-12 20:43:47,148] Trial 21 finished with value: 0.6756798539845023 and parameters: {'n_estimators': 1224, 'learning_rate': 0.016909930414359262, 'depth': 7, 'subsample': 0.586922332896244, 'colsample_bylevel': 0.37578135107745675, 'min_data_in_leaf': 32}. Best is trial 18 with value: 0.6562093882389614.\n",
      "[I 2024-05-12 20:43:57,478] Trial 22 finished with value: 0.6948976236608915 and parameters: {'n_estimators': 1093, 'learning_rate': 0.005336781020362286, 'depth': 9, 'subsample': 0.3807252612954833, 'colsample_bylevel': 0.4538115641047701, 'min_data_in_leaf': 25}. Best is trial 18 with value: 0.6562093882389614.\n",
      "[I 2024-05-12 20:44:03,400] Trial 23 finished with value: 0.6778720042489945 and parameters: {'n_estimators': 789, 'learning_rate': 0.018136660282569578, 'depth': 9, 'subsample': 0.6623864000102867, 'colsample_bylevel': 0.2643865170439803, 'min_data_in_leaf': 1}. Best is trial 18 with value: 0.6562093882389614.\n",
      "[I 2024-05-12 20:44:05,838] Trial 24 finished with value: 0.8787173469972637 and parameters: {'n_estimators': 505, 'learning_rate': 0.005699539915515584, 'depth': 7, 'subsample': 0.44359513024774083, 'colsample_bylevel': 0.47094777667443993, 'min_data_in_leaf': 49}. Best is trial 18 with value: 0.6562093882389614.\n",
      "[I 2024-05-12 20:44:10,250] Trial 25 finished with value: 0.7146648932141423 and parameters: {'n_estimators': 1289, 'learning_rate': 0.01495094685520591, 'depth': 7, 'subsample': 0.5392596282588794, 'colsample_bylevel': 0.21960045432039998, 'min_data_in_leaf': 42}. Best is trial 18 with value: 0.6562093882389614.\n",
      "[I 2024-05-12 20:44:18,679] Trial 26 finished with value: 0.6423127877354567 and parameters: {'n_estimators': 940, 'learning_rate': 0.023152906583498525, 'depth': 9, 'subsample': 0.3201012976753739, 'colsample_bylevel': 0.4050931876862345, 'min_data_in_leaf': 20}. Best is trial 26 with value: 0.6423127877354567.\n",
      "[I 2024-05-12 20:44:23,619] Trial 27 finished with value: 0.6808981436957371 and parameters: {'n_estimators': 823, 'learning_rate': 0.09484757015248084, 'depth': 8, 'subsample': 0.2132799363505668, 'colsample_bylevel': 0.54278395928228, 'min_data_in_leaf': 16}. Best is trial 26 with value: 0.6423127877354567.\n",
      "[I 2024-05-12 20:44:28,468] Trial 28 finished with value: 0.7560109210996725 and parameters: {'n_estimators': 1902, 'learning_rate': 0.062471258869099995, 'depth': 5, 'subsample': 0.6721250064244609, 'colsample_bylevel': 0.31905498964472034, 'min_data_in_leaf': 9}. Best is trial 26 with value: 0.6423127877354567.\n",
      "[I 2024-05-12 20:44:32,562] Trial 29 finished with value: 0.7246330513707838 and parameters: {'n_estimators': 928, 'learning_rate': 0.008400022418519058, 'depth': 9, 'subsample': 0.2933349452110509, 'colsample_bylevel': 0.19536707811926424, 'min_data_in_leaf': 25}. Best is trial 26 with value: 0.6423127877354567.\n"
     ]
    }
   ],
   "source": [
    "study_cat = optuna.create_study(direction='minimize', sampler=sampler)\n",
    "study_cat.optimize(objective_cat, n_trials=30)"
   ]
  },
  {
   "cell_type": "code",
   "execution_count": 36,
   "metadata": {},
   "outputs": [
    {
     "name": "stdout",
     "output_type": "stream",
     "text": [
      "Best hyperparameters:\n",
      "{'n_estimators': 940, 'learning_rate': 0.023152906583498525, 'depth': 9, 'subsample': 0.3201012976753739, 'colsample_bylevel': 0.4050931876862345, 'min_data_in_leaf': 20}\n",
      "-----------------------------------------------------------------------------------------------------------------\n",
      "Best RMSLE:\n",
      "0.6423127877354567\n"
     ]
    }
   ],
   "source": [
    "print(\"Best hyperparameters:\", study_cat.best_params, sep=\"\\n\")\n",
    "print(\"-----------------------------------------------------------------------------------------------------------------\")\n",
    "print(\"Best RMSLE:\", study_cat.best_value, sep=\"\\n\")"
   ]
  },
  {
   "cell_type": "code",
   "execution_count": 37,
   "metadata": {},
   "outputs": [
    {
     "data": {
      "application/vnd.plotly.v1+json": {
       "config": {
        "plotlyServerURL": "https://plot.ly"
       },
       "data": [
        {
         "cliponaxis": false,
         "hovertemplate": [
          "min_data_in_leaf (IntDistribution): 0.012807361737142333<extra></extra>",
          "subsample (FloatDistribution): 0.039229010064460695<extra></extra>",
          "colsample_bylevel (FloatDistribution): 0.05503958716188551<extra></extra>",
          "n_estimators (IntDistribution): 0.13689669788389672<extra></extra>",
          "learning_rate (FloatDistribution): 0.29145581201222104<extra></extra>",
          "depth (IntDistribution): 0.46457153114039373<extra></extra>"
         ],
         "name": "Objective Value",
         "orientation": "h",
         "text": [
          "0.01",
          "0.04",
          "0.06",
          "0.14",
          "0.29",
          "0.46"
         ],
         "textposition": "outside",
         "type": "bar",
         "x": [
          0.012807361737142333,
          0.039229010064460695,
          0.05503958716188551,
          0.13689669788389672,
          0.29145581201222104,
          0.46457153114039373
         ],
         "y": [
          "min_data_in_leaf",
          "subsample",
          "colsample_bylevel",
          "n_estimators",
          "learning_rate",
          "depth"
         ]
        }
       ],
       "layout": {
        "template": {
         "data": {
          "bar": [
           {
            "error_x": {
             "color": "#2a3f5f"
            },
            "error_y": {
             "color": "#2a3f5f"
            },
            "marker": {
             "line": {
              "color": "#E5ECF6",
              "width": 0.5
             },
             "pattern": {
              "fillmode": "overlay",
              "size": 10,
              "solidity": 0.2
             }
            },
            "type": "bar"
           }
          ],
          "barpolar": [
           {
            "marker": {
             "line": {
              "color": "#E5ECF6",
              "width": 0.5
             },
             "pattern": {
              "fillmode": "overlay",
              "size": 10,
              "solidity": 0.2
             }
            },
            "type": "barpolar"
           }
          ],
          "carpet": [
           {
            "aaxis": {
             "endlinecolor": "#2a3f5f",
             "gridcolor": "white",
             "linecolor": "white",
             "minorgridcolor": "white",
             "startlinecolor": "#2a3f5f"
            },
            "baxis": {
             "endlinecolor": "#2a3f5f",
             "gridcolor": "white",
             "linecolor": "white",
             "minorgridcolor": "white",
             "startlinecolor": "#2a3f5f"
            },
            "type": "carpet"
           }
          ],
          "choropleth": [
           {
            "colorbar": {
             "outlinewidth": 0,
             "ticks": ""
            },
            "type": "choropleth"
           }
          ],
          "contour": [
           {
            "colorbar": {
             "outlinewidth": 0,
             "ticks": ""
            },
            "colorscale": [
             [
              0,
              "#0d0887"
             ],
             [
              0.1111111111111111,
              "#46039f"
             ],
             [
              0.2222222222222222,
              "#7201a8"
             ],
             [
              0.3333333333333333,
              "#9c179e"
             ],
             [
              0.4444444444444444,
              "#bd3786"
             ],
             [
              0.5555555555555556,
              "#d8576b"
             ],
             [
              0.6666666666666666,
              "#ed7953"
             ],
             [
              0.7777777777777778,
              "#fb9f3a"
             ],
             [
              0.8888888888888888,
              "#fdca26"
             ],
             [
              1,
              "#f0f921"
             ]
            ],
            "type": "contour"
           }
          ],
          "contourcarpet": [
           {
            "colorbar": {
             "outlinewidth": 0,
             "ticks": ""
            },
            "type": "contourcarpet"
           }
          ],
          "heatmap": [
           {
            "colorbar": {
             "outlinewidth": 0,
             "ticks": ""
            },
            "colorscale": [
             [
              0,
              "#0d0887"
             ],
             [
              0.1111111111111111,
              "#46039f"
             ],
             [
              0.2222222222222222,
              "#7201a8"
             ],
             [
              0.3333333333333333,
              "#9c179e"
             ],
             [
              0.4444444444444444,
              "#bd3786"
             ],
             [
              0.5555555555555556,
              "#d8576b"
             ],
             [
              0.6666666666666666,
              "#ed7953"
             ],
             [
              0.7777777777777778,
              "#fb9f3a"
             ],
             [
              0.8888888888888888,
              "#fdca26"
             ],
             [
              1,
              "#f0f921"
             ]
            ],
            "type": "heatmap"
           }
          ],
          "heatmapgl": [
           {
            "colorbar": {
             "outlinewidth": 0,
             "ticks": ""
            },
            "colorscale": [
             [
              0,
              "#0d0887"
             ],
             [
              0.1111111111111111,
              "#46039f"
             ],
             [
              0.2222222222222222,
              "#7201a8"
             ],
             [
              0.3333333333333333,
              "#9c179e"
             ],
             [
              0.4444444444444444,
              "#bd3786"
             ],
             [
              0.5555555555555556,
              "#d8576b"
             ],
             [
              0.6666666666666666,
              "#ed7953"
             ],
             [
              0.7777777777777778,
              "#fb9f3a"
             ],
             [
              0.8888888888888888,
              "#fdca26"
             ],
             [
              1,
              "#f0f921"
             ]
            ],
            "type": "heatmapgl"
           }
          ],
          "histogram": [
           {
            "marker": {
             "pattern": {
              "fillmode": "overlay",
              "size": 10,
              "solidity": 0.2
             }
            },
            "type": "histogram"
           }
          ],
          "histogram2d": [
           {
            "colorbar": {
             "outlinewidth": 0,
             "ticks": ""
            },
            "colorscale": [
             [
              0,
              "#0d0887"
             ],
             [
              0.1111111111111111,
              "#46039f"
             ],
             [
              0.2222222222222222,
              "#7201a8"
             ],
             [
              0.3333333333333333,
              "#9c179e"
             ],
             [
              0.4444444444444444,
              "#bd3786"
             ],
             [
              0.5555555555555556,
              "#d8576b"
             ],
             [
              0.6666666666666666,
              "#ed7953"
             ],
             [
              0.7777777777777778,
              "#fb9f3a"
             ],
             [
              0.8888888888888888,
              "#fdca26"
             ],
             [
              1,
              "#f0f921"
             ]
            ],
            "type": "histogram2d"
           }
          ],
          "histogram2dcontour": [
           {
            "colorbar": {
             "outlinewidth": 0,
             "ticks": ""
            },
            "colorscale": [
             [
              0,
              "#0d0887"
             ],
             [
              0.1111111111111111,
              "#46039f"
             ],
             [
              0.2222222222222222,
              "#7201a8"
             ],
             [
              0.3333333333333333,
              "#9c179e"
             ],
             [
              0.4444444444444444,
              "#bd3786"
             ],
             [
              0.5555555555555556,
              "#d8576b"
             ],
             [
              0.6666666666666666,
              "#ed7953"
             ],
             [
              0.7777777777777778,
              "#fb9f3a"
             ],
             [
              0.8888888888888888,
              "#fdca26"
             ],
             [
              1,
              "#f0f921"
             ]
            ],
            "type": "histogram2dcontour"
           }
          ],
          "mesh3d": [
           {
            "colorbar": {
             "outlinewidth": 0,
             "ticks": ""
            },
            "type": "mesh3d"
           }
          ],
          "parcoords": [
           {
            "line": {
             "colorbar": {
              "outlinewidth": 0,
              "ticks": ""
             }
            },
            "type": "parcoords"
           }
          ],
          "pie": [
           {
            "automargin": true,
            "type": "pie"
           }
          ],
          "scatter": [
           {
            "fillpattern": {
             "fillmode": "overlay",
             "size": 10,
             "solidity": 0.2
            },
            "type": "scatter"
           }
          ],
          "scatter3d": [
           {
            "line": {
             "colorbar": {
              "outlinewidth": 0,
              "ticks": ""
             }
            },
            "marker": {
             "colorbar": {
              "outlinewidth": 0,
              "ticks": ""
             }
            },
            "type": "scatter3d"
           }
          ],
          "scattercarpet": [
           {
            "marker": {
             "colorbar": {
              "outlinewidth": 0,
              "ticks": ""
             }
            },
            "type": "scattercarpet"
           }
          ],
          "scattergeo": [
           {
            "marker": {
             "colorbar": {
              "outlinewidth": 0,
              "ticks": ""
             }
            },
            "type": "scattergeo"
           }
          ],
          "scattergl": [
           {
            "marker": {
             "colorbar": {
              "outlinewidth": 0,
              "ticks": ""
             }
            },
            "type": "scattergl"
           }
          ],
          "scattermapbox": [
           {
            "marker": {
             "colorbar": {
              "outlinewidth": 0,
              "ticks": ""
             }
            },
            "type": "scattermapbox"
           }
          ],
          "scatterpolar": [
           {
            "marker": {
             "colorbar": {
              "outlinewidth": 0,
              "ticks": ""
             }
            },
            "type": "scatterpolar"
           }
          ],
          "scatterpolargl": [
           {
            "marker": {
             "colorbar": {
              "outlinewidth": 0,
              "ticks": ""
             }
            },
            "type": "scatterpolargl"
           }
          ],
          "scatterternary": [
           {
            "marker": {
             "colorbar": {
              "outlinewidth": 0,
              "ticks": ""
             }
            },
            "type": "scatterternary"
           }
          ],
          "surface": [
           {
            "colorbar": {
             "outlinewidth": 0,
             "ticks": ""
            },
            "colorscale": [
             [
              0,
              "#0d0887"
             ],
             [
              0.1111111111111111,
              "#46039f"
             ],
             [
              0.2222222222222222,
              "#7201a8"
             ],
             [
              0.3333333333333333,
              "#9c179e"
             ],
             [
              0.4444444444444444,
              "#bd3786"
             ],
             [
              0.5555555555555556,
              "#d8576b"
             ],
             [
              0.6666666666666666,
              "#ed7953"
             ],
             [
              0.7777777777777778,
              "#fb9f3a"
             ],
             [
              0.8888888888888888,
              "#fdca26"
             ],
             [
              1,
              "#f0f921"
             ]
            ],
            "type": "surface"
           }
          ],
          "table": [
           {
            "cells": {
             "fill": {
              "color": "#EBF0F8"
             },
             "line": {
              "color": "white"
             }
            },
            "header": {
             "fill": {
              "color": "#C8D4E3"
             },
             "line": {
              "color": "white"
             }
            },
            "type": "table"
           }
          ]
         },
         "layout": {
          "annotationdefaults": {
           "arrowcolor": "#2a3f5f",
           "arrowhead": 0,
           "arrowwidth": 1
          },
          "autotypenumbers": "strict",
          "coloraxis": {
           "colorbar": {
            "outlinewidth": 0,
            "ticks": ""
           }
          },
          "colorscale": {
           "diverging": [
            [
             0,
             "#8e0152"
            ],
            [
             0.1,
             "#c51b7d"
            ],
            [
             0.2,
             "#de77ae"
            ],
            [
             0.3,
             "#f1b6da"
            ],
            [
             0.4,
             "#fde0ef"
            ],
            [
             0.5,
             "#f7f7f7"
            ],
            [
             0.6,
             "#e6f5d0"
            ],
            [
             0.7,
             "#b8e186"
            ],
            [
             0.8,
             "#7fbc41"
            ],
            [
             0.9,
             "#4d9221"
            ],
            [
             1,
             "#276419"
            ]
           ],
           "sequential": [
            [
             0,
             "#0d0887"
            ],
            [
             0.1111111111111111,
             "#46039f"
            ],
            [
             0.2222222222222222,
             "#7201a8"
            ],
            [
             0.3333333333333333,
             "#9c179e"
            ],
            [
             0.4444444444444444,
             "#bd3786"
            ],
            [
             0.5555555555555556,
             "#d8576b"
            ],
            [
             0.6666666666666666,
             "#ed7953"
            ],
            [
             0.7777777777777778,
             "#fb9f3a"
            ],
            [
             0.8888888888888888,
             "#fdca26"
            ],
            [
             1,
             "#f0f921"
            ]
           ],
           "sequentialminus": [
            [
             0,
             "#0d0887"
            ],
            [
             0.1111111111111111,
             "#46039f"
            ],
            [
             0.2222222222222222,
             "#7201a8"
            ],
            [
             0.3333333333333333,
             "#9c179e"
            ],
            [
             0.4444444444444444,
             "#bd3786"
            ],
            [
             0.5555555555555556,
             "#d8576b"
            ],
            [
             0.6666666666666666,
             "#ed7953"
            ],
            [
             0.7777777777777778,
             "#fb9f3a"
            ],
            [
             0.8888888888888888,
             "#fdca26"
            ],
            [
             1,
             "#f0f921"
            ]
           ]
          },
          "colorway": [
           "#636efa",
           "#EF553B",
           "#00cc96",
           "#ab63fa",
           "#FFA15A",
           "#19d3f3",
           "#FF6692",
           "#B6E880",
           "#FF97FF",
           "#FECB52"
          ],
          "font": {
           "color": "#2a3f5f"
          },
          "geo": {
           "bgcolor": "white",
           "lakecolor": "white",
           "landcolor": "#E5ECF6",
           "showlakes": true,
           "showland": true,
           "subunitcolor": "white"
          },
          "hoverlabel": {
           "align": "left"
          },
          "hovermode": "closest",
          "mapbox": {
           "style": "light"
          },
          "paper_bgcolor": "white",
          "plot_bgcolor": "#E5ECF6",
          "polar": {
           "angularaxis": {
            "gridcolor": "white",
            "linecolor": "white",
            "ticks": ""
           },
           "bgcolor": "#E5ECF6",
           "radialaxis": {
            "gridcolor": "white",
            "linecolor": "white",
            "ticks": ""
           }
          },
          "scene": {
           "xaxis": {
            "backgroundcolor": "#E5ECF6",
            "gridcolor": "white",
            "gridwidth": 2,
            "linecolor": "white",
            "showbackground": true,
            "ticks": "",
            "zerolinecolor": "white"
           },
           "yaxis": {
            "backgroundcolor": "#E5ECF6",
            "gridcolor": "white",
            "gridwidth": 2,
            "linecolor": "white",
            "showbackground": true,
            "ticks": "",
            "zerolinecolor": "white"
           },
           "zaxis": {
            "backgroundcolor": "#E5ECF6",
            "gridcolor": "white",
            "gridwidth": 2,
            "linecolor": "white",
            "showbackground": true,
            "ticks": "",
            "zerolinecolor": "white"
           }
          },
          "shapedefaults": {
           "line": {
            "color": "#2a3f5f"
           }
          },
          "ternary": {
           "aaxis": {
            "gridcolor": "white",
            "linecolor": "white",
            "ticks": ""
           },
           "baxis": {
            "gridcolor": "white",
            "linecolor": "white",
            "ticks": ""
           },
           "bgcolor": "#E5ECF6",
           "caxis": {
            "gridcolor": "white",
            "linecolor": "white",
            "ticks": ""
           }
          },
          "title": {
           "x": 0.05
          },
          "xaxis": {
           "automargin": true,
           "gridcolor": "white",
           "linecolor": "white",
           "ticks": "",
           "title": {
            "standoff": 15
           },
           "zerolinecolor": "white",
           "zerolinewidth": 2
          },
          "yaxis": {
           "automargin": true,
           "gridcolor": "white",
           "linecolor": "white",
           "ticks": "",
           "title": {
            "standoff": 15
           },
           "zerolinecolor": "white",
           "zerolinewidth": 2
          }
         }
        },
        "title": {
         "text": "Hyperparameter Importances"
        },
        "xaxis": {
         "title": {
          "text": "Hyperparameter Importance"
         }
        },
        "yaxis": {
         "title": {
          "text": "Hyperparameter"
         }
        }
       }
      }
     },
     "metadata": {},
     "output_type": "display_data"
    }
   ],
   "source": [
    "# 하이퍼파라미터별 중요도를 확인할 수 있는 그래프\n",
    "optuna.visualization.plot_param_importances(study_cat)"
   ]
  },
  {
   "cell_type": "code",
   "execution_count": 38,
   "metadata": {},
   "outputs": [
    {
     "data": {
      "application/vnd.plotly.v1+json": {
       "config": {
        "plotlyServerURL": "https://plot.ly"
       },
       "data": [
        {
         "mode": "markers",
         "name": "Objective Value",
         "type": "scatter",
         "x": [
          0,
          1,
          2,
          3,
          4,
          5,
          6,
          7,
          8,
          9,
          10,
          11,
          12,
          13,
          14,
          15,
          16,
          17,
          18,
          19,
          20,
          21,
          22,
          23,
          24,
          25,
          26,
          27,
          28,
          29
         ],
         "y": [
          0.92993956901987,
          0.7010139847811233,
          0.7514566004672186,
          0.9608289778351752,
          0.8283644930314474,
          0.9518609886344999,
          0.8182304139827693,
          1.0504327714419623,
          0.77708138912783,
          0.7930688878458809,
          0.6941614770462212,
          0.6957066968264763,
          0.7071006740300795,
          0.6707888313323839,
          0.7417666733220611,
          0.7911594628267248,
          0.7272962262225658,
          0.6586354521712067,
          0.6562093882389614,
          0.6566601958247295,
          0.65661404522623,
          0.6756798539845023,
          0.6948976236608915,
          0.6778720042489945,
          0.8787173469972637,
          0.7146648932141423,
          0.6423127877354567,
          0.6808981436957371,
          0.7560109210996725,
          0.7246330513707838
         ]
        },
        {
         "mode": "lines",
         "name": "Best Value",
         "type": "scatter",
         "x": [
          0,
          1,
          2,
          3,
          4,
          5,
          6,
          7,
          8,
          9,
          10,
          11,
          12,
          13,
          14,
          15,
          16,
          17,
          18,
          19,
          20,
          21,
          22,
          23,
          24,
          25,
          26,
          27,
          28,
          29
         ],
         "y": [
          0.92993956901987,
          0.7010139847811233,
          0.7010139847811233,
          0.7010139847811233,
          0.7010139847811233,
          0.7010139847811233,
          0.7010139847811233,
          0.7010139847811233,
          0.7010139847811233,
          0.7010139847811233,
          0.6941614770462212,
          0.6941614770462212,
          0.6941614770462212,
          0.6707888313323839,
          0.6707888313323839,
          0.6707888313323839,
          0.6707888313323839,
          0.6586354521712067,
          0.6562093882389614,
          0.6562093882389614,
          0.6562093882389614,
          0.6562093882389614,
          0.6562093882389614,
          0.6562093882389614,
          0.6562093882389614,
          0.6562093882389614,
          0.6423127877354567,
          0.6423127877354567,
          0.6423127877354567,
          0.6423127877354567
         ]
        },
        {
         "marker": {
          "color": "#cccccc"
         },
         "mode": "markers",
         "name": "Infeasible Trial",
         "showlegend": false,
         "type": "scatter",
         "x": [],
         "y": []
        }
       ],
       "layout": {
        "template": {
         "data": {
          "bar": [
           {
            "error_x": {
             "color": "#2a3f5f"
            },
            "error_y": {
             "color": "#2a3f5f"
            },
            "marker": {
             "line": {
              "color": "#E5ECF6",
              "width": 0.5
             },
             "pattern": {
              "fillmode": "overlay",
              "size": 10,
              "solidity": 0.2
             }
            },
            "type": "bar"
           }
          ],
          "barpolar": [
           {
            "marker": {
             "line": {
              "color": "#E5ECF6",
              "width": 0.5
             },
             "pattern": {
              "fillmode": "overlay",
              "size": 10,
              "solidity": 0.2
             }
            },
            "type": "barpolar"
           }
          ],
          "carpet": [
           {
            "aaxis": {
             "endlinecolor": "#2a3f5f",
             "gridcolor": "white",
             "linecolor": "white",
             "minorgridcolor": "white",
             "startlinecolor": "#2a3f5f"
            },
            "baxis": {
             "endlinecolor": "#2a3f5f",
             "gridcolor": "white",
             "linecolor": "white",
             "minorgridcolor": "white",
             "startlinecolor": "#2a3f5f"
            },
            "type": "carpet"
           }
          ],
          "choropleth": [
           {
            "colorbar": {
             "outlinewidth": 0,
             "ticks": ""
            },
            "type": "choropleth"
           }
          ],
          "contour": [
           {
            "colorbar": {
             "outlinewidth": 0,
             "ticks": ""
            },
            "colorscale": [
             [
              0,
              "#0d0887"
             ],
             [
              0.1111111111111111,
              "#46039f"
             ],
             [
              0.2222222222222222,
              "#7201a8"
             ],
             [
              0.3333333333333333,
              "#9c179e"
             ],
             [
              0.4444444444444444,
              "#bd3786"
             ],
             [
              0.5555555555555556,
              "#d8576b"
             ],
             [
              0.6666666666666666,
              "#ed7953"
             ],
             [
              0.7777777777777778,
              "#fb9f3a"
             ],
             [
              0.8888888888888888,
              "#fdca26"
             ],
             [
              1,
              "#f0f921"
             ]
            ],
            "type": "contour"
           }
          ],
          "contourcarpet": [
           {
            "colorbar": {
             "outlinewidth": 0,
             "ticks": ""
            },
            "type": "contourcarpet"
           }
          ],
          "heatmap": [
           {
            "colorbar": {
             "outlinewidth": 0,
             "ticks": ""
            },
            "colorscale": [
             [
              0,
              "#0d0887"
             ],
             [
              0.1111111111111111,
              "#46039f"
             ],
             [
              0.2222222222222222,
              "#7201a8"
             ],
             [
              0.3333333333333333,
              "#9c179e"
             ],
             [
              0.4444444444444444,
              "#bd3786"
             ],
             [
              0.5555555555555556,
              "#d8576b"
             ],
             [
              0.6666666666666666,
              "#ed7953"
             ],
             [
              0.7777777777777778,
              "#fb9f3a"
             ],
             [
              0.8888888888888888,
              "#fdca26"
             ],
             [
              1,
              "#f0f921"
             ]
            ],
            "type": "heatmap"
           }
          ],
          "heatmapgl": [
           {
            "colorbar": {
             "outlinewidth": 0,
             "ticks": ""
            },
            "colorscale": [
             [
              0,
              "#0d0887"
             ],
             [
              0.1111111111111111,
              "#46039f"
             ],
             [
              0.2222222222222222,
              "#7201a8"
             ],
             [
              0.3333333333333333,
              "#9c179e"
             ],
             [
              0.4444444444444444,
              "#bd3786"
             ],
             [
              0.5555555555555556,
              "#d8576b"
             ],
             [
              0.6666666666666666,
              "#ed7953"
             ],
             [
              0.7777777777777778,
              "#fb9f3a"
             ],
             [
              0.8888888888888888,
              "#fdca26"
             ],
             [
              1,
              "#f0f921"
             ]
            ],
            "type": "heatmapgl"
           }
          ],
          "histogram": [
           {
            "marker": {
             "pattern": {
              "fillmode": "overlay",
              "size": 10,
              "solidity": 0.2
             }
            },
            "type": "histogram"
           }
          ],
          "histogram2d": [
           {
            "colorbar": {
             "outlinewidth": 0,
             "ticks": ""
            },
            "colorscale": [
             [
              0,
              "#0d0887"
             ],
             [
              0.1111111111111111,
              "#46039f"
             ],
             [
              0.2222222222222222,
              "#7201a8"
             ],
             [
              0.3333333333333333,
              "#9c179e"
             ],
             [
              0.4444444444444444,
              "#bd3786"
             ],
             [
              0.5555555555555556,
              "#d8576b"
             ],
             [
              0.6666666666666666,
              "#ed7953"
             ],
             [
              0.7777777777777778,
              "#fb9f3a"
             ],
             [
              0.8888888888888888,
              "#fdca26"
             ],
             [
              1,
              "#f0f921"
             ]
            ],
            "type": "histogram2d"
           }
          ],
          "histogram2dcontour": [
           {
            "colorbar": {
             "outlinewidth": 0,
             "ticks": ""
            },
            "colorscale": [
             [
              0,
              "#0d0887"
             ],
             [
              0.1111111111111111,
              "#46039f"
             ],
             [
              0.2222222222222222,
              "#7201a8"
             ],
             [
              0.3333333333333333,
              "#9c179e"
             ],
             [
              0.4444444444444444,
              "#bd3786"
             ],
             [
              0.5555555555555556,
              "#d8576b"
             ],
             [
              0.6666666666666666,
              "#ed7953"
             ],
             [
              0.7777777777777778,
              "#fb9f3a"
             ],
             [
              0.8888888888888888,
              "#fdca26"
             ],
             [
              1,
              "#f0f921"
             ]
            ],
            "type": "histogram2dcontour"
           }
          ],
          "mesh3d": [
           {
            "colorbar": {
             "outlinewidth": 0,
             "ticks": ""
            },
            "type": "mesh3d"
           }
          ],
          "parcoords": [
           {
            "line": {
             "colorbar": {
              "outlinewidth": 0,
              "ticks": ""
             }
            },
            "type": "parcoords"
           }
          ],
          "pie": [
           {
            "automargin": true,
            "type": "pie"
           }
          ],
          "scatter": [
           {
            "fillpattern": {
             "fillmode": "overlay",
             "size": 10,
             "solidity": 0.2
            },
            "type": "scatter"
           }
          ],
          "scatter3d": [
           {
            "line": {
             "colorbar": {
              "outlinewidth": 0,
              "ticks": ""
             }
            },
            "marker": {
             "colorbar": {
              "outlinewidth": 0,
              "ticks": ""
             }
            },
            "type": "scatter3d"
           }
          ],
          "scattercarpet": [
           {
            "marker": {
             "colorbar": {
              "outlinewidth": 0,
              "ticks": ""
             }
            },
            "type": "scattercarpet"
           }
          ],
          "scattergeo": [
           {
            "marker": {
             "colorbar": {
              "outlinewidth": 0,
              "ticks": ""
             }
            },
            "type": "scattergeo"
           }
          ],
          "scattergl": [
           {
            "marker": {
             "colorbar": {
              "outlinewidth": 0,
              "ticks": ""
             }
            },
            "type": "scattergl"
           }
          ],
          "scattermapbox": [
           {
            "marker": {
             "colorbar": {
              "outlinewidth": 0,
              "ticks": ""
             }
            },
            "type": "scattermapbox"
           }
          ],
          "scatterpolar": [
           {
            "marker": {
             "colorbar": {
              "outlinewidth": 0,
              "ticks": ""
             }
            },
            "type": "scatterpolar"
           }
          ],
          "scatterpolargl": [
           {
            "marker": {
             "colorbar": {
              "outlinewidth": 0,
              "ticks": ""
             }
            },
            "type": "scatterpolargl"
           }
          ],
          "scatterternary": [
           {
            "marker": {
             "colorbar": {
              "outlinewidth": 0,
              "ticks": ""
             }
            },
            "type": "scatterternary"
           }
          ],
          "surface": [
           {
            "colorbar": {
             "outlinewidth": 0,
             "ticks": ""
            },
            "colorscale": [
             [
              0,
              "#0d0887"
             ],
             [
              0.1111111111111111,
              "#46039f"
             ],
             [
              0.2222222222222222,
              "#7201a8"
             ],
             [
              0.3333333333333333,
              "#9c179e"
             ],
             [
              0.4444444444444444,
              "#bd3786"
             ],
             [
              0.5555555555555556,
              "#d8576b"
             ],
             [
              0.6666666666666666,
              "#ed7953"
             ],
             [
              0.7777777777777778,
              "#fb9f3a"
             ],
             [
              0.8888888888888888,
              "#fdca26"
             ],
             [
              1,
              "#f0f921"
             ]
            ],
            "type": "surface"
           }
          ],
          "table": [
           {
            "cells": {
             "fill": {
              "color": "#EBF0F8"
             },
             "line": {
              "color": "white"
             }
            },
            "header": {
             "fill": {
              "color": "#C8D4E3"
             },
             "line": {
              "color": "white"
             }
            },
            "type": "table"
           }
          ]
         },
         "layout": {
          "annotationdefaults": {
           "arrowcolor": "#2a3f5f",
           "arrowhead": 0,
           "arrowwidth": 1
          },
          "autotypenumbers": "strict",
          "coloraxis": {
           "colorbar": {
            "outlinewidth": 0,
            "ticks": ""
           }
          },
          "colorscale": {
           "diverging": [
            [
             0,
             "#8e0152"
            ],
            [
             0.1,
             "#c51b7d"
            ],
            [
             0.2,
             "#de77ae"
            ],
            [
             0.3,
             "#f1b6da"
            ],
            [
             0.4,
             "#fde0ef"
            ],
            [
             0.5,
             "#f7f7f7"
            ],
            [
             0.6,
             "#e6f5d0"
            ],
            [
             0.7,
             "#b8e186"
            ],
            [
             0.8,
             "#7fbc41"
            ],
            [
             0.9,
             "#4d9221"
            ],
            [
             1,
             "#276419"
            ]
           ],
           "sequential": [
            [
             0,
             "#0d0887"
            ],
            [
             0.1111111111111111,
             "#46039f"
            ],
            [
             0.2222222222222222,
             "#7201a8"
            ],
            [
             0.3333333333333333,
             "#9c179e"
            ],
            [
             0.4444444444444444,
             "#bd3786"
            ],
            [
             0.5555555555555556,
             "#d8576b"
            ],
            [
             0.6666666666666666,
             "#ed7953"
            ],
            [
             0.7777777777777778,
             "#fb9f3a"
            ],
            [
             0.8888888888888888,
             "#fdca26"
            ],
            [
             1,
             "#f0f921"
            ]
           ],
           "sequentialminus": [
            [
             0,
             "#0d0887"
            ],
            [
             0.1111111111111111,
             "#46039f"
            ],
            [
             0.2222222222222222,
             "#7201a8"
            ],
            [
             0.3333333333333333,
             "#9c179e"
            ],
            [
             0.4444444444444444,
             "#bd3786"
            ],
            [
             0.5555555555555556,
             "#d8576b"
            ],
            [
             0.6666666666666666,
             "#ed7953"
            ],
            [
             0.7777777777777778,
             "#fb9f3a"
            ],
            [
             0.8888888888888888,
             "#fdca26"
            ],
            [
             1,
             "#f0f921"
            ]
           ]
          },
          "colorway": [
           "#636efa",
           "#EF553B",
           "#00cc96",
           "#ab63fa",
           "#FFA15A",
           "#19d3f3",
           "#FF6692",
           "#B6E880",
           "#FF97FF",
           "#FECB52"
          ],
          "font": {
           "color": "#2a3f5f"
          },
          "geo": {
           "bgcolor": "white",
           "lakecolor": "white",
           "landcolor": "#E5ECF6",
           "showlakes": true,
           "showland": true,
           "subunitcolor": "white"
          },
          "hoverlabel": {
           "align": "left"
          },
          "hovermode": "closest",
          "mapbox": {
           "style": "light"
          },
          "paper_bgcolor": "white",
          "plot_bgcolor": "#E5ECF6",
          "polar": {
           "angularaxis": {
            "gridcolor": "white",
            "linecolor": "white",
            "ticks": ""
           },
           "bgcolor": "#E5ECF6",
           "radialaxis": {
            "gridcolor": "white",
            "linecolor": "white",
            "ticks": ""
           }
          },
          "scene": {
           "xaxis": {
            "backgroundcolor": "#E5ECF6",
            "gridcolor": "white",
            "gridwidth": 2,
            "linecolor": "white",
            "showbackground": true,
            "ticks": "",
            "zerolinecolor": "white"
           },
           "yaxis": {
            "backgroundcolor": "#E5ECF6",
            "gridcolor": "white",
            "gridwidth": 2,
            "linecolor": "white",
            "showbackground": true,
            "ticks": "",
            "zerolinecolor": "white"
           },
           "zaxis": {
            "backgroundcolor": "#E5ECF6",
            "gridcolor": "white",
            "gridwidth": 2,
            "linecolor": "white",
            "showbackground": true,
            "ticks": "",
            "zerolinecolor": "white"
           }
          },
          "shapedefaults": {
           "line": {
            "color": "#2a3f5f"
           }
          },
          "ternary": {
           "aaxis": {
            "gridcolor": "white",
            "linecolor": "white",
            "ticks": ""
           },
           "baxis": {
            "gridcolor": "white",
            "linecolor": "white",
            "ticks": ""
           },
           "bgcolor": "#E5ECF6",
           "caxis": {
            "gridcolor": "white",
            "linecolor": "white",
            "ticks": ""
           }
          },
          "title": {
           "x": 0.05
          },
          "xaxis": {
           "automargin": true,
           "gridcolor": "white",
           "linecolor": "white",
           "ticks": "",
           "title": {
            "standoff": 15
           },
           "zerolinecolor": "white",
           "zerolinewidth": 2
          },
          "yaxis": {
           "automargin": true,
           "gridcolor": "white",
           "linecolor": "white",
           "ticks": "",
           "title": {
            "standoff": 15
           },
           "zerolinecolor": "white",
           "zerolinewidth": 2
          }
         }
        },
        "title": {
         "text": "Optimization History Plot"
        },
        "xaxis": {
         "title": {
          "text": "Trial"
         }
        },
        "yaxis": {
         "title": {
          "text": "Objective Value"
         }
        }
       }
      }
     },
     "metadata": {},
     "output_type": "display_data"
    }
   ],
   "source": [
    "# 하이퍼파라미터 최적화 과정을 확인\n",
    "optuna.visualization.plot_optimization_history(study_cat)"
   ]
  },
  {
   "cell_type": "code",
   "execution_count": 39,
   "metadata": {},
   "outputs": [
    {
     "name": "stdout",
     "output_type": "stream",
     "text": [
      "0:\tlearn: 14134287.3155772\ttotal: 7.81ms\tremaining: 7.33s\n",
      "1:\tlearn: 13952371.7553692\ttotal: 23.8ms\tremaining: 11.2s\n",
      "2:\tlearn: 13759849.1736415\ttotal: 34.1ms\tremaining: 10.6s\n",
      "3:\tlearn: 13567769.7270536\ttotal: 41.4ms\tremaining: 9.68s\n",
      "4:\tlearn: 13401280.7454485\ttotal: 51.3ms\tremaining: 9.59s\n",
      "5:\tlearn: 13221776.3055441\ttotal: 58ms\tremaining: 9.03s\n",
      "6:\tlearn: 13038708.7906264\ttotal: 67.1ms\tremaining: 8.95s\n",
      "7:\tlearn: 12871424.2299574\ttotal: 74.3ms\tremaining: 8.66s\n",
      "8:\tlearn: 12693936.6145597\ttotal: 84.3ms\tremaining: 8.72s\n",
      "9:\tlearn: 12519237.8278544\ttotal: 90.3ms\tremaining: 8.4s\n",
      "10:\tlearn: 12353353.0358067\ttotal: 99ms\tremaining: 8.36s\n",
      "11:\tlearn: 12183932.4781118\ttotal: 106ms\tremaining: 8.18s\n",
      "12:\tlearn: 12023317.1849084\ttotal: 114ms\tremaining: 8.1s\n",
      "13:\tlearn: 11870757.1946311\ttotal: 122ms\tremaining: 8.05s\n",
      "14:\tlearn: 11724818.2085006\ttotal: 131ms\tremaining: 8.1s\n",
      "15:\tlearn: 11578598.7709454\ttotal: 139ms\tremaining: 8.04s\n",
      "16:\tlearn: 11448382.2655006\ttotal: 148ms\tremaining: 8.01s\n",
      "17:\tlearn: 11322091.7019004\ttotal: 155ms\tremaining: 7.93s\n",
      "18:\tlearn: 11188351.0847734\ttotal: 164ms\tremaining: 7.94s\n",
      "19:\tlearn: 11051935.1833498\ttotal: 171ms\tremaining: 7.89s\n",
      "20:\tlearn: 10918505.1478913\ttotal: 180ms\tremaining: 7.88s\n",
      "21:\tlearn: 10786759.0444300\ttotal: 187ms\tremaining: 7.82s\n",
      "22:\tlearn: 10671454.4276123\ttotal: 198ms\tremaining: 7.88s\n",
      "23:\tlearn: 10560515.2966723\ttotal: 204ms\tremaining: 7.8s\n",
      "24:\tlearn: 10441667.0773335\ttotal: 214ms\tremaining: 7.83s\n",
      "25:\tlearn: 10331777.2892120\ttotal: 221ms\tremaining: 7.78s\n",
      "26:\tlearn: 10214440.8517161\ttotal: 231ms\tremaining: 7.81s\n",
      "27:\tlearn: 10108763.3346897\ttotal: 246ms\tremaining: 8.02s\n",
      "28:\tlearn: 10016441.7269102\ttotal: 254ms\tremaining: 7.99s\n",
      "29:\tlearn: 9913990.8645800\ttotal: 265ms\tremaining: 8.03s\n",
      "30:\tlearn: 9821154.0427648\ttotal: 274ms\tremaining: 8.03s\n",
      "31:\tlearn: 9720936.5760966\ttotal: 283ms\tremaining: 8.03s\n",
      "32:\tlearn: 9631376.8288474\ttotal: 294ms\tremaining: 8.09s\n",
      "33:\tlearn: 9549236.0350112\ttotal: 300ms\tremaining: 7.98s\n",
      "34:\tlearn: 9464503.5671383\ttotal: 308ms\tremaining: 7.95s\n",
      "35:\tlearn: 9378423.1550539\ttotal: 316ms\tremaining: 7.93s\n",
      "36:\tlearn: 9288107.0476287\ttotal: 327ms\tremaining: 7.97s\n",
      "37:\tlearn: 9202219.9387344\ttotal: 333ms\tremaining: 7.91s\n",
      "38:\tlearn: 9120470.0076149\ttotal: 341ms\tremaining: 7.88s\n",
      "39:\tlearn: 9048778.8772541\ttotal: 348ms\tremaining: 7.83s\n",
      "40:\tlearn: 8973677.8471970\ttotal: 359ms\tremaining: 7.86s\n",
      "41:\tlearn: 8898435.3844529\ttotal: 366ms\tremaining: 7.83s\n",
      "42:\tlearn: 8824556.4516027\ttotal: 375ms\tremaining: 7.83s\n",
      "43:\tlearn: 8757170.9033500\ttotal: 383ms\tremaining: 7.8s\n",
      "44:\tlearn: 8685751.5908236\ttotal: 396ms\tremaining: 7.87s\n",
      "45:\tlearn: 8621979.4360594\ttotal: 405ms\tremaining: 7.88s\n",
      "46:\tlearn: 8550526.7534725\ttotal: 410ms\tremaining: 7.79s\n",
      "47:\tlearn: 8481088.4057836\ttotal: 416ms\tremaining: 7.74s\n",
      "48:\tlearn: 8424054.9349474\ttotal: 426ms\tremaining: 7.74s\n",
      "49:\tlearn: 8372131.9810865\ttotal: 433ms\tremaining: 7.71s\n",
      "50:\tlearn: 8321756.5760992\ttotal: 446ms\tremaining: 7.77s\n",
      "51:\tlearn: 8262572.1446439\ttotal: 457ms\tremaining: 7.8s\n",
      "52:\tlearn: 8202319.9916767\ttotal: 469ms\tremaining: 7.85s\n",
      "53:\tlearn: 8142211.7024649\ttotal: 478ms\tremaining: 7.84s\n",
      "54:\tlearn: 8090520.2545347\ttotal: 490ms\tremaining: 7.89s\n",
      "55:\tlearn: 8032730.6402319\ttotal: 501ms\tremaining: 7.91s\n",
      "56:\tlearn: 7974419.3115600\ttotal: 509ms\tremaining: 7.88s\n",
      "57:\tlearn: 7924800.5555839\ttotal: 517ms\tremaining: 7.86s\n",
      "58:\tlearn: 7874198.5510509\ttotal: 525ms\tremaining: 7.83s\n",
      "59:\tlearn: 7824473.4725504\ttotal: 532ms\tremaining: 7.81s\n",
      "60:\tlearn: 7777811.5109688\ttotal: 541ms\tremaining: 7.79s\n",
      "61:\tlearn: 7731304.5854756\ttotal: 549ms\tremaining: 7.77s\n",
      "62:\tlearn: 7685823.0604149\ttotal: 558ms\tremaining: 7.76s\n",
      "63:\tlearn: 7638676.7315038\ttotal: 566ms\tremaining: 7.74s\n",
      "64:\tlearn: 7597628.9864183\ttotal: 634ms\tremaining: 8.54s\n",
      "65:\tlearn: 7555251.4890889\ttotal: 643ms\tremaining: 8.51s\n",
      "66:\tlearn: 7516751.8690209\ttotal: 659ms\tremaining: 8.59s\n",
      "67:\tlearn: 7477986.9154769\ttotal: 666ms\tremaining: 8.55s\n",
      "68:\tlearn: 7437478.6450148\ttotal: 674ms\tremaining: 8.5s\n",
      "69:\tlearn: 7397813.8092471\ttotal: 681ms\tremaining: 8.46s\n",
      "70:\tlearn: 7356120.5993530\ttotal: 686ms\tremaining: 8.4s\n",
      "71:\tlearn: 7314189.4981052\ttotal: 694ms\tremaining: 8.36s\n",
      "72:\tlearn: 7272143.4219845\ttotal: 699ms\tremaining: 8.3s\n",
      "73:\tlearn: 7236722.3624439\ttotal: 705ms\tremaining: 8.25s\n",
      "74:\tlearn: 7196591.7099769\ttotal: 714ms\tremaining: 8.24s\n",
      "75:\tlearn: 7162770.5266548\ttotal: 722ms\tremaining: 8.21s\n",
      "76:\tlearn: 7127539.5759826\ttotal: 729ms\tremaining: 8.17s\n",
      "77:\tlearn: 7094294.9756949\ttotal: 736ms\tremaining: 8.13s\n",
      "78:\tlearn: 7064516.7933741\ttotal: 743ms\tremaining: 8.1s\n",
      "79:\tlearn: 7031628.2787696\ttotal: 751ms\tremaining: 8.07s\n",
      "80:\tlearn: 6999015.7721516\ttotal: 757ms\tremaining: 8.03s\n",
      "81:\tlearn: 6970738.1565628\ttotal: 765ms\tremaining: 8s\n",
      "82:\tlearn: 6940082.5201712\ttotal: 773ms\tremaining: 7.98s\n",
      "83:\tlearn: 6914310.1773970\ttotal: 780ms\tremaining: 7.95s\n",
      "84:\tlearn: 6886490.2023386\ttotal: 788ms\tremaining: 7.93s\n",
      "85:\tlearn: 6854662.8754791\ttotal: 796ms\tremaining: 7.9s\n",
      "86:\tlearn: 6830822.0300474\ttotal: 805ms\tremaining: 7.89s\n",
      "87:\tlearn: 6807000.4388389\ttotal: 812ms\tremaining: 7.86s\n",
      "88:\tlearn: 6783024.7560718\ttotal: 822ms\tremaining: 7.86s\n",
      "89:\tlearn: 6753914.1654389\ttotal: 831ms\tremaining: 7.85s\n",
      "90:\tlearn: 6727379.0252337\ttotal: 840ms\tremaining: 7.83s\n",
      "91:\tlearn: 6706027.0560960\ttotal: 848ms\tremaining: 7.82s\n",
      "92:\tlearn: 6684161.4779599\ttotal: 861ms\tremaining: 7.84s\n",
      "93:\tlearn: 6662356.3319449\ttotal: 867ms\tremaining: 7.8s\n",
      "94:\tlearn: 6638204.0869443\ttotal: 873ms\tremaining: 7.77s\n",
      "95:\tlearn: 6619065.8203775\ttotal: 877ms\tremaining: 7.71s\n",
      "96:\tlearn: 6598759.5269648\ttotal: 884ms\tremaining: 7.69s\n",
      "97:\tlearn: 6576316.6709618\ttotal: 892ms\tremaining: 7.66s\n",
      "98:\tlearn: 6559174.8428264\ttotal: 900ms\tremaining: 7.64s\n",
      "99:\tlearn: 6537748.6179913\ttotal: 908ms\tremaining: 7.63s\n",
      "100:\tlearn: 6517082.1656402\ttotal: 914ms\tremaining: 7.59s\n",
      "101:\tlearn: 6499884.3560596\ttotal: 922ms\tremaining: 7.58s\n",
      "102:\tlearn: 6480376.1043098\ttotal: 929ms\tremaining: 7.55s\n",
      "103:\tlearn: 6463408.8076088\ttotal: 936ms\tremaining: 7.52s\n",
      "104:\tlearn: 6446805.1021685\ttotal: 944ms\tremaining: 7.51s\n",
      "105:\tlearn: 6425498.2248953\ttotal: 952ms\tremaining: 7.49s\n",
      "106:\tlearn: 6411562.8915323\ttotal: 960ms\tremaining: 7.47s\n",
      "107:\tlearn: 6391522.8015013\ttotal: 968ms\tremaining: 7.45s\n",
      "108:\tlearn: 6373604.9659163\ttotal: 983ms\tremaining: 7.49s\n",
      "109:\tlearn: 6356770.0539596\ttotal: 991ms\tremaining: 7.48s\n",
      "110:\tlearn: 6339221.4557000\ttotal: 999ms\tremaining: 7.46s\n",
      "111:\tlearn: 6323941.4701749\ttotal: 1.01s\tremaining: 7.45s\n",
      "112:\tlearn: 6308074.3292331\ttotal: 1.01s\tremaining: 7.43s\n",
      "113:\tlearn: 6288858.3921936\ttotal: 1.02s\tremaining: 7.42s\n",
      "114:\tlearn: 6274633.3703938\ttotal: 1.03s\tremaining: 7.4s\n",
      "115:\tlearn: 6256824.5203302\ttotal: 1.04s\tremaining: 7.38s\n",
      "116:\tlearn: 6239912.1797250\ttotal: 1.05s\tremaining: 7.37s\n",
      "117:\tlearn: 6223584.0923337\ttotal: 1.06s\tremaining: 7.37s\n",
      "118:\tlearn: 6209595.9409813\ttotal: 1.07s\tremaining: 7.36s\n",
      "119:\tlearn: 6196256.8647547\ttotal: 1.07s\tremaining: 7.35s\n",
      "120:\tlearn: 6181915.3718763\ttotal: 1.08s\tremaining: 7.33s\n",
      "121:\tlearn: 6167322.8199972\ttotal: 1.09s\tremaining: 7.32s\n",
      "122:\tlearn: 6154148.1768948\ttotal: 1.1s\tremaining: 7.3s\n",
      "123:\tlearn: 6140942.4550980\ttotal: 1.11s\tremaining: 7.29s\n",
      "124:\tlearn: 6127442.8157125\ttotal: 1.12s\tremaining: 7.28s\n",
      "125:\tlearn: 6111301.4349417\ttotal: 1.12s\tremaining: 7.26s\n",
      "126:\tlearn: 6097187.7015398\ttotal: 1.13s\tremaining: 7.24s\n",
      "127:\tlearn: 6084452.6748951\ttotal: 1.14s\tremaining: 7.23s\n",
      "128:\tlearn: 6070710.5971947\ttotal: 1.15s\tremaining: 7.21s\n",
      "129:\tlearn: 6055694.9294253\ttotal: 1.16s\tremaining: 7.21s\n",
      "130:\tlearn: 6043530.4461995\ttotal: 1.17s\tremaining: 7.2s\n",
      "131:\tlearn: 6031564.9691097\ttotal: 1.18s\tremaining: 7.2s\n",
      "132:\tlearn: 6020889.6555805\ttotal: 1.19s\tremaining: 7.22s\n",
      "133:\tlearn: 6008960.7281158\ttotal: 1.2s\tremaining: 7.22s\n",
      "134:\tlearn: 5999198.4862446\ttotal: 1.21s\tremaining: 7.21s\n",
      "135:\tlearn: 5990088.7269837\ttotal: 1.22s\tremaining: 7.19s\n",
      "136:\tlearn: 5979516.3394211\ttotal: 1.22s\tremaining: 7.17s\n",
      "137:\tlearn: 5964905.2643238\ttotal: 1.23s\tremaining: 7.17s\n",
      "138:\tlearn: 5951053.7373576\ttotal: 1.24s\tremaining: 7.15s\n",
      "139:\tlearn: 5942841.1265422\ttotal: 1.25s\tremaining: 7.12s\n",
      "140:\tlearn: 5929845.6296248\ttotal: 1.25s\tremaining: 7.11s\n",
      "141:\tlearn: 5920448.9301824\ttotal: 1.26s\tremaining: 7.09s\n",
      "142:\tlearn: 5909811.1883206\ttotal: 1.27s\tremaining: 7.09s\n",
      "143:\tlearn: 5900194.2496472\ttotal: 1.29s\tremaining: 7.15s\n",
      "144:\tlearn: 5890466.4210868\ttotal: 1.3s\tremaining: 7.15s\n",
      "145:\tlearn: 5879495.5542621\ttotal: 1.31s\tremaining: 7.12s\n",
      "146:\tlearn: 5871859.0630769\ttotal: 1.32s\tremaining: 7.14s\n",
      "147:\tlearn: 5863203.8030080\ttotal: 1.33s\tremaining: 7.13s\n",
      "148:\tlearn: 5854962.2080817\ttotal: 1.34s\tremaining: 7.11s\n",
      "149:\tlearn: 5844776.6956198\ttotal: 1.35s\tremaining: 7.1s\n",
      "150:\tlearn: 5836089.2688262\ttotal: 1.35s\tremaining: 7.08s\n",
      "151:\tlearn: 5828520.1450617\ttotal: 1.36s\tremaining: 7.07s\n",
      "152:\tlearn: 5819250.0261148\ttotal: 1.37s\tremaining: 7.05s\n",
      "153:\tlearn: 5811931.7442345\ttotal: 1.38s\tremaining: 7.04s\n",
      "154:\tlearn: 5800409.0589934\ttotal: 1.39s\tremaining: 7.02s\n",
      "155:\tlearn: 5791030.0166856\ttotal: 1.39s\tremaining: 7.01s\n",
      "156:\tlearn: 5782021.8181963\ttotal: 1.4s\tremaining: 6.99s\n",
      "157:\tlearn: 5774585.9522452\ttotal: 1.41s\tremaining: 6.98s\n",
      "158:\tlearn: 5767173.7473987\ttotal: 1.42s\tremaining: 6.98s\n",
      "159:\tlearn: 5756268.7346490\ttotal: 1.43s\tremaining: 6.96s\n",
      "160:\tlearn: 5745529.0325524\ttotal: 1.44s\tremaining: 6.95s\n",
      "161:\tlearn: 5736830.6634861\ttotal: 1.45s\tremaining: 6.94s\n",
      "162:\tlearn: 5731477.8537506\ttotal: 1.45s\tremaining: 6.92s\n",
      "163:\tlearn: 5722635.3645244\ttotal: 1.46s\tremaining: 6.92s\n",
      "164:\tlearn: 5714106.1878859\ttotal: 1.47s\tremaining: 6.9s\n",
      "165:\tlearn: 5706269.7417585\ttotal: 1.48s\tremaining: 6.88s\n",
      "166:\tlearn: 5700591.3162007\ttotal: 1.48s\tremaining: 6.86s\n",
      "167:\tlearn: 5695089.1793575\ttotal: 1.49s\tremaining: 6.84s\n",
      "168:\tlearn: 5686994.3667443\ttotal: 1.5s\tremaining: 6.84s\n",
      "169:\tlearn: 5681275.0393704\ttotal: 1.5s\tremaining: 6.81s\n",
      "170:\tlearn: 5672172.7562645\ttotal: 1.51s\tremaining: 6.8s\n",
      "171:\tlearn: 5665937.9507979\ttotal: 1.52s\tremaining: 6.78s\n",
      "172:\tlearn: 5658013.5410324\ttotal: 1.52s\tremaining: 6.75s\n",
      "173:\tlearn: 5645704.8865436\ttotal: 1.53s\tremaining: 6.74s\n",
      "174:\tlearn: 5642384.9025168\ttotal: 1.53s\tremaining: 6.7s\n",
      "175:\tlearn: 5637191.0354852\ttotal: 1.54s\tremaining: 6.68s\n",
      "176:\tlearn: 5632085.8455659\ttotal: 1.55s\tremaining: 6.68s\n",
      "177:\tlearn: 5626563.8486050\ttotal: 1.56s\tremaining: 6.67s\n",
      "178:\tlearn: 5620189.3395136\ttotal: 1.56s\tremaining: 6.65s\n",
      "179:\tlearn: 5610602.1185351\ttotal: 1.57s\tremaining: 6.63s\n",
      "180:\tlearn: 5603982.4086149\ttotal: 1.58s\tremaining: 6.62s\n",
      "181:\tlearn: 5596021.3698203\ttotal: 1.58s\tremaining: 6.6s\n",
      "182:\tlearn: 5591361.9563202\ttotal: 1.59s\tremaining: 6.59s\n",
      "183:\tlearn: 5583883.2386217\ttotal: 1.6s\tremaining: 6.58s\n",
      "184:\tlearn: 5576262.6297588\ttotal: 1.61s\tremaining: 6.56s\n",
      "185:\tlearn: 5570827.6235869\ttotal: 1.61s\tremaining: 6.55s\n",
      "186:\tlearn: 5566106.4312567\ttotal: 1.62s\tremaining: 6.54s\n",
      "187:\tlearn: 5562078.6394423\ttotal: 1.63s\tremaining: 6.53s\n",
      "188:\tlearn: 5556114.6545825\ttotal: 1.64s\tremaining: 6.51s\n",
      "189:\tlearn: 5548560.3138626\ttotal: 1.65s\tremaining: 6.5s\n",
      "190:\tlearn: 5542768.2417107\ttotal: 1.65s\tremaining: 6.49s\n",
      "191:\tlearn: 5536948.9781820\ttotal: 1.66s\tremaining: 6.47s\n",
      "192:\tlearn: 5530570.8811147\ttotal: 1.67s\tremaining: 6.45s\n",
      "193:\tlearn: 5524775.5838386\ttotal: 1.68s\tremaining: 6.45s\n",
      "194:\tlearn: 5519544.0641029\ttotal: 1.68s\tremaining: 6.43s\n",
      "195:\tlearn: 5511905.9151236\ttotal: 1.69s\tremaining: 6.42s\n",
      "196:\tlearn: 5507663.4793438\ttotal: 1.7s\tremaining: 6.41s\n",
      "197:\tlearn: 5500752.1947318\ttotal: 1.71s\tremaining: 6.39s\n",
      "198:\tlearn: 5496141.1577107\ttotal: 1.71s\tremaining: 6.38s\n",
      "199:\tlearn: 5491175.9121033\ttotal: 1.72s\tremaining: 6.36s\n",
      "200:\tlearn: 5485838.3778502\ttotal: 1.73s\tremaining: 6.35s\n",
      "201:\tlearn: 5478583.8691089\ttotal: 1.74s\tremaining: 6.35s\n",
      "202:\tlearn: 5473207.1490533\ttotal: 1.74s\tremaining: 6.33s\n",
      "203:\tlearn: 5467130.3336691\ttotal: 1.75s\tremaining: 6.32s\n",
      "204:\tlearn: 5458824.1735019\ttotal: 1.76s\tremaining: 6.32s\n",
      "205:\tlearn: 5453383.7174544\ttotal: 1.77s\tremaining: 6.31s\n",
      "206:\tlearn: 5447279.0629898\ttotal: 1.78s\tremaining: 6.3s\n",
      "207:\tlearn: 5443607.4752025\ttotal: 1.79s\tremaining: 6.29s\n",
      "208:\tlearn: 5433567.5047529\ttotal: 1.8s\tremaining: 6.28s\n",
      "209:\tlearn: 5428194.3519162\ttotal: 1.81s\tremaining: 6.28s\n",
      "210:\tlearn: 5422904.3429109\ttotal: 1.82s\tremaining: 6.28s\n",
      "211:\tlearn: 5418259.5881442\ttotal: 1.82s\tremaining: 6.26s\n",
      "212:\tlearn: 5415245.2761953\ttotal: 1.83s\tremaining: 6.25s\n",
      "213:\tlearn: 5411010.3594847\ttotal: 1.84s\tremaining: 6.24s\n",
      "214:\tlearn: 5405883.1315956\ttotal: 1.85s\tremaining: 6.24s\n",
      "215:\tlearn: 5401807.1022172\ttotal: 1.86s\tremaining: 6.23s\n",
      "216:\tlearn: 5398116.6251112\ttotal: 1.87s\tremaining: 6.23s\n",
      "217:\tlearn: 5394440.8348469\ttotal: 1.88s\tremaining: 6.22s\n",
      "218:\tlearn: 5387619.3527993\ttotal: 1.89s\tremaining: 6.22s\n",
      "219:\tlearn: 5380773.5470902\ttotal: 1.89s\tremaining: 6.2s\n",
      "220:\tlearn: 5372247.2889886\ttotal: 1.9s\tremaining: 6.18s\n",
      "221:\tlearn: 5367453.0022699\ttotal: 1.91s\tremaining: 6.17s\n",
      "222:\tlearn: 5363089.1510793\ttotal: 1.92s\tremaining: 6.17s\n",
      "223:\tlearn: 5359404.1634721\ttotal: 1.93s\tremaining: 6.16s\n",
      "224:\tlearn: 5352979.4616041\ttotal: 1.93s\tremaining: 6.15s\n",
      "225:\tlearn: 5350266.9861555\ttotal: 1.94s\tremaining: 6.13s\n",
      "226:\tlearn: 5345511.0876624\ttotal: 1.95s\tremaining: 6.13s\n",
      "227:\tlearn: 5340515.7151485\ttotal: 1.96s\tremaining: 6.12s\n",
      "228:\tlearn: 5337084.9430494\ttotal: 1.97s\tremaining: 6.11s\n",
      "229:\tlearn: 5330565.9233636\ttotal: 1.97s\tremaining: 6.09s\n",
      "230:\tlearn: 5327150.3221002\ttotal: 1.98s\tremaining: 6.08s\n",
      "231:\tlearn: 5324889.6216972\ttotal: 1.99s\tremaining: 6.07s\n",
      "232:\tlearn: 5317666.2577248\ttotal: 2s\tremaining: 6.08s\n",
      "233:\tlearn: 5312530.2637598\ttotal: 2.01s\tremaining: 6.08s\n",
      "234:\tlearn: 5309748.4506874\ttotal: 2.02s\tremaining: 6.06s\n",
      "235:\tlearn: 5304400.8697074\ttotal: 2.03s\tremaining: 6.06s\n",
      "236:\tlearn: 5299163.5839015\ttotal: 2.04s\tremaining: 6.05s\n",
      "237:\tlearn: 5293766.8843873\ttotal: 2.05s\tremaining: 6.04s\n",
      "238:\tlearn: 5288578.2871351\ttotal: 2.06s\tremaining: 6.03s\n",
      "239:\tlearn: 5286150.6135911\ttotal: 2.06s\tremaining: 6.02s\n",
      "240:\tlearn: 5282802.7231755\ttotal: 2.08s\tremaining: 6.02s\n",
      "241:\tlearn: 5277545.2533382\ttotal: 2.08s\tremaining: 6.01s\n",
      "242:\tlearn: 5273722.9848900\ttotal: 2.09s\tremaining: 5.99s\n",
      "243:\tlearn: 5271045.2805739\ttotal: 2.1s\tremaining: 5.99s\n",
      "244:\tlearn: 5264875.0793328\ttotal: 2.11s\tremaining: 5.98s\n",
      "245:\tlearn: 5259733.0934005\ttotal: 2.12s\tremaining: 5.97s\n",
      "246:\tlearn: 5253103.2233940\ttotal: 2.13s\tremaining: 5.97s\n",
      "247:\tlearn: 5249592.2511804\ttotal: 2.13s\tremaining: 5.96s\n",
      "248:\tlearn: 5247759.1322031\ttotal: 2.14s\tremaining: 5.95s\n",
      "249:\tlearn: 5241119.1813578\ttotal: 2.15s\tremaining: 5.94s\n",
      "250:\tlearn: 5232160.4453901\ttotal: 2.16s\tremaining: 5.93s\n",
      "251:\tlearn: 5227403.4745035\ttotal: 2.17s\tremaining: 5.92s\n",
      "252:\tlearn: 5220624.0918253\ttotal: 2.17s\tremaining: 5.91s\n",
      "253:\tlearn: 5218365.5704683\ttotal: 2.18s\tremaining: 5.9s\n",
      "254:\tlearn: 5215638.8255485\ttotal: 2.19s\tremaining: 5.88s\n",
      "255:\tlearn: 5210657.8982467\ttotal: 2.2s\tremaining: 5.87s\n",
      "256:\tlearn: 5205650.8087067\ttotal: 2.2s\tremaining: 5.86s\n",
      "257:\tlearn: 5201674.3131025\ttotal: 2.21s\tremaining: 5.85s\n",
      "258:\tlearn: 5197604.1692765\ttotal: 2.22s\tremaining: 5.83s\n",
      "259:\tlearn: 5194644.9954112\ttotal: 2.23s\tremaining: 5.83s\n",
      "260:\tlearn: 5192240.2918067\ttotal: 2.23s\tremaining: 5.82s\n",
      "261:\tlearn: 5189838.2524001\ttotal: 2.24s\tremaining: 5.8s\n",
      "262:\tlearn: 5184558.5161070\ttotal: 2.25s\tremaining: 5.8s\n",
      "263:\tlearn: 5182147.9085107\ttotal: 2.26s\tremaining: 5.79s\n",
      "264:\tlearn: 5179112.3761046\ttotal: 2.27s\tremaining: 5.78s\n",
      "265:\tlearn: 5175834.0554840\ttotal: 2.28s\tremaining: 5.77s\n",
      "266:\tlearn: 5173941.1053706\ttotal: 2.29s\tremaining: 5.76s\n",
      "267:\tlearn: 5168628.7704325\ttotal: 2.29s\tremaining: 5.75s\n",
      "268:\tlearn: 5165823.4041522\ttotal: 2.3s\tremaining: 5.74s\n",
      "269:\tlearn: 5160674.1162598\ttotal: 2.31s\tremaining: 5.73s\n",
      "270:\tlearn: 5155497.3591307\ttotal: 2.31s\tremaining: 5.71s\n",
      "271:\tlearn: 5151142.7785482\ttotal: 2.32s\tremaining: 5.71s\n",
      "272:\tlearn: 5149045.1499986\ttotal: 2.33s\tremaining: 5.7s\n",
      "273:\tlearn: 5146294.7370672\ttotal: 2.34s\tremaining: 5.69s\n",
      "274:\tlearn: 5141446.6416313\ttotal: 2.35s\tremaining: 5.68s\n",
      "275:\tlearn: 5137434.9599815\ttotal: 2.36s\tremaining: 5.68s\n",
      "276:\tlearn: 5130081.1402966\ttotal: 2.37s\tremaining: 5.67s\n",
      "277:\tlearn: 5127212.7652760\ttotal: 2.38s\tremaining: 5.66s\n",
      "278:\tlearn: 5120422.0709928\ttotal: 2.38s\tremaining: 5.65s\n",
      "279:\tlearn: 5114304.2015350\ttotal: 2.39s\tremaining: 5.64s\n",
      "280:\tlearn: 5108833.7436761\ttotal: 2.4s\tremaining: 5.63s\n",
      "281:\tlearn: 5104987.3082038\ttotal: 2.41s\tremaining: 5.62s\n",
      "282:\tlearn: 5102825.1476837\ttotal: 2.42s\tremaining: 5.61s\n",
      "283:\tlearn: 5098590.1270104\ttotal: 2.42s\tremaining: 5.6s\n",
      "284:\tlearn: 5092594.2022066\ttotal: 2.43s\tremaining: 5.58s\n",
      "285:\tlearn: 5091718.3602751\ttotal: 2.43s\tremaining: 5.56s\n",
      "286:\tlearn: 5087970.7980922\ttotal: 2.44s\tremaining: 5.55s\n",
      "287:\tlearn: 5084740.6570509\ttotal: 2.44s\tremaining: 5.54s\n",
      "288:\tlearn: 5079286.5063359\ttotal: 2.46s\tremaining: 5.53s\n",
      "289:\tlearn: 5072284.0018286\ttotal: 2.47s\tremaining: 5.53s\n",
      "290:\tlearn: 5067097.3310055\ttotal: 2.48s\tremaining: 5.52s\n",
      "291:\tlearn: 5063285.8197223\ttotal: 2.49s\tremaining: 5.53s\n",
      "292:\tlearn: 5060612.0865673\ttotal: 2.5s\tremaining: 5.52s\n",
      "293:\tlearn: 5056927.0864052\ttotal: 2.51s\tremaining: 5.51s\n",
      "294:\tlearn: 5053655.8284751\ttotal: 2.52s\tremaining: 5.5s\n",
      "295:\tlearn: 5051198.1133096\ttotal: 2.52s\tremaining: 5.49s\n",
      "296:\tlearn: 5047389.9643682\ttotal: 2.53s\tremaining: 5.48s\n",
      "297:\tlearn: 5043831.2113020\ttotal: 2.54s\tremaining: 5.46s\n",
      "298:\tlearn: 5042205.4615614\ttotal: 2.54s\tremaining: 5.45s\n",
      "299:\tlearn: 5039683.7308087\ttotal: 2.55s\tremaining: 5.44s\n",
      "300:\tlearn: 5036586.7682631\ttotal: 2.56s\tremaining: 5.43s\n",
      "301:\tlearn: 5035052.4972644\ttotal: 2.56s\tremaining: 5.42s\n",
      "302:\tlearn: 5032893.5350865\ttotal: 2.57s\tremaining: 5.41s\n",
      "303:\tlearn: 5029539.3791338\ttotal: 2.58s\tremaining: 5.41s\n",
      "304:\tlearn: 5025722.0916740\ttotal: 2.59s\tremaining: 5.39s\n",
      "305:\tlearn: 5019997.5057454\ttotal: 2.6s\tremaining: 5.39s\n",
      "306:\tlearn: 5014072.6405282\ttotal: 2.6s\tremaining: 5.37s\n",
      "307:\tlearn: 5010838.5731102\ttotal: 2.61s\tremaining: 5.36s\n",
      "308:\tlearn: 5003293.7868385\ttotal: 2.62s\tremaining: 5.35s\n",
      "309:\tlearn: 4999358.2758093\ttotal: 2.63s\tremaining: 5.34s\n",
      "310:\tlearn: 4995091.0850437\ttotal: 2.63s\tremaining: 5.33s\n",
      "311:\tlearn: 4991800.6565486\ttotal: 2.64s\tremaining: 5.32s\n",
      "312:\tlearn: 4988239.0747630\ttotal: 2.65s\tremaining: 5.31s\n",
      "313:\tlearn: 4984220.8727993\ttotal: 2.66s\tremaining: 5.29s\n",
      "314:\tlearn: 4981936.3154274\ttotal: 2.67s\tremaining: 5.29s\n",
      "315:\tlearn: 4979661.0204244\ttotal: 2.67s\tremaining: 5.28s\n",
      "316:\tlearn: 4977164.0645073\ttotal: 2.68s\tremaining: 5.27s\n",
      "317:\tlearn: 4972790.4406694\ttotal: 2.69s\tremaining: 5.26s\n",
      "318:\tlearn: 4968128.4888160\ttotal: 2.69s\tremaining: 5.25s\n",
      "319:\tlearn: 4963364.7154115\ttotal: 2.7s\tremaining: 5.24s\n",
      "320:\tlearn: 4959581.6165688\ttotal: 2.71s\tremaining: 5.23s\n",
      "321:\tlearn: 4956718.7446572\ttotal: 2.72s\tremaining: 5.22s\n",
      "322:\tlearn: 4956501.7285779\ttotal: 2.73s\tremaining: 5.21s\n",
      "323:\tlearn: 4951741.4095984\ttotal: 2.73s\tremaining: 5.19s\n",
      "324:\tlearn: 4946643.8939200\ttotal: 2.74s\tremaining: 5.19s\n",
      "325:\tlearn: 4943034.6857477\ttotal: 2.75s\tremaining: 5.18s\n",
      "326:\tlearn: 4937391.3712338\ttotal: 2.75s\tremaining: 5.16s\n",
      "327:\tlearn: 4935582.0155913\ttotal: 2.76s\tremaining: 5.15s\n",
      "328:\tlearn: 4927193.6356704\ttotal: 2.77s\tremaining: 5.14s\n",
      "329:\tlearn: 4922691.8914128\ttotal: 2.78s\tremaining: 5.13s\n",
      "330:\tlearn: 4920751.5367622\ttotal: 2.79s\tremaining: 5.12s\n",
      "331:\tlearn: 4916820.8560905\ttotal: 2.79s\tremaining: 5.11s\n",
      "332:\tlearn: 4915060.8134895\ttotal: 2.8s\tremaining: 5.1s\n",
      "333:\tlearn: 4913241.9293933\ttotal: 2.81s\tremaining: 5.09s\n",
      "334:\tlearn: 4908097.0606632\ttotal: 2.81s\tremaining: 5.08s\n",
      "335:\tlearn: 4906235.5482591\ttotal: 2.82s\tremaining: 5.08s\n",
      "336:\tlearn: 4904174.1179835\ttotal: 2.83s\tremaining: 5.07s\n",
      "337:\tlearn: 4897214.9949153\ttotal: 2.84s\tremaining: 5.06s\n",
      "338:\tlearn: 4894036.1706439\ttotal: 2.85s\tremaining: 5.04s\n",
      "339:\tlearn: 4892279.4692656\ttotal: 2.85s\tremaining: 5.03s\n",
      "340:\tlearn: 4886207.3187828\ttotal: 2.86s\tremaining: 5.02s\n",
      "341:\tlearn: 4881745.2866654\ttotal: 2.87s\tremaining: 5.01s\n",
      "342:\tlearn: 4878509.2301718\ttotal: 2.88s\tremaining: 5.01s\n",
      "343:\tlearn: 4876551.1613598\ttotal: 2.88s\tremaining: 5s\n",
      "344:\tlearn: 4870663.6803440\ttotal: 2.89s\tremaining: 4.99s\n",
      "345:\tlearn: 4867969.0078026\ttotal: 2.9s\tremaining: 4.98s\n",
      "346:\tlearn: 4864315.5136325\ttotal: 2.91s\tremaining: 4.97s\n",
      "347:\tlearn: 4860817.7875211\ttotal: 2.92s\tremaining: 4.96s\n",
      "348:\tlearn: 4858616.4495501\ttotal: 2.92s\tremaining: 4.95s\n",
      "349:\tlearn: 4856005.7810094\ttotal: 2.93s\tremaining: 4.94s\n",
      "350:\tlearn: 4852421.6177495\ttotal: 2.94s\tremaining: 4.94s\n",
      "351:\tlearn: 4850140.8139614\ttotal: 2.95s\tremaining: 4.93s\n",
      "352:\tlearn: 4845998.1613101\ttotal: 2.96s\tremaining: 4.92s\n",
      "353:\tlearn: 4843004.2868919\ttotal: 2.96s\tremaining: 4.91s\n",
      "354:\tlearn: 4840218.7745368\ttotal: 2.97s\tremaining: 4.9s\n",
      "355:\tlearn: 4838056.5216824\ttotal: 2.98s\tremaining: 4.89s\n",
      "356:\tlearn: 4831850.9137495\ttotal: 2.99s\tremaining: 4.88s\n",
      "357:\tlearn: 4828098.3420820\ttotal: 3s\tremaining: 4.87s\n",
      "358:\tlearn: 4825191.9405812\ttotal: 3s\tremaining: 4.86s\n",
      "359:\tlearn: 4823141.1435361\ttotal: 3.01s\tremaining: 4.85s\n",
      "360:\tlearn: 4818954.2674770\ttotal: 3.02s\tremaining: 4.84s\n",
      "361:\tlearn: 4814949.5695062\ttotal: 3.03s\tremaining: 4.83s\n",
      "362:\tlearn: 4811898.8519178\ttotal: 3.04s\tremaining: 4.83s\n",
      "363:\tlearn: 4810068.6130421\ttotal: 3.06s\tremaining: 4.83s\n",
      "364:\tlearn: 4804941.2352100\ttotal: 3.06s\tremaining: 4.83s\n",
      "365:\tlearn: 4801061.4612573\ttotal: 3.07s\tremaining: 4.82s\n",
      "366:\tlearn: 4798338.6150180\ttotal: 3.08s\tremaining: 4.81s\n",
      "367:\tlearn: 4794801.0698685\ttotal: 3.09s\tremaining: 4.8s\n",
      "368:\tlearn: 4791029.2842125\ttotal: 3.1s\tremaining: 4.79s\n",
      "369:\tlearn: 4787523.4224293\ttotal: 3.1s\tremaining: 4.78s\n",
      "370:\tlearn: 4780199.8958227\ttotal: 3.11s\tremaining: 4.78s\n",
      "371:\tlearn: 4775836.7917641\ttotal: 3.12s\tremaining: 4.77s\n",
      "372:\tlearn: 4773005.0226714\ttotal: 3.13s\tremaining: 4.76s\n",
      "373:\tlearn: 4771927.2893682\ttotal: 3.14s\tremaining: 4.75s\n",
      "374:\tlearn: 4769983.9861201\ttotal: 3.15s\tremaining: 4.74s\n",
      "375:\tlearn: 4765763.0984653\ttotal: 3.15s\tremaining: 4.73s\n",
      "376:\tlearn: 4760316.9743064\ttotal: 3.16s\tremaining: 4.73s\n",
      "377:\tlearn: 4757987.7842645\ttotal: 3.17s\tremaining: 4.72s\n",
      "378:\tlearn: 4754175.3021789\ttotal: 3.18s\tremaining: 4.71s\n",
      "379:\tlearn: 4752017.7976854\ttotal: 3.19s\tremaining: 4.7s\n",
      "380:\tlearn: 4748658.4259176\ttotal: 3.19s\tremaining: 4.69s\n",
      "381:\tlearn: 4745768.4200943\ttotal: 3.2s\tremaining: 4.68s\n",
      "382:\tlearn: 4742582.1548756\ttotal: 3.21s\tremaining: 4.67s\n",
      "383:\tlearn: 4738626.8262730\ttotal: 3.21s\tremaining: 4.65s\n",
      "384:\tlearn: 4734642.1253634\ttotal: 3.22s\tremaining: 4.65s\n",
      "385:\tlearn: 4730860.9647594\ttotal: 3.23s\tremaining: 4.64s\n",
      "386:\tlearn: 4726918.2678235\ttotal: 3.24s\tremaining: 4.63s\n",
      "387:\tlearn: 4725150.5563124\ttotal: 3.25s\tremaining: 4.62s\n",
      "388:\tlearn: 4723529.5140714\ttotal: 3.25s\tremaining: 4.61s\n",
      "389:\tlearn: 4720696.6474330\ttotal: 3.26s\tremaining: 4.6s\n",
      "390:\tlearn: 4717265.4720404\ttotal: 3.27s\tremaining: 4.59s\n",
      "391:\tlearn: 4715661.0282643\ttotal: 3.28s\tremaining: 4.59s\n",
      "392:\tlearn: 4710683.3011932\ttotal: 3.29s\tremaining: 4.58s\n",
      "393:\tlearn: 4705566.9372138\ttotal: 3.3s\tremaining: 4.57s\n",
      "394:\tlearn: 4700985.3571057\ttotal: 3.31s\tremaining: 4.56s\n",
      "395:\tlearn: 4696884.7712260\ttotal: 3.31s\tremaining: 4.55s\n",
      "396:\tlearn: 4691848.3457573\ttotal: 3.32s\tremaining: 4.54s\n",
      "397:\tlearn: 4689247.5189701\ttotal: 3.33s\tremaining: 4.54s\n",
      "398:\tlearn: 4682590.9356351\ttotal: 3.34s\tremaining: 4.53s\n",
      "399:\tlearn: 4679165.4164532\ttotal: 3.35s\tremaining: 4.52s\n",
      "400:\tlearn: 4674278.3540820\ttotal: 3.35s\tremaining: 4.51s\n",
      "401:\tlearn: 4672612.6198666\ttotal: 3.36s\tremaining: 4.5s\n",
      "402:\tlearn: 4671280.7270940\ttotal: 3.37s\tremaining: 4.49s\n",
      "403:\tlearn: 4668889.1350202\ttotal: 3.38s\tremaining: 4.48s\n",
      "404:\tlearn: 4668809.1742472\ttotal: 3.38s\tremaining: 4.47s\n",
      "405:\tlearn: 4665462.7030429\ttotal: 3.39s\tremaining: 4.46s\n",
      "406:\tlearn: 4662883.9893624\ttotal: 3.4s\tremaining: 4.45s\n",
      "407:\tlearn: 4659923.3401438\ttotal: 3.41s\tremaining: 4.44s\n",
      "408:\tlearn: 4657196.2185354\ttotal: 3.41s\tremaining: 4.43s\n",
      "409:\tlearn: 4652917.3700569\ttotal: 3.42s\tremaining: 4.42s\n",
      "410:\tlearn: 4649752.8230855\ttotal: 3.43s\tremaining: 4.41s\n",
      "411:\tlearn: 4648995.2777698\ttotal: 3.44s\tremaining: 4.4s\n",
      "412:\tlearn: 4646815.6178963\ttotal: 3.44s\tremaining: 4.39s\n",
      "413:\tlearn: 4643444.5665439\ttotal: 3.45s\tremaining: 4.38s\n",
      "414:\tlearn: 4638632.2016571\ttotal: 3.46s\tremaining: 4.38s\n",
      "415:\tlearn: 4638128.6478993\ttotal: 3.46s\tremaining: 4.36s\n",
      "416:\tlearn: 4633038.5940222\ttotal: 3.47s\tremaining: 4.35s\n",
      "417:\tlearn: 4628996.8702238\ttotal: 3.48s\tremaining: 4.34s\n",
      "418:\tlearn: 4627241.1755356\ttotal: 3.48s\tremaining: 4.33s\n",
      "419:\tlearn: 4623706.2502201\ttotal: 3.49s\tremaining: 4.33s\n",
      "420:\tlearn: 4621215.4046896\ttotal: 3.5s\tremaining: 4.32s\n",
      "421:\tlearn: 4618851.1354624\ttotal: 3.51s\tremaining: 4.31s\n",
      "422:\tlearn: 4616756.8469422\ttotal: 3.52s\tremaining: 4.3s\n",
      "423:\tlearn: 4613892.9544309\ttotal: 3.53s\tremaining: 4.29s\n",
      "424:\tlearn: 4611753.4467288\ttotal: 3.53s\tremaining: 4.28s\n",
      "425:\tlearn: 4607431.6360508\ttotal: 3.54s\tremaining: 4.27s\n",
      "426:\tlearn: 4605970.2741067\ttotal: 3.55s\tremaining: 4.27s\n",
      "427:\tlearn: 4604393.0889415\ttotal: 3.56s\tremaining: 4.26s\n",
      "428:\tlearn: 4602619.9401431\ttotal: 3.57s\tremaining: 4.25s\n",
      "429:\tlearn: 4600757.6279271\ttotal: 3.58s\tremaining: 4.24s\n",
      "430:\tlearn: 4597116.8100085\ttotal: 3.58s\tremaining: 4.23s\n",
      "431:\tlearn: 4591480.5852256\ttotal: 3.59s\tremaining: 4.22s\n",
      "432:\tlearn: 4589412.1830743\ttotal: 3.6s\tremaining: 4.21s\n",
      "433:\tlearn: 4585717.7049791\ttotal: 3.61s\tremaining: 4.21s\n",
      "434:\tlearn: 4583483.3955912\ttotal: 3.61s\tremaining: 4.19s\n",
      "435:\tlearn: 4578930.8904010\ttotal: 3.62s\tremaining: 4.18s\n",
      "436:\tlearn: 4574568.7002003\ttotal: 3.63s\tremaining: 4.18s\n",
      "437:\tlearn: 4571563.0414069\ttotal: 3.64s\tremaining: 4.17s\n",
      "438:\tlearn: 4568193.9444236\ttotal: 3.65s\tremaining: 4.16s\n",
      "439:\tlearn: 4565074.1551996\ttotal: 3.66s\tremaining: 4.16s\n",
      "440:\tlearn: 4560821.0436169\ttotal: 3.67s\tremaining: 4.15s\n",
      "441:\tlearn: 4558543.7194117\ttotal: 3.67s\tremaining: 4.14s\n",
      "442:\tlearn: 4555091.2132840\ttotal: 3.68s\tremaining: 4.13s\n",
      "443:\tlearn: 4552669.4153008\ttotal: 3.69s\tremaining: 4.12s\n",
      "444:\tlearn: 4548678.5676923\ttotal: 3.7s\tremaining: 4.11s\n",
      "445:\tlearn: 4541986.8427288\ttotal: 3.72s\tremaining: 4.12s\n",
      "446:\tlearn: 4540546.7321838\ttotal: 3.73s\tremaining: 4.11s\n",
      "447:\tlearn: 4537279.9970262\ttotal: 3.73s\tremaining: 4.1s\n",
      "448:\tlearn: 4533786.6981794\ttotal: 3.74s\tremaining: 4.09s\n",
      "449:\tlearn: 4531506.9781065\ttotal: 3.75s\tremaining: 4.08s\n",
      "450:\tlearn: 4529565.1576862\ttotal: 3.76s\tremaining: 4.08s\n",
      "451:\tlearn: 4526267.3524107\ttotal: 3.77s\tremaining: 4.07s\n",
      "452:\tlearn: 4522825.9088329\ttotal: 3.78s\tremaining: 4.07s\n",
      "453:\tlearn: 4519756.2120663\ttotal: 3.79s\tremaining: 4.06s\n",
      "454:\tlearn: 4519438.7215305\ttotal: 3.79s\tremaining: 4.04s\n",
      "455:\tlearn: 4517473.9258290\ttotal: 3.8s\tremaining: 4.03s\n",
      "456:\tlearn: 4513673.6294742\ttotal: 3.81s\tremaining: 4.02s\n",
      "457:\tlearn: 4511542.0413153\ttotal: 3.81s\tremaining: 4.01s\n",
      "458:\tlearn: 4508396.2927448\ttotal: 3.82s\tremaining: 4s\n",
      "459:\tlearn: 4506627.6233044\ttotal: 3.83s\tremaining: 4s\n",
      "460:\tlearn: 4502503.4744597\ttotal: 3.84s\tremaining: 3.99s\n",
      "461:\tlearn: 4501599.6932782\ttotal: 3.84s\tremaining: 3.98s\n",
      "462:\tlearn: 4497298.3694721\ttotal: 3.85s\tremaining: 3.97s\n",
      "463:\tlearn: 4494709.9258196\ttotal: 3.86s\tremaining: 3.96s\n",
      "464:\tlearn: 4492262.4155932\ttotal: 3.87s\tremaining: 3.95s\n",
      "465:\tlearn: 4491464.0378975\ttotal: 3.87s\tremaining: 3.94s\n",
      "466:\tlearn: 4490181.4191191\ttotal: 3.88s\tremaining: 3.93s\n",
      "467:\tlearn: 4488904.5817657\ttotal: 3.89s\tremaining: 3.92s\n",
      "468:\tlearn: 4487875.7157770\ttotal: 3.89s\tremaining: 3.91s\n",
      "469:\tlearn: 4486096.8341933\ttotal: 3.9s\tremaining: 3.9s\n",
      "470:\tlearn: 4484195.6763991\ttotal: 3.9s\tremaining: 3.89s\n",
      "471:\tlearn: 4479041.7176000\ttotal: 3.91s\tremaining: 3.88s\n",
      "472:\tlearn: 4474125.0471315\ttotal: 3.92s\tremaining: 3.87s\n",
      "473:\tlearn: 4470463.1826741\ttotal: 3.93s\tremaining: 3.86s\n",
      "474:\tlearn: 4467949.4631354\ttotal: 3.94s\tremaining: 3.85s\n",
      "475:\tlearn: 4464829.6528320\ttotal: 3.95s\tremaining: 3.85s\n",
      "476:\tlearn: 4460806.2551966\ttotal: 3.95s\tremaining: 3.84s\n",
      "477:\tlearn: 4457370.8758080\ttotal: 3.97s\tremaining: 3.84s\n",
      "478:\tlearn: 4453741.3677027\ttotal: 3.98s\tremaining: 3.83s\n",
      "479:\tlearn: 4449757.9467020\ttotal: 4s\tremaining: 3.83s\n",
      "480:\tlearn: 4449587.2498384\ttotal: 4s\tremaining: 3.82s\n",
      "481:\tlearn: 4447309.2918196\ttotal: 4.01s\tremaining: 3.81s\n",
      "482:\tlearn: 4445236.8255675\ttotal: 4.02s\tremaining: 3.81s\n",
      "483:\tlearn: 4441148.5250914\ttotal: 4.03s\tremaining: 3.8s\n",
      "484:\tlearn: 4437139.7641642\ttotal: 4.04s\tremaining: 3.79s\n",
      "485:\tlearn: 4433859.9413048\ttotal: 4.05s\tremaining: 3.78s\n",
      "486:\tlearn: 4430501.7791645\ttotal: 4.06s\tremaining: 3.77s\n",
      "487:\tlearn: 4426732.0444782\ttotal: 4.07s\tremaining: 3.77s\n",
      "488:\tlearn: 4426731.8246107\ttotal: 4.07s\tremaining: 3.75s\n",
      "489:\tlearn: 4424676.0785687\ttotal: 4.08s\tremaining: 3.74s\n",
      "490:\tlearn: 4422942.2620701\ttotal: 4.08s\tremaining: 3.73s\n",
      "491:\tlearn: 4419608.1743361\ttotal: 4.09s\tremaining: 3.73s\n",
      "492:\tlearn: 4419102.2036454\ttotal: 4.1s\tremaining: 3.72s\n",
      "493:\tlearn: 4415032.7674840\ttotal: 4.11s\tremaining: 3.71s\n",
      "494:\tlearn: 4412756.8868678\ttotal: 4.12s\tremaining: 3.7s\n",
      "495:\tlearn: 4411022.8874366\ttotal: 4.12s\tremaining: 3.69s\n",
      "496:\tlearn: 4408306.7725086\ttotal: 4.13s\tremaining: 3.68s\n",
      "497:\tlearn: 4406590.8159829\ttotal: 4.14s\tremaining: 3.68s\n",
      "498:\tlearn: 4405221.1282633\ttotal: 4.15s\tremaining: 3.67s\n",
      "499:\tlearn: 4404036.6005139\ttotal: 4.16s\tremaining: 3.66s\n",
      "500:\tlearn: 4401303.5083801\ttotal: 4.17s\tremaining: 3.65s\n",
      "501:\tlearn: 4398871.7636593\ttotal: 4.17s\tremaining: 3.64s\n",
      "502:\tlearn: 4396238.0469970\ttotal: 4.18s\tremaining: 3.63s\n",
      "503:\tlearn: 4391101.3898162\ttotal: 4.19s\tremaining: 3.63s\n",
      "504:\tlearn: 4388738.5288838\ttotal: 4.2s\tremaining: 3.62s\n",
      "505:\tlearn: 4385764.6865971\ttotal: 4.21s\tremaining: 3.61s\n",
      "506:\tlearn: 4382032.5300625\ttotal: 4.21s\tremaining: 3.6s\n",
      "507:\tlearn: 4379677.1621823\ttotal: 4.23s\tremaining: 3.6s\n",
      "508:\tlearn: 4378032.7881448\ttotal: 4.24s\tremaining: 3.59s\n",
      "509:\tlearn: 4376454.5232794\ttotal: 4.25s\tremaining: 3.58s\n",
      "510:\tlearn: 4373254.0590699\ttotal: 4.26s\tremaining: 3.57s\n",
      "511:\tlearn: 4371300.8860901\ttotal: 4.27s\tremaining: 3.57s\n",
      "512:\tlearn: 4367957.3399248\ttotal: 4.28s\tremaining: 3.56s\n",
      "513:\tlearn: 4366219.5114792\ttotal: 4.29s\tremaining: 3.56s\n",
      "514:\tlearn: 4362211.4079594\ttotal: 4.3s\tremaining: 3.55s\n",
      "515:\tlearn: 4358868.9215074\ttotal: 4.31s\tremaining: 3.54s\n",
      "516:\tlearn: 4354334.6385638\ttotal: 4.31s\tremaining: 3.53s\n",
      "517:\tlearn: 4350497.5494983\ttotal: 4.32s\tremaining: 3.52s\n",
      "518:\tlearn: 4346719.9112798\ttotal: 4.34s\tremaining: 3.52s\n",
      "519:\tlearn: 4345476.9421920\ttotal: 4.34s\tremaining: 3.51s\n",
      "520:\tlearn: 4341702.7446079\ttotal: 4.35s\tremaining: 3.5s\n",
      "521:\tlearn: 4338323.0282903\ttotal: 4.36s\tremaining: 3.49s\n",
      "522:\tlearn: 4337542.1174388\ttotal: 4.37s\tremaining: 3.48s\n",
      "523:\tlearn: 4334526.1040190\ttotal: 4.37s\tremaining: 3.47s\n",
      "524:\tlearn: 4332587.1044313\ttotal: 4.39s\tremaining: 3.47s\n",
      "525:\tlearn: 4329443.4490556\ttotal: 4.4s\tremaining: 3.46s\n",
      "526:\tlearn: 4326310.2958332\ttotal: 4.41s\tremaining: 3.45s\n",
      "527:\tlearn: 4324227.8348306\ttotal: 4.41s\tremaining: 3.44s\n",
      "528:\tlearn: 4322661.3680490\ttotal: 4.42s\tremaining: 3.43s\n",
      "529:\tlearn: 4319752.5940881\ttotal: 4.43s\tremaining: 3.42s\n",
      "530:\tlearn: 4316812.4400528\ttotal: 4.44s\tremaining: 3.42s\n",
      "531:\tlearn: 4314217.2226067\ttotal: 4.44s\tremaining: 3.41s\n",
      "532:\tlearn: 4310511.4037304\ttotal: 4.45s\tremaining: 3.4s\n",
      "533:\tlearn: 4307613.4713735\ttotal: 4.46s\tremaining: 3.39s\n",
      "534:\tlearn: 4304740.2725854\ttotal: 4.46s\tremaining: 3.38s\n",
      "535:\tlearn: 4300759.2180611\ttotal: 4.47s\tremaining: 3.37s\n",
      "536:\tlearn: 4298627.1181566\ttotal: 4.47s\tremaining: 3.36s\n",
      "537:\tlearn: 4295695.3793847\ttotal: 4.49s\tremaining: 3.36s\n",
      "538:\tlearn: 4293739.5951602\ttotal: 4.5s\tremaining: 3.35s\n",
      "539:\tlearn: 4292168.4272196\ttotal: 4.51s\tremaining: 3.34s\n",
      "540:\tlearn: 4287491.2765757\ttotal: 4.52s\tremaining: 3.33s\n",
      "541:\tlearn: 4285418.7490476\ttotal: 4.52s\tremaining: 3.32s\n",
      "542:\tlearn: 4283371.5402799\ttotal: 4.53s\tremaining: 3.31s\n",
      "543:\tlearn: 4280900.9655929\ttotal: 4.54s\tremaining: 3.3s\n",
      "544:\tlearn: 4279686.3172366\ttotal: 4.55s\tremaining: 3.29s\n",
      "545:\tlearn: 4277347.3959658\ttotal: 4.55s\tremaining: 3.29s\n",
      "546:\tlearn: 4274227.3074349\ttotal: 4.56s\tremaining: 3.28s\n",
      "547:\tlearn: 4270592.3870057\ttotal: 4.57s\tremaining: 3.27s\n",
      "548:\tlearn: 4267500.2446784\ttotal: 4.58s\tremaining: 3.26s\n",
      "549:\tlearn: 4263938.4849071\ttotal: 4.58s\tremaining: 3.25s\n",
      "550:\tlearn: 4261330.8169163\ttotal: 4.59s\tremaining: 3.24s\n",
      "551:\tlearn: 4256981.5510145\ttotal: 4.6s\tremaining: 3.23s\n",
      "552:\tlearn: 4253845.1471383\ttotal: 4.61s\tremaining: 3.23s\n",
      "553:\tlearn: 4249405.7269289\ttotal: 4.62s\tremaining: 3.22s\n",
      "554:\tlearn: 4243687.6276425\ttotal: 4.62s\tremaining: 3.21s\n",
      "555:\tlearn: 4242441.1425798\ttotal: 4.63s\tremaining: 3.2s\n",
      "556:\tlearn: 4239141.6208599\ttotal: 4.64s\tremaining: 3.19s\n",
      "557:\tlearn: 4237198.6447094\ttotal: 4.64s\tremaining: 3.18s\n",
      "558:\tlearn: 4234526.8487592\ttotal: 4.65s\tremaining: 3.17s\n",
      "559:\tlearn: 4233373.9388896\ttotal: 4.66s\tremaining: 3.16s\n",
      "560:\tlearn: 4230883.0352346\ttotal: 4.67s\tremaining: 3.15s\n",
      "561:\tlearn: 4228742.7242757\ttotal: 4.67s\tremaining: 3.14s\n",
      "562:\tlearn: 4226570.5727668\ttotal: 4.68s\tremaining: 3.14s\n",
      "563:\tlearn: 4223642.8373590\ttotal: 4.69s\tremaining: 3.13s\n",
      "564:\tlearn: 4222140.9757487\ttotal: 4.7s\tremaining: 3.12s\n",
      "565:\tlearn: 4219274.3246825\ttotal: 4.7s\tremaining: 3.11s\n",
      "566:\tlearn: 4216263.1928956\ttotal: 4.71s\tremaining: 3.1s\n",
      "567:\tlearn: 4214393.8024949\ttotal: 4.72s\tremaining: 3.09s\n",
      "568:\tlearn: 4212228.5226241\ttotal: 4.73s\tremaining: 3.08s\n",
      "569:\tlearn: 4208108.6752402\ttotal: 4.73s\tremaining: 3.07s\n",
      "570:\tlearn: 4205529.7629025\ttotal: 4.74s\tremaining: 3.06s\n",
      "571:\tlearn: 4202987.4110521\ttotal: 4.75s\tremaining: 3.06s\n",
      "572:\tlearn: 4200899.5854794\ttotal: 4.76s\tremaining: 3.05s\n",
      "573:\tlearn: 4199346.3233454\ttotal: 4.76s\tremaining: 3.04s\n",
      "574:\tlearn: 4194586.1830059\ttotal: 4.78s\tremaining: 3.03s\n",
      "575:\tlearn: 4193306.4883064\ttotal: 4.78s\tremaining: 3.02s\n",
      "576:\tlearn: 4187709.6679484\ttotal: 4.79s\tremaining: 3.02s\n",
      "577:\tlearn: 4183945.0779704\ttotal: 4.8s\tremaining: 3.01s\n",
      "578:\tlearn: 4181783.9331790\ttotal: 4.81s\tremaining: 3s\n",
      "579:\tlearn: 4179600.8521338\ttotal: 4.82s\tremaining: 2.99s\n",
      "580:\tlearn: 4178269.4195946\ttotal: 4.83s\tremaining: 2.98s\n",
      "581:\tlearn: 4174924.6370909\ttotal: 4.83s\tremaining: 2.97s\n",
      "582:\tlearn: 4172239.2222431\ttotal: 4.84s\tremaining: 2.96s\n",
      "583:\tlearn: 4169464.1460357\ttotal: 4.85s\tremaining: 2.96s\n",
      "584:\tlearn: 4163447.1958820\ttotal: 4.86s\tremaining: 2.95s\n",
      "585:\tlearn: 4159389.1974436\ttotal: 4.87s\tremaining: 2.94s\n",
      "586:\tlearn: 4157476.9855915\ttotal: 4.87s\tremaining: 2.93s\n",
      "587:\tlearn: 4154066.9959478\ttotal: 4.88s\tremaining: 2.92s\n",
      "588:\tlearn: 4152026.5970761\ttotal: 4.89s\tremaining: 2.91s\n",
      "589:\tlearn: 4149647.4233983\ttotal: 4.89s\tremaining: 2.9s\n",
      "590:\tlearn: 4148381.1817381\ttotal: 4.9s\tremaining: 2.89s\n",
      "591:\tlearn: 4144168.3680098\ttotal: 4.91s\tremaining: 2.89s\n",
      "592:\tlearn: 4141907.6394615\ttotal: 4.92s\tremaining: 2.88s\n",
      "593:\tlearn: 4139748.1683915\ttotal: 4.93s\tremaining: 2.87s\n",
      "594:\tlearn: 4137008.2934098\ttotal: 4.94s\tremaining: 2.86s\n",
      "595:\tlearn: 4132888.5054245\ttotal: 4.95s\tremaining: 2.86s\n",
      "596:\tlearn: 4128327.2145813\ttotal: 4.96s\tremaining: 2.85s\n",
      "597:\tlearn: 4126090.4654839\ttotal: 4.96s\tremaining: 2.84s\n",
      "598:\tlearn: 4124005.9718696\ttotal: 4.97s\tremaining: 2.83s\n",
      "599:\tlearn: 4121274.1785541\ttotal: 4.98s\tremaining: 2.82s\n",
      "600:\tlearn: 4119563.7623780\ttotal: 4.99s\tremaining: 2.81s\n",
      "601:\tlearn: 4115800.9193983\ttotal: 4.99s\tremaining: 2.8s\n",
      "602:\tlearn: 4115004.7771569\ttotal: 5s\tremaining: 2.8s\n",
      "603:\tlearn: 4113336.2402425\ttotal: 5.01s\tremaining: 2.79s\n",
      "604:\tlearn: 4111953.4415796\ttotal: 5.02s\tremaining: 2.78s\n",
      "605:\tlearn: 4109506.9682395\ttotal: 5.03s\tremaining: 2.77s\n",
      "606:\tlearn: 4106725.8961169\ttotal: 5.04s\tremaining: 2.76s\n",
      "607:\tlearn: 4102277.9035472\ttotal: 5.04s\tremaining: 2.75s\n",
      "608:\tlearn: 4099133.8573710\ttotal: 5.05s\tremaining: 2.75s\n",
      "609:\tlearn: 4096529.3251352\ttotal: 5.06s\tremaining: 2.74s\n",
      "610:\tlearn: 4094081.1895988\ttotal: 5.07s\tremaining: 2.73s\n",
      "611:\tlearn: 4091554.6368525\ttotal: 5.07s\tremaining: 2.72s\n",
      "612:\tlearn: 4090172.0710907\ttotal: 5.08s\tremaining: 2.71s\n",
      "613:\tlearn: 4087022.2799544\ttotal: 5.09s\tremaining: 2.7s\n",
      "614:\tlearn: 4083686.9412383\ttotal: 5.1s\tremaining: 2.69s\n",
      "615:\tlearn: 4081561.1736177\ttotal: 5.11s\tremaining: 2.69s\n",
      "616:\tlearn: 4079825.1612182\ttotal: 5.12s\tremaining: 2.68s\n",
      "617:\tlearn: 4077063.8848785\ttotal: 5.12s\tremaining: 2.67s\n",
      "618:\tlearn: 4074251.9895362\ttotal: 5.13s\tremaining: 2.66s\n",
      "619:\tlearn: 4072303.5198621\ttotal: 5.14s\tremaining: 2.65s\n",
      "620:\tlearn: 4070506.7211643\ttotal: 5.15s\tremaining: 2.65s\n",
      "621:\tlearn: 4065639.0169941\ttotal: 5.16s\tremaining: 2.64s\n",
      "622:\tlearn: 4063729.5753768\ttotal: 5.17s\tremaining: 2.63s\n",
      "623:\tlearn: 4062327.8941769\ttotal: 5.17s\tremaining: 2.62s\n",
      "624:\tlearn: 4060142.0812998\ttotal: 5.18s\tremaining: 2.61s\n",
      "625:\tlearn: 4056949.4531416\ttotal: 5.19s\tremaining: 2.6s\n",
      "626:\tlearn: 4055218.8569627\ttotal: 5.2s\tremaining: 2.59s\n",
      "627:\tlearn: 4053773.8247212\ttotal: 5.2s\tremaining: 2.58s\n",
      "628:\tlearn: 4051773.6171665\ttotal: 5.21s\tremaining: 2.58s\n",
      "629:\tlearn: 4049911.3774558\ttotal: 5.22s\tremaining: 2.57s\n",
      "630:\tlearn: 4047014.6975981\ttotal: 5.23s\tremaining: 2.56s\n",
      "631:\tlearn: 4044448.3273249\ttotal: 5.24s\tremaining: 2.55s\n",
      "632:\tlearn: 4042543.8168360\ttotal: 5.25s\tremaining: 2.54s\n",
      "633:\tlearn: 4039580.2514281\ttotal: 5.25s\tremaining: 2.54s\n",
      "634:\tlearn: 4038202.6635692\ttotal: 5.26s\tremaining: 2.53s\n",
      "635:\tlearn: 4035721.5250007\ttotal: 5.28s\tremaining: 2.52s\n",
      "636:\tlearn: 4033828.7702108\ttotal: 5.29s\tremaining: 2.51s\n",
      "637:\tlearn: 4032343.1630419\ttotal: 5.29s\tremaining: 2.5s\n",
      "638:\tlearn: 4029293.8384337\ttotal: 5.3s\tremaining: 2.5s\n",
      "639:\tlearn: 4027174.3788356\ttotal: 5.31s\tremaining: 2.49s\n",
      "640:\tlearn: 4025754.8570191\ttotal: 5.31s\tremaining: 2.48s\n",
      "641:\tlearn: 4024223.3906597\ttotal: 5.32s\tremaining: 2.47s\n",
      "642:\tlearn: 4022396.0145311\ttotal: 5.33s\tremaining: 2.46s\n",
      "643:\tlearn: 4022336.0285189\ttotal: 5.33s\tremaining: 2.45s\n",
      "644:\tlearn: 4020481.0780937\ttotal: 5.33s\tremaining: 2.44s\n",
      "645:\tlearn: 4016877.4332792\ttotal: 5.34s\tremaining: 2.43s\n",
      "646:\tlearn: 4014491.0535241\ttotal: 5.35s\tremaining: 2.42s\n",
      "647:\tlearn: 4011110.0338923\ttotal: 5.36s\tremaining: 2.42s\n",
      "648:\tlearn: 4009759.8291176\ttotal: 5.37s\tremaining: 2.41s\n",
      "649:\tlearn: 4006838.3879707\ttotal: 5.38s\tremaining: 2.4s\n",
      "650:\tlearn: 4003098.2512540\ttotal: 5.38s\tremaining: 2.39s\n",
      "651:\tlearn: 4001360.5862833\ttotal: 5.39s\tremaining: 2.38s\n",
      "652:\tlearn: 3998833.3615942\ttotal: 5.4s\tremaining: 2.37s\n",
      "653:\tlearn: 3996784.2586576\ttotal: 5.4s\tremaining: 2.36s\n",
      "654:\tlearn: 3994575.0218336\ttotal: 5.41s\tremaining: 2.35s\n",
      "655:\tlearn: 3992546.9962587\ttotal: 5.42s\tremaining: 2.35s\n",
      "656:\tlearn: 3989155.0185478\ttotal: 5.43s\tremaining: 2.34s\n",
      "657:\tlearn: 3987868.6487383\ttotal: 5.44s\tremaining: 2.33s\n",
      "658:\tlearn: 3986188.8799618\ttotal: 5.46s\tremaining: 2.33s\n",
      "659:\tlearn: 3984175.2950239\ttotal: 5.46s\tremaining: 2.32s\n",
      "660:\tlearn: 3982301.3832031\ttotal: 5.47s\tremaining: 2.31s\n",
      "661:\tlearn: 3979512.9407033\ttotal: 5.48s\tremaining: 2.3s\n",
      "662:\tlearn: 3977834.6570966\ttotal: 5.49s\tremaining: 2.29s\n",
      "663:\tlearn: 3975151.1571564\ttotal: 5.5s\tremaining: 2.28s\n",
      "664:\tlearn: 3973065.9784966\ttotal: 5.51s\tremaining: 2.28s\n",
      "665:\tlearn: 3971245.6938801\ttotal: 5.51s\tremaining: 2.27s\n",
      "666:\tlearn: 3970597.1354000\ttotal: 5.52s\tremaining: 2.26s\n",
      "667:\tlearn: 3967161.2753843\ttotal: 5.53s\tremaining: 2.25s\n",
      "668:\tlearn: 3962929.7017482\ttotal: 5.54s\tremaining: 2.24s\n",
      "669:\tlearn: 3960142.5033105\ttotal: 5.54s\tremaining: 2.23s\n",
      "670:\tlearn: 3957336.9387507\ttotal: 5.55s\tremaining: 2.23s\n",
      "671:\tlearn: 3955366.4457207\ttotal: 5.56s\tremaining: 2.22s\n",
      "672:\tlearn: 3953405.1216866\ttotal: 5.57s\tremaining: 2.21s\n",
      "673:\tlearn: 3951459.7515426\ttotal: 5.58s\tremaining: 2.2s\n",
      "674:\tlearn: 3949014.6582983\ttotal: 5.58s\tremaining: 2.19s\n",
      "675:\tlearn: 3948006.9484797\ttotal: 5.59s\tremaining: 2.18s\n",
      "676:\tlearn: 3943677.0168923\ttotal: 5.6s\tremaining: 2.17s\n",
      "677:\tlearn: 3942149.7592513\ttotal: 5.61s\tremaining: 2.17s\n",
      "678:\tlearn: 3940188.1502120\ttotal: 5.62s\tremaining: 2.16s\n",
      "679:\tlearn: 3938780.0487695\ttotal: 5.62s\tremaining: 2.15s\n",
      "680:\tlearn: 3936786.7143503\ttotal: 5.63s\tremaining: 2.14s\n",
      "681:\tlearn: 3934809.9482825\ttotal: 5.64s\tremaining: 2.13s\n",
      "682:\tlearn: 3933265.2604887\ttotal: 5.65s\tremaining: 2.13s\n",
      "683:\tlearn: 3929706.4545814\ttotal: 5.66s\tremaining: 2.12s\n",
      "684:\tlearn: 3927887.5590629\ttotal: 5.66s\tremaining: 2.11s\n",
      "685:\tlearn: 3926646.3144041\ttotal: 5.67s\tremaining: 2.1s\n",
      "686:\tlearn: 3924917.6085836\ttotal: 5.67s\tremaining: 2.09s\n",
      "687:\tlearn: 3922007.3400325\ttotal: 5.68s\tremaining: 2.08s\n",
      "688:\tlearn: 3920025.6147926\ttotal: 5.69s\tremaining: 2.07s\n",
      "689:\tlearn: 3917147.9755699\ttotal: 5.7s\tremaining: 2.06s\n",
      "690:\tlearn: 3914795.7494807\ttotal: 5.71s\tremaining: 2.06s\n",
      "691:\tlearn: 3912266.7901400\ttotal: 5.71s\tremaining: 2.05s\n",
      "692:\tlearn: 3910699.2667619\ttotal: 5.72s\tremaining: 2.04s\n",
      "693:\tlearn: 3908065.5610959\ttotal: 5.73s\tremaining: 2.03s\n",
      "694:\tlearn: 3904361.1301202\ttotal: 5.74s\tremaining: 2.02s\n",
      "695:\tlearn: 3902729.3756688\ttotal: 5.75s\tremaining: 2.01s\n",
      "696:\tlearn: 3899703.6499775\ttotal: 5.75s\tremaining: 2s\n",
      "697:\tlearn: 3897129.3269980\ttotal: 5.76s\tremaining: 2s\n",
      "698:\tlearn: 3894975.9637335\ttotal: 5.77s\tremaining: 1.99s\n",
      "699:\tlearn: 3894071.3875954\ttotal: 5.77s\tremaining: 1.98s\n",
      "700:\tlearn: 3890398.7003959\ttotal: 5.78s\tremaining: 1.97s\n",
      "701:\tlearn: 3888805.1899996\ttotal: 5.79s\tremaining: 1.96s\n",
      "702:\tlearn: 3887191.8498414\ttotal: 5.79s\tremaining: 1.95s\n",
      "703:\tlearn: 3884898.3240409\ttotal: 5.8s\tremaining: 1.94s\n",
      "704:\tlearn: 3882129.1308499\ttotal: 5.81s\tremaining: 1.94s\n",
      "705:\tlearn: 3879910.3945477\ttotal: 5.82s\tremaining: 1.93s\n",
      "706:\tlearn: 3878586.1317519\ttotal: 5.83s\tremaining: 1.92s\n",
      "707:\tlearn: 3876060.1328731\ttotal: 5.83s\tremaining: 1.91s\n",
      "708:\tlearn: 3873664.5418919\ttotal: 5.84s\tremaining: 1.9s\n",
      "709:\tlearn: 3872168.9219723\ttotal: 5.85s\tremaining: 1.9s\n",
      "710:\tlearn: 3871075.9353008\ttotal: 5.86s\tremaining: 1.89s\n",
      "711:\tlearn: 3869269.2250937\ttotal: 5.87s\tremaining: 1.88s\n",
      "712:\tlearn: 3866106.7962784\ttotal: 5.88s\tremaining: 1.87s\n",
      "713:\tlearn: 3863945.7238548\ttotal: 5.88s\tremaining: 1.86s\n",
      "714:\tlearn: 3862156.1726289\ttotal: 5.89s\tremaining: 1.85s\n",
      "715:\tlearn: 3860868.2891467\ttotal: 5.9s\tremaining: 1.85s\n",
      "716:\tlearn: 3859308.5023438\ttotal: 5.91s\tremaining: 1.84s\n",
      "717:\tlearn: 3858305.6061668\ttotal: 5.92s\tremaining: 1.83s\n",
      "718:\tlearn: 3855274.9171106\ttotal: 5.93s\tremaining: 1.82s\n",
      "719:\tlearn: 3853689.0170084\ttotal: 5.93s\tremaining: 1.81s\n",
      "720:\tlearn: 3851257.7285136\ttotal: 5.94s\tremaining: 1.8s\n",
      "721:\tlearn: 3848818.3754917\ttotal: 5.95s\tremaining: 1.8s\n",
      "722:\tlearn: 3846794.4903786\ttotal: 5.96s\tremaining: 1.79s\n",
      "723:\tlearn: 3845748.0179152\ttotal: 5.97s\tremaining: 1.78s\n",
      "724:\tlearn: 3843470.9718713\ttotal: 5.98s\tremaining: 1.77s\n",
      "725:\tlearn: 3842000.1674328\ttotal: 5.98s\tremaining: 1.76s\n",
      "726:\tlearn: 3840631.1239091\ttotal: 5.99s\tremaining: 1.75s\n",
      "727:\tlearn: 3838443.0392825\ttotal: 6s\tremaining: 1.75s\n",
      "728:\tlearn: 3836130.2021252\ttotal: 6.01s\tremaining: 1.74s\n",
      "729:\tlearn: 3834620.0654474\ttotal: 6.02s\tremaining: 1.73s\n",
      "730:\tlearn: 3832970.8572420\ttotal: 6.02s\tremaining: 1.72s\n",
      "731:\tlearn: 3830676.2118958\ttotal: 6.03s\tremaining: 1.71s\n",
      "732:\tlearn: 3828448.5803183\ttotal: 6.04s\tremaining: 1.7s\n",
      "733:\tlearn: 3827471.0394230\ttotal: 6.04s\tremaining: 1.7s\n",
      "734:\tlearn: 3824805.2338443\ttotal: 6.05s\tremaining: 1.69s\n",
      "735:\tlearn: 3823620.5145534\ttotal: 6.06s\tremaining: 1.68s\n",
      "736:\tlearn: 3821509.3355341\ttotal: 6.06s\tremaining: 1.67s\n",
      "737:\tlearn: 3819661.4084216\ttotal: 6.07s\tremaining: 1.66s\n",
      "738:\tlearn: 3817006.7410481\ttotal: 6.08s\tremaining: 1.65s\n",
      "739:\tlearn: 3815495.4649306\ttotal: 6.09s\tremaining: 1.65s\n",
      "740:\tlearn: 3815179.1597676\ttotal: 6.09s\tremaining: 1.64s\n",
      "741:\tlearn: 3812884.5816880\ttotal: 6.1s\tremaining: 1.63s\n",
      "742:\tlearn: 3810585.3798740\ttotal: 6.11s\tremaining: 1.62s\n",
      "743:\tlearn: 3806891.3338369\ttotal: 6.12s\tremaining: 1.61s\n",
      "744:\tlearn: 3804140.8464969\ttotal: 6.13s\tremaining: 1.6s\n",
      "745:\tlearn: 3803835.3847667\ttotal: 6.13s\tremaining: 1.59s\n",
      "746:\tlearn: 3802433.4137760\ttotal: 6.14s\tremaining: 1.59s\n",
      "747:\tlearn: 3800194.1489037\ttotal: 6.15s\tremaining: 1.58s\n",
      "748:\tlearn: 3798273.5233826\ttotal: 6.16s\tremaining: 1.57s\n",
      "749:\tlearn: 3796663.9632480\ttotal: 6.16s\tremaining: 1.56s\n",
      "750:\tlearn: 3794489.4539137\ttotal: 6.17s\tremaining: 1.55s\n",
      "751:\tlearn: 3791709.0489922\ttotal: 6.18s\tremaining: 1.54s\n",
      "752:\tlearn: 3790092.1406318\ttotal: 6.19s\tremaining: 1.54s\n",
      "753:\tlearn: 3788356.2227242\ttotal: 6.2s\tremaining: 1.53s\n",
      "754:\tlearn: 3787753.1578121\ttotal: 6.21s\tremaining: 1.52s\n",
      "755:\tlearn: 3786333.0706978\ttotal: 6.22s\tremaining: 1.51s\n",
      "756:\tlearn: 3783357.2253246\ttotal: 6.23s\tremaining: 1.51s\n",
      "757:\tlearn: 3781942.7658635\ttotal: 6.24s\tremaining: 1.5s\n",
      "758:\tlearn: 3778697.6895279\ttotal: 6.25s\tremaining: 1.49s\n",
      "759:\tlearn: 3776938.1343896\ttotal: 6.25s\tremaining: 1.48s\n",
      "760:\tlearn: 3776009.7405533\ttotal: 6.26s\tremaining: 1.47s\n",
      "761:\tlearn: 3774423.9305262\ttotal: 6.27s\tremaining: 1.46s\n",
      "762:\tlearn: 3773630.3688015\ttotal: 6.28s\tremaining: 1.46s\n",
      "763:\tlearn: 3771244.7681232\ttotal: 6.28s\tremaining: 1.45s\n",
      "764:\tlearn: 3769615.5314628\ttotal: 6.29s\tremaining: 1.44s\n",
      "765:\tlearn: 3768792.6040936\ttotal: 6.3s\tremaining: 1.43s\n",
      "766:\tlearn: 3767618.9018568\ttotal: 6.31s\tremaining: 1.42s\n",
      "767:\tlearn: 3765854.9926917\ttotal: 6.32s\tremaining: 1.41s\n",
      "768:\tlearn: 3763369.8600737\ttotal: 6.33s\tremaining: 1.41s\n",
      "769:\tlearn: 3761474.9168110\ttotal: 6.34s\tremaining: 1.4s\n",
      "770:\tlearn: 3757630.4966001\ttotal: 6.34s\tremaining: 1.39s\n",
      "771:\tlearn: 3755505.9594075\ttotal: 6.36s\tremaining: 1.38s\n",
      "772:\tlearn: 3753338.7873627\ttotal: 6.36s\tremaining: 1.37s\n",
      "773:\tlearn: 3752553.0248101\ttotal: 6.37s\tremaining: 1.37s\n",
      "774:\tlearn: 3750415.6042217\ttotal: 6.38s\tremaining: 1.36s\n",
      "775:\tlearn: 3748078.0096662\ttotal: 6.39s\tremaining: 1.35s\n",
      "776:\tlearn: 3745675.7184606\ttotal: 6.39s\tremaining: 1.34s\n",
      "777:\tlearn: 3742851.1029972\ttotal: 6.4s\tremaining: 1.33s\n",
      "778:\tlearn: 3738326.7567228\ttotal: 6.41s\tremaining: 1.32s\n",
      "779:\tlearn: 3736155.4169527\ttotal: 6.42s\tremaining: 1.32s\n",
      "780:\tlearn: 3734293.2176276\ttotal: 6.43s\tremaining: 1.31s\n",
      "781:\tlearn: 3732570.9098568\ttotal: 6.43s\tremaining: 1.3s\n",
      "782:\tlearn: 3730305.7135905\ttotal: 6.44s\tremaining: 1.29s\n",
      "783:\tlearn: 3727963.7243381\ttotal: 6.47s\tremaining: 1.29s\n",
      "784:\tlearn: 3725860.8534058\ttotal: 6.47s\tremaining: 1.28s\n",
      "785:\tlearn: 3723346.3873369\ttotal: 6.48s\tremaining: 1.27s\n",
      "786:\tlearn: 3721284.0214217\ttotal: 6.49s\tremaining: 1.26s\n",
      "787:\tlearn: 3719422.0980463\ttotal: 6.5s\tremaining: 1.25s\n",
      "788:\tlearn: 3718555.8980825\ttotal: 6.5s\tremaining: 1.24s\n",
      "789:\tlearn: 3716043.1357035\ttotal: 6.51s\tremaining: 1.24s\n",
      "790:\tlearn: 3713547.3980755\ttotal: 6.52s\tremaining: 1.23s\n",
      "791:\tlearn: 3710359.0638263\ttotal: 6.53s\tremaining: 1.22s\n",
      "792:\tlearn: 3708515.0080965\ttotal: 6.54s\tremaining: 1.21s\n",
      "793:\tlearn: 3706612.2238162\ttotal: 6.55s\tremaining: 1.2s\n",
      "794:\tlearn: 3704013.4397607\ttotal: 6.55s\tremaining: 1.2s\n",
      "795:\tlearn: 3702636.5283763\ttotal: 6.56s\tremaining: 1.19s\n",
      "796:\tlearn: 3701554.6040527\ttotal: 6.57s\tremaining: 1.18s\n",
      "797:\tlearn: 3699787.4522654\ttotal: 6.57s\tremaining: 1.17s\n",
      "798:\tlearn: 3697011.8698489\ttotal: 6.58s\tremaining: 1.16s\n",
      "799:\tlearn: 3694915.7680192\ttotal: 6.59s\tremaining: 1.15s\n",
      "800:\tlearn: 3693691.8592391\ttotal: 6.6s\tremaining: 1.14s\n",
      "801:\tlearn: 3690796.1435308\ttotal: 6.61s\tremaining: 1.14s\n",
      "802:\tlearn: 3688819.3106217\ttotal: 6.61s\tremaining: 1.13s\n",
      "803:\tlearn: 3687698.6585921\ttotal: 6.63s\tremaining: 1.12s\n",
      "804:\tlearn: 3685850.1276832\ttotal: 6.63s\tremaining: 1.11s\n",
      "805:\tlearn: 3684116.3494373\ttotal: 6.64s\tremaining: 1.1s\n",
      "806:\tlearn: 3683223.2413256\ttotal: 6.65s\tremaining: 1.1s\n",
      "807:\tlearn: 3680618.8566571\ttotal: 6.66s\tremaining: 1.09s\n",
      "808:\tlearn: 3679570.2134976\ttotal: 6.68s\tremaining: 1.08s\n",
      "809:\tlearn: 3677972.4461464\ttotal: 6.69s\tremaining: 1.07s\n",
      "810:\tlearn: 3676975.3769122\ttotal: 6.7s\tremaining: 1.06s\n",
      "811:\tlearn: 3674279.9044462\ttotal: 6.71s\tremaining: 1.06s\n",
      "812:\tlearn: 3672016.2229296\ttotal: 6.71s\tremaining: 1.05s\n",
      "813:\tlearn: 3669772.4453890\ttotal: 6.72s\tremaining: 1.04s\n",
      "814:\tlearn: 3668183.6309905\ttotal: 6.73s\tremaining: 1.03s\n",
      "815:\tlearn: 3666354.8772937\ttotal: 6.74s\tremaining: 1.02s\n",
      "816:\tlearn: 3664564.5104859\ttotal: 6.75s\tremaining: 1.02s\n",
      "817:\tlearn: 3663948.2774156\ttotal: 6.76s\tremaining: 1.01s\n",
      "818:\tlearn: 3660453.1978945\ttotal: 6.77s\tremaining: 1000ms\n",
      "819:\tlearn: 3658686.8039453\ttotal: 6.78s\tremaining: 992ms\n",
      "820:\tlearn: 3656939.6178853\ttotal: 6.79s\tremaining: 984ms\n",
      "821:\tlearn: 3654496.3193591\ttotal: 6.79s\tremaining: 975ms\n",
      "822:\tlearn: 3652495.3075204\ttotal: 6.8s\tremaining: 967ms\n",
      "823:\tlearn: 3650568.9078891\ttotal: 6.81s\tremaining: 958ms\n",
      "824:\tlearn: 3648195.8739205\ttotal: 6.81s\tremaining: 950ms\n",
      "825:\tlearn: 3646738.0554167\ttotal: 6.82s\tremaining: 942ms\n",
      "826:\tlearn: 3645317.9501609\ttotal: 6.83s\tremaining: 933ms\n",
      "827:\tlearn: 3643243.0966620\ttotal: 6.83s\tremaining: 925ms\n",
      "828:\tlearn: 3640716.5671009\ttotal: 6.84s\tremaining: 916ms\n",
      "829:\tlearn: 3639656.0418251\ttotal: 6.85s\tremaining: 908ms\n",
      "830:\tlearn: 3636759.2447494\ttotal: 6.86s\tremaining: 900ms\n",
      "831:\tlearn: 3635678.4310331\ttotal: 6.87s\tremaining: 891ms\n",
      "832:\tlearn: 3633362.9460085\ttotal: 6.87s\tremaining: 883ms\n",
      "833:\tlearn: 3632396.5407102\ttotal: 6.88s\tremaining: 875ms\n",
      "834:\tlearn: 3630468.1145674\ttotal: 6.89s\tremaining: 866ms\n",
      "835:\tlearn: 3628603.0894533\ttotal: 6.9s\tremaining: 858ms\n",
      "836:\tlearn: 3625758.7507029\ttotal: 6.91s\tremaining: 850ms\n",
      "837:\tlearn: 3624832.0670501\ttotal: 6.92s\tremaining: 842ms\n",
      "838:\tlearn: 3622096.6330239\ttotal: 6.93s\tremaining: 834ms\n",
      "839:\tlearn: 3620488.1035367\ttotal: 6.94s\tremaining: 826ms\n",
      "840:\tlearn: 3618473.7652923\ttotal: 6.95s\tremaining: 818ms\n",
      "841:\tlearn: 3617082.5401254\ttotal: 6.95s\tremaining: 809ms\n",
      "842:\tlearn: 3615179.7398693\ttotal: 6.96s\tremaining: 801ms\n",
      "843:\tlearn: 3613997.6461423\ttotal: 6.97s\tremaining: 793ms\n",
      "844:\tlearn: 3612127.7511054\ttotal: 6.98s\tremaining: 785ms\n",
      "845:\tlearn: 3609935.7049369\ttotal: 6.99s\tremaining: 776ms\n",
      "846:\tlearn: 3607564.4571254\ttotal: 6.99s\tremaining: 768ms\n",
      "847:\tlearn: 3606080.6392016\ttotal: 7s\tremaining: 760ms\n",
      "848:\tlearn: 3603403.7894608\ttotal: 7.01s\tremaining: 751ms\n",
      "849:\tlearn: 3601633.8933869\ttotal: 7.02s\tremaining: 743ms\n",
      "850:\tlearn: 3600963.6680904\ttotal: 7.03s\tremaining: 735ms\n",
      "851:\tlearn: 3599451.8599779\ttotal: 7.04s\tremaining: 727ms\n",
      "852:\tlearn: 3596297.6984842\ttotal: 7.05s\tremaining: 719ms\n",
      "853:\tlearn: 3594807.0541700\ttotal: 7.05s\tremaining: 710ms\n",
      "854:\tlearn: 3593580.5496226\ttotal: 7.06s\tremaining: 702ms\n",
      "855:\tlearn: 3592512.2766162\ttotal: 7.07s\tremaining: 694ms\n",
      "856:\tlearn: 3590610.6325847\ttotal: 7.08s\tremaining: 686ms\n",
      "857:\tlearn: 3589724.4763315\ttotal: 7.09s\tremaining: 677ms\n",
      "858:\tlearn: 3588511.2107363\ttotal: 7.09s\tremaining: 669ms\n",
      "859:\tlearn: 3586153.9534574\ttotal: 7.1s\tremaining: 661ms\n",
      "860:\tlearn: 3584002.8262327\ttotal: 7.11s\tremaining: 652ms\n",
      "861:\tlearn: 3583472.1052400\ttotal: 7.12s\tremaining: 644ms\n",
      "862:\tlearn: 3581301.1346819\ttotal: 7.12s\tremaining: 636ms\n",
      "863:\tlearn: 3578367.9256812\ttotal: 7.13s\tremaining: 627ms\n",
      "864:\tlearn: 3576530.2930125\ttotal: 7.14s\tremaining: 619ms\n",
      "865:\tlearn: 3575589.2801783\ttotal: 7.15s\tremaining: 611ms\n",
      "866:\tlearn: 3573603.9586012\ttotal: 7.16s\tremaining: 603ms\n",
      "867:\tlearn: 3572157.1347096\ttotal: 7.17s\tremaining: 594ms\n",
      "868:\tlearn: 3570125.2302126\ttotal: 7.17s\tremaining: 586ms\n",
      "869:\tlearn: 3568817.4919580\ttotal: 7.18s\tremaining: 578ms\n",
      "870:\tlearn: 3567288.0291038\ttotal: 7.19s\tremaining: 569ms\n",
      "871:\tlearn: 3566527.0826987\ttotal: 7.2s\tremaining: 561ms\n",
      "872:\tlearn: 3564417.8083468\ttotal: 7.21s\tremaining: 553ms\n",
      "873:\tlearn: 3561998.4256495\ttotal: 7.21s\tremaining: 545ms\n",
      "874:\tlearn: 3559919.7355980\ttotal: 7.22s\tremaining: 537ms\n",
      "875:\tlearn: 3558088.3167009\ttotal: 7.23s\tremaining: 528ms\n",
      "876:\tlearn: 3556404.4768589\ttotal: 7.24s\tremaining: 520ms\n",
      "877:\tlearn: 3554773.5688773\ttotal: 7.25s\tremaining: 512ms\n",
      "878:\tlearn: 3554640.3284928\ttotal: 7.25s\tremaining: 503ms\n",
      "879:\tlearn: 3553221.2948766\ttotal: 7.26s\tremaining: 495ms\n",
      "880:\tlearn: 3550874.7293619\ttotal: 7.27s\tremaining: 487ms\n",
      "881:\tlearn: 3549632.5641068\ttotal: 7.28s\tremaining: 479ms\n",
      "882:\tlearn: 3547192.2054537\ttotal: 7.29s\tremaining: 471ms\n",
      "883:\tlearn: 3545830.1330525\ttotal: 7.31s\tremaining: 463ms\n",
      "884:\tlearn: 3544408.5825459\ttotal: 7.33s\tremaining: 455ms\n",
      "885:\tlearn: 3543158.3045019\ttotal: 7.33s\tremaining: 447ms\n",
      "886:\tlearn: 3541320.2662917\ttotal: 7.34s\tremaining: 439ms\n",
      "887:\tlearn: 3538227.9598277\ttotal: 7.35s\tremaining: 430ms\n",
      "888:\tlearn: 3536115.6327128\ttotal: 7.36s\tremaining: 422ms\n",
      "889:\tlearn: 3533371.6280867\ttotal: 7.37s\tremaining: 414ms\n",
      "890:\tlearn: 3530910.1667635\ttotal: 7.38s\tremaining: 406ms\n",
      "891:\tlearn: 3528511.2461033\ttotal: 7.39s\tremaining: 397ms\n",
      "892:\tlearn: 3526561.3091630\ttotal: 7.39s\tremaining: 389ms\n",
      "893:\tlearn: 3526443.4646792\ttotal: 7.39s\tremaining: 381ms\n",
      "894:\tlearn: 3526158.0797967\ttotal: 7.4s\tremaining: 372ms\n",
      "895:\tlearn: 3524337.2153830\ttotal: 7.41s\tremaining: 364ms\n",
      "896:\tlearn: 3522387.4512402\ttotal: 7.42s\tremaining: 356ms\n",
      "897:\tlearn: 3520629.4495624\ttotal: 7.43s\tremaining: 347ms\n",
      "898:\tlearn: 3519020.3974443\ttotal: 7.43s\tremaining: 339ms\n",
      "899:\tlearn: 3517545.3833102\ttotal: 7.44s\tremaining: 331ms\n",
      "900:\tlearn: 3515253.7581462\ttotal: 7.45s\tremaining: 322ms\n",
      "901:\tlearn: 3512040.7771484\ttotal: 7.46s\tremaining: 314ms\n",
      "902:\tlearn: 3510640.6451321\ttotal: 7.46s\tremaining: 306ms\n",
      "903:\tlearn: 3509378.5594720\ttotal: 7.47s\tremaining: 297ms\n",
      "904:\tlearn: 3505598.4809048\ttotal: 7.48s\tremaining: 289ms\n",
      "905:\tlearn: 3503318.5763554\ttotal: 7.49s\tremaining: 281ms\n",
      "906:\tlearn: 3501454.0467188\ttotal: 7.49s\tremaining: 273ms\n",
      "907:\tlearn: 3499901.9061621\ttotal: 7.5s\tremaining: 264ms\n",
      "908:\tlearn: 3498963.5713886\ttotal: 7.52s\tremaining: 257ms\n",
      "909:\tlearn: 3497719.4223159\ttotal: 7.53s\tremaining: 248ms\n",
      "910:\tlearn: 3497041.9548576\ttotal: 7.54s\tremaining: 240ms\n",
      "911:\tlearn: 3494961.3482891\ttotal: 7.55s\tremaining: 232ms\n",
      "912:\tlearn: 3493426.8268348\ttotal: 7.56s\tremaining: 224ms\n",
      "913:\tlearn: 3491719.2275926\ttotal: 7.57s\tremaining: 215ms\n",
      "914:\tlearn: 3490743.8788579\ttotal: 7.57s\tremaining: 207ms\n",
      "915:\tlearn: 3487482.5981450\ttotal: 7.58s\tremaining: 199ms\n",
      "916:\tlearn: 3486380.7809600\ttotal: 7.59s\tremaining: 190ms\n",
      "917:\tlearn: 3485420.7353392\ttotal: 7.6s\tremaining: 182ms\n",
      "918:\tlearn: 3481085.8812631\ttotal: 7.61s\tremaining: 174ms\n",
      "919:\tlearn: 3479276.8716755\ttotal: 7.62s\tremaining: 166ms\n",
      "920:\tlearn: 3478163.3236811\ttotal: 7.63s\tremaining: 157ms\n",
      "921:\tlearn: 3477095.7178862\ttotal: 7.63s\tremaining: 149ms\n",
      "922:\tlearn: 3475827.4608144\ttotal: 7.64s\tremaining: 141ms\n",
      "923:\tlearn: 3474196.3054875\ttotal: 7.65s\tremaining: 132ms\n",
      "924:\tlearn: 3472286.5278382\ttotal: 7.66s\tremaining: 124ms\n",
      "925:\tlearn: 3470370.2328353\ttotal: 7.66s\tremaining: 116ms\n",
      "926:\tlearn: 3467629.5978301\ttotal: 7.67s\tremaining: 108ms\n",
      "927:\tlearn: 3466327.6570881\ttotal: 7.68s\tremaining: 99.3ms\n",
      "928:\tlearn: 3464278.7850531\ttotal: 7.69s\tremaining: 91ms\n",
      "929:\tlearn: 3463044.9102270\ttotal: 7.7s\tremaining: 82.8ms\n",
      "930:\tlearn: 3460235.3169775\ttotal: 7.71s\tremaining: 74.5ms\n",
      "931:\tlearn: 3459060.6329743\ttotal: 7.71s\tremaining: 66.2ms\n",
      "932:\tlearn: 3456321.1610953\ttotal: 7.72s\tremaining: 57.9ms\n",
      "933:\tlearn: 3454367.3289761\ttotal: 7.73s\tremaining: 49.7ms\n",
      "934:\tlearn: 3453172.7513709\ttotal: 7.74s\tremaining: 41.4ms\n",
      "935:\tlearn: 3452040.7230511\ttotal: 7.75s\tremaining: 33.1ms\n",
      "936:\tlearn: 3451600.9102960\ttotal: 7.76s\tremaining: 24.8ms\n",
      "937:\tlearn: 3449886.0354588\ttotal: 7.76s\tremaining: 16.6ms\n",
      "938:\tlearn: 3448439.3444267\ttotal: 7.77s\tremaining: 8.28ms\n",
      "939:\tlearn: 3447221.4900796\ttotal: 7.78s\tremaining: 0us\n",
      "\n",
      "====== Models After Hyper Parameter Tuning ======\n"
     ]
    },
    {
     "data": {
      "text/html": [
       "<div>\n",
       "<style scoped>\n",
       "    .dataframe tbody tr th:only-of-type {\n",
       "        vertical-align: middle;\n",
       "    }\n",
       "\n",
       "    .dataframe tbody tr th {\n",
       "        vertical-align: top;\n",
       "    }\n",
       "\n",
       "    .dataframe thead th {\n",
       "        text-align: right;\n",
       "    }\n",
       "</style>\n",
       "<table border=\"1\" class=\"dataframe\">\n",
       "  <thead>\n",
       "    <tr style=\"text-align: right;\">\n",
       "      <th></th>\n",
       "      <th>Model</th>\n",
       "      <th>MAE</th>\n",
       "      <th>MSE</th>\n",
       "      <th>RMSE</th>\n",
       "      <th>RMSLE</th>\n",
       "      <th>R2 Score</th>\n",
       "    </tr>\n",
       "  </thead>\n",
       "  <tbody>\n",
       "    <tr>\n",
       "      <th>0</th>\n",
       "      <td>CatBoost_tuned</td>\n",
       "      <td>3620686.62</td>\n",
       "      <td>50082968128629.12</td>\n",
       "      <td>7076932.11</td>\n",
       "      <td>0.64</td>\n",
       "      <td>0.82</td>\n",
       "    </tr>\n",
       "  </tbody>\n",
       "</table>\n",
       "</div>"
      ],
      "text/plain": [
       "            Model         MAE                MSE        RMSE RMSLE R2 Score\n",
       "0  CatBoost_tuned  3620686.62  50082968128629.12  7076932.11  0.64     0.82"
      ]
     },
     "execution_count": 39,
     "metadata": {},
     "output_type": "execute_result"
    }
   ],
   "source": [
    "cat_optuna = CatBoostRegressor(**study_cat.best_params)\n",
    "model_list([(\"CatBoost_tuned\", cat_optuna)], \"After\")"
   ]
  },
  {
   "cell_type": "markdown",
   "metadata": {},
   "source": [
    "#### `XGBoost`"
   ]
  },
  {
   "cell_type": "code",
   "execution_count": 40,
   "metadata": {},
   "outputs": [],
   "source": [
    "def objective_xgb(trial):\n",
    "    params = {\n",
    "        \"objective\": \"reg:squarederror\",\n",
    "        \"n_estimators\" : trial.suggest_int('n_estimators', 500, 4000),\n",
    "        \"verbosity\": 0,\n",
    "        \"learning_rate\": trial.suggest_float(\"learning_rate\", 1e-3, 0.1, log=True),\n",
    "        \"max_depth\": trial.suggest_int(\"max_depth\", 1, 10),\n",
    "        \"subsample\": trial.suggest_float(\"subsample\", 0.05, 1.0),\n",
    "        \"colsample_bytree\": trial.suggest_float(\"colsample_bytree\", 0.05, 1.0),\n",
    "        \"min_child_weight\": trial.suggest_int(\"min_child_weight\", 1, 20),\n",
    "    }\n",
    "\n",
    "    model = XGBRegressor(**params, random_state=42)\n",
    "    model.fit(X_train, y_train, verbose=False)\n",
    "    predictions = model.predict(X_test)\n",
    "    rmsle = get_rmsle(y_test, predictions)\n",
    "\n",
    "    return rmsle"
   ]
  },
  {
   "cell_type": "code",
   "execution_count": 41,
   "metadata": {},
   "outputs": [
    {
     "name": "stderr",
     "output_type": "stream",
     "text": [
      "[I 2024-05-12 20:44:41,258] A new study created in memory with name: no-name-1333f5c0-12fe-4c68-a7fe-3405bb7f219b\n",
      "[I 2024-05-12 20:44:43,611] Trial 0 finished with value: 0.7050247574495496 and parameters: {'n_estimators': 610, 'learning_rate': 0.0187422109855557, 'max_depth': 4, 'subsample': 0.5331421566064676, 'colsample_bytree': 0.9121881502297884, 'min_child_weight': 5}. Best is trial 0 with value: 0.7050247574495496.\n",
      "[I 2024-05-12 20:44:47,006] Trial 1 finished with value: 0.8560890185848851 and parameters: {'n_estimators': 1936, 'learning_rate': 0.03244160088734161, 'max_depth': 3, 'subsample': 0.12313091433735335, 'colsample_bytree': 0.3252638802680796, 'min_child_weight': 4}. Best is trial 0 with value: 0.7050247574495496.\n",
      "[I 2024-05-12 20:45:07,750] Trial 2 finished with value: 0.6987939140831612 and parameters: {'n_estimators': 3754, 'learning_rate': 0.04132765459466366, 'max_depth': 7, 'subsample': 0.8778875606783318, 'colsample_bytree': 0.8134884730541587, 'min_child_weight': 4}. Best is trial 2 with value: 0.6987939140831612.\n",
      "[I 2024-05-12 20:45:32,027] Trial 3 finished with value: 0.7452140071209885 and parameters: {'n_estimators': 3624, 'learning_rate': 0.011986281799901188, 'max_depth': 9, 'subsample': 0.9012867349273186, 'colsample_bytree': 0.35210330122327066, 'min_child_weight': 3}. Best is trial 2 with value: 0.6987939140831612.\n",
      "[I 2024-05-12 20:45:37,301] Trial 4 finished with value: 0.9509976349441963 and parameters: {'n_estimators': 1298, 'learning_rate': 0.007148510793512987, 'max_depth': 9, 'subsample': 0.8676940540935263, 'colsample_bytree': 0.056604524004631174, 'min_child_weight': 11}. Best is trial 2 with value: 0.6987939140831612.\n",
      "[I 2024-05-12 20:45:40,835] Trial 5 finished with value: 0.8584322191439044 and parameters: {'n_estimators': 1961, 'learning_rate': 0.0027810936979265548, 'max_depth': 2, 'subsample': 0.37073441283344655, 'colsample_bytree': 0.9457642187168932, 'min_child_weight': 7}. Best is trial 2 with value: 0.6987939140831612.\n",
      "[I 2024-05-12 20:45:47,867] Trial 6 finished with value: 0.7342520455509199 and parameters: {'n_estimators': 2316, 'learning_rate': 0.025470526233391178, 'max_depth': 4, 'subsample': 0.9731929785849126, 'colsample_bytree': 0.9643249301950056, 'min_child_weight': 6}. Best is trial 2 with value: 0.6987939140831612.\n",
      "[I 2024-05-12 20:45:52,083] Trial 7 finished with value: 0.7488612779439194 and parameters: {'n_estimators': 2240, 'learning_rate': 0.0039972068191218065, 'max_depth': 3, 'subsample': 0.08504259998680616, 'colsample_bytree': 0.629086117280902, 'min_child_weight': 11}. Best is trial 2 with value: 0.6987939140831612.\n",
      "[I 2024-05-12 20:45:55,257] Trial 8 finished with value: 1.002969826650959 and parameters: {'n_estimators': 680, 'learning_rate': 0.0036082193273637873, 'max_depth': 10, 'subsample': 0.2775837961336238, 'colsample_bytree': 0.18765012848666196, 'min_child_weight': 10}. Best is trial 2 with value: 0.6987939140831612.\n",
      "[I 2024-05-12 20:46:10,095] Trial 9 finished with value: 0.7581390200844778 and parameters: {'n_estimators': 3950, 'learning_rate': 0.0030486708834580683, 'max_depth': 7, 'subsample': 0.7735386345622817, 'colsample_bytree': 0.2757556667927797, 'min_child_weight': 15}. Best is trial 2 with value: 0.6987939140831612.\n",
      "[I 2024-05-12 20:46:24,528] Trial 10 finished with value: 0.7663439275554396 and parameters: {'n_estimators': 3144, 'learning_rate': 0.09014641611651211, 'max_depth': 6, 'subsample': 0.6500663219442422, 'colsample_bytree': 0.6894665030210763, 'min_child_weight': 1}. Best is trial 2 with value: 0.6987939140831612.\n",
      "[I 2024-05-12 20:46:26,846] Trial 11 finished with value: 0.6775867649893684 and parameters: {'n_estimators': 506, 'learning_rate': 0.04397173567702819, 'max_depth': 6, 'subsample': 0.5282616276488666, 'colsample_bytree': 0.7991788387784695, 'min_child_weight': 7}. Best is trial 11 with value: 0.6775867649893684.\n",
      "[I 2024-05-12 20:46:43,022] Trial 12 finished with value: 0.8136713545397443 and parameters: {'n_estimators': 3012, 'learning_rate': 0.08394055700072114, 'max_depth': 7, 'subsample': 0.6758831264094476, 'colsample_bytree': 0.7509770195103509, 'min_child_weight': 20}. Best is trial 11 with value: 0.6775867649893684.\n",
      "[I 2024-05-12 20:46:48,947] Trial 13 finished with value: 0.7530964800928249 and parameters: {'n_estimators': 1351, 'learning_rate': 0.03998281049250528, 'max_depth': 7, 'subsample': 0.4409411619895241, 'colsample_bytree': 0.4847895949163031, 'min_child_weight': 9}. Best is trial 11 with value: 0.6775867649893684.\n",
      "[I 2024-05-12 20:47:00,535] Trial 14 finished with value: 0.7716126643941337 and parameters: {'n_estimators': 2949, 'learning_rate': 0.04948183995043967, 'max_depth': 5, 'subsample': 0.5829637864552895, 'colsample_bytree': 0.8033480859603586, 'min_child_weight': 1}. Best is trial 11 with value: 0.6775867649893684.\n",
      "[I 2024-05-12 20:47:06,991] Trial 15 finished with value: 0.6560513241411298 and parameters: {'n_estimators': 1297, 'learning_rate': 0.01360007045156831, 'max_depth': 8, 'subsample': 0.7816825623480126, 'colsample_bytree': 0.5260025216795702, 'min_child_weight': 15}. Best is trial 15 with value: 0.6560513241411298.\n",
      "[I 2024-05-12 20:47:13,935] Trial 16 finished with value: 0.685623480205991 and parameters: {'n_estimators': 1045, 'learning_rate': 0.0014301571442349292, 'max_depth': 9, 'subsample': 0.7425956220516732, 'colsample_bytree': 0.5229272311737565, 'min_child_weight': 16}. Best is trial 15 with value: 0.6560513241411298.\n",
      "[I 2024-05-12 20:47:18,688] Trial 17 finished with value: 0.6658067988203481 and parameters: {'n_estimators': 964, 'learning_rate': 0.012823738684323396, 'max_depth': 8, 'subsample': 0.4093321940532649, 'colsample_bytree': 0.5658164941860635, 'min_child_weight': 14}. Best is trial 15 with value: 0.6560513241411298.\n",
      "[I 2024-05-12 20:47:25,514] Trial 18 finished with value: 0.704790789638211 and parameters: {'n_estimators': 1635, 'learning_rate': 0.008675810638413581, 'max_depth': 8, 'subsample': 0.25732330092227484, 'colsample_bytree': 0.438093634577228, 'min_child_weight': 14}. Best is trial 15 with value: 0.6560513241411298.\n",
      "[I 2024-05-12 20:47:31,748] Trial 19 finished with value: 0.6803492265085541 and parameters: {'n_estimators': 981, 'learning_rate': 0.016390940024491363, 'max_depth': 10, 'subsample': 0.4210404576224103, 'colsample_bytree': 0.6105331019703838, 'min_child_weight': 20}. Best is trial 15 with value: 0.6560513241411298.\n",
      "[I 2024-05-12 20:47:38,000] Trial 20 finished with value: 0.6617900064315024 and parameters: {'n_estimators': 1407, 'learning_rate': 0.006738587389128379, 'max_depth': 8, 'subsample': 0.22831047339275273, 'colsample_bytree': 0.5888074840960537, 'min_child_weight': 18}. Best is trial 15 with value: 0.6560513241411298.\n",
      "[I 2024-05-12 20:47:44,569] Trial 21 finished with value: 0.6694700252801636 and parameters: {'n_estimators': 1521, 'learning_rate': 0.006399933196370127, 'max_depth': 8, 'subsample': 0.21875783392982862, 'colsample_bytree': 0.5943400565091729, 'min_child_weight': 17}. Best is trial 15 with value: 0.6560513241411298.\n",
      "[I 2024-05-12 20:47:49,068] Trial 22 finished with value: 0.684979100532664 and parameters: {'n_estimators': 980, 'learning_rate': 0.011152913432711345, 'max_depth': 8, 'subsample': 0.3457814379042278, 'colsample_bytree': 0.4191434927328121, 'min_child_weight': 13}. Best is trial 15 with value: 0.6560513241411298.\n",
      "[I 2024-05-12 20:47:56,198] Trial 23 finished with value: 0.6859182210569422 and parameters: {'n_estimators': 1783, 'learning_rate': 0.006286885816712341, 'max_depth': 8, 'subsample': 0.1735332571627807, 'colsample_bytree': 0.5385491689580462, 'min_child_weight': 18}. Best is trial 15 with value: 0.6560513241411298.\n",
      "[I 2024-05-12 20:48:04,111] Trial 24 finished with value: 0.6511747508682267 and parameters: {'n_estimators': 1196, 'learning_rate': 0.013029874817864896, 'max_depth': 10, 'subsample': 0.4539325238666388, 'colsample_bytree': 0.6673211425224386, 'min_child_weight': 13}. Best is trial 24 with value: 0.6511747508682267.\n",
      "[I 2024-05-12 20:48:17,545] Trial 25 finished with value: 0.6870062897394354 and parameters: {'n_estimators': 2320, 'learning_rate': 0.019055749349426433, 'max_depth': 10, 'subsample': 0.31916062548628027, 'colsample_bytree': 0.6761216106637913, 'min_child_weight': 18}. Best is trial 24 with value: 0.6511747508682267.\n",
      "[I 2024-05-12 20:48:25,504] Trial 26 finished with value: 0.6378120512054563 and parameters: {'n_estimators': 1245, 'learning_rate': 0.005338679492821957, 'max_depth': 9, 'subsample': 0.47657941438505813, 'colsample_bytree': 0.7050046907622647, 'min_child_weight': 18}. Best is trial 26 with value: 0.6378120512054563.\n",
      "[I 2024-05-12 20:48:34,228] Trial 27 finished with value: 0.643497195741641 and parameters: {'n_estimators': 1206, 'learning_rate': 0.0014220834353280611, 'max_depth': 9, 'subsample': 0.4904273300416846, 'colsample_bytree': 0.721334384930303, 'min_child_weight': 13}. Best is trial 26 with value: 0.6378120512054563.\n",
      "[I 2024-05-12 20:48:44,913] Trial 28 finished with value: 0.6710840816669469 and parameters: {'n_estimators': 1140, 'learning_rate': 0.0010480038552445462, 'max_depth': 10, 'subsample': 0.47554178381684514, 'colsample_bytree': 0.8734516526929093, 'min_child_weight': 12}. Best is trial 26 with value: 0.6378120512054563.\n",
      "[I 2024-05-12 20:48:51,330] Trial 29 finished with value: 0.6535232118553951 and parameters: {'n_estimators': 795, 'learning_rate': 0.001829310266796715, 'max_depth': 9, 'subsample': 0.5607328921087464, 'colsample_bytree': 0.707323823727422, 'min_child_weight': 13}. Best is trial 26 with value: 0.6378120512054563.\n"
     ]
    }
   ],
   "source": [
    "study_xgb = optuna.create_study(direction='minimize', sampler=sampler)\n",
    "study_xgb.optimize(objective_xgb, n_trials=30)"
   ]
  },
  {
   "cell_type": "code",
   "execution_count": 42,
   "metadata": {},
   "outputs": [
    {
     "name": "stdout",
     "output_type": "stream",
     "text": [
      "Best hyperparameters:\n",
      "{'n_estimators': 1245, 'learning_rate': 0.005338679492821957, 'max_depth': 9, 'subsample': 0.47657941438505813, 'colsample_bytree': 0.7050046907622647, 'min_child_weight': 18}\n",
      "-----------------------------------------------------------------------------------------------------------------\n",
      "Best RMSLE:\n",
      "0.6378120512054563\n"
     ]
    }
   ],
   "source": [
    "print(\"Best hyperparameters:\", study_xgb.best_params, sep=\"\\n\")\n",
    "print(\"-----------------------------------------------------------------------------------------------------------------\")\n",
    "print(\"Best RMSLE:\", study_xgb.best_value, sep=\"\\n\")"
   ]
  },
  {
   "cell_type": "code",
   "execution_count": 43,
   "metadata": {},
   "outputs": [
    {
     "data": {
      "application/vnd.plotly.v1+json": {
       "config": {
        "plotlyServerURL": "https://plot.ly"
       },
       "data": [
        {
         "cliponaxis": false,
         "hovertemplate": [
          "subsample (FloatDistribution): 0.03143273947955601<extra></extra>",
          "learning_rate (FloatDistribution): 0.03198171597266386<extra></extra>",
          "min_child_weight (IntDistribution): 0.05643143910653531<extra></extra>",
          "max_depth (IntDistribution): 0.13804043583416037<extra></extra>",
          "n_estimators (IntDistribution): 0.14683951357623753<extra></extra>",
          "colsample_bytree (FloatDistribution): 0.5952741560308469<extra></extra>"
         ],
         "name": "Objective Value",
         "orientation": "h",
         "text": [
          "0.03",
          "0.03",
          "0.06",
          "0.14",
          "0.15",
          "0.60"
         ],
         "textposition": "outside",
         "type": "bar",
         "x": [
          0.03143273947955601,
          0.03198171597266386,
          0.05643143910653531,
          0.13804043583416037,
          0.14683951357623753,
          0.5952741560308469
         ],
         "y": [
          "subsample",
          "learning_rate",
          "min_child_weight",
          "max_depth",
          "n_estimators",
          "colsample_bytree"
         ]
        }
       ],
       "layout": {
        "template": {
         "data": {
          "bar": [
           {
            "error_x": {
             "color": "#2a3f5f"
            },
            "error_y": {
             "color": "#2a3f5f"
            },
            "marker": {
             "line": {
              "color": "#E5ECF6",
              "width": 0.5
             },
             "pattern": {
              "fillmode": "overlay",
              "size": 10,
              "solidity": 0.2
             }
            },
            "type": "bar"
           }
          ],
          "barpolar": [
           {
            "marker": {
             "line": {
              "color": "#E5ECF6",
              "width": 0.5
             },
             "pattern": {
              "fillmode": "overlay",
              "size": 10,
              "solidity": 0.2
             }
            },
            "type": "barpolar"
           }
          ],
          "carpet": [
           {
            "aaxis": {
             "endlinecolor": "#2a3f5f",
             "gridcolor": "white",
             "linecolor": "white",
             "minorgridcolor": "white",
             "startlinecolor": "#2a3f5f"
            },
            "baxis": {
             "endlinecolor": "#2a3f5f",
             "gridcolor": "white",
             "linecolor": "white",
             "minorgridcolor": "white",
             "startlinecolor": "#2a3f5f"
            },
            "type": "carpet"
           }
          ],
          "choropleth": [
           {
            "colorbar": {
             "outlinewidth": 0,
             "ticks": ""
            },
            "type": "choropleth"
           }
          ],
          "contour": [
           {
            "colorbar": {
             "outlinewidth": 0,
             "ticks": ""
            },
            "colorscale": [
             [
              0,
              "#0d0887"
             ],
             [
              0.1111111111111111,
              "#46039f"
             ],
             [
              0.2222222222222222,
              "#7201a8"
             ],
             [
              0.3333333333333333,
              "#9c179e"
             ],
             [
              0.4444444444444444,
              "#bd3786"
             ],
             [
              0.5555555555555556,
              "#d8576b"
             ],
             [
              0.6666666666666666,
              "#ed7953"
             ],
             [
              0.7777777777777778,
              "#fb9f3a"
             ],
             [
              0.8888888888888888,
              "#fdca26"
             ],
             [
              1,
              "#f0f921"
             ]
            ],
            "type": "contour"
           }
          ],
          "contourcarpet": [
           {
            "colorbar": {
             "outlinewidth": 0,
             "ticks": ""
            },
            "type": "contourcarpet"
           }
          ],
          "heatmap": [
           {
            "colorbar": {
             "outlinewidth": 0,
             "ticks": ""
            },
            "colorscale": [
             [
              0,
              "#0d0887"
             ],
             [
              0.1111111111111111,
              "#46039f"
             ],
             [
              0.2222222222222222,
              "#7201a8"
             ],
             [
              0.3333333333333333,
              "#9c179e"
             ],
             [
              0.4444444444444444,
              "#bd3786"
             ],
             [
              0.5555555555555556,
              "#d8576b"
             ],
             [
              0.6666666666666666,
              "#ed7953"
             ],
             [
              0.7777777777777778,
              "#fb9f3a"
             ],
             [
              0.8888888888888888,
              "#fdca26"
             ],
             [
              1,
              "#f0f921"
             ]
            ],
            "type": "heatmap"
           }
          ],
          "heatmapgl": [
           {
            "colorbar": {
             "outlinewidth": 0,
             "ticks": ""
            },
            "colorscale": [
             [
              0,
              "#0d0887"
             ],
             [
              0.1111111111111111,
              "#46039f"
             ],
             [
              0.2222222222222222,
              "#7201a8"
             ],
             [
              0.3333333333333333,
              "#9c179e"
             ],
             [
              0.4444444444444444,
              "#bd3786"
             ],
             [
              0.5555555555555556,
              "#d8576b"
             ],
             [
              0.6666666666666666,
              "#ed7953"
             ],
             [
              0.7777777777777778,
              "#fb9f3a"
             ],
             [
              0.8888888888888888,
              "#fdca26"
             ],
             [
              1,
              "#f0f921"
             ]
            ],
            "type": "heatmapgl"
           }
          ],
          "histogram": [
           {
            "marker": {
             "pattern": {
              "fillmode": "overlay",
              "size": 10,
              "solidity": 0.2
             }
            },
            "type": "histogram"
           }
          ],
          "histogram2d": [
           {
            "colorbar": {
             "outlinewidth": 0,
             "ticks": ""
            },
            "colorscale": [
             [
              0,
              "#0d0887"
             ],
             [
              0.1111111111111111,
              "#46039f"
             ],
             [
              0.2222222222222222,
              "#7201a8"
             ],
             [
              0.3333333333333333,
              "#9c179e"
             ],
             [
              0.4444444444444444,
              "#bd3786"
             ],
             [
              0.5555555555555556,
              "#d8576b"
             ],
             [
              0.6666666666666666,
              "#ed7953"
             ],
             [
              0.7777777777777778,
              "#fb9f3a"
             ],
             [
              0.8888888888888888,
              "#fdca26"
             ],
             [
              1,
              "#f0f921"
             ]
            ],
            "type": "histogram2d"
           }
          ],
          "histogram2dcontour": [
           {
            "colorbar": {
             "outlinewidth": 0,
             "ticks": ""
            },
            "colorscale": [
             [
              0,
              "#0d0887"
             ],
             [
              0.1111111111111111,
              "#46039f"
             ],
             [
              0.2222222222222222,
              "#7201a8"
             ],
             [
              0.3333333333333333,
              "#9c179e"
             ],
             [
              0.4444444444444444,
              "#bd3786"
             ],
             [
              0.5555555555555556,
              "#d8576b"
             ],
             [
              0.6666666666666666,
              "#ed7953"
             ],
             [
              0.7777777777777778,
              "#fb9f3a"
             ],
             [
              0.8888888888888888,
              "#fdca26"
             ],
             [
              1,
              "#f0f921"
             ]
            ],
            "type": "histogram2dcontour"
           }
          ],
          "mesh3d": [
           {
            "colorbar": {
             "outlinewidth": 0,
             "ticks": ""
            },
            "type": "mesh3d"
           }
          ],
          "parcoords": [
           {
            "line": {
             "colorbar": {
              "outlinewidth": 0,
              "ticks": ""
             }
            },
            "type": "parcoords"
           }
          ],
          "pie": [
           {
            "automargin": true,
            "type": "pie"
           }
          ],
          "scatter": [
           {
            "fillpattern": {
             "fillmode": "overlay",
             "size": 10,
             "solidity": 0.2
            },
            "type": "scatter"
           }
          ],
          "scatter3d": [
           {
            "line": {
             "colorbar": {
              "outlinewidth": 0,
              "ticks": ""
             }
            },
            "marker": {
             "colorbar": {
              "outlinewidth": 0,
              "ticks": ""
             }
            },
            "type": "scatter3d"
           }
          ],
          "scattercarpet": [
           {
            "marker": {
             "colorbar": {
              "outlinewidth": 0,
              "ticks": ""
             }
            },
            "type": "scattercarpet"
           }
          ],
          "scattergeo": [
           {
            "marker": {
             "colorbar": {
              "outlinewidth": 0,
              "ticks": ""
             }
            },
            "type": "scattergeo"
           }
          ],
          "scattergl": [
           {
            "marker": {
             "colorbar": {
              "outlinewidth": 0,
              "ticks": ""
             }
            },
            "type": "scattergl"
           }
          ],
          "scattermapbox": [
           {
            "marker": {
             "colorbar": {
              "outlinewidth": 0,
              "ticks": ""
             }
            },
            "type": "scattermapbox"
           }
          ],
          "scatterpolar": [
           {
            "marker": {
             "colorbar": {
              "outlinewidth": 0,
              "ticks": ""
             }
            },
            "type": "scatterpolar"
           }
          ],
          "scatterpolargl": [
           {
            "marker": {
             "colorbar": {
              "outlinewidth": 0,
              "ticks": ""
             }
            },
            "type": "scatterpolargl"
           }
          ],
          "scatterternary": [
           {
            "marker": {
             "colorbar": {
              "outlinewidth": 0,
              "ticks": ""
             }
            },
            "type": "scatterternary"
           }
          ],
          "surface": [
           {
            "colorbar": {
             "outlinewidth": 0,
             "ticks": ""
            },
            "colorscale": [
             [
              0,
              "#0d0887"
             ],
             [
              0.1111111111111111,
              "#46039f"
             ],
             [
              0.2222222222222222,
              "#7201a8"
             ],
             [
              0.3333333333333333,
              "#9c179e"
             ],
             [
              0.4444444444444444,
              "#bd3786"
             ],
             [
              0.5555555555555556,
              "#d8576b"
             ],
             [
              0.6666666666666666,
              "#ed7953"
             ],
             [
              0.7777777777777778,
              "#fb9f3a"
             ],
             [
              0.8888888888888888,
              "#fdca26"
             ],
             [
              1,
              "#f0f921"
             ]
            ],
            "type": "surface"
           }
          ],
          "table": [
           {
            "cells": {
             "fill": {
              "color": "#EBF0F8"
             },
             "line": {
              "color": "white"
             }
            },
            "header": {
             "fill": {
              "color": "#C8D4E3"
             },
             "line": {
              "color": "white"
             }
            },
            "type": "table"
           }
          ]
         },
         "layout": {
          "annotationdefaults": {
           "arrowcolor": "#2a3f5f",
           "arrowhead": 0,
           "arrowwidth": 1
          },
          "autotypenumbers": "strict",
          "coloraxis": {
           "colorbar": {
            "outlinewidth": 0,
            "ticks": ""
           }
          },
          "colorscale": {
           "diverging": [
            [
             0,
             "#8e0152"
            ],
            [
             0.1,
             "#c51b7d"
            ],
            [
             0.2,
             "#de77ae"
            ],
            [
             0.3,
             "#f1b6da"
            ],
            [
             0.4,
             "#fde0ef"
            ],
            [
             0.5,
             "#f7f7f7"
            ],
            [
             0.6,
             "#e6f5d0"
            ],
            [
             0.7,
             "#b8e186"
            ],
            [
             0.8,
             "#7fbc41"
            ],
            [
             0.9,
             "#4d9221"
            ],
            [
             1,
             "#276419"
            ]
           ],
           "sequential": [
            [
             0,
             "#0d0887"
            ],
            [
             0.1111111111111111,
             "#46039f"
            ],
            [
             0.2222222222222222,
             "#7201a8"
            ],
            [
             0.3333333333333333,
             "#9c179e"
            ],
            [
             0.4444444444444444,
             "#bd3786"
            ],
            [
             0.5555555555555556,
             "#d8576b"
            ],
            [
             0.6666666666666666,
             "#ed7953"
            ],
            [
             0.7777777777777778,
             "#fb9f3a"
            ],
            [
             0.8888888888888888,
             "#fdca26"
            ],
            [
             1,
             "#f0f921"
            ]
           ],
           "sequentialminus": [
            [
             0,
             "#0d0887"
            ],
            [
             0.1111111111111111,
             "#46039f"
            ],
            [
             0.2222222222222222,
             "#7201a8"
            ],
            [
             0.3333333333333333,
             "#9c179e"
            ],
            [
             0.4444444444444444,
             "#bd3786"
            ],
            [
             0.5555555555555556,
             "#d8576b"
            ],
            [
             0.6666666666666666,
             "#ed7953"
            ],
            [
             0.7777777777777778,
             "#fb9f3a"
            ],
            [
             0.8888888888888888,
             "#fdca26"
            ],
            [
             1,
             "#f0f921"
            ]
           ]
          },
          "colorway": [
           "#636efa",
           "#EF553B",
           "#00cc96",
           "#ab63fa",
           "#FFA15A",
           "#19d3f3",
           "#FF6692",
           "#B6E880",
           "#FF97FF",
           "#FECB52"
          ],
          "font": {
           "color": "#2a3f5f"
          },
          "geo": {
           "bgcolor": "white",
           "lakecolor": "white",
           "landcolor": "#E5ECF6",
           "showlakes": true,
           "showland": true,
           "subunitcolor": "white"
          },
          "hoverlabel": {
           "align": "left"
          },
          "hovermode": "closest",
          "mapbox": {
           "style": "light"
          },
          "paper_bgcolor": "white",
          "plot_bgcolor": "#E5ECF6",
          "polar": {
           "angularaxis": {
            "gridcolor": "white",
            "linecolor": "white",
            "ticks": ""
           },
           "bgcolor": "#E5ECF6",
           "radialaxis": {
            "gridcolor": "white",
            "linecolor": "white",
            "ticks": ""
           }
          },
          "scene": {
           "xaxis": {
            "backgroundcolor": "#E5ECF6",
            "gridcolor": "white",
            "gridwidth": 2,
            "linecolor": "white",
            "showbackground": true,
            "ticks": "",
            "zerolinecolor": "white"
           },
           "yaxis": {
            "backgroundcolor": "#E5ECF6",
            "gridcolor": "white",
            "gridwidth": 2,
            "linecolor": "white",
            "showbackground": true,
            "ticks": "",
            "zerolinecolor": "white"
           },
           "zaxis": {
            "backgroundcolor": "#E5ECF6",
            "gridcolor": "white",
            "gridwidth": 2,
            "linecolor": "white",
            "showbackground": true,
            "ticks": "",
            "zerolinecolor": "white"
           }
          },
          "shapedefaults": {
           "line": {
            "color": "#2a3f5f"
           }
          },
          "ternary": {
           "aaxis": {
            "gridcolor": "white",
            "linecolor": "white",
            "ticks": ""
           },
           "baxis": {
            "gridcolor": "white",
            "linecolor": "white",
            "ticks": ""
           },
           "bgcolor": "#E5ECF6",
           "caxis": {
            "gridcolor": "white",
            "linecolor": "white",
            "ticks": ""
           }
          },
          "title": {
           "x": 0.05
          },
          "xaxis": {
           "automargin": true,
           "gridcolor": "white",
           "linecolor": "white",
           "ticks": "",
           "title": {
            "standoff": 15
           },
           "zerolinecolor": "white",
           "zerolinewidth": 2
          },
          "yaxis": {
           "automargin": true,
           "gridcolor": "white",
           "linecolor": "white",
           "ticks": "",
           "title": {
            "standoff": 15
           },
           "zerolinecolor": "white",
           "zerolinewidth": 2
          }
         }
        },
        "title": {
         "text": "Hyperparameter Importances"
        },
        "xaxis": {
         "title": {
          "text": "Hyperparameter Importance"
         }
        },
        "yaxis": {
         "title": {
          "text": "Hyperparameter"
         }
        }
       }
      }
     },
     "metadata": {},
     "output_type": "display_data"
    }
   ],
   "source": [
    "# 하이퍼파라미터별 중요도를 확인할 수 있는 그래프\n",
    "optuna.visualization.plot_param_importances(study_xgb)"
   ]
  },
  {
   "cell_type": "code",
   "execution_count": 44,
   "metadata": {},
   "outputs": [
    {
     "data": {
      "application/vnd.plotly.v1+json": {
       "config": {
        "plotlyServerURL": "https://plot.ly"
       },
       "data": [
        {
         "mode": "markers",
         "name": "Objective Value",
         "type": "scatter",
         "x": [
          0,
          1,
          2,
          3,
          4,
          5,
          6,
          7,
          8,
          9,
          10,
          11,
          12,
          13,
          14,
          15,
          16,
          17,
          18,
          19,
          20,
          21,
          22,
          23,
          24,
          25,
          26,
          27,
          28,
          29
         ],
         "y": [
          0.7050247574495496,
          0.8560890185848851,
          0.6987939140831612,
          0.7452140071209885,
          0.9509976349441963,
          0.8584322191439044,
          0.7342520455509199,
          0.7488612779439194,
          1.002969826650959,
          0.7581390200844778,
          0.7663439275554396,
          0.6775867649893684,
          0.8136713545397443,
          0.7530964800928249,
          0.7716126643941337,
          0.6560513241411298,
          0.685623480205991,
          0.6658067988203481,
          0.704790789638211,
          0.6803492265085541,
          0.6617900064315024,
          0.6694700252801636,
          0.684979100532664,
          0.6859182210569422,
          0.6511747508682267,
          0.6870062897394354,
          0.6378120512054563,
          0.643497195741641,
          0.6710840816669469,
          0.6535232118553951
         ]
        },
        {
         "mode": "lines",
         "name": "Best Value",
         "type": "scatter",
         "x": [
          0,
          1,
          2,
          3,
          4,
          5,
          6,
          7,
          8,
          9,
          10,
          11,
          12,
          13,
          14,
          15,
          16,
          17,
          18,
          19,
          20,
          21,
          22,
          23,
          24,
          25,
          26,
          27,
          28,
          29
         ],
         "y": [
          0.7050247574495496,
          0.7050247574495496,
          0.6987939140831612,
          0.6987939140831612,
          0.6987939140831612,
          0.6987939140831612,
          0.6987939140831612,
          0.6987939140831612,
          0.6987939140831612,
          0.6987939140831612,
          0.6987939140831612,
          0.6775867649893684,
          0.6775867649893684,
          0.6775867649893684,
          0.6775867649893684,
          0.6560513241411298,
          0.6560513241411298,
          0.6560513241411298,
          0.6560513241411298,
          0.6560513241411298,
          0.6560513241411298,
          0.6560513241411298,
          0.6560513241411298,
          0.6560513241411298,
          0.6511747508682267,
          0.6511747508682267,
          0.6378120512054563,
          0.6378120512054563,
          0.6378120512054563,
          0.6378120512054563
         ]
        },
        {
         "marker": {
          "color": "#cccccc"
         },
         "mode": "markers",
         "name": "Infeasible Trial",
         "showlegend": false,
         "type": "scatter",
         "x": [],
         "y": []
        }
       ],
       "layout": {
        "template": {
         "data": {
          "bar": [
           {
            "error_x": {
             "color": "#2a3f5f"
            },
            "error_y": {
             "color": "#2a3f5f"
            },
            "marker": {
             "line": {
              "color": "#E5ECF6",
              "width": 0.5
             },
             "pattern": {
              "fillmode": "overlay",
              "size": 10,
              "solidity": 0.2
             }
            },
            "type": "bar"
           }
          ],
          "barpolar": [
           {
            "marker": {
             "line": {
              "color": "#E5ECF6",
              "width": 0.5
             },
             "pattern": {
              "fillmode": "overlay",
              "size": 10,
              "solidity": 0.2
             }
            },
            "type": "barpolar"
           }
          ],
          "carpet": [
           {
            "aaxis": {
             "endlinecolor": "#2a3f5f",
             "gridcolor": "white",
             "linecolor": "white",
             "minorgridcolor": "white",
             "startlinecolor": "#2a3f5f"
            },
            "baxis": {
             "endlinecolor": "#2a3f5f",
             "gridcolor": "white",
             "linecolor": "white",
             "minorgridcolor": "white",
             "startlinecolor": "#2a3f5f"
            },
            "type": "carpet"
           }
          ],
          "choropleth": [
           {
            "colorbar": {
             "outlinewidth": 0,
             "ticks": ""
            },
            "type": "choropleth"
           }
          ],
          "contour": [
           {
            "colorbar": {
             "outlinewidth": 0,
             "ticks": ""
            },
            "colorscale": [
             [
              0,
              "#0d0887"
             ],
             [
              0.1111111111111111,
              "#46039f"
             ],
             [
              0.2222222222222222,
              "#7201a8"
             ],
             [
              0.3333333333333333,
              "#9c179e"
             ],
             [
              0.4444444444444444,
              "#bd3786"
             ],
             [
              0.5555555555555556,
              "#d8576b"
             ],
             [
              0.6666666666666666,
              "#ed7953"
             ],
             [
              0.7777777777777778,
              "#fb9f3a"
             ],
             [
              0.8888888888888888,
              "#fdca26"
             ],
             [
              1,
              "#f0f921"
             ]
            ],
            "type": "contour"
           }
          ],
          "contourcarpet": [
           {
            "colorbar": {
             "outlinewidth": 0,
             "ticks": ""
            },
            "type": "contourcarpet"
           }
          ],
          "heatmap": [
           {
            "colorbar": {
             "outlinewidth": 0,
             "ticks": ""
            },
            "colorscale": [
             [
              0,
              "#0d0887"
             ],
             [
              0.1111111111111111,
              "#46039f"
             ],
             [
              0.2222222222222222,
              "#7201a8"
             ],
             [
              0.3333333333333333,
              "#9c179e"
             ],
             [
              0.4444444444444444,
              "#bd3786"
             ],
             [
              0.5555555555555556,
              "#d8576b"
             ],
             [
              0.6666666666666666,
              "#ed7953"
             ],
             [
              0.7777777777777778,
              "#fb9f3a"
             ],
             [
              0.8888888888888888,
              "#fdca26"
             ],
             [
              1,
              "#f0f921"
             ]
            ],
            "type": "heatmap"
           }
          ],
          "heatmapgl": [
           {
            "colorbar": {
             "outlinewidth": 0,
             "ticks": ""
            },
            "colorscale": [
             [
              0,
              "#0d0887"
             ],
             [
              0.1111111111111111,
              "#46039f"
             ],
             [
              0.2222222222222222,
              "#7201a8"
             ],
             [
              0.3333333333333333,
              "#9c179e"
             ],
             [
              0.4444444444444444,
              "#bd3786"
             ],
             [
              0.5555555555555556,
              "#d8576b"
             ],
             [
              0.6666666666666666,
              "#ed7953"
             ],
             [
              0.7777777777777778,
              "#fb9f3a"
             ],
             [
              0.8888888888888888,
              "#fdca26"
             ],
             [
              1,
              "#f0f921"
             ]
            ],
            "type": "heatmapgl"
           }
          ],
          "histogram": [
           {
            "marker": {
             "pattern": {
              "fillmode": "overlay",
              "size": 10,
              "solidity": 0.2
             }
            },
            "type": "histogram"
           }
          ],
          "histogram2d": [
           {
            "colorbar": {
             "outlinewidth": 0,
             "ticks": ""
            },
            "colorscale": [
             [
              0,
              "#0d0887"
             ],
             [
              0.1111111111111111,
              "#46039f"
             ],
             [
              0.2222222222222222,
              "#7201a8"
             ],
             [
              0.3333333333333333,
              "#9c179e"
             ],
             [
              0.4444444444444444,
              "#bd3786"
             ],
             [
              0.5555555555555556,
              "#d8576b"
             ],
             [
              0.6666666666666666,
              "#ed7953"
             ],
             [
              0.7777777777777778,
              "#fb9f3a"
             ],
             [
              0.8888888888888888,
              "#fdca26"
             ],
             [
              1,
              "#f0f921"
             ]
            ],
            "type": "histogram2d"
           }
          ],
          "histogram2dcontour": [
           {
            "colorbar": {
             "outlinewidth": 0,
             "ticks": ""
            },
            "colorscale": [
             [
              0,
              "#0d0887"
             ],
             [
              0.1111111111111111,
              "#46039f"
             ],
             [
              0.2222222222222222,
              "#7201a8"
             ],
             [
              0.3333333333333333,
              "#9c179e"
             ],
             [
              0.4444444444444444,
              "#bd3786"
             ],
             [
              0.5555555555555556,
              "#d8576b"
             ],
             [
              0.6666666666666666,
              "#ed7953"
             ],
             [
              0.7777777777777778,
              "#fb9f3a"
             ],
             [
              0.8888888888888888,
              "#fdca26"
             ],
             [
              1,
              "#f0f921"
             ]
            ],
            "type": "histogram2dcontour"
           }
          ],
          "mesh3d": [
           {
            "colorbar": {
             "outlinewidth": 0,
             "ticks": ""
            },
            "type": "mesh3d"
           }
          ],
          "parcoords": [
           {
            "line": {
             "colorbar": {
              "outlinewidth": 0,
              "ticks": ""
             }
            },
            "type": "parcoords"
           }
          ],
          "pie": [
           {
            "automargin": true,
            "type": "pie"
           }
          ],
          "scatter": [
           {
            "fillpattern": {
             "fillmode": "overlay",
             "size": 10,
             "solidity": 0.2
            },
            "type": "scatter"
           }
          ],
          "scatter3d": [
           {
            "line": {
             "colorbar": {
              "outlinewidth": 0,
              "ticks": ""
             }
            },
            "marker": {
             "colorbar": {
              "outlinewidth": 0,
              "ticks": ""
             }
            },
            "type": "scatter3d"
           }
          ],
          "scattercarpet": [
           {
            "marker": {
             "colorbar": {
              "outlinewidth": 0,
              "ticks": ""
             }
            },
            "type": "scattercarpet"
           }
          ],
          "scattergeo": [
           {
            "marker": {
             "colorbar": {
              "outlinewidth": 0,
              "ticks": ""
             }
            },
            "type": "scattergeo"
           }
          ],
          "scattergl": [
           {
            "marker": {
             "colorbar": {
              "outlinewidth": 0,
              "ticks": ""
             }
            },
            "type": "scattergl"
           }
          ],
          "scattermapbox": [
           {
            "marker": {
             "colorbar": {
              "outlinewidth": 0,
              "ticks": ""
             }
            },
            "type": "scattermapbox"
           }
          ],
          "scatterpolar": [
           {
            "marker": {
             "colorbar": {
              "outlinewidth": 0,
              "ticks": ""
             }
            },
            "type": "scatterpolar"
           }
          ],
          "scatterpolargl": [
           {
            "marker": {
             "colorbar": {
              "outlinewidth": 0,
              "ticks": ""
             }
            },
            "type": "scatterpolargl"
           }
          ],
          "scatterternary": [
           {
            "marker": {
             "colorbar": {
              "outlinewidth": 0,
              "ticks": ""
             }
            },
            "type": "scatterternary"
           }
          ],
          "surface": [
           {
            "colorbar": {
             "outlinewidth": 0,
             "ticks": ""
            },
            "colorscale": [
             [
              0,
              "#0d0887"
             ],
             [
              0.1111111111111111,
              "#46039f"
             ],
             [
              0.2222222222222222,
              "#7201a8"
             ],
             [
              0.3333333333333333,
              "#9c179e"
             ],
             [
              0.4444444444444444,
              "#bd3786"
             ],
             [
              0.5555555555555556,
              "#d8576b"
             ],
             [
              0.6666666666666666,
              "#ed7953"
             ],
             [
              0.7777777777777778,
              "#fb9f3a"
             ],
             [
              0.8888888888888888,
              "#fdca26"
             ],
             [
              1,
              "#f0f921"
             ]
            ],
            "type": "surface"
           }
          ],
          "table": [
           {
            "cells": {
             "fill": {
              "color": "#EBF0F8"
             },
             "line": {
              "color": "white"
             }
            },
            "header": {
             "fill": {
              "color": "#C8D4E3"
             },
             "line": {
              "color": "white"
             }
            },
            "type": "table"
           }
          ]
         },
         "layout": {
          "annotationdefaults": {
           "arrowcolor": "#2a3f5f",
           "arrowhead": 0,
           "arrowwidth": 1
          },
          "autotypenumbers": "strict",
          "coloraxis": {
           "colorbar": {
            "outlinewidth": 0,
            "ticks": ""
           }
          },
          "colorscale": {
           "diverging": [
            [
             0,
             "#8e0152"
            ],
            [
             0.1,
             "#c51b7d"
            ],
            [
             0.2,
             "#de77ae"
            ],
            [
             0.3,
             "#f1b6da"
            ],
            [
             0.4,
             "#fde0ef"
            ],
            [
             0.5,
             "#f7f7f7"
            ],
            [
             0.6,
             "#e6f5d0"
            ],
            [
             0.7,
             "#b8e186"
            ],
            [
             0.8,
             "#7fbc41"
            ],
            [
             0.9,
             "#4d9221"
            ],
            [
             1,
             "#276419"
            ]
           ],
           "sequential": [
            [
             0,
             "#0d0887"
            ],
            [
             0.1111111111111111,
             "#46039f"
            ],
            [
             0.2222222222222222,
             "#7201a8"
            ],
            [
             0.3333333333333333,
             "#9c179e"
            ],
            [
             0.4444444444444444,
             "#bd3786"
            ],
            [
             0.5555555555555556,
             "#d8576b"
            ],
            [
             0.6666666666666666,
             "#ed7953"
            ],
            [
             0.7777777777777778,
             "#fb9f3a"
            ],
            [
             0.8888888888888888,
             "#fdca26"
            ],
            [
             1,
             "#f0f921"
            ]
           ],
           "sequentialminus": [
            [
             0,
             "#0d0887"
            ],
            [
             0.1111111111111111,
             "#46039f"
            ],
            [
             0.2222222222222222,
             "#7201a8"
            ],
            [
             0.3333333333333333,
             "#9c179e"
            ],
            [
             0.4444444444444444,
             "#bd3786"
            ],
            [
             0.5555555555555556,
             "#d8576b"
            ],
            [
             0.6666666666666666,
             "#ed7953"
            ],
            [
             0.7777777777777778,
             "#fb9f3a"
            ],
            [
             0.8888888888888888,
             "#fdca26"
            ],
            [
             1,
             "#f0f921"
            ]
           ]
          },
          "colorway": [
           "#636efa",
           "#EF553B",
           "#00cc96",
           "#ab63fa",
           "#FFA15A",
           "#19d3f3",
           "#FF6692",
           "#B6E880",
           "#FF97FF",
           "#FECB52"
          ],
          "font": {
           "color": "#2a3f5f"
          },
          "geo": {
           "bgcolor": "white",
           "lakecolor": "white",
           "landcolor": "#E5ECF6",
           "showlakes": true,
           "showland": true,
           "subunitcolor": "white"
          },
          "hoverlabel": {
           "align": "left"
          },
          "hovermode": "closest",
          "mapbox": {
           "style": "light"
          },
          "paper_bgcolor": "white",
          "plot_bgcolor": "#E5ECF6",
          "polar": {
           "angularaxis": {
            "gridcolor": "white",
            "linecolor": "white",
            "ticks": ""
           },
           "bgcolor": "#E5ECF6",
           "radialaxis": {
            "gridcolor": "white",
            "linecolor": "white",
            "ticks": ""
           }
          },
          "scene": {
           "xaxis": {
            "backgroundcolor": "#E5ECF6",
            "gridcolor": "white",
            "gridwidth": 2,
            "linecolor": "white",
            "showbackground": true,
            "ticks": "",
            "zerolinecolor": "white"
           },
           "yaxis": {
            "backgroundcolor": "#E5ECF6",
            "gridcolor": "white",
            "gridwidth": 2,
            "linecolor": "white",
            "showbackground": true,
            "ticks": "",
            "zerolinecolor": "white"
           },
           "zaxis": {
            "backgroundcolor": "#E5ECF6",
            "gridcolor": "white",
            "gridwidth": 2,
            "linecolor": "white",
            "showbackground": true,
            "ticks": "",
            "zerolinecolor": "white"
           }
          },
          "shapedefaults": {
           "line": {
            "color": "#2a3f5f"
           }
          },
          "ternary": {
           "aaxis": {
            "gridcolor": "white",
            "linecolor": "white",
            "ticks": ""
           },
           "baxis": {
            "gridcolor": "white",
            "linecolor": "white",
            "ticks": ""
           },
           "bgcolor": "#E5ECF6",
           "caxis": {
            "gridcolor": "white",
            "linecolor": "white",
            "ticks": ""
           }
          },
          "title": {
           "x": 0.05
          },
          "xaxis": {
           "automargin": true,
           "gridcolor": "white",
           "linecolor": "white",
           "ticks": "",
           "title": {
            "standoff": 15
           },
           "zerolinecolor": "white",
           "zerolinewidth": 2
          },
          "yaxis": {
           "automargin": true,
           "gridcolor": "white",
           "linecolor": "white",
           "ticks": "",
           "title": {
            "standoff": 15
           },
           "zerolinecolor": "white",
           "zerolinewidth": 2
          }
         }
        },
        "title": {
         "text": "Optimization History Plot"
        },
        "xaxis": {
         "title": {
          "text": "Trial"
         }
        },
        "yaxis": {
         "title": {
          "text": "Objective Value"
         }
        }
       }
      }
     },
     "metadata": {},
     "output_type": "display_data"
    }
   ],
   "source": [
    "# 하이퍼파라미터 최적화 과정을 확인\n",
    "optuna.visualization.plot_optimization_history(study_xgb)"
   ]
  },
  {
   "cell_type": "code",
   "execution_count": 45,
   "metadata": {},
   "outputs": [
    {
     "name": "stdout",
     "output_type": "stream",
     "text": [
      "\n",
      "====== Models After Hyper Parameter Tuning ======\n"
     ]
    },
    {
     "data": {
      "text/html": [
       "<div>\n",
       "<style scoped>\n",
       "    .dataframe tbody tr th:only-of-type {\n",
       "        vertical-align: middle;\n",
       "    }\n",
       "\n",
       "    .dataframe tbody tr th {\n",
       "        vertical-align: top;\n",
       "    }\n",
       "\n",
       "    .dataframe thead th {\n",
       "        text-align: right;\n",
       "    }\n",
       "</style>\n",
       "<table border=\"1\" class=\"dataframe\">\n",
       "  <thead>\n",
       "    <tr style=\"text-align: right;\">\n",
       "      <th></th>\n",
       "      <th>Model</th>\n",
       "      <th>MAE</th>\n",
       "      <th>MSE</th>\n",
       "      <th>RMSE</th>\n",
       "      <th>RMSLE</th>\n",
       "      <th>R2 Score</th>\n",
       "    </tr>\n",
       "  </thead>\n",
       "  <tbody>\n",
       "    <tr>\n",
       "      <th>0</th>\n",
       "      <td>XGBoost_tuned</td>\n",
       "      <td>3839750.82</td>\n",
       "      <td>59691794416657.45</td>\n",
       "      <td>7726046.49</td>\n",
       "      <td>0.63</td>\n",
       "      <td>0.78</td>\n",
       "    </tr>\n",
       "  </tbody>\n",
       "</table>\n",
       "</div>"
      ],
      "text/plain": [
       "           Model         MAE                MSE        RMSE RMSLE R2 Score\n",
       "0  XGBoost_tuned  3839750.82  59691794416657.45  7726046.49  0.63     0.78"
      ]
     },
     "execution_count": 45,
     "metadata": {},
     "output_type": "execute_result"
    }
   ],
   "source": [
    "xgb_optuna = XGBRegressor(**study_xgb.best_params)\n",
    "model_list([(\"XGBoost_tuned\", xgb_optuna)], \"After\")"
   ]
  },
  {
   "cell_type": "markdown",
   "metadata": {},
   "source": [
    "#### `LightGBM`"
   ]
  },
  {
   "cell_type": "code",
   "execution_count": 46,
   "metadata": {},
   "outputs": [],
   "source": [
    "def objective_lgbm(trial):\n",
    "    params = {\n",
    "        \"objective\": \"regression\",\n",
    "        \"metric\": \"rmse\",\n",
    "        \"n_estimators\": trial.suggest_int('n_estimators', 500, 4000),\n",
    "        \"verbosity\": -1,\n",
    "        \"bagging_freq\": 1,\n",
    "        \"learning_rate\": trial.suggest_float(\"learning_rate\", 1e-3, 0.1, log=True),\n",
    "        \"num_leaves\": trial.suggest_int(\"num_leaves\", 2, 2**10),\n",
    "        \"subsample\": trial.suggest_float(\"subsample\", 0.05, 1.0),\n",
    "        \"colsample_bytree\": trial.suggest_float(\"colsample_bytree\", 0.05, 1.0),\n",
    "        \"min_data_in_leaf\": trial.suggest_int(\"min_data_in_leaf\", 1, 100),\n",
    "    }\n",
    "\n",
    "    model = LGBMRegressor(**params, random_state=42)\n",
    "    model.fit(X_train, y_train)\n",
    "    predictions = model.predict(X_test)\n",
    "    rmsle = get_rmsle(y_test, predictions)\n",
    "\n",
    "\n",
    "    return rmsle"
   ]
  },
  {
   "cell_type": "code",
   "execution_count": 47,
   "metadata": {},
   "outputs": [
    {
     "name": "stderr",
     "output_type": "stream",
     "text": [
      "[I 2024-05-12 20:49:01,501] A new study created in memory with name: no-name-9f88dacd-0d10-4116-a89c-1d36a37f116f\n"
     ]
    },
    {
     "name": "stderr",
     "output_type": "stream",
     "text": [
      "[I 2024-05-12 20:49:05,005] Trial 0 finished with value: 0.8323080127110625 and parameters: {'n_estimators': 1787, 'learning_rate': 0.018391267498289014, 'num_leaves': 650, 'subsample': 0.5589859498710206, 'colsample_bytree': 0.1357752815516879, 'min_data_in_leaf': 84}. Best is trial 0 with value: 0.8323080127110625.\n",
      "[I 2024-05-12 20:49:07,747] Trial 1 finished with value: 0.7313443310728845 and parameters: {'n_estimators': 1623, 'learning_rate': 0.0023606794572813066, 'num_leaves': 43, 'subsample': 0.6113482960288298, 'colsample_bytree': 0.6936861437501683, 'min_data_in_leaf': 2}. Best is trial 1 with value: 0.7313443310728845.\n",
      "[I 2024-05-12 20:49:11,920] Trial 2 finished with value: 0.6664629796192838 and parameters: {'n_estimators': 2292, 'learning_rate': 0.002837863814617626, 'num_leaves': 662, 'subsample': 0.21564810755474184, 'colsample_bytree': 0.7063908511973427, 'min_data_in_leaf': 39}. Best is trial 2 with value: 0.6664629796192838.\n",
      "[I 2024-05-12 20:49:15,226] Trial 3 finished with value: 0.7313219278447008 and parameters: {'n_estimators': 3779, 'learning_rate': 0.0018838307787619744, 'num_leaves': 350, 'subsample': 0.1577998451785596, 'colsample_bytree': 0.9284589373646347, 'min_data_in_leaf': 88}. Best is trial 2 with value: 0.6664629796192838.\n",
      "[I 2024-05-12 20:49:28,025] Trial 4 finished with value: 0.7605735631976308 and parameters: {'n_estimators': 1403, 'learning_rate': 0.020891426343856455, 'num_leaves': 838, 'subsample': 0.5774407710194892, 'colsample_bytree': 0.5531680494382062, 'min_data_in_leaf': 25}. Best is trial 2 with value: 0.6664629796192838.\n",
      "[I 2024-05-12 20:49:33,059] Trial 5 finished with value: 0.8440822822020995 and parameters: {'n_estimators': 825, 'learning_rate': 0.06229189113188561, 'num_leaves': 923, 'subsample': 0.6514463844096046, 'colsample_bytree': 0.37207830149626564, 'min_data_in_leaf': 35}. Best is trial 2 with value: 0.6664629796192838.\n",
      "[I 2024-05-12 20:50:35,620] Trial 6 finished with value: 0.7315613240500882 and parameters: {'n_estimators': 3041, 'learning_rate': 0.06226163482363463, 'num_leaves': 909, 'subsample': 0.7908817685647427, 'colsample_bytree': 0.6599300638465734, 'min_data_in_leaf': 9}. Best is trial 2 with value: 0.6664629796192838.\n",
      "[I 2024-05-12 20:50:36,139] Trial 7 finished with value: 0.8609960075967863 and parameters: {'n_estimators': 1065, 'learning_rate': 0.06267702540388488, 'num_leaves': 622, 'subsample': 0.05873719903579817, 'colsample_bytree': 0.1463979657227305, 'min_data_in_leaf': 67}. Best is trial 2 with value: 0.6664629796192838.\n",
      "[I 2024-05-12 20:50:39,486] Trial 8 finished with value: 1.1200734917590698 and parameters: {'n_estimators': 517, 'learning_rate': 0.002097085333143113, 'num_leaves': 563, 'subsample': 0.7073004378080586, 'colsample_bytree': 0.6693631965274706, 'min_data_in_leaf': 23}. Best is trial 2 with value: 0.6664629796192838.\n",
      "[I 2024-05-12 20:50:46,443] Trial 9 finished with value: 0.6503867970062382 and parameters: {'n_estimators': 2993, 'learning_rate': 0.0029819350171149347, 'num_leaves': 334, 'subsample': 0.759166834862123, 'colsample_bytree': 0.667151254094854, 'min_data_in_leaf': 85}. Best is trial 9 with value: 0.6503867970062382.\n",
      "[I 2024-05-12 20:50:56,876] Trial 10 finished with value: 0.663842553009561 and parameters: {'n_estimators': 2800, 'learning_rate': 0.006255099151959623, 'num_leaves': 319, 'subsample': 0.9332261305937902, 'colsample_bytree': 0.9412204852224804, 'min_data_in_leaf': 61}. Best is trial 9 with value: 0.6503867970062382.\n",
      "[I 2024-05-12 20:51:07,256] Trial 11 finished with value: 0.6903237657957396 and parameters: {'n_estimators': 2772, 'learning_rate': 0.006335880121976287, 'num_leaves': 279, 'subsample': 0.9781040832854553, 'colsample_bytree': 0.9696274793843228, 'min_data_in_leaf': 64}. Best is trial 9 with value: 0.6503867970062382.\n",
      "[I 2024-05-12 20:51:16,140] Trial 12 finished with value: 0.6764482770875595 and parameters: {'n_estimators': 3434, 'learning_rate': 0.006010581387385467, 'num_leaves': 283, 'subsample': 0.9981149449011189, 'colsample_bytree': 0.8456609448442974, 'min_data_in_leaf': 100}. Best is trial 9 with value: 0.6503867970062382.\n",
      "[I 2024-05-12 20:51:22,396] Trial 13 finished with value: 0.8130498892925396 and parameters: {'n_estimators': 2529, 'learning_rate': 0.0011374343355988734, 'num_leaves': 89, 'subsample': 0.855878754785938, 'colsample_bytree': 0.4289581412052062, 'min_data_in_leaf': 66}. Best is trial 9 with value: 0.6503867970062382.\n",
      "[I 2024-05-12 20:51:29,977] Trial 14 finished with value: 0.6749486263750021 and parameters: {'n_estimators': 3149, 'learning_rate': 0.005482783702298094, 'num_leaves': 454, 'subsample': 0.41253520831950063, 'colsample_bytree': 0.8266577266815927, 'min_data_in_leaf': 53}. Best is trial 9 with value: 0.6503867970062382.\n",
      "[I 2024-05-12 20:51:42,699] Trial 15 finished with value: 0.7101481350252681 and parameters: {'n_estimators': 3709, 'learning_rate': 0.010972879777282604, 'num_leaves': 177, 'subsample': 0.8511095160241513, 'colsample_bytree': 0.8337462401191255, 'min_data_in_leaf': 80}. Best is trial 9 with value: 0.6503867970062382.\n",
      "[I 2024-05-12 20:51:47,281] Trial 16 finished with value: 0.6879278349875313 and parameters: {'n_estimators': 2197, 'learning_rate': 0.00399295498193365, 'num_leaves': 432, 'subsample': 0.4215464075147128, 'colsample_bytree': 0.4807794455506006, 'min_data_in_leaf': 100}. Best is trial 9 with value: 0.6503867970062382.\n",
      "[I 2024-05-12 20:51:58,279] Trial 17 finished with value: 0.8639270476161369 and parameters: {'n_estimators': 2830, 'learning_rate': 0.011977523093198592, 'num_leaves': 186, 'subsample': 0.7474209546627465, 'colsample_bytree': 0.27776929212141305, 'min_data_in_leaf': 50}. Best is trial 9 with value: 0.6503867970062382.\n",
      "[I 2024-05-12 20:52:10,040] Trial 18 finished with value: 0.6739124238473356 and parameters: {'n_estimators': 3397, 'learning_rate': 0.0010872303142300094, 'num_leaves': 777, 'subsample': 0.9221376630758907, 'colsample_bytree': 0.5582551748298528, 'min_data_in_leaf': 75}. Best is trial 9 with value: 0.6503867970062382.\n",
      "[I 2024-05-12 20:52:19,278] Trial 19 finished with value: 0.7457787935540258 and parameters: {'n_estimators': 2044, 'learning_rate': 0.0336916493054695, 'num_leaves': 368, 'subsample': 0.8475221175084156, 'colsample_bytree': 0.7604668250110277, 'min_data_in_leaf': 49}. Best is trial 9 with value: 0.6503867970062382.\n",
      "[I 2024-05-12 20:52:24,816] Trial 20 finished with value: 0.6511218119212288 and parameters: {'n_estimators': 2536, 'learning_rate': 0.0033777073427027266, 'num_leaves': 186, 'subsample': 0.4724176890547538, 'colsample_bytree': 0.9215515664820655, 'min_data_in_leaf': 90}. Best is trial 9 with value: 0.6503867970062382.\n",
      "[I 2024-05-12 20:52:29,462] Trial 21 finished with value: 0.6514881313286296 and parameters: {'n_estimators': 2534, 'learning_rate': 0.003641851398471511, 'num_leaves': 154, 'subsample': 0.4206102586344741, 'colsample_bytree': 0.927240086425561, 'min_data_in_leaf': 91}. Best is trial 9 with value: 0.6503867970062382.\n",
      "[I 2024-05-12 20:52:35,926] Trial 22 finished with value: 0.6459875721145336 and parameters: {'n_estimators': 2436, 'learning_rate': 0.0034956693185660193, 'num_leaves': 196, 'subsample': 0.44191463378260454, 'colsample_bytree': 0.9983565779828419, 'min_data_in_leaf': 92}. Best is trial 22 with value: 0.6459875721145336.\n",
      "[I 2024-05-12 20:52:38,398] Trial 23 finished with value: 0.7037422192326162 and parameters: {'n_estimators': 2448, 'learning_rate': 0.0017151759927169499, 'num_leaves': 12, 'subsample': 0.3131433052790014, 'colsample_bytree': 0.9930528602891825, 'min_data_in_leaf': 92}. Best is trial 22 with value: 0.6459875721145336.\n",
      "[I 2024-05-12 20:52:43,629] Trial 24 finished with value: 0.6372956453834581 and parameters: {'n_estimators': 1809, 'learning_rate': 0.0037465770584115725, 'num_leaves': 229, 'subsample': 0.4837982574707694, 'colsample_bytree': 0.860635974488167, 'min_data_in_leaf': 77}. Best is trial 24 with value: 0.6372956453834581.\n",
      "[I 2024-05-12 20:52:46,618] Trial 25 finished with value: 0.7303839593710869 and parameters: {'n_estimators': 1926, 'learning_rate': 0.0014974433171992035, 'num_leaves': 245, 'subsample': 0.31702164500111435, 'colsample_bytree': 0.7898226364651648, 'min_data_in_leaf': 74}. Best is trial 24 with value: 0.6372956453834581.\n",
      "[I 2024-05-12 20:52:50,807] Trial 26 finished with value: 0.66210072037074 and parameters: {'n_estimators': 1333, 'learning_rate': 0.0043347593277868555, 'num_leaves': 424, 'subsample': 0.5000279582201539, 'colsample_bytree': 0.6095568095941746, 'min_data_in_leaf': 78}. Best is trial 24 with value: 0.6372956453834581.\n",
      "[I 2024-05-12 20:52:54,241] Trial 27 finished with value: 0.6560452749003112 and parameters: {'n_estimators': 1745, 'learning_rate': 0.008160019545346087, 'num_leaves': 504, 'subsample': 0.3250317022251363, 'colsample_bytree': 0.8662984278911205, 'min_data_in_leaf': 71}. Best is trial 24 with value: 0.6372956453834581.\n",
      "[I 2024-05-12 20:53:04,328] Trial 28 finished with value: 0.626879511370602 and parameters: {'n_estimators': 3162, 'learning_rate': 0.002483285435681272, 'num_leaves': 100, 'subsample': 0.6590829870608579, 'colsample_bytree': 0.7800080912868288, 'min_data_in_leaf': 56}. Best is trial 28 with value: 0.626879511370602.\n",
      "[I 2024-05-12 20:53:16,196] Trial 29 finished with value: 0.6353656375268748 and parameters: {'n_estimators': 3447, 'learning_rate': 0.0024908167737544974, 'num_leaves': 86, 'subsample': 0.5362337287749178, 'colsample_bytree': 0.7598026928069445, 'min_data_in_leaf': 57}. Best is trial 28 with value: 0.626879511370602.\n"
     ]
    }
   ],
   "source": [
    "study_lgbm = optuna.create_study(direction='minimize', sampler=sampler)\n",
    "study_lgbm.optimize(objective_lgbm, n_trials=30)"
   ]
  },
  {
   "cell_type": "code",
   "execution_count": 48,
   "metadata": {},
   "outputs": [
    {
     "name": "stdout",
     "output_type": "stream",
     "text": [
      "Best hyperparameters:\n",
      "{'n_estimators': 3162, 'learning_rate': 0.002483285435681272, 'num_leaves': 100, 'subsample': 0.6590829870608579, 'colsample_bytree': 0.7800080912868288, 'min_data_in_leaf': 56}\n",
      "-----------------------------------------------------------------------------------------------------------------\n",
      "Best RMSLE:\n",
      "0.626879511370602\n"
     ]
    }
   ],
   "source": [
    "print(\"Best hyperparameters:\", study_lgbm.best_params, sep=\"\\n\")\n",
    "print(\"-----------------------------------------------------------------------------------------------------------------\")\n",
    "print(\"Best RMSLE:\", study_lgbm.best_value, sep=\"\\n\")"
   ]
  },
  {
   "cell_type": "code",
   "execution_count": 49,
   "metadata": {},
   "outputs": [
    {
     "data": {
      "application/vnd.plotly.v1+json": {
       "config": {
        "plotlyServerURL": "https://plot.ly"
       },
       "data": [
        {
         "cliponaxis": false,
         "hovertemplate": [
          "subsample (FloatDistribution): 0.00749472571450216<extra></extra>",
          "num_leaves (IntDistribution): 0.007803952552947816<extra></extra>",
          "min_data_in_leaf (IntDistribution): 0.017704423598451337<extra></extra>",
          "learning_rate (FloatDistribution): 0.04606920598965983<extra></extra>",
          "n_estimators (IntDistribution): 0.36262054964386264<extra></extra>",
          "colsample_bytree (FloatDistribution): 0.5583071425005761<extra></extra>"
         ],
         "name": "Objective Value",
         "orientation": "h",
         "text": [
          "<0.01",
          "<0.01",
          "0.02",
          "0.05",
          "0.36",
          "0.56"
         ],
         "textposition": "outside",
         "type": "bar",
         "x": [
          0.00749472571450216,
          0.007803952552947816,
          0.017704423598451337,
          0.04606920598965983,
          0.36262054964386264,
          0.5583071425005761
         ],
         "y": [
          "subsample",
          "num_leaves",
          "min_data_in_leaf",
          "learning_rate",
          "n_estimators",
          "colsample_bytree"
         ]
        }
       ],
       "layout": {
        "template": {
         "data": {
          "bar": [
           {
            "error_x": {
             "color": "#2a3f5f"
            },
            "error_y": {
             "color": "#2a3f5f"
            },
            "marker": {
             "line": {
              "color": "#E5ECF6",
              "width": 0.5
             },
             "pattern": {
              "fillmode": "overlay",
              "size": 10,
              "solidity": 0.2
             }
            },
            "type": "bar"
           }
          ],
          "barpolar": [
           {
            "marker": {
             "line": {
              "color": "#E5ECF6",
              "width": 0.5
             },
             "pattern": {
              "fillmode": "overlay",
              "size": 10,
              "solidity": 0.2
             }
            },
            "type": "barpolar"
           }
          ],
          "carpet": [
           {
            "aaxis": {
             "endlinecolor": "#2a3f5f",
             "gridcolor": "white",
             "linecolor": "white",
             "minorgridcolor": "white",
             "startlinecolor": "#2a3f5f"
            },
            "baxis": {
             "endlinecolor": "#2a3f5f",
             "gridcolor": "white",
             "linecolor": "white",
             "minorgridcolor": "white",
             "startlinecolor": "#2a3f5f"
            },
            "type": "carpet"
           }
          ],
          "choropleth": [
           {
            "colorbar": {
             "outlinewidth": 0,
             "ticks": ""
            },
            "type": "choropleth"
           }
          ],
          "contour": [
           {
            "colorbar": {
             "outlinewidth": 0,
             "ticks": ""
            },
            "colorscale": [
             [
              0,
              "#0d0887"
             ],
             [
              0.1111111111111111,
              "#46039f"
             ],
             [
              0.2222222222222222,
              "#7201a8"
             ],
             [
              0.3333333333333333,
              "#9c179e"
             ],
             [
              0.4444444444444444,
              "#bd3786"
             ],
             [
              0.5555555555555556,
              "#d8576b"
             ],
             [
              0.6666666666666666,
              "#ed7953"
             ],
             [
              0.7777777777777778,
              "#fb9f3a"
             ],
             [
              0.8888888888888888,
              "#fdca26"
             ],
             [
              1,
              "#f0f921"
             ]
            ],
            "type": "contour"
           }
          ],
          "contourcarpet": [
           {
            "colorbar": {
             "outlinewidth": 0,
             "ticks": ""
            },
            "type": "contourcarpet"
           }
          ],
          "heatmap": [
           {
            "colorbar": {
             "outlinewidth": 0,
             "ticks": ""
            },
            "colorscale": [
             [
              0,
              "#0d0887"
             ],
             [
              0.1111111111111111,
              "#46039f"
             ],
             [
              0.2222222222222222,
              "#7201a8"
             ],
             [
              0.3333333333333333,
              "#9c179e"
             ],
             [
              0.4444444444444444,
              "#bd3786"
             ],
             [
              0.5555555555555556,
              "#d8576b"
             ],
             [
              0.6666666666666666,
              "#ed7953"
             ],
             [
              0.7777777777777778,
              "#fb9f3a"
             ],
             [
              0.8888888888888888,
              "#fdca26"
             ],
             [
              1,
              "#f0f921"
             ]
            ],
            "type": "heatmap"
           }
          ],
          "heatmapgl": [
           {
            "colorbar": {
             "outlinewidth": 0,
             "ticks": ""
            },
            "colorscale": [
             [
              0,
              "#0d0887"
             ],
             [
              0.1111111111111111,
              "#46039f"
             ],
             [
              0.2222222222222222,
              "#7201a8"
             ],
             [
              0.3333333333333333,
              "#9c179e"
             ],
             [
              0.4444444444444444,
              "#bd3786"
             ],
             [
              0.5555555555555556,
              "#d8576b"
             ],
             [
              0.6666666666666666,
              "#ed7953"
             ],
             [
              0.7777777777777778,
              "#fb9f3a"
             ],
             [
              0.8888888888888888,
              "#fdca26"
             ],
             [
              1,
              "#f0f921"
             ]
            ],
            "type": "heatmapgl"
           }
          ],
          "histogram": [
           {
            "marker": {
             "pattern": {
              "fillmode": "overlay",
              "size": 10,
              "solidity": 0.2
             }
            },
            "type": "histogram"
           }
          ],
          "histogram2d": [
           {
            "colorbar": {
             "outlinewidth": 0,
             "ticks": ""
            },
            "colorscale": [
             [
              0,
              "#0d0887"
             ],
             [
              0.1111111111111111,
              "#46039f"
             ],
             [
              0.2222222222222222,
              "#7201a8"
             ],
             [
              0.3333333333333333,
              "#9c179e"
             ],
             [
              0.4444444444444444,
              "#bd3786"
             ],
             [
              0.5555555555555556,
              "#d8576b"
             ],
             [
              0.6666666666666666,
              "#ed7953"
             ],
             [
              0.7777777777777778,
              "#fb9f3a"
             ],
             [
              0.8888888888888888,
              "#fdca26"
             ],
             [
              1,
              "#f0f921"
             ]
            ],
            "type": "histogram2d"
           }
          ],
          "histogram2dcontour": [
           {
            "colorbar": {
             "outlinewidth": 0,
             "ticks": ""
            },
            "colorscale": [
             [
              0,
              "#0d0887"
             ],
             [
              0.1111111111111111,
              "#46039f"
             ],
             [
              0.2222222222222222,
              "#7201a8"
             ],
             [
              0.3333333333333333,
              "#9c179e"
             ],
             [
              0.4444444444444444,
              "#bd3786"
             ],
             [
              0.5555555555555556,
              "#d8576b"
             ],
             [
              0.6666666666666666,
              "#ed7953"
             ],
             [
              0.7777777777777778,
              "#fb9f3a"
             ],
             [
              0.8888888888888888,
              "#fdca26"
             ],
             [
              1,
              "#f0f921"
             ]
            ],
            "type": "histogram2dcontour"
           }
          ],
          "mesh3d": [
           {
            "colorbar": {
             "outlinewidth": 0,
             "ticks": ""
            },
            "type": "mesh3d"
           }
          ],
          "parcoords": [
           {
            "line": {
             "colorbar": {
              "outlinewidth": 0,
              "ticks": ""
             }
            },
            "type": "parcoords"
           }
          ],
          "pie": [
           {
            "automargin": true,
            "type": "pie"
           }
          ],
          "scatter": [
           {
            "fillpattern": {
             "fillmode": "overlay",
             "size": 10,
             "solidity": 0.2
            },
            "type": "scatter"
           }
          ],
          "scatter3d": [
           {
            "line": {
             "colorbar": {
              "outlinewidth": 0,
              "ticks": ""
             }
            },
            "marker": {
             "colorbar": {
              "outlinewidth": 0,
              "ticks": ""
             }
            },
            "type": "scatter3d"
           }
          ],
          "scattercarpet": [
           {
            "marker": {
             "colorbar": {
              "outlinewidth": 0,
              "ticks": ""
             }
            },
            "type": "scattercarpet"
           }
          ],
          "scattergeo": [
           {
            "marker": {
             "colorbar": {
              "outlinewidth": 0,
              "ticks": ""
             }
            },
            "type": "scattergeo"
           }
          ],
          "scattergl": [
           {
            "marker": {
             "colorbar": {
              "outlinewidth": 0,
              "ticks": ""
             }
            },
            "type": "scattergl"
           }
          ],
          "scattermapbox": [
           {
            "marker": {
             "colorbar": {
              "outlinewidth": 0,
              "ticks": ""
             }
            },
            "type": "scattermapbox"
           }
          ],
          "scatterpolar": [
           {
            "marker": {
             "colorbar": {
              "outlinewidth": 0,
              "ticks": ""
             }
            },
            "type": "scatterpolar"
           }
          ],
          "scatterpolargl": [
           {
            "marker": {
             "colorbar": {
              "outlinewidth": 0,
              "ticks": ""
             }
            },
            "type": "scatterpolargl"
           }
          ],
          "scatterternary": [
           {
            "marker": {
             "colorbar": {
              "outlinewidth": 0,
              "ticks": ""
             }
            },
            "type": "scatterternary"
           }
          ],
          "surface": [
           {
            "colorbar": {
             "outlinewidth": 0,
             "ticks": ""
            },
            "colorscale": [
             [
              0,
              "#0d0887"
             ],
             [
              0.1111111111111111,
              "#46039f"
             ],
             [
              0.2222222222222222,
              "#7201a8"
             ],
             [
              0.3333333333333333,
              "#9c179e"
             ],
             [
              0.4444444444444444,
              "#bd3786"
             ],
             [
              0.5555555555555556,
              "#d8576b"
             ],
             [
              0.6666666666666666,
              "#ed7953"
             ],
             [
              0.7777777777777778,
              "#fb9f3a"
             ],
             [
              0.8888888888888888,
              "#fdca26"
             ],
             [
              1,
              "#f0f921"
             ]
            ],
            "type": "surface"
           }
          ],
          "table": [
           {
            "cells": {
             "fill": {
              "color": "#EBF0F8"
             },
             "line": {
              "color": "white"
             }
            },
            "header": {
             "fill": {
              "color": "#C8D4E3"
             },
             "line": {
              "color": "white"
             }
            },
            "type": "table"
           }
          ]
         },
         "layout": {
          "annotationdefaults": {
           "arrowcolor": "#2a3f5f",
           "arrowhead": 0,
           "arrowwidth": 1
          },
          "autotypenumbers": "strict",
          "coloraxis": {
           "colorbar": {
            "outlinewidth": 0,
            "ticks": ""
           }
          },
          "colorscale": {
           "diverging": [
            [
             0,
             "#8e0152"
            ],
            [
             0.1,
             "#c51b7d"
            ],
            [
             0.2,
             "#de77ae"
            ],
            [
             0.3,
             "#f1b6da"
            ],
            [
             0.4,
             "#fde0ef"
            ],
            [
             0.5,
             "#f7f7f7"
            ],
            [
             0.6,
             "#e6f5d0"
            ],
            [
             0.7,
             "#b8e186"
            ],
            [
             0.8,
             "#7fbc41"
            ],
            [
             0.9,
             "#4d9221"
            ],
            [
             1,
             "#276419"
            ]
           ],
           "sequential": [
            [
             0,
             "#0d0887"
            ],
            [
             0.1111111111111111,
             "#46039f"
            ],
            [
             0.2222222222222222,
             "#7201a8"
            ],
            [
             0.3333333333333333,
             "#9c179e"
            ],
            [
             0.4444444444444444,
             "#bd3786"
            ],
            [
             0.5555555555555556,
             "#d8576b"
            ],
            [
             0.6666666666666666,
             "#ed7953"
            ],
            [
             0.7777777777777778,
             "#fb9f3a"
            ],
            [
             0.8888888888888888,
             "#fdca26"
            ],
            [
             1,
             "#f0f921"
            ]
           ],
           "sequentialminus": [
            [
             0,
             "#0d0887"
            ],
            [
             0.1111111111111111,
             "#46039f"
            ],
            [
             0.2222222222222222,
             "#7201a8"
            ],
            [
             0.3333333333333333,
             "#9c179e"
            ],
            [
             0.4444444444444444,
             "#bd3786"
            ],
            [
             0.5555555555555556,
             "#d8576b"
            ],
            [
             0.6666666666666666,
             "#ed7953"
            ],
            [
             0.7777777777777778,
             "#fb9f3a"
            ],
            [
             0.8888888888888888,
             "#fdca26"
            ],
            [
             1,
             "#f0f921"
            ]
           ]
          },
          "colorway": [
           "#636efa",
           "#EF553B",
           "#00cc96",
           "#ab63fa",
           "#FFA15A",
           "#19d3f3",
           "#FF6692",
           "#B6E880",
           "#FF97FF",
           "#FECB52"
          ],
          "font": {
           "color": "#2a3f5f"
          },
          "geo": {
           "bgcolor": "white",
           "lakecolor": "white",
           "landcolor": "#E5ECF6",
           "showlakes": true,
           "showland": true,
           "subunitcolor": "white"
          },
          "hoverlabel": {
           "align": "left"
          },
          "hovermode": "closest",
          "mapbox": {
           "style": "light"
          },
          "paper_bgcolor": "white",
          "plot_bgcolor": "#E5ECF6",
          "polar": {
           "angularaxis": {
            "gridcolor": "white",
            "linecolor": "white",
            "ticks": ""
           },
           "bgcolor": "#E5ECF6",
           "radialaxis": {
            "gridcolor": "white",
            "linecolor": "white",
            "ticks": ""
           }
          },
          "scene": {
           "xaxis": {
            "backgroundcolor": "#E5ECF6",
            "gridcolor": "white",
            "gridwidth": 2,
            "linecolor": "white",
            "showbackground": true,
            "ticks": "",
            "zerolinecolor": "white"
           },
           "yaxis": {
            "backgroundcolor": "#E5ECF6",
            "gridcolor": "white",
            "gridwidth": 2,
            "linecolor": "white",
            "showbackground": true,
            "ticks": "",
            "zerolinecolor": "white"
           },
           "zaxis": {
            "backgroundcolor": "#E5ECF6",
            "gridcolor": "white",
            "gridwidth": 2,
            "linecolor": "white",
            "showbackground": true,
            "ticks": "",
            "zerolinecolor": "white"
           }
          },
          "shapedefaults": {
           "line": {
            "color": "#2a3f5f"
           }
          },
          "ternary": {
           "aaxis": {
            "gridcolor": "white",
            "linecolor": "white",
            "ticks": ""
           },
           "baxis": {
            "gridcolor": "white",
            "linecolor": "white",
            "ticks": ""
           },
           "bgcolor": "#E5ECF6",
           "caxis": {
            "gridcolor": "white",
            "linecolor": "white",
            "ticks": ""
           }
          },
          "title": {
           "x": 0.05
          },
          "xaxis": {
           "automargin": true,
           "gridcolor": "white",
           "linecolor": "white",
           "ticks": "",
           "title": {
            "standoff": 15
           },
           "zerolinecolor": "white",
           "zerolinewidth": 2
          },
          "yaxis": {
           "automargin": true,
           "gridcolor": "white",
           "linecolor": "white",
           "ticks": "",
           "title": {
            "standoff": 15
           },
           "zerolinecolor": "white",
           "zerolinewidth": 2
          }
         }
        },
        "title": {
         "text": "Hyperparameter Importances"
        },
        "xaxis": {
         "title": {
          "text": "Hyperparameter Importance"
         }
        },
        "yaxis": {
         "title": {
          "text": "Hyperparameter"
         }
        }
       }
      }
     },
     "metadata": {},
     "output_type": "display_data"
    }
   ],
   "source": [
    "# 하이퍼파라미터별 중요도를 확인할 수 있는 그래프\n",
    "optuna.visualization.plot_param_importances(study_lgbm)"
   ]
  },
  {
   "cell_type": "code",
   "execution_count": 50,
   "metadata": {},
   "outputs": [
    {
     "data": {
      "application/vnd.plotly.v1+json": {
       "config": {
        "plotlyServerURL": "https://plot.ly"
       },
       "data": [
        {
         "mode": "markers",
         "name": "Objective Value",
         "type": "scatter",
         "x": [
          0,
          1,
          2,
          3,
          4,
          5,
          6,
          7,
          8,
          9,
          10,
          11,
          12,
          13,
          14,
          15,
          16,
          17,
          18,
          19,
          20,
          21,
          22,
          23,
          24,
          25,
          26,
          27,
          28,
          29
         ],
         "y": [
          0.8323080127110625,
          0.7313443310728845,
          0.6664629796192838,
          0.7313219278447008,
          0.7605735631976308,
          0.8440822822020995,
          0.7315613240500882,
          0.8609960075967863,
          1.1200734917590698,
          0.6503867970062382,
          0.663842553009561,
          0.6903237657957396,
          0.6764482770875595,
          0.8130498892925396,
          0.6749486263750021,
          0.7101481350252681,
          0.6879278349875313,
          0.8639270476161369,
          0.6739124238473356,
          0.7457787935540258,
          0.6511218119212288,
          0.6514881313286296,
          0.6459875721145336,
          0.7037422192326162,
          0.6372956453834581,
          0.7303839593710869,
          0.66210072037074,
          0.6560452749003112,
          0.626879511370602,
          0.6353656375268748
         ]
        },
        {
         "mode": "lines",
         "name": "Best Value",
         "type": "scatter",
         "x": [
          0,
          1,
          2,
          3,
          4,
          5,
          6,
          7,
          8,
          9,
          10,
          11,
          12,
          13,
          14,
          15,
          16,
          17,
          18,
          19,
          20,
          21,
          22,
          23,
          24,
          25,
          26,
          27,
          28,
          29
         ],
         "y": [
          0.8323080127110625,
          0.7313443310728845,
          0.6664629796192838,
          0.6664629796192838,
          0.6664629796192838,
          0.6664629796192838,
          0.6664629796192838,
          0.6664629796192838,
          0.6664629796192838,
          0.6503867970062382,
          0.6503867970062382,
          0.6503867970062382,
          0.6503867970062382,
          0.6503867970062382,
          0.6503867970062382,
          0.6503867970062382,
          0.6503867970062382,
          0.6503867970062382,
          0.6503867970062382,
          0.6503867970062382,
          0.6503867970062382,
          0.6503867970062382,
          0.6459875721145336,
          0.6459875721145336,
          0.6372956453834581,
          0.6372956453834581,
          0.6372956453834581,
          0.6372956453834581,
          0.626879511370602,
          0.626879511370602
         ]
        },
        {
         "marker": {
          "color": "#cccccc"
         },
         "mode": "markers",
         "name": "Infeasible Trial",
         "showlegend": false,
         "type": "scatter",
         "x": [],
         "y": []
        }
       ],
       "layout": {
        "template": {
         "data": {
          "bar": [
           {
            "error_x": {
             "color": "#2a3f5f"
            },
            "error_y": {
             "color": "#2a3f5f"
            },
            "marker": {
             "line": {
              "color": "#E5ECF6",
              "width": 0.5
             },
             "pattern": {
              "fillmode": "overlay",
              "size": 10,
              "solidity": 0.2
             }
            },
            "type": "bar"
           }
          ],
          "barpolar": [
           {
            "marker": {
             "line": {
              "color": "#E5ECF6",
              "width": 0.5
             },
             "pattern": {
              "fillmode": "overlay",
              "size": 10,
              "solidity": 0.2
             }
            },
            "type": "barpolar"
           }
          ],
          "carpet": [
           {
            "aaxis": {
             "endlinecolor": "#2a3f5f",
             "gridcolor": "white",
             "linecolor": "white",
             "minorgridcolor": "white",
             "startlinecolor": "#2a3f5f"
            },
            "baxis": {
             "endlinecolor": "#2a3f5f",
             "gridcolor": "white",
             "linecolor": "white",
             "minorgridcolor": "white",
             "startlinecolor": "#2a3f5f"
            },
            "type": "carpet"
           }
          ],
          "choropleth": [
           {
            "colorbar": {
             "outlinewidth": 0,
             "ticks": ""
            },
            "type": "choropleth"
           }
          ],
          "contour": [
           {
            "colorbar": {
             "outlinewidth": 0,
             "ticks": ""
            },
            "colorscale": [
             [
              0,
              "#0d0887"
             ],
             [
              0.1111111111111111,
              "#46039f"
             ],
             [
              0.2222222222222222,
              "#7201a8"
             ],
             [
              0.3333333333333333,
              "#9c179e"
             ],
             [
              0.4444444444444444,
              "#bd3786"
             ],
             [
              0.5555555555555556,
              "#d8576b"
             ],
             [
              0.6666666666666666,
              "#ed7953"
             ],
             [
              0.7777777777777778,
              "#fb9f3a"
             ],
             [
              0.8888888888888888,
              "#fdca26"
             ],
             [
              1,
              "#f0f921"
             ]
            ],
            "type": "contour"
           }
          ],
          "contourcarpet": [
           {
            "colorbar": {
             "outlinewidth": 0,
             "ticks": ""
            },
            "type": "contourcarpet"
           }
          ],
          "heatmap": [
           {
            "colorbar": {
             "outlinewidth": 0,
             "ticks": ""
            },
            "colorscale": [
             [
              0,
              "#0d0887"
             ],
             [
              0.1111111111111111,
              "#46039f"
             ],
             [
              0.2222222222222222,
              "#7201a8"
             ],
             [
              0.3333333333333333,
              "#9c179e"
             ],
             [
              0.4444444444444444,
              "#bd3786"
             ],
             [
              0.5555555555555556,
              "#d8576b"
             ],
             [
              0.6666666666666666,
              "#ed7953"
             ],
             [
              0.7777777777777778,
              "#fb9f3a"
             ],
             [
              0.8888888888888888,
              "#fdca26"
             ],
             [
              1,
              "#f0f921"
             ]
            ],
            "type": "heatmap"
           }
          ],
          "heatmapgl": [
           {
            "colorbar": {
             "outlinewidth": 0,
             "ticks": ""
            },
            "colorscale": [
             [
              0,
              "#0d0887"
             ],
             [
              0.1111111111111111,
              "#46039f"
             ],
             [
              0.2222222222222222,
              "#7201a8"
             ],
             [
              0.3333333333333333,
              "#9c179e"
             ],
             [
              0.4444444444444444,
              "#bd3786"
             ],
             [
              0.5555555555555556,
              "#d8576b"
             ],
             [
              0.6666666666666666,
              "#ed7953"
             ],
             [
              0.7777777777777778,
              "#fb9f3a"
             ],
             [
              0.8888888888888888,
              "#fdca26"
             ],
             [
              1,
              "#f0f921"
             ]
            ],
            "type": "heatmapgl"
           }
          ],
          "histogram": [
           {
            "marker": {
             "pattern": {
              "fillmode": "overlay",
              "size": 10,
              "solidity": 0.2
             }
            },
            "type": "histogram"
           }
          ],
          "histogram2d": [
           {
            "colorbar": {
             "outlinewidth": 0,
             "ticks": ""
            },
            "colorscale": [
             [
              0,
              "#0d0887"
             ],
             [
              0.1111111111111111,
              "#46039f"
             ],
             [
              0.2222222222222222,
              "#7201a8"
             ],
             [
              0.3333333333333333,
              "#9c179e"
             ],
             [
              0.4444444444444444,
              "#bd3786"
             ],
             [
              0.5555555555555556,
              "#d8576b"
             ],
             [
              0.6666666666666666,
              "#ed7953"
             ],
             [
              0.7777777777777778,
              "#fb9f3a"
             ],
             [
              0.8888888888888888,
              "#fdca26"
             ],
             [
              1,
              "#f0f921"
             ]
            ],
            "type": "histogram2d"
           }
          ],
          "histogram2dcontour": [
           {
            "colorbar": {
             "outlinewidth": 0,
             "ticks": ""
            },
            "colorscale": [
             [
              0,
              "#0d0887"
             ],
             [
              0.1111111111111111,
              "#46039f"
             ],
             [
              0.2222222222222222,
              "#7201a8"
             ],
             [
              0.3333333333333333,
              "#9c179e"
             ],
             [
              0.4444444444444444,
              "#bd3786"
             ],
             [
              0.5555555555555556,
              "#d8576b"
             ],
             [
              0.6666666666666666,
              "#ed7953"
             ],
             [
              0.7777777777777778,
              "#fb9f3a"
             ],
             [
              0.8888888888888888,
              "#fdca26"
             ],
             [
              1,
              "#f0f921"
             ]
            ],
            "type": "histogram2dcontour"
           }
          ],
          "mesh3d": [
           {
            "colorbar": {
             "outlinewidth": 0,
             "ticks": ""
            },
            "type": "mesh3d"
           }
          ],
          "parcoords": [
           {
            "line": {
             "colorbar": {
              "outlinewidth": 0,
              "ticks": ""
             }
            },
            "type": "parcoords"
           }
          ],
          "pie": [
           {
            "automargin": true,
            "type": "pie"
           }
          ],
          "scatter": [
           {
            "fillpattern": {
             "fillmode": "overlay",
             "size": 10,
             "solidity": 0.2
            },
            "type": "scatter"
           }
          ],
          "scatter3d": [
           {
            "line": {
             "colorbar": {
              "outlinewidth": 0,
              "ticks": ""
             }
            },
            "marker": {
             "colorbar": {
              "outlinewidth": 0,
              "ticks": ""
             }
            },
            "type": "scatter3d"
           }
          ],
          "scattercarpet": [
           {
            "marker": {
             "colorbar": {
              "outlinewidth": 0,
              "ticks": ""
             }
            },
            "type": "scattercarpet"
           }
          ],
          "scattergeo": [
           {
            "marker": {
             "colorbar": {
              "outlinewidth": 0,
              "ticks": ""
             }
            },
            "type": "scattergeo"
           }
          ],
          "scattergl": [
           {
            "marker": {
             "colorbar": {
              "outlinewidth": 0,
              "ticks": ""
             }
            },
            "type": "scattergl"
           }
          ],
          "scattermapbox": [
           {
            "marker": {
             "colorbar": {
              "outlinewidth": 0,
              "ticks": ""
             }
            },
            "type": "scattermapbox"
           }
          ],
          "scatterpolar": [
           {
            "marker": {
             "colorbar": {
              "outlinewidth": 0,
              "ticks": ""
             }
            },
            "type": "scatterpolar"
           }
          ],
          "scatterpolargl": [
           {
            "marker": {
             "colorbar": {
              "outlinewidth": 0,
              "ticks": ""
             }
            },
            "type": "scatterpolargl"
           }
          ],
          "scatterternary": [
           {
            "marker": {
             "colorbar": {
              "outlinewidth": 0,
              "ticks": ""
             }
            },
            "type": "scatterternary"
           }
          ],
          "surface": [
           {
            "colorbar": {
             "outlinewidth": 0,
             "ticks": ""
            },
            "colorscale": [
             [
              0,
              "#0d0887"
             ],
             [
              0.1111111111111111,
              "#46039f"
             ],
             [
              0.2222222222222222,
              "#7201a8"
             ],
             [
              0.3333333333333333,
              "#9c179e"
             ],
             [
              0.4444444444444444,
              "#bd3786"
             ],
             [
              0.5555555555555556,
              "#d8576b"
             ],
             [
              0.6666666666666666,
              "#ed7953"
             ],
             [
              0.7777777777777778,
              "#fb9f3a"
             ],
             [
              0.8888888888888888,
              "#fdca26"
             ],
             [
              1,
              "#f0f921"
             ]
            ],
            "type": "surface"
           }
          ],
          "table": [
           {
            "cells": {
             "fill": {
              "color": "#EBF0F8"
             },
             "line": {
              "color": "white"
             }
            },
            "header": {
             "fill": {
              "color": "#C8D4E3"
             },
             "line": {
              "color": "white"
             }
            },
            "type": "table"
           }
          ]
         },
         "layout": {
          "annotationdefaults": {
           "arrowcolor": "#2a3f5f",
           "arrowhead": 0,
           "arrowwidth": 1
          },
          "autotypenumbers": "strict",
          "coloraxis": {
           "colorbar": {
            "outlinewidth": 0,
            "ticks": ""
           }
          },
          "colorscale": {
           "diverging": [
            [
             0,
             "#8e0152"
            ],
            [
             0.1,
             "#c51b7d"
            ],
            [
             0.2,
             "#de77ae"
            ],
            [
             0.3,
             "#f1b6da"
            ],
            [
             0.4,
             "#fde0ef"
            ],
            [
             0.5,
             "#f7f7f7"
            ],
            [
             0.6,
             "#e6f5d0"
            ],
            [
             0.7,
             "#b8e186"
            ],
            [
             0.8,
             "#7fbc41"
            ],
            [
             0.9,
             "#4d9221"
            ],
            [
             1,
             "#276419"
            ]
           ],
           "sequential": [
            [
             0,
             "#0d0887"
            ],
            [
             0.1111111111111111,
             "#46039f"
            ],
            [
             0.2222222222222222,
             "#7201a8"
            ],
            [
             0.3333333333333333,
             "#9c179e"
            ],
            [
             0.4444444444444444,
             "#bd3786"
            ],
            [
             0.5555555555555556,
             "#d8576b"
            ],
            [
             0.6666666666666666,
             "#ed7953"
            ],
            [
             0.7777777777777778,
             "#fb9f3a"
            ],
            [
             0.8888888888888888,
             "#fdca26"
            ],
            [
             1,
             "#f0f921"
            ]
           ],
           "sequentialminus": [
            [
             0,
             "#0d0887"
            ],
            [
             0.1111111111111111,
             "#46039f"
            ],
            [
             0.2222222222222222,
             "#7201a8"
            ],
            [
             0.3333333333333333,
             "#9c179e"
            ],
            [
             0.4444444444444444,
             "#bd3786"
            ],
            [
             0.5555555555555556,
             "#d8576b"
            ],
            [
             0.6666666666666666,
             "#ed7953"
            ],
            [
             0.7777777777777778,
             "#fb9f3a"
            ],
            [
             0.8888888888888888,
             "#fdca26"
            ],
            [
             1,
             "#f0f921"
            ]
           ]
          },
          "colorway": [
           "#636efa",
           "#EF553B",
           "#00cc96",
           "#ab63fa",
           "#FFA15A",
           "#19d3f3",
           "#FF6692",
           "#B6E880",
           "#FF97FF",
           "#FECB52"
          ],
          "font": {
           "color": "#2a3f5f"
          },
          "geo": {
           "bgcolor": "white",
           "lakecolor": "white",
           "landcolor": "#E5ECF6",
           "showlakes": true,
           "showland": true,
           "subunitcolor": "white"
          },
          "hoverlabel": {
           "align": "left"
          },
          "hovermode": "closest",
          "mapbox": {
           "style": "light"
          },
          "paper_bgcolor": "white",
          "plot_bgcolor": "#E5ECF6",
          "polar": {
           "angularaxis": {
            "gridcolor": "white",
            "linecolor": "white",
            "ticks": ""
           },
           "bgcolor": "#E5ECF6",
           "radialaxis": {
            "gridcolor": "white",
            "linecolor": "white",
            "ticks": ""
           }
          },
          "scene": {
           "xaxis": {
            "backgroundcolor": "#E5ECF6",
            "gridcolor": "white",
            "gridwidth": 2,
            "linecolor": "white",
            "showbackground": true,
            "ticks": "",
            "zerolinecolor": "white"
           },
           "yaxis": {
            "backgroundcolor": "#E5ECF6",
            "gridcolor": "white",
            "gridwidth": 2,
            "linecolor": "white",
            "showbackground": true,
            "ticks": "",
            "zerolinecolor": "white"
           },
           "zaxis": {
            "backgroundcolor": "#E5ECF6",
            "gridcolor": "white",
            "gridwidth": 2,
            "linecolor": "white",
            "showbackground": true,
            "ticks": "",
            "zerolinecolor": "white"
           }
          },
          "shapedefaults": {
           "line": {
            "color": "#2a3f5f"
           }
          },
          "ternary": {
           "aaxis": {
            "gridcolor": "white",
            "linecolor": "white",
            "ticks": ""
           },
           "baxis": {
            "gridcolor": "white",
            "linecolor": "white",
            "ticks": ""
           },
           "bgcolor": "#E5ECF6",
           "caxis": {
            "gridcolor": "white",
            "linecolor": "white",
            "ticks": ""
           }
          },
          "title": {
           "x": 0.05
          },
          "xaxis": {
           "automargin": true,
           "gridcolor": "white",
           "linecolor": "white",
           "ticks": "",
           "title": {
            "standoff": 15
           },
           "zerolinecolor": "white",
           "zerolinewidth": 2
          },
          "yaxis": {
           "automargin": true,
           "gridcolor": "white",
           "linecolor": "white",
           "ticks": "",
           "title": {
            "standoff": 15
           },
           "zerolinecolor": "white",
           "zerolinewidth": 2
          }
         }
        },
        "title": {
         "text": "Optimization History Plot"
        },
        "xaxis": {
         "title": {
          "text": "Trial"
         }
        },
        "yaxis": {
         "title": {
          "text": "Objective Value"
         }
        }
       }
      }
     },
     "metadata": {},
     "output_type": "display_data"
    }
   ],
   "source": [
    "# 하이퍼파라미터 최적화 과정을 확인\n",
    "optuna.visualization.plot_optimization_history(study_lgbm)"
   ]
  },
  {
   "cell_type": "code",
   "execution_count": 51,
   "metadata": {},
   "outputs": [
    {
     "name": "stdout",
     "output_type": "stream",
     "text": [
      "[LightGBM] [Warning] min_data_in_leaf is set=56, min_child_samples=20 will be ignored. Current value: min_data_in_leaf=56\n",
      "[LightGBM] [Warning] min_data_in_leaf is set=56, min_child_samples=20 will be ignored. Current value: min_data_in_leaf=56\n",
      "[LightGBM] [Info] Auto-choosing col-wise multi-threading, the overhead of testing was 0.000455 seconds.\n",
      "You can set `force_col_wise=true` to remove the overhead.\n",
      "[LightGBM] [Info] Total Bins 1230\n",
      "[LightGBM] [Info] Number of data points in the train set: 10466, number of used features: 12\n",
      "[LightGBM] [Info] Start training from score 8995590.483470\n",
      "[LightGBM] [Warning] min_data_in_leaf is set=56, min_child_samples=20 will be ignored. Current value: min_data_in_leaf=56\n",
      "[LightGBM] [Warning] min_data_in_leaf is set=56, min_child_samples=20 will be ignored. Current value: min_data_in_leaf=56\n",
      "[LightGBM] [Warning] min_data_in_leaf is set=56, min_child_samples=20 will be ignored. Current value: min_data_in_leaf=56\n",
      "[LightGBM] [Warning] min_data_in_leaf is set=56, min_child_samples=20 will be ignored. Current value: min_data_in_leaf=56\n",
      "\n",
      "====== Models After Hyper Parameter Tuning ======\n"
     ]
    },
    {
     "data": {
      "text/html": [
       "<div>\n",
       "<style scoped>\n",
       "    .dataframe tbody tr th:only-of-type {\n",
       "        vertical-align: middle;\n",
       "    }\n",
       "\n",
       "    .dataframe tbody tr th {\n",
       "        vertical-align: top;\n",
       "    }\n",
       "\n",
       "    .dataframe thead th {\n",
       "        text-align: right;\n",
       "    }\n",
       "</style>\n",
       "<table border=\"1\" class=\"dataframe\">\n",
       "  <thead>\n",
       "    <tr style=\"text-align: right;\">\n",
       "      <th></th>\n",
       "      <th>Model</th>\n",
       "      <th>MAE</th>\n",
       "      <th>MSE</th>\n",
       "      <th>RMSE</th>\n",
       "      <th>RMSLE</th>\n",
       "      <th>R2 Score</th>\n",
       "    </tr>\n",
       "  </thead>\n",
       "  <tbody>\n",
       "    <tr>\n",
       "      <th>0</th>\n",
       "      <td>LightGBM_tuned</td>\n",
       "      <td>3853679.65</td>\n",
       "      <td>60814712238048.47</td>\n",
       "      <td>7798378.82</td>\n",
       "      <td>0.64</td>\n",
       "      <td>0.78</td>\n",
       "    </tr>\n",
       "  </tbody>\n",
       "</table>\n",
       "</div>"
      ],
      "text/plain": [
       "            Model         MAE                MSE        RMSE RMSLE R2 Score\n",
       "0  LightGBM_tuned  3853679.65  60814712238048.47  7798378.82  0.64     0.78"
      ]
     },
     "execution_count": 51,
     "metadata": {},
     "output_type": "execute_result"
    }
   ],
   "source": [
    "lgbm_optuna = LGBMRegressor(**study_lgbm.best_params)\n",
    "model_list([(\"LightGBM_tuned\", lgbm_optuna)], \"After\")"
   ]
  },
  {
   "cell_type": "markdown",
   "metadata": {},
   "source": [
    "#### 튜닝한 모델들 비교"
   ]
  },
  {
   "cell_type": "code",
   "execution_count": 52,
   "metadata": {},
   "outputs": [],
   "source": [
    "models_tuned = models = [\n",
    "    (\"RandomForest_tuned\", rf_optuna),\n",
    "    (\"CatBoost_tuned\", cat_optuna),\n",
    "    (\"LightGBM_tuned\", lgbm_optuna),\n",
    "    (\"XGBoost_tuned\", xgb_optuna)\n",
    "]"
   ]
  },
  {
   "cell_type": "code",
   "execution_count": 53,
   "metadata": {},
   "outputs": [
    {
     "name": "stdout",
     "output_type": "stream",
     "text": [
      "0:\tlearn: 14134287.3155772\ttotal: 6.67ms\tremaining: 6.26s\n",
      "1:\tlearn: 13952371.7553692\ttotal: 16.7ms\tremaining: 7.84s\n",
      "2:\tlearn: 13759849.1736415\ttotal: 25.2ms\tremaining: 7.87s\n",
      "3:\tlearn: 13567769.7270536\ttotal: 33.6ms\tremaining: 7.87s\n",
      "4:\tlearn: 13401280.7454485\ttotal: 42.2ms\tremaining: 7.89s\n",
      "5:\tlearn: 13221776.3055441\ttotal: 49.8ms\tremaining: 7.76s\n",
      "6:\tlearn: 13038708.7906264\ttotal: 57.8ms\tremaining: 7.71s\n",
      "7:\tlearn: 12871424.2299574\ttotal: 66.8ms\tremaining: 7.78s\n",
      "8:\tlearn: 12693936.6145597\ttotal: 77ms\tremaining: 7.96s\n",
      "9:\tlearn: 12519237.8278544\ttotal: 84.1ms\tremaining: 7.82s\n",
      "10:\tlearn: 12353353.0358067\ttotal: 94.8ms\tremaining: 8.01s\n",
      "11:\tlearn: 12183932.4781118\ttotal: 102ms\tremaining: 7.88s\n",
      "12:\tlearn: 12023317.1849084\ttotal: 108ms\tremaining: 7.72s\n",
      "13:\tlearn: 11870757.1946311\ttotal: 117ms\tremaining: 7.72s\n",
      "14:\tlearn: 11724818.2085006\ttotal: 126ms\tremaining: 7.78s\n",
      "15:\tlearn: 11578598.7709454\ttotal: 134ms\tremaining: 7.74s\n",
      "16:\tlearn: 11448382.2655006\ttotal: 142ms\tremaining: 7.72s\n",
      "17:\tlearn: 11322091.7019004\ttotal: 150ms\tremaining: 7.67s\n",
      "18:\tlearn: 11188351.0847734\ttotal: 164ms\tremaining: 7.96s\n",
      "19:\tlearn: 11051935.1833498\ttotal: 174ms\tremaining: 7.99s\n",
      "20:\tlearn: 10918505.1478913\ttotal: 181ms\tremaining: 7.91s\n",
      "21:\tlearn: 10786759.0444300\ttotal: 188ms\tremaining: 7.85s\n",
      "22:\tlearn: 10671454.4276123\ttotal: 197ms\tremaining: 7.86s\n",
      "23:\tlearn: 10560515.2966723\ttotal: 206ms\tremaining: 7.85s\n",
      "24:\tlearn: 10441667.0773335\ttotal: 213ms\tremaining: 7.8s\n",
      "25:\tlearn: 10331777.2892120\ttotal: 223ms\tremaining: 7.85s\n",
      "26:\tlearn: 10214440.8517161\ttotal: 231ms\tremaining: 7.8s\n",
      "27:\tlearn: 10108763.3346897\ttotal: 242ms\tremaining: 7.87s\n",
      "28:\tlearn: 10016441.7269102\ttotal: 248ms\tremaining: 7.8s\n",
      "29:\tlearn: 9913990.8645800\ttotal: 260ms\tremaining: 7.88s\n",
      "30:\tlearn: 9821154.0427648\ttotal: 271ms\tremaining: 7.93s\n",
      "31:\tlearn: 9720936.5760966\ttotal: 278ms\tremaining: 7.89s\n",
      "32:\tlearn: 9631376.8288474\ttotal: 288ms\tremaining: 7.91s\n",
      "33:\tlearn: 9549236.0350112\ttotal: 293ms\tremaining: 7.8s\n",
      "34:\tlearn: 9464503.5671383\ttotal: 299ms\tremaining: 7.73s\n",
      "35:\tlearn: 9378423.1550539\ttotal: 307ms\tremaining: 7.71s\n",
      "36:\tlearn: 9288107.0476287\ttotal: 314ms\tremaining: 7.67s\n",
      "37:\tlearn: 9202219.9387344\ttotal: 322ms\tremaining: 7.63s\n",
      "38:\tlearn: 9120470.0076149\ttotal: 329ms\tremaining: 7.59s\n",
      "39:\tlearn: 9048778.8772541\ttotal: 337ms\tremaining: 7.58s\n",
      "40:\tlearn: 8973677.8471970\ttotal: 344ms\tremaining: 7.54s\n",
      "41:\tlearn: 8898435.3844529\ttotal: 352ms\tremaining: 7.52s\n",
      "42:\tlearn: 8824556.4516027\ttotal: 359ms\tremaining: 7.49s\n",
      "43:\tlearn: 8757170.9033500\ttotal: 368ms\tremaining: 7.49s\n",
      "44:\tlearn: 8685751.5908236\ttotal: 375ms\tremaining: 7.45s\n",
      "45:\tlearn: 8621979.4360594\ttotal: 384ms\tremaining: 7.47s\n",
      "46:\tlearn: 8550526.7534725\ttotal: 390ms\tremaining: 7.4s\n",
      "47:\tlearn: 8481088.4057836\ttotal: 395ms\tremaining: 7.35s\n",
      "48:\tlearn: 8424054.9349474\ttotal: 404ms\tremaining: 7.36s\n",
      "49:\tlearn: 8372131.9810865\ttotal: 413ms\tremaining: 7.35s\n",
      "50:\tlearn: 8321756.5760992\ttotal: 420ms\tremaining: 7.33s\n",
      "51:\tlearn: 8262572.1446439\ttotal: 428ms\tremaining: 7.31s\n",
      "52:\tlearn: 8202319.9916767\ttotal: 435ms\tremaining: 7.28s\n",
      "53:\tlearn: 8142211.7024649\ttotal: 442ms\tremaining: 7.26s\n",
      "54:\tlearn: 8090520.2545347\ttotal: 450ms\tremaining: 7.25s\n",
      "55:\tlearn: 8032730.6402319\ttotal: 458ms\tremaining: 7.22s\n",
      "56:\tlearn: 7974419.3115600\ttotal: 468ms\tremaining: 7.26s\n",
      "57:\tlearn: 7924800.5555839\ttotal: 477ms\tremaining: 7.25s\n",
      "58:\tlearn: 7874198.5510509\ttotal: 491ms\tremaining: 7.32s\n",
      "59:\tlearn: 7824473.4725504\ttotal: 502ms\tremaining: 7.36s\n",
      "60:\tlearn: 7777811.5109688\ttotal: 509ms\tremaining: 7.33s\n",
      "61:\tlearn: 7731304.5854756\ttotal: 518ms\tremaining: 7.34s\n",
      "62:\tlearn: 7685823.0604149\ttotal: 525ms\tremaining: 7.32s\n",
      "63:\tlearn: 7638676.7315038\ttotal: 536ms\tremaining: 7.33s\n",
      "64:\tlearn: 7597628.9864183\ttotal: 546ms\tremaining: 7.35s\n",
      "65:\tlearn: 7555251.4890889\ttotal: 553ms\tremaining: 7.32s\n",
      "66:\tlearn: 7516751.8690209\ttotal: 562ms\tremaining: 7.32s\n",
      "67:\tlearn: 7477986.9154769\ttotal: 569ms\tremaining: 7.3s\n",
      "68:\tlearn: 7437478.6450148\ttotal: 577ms\tremaining: 7.28s\n",
      "69:\tlearn: 7397813.8092471\ttotal: 585ms\tremaining: 7.26s\n",
      "70:\tlearn: 7356120.5993530\ttotal: 590ms\tremaining: 7.22s\n",
      "71:\tlearn: 7314189.4981052\ttotal: 600ms\tremaining: 7.23s\n",
      "72:\tlearn: 7272143.4219845\ttotal: 605ms\tremaining: 7.18s\n",
      "73:\tlearn: 7236722.3624439\ttotal: 613ms\tremaining: 7.17s\n",
      "74:\tlearn: 7196591.7099769\ttotal: 622ms\tremaining: 7.18s\n",
      "75:\tlearn: 7162770.5266548\ttotal: 630ms\tremaining: 7.16s\n",
      "76:\tlearn: 7127539.5759826\ttotal: 638ms\tremaining: 7.15s\n",
      "77:\tlearn: 7094294.9756949\ttotal: 647ms\tremaining: 7.15s\n",
      "78:\tlearn: 7064516.7933741\ttotal: 654ms\tremaining: 7.12s\n",
      "79:\tlearn: 7031628.2787696\ttotal: 663ms\tremaining: 7.12s\n",
      "80:\tlearn: 6999015.7721516\ttotal: 668ms\tremaining: 7.09s\n",
      "81:\tlearn: 6970738.1565628\ttotal: 678ms\tremaining: 7.09s\n",
      "82:\tlearn: 6940082.5201712\ttotal: 685ms\tremaining: 7.08s\n",
      "83:\tlearn: 6914310.1773970\ttotal: 694ms\tremaining: 7.07s\n",
      "84:\tlearn: 6886490.2023386\ttotal: 701ms\tremaining: 7.05s\n",
      "85:\tlearn: 6854662.8754791\ttotal: 710ms\tremaining: 7.05s\n",
      "86:\tlearn: 6830822.0300474\ttotal: 717ms\tremaining: 7.03s\n",
      "87:\tlearn: 6807000.4388389\ttotal: 728ms\tremaining: 7.05s\n",
      "88:\tlearn: 6783024.7560718\ttotal: 735ms\tremaining: 7.03s\n",
      "89:\tlearn: 6753914.1654389\ttotal: 745ms\tremaining: 7.04s\n",
      "90:\tlearn: 6727379.0252337\ttotal: 753ms\tremaining: 7.03s\n",
      "91:\tlearn: 6706027.0560960\ttotal: 761ms\tremaining: 7.02s\n",
      "92:\tlearn: 6684161.4779599\ttotal: 769ms\tremaining: 7s\n",
      "93:\tlearn: 6662356.3319449\ttotal: 777ms\tremaining: 6.99s\n",
      "94:\tlearn: 6638204.0869443\ttotal: 783ms\tremaining: 6.97s\n",
      "95:\tlearn: 6619065.8203775\ttotal: 789ms\tremaining: 6.93s\n",
      "96:\tlearn: 6598759.5269648\ttotal: 796ms\tremaining: 6.92s\n",
      "97:\tlearn: 6576316.6709618\ttotal: 803ms\tremaining: 6.9s\n",
      "98:\tlearn: 6559174.8428264\ttotal: 812ms\tremaining: 6.9s\n",
      "99:\tlearn: 6537748.6179913\ttotal: 821ms\tremaining: 6.89s\n",
      "100:\tlearn: 6517082.1656402\ttotal: 827ms\tremaining: 6.87s\n",
      "101:\tlearn: 6499884.3560596\ttotal: 835ms\tremaining: 6.86s\n",
      "102:\tlearn: 6480376.1043098\ttotal: 844ms\tremaining: 6.86s\n",
      "103:\tlearn: 6463408.8076088\ttotal: 853ms\tremaining: 6.86s\n",
      "104:\tlearn: 6446805.1021685\ttotal: 861ms\tremaining: 6.84s\n",
      "105:\tlearn: 6425498.2248953\ttotal: 870ms\tremaining: 6.84s\n",
      "106:\tlearn: 6411562.8915323\ttotal: 877ms\tremaining: 6.83s\n",
      "107:\tlearn: 6391522.8015013\ttotal: 887ms\tremaining: 6.83s\n",
      "108:\tlearn: 6373604.9659163\ttotal: 895ms\tremaining: 6.82s\n",
      "109:\tlearn: 6356770.0539596\ttotal: 908ms\tremaining: 6.85s\n",
      "110:\tlearn: 6339221.4557000\ttotal: 916ms\tremaining: 6.84s\n",
      "111:\tlearn: 6323941.4701749\ttotal: 925ms\tremaining: 6.83s\n",
      "112:\tlearn: 6308074.3292331\ttotal: 935ms\tremaining: 6.84s\n",
      "113:\tlearn: 6288858.3921936\ttotal: 943ms\tremaining: 6.83s\n",
      "114:\tlearn: 6274633.3703938\ttotal: 952ms\tremaining: 6.83s\n",
      "115:\tlearn: 6256824.5203302\ttotal: 960ms\tremaining: 6.82s\n",
      "116:\tlearn: 6239912.1797250\ttotal: 973ms\tremaining: 6.85s\n",
      "117:\tlearn: 6223584.0923337\ttotal: 986ms\tremaining: 6.87s\n",
      "118:\tlearn: 6209595.9409813\ttotal: 995ms\tremaining: 6.86s\n",
      "119:\tlearn: 6196256.8647547\ttotal: 1s\tremaining: 6.87s\n",
      "120:\tlearn: 6181915.3718763\ttotal: 1.01s\tremaining: 6.88s\n",
      "121:\tlearn: 6167322.8199972\ttotal: 1.02s\tremaining: 6.87s\n",
      "122:\tlearn: 6154148.1768948\ttotal: 1.03s\tremaining: 6.87s\n",
      "123:\tlearn: 6140942.4550980\ttotal: 1.04s\tremaining: 6.86s\n",
      "124:\tlearn: 6127442.8157125\ttotal: 1.05s\tremaining: 6.88s\n",
      "125:\tlearn: 6111301.4349417\ttotal: 1.07s\tremaining: 6.89s\n",
      "126:\tlearn: 6097187.7015398\ttotal: 1.07s\tremaining: 6.88s\n",
      "127:\tlearn: 6084452.6748951\ttotal: 1.08s\tremaining: 6.88s\n",
      "128:\tlearn: 6070710.5971947\ttotal: 1.09s\tremaining: 6.87s\n",
      "129:\tlearn: 6055694.9294253\ttotal: 1.1s\tremaining: 6.88s\n",
      "130:\tlearn: 6043530.4461995\ttotal: 1.12s\tremaining: 6.94s\n",
      "131:\tlearn: 6031564.9691097\ttotal: 1.14s\tremaining: 6.95s\n",
      "132:\tlearn: 6020889.6555805\ttotal: 1.15s\tremaining: 6.95s\n",
      "133:\tlearn: 6008960.7281158\ttotal: 1.16s\tremaining: 6.95s\n",
      "134:\tlearn: 5999198.4862446\ttotal: 1.17s\tremaining: 6.95s\n",
      "135:\tlearn: 5990088.7269837\ttotal: 1.17s\tremaining: 6.93s\n",
      "136:\tlearn: 5979516.3394211\ttotal: 1.18s\tremaining: 6.92s\n",
      "137:\tlearn: 5964905.2643238\ttotal: 1.19s\tremaining: 6.91s\n",
      "138:\tlearn: 5951053.7373576\ttotal: 1.2s\tremaining: 6.9s\n",
      "139:\tlearn: 5942841.1265422\ttotal: 1.2s\tremaining: 6.87s\n",
      "140:\tlearn: 5929845.6296248\ttotal: 1.21s\tremaining: 6.88s\n",
      "141:\tlearn: 5920448.9301824\ttotal: 1.22s\tremaining: 6.86s\n",
      "142:\tlearn: 5909811.1883206\ttotal: 1.23s\tremaining: 6.87s\n",
      "143:\tlearn: 5900194.2496472\ttotal: 1.24s\tremaining: 6.87s\n",
      "144:\tlearn: 5890466.4210868\ttotal: 1.25s\tremaining: 6.86s\n",
      "145:\tlearn: 5879495.5542621\ttotal: 1.26s\tremaining: 6.83s\n",
      "146:\tlearn: 5871859.0630769\ttotal: 1.27s\tremaining: 6.84s\n",
      "147:\tlearn: 5863203.8030080\ttotal: 1.28s\tremaining: 6.86s\n",
      "148:\tlearn: 5854962.2080817\ttotal: 1.29s\tremaining: 6.85s\n",
      "149:\tlearn: 5844776.6956198\ttotal: 1.3s\tremaining: 6.84s\n",
      "150:\tlearn: 5836089.2688262\ttotal: 1.31s\tremaining: 6.83s\n",
      "151:\tlearn: 5828520.1450617\ttotal: 1.32s\tremaining: 6.84s\n",
      "152:\tlearn: 5819250.0261148\ttotal: 1.33s\tremaining: 6.85s\n",
      "153:\tlearn: 5811931.7442345\ttotal: 1.34s\tremaining: 6.85s\n",
      "154:\tlearn: 5800409.0589934\ttotal: 1.36s\tremaining: 6.87s\n",
      "155:\tlearn: 5791030.0166856\ttotal: 1.37s\tremaining: 6.87s\n",
      "156:\tlearn: 5782021.8181963\ttotal: 1.38s\tremaining: 6.88s\n",
      "157:\tlearn: 5774585.9522452\ttotal: 1.39s\tremaining: 6.87s\n",
      "158:\tlearn: 5767173.7473987\ttotal: 1.4s\tremaining: 6.87s\n",
      "159:\tlearn: 5756268.7346490\ttotal: 1.41s\tremaining: 6.87s\n",
      "160:\tlearn: 5745529.0325524\ttotal: 1.42s\tremaining: 6.86s\n",
      "161:\tlearn: 5736830.6634861\ttotal: 1.43s\tremaining: 6.88s\n",
      "162:\tlearn: 5731477.8537506\ttotal: 1.55s\tremaining: 7.39s\n",
      "163:\tlearn: 5722635.3645244\ttotal: 1.58s\tremaining: 7.46s\n",
      "164:\tlearn: 5714106.1878859\ttotal: 1.58s\tremaining: 7.44s\n",
      "165:\tlearn: 5706269.7417585\ttotal: 1.59s\tremaining: 7.43s\n",
      "166:\tlearn: 5700591.3162007\ttotal: 1.6s\tremaining: 7.41s\n",
      "167:\tlearn: 5695089.1793575\ttotal: 1.61s\tremaining: 7.4s\n",
      "168:\tlearn: 5686994.3667443\ttotal: 1.62s\tremaining: 7.39s\n",
      "169:\tlearn: 5681275.0393704\ttotal: 1.62s\tremaining: 7.36s\n",
      "170:\tlearn: 5672172.7562645\ttotal: 1.63s\tremaining: 7.34s\n",
      "171:\tlearn: 5665937.9507979\ttotal: 1.64s\tremaining: 7.32s\n",
      "172:\tlearn: 5658013.5410324\ttotal: 1.64s\tremaining: 7.29s\n",
      "173:\tlearn: 5645704.8865436\ttotal: 1.65s\tremaining: 7.28s\n",
      "174:\tlearn: 5642384.9025168\ttotal: 1.66s\tremaining: 7.24s\n",
      "175:\tlearn: 5637191.0354852\ttotal: 1.66s\tremaining: 7.22s\n",
      "176:\tlearn: 5632085.8455659\ttotal: 1.67s\tremaining: 7.22s\n",
      "177:\tlearn: 5626563.8486050\ttotal: 1.68s\tremaining: 7.21s\n",
      "178:\tlearn: 5620189.3395136\ttotal: 1.69s\tremaining: 7.19s\n",
      "179:\tlearn: 5610602.1185351\ttotal: 1.7s\tremaining: 7.18s\n",
      "180:\tlearn: 5603982.4086149\ttotal: 1.71s\tremaining: 7.17s\n",
      "181:\tlearn: 5596021.3698203\ttotal: 1.72s\tremaining: 7.16s\n",
      "182:\tlearn: 5591361.9563202\ttotal: 1.73s\tremaining: 7.14s\n",
      "183:\tlearn: 5583883.2386217\ttotal: 1.74s\tremaining: 7.14s\n",
      "184:\tlearn: 5576262.6297588\ttotal: 1.75s\tremaining: 7.13s\n",
      "185:\tlearn: 5570827.6235869\ttotal: 1.76s\tremaining: 7.12s\n",
      "186:\tlearn: 5566106.4312567\ttotal: 1.77s\tremaining: 7.13s\n",
      "187:\tlearn: 5562078.6394423\ttotal: 1.78s\tremaining: 7.12s\n",
      "188:\tlearn: 5556114.6545825\ttotal: 1.8s\tremaining: 7.14s\n",
      "189:\tlearn: 5548560.3138626\ttotal: 1.81s\tremaining: 7.14s\n",
      "190:\tlearn: 5542768.2417107\ttotal: 1.82s\tremaining: 7.14s\n",
      "191:\tlearn: 5536948.9781820\ttotal: 1.83s\tremaining: 7.13s\n",
      "192:\tlearn: 5530570.8811147\ttotal: 1.84s\tremaining: 7.11s\n",
      "193:\tlearn: 5524775.5838386\ttotal: 1.85s\tremaining: 7.12s\n",
      "194:\tlearn: 5519544.0641029\ttotal: 1.87s\tremaining: 7.13s\n",
      "195:\tlearn: 5511905.9151236\ttotal: 1.87s\tremaining: 7.11s\n",
      "196:\tlearn: 5507663.4793438\ttotal: 1.88s\tremaining: 7.11s\n",
      "197:\tlearn: 5500752.1947318\ttotal: 1.89s\tremaining: 7.09s\n",
      "198:\tlearn: 5496141.1577107\ttotal: 1.91s\tremaining: 7.09s\n",
      "199:\tlearn: 5491175.9121033\ttotal: 1.92s\tremaining: 7.11s\n",
      "200:\tlearn: 5485838.3778502\ttotal: 1.94s\tremaining: 7.12s\n",
      "201:\tlearn: 5478583.8691089\ttotal: 1.95s\tremaining: 7.13s\n",
      "202:\tlearn: 5473207.1490533\ttotal: 1.96s\tremaining: 7.13s\n",
      "203:\tlearn: 5467130.3336691\ttotal: 1.97s\tremaining: 7.12s\n",
      "204:\tlearn: 5458824.1735019\ttotal: 1.99s\tremaining: 7.12s\n",
      "205:\tlearn: 5453383.7174544\ttotal: 2s\tremaining: 7.12s\n",
      "206:\tlearn: 5447279.0629898\ttotal: 2s\tremaining: 7.1s\n",
      "207:\tlearn: 5443607.4752025\ttotal: 2.02s\tremaining: 7.1s\n",
      "208:\tlearn: 5433567.5047529\ttotal: 2.03s\tremaining: 7.11s\n",
      "209:\tlearn: 5428194.3519162\ttotal: 2.04s\tremaining: 7.1s\n",
      "210:\tlearn: 5422904.3429109\ttotal: 2.05s\tremaining: 7.09s\n",
      "211:\tlearn: 5418259.5881442\ttotal: 2.06s\tremaining: 7.07s\n",
      "212:\tlearn: 5415245.2761953\ttotal: 2.07s\tremaining: 7.05s\n",
      "213:\tlearn: 5411010.3594847\ttotal: 2.08s\tremaining: 7.05s\n",
      "214:\tlearn: 5405883.1315956\ttotal: 2.09s\tremaining: 7.04s\n",
      "215:\tlearn: 5401807.1022172\ttotal: 2.1s\tremaining: 7.04s\n",
      "216:\tlearn: 5398116.6251112\ttotal: 2.11s\tremaining: 7.03s\n",
      "217:\tlearn: 5394440.8348469\ttotal: 2.12s\tremaining: 7.01s\n",
      "218:\tlearn: 5387619.3527993\ttotal: 2.13s\tremaining: 7.02s\n",
      "219:\tlearn: 5380773.5470902\ttotal: 2.13s\tremaining: 6.99s\n",
      "220:\tlearn: 5372247.2889886\ttotal: 2.15s\tremaining: 6.99s\n",
      "221:\tlearn: 5367453.0022699\ttotal: 2.16s\tremaining: 6.98s\n",
      "222:\tlearn: 5363089.1510793\ttotal: 2.17s\tremaining: 6.96s\n",
      "223:\tlearn: 5359404.1634721\ttotal: 2.18s\tremaining: 6.96s\n",
      "224:\tlearn: 5352979.4616041\ttotal: 2.19s\tremaining: 6.95s\n",
      "225:\tlearn: 5350266.9861555\ttotal: 2.19s\tremaining: 6.93s\n",
      "226:\tlearn: 5345511.0876624\ttotal: 2.21s\tremaining: 6.92s\n",
      "227:\tlearn: 5340515.7151485\ttotal: 2.21s\tremaining: 6.91s\n",
      "228:\tlearn: 5337084.9430494\ttotal: 2.22s\tremaining: 6.89s\n",
      "229:\tlearn: 5330565.9233636\ttotal: 2.23s\tremaining: 6.87s\n",
      "230:\tlearn: 5327150.3221002\ttotal: 2.23s\tremaining: 6.86s\n",
      "231:\tlearn: 5324889.6216972\ttotal: 2.24s\tremaining: 6.84s\n",
      "232:\tlearn: 5317666.2577248\ttotal: 2.25s\tremaining: 6.82s\n",
      "233:\tlearn: 5312530.2637598\ttotal: 2.26s\tremaining: 6.81s\n",
      "234:\tlearn: 5309748.4506874\ttotal: 2.27s\tremaining: 6.8s\n",
      "235:\tlearn: 5304400.8697074\ttotal: 2.28s\tremaining: 6.79s\n",
      "236:\tlearn: 5299163.5839015\ttotal: 2.29s\tremaining: 6.78s\n",
      "237:\tlearn: 5293766.8843873\ttotal: 2.29s\tremaining: 6.76s\n",
      "238:\tlearn: 5288578.2871351\ttotal: 2.3s\tremaining: 6.75s\n",
      "239:\tlearn: 5286150.6135911\ttotal: 2.32s\tremaining: 6.77s\n",
      "240:\tlearn: 5282802.7231755\ttotal: 2.33s\tremaining: 6.76s\n",
      "241:\tlearn: 5277545.2533382\ttotal: 2.34s\tremaining: 6.75s\n",
      "242:\tlearn: 5273722.9848900\ttotal: 2.35s\tremaining: 6.73s\n",
      "243:\tlearn: 5271045.2805739\ttotal: 2.36s\tremaining: 6.73s\n",
      "244:\tlearn: 5264875.0793328\ttotal: 2.37s\tremaining: 6.73s\n",
      "245:\tlearn: 5259733.0934005\ttotal: 2.39s\tremaining: 6.75s\n",
      "246:\tlearn: 5253103.2233940\ttotal: 2.41s\tremaining: 6.75s\n",
      "247:\tlearn: 5249592.2511804\ttotal: 2.42s\tremaining: 6.75s\n",
      "248:\tlearn: 5247759.1322031\ttotal: 2.43s\tremaining: 6.74s\n",
      "249:\tlearn: 5241119.1813578\ttotal: 2.44s\tremaining: 6.74s\n",
      "250:\tlearn: 5232160.4453901\ttotal: 2.46s\tremaining: 6.74s\n",
      "251:\tlearn: 5227403.4745035\ttotal: 2.46s\tremaining: 6.73s\n",
      "252:\tlearn: 5220624.0918253\ttotal: 2.47s\tremaining: 6.71s\n",
      "253:\tlearn: 5218365.5704683\ttotal: 2.48s\tremaining: 6.7s\n",
      "254:\tlearn: 5215638.8255485\ttotal: 2.49s\tremaining: 6.7s\n",
      "255:\tlearn: 5210657.8982467\ttotal: 2.5s\tremaining: 6.69s\n",
      "256:\tlearn: 5205650.8087067\ttotal: 2.51s\tremaining: 6.67s\n",
      "257:\tlearn: 5201674.3131025\ttotal: 2.52s\tremaining: 6.67s\n",
      "258:\tlearn: 5197604.1692765\ttotal: 2.53s\tremaining: 6.64s\n",
      "259:\tlearn: 5194644.9954112\ttotal: 2.54s\tremaining: 6.63s\n",
      "260:\tlearn: 5192240.2918067\ttotal: 2.55s\tremaining: 6.63s\n",
      "261:\tlearn: 5189838.2524001\ttotal: 2.55s\tremaining: 6.61s\n",
      "262:\tlearn: 5184558.5161070\ttotal: 2.56s\tremaining: 6.61s\n",
      "263:\tlearn: 5182147.9085107\ttotal: 2.57s\tremaining: 6.59s\n",
      "264:\tlearn: 5179112.3761046\ttotal: 2.58s\tremaining: 6.58s\n",
      "265:\tlearn: 5175834.0554840\ttotal: 2.59s\tremaining: 6.56s\n",
      "266:\tlearn: 5173941.1053706\ttotal: 2.6s\tremaining: 6.56s\n",
      "267:\tlearn: 5168628.7704325\ttotal: 2.61s\tremaining: 6.55s\n",
      "268:\tlearn: 5165823.4041522\ttotal: 2.62s\tremaining: 6.53s\n",
      "269:\tlearn: 5160674.1162598\ttotal: 2.63s\tremaining: 6.52s\n",
      "270:\tlearn: 5155497.3591307\ttotal: 2.63s\tremaining: 6.5s\n",
      "271:\tlearn: 5151142.7785482\ttotal: 2.64s\tremaining: 6.48s\n",
      "272:\tlearn: 5149045.1499986\ttotal: 2.65s\tremaining: 6.47s\n",
      "273:\tlearn: 5146294.7370672\ttotal: 2.66s\tremaining: 6.46s\n",
      "274:\tlearn: 5141446.6416313\ttotal: 2.67s\tremaining: 6.45s\n",
      "275:\tlearn: 5137434.9599815\ttotal: 2.67s\tremaining: 6.43s\n",
      "276:\tlearn: 5130081.1402966\ttotal: 2.68s\tremaining: 6.42s\n",
      "277:\tlearn: 5127212.7652760\ttotal: 2.69s\tremaining: 6.4s\n",
      "278:\tlearn: 5120422.0709928\ttotal: 2.7s\tremaining: 6.39s\n",
      "279:\tlearn: 5114304.2015350\ttotal: 2.7s\tremaining: 6.37s\n",
      "280:\tlearn: 5108833.7436761\ttotal: 2.71s\tremaining: 6.36s\n",
      "281:\tlearn: 5104987.3082038\ttotal: 2.72s\tremaining: 6.35s\n",
      "282:\tlearn: 5102825.1476837\ttotal: 2.73s\tremaining: 6.35s\n",
      "283:\tlearn: 5098590.1270104\ttotal: 2.75s\tremaining: 6.34s\n",
      "284:\tlearn: 5092594.2022066\ttotal: 2.75s\tremaining: 6.32s\n",
      "285:\tlearn: 5091718.3602751\ttotal: 2.75s\tremaining: 6.3s\n",
      "286:\tlearn: 5087970.7980922\ttotal: 2.76s\tremaining: 6.29s\n",
      "287:\tlearn: 5084740.6570509\ttotal: 2.77s\tremaining: 6.27s\n",
      "288:\tlearn: 5079286.5063359\ttotal: 2.78s\tremaining: 6.26s\n",
      "289:\tlearn: 5072284.0018286\ttotal: 2.79s\tremaining: 6.24s\n",
      "290:\tlearn: 5067097.3310055\ttotal: 2.79s\tremaining: 6.23s\n",
      "291:\tlearn: 5063285.8197223\ttotal: 2.8s\tremaining: 6.22s\n",
      "292:\tlearn: 5060612.0865673\ttotal: 2.81s\tremaining: 6.2s\n",
      "293:\tlearn: 5056927.0864052\ttotal: 2.81s\tremaining: 6.18s\n",
      "294:\tlearn: 5053655.8284751\ttotal: 2.82s\tremaining: 6.16s\n",
      "295:\tlearn: 5051198.1133096\ttotal: 2.83s\tremaining: 6.15s\n",
      "296:\tlearn: 5047389.9643682\ttotal: 2.84s\tremaining: 6.14s\n",
      "297:\tlearn: 5043831.2113020\ttotal: 2.85s\tremaining: 6.13s\n",
      "298:\tlearn: 5042205.4615614\ttotal: 2.85s\tremaining: 6.12s\n",
      "299:\tlearn: 5039683.7308087\ttotal: 2.86s\tremaining: 6.1s\n",
      "300:\tlearn: 5036586.7682631\ttotal: 2.87s\tremaining: 6.09s\n",
      "301:\tlearn: 5035052.4972644\ttotal: 2.88s\tremaining: 6.08s\n",
      "302:\tlearn: 5032893.5350865\ttotal: 2.89s\tremaining: 6.07s\n",
      "303:\tlearn: 5029539.3791338\ttotal: 2.9s\tremaining: 6.06s\n",
      "304:\tlearn: 5025722.0916740\ttotal: 2.91s\tremaining: 6.05s\n",
      "305:\tlearn: 5019997.5057454\ttotal: 2.92s\tremaining: 6.04s\n",
      "306:\tlearn: 5014072.6405282\ttotal: 2.92s\tremaining: 6.03s\n",
      "307:\tlearn: 5010838.5731102\ttotal: 2.93s\tremaining: 6.01s\n",
      "308:\tlearn: 5003293.7868385\ttotal: 2.94s\tremaining: 6s\n",
      "309:\tlearn: 4999358.2758093\ttotal: 2.95s\tremaining: 5.99s\n",
      "310:\tlearn: 4995091.0850437\ttotal: 2.96s\tremaining: 5.98s\n",
      "311:\tlearn: 4991800.6565486\ttotal: 2.97s\tremaining: 5.98s\n",
      "312:\tlearn: 4988239.0747630\ttotal: 2.98s\tremaining: 5.97s\n",
      "313:\tlearn: 4984220.8727993\ttotal: 3.02s\tremaining: 6.03s\n",
      "314:\tlearn: 4981936.3154274\ttotal: 3.05s\tremaining: 6.04s\n",
      "315:\tlearn: 4979661.0204244\ttotal: 3.06s\tremaining: 6.04s\n",
      "316:\tlearn: 4977164.0645073\ttotal: 3.06s\tremaining: 6.02s\n",
      "317:\tlearn: 4972790.4406694\ttotal: 3.07s\tremaining: 6.01s\n",
      "318:\tlearn: 4968128.4888160\ttotal: 3.09s\tremaining: 6.01s\n",
      "319:\tlearn: 4963364.7154115\ttotal: 3.1s\tremaining: 6.01s\n",
      "320:\tlearn: 4959581.6165688\ttotal: 3.11s\tremaining: 6s\n",
      "321:\tlearn: 4956718.7446572\ttotal: 3.12s\tremaining: 6s\n",
      "322:\tlearn: 4956501.7285779\ttotal: 3.13s\tremaining: 5.97s\n",
      "323:\tlearn: 4951741.4095984\ttotal: 3.13s\tremaining: 5.96s\n",
      "324:\tlearn: 4946643.8939200\ttotal: 3.14s\tremaining: 5.94s\n",
      "325:\tlearn: 4943034.6857477\ttotal: 3.16s\tremaining: 5.95s\n",
      "326:\tlearn: 4937391.3712338\ttotal: 3.17s\tremaining: 5.94s\n",
      "327:\tlearn: 4935582.0155913\ttotal: 3.17s\tremaining: 5.92s\n",
      "328:\tlearn: 4927193.6356704\ttotal: 3.18s\tremaining: 5.91s\n",
      "329:\tlearn: 4922691.8914128\ttotal: 3.19s\tremaining: 5.9s\n",
      "330:\tlearn: 4920751.5367622\ttotal: 3.21s\tremaining: 5.9s\n",
      "331:\tlearn: 4916820.8560905\ttotal: 3.21s\tremaining: 5.88s\n",
      "332:\tlearn: 4915060.8134895\ttotal: 3.22s\tremaining: 5.87s\n",
      "333:\tlearn: 4913241.9293933\ttotal: 3.23s\tremaining: 5.86s\n",
      "334:\tlearn: 4908097.0606632\ttotal: 3.24s\tremaining: 5.84s\n",
      "335:\tlearn: 4906235.5482591\ttotal: 3.24s\tremaining: 5.83s\n",
      "336:\tlearn: 4904174.1179835\ttotal: 3.25s\tremaining: 5.82s\n",
      "337:\tlearn: 4897214.9949153\ttotal: 3.26s\tremaining: 5.81s\n",
      "338:\tlearn: 4894036.1706439\ttotal: 3.27s\tremaining: 5.79s\n",
      "339:\tlearn: 4892279.4692656\ttotal: 3.27s\tremaining: 5.77s\n",
      "340:\tlearn: 4886207.3187828\ttotal: 3.29s\tremaining: 5.79s\n",
      "341:\tlearn: 4881745.2866654\ttotal: 3.3s\tremaining: 5.77s\n",
      "342:\tlearn: 4878509.2301718\ttotal: 3.31s\tremaining: 5.77s\n",
      "343:\tlearn: 4876551.1613598\ttotal: 3.32s\tremaining: 5.75s\n",
      "344:\tlearn: 4870663.6803440\ttotal: 3.33s\tremaining: 5.74s\n",
      "345:\tlearn: 4867969.0078026\ttotal: 3.34s\tremaining: 5.73s\n",
      "346:\tlearn: 4864315.5136325\ttotal: 3.35s\tremaining: 5.72s\n",
      "347:\tlearn: 4860817.7875211\ttotal: 3.35s\tremaining: 5.7s\n",
      "348:\tlearn: 4858616.4495501\ttotal: 3.36s\tremaining: 5.69s\n",
      "349:\tlearn: 4856005.7810094\ttotal: 3.37s\tremaining: 5.68s\n",
      "350:\tlearn: 4852421.6177495\ttotal: 3.38s\tremaining: 5.67s\n",
      "351:\tlearn: 4850140.8139614\ttotal: 3.38s\tremaining: 5.65s\n",
      "352:\tlearn: 4845998.1613101\ttotal: 3.39s\tremaining: 5.64s\n",
      "353:\tlearn: 4843004.2868919\ttotal: 3.4s\tremaining: 5.63s\n",
      "354:\tlearn: 4840218.7745368\ttotal: 3.41s\tremaining: 5.62s\n",
      "355:\tlearn: 4838056.5216824\ttotal: 3.42s\tremaining: 5.6s\n",
      "356:\tlearn: 4831850.9137495\ttotal: 3.43s\tremaining: 5.59s\n",
      "357:\tlearn: 4828098.3420820\ttotal: 3.43s\tremaining: 5.58s\n",
      "358:\tlearn: 4825191.9405812\ttotal: 3.44s\tremaining: 5.57s\n",
      "359:\tlearn: 4823141.1435361\ttotal: 3.46s\tremaining: 5.58s\n",
      "360:\tlearn: 4818954.2674770\ttotal: 3.47s\tremaining: 5.56s\n",
      "361:\tlearn: 4814949.5695062\ttotal: 3.48s\tremaining: 5.55s\n",
      "362:\tlearn: 4811898.8519178\ttotal: 3.48s\tremaining: 5.54s\n",
      "363:\tlearn: 4810068.6130421\ttotal: 3.49s\tremaining: 5.53s\n",
      "364:\tlearn: 4804941.2352100\ttotal: 3.5s\tremaining: 5.51s\n",
      "365:\tlearn: 4801061.4612573\ttotal: 3.51s\tremaining: 5.5s\n",
      "366:\tlearn: 4798338.6150180\ttotal: 3.52s\tremaining: 5.49s\n",
      "367:\tlearn: 4794801.0698685\ttotal: 3.52s\tremaining: 5.48s\n",
      "368:\tlearn: 4791029.2842125\ttotal: 3.53s\tremaining: 5.47s\n",
      "369:\tlearn: 4787523.4224293\ttotal: 3.54s\tremaining: 5.46s\n",
      "370:\tlearn: 4780199.8958227\ttotal: 3.56s\tremaining: 5.47s\n",
      "371:\tlearn: 4775836.7917641\ttotal: 3.58s\tremaining: 5.46s\n",
      "372:\tlearn: 4773005.0226714\ttotal: 3.58s\tremaining: 5.45s\n",
      "373:\tlearn: 4771927.2893682\ttotal: 3.59s\tremaining: 5.44s\n",
      "374:\tlearn: 4769983.9861201\ttotal: 3.6s\tremaining: 5.42s\n",
      "375:\tlearn: 4765763.0984653\ttotal: 3.61s\tremaining: 5.41s\n",
      "376:\tlearn: 4760316.9743064\ttotal: 3.62s\tremaining: 5.4s\n",
      "377:\tlearn: 4757987.7842645\ttotal: 3.63s\tremaining: 5.39s\n",
      "378:\tlearn: 4754175.3021789\ttotal: 3.63s\tremaining: 5.38s\n",
      "379:\tlearn: 4752017.7976854\ttotal: 3.64s\tremaining: 5.37s\n",
      "380:\tlearn: 4748658.4259176\ttotal: 3.65s\tremaining: 5.35s\n",
      "381:\tlearn: 4745768.4200943\ttotal: 3.66s\tremaining: 5.34s\n",
      "382:\tlearn: 4742582.1548756\ttotal: 3.67s\tremaining: 5.33s\n",
      "383:\tlearn: 4738626.8262730\ttotal: 3.67s\tremaining: 5.32s\n",
      "384:\tlearn: 4734642.1253634\ttotal: 3.68s\tremaining: 5.31s\n",
      "385:\tlearn: 4730860.9647594\ttotal: 3.69s\tremaining: 5.3s\n",
      "386:\tlearn: 4726918.2678235\ttotal: 3.7s\tremaining: 5.29s\n",
      "387:\tlearn: 4725150.5563124\ttotal: 3.71s\tremaining: 5.27s\n",
      "388:\tlearn: 4723529.5140714\ttotal: 3.71s\tremaining: 5.26s\n",
      "389:\tlearn: 4720696.6474330\ttotal: 3.72s\tremaining: 5.25s\n",
      "390:\tlearn: 4717265.4720404\ttotal: 3.73s\tremaining: 5.24s\n",
      "391:\tlearn: 4715661.0282643\ttotal: 3.74s\tremaining: 5.23s\n",
      "392:\tlearn: 4710683.3011932\ttotal: 3.74s\tremaining: 5.21s\n",
      "393:\tlearn: 4705566.9372138\ttotal: 3.75s\tremaining: 5.2s\n",
      "394:\tlearn: 4700985.3571057\ttotal: 3.76s\tremaining: 5.19s\n",
      "395:\tlearn: 4696884.7712260\ttotal: 3.77s\tremaining: 5.18s\n",
      "396:\tlearn: 4691848.3457573\ttotal: 3.78s\tremaining: 5.16s\n",
      "397:\tlearn: 4689247.5189701\ttotal: 3.79s\tremaining: 5.16s\n",
      "398:\tlearn: 4682590.9356351\ttotal: 3.8s\tremaining: 5.15s\n",
      "399:\tlearn: 4679165.4164532\ttotal: 3.81s\tremaining: 5.14s\n",
      "400:\tlearn: 4674278.3540820\ttotal: 3.82s\tremaining: 5.13s\n",
      "401:\tlearn: 4672612.6198666\ttotal: 3.83s\tremaining: 5.12s\n",
      "402:\tlearn: 4671280.7270940\ttotal: 3.84s\tremaining: 5.11s\n",
      "403:\tlearn: 4668889.1350202\ttotal: 3.84s\tremaining: 5.1s\n",
      "404:\tlearn: 4668809.1742472\ttotal: 3.85s\tremaining: 5.08s\n",
      "405:\tlearn: 4665462.7030429\ttotal: 3.85s\tremaining: 5.07s\n",
      "406:\tlearn: 4662883.9893624\ttotal: 3.86s\tremaining: 5.06s\n",
      "407:\tlearn: 4659923.3401438\ttotal: 3.87s\tremaining: 5.05s\n",
      "408:\tlearn: 4657196.2185354\ttotal: 3.88s\tremaining: 5.04s\n",
      "409:\tlearn: 4652917.3700569\ttotal: 3.89s\tremaining: 5.03s\n",
      "410:\tlearn: 4649752.8230855\ttotal: 3.9s\tremaining: 5.02s\n",
      "411:\tlearn: 4648995.2777698\ttotal: 3.91s\tremaining: 5.01s\n",
      "412:\tlearn: 4646815.6178963\ttotal: 3.92s\tremaining: 5s\n",
      "413:\tlearn: 4643444.5665439\ttotal: 3.93s\tremaining: 4.99s\n",
      "414:\tlearn: 4638632.2016571\ttotal: 3.94s\tremaining: 4.98s\n",
      "415:\tlearn: 4638128.6478993\ttotal: 3.94s\tremaining: 4.96s\n",
      "416:\tlearn: 4633038.5940222\ttotal: 3.95s\tremaining: 4.95s\n",
      "417:\tlearn: 4628996.8702238\ttotal: 3.96s\tremaining: 4.94s\n",
      "418:\tlearn: 4627241.1755356\ttotal: 3.97s\tremaining: 4.93s\n",
      "419:\tlearn: 4623706.2502201\ttotal: 3.98s\tremaining: 4.92s\n",
      "420:\tlearn: 4621215.4046896\ttotal: 3.98s\tremaining: 4.91s\n",
      "421:\tlearn: 4618851.1354624\ttotal: 3.99s\tremaining: 4.9s\n",
      "422:\tlearn: 4616756.8469422\ttotal: 4s\tremaining: 4.89s\n",
      "423:\tlearn: 4613892.9544309\ttotal: 4.01s\tremaining: 4.88s\n",
      "424:\tlearn: 4611753.4467288\ttotal: 4.02s\tremaining: 4.87s\n",
      "425:\tlearn: 4607431.6360508\ttotal: 4.03s\tremaining: 4.86s\n",
      "426:\tlearn: 4605970.2741067\ttotal: 4.04s\tremaining: 4.85s\n",
      "427:\tlearn: 4604393.0889415\ttotal: 4.05s\tremaining: 4.84s\n",
      "428:\tlearn: 4602619.9401431\ttotal: 4.05s\tremaining: 4.83s\n",
      "429:\tlearn: 4600757.6279271\ttotal: 4.07s\tremaining: 4.83s\n",
      "430:\tlearn: 4597116.8100085\ttotal: 4.08s\tremaining: 4.82s\n",
      "431:\tlearn: 4591480.5852256\ttotal: 4.09s\tremaining: 4.81s\n",
      "432:\tlearn: 4589412.1830743\ttotal: 4.11s\tremaining: 4.81s\n",
      "433:\tlearn: 4585717.7049791\ttotal: 4.12s\tremaining: 4.8s\n",
      "434:\tlearn: 4583483.3955912\ttotal: 4.13s\tremaining: 4.8s\n",
      "435:\tlearn: 4578930.8904010\ttotal: 4.14s\tremaining: 4.79s\n",
      "436:\tlearn: 4574568.7002003\ttotal: 4.16s\tremaining: 4.78s\n",
      "437:\tlearn: 4571563.0414069\ttotal: 4.17s\tremaining: 4.78s\n",
      "438:\tlearn: 4568193.9444236\ttotal: 4.18s\tremaining: 4.77s\n",
      "439:\tlearn: 4565074.1551996\ttotal: 4.2s\tremaining: 4.78s\n",
      "440:\tlearn: 4560821.0436169\ttotal: 4.24s\tremaining: 4.8s\n",
      "441:\tlearn: 4558543.7194117\ttotal: 4.26s\tremaining: 4.8s\n",
      "442:\tlearn: 4555091.2132840\ttotal: 4.28s\tremaining: 4.8s\n",
      "443:\tlearn: 4552669.4153008\ttotal: 4.3s\tremaining: 4.8s\n",
      "444:\tlearn: 4548678.5676923\ttotal: 4.31s\tremaining: 4.79s\n",
      "445:\tlearn: 4541986.8427288\ttotal: 4.32s\tremaining: 4.79s\n",
      "446:\tlearn: 4540546.7321838\ttotal: 4.33s\tremaining: 4.78s\n",
      "447:\tlearn: 4537279.9970262\ttotal: 4.34s\tremaining: 4.77s\n",
      "448:\tlearn: 4533786.6981794\ttotal: 4.35s\tremaining: 4.76s\n",
      "449:\tlearn: 4531506.9781065\ttotal: 4.36s\tremaining: 4.75s\n",
      "450:\tlearn: 4529565.1576862\ttotal: 4.37s\tremaining: 4.74s\n",
      "451:\tlearn: 4526267.3524107\ttotal: 4.38s\tremaining: 4.73s\n",
      "452:\tlearn: 4522825.9088329\ttotal: 4.39s\tremaining: 4.72s\n",
      "453:\tlearn: 4519756.2120663\ttotal: 4.4s\tremaining: 4.71s\n",
      "454:\tlearn: 4519438.7215305\ttotal: 4.4s\tremaining: 4.69s\n",
      "455:\tlearn: 4517473.9258290\ttotal: 4.41s\tremaining: 4.68s\n",
      "456:\tlearn: 4513673.6294742\ttotal: 4.42s\tremaining: 4.67s\n",
      "457:\tlearn: 4511542.0413153\ttotal: 4.43s\tremaining: 4.66s\n",
      "458:\tlearn: 4508396.2927448\ttotal: 4.44s\tremaining: 4.65s\n",
      "459:\tlearn: 4506627.6233044\ttotal: 4.45s\tremaining: 4.64s\n",
      "460:\tlearn: 4502503.4744597\ttotal: 4.46s\tremaining: 4.63s\n",
      "461:\tlearn: 4501599.6932782\ttotal: 4.47s\tremaining: 4.62s\n",
      "462:\tlearn: 4497298.3694721\ttotal: 4.47s\tremaining: 4.61s\n",
      "463:\tlearn: 4494709.9258196\ttotal: 4.48s\tremaining: 4.6s\n",
      "464:\tlearn: 4492262.4155932\ttotal: 4.49s\tremaining: 4.59s\n",
      "465:\tlearn: 4491464.0378975\ttotal: 4.5s\tremaining: 4.58s\n",
      "466:\tlearn: 4490181.4191191\ttotal: 4.51s\tremaining: 4.56s\n",
      "467:\tlearn: 4488904.5817657\ttotal: 4.51s\tremaining: 4.55s\n",
      "468:\tlearn: 4487875.7157770\ttotal: 4.52s\tremaining: 4.54s\n",
      "469:\tlearn: 4486096.8341933\ttotal: 4.52s\tremaining: 4.52s\n",
      "470:\tlearn: 4484195.6763991\ttotal: 4.53s\tremaining: 4.51s\n",
      "471:\tlearn: 4479041.7176000\ttotal: 4.54s\tremaining: 4.5s\n",
      "472:\tlearn: 4474125.0471315\ttotal: 4.54s\tremaining: 4.49s\n",
      "473:\tlearn: 4470463.1826741\ttotal: 4.55s\tremaining: 4.48s\n",
      "474:\tlearn: 4467949.4631354\ttotal: 4.56s\tremaining: 4.47s\n",
      "475:\tlearn: 4464829.6528320\ttotal: 4.57s\tremaining: 4.46s\n",
      "476:\tlearn: 4460806.2551966\ttotal: 4.58s\tremaining: 4.44s\n",
      "477:\tlearn: 4457370.8758080\ttotal: 4.59s\tremaining: 4.43s\n",
      "478:\tlearn: 4453741.3677027\ttotal: 4.59s\tremaining: 4.42s\n",
      "479:\tlearn: 4449757.9467020\ttotal: 4.6s\tremaining: 4.41s\n",
      "480:\tlearn: 4449587.2498384\ttotal: 4.61s\tremaining: 4.4s\n",
      "481:\tlearn: 4447309.2918196\ttotal: 4.62s\tremaining: 4.39s\n",
      "482:\tlearn: 4445236.8255675\ttotal: 4.63s\tremaining: 4.38s\n",
      "483:\tlearn: 4441148.5250914\ttotal: 4.63s\tremaining: 4.36s\n",
      "484:\tlearn: 4437139.7641642\ttotal: 4.64s\tremaining: 4.35s\n",
      "485:\tlearn: 4433859.9413048\ttotal: 4.65s\tremaining: 4.34s\n",
      "486:\tlearn: 4430501.7791645\ttotal: 4.66s\tremaining: 4.33s\n",
      "487:\tlearn: 4426732.0444782\ttotal: 4.67s\tremaining: 4.32s\n",
      "488:\tlearn: 4426731.8246107\ttotal: 4.67s\tremaining: 4.3s\n",
      "489:\tlearn: 4424676.0785687\ttotal: 4.67s\tremaining: 4.29s\n",
      "490:\tlearn: 4422942.2620701\ttotal: 4.68s\tremaining: 4.28s\n",
      "491:\tlearn: 4419608.1743361\ttotal: 4.69s\tremaining: 4.27s\n",
      "492:\tlearn: 4419102.2036454\ttotal: 4.69s\tremaining: 4.25s\n",
      "493:\tlearn: 4415032.7674840\ttotal: 4.7s\tremaining: 4.24s\n",
      "494:\tlearn: 4412756.8868678\ttotal: 4.71s\tremaining: 4.23s\n",
      "495:\tlearn: 4411022.8874366\ttotal: 4.71s\tremaining: 4.22s\n",
      "496:\tlearn: 4408306.7725086\ttotal: 4.72s\tremaining: 4.21s\n",
      "497:\tlearn: 4406590.8159829\ttotal: 4.73s\tremaining: 4.2s\n",
      "498:\tlearn: 4405221.1282633\ttotal: 4.74s\tremaining: 4.19s\n",
      "499:\tlearn: 4404036.6005139\ttotal: 4.75s\tremaining: 4.18s\n",
      "500:\tlearn: 4401303.5083801\ttotal: 4.76s\tremaining: 4.17s\n",
      "501:\tlearn: 4398871.7636593\ttotal: 4.77s\tremaining: 4.16s\n",
      "502:\tlearn: 4396238.0469970\ttotal: 4.78s\tremaining: 4.15s\n",
      "503:\tlearn: 4391101.3898162\ttotal: 4.79s\tremaining: 4.14s\n",
      "504:\tlearn: 4388738.5288838\ttotal: 4.79s\tremaining: 4.13s\n",
      "505:\tlearn: 4385764.6865971\ttotal: 4.8s\tremaining: 4.12s\n",
      "506:\tlearn: 4382032.5300625\ttotal: 4.81s\tremaining: 4.11s\n",
      "507:\tlearn: 4379677.1621823\ttotal: 4.82s\tremaining: 4.1s\n",
      "508:\tlearn: 4378032.7881448\ttotal: 4.83s\tremaining: 4.09s\n",
      "509:\tlearn: 4376454.5232794\ttotal: 4.84s\tremaining: 4.08s\n",
      "510:\tlearn: 4373254.0590699\ttotal: 4.85s\tremaining: 4.07s\n",
      "511:\tlearn: 4371300.8860901\ttotal: 4.86s\tremaining: 4.06s\n",
      "512:\tlearn: 4367957.3399248\ttotal: 4.88s\tremaining: 4.06s\n",
      "513:\tlearn: 4366219.5114792\ttotal: 4.89s\tremaining: 4.05s\n",
      "514:\tlearn: 4362211.4079594\ttotal: 4.91s\tremaining: 4.05s\n",
      "515:\tlearn: 4358868.9215074\ttotal: 4.92s\tremaining: 4.04s\n",
      "516:\tlearn: 4354334.6385638\ttotal: 4.94s\tremaining: 4.04s\n",
      "517:\tlearn: 4350497.5494983\ttotal: 4.96s\tremaining: 4.04s\n",
      "518:\tlearn: 4346719.9112798\ttotal: 4.99s\tremaining: 4.04s\n",
      "519:\tlearn: 4345476.9421920\ttotal: 5s\tremaining: 4.03s\n",
      "520:\tlearn: 4341702.7446079\ttotal: 5.01s\tremaining: 4.03s\n",
      "521:\tlearn: 4338323.0282903\ttotal: 5.02s\tremaining: 4.02s\n",
      "522:\tlearn: 4337542.1174388\ttotal: 5.03s\tremaining: 4.01s\n",
      "523:\tlearn: 4334526.1040190\ttotal: 5.04s\tremaining: 4s\n",
      "524:\tlearn: 4332587.1044313\ttotal: 5.05s\tremaining: 3.99s\n",
      "525:\tlearn: 4329443.4490556\ttotal: 5.07s\tremaining: 3.99s\n",
      "526:\tlearn: 4326310.2958332\ttotal: 5.08s\tremaining: 3.98s\n",
      "527:\tlearn: 4324227.8348306\ttotal: 5.09s\tremaining: 3.97s\n",
      "528:\tlearn: 4322661.3680490\ttotal: 5.1s\tremaining: 3.96s\n",
      "529:\tlearn: 4319752.5940881\ttotal: 5.1s\tremaining: 3.95s\n",
      "530:\tlearn: 4316812.4400528\ttotal: 5.11s\tremaining: 3.94s\n",
      "531:\tlearn: 4314217.2226067\ttotal: 5.12s\tremaining: 3.93s\n",
      "532:\tlearn: 4310511.4037304\ttotal: 5.13s\tremaining: 3.91s\n",
      "533:\tlearn: 4307613.4713735\ttotal: 5.14s\tremaining: 3.9s\n",
      "534:\tlearn: 4304740.2725854\ttotal: 5.14s\tremaining: 3.89s\n",
      "535:\tlearn: 4300759.2180611\ttotal: 5.15s\tremaining: 3.88s\n",
      "536:\tlearn: 4298627.1181566\ttotal: 5.16s\tremaining: 3.87s\n",
      "537:\tlearn: 4295695.3793847\ttotal: 5.17s\tremaining: 3.86s\n",
      "538:\tlearn: 4293739.5951602\ttotal: 5.17s\tremaining: 3.85s\n",
      "539:\tlearn: 4292168.4272196\ttotal: 5.18s\tremaining: 3.84s\n",
      "540:\tlearn: 4287491.2765757\ttotal: 5.2s\tremaining: 3.83s\n",
      "541:\tlearn: 4285418.7490476\ttotal: 5.2s\tremaining: 3.82s\n",
      "542:\tlearn: 4283371.5402799\ttotal: 5.21s\tremaining: 3.81s\n",
      "543:\tlearn: 4280900.9655929\ttotal: 5.22s\tremaining: 3.8s\n",
      "544:\tlearn: 4279686.3172366\ttotal: 5.23s\tremaining: 3.79s\n",
      "545:\tlearn: 4277347.3959658\ttotal: 5.23s\tremaining: 3.78s\n",
      "546:\tlearn: 4274227.3074349\ttotal: 5.24s\tremaining: 3.77s\n",
      "547:\tlearn: 4270592.3870057\ttotal: 5.25s\tremaining: 3.75s\n",
      "548:\tlearn: 4267500.2446784\ttotal: 5.26s\tremaining: 3.75s\n",
      "549:\tlearn: 4263938.4849071\ttotal: 5.27s\tremaining: 3.73s\n",
      "550:\tlearn: 4261330.8169163\ttotal: 5.27s\tremaining: 3.72s\n",
      "551:\tlearn: 4256981.5510145\ttotal: 5.28s\tremaining: 3.71s\n",
      "552:\tlearn: 4253845.1471383\ttotal: 5.29s\tremaining: 3.7s\n",
      "553:\tlearn: 4249405.7269289\ttotal: 5.3s\tremaining: 3.69s\n",
      "554:\tlearn: 4243687.6276425\ttotal: 5.3s\tremaining: 3.68s\n",
      "555:\tlearn: 4242441.1425798\ttotal: 5.31s\tremaining: 3.67s\n",
      "556:\tlearn: 4239141.6208599\ttotal: 5.32s\tremaining: 3.66s\n",
      "557:\tlearn: 4237198.6447094\ttotal: 5.33s\tremaining: 3.65s\n",
      "558:\tlearn: 4234526.8487592\ttotal: 5.33s\tremaining: 3.63s\n",
      "559:\tlearn: 4233373.9388896\ttotal: 5.34s\tremaining: 3.62s\n",
      "560:\tlearn: 4230883.0352346\ttotal: 5.35s\tremaining: 3.61s\n",
      "561:\tlearn: 4228742.7242757\ttotal: 5.36s\tremaining: 3.6s\n",
      "562:\tlearn: 4226570.5727668\ttotal: 5.36s\tremaining: 3.59s\n",
      "563:\tlearn: 4223642.8373590\ttotal: 5.37s\tremaining: 3.58s\n",
      "564:\tlearn: 4222140.9757487\ttotal: 5.38s\tremaining: 3.57s\n",
      "565:\tlearn: 4219274.3246825\ttotal: 5.38s\tremaining: 3.56s\n",
      "566:\tlearn: 4216263.1928956\ttotal: 5.39s\tremaining: 3.55s\n",
      "567:\tlearn: 4214393.8024949\ttotal: 5.4s\tremaining: 3.54s\n",
      "568:\tlearn: 4212228.5226241\ttotal: 5.41s\tremaining: 3.53s\n",
      "569:\tlearn: 4208108.6752402\ttotal: 5.42s\tremaining: 3.52s\n",
      "570:\tlearn: 4205529.7629025\ttotal: 5.43s\tremaining: 3.51s\n",
      "571:\tlearn: 4202987.4110521\ttotal: 5.44s\tremaining: 3.5s\n",
      "572:\tlearn: 4200899.5854794\ttotal: 5.44s\tremaining: 3.49s\n",
      "573:\tlearn: 4199346.3233454\ttotal: 5.45s\tremaining: 3.48s\n",
      "574:\tlearn: 4194586.1830059\ttotal: 5.46s\tremaining: 3.46s\n",
      "575:\tlearn: 4193306.4883064\ttotal: 5.47s\tremaining: 3.46s\n",
      "576:\tlearn: 4187709.6679484\ttotal: 5.48s\tremaining: 3.44s\n",
      "577:\tlearn: 4183945.0779704\ttotal: 5.48s\tremaining: 3.43s\n",
      "578:\tlearn: 4181783.9331790\ttotal: 5.49s\tremaining: 3.42s\n",
      "579:\tlearn: 4179600.8521338\ttotal: 5.5s\tremaining: 3.41s\n",
      "580:\tlearn: 4178269.4195946\ttotal: 5.5s\tremaining: 3.4s\n",
      "581:\tlearn: 4174924.6370909\ttotal: 5.51s\tremaining: 3.39s\n",
      "582:\tlearn: 4172239.2222431\ttotal: 5.52s\tremaining: 3.38s\n",
      "583:\tlearn: 4169464.1460357\ttotal: 5.53s\tremaining: 3.37s\n",
      "584:\tlearn: 4163447.1958820\ttotal: 5.54s\tremaining: 3.36s\n",
      "585:\tlearn: 4159389.1974436\ttotal: 5.54s\tremaining: 3.35s\n",
      "586:\tlearn: 4157476.9855915\ttotal: 5.55s\tremaining: 3.34s\n",
      "587:\tlearn: 4154066.9959478\ttotal: 5.56s\tremaining: 3.33s\n",
      "588:\tlearn: 4152026.5970761\ttotal: 5.56s\tremaining: 3.32s\n",
      "589:\tlearn: 4149647.4233983\ttotal: 5.57s\tremaining: 3.3s\n",
      "590:\tlearn: 4148381.1817381\ttotal: 5.58s\tremaining: 3.29s\n",
      "591:\tlearn: 4144168.3680098\ttotal: 5.59s\tremaining: 3.28s\n",
      "592:\tlearn: 4141907.6394615\ttotal: 5.59s\tremaining: 3.27s\n",
      "593:\tlearn: 4139748.1683915\ttotal: 5.6s\tremaining: 3.26s\n",
      "594:\tlearn: 4137008.2934098\ttotal: 5.61s\tremaining: 3.25s\n",
      "595:\tlearn: 4132888.5054245\ttotal: 5.62s\tremaining: 3.24s\n",
      "596:\tlearn: 4128327.2145813\ttotal: 5.62s\tremaining: 3.23s\n",
      "597:\tlearn: 4126090.4654839\ttotal: 5.63s\tremaining: 3.22s\n",
      "598:\tlearn: 4124005.9718696\ttotal: 5.64s\tremaining: 3.21s\n",
      "599:\tlearn: 4121274.1785541\ttotal: 5.65s\tremaining: 3.2s\n",
      "600:\tlearn: 4119563.7623780\ttotal: 5.65s\tremaining: 3.19s\n",
      "601:\tlearn: 4115800.9193983\ttotal: 5.66s\tremaining: 3.18s\n",
      "602:\tlearn: 4115004.7771569\ttotal: 5.67s\tremaining: 3.17s\n",
      "603:\tlearn: 4113336.2402425\ttotal: 5.68s\tremaining: 3.16s\n",
      "604:\tlearn: 4111953.4415796\ttotal: 5.68s\tremaining: 3.15s\n",
      "605:\tlearn: 4109506.9682395\ttotal: 5.69s\tremaining: 3.14s\n",
      "606:\tlearn: 4106725.8961169\ttotal: 5.7s\tremaining: 3.13s\n",
      "607:\tlearn: 4102277.9035472\ttotal: 5.7s\tremaining: 3.12s\n",
      "608:\tlearn: 4099133.8573710\ttotal: 5.71s\tremaining: 3.1s\n",
      "609:\tlearn: 4096529.3251352\ttotal: 5.72s\tremaining: 3.09s\n",
      "610:\tlearn: 4094081.1895988\ttotal: 5.72s\tremaining: 3.08s\n",
      "611:\tlearn: 4091554.6368525\ttotal: 5.73s\tremaining: 3.07s\n",
      "612:\tlearn: 4090172.0710907\ttotal: 5.74s\tremaining: 3.06s\n",
      "613:\tlearn: 4087022.2799544\ttotal: 5.75s\tremaining: 3.05s\n",
      "614:\tlearn: 4083686.9412383\ttotal: 5.76s\tremaining: 3.04s\n",
      "615:\tlearn: 4081561.1736177\ttotal: 5.77s\tremaining: 3.04s\n",
      "616:\tlearn: 4079825.1612182\ttotal: 5.78s\tremaining: 3.03s\n",
      "617:\tlearn: 4077063.8848785\ttotal: 5.79s\tremaining: 3.02s\n",
      "618:\tlearn: 4074251.9895362\ttotal: 5.8s\tremaining: 3.01s\n",
      "619:\tlearn: 4072303.5198621\ttotal: 5.81s\tremaining: 3s\n",
      "620:\tlearn: 4070506.7211643\ttotal: 5.82s\tremaining: 2.99s\n",
      "621:\tlearn: 4065639.0169941\ttotal: 5.82s\tremaining: 2.98s\n",
      "622:\tlearn: 4063729.5753768\ttotal: 5.83s\tremaining: 2.97s\n",
      "623:\tlearn: 4062327.8941769\ttotal: 5.84s\tremaining: 2.96s\n",
      "624:\tlearn: 4060142.0812998\ttotal: 5.85s\tremaining: 2.95s\n",
      "625:\tlearn: 4056949.4531416\ttotal: 5.86s\tremaining: 2.94s\n",
      "626:\tlearn: 4055218.8569627\ttotal: 5.86s\tremaining: 2.93s\n",
      "627:\tlearn: 4053773.8247212\ttotal: 5.87s\tremaining: 2.92s\n",
      "628:\tlearn: 4051773.6171665\ttotal: 5.88s\tremaining: 2.91s\n",
      "629:\tlearn: 4049911.3774558\ttotal: 5.89s\tremaining: 2.9s\n",
      "630:\tlearn: 4047014.6975981\ttotal: 5.9s\tremaining: 2.89s\n",
      "631:\tlearn: 4044448.3273249\ttotal: 5.9s\tremaining: 2.88s\n",
      "632:\tlearn: 4042543.8168360\ttotal: 5.91s\tremaining: 2.87s\n",
      "633:\tlearn: 4039580.2514281\ttotal: 5.92s\tremaining: 2.86s\n",
      "634:\tlearn: 4038202.6635692\ttotal: 5.93s\tremaining: 2.85s\n",
      "635:\tlearn: 4035721.5250007\ttotal: 5.93s\tremaining: 2.84s\n",
      "636:\tlearn: 4033828.7702108\ttotal: 5.94s\tremaining: 2.83s\n",
      "637:\tlearn: 4032343.1630419\ttotal: 5.95s\tremaining: 2.82s\n",
      "638:\tlearn: 4029293.8384337\ttotal: 5.96s\tremaining: 2.81s\n",
      "639:\tlearn: 4027174.3788356\ttotal: 5.97s\tremaining: 2.8s\n",
      "640:\tlearn: 4025754.8570191\ttotal: 5.98s\tremaining: 2.79s\n",
      "641:\tlearn: 4024223.3906597\ttotal: 5.98s\tremaining: 2.78s\n",
      "642:\tlearn: 4022396.0145311\ttotal: 6s\tremaining: 2.77s\n",
      "643:\tlearn: 4022336.0285189\ttotal: 6s\tremaining: 2.76s\n",
      "644:\tlearn: 4020481.0780937\ttotal: 6s\tremaining: 2.75s\n",
      "645:\tlearn: 4016877.4332792\ttotal: 6.01s\tremaining: 2.74s\n",
      "646:\tlearn: 4014491.0535241\ttotal: 6.02s\tremaining: 2.73s\n",
      "647:\tlearn: 4011110.0338923\ttotal: 6.03s\tremaining: 2.72s\n",
      "648:\tlearn: 4009759.8291176\ttotal: 6.04s\tremaining: 2.71s\n",
      "649:\tlearn: 4006838.3879707\ttotal: 6.04s\tremaining: 2.69s\n",
      "650:\tlearn: 4003098.2512540\ttotal: 6.05s\tremaining: 2.69s\n",
      "651:\tlearn: 4001360.5862833\ttotal: 6.06s\tremaining: 2.67s\n",
      "652:\tlearn: 3998833.3615942\ttotal: 6.06s\tremaining: 2.66s\n",
      "653:\tlearn: 3996784.2586576\ttotal: 6.07s\tremaining: 2.65s\n",
      "654:\tlearn: 3994575.0218336\ttotal: 6.08s\tremaining: 2.64s\n",
      "655:\tlearn: 3992546.9962587\ttotal: 6.08s\tremaining: 2.63s\n",
      "656:\tlearn: 3989155.0185478\ttotal: 6.09s\tremaining: 2.62s\n",
      "657:\tlearn: 3987868.6487383\ttotal: 6.1s\tremaining: 2.61s\n",
      "658:\tlearn: 3986188.8799618\ttotal: 6.1s\tremaining: 2.6s\n",
      "659:\tlearn: 3984175.2950239\ttotal: 6.11s\tremaining: 2.59s\n",
      "660:\tlearn: 3982301.3832031\ttotal: 6.12s\tremaining: 2.58s\n",
      "661:\tlearn: 3979512.9407033\ttotal: 6.13s\tremaining: 2.57s\n",
      "662:\tlearn: 3977834.6570966\ttotal: 6.13s\tremaining: 2.56s\n",
      "663:\tlearn: 3975151.1571564\ttotal: 6.14s\tremaining: 2.55s\n",
      "664:\tlearn: 3973065.9784966\ttotal: 6.15s\tremaining: 2.54s\n",
      "665:\tlearn: 3971245.6938801\ttotal: 6.16s\tremaining: 2.53s\n",
      "666:\tlearn: 3970597.1354000\ttotal: 6.16s\tremaining: 2.52s\n",
      "667:\tlearn: 3967161.2753843\ttotal: 6.17s\tremaining: 2.51s\n",
      "668:\tlearn: 3962929.7017482\ttotal: 6.18s\tremaining: 2.5s\n",
      "669:\tlearn: 3960142.5033105\ttotal: 6.19s\tremaining: 2.49s\n",
      "670:\tlearn: 3957336.9387507\ttotal: 6.2s\tremaining: 2.48s\n",
      "671:\tlearn: 3955366.4457207\ttotal: 6.2s\tremaining: 2.47s\n",
      "672:\tlearn: 3953405.1216866\ttotal: 6.21s\tremaining: 2.46s\n",
      "673:\tlearn: 3951459.7515426\ttotal: 6.22s\tremaining: 2.45s\n",
      "674:\tlearn: 3949014.6582983\ttotal: 6.22s\tremaining: 2.44s\n",
      "675:\tlearn: 3948006.9484797\ttotal: 6.23s\tremaining: 2.43s\n",
      "676:\tlearn: 3943677.0168923\ttotal: 6.24s\tremaining: 2.42s\n",
      "677:\tlearn: 3942149.7592513\ttotal: 6.25s\tremaining: 2.42s\n",
      "678:\tlearn: 3940188.1502120\ttotal: 6.26s\tremaining: 2.4s\n",
      "679:\tlearn: 3938780.0487695\ttotal: 6.27s\tremaining: 2.4s\n",
      "680:\tlearn: 3936786.7143503\ttotal: 6.27s\tremaining: 2.38s\n",
      "681:\tlearn: 3934809.9482825\ttotal: 6.28s\tremaining: 2.38s\n",
      "682:\tlearn: 3933265.2604887\ttotal: 6.29s\tremaining: 2.37s\n",
      "683:\tlearn: 3929706.4545814\ttotal: 6.29s\tremaining: 2.36s\n",
      "684:\tlearn: 3927887.5590629\ttotal: 6.3s\tremaining: 2.35s\n",
      "685:\tlearn: 3926646.3144041\ttotal: 6.31s\tremaining: 2.33s\n",
      "686:\tlearn: 3924917.6085836\ttotal: 6.31s\tremaining: 2.33s\n",
      "687:\tlearn: 3922007.3400325\ttotal: 6.32s\tremaining: 2.31s\n",
      "688:\tlearn: 3920025.6147926\ttotal: 6.33s\tremaining: 2.31s\n",
      "689:\tlearn: 3917147.9755699\ttotal: 6.34s\tremaining: 2.29s\n",
      "690:\tlearn: 3914795.7494807\ttotal: 6.34s\tremaining: 2.29s\n",
      "691:\tlearn: 3912266.7901400\ttotal: 6.36s\tremaining: 2.28s\n",
      "692:\tlearn: 3910699.2667619\ttotal: 6.37s\tremaining: 2.27s\n",
      "693:\tlearn: 3908065.5610959\ttotal: 6.37s\tremaining: 2.26s\n",
      "694:\tlearn: 3904361.1301202\ttotal: 6.38s\tremaining: 2.25s\n",
      "695:\tlearn: 3902729.3756688\ttotal: 6.39s\tremaining: 2.24s\n",
      "696:\tlearn: 3899703.6499775\ttotal: 6.4s\tremaining: 2.23s\n",
      "697:\tlearn: 3897129.3269980\ttotal: 6.4s\tremaining: 2.22s\n",
      "698:\tlearn: 3894975.9637335\ttotal: 6.41s\tremaining: 2.21s\n",
      "699:\tlearn: 3894071.3875954\ttotal: 6.42s\tremaining: 2.2s\n",
      "700:\tlearn: 3890398.7003959\ttotal: 6.42s\tremaining: 2.19s\n",
      "701:\tlearn: 3888805.1899996\ttotal: 6.43s\tremaining: 2.18s\n",
      "702:\tlearn: 3887191.8498414\ttotal: 6.44s\tremaining: 2.17s\n",
      "703:\tlearn: 3884898.3240409\ttotal: 6.45s\tremaining: 2.16s\n",
      "704:\tlearn: 3882129.1308499\ttotal: 6.46s\tremaining: 2.15s\n",
      "705:\tlearn: 3879910.3945477\ttotal: 6.47s\tremaining: 2.14s\n",
      "706:\tlearn: 3878586.1317519\ttotal: 6.48s\tremaining: 2.13s\n",
      "707:\tlearn: 3876060.1328731\ttotal: 6.49s\tremaining: 2.13s\n",
      "708:\tlearn: 3873664.5418919\ttotal: 6.5s\tremaining: 2.12s\n",
      "709:\tlearn: 3872168.9219723\ttotal: 6.5s\tremaining: 2.11s\n",
      "710:\tlearn: 3871075.9353008\ttotal: 6.51s\tremaining: 2.1s\n",
      "711:\tlearn: 3869269.2250937\ttotal: 6.52s\tremaining: 2.09s\n",
      "712:\tlearn: 3866106.7962784\ttotal: 6.53s\tremaining: 2.08s\n",
      "713:\tlearn: 3863945.7238548\ttotal: 6.54s\tremaining: 2.07s\n",
      "714:\tlearn: 3862156.1726289\ttotal: 6.55s\tremaining: 2.06s\n",
      "715:\tlearn: 3860868.2891467\ttotal: 6.55s\tremaining: 2.05s\n",
      "716:\tlearn: 3859308.5023438\ttotal: 6.56s\tremaining: 2.04s\n",
      "717:\tlearn: 3858305.6061668\ttotal: 6.57s\tremaining: 2.03s\n",
      "718:\tlearn: 3855274.9171106\ttotal: 6.58s\tremaining: 2.02s\n",
      "719:\tlearn: 3853689.0170084\ttotal: 6.59s\tremaining: 2.01s\n",
      "720:\tlearn: 3851257.7285136\ttotal: 6.6s\tremaining: 2s\n",
      "721:\tlearn: 3848818.3754917\ttotal: 6.61s\tremaining: 2s\n",
      "722:\tlearn: 3846794.4903786\ttotal: 6.62s\tremaining: 1.99s\n",
      "723:\tlearn: 3845748.0179152\ttotal: 6.63s\tremaining: 1.98s\n",
      "724:\tlearn: 3843470.9718713\ttotal: 6.63s\tremaining: 1.97s\n",
      "725:\tlearn: 3842000.1674328\ttotal: 6.64s\tremaining: 1.96s\n",
      "726:\tlearn: 3840631.1239091\ttotal: 6.65s\tremaining: 1.95s\n",
      "727:\tlearn: 3838443.0392825\ttotal: 6.66s\tremaining: 1.94s\n",
      "728:\tlearn: 3836130.2021252\ttotal: 6.67s\tremaining: 1.93s\n",
      "729:\tlearn: 3834620.0654474\ttotal: 6.68s\tremaining: 1.92s\n",
      "730:\tlearn: 3832970.8572420\ttotal: 6.69s\tremaining: 1.91s\n",
      "731:\tlearn: 3830676.2118958\ttotal: 6.69s\tremaining: 1.9s\n",
      "732:\tlearn: 3828448.5803183\ttotal: 6.7s\tremaining: 1.89s\n",
      "733:\tlearn: 3827471.0394230\ttotal: 6.71s\tremaining: 1.88s\n",
      "734:\tlearn: 3824805.2338443\ttotal: 6.72s\tremaining: 1.87s\n",
      "735:\tlearn: 3823620.5145534\ttotal: 6.72s\tremaining: 1.86s\n",
      "736:\tlearn: 3821509.3355341\ttotal: 6.73s\tremaining: 1.85s\n",
      "737:\tlearn: 3819661.4084216\ttotal: 6.74s\tremaining: 1.84s\n",
      "738:\tlearn: 3817006.7410481\ttotal: 6.75s\tremaining: 1.84s\n",
      "739:\tlearn: 3815495.4649306\ttotal: 6.76s\tremaining: 1.83s\n",
      "740:\tlearn: 3815179.1597676\ttotal: 6.76s\tremaining: 1.82s\n",
      "741:\tlearn: 3812884.5816880\ttotal: 6.77s\tremaining: 1.81s\n",
      "742:\tlearn: 3810585.3798740\ttotal: 6.78s\tremaining: 1.8s\n",
      "743:\tlearn: 3806891.3338369\ttotal: 6.79s\tremaining: 1.79s\n",
      "744:\tlearn: 3804140.8464969\ttotal: 6.8s\tremaining: 1.78s\n",
      "745:\tlearn: 3803835.3847667\ttotal: 6.81s\tremaining: 1.77s\n",
      "746:\tlearn: 3802433.4137760\ttotal: 6.82s\tremaining: 1.76s\n",
      "747:\tlearn: 3800194.1489037\ttotal: 6.84s\tremaining: 1.75s\n",
      "748:\tlearn: 3798273.5233826\ttotal: 6.86s\tremaining: 1.75s\n",
      "749:\tlearn: 3796663.9632480\ttotal: 6.87s\tremaining: 1.74s\n",
      "750:\tlearn: 3794489.4539137\ttotal: 6.88s\tremaining: 1.73s\n",
      "751:\tlearn: 3791709.0489922\ttotal: 6.89s\tremaining: 1.72s\n",
      "752:\tlearn: 3790092.1406318\ttotal: 6.89s\tremaining: 1.71s\n",
      "753:\tlearn: 3788356.2227242\ttotal: 6.91s\tremaining: 1.7s\n",
      "754:\tlearn: 3787753.1578121\ttotal: 6.91s\tremaining: 1.69s\n",
      "755:\tlearn: 3786333.0706978\ttotal: 6.92s\tremaining: 1.69s\n",
      "756:\tlearn: 3783357.2253246\ttotal: 6.94s\tremaining: 1.68s\n",
      "757:\tlearn: 3781942.7658635\ttotal: 6.95s\tremaining: 1.67s\n",
      "758:\tlearn: 3778697.6895279\ttotal: 6.96s\tremaining: 1.66s\n",
      "759:\tlearn: 3776938.1343896\ttotal: 6.97s\tremaining: 1.65s\n",
      "760:\tlearn: 3776009.7405533\ttotal: 6.98s\tremaining: 1.64s\n",
      "761:\tlearn: 3774423.9305262\ttotal: 6.99s\tremaining: 1.63s\n",
      "762:\tlearn: 3773630.3688015\ttotal: 6.99s\tremaining: 1.62s\n",
      "763:\tlearn: 3771244.7681232\ttotal: 7s\tremaining: 1.61s\n",
      "764:\tlearn: 3769615.5314628\ttotal: 7.01s\tremaining: 1.6s\n",
      "765:\tlearn: 3768792.6040936\ttotal: 7.02s\tremaining: 1.59s\n",
      "766:\tlearn: 3767618.9018568\ttotal: 7.03s\tremaining: 1.59s\n",
      "767:\tlearn: 3765854.9926917\ttotal: 7.04s\tremaining: 1.58s\n",
      "768:\tlearn: 3763369.8600737\ttotal: 7.05s\tremaining: 1.57s\n",
      "769:\tlearn: 3761474.9168110\ttotal: 7.07s\tremaining: 1.56s\n",
      "770:\tlearn: 3757630.4966001\ttotal: 7.08s\tremaining: 1.55s\n",
      "771:\tlearn: 3755505.9594075\ttotal: 7.09s\tremaining: 1.54s\n",
      "772:\tlearn: 3753338.7873627\ttotal: 7.1s\tremaining: 1.53s\n",
      "773:\tlearn: 3752553.0248101\ttotal: 7.1s\tremaining: 1.52s\n",
      "774:\tlearn: 3750415.6042217\ttotal: 7.12s\tremaining: 1.51s\n",
      "775:\tlearn: 3748078.0096662\ttotal: 7.13s\tremaining: 1.51s\n",
      "776:\tlearn: 3745675.7184606\ttotal: 7.14s\tremaining: 1.5s\n",
      "777:\tlearn: 3742851.1029972\ttotal: 7.15s\tremaining: 1.49s\n",
      "778:\tlearn: 3738326.7567228\ttotal: 7.16s\tremaining: 1.48s\n",
      "779:\tlearn: 3736155.4169527\ttotal: 7.18s\tremaining: 1.47s\n",
      "780:\tlearn: 3734293.2176276\ttotal: 7.19s\tremaining: 1.46s\n",
      "781:\tlearn: 3732570.9098568\ttotal: 7.2s\tremaining: 1.45s\n",
      "782:\tlearn: 3730305.7135905\ttotal: 7.21s\tremaining: 1.45s\n",
      "783:\tlearn: 3727963.7243381\ttotal: 7.22s\tremaining: 1.44s\n",
      "784:\tlearn: 3725860.8534058\ttotal: 7.23s\tremaining: 1.43s\n",
      "785:\tlearn: 3723346.3873369\ttotal: 7.23s\tremaining: 1.42s\n",
      "786:\tlearn: 3721284.0214217\ttotal: 7.24s\tremaining: 1.41s\n",
      "787:\tlearn: 3719422.0980463\ttotal: 7.25s\tremaining: 1.4s\n",
      "788:\tlearn: 3718555.8980825\ttotal: 7.26s\tremaining: 1.39s\n",
      "789:\tlearn: 3716043.1357035\ttotal: 7.27s\tremaining: 1.38s\n",
      "790:\tlearn: 3713547.3980755\ttotal: 7.28s\tremaining: 1.37s\n",
      "791:\tlearn: 3710359.0638263\ttotal: 7.29s\tremaining: 1.36s\n",
      "792:\tlearn: 3708515.0080965\ttotal: 7.3s\tremaining: 1.35s\n",
      "793:\tlearn: 3706612.2238162\ttotal: 7.31s\tremaining: 1.34s\n",
      "794:\tlearn: 3704013.4397607\ttotal: 7.32s\tremaining: 1.33s\n",
      "795:\tlearn: 3702636.5283763\ttotal: 7.33s\tremaining: 1.32s\n",
      "796:\tlearn: 3701554.6040527\ttotal: 7.33s\tremaining: 1.31s\n",
      "797:\tlearn: 3699787.4522654\ttotal: 7.34s\tremaining: 1.31s\n",
      "798:\tlearn: 3697011.8698489\ttotal: 7.36s\tremaining: 1.3s\n",
      "799:\tlearn: 3694915.7680192\ttotal: 7.36s\tremaining: 1.29s\n",
      "800:\tlearn: 3693691.8592391\ttotal: 7.38s\tremaining: 1.28s\n",
      "801:\tlearn: 3690796.1435308\ttotal: 7.38s\tremaining: 1.27s\n",
      "802:\tlearn: 3688819.3106217\ttotal: 7.39s\tremaining: 1.26s\n",
      "803:\tlearn: 3687698.6585921\ttotal: 7.4s\tremaining: 1.25s\n",
      "804:\tlearn: 3685850.1276832\ttotal: 7.41s\tremaining: 1.24s\n",
      "805:\tlearn: 3684116.3494373\ttotal: 7.42s\tremaining: 1.23s\n",
      "806:\tlearn: 3683223.2413256\ttotal: 7.44s\tremaining: 1.23s\n",
      "807:\tlearn: 3680618.8566571\ttotal: 7.45s\tremaining: 1.22s\n",
      "808:\tlearn: 3679570.2134976\ttotal: 7.46s\tremaining: 1.21s\n",
      "809:\tlearn: 3677972.4461464\ttotal: 7.48s\tremaining: 1.2s\n",
      "810:\tlearn: 3676975.3769122\ttotal: 7.49s\tremaining: 1.19s\n",
      "811:\tlearn: 3674279.9044462\ttotal: 7.5s\tremaining: 1.18s\n",
      "812:\tlearn: 3672016.2229296\ttotal: 7.51s\tremaining: 1.17s\n",
      "813:\tlearn: 3669772.4453890\ttotal: 7.53s\tremaining: 1.17s\n",
      "814:\tlearn: 3668183.6309905\ttotal: 7.54s\tremaining: 1.16s\n",
      "815:\tlearn: 3666354.8772937\ttotal: 7.55s\tremaining: 1.15s\n",
      "816:\tlearn: 3664564.5104859\ttotal: 7.57s\tremaining: 1.14s\n",
      "817:\tlearn: 3663948.2774156\ttotal: 7.58s\tremaining: 1.13s\n",
      "818:\tlearn: 3660453.1978945\ttotal: 7.59s\tremaining: 1.12s\n",
      "819:\tlearn: 3658686.8039453\ttotal: 7.6s\tremaining: 1.11s\n",
      "820:\tlearn: 3656939.6178853\ttotal: 7.61s\tremaining: 1.1s\n",
      "821:\tlearn: 3654496.3193591\ttotal: 7.63s\tremaining: 1.09s\n",
      "822:\tlearn: 3652495.3075204\ttotal: 7.64s\tremaining: 1.08s\n",
      "823:\tlearn: 3650568.9078891\ttotal: 7.65s\tremaining: 1.08s\n",
      "824:\tlearn: 3648195.8739205\ttotal: 7.66s\tremaining: 1.07s\n",
      "825:\tlearn: 3646738.0554167\ttotal: 7.67s\tremaining: 1.06s\n",
      "826:\tlearn: 3645317.9501609\ttotal: 7.67s\tremaining: 1.05s\n",
      "827:\tlearn: 3643243.0966620\ttotal: 7.68s\tremaining: 1.04s\n",
      "828:\tlearn: 3640716.5671009\ttotal: 7.69s\tremaining: 1.03s\n",
      "829:\tlearn: 3639656.0418251\ttotal: 7.7s\tremaining: 1.02s\n",
      "830:\tlearn: 3636759.2447494\ttotal: 7.72s\tremaining: 1.01s\n",
      "831:\tlearn: 3635678.4310331\ttotal: 7.73s\tremaining: 1s\n",
      "832:\tlearn: 3633362.9460085\ttotal: 7.74s\tremaining: 994ms\n",
      "833:\tlearn: 3632396.5407102\ttotal: 7.75s\tremaining: 984ms\n",
      "834:\tlearn: 3630468.1145674\ttotal: 7.76s\tremaining: 975ms\n",
      "835:\tlearn: 3628603.0894533\ttotal: 7.77s\tremaining: 966ms\n",
      "836:\tlearn: 3625758.7507029\ttotal: 7.78s\tremaining: 957ms\n",
      "837:\tlearn: 3624832.0670501\ttotal: 7.79s\tremaining: 949ms\n",
      "838:\tlearn: 3622096.6330239\ttotal: 7.8s\tremaining: 939ms\n",
      "839:\tlearn: 3620488.1035367\ttotal: 7.81s\tremaining: 930ms\n",
      "840:\tlearn: 3618473.7652923\ttotal: 7.83s\tremaining: 921ms\n",
      "841:\tlearn: 3617082.5401254\ttotal: 7.83s\tremaining: 911ms\n",
      "842:\tlearn: 3615179.7398693\ttotal: 7.84s\tremaining: 902ms\n",
      "843:\tlearn: 3613997.6461423\ttotal: 7.85s\tremaining: 893ms\n",
      "844:\tlearn: 3612127.7511054\ttotal: 7.86s\tremaining: 884ms\n",
      "845:\tlearn: 3609935.7049369\ttotal: 7.87s\tremaining: 875ms\n",
      "846:\tlearn: 3607564.4571254\ttotal: 7.88s\tremaining: 865ms\n",
      "847:\tlearn: 3606080.6392016\ttotal: 7.89s\tremaining: 856ms\n",
      "848:\tlearn: 3603403.7894608\ttotal: 7.9s\tremaining: 847ms\n",
      "849:\tlearn: 3601633.8933869\ttotal: 7.91s\tremaining: 838ms\n",
      "850:\tlearn: 3600963.6680904\ttotal: 7.92s\tremaining: 828ms\n",
      "851:\tlearn: 3599451.8599779\ttotal: 7.93s\tremaining: 819ms\n",
      "852:\tlearn: 3596297.6984842\ttotal: 7.94s\tremaining: 809ms\n",
      "853:\tlearn: 3594807.0541700\ttotal: 7.94s\tremaining: 800ms\n",
      "854:\tlearn: 3593580.5496226\ttotal: 7.95s\tremaining: 791ms\n",
      "855:\tlearn: 3592512.2766162\ttotal: 7.96s\tremaining: 781ms\n",
      "856:\tlearn: 3590610.6325847\ttotal: 7.97s\tremaining: 772ms\n",
      "857:\tlearn: 3589724.4763315\ttotal: 7.98s\tremaining: 762ms\n",
      "858:\tlearn: 3588511.2107363\ttotal: 7.99s\tremaining: 753ms\n",
      "859:\tlearn: 3586153.9534574\ttotal: 7.99s\tremaining: 744ms\n",
      "860:\tlearn: 3584002.8262327\ttotal: 8.01s\tremaining: 735ms\n",
      "861:\tlearn: 3583472.1052400\ttotal: 8.01s\tremaining: 725ms\n",
      "862:\tlearn: 3581301.1346819\ttotal: 8.02s\tremaining: 716ms\n",
      "863:\tlearn: 3578367.9256812\ttotal: 8.03s\tremaining: 706ms\n",
      "864:\tlearn: 3576530.2930125\ttotal: 8.04s\tremaining: 697ms\n",
      "865:\tlearn: 3575589.2801783\ttotal: 8.05s\tremaining: 688ms\n",
      "866:\tlearn: 3573603.9586012\ttotal: 8.06s\tremaining: 678ms\n",
      "867:\tlearn: 3572157.1347096\ttotal: 8.07s\tremaining: 669ms\n",
      "868:\tlearn: 3570125.2302126\ttotal: 8.07s\tremaining: 660ms\n",
      "869:\tlearn: 3568817.4919580\ttotal: 8.08s\tremaining: 650ms\n",
      "870:\tlearn: 3567288.0291038\ttotal: 8.09s\tremaining: 641ms\n",
      "871:\tlearn: 3566527.0826987\ttotal: 8.1s\tremaining: 632ms\n",
      "872:\tlearn: 3564417.8083468\ttotal: 8.11s\tremaining: 622ms\n",
      "873:\tlearn: 3561998.4256495\ttotal: 8.12s\tremaining: 613ms\n",
      "874:\tlearn: 3559919.7355980\ttotal: 8.13s\tremaining: 604ms\n",
      "875:\tlearn: 3558088.3167009\ttotal: 8.14s\tremaining: 595ms\n",
      "876:\tlearn: 3556404.4768589\ttotal: 8.15s\tremaining: 585ms\n",
      "877:\tlearn: 3554773.5688773\ttotal: 8.16s\tremaining: 576ms\n",
      "878:\tlearn: 3554640.3284928\ttotal: 8.16s\tremaining: 567ms\n",
      "879:\tlearn: 3553221.2948766\ttotal: 8.17s\tremaining: 557ms\n",
      "880:\tlearn: 3550874.7293619\ttotal: 8.18s\tremaining: 548ms\n",
      "881:\tlearn: 3549632.5641068\ttotal: 8.19s\tremaining: 539ms\n",
      "882:\tlearn: 3547192.2054537\ttotal: 8.2s\tremaining: 529ms\n",
      "883:\tlearn: 3545830.1330525\ttotal: 8.21s\tremaining: 520ms\n",
      "884:\tlearn: 3544408.5825459\ttotal: 8.22s\tremaining: 511ms\n",
      "885:\tlearn: 3543158.3045019\ttotal: 8.23s\tremaining: 501ms\n",
      "886:\tlearn: 3541320.2662917\ttotal: 8.23s\tremaining: 492ms\n",
      "887:\tlearn: 3538227.9598277\ttotal: 8.24s\tremaining: 483ms\n",
      "888:\tlearn: 3536115.6327128\ttotal: 8.25s\tremaining: 473ms\n",
      "889:\tlearn: 3533371.6280867\ttotal: 8.26s\tremaining: 464ms\n",
      "890:\tlearn: 3530910.1667635\ttotal: 8.27s\tremaining: 455ms\n",
      "891:\tlearn: 3528511.2461033\ttotal: 8.28s\tremaining: 445ms\n",
      "892:\tlearn: 3526561.3091630\ttotal: 8.29s\tremaining: 436ms\n",
      "893:\tlearn: 3526443.4646792\ttotal: 8.29s\tremaining: 426ms\n",
      "894:\tlearn: 3526158.0797967\ttotal: 8.3s\tremaining: 417ms\n",
      "895:\tlearn: 3524337.2153830\ttotal: 8.3s\tremaining: 408ms\n",
      "896:\tlearn: 3522387.4512402\ttotal: 8.31s\tremaining: 399ms\n",
      "897:\tlearn: 3520629.4495624\ttotal: 8.32s\tremaining: 389ms\n",
      "898:\tlearn: 3519020.3974443\ttotal: 8.33s\tremaining: 380ms\n",
      "899:\tlearn: 3517545.3833102\ttotal: 8.34s\tremaining: 371ms\n",
      "900:\tlearn: 3515253.7581462\ttotal: 8.35s\tremaining: 361ms\n",
      "901:\tlearn: 3512040.7771484\ttotal: 8.36s\tremaining: 352ms\n",
      "902:\tlearn: 3510640.6451321\ttotal: 8.36s\tremaining: 343ms\n",
      "903:\tlearn: 3509378.5594720\ttotal: 8.37s\tremaining: 333ms\n",
      "904:\tlearn: 3505598.4809048\ttotal: 8.38s\tremaining: 324ms\n",
      "905:\tlearn: 3503318.5763554\ttotal: 8.39s\tremaining: 315ms\n",
      "906:\tlearn: 3501454.0467188\ttotal: 8.39s\tremaining: 305ms\n",
      "907:\tlearn: 3499901.9061621\ttotal: 8.4s\tremaining: 296ms\n",
      "908:\tlearn: 3498963.5713886\ttotal: 8.41s\tremaining: 287ms\n",
      "909:\tlearn: 3497719.4223159\ttotal: 8.42s\tremaining: 278ms\n",
      "910:\tlearn: 3497041.9548576\ttotal: 8.43s\tremaining: 268ms\n",
      "911:\tlearn: 3494961.3482891\ttotal: 8.43s\tremaining: 259ms\n",
      "912:\tlearn: 3493426.8268348\ttotal: 8.45s\tremaining: 250ms\n",
      "913:\tlearn: 3491719.2275926\ttotal: 8.45s\tremaining: 240ms\n",
      "914:\tlearn: 3490743.8788579\ttotal: 8.46s\tremaining: 231ms\n",
      "915:\tlearn: 3487482.5981450\ttotal: 8.47s\tremaining: 222ms\n",
      "916:\tlearn: 3486380.7809600\ttotal: 8.48s\tremaining: 213ms\n",
      "917:\tlearn: 3485420.7353392\ttotal: 8.49s\tremaining: 203ms\n",
      "918:\tlearn: 3481085.8812631\ttotal: 8.5s\tremaining: 194ms\n",
      "919:\tlearn: 3479276.8716755\ttotal: 8.51s\tremaining: 185ms\n",
      "920:\tlearn: 3478163.3236811\ttotal: 8.52s\tremaining: 176ms\n",
      "921:\tlearn: 3477095.7178862\ttotal: 8.52s\tremaining: 166ms\n",
      "922:\tlearn: 3475827.4608144\ttotal: 8.53s\tremaining: 157ms\n",
      "923:\tlearn: 3474196.3054875\ttotal: 8.54s\tremaining: 148ms\n",
      "924:\tlearn: 3472286.5278382\ttotal: 8.54s\tremaining: 139ms\n",
      "925:\tlearn: 3470370.2328353\ttotal: 8.55s\tremaining: 129ms\n",
      "926:\tlearn: 3467629.5978301\ttotal: 8.56s\tremaining: 120ms\n",
      "927:\tlearn: 3466327.6570881\ttotal: 8.57s\tremaining: 111ms\n",
      "928:\tlearn: 3464278.7850531\ttotal: 8.58s\tremaining: 102ms\n",
      "929:\tlearn: 3463044.9102270\ttotal: 8.59s\tremaining: 92.4ms\n",
      "930:\tlearn: 3460235.3169775\ttotal: 8.6s\tremaining: 83.2ms\n",
      "931:\tlearn: 3459060.6329743\ttotal: 8.61s\tremaining: 73.9ms\n",
      "932:\tlearn: 3456321.1610953\ttotal: 8.62s\tremaining: 64.7ms\n",
      "933:\tlearn: 3454367.3289761\ttotal: 8.63s\tremaining: 55.4ms\n",
      "934:\tlearn: 3453172.7513709\ttotal: 8.64s\tremaining: 46.2ms\n",
      "935:\tlearn: 3452040.7230511\ttotal: 8.65s\tremaining: 37ms\n",
      "936:\tlearn: 3451600.9102960\ttotal: 8.66s\tremaining: 27.7ms\n",
      "937:\tlearn: 3449886.0354588\ttotal: 8.68s\tremaining: 18.5ms\n",
      "938:\tlearn: 3448439.3444267\ttotal: 8.7s\tremaining: 9.26ms\n",
      "939:\tlearn: 3447221.4900796\ttotal: 8.71s\tremaining: 0us\n",
      "[LightGBM] [Warning] min_data_in_leaf is set=56, min_child_samples=20 will be ignored. Current value: min_data_in_leaf=56\n",
      "[LightGBM] [Warning] min_data_in_leaf is set=56, min_child_samples=20 will be ignored. Current value: min_data_in_leaf=56\n",
      "[LightGBM] [Info] Auto-choosing col-wise multi-threading, the overhead of testing was 0.000507 seconds.\n",
      "You can set `force_col_wise=true` to remove the overhead.\n",
      "[LightGBM] [Info] Total Bins 1230\n",
      "[LightGBM] [Info] Number of data points in the train set: 10466, number of used features: 12\n",
      "[LightGBM] [Info] Start training from score 8995590.483470\n",
      "[LightGBM] [Warning] min_data_in_leaf is set=56, min_child_samples=20 will be ignored. Current value: min_data_in_leaf=56\n",
      "[LightGBM] [Warning] min_data_in_leaf is set=56, min_child_samples=20 will be ignored. Current value: min_data_in_leaf=56\n",
      "[LightGBM] [Warning] min_data_in_leaf is set=56, min_child_samples=20 will be ignored. Current value: min_data_in_leaf=56\n",
      "[LightGBM] [Warning] min_data_in_leaf is set=56, min_child_samples=20 will be ignored. Current value: min_data_in_leaf=56\n",
      "\n",
      "====== Models After Hyper Parameter Tuning ======\n"
     ]
    },
    {
     "data": {
      "text/html": [
       "<div>\n",
       "<style scoped>\n",
       "    .dataframe tbody tr th:only-of-type {\n",
       "        vertical-align: middle;\n",
       "    }\n",
       "\n",
       "    .dataframe tbody tr th {\n",
       "        vertical-align: top;\n",
       "    }\n",
       "\n",
       "    .dataframe thead th {\n",
       "        text-align: right;\n",
       "    }\n",
       "</style>\n",
       "<table border=\"1\" class=\"dataframe\">\n",
       "  <thead>\n",
       "    <tr style=\"text-align: right;\">\n",
       "      <th></th>\n",
       "      <th>Model</th>\n",
       "      <th>MAE</th>\n",
       "      <th>MSE</th>\n",
       "      <th>RMSE</th>\n",
       "      <th>RMSLE</th>\n",
       "      <th>R2 Score</th>\n",
       "    </tr>\n",
       "  </thead>\n",
       "  <tbody>\n",
       "    <tr>\n",
       "      <th>0</th>\n",
       "      <td>XGBoost_tuned</td>\n",
       "      <td>3839750.82</td>\n",
       "      <td>59691794416657.45</td>\n",
       "      <td>7726046.49</td>\n",
       "      <td>0.63</td>\n",
       "      <td>0.78</td>\n",
       "    </tr>\n",
       "    <tr>\n",
       "      <th>1</th>\n",
       "      <td>CatBoost_tuned</td>\n",
       "      <td>3620686.62</td>\n",
       "      <td>50082968128629.12</td>\n",
       "      <td>7076932.11</td>\n",
       "      <td>0.64</td>\n",
       "      <td>0.82</td>\n",
       "    </tr>\n",
       "    <tr>\n",
       "      <th>2</th>\n",
       "      <td>LightGBM_tuned</td>\n",
       "      <td>3853679.65</td>\n",
       "      <td>60814712238048.47</td>\n",
       "      <td>7798378.82</td>\n",
       "      <td>0.64</td>\n",
       "      <td>0.78</td>\n",
       "    </tr>\n",
       "    <tr>\n",
       "      <th>3</th>\n",
       "      <td>RandomForest_tuned</td>\n",
       "      <td>4325417.57</td>\n",
       "      <td>70855410663501.44</td>\n",
       "      <td>8417565.60</td>\n",
       "      <td>0.69</td>\n",
       "      <td>0.74</td>\n",
       "    </tr>\n",
       "  </tbody>\n",
       "</table>\n",
       "</div>"
      ],
      "text/plain": [
       "                Model         MAE                MSE        RMSE RMSLE  \\\n",
       "0       XGBoost_tuned  3839750.82  59691794416657.45  7726046.49  0.63   \n",
       "1      CatBoost_tuned  3620686.62  50082968128629.12  7076932.11  0.64   \n",
       "2      LightGBM_tuned  3853679.65  60814712238048.47  7798378.82  0.64   \n",
       "3  RandomForest_tuned  4325417.57  70855410663501.44  8417565.60  0.69   \n",
       "\n",
       "  R2 Score  \n",
       "0     0.78  \n",
       "1     0.82  \n",
       "2     0.78  \n",
       "3     0.74  "
      ]
     },
     "execution_count": 53,
     "metadata": {},
     "output_type": "execute_result"
    }
   ],
   "source": [
    "model_list(models_tuned, \"After\")"
   ]
  },
  {
   "cell_type": "markdown",
   "metadata": {},
   "source": [
    "##### 모델별 최적의 하이퍼파라미터"
   ]
  },
  {
   "cell_type": "code",
   "execution_count": 54,
   "metadata": {},
   "outputs": [],
   "source": [
    "best_params_rf = {'n_estimators': 631, \n",
    "                  'max_depth': 10, \n",
    "                  'max_samples': 0.9390046689278375, \n",
    "                  'max_features': 0.7376193928070954, \n",
    "                  'min_weight_fraction_leaf': 0}\n",
    "\n",
    "best_params_cat = {'n_estimators': 940, \n",
    "                   'learning_rate': 0.023152906583498525, \n",
    "                   'depth': 9, \n",
    "                   'subsample': 0.3201012976753739, \n",
    "                   'colsample_bylevel': 0.4050931876862345, \n",
    "                   'min_data_in_leaf': 20}\n",
    "\n",
    "best_params_xgb = {'n_estimators': 1245, \n",
    "                   'learning_rate': 0.005338679492821957, \n",
    "                   'max_depth': 9, \n",
    "                   'subsample': 0.47657941438505813, \n",
    "                   'colsample_bytree': 0.7050046907622647, \n",
    "                   'min_child_weight': 18}\n",
    "\n",
    "best_params_lgbm = {'n_estimators': 3162, \n",
    "                    'learning_rate': 0.002483285435681272, \n",
    "                    'num_leaves': 100, \n",
    "                    'subsample': 0.6590829870608579, \n",
    "                    'colsample_bytree': 0.7800080912868288, \n",
    "                    'min_data_in_leaf': 56}"
   ]
  },
  {
   "cell_type": "markdown",
   "metadata": {},
   "source": [
    "### 최적화 후 모델 재생성\n",
    "- `XGBoost` : 가장 작은 `RMSLE` 기록\n",
    "    - RMSLE : 0.63\n",
    "    - R2 Score : 0.78\n",
    "- `CatBoost` : 가장 높은 `R2 Score` 기록\n",
    "    - RMSLE : 0.64\n",
    "    - R@ Score : 0.82"
   ]
  },
  {
   "cell_type": "code",
   "execution_count": 55,
   "metadata": {},
   "outputs": [
    {
     "data": {
      "text/html": [
       "<style>#sk-container-id-2 {\n",
       "  /* Definition of color scheme common for light and dark mode */\n",
       "  --sklearn-color-text: black;\n",
       "  --sklearn-color-line: gray;\n",
       "  /* Definition of color scheme for unfitted estimators */\n",
       "  --sklearn-color-unfitted-level-0: #fff5e6;\n",
       "  --sklearn-color-unfitted-level-1: #f6e4d2;\n",
       "  --sklearn-color-unfitted-level-2: #ffe0b3;\n",
       "  --sklearn-color-unfitted-level-3: chocolate;\n",
       "  /* Definition of color scheme for fitted estimators */\n",
       "  --sklearn-color-fitted-level-0: #f0f8ff;\n",
       "  --sklearn-color-fitted-level-1: #d4ebff;\n",
       "  --sklearn-color-fitted-level-2: #b3dbfd;\n",
       "  --sklearn-color-fitted-level-3: cornflowerblue;\n",
       "\n",
       "  /* Specific color for light theme */\n",
       "  --sklearn-color-text-on-default-background: var(--sg-text-color, var(--theme-code-foreground, var(--jp-content-font-color1, black)));\n",
       "  --sklearn-color-background: var(--sg-background-color, var(--theme-background, var(--jp-layout-color0, white)));\n",
       "  --sklearn-color-border-box: var(--sg-text-color, var(--theme-code-foreground, var(--jp-content-font-color1, black)));\n",
       "  --sklearn-color-icon: #696969;\n",
       "\n",
       "  @media (prefers-color-scheme: dark) {\n",
       "    /* Redefinition of color scheme for dark theme */\n",
       "    --sklearn-color-text-on-default-background: var(--sg-text-color, var(--theme-code-foreground, var(--jp-content-font-color1, white)));\n",
       "    --sklearn-color-background: var(--sg-background-color, var(--theme-background, var(--jp-layout-color0, #111)));\n",
       "    --sklearn-color-border-box: var(--sg-text-color, var(--theme-code-foreground, var(--jp-content-font-color1, white)));\n",
       "    --sklearn-color-icon: #878787;\n",
       "  }\n",
       "}\n",
       "\n",
       "#sk-container-id-2 {\n",
       "  color: var(--sklearn-color-text);\n",
       "}\n",
       "\n",
       "#sk-container-id-2 pre {\n",
       "  padding: 0;\n",
       "}\n",
       "\n",
       "#sk-container-id-2 input.sk-hidden--visually {\n",
       "  border: 0;\n",
       "  clip: rect(1px 1px 1px 1px);\n",
       "  clip: rect(1px, 1px, 1px, 1px);\n",
       "  height: 1px;\n",
       "  margin: -1px;\n",
       "  overflow: hidden;\n",
       "  padding: 0;\n",
       "  position: absolute;\n",
       "  width: 1px;\n",
       "}\n",
       "\n",
       "#sk-container-id-2 div.sk-dashed-wrapped {\n",
       "  border: 1px dashed var(--sklearn-color-line);\n",
       "  margin: 0 0.4em 0.5em 0.4em;\n",
       "  box-sizing: border-box;\n",
       "  padding-bottom: 0.4em;\n",
       "  background-color: var(--sklearn-color-background);\n",
       "}\n",
       "\n",
       "#sk-container-id-2 div.sk-container {\n",
       "  /* jupyter's `normalize.less` sets `[hidden] { display: none; }`\n",
       "     but bootstrap.min.css set `[hidden] { display: none !important; }`\n",
       "     so we also need the `!important` here to be able to override the\n",
       "     default hidden behavior on the sphinx rendered scikit-learn.org.\n",
       "     See: https://github.com/scikit-learn/scikit-learn/issues/21755 */\n",
       "  display: inline-block !important;\n",
       "  position: relative;\n",
       "}\n",
       "\n",
       "#sk-container-id-2 div.sk-text-repr-fallback {\n",
       "  display: none;\n",
       "}\n",
       "\n",
       "div.sk-parallel-item,\n",
       "div.sk-serial,\n",
       "div.sk-item {\n",
       "  /* draw centered vertical line to link estimators */\n",
       "  background-image: linear-gradient(var(--sklearn-color-text-on-default-background), var(--sklearn-color-text-on-default-background));\n",
       "  background-size: 2px 100%;\n",
       "  background-repeat: no-repeat;\n",
       "  background-position: center center;\n",
       "}\n",
       "\n",
       "/* Parallel-specific style estimator block */\n",
       "\n",
       "#sk-container-id-2 div.sk-parallel-item::after {\n",
       "  content: \"\";\n",
       "  width: 100%;\n",
       "  border-bottom: 2px solid var(--sklearn-color-text-on-default-background);\n",
       "  flex-grow: 1;\n",
       "}\n",
       "\n",
       "#sk-container-id-2 div.sk-parallel {\n",
       "  display: flex;\n",
       "  align-items: stretch;\n",
       "  justify-content: center;\n",
       "  background-color: var(--sklearn-color-background);\n",
       "  position: relative;\n",
       "}\n",
       "\n",
       "#sk-container-id-2 div.sk-parallel-item {\n",
       "  display: flex;\n",
       "  flex-direction: column;\n",
       "}\n",
       "\n",
       "#sk-container-id-2 div.sk-parallel-item:first-child::after {\n",
       "  align-self: flex-end;\n",
       "  width: 50%;\n",
       "}\n",
       "\n",
       "#sk-container-id-2 div.sk-parallel-item:last-child::after {\n",
       "  align-self: flex-start;\n",
       "  width: 50%;\n",
       "}\n",
       "\n",
       "#sk-container-id-2 div.sk-parallel-item:only-child::after {\n",
       "  width: 0;\n",
       "}\n",
       "\n",
       "/* Serial-specific style estimator block */\n",
       "\n",
       "#sk-container-id-2 div.sk-serial {\n",
       "  display: flex;\n",
       "  flex-direction: column;\n",
       "  align-items: center;\n",
       "  background-color: var(--sklearn-color-background);\n",
       "  padding-right: 1em;\n",
       "  padding-left: 1em;\n",
       "}\n",
       "\n",
       "\n",
       "/* Toggleable style: style used for estimator/Pipeline/ColumnTransformer box that is\n",
       "clickable and can be expanded/collapsed.\n",
       "- Pipeline and ColumnTransformer use this feature and define the default style\n",
       "- Estimators will overwrite some part of the style using the `sk-estimator` class\n",
       "*/\n",
       "\n",
       "/* Pipeline and ColumnTransformer style (default) */\n",
       "\n",
       "#sk-container-id-2 div.sk-toggleable {\n",
       "  /* Default theme specific background. It is overwritten whether we have a\n",
       "  specific estimator or a Pipeline/ColumnTransformer */\n",
       "  background-color: var(--sklearn-color-background);\n",
       "}\n",
       "\n",
       "/* Toggleable label */\n",
       "#sk-container-id-2 label.sk-toggleable__label {\n",
       "  cursor: pointer;\n",
       "  display: block;\n",
       "  width: 100%;\n",
       "  margin-bottom: 0;\n",
       "  padding: 0.5em;\n",
       "  box-sizing: border-box;\n",
       "  text-align: center;\n",
       "}\n",
       "\n",
       "#sk-container-id-2 label.sk-toggleable__label-arrow:before {\n",
       "  /* Arrow on the left of the label */\n",
       "  content: \"▸\";\n",
       "  float: left;\n",
       "  margin-right: 0.25em;\n",
       "  color: var(--sklearn-color-icon);\n",
       "}\n",
       "\n",
       "#sk-container-id-2 label.sk-toggleable__label-arrow:hover:before {\n",
       "  color: var(--sklearn-color-text);\n",
       "}\n",
       "\n",
       "/* Toggleable content - dropdown */\n",
       "\n",
       "#sk-container-id-2 div.sk-toggleable__content {\n",
       "  max-height: 0;\n",
       "  max-width: 0;\n",
       "  overflow: hidden;\n",
       "  text-align: left;\n",
       "  /* unfitted */\n",
       "  background-color: var(--sklearn-color-unfitted-level-0);\n",
       "}\n",
       "\n",
       "#sk-container-id-2 div.sk-toggleable__content.fitted {\n",
       "  /* fitted */\n",
       "  background-color: var(--sklearn-color-fitted-level-0);\n",
       "}\n",
       "\n",
       "#sk-container-id-2 div.sk-toggleable__content pre {\n",
       "  margin: 0.2em;\n",
       "  border-radius: 0.25em;\n",
       "  color: var(--sklearn-color-text);\n",
       "  /* unfitted */\n",
       "  background-color: var(--sklearn-color-unfitted-level-0);\n",
       "}\n",
       "\n",
       "#sk-container-id-2 div.sk-toggleable__content.fitted pre {\n",
       "  /* unfitted */\n",
       "  background-color: var(--sklearn-color-fitted-level-0);\n",
       "}\n",
       "\n",
       "#sk-container-id-2 input.sk-toggleable__control:checked~div.sk-toggleable__content {\n",
       "  /* Expand drop-down */\n",
       "  max-height: 200px;\n",
       "  max-width: 100%;\n",
       "  overflow: auto;\n",
       "}\n",
       "\n",
       "#sk-container-id-2 input.sk-toggleable__control:checked~label.sk-toggleable__label-arrow:before {\n",
       "  content: \"▾\";\n",
       "}\n",
       "\n",
       "/* Pipeline/ColumnTransformer-specific style */\n",
       "\n",
       "#sk-container-id-2 div.sk-label input.sk-toggleable__control:checked~label.sk-toggleable__label {\n",
       "  color: var(--sklearn-color-text);\n",
       "  background-color: var(--sklearn-color-unfitted-level-2);\n",
       "}\n",
       "\n",
       "#sk-container-id-2 div.sk-label.fitted input.sk-toggleable__control:checked~label.sk-toggleable__label {\n",
       "  background-color: var(--sklearn-color-fitted-level-2);\n",
       "}\n",
       "\n",
       "/* Estimator-specific style */\n",
       "\n",
       "/* Colorize estimator box */\n",
       "#sk-container-id-2 div.sk-estimator input.sk-toggleable__control:checked~label.sk-toggleable__label {\n",
       "  /* unfitted */\n",
       "  background-color: var(--sklearn-color-unfitted-level-2);\n",
       "}\n",
       "\n",
       "#sk-container-id-2 div.sk-estimator.fitted input.sk-toggleable__control:checked~label.sk-toggleable__label {\n",
       "  /* fitted */\n",
       "  background-color: var(--sklearn-color-fitted-level-2);\n",
       "}\n",
       "\n",
       "#sk-container-id-2 div.sk-label label.sk-toggleable__label,\n",
       "#sk-container-id-2 div.sk-label label {\n",
       "  /* The background is the default theme color */\n",
       "  color: var(--sklearn-color-text-on-default-background);\n",
       "}\n",
       "\n",
       "/* On hover, darken the color of the background */\n",
       "#sk-container-id-2 div.sk-label:hover label.sk-toggleable__label {\n",
       "  color: var(--sklearn-color-text);\n",
       "  background-color: var(--sklearn-color-unfitted-level-2);\n",
       "}\n",
       "\n",
       "/* Label box, darken color on hover, fitted */\n",
       "#sk-container-id-2 div.sk-label.fitted:hover label.sk-toggleable__label.fitted {\n",
       "  color: var(--sklearn-color-text);\n",
       "  background-color: var(--sklearn-color-fitted-level-2);\n",
       "}\n",
       "\n",
       "/* Estimator label */\n",
       "\n",
       "#sk-container-id-2 div.sk-label label {\n",
       "  font-family: monospace;\n",
       "  font-weight: bold;\n",
       "  display: inline-block;\n",
       "  line-height: 1.2em;\n",
       "}\n",
       "\n",
       "#sk-container-id-2 div.sk-label-container {\n",
       "  text-align: center;\n",
       "}\n",
       "\n",
       "/* Estimator-specific */\n",
       "#sk-container-id-2 div.sk-estimator {\n",
       "  font-family: monospace;\n",
       "  border: 1px dotted var(--sklearn-color-border-box);\n",
       "  border-radius: 0.25em;\n",
       "  box-sizing: border-box;\n",
       "  margin-bottom: 0.5em;\n",
       "  /* unfitted */\n",
       "  background-color: var(--sklearn-color-unfitted-level-0);\n",
       "}\n",
       "\n",
       "#sk-container-id-2 div.sk-estimator.fitted {\n",
       "  /* fitted */\n",
       "  background-color: var(--sklearn-color-fitted-level-0);\n",
       "}\n",
       "\n",
       "/* on hover */\n",
       "#sk-container-id-2 div.sk-estimator:hover {\n",
       "  /* unfitted */\n",
       "  background-color: var(--sklearn-color-unfitted-level-2);\n",
       "}\n",
       "\n",
       "#sk-container-id-2 div.sk-estimator.fitted:hover {\n",
       "  /* fitted */\n",
       "  background-color: var(--sklearn-color-fitted-level-2);\n",
       "}\n",
       "\n",
       "/* Specification for estimator info (e.g. \"i\" and \"?\") */\n",
       "\n",
       "/* Common style for \"i\" and \"?\" */\n",
       "\n",
       ".sk-estimator-doc-link,\n",
       "a:link.sk-estimator-doc-link,\n",
       "a:visited.sk-estimator-doc-link {\n",
       "  float: right;\n",
       "  font-size: smaller;\n",
       "  line-height: 1em;\n",
       "  font-family: monospace;\n",
       "  background-color: var(--sklearn-color-background);\n",
       "  border-radius: 1em;\n",
       "  height: 1em;\n",
       "  width: 1em;\n",
       "  text-decoration: none !important;\n",
       "  margin-left: 1ex;\n",
       "  /* unfitted */\n",
       "  border: var(--sklearn-color-unfitted-level-1) 1pt solid;\n",
       "  color: var(--sklearn-color-unfitted-level-1);\n",
       "}\n",
       "\n",
       ".sk-estimator-doc-link.fitted,\n",
       "a:link.sk-estimator-doc-link.fitted,\n",
       "a:visited.sk-estimator-doc-link.fitted {\n",
       "  /* fitted */\n",
       "  border: var(--sklearn-color-fitted-level-1) 1pt solid;\n",
       "  color: var(--sklearn-color-fitted-level-1);\n",
       "}\n",
       "\n",
       "/* On hover */\n",
       "div.sk-estimator:hover .sk-estimator-doc-link:hover,\n",
       ".sk-estimator-doc-link:hover,\n",
       "div.sk-label-container:hover .sk-estimator-doc-link:hover,\n",
       ".sk-estimator-doc-link:hover {\n",
       "  /* unfitted */\n",
       "  background-color: var(--sklearn-color-unfitted-level-3);\n",
       "  color: var(--sklearn-color-background);\n",
       "  text-decoration: none;\n",
       "}\n",
       "\n",
       "div.sk-estimator.fitted:hover .sk-estimator-doc-link.fitted:hover,\n",
       ".sk-estimator-doc-link.fitted:hover,\n",
       "div.sk-label-container:hover .sk-estimator-doc-link.fitted:hover,\n",
       ".sk-estimator-doc-link.fitted:hover {\n",
       "  /* fitted */\n",
       "  background-color: var(--sklearn-color-fitted-level-3);\n",
       "  color: var(--sklearn-color-background);\n",
       "  text-decoration: none;\n",
       "}\n",
       "\n",
       "/* Span, style for the box shown on hovering the info icon */\n",
       ".sk-estimator-doc-link span {\n",
       "  display: none;\n",
       "  z-index: 9999;\n",
       "  position: relative;\n",
       "  font-weight: normal;\n",
       "  right: .2ex;\n",
       "  padding: .5ex;\n",
       "  margin: .5ex;\n",
       "  width: min-content;\n",
       "  min-width: 20ex;\n",
       "  max-width: 50ex;\n",
       "  color: var(--sklearn-color-text);\n",
       "  box-shadow: 2pt 2pt 4pt #999;\n",
       "  /* unfitted */\n",
       "  background: var(--sklearn-color-unfitted-level-0);\n",
       "  border: .5pt solid var(--sklearn-color-unfitted-level-3);\n",
       "}\n",
       "\n",
       ".sk-estimator-doc-link.fitted span {\n",
       "  /* fitted */\n",
       "  background: var(--sklearn-color-fitted-level-0);\n",
       "  border: var(--sklearn-color-fitted-level-3);\n",
       "}\n",
       "\n",
       ".sk-estimator-doc-link:hover span {\n",
       "  display: block;\n",
       "}\n",
       "\n",
       "/* \"?\"-specific style due to the `<a>` HTML tag */\n",
       "\n",
       "#sk-container-id-2 a.estimator_doc_link {\n",
       "  float: right;\n",
       "  font-size: 1rem;\n",
       "  line-height: 1em;\n",
       "  font-family: monospace;\n",
       "  background-color: var(--sklearn-color-background);\n",
       "  border-radius: 1rem;\n",
       "  height: 1rem;\n",
       "  width: 1rem;\n",
       "  text-decoration: none;\n",
       "  /* unfitted */\n",
       "  color: var(--sklearn-color-unfitted-level-1);\n",
       "  border: var(--sklearn-color-unfitted-level-1) 1pt solid;\n",
       "}\n",
       "\n",
       "#sk-container-id-2 a.estimator_doc_link.fitted {\n",
       "  /* fitted */\n",
       "  border: var(--sklearn-color-fitted-level-1) 1pt solid;\n",
       "  color: var(--sklearn-color-fitted-level-1);\n",
       "}\n",
       "\n",
       "/* On hover */\n",
       "#sk-container-id-2 a.estimator_doc_link:hover {\n",
       "  /* unfitted */\n",
       "  background-color: var(--sklearn-color-unfitted-level-3);\n",
       "  color: var(--sklearn-color-background);\n",
       "  text-decoration: none;\n",
       "}\n",
       "\n",
       "#sk-container-id-2 a.estimator_doc_link.fitted:hover {\n",
       "  /* fitted */\n",
       "  background-color: var(--sklearn-color-fitted-level-3);\n",
       "}\n",
       "</style><div id=\"sk-container-id-2\" class=\"sk-top-container\"><div class=\"sk-text-repr-fallback\"><pre>XGBRegressor(base_score=None, booster=None, callbacks=None,\n",
       "             colsample_bylevel=None, colsample_bynode=None,\n",
       "             colsample_bytree=0.7050046907622647, early_stopping_rounds=None,\n",
       "             enable_categorical=False, eval_metric=None, feature_types=None,\n",
       "             gamma=None, gpu_id=None, grow_policy=None, importance_type=None,\n",
       "             interaction_constraints=None, learning_rate=0.005338679492821957,\n",
       "             max_bin=None, max_cat_threshold=None, max_cat_to_onehot=None,\n",
       "             max_delta_step=None, max_depth=9, max_leaves=None,\n",
       "             min_child_weight=18, missing=nan, monotone_constraints=None,\n",
       "             n_estimators=1245, n_jobs=None, num_parallel_tree=None,\n",
       "             predictor=None, random_state=None, ...)</pre><b>In a Jupyter environment, please rerun this cell to show the HTML representation or trust the notebook. <br />On GitHub, the HTML representation is unable to render, please try loading this page with nbviewer.org.</b></div><div class=\"sk-container\" hidden><div class=\"sk-item\"><div class=\"sk-estimator fitted sk-toggleable\"><input class=\"sk-toggleable__control sk-hidden--visually\" id=\"sk-estimator-id-2\" type=\"checkbox\" checked><label for=\"sk-estimator-id-2\" class=\"sk-toggleable__label fitted sk-toggleable__label-arrow fitted\">&nbsp;XGBRegressor<span class=\"sk-estimator-doc-link fitted\">i<span>Fitted</span></span></label><div class=\"sk-toggleable__content fitted\"><pre>XGBRegressor(base_score=None, booster=None, callbacks=None,\n",
       "             colsample_bylevel=None, colsample_bynode=None,\n",
       "             colsample_bytree=0.7050046907622647, early_stopping_rounds=None,\n",
       "             enable_categorical=False, eval_metric=None, feature_types=None,\n",
       "             gamma=None, gpu_id=None, grow_policy=None, importance_type=None,\n",
       "             interaction_constraints=None, learning_rate=0.005338679492821957,\n",
       "             max_bin=None, max_cat_threshold=None, max_cat_to_onehot=None,\n",
       "             max_delta_step=None, max_depth=9, max_leaves=None,\n",
       "             min_child_weight=18, missing=nan, monotone_constraints=None,\n",
       "             n_estimators=1245, n_jobs=None, num_parallel_tree=None,\n",
       "             predictor=None, random_state=None, ...)</pre></div> </div></div></div></div>"
      ],
      "text/plain": [
       "XGBRegressor(base_score=None, booster=None, callbacks=None,\n",
       "             colsample_bylevel=None, colsample_bynode=None,\n",
       "             colsample_bytree=0.7050046907622647, early_stopping_rounds=None,\n",
       "             enable_categorical=False, eval_metric=None, feature_types=None,\n",
       "             gamma=None, gpu_id=None, grow_policy=None, importance_type=None,\n",
       "             interaction_constraints=None, learning_rate=0.005338679492821957,\n",
       "             max_bin=None, max_cat_threshold=None, max_cat_to_onehot=None,\n",
       "             max_delta_step=None, max_depth=9, max_leaves=None,\n",
       "             min_child_weight=18, missing=nan, monotone_constraints=None,\n",
       "             n_estimators=1245, n_jobs=None, num_parallel_tree=None,\n",
       "             predictor=None, random_state=None, ...)"
      ]
     },
     "execution_count": 55,
     "metadata": {},
     "output_type": "execute_result"
    }
   ],
   "source": [
    "# optuna를 통해 생성한 하이퍼 파라미터로 조정하여, xgb 모델 생성\n",
    "xgb_optuna.fit(X_train, y_train)"
   ]
  },
  {
   "cell_type": "markdown",
   "metadata": {},
   "source": [
    "#### Feature Importance 확인\n",
    "- player_name, goals, current_club_name, assists 순서\n",
    "    - `player_name` : 선수 이름에 따라 몸값이 다르게 매겨지기 때문에 가장 크게 나온 것으로 보인다\n",
    "    - `goals`\n",
    "    - `current_club_name` : 소속 팀에 따라 가치가 매겨지는 경우가 있어서 중요도 있는 것으로 나옴 (ex. 빅클럽 이적)\n",
    "    - `assists`"
   ]
  },
  {
   "cell_type": "code",
   "execution_count": 56,
   "metadata": {},
   "outputs": [
    {
     "data": {
      "image/png": "[encoded data removed]",
      "text/plain": [
       "<Figure size 800x400 with 1 Axes>"
      ]
     },
     "metadata": {
      "image/png": {
       "height": 392,
       "width": 801
      }
     },
     "output_type": "display_data"
    }
   ],
   "source": [
    "# feature importance 파악\n",
    "\n",
    "# 배열형태로 반환\n",
    "xgb_importance_values = xgb_optuna.feature_importances_\n",
    "\n",
    "# 정렬과 시각화를 쉽게 하기 위해 series 전환\n",
    "xgb_series = pd.Series(xgb_importance_values, index = X_train.columns)\n",
    "xgb_top10 = xgb_series.sort_values(ascending=False)[:10]\n",
    "\n",
    "# 시각화\n",
    "plt.figure(figsize=(8,4))\n",
    "plt.title('Feature Importance Top 10')\n",
    "sns.barplot(x=xgb_top10, y=xgb_top10.index)\n",
    "plt.show()\n",
    "\n",
    "\n",
    "# 이 지표는 절대적이지 않다.\n",
    "# 중요도는 낮게 평가되었지만 실제로 중요한 특성일 수도 있고,\n",
    "# 그렇기 때문에 제거했을 경우 성능이 떨어질 수도 있다.\n",
    "# -> 상위 n개의 특성들을 제외한 나머지 특성들을 모두 제거하는 방식은 바람직하지 못함\n",
    "\n",
    "# feature importance를 고려하여 특성별로 A/B test 를 진행하며 feature selection 해야 한다\n",
    "# https://hwi-doc.tistory.com/entry/Feature-selection-feature-importance-vs-permutation-importance"
   ]
  },
  {
   "cell_type": "markdown",
   "metadata": {},
   "source": [
    "### `XGBoost` 모델로 예측한 test 값을 y_test 값과 비교"
   ]
  },
  {
   "cell_type": "code",
   "execution_count": 74,
   "metadata": {},
   "outputs": [],
   "source": [
    "# test 데이터프레임 copy\n",
    "test_copy_xgb = test.copy()\n",
    "\n",
    "# xgb_optuna 모델로 예측한 X_test의 몸값을 담은 컬럼을 test_copy에 생성\n",
    "test_copy_xgb[\"market_value_pred\"] = xgb_optuna.predict(X_test)"
   ]
  },
  {
   "cell_type": "code",
   "execution_count": 75,
   "metadata": {},
   "outputs": [],
   "source": [
    "# get_rmsle 함수 활용하여, 실제 몸값과 예측 몸값의 차이 RMSLE 계산한 컬럼 생성\n",
    "test_copy_xgb['market_value_rmsle'] = test_copy_xgb.apply(lambda x:get_rmsle(x[\"market_value_per_season\"], x[\"market_value_pred\"]), axis=1)"
   ]
  },
  {
   "cell_type": "code",
   "execution_count": 76,
   "metadata": {},
   "outputs": [],
   "source": [
    "test_copy_xgb = test_copy_xgb[['player_name', 'market_value_per_season', 'market_value_pred', 'market_value_rmsle',\n",
    "                       'start_season', 'goals', 'assists', 'minutes_played',\n",
    "                       'competition_code', 'age', 'position', 'current_club_name', 'country', \n",
    "                       'foot', 'height_in_cm']]"
   ]
  },
  {
   "cell_type": "code",
   "execution_count": 77,
   "metadata": {},
   "outputs": [],
   "source": [
    "pd.options.display.float_format = '{:.2f}'.format"
   ]
  },
  {
   "cell_type": "code",
   "execution_count": 78,
   "metadata": {},
   "outputs": [
    {
     "data": {
      "text/html": [
       "<div>\n",
       "<style scoped>\n",
       "    .dataframe tbody tr th:only-of-type {\n",
       "        vertical-align: middle;\n",
       "    }\n",
       "\n",
       "    .dataframe tbody tr th {\n",
       "        vertical-align: top;\n",
       "    }\n",
       "\n",
       "    .dataframe thead th {\n",
       "        text-align: right;\n",
       "    }\n",
       "</style>\n",
       "<table border=\"1\" class=\"dataframe\">\n",
       "  <thead>\n",
       "    <tr style=\"text-align: right;\">\n",
       "      <th></th>\n",
       "      <th>market_value_per_season</th>\n",
       "      <th>market_value_pred</th>\n",
       "      <th>market_value_rmsle</th>\n",
       "      <th>start_season</th>\n",
       "      <th>goals</th>\n",
       "      <th>assists</th>\n",
       "      <th>minutes_played</th>\n",
       "      <th>age</th>\n",
       "      <th>height_in_cm</th>\n",
       "    </tr>\n",
       "  </thead>\n",
       "  <tbody>\n",
       "    <tr>\n",
       "      <th>count</th>\n",
       "      <td>2916.00</td>\n",
       "      <td>2916.00</td>\n",
       "      <td>2903.00</td>\n",
       "      <td>2916.00</td>\n",
       "      <td>2916.00</td>\n",
       "      <td>2916.00</td>\n",
       "      <td>2916.00</td>\n",
       "      <td>2916.00</td>\n",
       "      <td>2916.00</td>\n",
       "    </tr>\n",
       "    <tr>\n",
       "      <th>mean</th>\n",
       "      <td>10746150.55</td>\n",
       "      <td>9572428.00</td>\n",
       "      <td>0.47</td>\n",
       "      <td>2023.00</td>\n",
       "      <td>1.75</td>\n",
       "      <td>1.35</td>\n",
       "      <td>1242.71</td>\n",
       "      <td>26.22</td>\n",
       "      <td>182.77</td>\n",
       "    </tr>\n",
       "    <tr>\n",
       "      <th>std</th>\n",
       "      <td>16543013.03</td>\n",
       "      <td>12551638.00</td>\n",
       "      <td>0.42</td>\n",
       "      <td>0.00</td>\n",
       "      <td>3.13</td>\n",
       "      <td>2.01</td>\n",
       "      <td>868.15</td>\n",
       "      <td>4.39</td>\n",
       "      <td>6.75</td>\n",
       "    </tr>\n",
       "    <tr>\n",
       "      <th>min</th>\n",
       "      <td>50000.00</td>\n",
       "      <td>-764650.44</td>\n",
       "      <td>0.00</td>\n",
       "      <td>2023.00</td>\n",
       "      <td>0.00</td>\n",
       "      <td>0.00</td>\n",
       "      <td>1.00</td>\n",
       "      <td>16.00</td>\n",
       "      <td>163.00</td>\n",
       "    </tr>\n",
       "    <tr>\n",
       "      <th>25%</th>\n",
       "      <td>1700000.00</td>\n",
       "      <td>2241690.25</td>\n",
       "      <td>0.16</td>\n",
       "      <td>2023.00</td>\n",
       "      <td>0.00</td>\n",
       "      <td>0.00</td>\n",
       "      <td>451.50</td>\n",
       "      <td>23.00</td>\n",
       "      <td>178.00</td>\n",
       "    </tr>\n",
       "    <tr>\n",
       "      <th>50%</th>\n",
       "      <td>4500000.00</td>\n",
       "      <td>4960468.75</td>\n",
       "      <td>0.35</td>\n",
       "      <td>2023.00</td>\n",
       "      <td>1.00</td>\n",
       "      <td>1.00</td>\n",
       "      <td>1178.00</td>\n",
       "      <td>26.00</td>\n",
       "      <td>183.00</td>\n",
       "    </tr>\n",
       "    <tr>\n",
       "      <th>75%</th>\n",
       "      <td>13000000.00</td>\n",
       "      <td>11673470.00</td>\n",
       "      <td>0.64</td>\n",
       "      <td>2023.00</td>\n",
       "      <td>2.00</td>\n",
       "      <td>2.00</td>\n",
       "      <td>1942.25</td>\n",
       "      <td>29.00</td>\n",
       "      <td>188.00</td>\n",
       "    </tr>\n",
       "    <tr>\n",
       "      <th>max</th>\n",
       "      <td>180000000.00</td>\n",
       "      <td>116938584.00</td>\n",
       "      <td>3.83</td>\n",
       "      <td>2023.00</td>\n",
       "      <td>36.00</td>\n",
       "      <td>14.00</td>\n",
       "      <td>3240.00</td>\n",
       "      <td>41.00</td>\n",
       "      <td>206.00</td>\n",
       "    </tr>\n",
       "  </tbody>\n",
       "</table>\n",
       "</div>"
      ],
      "text/plain": [
       "       market_value_per_season  market_value_pred  market_value_rmsle  \\\n",
       "count                  2916.00            2916.00             2903.00   \n",
       "mean               10746150.55         9572428.00                0.47   \n",
       "std                16543013.03        12551638.00                0.42   \n",
       "min                   50000.00         -764650.44                0.00   \n",
       "25%                 1700000.00         2241690.25                0.16   \n",
       "50%                 4500000.00         4960468.75                0.35   \n",
       "75%                13000000.00        11673470.00                0.64   \n",
       "max               180000000.00       116938584.00                3.83   \n",
       "\n",
       "       start_season   goals  assists  minutes_played     age  height_in_cm  \n",
       "count       2916.00 2916.00  2916.00         2916.00 2916.00       2916.00  \n",
       "mean        2023.00    1.75     1.35         1242.71   26.22        182.77  \n",
       "std            0.00    3.13     2.01          868.15    4.39          6.75  \n",
       "min         2023.00    0.00     0.00            1.00   16.00        163.00  \n",
       "25%         2023.00    0.00     0.00          451.50   23.00        178.00  \n",
       "50%         2023.00    1.00     1.00         1178.00   26.00        183.00  \n",
       "75%         2023.00    2.00     2.00         1942.25   29.00        188.00  \n",
       "max         2023.00   36.00    14.00         3240.00   41.00        206.00  "
      ]
     },
     "execution_count": 78,
     "metadata": {},
     "output_type": "execute_result"
    }
   ],
   "source": [
    "test_copy_xgb.describe()"
   ]
  },
  {
   "cell_type": "code",
   "execution_count": 79,
   "metadata": {},
   "outputs": [
    {
     "data": {
      "text/html": [
       "<div>\n",
       "<style scoped>\n",
       "    .dataframe tbody tr th:only-of-type {\n",
       "        vertical-align: middle;\n",
       "    }\n",
       "\n",
       "    .dataframe tbody tr th {\n",
       "        vertical-align: top;\n",
       "    }\n",
       "\n",
       "    .dataframe thead th {\n",
       "        text-align: right;\n",
       "    }\n",
       "</style>\n",
       "<table border=\"1\" class=\"dataframe\">\n",
       "  <thead>\n",
       "    <tr style=\"text-align: right;\">\n",
       "      <th></th>\n",
       "      <th>player_name</th>\n",
       "      <th>market_value_per_season</th>\n",
       "      <th>market_value_pred</th>\n",
       "      <th>market_value_rmsle</th>\n",
       "      <th>start_season</th>\n",
       "      <th>goals</th>\n",
       "      <th>assists</th>\n",
       "      <th>minutes_played</th>\n",
       "      <th>competition_code</th>\n",
       "      <th>age</th>\n",
       "      <th>position</th>\n",
       "      <th>current_club_name</th>\n",
       "      <th>country</th>\n",
       "      <th>foot</th>\n",
       "      <th>height_in_cm</th>\n",
       "    </tr>\n",
       "  </thead>\n",
       "  <tbody>\n",
       "    <tr>\n",
       "      <th>5627</th>\n",
       "      <td>Harry Kane</td>\n",
       "      <td>110000000.00</td>\n",
       "      <td>111698504.00</td>\n",
       "      <td>0.02</td>\n",
       "      <td>2023</td>\n",
       "      <td>36</td>\n",
       "      <td>8</td>\n",
       "      <td>2843</td>\n",
       "      <td>bundesliga</td>\n",
       "      <td>30</td>\n",
       "      <td>Centre-Forward</td>\n",
       "      <td>FC Bayern München</td>\n",
       "      <td>England</td>\n",
       "      <td>right</td>\n",
       "      <td>188.00</td>\n",
       "    </tr>\n",
       "    <tr>\n",
       "      <th>7709</th>\n",
       "      <td>Julián Álvarez</td>\n",
       "      <td>90000000.00</td>\n",
       "      <td>90180120.00</td>\n",
       "      <td>0.00</td>\n",
       "      <td>2023</td>\n",
       "      <td>10</td>\n",
       "      <td>9</td>\n",
       "      <td>2650</td>\n",
       "      <td>premier-league</td>\n",
       "      <td>24</td>\n",
       "      <td>Second Striker</td>\n",
       "      <td>Manchester City Football Club</td>\n",
       "      <td>Argentina</td>\n",
       "      <td>right</td>\n",
       "      <td>170.00</td>\n",
       "    </tr>\n",
       "    <tr>\n",
       "      <th>8581</th>\n",
       "      <td>Leroy Sané</td>\n",
       "      <td>70000000.00</td>\n",
       "      <td>69747992.00</td>\n",
       "      <td>0.00</td>\n",
       "      <td>2023</td>\n",
       "      <td>8</td>\n",
       "      <td>11</td>\n",
       "      <td>2137</td>\n",
       "      <td>bundesliga</td>\n",
       "      <td>28</td>\n",
       "      <td>Right Winger</td>\n",
       "      <td>FC Bayern München</td>\n",
       "      <td>Germany</td>\n",
       "      <td>left</td>\n",
       "      <td>183.00</td>\n",
       "    </tr>\n",
       "    <tr>\n",
       "      <th>3200</th>\n",
       "      <td>Darwin Núñez</td>\n",
       "      <td>70000000.00</td>\n",
       "      <td>70615416.00</td>\n",
       "      <td>0.01</td>\n",
       "      <td>2023</td>\n",
       "      <td>11</td>\n",
       "      <td>8</td>\n",
       "      <td>2011</td>\n",
       "      <td>premier-league</td>\n",
       "      <td>24</td>\n",
       "      <td>Centre-Forward</td>\n",
       "      <td>Liverpool Football Club</td>\n",
       "      <td>Uruguay</td>\n",
       "      <td>right</td>\n",
       "      <td>187.00</td>\n",
       "    </tr>\n",
       "    <tr>\n",
       "      <th>2111</th>\n",
       "      <td>Bruno Fernandes</td>\n",
       "      <td>70000000.00</td>\n",
       "      <td>72835856.00</td>\n",
       "      <td>0.04</td>\n",
       "      <td>2023</td>\n",
       "      <td>10</td>\n",
       "      <td>7</td>\n",
       "      <td>2970</td>\n",
       "      <td>premier-league</td>\n",
       "      <td>29</td>\n",
       "      <td>Attacking Midfield</td>\n",
       "      <td>Manchester United Football Club</td>\n",
       "      <td>Portugal</td>\n",
       "      <td>right</td>\n",
       "      <td>179.00</td>\n",
       "    </tr>\n",
       "    <tr>\n",
       "      <th>11596</th>\n",
       "      <td>Ollie Watkins</td>\n",
       "      <td>65000000.00</td>\n",
       "      <td>65060764.00</td>\n",
       "      <td>0.00</td>\n",
       "      <td>2023</td>\n",
       "      <td>19</td>\n",
       "      <td>12</td>\n",
       "      <td>3068</td>\n",
       "      <td>premier-league</td>\n",
       "      <td>28</td>\n",
       "      <td>Centre-Forward</td>\n",
       "      <td>Aston Villa Football Club</td>\n",
       "      <td>England</td>\n",
       "      <td>right</td>\n",
       "      <td>180.00</td>\n",
       "    </tr>\n",
       "    <tr>\n",
       "      <th>3350</th>\n",
       "      <td>Dayot Upamecano</td>\n",
       "      <td>50000000.00</td>\n",
       "      <td>49242968.00</td>\n",
       "      <td>0.02</td>\n",
       "      <td>2023</td>\n",
       "      <td>1</td>\n",
       "      <td>0</td>\n",
       "      <td>1590</td>\n",
       "      <td>bundesliga</td>\n",
       "      <td>25</td>\n",
       "      <td>Centre-Back</td>\n",
       "      <td>FC Bayern München</td>\n",
       "      <td>France</td>\n",
       "      <td>right</td>\n",
       "      <td>186.00</td>\n",
       "    </tr>\n",
       "    <tr>\n",
       "      <th>7653</th>\n",
       "      <td>Jules Koundé</td>\n",
       "      <td>50000000.00</td>\n",
       "      <td>52263056.00</td>\n",
       "      <td>0.04</td>\n",
       "      <td>2023</td>\n",
       "      <td>1</td>\n",
       "      <td>2</td>\n",
       "      <td>2539</td>\n",
       "      <td>laliga</td>\n",
       "      <td>25</td>\n",
       "      <td>Centre-Back</td>\n",
       "      <td>Futbol Club Barcelona</td>\n",
       "      <td>France</td>\n",
       "      <td>right</td>\n",
       "      <td>180.00</td>\n",
       "    </tr>\n",
       "    <tr>\n",
       "      <th>2065</th>\n",
       "      <td>Brennan Johnson</td>\n",
       "      <td>48000000.00</td>\n",
       "      <td>49321336.00</td>\n",
       "      <td>0.03</td>\n",
       "      <td>2023</td>\n",
       "      <td>5</td>\n",
       "      <td>8</td>\n",
       "      <td>1823</td>\n",
       "      <td>premier-league</td>\n",
       "      <td>22</td>\n",
       "      <td>Right Winger</td>\n",
       "      <td>Tottenham Hotspur Football Club</td>\n",
       "      <td>Wales</td>\n",
       "      <td>right</td>\n",
       "      <td>186.00</td>\n",
       "    </tr>\n",
       "    <tr>\n",
       "      <th>13766</th>\n",
       "      <td>Serge Gnabry</td>\n",
       "      <td>45000000.00</td>\n",
       "      <td>44091620.00</td>\n",
       "      <td>0.02</td>\n",
       "      <td>2023</td>\n",
       "      <td>3</td>\n",
       "      <td>2</td>\n",
       "      <td>433</td>\n",
       "      <td>bundesliga</td>\n",
       "      <td>28</td>\n",
       "      <td>Right Winger</td>\n",
       "      <td>FC Bayern München</td>\n",
       "      <td>Germany</td>\n",
       "      <td>right</td>\n",
       "      <td>176.00</td>\n",
       "    </tr>\n",
       "    <tr>\n",
       "      <th>8865</th>\n",
       "      <td>Lucas Hernández</td>\n",
       "      <td>45000000.00</td>\n",
       "      <td>43612740.00</td>\n",
       "      <td>0.03</td>\n",
       "      <td>2023</td>\n",
       "      <td>1</td>\n",
       "      <td>2</td>\n",
       "      <td>1915</td>\n",
       "      <td>ligue-1</td>\n",
       "      <td>28</td>\n",
       "      <td>Left-Back</td>\n",
       "      <td>Paris Saint-Germain Football Club</td>\n",
       "      <td>France</td>\n",
       "      <td>left</td>\n",
       "      <td>184.00</td>\n",
       "    </tr>\n",
       "    <tr>\n",
       "      <th>10005</th>\n",
       "      <td>Matheus Cunha</td>\n",
       "      <td>42000000.00</td>\n",
       "      <td>40328896.00</td>\n",
       "      <td>0.04</td>\n",
       "      <td>2023</td>\n",
       "      <td>11</td>\n",
       "      <td>7</td>\n",
       "      <td>2286</td>\n",
       "      <td>premier-league</td>\n",
       "      <td>24</td>\n",
       "      <td>Centre-Forward</td>\n",
       "      <td>Wolverhampton Wanderers Football Club</td>\n",
       "      <td>Brazil</td>\n",
       "      <td>right</td>\n",
       "      <td>183.00</td>\n",
       "    </tr>\n",
       "    <tr>\n",
       "      <th>9382</th>\n",
       "      <td>Manuel Akanji</td>\n",
       "      <td>42000000.00</td>\n",
       "      <td>41711456.00</td>\n",
       "      <td>0.01</td>\n",
       "      <td>2023</td>\n",
       "      <td>2</td>\n",
       "      <td>0</td>\n",
       "      <td>2263</td>\n",
       "      <td>premier-league</td>\n",
       "      <td>28</td>\n",
       "      <td>Centre-Back</td>\n",
       "      <td>Manchester City Football Club</td>\n",
       "      <td>Switzerland</td>\n",
       "      <td>right</td>\n",
       "      <td>188.00</td>\n",
       "    </tr>\n",
       "    <tr>\n",
       "      <th>9929</th>\n",
       "      <td>Mason Mount</td>\n",
       "      <td>40000000.00</td>\n",
       "      <td>38538500.00</td>\n",
       "      <td>0.04</td>\n",
       "      <td>2023</td>\n",
       "      <td>1</td>\n",
       "      <td>0</td>\n",
       "      <td>514</td>\n",
       "      <td>premier-league</td>\n",
       "      <td>25</td>\n",
       "      <td>Attacking Midfield</td>\n",
       "      <td>Manchester United Football Club</td>\n",
       "      <td>England</td>\n",
       "      <td>right</td>\n",
       "      <td>181.00</td>\n",
       "    </tr>\n",
       "    <tr>\n",
       "      <th>10649</th>\n",
       "      <td>Milan Skriniar</td>\n",
       "      <td>40000000.00</td>\n",
       "      <td>41425044.00</td>\n",
       "      <td>0.04</td>\n",
       "      <td>2023</td>\n",
       "      <td>0</td>\n",
       "      <td>0</td>\n",
       "      <td>1425</td>\n",
       "      <td>ligue-1</td>\n",
       "      <td>29</td>\n",
       "      <td>Centre-Back</td>\n",
       "      <td>Paris Saint-Germain Football Club</td>\n",
       "      <td>Slovakia</td>\n",
       "      <td>right</td>\n",
       "      <td>188.00</td>\n",
       "    </tr>\n",
       "    <tr>\n",
       "      <th>3865</th>\n",
       "      <td>Ederson</td>\n",
       "      <td>40000000.00</td>\n",
       "      <td>38965816.00</td>\n",
       "      <td>0.03</td>\n",
       "      <td>2023</td>\n",
       "      <td>0</td>\n",
       "      <td>0</td>\n",
       "      <td>2629</td>\n",
       "      <td>premier-league</td>\n",
       "      <td>30</td>\n",
       "      <td>Goalkeeper</td>\n",
       "      <td>Manchester City Football Club</td>\n",
       "      <td>Brazil</td>\n",
       "      <td>left</td>\n",
       "      <td>188.00</td>\n",
       "    </tr>\n",
       "    <tr>\n",
       "      <th>5651</th>\n",
       "      <td>Harvey Elliott</td>\n",
       "      <td>35000000.00</td>\n",
       "      <td>35717044.00</td>\n",
       "      <td>0.02</td>\n",
       "      <td>2023</td>\n",
       "      <td>3</td>\n",
       "      <td>4</td>\n",
       "      <td>1179</td>\n",
       "      <td>premier-league</td>\n",
       "      <td>21</td>\n",
       "      <td>Attacking Midfield</td>\n",
       "      <td>Liverpool Football Club</td>\n",
       "      <td>England</td>\n",
       "      <td>left</td>\n",
       "      <td>170.00</td>\n",
       "    </tr>\n",
       "    <tr>\n",
       "      <th>5647</th>\n",
       "      <td>Harvey Barnes</td>\n",
       "      <td>35000000.00</td>\n",
       "      <td>35281288.00</td>\n",
       "      <td>0.01</td>\n",
       "      <td>2023</td>\n",
       "      <td>4</td>\n",
       "      <td>3</td>\n",
       "      <td>691</td>\n",
       "      <td>premier-league</td>\n",
       "      <td>26</td>\n",
       "      <td>Left Winger</td>\n",
       "      <td>Newcastle United Football Club</td>\n",
       "      <td>England</td>\n",
       "      <td>right</td>\n",
       "      <td>182.00</td>\n",
       "    </tr>\n",
       "    <tr>\n",
       "      <th>1826</th>\n",
       "      <td>Benoît Badiashile</td>\n",
       "      <td>32000000.00</td>\n",
       "      <td>33424160.00</td>\n",
       "      <td>0.04</td>\n",
       "      <td>2023</td>\n",
       "      <td>0</td>\n",
       "      <td>1</td>\n",
       "      <td>1100</td>\n",
       "      <td>premier-league</td>\n",
       "      <td>23</td>\n",
       "      <td>Centre-Back</td>\n",
       "      <td>Chelsea Football Club</td>\n",
       "      <td>France</td>\n",
       "      <td>left</td>\n",
       "      <td>194.00</td>\n",
       "    </tr>\n",
       "    <tr>\n",
       "      <th>1727</th>\n",
       "      <td>Ben Chilwell</td>\n",
       "      <td>30000000.00</td>\n",
       "      <td>29879696.00</td>\n",
       "      <td>0.00</td>\n",
       "      <td>2023</td>\n",
       "      <td>0</td>\n",
       "      <td>1</td>\n",
       "      <td>757</td>\n",
       "      <td>premier-league</td>\n",
       "      <td>27</td>\n",
       "      <td>Left-Back</td>\n",
       "      <td>Chelsea Football Club</td>\n",
       "      <td>England</td>\n",
       "      <td>left</td>\n",
       "      <td>180.00</td>\n",
       "    </tr>\n",
       "  </tbody>\n",
       "</table>\n",
       "</div>"
      ],
      "text/plain": [
       "             player_name  market_value_per_season  market_value_pred  \\\n",
       "5627          Harry Kane             110000000.00       111698504.00   \n",
       "7709      Julián Álvarez              90000000.00        90180120.00   \n",
       "8581          Leroy Sané              70000000.00        69747992.00   \n",
       "3200        Darwin Núñez              70000000.00        70615416.00   \n",
       "2111     Bruno Fernandes              70000000.00        72835856.00   \n",
       "11596      Ollie Watkins              65000000.00        65060764.00   \n",
       "3350     Dayot Upamecano              50000000.00        49242968.00   \n",
       "7653        Jules Koundé              50000000.00        52263056.00   \n",
       "2065     Brennan Johnson              48000000.00        49321336.00   \n",
       "13766       Serge Gnabry              45000000.00        44091620.00   \n",
       "8865     Lucas Hernández              45000000.00        43612740.00   \n",
       "10005      Matheus Cunha              42000000.00        40328896.00   \n",
       "9382       Manuel Akanji              42000000.00        41711456.00   \n",
       "9929         Mason Mount              40000000.00        38538500.00   \n",
       "10649     Milan Skriniar              40000000.00        41425044.00   \n",
       "3865             Ederson              40000000.00        38965816.00   \n",
       "5651      Harvey Elliott              35000000.00        35717044.00   \n",
       "5647       Harvey Barnes              35000000.00        35281288.00   \n",
       "1826   Benoît Badiashile              32000000.00        33424160.00   \n",
       "1727        Ben Chilwell              30000000.00        29879696.00   \n",
       "\n",
       "       market_value_rmsle  start_season  goals  assists  minutes_played  \\\n",
       "5627                 0.02          2023     36        8            2843   \n",
       "7709                 0.00          2023     10        9            2650   \n",
       "8581                 0.00          2023      8       11            2137   \n",
       "3200                 0.01          2023     11        8            2011   \n",
       "2111                 0.04          2023     10        7            2970   \n",
       "11596                0.00          2023     19       12            3068   \n",
       "3350                 0.02          2023      1        0            1590   \n",
       "7653                 0.04          2023      1        2            2539   \n",
       "2065                 0.03          2023      5        8            1823   \n",
       "13766                0.02          2023      3        2             433   \n",
       "8865                 0.03          2023      1        2            1915   \n",
       "10005                0.04          2023     11        7            2286   \n",
       "9382                 0.01          2023      2        0            2263   \n",
       "9929                 0.04          2023      1        0             514   \n",
       "10649                0.04          2023      0        0            1425   \n",
       "3865                 0.03          2023      0        0            2629   \n",
       "5651                 0.02          2023      3        4            1179   \n",
       "5647                 0.01          2023      4        3             691   \n",
       "1826                 0.04          2023      0        1            1100   \n",
       "1727                 0.00          2023      0        1             757   \n",
       "\n",
       "      competition_code  age            position  \\\n",
       "5627        bundesliga   30      Centre-Forward   \n",
       "7709    premier-league   24      Second Striker   \n",
       "8581        bundesliga   28        Right Winger   \n",
       "3200    premier-league   24      Centre-Forward   \n",
       "2111    premier-league   29  Attacking Midfield   \n",
       "11596   premier-league   28      Centre-Forward   \n",
       "3350        bundesliga   25         Centre-Back   \n",
       "7653            laliga   25         Centre-Back   \n",
       "2065    premier-league   22        Right Winger   \n",
       "13766       bundesliga   28        Right Winger   \n",
       "8865           ligue-1   28           Left-Back   \n",
       "10005   premier-league   24      Centre-Forward   \n",
       "9382    premier-league   28         Centre-Back   \n",
       "9929    premier-league   25  Attacking Midfield   \n",
       "10649          ligue-1   29         Centre-Back   \n",
       "3865    premier-league   30          Goalkeeper   \n",
       "5651    premier-league   21  Attacking Midfield   \n",
       "5647    premier-league   26         Left Winger   \n",
       "1826    premier-league   23         Centre-Back   \n",
       "1727    premier-league   27           Left-Back   \n",
       "\n",
       "                           current_club_name      country   foot  height_in_cm  \n",
       "5627                       FC Bayern München      England  right        188.00  \n",
       "7709           Manchester City Football Club    Argentina  right        170.00  \n",
       "8581                       FC Bayern München      Germany   left        183.00  \n",
       "3200                 Liverpool Football Club      Uruguay  right        187.00  \n",
       "2111         Manchester United Football Club     Portugal  right        179.00  \n",
       "11596              Aston Villa Football Club      England  right        180.00  \n",
       "3350                       FC Bayern München       France  right        186.00  \n",
       "7653                   Futbol Club Barcelona       France  right        180.00  \n",
       "2065         Tottenham Hotspur Football Club        Wales  right        186.00  \n",
       "13766                      FC Bayern München      Germany  right        176.00  \n",
       "8865       Paris Saint-Germain Football Club       France   left        184.00  \n",
       "10005  Wolverhampton Wanderers Football Club       Brazil  right        183.00  \n",
       "9382           Manchester City Football Club  Switzerland  right        188.00  \n",
       "9929         Manchester United Football Club      England  right        181.00  \n",
       "10649      Paris Saint-Germain Football Club     Slovakia  right        188.00  \n",
       "3865           Manchester City Football Club       Brazil   left        188.00  \n",
       "5651                 Liverpool Football Club      England   left        170.00  \n",
       "5647          Newcastle United Football Club      England  right        182.00  \n",
       "1826                   Chelsea Football Club       France   left        194.00  \n",
       "1727                   Chelsea Football Club      England   left        180.00  "
      ]
     },
     "execution_count": 79,
     "metadata": {},
     "output_type": "execute_result"
    }
   ],
   "source": [
    "# RMSLE 값이 0.05 이하인 예측 값 확인\n",
    "test_copy_xgb[test_copy_xgb.market_value_rmsle <= 0.05].sort_values(by=\"market_value_per_season\", ascending=False).head(20)"
   ]
  },
  {
   "cell_type": "code",
   "execution_count": 80,
   "metadata": {},
   "outputs": [
    {
     "data": {
      "text/html": [
       "<div>\n",
       "<style scoped>\n",
       "    .dataframe tbody tr th:only-of-type {\n",
       "        vertical-align: middle;\n",
       "    }\n",
       "\n",
       "    .dataframe tbody tr th {\n",
       "        vertical-align: top;\n",
       "    }\n",
       "\n",
       "    .dataframe thead th {\n",
       "        text-align: right;\n",
       "    }\n",
       "</style>\n",
       "<table border=\"1\" class=\"dataframe\">\n",
       "  <thead>\n",
       "    <tr style=\"text-align: right;\">\n",
       "      <th></th>\n",
       "      <th>player_name</th>\n",
       "      <th>market_value_per_season</th>\n",
       "      <th>market_value_pred</th>\n",
       "      <th>market_value_rmsle</th>\n",
       "      <th>start_season</th>\n",
       "      <th>goals</th>\n",
       "      <th>assists</th>\n",
       "      <th>minutes_played</th>\n",
       "      <th>competition_code</th>\n",
       "      <th>age</th>\n",
       "      <th>position</th>\n",
       "      <th>current_club_name</th>\n",
       "      <th>country</th>\n",
       "      <th>foot</th>\n",
       "      <th>height_in_cm</th>\n",
       "    </tr>\n",
       "  </thead>\n",
       "  <tbody>\n",
       "    <tr>\n",
       "      <th>711</th>\n",
       "      <td>Alfie Gilchrist</td>\n",
       "      <td>300000.00</td>\n",
       "      <td>13825467.00</td>\n",
       "      <td>3.83</td>\n",
       "      <td>2023</td>\n",
       "      <td>1</td>\n",
       "      <td>0</td>\n",
       "      <td>202</td>\n",
       "      <td>premier-league</td>\n",
       "      <td>20</td>\n",
       "      <td>Centre-Back</td>\n",
       "      <td>Chelsea Football Club</td>\n",
       "      <td>England</td>\n",
       "      <td>right</td>\n",
       "      <td>183.00</td>\n",
       "    </tr>\n",
       "    <tr>\n",
       "      <th>6410</th>\n",
       "      <td>James Tomkins</td>\n",
       "      <td>700000.00</td>\n",
       "      <td>26270.54</td>\n",
       "      <td>3.28</td>\n",
       "      <td>2023</td>\n",
       "      <td>0</td>\n",
       "      <td>0</td>\n",
       "      <td>5</td>\n",
       "      <td>premier-league</td>\n",
       "      <td>35</td>\n",
       "      <td>Centre-Back</td>\n",
       "      <td>Crystal Palace Football Club</td>\n",
       "      <td>England</td>\n",
       "      <td>right</td>\n",
       "      <td>192.00</td>\n",
       "    </tr>\n",
       "    <tr>\n",
       "      <th>13489</th>\n",
       "      <td>Samu Omorodion</td>\n",
       "      <td>40000000.00</td>\n",
       "      <td>1676623.38</td>\n",
       "      <td>3.17</td>\n",
       "      <td>2023</td>\n",
       "      <td>1</td>\n",
       "      <td>0</td>\n",
       "      <td>82</td>\n",
       "      <td>laliga</td>\n",
       "      <td>20</td>\n",
       "      <td>Centre-Forward</td>\n",
       "      <td>Deportivo Alavés S.A.D.</td>\n",
       "      <td>Spain</td>\n",
       "      <td>right</td>\n",
       "      <td>193.00</td>\n",
       "    </tr>\n",
       "    <tr>\n",
       "      <th>14205</th>\n",
       "      <td>Steven Baseya</td>\n",
       "      <td>50000.00</td>\n",
       "      <td>1016353.50</td>\n",
       "      <td>3.01</td>\n",
       "      <td>2023</td>\n",
       "      <td>0</td>\n",
       "      <td>0</td>\n",
       "      <td>5</td>\n",
       "      <td>ligue-1</td>\n",
       "      <td>19</td>\n",
       "      <td>Centre-Back</td>\n",
       "      <td>Racing Club de Strasbourg Alsace</td>\n",
       "      <td>France</td>\n",
       "      <td>right</td>\n",
       "      <td>189.00</td>\n",
       "    </tr>\n",
       "    <tr>\n",
       "      <th>11566</th>\n",
       "      <td>Oliver Arblaster</td>\n",
       "      <td>450000.00</td>\n",
       "      <td>8046924.50</td>\n",
       "      <td>2.88</td>\n",
       "      <td>2023</td>\n",
       "      <td>0</td>\n",
       "      <td>0</td>\n",
       "      <td>821</td>\n",
       "      <td>premier-league</td>\n",
       "      <td>20</td>\n",
       "      <td>Central Midfield</td>\n",
       "      <td>Sheffield United Football Club</td>\n",
       "      <td>England</td>\n",
       "      <td>right</td>\n",
       "      <td>180.00</td>\n",
       "    </tr>\n",
       "    <tr>\n",
       "      <th>11782</th>\n",
       "      <td>Papa Amadou Diallo</td>\n",
       "      <td>250000.00</td>\n",
       "      <td>3568358.75</td>\n",
       "      <td>2.66</td>\n",
       "      <td>2023</td>\n",
       "      <td>2</td>\n",
       "      <td>0</td>\n",
       "      <td>710</td>\n",
       "      <td>ligue-1</td>\n",
       "      <td>19</td>\n",
       "      <td>Left Winger</td>\n",
       "      <td>Football Club de Metz</td>\n",
       "      <td>Senegal</td>\n",
       "      <td>right</td>\n",
       "      <td>182.00</td>\n",
       "    </tr>\n",
       "    <tr>\n",
       "      <th>4921</th>\n",
       "      <td>Fred Onyedinma</td>\n",
       "      <td>500000.00</td>\n",
       "      <td>6944979.50</td>\n",
       "      <td>2.63</td>\n",
       "      <td>2023</td>\n",
       "      <td>0</td>\n",
       "      <td>0</td>\n",
       "      <td>334</td>\n",
       "      <td>premier-league</td>\n",
       "      <td>27</td>\n",
       "      <td>Attacking Midfield</td>\n",
       "      <td>Luton Town Football Club</td>\n",
       "      <td>Nigeria</td>\n",
       "      <td>right</td>\n",
       "      <td>185.00</td>\n",
       "    </tr>\n",
       "    <tr>\n",
       "      <th>9135</th>\n",
       "      <td>Luke Berry</td>\n",
       "      <td>400000.00</td>\n",
       "      <td>5465769.00</td>\n",
       "      <td>2.61</td>\n",
       "      <td>2023</td>\n",
       "      <td>2</td>\n",
       "      <td>1</td>\n",
       "      <td>308</td>\n",
       "      <td>premier-league</td>\n",
       "      <td>31</td>\n",
       "      <td>Central Midfield</td>\n",
       "      <td>Luton Town Football Club</td>\n",
       "      <td>England</td>\n",
       "      <td>right</td>\n",
       "      <td>177.00</td>\n",
       "    </tr>\n",
       "    <tr>\n",
       "      <th>8972</th>\n",
       "      <td>Luck Zogbé</td>\n",
       "      <td>100000.00</td>\n",
       "      <td>1082397.50</td>\n",
       "      <td>2.38</td>\n",
       "      <td>2023</td>\n",
       "      <td>0</td>\n",
       "      <td>0</td>\n",
       "      <td>10</td>\n",
       "      <td>ligue-1</td>\n",
       "      <td>19</td>\n",
       "      <td>Right-Back</td>\n",
       "      <td>Stade brestois 29</td>\n",
       "      <td>Cote d'Ivoire</td>\n",
       "      <td>right</td>\n",
       "      <td>178.00</td>\n",
       "    </tr>\n",
       "    <tr>\n",
       "      <th>14949</th>\n",
       "      <td>Unai Marrero</td>\n",
       "      <td>300000.00</td>\n",
       "      <td>3239567.00</td>\n",
       "      <td>2.38</td>\n",
       "      <td>2023</td>\n",
       "      <td>0</td>\n",
       "      <td>0</td>\n",
       "      <td>141</td>\n",
       "      <td>laliga</td>\n",
       "      <td>22</td>\n",
       "      <td>Goalkeeper</td>\n",
       "      <td>Real Sociedad de Fútbol S.A.D.</td>\n",
       "      <td>Spain</td>\n",
       "      <td>right</td>\n",
       "      <td>189.00</td>\n",
       "    </tr>\n",
       "  </tbody>\n",
       "</table>\n",
       "</div>"
      ],
      "text/plain": [
       "              player_name  market_value_per_season  market_value_pred  \\\n",
       "711       Alfie Gilchrist                300000.00        13825467.00   \n",
       "6410        James Tomkins                700000.00           26270.54   \n",
       "13489      Samu Omorodion              40000000.00         1676623.38   \n",
       "14205       Steven Baseya                 50000.00         1016353.50   \n",
       "11566    Oliver Arblaster                450000.00         8046924.50   \n",
       "11782  Papa Amadou Diallo                250000.00         3568358.75   \n",
       "4921       Fred Onyedinma                500000.00         6944979.50   \n",
       "9135           Luke Berry                400000.00         5465769.00   \n",
       "8972           Luck Zogbé                100000.00         1082397.50   \n",
       "14949        Unai Marrero                300000.00         3239567.00   \n",
       "\n",
       "       market_value_rmsle  start_season  goals  assists  minutes_played  \\\n",
       "711                  3.83          2023      1        0             202   \n",
       "6410                 3.28          2023      0        0               5   \n",
       "13489                3.17          2023      1        0              82   \n",
       "14205                3.01          2023      0        0               5   \n",
       "11566                2.88          2023      0        0             821   \n",
       "11782                2.66          2023      2        0             710   \n",
       "4921                 2.63          2023      0        0             334   \n",
       "9135                 2.61          2023      2        1             308   \n",
       "8972                 2.38          2023      0        0              10   \n",
       "14949                2.38          2023      0        0             141   \n",
       "\n",
       "      competition_code  age            position  \\\n",
       "711     premier-league   20         Centre-Back   \n",
       "6410    premier-league   35         Centre-Back   \n",
       "13489           laliga   20      Centre-Forward   \n",
       "14205          ligue-1   19         Centre-Back   \n",
       "11566   premier-league   20    Central Midfield   \n",
       "11782          ligue-1   19         Left Winger   \n",
       "4921    premier-league   27  Attacking Midfield   \n",
       "9135    premier-league   31    Central Midfield   \n",
       "8972           ligue-1   19          Right-Back   \n",
       "14949           laliga   22          Goalkeeper   \n",
       "\n",
       "                      current_club_name        country   foot  height_in_cm  \n",
       "711               Chelsea Football Club        England  right        183.00  \n",
       "6410       Crystal Palace Football Club        England  right        192.00  \n",
       "13489           Deportivo Alavés S.A.D.          Spain  right        193.00  \n",
       "14205  Racing Club de Strasbourg Alsace         France  right        189.00  \n",
       "11566    Sheffield United Football Club        England  right        180.00  \n",
       "11782             Football Club de Metz        Senegal  right        182.00  \n",
       "4921           Luton Town Football Club        Nigeria  right        185.00  \n",
       "9135           Luton Town Football Club        England  right        177.00  \n",
       "8972                  Stade brestois 29  Cote d'Ivoire  right        178.00  \n",
       "14949    Real Sociedad de Fútbol S.A.D.          Spain  right        189.00  "
      ]
     },
     "execution_count": 80,
     "metadata": {},
     "output_type": "execute_result"
    }
   ],
   "source": [
    "# RMSLE 값이 0.64 (75%) 이상인 예측 값 확인\n",
    "# RMSLE 값 최대치 : 약 3.83\n",
    "\n",
    "test_copy_xgb[test_copy_xgb.market_value_rmsle >= 0.64].sort_values(by=\"market_value_rmsle\", ascending=False).head(10)"
   ]
  },
  {
   "cell_type": "code",
   "execution_count": 81,
   "metadata": {},
   "outputs": [
    {
     "data": {
      "text/html": [
       "<div>\n",
       "<style scoped>\n",
       "    .dataframe tbody tr th:only-of-type {\n",
       "        vertical-align: middle;\n",
       "    }\n",
       "\n",
       "    .dataframe tbody tr th {\n",
       "        vertical-align: top;\n",
       "    }\n",
       "\n",
       "    .dataframe thead th {\n",
       "        text-align: right;\n",
       "    }\n",
       "</style>\n",
       "<table border=\"1\" class=\"dataframe\">\n",
       "  <thead>\n",
       "    <tr style=\"text-align: right;\">\n",
       "      <th></th>\n",
       "      <th>player_name</th>\n",
       "      <th>market_value_per_season</th>\n",
       "      <th>market_value_pred</th>\n",
       "      <th>market_value_rmsle</th>\n",
       "      <th>start_season</th>\n",
       "      <th>goals</th>\n",
       "      <th>assists</th>\n",
       "      <th>minutes_played</th>\n",
       "      <th>competition_code</th>\n",
       "      <th>age</th>\n",
       "      <th>position</th>\n",
       "      <th>current_club_name</th>\n",
       "      <th>country</th>\n",
       "      <th>foot</th>\n",
       "      <th>height_in_cm</th>\n",
       "    </tr>\n",
       "  </thead>\n",
       "  <tbody>\n",
       "    <tr>\n",
       "      <th>7075</th>\n",
       "      <td>Jonathan Clauss</td>\n",
       "      <td>15000000.00</td>\n",
       "      <td>7857662.50</td>\n",
       "      <td>0.65</td>\n",
       "      <td>2023</td>\n",
       "      <td>3</td>\n",
       "      <td>2</td>\n",
       "      <td>1914</td>\n",
       "      <td>ligue-1</td>\n",
       "      <td>31</td>\n",
       "      <td>Right-Back</td>\n",
       "      <td>Olympique de Marseille</td>\n",
       "      <td>France</td>\n",
       "      <td>right</td>\n",
       "      <td>178.00</td>\n",
       "    </tr>\n",
       "    <tr>\n",
       "      <th>3758</th>\n",
       "      <td>Donny van de Beek</td>\n",
       "      <td>7000000.00</td>\n",
       "      <td>13355163.00</td>\n",
       "      <td>0.65</td>\n",
       "      <td>2023</td>\n",
       "      <td>0</td>\n",
       "      <td>0</td>\n",
       "      <td>357</td>\n",
       "      <td>bundesliga</td>\n",
       "      <td>27</td>\n",
       "      <td>Central Midfield</td>\n",
       "      <td>Eintracht Frankfurt Fußball AG</td>\n",
       "      <td>Netherlands</td>\n",
       "      <td>right</td>\n",
       "      <td>184.00</td>\n",
       "    </tr>\n",
       "    <tr>\n",
       "      <th>1829</th>\n",
       "      <td>Benson Manuel</td>\n",
       "      <td>6000000.00</td>\n",
       "      <td>3149801.50</td>\n",
       "      <td>0.64</td>\n",
       "      <td>2023</td>\n",
       "      <td>0</td>\n",
       "      <td>0</td>\n",
       "      <td>92</td>\n",
       "      <td>premier-league</td>\n",
       "      <td>27</td>\n",
       "      <td>Right Winger</td>\n",
       "      <td>Burnley Football Club</td>\n",
       "      <td>Belgium</td>\n",
       "      <td>left</td>\n",
       "      <td>166.00</td>\n",
       "    </tr>\n",
       "    <tr>\n",
       "      <th>13965</th>\n",
       "      <td>Simon Kjaer</td>\n",
       "      <td>2000000.00</td>\n",
       "      <td>3808230.00</td>\n",
       "      <td>0.64</td>\n",
       "      <td>2023</td>\n",
       "      <td>0</td>\n",
       "      <td>1</td>\n",
       "      <td>1169</td>\n",
       "      <td>serie-a</td>\n",
       "      <td>35</td>\n",
       "      <td>Centre-Back</td>\n",
       "      <td>Associazione Calcio Milan</td>\n",
       "      <td>Denmark</td>\n",
       "      <td>right</td>\n",
       "      <td>191.00</td>\n",
       "    </tr>\n",
       "    <tr>\n",
       "      <th>13123</th>\n",
       "      <td>Roman Yaremchuk</td>\n",
       "      <td>4000000.00</td>\n",
       "      <td>7611204.00</td>\n",
       "      <td>0.64</td>\n",
       "      <td>2023</td>\n",
       "      <td>3</td>\n",
       "      <td>0</td>\n",
       "      <td>796</td>\n",
       "      <td>laliga</td>\n",
       "      <td>28</td>\n",
       "      <td>Centre-Forward</td>\n",
       "      <td>Valencia Club de Fútbol S. A. D.</td>\n",
       "      <td>Ukraine</td>\n",
       "      <td>right</td>\n",
       "      <td>191.00</td>\n",
       "    </tr>\n",
       "    <tr>\n",
       "      <th>973</th>\n",
       "      <td>Andrea Petagna</td>\n",
       "      <td>5000000.00</td>\n",
       "      <td>9507698.00</td>\n",
       "      <td>0.64</td>\n",
       "      <td>2023</td>\n",
       "      <td>1</td>\n",
       "      <td>1</td>\n",
       "      <td>997</td>\n",
       "      <td>serie-a</td>\n",
       "      <td>28</td>\n",
       "      <td>Centre-Forward</td>\n",
       "      <td>Cagliari Calcio</td>\n",
       "      <td>Italy</td>\n",
       "      <td>left</td>\n",
       "      <td>190.00</td>\n",
       "    </tr>\n",
       "    <tr>\n",
       "      <th>2648</th>\n",
       "      <td>Christopher Nkunku</td>\n",
       "      <td>70000000.00</td>\n",
       "      <td>36829252.00</td>\n",
       "      <td>0.64</td>\n",
       "      <td>2023</td>\n",
       "      <td>2</td>\n",
       "      <td>0</td>\n",
       "      <td>333</td>\n",
       "      <td>premier-league</td>\n",
       "      <td>26</td>\n",
       "      <td>Attacking Midfield</td>\n",
       "      <td>Chelsea Football Club</td>\n",
       "      <td>France</td>\n",
       "      <td>right</td>\n",
       "      <td>177.00</td>\n",
       "    </tr>\n",
       "    <tr>\n",
       "      <th>10815</th>\n",
       "      <td>Moritz Nicolas</td>\n",
       "      <td>2000000.00</td>\n",
       "      <td>3800011.25</td>\n",
       "      <td>0.64</td>\n",
       "      <td>2023</td>\n",
       "      <td>0</td>\n",
       "      <td>0</td>\n",
       "      <td>2430</td>\n",
       "      <td>bundesliga</td>\n",
       "      <td>26</td>\n",
       "      <td>Goalkeeper</td>\n",
       "      <td>Borussia Verein für Leibesübungen 1900 Mönchen...</td>\n",
       "      <td>Germany</td>\n",
       "      <td>right</td>\n",
       "      <td>193.00</td>\n",
       "    </tr>\n",
       "    <tr>\n",
       "      <th>15443</th>\n",
       "      <td>Wout Weghorst</td>\n",
       "      <td>7000000.00</td>\n",
       "      <td>13294334.00</td>\n",
       "      <td>0.64</td>\n",
       "      <td>2023</td>\n",
       "      <td>7</td>\n",
       "      <td>3</td>\n",
       "      <td>1980</td>\n",
       "      <td>bundesliga</td>\n",
       "      <td>31</td>\n",
       "      <td>Centre-Forward</td>\n",
       "      <td>TSG 1899 Hoffenheim Fußball-Spielbetriebs GmbH</td>\n",
       "      <td>Netherlands</td>\n",
       "      <td>right</td>\n",
       "      <td>197.00</td>\n",
       "    </tr>\n",
       "    <tr>\n",
       "      <th>2996</th>\n",
       "      <td>Dani Parejo</td>\n",
       "      <td>3000000.00</td>\n",
       "      <td>5693035.00</td>\n",
       "      <td>0.64</td>\n",
       "      <td>2023</td>\n",
       "      <td>3</td>\n",
       "      <td>5</td>\n",
       "      <td>2334</td>\n",
       "      <td>laliga</td>\n",
       "      <td>35</td>\n",
       "      <td>Central Midfield</td>\n",
       "      <td>Villarreal Club de Fútbol S.A.D.</td>\n",
       "      <td>Spain</td>\n",
       "      <td>right</td>\n",
       "      <td>182.00</td>\n",
       "    </tr>\n",
       "  </tbody>\n",
       "</table>\n",
       "</div>"
      ],
      "text/plain": [
       "              player_name  market_value_per_season  market_value_pred  \\\n",
       "7075      Jonathan Clauss              15000000.00         7857662.50   \n",
       "3758    Donny van de Beek               7000000.00        13355163.00   \n",
       "1829        Benson Manuel               6000000.00         3149801.50   \n",
       "13965         Simon Kjaer               2000000.00         3808230.00   \n",
       "13123     Roman Yaremchuk               4000000.00         7611204.00   \n",
       "973        Andrea Petagna               5000000.00         9507698.00   \n",
       "2648   Christopher Nkunku              70000000.00        36829252.00   \n",
       "10815      Moritz Nicolas               2000000.00         3800011.25   \n",
       "15443       Wout Weghorst               7000000.00        13294334.00   \n",
       "2996          Dani Parejo               3000000.00         5693035.00   \n",
       "\n",
       "       market_value_rmsle  start_season  goals  assists  minutes_played  \\\n",
       "7075                 0.65          2023      3        2            1914   \n",
       "3758                 0.65          2023      0        0             357   \n",
       "1829                 0.64          2023      0        0              92   \n",
       "13965                0.64          2023      0        1            1169   \n",
       "13123                0.64          2023      3        0             796   \n",
       "973                  0.64          2023      1        1             997   \n",
       "2648                 0.64          2023      2        0             333   \n",
       "10815                0.64          2023      0        0            2430   \n",
       "15443                0.64          2023      7        3            1980   \n",
       "2996                 0.64          2023      3        5            2334   \n",
       "\n",
       "      competition_code  age            position  \\\n",
       "7075           ligue-1   31          Right-Back   \n",
       "3758        bundesliga   27    Central Midfield   \n",
       "1829    premier-league   27        Right Winger   \n",
       "13965          serie-a   35         Centre-Back   \n",
       "13123           laliga   28      Centre-Forward   \n",
       "973            serie-a   28      Centre-Forward   \n",
       "2648    premier-league   26  Attacking Midfield   \n",
       "10815       bundesliga   26          Goalkeeper   \n",
       "15443       bundesliga   31      Centre-Forward   \n",
       "2996            laliga   35    Central Midfield   \n",
       "\n",
       "                                       current_club_name      country   foot  \\\n",
       "7075                              Olympique de Marseille       France  right   \n",
       "3758                      Eintracht Frankfurt Fußball AG  Netherlands  right   \n",
       "1829                               Burnley Football Club      Belgium   left   \n",
       "13965                          Associazione Calcio Milan      Denmark  right   \n",
       "13123                   Valencia Club de Fútbol S. A. D.      Ukraine  right   \n",
       "973                                      Cagliari Calcio        Italy   left   \n",
       "2648                               Chelsea Football Club       France  right   \n",
       "10815  Borussia Verein für Leibesübungen 1900 Mönchen...      Germany  right   \n",
       "15443     TSG 1899 Hoffenheim Fußball-Spielbetriebs GmbH  Netherlands  right   \n",
       "2996                    Villarreal Club de Fútbol S.A.D.        Spain  right   \n",
       "\n",
       "       height_in_cm  \n",
       "7075         178.00  \n",
       "3758         184.00  \n",
       "1829         166.00  \n",
       "13965        191.00  \n",
       "13123        191.00  \n",
       "973          190.00  \n",
       "2648         177.00  \n",
       "10815        193.00  \n",
       "15443        197.00  \n",
       "2996         182.00  "
      ]
     },
     "execution_count": 81,
     "metadata": {},
     "output_type": "execute_result"
    }
   ],
   "source": [
    "# RMSLE 값이 0.64 (75%) 이상인 예측 값 확인\n",
    "# RMSLE 값 최대치 : 약 3.83\n",
    "\n",
    "test_copy_xgb[test_copy_xgb.market_value_rmsle >= 0.64].sort_values(by=\"market_value_rmsle\", ascending=False).tail(10)\n"
   ]
  },
  {
   "cell_type": "code",
   "execution_count": 82,
   "metadata": {},
   "outputs": [
    {
     "data": {
      "text/html": [
       "<div>\n",
       "<style scoped>\n",
       "    .dataframe tbody tr th:only-of-type {\n",
       "        vertical-align: middle;\n",
       "    }\n",
       "\n",
       "    .dataframe tbody tr th {\n",
       "        vertical-align: top;\n",
       "    }\n",
       "\n",
       "    .dataframe thead th {\n",
       "        text-align: right;\n",
       "    }\n",
       "</style>\n",
       "<table border=\"1\" class=\"dataframe\">\n",
       "  <thead>\n",
       "    <tr style=\"text-align: right;\">\n",
       "      <th></th>\n",
       "      <th>player_name</th>\n",
       "      <th>market_value_per_season</th>\n",
       "      <th>market_value_pred</th>\n",
       "      <th>market_value_rmsle</th>\n",
       "      <th>start_season</th>\n",
       "      <th>goals</th>\n",
       "      <th>assists</th>\n",
       "      <th>minutes_played</th>\n",
       "      <th>competition_code</th>\n",
       "      <th>age</th>\n",
       "      <th>position</th>\n",
       "      <th>current_club_name</th>\n",
       "      <th>country</th>\n",
       "      <th>foot</th>\n",
       "      <th>height_in_cm</th>\n",
       "    </tr>\n",
       "  </thead>\n",
       "  <tbody>\n",
       "    <tr>\n",
       "      <th>10720</th>\n",
       "      <td>Mohamed Elneny</td>\n",
       "      <td>4500000.00</td>\n",
       "      <td>4399555.00</td>\n",
       "      <td>0.02</td>\n",
       "      <td>2023</td>\n",
       "      <td>0</td>\n",
       "      <td>0</td>\n",
       "      <td>25</td>\n",
       "      <td>premier-league</td>\n",
       "      <td>31</td>\n",
       "      <td>Defensive Midfield</td>\n",
       "      <td>Arsenal Football Club</td>\n",
       "      <td>Egypt</td>\n",
       "      <td>right</td>\n",
       "      <td>179.00</td>\n",
       "    </tr>\n",
       "    <tr>\n",
       "      <th>12641</th>\n",
       "      <td>Reiss Nelson</td>\n",
       "      <td>15000000.00</td>\n",
       "      <td>14280841.00</td>\n",
       "      <td>0.05</td>\n",
       "      <td>2023</td>\n",
       "      <td>0</td>\n",
       "      <td>0</td>\n",
       "      <td>257</td>\n",
       "      <td>premier-league</td>\n",
       "      <td>24</td>\n",
       "      <td>Right Winger</td>\n",
       "      <td>Arsenal Football Club</td>\n",
       "      <td>England</td>\n",
       "      <td>right</td>\n",
       "      <td>175.00</td>\n",
       "    </tr>\n",
       "    <tr>\n",
       "      <th>8492</th>\n",
       "      <td>Leandro Trossard</td>\n",
       "      <td>38000000.00</td>\n",
       "      <td>40276092.00</td>\n",
       "      <td>0.06</td>\n",
       "      <td>2023</td>\n",
       "      <td>11</td>\n",
       "      <td>1</td>\n",
       "      <td>1502</td>\n",
       "      <td>premier-league</td>\n",
       "      <td>29</td>\n",
       "      <td>Left Winger</td>\n",
       "      <td>Arsenal Football Club</td>\n",
       "      <td>Belgium</td>\n",
       "      <td>right</td>\n",
       "      <td>172.00</td>\n",
       "    </tr>\n",
       "    <tr>\n",
       "      <th>3850</th>\n",
       "      <td>Eddie Nketiah</td>\n",
       "      <td>30000000.00</td>\n",
       "      <td>28169056.00</td>\n",
       "      <td>0.06</td>\n",
       "      <td>2023</td>\n",
       "      <td>5</td>\n",
       "      <td>2</td>\n",
       "      <td>1072</td>\n",
       "      <td>premier-league</td>\n",
       "      <td>24</td>\n",
       "      <td>Centre-Forward</td>\n",
       "      <td>Arsenal Football Club</td>\n",
       "      <td>England</td>\n",
       "      <td>right</td>\n",
       "      <td>175.00</td>\n",
       "    </tr>\n",
       "    <tr>\n",
       "      <th>4980</th>\n",
       "      <td>Fábio Vieira</td>\n",
       "      <td>25000000.00</td>\n",
       "      <td>23328020.00</td>\n",
       "      <td>0.07</td>\n",
       "      <td>2023</td>\n",
       "      <td>1</td>\n",
       "      <td>2</td>\n",
       "      <td>292</td>\n",
       "      <td>premier-league</td>\n",
       "      <td>23</td>\n",
       "      <td>Attacking Midfield</td>\n",
       "      <td>Arsenal Football Club</td>\n",
       "      <td>Portugal</td>\n",
       "      <td>left</td>\n",
       "      <td>170.00</td>\n",
       "    </tr>\n",
       "    <tr>\n",
       "      <th>7243</th>\n",
       "      <td>Jorginho</td>\n",
       "      <td>15000000.00</td>\n",
       "      <td>16667352.00</td>\n",
       "      <td>0.11</td>\n",
       "      <td>2023</td>\n",
       "      <td>0</td>\n",
       "      <td>2</td>\n",
       "      <td>919</td>\n",
       "      <td>premier-league</td>\n",
       "      <td>32</td>\n",
       "      <td>Defensive Midfield</td>\n",
       "      <td>Arsenal Football Club</td>\n",
       "      <td>Italy</td>\n",
       "      <td>right</td>\n",
       "      <td>178.00</td>\n",
       "    </tr>\n",
       "    <tr>\n",
       "      <th>6353</th>\n",
       "      <td>Jakub Kiwior</td>\n",
       "      <td>25000000.00</td>\n",
       "      <td>22267338.00</td>\n",
       "      <td>0.12</td>\n",
       "      <td>2023</td>\n",
       "      <td>1</td>\n",
       "      <td>3</td>\n",
       "      <td>944</td>\n",
       "      <td>premier-league</td>\n",
       "      <td>24</td>\n",
       "      <td>Left-Back</td>\n",
       "      <td>Arsenal Football Club</td>\n",
       "      <td>Poland</td>\n",
       "      <td>left</td>\n",
       "      <td>189.00</td>\n",
       "    </tr>\n",
       "    <tr>\n",
       "      <th>1758</th>\n",
       "      <td>Ben White</td>\n",
       "      <td>55000000.00</td>\n",
       "      <td>62565724.00</td>\n",
       "      <td>0.13</td>\n",
       "      <td>2023</td>\n",
       "      <td>4</td>\n",
       "      <td>4</td>\n",
       "      <td>2836</td>\n",
       "      <td>premier-league</td>\n",
       "      <td>26</td>\n",
       "      <td>Right-Back</td>\n",
       "      <td>Arsenal Football Club</td>\n",
       "      <td>England</td>\n",
       "      <td>right</td>\n",
       "      <td>186.00</td>\n",
       "    </tr>\n",
       "    <tr>\n",
       "      <th>4067</th>\n",
       "      <td>Emile Smith Rowe</td>\n",
       "      <td>25000000.00</td>\n",
       "      <td>29130590.00</td>\n",
       "      <td>0.15</td>\n",
       "      <td>2023</td>\n",
       "      <td>0</td>\n",
       "      <td>2</td>\n",
       "      <td>325</td>\n",
       "      <td>premier-league</td>\n",
       "      <td>23</td>\n",
       "      <td>Attacking Midfield</td>\n",
       "      <td>Arsenal Football Club</td>\n",
       "      <td>England</td>\n",
       "      <td>right</td>\n",
       "      <td>182.00</td>\n",
       "    </tr>\n",
       "    <tr>\n",
       "      <th>14537</th>\n",
       "      <td>Thomas Partey</td>\n",
       "      <td>20000000.00</td>\n",
       "      <td>23930734.00</td>\n",
       "      <td>0.18</td>\n",
       "      <td>2023</td>\n",
       "      <td>0</td>\n",
       "      <td>0</td>\n",
       "      <td>630</td>\n",
       "      <td>premier-league</td>\n",
       "      <td>30</td>\n",
       "      <td>Defensive Midfield</td>\n",
       "      <td>Arsenal Football Club</td>\n",
       "      <td>Ghana</td>\n",
       "      <td>right</td>\n",
       "      <td>185.00</td>\n",
       "    </tr>\n",
       "  </tbody>\n",
       "</table>\n",
       "</div>"
      ],
      "text/plain": [
       "            player_name  market_value_per_season  market_value_pred  \\\n",
       "10720    Mohamed Elneny               4500000.00         4399555.00   \n",
       "12641      Reiss Nelson              15000000.00        14280841.00   \n",
       "8492   Leandro Trossard              38000000.00        40276092.00   \n",
       "3850      Eddie Nketiah              30000000.00        28169056.00   \n",
       "4980       Fábio Vieira              25000000.00        23328020.00   \n",
       "7243           Jorginho              15000000.00        16667352.00   \n",
       "6353       Jakub Kiwior              25000000.00        22267338.00   \n",
       "1758          Ben White              55000000.00        62565724.00   \n",
       "4067   Emile Smith Rowe              25000000.00        29130590.00   \n",
       "14537     Thomas Partey              20000000.00        23930734.00   \n",
       "\n",
       "       market_value_rmsle  start_season  goals  assists  minutes_played  \\\n",
       "10720                0.02          2023      0        0              25   \n",
       "12641                0.05          2023      0        0             257   \n",
       "8492                 0.06          2023     11        1            1502   \n",
       "3850                 0.06          2023      5        2            1072   \n",
       "4980                 0.07          2023      1        2             292   \n",
       "7243                 0.11          2023      0        2             919   \n",
       "6353                 0.12          2023      1        3             944   \n",
       "1758                 0.13          2023      4        4            2836   \n",
       "4067                 0.15          2023      0        2             325   \n",
       "14537                0.18          2023      0        0             630   \n",
       "\n",
       "      competition_code  age            position      current_club_name  \\\n",
       "10720   premier-league   31  Defensive Midfield  Arsenal Football Club   \n",
       "12641   premier-league   24        Right Winger  Arsenal Football Club   \n",
       "8492    premier-league   29         Left Winger  Arsenal Football Club   \n",
       "3850    premier-league   24      Centre-Forward  Arsenal Football Club   \n",
       "4980    premier-league   23  Attacking Midfield  Arsenal Football Club   \n",
       "7243    premier-league   32  Defensive Midfield  Arsenal Football Club   \n",
       "6353    premier-league   24           Left-Back  Arsenal Football Club   \n",
       "1758    premier-league   26          Right-Back  Arsenal Football Club   \n",
       "4067    premier-league   23  Attacking Midfield  Arsenal Football Club   \n",
       "14537   premier-league   30  Defensive Midfield  Arsenal Football Club   \n",
       "\n",
       "        country   foot  height_in_cm  \n",
       "10720     Egypt  right        179.00  \n",
       "12641   England  right        175.00  \n",
       "8492    Belgium  right        172.00  \n",
       "3850    England  right        175.00  \n",
       "4980   Portugal   left        170.00  \n",
       "7243      Italy  right        178.00  \n",
       "6353     Poland   left        189.00  \n",
       "1758    England  right        186.00  \n",
       "4067    England  right        182.00  \n",
       "14537     Ghana  right        185.00  "
      ]
     },
     "execution_count": 82,
     "metadata": {},
     "output_type": "execute_result"
    }
   ],
   "source": [
    "# Arsenal 선수들의 2324 시즌 몸값 비교\n",
    "test_copy_xgb[test_copy_xgb.current_club_name==\"Arsenal Football Club\"].sort_values(\"market_value_rmsle\").head(10)"
   ]
  },
  {
   "cell_type": "code",
   "execution_count": 83,
   "metadata": {},
   "outputs": [
    {
     "data": {
      "text/html": [
       "<div>\n",
       "<style scoped>\n",
       "    .dataframe tbody tr th:only-of-type {\n",
       "        vertical-align: middle;\n",
       "    }\n",
       "\n",
       "    .dataframe tbody tr th {\n",
       "        vertical-align: top;\n",
       "    }\n",
       "\n",
       "    .dataframe thead th {\n",
       "        text-align: right;\n",
       "    }\n",
       "</style>\n",
       "<table border=\"1\" class=\"dataframe\">\n",
       "  <thead>\n",
       "    <tr style=\"text-align: right;\">\n",
       "      <th></th>\n",
       "      <th>player_name</th>\n",
       "      <th>market_value_per_season</th>\n",
       "      <th>market_value_pred</th>\n",
       "      <th>market_value_rmsle</th>\n",
       "      <th>start_season</th>\n",
       "      <th>goals</th>\n",
       "      <th>assists</th>\n",
       "      <th>minutes_played</th>\n",
       "      <th>competition_code</th>\n",
       "      <th>age</th>\n",
       "      <th>position</th>\n",
       "      <th>current_club_name</th>\n",
       "      <th>country</th>\n",
       "      <th>foot</th>\n",
       "      <th>height_in_cm</th>\n",
       "    </tr>\n",
       "  </thead>\n",
       "  <tbody>\n",
       "    <tr>\n",
       "      <th>2065</th>\n",
       "      <td>Brennan Johnson</td>\n",
       "      <td>48000000.00</td>\n",
       "      <td>49321336.00</td>\n",
       "      <td>0.03</td>\n",
       "      <td>2023</td>\n",
       "      <td>5</td>\n",
       "      <td>8</td>\n",
       "      <td>1823</td>\n",
       "      <td>premier-league</td>\n",
       "      <td>22</td>\n",
       "      <td>Right Winger</td>\n",
       "      <td>Tottenham Hotspur Football Club</td>\n",
       "      <td>Wales</td>\n",
       "      <td>right</td>\n",
       "      <td>186.00</td>\n",
       "    </tr>\n",
       "    <tr>\n",
       "      <th>11585</th>\n",
       "      <td>Oliver Skipp</td>\n",
       "      <td>15000000.00</td>\n",
       "      <td>15694277.00</td>\n",
       "      <td>0.05</td>\n",
       "      <td>2023</td>\n",
       "      <td>0</td>\n",
       "      <td>0</td>\n",
       "      <td>600</td>\n",
       "      <td>premier-league</td>\n",
       "      <td>23</td>\n",
       "      <td>Defensive Midfield</td>\n",
       "      <td>Tottenham Hotspur Football Club</td>\n",
       "      <td>England</td>\n",
       "      <td>right</td>\n",
       "      <td>175.00</td>\n",
       "    </tr>\n",
       "    <tr>\n",
       "      <th>12794</th>\n",
       "      <td>Richarlison</td>\n",
       "      <td>40000000.00</td>\n",
       "      <td>44921416.00</td>\n",
       "      <td>0.12</td>\n",
       "      <td>2023</td>\n",
       "      <td>11</td>\n",
       "      <td>4</td>\n",
       "      <td>1492</td>\n",
       "      <td>premier-league</td>\n",
       "      <td>27</td>\n",
       "      <td>Centre-Forward</td>\n",
       "      <td>Tottenham Hotspur Football Club</td>\n",
       "      <td>Brazil</td>\n",
       "      <td>right</td>\n",
       "      <td>184.00</td>\n",
       "    </tr>\n",
       "    <tr>\n",
       "      <th>3380</th>\n",
       "      <td>Dejan Kulusevski</td>\n",
       "      <td>55000000.00</td>\n",
       "      <td>48371032.00</td>\n",
       "      <td>0.13</td>\n",
       "      <td>2023</td>\n",
       "      <td>6</td>\n",
       "      <td>3</td>\n",
       "      <td>2566</td>\n",
       "      <td>premier-league</td>\n",
       "      <td>24</td>\n",
       "      <td>Right Winger</td>\n",
       "      <td>Tottenham Hotspur Football Club</td>\n",
       "      <td>Sweden</td>\n",
       "      <td>left</td>\n",
       "      <td>186.00</td>\n",
       "    </tr>\n",
       "    <tr>\n",
       "      <th>1732</th>\n",
       "      <td>Ben Davies</td>\n",
       "      <td>12000000.00</td>\n",
       "      <td>10492647.00</td>\n",
       "      <td>0.13</td>\n",
       "      <td>2023</td>\n",
       "      <td>1</td>\n",
       "      <td>0</td>\n",
       "      <td>1086</td>\n",
       "      <td>premier-league</td>\n",
       "      <td>31</td>\n",
       "      <td>Left-Back</td>\n",
       "      <td>Tottenham Hotspur Football Club</td>\n",
       "      <td>Wales</td>\n",
       "      <td>left</td>\n",
       "      <td>181.00</td>\n",
       "    </tr>\n",
       "    <tr>\n",
       "      <th>5728</th>\n",
       "      <td>Heung-min Son</td>\n",
       "      <td>50000000.00</td>\n",
       "      <td>58188860.00</td>\n",
       "      <td>0.15</td>\n",
       "      <td>2023</td>\n",
       "      <td>17</td>\n",
       "      <td>9</td>\n",
       "      <td>2680</td>\n",
       "      <td>premier-league</td>\n",
       "      <td>31</td>\n",
       "      <td>Left Winger</td>\n",
       "      <td>Tottenham Hotspur Football Club</td>\n",
       "      <td>Korea, South</td>\n",
       "      <td>both</td>\n",
       "      <td>184.00</td>\n",
       "    </tr>\n",
       "    <tr>\n",
       "      <th>2191</th>\n",
       "      <td>Bryan Gil</td>\n",
       "      <td>16000000.00</td>\n",
       "      <td>19503770.00</td>\n",
       "      <td>0.20</td>\n",
       "      <td>2023</td>\n",
       "      <td>0</td>\n",
       "      <td>0</td>\n",
       "      <td>201</td>\n",
       "      <td>premier-league</td>\n",
       "      <td>23</td>\n",
       "      <td>Right Winger</td>\n",
       "      <td>Tottenham Hotspur Football Club</td>\n",
       "      <td>Spain</td>\n",
       "      <td>left</td>\n",
       "      <td>175.00</td>\n",
       "    </tr>\n",
       "    <tr>\n",
       "      <th>13000</th>\n",
       "      <td>Rodrigo Bentancur</td>\n",
       "      <td>35000000.00</td>\n",
       "      <td>27864444.00</td>\n",
       "      <td>0.23</td>\n",
       "      <td>2023</td>\n",
       "      <td>1</td>\n",
       "      <td>1</td>\n",
       "      <td>861</td>\n",
       "      <td>premier-league</td>\n",
       "      <td>26</td>\n",
       "      <td>Central Midfield</td>\n",
       "      <td>Tottenham Hotspur Football Club</td>\n",
       "      <td>Uruguay</td>\n",
       "      <td>right</td>\n",
       "      <td>187.00</td>\n",
       "    </tr>\n",
       "    <tr>\n",
       "      <th>4040</th>\n",
       "      <td>Emerson Royal</td>\n",
       "      <td>18000000.00</td>\n",
       "      <td>22955328.00</td>\n",
       "      <td>0.24</td>\n",
       "      <td>2023</td>\n",
       "      <td>1</td>\n",
       "      <td>0</td>\n",
       "      <td>1141</td>\n",
       "      <td>premier-league</td>\n",
       "      <td>25</td>\n",
       "      <td>Right-Back</td>\n",
       "      <td>Tottenham Hotspur Football Club</td>\n",
       "      <td>Brazil</td>\n",
       "      <td>right</td>\n",
       "      <td>183.00</td>\n",
       "    </tr>\n",
       "    <tr>\n",
       "      <th>12264</th>\n",
       "      <td>Pierre-Emile Højbjerg</td>\n",
       "      <td>20000000.00</td>\n",
       "      <td>26612196.00</td>\n",
       "      <td>0.29</td>\n",
       "      <td>2023</td>\n",
       "      <td>0</td>\n",
       "      <td>0</td>\n",
       "      <td>1182</td>\n",
       "      <td>premier-league</td>\n",
       "      <td>28</td>\n",
       "      <td>Defensive Midfield</td>\n",
       "      <td>Tottenham Hotspur Football Club</td>\n",
       "      <td>Denmark</td>\n",
       "      <td>right</td>\n",
       "      <td>185.00</td>\n",
       "    </tr>\n",
       "  </tbody>\n",
       "</table>\n",
       "</div>"
      ],
      "text/plain": [
       "                 player_name  market_value_per_season  market_value_pred  \\\n",
       "2065         Brennan Johnson              48000000.00        49321336.00   \n",
       "11585           Oliver Skipp              15000000.00        15694277.00   \n",
       "12794            Richarlison              40000000.00        44921416.00   \n",
       "3380        Dejan Kulusevski              55000000.00        48371032.00   \n",
       "1732              Ben Davies              12000000.00        10492647.00   \n",
       "5728           Heung-min Son              50000000.00        58188860.00   \n",
       "2191               Bryan Gil              16000000.00        19503770.00   \n",
       "13000      Rodrigo Bentancur              35000000.00        27864444.00   \n",
       "4040           Emerson Royal              18000000.00        22955328.00   \n",
       "12264  Pierre-Emile Højbjerg              20000000.00        26612196.00   \n",
       "\n",
       "       market_value_rmsle  start_season  goals  assists  minutes_played  \\\n",
       "2065                 0.03          2023      5        8            1823   \n",
       "11585                0.05          2023      0        0             600   \n",
       "12794                0.12          2023     11        4            1492   \n",
       "3380                 0.13          2023      6        3            2566   \n",
       "1732                 0.13          2023      1        0            1086   \n",
       "5728                 0.15          2023     17        9            2680   \n",
       "2191                 0.20          2023      0        0             201   \n",
       "13000                0.23          2023      1        1             861   \n",
       "4040                 0.24          2023      1        0            1141   \n",
       "12264                0.29          2023      0        0            1182   \n",
       "\n",
       "      competition_code  age            position  \\\n",
       "2065    premier-league   22        Right Winger   \n",
       "11585   premier-league   23  Defensive Midfield   \n",
       "12794   premier-league   27      Centre-Forward   \n",
       "3380    premier-league   24        Right Winger   \n",
       "1732    premier-league   31           Left-Back   \n",
       "5728    premier-league   31         Left Winger   \n",
       "2191    premier-league   23        Right Winger   \n",
       "13000   premier-league   26    Central Midfield   \n",
       "4040    premier-league   25          Right-Back   \n",
       "12264   premier-league   28  Defensive Midfield   \n",
       "\n",
       "                     current_club_name       country   foot  height_in_cm  \n",
       "2065   Tottenham Hotspur Football Club         Wales  right        186.00  \n",
       "11585  Tottenham Hotspur Football Club       England  right        175.00  \n",
       "12794  Tottenham Hotspur Football Club        Brazil  right        184.00  \n",
       "3380   Tottenham Hotspur Football Club        Sweden   left        186.00  \n",
       "1732   Tottenham Hotspur Football Club         Wales   left        181.00  \n",
       "5728   Tottenham Hotspur Football Club  Korea, South   both        184.00  \n",
       "2191   Tottenham Hotspur Football Club         Spain   left        175.00  \n",
       "13000  Tottenham Hotspur Football Club       Uruguay  right        187.00  \n",
       "4040   Tottenham Hotspur Football Club        Brazil  right        183.00  \n",
       "12264  Tottenham Hotspur Football Club       Denmark  right        185.00  "
      ]
     },
     "execution_count": 83,
     "metadata": {},
     "output_type": "execute_result"
    }
   ],
   "source": [
    "# Tottenham 선수들의 2324 시즌 몸값 비교\n",
    "test_copy_xgb[test_copy_xgb.current_club_name==\"Tottenham Hotspur Football Club\"].sort_values(\"market_value_rmsle\").head(10)"
   ]
  },
  {
   "cell_type": "markdown",
   "metadata": {},
   "source": [
    "#### `CatBoost` 모델로 예측한 test 값을 y_test 값과 비교"
   ]
  },
  {
   "cell_type": "code",
   "execution_count": 84,
   "metadata": {},
   "outputs": [],
   "source": [
    "# test 데이터프레임 copy\n",
    "test_copy_cat = test.copy()\n",
    "\n",
    "# xgb_optuna 모델로 예측한 X_test의 몸값을 담은 컬럼을 test_copy에 생성\n",
    "test_copy_cat[\"market_value_pred\"] = cat_optuna.predict(X_test)"
   ]
  },
  {
   "cell_type": "code",
   "execution_count": 85,
   "metadata": {},
   "outputs": [],
   "source": [
    "# get_rmsle 함수 활용하여, 실제 몸값과 예측 몸값의 차이 RMSLE 계산한 컬럼 생성\n",
    "test_copy_cat['market_value_rmsle'] = test_copy_cat.apply(lambda x:get_rmsle(x[\"market_value_per_season\"], x[\"market_value_pred\"]), axis=1)"
   ]
  },
  {
   "cell_type": "code",
   "execution_count": 87,
   "metadata": {},
   "outputs": [],
   "source": [
    "test_copy_cat = test_copy_cat[['player_name', 'market_value_per_season', 'market_value_pred', 'market_value_rmsle',\n",
    "                       'start_season', 'goals', 'assists', 'minutes_played',\n",
    "                       'competition_code', 'age', 'position', 'current_club_name', 'country', \n",
    "                       'foot', 'height_in_cm']]"
   ]
  },
  {
   "cell_type": "code",
   "execution_count": 88,
   "metadata": {},
   "outputs": [
    {
     "data": {
      "text/html": [
       "<div>\n",
       "<style scoped>\n",
       "    .dataframe tbody tr th:only-of-type {\n",
       "        vertical-align: middle;\n",
       "    }\n",
       "\n",
       "    .dataframe tbody tr th {\n",
       "        vertical-align: top;\n",
       "    }\n",
       "\n",
       "    .dataframe thead th {\n",
       "        text-align: right;\n",
       "    }\n",
       "</style>\n",
       "<table border=\"1\" class=\"dataframe\">\n",
       "  <thead>\n",
       "    <tr style=\"text-align: right;\">\n",
       "      <th></th>\n",
       "      <th>market_value_per_season</th>\n",
       "      <th>market_value_pred</th>\n",
       "      <th>market_value_rmsle</th>\n",
       "      <th>start_season</th>\n",
       "      <th>goals</th>\n",
       "      <th>assists</th>\n",
       "      <th>minutes_played</th>\n",
       "      <th>age</th>\n",
       "      <th>height_in_cm</th>\n",
       "    </tr>\n",
       "  </thead>\n",
       "  <tbody>\n",
       "    <tr>\n",
       "      <th>count</th>\n",
       "      <td>2916.00</td>\n",
       "      <td>2916.00</td>\n",
       "      <td>2877.00</td>\n",
       "      <td>2916.00</td>\n",
       "      <td>2916.00</td>\n",
       "      <td>2916.00</td>\n",
       "      <td>2916.00</td>\n",
       "      <td>2916.00</td>\n",
       "      <td>2916.00</td>\n",
       "    </tr>\n",
       "    <tr>\n",
       "      <th>mean</th>\n",
       "      <td>10746150.55</td>\n",
       "      <td>9564350.63</td>\n",
       "      <td>0.47</td>\n",
       "      <td>2023.00</td>\n",
       "      <td>1.75</td>\n",
       "      <td>1.35</td>\n",
       "      <td>1242.71</td>\n",
       "      <td>26.22</td>\n",
       "      <td>182.77</td>\n",
       "    </tr>\n",
       "    <tr>\n",
       "      <th>std</th>\n",
       "      <td>16543013.03</td>\n",
       "      <td>12831692.82</td>\n",
       "      <td>0.43</td>\n",
       "      <td>0.00</td>\n",
       "      <td>3.13</td>\n",
       "      <td>2.01</td>\n",
       "      <td>868.15</td>\n",
       "      <td>4.39</td>\n",
       "      <td>6.75</td>\n",
       "    </tr>\n",
       "    <tr>\n",
       "      <th>min</th>\n",
       "      <td>50000.00</td>\n",
       "      <td>-715139.31</td>\n",
       "      <td>0.00</td>\n",
       "      <td>2023.00</td>\n",
       "      <td>0.00</td>\n",
       "      <td>0.00</td>\n",
       "      <td>1.00</td>\n",
       "      <td>16.00</td>\n",
       "      <td>163.00</td>\n",
       "    </tr>\n",
       "    <tr>\n",
       "      <th>25%</th>\n",
       "      <td>1700000.00</td>\n",
       "      <td>2093361.06</td>\n",
       "      <td>0.17</td>\n",
       "      <td>2023.00</td>\n",
       "      <td>0.00</td>\n",
       "      <td>0.00</td>\n",
       "      <td>451.50</td>\n",
       "      <td>23.00</td>\n",
       "      <td>178.00</td>\n",
       "    </tr>\n",
       "    <tr>\n",
       "      <th>50%</th>\n",
       "      <td>4500000.00</td>\n",
       "      <td>4879022.46</td>\n",
       "      <td>0.36</td>\n",
       "      <td>2023.00</td>\n",
       "      <td>1.00</td>\n",
       "      <td>1.00</td>\n",
       "      <td>1178.00</td>\n",
       "      <td>26.00</td>\n",
       "      <td>183.00</td>\n",
       "    </tr>\n",
       "    <tr>\n",
       "      <th>75%</th>\n",
       "      <td>13000000.00</td>\n",
       "      <td>11943671.78</td>\n",
       "      <td>0.64</td>\n",
       "      <td>2023.00</td>\n",
       "      <td>2.00</td>\n",
       "      <td>2.00</td>\n",
       "      <td>1942.25</td>\n",
       "      <td>29.00</td>\n",
       "      <td>188.00</td>\n",
       "    </tr>\n",
       "    <tr>\n",
       "      <th>max</th>\n",
       "      <td>180000000.00</td>\n",
       "      <td>141823847.86</td>\n",
       "      <td>3.92</td>\n",
       "      <td>2023.00</td>\n",
       "      <td>36.00</td>\n",
       "      <td>14.00</td>\n",
       "      <td>3240.00</td>\n",
       "      <td>41.00</td>\n",
       "      <td>206.00</td>\n",
       "    </tr>\n",
       "  </tbody>\n",
       "</table>\n",
       "</div>"
      ],
      "text/plain": [
       "       market_value_per_season  market_value_pred  market_value_rmsle  \\\n",
       "count                  2916.00            2916.00             2877.00   \n",
       "mean               10746150.55         9564350.63                0.47   \n",
       "std                16543013.03        12831692.82                0.43   \n",
       "min                   50000.00         -715139.31                0.00   \n",
       "25%                 1700000.00         2093361.06                0.17   \n",
       "50%                 4500000.00         4879022.46                0.36   \n",
       "75%                13000000.00        11943671.78                0.64   \n",
       "max               180000000.00       141823847.86                3.92   \n",
       "\n",
       "       start_season   goals  assists  minutes_played     age  height_in_cm  \n",
       "count       2916.00 2916.00  2916.00         2916.00 2916.00       2916.00  \n",
       "mean        2023.00    1.75     1.35         1242.71   26.22        182.77  \n",
       "std            0.00    3.13     2.01          868.15    4.39          6.75  \n",
       "min         2023.00    0.00     0.00            1.00   16.00        163.00  \n",
       "25%         2023.00    0.00     0.00          451.50   23.00        178.00  \n",
       "50%         2023.00    1.00     1.00         1178.00   26.00        183.00  \n",
       "75%         2023.00    2.00     2.00         1942.25   29.00        188.00  \n",
       "max         2023.00   36.00    14.00         3240.00   41.00        206.00  "
      ]
     },
     "execution_count": 88,
     "metadata": {},
     "output_type": "execute_result"
    }
   ],
   "source": [
    "test_copy_cat.describe()"
   ]
  },
  {
   "cell_type": "code",
   "execution_count": 90,
   "metadata": {},
   "outputs": [
    {
     "data": {
      "text/html": [
       "<div>\n",
       "<style scoped>\n",
       "    .dataframe tbody tr th:only-of-type {\n",
       "        vertical-align: middle;\n",
       "    }\n",
       "\n",
       "    .dataframe tbody tr th {\n",
       "        vertical-align: top;\n",
       "    }\n",
       "\n",
       "    .dataframe thead th {\n",
       "        text-align: right;\n",
       "    }\n",
       "</style>\n",
       "<table border=\"1\" class=\"dataframe\">\n",
       "  <thead>\n",
       "    <tr style=\"text-align: right;\">\n",
       "      <th></th>\n",
       "      <th>player_name</th>\n",
       "      <th>market_value_per_season</th>\n",
       "      <th>market_value_pred</th>\n",
       "      <th>market_value_rmsle</th>\n",
       "      <th>start_season</th>\n",
       "      <th>goals</th>\n",
       "      <th>assists</th>\n",
       "      <th>minutes_played</th>\n",
       "      <th>competition_code</th>\n",
       "      <th>age</th>\n",
       "      <th>position</th>\n",
       "      <th>current_club_name</th>\n",
       "      <th>country</th>\n",
       "      <th>foot</th>\n",
       "      <th>height_in_cm</th>\n",
       "    </tr>\n",
       "  </thead>\n",
       "  <tbody>\n",
       "    <tr>\n",
       "      <th>7709</th>\n",
       "      <td>Julián Álvarez</td>\n",
       "      <td>90000000.00</td>\n",
       "      <td>89680973.24</td>\n",
       "      <td>0.00</td>\n",
       "      <td>2023</td>\n",
       "      <td>10</td>\n",
       "      <td>9</td>\n",
       "      <td>2650</td>\n",
       "      <td>premier-league</td>\n",
       "      <td>24</td>\n",
       "      <td>Second Striker</td>\n",
       "      <td>Manchester City Football Club</td>\n",
       "      <td>Argentina</td>\n",
       "      <td>right</td>\n",
       "      <td>170.00</td>\n",
       "    </tr>\n",
       "    <tr>\n",
       "      <th>2111</th>\n",
       "      <td>Bruno Fernandes</td>\n",
       "      <td>70000000.00</td>\n",
       "      <td>71176534.59</td>\n",
       "      <td>0.02</td>\n",
       "      <td>2023</td>\n",
       "      <td>10</td>\n",
       "      <td>7</td>\n",
       "      <td>2970</td>\n",
       "      <td>premier-league</td>\n",
       "      <td>29</td>\n",
       "      <td>Attacking Midfield</td>\n",
       "      <td>Manchester United Football Club</td>\n",
       "      <td>Portugal</td>\n",
       "      <td>right</td>\n",
       "      <td>179.00</td>\n",
       "    </tr>\n",
       "    <tr>\n",
       "      <th>3200</th>\n",
       "      <td>Darwin Núñez</td>\n",
       "      <td>70000000.00</td>\n",
       "      <td>72664106.91</td>\n",
       "      <td>0.04</td>\n",
       "      <td>2023</td>\n",
       "      <td>11</td>\n",
       "      <td>8</td>\n",
       "      <td>2011</td>\n",
       "      <td>premier-league</td>\n",
       "      <td>24</td>\n",
       "      <td>Centre-Forward</td>\n",
       "      <td>Liverpool Football Club</td>\n",
       "      <td>Uruguay</td>\n",
       "      <td>right</td>\n",
       "      <td>187.00</td>\n",
       "    </tr>\n",
       "    <tr>\n",
       "      <th>10732</th>\n",
       "      <td>Mohamed Salah</td>\n",
       "      <td>65000000.00</td>\n",
       "      <td>67782418.50</td>\n",
       "      <td>0.04</td>\n",
       "      <td>2023</td>\n",
       "      <td>18</td>\n",
       "      <td>10</td>\n",
       "      <td>2356</td>\n",
       "      <td>premier-league</td>\n",
       "      <td>31</td>\n",
       "      <td>Right Winger</td>\n",
       "      <td>Liverpool Football Club</td>\n",
       "      <td>Egypt</td>\n",
       "      <td>left</td>\n",
       "      <td>175.00</td>\n",
       "    </tr>\n",
       "    <tr>\n",
       "      <th>3380</th>\n",
       "      <td>Dejan Kulusevski</td>\n",
       "      <td>55000000.00</td>\n",
       "      <td>53048275.79</td>\n",
       "      <td>0.04</td>\n",
       "      <td>2023</td>\n",
       "      <td>6</td>\n",
       "      <td>3</td>\n",
       "      <td>2566</td>\n",
       "      <td>premier-league</td>\n",
       "      <td>24</td>\n",
       "      <td>Right Winger</td>\n",
       "      <td>Tottenham Hotspur Football Club</td>\n",
       "      <td>Sweden</td>\n",
       "      <td>left</td>\n",
       "      <td>186.00</td>\n",
       "    </tr>\n",
       "    <tr>\n",
       "      <th>2737</th>\n",
       "      <td>Cole Palmer</td>\n",
       "      <td>55000000.00</td>\n",
       "      <td>54822166.82</td>\n",
       "      <td>0.00</td>\n",
       "      <td>2023</td>\n",
       "      <td>21</td>\n",
       "      <td>9</td>\n",
       "      <td>2349</td>\n",
       "      <td>premier-league</td>\n",
       "      <td>22</td>\n",
       "      <td>Attacking Midfield</td>\n",
       "      <td>Chelsea Football Club</td>\n",
       "      <td>England</td>\n",
       "      <td>left</td>\n",
       "      <td>189.00</td>\n",
       "    </tr>\n",
       "    <tr>\n",
       "      <th>3350</th>\n",
       "      <td>Dayot Upamecano</td>\n",
       "      <td>50000000.00</td>\n",
       "      <td>49826182.77</td>\n",
       "      <td>0.00</td>\n",
       "      <td>2023</td>\n",
       "      <td>1</td>\n",
       "      <td>0</td>\n",
       "      <td>1590</td>\n",
       "      <td>bundesliga</td>\n",
       "      <td>25</td>\n",
       "      <td>Centre-Back</td>\n",
       "      <td>FC Bayern München</td>\n",
       "      <td>France</td>\n",
       "      <td>right</td>\n",
       "      <td>186.00</td>\n",
       "    </tr>\n",
       "    <tr>\n",
       "      <th>10015</th>\n",
       "      <td>Matheus Nunes</td>\n",
       "      <td>50000000.00</td>\n",
       "      <td>49067776.68</td>\n",
       "      <td>0.02</td>\n",
       "      <td>2023</td>\n",
       "      <td>0</td>\n",
       "      <td>2</td>\n",
       "      <td>654</td>\n",
       "      <td>premier-league</td>\n",
       "      <td>25</td>\n",
       "      <td>Central Midfield</td>\n",
       "      <td>Manchester City Football Club</td>\n",
       "      <td>Portugal</td>\n",
       "      <td>right</td>\n",
       "      <td>183.00</td>\n",
       "    </tr>\n",
       "    <tr>\n",
       "      <th>10016</th>\n",
       "      <td>Matheus Nunes</td>\n",
       "      <td>50000000.00</td>\n",
       "      <td>49286870.18</td>\n",
       "      <td>0.01</td>\n",
       "      <td>2023</td>\n",
       "      <td>0</td>\n",
       "      <td>0</td>\n",
       "      <td>180</td>\n",
       "      <td>premier-league</td>\n",
       "      <td>25</td>\n",
       "      <td>Central Midfield</td>\n",
       "      <td>Manchester City Football Club</td>\n",
       "      <td>Portugal</td>\n",
       "      <td>right</td>\n",
       "      <td>183.00</td>\n",
       "    </tr>\n",
       "    <tr>\n",
       "      <th>8865</th>\n",
       "      <td>Lucas Hernández</td>\n",
       "      <td>45000000.00</td>\n",
       "      <td>44446864.60</td>\n",
       "      <td>0.01</td>\n",
       "      <td>2023</td>\n",
       "      <td>1</td>\n",
       "      <td>2</td>\n",
       "      <td>1915</td>\n",
       "      <td>ligue-1</td>\n",
       "      <td>28</td>\n",
       "      <td>Left-Back</td>\n",
       "      <td>Paris Saint-Germain Football Club</td>\n",
       "      <td>France</td>\n",
       "      <td>left</td>\n",
       "      <td>184.00</td>\n",
       "    </tr>\n",
       "    <tr>\n",
       "      <th>12479</th>\n",
       "      <td>Raheem Sterling</td>\n",
       "      <td>45000000.00</td>\n",
       "      <td>47093303.52</td>\n",
       "      <td>0.05</td>\n",
       "      <td>2023</td>\n",
       "      <td>6</td>\n",
       "      <td>4</td>\n",
       "      <td>1881</td>\n",
       "      <td>premier-league</td>\n",
       "      <td>29</td>\n",
       "      <td>Left Winger</td>\n",
       "      <td>Chelsea Football Club</td>\n",
       "      <td>England</td>\n",
       "      <td>right</td>\n",
       "      <td>170.00</td>\n",
       "    </tr>\n",
       "    <tr>\n",
       "      <th>5901</th>\n",
       "      <td>Ibrahima Konaté</td>\n",
       "      <td>45000000.00</td>\n",
       "      <td>47143487.26</td>\n",
       "      <td>0.05</td>\n",
       "      <td>2023</td>\n",
       "      <td>0</td>\n",
       "      <td>0</td>\n",
       "      <td>1573</td>\n",
       "      <td>premier-league</td>\n",
       "      <td>24</td>\n",
       "      <td>Centre-Back</td>\n",
       "      <td>Liverpool Football Club</td>\n",
       "      <td>France</td>\n",
       "      <td>right</td>\n",
       "      <td>194.00</td>\n",
       "    </tr>\n",
       "    <tr>\n",
       "      <th>994</th>\n",
       "      <td>Andreas Christensen</td>\n",
       "      <td>40000000.00</td>\n",
       "      <td>38925463.54</td>\n",
       "      <td>0.03</td>\n",
       "      <td>2023</td>\n",
       "      <td>2</td>\n",
       "      <td>2</td>\n",
       "      <td>1810</td>\n",
       "      <td>laliga</td>\n",
       "      <td>28</td>\n",
       "      <td>Centre-Back</td>\n",
       "      <td>Futbol Club Barcelona</td>\n",
       "      <td>Denmark</td>\n",
       "      <td>right</td>\n",
       "      <td>187.00</td>\n",
       "    </tr>\n",
       "    <tr>\n",
       "      <th>9929</th>\n",
       "      <td>Mason Mount</td>\n",
       "      <td>40000000.00</td>\n",
       "      <td>40237838.11</td>\n",
       "      <td>0.01</td>\n",
       "      <td>2023</td>\n",
       "      <td>1</td>\n",
       "      <td>0</td>\n",
       "      <td>514</td>\n",
       "      <td>premier-league</td>\n",
       "      <td>25</td>\n",
       "      <td>Attacking Midfield</td>\n",
       "      <td>Manchester United Football Club</td>\n",
       "      <td>England</td>\n",
       "      <td>right</td>\n",
       "      <td>181.00</td>\n",
       "    </tr>\n",
       "    <tr>\n",
       "      <th>11054</th>\n",
       "      <td>Nathan Aké</td>\n",
       "      <td>40000000.00</td>\n",
       "      <td>39161407.80</td>\n",
       "      <td>0.02</td>\n",
       "      <td>2023</td>\n",
       "      <td>2</td>\n",
       "      <td>2</td>\n",
       "      <td>2003</td>\n",
       "      <td>premier-league</td>\n",
       "      <td>29</td>\n",
       "      <td>Centre-Back</td>\n",
       "      <td>Manchester City Football Club</td>\n",
       "      <td>Netherlands</td>\n",
       "      <td>left</td>\n",
       "      <td>180.00</td>\n",
       "    </tr>\n",
       "    <tr>\n",
       "      <th>2012</th>\n",
       "      <td>Brahim Díaz</td>\n",
       "      <td>35000000.00</td>\n",
       "      <td>34383171.35</td>\n",
       "      <td>0.02</td>\n",
       "      <td>2023</td>\n",
       "      <td>6</td>\n",
       "      <td>4</td>\n",
       "      <td>1393</td>\n",
       "      <td>laliga</td>\n",
       "      <td>24</td>\n",
       "      <td>Attacking Midfield</td>\n",
       "      <td>Real Madrid Club de Fútbol</td>\n",
       "      <td>Morocco</td>\n",
       "      <td>both</td>\n",
       "      <td>170.00</td>\n",
       "    </tr>\n",
       "    <tr>\n",
       "      <th>1051</th>\n",
       "      <td>Andrew Robertson</td>\n",
       "      <td>35000000.00</td>\n",
       "      <td>36109617.78</td>\n",
       "      <td>0.03</td>\n",
       "      <td>2023</td>\n",
       "      <td>3</td>\n",
       "      <td>2</td>\n",
       "      <td>1602</td>\n",
       "      <td>premier-league</td>\n",
       "      <td>30</td>\n",
       "      <td>Left-Back</td>\n",
       "      <td>Liverpool Football Club</td>\n",
       "      <td>Scotland</td>\n",
       "      <td>left</td>\n",
       "      <td>178.00</td>\n",
       "    </tr>\n",
       "    <tr>\n",
       "      <th>2862</th>\n",
       "      <td>Curtis Jones</td>\n",
       "      <td>35000000.00</td>\n",
       "      <td>33339619.50</td>\n",
       "      <td>0.05</td>\n",
       "      <td>2023</td>\n",
       "      <td>1</td>\n",
       "      <td>1</td>\n",
       "      <td>1143</td>\n",
       "      <td>premier-league</td>\n",
       "      <td>23</td>\n",
       "      <td>Central Midfield</td>\n",
       "      <td>Liverpool Football Club</td>\n",
       "      <td>England</td>\n",
       "      <td>right</td>\n",
       "      <td>185.00</td>\n",
       "    </tr>\n",
       "    <tr>\n",
       "      <th>14760</th>\n",
       "      <td>Tomas Soucek</td>\n",
       "      <td>35000000.00</td>\n",
       "      <td>36169576.82</td>\n",
       "      <td>0.03</td>\n",
       "      <td>2023</td>\n",
       "      <td>6</td>\n",
       "      <td>2</td>\n",
       "      <td>2694</td>\n",
       "      <td>premier-league</td>\n",
       "      <td>29</td>\n",
       "      <td>Defensive Midfield</td>\n",
       "      <td>West Ham United Football Club</td>\n",
       "      <td>Czech Republic</td>\n",
       "      <td>right</td>\n",
       "      <td>192.00</td>\n",
       "    </tr>\n",
       "    <tr>\n",
       "      <th>9405</th>\n",
       "      <td>Manuel Locatelli</td>\n",
       "      <td>33000000.00</td>\n",
       "      <td>31747402.61</td>\n",
       "      <td>0.04</td>\n",
       "      <td>2023</td>\n",
       "      <td>1</td>\n",
       "      <td>3</td>\n",
       "      <td>2831</td>\n",
       "      <td>serie-a</td>\n",
       "      <td>26</td>\n",
       "      <td>Defensive Midfield</td>\n",
       "      <td>Juventus Football Club</td>\n",
       "      <td>Italy</td>\n",
       "      <td>right</td>\n",
       "      <td>185.00</td>\n",
       "    </tr>\n",
       "  </tbody>\n",
       "</table>\n",
       "</div>"
      ],
      "text/plain": [
       "               player_name  market_value_per_season  market_value_pred  \\\n",
       "7709        Julián Álvarez              90000000.00        89680973.24   \n",
       "2111       Bruno Fernandes              70000000.00        71176534.59   \n",
       "3200          Darwin Núñez              70000000.00        72664106.91   \n",
       "10732        Mohamed Salah              65000000.00        67782418.50   \n",
       "3380      Dejan Kulusevski              55000000.00        53048275.79   \n",
       "2737           Cole Palmer              55000000.00        54822166.82   \n",
       "3350       Dayot Upamecano              50000000.00        49826182.77   \n",
       "10015        Matheus Nunes              50000000.00        49067776.68   \n",
       "10016        Matheus Nunes              50000000.00        49286870.18   \n",
       "8865       Lucas Hernández              45000000.00        44446864.60   \n",
       "12479      Raheem Sterling              45000000.00        47093303.52   \n",
       "5901       Ibrahima Konaté              45000000.00        47143487.26   \n",
       "994    Andreas Christensen              40000000.00        38925463.54   \n",
       "9929           Mason Mount              40000000.00        40237838.11   \n",
       "11054           Nathan Aké              40000000.00        39161407.80   \n",
       "2012           Brahim Díaz              35000000.00        34383171.35   \n",
       "1051      Andrew Robertson              35000000.00        36109617.78   \n",
       "2862          Curtis Jones              35000000.00        33339619.50   \n",
       "14760         Tomas Soucek              35000000.00        36169576.82   \n",
       "9405      Manuel Locatelli              33000000.00        31747402.61   \n",
       "\n",
       "       market_value_rmsle  start_season  goals  assists  minutes_played  \\\n",
       "7709                 0.00          2023     10        9            2650   \n",
       "2111                 0.02          2023     10        7            2970   \n",
       "3200                 0.04          2023     11        8            2011   \n",
       "10732                0.04          2023     18       10            2356   \n",
       "3380                 0.04          2023      6        3            2566   \n",
       "2737                 0.00          2023     21        9            2349   \n",
       "3350                 0.00          2023      1        0            1590   \n",
       "10015                0.02          2023      0        2             654   \n",
       "10016                0.01          2023      0        0             180   \n",
       "8865                 0.01          2023      1        2            1915   \n",
       "12479                0.05          2023      6        4            1881   \n",
       "5901                 0.05          2023      0        0            1573   \n",
       "994                  0.03          2023      2        2            1810   \n",
       "9929                 0.01          2023      1        0             514   \n",
       "11054                0.02          2023      2        2            2003   \n",
       "2012                 0.02          2023      6        4            1393   \n",
       "1051                 0.03          2023      3        2            1602   \n",
       "2862                 0.05          2023      1        1            1143   \n",
       "14760                0.03          2023      6        2            2694   \n",
       "9405                 0.04          2023      1        3            2831   \n",
       "\n",
       "      competition_code  age            position  \\\n",
       "7709    premier-league   24      Second Striker   \n",
       "2111    premier-league   29  Attacking Midfield   \n",
       "3200    premier-league   24      Centre-Forward   \n",
       "10732   premier-league   31        Right Winger   \n",
       "3380    premier-league   24        Right Winger   \n",
       "2737    premier-league   22  Attacking Midfield   \n",
       "3350        bundesliga   25         Centre-Back   \n",
       "10015   premier-league   25    Central Midfield   \n",
       "10016   premier-league   25    Central Midfield   \n",
       "8865           ligue-1   28           Left-Back   \n",
       "12479   premier-league   29         Left Winger   \n",
       "5901    premier-league   24         Centre-Back   \n",
       "994             laliga   28         Centre-Back   \n",
       "9929    premier-league   25  Attacking Midfield   \n",
       "11054   premier-league   29         Centre-Back   \n",
       "2012            laliga   24  Attacking Midfield   \n",
       "1051    premier-league   30           Left-Back   \n",
       "2862    premier-league   23    Central Midfield   \n",
       "14760   premier-league   29  Defensive Midfield   \n",
       "9405           serie-a   26  Defensive Midfield   \n",
       "\n",
       "                       current_club_name         country   foot  height_in_cm  \n",
       "7709       Manchester City Football Club       Argentina  right        170.00  \n",
       "2111     Manchester United Football Club        Portugal  right        179.00  \n",
       "3200             Liverpool Football Club         Uruguay  right        187.00  \n",
       "10732            Liverpool Football Club           Egypt   left        175.00  \n",
       "3380     Tottenham Hotspur Football Club          Sweden   left        186.00  \n",
       "2737               Chelsea Football Club         England   left        189.00  \n",
       "3350                   FC Bayern München          France  right        186.00  \n",
       "10015      Manchester City Football Club        Portugal  right        183.00  \n",
       "10016      Manchester City Football Club        Portugal  right        183.00  \n",
       "8865   Paris Saint-Germain Football Club          France   left        184.00  \n",
       "12479              Chelsea Football Club         England  right        170.00  \n",
       "5901             Liverpool Football Club          France  right        194.00  \n",
       "994                Futbol Club Barcelona         Denmark  right        187.00  \n",
       "9929     Manchester United Football Club         England  right        181.00  \n",
       "11054      Manchester City Football Club     Netherlands   left        180.00  \n",
       "2012          Real Madrid Club de Fútbol         Morocco   both        170.00  \n",
       "1051             Liverpool Football Club        Scotland   left        178.00  \n",
       "2862             Liverpool Football Club         England  right        185.00  \n",
       "14760      West Ham United Football Club  Czech Republic  right        192.00  \n",
       "9405              Juventus Football Club           Italy  right        185.00  "
      ]
     },
     "execution_count": 90,
     "metadata": {},
     "output_type": "execute_result"
    }
   ],
   "source": [
    "# RMSLE 값이 0.05 이하인 예측 값 확인\n",
    "test_copy_cat[test_copy_cat.market_value_rmsle <= 0.05].sort_values(by=\"market_value_per_season\", ascending=False).head(20)"
   ]
  },
  {
   "cell_type": "code",
   "execution_count": 92,
   "metadata": {},
   "outputs": [
    {
     "data": {
      "text/html": [
       "<div>\n",
       "<style scoped>\n",
       "    .dataframe tbody tr th:only-of-type {\n",
       "        vertical-align: middle;\n",
       "    }\n",
       "\n",
       "    .dataframe tbody tr th {\n",
       "        vertical-align: top;\n",
       "    }\n",
       "\n",
       "    .dataframe thead th {\n",
       "        text-align: right;\n",
       "    }\n",
       "</style>\n",
       "<table border=\"1\" class=\"dataframe\">\n",
       "  <thead>\n",
       "    <tr style=\"text-align: right;\">\n",
       "      <th></th>\n",
       "      <th>player_name</th>\n",
       "      <th>market_value_per_season</th>\n",
       "      <th>market_value_pred</th>\n",
       "      <th>market_value_rmsle</th>\n",
       "      <th>start_season</th>\n",
       "      <th>goals</th>\n",
       "      <th>assists</th>\n",
       "      <th>minutes_played</th>\n",
       "      <th>competition_code</th>\n",
       "      <th>age</th>\n",
       "      <th>position</th>\n",
       "      <th>current_club_name</th>\n",
       "      <th>country</th>\n",
       "      <th>foot</th>\n",
       "      <th>height_in_cm</th>\n",
       "    </tr>\n",
       "  </thead>\n",
       "  <tbody>\n",
       "    <tr>\n",
       "      <th>711</th>\n",
       "      <td>Alfie Gilchrist</td>\n",
       "      <td>300000.00</td>\n",
       "      <td>15141259.96</td>\n",
       "      <td>3.92</td>\n",
       "      <td>2023</td>\n",
       "      <td>1</td>\n",
       "      <td>0</td>\n",
       "      <td>202</td>\n",
       "      <td>premier-league</td>\n",
       "      <td>20</td>\n",
       "      <td>Centre-Back</td>\n",
       "      <td>Chelsea Football Club</td>\n",
       "      <td>England</td>\n",
       "      <td>right</td>\n",
       "      <td>183.00</td>\n",
       "    </tr>\n",
       "    <tr>\n",
       "      <th>1997</th>\n",
       "      <td>Bouna Sarr</td>\n",
       "      <td>2000000.00</td>\n",
       "      <td>65237.58</td>\n",
       "      <td>3.42</td>\n",
       "      <td>2023</td>\n",
       "      <td>0</td>\n",
       "      <td>0</td>\n",
       "      <td>105</td>\n",
       "      <td>bundesliga</td>\n",
       "      <td>32</td>\n",
       "      <td>Right-Back</td>\n",
       "      <td>FC Bayern München</td>\n",
       "      <td>Senegal</td>\n",
       "      <td>right</td>\n",
       "      <td>178.00</td>\n",
       "    </tr>\n",
       "    <tr>\n",
       "      <th>6827</th>\n",
       "      <td>Jhonatan</td>\n",
       "      <td>800000.00</td>\n",
       "      <td>26466.64</td>\n",
       "      <td>3.41</td>\n",
       "      <td>2023</td>\n",
       "      <td>0</td>\n",
       "      <td>0</td>\n",
       "      <td>2250</td>\n",
       "      <td>liga-portugal-bwin</td>\n",
       "      <td>33</td>\n",
       "      <td>Goalkeeper</td>\n",
       "      <td>Rio Ave Futebol Clube</td>\n",
       "      <td>Brazil</td>\n",
       "      <td>right</td>\n",
       "      <td>190.00</td>\n",
       "    </tr>\n",
       "    <tr>\n",
       "      <th>13489</th>\n",
       "      <td>Samu Omorodion</td>\n",
       "      <td>40000000.00</td>\n",
       "      <td>1339617.18</td>\n",
       "      <td>3.40</td>\n",
       "      <td>2023</td>\n",
       "      <td>1</td>\n",
       "      <td>0</td>\n",
       "      <td>82</td>\n",
       "      <td>laliga</td>\n",
       "      <td>20</td>\n",
       "      <td>Centre-Forward</td>\n",
       "      <td>Deportivo Alavés S.A.D.</td>\n",
       "      <td>Spain</td>\n",
       "      <td>right</td>\n",
       "      <td>193.00</td>\n",
       "    </tr>\n",
       "    <tr>\n",
       "      <th>2543</th>\n",
       "      <td>Chris Smalling</td>\n",
       "      <td>3500000.00</td>\n",
       "      <td>144187.40</td>\n",
       "      <td>3.19</td>\n",
       "      <td>2023</td>\n",
       "      <td>0</td>\n",
       "      <td>0</td>\n",
       "      <td>390</td>\n",
       "      <td>serie-a</td>\n",
       "      <td>34</td>\n",
       "      <td>Centre-Back</td>\n",
       "      <td>Associazione Sportiva Roma</td>\n",
       "      <td>England</td>\n",
       "      <td>right</td>\n",
       "      <td>194.00</td>\n",
       "    </tr>\n",
       "    <tr>\n",
       "      <th>11566</th>\n",
       "      <td>Oliver Arblaster</td>\n",
       "      <td>450000.00</td>\n",
       "      <td>8435197.60</td>\n",
       "      <td>2.93</td>\n",
       "      <td>2023</td>\n",
       "      <td>0</td>\n",
       "      <td>0</td>\n",
       "      <td>821</td>\n",
       "      <td>premier-league</td>\n",
       "      <td>20</td>\n",
       "      <td>Central Midfield</td>\n",
       "      <td>Sheffield United Football Club</td>\n",
       "      <td>England</td>\n",
       "      <td>right</td>\n",
       "      <td>180.00</td>\n",
       "    </tr>\n",
       "    <tr>\n",
       "      <th>14205</th>\n",
       "      <td>Steven Baseya</td>\n",
       "      <td>50000.00</td>\n",
       "      <td>794148.38</td>\n",
       "      <td>2.77</td>\n",
       "      <td>2023</td>\n",
       "      <td>0</td>\n",
       "      <td>0</td>\n",
       "      <td>5</td>\n",
       "      <td>ligue-1</td>\n",
       "      <td>19</td>\n",
       "      <td>Centre-Back</td>\n",
       "      <td>Racing Club de Strasbourg Alsace</td>\n",
       "      <td>France</td>\n",
       "      <td>right</td>\n",
       "      <td>189.00</td>\n",
       "    </tr>\n",
       "    <tr>\n",
       "      <th>7108</th>\n",
       "      <td>Jonathan Viera</td>\n",
       "      <td>1200000.00</td>\n",
       "      <td>87047.20</td>\n",
       "      <td>2.62</td>\n",
       "      <td>2023</td>\n",
       "      <td>0</td>\n",
       "      <td>2</td>\n",
       "      <td>680</td>\n",
       "      <td>laliga</td>\n",
       "      <td>34</td>\n",
       "      <td>Attacking Midfield</td>\n",
       "      <td>Unión Deportiva Almería S.A.D.</td>\n",
       "      <td>Spain</td>\n",
       "      <td>right</td>\n",
       "      <td>171.00</td>\n",
       "    </tr>\n",
       "    <tr>\n",
       "      <th>11782</th>\n",
       "      <td>Papa Amadou Diallo</td>\n",
       "      <td>250000.00</td>\n",
       "      <td>3360063.66</td>\n",
       "      <td>2.60</td>\n",
       "      <td>2023</td>\n",
       "      <td>2</td>\n",
       "      <td>0</td>\n",
       "      <td>710</td>\n",
       "      <td>ligue-1</td>\n",
       "      <td>19</td>\n",
       "      <td>Left Winger</td>\n",
       "      <td>Football Club de Metz</td>\n",
       "      <td>Senegal</td>\n",
       "      <td>right</td>\n",
       "      <td>182.00</td>\n",
       "    </tr>\n",
       "    <tr>\n",
       "      <th>14949</th>\n",
       "      <td>Unai Marrero</td>\n",
       "      <td>300000.00</td>\n",
       "      <td>3959824.37</td>\n",
       "      <td>2.58</td>\n",
       "      <td>2023</td>\n",
       "      <td>0</td>\n",
       "      <td>0</td>\n",
       "      <td>141</td>\n",
       "      <td>laliga</td>\n",
       "      <td>22</td>\n",
       "      <td>Goalkeeper</td>\n",
       "      <td>Real Sociedad de Fútbol S.A.D.</td>\n",
       "      <td>Spain</td>\n",
       "      <td>right</td>\n",
       "      <td>189.00</td>\n",
       "    </tr>\n",
       "  </tbody>\n",
       "</table>\n",
       "</div>"
      ],
      "text/plain": [
       "              player_name  market_value_per_season  market_value_pred  \\\n",
       "711       Alfie Gilchrist                300000.00        15141259.96   \n",
       "1997           Bouna Sarr               2000000.00           65237.58   \n",
       "6827             Jhonatan                800000.00           26466.64   \n",
       "13489      Samu Omorodion              40000000.00         1339617.18   \n",
       "2543       Chris Smalling               3500000.00          144187.40   \n",
       "11566    Oliver Arblaster                450000.00         8435197.60   \n",
       "14205       Steven Baseya                 50000.00          794148.38   \n",
       "7108       Jonathan Viera               1200000.00           87047.20   \n",
       "11782  Papa Amadou Diallo                250000.00         3360063.66   \n",
       "14949        Unai Marrero                300000.00         3959824.37   \n",
       "\n",
       "       market_value_rmsle  start_season  goals  assists  minutes_played  \\\n",
       "711                  3.92          2023      1        0             202   \n",
       "1997                 3.42          2023      0        0             105   \n",
       "6827                 3.41          2023      0        0            2250   \n",
       "13489                3.40          2023      1        0              82   \n",
       "2543                 3.19          2023      0        0             390   \n",
       "11566                2.93          2023      0        0             821   \n",
       "14205                2.77          2023      0        0               5   \n",
       "7108                 2.62          2023      0        2             680   \n",
       "11782                2.60          2023      2        0             710   \n",
       "14949                2.58          2023      0        0             141   \n",
       "\n",
       "         competition_code  age            position  \\\n",
       "711        premier-league   20         Centre-Back   \n",
       "1997           bundesliga   32          Right-Back   \n",
       "6827   liga-portugal-bwin   33          Goalkeeper   \n",
       "13489              laliga   20      Centre-Forward   \n",
       "2543              serie-a   34         Centre-Back   \n",
       "11566      premier-league   20    Central Midfield   \n",
       "14205             ligue-1   19         Centre-Back   \n",
       "7108               laliga   34  Attacking Midfield   \n",
       "11782             ligue-1   19         Left Winger   \n",
       "14949              laliga   22          Goalkeeper   \n",
       "\n",
       "                      current_club_name  country   foot  height_in_cm  \n",
       "711               Chelsea Football Club  England  right        183.00  \n",
       "1997                  FC Bayern München  Senegal  right        178.00  \n",
       "6827              Rio Ave Futebol Clube   Brazil  right        190.00  \n",
       "13489           Deportivo Alavés S.A.D.    Spain  right        193.00  \n",
       "2543         Associazione Sportiva Roma  England  right        194.00  \n",
       "11566    Sheffield United Football Club  England  right        180.00  \n",
       "14205  Racing Club de Strasbourg Alsace   France  right        189.00  \n",
       "7108     Unión Deportiva Almería S.A.D.    Spain  right        171.00  \n",
       "11782             Football Club de Metz  Senegal  right        182.00  \n",
       "14949    Real Sociedad de Fútbol S.A.D.    Spain  right        189.00  "
      ]
     },
     "execution_count": 92,
     "metadata": {},
     "output_type": "execute_result"
    }
   ],
   "source": [
    "# RMSLE 값이 0.64 (75%) 이상인 예측 값 확인\n",
    "# RMSLE 값 최대치 : 약 3.92\n",
    "\n",
    "test_copy_cat[test_copy_cat.market_value_rmsle >= 0.64].sort_values(by=\"market_value_rmsle\", ascending=False).head(10)"
   ]
  },
  {
   "cell_type": "code",
   "execution_count": 93,
   "metadata": {},
   "outputs": [
    {
     "data": {
      "text/html": [
       "<div>\n",
       "<style scoped>\n",
       "    .dataframe tbody tr th:only-of-type {\n",
       "        vertical-align: middle;\n",
       "    }\n",
       "\n",
       "    .dataframe tbody tr th {\n",
       "        vertical-align: top;\n",
       "    }\n",
       "\n",
       "    .dataframe thead th {\n",
       "        text-align: right;\n",
       "    }\n",
       "</style>\n",
       "<table border=\"1\" class=\"dataframe\">\n",
       "  <thead>\n",
       "    <tr style=\"text-align: right;\">\n",
       "      <th></th>\n",
       "      <th>player_name</th>\n",
       "      <th>market_value_per_season</th>\n",
       "      <th>market_value_pred</th>\n",
       "      <th>market_value_rmsle</th>\n",
       "      <th>start_season</th>\n",
       "      <th>goals</th>\n",
       "      <th>assists</th>\n",
       "      <th>minutes_played</th>\n",
       "      <th>competition_code</th>\n",
       "      <th>age</th>\n",
       "      <th>position</th>\n",
       "      <th>current_club_name</th>\n",
       "      <th>country</th>\n",
       "      <th>foot</th>\n",
       "      <th>height_in_cm</th>\n",
       "    </tr>\n",
       "  </thead>\n",
       "  <tbody>\n",
       "    <tr>\n",
       "      <th>10598</th>\n",
       "      <td>Mike Trésor</td>\n",
       "      <td>13000000.00</td>\n",
       "      <td>6812110.58</td>\n",
       "      <td>0.65</td>\n",
       "      <td>2023</td>\n",
       "      <td>0</td>\n",
       "      <td>0</td>\n",
       "      <td>404</td>\n",
       "      <td>premier-league</td>\n",
       "      <td>24</td>\n",
       "      <td>Left Winger</td>\n",
       "      <td>Burnley Football Club</td>\n",
       "      <td>Belgium</td>\n",
       "      <td>right</td>\n",
       "      <td>172.00</td>\n",
       "    </tr>\n",
       "    <tr>\n",
       "      <th>8215</th>\n",
       "      <td>Kilian Fischer</td>\n",
       "      <td>1500000.00</td>\n",
       "      <td>2862208.11</td>\n",
       "      <td>0.65</td>\n",
       "      <td>2023</td>\n",
       "      <td>0</td>\n",
       "      <td>0</td>\n",
       "      <td>201</td>\n",
       "      <td>bundesliga</td>\n",
       "      <td>23</td>\n",
       "      <td>Right-Back</td>\n",
       "      <td>Verein für Leibesübungen Wolfsburg</td>\n",
       "      <td>Germany</td>\n",
       "      <td>both</td>\n",
       "      <td>182.00</td>\n",
       "    </tr>\n",
       "    <tr>\n",
       "      <th>948</th>\n",
       "      <td>Andrea Consigli</td>\n",
       "      <td>1000000.00</td>\n",
       "      <td>1907365.10</td>\n",
       "      <td>0.65</td>\n",
       "      <td>2023</td>\n",
       "      <td>0</td>\n",
       "      <td>0</td>\n",
       "      <td>2970</td>\n",
       "      <td>serie-a</td>\n",
       "      <td>37</td>\n",
       "      <td>Goalkeeper</td>\n",
       "      <td>Unione Sportiva Sassuolo Calcio</td>\n",
       "      <td>Italy</td>\n",
       "      <td>right</td>\n",
       "      <td>189.00</td>\n",
       "    </tr>\n",
       "    <tr>\n",
       "      <th>1807</th>\n",
       "      <td>Benjamin Stambouli</td>\n",
       "      <td>800000.00</td>\n",
       "      <td>1525780.94</td>\n",
       "      <td>0.65</td>\n",
       "      <td>2023</td>\n",
       "      <td>0</td>\n",
       "      <td>1</td>\n",
       "      <td>190</td>\n",
       "      <td>ligue-1</td>\n",
       "      <td>33</td>\n",
       "      <td>Defensive Midfield</td>\n",
       "      <td>Stade de Reims</td>\n",
       "      <td>France</td>\n",
       "      <td>right</td>\n",
       "      <td>180.00</td>\n",
       "    </tr>\n",
       "    <tr>\n",
       "      <th>7535</th>\n",
       "      <td>João Pedro</td>\n",
       "      <td>45000000.00</td>\n",
       "      <td>23631881.30</td>\n",
       "      <td>0.64</td>\n",
       "      <td>2023</td>\n",
       "      <td>9</td>\n",
       "      <td>2</td>\n",
       "      <td>1867</td>\n",
       "      <td>premier-league</td>\n",
       "      <td>22</td>\n",
       "      <td>Centre-Forward</td>\n",
       "      <td>Brighton and Hove Albion Football Club</td>\n",
       "      <td>Brazil</td>\n",
       "      <td>right</td>\n",
       "      <td>182.00</td>\n",
       "    </tr>\n",
       "    <tr>\n",
       "      <th>4016</th>\n",
       "      <td>Elye Wahi</td>\n",
       "      <td>35000000.00</td>\n",
       "      <td>18396990.52</td>\n",
       "      <td>0.64</td>\n",
       "      <td>2023</td>\n",
       "      <td>8</td>\n",
       "      <td>2</td>\n",
       "      <td>1613</td>\n",
       "      <td>ligue-1</td>\n",
       "      <td>21</td>\n",
       "      <td>Centre-Forward</td>\n",
       "      <td>Racing Club de Lens</td>\n",
       "      <td>France</td>\n",
       "      <td>right</td>\n",
       "      <td>181.00</td>\n",
       "    </tr>\n",
       "    <tr>\n",
       "      <th>14480</th>\n",
       "      <td>Thilo Kehrer</td>\n",
       "      <td>9000000.00</td>\n",
       "      <td>17120013.40</td>\n",
       "      <td>0.64</td>\n",
       "      <td>2023</td>\n",
       "      <td>0</td>\n",
       "      <td>1</td>\n",
       "      <td>1144</td>\n",
       "      <td>ligue-1</td>\n",
       "      <td>27</td>\n",
       "      <td>Centre-Back</td>\n",
       "      <td>Association sportive de Monaco Football Club</td>\n",
       "      <td>Germany</td>\n",
       "      <td>right</td>\n",
       "      <td>186.00</td>\n",
       "    </tr>\n",
       "    <tr>\n",
       "      <th>14400</th>\n",
       "      <td>Telasco Segovia</td>\n",
       "      <td>400000.00</td>\n",
       "      <td>760818.15</td>\n",
       "      <td>0.64</td>\n",
       "      <td>2023</td>\n",
       "      <td>0</td>\n",
       "      <td>1</td>\n",
       "      <td>629</td>\n",
       "      <td>liga-portugal-bwin</td>\n",
       "      <td>21</td>\n",
       "      <td>Central Midfield</td>\n",
       "      <td>Casa Pia Atlético Clube</td>\n",
       "      <td>Venezuela</td>\n",
       "      <td>right</td>\n",
       "      <td>180.00</td>\n",
       "    </tr>\n",
       "    <tr>\n",
       "      <th>15624</th>\n",
       "      <td>Yorbe Vertessen</td>\n",
       "      <td>4000000.00</td>\n",
       "      <td>7608007.42</td>\n",
       "      <td>0.64</td>\n",
       "      <td>2023</td>\n",
       "      <td>3</td>\n",
       "      <td>2</td>\n",
       "      <td>530</td>\n",
       "      <td>bundesliga</td>\n",
       "      <td>23</td>\n",
       "      <td>Centre-Forward</td>\n",
       "      <td>1. FC Union Berlin</td>\n",
       "      <td>Belgium</td>\n",
       "      <td>right</td>\n",
       "      <td>174.00</td>\n",
       "    </tr>\n",
       "    <tr>\n",
       "      <th>1583</th>\n",
       "      <td>Aurélien Tchouaméni</td>\n",
       "      <td>90000000.00</td>\n",
       "      <td>47418553.07</td>\n",
       "      <td>0.64</td>\n",
       "      <td>2023</td>\n",
       "      <td>3</td>\n",
       "      <td>1</td>\n",
       "      <td>1986</td>\n",
       "      <td>laliga</td>\n",
       "      <td>24</td>\n",
       "      <td>Defensive Midfield</td>\n",
       "      <td>Real Madrid Club de Fútbol</td>\n",
       "      <td>France</td>\n",
       "      <td>right</td>\n",
       "      <td>188.00</td>\n",
       "    </tr>\n",
       "  </tbody>\n",
       "</table>\n",
       "</div>"
      ],
      "text/plain": [
       "               player_name  market_value_per_season  market_value_pred  \\\n",
       "10598          Mike Trésor              13000000.00         6812110.58   \n",
       "8215        Kilian Fischer               1500000.00         2862208.11   \n",
       "948        Andrea Consigli               1000000.00         1907365.10   \n",
       "1807    Benjamin Stambouli                800000.00         1525780.94   \n",
       "7535            João Pedro              45000000.00        23631881.30   \n",
       "4016             Elye Wahi              35000000.00        18396990.52   \n",
       "14480         Thilo Kehrer               9000000.00        17120013.40   \n",
       "14400      Telasco Segovia                400000.00          760818.15   \n",
       "15624      Yorbe Vertessen               4000000.00         7608007.42   \n",
       "1583   Aurélien Tchouaméni              90000000.00        47418553.07   \n",
       "\n",
       "       market_value_rmsle  start_season  goals  assists  minutes_played  \\\n",
       "10598                0.65          2023      0        0             404   \n",
       "8215                 0.65          2023      0        0             201   \n",
       "948                  0.65          2023      0        0            2970   \n",
       "1807                 0.65          2023      0        1             190   \n",
       "7535                 0.64          2023      9        2            1867   \n",
       "4016                 0.64          2023      8        2            1613   \n",
       "14480                0.64          2023      0        1            1144   \n",
       "14400                0.64          2023      0        1             629   \n",
       "15624                0.64          2023      3        2             530   \n",
       "1583                 0.64          2023      3        1            1986   \n",
       "\n",
       "         competition_code  age            position  \\\n",
       "10598      premier-league   24         Left Winger   \n",
       "8215           bundesliga   23          Right-Back   \n",
       "948               serie-a   37          Goalkeeper   \n",
       "1807              ligue-1   33  Defensive Midfield   \n",
       "7535       premier-league   22      Centre-Forward   \n",
       "4016              ligue-1   21      Centre-Forward   \n",
       "14480             ligue-1   27         Centre-Back   \n",
       "14400  liga-portugal-bwin   21    Central Midfield   \n",
       "15624          bundesliga   23      Centre-Forward   \n",
       "1583               laliga   24  Defensive Midfield   \n",
       "\n",
       "                                  current_club_name    country   foot  \\\n",
       "10598                         Burnley Football Club    Belgium  right   \n",
       "8215             Verein für Leibesübungen Wolfsburg    Germany   both   \n",
       "948                 Unione Sportiva Sassuolo Calcio      Italy  right   \n",
       "1807                                 Stade de Reims     France  right   \n",
       "7535         Brighton and Hove Albion Football Club     Brazil  right   \n",
       "4016                            Racing Club de Lens     France  right   \n",
       "14480  Association sportive de Monaco Football Club    Germany  right   \n",
       "14400                       Casa Pia Atlético Clube  Venezuela  right   \n",
       "15624                            1. FC Union Berlin    Belgium  right   \n",
       "1583                     Real Madrid Club de Fútbol     France  right   \n",
       "\n",
       "       height_in_cm  \n",
       "10598        172.00  \n",
       "8215         182.00  \n",
       "948          189.00  \n",
       "1807         180.00  \n",
       "7535         182.00  \n",
       "4016         181.00  \n",
       "14480        186.00  \n",
       "14400        180.00  \n",
       "15624        174.00  \n",
       "1583         188.00  "
      ]
     },
     "execution_count": 93,
     "metadata": {},
     "output_type": "execute_result"
    }
   ],
   "source": [
    "# RMSLE 값이 0.64 (75%) 이상인 예측 값 확인\n",
    "# RMSLE 값 최대치 : 약 3.92\n",
    "\n",
    "test_copy_cat[test_copy_cat.market_value_rmsle >= 0.64].sort_values(by=\"market_value_rmsle\", ascending=False).tail(10)\n"
   ]
  },
  {
   "cell_type": "code",
   "execution_count": 94,
   "metadata": {},
   "outputs": [
    {
     "data": {
      "text/html": [
       "<div>\n",
       "<style scoped>\n",
       "    .dataframe tbody tr th:only-of-type {\n",
       "        vertical-align: middle;\n",
       "    }\n",
       "\n",
       "    .dataframe tbody tr th {\n",
       "        vertical-align: top;\n",
       "    }\n",
       "\n",
       "    .dataframe thead th {\n",
       "        text-align: right;\n",
       "    }\n",
       "</style>\n",
       "<table border=\"1\" class=\"dataframe\">\n",
       "  <thead>\n",
       "    <tr style=\"text-align: right;\">\n",
       "      <th></th>\n",
       "      <th>player_name</th>\n",
       "      <th>market_value_per_season</th>\n",
       "      <th>market_value_pred</th>\n",
       "      <th>market_value_rmsle</th>\n",
       "      <th>start_season</th>\n",
       "      <th>goals</th>\n",
       "      <th>assists</th>\n",
       "      <th>minutes_played</th>\n",
       "      <th>competition_code</th>\n",
       "      <th>age</th>\n",
       "      <th>position</th>\n",
       "      <th>current_club_name</th>\n",
       "      <th>country</th>\n",
       "      <th>foot</th>\n",
       "      <th>height_in_cm</th>\n",
       "    </tr>\n",
       "  </thead>\n",
       "  <tbody>\n",
       "    <tr>\n",
       "      <th>6353</th>\n",
       "      <td>Jakub Kiwior</td>\n",
       "      <td>25000000.00</td>\n",
       "      <td>25619875.50</td>\n",
       "      <td>0.02</td>\n",
       "      <td>2023</td>\n",
       "      <td>1</td>\n",
       "      <td>3</td>\n",
       "      <td>944</td>\n",
       "      <td>premier-league</td>\n",
       "      <td>24</td>\n",
       "      <td>Left-Back</td>\n",
       "      <td>Arsenal Football Club</td>\n",
       "      <td>Poland</td>\n",
       "      <td>left</td>\n",
       "      <td>189.00</td>\n",
       "    </tr>\n",
       "    <tr>\n",
       "      <th>7243</th>\n",
       "      <td>Jorginho</td>\n",
       "      <td>15000000.00</td>\n",
       "      <td>14590855.71</td>\n",
       "      <td>0.03</td>\n",
       "      <td>2023</td>\n",
       "      <td>0</td>\n",
       "      <td>2</td>\n",
       "      <td>919</td>\n",
       "      <td>premier-league</td>\n",
       "      <td>32</td>\n",
       "      <td>Defensive Midfield</td>\n",
       "      <td>Arsenal Football Club</td>\n",
       "      <td>Italy</td>\n",
       "      <td>right</td>\n",
       "      <td>178.00</td>\n",
       "    </tr>\n",
       "    <tr>\n",
       "      <th>4980</th>\n",
       "      <td>Fábio Vieira</td>\n",
       "      <td>25000000.00</td>\n",
       "      <td>26333473.61</td>\n",
       "      <td>0.05</td>\n",
       "      <td>2023</td>\n",
       "      <td>1</td>\n",
       "      <td>2</td>\n",
       "      <td>292</td>\n",
       "      <td>premier-league</td>\n",
       "      <td>23</td>\n",
       "      <td>Attacking Midfield</td>\n",
       "      <td>Arsenal Football Club</td>\n",
       "      <td>Portugal</td>\n",
       "      <td>left</td>\n",
       "      <td>170.00</td>\n",
       "    </tr>\n",
       "    <tr>\n",
       "      <th>1758</th>\n",
       "      <td>Ben White</td>\n",
       "      <td>55000000.00</td>\n",
       "      <td>59238150.71</td>\n",
       "      <td>0.07</td>\n",
       "      <td>2023</td>\n",
       "      <td>4</td>\n",
       "      <td>4</td>\n",
       "      <td>2836</td>\n",
       "      <td>premier-league</td>\n",
       "      <td>26</td>\n",
       "      <td>Right-Back</td>\n",
       "      <td>Arsenal Football Club</td>\n",
       "      <td>England</td>\n",
       "      <td>right</td>\n",
       "      <td>186.00</td>\n",
       "    </tr>\n",
       "    <tr>\n",
       "      <th>2886</th>\n",
       "      <td>Cédric Soares</td>\n",
       "      <td>2000000.00</td>\n",
       "      <td>1835872.99</td>\n",
       "      <td>0.09</td>\n",
       "      <td>2023</td>\n",
       "      <td>0</td>\n",
       "      <td>0</td>\n",
       "      <td>59</td>\n",
       "      <td>premier-league</td>\n",
       "      <td>32</td>\n",
       "      <td>Right-Back</td>\n",
       "      <td>Arsenal Football Club</td>\n",
       "      <td>Portugal</td>\n",
       "      <td>right</td>\n",
       "      <td>171.00</td>\n",
       "    </tr>\n",
       "    <tr>\n",
       "      <th>8492</th>\n",
       "      <td>Leandro Trossard</td>\n",
       "      <td>38000000.00</td>\n",
       "      <td>34722488.48</td>\n",
       "      <td>0.09</td>\n",
       "      <td>2023</td>\n",
       "      <td>11</td>\n",
       "      <td>1</td>\n",
       "      <td>1502</td>\n",
       "      <td>premier-league</td>\n",
       "      <td>29</td>\n",
       "      <td>Left Winger</td>\n",
       "      <td>Arsenal Football Club</td>\n",
       "      <td>Belgium</td>\n",
       "      <td>right</td>\n",
       "      <td>172.00</td>\n",
       "    </tr>\n",
       "    <tr>\n",
       "      <th>3850</th>\n",
       "      <td>Eddie Nketiah</td>\n",
       "      <td>30000000.00</td>\n",
       "      <td>33982748.55</td>\n",
       "      <td>0.12</td>\n",
       "      <td>2023</td>\n",
       "      <td>5</td>\n",
       "      <td>2</td>\n",
       "      <td>1072</td>\n",
       "      <td>premier-league</td>\n",
       "      <td>24</td>\n",
       "      <td>Centre-Forward</td>\n",
       "      <td>Arsenal Football Club</td>\n",
       "      <td>England</td>\n",
       "      <td>right</td>\n",
       "      <td>175.00</td>\n",
       "    </tr>\n",
       "    <tr>\n",
       "      <th>14537</th>\n",
       "      <td>Thomas Partey</td>\n",
       "      <td>20000000.00</td>\n",
       "      <td>23851612.40</td>\n",
       "      <td>0.18</td>\n",
       "      <td>2023</td>\n",
       "      <td>0</td>\n",
       "      <td>0</td>\n",
       "      <td>630</td>\n",
       "      <td>premier-league</td>\n",
       "      <td>30</td>\n",
       "      <td>Defensive Midfield</td>\n",
       "      <td>Arsenal Football Club</td>\n",
       "      <td>Ghana</td>\n",
       "      <td>right</td>\n",
       "      <td>185.00</td>\n",
       "    </tr>\n",
       "    <tr>\n",
       "      <th>12641</th>\n",
       "      <td>Reiss Nelson</td>\n",
       "      <td>15000000.00</td>\n",
       "      <td>18058537.70</td>\n",
       "      <td>0.19</td>\n",
       "      <td>2023</td>\n",
       "      <td>0</td>\n",
       "      <td>0</td>\n",
       "      <td>257</td>\n",
       "      <td>premier-league</td>\n",
       "      <td>24</td>\n",
       "      <td>Right Winger</td>\n",
       "      <td>Arsenal Football Club</td>\n",
       "      <td>England</td>\n",
       "      <td>right</td>\n",
       "      <td>175.00</td>\n",
       "    </tr>\n",
       "    <tr>\n",
       "      <th>3268</th>\n",
       "      <td>David Raya</td>\n",
       "      <td>35000000.00</td>\n",
       "      <td>28360532.48</td>\n",
       "      <td>0.21</td>\n",
       "      <td>2023</td>\n",
       "      <td>0</td>\n",
       "      <td>0</td>\n",
       "      <td>2700</td>\n",
       "      <td>premier-league</td>\n",
       "      <td>28</td>\n",
       "      <td>Goalkeeper</td>\n",
       "      <td>Arsenal Football Club</td>\n",
       "      <td>Spain</td>\n",
       "      <td>right</td>\n",
       "      <td>183.00</td>\n",
       "    </tr>\n",
       "  </tbody>\n",
       "</table>\n",
       "</div>"
      ],
      "text/plain": [
       "            player_name  market_value_per_season  market_value_pred  \\\n",
       "6353       Jakub Kiwior              25000000.00        25619875.50   \n",
       "7243           Jorginho              15000000.00        14590855.71   \n",
       "4980       Fábio Vieira              25000000.00        26333473.61   \n",
       "1758          Ben White              55000000.00        59238150.71   \n",
       "2886      Cédric Soares               2000000.00         1835872.99   \n",
       "8492   Leandro Trossard              38000000.00        34722488.48   \n",
       "3850      Eddie Nketiah              30000000.00        33982748.55   \n",
       "14537     Thomas Partey              20000000.00        23851612.40   \n",
       "12641      Reiss Nelson              15000000.00        18058537.70   \n",
       "3268         David Raya              35000000.00        28360532.48   \n",
       "\n",
       "       market_value_rmsle  start_season  goals  assists  minutes_played  \\\n",
       "6353                 0.02          2023      1        3             944   \n",
       "7243                 0.03          2023      0        2             919   \n",
       "4980                 0.05          2023      1        2             292   \n",
       "1758                 0.07          2023      4        4            2836   \n",
       "2886                 0.09          2023      0        0              59   \n",
       "8492                 0.09          2023     11        1            1502   \n",
       "3850                 0.12          2023      5        2            1072   \n",
       "14537                0.18          2023      0        0             630   \n",
       "12641                0.19          2023      0        0             257   \n",
       "3268                 0.21          2023      0        0            2700   \n",
       "\n",
       "      competition_code  age            position      current_club_name  \\\n",
       "6353    premier-league   24           Left-Back  Arsenal Football Club   \n",
       "7243    premier-league   32  Defensive Midfield  Arsenal Football Club   \n",
       "4980    premier-league   23  Attacking Midfield  Arsenal Football Club   \n",
       "1758    premier-league   26          Right-Back  Arsenal Football Club   \n",
       "2886    premier-league   32          Right-Back  Arsenal Football Club   \n",
       "8492    premier-league   29         Left Winger  Arsenal Football Club   \n",
       "3850    premier-league   24      Centre-Forward  Arsenal Football Club   \n",
       "14537   premier-league   30  Defensive Midfield  Arsenal Football Club   \n",
       "12641   premier-league   24        Right Winger  Arsenal Football Club   \n",
       "3268    premier-league   28          Goalkeeper  Arsenal Football Club   \n",
       "\n",
       "        country   foot  height_in_cm  \n",
       "6353     Poland   left        189.00  \n",
       "7243      Italy  right        178.00  \n",
       "4980   Portugal   left        170.00  \n",
       "1758    England  right        186.00  \n",
       "2886   Portugal  right        171.00  \n",
       "8492    Belgium  right        172.00  \n",
       "3850    England  right        175.00  \n",
       "14537     Ghana  right        185.00  \n",
       "12641   England  right        175.00  \n",
       "3268      Spain  right        183.00  "
      ]
     },
     "execution_count": 94,
     "metadata": {},
     "output_type": "execute_result"
    }
   ],
   "source": [
    "# Arsenal 선수들의 2324 시즌 몸값 비교\n",
    "test_copy_cat[test_copy_cat.current_club_name==\"Arsenal Football Club\"].sort_values(\"market_value_rmsle\").head(10)"
   ]
  },
  {
   "cell_type": "code",
   "execution_count": 95,
   "metadata": {},
   "outputs": [
    {
     "data": {
      "text/html": [
       "<div>\n",
       "<style scoped>\n",
       "    .dataframe tbody tr th:only-of-type {\n",
       "        vertical-align: middle;\n",
       "    }\n",
       "\n",
       "    .dataframe tbody tr th {\n",
       "        vertical-align: top;\n",
       "    }\n",
       "\n",
       "    .dataframe thead th {\n",
       "        text-align: right;\n",
       "    }\n",
       "</style>\n",
       "<table border=\"1\" class=\"dataframe\">\n",
       "  <thead>\n",
       "    <tr style=\"text-align: right;\">\n",
       "      <th></th>\n",
       "      <th>player_name</th>\n",
       "      <th>market_value_per_season</th>\n",
       "      <th>market_value_pred</th>\n",
       "      <th>market_value_rmsle</th>\n",
       "      <th>start_season</th>\n",
       "      <th>goals</th>\n",
       "      <th>assists</th>\n",
       "      <th>minutes_played</th>\n",
       "      <th>competition_code</th>\n",
       "      <th>age</th>\n",
       "      <th>position</th>\n",
       "      <th>current_club_name</th>\n",
       "      <th>country</th>\n",
       "      <th>foot</th>\n",
       "      <th>height_in_cm</th>\n",
       "    </tr>\n",
       "  </thead>\n",
       "  <tbody>\n",
       "    <tr>\n",
       "      <th>3380</th>\n",
       "      <td>Dejan Kulusevski</td>\n",
       "      <td>55000000.00</td>\n",
       "      <td>53048275.79</td>\n",
       "      <td>0.04</td>\n",
       "      <td>2023</td>\n",
       "      <td>6</td>\n",
       "      <td>3</td>\n",
       "      <td>2566</td>\n",
       "      <td>premier-league</td>\n",
       "      <td>24</td>\n",
       "      <td>Right Winger</td>\n",
       "      <td>Tottenham Hotspur Football Club</td>\n",
       "      <td>Sweden</td>\n",
       "      <td>left</td>\n",
       "      <td>186.00</td>\n",
       "    </tr>\n",
       "    <tr>\n",
       "      <th>11801</th>\n",
       "      <td>Pape Matar Sarr</td>\n",
       "      <td>40000000.00</td>\n",
       "      <td>37071335.09</td>\n",
       "      <td>0.08</td>\n",
       "      <td>2023</td>\n",
       "      <td>3</td>\n",
       "      <td>3</td>\n",
       "      <td>1846</td>\n",
       "      <td>premier-league</td>\n",
       "      <td>21</td>\n",
       "      <td>Central Midfield</td>\n",
       "      <td>Tottenham Hotspur Football Club</td>\n",
       "      <td>Senegal</td>\n",
       "      <td>right</td>\n",
       "      <td>184.00</td>\n",
       "    </tr>\n",
       "    <tr>\n",
       "      <th>12794</th>\n",
       "      <td>Richarlison</td>\n",
       "      <td>40000000.00</td>\n",
       "      <td>43671831.30</td>\n",
       "      <td>0.09</td>\n",
       "      <td>2023</td>\n",
       "      <td>11</td>\n",
       "      <td>4</td>\n",
       "      <td>1492</td>\n",
       "      <td>premier-league</td>\n",
       "      <td>27</td>\n",
       "      <td>Centre-Forward</td>\n",
       "      <td>Tottenham Hotspur Football Club</td>\n",
       "      <td>Brazil</td>\n",
       "      <td>right</td>\n",
       "      <td>184.00</td>\n",
       "    </tr>\n",
       "    <tr>\n",
       "      <th>11585</th>\n",
       "      <td>Oliver Skipp</td>\n",
       "      <td>15000000.00</td>\n",
       "      <td>16815671.70</td>\n",
       "      <td>0.11</td>\n",
       "      <td>2023</td>\n",
       "      <td>0</td>\n",
       "      <td>0</td>\n",
       "      <td>600</td>\n",
       "      <td>premier-league</td>\n",
       "      <td>23</td>\n",
       "      <td>Defensive Midfield</td>\n",
       "      <td>Tottenham Hotspur Football Club</td>\n",
       "      <td>England</td>\n",
       "      <td>right</td>\n",
       "      <td>175.00</td>\n",
       "    </tr>\n",
       "    <tr>\n",
       "      <th>2065</th>\n",
       "      <td>Brennan Johnson</td>\n",
       "      <td>48000000.00</td>\n",
       "      <td>54919801.21</td>\n",
       "      <td>0.13</td>\n",
       "      <td>2023</td>\n",
       "      <td>5</td>\n",
       "      <td>8</td>\n",
       "      <td>1823</td>\n",
       "      <td>premier-league</td>\n",
       "      <td>22</td>\n",
       "      <td>Right Winger</td>\n",
       "      <td>Tottenham Hotspur Football Club</td>\n",
       "      <td>Wales</td>\n",
       "      <td>right</td>\n",
       "      <td>186.00</td>\n",
       "    </tr>\n",
       "    <tr>\n",
       "      <th>12264</th>\n",
       "      <td>Pierre-Emile Højbjerg</td>\n",
       "      <td>20000000.00</td>\n",
       "      <td>23325346.17</td>\n",
       "      <td>0.15</td>\n",
       "      <td>2023</td>\n",
       "      <td>0</td>\n",
       "      <td>0</td>\n",
       "      <td>1182</td>\n",
       "      <td>premier-league</td>\n",
       "      <td>28</td>\n",
       "      <td>Defensive Midfield</td>\n",
       "      <td>Tottenham Hotspur Football Club</td>\n",
       "      <td>Denmark</td>\n",
       "      <td>right</td>\n",
       "      <td>185.00</td>\n",
       "    </tr>\n",
       "    <tr>\n",
       "      <th>5728</th>\n",
       "      <td>Heung-min Son</td>\n",
       "      <td>50000000.00</td>\n",
       "      <td>42578859.23</td>\n",
       "      <td>0.16</td>\n",
       "      <td>2023</td>\n",
       "      <td>17</td>\n",
       "      <td>9</td>\n",
       "      <td>2680</td>\n",
       "      <td>premier-league</td>\n",
       "      <td>31</td>\n",
       "      <td>Left Winger</td>\n",
       "      <td>Tottenham Hotspur Football Club</td>\n",
       "      <td>Korea, South</td>\n",
       "      <td>both</td>\n",
       "      <td>184.00</td>\n",
       "    </tr>\n",
       "    <tr>\n",
       "      <th>2191</th>\n",
       "      <td>Bryan Gil</td>\n",
       "      <td>16000000.00</td>\n",
       "      <td>18935859.93</td>\n",
       "      <td>0.17</td>\n",
       "      <td>2023</td>\n",
       "      <td>0</td>\n",
       "      <td>0</td>\n",
       "      <td>201</td>\n",
       "      <td>premier-league</td>\n",
       "      <td>23</td>\n",
       "      <td>Right Winger</td>\n",
       "      <td>Tottenham Hotspur Football Club</td>\n",
       "      <td>Spain</td>\n",
       "      <td>left</td>\n",
       "      <td>175.00</td>\n",
       "    </tr>\n",
       "    <tr>\n",
       "      <th>12095</th>\n",
       "      <td>Pedro Porro</td>\n",
       "      <td>45000000.00</td>\n",
       "      <td>35501102.09</td>\n",
       "      <td>0.24</td>\n",
       "      <td>2023</td>\n",
       "      <td>1</td>\n",
       "      <td>7</td>\n",
       "      <td>2837</td>\n",
       "      <td>premier-league</td>\n",
       "      <td>24</td>\n",
       "      <td>Right-Back</td>\n",
       "      <td>Tottenham Hotspur Football Club</td>\n",
       "      <td>Spain</td>\n",
       "      <td>right</td>\n",
       "      <td>173.00</td>\n",
       "    </tr>\n",
       "    <tr>\n",
       "      <th>4040</th>\n",
       "      <td>Emerson Royal</td>\n",
       "      <td>18000000.00</td>\n",
       "      <td>22851922.36</td>\n",
       "      <td>0.24</td>\n",
       "      <td>2023</td>\n",
       "      <td>1</td>\n",
       "      <td>0</td>\n",
       "      <td>1141</td>\n",
       "      <td>premier-league</td>\n",
       "      <td>25</td>\n",
       "      <td>Right-Back</td>\n",
       "      <td>Tottenham Hotspur Football Club</td>\n",
       "      <td>Brazil</td>\n",
       "      <td>right</td>\n",
       "      <td>183.00</td>\n",
       "    </tr>\n",
       "  </tbody>\n",
       "</table>\n",
       "</div>"
      ],
      "text/plain": [
       "                 player_name  market_value_per_season  market_value_pred  \\\n",
       "3380        Dejan Kulusevski              55000000.00        53048275.79   \n",
       "11801        Pape Matar Sarr              40000000.00        37071335.09   \n",
       "12794            Richarlison              40000000.00        43671831.30   \n",
       "11585           Oliver Skipp              15000000.00        16815671.70   \n",
       "2065         Brennan Johnson              48000000.00        54919801.21   \n",
       "12264  Pierre-Emile Højbjerg              20000000.00        23325346.17   \n",
       "5728           Heung-min Son              50000000.00        42578859.23   \n",
       "2191               Bryan Gil              16000000.00        18935859.93   \n",
       "12095            Pedro Porro              45000000.00        35501102.09   \n",
       "4040           Emerson Royal              18000000.00        22851922.36   \n",
       "\n",
       "       market_value_rmsle  start_season  goals  assists  minutes_played  \\\n",
       "3380                 0.04          2023      6        3            2566   \n",
       "11801                0.08          2023      3        3            1846   \n",
       "12794                0.09          2023     11        4            1492   \n",
       "11585                0.11          2023      0        0             600   \n",
       "2065                 0.13          2023      5        8            1823   \n",
       "12264                0.15          2023      0        0            1182   \n",
       "5728                 0.16          2023     17        9            2680   \n",
       "2191                 0.17          2023      0        0             201   \n",
       "12095                0.24          2023      1        7            2837   \n",
       "4040                 0.24          2023      1        0            1141   \n",
       "\n",
       "      competition_code  age            position  \\\n",
       "3380    premier-league   24        Right Winger   \n",
       "11801   premier-league   21    Central Midfield   \n",
       "12794   premier-league   27      Centre-Forward   \n",
       "11585   premier-league   23  Defensive Midfield   \n",
       "2065    premier-league   22        Right Winger   \n",
       "12264   premier-league   28  Defensive Midfield   \n",
       "5728    premier-league   31         Left Winger   \n",
       "2191    premier-league   23        Right Winger   \n",
       "12095   premier-league   24          Right-Back   \n",
       "4040    premier-league   25          Right-Back   \n",
       "\n",
       "                     current_club_name       country   foot  height_in_cm  \n",
       "3380   Tottenham Hotspur Football Club        Sweden   left        186.00  \n",
       "11801  Tottenham Hotspur Football Club       Senegal  right        184.00  \n",
       "12794  Tottenham Hotspur Football Club        Brazil  right        184.00  \n",
       "11585  Tottenham Hotspur Football Club       England  right        175.00  \n",
       "2065   Tottenham Hotspur Football Club         Wales  right        186.00  \n",
       "12264  Tottenham Hotspur Football Club       Denmark  right        185.00  \n",
       "5728   Tottenham Hotspur Football Club  Korea, South   both        184.00  \n",
       "2191   Tottenham Hotspur Football Club         Spain   left        175.00  \n",
       "12095  Tottenham Hotspur Football Club         Spain  right        173.00  \n",
       "4040   Tottenham Hotspur Football Club        Brazil  right        183.00  "
      ]
     },
     "execution_count": 95,
     "metadata": {},
     "output_type": "execute_result"
    }
   ],
   "source": [
    "# Tottenham 선수들의 2324 시즌 몸값 비교\n",
    "test_copy_cat[test_copy_cat.current_club_name==\"Tottenham Hotspur Football Club\"].sort_values(\"market_value_rmsle\").head(10)"
   ]
  },
  {
   "cell_type": "code",
   "execution_count": null,
   "metadata": {},
   "outputs": [],
   "source": []
  }
 ],
 "metadata": {
  "kernelspec": {
   "display_name": "football",
   "language": "python",
   "name": "python3"
  },
  "language_info": {
   "codemirror_mode": {
    "name": "ipython",
    "version": 3
   },
   "file_extension": ".py",
   "mimetype": "text/x-python",
   "name": "python",
   "nbconvert_exporter": "python",
   "pygments_lexer": "ipython3",
   "version": "3.11.8"
  }
 },
 "nbformat": 4,
 "nbformat_minor": 2
}
