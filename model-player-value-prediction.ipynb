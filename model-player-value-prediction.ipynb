{
 "cells": [
  {
   "cell_type": "markdown",
   "metadata": {},
   "source": [
    "# Modeling for Football Data from Transfermarkt\n",
    "- Kaggle Data URL\n",
    "\n",
    "    - https://www.kaggle.com/datasets/davidcariboo/player-scores"
   ]
  },
  {
   "cell_type": "markdown",
   "metadata": {},
   "source": [
    "## 1. 데이터 설명\n",
    "\n",
    "- `csv` 파일 설명\n",
    "    - `apperances` : 선수 출장 기록\n",
    "    - `club_games` : 클럽별 경기 홈팀, 어웨이팀 정보\n",
    "    - `clubs` : 리그별 속해 있는 클럽\n",
    "    - `competitions` : 대회 정보\n",
    "    - `game_events` : 경기별 이벤트 정보 (카드, 득점, 어시스트 등)\n",
    "    - `game_lineups` : 경기별 선수의 선발, 교체 명단 등재 여부\n",
    "    - `games` : 경기에 대한 정보 (시즌, 라운드, 홈팀, 어웨이팀, 순위)\n",
    "    - `player_valuations` : Transfermarkt 웹사이트에서 매긴 선수의 가치\n",
    "    - `players` : 선수에 대한 세부 정보"
   ]
  },
  {
   "cell_type": "code",
   "execution_count": 50,
   "metadata": {},
   "outputs": [],
   "source": [
    "import numpy as np\n",
    "import pandas as pd\n",
    "import matplotlib.pyplot as plt\n",
    "import seaborn as sns\n",
    "%matplotlib inline\n",
    "\n",
    "from sklearn import metrics\n",
    "from sklearn.linear_model import LinearRegression\n",
    "from sklearn.tree import DecisionTreeRegressor\n",
    "from sklearn.ensemble import RandomForestRegressor\n",
    "from xgboost import XGBRegressor\n",
    "from lightgbm import LGBMRegressor\n",
    "from catboost import CatBoostRegressor\n",
    "from catboost import Pool\n",
    "\n",
    "from sklearn.preprocessing import RobustScaler\n",
    "from statsmodels.stats.outliers_influence import variance_inflation_factor\n",
    "\n",
    "import optuna\n",
    "from optuna.samplers import TPESampler\n",
    "\n",
    "from sklearn.model_selection import train_test_split\n",
    "\n",
    "from sklearn.preprocessing import TargetEncoder\n",
    "\n",
    "from xgboost import plot_importance\n",
    "\n",
    "import shap\n",
    "\n",
    "import warnings\n",
    "warnings.filterwarnings(action='ignore')\n",
    "pd.set_option(\"display.max_columns\", None)\n",
    "\n",
    "plt.rc('font', family='Noto Sans')\n",
    "plt.rcParams['axes.unicode_minus'] = False"
   ]
  },
  {
   "cell_type": "code",
   "execution_count": 2,
   "metadata": {},
   "outputs": [],
   "source": [
    "# 데이터 경로\n",
    "path = \"data/df_final.csv\"\n",
    "df = pd.read_csv(path)"
   ]
  },
  {
   "cell_type": "markdown",
   "metadata": {},
   "source": [
    "### 1-1. 컬럼 변환"
   ]
  },
  {
   "cell_type": "code",
   "execution_count": 3,
   "metadata": {},
   "outputs": [],
   "source": [
    "# 출장시간 로그 변환\n",
    "df[\"log_minutes_played\"] = np.log1p(df[\"minutes_played\"])\n",
    "\n",
    "# start_season 수치형 → 카테고리형 데이터로 변환\n",
    "df[\"start_season\"] = pd.Categorical(df[\"start_season\"], ordered=False)\n",
    "\n",
    "# position_category 카테고리형 데이터로 변환\n",
    "df[\"position_category\"] = pd.Categorical(df[\"position_category\"], ordered=False)"
   ]
  },
  {
   "cell_type": "code",
   "execution_count": 4,
   "metadata": {},
   "outputs": [
    {
     "data": {
      "text/html": [
       "<div>\n",
       "<style scoped>\n",
       "    .dataframe tbody tr th:only-of-type {\n",
       "        vertical-align: middle;\n",
       "    }\n",
       "\n",
       "    .dataframe tbody tr th {\n",
       "        vertical-align: top;\n",
       "    }\n",
       "\n",
       "    .dataframe thead th {\n",
       "        text-align: right;\n",
       "    }\n",
       "</style>\n",
       "<table border=\"1\" class=\"dataframe\">\n",
       "  <thead>\n",
       "    <tr style=\"text-align: right;\">\n",
       "      <th></th>\n",
       "      <th>player_name</th>\n",
       "      <th>start_season</th>\n",
       "      <th>yellow_cards</th>\n",
       "      <th>red_cards</th>\n",
       "      <th>goals</th>\n",
       "      <th>assists</th>\n",
       "      <th>minutes_played</th>\n",
       "      <th>competition_code</th>\n",
       "      <th>date_of_birth</th>\n",
       "      <th>position</th>\n",
       "      <th>team_title</th>\n",
       "      <th>market_value_per_season</th>\n",
       "      <th>country</th>\n",
       "      <th>foot</th>\n",
       "      <th>height_in_cm</th>\n",
       "      <th>xA</th>\n",
       "      <th>shots</th>\n",
       "      <th>key_passes</th>\n",
       "      <th>npG</th>\n",
       "      <th>npxG</th>\n",
       "      <th>xGChain</th>\n",
       "      <th>xGBuildup</th>\n",
       "      <th>age</th>\n",
       "      <th>aggression</th>\n",
       "      <th>goals_90</th>\n",
       "      <th>assists_90</th>\n",
       "      <th>aggression_90</th>\n",
       "      <th>npG_90</th>\n",
       "      <th>npxG_90</th>\n",
       "      <th>xA_90</th>\n",
       "      <th>shots_90</th>\n",
       "      <th>key_passes_90</th>\n",
       "      <th>xGChain_90</th>\n",
       "      <th>xGBuildup_90</th>\n",
       "      <th>npG_per_shot</th>\n",
       "      <th>npxG_per_shot</th>\n",
       "      <th>goal_conv</th>\n",
       "      <th>npG_conv</th>\n",
       "      <th>npG_vs_npxG</th>\n",
       "      <th>position_category</th>\n",
       "      <th>log_market_value_per_season</th>\n",
       "      <th>log_minutes_played</th>\n",
       "    </tr>\n",
       "  </thead>\n",
       "  <tbody>\n",
       "    <tr>\n",
       "      <th>0</th>\n",
       "      <td>Aarón Martín</td>\n",
       "      <td>2019</td>\n",
       "      <td>2.0</td>\n",
       "      <td>0.0</td>\n",
       "      <td>0.0</td>\n",
       "      <td>0.0</td>\n",
       "      <td>1795.0</td>\n",
       "      <td>bundesliga</td>\n",
       "      <td>1997-04-22</td>\n",
       "      <td>Left-Back</td>\n",
       "      <td>Mainz 05</td>\n",
       "      <td>10500000.0</td>\n",
       "      <td>Spain</td>\n",
       "      <td>left</td>\n",
       "      <td>178.0</td>\n",
       "      <td>3.250888</td>\n",
       "      <td>9.0</td>\n",
       "      <td>32.0</td>\n",
       "      <td>0.0</td>\n",
       "      <td>0.294448</td>\n",
       "      <td>3.658402</td>\n",
       "      <td>2.195273</td>\n",
       "      <td>23</td>\n",
       "      <td>0.6</td>\n",
       "      <td>0.000000</td>\n",
       "      <td>0.000000</td>\n",
       "      <td>0.030084</td>\n",
       "      <td>0.000000</td>\n",
       "      <td>0.014763</td>\n",
       "      <td>0.162997</td>\n",
       "      <td>0.451253</td>\n",
       "      <td>1.604457</td>\n",
       "      <td>0.183430</td>\n",
       "      <td>0.110069</td>\n",
       "      <td>0.000000</td>\n",
       "      <td>0.032716</td>\n",
       "      <td>0.000000</td>\n",
       "      <td>0.000000</td>\n",
       "      <td>-0.294448</td>\n",
       "      <td>Defender</td>\n",
       "      <td>16.166886</td>\n",
       "      <td>7.493317</td>\n",
       "    </tr>\n",
       "    <tr>\n",
       "      <th>1</th>\n",
       "      <td>Abdelhamid Sabiri</td>\n",
       "      <td>2019</td>\n",
       "      <td>6.0</td>\n",
       "      <td>0.0</td>\n",
       "      <td>4.0</td>\n",
       "      <td>1.0</td>\n",
       "      <td>1035.0</td>\n",
       "      <td>bundesliga</td>\n",
       "      <td>1996-11-28</td>\n",
       "      <td>Attacking Midfield</td>\n",
       "      <td>Paderborn</td>\n",
       "      <td>1700000.0</td>\n",
       "      <td>Morocco</td>\n",
       "      <td>right</td>\n",
       "      <td>186.0</td>\n",
       "      <td>0.232751</td>\n",
       "      <td>43.0</td>\n",
       "      <td>7.0</td>\n",
       "      <td>3.0</td>\n",
       "      <td>2.711101</td>\n",
       "      <td>1.644770</td>\n",
       "      <td>0.885899</td>\n",
       "      <td>23</td>\n",
       "      <td>1.8</td>\n",
       "      <td>0.347826</td>\n",
       "      <td>0.086957</td>\n",
       "      <td>0.156522</td>\n",
       "      <td>0.260870</td>\n",
       "      <td>0.235748</td>\n",
       "      <td>0.020239</td>\n",
       "      <td>3.739130</td>\n",
       "      <td>0.608696</td>\n",
       "      <td>0.143023</td>\n",
       "      <td>0.077035</td>\n",
       "      <td>0.069767</td>\n",
       "      <td>0.063049</td>\n",
       "      <td>0.093023</td>\n",
       "      <td>0.069767</td>\n",
       "      <td>0.288899</td>\n",
       "      <td>Midfielder</td>\n",
       "      <td>14.346139</td>\n",
       "      <td>6.943122</td>\n",
       "    </tr>\n",
       "    <tr>\n",
       "      <th>2</th>\n",
       "      <td>Achraf Hakimi</td>\n",
       "      <td>2019</td>\n",
       "      <td>5.0</td>\n",
       "      <td>0.0</td>\n",
       "      <td>5.0</td>\n",
       "      <td>10.0</td>\n",
       "      <td>2717.0</td>\n",
       "      <td>bundesliga</td>\n",
       "      <td>1998-11-04</td>\n",
       "      <td>Right-Back</td>\n",
       "      <td>Borussia Dortmund</td>\n",
       "      <td>54000000.0</td>\n",
       "      <td>Morocco</td>\n",
       "      <td>right</td>\n",
       "      <td>181.0</td>\n",
       "      <td>5.510969</td>\n",
       "      <td>38.0</td>\n",
       "      <td>36.0</td>\n",
       "      <td>5.0</td>\n",
       "      <td>5.067438</td>\n",
       "      <td>24.144373</td>\n",
       "      <td>16.293885</td>\n",
       "      <td>21</td>\n",
       "      <td>1.5</td>\n",
       "      <td>0.165624</td>\n",
       "      <td>0.331248</td>\n",
       "      <td>0.049687</td>\n",
       "      <td>0.165624</td>\n",
       "      <td>0.167858</td>\n",
       "      <td>0.182550</td>\n",
       "      <td>1.258741</td>\n",
       "      <td>1.192492</td>\n",
       "      <td>0.799777</td>\n",
       "      <td>0.539731</td>\n",
       "      <td>0.131579</td>\n",
       "      <td>0.133354</td>\n",
       "      <td>0.131579</td>\n",
       "      <td>0.131579</td>\n",
       "      <td>-0.067438</td>\n",
       "      <td>Defender</td>\n",
       "      <td>17.804495</td>\n",
       "      <td>7.907652</td>\n",
       "    </tr>\n",
       "    <tr>\n",
       "      <th>3</th>\n",
       "      <td>Adam Bodzek</td>\n",
       "      <td>2019</td>\n",
       "      <td>10.0</td>\n",
       "      <td>0.0</td>\n",
       "      <td>0.0</td>\n",
       "      <td>0.0</td>\n",
       "      <td>2018.0</td>\n",
       "      <td>bundesliga</td>\n",
       "      <td>1985-09-07</td>\n",
       "      <td>Defensive Midfield</td>\n",
       "      <td>Fortuna Duesseldorf</td>\n",
       "      <td>325000.0</td>\n",
       "      <td>Poland</td>\n",
       "      <td>right</td>\n",
       "      <td>184.0</td>\n",
       "      <td>0.270701</td>\n",
       "      <td>9.0</td>\n",
       "      <td>8.0</td>\n",
       "      <td>0.0</td>\n",
       "      <td>0.697913</td>\n",
       "      <td>2.535295</td>\n",
       "      <td>1.791962</td>\n",
       "      <td>34</td>\n",
       "      <td>3.0</td>\n",
       "      <td>0.000000</td>\n",
       "      <td>0.000000</td>\n",
       "      <td>0.133796</td>\n",
       "      <td>0.000000</td>\n",
       "      <td>0.031126</td>\n",
       "      <td>0.012073</td>\n",
       "      <td>0.401388</td>\n",
       "      <td>0.356789</td>\n",
       "      <td>0.113071</td>\n",
       "      <td>0.079919</td>\n",
       "      <td>0.000000</td>\n",
       "      <td>0.077546</td>\n",
       "      <td>0.000000</td>\n",
       "      <td>0.000000</td>\n",
       "      <td>-0.697913</td>\n",
       "      <td>Midfielder</td>\n",
       "      <td>12.691584</td>\n",
       "      <td>7.610358</td>\n",
       "    </tr>\n",
       "    <tr>\n",
       "      <th>4</th>\n",
       "      <td>Admir Mehmedi</td>\n",
       "      <td>2019</td>\n",
       "      <td>0.0</td>\n",
       "      <td>0.0</td>\n",
       "      <td>2.0</td>\n",
       "      <td>2.0</td>\n",
       "      <td>1205.0</td>\n",
       "      <td>bundesliga</td>\n",
       "      <td>1991-03-16</td>\n",
       "      <td>Second Striker</td>\n",
       "      <td>Wolfsburg</td>\n",
       "      <td>8000000.0</td>\n",
       "      <td>Switzerland</td>\n",
       "      <td>right</td>\n",
       "      <td>183.0</td>\n",
       "      <td>2.166826</td>\n",
       "      <td>22.0</td>\n",
       "      <td>19.0</td>\n",
       "      <td>2.0</td>\n",
       "      <td>1.536662</td>\n",
       "      <td>6.112824</td>\n",
       "      <td>3.069346</td>\n",
       "      <td>29</td>\n",
       "      <td>0.0</td>\n",
       "      <td>0.149378</td>\n",
       "      <td>0.149378</td>\n",
       "      <td>0.000000</td>\n",
       "      <td>0.149378</td>\n",
       "      <td>0.114771</td>\n",
       "      <td>0.161838</td>\n",
       "      <td>1.643154</td>\n",
       "      <td>1.419087</td>\n",
       "      <td>0.456559</td>\n",
       "      <td>0.229246</td>\n",
       "      <td>0.090909</td>\n",
       "      <td>0.069848</td>\n",
       "      <td>0.090909</td>\n",
       "      <td>0.090909</td>\n",
       "      <td>0.463338</td>\n",
       "      <td>Forward</td>\n",
       "      <td>15.894952</td>\n",
       "      <td>7.095064</td>\n",
       "    </tr>\n",
       "  </tbody>\n",
       "</table>\n",
       "</div>"
      ],
      "text/plain": [
       "         player_name start_season  yellow_cards  red_cards  goals  assists  \\\n",
       "0       Aarón Martín         2019           2.0        0.0    0.0      0.0   \n",
       "1  Abdelhamid Sabiri         2019           6.0        0.0    4.0      1.0   \n",
       "2      Achraf Hakimi         2019           5.0        0.0    5.0     10.0   \n",
       "3        Adam Bodzek         2019          10.0        0.0    0.0      0.0   \n",
       "4      Admir Mehmedi         2019           0.0        0.0    2.0      2.0   \n",
       "\n",
       "   minutes_played competition_code date_of_birth            position  \\\n",
       "0          1795.0       bundesliga    1997-04-22           Left-Back   \n",
       "1          1035.0       bundesliga    1996-11-28  Attacking Midfield   \n",
       "2          2717.0       bundesliga    1998-11-04          Right-Back   \n",
       "3          2018.0       bundesliga    1985-09-07  Defensive Midfield   \n",
       "4          1205.0       bundesliga    1991-03-16      Second Striker   \n",
       "\n",
       "            team_title  market_value_per_season      country   foot  \\\n",
       "0             Mainz 05               10500000.0        Spain   left   \n",
       "1            Paderborn                1700000.0      Morocco  right   \n",
       "2    Borussia Dortmund               54000000.0      Morocco  right   \n",
       "3  Fortuna Duesseldorf                 325000.0       Poland  right   \n",
       "4            Wolfsburg                8000000.0  Switzerland  right   \n",
       "\n",
       "   height_in_cm        xA  shots  key_passes  npG      npxG    xGChain  \\\n",
       "0         178.0  3.250888    9.0        32.0  0.0  0.294448   3.658402   \n",
       "1         186.0  0.232751   43.0         7.0  3.0  2.711101   1.644770   \n",
       "2         181.0  5.510969   38.0        36.0  5.0  5.067438  24.144373   \n",
       "3         184.0  0.270701    9.0         8.0  0.0  0.697913   2.535295   \n",
       "4         183.0  2.166826   22.0        19.0  2.0  1.536662   6.112824   \n",
       "\n",
       "   xGBuildup  age  aggression  goals_90  assists_90  aggression_90    npG_90  \\\n",
       "0   2.195273   23         0.6  0.000000    0.000000       0.030084  0.000000   \n",
       "1   0.885899   23         1.8  0.347826    0.086957       0.156522  0.260870   \n",
       "2  16.293885   21         1.5  0.165624    0.331248       0.049687  0.165624   \n",
       "3   1.791962   34         3.0  0.000000    0.000000       0.133796  0.000000   \n",
       "4   3.069346   29         0.0  0.149378    0.149378       0.000000  0.149378   \n",
       "\n",
       "    npxG_90     xA_90  shots_90  key_passes_90  xGChain_90  xGBuildup_90  \\\n",
       "0  0.014763  0.162997  0.451253       1.604457    0.183430      0.110069   \n",
       "1  0.235748  0.020239  3.739130       0.608696    0.143023      0.077035   \n",
       "2  0.167858  0.182550  1.258741       1.192492    0.799777      0.539731   \n",
       "3  0.031126  0.012073  0.401388       0.356789    0.113071      0.079919   \n",
       "4  0.114771  0.161838  1.643154       1.419087    0.456559      0.229246   \n",
       "\n",
       "   npG_per_shot  npxG_per_shot  goal_conv  npG_conv  npG_vs_npxG  \\\n",
       "0      0.000000       0.032716   0.000000  0.000000    -0.294448   \n",
       "1      0.069767       0.063049   0.093023  0.069767     0.288899   \n",
       "2      0.131579       0.133354   0.131579  0.131579    -0.067438   \n",
       "3      0.000000       0.077546   0.000000  0.000000    -0.697913   \n",
       "4      0.090909       0.069848   0.090909  0.090909     0.463338   \n",
       "\n",
       "  position_category  log_market_value_per_season  log_minutes_played  \n",
       "0          Defender                    16.166886            7.493317  \n",
       "1        Midfielder                    14.346139            6.943122  \n",
       "2          Defender                    17.804495            7.907652  \n",
       "3        Midfielder                    12.691584            7.610358  \n",
       "4           Forward                    15.894952            7.095064  "
      ]
     },
     "execution_count": 4,
     "metadata": {},
     "output_type": "execute_result"
    }
   ],
   "source": [
    "df.head()"
   ]
  },
  {
   "cell_type": "code",
   "execution_count": 5,
   "metadata": {},
   "outputs": [],
   "source": [
    "cols_to_use = ['player_name', 'start_season', 'log_minutes_played', 'competition_code', 'position', \n",
    "               'country', 'foot', 'height_in_cm', 'age',  \n",
    "               'assists_90', 'aggression_90', 'npG_90', 'npxG_90', 'xA_90', \n",
    "               'shots_90', 'key_passes_90', 'xGChain_90', 'xGBuildup_90', 'npG_conv', \n",
    "               'position_category', 'log_market_value_per_season']"
   ]
  },
  {
   "cell_type": "code",
   "execution_count": 6,
   "metadata": {},
   "outputs": [
    {
     "data": {
      "text/plain": [
       "21"
      ]
     },
     "execution_count": 6,
     "metadata": {},
     "output_type": "execute_result"
    }
   ],
   "source": [
    "len(cols_to_use)"
   ]
  },
  {
   "cell_type": "code",
   "execution_count": 7,
   "metadata": {},
   "outputs": [],
   "source": [
    "df = df[cols_to_use]"
   ]
  },
  {
   "cell_type": "code",
   "execution_count": 8,
   "metadata": {},
   "outputs": [
    {
     "name": "stdout",
     "output_type": "stream",
     "text": [
      "<class 'pandas.core.frame.DataFrame'>\n",
      "RangeIndex: 6950 entries, 0 to 6949\n",
      "Data columns (total 21 columns):\n",
      " #   Column                       Non-Null Count  Dtype   \n",
      "---  ------                       --------------  -----   \n",
      " 0   player_name                  6950 non-null   object  \n",
      " 1   start_season                 6950 non-null   category\n",
      " 2   log_minutes_played           6950 non-null   float64 \n",
      " 3   competition_code             6950 non-null   object  \n",
      " 4   position                     6950 non-null   object  \n",
      " 5   country                      6950 non-null   object  \n",
      " 6   foot                         6950 non-null   object  \n",
      " 7   height_in_cm                 6950 non-null   float64 \n",
      " 8   age                          6950 non-null   int64   \n",
      " 9   assists_90                   6950 non-null   float64 \n",
      " 10  aggression_90                6950 non-null   float64 \n",
      " 11  npG_90                       6950 non-null   float64 \n",
      " 12  npxG_90                      6950 non-null   float64 \n",
      " 13  xA_90                        6950 non-null   float64 \n",
      " 14  shots_90                     6950 non-null   float64 \n",
      " 15  key_passes_90                6950 non-null   float64 \n",
      " 16  xGChain_90                   6950 non-null   float64 \n",
      " 17  xGBuildup_90                 6950 non-null   float64 \n",
      " 18  npG_conv                     6950 non-null   float64 \n",
      " 19  position_category            6950 non-null   category\n",
      " 20  log_market_value_per_season  6950 non-null   float64 \n",
      "dtypes: category(2), float64(13), int64(1), object(5)\n",
      "memory usage: 1.0+ MB\n"
     ]
    }
   ],
   "source": [
    "df.info()"
   ]
  },
  {
   "cell_type": "code",
   "execution_count": 9,
   "metadata": {},
   "outputs": [],
   "source": [
    "# 수치형, 범주형 변수 따로 선언\n",
    "num_cols = df.select_dtypes(include=np.number).columns.tolist()\n",
    "cat_cols = df.select_dtypes(exclude=np.number).columns.tolist()"
   ]
  },
  {
   "cell_type": "code",
   "execution_count": 10,
   "metadata": {},
   "outputs": [
    {
     "name": "stdout",
     "output_type": "stream",
     "text": [
      "수치형 변수 : ['log_minutes_played', 'height_in_cm', 'age', 'assists_90', 'aggression_90', 'npG_90', 'npxG_90', 'xA_90', 'shots_90', 'key_passes_90', 'xGChain_90', 'xGBuildup_90', 'npG_conv', 'log_market_value_per_season']\n",
      "범주형 변수 : ['player_name', 'start_season', 'competition_code', 'position', 'country', 'foot', 'position_category']\n"
     ]
    }
   ],
   "source": [
    "print(\"수치형 변수 :\", num_cols)\n",
    "print(\"범주형 변수 :\", cat_cols)"
   ]
  },
  {
   "cell_type": "code",
   "execution_count": 11,
   "metadata": {},
   "outputs": [],
   "source": [
    "# 다중 공선성 확인\n",
    "def feature_engineering_XbyVIF(df):\n",
    "    # NaN 값이 있는 경우 처리\n",
    "    if df.isnull().values.any():\n",
    "        raise ValueError(\"데이터프레임에 NaN 값이 포함되어 있습니다. NaN 값을 처리해 주세요.\")\n",
    "    \n",
    "    # 스케일링 (RobustScaler 사용)\n",
    "    scaler = RobustScaler()\n",
    "    df_scaled = pd.DataFrame(scaler.fit_transform(df), columns=df.columns)\n",
    "\n",
    "    vif = pd.DataFrame()\n",
    "    vif['VIF_Factor'] = [variance_inflation_factor(df_scaled.values, i) for i in range(df_scaled.shape[1])]\n",
    "    vif['Feature'] = df.columns\n",
    "    \n",
    "    return vif"
   ]
  },
  {
   "cell_type": "code",
   "execution_count": 12,
   "metadata": {},
   "outputs": [
    {
     "data": {
      "text/html": [
       "<div>\n",
       "<style scoped>\n",
       "    .dataframe tbody tr th:only-of-type {\n",
       "        vertical-align: middle;\n",
       "    }\n",
       "\n",
       "    .dataframe tbody tr th {\n",
       "        vertical-align: top;\n",
       "    }\n",
       "\n",
       "    .dataframe thead th {\n",
       "        text-align: right;\n",
       "    }\n",
       "</style>\n",
       "<table border=\"1\" class=\"dataframe\">\n",
       "  <thead>\n",
       "    <tr style=\"text-align: right;\">\n",
       "      <th></th>\n",
       "      <th>VIF_Factor</th>\n",
       "      <th>Feature</th>\n",
       "    </tr>\n",
       "  </thead>\n",
       "  <tbody>\n",
       "    <tr>\n",
       "      <th>0</th>\n",
       "      <td>1.304452</td>\n",
       "      <td>log_minutes_played</td>\n",
       "    </tr>\n",
       "    <tr>\n",
       "      <th>1</th>\n",
       "      <td>1.392187</td>\n",
       "      <td>height_in_cm</td>\n",
       "    </tr>\n",
       "    <tr>\n",
       "      <th>2</th>\n",
       "      <td>1.511998</td>\n",
       "      <td>age</td>\n",
       "    </tr>\n",
       "    <tr>\n",
       "      <th>3</th>\n",
       "      <td>3.172469</td>\n",
       "      <td>assists_90</td>\n",
       "    </tr>\n",
       "    <tr>\n",
       "      <th>4</th>\n",
       "      <td>1.116207</td>\n",
       "      <td>aggression_90</td>\n",
       "    </tr>\n",
       "    <tr>\n",
       "      <th>5</th>\n",
       "      <td>8.315667</td>\n",
       "      <td>npG_90</td>\n",
       "    </tr>\n",
       "    <tr>\n",
       "      <th>6</th>\n",
       "      <td>13.679624</td>\n",
       "      <td>npxG_90</td>\n",
       "    </tr>\n",
       "    <tr>\n",
       "      <th>7</th>\n",
       "      <td>8.449089</td>\n",
       "      <td>xA_90</td>\n",
       "    </tr>\n",
       "    <tr>\n",
       "      <th>8</th>\n",
       "      <td>7.036094</td>\n",
       "      <td>shots_90</td>\n",
       "    </tr>\n",
       "    <tr>\n",
       "      <th>9</th>\n",
       "      <td>5.963279</td>\n",
       "      <td>key_passes_90</td>\n",
       "    </tr>\n",
       "    <tr>\n",
       "      <th>10</th>\n",
       "      <td>15.995226</td>\n",
       "      <td>xGChain_90</td>\n",
       "    </tr>\n",
       "    <tr>\n",
       "      <th>11</th>\n",
       "      <td>5.692754</td>\n",
       "      <td>xGBuildup_90</td>\n",
       "    </tr>\n",
       "    <tr>\n",
       "      <th>12</th>\n",
       "      <td>2.005454</td>\n",
       "      <td>npG_conv</td>\n",
       "    </tr>\n",
       "    <tr>\n",
       "      <th>13</th>\n",
       "      <td>2.404273</td>\n",
       "      <td>log_market_value_per_season</td>\n",
       "    </tr>\n",
       "  </tbody>\n",
       "</table>\n",
       "</div>"
      ],
      "text/plain": [
       "    VIF_Factor                      Feature\n",
       "0     1.304452           log_minutes_played\n",
       "1     1.392187                 height_in_cm\n",
       "2     1.511998                          age\n",
       "3     3.172469                   assists_90\n",
       "4     1.116207                aggression_90\n",
       "5     8.315667                       npG_90\n",
       "6    13.679624                      npxG_90\n",
       "7     8.449089                        xA_90\n",
       "8     7.036094                     shots_90\n",
       "9     5.963279                key_passes_90\n",
       "10   15.995226                   xGChain_90\n",
       "11    5.692754                 xGBuildup_90\n",
       "12    2.005454                     npG_conv\n",
       "13    2.404273  log_market_value_per_season"
      ]
     },
     "execution_count": 12,
     "metadata": {},
     "output_type": "execute_result"
    }
   ],
   "source": [
    "feature_engineering_XbyVIF(df[num_cols])\n",
    "# npxG_90, xGChain_90 높다 (10 이상)"
   ]
  },
  {
   "cell_type": "markdown",
   "metadata": {},
   "source": [
    "## 2. 데이터 분리"
   ]
  },
  {
   "cell_type": "code",
   "execution_count": 20,
   "metadata": {},
   "outputs": [
    {
     "data": {
      "text/plain": [
       "((5509, 21), (1441, 21))"
      ]
     },
     "execution_count": 20,
     "metadata": {},
     "output_type": "execute_result"
    }
   ],
   "source": [
    "# target 컬럼 \"log_market_value_per_season\"\n",
    "target = \"log_market_value_per_season\"\n",
    "# 나머지 컬럼 features에 선언\n",
    "features = df.drop(columns=target).columns\n",
    "\n",
    "# 학습할 train 데이터 : 19-20 ~ 22-23 시즌 데이터 (4시즌)\n",
    "train = df[df.start_season != 2023]\n",
    "# 예측할 test 데이터 : 23-24 시즌 데이터\n",
    "test = df[df.start_season == 2023]\n",
    "\n",
    "train.shape, test.shape"
   ]
  },
  {
   "cell_type": "code",
   "execution_count": 21,
   "metadata": {},
   "outputs": [],
   "source": [
    "# validation 데이터셋 생성\n",
    "train, val = train_test_split(train, \n",
    "                            # test와 train의 비율로 validation 데이터 크기 맞춘다\n",
    "                              test_size=test.shape[0]/train.shape[0],\n",
    "                              random_state=42)"
   ]
  },
  {
   "cell_type": "code",
   "execution_count": 22,
   "metadata": {},
   "outputs": [
    {
     "data": {
      "text/plain": [
       "((4067, 20), (4067,), (1442, 20), (1442,), (1441, 20), (1441,))"
      ]
     },
     "execution_count": 22,
     "metadata": {},
     "output_type": "execute_result"
    }
   ],
   "source": [
    "# train 데이터 나눠준다\n",
    "X_train = train[features]\n",
    "y_train = train[target]\n",
    "\n",
    "# validation 데이터 나눠준다\n",
    "X_val = val[features]\n",
    "y_val = val[target]\n",
    "\n",
    "# test 데이터 나눠준다\n",
    "X_test = test[features]\n",
    "y_test = test[target]\n",
    "\n",
    "X_train.shape, y_train.shape, X_val.shape, y_val.shape, X_test.shape, y_test.shape"
   ]
  },
  {
   "cell_type": "code",
   "execution_count": 23,
   "metadata": {},
   "outputs": [],
   "source": [
    "# train 데이터 copy\n",
    "X_train_no_enc = train[features].copy()\n",
    "\n",
    "# validation 데이터 copy\n",
    "X_val_no_enc = val[features].copy()\n",
    "\n",
    "# test 데이터 copy\n",
    "X_test_no_enc = test[features].copy()"
   ]
  },
  {
   "cell_type": "markdown",
   "metadata": {},
   "source": [
    "## 3. 모델 개발"
   ]
  },
  {
   "cell_type": "markdown",
   "metadata": {},
   "source": [
    "### 3-1. 인코딩 (Target Encoding)"
   ]
  },
  {
   "cell_type": "markdown",
   "metadata": {},
   "source": [
    "**Target Encoding**\n",
    "- 머신 러닝 모델의 출력이 숫자 (회귀)일 때만 범주형 feature에 사용\n",
    "\n",
    "- 각 범주에 대한 평균 목표값 계산 → 인코딩 하기 위해 범주형 값이 갖는 범주에 해당하는 백분율 대체\n",
    "- 각 카테고리의 값을 학습 데이터의 target 값의 평균값으로 설정한다\n",
    "- 데이터 관측치가 많아야 한다\n",
    "- 과적합의 원인이 될 수 있다\n",
    "- references\n",
    "    - https://conanmoon.medium.com/%EB%8D%B0%EC%9D%B4%ED%84%B0%EA%B3%BC%ED%95%99-%EC%9C%A0%EB%A7%9D%EC%A3%BC%EC%9D%98-%EB%A7%A4%EC%9D%BC-%EA%B8%80%EC%93%B0%EA%B8%B0-%EC%9D%BC%EA%B3%B1%EB%B2%88%EC%A7%B8-%EC%9D%BC%EC%9A%94%EC%9D%BC-7a40e7de39d4\n",
    "    - https://velog.io/@seungwoong12/encoding"
   ]
  },
  {
   "cell_type": "code",
   "execution_count": 25,
   "metadata": {},
   "outputs": [],
   "source": [
    "# Scikit-learn TargetEncoder 사용\n",
    "# https://scikit-learn.org/stable/modules/generated/sklearn.preprocessing.TargetEncoder.html\n",
    "# Scikit-learn 버전 높아야 사용 가능 (업데이트 필요)\n",
    "\n",
    "# 범주형 변수 목록 cat_features에 선언\n",
    "cat_features = df.select_dtypes(exclude=np.number).columns.tolist()\n",
    "\n",
    "# smooth=\"auto\", cv=5로 TargetEncoder 객체 생성\n",
    "te = TargetEncoder(target_type=\"continuous\", smooth=\"auto\", cv=5)\n",
    "\n",
    "for cat_feature in cat_features:\n",
    "    # Train 데이터로 fit_transform 해준다\n",
    "    X_train[cat_feature] = te.fit_transform(X_train[[cat_feature]], y_train)\n",
    "    X_val[cat_feature] = te.transform(X_val[[cat_feature]])\n",
    "    X_test[cat_feature] = te.transform(X_test[[cat_feature]])"
   ]
  },
  {
   "cell_type": "markdown",
   "metadata": {},
   "source": [
    "### 3-2. 회귀모델 평가 지표  \n",
    "- `RMSLE`\n",
    "    - MSE에 루트를 씌운 RMSE의 각 인자에 로그를 취해준 값\n",
    "        - 로그 변환을 통해 이상치에 대한 영향을 줄이고, 모델이 이상치에 대해 과도하게 페널티를 받지 않게 한다\n",
    "        - 과소평가된 항목에 큰 패널티를 부여한다\n",
    "        - 상대적 ERROR 측정\n",
    "        - 값의 범위가 넓은 데이터에서 이상치에 대해 변화의 폭이 크지 않다\n",
    "    - 정규 분포를 따르지 않고 불균형한 모형일 때 사용되는 방법\n",
    "\n",
    "- `R2 Score` (결정 계수)\n",
    "    - 종속 변수의 총 변동 중 모델이 설명하는 변동의 비율\n",
    "    - 0 ~ 1 사이의 값을 가지며, 높을 수록 모델이 데이터를 잘 설명한다는 뜻\n",
    "\n",
    "- 평가 지표 선정 이유\n",
    "    - 예측하고자 하는 타겟에 이상치가 많이 존재한다 (`market_value_per_season`)\n",
    "        - `RMSLE` : 이상치에 강건한 특성을 갖는다\n",
    "            - 실제보다 작게 예측이 되었을 때 페널티를 더 크게 부여한다\n",
    "            - 선수 몸값이 실제 몸값 보다 적게 측정된다면, \n",
    "                - Transfermarkt 웹사이트가 몸값을 부풀린다고 오해받을 수 있다 \n",
    "                - 실제 이적시장에 거품이 많이 끼어있다고 생각할 수도 있다\n",
    "            - 따라서 과소 평가 항목에 페널티를 주는 `RMSLE`를 통해 평가\n",
    "        - `R2 Score` : 모델이 얼마나 데이터의 변동을 잘 설명하는지 평가\n",
    "\n",
    "- References\n",
    "    - https://shinminyong.tistory.com/32\n",
    "    - https://wikidocs.net/219419\n",
    "    - https://www.inflearn.com/questions/992421/rmsle%EC%9D%98-%EC%82%AC%EC%9A%A9%EC%97%90-%EA%B4%80%ED%95%9C-%EC%A7%88%EB%AC%B8%EC%9E%85%EB%8B%88%EB%8B%A4"
   ]
  },
  {
   "cell_type": "code",
   "execution_count": 29,
   "metadata": {},
   "outputs": [],
   "source": [
    "def calculate_rmsle(y_actual, y_pred):\n",
    "    \"\"\"\n",
    "    Root Mean Squared Logarithmic Error (RMSLE)를 계산하는 함수.\n",
    "    \n",
    "    Parameters:\n",
    "    - y_actual: 실제 값 (array-like)\n",
    "    - y_pred: 예측 값 (array-like)\n",
    "    \n",
    "    Returns:\n",
    "    - RMSLE 값 (float)\n",
    "    \"\"\"\n",
    "    # 음수 값 방지\n",
    "    y_actual = np.maximum(0, y_actual)\n",
    "    y_pred = np.maximum(0, y_pred)\n",
    "    \n",
    "    # 로그 변환 후 차이 계산\n",
    "    log_y_actual = np.log1p(y_actual)\n",
    "    log_y_pred = np.log1p(y_pred)\n",
    "    squared_error = (log_y_actual - log_y_pred) ** 2\n",
    "    \n",
    "    # 평균 제곱근 로그 오차 계산\n",
    "    rmsle = np.sqrt(np.mean(squared_error))\n",
    "    return rmsle"
   ]
  },
  {
   "cell_type": "markdown",
   "metadata": {},
   "source": [
    "### 3-3. Baseline 모델 생성"
   ]
  },
  {
   "cell_type": "code",
   "execution_count": 30,
   "metadata": {},
   "outputs": [],
   "source": [
    "# https://medium.com/machine-learning-with-python/multiple-linear-regression-implementation-in-python-2de9b303fc0c"
   ]
  },
  {
   "cell_type": "code",
   "execution_count": 33,
   "metadata": {},
   "outputs": [
    {
     "data": {
      "text/html": [
       "<style>#sk-container-id-2 {\n",
       "  /* Definition of color scheme common for light and dark mode */\n",
       "  --sklearn-color-text: black;\n",
       "  --sklearn-color-line: gray;\n",
       "  /* Definition of color scheme for unfitted estimators */\n",
       "  --sklearn-color-unfitted-level-0: #fff5e6;\n",
       "  --sklearn-color-unfitted-level-1: #f6e4d2;\n",
       "  --sklearn-color-unfitted-level-2: #ffe0b3;\n",
       "  --sklearn-color-unfitted-level-3: chocolate;\n",
       "  /* Definition of color scheme for fitted estimators */\n",
       "  --sklearn-color-fitted-level-0: #f0f8ff;\n",
       "  --sklearn-color-fitted-level-1: #d4ebff;\n",
       "  --sklearn-color-fitted-level-2: #b3dbfd;\n",
       "  --sklearn-color-fitted-level-3: cornflowerblue;\n",
       "\n",
       "  /* Specific color for light theme */\n",
       "  --sklearn-color-text-on-default-background: var(--sg-text-color, var(--theme-code-foreground, var(--jp-content-font-color1, black)));\n",
       "  --sklearn-color-background: var(--sg-background-color, var(--theme-background, var(--jp-layout-color0, white)));\n",
       "  --sklearn-color-border-box: var(--sg-text-color, var(--theme-code-foreground, var(--jp-content-font-color1, black)));\n",
       "  --sklearn-color-icon: #696969;\n",
       "\n",
       "  @media (prefers-color-scheme: dark) {\n",
       "    /* Redefinition of color scheme for dark theme */\n",
       "    --sklearn-color-text-on-default-background: var(--sg-text-color, var(--theme-code-foreground, var(--jp-content-font-color1, white)));\n",
       "    --sklearn-color-background: var(--sg-background-color, var(--theme-background, var(--jp-layout-color0, #111)));\n",
       "    --sklearn-color-border-box: var(--sg-text-color, var(--theme-code-foreground, var(--jp-content-font-color1, white)));\n",
       "    --sklearn-color-icon: #878787;\n",
       "  }\n",
       "}\n",
       "\n",
       "#sk-container-id-2 {\n",
       "  color: var(--sklearn-color-text);\n",
       "}\n",
       "\n",
       "#sk-container-id-2 pre {\n",
       "  padding: 0;\n",
       "}\n",
       "\n",
       "#sk-container-id-2 input.sk-hidden--visually {\n",
       "  border: 0;\n",
       "  clip: rect(1px 1px 1px 1px);\n",
       "  clip: rect(1px, 1px, 1px, 1px);\n",
       "  height: 1px;\n",
       "  margin: -1px;\n",
       "  overflow: hidden;\n",
       "  padding: 0;\n",
       "  position: absolute;\n",
       "  width: 1px;\n",
       "}\n",
       "\n",
       "#sk-container-id-2 div.sk-dashed-wrapped {\n",
       "  border: 1px dashed var(--sklearn-color-line);\n",
       "  margin: 0 0.4em 0.5em 0.4em;\n",
       "  box-sizing: border-box;\n",
       "  padding-bottom: 0.4em;\n",
       "  background-color: var(--sklearn-color-background);\n",
       "}\n",
       "\n",
       "#sk-container-id-2 div.sk-container {\n",
       "  /* jupyter's `normalize.less` sets `[hidden] { display: none; }`\n",
       "     but bootstrap.min.css set `[hidden] { display: none !important; }`\n",
       "     so we also need the `!important` here to be able to override the\n",
       "     default hidden behavior on the sphinx rendered scikit-learn.org.\n",
       "     See: https://github.com/scikit-learn/scikit-learn/issues/21755 */\n",
       "  display: inline-block !important;\n",
       "  position: relative;\n",
       "}\n",
       "\n",
       "#sk-container-id-2 div.sk-text-repr-fallback {\n",
       "  display: none;\n",
       "}\n",
       "\n",
       "div.sk-parallel-item,\n",
       "div.sk-serial,\n",
       "div.sk-item {\n",
       "  /* draw centered vertical line to link estimators */\n",
       "  background-image: linear-gradient(var(--sklearn-color-text-on-default-background), var(--sklearn-color-text-on-default-background));\n",
       "  background-size: 2px 100%;\n",
       "  background-repeat: no-repeat;\n",
       "  background-position: center center;\n",
       "}\n",
       "\n",
       "/* Parallel-specific style estimator block */\n",
       "\n",
       "#sk-container-id-2 div.sk-parallel-item::after {\n",
       "  content: \"\";\n",
       "  width: 100%;\n",
       "  border-bottom: 2px solid var(--sklearn-color-text-on-default-background);\n",
       "  flex-grow: 1;\n",
       "}\n",
       "\n",
       "#sk-container-id-2 div.sk-parallel {\n",
       "  display: flex;\n",
       "  align-items: stretch;\n",
       "  justify-content: center;\n",
       "  background-color: var(--sklearn-color-background);\n",
       "  position: relative;\n",
       "}\n",
       "\n",
       "#sk-container-id-2 div.sk-parallel-item {\n",
       "  display: flex;\n",
       "  flex-direction: column;\n",
       "}\n",
       "\n",
       "#sk-container-id-2 div.sk-parallel-item:first-child::after {\n",
       "  align-self: flex-end;\n",
       "  width: 50%;\n",
       "}\n",
       "\n",
       "#sk-container-id-2 div.sk-parallel-item:last-child::after {\n",
       "  align-self: flex-start;\n",
       "  width: 50%;\n",
       "}\n",
       "\n",
       "#sk-container-id-2 div.sk-parallel-item:only-child::after {\n",
       "  width: 0;\n",
       "}\n",
       "\n",
       "/* Serial-specific style estimator block */\n",
       "\n",
       "#sk-container-id-2 div.sk-serial {\n",
       "  display: flex;\n",
       "  flex-direction: column;\n",
       "  align-items: center;\n",
       "  background-color: var(--sklearn-color-background);\n",
       "  padding-right: 1em;\n",
       "  padding-left: 1em;\n",
       "}\n",
       "\n",
       "\n",
       "/* Toggleable style: style used for estimator/Pipeline/ColumnTransformer box that is\n",
       "clickable and can be expanded/collapsed.\n",
       "- Pipeline and ColumnTransformer use this feature and define the default style\n",
       "- Estimators will overwrite some part of the style using the `sk-estimator` class\n",
       "*/\n",
       "\n",
       "/* Pipeline and ColumnTransformer style (default) */\n",
       "\n",
       "#sk-container-id-2 div.sk-toggleable {\n",
       "  /* Default theme specific background. It is overwritten whether we have a\n",
       "  specific estimator or a Pipeline/ColumnTransformer */\n",
       "  background-color: var(--sklearn-color-background);\n",
       "}\n",
       "\n",
       "/* Toggleable label */\n",
       "#sk-container-id-2 label.sk-toggleable__label {\n",
       "  cursor: pointer;\n",
       "  display: block;\n",
       "  width: 100%;\n",
       "  margin-bottom: 0;\n",
       "  padding: 0.5em;\n",
       "  box-sizing: border-box;\n",
       "  text-align: center;\n",
       "}\n",
       "\n",
       "#sk-container-id-2 label.sk-toggleable__label-arrow:before {\n",
       "  /* Arrow on the left of the label */\n",
       "  content: \"▸\";\n",
       "  float: left;\n",
       "  margin-right: 0.25em;\n",
       "  color: var(--sklearn-color-icon);\n",
       "}\n",
       "\n",
       "#sk-container-id-2 label.sk-toggleable__label-arrow:hover:before {\n",
       "  color: var(--sklearn-color-text);\n",
       "}\n",
       "\n",
       "/* Toggleable content - dropdown */\n",
       "\n",
       "#sk-container-id-2 div.sk-toggleable__content {\n",
       "  max-height: 0;\n",
       "  max-width: 0;\n",
       "  overflow: hidden;\n",
       "  text-align: left;\n",
       "  /* unfitted */\n",
       "  background-color: var(--sklearn-color-unfitted-level-0);\n",
       "}\n",
       "\n",
       "#sk-container-id-2 div.sk-toggleable__content.fitted {\n",
       "  /* fitted */\n",
       "  background-color: var(--sklearn-color-fitted-level-0);\n",
       "}\n",
       "\n",
       "#sk-container-id-2 div.sk-toggleable__content pre {\n",
       "  margin: 0.2em;\n",
       "  border-radius: 0.25em;\n",
       "  color: var(--sklearn-color-text);\n",
       "  /* unfitted */\n",
       "  background-color: var(--sklearn-color-unfitted-level-0);\n",
       "}\n",
       "\n",
       "#sk-container-id-2 div.sk-toggleable__content.fitted pre {\n",
       "  /* unfitted */\n",
       "  background-color: var(--sklearn-color-fitted-level-0);\n",
       "}\n",
       "\n",
       "#sk-container-id-2 input.sk-toggleable__control:checked~div.sk-toggleable__content {\n",
       "  /* Expand drop-down */\n",
       "  max-height: 200px;\n",
       "  max-width: 100%;\n",
       "  overflow: auto;\n",
       "}\n",
       "\n",
       "#sk-container-id-2 input.sk-toggleable__control:checked~label.sk-toggleable__label-arrow:before {\n",
       "  content: \"▾\";\n",
       "}\n",
       "\n",
       "/* Pipeline/ColumnTransformer-specific style */\n",
       "\n",
       "#sk-container-id-2 div.sk-label input.sk-toggleable__control:checked~label.sk-toggleable__label {\n",
       "  color: var(--sklearn-color-text);\n",
       "  background-color: var(--sklearn-color-unfitted-level-2);\n",
       "}\n",
       "\n",
       "#sk-container-id-2 div.sk-label.fitted input.sk-toggleable__control:checked~label.sk-toggleable__label {\n",
       "  background-color: var(--sklearn-color-fitted-level-2);\n",
       "}\n",
       "\n",
       "/* Estimator-specific style */\n",
       "\n",
       "/* Colorize estimator box */\n",
       "#sk-container-id-2 div.sk-estimator input.sk-toggleable__control:checked~label.sk-toggleable__label {\n",
       "  /* unfitted */\n",
       "  background-color: var(--sklearn-color-unfitted-level-2);\n",
       "}\n",
       "\n",
       "#sk-container-id-2 div.sk-estimator.fitted input.sk-toggleable__control:checked~label.sk-toggleable__label {\n",
       "  /* fitted */\n",
       "  background-color: var(--sklearn-color-fitted-level-2);\n",
       "}\n",
       "\n",
       "#sk-container-id-2 div.sk-label label.sk-toggleable__label,\n",
       "#sk-container-id-2 div.sk-label label {\n",
       "  /* The background is the default theme color */\n",
       "  color: var(--sklearn-color-text-on-default-background);\n",
       "}\n",
       "\n",
       "/* On hover, darken the color of the background */\n",
       "#sk-container-id-2 div.sk-label:hover label.sk-toggleable__label {\n",
       "  color: var(--sklearn-color-text);\n",
       "  background-color: var(--sklearn-color-unfitted-level-2);\n",
       "}\n",
       "\n",
       "/* Label box, darken color on hover, fitted */\n",
       "#sk-container-id-2 div.sk-label.fitted:hover label.sk-toggleable__label.fitted {\n",
       "  color: var(--sklearn-color-text);\n",
       "  background-color: var(--sklearn-color-fitted-level-2);\n",
       "}\n",
       "\n",
       "/* Estimator label */\n",
       "\n",
       "#sk-container-id-2 div.sk-label label {\n",
       "  font-family: monospace;\n",
       "  font-weight: bold;\n",
       "  display: inline-block;\n",
       "  line-height: 1.2em;\n",
       "}\n",
       "\n",
       "#sk-container-id-2 div.sk-label-container {\n",
       "  text-align: center;\n",
       "}\n",
       "\n",
       "/* Estimator-specific */\n",
       "#sk-container-id-2 div.sk-estimator {\n",
       "  font-family: monospace;\n",
       "  border: 1px dotted var(--sklearn-color-border-box);\n",
       "  border-radius: 0.25em;\n",
       "  box-sizing: border-box;\n",
       "  margin-bottom: 0.5em;\n",
       "  /* unfitted */\n",
       "  background-color: var(--sklearn-color-unfitted-level-0);\n",
       "}\n",
       "\n",
       "#sk-container-id-2 div.sk-estimator.fitted {\n",
       "  /* fitted */\n",
       "  background-color: var(--sklearn-color-fitted-level-0);\n",
       "}\n",
       "\n",
       "/* on hover */\n",
       "#sk-container-id-2 div.sk-estimator:hover {\n",
       "  /* unfitted */\n",
       "  background-color: var(--sklearn-color-unfitted-level-2);\n",
       "}\n",
       "\n",
       "#sk-container-id-2 div.sk-estimator.fitted:hover {\n",
       "  /* fitted */\n",
       "  background-color: var(--sklearn-color-fitted-level-2);\n",
       "}\n",
       "\n",
       "/* Specification for estimator info (e.g. \"i\" and \"?\") */\n",
       "\n",
       "/* Common style for \"i\" and \"?\" */\n",
       "\n",
       ".sk-estimator-doc-link,\n",
       "a:link.sk-estimator-doc-link,\n",
       "a:visited.sk-estimator-doc-link {\n",
       "  float: right;\n",
       "  font-size: smaller;\n",
       "  line-height: 1em;\n",
       "  font-family: monospace;\n",
       "  background-color: var(--sklearn-color-background);\n",
       "  border-radius: 1em;\n",
       "  height: 1em;\n",
       "  width: 1em;\n",
       "  text-decoration: none !important;\n",
       "  margin-left: 1ex;\n",
       "  /* unfitted */\n",
       "  border: var(--sklearn-color-unfitted-level-1) 1pt solid;\n",
       "  color: var(--sklearn-color-unfitted-level-1);\n",
       "}\n",
       "\n",
       ".sk-estimator-doc-link.fitted,\n",
       "a:link.sk-estimator-doc-link.fitted,\n",
       "a:visited.sk-estimator-doc-link.fitted {\n",
       "  /* fitted */\n",
       "  border: var(--sklearn-color-fitted-level-1) 1pt solid;\n",
       "  color: var(--sklearn-color-fitted-level-1);\n",
       "}\n",
       "\n",
       "/* On hover */\n",
       "div.sk-estimator:hover .sk-estimator-doc-link:hover,\n",
       ".sk-estimator-doc-link:hover,\n",
       "div.sk-label-container:hover .sk-estimator-doc-link:hover,\n",
       ".sk-estimator-doc-link:hover {\n",
       "  /* unfitted */\n",
       "  background-color: var(--sklearn-color-unfitted-level-3);\n",
       "  color: var(--sklearn-color-background);\n",
       "  text-decoration: none;\n",
       "}\n",
       "\n",
       "div.sk-estimator.fitted:hover .sk-estimator-doc-link.fitted:hover,\n",
       ".sk-estimator-doc-link.fitted:hover,\n",
       "div.sk-label-container:hover .sk-estimator-doc-link.fitted:hover,\n",
       ".sk-estimator-doc-link.fitted:hover {\n",
       "  /* fitted */\n",
       "  background-color: var(--sklearn-color-fitted-level-3);\n",
       "  color: var(--sklearn-color-background);\n",
       "  text-decoration: none;\n",
       "}\n",
       "\n",
       "/* Span, style for the box shown on hovering the info icon */\n",
       ".sk-estimator-doc-link span {\n",
       "  display: none;\n",
       "  z-index: 9999;\n",
       "  position: relative;\n",
       "  font-weight: normal;\n",
       "  right: .2ex;\n",
       "  padding: .5ex;\n",
       "  margin: .5ex;\n",
       "  width: min-content;\n",
       "  min-width: 20ex;\n",
       "  max-width: 50ex;\n",
       "  color: var(--sklearn-color-text);\n",
       "  box-shadow: 2pt 2pt 4pt #999;\n",
       "  /* unfitted */\n",
       "  background: var(--sklearn-color-unfitted-level-0);\n",
       "  border: .5pt solid var(--sklearn-color-unfitted-level-3);\n",
       "}\n",
       "\n",
       ".sk-estimator-doc-link.fitted span {\n",
       "  /* fitted */\n",
       "  background: var(--sklearn-color-fitted-level-0);\n",
       "  border: var(--sklearn-color-fitted-level-3);\n",
       "}\n",
       "\n",
       ".sk-estimator-doc-link:hover span {\n",
       "  display: block;\n",
       "}\n",
       "\n",
       "/* \"?\"-specific style due to the `<a>` HTML tag */\n",
       "\n",
       "#sk-container-id-2 a.estimator_doc_link {\n",
       "  float: right;\n",
       "  font-size: 1rem;\n",
       "  line-height: 1em;\n",
       "  font-family: monospace;\n",
       "  background-color: var(--sklearn-color-background);\n",
       "  border-radius: 1rem;\n",
       "  height: 1rem;\n",
       "  width: 1rem;\n",
       "  text-decoration: none;\n",
       "  /* unfitted */\n",
       "  color: var(--sklearn-color-unfitted-level-1);\n",
       "  border: var(--sklearn-color-unfitted-level-1) 1pt solid;\n",
       "}\n",
       "\n",
       "#sk-container-id-2 a.estimator_doc_link.fitted {\n",
       "  /* fitted */\n",
       "  border: var(--sklearn-color-fitted-level-1) 1pt solid;\n",
       "  color: var(--sklearn-color-fitted-level-1);\n",
       "}\n",
       "\n",
       "/* On hover */\n",
       "#sk-container-id-2 a.estimator_doc_link:hover {\n",
       "  /* unfitted */\n",
       "  background-color: var(--sklearn-color-unfitted-level-3);\n",
       "  color: var(--sklearn-color-background);\n",
       "  text-decoration: none;\n",
       "}\n",
       "\n",
       "#sk-container-id-2 a.estimator_doc_link.fitted:hover {\n",
       "  /* fitted */\n",
       "  background-color: var(--sklearn-color-fitted-level-3);\n",
       "}\n",
       "</style><div id=\"sk-container-id-2\" class=\"sk-top-container\"><div class=\"sk-text-repr-fallback\"><pre>DecisionTreeRegressor()</pre><b>In a Jupyter environment, please rerun this cell to show the HTML representation or trust the notebook. <br />On GitHub, the HTML representation is unable to render, please try loading this page with nbviewer.org.</b></div><div class=\"sk-container\" hidden><div class=\"sk-item\"><div class=\"sk-estimator fitted sk-toggleable\"><input class=\"sk-toggleable__control sk-hidden--visually\" id=\"sk-estimator-id-2\" type=\"checkbox\" checked><label for=\"sk-estimator-id-2\" class=\"sk-toggleable__label fitted sk-toggleable__label-arrow fitted\">&nbsp;&nbsp;DecisionTreeRegressor<a class=\"sk-estimator-doc-link fitted\" rel=\"noreferrer\" target=\"_blank\" href=\"https://scikit-learn.org/1.4/modules/generated/sklearn.tree.DecisionTreeRegressor.html\">?<span>Documentation for DecisionTreeRegressor</span></a><span class=\"sk-estimator-doc-link fitted\">i<span>Fitted</span></span></label><div class=\"sk-toggleable__content fitted\"><pre>DecisionTreeRegressor()</pre></div> </div></div></div></div>"
      ],
      "text/plain": [
       "DecisionTreeRegressor()"
      ]
     },
     "execution_count": 33,
     "metadata": {},
     "output_type": "execute_result"
    }
   ],
   "source": [
    "dt = DecisionTreeRegressor()\n",
    "dt.fit(X_train, y_train)"
   ]
  },
  {
   "cell_type": "code",
   "execution_count": 36,
   "metadata": {},
   "outputs": [],
   "source": [
    "def baseline_model(model_name, model):\n",
    "    # 결과 저장 리스트 초기화\n",
    "    baseline_results = []\n",
    "\n",
    "    print(f\"\\n====== Baseline Model : {model_name} ======\")\n",
    "\n",
    "    # Train, Validation, Test 데이터셋에 대한 예측\n",
    "    # y_train_pred = model.predict(X_train)\n",
    "    # y_val_pred = model.predict(X_val)\n",
    "    y_test_pred = model.predict(X_test)\n",
    "\n",
    "    # Baseline 모델의 성능 지표 계산\n",
    "    base_mae = metrics.mean_absolute_error(y_test, y_test_pred)\n",
    "    base_mse = metrics.mean_squared_error(y_test, y_test_pred)\n",
    "    base_rmse = metrics.root_mean_squared_error(y_test, y_test_pred)\n",
    "    base_rmsle = calculate_rmsle(y_test, y_test_pred)\n",
    "    base_r2 = metrics.r2_score(y_test, y_test_pred)\n",
    "\n",
    "    # 결과를 리스트에 저장\n",
    "    baseline_results.append({\n",
    "        \"Model\": model_name,\n",
    "        \"MAE\": base_mae,\n",
    "        \"MSE\": base_mse,\n",
    "        \"RMSE\": base_rmse,\n",
    "        \"RMSLE\": base_rmsle,\n",
    "        \"R2 Score\": base_r2\n",
    "    })\n",
    "\n",
    "    # 결과 리스트를 DataFrame으로 변환\n",
    "    baseline_df = pd.DataFrame(baseline_results)\n",
    "\n",
    "    # 출력 포맷 적용\n",
    "    return baseline_df.style.format({\n",
    "        \"MAE\": \"{:.2f}\",\n",
    "        \"MSE\": \"{:.2f}\",\n",
    "        \"RMSE\": \"{:.2f}\",\n",
    "        \"RMSLE\": \"{:.2f}\",\n",
    "        \"R2 Score\": \"{:.2f}\"\n",
    "    })\n"
   ]
  },
  {
   "cell_type": "code",
   "execution_count": 38,
   "metadata": {},
   "outputs": [
    {
     "name": "stdout",
     "output_type": "stream",
     "text": [
      "\n",
      "====== Baseline Model : Decision Tree ======\n"
     ]
    },
    {
     "data": {
      "text/html": [
       "<style type=\"text/css\">\n",
       "</style>\n",
       "<table id=\"T_e09c8\">\n",
       "  <thead>\n",
       "    <tr>\n",
       "      <th class=\"blank level0\" >&nbsp;</th>\n",
       "      <th id=\"T_e09c8_level0_col0\" class=\"col_heading level0 col0\" >Model</th>\n",
       "      <th id=\"T_e09c8_level0_col1\" class=\"col_heading level0 col1\" >MAE</th>\n",
       "      <th id=\"T_e09c8_level0_col2\" class=\"col_heading level0 col2\" >MSE</th>\n",
       "      <th id=\"T_e09c8_level0_col3\" class=\"col_heading level0 col3\" >RMSE</th>\n",
       "      <th id=\"T_e09c8_level0_col4\" class=\"col_heading level0 col4\" >RMSLE</th>\n",
       "      <th id=\"T_e09c8_level0_col5\" class=\"col_heading level0 col5\" >R2 Score</th>\n",
       "    </tr>\n",
       "  </thead>\n",
       "  <tbody>\n",
       "    <tr>\n",
       "      <th id=\"T_e09c8_level0_row0\" class=\"row_heading level0 row0\" >0</th>\n",
       "      <td id=\"T_e09c8_row0_col0\" class=\"data row0 col0\" >Decision Tree</td>\n",
       "      <td id=\"T_e09c8_row0_col1\" class=\"data row0 col1\" >0.66</td>\n",
       "      <td id=\"T_e09c8_row0_col2\" class=\"data row0 col2\" >0.73</td>\n",
       "      <td id=\"T_e09c8_row0_col3\" class=\"data row0 col3\" >0.85</td>\n",
       "      <td id=\"T_e09c8_row0_col4\" class=\"data row0 col4\" >0.05</td>\n",
       "      <td id=\"T_e09c8_row0_col5\" class=\"data row0 col5\" >0.48</td>\n",
       "    </tr>\n",
       "  </tbody>\n",
       "</table>\n"
      ],
      "text/plain": [
       "<pandas.io.formats.style.Styler at 0x154fed85f90>"
      ]
     },
     "execution_count": 38,
     "metadata": {},
     "output_type": "execute_result"
    }
   ],
   "source": [
    "baseline_model(\"Decision Tree\", dt)"
   ]
  },
  {
   "cell_type": "markdown",
   "metadata": {},
   "source": [
    "## 4. 스케일링\n",
    "- 데이터셋의 다양한 컬럼들에 이상치 다수 존재\n",
    "    - 하지만 축구라는 스포츠의 특성 상, 득점, 도움, 시장 가치 등 몇몇의 특출난 선수들의 스탯이 도드라진다\n",
    "    - 따라서 이상치 제거하지 않음\n",
    "- `RobustScaler` 선택 (이상치의 영향 최소화)\n",
    "- References\n",
    "    - https://cheris8.github.io/data%20analysis/DP-Data-Scaling/"
   ]
  },
  {
   "cell_type": "markdown",
   "metadata": {},
   "source": [
    "### 5-1. `RobustScaling`\n",
    "- 데이터의 중앙값 = 0, IQE = 1이 되도록 스케일링\n",
    "    - IQR = Q3 - Q1 : 25퍼센타일과 75퍼센타일의 값들\n",
    "- 중앙값 (Median)과 IQR (Interquartile Range) 사용\n",
    "    - `RobustScaler`를 사용할 경우, `StandardScaler`에 비해 스케일링 결과가 더 넓게 분포\n",
    "- 모든 feature들이 같은 스케일을 갖는다\n",
    "- 이상치의 영향을 최소화 한다\n",
    "- 이번에는 사용하지 않는다\n",
    "    - Tree 기반 모델에서는 스케일링이 큰 효과가 없기 때문"
   ]
  },
  {
   "cell_type": "code",
   "execution_count": 20,
   "metadata": {},
   "outputs": [],
   "source": [
    "# # RobustScaler X_train 데이터셋에 fit\n",
    "# robustScaler = RobustScaler().fit(X_train)\n",
    "\n",
    "# # RobustScaler로 X_train, X_val, X_test 데이터셋 변환\n",
    "# X_train_robust = robustScaler.transform(X_train)\n",
    "# X_val_robust = robustScaler.transform(X_val)\n",
    "# X_test_robust = robustScaler.transform(X_test)"
   ]
  },
  {
   "cell_type": "markdown",
   "metadata": {},
   "source": [
    "## 5. 머신러닝 모델링"
   ]
  },
  {
   "cell_type": "markdown",
   "metadata": {},
   "source": [
    "### 5-1. 하이퍼 파라미터 튜닝 전 모델 생성"
   ]
  },
  {
   "cell_type": "code",
   "execution_count": 39,
   "metadata": {},
   "outputs": [],
   "source": [
    "model_list = [\"dt_model\", \"rf_model\", \"cat_model\", \"lgbm_model\", \"xgb_model\"]\n",
    "\n",
    "dt_model = DecisionTreeRegressor(random_state=42)\n",
    "rf_model = RandomForestRegressor(random_state=42)\n",
    "cat_model = CatBoostRegressor(random_state=42)\n",
    "lgbm_model = LGBMRegressor(random_state=42)\n",
    "xgb_model = XGBRegressor(random_state=42)"
   ]
  },
  {
   "cell_type": "code",
   "execution_count": 98,
   "metadata": {},
   "outputs": [],
   "source": [
    "models = [\n",
    "    # (\"Linear Regression\", LinearRegression()),\n",
    "    (\"Decision Tree\", DecisionTreeRegressor(random_state=42)),\n",
    "    (\"Random Forest\", RandomForestRegressor(random_state=42)),\n",
    "    (\"CatBoost\", CatBoostRegressor(random_state=42, task_type=\"GPU\", one_hot_max_size=10)),\n",
    "    (\"LightGBM\", LGBMRegressor(random_state=42)),\n",
    "    (\"XGBoost\", XGBRegressor(random_state=42))\n",
    "]"
   ]
  },
  {
   "cell_type": "code",
   "execution_count": 104,
   "metadata": {},
   "outputs": [],
   "source": [
    "def evaluate_models(models, X_train, y_train, X_val, y_val, X_test, y_test, when=\"before\"):\n",
    "    models_results = []\n",
    "\n",
    "    for model_name, model in models:\n",
    "        # 모델 훈련\n",
    "        # if model == \"CatBoost\":\n",
    "        #     model.fit(X_train, y_train, one_hot_max_size=10)\n",
    "        # else:\n",
    "        model.fit(X_train, y_train)\n",
    "\n",
    "        # 데이터셋에 대한 예측\n",
    "        y_train_pred = model.predict(X_train)\n",
    "        y_val_pred = model.predict(X_val)\n",
    "        y_test_pred = model.predict(X_test)\n",
    "\n",
    "        # 성능 지표 계산\n",
    "        # train_rmse = round(metrics.mean_squared_error(y_train, y_train_pred), 2)\n",
    "        val_rmse = round(metrics.mean_squared_error(y_val, y_val_pred), 4)\n",
    "        test_rmse = round(metrics.mean_squared_error(y_test, y_test_pred), 4)\n",
    "\n",
    "        val_rmsle = round(calculate_rmsle(y_val, y_val_pred), 4)\n",
    "        test_rmsle = round(calculate_rmsle(y_test, y_test_pred), 4)\n",
    "\n",
    "        val_r2 = round(metrics.r2_score(y_val, y_val_pred), 4)\n",
    "        test_r2 = round(metrics.r2_score(y_test, y_test_pred), 4)\n",
    "\n",
    "        # 결과 저장\n",
    "        models_results.append({\n",
    "            \"Model\": model_name,\n",
    "            # \"Train RMSE\": train_rmse,\n",
    "            \"Validation RMSE\": val_rmse,\n",
    "            \"Test RMSE\": test_rmse,\n",
    "            \"Validation RMSLE\": val_rmsle,\n",
    "            \"Test RMSLE\": test_rmsle,\n",
    "            \"Validation R2\": val_r2,\n",
    "            \"Test R2\": test_r2\n",
    "        })\n",
    "\n",
    "    # 결과 정렬 및 출력\n",
    "    results_df = pd.DataFrame(models_results)\n",
    "    print(f\"\\n====== Models {when} Hyper Parameter Tuning ======\")\n",
    "    return results_df.sort_values(by=\"Test RMSLE\", ascending=True).reset_index(drop=True)\n"
   ]
  },
  {
   "cell_type": "code",
   "execution_count": 105,
   "metadata": {},
   "outputs": [
    {
     "name": "stdout",
     "output_type": "stream",
     "text": [
      "Learning rate set to 0.048543\n",
      "0:\tlearn: 1.1674445\ttotal: 14ms\tremaining: 13.9s\n",
      "1:\tlearn: 1.1338587\ttotal: 28.4ms\tremaining: 14.2s\n",
      "2:\tlearn: 1.1019391\ttotal: 40.3ms\tremaining: 13.4s\n",
      "3:\tlearn: 1.0711479\ttotal: 52.3ms\tremaining: 13s\n",
      "4:\tlearn: 1.0422934\ttotal: 63.9ms\tremaining: 12.7s\n",
      "5:\tlearn: 1.0143958\ttotal: 75.5ms\tremaining: 12.5s\n",
      "6:\tlearn: 0.9884633\ttotal: 86.2ms\tremaining: 12.2s\n",
      "7:\tlearn: 0.9639265\ttotal: 100ms\tremaining: 12.4s\n",
      "8:\tlearn: 0.9408786\ttotal: 112ms\tremaining: 12.4s\n",
      "9:\tlearn: 0.9199247\ttotal: 124ms\tremaining: 12.3s\n",
      "10:\tlearn: 0.9002909\ttotal: 136ms\tremaining: 12.3s\n",
      "11:\tlearn: 0.8808676\ttotal: 148ms\tremaining: 12.2s\n",
      "12:\tlearn: 0.8630641\ttotal: 161ms\tremaining: 12.2s\n",
      "13:\tlearn: 0.8457555\ttotal: 174ms\tremaining: 12.2s\n",
      "14:\tlearn: 0.8286444\ttotal: 188ms\tremaining: 12.4s\n",
      "15:\tlearn: 0.8129133\ttotal: 203ms\tremaining: 12.5s\n",
      "16:\tlearn: 0.7983032\ttotal: 221ms\tremaining: 12.8s\n",
      "17:\tlearn: 0.7848432\ttotal: 236ms\tremaining: 12.9s\n",
      "18:\tlearn: 0.7720113\ttotal: 249ms\tremaining: 12.9s\n",
      "19:\tlearn: 0.7596842\ttotal: 264ms\tremaining: 12.9s\n",
      "20:\tlearn: 0.7482566\ttotal: 276ms\tremaining: 12.9s\n",
      "21:\tlearn: 0.7376831\ttotal: 288ms\tremaining: 12.8s\n",
      "22:\tlearn: 0.7272496\ttotal: 301ms\tremaining: 12.8s\n",
      "23:\tlearn: 0.7182853\ttotal: 312ms\tremaining: 12.7s\n",
      "24:\tlearn: 0.7094683\ttotal: 325ms\tremaining: 12.7s\n",
      "25:\tlearn: 0.7014207\ttotal: 337ms\tremaining: 12.6s\n",
      "26:\tlearn: 0.6933390\ttotal: 353ms\tremaining: 12.7s\n",
      "27:\tlearn: 0.6857610\ttotal: 367ms\tremaining: 12.7s\n",
      "28:\tlearn: 0.6788334\ttotal: 378ms\tremaining: 12.7s\n",
      "29:\tlearn: 0.6718971\ttotal: 392ms\tremaining: 12.7s\n",
      "30:\tlearn: 0.6659455\ttotal: 403ms\tremaining: 12.6s\n",
      "31:\tlearn: 0.6591882\ttotal: 417ms\tremaining: 12.6s\n",
      "32:\tlearn: 0.6534748\ttotal: 428ms\tremaining: 12.5s\n",
      "33:\tlearn: 0.6481650\ttotal: 441ms\tremaining: 12.5s\n",
      "34:\tlearn: 0.6426933\ttotal: 456ms\tremaining: 12.6s\n",
      "35:\tlearn: 0.6376810\ttotal: 469ms\tremaining: 12.5s\n",
      "36:\tlearn: 0.6333832\ttotal: 481ms\tremaining: 12.5s\n",
      "37:\tlearn: 0.6295632\ttotal: 491ms\tremaining: 12.4s\n",
      "38:\tlearn: 0.6251291\ttotal: 504ms\tremaining: 12.4s\n",
      "39:\tlearn: 0.6213117\ttotal: 517ms\tremaining: 12.4s\n",
      "40:\tlearn: 0.6173745\ttotal: 531ms\tremaining: 12.4s\n",
      "41:\tlearn: 0.6137229\ttotal: 543ms\tremaining: 12.4s\n",
      "42:\tlearn: 0.6103590\ttotal: 557ms\tremaining: 12.4s\n",
      "43:\tlearn: 0.6069416\ttotal: 569ms\tremaining: 12.4s\n",
      "44:\tlearn: 0.6037489\ttotal: 585ms\tremaining: 12.4s\n",
      "45:\tlearn: 0.6007028\ttotal: 598ms\tremaining: 12.4s\n",
      "46:\tlearn: 0.5979038\ttotal: 613ms\tremaining: 12.4s\n",
      "47:\tlearn: 0.5949408\ttotal: 627ms\tremaining: 12.4s\n",
      "48:\tlearn: 0.5923663\ttotal: 642ms\tremaining: 12.5s\n",
      "49:\tlearn: 0.5900772\ttotal: 656ms\tremaining: 12.5s\n",
      "50:\tlearn: 0.5878330\ttotal: 671ms\tremaining: 12.5s\n",
      "51:\tlearn: 0.5854325\ttotal: 687ms\tremaining: 12.5s\n",
      "52:\tlearn: 0.5833050\ttotal: 702ms\tremaining: 12.5s\n",
      "53:\tlearn: 0.5810631\ttotal: 715ms\tremaining: 12.5s\n",
      "54:\tlearn: 0.5784927\ttotal: 726ms\tremaining: 12.5s\n",
      "55:\tlearn: 0.5767515\ttotal: 738ms\tremaining: 12.4s\n",
      "56:\tlearn: 0.5747929\ttotal: 749ms\tremaining: 12.4s\n",
      "57:\tlearn: 0.5728166\ttotal: 761ms\tremaining: 12.4s\n",
      "58:\tlearn: 0.5711447\ttotal: 773ms\tremaining: 12.3s\n",
      "59:\tlearn: 0.5692086\ttotal: 785ms\tremaining: 12.3s\n",
      "60:\tlearn: 0.5674325\ttotal: 796ms\tremaining: 12.3s\n",
      "61:\tlearn: 0.5654065\ttotal: 812ms\tremaining: 12.3s\n",
      "62:\tlearn: 0.5637467\ttotal: 827ms\tremaining: 12.3s\n",
      "63:\tlearn: 0.5620235\ttotal: 841ms\tremaining: 12.3s\n",
      "64:\tlearn: 0.5606911\ttotal: 855ms\tremaining: 12.3s\n",
      "65:\tlearn: 0.5595787\ttotal: 869ms\tremaining: 12.3s\n",
      "66:\tlearn: 0.5583877\ttotal: 882ms\tremaining: 12.3s\n",
      "67:\tlearn: 0.5574094\ttotal: 896ms\tremaining: 12.3s\n",
      "68:\tlearn: 0.5560664\ttotal: 909ms\tremaining: 12.3s\n",
      "69:\tlearn: 0.5545538\ttotal: 921ms\tremaining: 12.2s\n",
      "70:\tlearn: 0.5533114\ttotal: 935ms\tremaining: 12.2s\n",
      "71:\tlearn: 0.5520400\ttotal: 946ms\tremaining: 12.2s\n",
      "72:\tlearn: 0.5508586\ttotal: 960ms\tremaining: 12.2s\n",
      "73:\tlearn: 0.5499518\ttotal: 974ms\tremaining: 12.2s\n",
      "74:\tlearn: 0.5486819\ttotal: 990ms\tremaining: 12.2s\n",
      "75:\tlearn: 0.5474023\ttotal: 1s\tremaining: 12.2s\n",
      "76:\tlearn: 0.5463218\ttotal: 1.02s\tremaining: 12.2s\n",
      "77:\tlearn: 0.5457108\ttotal: 1.03s\tremaining: 12.2s\n",
      "78:\tlearn: 0.5448252\ttotal: 1.05s\tremaining: 12.2s\n",
      "79:\tlearn: 0.5440449\ttotal: 1.07s\tremaining: 12.3s\n",
      "80:\tlearn: 0.5432337\ttotal: 1.08s\tremaining: 12.3s\n",
      "81:\tlearn: 0.5422370\ttotal: 1.1s\tremaining: 12.3s\n",
      "82:\tlearn: 0.5410710\ttotal: 1.11s\tremaining: 12.3s\n",
      "83:\tlearn: 0.5404153\ttotal: 1.13s\tremaining: 12.3s\n",
      "84:\tlearn: 0.5392882\ttotal: 1.14s\tremaining: 12.3s\n",
      "85:\tlearn: 0.5386848\ttotal: 1.15s\tremaining: 12.2s\n",
      "86:\tlearn: 0.5376573\ttotal: 1.17s\tremaining: 12.2s\n",
      "87:\tlearn: 0.5363824\ttotal: 1.18s\tremaining: 12.2s\n",
      "88:\tlearn: 0.5355934\ttotal: 1.19s\tremaining: 12.2s\n",
      "89:\tlearn: 0.5343033\ttotal: 1.2s\tremaining: 12.2s\n",
      "90:\tlearn: 0.5334654\ttotal: 1.22s\tremaining: 12.2s\n",
      "91:\tlearn: 0.5327983\ttotal: 1.23s\tremaining: 12.1s\n",
      "92:\tlearn: 0.5323417\ttotal: 1.24s\tremaining: 12.1s\n",
      "93:\tlearn: 0.5315393\ttotal: 1.26s\tremaining: 12.1s\n",
      "94:\tlearn: 0.5309730\ttotal: 1.27s\tremaining: 12.1s\n",
      "95:\tlearn: 0.5305537\ttotal: 1.28s\tremaining: 12s\n",
      "96:\tlearn: 0.5301805\ttotal: 1.29s\tremaining: 12s\n",
      "97:\tlearn: 0.5293804\ttotal: 1.3s\tremaining: 12s\n",
      "98:\tlearn: 0.5285805\ttotal: 1.32s\tremaining: 12s\n",
      "99:\tlearn: 0.5281535\ttotal: 1.33s\tremaining: 12s\n",
      "100:\tlearn: 0.5279160\ttotal: 1.34s\tremaining: 11.9s\n",
      "101:\tlearn: 0.5273589\ttotal: 1.35s\tremaining: 11.9s\n",
      "102:\tlearn: 0.5267006\ttotal: 1.36s\tremaining: 11.9s\n",
      "103:\tlearn: 0.5262950\ttotal: 1.38s\tremaining: 11.9s\n",
      "104:\tlearn: 0.5254956\ttotal: 1.39s\tremaining: 11.8s\n",
      "105:\tlearn: 0.5252892\ttotal: 1.4s\tremaining: 11.8s\n",
      "106:\tlearn: 0.5244625\ttotal: 1.41s\tremaining: 11.8s\n",
      "107:\tlearn: 0.5239977\ttotal: 1.43s\tremaining: 11.8s\n",
      "108:\tlearn: 0.5234176\ttotal: 1.44s\tremaining: 11.8s\n",
      "109:\tlearn: 0.5230694\ttotal: 1.45s\tremaining: 11.7s\n",
      "110:\tlearn: 0.5223471\ttotal: 1.46s\tremaining: 11.7s\n",
      "111:\tlearn: 0.5217656\ttotal: 1.48s\tremaining: 11.7s\n",
      "112:\tlearn: 0.5213027\ttotal: 1.49s\tremaining: 11.7s\n",
      "113:\tlearn: 0.5206798\ttotal: 1.5s\tremaining: 11.6s\n",
      "114:\tlearn: 0.5202317\ttotal: 1.51s\tremaining: 11.6s\n",
      "115:\tlearn: 0.5196106\ttotal: 1.53s\tremaining: 11.6s\n",
      "116:\tlearn: 0.5190358\ttotal: 1.54s\tremaining: 11.6s\n",
      "117:\tlearn: 0.5185968\ttotal: 1.55s\tremaining: 11.6s\n",
      "118:\tlearn: 0.5181200\ttotal: 1.56s\tremaining: 11.6s\n",
      "119:\tlearn: 0.5178049\ttotal: 1.57s\tremaining: 11.6s\n",
      "120:\tlearn: 0.5171642\ttotal: 1.59s\tremaining: 11.5s\n",
      "121:\tlearn: 0.5170532\ttotal: 1.6s\tremaining: 11.5s\n",
      "122:\tlearn: 0.5164594\ttotal: 1.61s\tremaining: 11.5s\n",
      "123:\tlearn: 0.5163033\ttotal: 1.63s\tremaining: 11.5s\n",
      "124:\tlearn: 0.5157753\ttotal: 1.64s\tremaining: 11.5s\n",
      "125:\tlearn: 0.5151693\ttotal: 1.65s\tremaining: 11.5s\n",
      "126:\tlearn: 0.5147904\ttotal: 1.66s\tremaining: 11.4s\n",
      "127:\tlearn: 0.5145429\ttotal: 1.68s\tremaining: 11.4s\n",
      "128:\tlearn: 0.5137116\ttotal: 1.69s\tremaining: 11.4s\n",
      "129:\tlearn: 0.5133504\ttotal: 1.7s\tremaining: 11.4s\n",
      "130:\tlearn: 0.5128722\ttotal: 1.71s\tremaining: 11.4s\n",
      "131:\tlearn: 0.5120750\ttotal: 1.73s\tremaining: 11.3s\n",
      "132:\tlearn: 0.5111886\ttotal: 1.74s\tremaining: 11.3s\n",
      "133:\tlearn: 0.5108620\ttotal: 1.75s\tremaining: 11.3s\n",
      "134:\tlearn: 0.5101993\ttotal: 1.76s\tremaining: 11.3s\n",
      "135:\tlearn: 0.5099059\ttotal: 1.77s\tremaining: 11.3s\n",
      "136:\tlearn: 0.5096364\ttotal: 1.78s\tremaining: 11.2s\n",
      "137:\tlearn: 0.5091592\ttotal: 1.8s\tremaining: 11.2s\n",
      "138:\tlearn: 0.5089254\ttotal: 1.81s\tremaining: 11.2s\n",
      "139:\tlearn: 0.5087686\ttotal: 1.82s\tremaining: 11.2s\n",
      "140:\tlearn: 0.5084726\ttotal: 1.83s\tremaining: 11.2s\n",
      "141:\tlearn: 0.5081334\ttotal: 1.84s\tremaining: 11.1s\n",
      "142:\tlearn: 0.5080705\ttotal: 1.86s\tremaining: 11.1s\n",
      "143:\tlearn: 0.5079068\ttotal: 1.87s\tremaining: 11.1s\n",
      "144:\tlearn: 0.5075780\ttotal: 1.88s\tremaining: 11.1s\n",
      "145:\tlearn: 0.5071518\ttotal: 1.9s\tremaining: 11.1s\n",
      "146:\tlearn: 0.5064046\ttotal: 1.91s\tremaining: 11.1s\n",
      "147:\tlearn: 0.5063403\ttotal: 1.92s\tremaining: 11s\n",
      "148:\tlearn: 0.5058718\ttotal: 1.93s\tremaining: 11s\n",
      "149:\tlearn: 0.5057387\ttotal: 1.94s\tremaining: 11s\n",
      "150:\tlearn: 0.5052297\ttotal: 1.96s\tremaining: 11s\n",
      "151:\tlearn: 0.5051588\ttotal: 1.98s\tremaining: 11s\n",
      "152:\tlearn: 0.5049809\ttotal: 1.99s\tremaining: 11s\n",
      "153:\tlearn: 0.5047837\ttotal: 2.01s\tremaining: 11.1s\n",
      "154:\tlearn: 0.5044735\ttotal: 2.03s\tremaining: 11s\n",
      "155:\tlearn: 0.5039431\ttotal: 2.04s\tremaining: 11s\n",
      "156:\tlearn: 0.5037686\ttotal: 2.06s\tremaining: 11s\n",
      "157:\tlearn: 0.5033601\ttotal: 2.07s\tremaining: 11s\n",
      "158:\tlearn: 0.5031046\ttotal: 2.08s\tremaining: 11s\n",
      "159:\tlearn: 0.5026166\ttotal: 2.09s\tremaining: 11s\n",
      "160:\tlearn: 0.5024312\ttotal: 2.11s\tremaining: 11s\n",
      "161:\tlearn: 0.5020473\ttotal: 2.12s\tremaining: 11s\n",
      "162:\tlearn: 0.5020074\ttotal: 2.14s\tremaining: 11s\n",
      "163:\tlearn: 0.5018055\ttotal: 2.15s\tremaining: 11s\n",
      "164:\tlearn: 0.5017464\ttotal: 2.17s\tremaining: 11s\n",
      "165:\tlearn: 0.5014641\ttotal: 2.18s\tremaining: 10.9s\n",
      "166:\tlearn: 0.5010348\ttotal: 2.19s\tremaining: 10.9s\n",
      "167:\tlearn: 0.5008794\ttotal: 2.2s\tremaining: 10.9s\n",
      "168:\tlearn: 0.5008404\ttotal: 2.22s\tremaining: 10.9s\n",
      "169:\tlearn: 0.5007343\ttotal: 2.24s\tremaining: 10.9s\n",
      "170:\tlearn: 0.5003998\ttotal: 2.25s\tremaining: 10.9s\n",
      "171:\tlearn: 0.5002422\ttotal: 2.27s\tremaining: 10.9s\n",
      "172:\tlearn: 0.4999378\ttotal: 2.28s\tremaining: 10.9s\n",
      "173:\tlearn: 0.4998323\ttotal: 2.3s\tremaining: 10.9s\n",
      "174:\tlearn: 0.4995235\ttotal: 2.31s\tremaining: 10.9s\n",
      "175:\tlearn: 0.4995077\ttotal: 2.32s\tremaining: 10.9s\n",
      "176:\tlearn: 0.4991144\ttotal: 2.34s\tremaining: 10.9s\n",
      "177:\tlearn: 0.4989548\ttotal: 2.46s\tremaining: 11.3s\n",
      "178:\tlearn: 0.4988087\ttotal: 2.5s\tremaining: 11.5s\n",
      "179:\tlearn: 0.4980663\ttotal: 2.51s\tremaining: 11.4s\n",
      "180:\tlearn: 0.4977987\ttotal: 2.52s\tremaining: 11.4s\n",
      "181:\tlearn: 0.4976378\ttotal: 2.54s\tremaining: 11.4s\n",
      "182:\tlearn: 0.4970584\ttotal: 2.55s\tremaining: 11.4s\n",
      "183:\tlearn: 0.4967035\ttotal: 2.56s\tremaining: 11.4s\n",
      "184:\tlearn: 0.4964052\ttotal: 2.58s\tremaining: 11.4s\n",
      "185:\tlearn: 0.4961520\ttotal: 2.59s\tremaining: 11.3s\n",
      "186:\tlearn: 0.4961217\ttotal: 2.61s\tremaining: 11.3s\n",
      "187:\tlearn: 0.4961076\ttotal: 2.62s\tremaining: 11.3s\n",
      "188:\tlearn: 0.4957200\ttotal: 2.63s\tremaining: 11.3s\n",
      "189:\tlearn: 0.4956584\ttotal: 2.64s\tremaining: 11.3s\n",
      "190:\tlearn: 0.4954945\ttotal: 2.66s\tremaining: 11.3s\n",
      "191:\tlearn: 0.4954833\ttotal: 2.67s\tremaining: 11.2s\n",
      "192:\tlearn: 0.4954619\ttotal: 2.68s\tremaining: 11.2s\n",
      "193:\tlearn: 0.4953548\ttotal: 2.7s\tremaining: 11.2s\n",
      "194:\tlearn: 0.4953400\ttotal: 2.71s\tremaining: 11.2s\n",
      "195:\tlearn: 0.4950191\ttotal: 2.73s\tremaining: 11.2s\n",
      "196:\tlearn: 0.4949352\ttotal: 2.74s\tremaining: 11.2s\n",
      "197:\tlearn: 0.4941535\ttotal: 2.75s\tremaining: 11.2s\n",
      "198:\tlearn: 0.4941275\ttotal: 2.77s\tremaining: 11.1s\n",
      "199:\tlearn: 0.4937174\ttotal: 2.78s\tremaining: 11.1s\n",
      "200:\tlearn: 0.4935740\ttotal: 2.79s\tremaining: 11.1s\n",
      "201:\tlearn: 0.4933996\ttotal: 2.81s\tremaining: 11.1s\n",
      "202:\tlearn: 0.4933815\ttotal: 2.82s\tremaining: 11.1s\n",
      "203:\tlearn: 0.4928327\ttotal: 2.83s\tremaining: 11.1s\n",
      "204:\tlearn: 0.4928251\ttotal: 2.85s\tremaining: 11s\n",
      "205:\tlearn: 0.4924357\ttotal: 2.86s\tremaining: 11s\n",
      "206:\tlearn: 0.4923371\ttotal: 2.88s\tremaining: 11s\n",
      "207:\tlearn: 0.4923254\ttotal: 2.89s\tremaining: 11s\n",
      "208:\tlearn: 0.4921438\ttotal: 2.9s\tremaining: 11s\n",
      "209:\tlearn: 0.4916786\ttotal: 2.92s\tremaining: 11s\n",
      "210:\tlearn: 0.4916749\ttotal: 2.93s\tremaining: 10.9s\n",
      "211:\tlearn: 0.4915865\ttotal: 2.94s\tremaining: 10.9s\n",
      "212:\tlearn: 0.4915653\ttotal: 2.96s\tremaining: 10.9s\n",
      "213:\tlearn: 0.4915606\ttotal: 2.97s\tremaining: 10.9s\n",
      "214:\tlearn: 0.4915584\ttotal: 2.98s\tremaining: 10.9s\n",
      "215:\tlearn: 0.4912653\ttotal: 2.99s\tremaining: 10.9s\n",
      "216:\tlearn: 0.4911471\ttotal: 3s\tremaining: 10.8s\n",
      "217:\tlearn: 0.4905478\ttotal: 3.02s\tremaining: 10.8s\n",
      "218:\tlearn: 0.4902205\ttotal: 3.03s\tremaining: 10.8s\n",
      "219:\tlearn: 0.4901895\ttotal: 3.04s\tremaining: 10.8s\n",
      "220:\tlearn: 0.4897801\ttotal: 3.06s\tremaining: 10.8s\n",
      "221:\tlearn: 0.4895885\ttotal: 3.07s\tremaining: 10.7s\n",
      "222:\tlearn: 0.4895790\ttotal: 3.08s\tremaining: 10.7s\n",
      "223:\tlearn: 0.4895292\ttotal: 3.1s\tremaining: 10.7s\n",
      "224:\tlearn: 0.4894331\ttotal: 3.11s\tremaining: 10.7s\n",
      "225:\tlearn: 0.4893386\ttotal: 3.12s\tremaining: 10.7s\n",
      "226:\tlearn: 0.4889933\ttotal: 3.13s\tremaining: 10.7s\n",
      "227:\tlearn: 0.4889854\ttotal: 3.15s\tremaining: 10.7s\n",
      "228:\tlearn: 0.4885941\ttotal: 3.16s\tremaining: 10.6s\n",
      "229:\tlearn: 0.4885859\ttotal: 3.17s\tremaining: 10.6s\n",
      "230:\tlearn: 0.4883364\ttotal: 3.19s\tremaining: 10.6s\n",
      "231:\tlearn: 0.4883284\ttotal: 3.2s\tremaining: 10.6s\n",
      "232:\tlearn: 0.4879855\ttotal: 3.21s\tremaining: 10.6s\n",
      "233:\tlearn: 0.4878510\ttotal: 3.23s\tremaining: 10.6s\n",
      "234:\tlearn: 0.4875854\ttotal: 3.24s\tremaining: 10.5s\n",
      "235:\tlearn: 0.4875064\ttotal: 3.25s\tremaining: 10.5s\n",
      "236:\tlearn: 0.4869188\ttotal: 3.27s\tremaining: 10.5s\n",
      "237:\tlearn: 0.4869114\ttotal: 3.28s\tremaining: 10.5s\n",
      "238:\tlearn: 0.4863843\ttotal: 3.3s\tremaining: 10.5s\n",
      "239:\tlearn: 0.4863215\ttotal: 3.31s\tremaining: 10.5s\n",
      "240:\tlearn: 0.4863143\ttotal: 3.32s\tremaining: 10.5s\n",
      "241:\tlearn: 0.4863029\ttotal: 3.34s\tremaining: 10.4s\n",
      "242:\tlearn: 0.4860298\ttotal: 3.35s\tremaining: 10.4s\n",
      "243:\tlearn: 0.4857575\ttotal: 3.37s\tremaining: 10.4s\n",
      "244:\tlearn: 0.4857089\ttotal: 3.38s\tremaining: 10.4s\n",
      "245:\tlearn: 0.4854750\ttotal: 3.4s\tremaining: 10.4s\n",
      "246:\tlearn: 0.4854739\ttotal: 3.41s\tremaining: 10.4s\n",
      "247:\tlearn: 0.4853757\ttotal: 3.42s\tremaining: 10.4s\n",
      "248:\tlearn: 0.4853675\ttotal: 3.43s\tremaining: 10.4s\n",
      "249:\tlearn: 0.4851975\ttotal: 3.45s\tremaining: 10.3s\n",
      "250:\tlearn: 0.4851840\ttotal: 3.46s\tremaining: 10.3s\n",
      "251:\tlearn: 0.4848048\ttotal: 3.47s\tremaining: 10.3s\n",
      "252:\tlearn: 0.4848032\ttotal: 3.48s\tremaining: 10.3s\n",
      "253:\tlearn: 0.4844017\ttotal: 3.49s\tremaining: 10.3s\n",
      "254:\tlearn: 0.4843947\ttotal: 3.51s\tremaining: 10.2s\n",
      "255:\tlearn: 0.4843252\ttotal: 3.52s\tremaining: 10.2s\n",
      "256:\tlearn: 0.4842109\ttotal: 3.53s\tremaining: 10.2s\n",
      "257:\tlearn: 0.4837774\ttotal: 3.54s\tremaining: 10.2s\n",
      "258:\tlearn: 0.4834202\ttotal: 3.56s\tremaining: 10.2s\n",
      "259:\tlearn: 0.4827992\ttotal: 3.57s\tremaining: 10.2s\n",
      "260:\tlearn: 0.4827971\ttotal: 3.59s\tremaining: 10.2s\n",
      "261:\tlearn: 0.4827930\ttotal: 3.6s\tremaining: 10.1s\n",
      "262:\tlearn: 0.4820368\ttotal: 3.62s\tremaining: 10.1s\n",
      "263:\tlearn: 0.4819072\ttotal: 3.63s\tremaining: 10.1s\n",
      "264:\tlearn: 0.4814091\ttotal: 3.64s\tremaining: 10.1s\n",
      "265:\tlearn: 0.4810548\ttotal: 3.65s\tremaining: 10.1s\n",
      "266:\tlearn: 0.4806074\ttotal: 3.67s\tremaining: 10.1s\n",
      "267:\tlearn: 0.4806038\ttotal: 3.68s\tremaining: 10.1s\n",
      "268:\tlearn: 0.4800682\ttotal: 3.69s\tremaining: 10s\n",
      "269:\tlearn: 0.4799960\ttotal: 3.71s\tremaining: 10s\n",
      "270:\tlearn: 0.4795468\ttotal: 3.72s\tremaining: 10s\n",
      "271:\tlearn: 0.4795306\ttotal: 3.74s\tremaining: 10s\n",
      "272:\tlearn: 0.4793557\ttotal: 3.75s\tremaining: 9.99s\n",
      "273:\tlearn: 0.4789528\ttotal: 3.76s\tremaining: 9.97s\n",
      "274:\tlearn: 0.4786917\ttotal: 3.78s\tremaining: 9.96s\n",
      "275:\tlearn: 0.4786903\ttotal: 3.79s\tremaining: 9.94s\n",
      "276:\tlearn: 0.4786850\ttotal: 3.81s\tremaining: 9.94s\n",
      "277:\tlearn: 0.4786845\ttotal: 3.81s\tremaining: 9.91s\n",
      "278:\tlearn: 0.4786023\ttotal: 3.83s\tremaining: 9.89s\n",
      "279:\tlearn: 0.4785959\ttotal: 3.84s\tremaining: 9.87s\n",
      "280:\tlearn: 0.4785104\ttotal: 3.85s\tremaining: 9.85s\n",
      "281:\tlearn: 0.4783074\ttotal: 3.86s\tremaining: 9.84s\n",
      "282:\tlearn: 0.4780350\ttotal: 3.88s\tremaining: 9.82s\n",
      "283:\tlearn: 0.4779672\ttotal: 3.89s\tremaining: 9.81s\n",
      "284:\tlearn: 0.4775915\ttotal: 3.9s\tremaining: 9.79s\n",
      "285:\tlearn: 0.4771590\ttotal: 3.92s\tremaining: 9.79s\n",
      "286:\tlearn: 0.4769005\ttotal: 3.93s\tremaining: 9.77s\n",
      "287:\tlearn: 0.4768737\ttotal: 3.95s\tremaining: 9.77s\n",
      "288:\tlearn: 0.4766810\ttotal: 3.96s\tremaining: 9.75s\n",
      "289:\tlearn: 0.4766674\ttotal: 3.98s\tremaining: 9.74s\n",
      "290:\tlearn: 0.4764609\ttotal: 3.99s\tremaining: 9.73s\n",
      "291:\tlearn: 0.4762062\ttotal: 4.01s\tremaining: 9.72s\n",
      "292:\tlearn: 0.4761429\ttotal: 4.03s\tremaining: 9.72s\n",
      "293:\tlearn: 0.4759926\ttotal: 4.04s\tremaining: 9.7s\n",
      "294:\tlearn: 0.4757374\ttotal: 4.05s\tremaining: 9.69s\n",
      "295:\tlearn: 0.4756908\ttotal: 4.07s\tremaining: 9.68s\n",
      "296:\tlearn: 0.4756557\ttotal: 4.08s\tremaining: 9.66s\n",
      "297:\tlearn: 0.4755720\ttotal: 4.09s\tremaining: 9.64s\n",
      "298:\tlearn: 0.4754961\ttotal: 4.11s\tremaining: 9.63s\n",
      "299:\tlearn: 0.4754553\ttotal: 4.12s\tremaining: 9.61s\n",
      "300:\tlearn: 0.4753587\ttotal: 4.13s\tremaining: 9.6s\n",
      "301:\tlearn: 0.4751868\ttotal: 4.15s\tremaining: 9.59s\n",
      "302:\tlearn: 0.4751808\ttotal: 4.16s\tremaining: 9.57s\n",
      "303:\tlearn: 0.4749440\ttotal: 4.17s\tremaining: 9.55s\n",
      "304:\tlearn: 0.4746395\ttotal: 4.19s\tremaining: 9.54s\n",
      "305:\tlearn: 0.4742447\ttotal: 4.2s\tremaining: 9.53s\n",
      "306:\tlearn: 0.4741461\ttotal: 4.22s\tremaining: 9.52s\n",
      "307:\tlearn: 0.4739009\ttotal: 4.23s\tremaining: 9.5s\n",
      "308:\tlearn: 0.4733580\ttotal: 4.24s\tremaining: 9.48s\n",
      "309:\tlearn: 0.4727704\ttotal: 4.26s\tremaining: 9.48s\n",
      "310:\tlearn: 0.4724355\ttotal: 4.28s\tremaining: 9.47s\n",
      "311:\tlearn: 0.4719846\ttotal: 4.29s\tremaining: 9.46s\n",
      "312:\tlearn: 0.4718092\ttotal: 4.3s\tremaining: 9.45s\n",
      "313:\tlearn: 0.4717156\ttotal: 4.32s\tremaining: 9.43s\n",
      "314:\tlearn: 0.4717048\ttotal: 4.33s\tremaining: 9.42s\n",
      "315:\tlearn: 0.4711718\ttotal: 4.34s\tremaining: 9.4s\n",
      "316:\tlearn: 0.4708753\ttotal: 4.36s\tremaining: 9.39s\n",
      "317:\tlearn: 0.4706329\ttotal: 4.37s\tremaining: 9.38s\n",
      "318:\tlearn: 0.4703861\ttotal: 4.39s\tremaining: 9.37s\n",
      "319:\tlearn: 0.4703292\ttotal: 4.4s\tremaining: 9.35s\n",
      "320:\tlearn: 0.4703207\ttotal: 4.41s\tremaining: 9.33s\n",
      "321:\tlearn: 0.4697482\ttotal: 4.42s\tremaining: 9.31s\n",
      "322:\tlearn: 0.4694538\ttotal: 4.44s\tremaining: 9.3s\n",
      "323:\tlearn: 0.4692160\ttotal: 4.45s\tremaining: 9.29s\n",
      "324:\tlearn: 0.4689707\ttotal: 4.46s\tremaining: 9.27s\n",
      "325:\tlearn: 0.4686419\ttotal: 4.48s\tremaining: 9.26s\n",
      "326:\tlearn: 0.4686419\ttotal: 4.49s\tremaining: 9.23s\n",
      "327:\tlearn: 0.4683384\ttotal: 4.5s\tremaining: 9.22s\n",
      "328:\tlearn: 0.4682739\ttotal: 4.52s\tremaining: 9.21s\n",
      "329:\tlearn: 0.4682238\ttotal: 4.53s\tremaining: 9.2s\n",
      "330:\tlearn: 0.4680613\ttotal: 4.54s\tremaining: 9.18s\n",
      "331:\tlearn: 0.4679133\ttotal: 4.56s\tremaining: 9.17s\n",
      "332:\tlearn: 0.4679105\ttotal: 4.57s\tremaining: 9.14s\n",
      "333:\tlearn: 0.4677778\ttotal: 4.58s\tremaining: 9.13s\n",
      "334:\tlearn: 0.4675736\ttotal: 4.59s\tremaining: 9.11s\n",
      "335:\tlearn: 0.4673026\ttotal: 4.6s\tremaining: 9.1s\n",
      "336:\tlearn: 0.4672949\ttotal: 4.62s\tremaining: 9.09s\n",
      "337:\tlearn: 0.4672921\ttotal: 4.63s\tremaining: 9.07s\n",
      "338:\tlearn: 0.4672696\ttotal: 4.64s\tremaining: 9.05s\n",
      "339:\tlearn: 0.4670055\ttotal: 4.66s\tremaining: 9.04s\n",
      "340:\tlearn: 0.4668561\ttotal: 4.67s\tremaining: 9.03s\n",
      "341:\tlearn: 0.4668289\ttotal: 4.68s\tremaining: 9.01s\n",
      "342:\tlearn: 0.4666444\ttotal: 4.7s\tremaining: 9s\n",
      "343:\tlearn: 0.4663102\ttotal: 4.71s\tremaining: 8.99s\n",
      "344:\tlearn: 0.4663052\ttotal: 4.72s\tremaining: 8.97s\n",
      "345:\tlearn: 0.4662809\ttotal: 4.74s\tremaining: 8.96s\n",
      "346:\tlearn: 0.4660931\ttotal: 4.76s\tremaining: 8.95s\n",
      "347:\tlearn: 0.4659729\ttotal: 4.77s\tremaining: 8.94s\n",
      "348:\tlearn: 0.4659450\ttotal: 4.78s\tremaining: 8.92s\n",
      "349:\tlearn: 0.4659447\ttotal: 4.79s\tremaining: 8.9s\n",
      "350:\tlearn: 0.4658176\ttotal: 4.81s\tremaining: 8.89s\n",
      "351:\tlearn: 0.4658107\ttotal: 4.82s\tremaining: 8.87s\n",
      "352:\tlearn: 0.4656655\ttotal: 4.83s\tremaining: 8.85s\n",
      "353:\tlearn: 0.4654564\ttotal: 4.84s\tremaining: 8.84s\n",
      "354:\tlearn: 0.4654547\ttotal: 4.85s\tremaining: 8.81s\n",
      "355:\tlearn: 0.4654501\ttotal: 4.86s\tremaining: 8.8s\n",
      "356:\tlearn: 0.4654144\ttotal: 4.88s\tremaining: 8.79s\n",
      "357:\tlearn: 0.4653328\ttotal: 4.89s\tremaining: 8.77s\n",
      "358:\tlearn: 0.4653329\ttotal: 4.9s\tremaining: 8.75s\n",
      "359:\tlearn: 0.4650980\ttotal: 4.91s\tremaining: 8.74s\n",
      "360:\tlearn: 0.4650936\ttotal: 4.92s\tremaining: 8.72s\n",
      "361:\tlearn: 0.4650893\ttotal: 4.93s\tremaining: 8.7s\n",
      "362:\tlearn: 0.4650891\ttotal: 4.95s\tremaining: 8.68s\n",
      "363:\tlearn: 0.4650889\ttotal: 4.96s\tremaining: 8.66s\n",
      "364:\tlearn: 0.4649899\ttotal: 4.97s\tremaining: 8.64s\n",
      "365:\tlearn: 0.4649899\ttotal: 4.98s\tremaining: 8.63s\n",
      "366:\tlearn: 0.4648578\ttotal: 4.99s\tremaining: 8.61s\n",
      "367:\tlearn: 0.4647688\ttotal: 5.01s\tremaining: 8.6s\n",
      "368:\tlearn: 0.4647010\ttotal: 5.02s\tremaining: 8.59s\n",
      "369:\tlearn: 0.4645492\ttotal: 5.03s\tremaining: 8.57s\n",
      "370:\tlearn: 0.4642284\ttotal: 5.04s\tremaining: 8.55s\n",
      "371:\tlearn: 0.4642269\ttotal: 5.06s\tremaining: 8.54s\n",
      "372:\tlearn: 0.4642226\ttotal: 5.07s\tremaining: 8.52s\n",
      "373:\tlearn: 0.4640132\ttotal: 5.08s\tremaining: 8.5s\n",
      "374:\tlearn: 0.4640103\ttotal: 5.09s\tremaining: 8.48s\n",
      "375:\tlearn: 0.4639790\ttotal: 5.11s\tremaining: 8.48s\n",
      "376:\tlearn: 0.4637436\ttotal: 5.12s\tremaining: 8.46s\n",
      "377:\tlearn: 0.4636383\ttotal: 5.13s\tremaining: 8.45s\n",
      "378:\tlearn: 0.4632772\ttotal: 5.15s\tremaining: 8.44s\n",
      "379:\tlearn: 0.4632772\ttotal: 5.16s\tremaining: 8.41s\n",
      "380:\tlearn: 0.4632731\ttotal: 5.17s\tremaining: 8.39s\n",
      "381:\tlearn: 0.4631567\ttotal: 5.18s\tremaining: 8.38s\n",
      "382:\tlearn: 0.4631385\ttotal: 5.19s\tremaining: 8.36s\n",
      "383:\tlearn: 0.4631385\ttotal: 5.2s\tremaining: 8.34s\n",
      "384:\tlearn: 0.4630350\ttotal: 5.21s\tremaining: 8.33s\n",
      "385:\tlearn: 0.4630311\ttotal: 5.22s\tremaining: 8.31s\n",
      "386:\tlearn: 0.4630273\ttotal: 5.23s\tremaining: 8.29s\n",
      "387:\tlearn: 0.4630216\ttotal: 5.25s\tremaining: 8.27s\n",
      "388:\tlearn: 0.4628095\ttotal: 5.26s\tremaining: 8.26s\n",
      "389:\tlearn: 0.4628013\ttotal: 5.27s\tremaining: 8.25s\n",
      "390:\tlearn: 0.4627763\ttotal: 5.29s\tremaining: 8.23s\n",
      "391:\tlearn: 0.4624100\ttotal: 5.3s\tremaining: 8.22s\n",
      "392:\tlearn: 0.4622547\ttotal: 5.31s\tremaining: 8.21s\n",
      "393:\tlearn: 0.4618760\ttotal: 5.33s\tremaining: 8.2s\n",
      "394:\tlearn: 0.4616193\ttotal: 5.34s\tremaining: 8.18s\n",
      "395:\tlearn: 0.4616193\ttotal: 5.35s\tremaining: 8.16s\n",
      "396:\tlearn: 0.4614782\ttotal: 5.37s\tremaining: 8.15s\n",
      "397:\tlearn: 0.4614648\ttotal: 5.38s\tremaining: 8.14s\n",
      "398:\tlearn: 0.4614646\ttotal: 5.39s\tremaining: 8.12s\n",
      "399:\tlearn: 0.4613127\ttotal: 5.4s\tremaining: 8.1s\n",
      "400:\tlearn: 0.4613125\ttotal: 5.41s\tremaining: 8.08s\n",
      "401:\tlearn: 0.4612690\ttotal: 5.42s\tremaining: 8.07s\n",
      "402:\tlearn: 0.4610238\ttotal: 5.44s\tremaining: 8.06s\n",
      "403:\tlearn: 0.4610237\ttotal: 5.45s\tremaining: 8.03s\n",
      "404:\tlearn: 0.4610150\ttotal: 5.46s\tremaining: 8.02s\n",
      "405:\tlearn: 0.4608795\ttotal: 5.47s\tremaining: 8.01s\n",
      "406:\tlearn: 0.4608724\ttotal: 5.49s\tremaining: 7.99s\n",
      "407:\tlearn: 0.4605894\ttotal: 5.5s\tremaining: 7.98s\n",
      "408:\tlearn: 0.4605206\ttotal: 5.51s\tremaining: 7.97s\n",
      "409:\tlearn: 0.4604172\ttotal: 5.53s\tremaining: 7.96s\n",
      "410:\tlearn: 0.4602202\ttotal: 5.54s\tremaining: 7.94s\n",
      "411:\tlearn: 0.4602190\ttotal: 5.55s\tremaining: 7.92s\n",
      "412:\tlearn: 0.4600511\ttotal: 5.57s\tremaining: 7.92s\n",
      "413:\tlearn: 0.4599668\ttotal: 5.59s\tremaining: 7.91s\n",
      "414:\tlearn: 0.4598731\ttotal: 5.6s\tremaining: 7.89s\n",
      "415:\tlearn: 0.4598710\ttotal: 5.61s\tremaining: 7.88s\n",
      "416:\tlearn: 0.4597931\ttotal: 5.63s\tremaining: 7.87s\n",
      "417:\tlearn: 0.4597902\ttotal: 5.64s\tremaining: 7.85s\n",
      "418:\tlearn: 0.4597900\ttotal: 5.65s\tremaining: 7.83s\n",
      "419:\tlearn: 0.4596695\ttotal: 5.66s\tremaining: 7.82s\n",
      "420:\tlearn: 0.4593904\ttotal: 5.67s\tremaining: 7.8s\n",
      "421:\tlearn: 0.4593218\ttotal: 5.69s\tremaining: 7.8s\n",
      "422:\tlearn: 0.4593192\ttotal: 5.7s\tremaining: 7.78s\n",
      "423:\tlearn: 0.4593167\ttotal: 5.71s\tremaining: 7.76s\n",
      "424:\tlearn: 0.4592733\ttotal: 5.72s\tremaining: 7.74s\n",
      "425:\tlearn: 0.4592733\ttotal: 5.73s\tremaining: 7.72s\n",
      "426:\tlearn: 0.4589997\ttotal: 5.75s\tremaining: 7.71s\n",
      "427:\tlearn: 0.4586418\ttotal: 5.76s\tremaining: 7.7s\n",
      "428:\tlearn: 0.4585992\ttotal: 5.78s\tremaining: 7.69s\n",
      "429:\tlearn: 0.4585966\ttotal: 5.79s\tremaining: 7.67s\n",
      "430:\tlearn: 0.4585955\ttotal: 5.8s\tremaining: 7.66s\n",
      "431:\tlearn: 0.4585955\ttotal: 5.81s\tremaining: 7.64s\n",
      "432:\tlearn: 0.4583949\ttotal: 5.82s\tremaining: 7.63s\n",
      "433:\tlearn: 0.4583949\ttotal: 5.83s\tremaining: 7.61s\n",
      "434:\tlearn: 0.4583949\ttotal: 5.84s\tremaining: 7.59s\n",
      "435:\tlearn: 0.4583949\ttotal: 5.85s\tremaining: 7.57s\n",
      "436:\tlearn: 0.4583947\ttotal: 5.86s\tremaining: 7.55s\n",
      "437:\tlearn: 0.4581415\ttotal: 5.87s\tremaining: 7.54s\n",
      "438:\tlearn: 0.4581414\ttotal: 5.88s\tremaining: 7.51s\n",
      "439:\tlearn: 0.4581350\ttotal: 5.89s\tremaining: 7.5s\n",
      "440:\tlearn: 0.4581311\ttotal: 5.9s\tremaining: 7.48s\n",
      "441:\tlearn: 0.4581311\ttotal: 5.91s\tremaining: 7.47s\n",
      "442:\tlearn: 0.4580667\ttotal: 5.93s\tremaining: 7.46s\n",
      "443:\tlearn: 0.4580643\ttotal: 5.95s\tremaining: 7.45s\n",
      "444:\tlearn: 0.4580619\ttotal: 5.95s\tremaining: 7.43s\n",
      "445:\tlearn: 0.4580595\ttotal: 5.97s\tremaining: 7.41s\n",
      "446:\tlearn: 0.4580574\ttotal: 5.98s\tremaining: 7.4s\n",
      "447:\tlearn: 0.4580574\ttotal: 5.99s\tremaining: 7.38s\n",
      "448:\tlearn: 0.4578636\ttotal: 6s\tremaining: 7.37s\n",
      "449:\tlearn: 0.4577453\ttotal: 6.02s\tremaining: 7.36s\n",
      "450:\tlearn: 0.4573078\ttotal: 6.04s\tremaining: 7.35s\n",
      "451:\tlearn: 0.4573057\ttotal: 6.05s\tremaining: 7.33s\n",
      "452:\tlearn: 0.4573056\ttotal: 6.06s\tremaining: 7.32s\n",
      "453:\tlearn: 0.4573035\ttotal: 6.07s\tremaining: 7.3s\n",
      "454:\tlearn: 0.4573014\ttotal: 6.08s\tremaining: 7.28s\n",
      "455:\tlearn: 0.4573013\ttotal: 6.09s\tremaining: 7.26s\n",
      "456:\tlearn: 0.4571339\ttotal: 6.1s\tremaining: 7.25s\n",
      "457:\tlearn: 0.4570412\ttotal: 6.12s\tremaining: 7.24s\n",
      "458:\tlearn: 0.4570412\ttotal: 6.12s\tremaining: 7.22s\n",
      "459:\tlearn: 0.4570393\ttotal: 6.13s\tremaining: 7.2s\n",
      "460:\tlearn: 0.4570070\ttotal: 6.14s\tremaining: 7.18s\n",
      "461:\tlearn: 0.4570070\ttotal: 6.15s\tremaining: 7.17s\n",
      "462:\tlearn: 0.4570052\ttotal: 6.17s\tremaining: 7.15s\n",
      "463:\tlearn: 0.4570033\ttotal: 6.18s\tremaining: 7.13s\n",
      "464:\tlearn: 0.4570032\ttotal: 6.19s\tremaining: 7.12s\n",
      "465:\tlearn: 0.4570014\ttotal: 6.2s\tremaining: 7.1s\n",
      "466:\tlearn: 0.4569996\ttotal: 6.21s\tremaining: 7.08s\n",
      "467:\tlearn: 0.4569979\ttotal: 6.22s\tremaining: 7.07s\n",
      "468:\tlearn: 0.4569962\ttotal: 6.23s\tremaining: 7.05s\n",
      "469:\tlearn: 0.4569961\ttotal: 6.24s\tremaining: 7.04s\n",
      "470:\tlearn: 0.4569960\ttotal: 6.25s\tremaining: 7.02s\n",
      "471:\tlearn: 0.4569943\ttotal: 6.26s\tremaining: 7s\n",
      "472:\tlearn: 0.4569943\ttotal: 6.27s\tremaining: 6.98s\n",
      "473:\tlearn: 0.4569942\ttotal: 6.28s\tremaining: 6.97s\n",
      "474:\tlearn: 0.4569927\ttotal: 6.29s\tremaining: 6.95s\n",
      "475:\tlearn: 0.4569927\ttotal: 6.3s\tremaining: 6.93s\n",
      "476:\tlearn: 0.4569661\ttotal: 6.31s\tremaining: 6.92s\n",
      "477:\tlearn: 0.4569646\ttotal: 6.32s\tremaining: 6.9s\n",
      "478:\tlearn: 0.4569631\ttotal: 6.33s\tremaining: 6.88s\n",
      "479:\tlearn: 0.4568755\ttotal: 6.34s\tremaining: 6.87s\n",
      "480:\tlearn: 0.4568107\ttotal: 6.36s\tremaining: 6.86s\n",
      "481:\tlearn: 0.4565712\ttotal: 6.37s\tremaining: 6.85s\n",
      "482:\tlearn: 0.4565081\ttotal: 6.38s\tremaining: 6.83s\n",
      "483:\tlearn: 0.4563434\ttotal: 6.4s\tremaining: 6.82s\n",
      "484:\tlearn: 0.4563434\ttotal: 6.41s\tremaining: 6.81s\n",
      "485:\tlearn: 0.4563434\ttotal: 6.42s\tremaining: 6.79s\n",
      "486:\tlearn: 0.4561777\ttotal: 6.43s\tremaining: 6.78s\n",
      "487:\tlearn: 0.4560831\ttotal: 6.45s\tremaining: 6.77s\n",
      "488:\tlearn: 0.4560831\ttotal: 6.46s\tremaining: 6.75s\n",
      "489:\tlearn: 0.4560831\ttotal: 6.47s\tremaining: 6.73s\n",
      "490:\tlearn: 0.4560830\ttotal: 6.48s\tremaining: 6.72s\n",
      "491:\tlearn: 0.4558515\ttotal: 6.5s\tremaining: 6.71s\n",
      "492:\tlearn: 0.4558151\ttotal: 6.51s\tremaining: 6.7s\n",
      "493:\tlearn: 0.4558138\ttotal: 6.52s\tremaining: 6.68s\n",
      "494:\tlearn: 0.4557914\ttotal: 6.54s\tremaining: 6.67s\n",
      "495:\tlearn: 0.4556079\ttotal: 6.55s\tremaining: 6.66s\n",
      "496:\tlearn: 0.4554418\ttotal: 6.57s\tremaining: 6.65s\n",
      "497:\tlearn: 0.4554406\ttotal: 6.58s\tremaining: 6.63s\n",
      "498:\tlearn: 0.4554394\ttotal: 6.59s\tremaining: 6.61s\n",
      "499:\tlearn: 0.4551940\ttotal: 6.6s\tremaining: 6.6s\n",
      "500:\tlearn: 0.4551940\ttotal: 6.61s\tremaining: 6.58s\n",
      "501:\tlearn: 0.4548620\ttotal: 6.62s\tremaining: 6.57s\n",
      "502:\tlearn: 0.4548201\ttotal: 6.64s\tremaining: 6.56s\n",
      "503:\tlearn: 0.4546406\ttotal: 6.66s\tremaining: 6.55s\n",
      "504:\tlearn: 0.4543291\ttotal: 6.67s\tremaining: 6.54s\n",
      "505:\tlearn: 0.4539382\ttotal: 6.69s\tremaining: 6.53s\n",
      "506:\tlearn: 0.4539370\ttotal: 6.7s\tremaining: 6.51s\n",
      "507:\tlearn: 0.4539358\ttotal: 6.71s\tremaining: 6.49s\n",
      "508:\tlearn: 0.4538873\ttotal: 6.72s\tremaining: 6.48s\n",
      "509:\tlearn: 0.4534490\ttotal: 6.73s\tremaining: 6.47s\n",
      "510:\tlearn: 0.4533590\ttotal: 6.75s\tremaining: 6.46s\n",
      "511:\tlearn: 0.4533072\ttotal: 6.76s\tremaining: 6.45s\n",
      "512:\tlearn: 0.4532742\ttotal: 6.78s\tremaining: 6.43s\n",
      "513:\tlearn: 0.4532561\ttotal: 6.79s\tremaining: 6.42s\n",
      "514:\tlearn: 0.4531494\ttotal: 6.81s\tremaining: 6.41s\n",
      "515:\tlearn: 0.4528276\ttotal: 6.82s\tremaining: 6.4s\n",
      "516:\tlearn: 0.4528275\ttotal: 6.83s\tremaining: 6.38s\n",
      "517:\tlearn: 0.4526454\ttotal: 6.84s\tremaining: 6.37s\n",
      "518:\tlearn: 0.4525593\ttotal: 6.86s\tremaining: 6.36s\n",
      "519:\tlearn: 0.4524739\ttotal: 6.88s\tremaining: 6.35s\n",
      "520:\tlearn: 0.4521180\ttotal: 6.89s\tremaining: 6.34s\n",
      "521:\tlearn: 0.4521035\ttotal: 6.9s\tremaining: 6.32s\n",
      "522:\tlearn: 0.4518655\ttotal: 6.92s\tremaining: 6.31s\n",
      "523:\tlearn: 0.4517012\ttotal: 6.93s\tremaining: 6.29s\n",
      "524:\tlearn: 0.4516561\ttotal: 6.94s\tremaining: 6.28s\n",
      "525:\tlearn: 0.4515562\ttotal: 6.96s\tremaining: 6.27s\n",
      "526:\tlearn: 0.4514790\ttotal: 6.98s\tremaining: 6.26s\n",
      "527:\tlearn: 0.4513314\ttotal: 7s\tremaining: 6.25s\n",
      "528:\tlearn: 0.4512896\ttotal: 7.01s\tremaining: 6.24s\n",
      "529:\tlearn: 0.4511920\ttotal: 7.03s\tremaining: 6.23s\n",
      "530:\tlearn: 0.4511241\ttotal: 7.04s\tremaining: 6.22s\n",
      "531:\tlearn: 0.4511241\ttotal: 7.05s\tremaining: 6.2s\n",
      "532:\tlearn: 0.4511183\ttotal: 7.06s\tremaining: 6.19s\n",
      "533:\tlearn: 0.4511182\ttotal: 7.07s\tremaining: 6.17s\n",
      "534:\tlearn: 0.4510865\ttotal: 7.08s\tremaining: 6.16s\n",
      "535:\tlearn: 0.4510865\ttotal: 7.09s\tremaining: 6.14s\n",
      "536:\tlearn: 0.4510537\ttotal: 7.11s\tremaining: 6.13s\n",
      "537:\tlearn: 0.4510528\ttotal: 7.12s\tremaining: 6.11s\n",
      "538:\tlearn: 0.4509892\ttotal: 7.13s\tremaining: 6.1s\n",
      "539:\tlearn: 0.4506506\ttotal: 7.15s\tremaining: 6.09s\n",
      "540:\tlearn: 0.4505975\ttotal: 7.16s\tremaining: 6.08s\n",
      "541:\tlearn: 0.4505867\ttotal: 7.18s\tremaining: 6.06s\n",
      "542:\tlearn: 0.4505749\ttotal: 7.19s\tremaining: 6.05s\n",
      "543:\tlearn: 0.4504259\ttotal: 7.2s\tremaining: 6.04s\n",
      "544:\tlearn: 0.4502534\ttotal: 7.22s\tremaining: 6.03s\n",
      "545:\tlearn: 0.4499604\ttotal: 7.24s\tremaining: 6.02s\n",
      "546:\tlearn: 0.4497595\ttotal: 7.25s\tremaining: 6.01s\n",
      "547:\tlearn: 0.4497174\ttotal: 7.27s\tremaining: 6s\n",
      "548:\tlearn: 0.4496786\ttotal: 7.29s\tremaining: 5.98s\n",
      "549:\tlearn: 0.4496779\ttotal: 7.29s\tremaining: 5.97s\n",
      "550:\tlearn: 0.4496505\ttotal: 7.31s\tremaining: 5.96s\n",
      "551:\tlearn: 0.4496497\ttotal: 7.32s\tremaining: 5.94s\n",
      "552:\tlearn: 0.4496497\ttotal: 7.33s\tremaining: 5.92s\n",
      "553:\tlearn: 0.4495616\ttotal: 7.34s\tremaining: 5.91s\n",
      "554:\tlearn: 0.4495101\ttotal: 7.36s\tremaining: 5.9s\n",
      "555:\tlearn: 0.4495000\ttotal: 7.38s\tremaining: 5.89s\n",
      "556:\tlearn: 0.4494993\ttotal: 7.47s\tremaining: 5.94s\n",
      "557:\tlearn: 0.4494982\ttotal: 7.5s\tremaining: 5.94s\n",
      "558:\tlearn: 0.4494975\ttotal: 7.51s\tremaining: 5.92s\n",
      "559:\tlearn: 0.4494968\ttotal: 7.52s\tremaining: 5.91s\n",
      "560:\tlearn: 0.4494968\ttotal: 7.53s\tremaining: 5.89s\n",
      "561:\tlearn: 0.4494789\ttotal: 7.54s\tremaining: 5.88s\n",
      "562:\tlearn: 0.4494684\ttotal: 7.55s\tremaining: 5.86s\n",
      "563:\tlearn: 0.4494678\ttotal: 7.56s\tremaining: 5.84s\n",
      "564:\tlearn: 0.4494671\ttotal: 7.57s\tremaining: 5.83s\n",
      "565:\tlearn: 0.4494263\ttotal: 7.59s\tremaining: 5.82s\n",
      "566:\tlearn: 0.4494256\ttotal: 7.6s\tremaining: 5.8s\n",
      "567:\tlearn: 0.4494249\ttotal: 7.61s\tremaining: 5.79s\n",
      "568:\tlearn: 0.4494249\ttotal: 7.62s\tremaining: 5.77s\n",
      "569:\tlearn: 0.4494243\ttotal: 7.63s\tremaining: 5.75s\n",
      "570:\tlearn: 0.4493869\ttotal: 7.64s\tremaining: 5.74s\n",
      "571:\tlearn: 0.4492320\ttotal: 7.65s\tremaining: 5.73s\n",
      "572:\tlearn: 0.4491660\ttotal: 7.67s\tremaining: 5.72s\n",
      "573:\tlearn: 0.4490837\ttotal: 7.69s\tremaining: 5.7s\n",
      "574:\tlearn: 0.4487582\ttotal: 7.7s\tremaining: 5.69s\n",
      "575:\tlearn: 0.4487577\ttotal: 7.71s\tremaining: 5.68s\n",
      "576:\tlearn: 0.4487471\ttotal: 7.73s\tremaining: 5.67s\n",
      "577:\tlearn: 0.4486219\ttotal: 7.74s\tremaining: 5.65s\n",
      "578:\tlearn: 0.4486214\ttotal: 7.76s\tremaining: 5.64s\n",
      "579:\tlearn: 0.4483221\ttotal: 7.77s\tremaining: 5.63s\n",
      "580:\tlearn: 0.4482542\ttotal: 7.79s\tremaining: 5.62s\n",
      "581:\tlearn: 0.4480784\ttotal: 7.8s\tremaining: 5.61s\n",
      "582:\tlearn: 0.4480778\ttotal: 7.82s\tremaining: 5.59s\n",
      "583:\tlearn: 0.4479690\ttotal: 7.84s\tremaining: 5.58s\n",
      "584:\tlearn: 0.4479691\ttotal: 7.85s\tremaining: 5.57s\n",
      "585:\tlearn: 0.4477731\ttotal: 7.87s\tremaining: 5.56s\n",
      "586:\tlearn: 0.4476968\ttotal: 7.88s\tremaining: 5.55s\n",
      "587:\tlearn: 0.4473365\ttotal: 7.9s\tremaining: 5.53s\n",
      "588:\tlearn: 0.4473365\ttotal: 7.91s\tremaining: 5.52s\n",
      "589:\tlearn: 0.4472623\ttotal: 7.92s\tremaining: 5.51s\n",
      "590:\tlearn: 0.4469745\ttotal: 7.95s\tremaining: 5.5s\n",
      "591:\tlearn: 0.4469077\ttotal: 7.96s\tremaining: 5.49s\n",
      "592:\tlearn: 0.4468749\ttotal: 7.98s\tremaining: 5.48s\n",
      "593:\tlearn: 0.4465571\ttotal: 8s\tremaining: 5.47s\n",
      "594:\tlearn: 0.4464849\ttotal: 8.02s\tremaining: 5.46s\n",
      "595:\tlearn: 0.4464265\ttotal: 8.04s\tremaining: 5.45s\n",
      "596:\tlearn: 0.4463287\ttotal: 8.05s\tremaining: 5.43s\n",
      "597:\tlearn: 0.4463287\ttotal: 8.06s\tremaining: 5.42s\n",
      "598:\tlearn: 0.4460966\ttotal: 8.08s\tremaining: 5.41s\n",
      "599:\tlearn: 0.4459230\ttotal: 8.1s\tremaining: 5.4s\n",
      "600:\tlearn: 0.4458924\ttotal: 8.12s\tremaining: 5.39s\n",
      "601:\tlearn: 0.4455694\ttotal: 8.13s\tremaining: 5.38s\n",
      "602:\tlearn: 0.4454873\ttotal: 8.15s\tremaining: 5.36s\n",
      "603:\tlearn: 0.4454638\ttotal: 8.16s\tremaining: 5.35s\n",
      "604:\tlearn: 0.4454637\ttotal: 8.17s\tremaining: 5.34s\n",
      "605:\tlearn: 0.4450995\ttotal: 8.19s\tremaining: 5.33s\n",
      "606:\tlearn: 0.4450698\ttotal: 8.21s\tremaining: 5.31s\n",
      "607:\tlearn: 0.4449200\ttotal: 8.22s\tremaining: 5.3s\n",
      "608:\tlearn: 0.4449037\ttotal: 8.24s\tremaining: 5.29s\n",
      "609:\tlearn: 0.4446853\ttotal: 8.26s\tremaining: 5.28s\n",
      "610:\tlearn: 0.4445839\ttotal: 8.27s\tremaining: 5.27s\n",
      "611:\tlearn: 0.4444725\ttotal: 8.29s\tremaining: 5.25s\n",
      "612:\tlearn: 0.4441416\ttotal: 8.31s\tremaining: 5.25s\n",
      "613:\tlearn: 0.4441416\ttotal: 8.32s\tremaining: 5.23s\n",
      "614:\tlearn: 0.4441417\ttotal: 8.33s\tremaining: 5.21s\n",
      "615:\tlearn: 0.4440905\ttotal: 8.35s\tremaining: 5.2s\n",
      "616:\tlearn: 0.4439404\ttotal: 8.36s\tremaining: 5.19s\n",
      "617:\tlearn: 0.4439404\ttotal: 8.37s\tremaining: 5.17s\n",
      "618:\tlearn: 0.4439149\ttotal: 8.39s\tremaining: 5.16s\n",
      "619:\tlearn: 0.4439149\ttotal: 8.4s\tremaining: 5.15s\n",
      "620:\tlearn: 0.4439149\ttotal: 8.4s\tremaining: 5.13s\n",
      "621:\tlearn: 0.4439148\ttotal: 8.42s\tremaining: 5.11s\n",
      "622:\tlearn: 0.4439149\ttotal: 8.43s\tremaining: 5.1s\n",
      "623:\tlearn: 0.4437900\ttotal: 8.44s\tremaining: 5.09s\n",
      "624:\tlearn: 0.4437900\ttotal: 8.45s\tremaining: 5.07s\n",
      "625:\tlearn: 0.4437852\ttotal: 8.47s\tremaining: 5.06s\n",
      "626:\tlearn: 0.4437852\ttotal: 8.47s\tremaining: 5.04s\n",
      "627:\tlearn: 0.4435796\ttotal: 8.49s\tremaining: 5.03s\n",
      "628:\tlearn: 0.4435703\ttotal: 8.5s\tremaining: 5.01s\n",
      "629:\tlearn: 0.4435044\ttotal: 8.52s\tremaining: 5s\n",
      "630:\tlearn: 0.4433193\ttotal: 8.53s\tremaining: 4.99s\n",
      "631:\tlearn: 0.4433133\ttotal: 8.55s\tremaining: 4.98s\n",
      "632:\tlearn: 0.4432792\ttotal: 8.56s\tremaining: 4.96s\n",
      "633:\tlearn: 0.4431741\ttotal: 8.58s\tremaining: 4.95s\n",
      "634:\tlearn: 0.4431506\ttotal: 8.6s\tremaining: 4.94s\n",
      "635:\tlearn: 0.4429028\ttotal: 8.61s\tremaining: 4.93s\n",
      "636:\tlearn: 0.4427420\ttotal: 8.63s\tremaining: 4.92s\n",
      "637:\tlearn: 0.4424511\ttotal: 8.64s\tremaining: 4.9s\n",
      "638:\tlearn: 0.4424474\ttotal: 8.65s\tremaining: 4.89s\n",
      "639:\tlearn: 0.4424467\ttotal: 8.66s\tremaining: 4.87s\n",
      "640:\tlearn: 0.4424468\ttotal: 8.67s\tremaining: 4.86s\n",
      "641:\tlearn: 0.4424416\ttotal: 8.68s\tremaining: 4.84s\n",
      "642:\tlearn: 0.4423264\ttotal: 8.7s\tremaining: 4.83s\n",
      "643:\tlearn: 0.4420805\ttotal: 8.71s\tremaining: 4.82s\n",
      "644:\tlearn: 0.4420775\ttotal: 8.72s\tremaining: 4.8s\n",
      "645:\tlearn: 0.4420119\ttotal: 8.73s\tremaining: 4.79s\n",
      "646:\tlearn: 0.4420119\ttotal: 8.74s\tremaining: 4.77s\n",
      "647:\tlearn: 0.4419772\ttotal: 8.76s\tremaining: 4.76s\n",
      "648:\tlearn: 0.4416888\ttotal: 8.77s\tremaining: 4.74s\n",
      "649:\tlearn: 0.4416747\ttotal: 8.79s\tremaining: 4.73s\n",
      "650:\tlearn: 0.4415375\ttotal: 8.8s\tremaining: 4.72s\n",
      "651:\tlearn: 0.4415359\ttotal: 8.82s\tremaining: 4.71s\n",
      "652:\tlearn: 0.4412957\ttotal: 8.83s\tremaining: 4.69s\n",
      "653:\tlearn: 0.4412242\ttotal: 8.85s\tremaining: 4.68s\n",
      "654:\tlearn: 0.4412236\ttotal: 8.86s\tremaining: 4.67s\n",
      "655:\tlearn: 0.4411707\ttotal: 8.87s\tremaining: 4.65s\n",
      "656:\tlearn: 0.4411693\ttotal: 8.89s\tremaining: 4.64s\n",
      "657:\tlearn: 0.4411693\ttotal: 8.9s\tremaining: 4.63s\n",
      "658:\tlearn: 0.4411019\ttotal: 8.91s\tremaining: 4.61s\n",
      "659:\tlearn: 0.4410370\ttotal: 8.93s\tremaining: 4.6s\n",
      "660:\tlearn: 0.4410370\ttotal: 8.94s\tremaining: 4.58s\n",
      "661:\tlearn: 0.4410369\ttotal: 8.95s\tremaining: 4.57s\n",
      "662:\tlearn: 0.4404860\ttotal: 8.96s\tremaining: 4.55s\n",
      "663:\tlearn: 0.4404860\ttotal: 8.97s\tremaining: 4.54s\n",
      "664:\tlearn: 0.4404405\ttotal: 8.98s\tremaining: 4.52s\n",
      "665:\tlearn: 0.4404294\ttotal: 8.99s\tremaining: 4.51s\n",
      "666:\tlearn: 0.4402482\ttotal: 9.01s\tremaining: 4.5s\n",
      "667:\tlearn: 0.4400627\ttotal: 9.03s\tremaining: 4.49s\n",
      "668:\tlearn: 0.4400627\ttotal: 9.04s\tremaining: 4.47s\n",
      "669:\tlearn: 0.4400626\ttotal: 9.04s\tremaining: 4.45s\n",
      "670:\tlearn: 0.4400626\ttotal: 9.05s\tremaining: 4.44s\n",
      "671:\tlearn: 0.4398191\ttotal: 9.06s\tremaining: 4.42s\n",
      "672:\tlearn: 0.4398191\ttotal: 9.07s\tremaining: 4.41s\n",
      "673:\tlearn: 0.4397238\ttotal: 9.09s\tremaining: 4.39s\n",
      "674:\tlearn: 0.4397213\ttotal: 9.1s\tremaining: 4.38s\n",
      "675:\tlearn: 0.4396462\ttotal: 9.11s\tremaining: 4.37s\n",
      "676:\tlearn: 0.4395657\ttotal: 9.13s\tremaining: 4.35s\n",
      "677:\tlearn: 0.4393174\ttotal: 9.14s\tremaining: 4.34s\n",
      "678:\tlearn: 0.4391991\ttotal: 9.16s\tremaining: 4.33s\n",
      "679:\tlearn: 0.4391991\ttotal: 9.17s\tremaining: 4.31s\n",
      "680:\tlearn: 0.4391991\ttotal: 9.18s\tremaining: 4.3s\n",
      "681:\tlearn: 0.4391970\ttotal: 9.19s\tremaining: 4.28s\n",
      "682:\tlearn: 0.4391970\ttotal: 9.2s\tremaining: 4.27s\n",
      "683:\tlearn: 0.4391950\ttotal: 9.21s\tremaining: 4.25s\n",
      "684:\tlearn: 0.4389497\ttotal: 9.23s\tremaining: 4.24s\n",
      "685:\tlearn: 0.4389498\ttotal: 9.23s\tremaining: 4.23s\n",
      "686:\tlearn: 0.4388954\ttotal: 9.25s\tremaining: 4.21s\n",
      "687:\tlearn: 0.4388954\ttotal: 9.26s\tremaining: 4.2s\n",
      "688:\tlearn: 0.4388936\ttotal: 9.27s\tremaining: 4.18s\n",
      "689:\tlearn: 0.4388936\ttotal: 9.28s\tremaining: 4.17s\n",
      "690:\tlearn: 0.4388936\ttotal: 9.29s\tremaining: 4.15s\n",
      "691:\tlearn: 0.4388936\ttotal: 9.3s\tremaining: 4.14s\n",
      "692:\tlearn: 0.4386865\ttotal: 9.31s\tremaining: 4.12s\n",
      "693:\tlearn: 0.4386865\ttotal: 9.32s\tremaining: 4.11s\n",
      "694:\tlearn: 0.4386849\ttotal: 9.33s\tremaining: 4.09s\n",
      "695:\tlearn: 0.4386849\ttotal: 9.34s\tremaining: 4.08s\n",
      "696:\tlearn: 0.4386849\ttotal: 9.35s\tremaining: 4.07s\n",
      "697:\tlearn: 0.4386833\ttotal: 9.36s\tremaining: 4.05s\n",
      "698:\tlearn: 0.4386833\ttotal: 9.37s\tremaining: 4.04s\n",
      "699:\tlearn: 0.4386833\ttotal: 9.38s\tremaining: 4.02s\n",
      "700:\tlearn: 0.4386819\ttotal: 9.39s\tremaining: 4.01s\n",
      "701:\tlearn: 0.4386819\ttotal: 9.4s\tremaining: 3.99s\n",
      "702:\tlearn: 0.4386818\ttotal: 9.41s\tremaining: 3.98s\n",
      "703:\tlearn: 0.4384567\ttotal: 9.42s\tremaining: 3.96s\n",
      "704:\tlearn: 0.4383788\ttotal: 9.44s\tremaining: 3.95s\n",
      "705:\tlearn: 0.4381069\ttotal: 9.45s\tremaining: 3.94s\n",
      "706:\tlearn: 0.4377951\ttotal: 9.47s\tremaining: 3.92s\n",
      "707:\tlearn: 0.4376435\ttotal: 9.49s\tremaining: 3.91s\n",
      "708:\tlearn: 0.4376304\ttotal: 9.5s\tremaining: 3.9s\n",
      "709:\tlearn: 0.4375687\ttotal: 9.51s\tremaining: 3.89s\n",
      "710:\tlearn: 0.4374659\ttotal: 9.53s\tremaining: 3.87s\n",
      "711:\tlearn: 0.4374494\ttotal: 9.54s\tremaining: 3.86s\n",
      "712:\tlearn: 0.4373988\ttotal: 9.56s\tremaining: 3.85s\n",
      "713:\tlearn: 0.4373989\ttotal: 9.57s\tremaining: 3.83s\n",
      "714:\tlearn: 0.4370718\ttotal: 9.58s\tremaining: 3.82s\n",
      "715:\tlearn: 0.4370655\ttotal: 9.6s\tremaining: 3.81s\n",
      "716:\tlearn: 0.4370654\ttotal: 9.61s\tremaining: 3.79s\n",
      "717:\tlearn: 0.4370654\ttotal: 9.62s\tremaining: 3.78s\n",
      "718:\tlearn: 0.4368343\ttotal: 9.63s\tremaining: 3.77s\n",
      "719:\tlearn: 0.4368343\ttotal: 9.64s\tremaining: 3.75s\n",
      "720:\tlearn: 0.4368343\ttotal: 9.65s\tremaining: 3.73s\n",
      "721:\tlearn: 0.4368291\ttotal: 9.67s\tremaining: 3.72s\n",
      "722:\tlearn: 0.4368279\ttotal: 9.74s\tremaining: 3.73s\n",
      "723:\tlearn: 0.4367383\ttotal: 9.76s\tremaining: 3.72s\n",
      "724:\tlearn: 0.4366915\ttotal: 9.77s\tremaining: 3.71s\n",
      "725:\tlearn: 0.4366903\ttotal: 9.79s\tremaining: 3.69s\n",
      "726:\tlearn: 0.4366903\ttotal: 9.79s\tremaining: 3.68s\n",
      "727:\tlearn: 0.4366252\ttotal: 9.81s\tremaining: 3.67s\n",
      "728:\tlearn: 0.4365851\ttotal: 9.83s\tremaining: 3.65s\n",
      "729:\tlearn: 0.4365851\ttotal: 9.84s\tremaining: 3.64s\n",
      "730:\tlearn: 0.4365850\ttotal: 9.85s\tremaining: 3.62s\n",
      "731:\tlearn: 0.4365850\ttotal: 9.86s\tremaining: 3.61s\n",
      "732:\tlearn: 0.4365850\ttotal: 9.86s\tremaining: 3.59s\n",
      "733:\tlearn: 0.4365839\ttotal: 9.88s\tremaining: 3.58s\n",
      "734:\tlearn: 0.4365839\ttotal: 9.88s\tremaining: 3.56s\n",
      "735:\tlearn: 0.4365840\ttotal: 9.89s\tremaining: 3.55s\n",
      "736:\tlearn: 0.4365817\ttotal: 9.91s\tremaining: 3.54s\n",
      "737:\tlearn: 0.4365807\ttotal: 9.92s\tremaining: 3.52s\n",
      "738:\tlearn: 0.4365788\ttotal: 9.94s\tremaining: 3.51s\n",
      "739:\tlearn: 0.4365787\ttotal: 9.95s\tremaining: 3.5s\n",
      "740:\tlearn: 0.4365787\ttotal: 9.96s\tremaining: 3.48s\n",
      "741:\tlearn: 0.4365729\ttotal: 9.97s\tremaining: 3.47s\n",
      "742:\tlearn: 0.4365729\ttotal: 9.98s\tremaining: 3.45s\n",
      "743:\tlearn: 0.4364816\ttotal: 9.99s\tremaining: 3.44s\n",
      "744:\tlearn: 0.4364816\ttotal: 10s\tremaining: 3.42s\n",
      "745:\tlearn: 0.4362073\ttotal: 10s\tremaining: 3.41s\n",
      "746:\tlearn: 0.4362073\ttotal: 10s\tremaining: 3.4s\n",
      "747:\tlearn: 0.4361979\ttotal: 10s\tremaining: 3.38s\n",
      "748:\tlearn: 0.4359428\ttotal: 10.1s\tremaining: 3.37s\n",
      "749:\tlearn: 0.4359306\ttotal: 10.1s\tremaining: 3.35s\n",
      "750:\tlearn: 0.4359305\ttotal: 10.1s\tremaining: 3.34s\n",
      "751:\tlearn: 0.4359305\ttotal: 10.1s\tremaining: 3.33s\n",
      "752:\tlearn: 0.4355795\ttotal: 10.1s\tremaining: 3.31s\n",
      "753:\tlearn: 0.4354290\ttotal: 10.1s\tremaining: 3.3s\n",
      "754:\tlearn: 0.4354290\ttotal: 10.1s\tremaining: 3.29s\n",
      "755:\tlearn: 0.4353679\ttotal: 10.1s\tremaining: 3.27s\n",
      "756:\tlearn: 0.4353679\ttotal: 10.1s\tremaining: 3.26s\n",
      "757:\tlearn: 0.4353181\ttotal: 10.2s\tremaining: 3.24s\n",
      "758:\tlearn: 0.4352855\ttotal: 10.2s\tremaining: 3.23s\n",
      "759:\tlearn: 0.4352684\ttotal: 10.2s\tremaining: 3.22s\n",
      "760:\tlearn: 0.4351057\ttotal: 10.2s\tremaining: 3.21s\n",
      "761:\tlearn: 0.4350337\ttotal: 10.2s\tremaining: 3.19s\n",
      "762:\tlearn: 0.4347097\ttotal: 10.2s\tremaining: 3.18s\n",
      "763:\tlearn: 0.4345263\ttotal: 10.3s\tremaining: 3.17s\n",
      "764:\tlearn: 0.4343937\ttotal: 10.3s\tremaining: 3.15s\n",
      "765:\tlearn: 0.4341422\ttotal: 10.3s\tremaining: 3.14s\n",
      "766:\tlearn: 0.4339994\ttotal: 10.3s\tremaining: 3.13s\n",
      "767:\tlearn: 0.4338684\ttotal: 10.3s\tremaining: 3.12s\n",
      "768:\tlearn: 0.4338684\ttotal: 10.3s\tremaining: 3.1s\n",
      "769:\tlearn: 0.4338683\ttotal: 10.3s\tremaining: 3.09s\n",
      "770:\tlearn: 0.4338630\ttotal: 10.3s\tremaining: 3.07s\n",
      "771:\tlearn: 0.4338476\ttotal: 10.4s\tremaining: 3.06s\n",
      "772:\tlearn: 0.4338169\ttotal: 10.4s\tremaining: 3.05s\n",
      "773:\tlearn: 0.4338125\ttotal: 10.4s\tremaining: 3.03s\n",
      "774:\tlearn: 0.4338125\ttotal: 10.4s\tremaining: 3.02s\n",
      "775:\tlearn: 0.4338125\ttotal: 10.4s\tremaining: 3s\n",
      "776:\tlearn: 0.4338119\ttotal: 10.4s\tremaining: 2.99s\n",
      "777:\tlearn: 0.4337534\ttotal: 10.4s\tremaining: 2.98s\n",
      "778:\tlearn: 0.4337239\ttotal: 10.4s\tremaining: 2.96s\n",
      "779:\tlearn: 0.4337049\ttotal: 10.5s\tremaining: 2.95s\n",
      "780:\tlearn: 0.4337043\ttotal: 10.5s\tremaining: 2.94s\n",
      "781:\tlearn: 0.4336364\ttotal: 10.5s\tremaining: 2.92s\n",
      "782:\tlearn: 0.4336358\ttotal: 10.5s\tremaining: 2.91s\n",
      "783:\tlearn: 0.4336358\ttotal: 10.5s\tremaining: 2.9s\n",
      "784:\tlearn: 0.4336357\ttotal: 10.5s\tremaining: 2.88s\n",
      "785:\tlearn: 0.4336357\ttotal: 10.5s\tremaining: 2.87s\n",
      "786:\tlearn: 0.4336357\ttotal: 10.5s\tremaining: 2.85s\n",
      "787:\tlearn: 0.4336357\ttotal: 10.6s\tremaining: 2.84s\n",
      "788:\tlearn: 0.4336358\ttotal: 10.6s\tremaining: 2.82s\n",
      "789:\tlearn: 0.4333730\ttotal: 10.6s\tremaining: 2.81s\n",
      "790:\tlearn: 0.4333730\ttotal: 10.6s\tremaining: 2.79s\n",
      "791:\tlearn: 0.4332625\ttotal: 10.6s\tremaining: 2.78s\n",
      "792:\tlearn: 0.4332620\ttotal: 10.6s\tremaining: 2.77s\n",
      "793:\tlearn: 0.4331377\ttotal: 10.6s\tremaining: 2.75s\n",
      "794:\tlearn: 0.4331268\ttotal: 10.6s\tremaining: 2.74s\n",
      "795:\tlearn: 0.4331268\ttotal: 10.6s\tremaining: 2.73s\n",
      "796:\tlearn: 0.4331263\ttotal: 10.7s\tremaining: 2.71s\n",
      "797:\tlearn: 0.4330800\ttotal: 10.7s\tremaining: 2.7s\n",
      "798:\tlearn: 0.4328868\ttotal: 10.7s\tremaining: 2.69s\n",
      "799:\tlearn: 0.4327676\ttotal: 10.7s\tremaining: 2.67s\n",
      "800:\tlearn: 0.4327675\ttotal: 10.7s\tremaining: 2.66s\n",
      "801:\tlearn: 0.4327669\ttotal: 10.7s\tremaining: 2.64s\n",
      "802:\tlearn: 0.4327339\ttotal: 10.7s\tremaining: 2.63s\n",
      "803:\tlearn: 0.4327125\ttotal: 10.7s\tremaining: 2.62s\n",
      "804:\tlearn: 0.4326964\ttotal: 10.8s\tremaining: 2.6s\n",
      "805:\tlearn: 0.4326964\ttotal: 10.8s\tremaining: 2.59s\n",
      "806:\tlearn: 0.4326959\ttotal: 10.8s\tremaining: 2.58s\n",
      "807:\tlearn: 0.4326293\ttotal: 10.8s\tremaining: 2.56s\n",
      "808:\tlearn: 0.4326288\ttotal: 10.8s\tremaining: 2.55s\n",
      "809:\tlearn: 0.4326068\ttotal: 10.8s\tremaining: 2.54s\n",
      "810:\tlearn: 0.4325133\ttotal: 10.8s\tremaining: 2.52s\n",
      "811:\tlearn: 0.4325129\ttotal: 10.8s\tremaining: 2.51s\n",
      "812:\tlearn: 0.4325125\ttotal: 10.8s\tremaining: 2.49s\n",
      "813:\tlearn: 0.4325013\ttotal: 10.9s\tremaining: 2.48s\n",
      "814:\tlearn: 0.4322600\ttotal: 10.9s\tremaining: 2.47s\n",
      "815:\tlearn: 0.4322596\ttotal: 10.9s\tremaining: 2.46s\n",
      "816:\tlearn: 0.4321176\ttotal: 10.9s\tremaining: 2.44s\n",
      "817:\tlearn: 0.4321172\ttotal: 10.9s\tremaining: 2.43s\n",
      "818:\tlearn: 0.4321169\ttotal: 10.9s\tremaining: 2.42s\n",
      "819:\tlearn: 0.4321168\ttotal: 10.9s\tremaining: 2.4s\n",
      "820:\tlearn: 0.4321168\ttotal: 10.9s\tremaining: 2.38s\n",
      "821:\tlearn: 0.4321168\ttotal: 11s\tremaining: 2.37s\n",
      "822:\tlearn: 0.4321165\ttotal: 11s\tremaining: 2.36s\n",
      "823:\tlearn: 0.4321165\ttotal: 11s\tremaining: 2.34s\n",
      "824:\tlearn: 0.4320449\ttotal: 11s\tremaining: 2.33s\n",
      "825:\tlearn: 0.4320449\ttotal: 11s\tremaining: 2.32s\n",
      "826:\tlearn: 0.4320446\ttotal: 11s\tremaining: 2.3s\n",
      "827:\tlearn: 0.4320446\ttotal: 11s\tremaining: 2.29s\n",
      "828:\tlearn: 0.4319983\ttotal: 11s\tremaining: 2.27s\n",
      "829:\tlearn: 0.4319983\ttotal: 11s\tremaining: 2.26s\n",
      "830:\tlearn: 0.4319980\ttotal: 11s\tremaining: 2.25s\n",
      "831:\tlearn: 0.4319887\ttotal: 11.1s\tremaining: 2.23s\n",
      "832:\tlearn: 0.4319874\ttotal: 11.1s\tremaining: 2.22s\n",
      "833:\tlearn: 0.4319266\ttotal: 11.1s\tremaining: 2.21s\n",
      "834:\tlearn: 0.4319265\ttotal: 11.1s\tremaining: 2.19s\n",
      "835:\tlearn: 0.4319265\ttotal: 11.1s\tremaining: 2.18s\n",
      "836:\tlearn: 0.4319264\ttotal: 11.1s\tremaining: 2.16s\n",
      "837:\tlearn: 0.4319263\ttotal: 11.1s\tremaining: 2.15s\n",
      "838:\tlearn: 0.4319263\ttotal: 11.1s\tremaining: 2.14s\n",
      "839:\tlearn: 0.4319263\ttotal: 11.1s\tremaining: 2.12s\n",
      "840:\tlearn: 0.4319263\ttotal: 11.2s\tremaining: 2.11s\n",
      "841:\tlearn: 0.4319194\ttotal: 11.2s\tremaining: 2.09s\n",
      "842:\tlearn: 0.4318836\ttotal: 11.2s\tremaining: 2.08s\n",
      "843:\tlearn: 0.4318835\ttotal: 11.2s\tremaining: 2.07s\n",
      "844:\tlearn: 0.4318835\ttotal: 11.2s\tremaining: 2.05s\n",
      "845:\tlearn: 0.4318835\ttotal: 11.2s\tremaining: 2.04s\n",
      "846:\tlearn: 0.4318834\ttotal: 11.2s\tremaining: 2.02s\n",
      "847:\tlearn: 0.4318834\ttotal: 11.2s\tremaining: 2.01s\n",
      "848:\tlearn: 0.4318834\ttotal: 11.2s\tremaining: 2s\n",
      "849:\tlearn: 0.4318833\ttotal: 11.2s\tremaining: 1.98s\n",
      "850:\tlearn: 0.4318833\ttotal: 11.2s\tremaining: 1.97s\n",
      "851:\tlearn: 0.4318830\ttotal: 11.3s\tremaining: 1.96s\n",
      "852:\tlearn: 0.4318540\ttotal: 11.3s\tremaining: 1.94s\n",
      "853:\tlearn: 0.4318540\ttotal: 11.3s\tremaining: 1.93s\n",
      "854:\tlearn: 0.4318537\ttotal: 11.3s\tremaining: 1.92s\n",
      "855:\tlearn: 0.4318534\ttotal: 11.3s\tremaining: 1.9s\n",
      "856:\tlearn: 0.4318341\ttotal: 11.3s\tremaining: 1.89s\n",
      "857:\tlearn: 0.4317640\ttotal: 11.3s\tremaining: 1.88s\n",
      "858:\tlearn: 0.4317640\ttotal: 11.3s\tremaining: 1.86s\n",
      "859:\tlearn: 0.4317637\ttotal: 11.4s\tremaining: 1.85s\n",
      "860:\tlearn: 0.4317636\ttotal: 11.4s\tremaining: 1.83s\n",
      "861:\tlearn: 0.4317578\ttotal: 11.4s\tremaining: 1.82s\n",
      "862:\tlearn: 0.4317541\ttotal: 11.4s\tremaining: 1.81s\n",
      "863:\tlearn: 0.4316478\ttotal: 11.4s\tremaining: 1.79s\n",
      "864:\tlearn: 0.4316267\ttotal: 11.4s\tremaining: 1.78s\n",
      "865:\tlearn: 0.4314308\ttotal: 11.4s\tremaining: 1.77s\n",
      "866:\tlearn: 0.4314300\ttotal: 11.4s\tremaining: 1.75s\n",
      "867:\tlearn: 0.4314095\ttotal: 11.4s\tremaining: 1.74s\n",
      "868:\tlearn: 0.4314093\ttotal: 11.5s\tremaining: 1.73s\n",
      "869:\tlearn: 0.4314093\ttotal: 11.5s\tremaining: 1.71s\n",
      "870:\tlearn: 0.4314093\ttotal: 11.5s\tremaining: 1.7s\n",
      "871:\tlearn: 0.4314093\ttotal: 11.5s\tremaining: 1.69s\n",
      "872:\tlearn: 0.4314093\ttotal: 11.5s\tremaining: 1.67s\n",
      "873:\tlearn: 0.4314093\ttotal: 11.5s\tremaining: 1.66s\n",
      "874:\tlearn: 0.4314091\ttotal: 11.5s\tremaining: 1.64s\n",
      "875:\tlearn: 0.4314091\ttotal: 11.5s\tremaining: 1.63s\n",
      "876:\tlearn: 0.4314091\ttotal: 11.5s\tremaining: 1.62s\n",
      "877:\tlearn: 0.4314090\ttotal: 11.5s\tremaining: 1.6s\n",
      "878:\tlearn: 0.4314090\ttotal: 11.6s\tremaining: 1.59s\n",
      "879:\tlearn: 0.4311978\ttotal: 11.6s\tremaining: 1.58s\n",
      "880:\tlearn: 0.4311978\ttotal: 11.6s\tremaining: 1.56s\n",
      "881:\tlearn: 0.4311372\ttotal: 11.6s\tremaining: 1.55s\n",
      "882:\tlearn: 0.4311337\ttotal: 11.6s\tremaining: 1.54s\n",
      "883:\tlearn: 0.4310673\ttotal: 11.6s\tremaining: 1.52s\n",
      "884:\tlearn: 0.4310592\ttotal: 11.6s\tremaining: 1.51s\n",
      "885:\tlearn: 0.4310554\ttotal: 11.6s\tremaining: 1.5s\n",
      "886:\tlearn: 0.4309365\ttotal: 11.6s\tremaining: 1.48s\n",
      "887:\tlearn: 0.4309256\ttotal: 11.7s\tremaining: 1.47s\n",
      "888:\tlearn: 0.4308874\ttotal: 11.7s\tremaining: 1.46s\n",
      "889:\tlearn: 0.4308009\ttotal: 11.7s\tremaining: 1.44s\n",
      "890:\tlearn: 0.4307963\ttotal: 11.7s\tremaining: 1.43s\n",
      "891:\tlearn: 0.4307260\ttotal: 11.7s\tremaining: 1.42s\n",
      "892:\tlearn: 0.4307259\ttotal: 11.7s\tremaining: 1.41s\n",
      "893:\tlearn: 0.4307223\ttotal: 11.7s\tremaining: 1.39s\n",
      "894:\tlearn: 0.4306955\ttotal: 11.8s\tremaining: 1.38s\n",
      "895:\tlearn: 0.4306943\ttotal: 11.8s\tremaining: 1.36s\n",
      "896:\tlearn: 0.4305866\ttotal: 11.8s\tremaining: 1.35s\n",
      "897:\tlearn: 0.4305721\ttotal: 11.8s\tremaining: 1.34s\n",
      "898:\tlearn: 0.4304955\ttotal: 11.8s\tremaining: 1.33s\n",
      "899:\tlearn: 0.4303807\ttotal: 11.8s\tremaining: 1.31s\n",
      "900:\tlearn: 0.4303772\ttotal: 11.8s\tremaining: 1.3s\n",
      "901:\tlearn: 0.4303770\ttotal: 11.8s\tremaining: 1.29s\n",
      "902:\tlearn: 0.4303766\ttotal: 11.9s\tremaining: 1.27s\n",
      "903:\tlearn: 0.4303741\ttotal: 11.9s\tremaining: 1.26s\n",
      "904:\tlearn: 0.4303723\ttotal: 11.9s\tremaining: 1.25s\n",
      "905:\tlearn: 0.4302804\ttotal: 11.9s\tremaining: 1.23s\n",
      "906:\tlearn: 0.4302772\ttotal: 11.9s\tremaining: 1.22s\n",
      "907:\tlearn: 0.4302767\ttotal: 11.9s\tremaining: 1.21s\n",
      "908:\tlearn: 0.4302680\ttotal: 11.9s\tremaining: 1.19s\n",
      "909:\tlearn: 0.4302602\ttotal: 11.9s\tremaining: 1.18s\n",
      "910:\tlearn: 0.4301824\ttotal: 12s\tremaining: 1.17s\n",
      "911:\tlearn: 0.4301686\ttotal: 12s\tremaining: 1.16s\n",
      "912:\tlearn: 0.4301620\ttotal: 12s\tremaining: 1.14s\n",
      "913:\tlearn: 0.4301591\ttotal: 12s\tremaining: 1.13s\n",
      "914:\tlearn: 0.4301540\ttotal: 12s\tremaining: 1.11s\n",
      "915:\tlearn: 0.4297898\ttotal: 12s\tremaining: 1.1s\n",
      "916:\tlearn: 0.4297855\ttotal: 12s\tremaining: 1.09s\n",
      "917:\tlearn: 0.4297763\ttotal: 12.1s\tremaining: 1.08s\n",
      "918:\tlearn: 0.4297735\ttotal: 12.1s\tremaining: 1.06s\n",
      "919:\tlearn: 0.4297733\ttotal: 12.1s\tremaining: 1.05s\n",
      "920:\tlearn: 0.4297730\ttotal: 12.1s\tremaining: 1.04s\n",
      "921:\tlearn: 0.4297729\ttotal: 12.1s\tremaining: 1.02s\n",
      "922:\tlearn: 0.4296740\ttotal: 12.1s\tremaining: 1.01s\n",
      "923:\tlearn: 0.4296711\ttotal: 12.1s\tremaining: 997ms\n",
      "924:\tlearn: 0.4296683\ttotal: 12.1s\tremaining: 984ms\n",
      "925:\tlearn: 0.4296471\ttotal: 12.1s\tremaining: 971ms\n",
      "926:\tlearn: 0.4295698\ttotal: 12.2s\tremaining: 957ms\n",
      "927:\tlearn: 0.4295672\ttotal: 12.2s\tremaining: 944ms\n",
      "928:\tlearn: 0.4294625\ttotal: 12.2s\tremaining: 931ms\n",
      "929:\tlearn: 0.4294623\ttotal: 12.2s\tremaining: 918ms\n",
      "930:\tlearn: 0.4294598\ttotal: 12.2s\tremaining: 905ms\n",
      "931:\tlearn: 0.4294192\ttotal: 12.2s\tremaining: 892ms\n",
      "932:\tlearn: 0.4292033\ttotal: 12.2s\tremaining: 879ms\n",
      "933:\tlearn: 0.4290309\ttotal: 12.2s\tremaining: 865ms\n",
      "934:\tlearn: 0.4290255\ttotal: 12.3s\tremaining: 852ms\n",
      "935:\tlearn: 0.4290192\ttotal: 12.3s\tremaining: 839ms\n",
      "936:\tlearn: 0.4289840\ttotal: 12.3s\tremaining: 826ms\n",
      "937:\tlearn: 0.4289698\ttotal: 12.3s\tremaining: 813ms\n",
      "938:\tlearn: 0.4289413\ttotal: 12.3s\tremaining: 800ms\n",
      "939:\tlearn: 0.4289388\ttotal: 12.3s\tremaining: 787ms\n",
      "940:\tlearn: 0.4287645\ttotal: 12.3s\tremaining: 774ms\n",
      "941:\tlearn: 0.4287614\ttotal: 12.4s\tremaining: 761ms\n",
      "942:\tlearn: 0.4287601\ttotal: 12.4s\tremaining: 748ms\n",
      "943:\tlearn: 0.4285879\ttotal: 12.4s\tremaining: 735ms\n",
      "944:\tlearn: 0.4284210\ttotal: 12.4s\tremaining: 721ms\n",
      "945:\tlearn: 0.4284057\ttotal: 12.4s\tremaining: 708ms\n",
      "946:\tlearn: 0.4282351\ttotal: 12.4s\tremaining: 695ms\n",
      "947:\tlearn: 0.4282350\ttotal: 12.4s\tremaining: 682ms\n",
      "948:\tlearn: 0.4279036\ttotal: 12.4s\tremaining: 669ms\n",
      "949:\tlearn: 0.4276881\ttotal: 12.5s\tremaining: 656ms\n",
      "950:\tlearn: 0.4276834\ttotal: 12.5s\tremaining: 643ms\n",
      "951:\tlearn: 0.4276816\ttotal: 12.5s\tremaining: 630ms\n",
      "952:\tlearn: 0.4275968\ttotal: 12.5s\tremaining: 616ms\n",
      "953:\tlearn: 0.4275964\ttotal: 12.5s\tremaining: 603ms\n",
      "954:\tlearn: 0.4275913\ttotal: 12.5s\tremaining: 590ms\n",
      "955:\tlearn: 0.4274870\ttotal: 12.5s\tremaining: 577ms\n",
      "956:\tlearn: 0.4274854\ttotal: 12.6s\tremaining: 564ms\n",
      "957:\tlearn: 0.4273471\ttotal: 12.6s\tremaining: 551ms\n",
      "958:\tlearn: 0.4273033\ttotal: 12.6s\tremaining: 538ms\n",
      "959:\tlearn: 0.4273030\ttotal: 12.6s\tremaining: 525ms\n",
      "960:\tlearn: 0.4273004\ttotal: 12.6s\tremaining: 512ms\n",
      "961:\tlearn: 0.4273000\ttotal: 12.6s\tremaining: 498ms\n",
      "962:\tlearn: 0.4271878\ttotal: 12.6s\tremaining: 485ms\n",
      "963:\tlearn: 0.4271284\ttotal: 12.6s\tremaining: 472ms\n",
      "964:\tlearn: 0.4271278\ttotal: 12.7s\tremaining: 459ms\n",
      "965:\tlearn: 0.4270022\ttotal: 12.7s\tremaining: 446ms\n",
      "966:\tlearn: 0.4269334\ttotal: 12.7s\tremaining: 433ms\n",
      "967:\tlearn: 0.4269173\ttotal: 12.7s\tremaining: 420ms\n",
      "968:\tlearn: 0.4268367\ttotal: 12.7s\tremaining: 407ms\n",
      "969:\tlearn: 0.4268253\ttotal: 12.7s\tremaining: 394ms\n",
      "970:\tlearn: 0.4268199\ttotal: 12.7s\tremaining: 381ms\n",
      "971:\tlearn: 0.4268197\ttotal: 12.8s\tremaining: 367ms\n",
      "972:\tlearn: 0.4268078\ttotal: 12.8s\tremaining: 354ms\n",
      "973:\tlearn: 0.4265786\ttotal: 12.8s\tremaining: 341ms\n",
      "974:\tlearn: 0.4265764\ttotal: 12.8s\tremaining: 328ms\n",
      "975:\tlearn: 0.4265763\ttotal: 12.8s\tremaining: 315ms\n",
      "976:\tlearn: 0.4264047\ttotal: 12.8s\tremaining: 302ms\n",
      "977:\tlearn: 0.4263532\ttotal: 12.8s\tremaining: 289ms\n",
      "978:\tlearn: 0.4263531\ttotal: 12.8s\tremaining: 276ms\n",
      "979:\tlearn: 0.4263531\ttotal: 12.9s\tremaining: 262ms\n",
      "980:\tlearn: 0.4263530\ttotal: 12.9s\tremaining: 249ms\n",
      "981:\tlearn: 0.4263094\ttotal: 12.9s\tremaining: 236ms\n",
      "982:\tlearn: 0.4263048\ttotal: 12.9s\tremaining: 223ms\n",
      "983:\tlearn: 0.4262000\ttotal: 12.9s\tremaining: 210ms\n",
      "984:\tlearn: 0.4261999\ttotal: 12.9s\tremaining: 197ms\n",
      "985:\tlearn: 0.4261899\ttotal: 12.9s\tremaining: 184ms\n",
      "986:\tlearn: 0.4261899\ttotal: 12.9s\tremaining: 170ms\n",
      "987:\tlearn: 0.4261898\ttotal: 12.9s\tremaining: 157ms\n",
      "988:\tlearn: 0.4261876\ttotal: 13s\tremaining: 144ms\n",
      "989:\tlearn: 0.4261875\ttotal: 13s\tremaining: 131ms\n",
      "990:\tlearn: 0.4261588\ttotal: 13s\tremaining: 118ms\n",
      "991:\tlearn: 0.4261587\ttotal: 13s\tremaining: 105ms\n",
      "992:\tlearn: 0.4261587\ttotal: 13s\tremaining: 91.6ms\n",
      "993:\tlearn: 0.4261424\ttotal: 13s\tremaining: 78.6ms\n",
      "994:\tlearn: 0.4261424\ttotal: 13s\tremaining: 65.5ms\n",
      "995:\tlearn: 0.4258349\ttotal: 13s\tremaining: 52.4ms\n",
      "996:\tlearn: 0.4257184\ttotal: 13s\tremaining: 39.3ms\n",
      "997:\tlearn: 0.4254944\ttotal: 13.1s\tremaining: 26.2ms\n",
      "998:\tlearn: 0.4253782\ttotal: 13.1s\tremaining: 13.1ms\n",
      "999:\tlearn: 0.4252167\ttotal: 13.1s\tremaining: 0us\n",
      "[LightGBM] [Info] Auto-choosing col-wise multi-threading, the overhead of testing was 0.000370 seconds.\n",
      "You can set `force_col_wise=true` to remove the overhead.\n",
      "[LightGBM] [Info] Total Bins 3484\n",
      "[LightGBM] [Info] Number of data points in the train set: 4067, number of used features: 20\n",
      "[LightGBM] [Info] Start training from score 15.851403\n",
      "\n",
      "====== Models before Hyper Parameter Tuning ======\n"
     ]
    },
    {
     "data": {
      "text/html": [
       "<div>\n",
       "<style scoped>\n",
       "    .dataframe tbody tr th:only-of-type {\n",
       "        vertical-align: middle;\n",
       "    }\n",
       "\n",
       "    .dataframe tbody tr th {\n",
       "        vertical-align: top;\n",
       "    }\n",
       "\n",
       "    .dataframe thead th {\n",
       "        text-align: right;\n",
       "    }\n",
       "</style>\n",
       "<table border=\"1\" class=\"dataframe\">\n",
       "  <thead>\n",
       "    <tr style=\"text-align: right;\">\n",
       "      <th></th>\n",
       "      <th>Model</th>\n",
       "      <th>Validation RMSE</th>\n",
       "      <th>Test RMSE</th>\n",
       "      <th>Validation RMSLE</th>\n",
       "      <th>Test RMSLE</th>\n",
       "      <th>Validation R2</th>\n",
       "      <th>Test R2</th>\n",
       "    </tr>\n",
       "  </thead>\n",
       "  <tbody>\n",
       "    <tr>\n",
       "      <th>0</th>\n",
       "      <td>CatBoost</td>\n",
       "      <td>0.2612</td>\n",
       "      <td>0.3020</td>\n",
       "      <td>0.0311</td>\n",
       "      <td>0.0330</td>\n",
       "      <td>0.8226</td>\n",
       "      <td>0.7856</td>\n",
       "    </tr>\n",
       "    <tr>\n",
       "      <th>1</th>\n",
       "      <td>LightGBM</td>\n",
       "      <td>0.2670</td>\n",
       "      <td>0.3386</td>\n",
       "      <td>0.0314</td>\n",
       "      <td>0.0349</td>\n",
       "      <td>0.8187</td>\n",
       "      <td>0.7596</td>\n",
       "    </tr>\n",
       "    <tr>\n",
       "      <th>2</th>\n",
       "      <td>Random Forest</td>\n",
       "      <td>0.3108</td>\n",
       "      <td>0.3452</td>\n",
       "      <td>0.0339</td>\n",
       "      <td>0.0352</td>\n",
       "      <td>0.7889</td>\n",
       "      <td>0.7549</td>\n",
       "    </tr>\n",
       "    <tr>\n",
       "      <th>3</th>\n",
       "      <td>XGBoost</td>\n",
       "      <td>0.3179</td>\n",
       "      <td>0.3810</td>\n",
       "      <td>0.0342</td>\n",
       "      <td>0.0369</td>\n",
       "      <td>0.7841</td>\n",
       "      <td>0.7296</td>\n",
       "    </tr>\n",
       "    <tr>\n",
       "      <th>4</th>\n",
       "      <td>Decision Tree</td>\n",
       "      <td>0.6427</td>\n",
       "      <td>0.7051</td>\n",
       "      <td>0.0487</td>\n",
       "      <td>0.0502</td>\n",
       "      <td>0.5635</td>\n",
       "      <td>0.4994</td>\n",
       "    </tr>\n",
       "  </tbody>\n",
       "</table>\n",
       "</div>"
      ],
      "text/plain": [
       "           Model  Validation RMSE  Test RMSE  Validation RMSLE  Test RMSLE  \\\n",
       "0       CatBoost           0.2612     0.3020            0.0311      0.0330   \n",
       "1       LightGBM           0.2670     0.3386            0.0314      0.0349   \n",
       "2  Random Forest           0.3108     0.3452            0.0339      0.0352   \n",
       "3        XGBoost           0.3179     0.3810            0.0342      0.0369   \n",
       "4  Decision Tree           0.6427     0.7051            0.0487      0.0502   \n",
       "\n",
       "   Validation R2  Test R2  \n",
       "0         0.8226   0.7856  \n",
       "1         0.8187   0.7596  \n",
       "2         0.7889   0.7549  \n",
       "3         0.7841   0.7296  \n",
       "4         0.5635   0.4994  "
      ]
     },
     "execution_count": 105,
     "metadata": {},
     "output_type": "execute_result"
    }
   ],
   "source": [
    "# Top 3 : CatBoost, LightGBM, Random Forest 순으로 RMSLE 높다\n",
    "evaluate_models(models, X_train, y_train, X_val, y_val, X_test, y_test, when=\"before\")"
   ]
  },
  {
   "cell_type": "code",
   "execution_count": null,
   "metadata": {},
   "outputs": [],
   "source": []
  },
  {
   "cell_type": "code",
   "execution_count": 109,
   "metadata": {},
   "outputs": [],
   "source": [
    "def evaluate_models_with_pool_v2(models, datasets, when=\"before\"):\n",
    "    \"\"\"\n",
    "    Args:\n",
    "        models (list): 모델 이름과 객체의 리스트 [(model_name, model_instance), ...].\n",
    "        datasets (dict): 데이터셋을 포함한 딕셔너리 구조. \n",
    "                         {\n",
    "                             \"encoded\": {\"train\": (X_train, y_train), \"val\": (X_val, y_val), \"test\": (X_test, y_test)},\n",
    "                             \"no_enc\": {\"train\": (X_train_no_enc, y_train_no_enc), \"val\": (X_val_no_enc, y_val_no_enc), \"test\": (X_test_no_enc, y_test_no_enc)}\n",
    "                         }\n",
    "        when (str): 현재 평가 단계 (e.g., \"before\", \"after\").\n",
    "    \n",
    "    Returns:\n",
    "        pd.DataFrame: 모델 평가 결과.\n",
    "    \"\"\"\n",
    "    models_results = []\n",
    "\n",
    "    # 데이터 분리\n",
    "    encoded = datasets[\"encoded\"]\n",
    "    no_enc = datasets[\"no_enc\"]\n",
    "\n",
    "    for model_name, model in models:\n",
    "        if model_name == \"CatBoost\":\n",
    "            # CatBoost 전용 Pool 객체 생성\n",
    "            X_train_no_enc, y_train_no_enc = no_enc[\"train\"]\n",
    "            X_val_no_enc, y_val_no_enc = no_enc[\"val\"]\n",
    "            X_test_no_enc, y_test_no_enc = no_enc[\"test\"]\n",
    "\n",
    "            # 범주형 열 식별\n",
    "            cat_features = X_train_no_enc.select_dtypes(exclude=np.number).columns.tolist()\n",
    "            \n",
    "            train_data = Pool(data=X_train_no_enc, label=y_train_no_enc, cat_features=cat_features)\n",
    "            val_data = Pool(data=X_val_no_enc, label=y_val_no_enc, cat_features=cat_features)\n",
    "            test_data = Pool(data=X_test_no_enc, label=y_test_no_enc, cat_features=cat_features)\n",
    "            \n",
    "            # 모델 훈련\n",
    "            model.fit(train_data, eval_set=val_data)\n",
    "\n",
    "            # 데이터셋에 대한 예측\n",
    "            y_train_pred = model.predict(train_data)\n",
    "            y_val_pred = model.predict(val_data)\n",
    "            y_test_pred = model.predict(test_data)\n",
    "\n",
    "        else:\n",
    "            # 다른 모델은 인코딩된 데이터 사용\n",
    "            X_train, y_train = encoded[\"train\"]\n",
    "            X_val, y_val = encoded[\"val\"]\n",
    "            X_test, y_test = encoded[\"test\"]\n",
    "\n",
    "            # 모델 훈련\n",
    "            model.fit(X_train, y_train)\n",
    "\n",
    "            # 데이터셋에 대한 예측\n",
    "            y_train_pred = model.predict(X_train)\n",
    "            y_val_pred = model.predict(X_val)\n",
    "            y_test_pred = model.predict(X_test)\n",
    "\n",
    "        # 성능 지표 계산\n",
    "        val_rmse = round(metrics.root_mean_squared_error(y_val, y_val_pred), 4)\n",
    "        test_rmse = round(metrics.root_mean_squared_error(y_test, y_test_pred), 4)\n",
    "\n",
    "        val_rmsle = round(calculate_rmsle(y_val, y_val_pred), 4)\n",
    "        test_rmsle = round(calculate_rmsle(y_test, y_test_pred), 4)\n",
    "\n",
    "        val_r2 = round(metrics.r2_score(y_val, y_val_pred), 4)\n",
    "        test_r2 = round(metrics.r2_score(y_test, y_test_pred), 4)\n",
    "\n",
    "        # 결과 저장\n",
    "        models_results.append({\n",
    "            \"Model\": model_name,\n",
    "            \"Validation RMSE\": val_rmse,\n",
    "            \"Test RMSE\": test_rmse,\n",
    "            \"Validation RMSLE\": val_rmsle,\n",
    "            \"Test RMSLE\": test_rmsle,\n",
    "            \"Validation R2\": val_r2,\n",
    "            \"Test R2\": test_r2\n",
    "        })\n",
    "\n",
    "    # 결과 정렬 및 출력\n",
    "    results_df = pd.DataFrame(models_results)\n",
    "    print(f\"\\n====== Models {when} Hyper Parameter Tuning ======\")\n",
    "    return results_df.sort_values(by=\"Test RMSLE\", ascending=True).reset_index(drop=True)\n"
   ]
  },
  {
   "cell_type": "code",
   "execution_count": 110,
   "metadata": {},
   "outputs": [
    {
     "name": "stdout",
     "output_type": "stream",
     "text": [
      "Learning rate set to 0.072263\n",
      "0:\tlearn: 1.1573725\ttest: 1.1685452\tbest: 1.1685452 (0)\ttotal: 28.5ms\tremaining: 28.5s\n",
      "1:\tlearn: 1.1146052\ttest: 1.1267820\tbest: 1.1267820 (1)\ttotal: 52.3ms\tremaining: 26.1s\n",
      "2:\tlearn: 1.0752429\ttest: 1.0888201\tbest: 1.0888201 (2)\ttotal: 75.6ms\tremaining: 25.1s\n",
      "3:\tlearn: 1.0388254\ttest: 1.0538115\tbest: 1.0538115 (3)\ttotal: 130ms\tremaining: 32.3s\n",
      "4:\tlearn: 1.0056431\ttest: 1.0221724\tbest: 1.0221724 (4)\ttotal: 154ms\tremaining: 30.7s\n",
      "5:\tlearn: 0.9758777\ttest: 0.9941820\tbest: 0.9941820 (5)\ttotal: 238ms\tremaining: 39.4s\n",
      "6:\tlearn: 0.9485249\ttest: 0.9673005\tbest: 0.9673005 (6)\ttotal: 275ms\tremaining: 39.1s\n",
      "7:\tlearn: 0.9238309\ttest: 0.9441451\tbest: 0.9441451 (7)\ttotal: 309ms\tremaining: 38.3s\n",
      "8:\tlearn: 0.9014152\ttest: 0.9226690\tbest: 0.9226690 (8)\ttotal: 344ms\tremaining: 37.9s\n",
      "9:\tlearn: 0.8804194\ttest: 0.9031738\tbest: 0.9031738 (9)\ttotal: 368ms\tremaining: 36.5s\n",
      "10:\tlearn: 0.8610359\ttest: 0.8847221\tbest: 0.8847221 (10)\ttotal: 395ms\tremaining: 35.5s\n",
      "11:\tlearn: 0.8437614\ttest: 0.8690909\tbest: 0.8690909 (11)\ttotal: 423ms\tremaining: 34.8s\n",
      "12:\tlearn: 0.8278499\ttest: 0.8544912\tbest: 0.8544912 (12)\ttotal: 454ms\tremaining: 34.5s\n",
      "13:\tlearn: 0.8136921\ttest: 0.8413539\tbest: 0.8413539 (13)\ttotal: 489ms\tremaining: 34.4s\n",
      "14:\tlearn: 0.7963407\ttest: 0.8202262\tbest: 0.8202262 (14)\ttotal: 525ms\tremaining: 34.5s\n",
      "15:\tlearn: 0.7797895\ttest: 0.8007524\tbest: 0.8007524 (15)\ttotal: 562ms\tremaining: 34.6s\n",
      "16:\tlearn: 0.7663986\ttest: 0.7837939\tbest: 0.7837939 (16)\ttotal: 671ms\tremaining: 38.8s\n",
      "17:\tlearn: 0.7556567\ttest: 0.7747293\tbest: 0.7747293 (17)\ttotal: 728ms\tremaining: 39.7s\n",
      "18:\tlearn: 0.7439593\ttest: 0.7597048\tbest: 0.7597048 (18)\ttotal: 782ms\tremaining: 40.4s\n",
      "19:\tlearn: 0.7326463\ttest: 0.7460580\tbest: 0.7460580 (19)\ttotal: 822ms\tremaining: 40.3s\n",
      "20:\tlearn: 0.7231152\ttest: 0.7333490\tbest: 0.7333490 (20)\ttotal: 858ms\tremaining: 40s\n",
      "21:\tlearn: 0.7149613\ttest: 0.7262282\tbest: 0.7262282 (21)\ttotal: 892ms\tremaining: 39.6s\n",
      "22:\tlearn: 0.7066322\ttest: 0.7159141\tbest: 0.7159141 (22)\ttotal: 928ms\tremaining: 39.4s\n",
      "23:\tlearn: 0.6981369\ttest: 0.7054559\tbest: 0.7054559 (23)\ttotal: 957ms\tremaining: 38.9s\n",
      "24:\tlearn: 0.6916695\ttest: 0.7004233\tbest: 0.7004233 (24)\ttotal: 987ms\tremaining: 38.5s\n",
      "25:\tlearn: 0.6859320\ttest: 0.6926187\tbest: 0.6926187 (25)\ttotal: 1.01s\tremaining: 38s\n",
      "26:\tlearn: 0.6798523\ttest: 0.6852816\tbest: 0.6852816 (26)\ttotal: 1.05s\tremaining: 37.7s\n",
      "27:\tlearn: 0.6740474\ttest: 0.6784440\tbest: 0.6784440 (27)\ttotal: 1.08s\tremaining: 37.6s\n",
      "28:\tlearn: 0.6687358\ttest: 0.6732478\tbest: 0.6732478 (28)\ttotal: 1.11s\tremaining: 37.2s\n",
      "29:\tlearn: 0.6641068\ttest: 0.6687586\tbest: 0.6687586 (29)\ttotal: 1.14s\tremaining: 36.9s\n",
      "30:\tlearn: 0.6592192\ttest: 0.6630277\tbest: 0.6630277 (30)\ttotal: 1.17s\tremaining: 36.6s\n",
      "31:\tlearn: 0.6557584\ttest: 0.6597454\tbest: 0.6597454 (31)\ttotal: 1.2s\tremaining: 36.3s\n",
      "32:\tlearn: 0.6517647\ttest: 0.6546994\tbest: 0.6546994 (32)\ttotal: 1.23s\tremaining: 36s\n",
      "33:\tlearn: 0.6486343\ttest: 0.6521585\tbest: 0.6521585 (33)\ttotal: 1.26s\tremaining: 35.7s\n",
      "34:\tlearn: 0.6456847\ttest: 0.6496402\tbest: 0.6496402 (34)\ttotal: 1.29s\tremaining: 35.5s\n",
      "35:\tlearn: 0.6424361\ttest: 0.6470457\tbest: 0.6470457 (35)\ttotal: 1.31s\tremaining: 35.2s\n",
      "36:\tlearn: 0.6381543\ttest: 0.6433231\tbest: 0.6433231 (36)\ttotal: 1.35s\tremaining: 35.1s\n",
      "37:\tlearn: 0.6350788\ttest: 0.6412830\tbest: 0.6412830 (37)\ttotal: 1.38s\tremaining: 34.8s\n",
      "38:\tlearn: 0.6321088\ttest: 0.6385075\tbest: 0.6385075 (38)\ttotal: 1.41s\tremaining: 34.8s\n",
      "39:\tlearn: 0.6297837\ttest: 0.6363550\tbest: 0.6363550 (39)\ttotal: 1.44s\tremaining: 34.6s\n",
      "40:\tlearn: 0.6278173\ttest: 0.6333247\tbest: 0.6333247 (40)\ttotal: 1.47s\tremaining: 34.4s\n",
      "41:\tlearn: 0.6238489\ttest: 0.6306463\tbest: 0.6306463 (41)\ttotal: 1.52s\tremaining: 34.7s\n",
      "42:\tlearn: 0.6216718\ttest: 0.6293540\tbest: 0.6293540 (42)\ttotal: 1.55s\tremaining: 34.4s\n",
      "43:\tlearn: 0.6196813\ttest: 0.6272333\tbest: 0.6272333 (43)\ttotal: 1.58s\tremaining: 34.4s\n",
      "44:\tlearn: 0.6174897\ttest: 0.6258592\tbest: 0.6258592 (44)\ttotal: 1.62s\tremaining: 34.3s\n",
      "45:\tlearn: 0.6160574\ttest: 0.6233715\tbest: 0.6233715 (45)\ttotal: 1.65s\tremaining: 34.2s\n",
      "46:\tlearn: 0.6126972\ttest: 0.6210203\tbest: 0.6210203 (46)\ttotal: 1.68s\tremaining: 34s\n",
      "47:\tlearn: 0.6109118\ttest: 0.6195756\tbest: 0.6195756 (47)\ttotal: 1.71s\tremaining: 33.8s\n",
      "48:\tlearn: 0.6085511\ttest: 0.6186957\tbest: 0.6186957 (48)\ttotal: 1.74s\tremaining: 33.7s\n",
      "49:\tlearn: 0.6066081\ttest: 0.6167393\tbest: 0.6167393 (49)\ttotal: 1.77s\tremaining: 33.7s\n",
      "50:\tlearn: 0.6040265\ttest: 0.6157197\tbest: 0.6157197 (50)\ttotal: 1.8s\tremaining: 33.5s\n",
      "51:\tlearn: 0.6023165\ttest: 0.6144724\tbest: 0.6144724 (51)\ttotal: 1.83s\tremaining: 33.4s\n",
      "52:\tlearn: 0.5998446\ttest: 0.6128426\tbest: 0.6128426 (52)\ttotal: 1.86s\tremaining: 33.3s\n",
      "53:\tlearn: 0.5978801\ttest: 0.6112339\tbest: 0.6112339 (53)\ttotal: 1.9s\tremaining: 33.3s\n",
      "54:\tlearn: 0.5968887\ttest: 0.6098966\tbest: 0.6098966 (54)\ttotal: 1.93s\tremaining: 33.1s\n",
      "55:\tlearn: 0.5958543\ttest: 0.6093337\tbest: 0.6093337 (55)\ttotal: 1.96s\tremaining: 33s\n",
      "56:\tlearn: 0.5943474\ttest: 0.6081284\tbest: 0.6081284 (56)\ttotal: 1.98s\tremaining: 32.8s\n",
      "57:\tlearn: 0.5935030\ttest: 0.6072281\tbest: 0.6072281 (57)\ttotal: 2.02s\tremaining: 32.8s\n",
      "58:\tlearn: 0.5919137\ttest: 0.6066152\tbest: 0.6066152 (58)\ttotal: 2.05s\tremaining: 32.7s\n",
      "59:\tlearn: 0.5900856\ttest: 0.6054367\tbest: 0.6054367 (59)\ttotal: 2.08s\tremaining: 32.6s\n",
      "60:\tlearn: 0.5883183\ttest: 0.6044721\tbest: 0.6044721 (60)\ttotal: 2.11s\tremaining: 32.5s\n",
      "61:\tlearn: 0.5873826\ttest: 0.6033023\tbest: 0.6033023 (61)\ttotal: 2.14s\tremaining: 32.4s\n",
      "62:\tlearn: 0.5864444\ttest: 0.6028697\tbest: 0.6028697 (62)\ttotal: 2.17s\tremaining: 32.3s\n",
      "63:\tlearn: 0.5856786\ttest: 0.6023193\tbest: 0.6023193 (63)\ttotal: 2.2s\tremaining: 32.2s\n",
      "64:\tlearn: 0.5845377\ttest: 0.6018375\tbest: 0.6018375 (64)\ttotal: 2.23s\tremaining: 32.1s\n",
      "65:\tlearn: 0.5838250\ttest: 0.6012292\tbest: 0.6012292 (65)\ttotal: 2.26s\tremaining: 32s\n",
      "66:\tlearn: 0.5823051\ttest: 0.5998364\tbest: 0.5998364 (66)\ttotal: 2.31s\tremaining: 32.2s\n",
      "67:\tlearn: 0.5809980\ttest: 0.5991958\tbest: 0.5991958 (67)\ttotal: 2.34s\tremaining: 32.1s\n",
      "68:\tlearn: 0.5796968\ttest: 0.5979559\tbest: 0.5979559 (68)\ttotal: 2.37s\tremaining: 32s\n",
      "69:\tlearn: 0.5790416\ttest: 0.5974957\tbest: 0.5974957 (69)\ttotal: 2.4s\tremaining: 31.9s\n",
      "70:\tlearn: 0.5786280\ttest: 0.5969329\tbest: 0.5969329 (70)\ttotal: 2.43s\tremaining: 31.8s\n",
      "71:\tlearn: 0.5780025\ttest: 0.5961304\tbest: 0.5961304 (71)\ttotal: 2.46s\tremaining: 31.7s\n",
      "72:\tlearn: 0.5776317\ttest: 0.5957343\tbest: 0.5957343 (72)\ttotal: 2.5s\tremaining: 31.7s\n",
      "73:\tlearn: 0.5763352\ttest: 0.5950260\tbest: 0.5950260 (73)\ttotal: 2.54s\tremaining: 31.7s\n",
      "74:\tlearn: 0.5755409\ttest: 0.5946324\tbest: 0.5946324 (74)\ttotal: 2.56s\tremaining: 31.6s\n",
      "75:\tlearn: 0.5743913\ttest: 0.5941343\tbest: 0.5941343 (75)\ttotal: 2.6s\tremaining: 31.6s\n",
      "76:\tlearn: 0.5735692\ttest: 0.5934861\tbest: 0.5934861 (76)\ttotal: 2.63s\tremaining: 31.5s\n",
      "77:\tlearn: 0.5733302\ttest: 0.5930522\tbest: 0.5930522 (77)\ttotal: 2.67s\tremaining: 31.5s\n",
      "78:\tlearn: 0.5727255\ttest: 0.5924846\tbest: 0.5924846 (78)\ttotal: 2.71s\tremaining: 31.6s\n",
      "79:\tlearn: 0.5721509\ttest: 0.5918775\tbest: 0.5918775 (79)\ttotal: 2.76s\tremaining: 31.8s\n",
      "80:\tlearn: 0.5717088\ttest: 0.5913424\tbest: 0.5913424 (80)\ttotal: 2.8s\tremaining: 31.8s\n",
      "81:\tlearn: 0.5708671\ttest: 0.5908357\tbest: 0.5908357 (81)\ttotal: 2.83s\tremaining: 31.7s\n",
      "82:\tlearn: 0.5705504\ttest: 0.5906130\tbest: 0.5906130 (82)\ttotal: 2.86s\tremaining: 31.7s\n",
      "83:\tlearn: 0.5703387\ttest: 0.5904349\tbest: 0.5904349 (83)\ttotal: 2.89s\tremaining: 31.5s\n",
      "84:\tlearn: 0.5690892\ttest: 0.5894999\tbest: 0.5894999 (84)\ttotal: 2.93s\tremaining: 31.5s\n",
      "85:\tlearn: 0.5677862\ttest: 0.5887356\tbest: 0.5887356 (85)\ttotal: 2.97s\tremaining: 31.6s\n",
      "86:\tlearn: 0.5666329\ttest: 0.5883488\tbest: 0.5883488 (86)\ttotal: 3s\tremaining: 31.5s\n",
      "87:\tlearn: 0.5652653\ttest: 0.5874463\tbest: 0.5874463 (87)\ttotal: 3.03s\tremaining: 31.4s\n",
      "88:\tlearn: 0.5648443\ttest: 0.5869871\tbest: 0.5869871 (88)\ttotal: 3.07s\tremaining: 31.4s\n",
      "89:\tlearn: 0.5647282\ttest: 0.5868356\tbest: 0.5868356 (89)\ttotal: 3.1s\tremaining: 31.4s\n",
      "90:\tlearn: 0.5637034\ttest: 0.5860331\tbest: 0.5860331 (90)\ttotal: 3.14s\tremaining: 31.3s\n",
      "91:\tlearn: 0.5634697\ttest: 0.5860539\tbest: 0.5860331 (90)\ttotal: 3.17s\tremaining: 31.2s\n",
      "92:\tlearn: 0.5627921\ttest: 0.5859035\tbest: 0.5859035 (92)\ttotal: 3.2s\tremaining: 31.2s\n",
      "93:\tlearn: 0.5626679\ttest: 0.5858928\tbest: 0.5858928 (93)\ttotal: 3.24s\tremaining: 31.2s\n",
      "94:\tlearn: 0.5623749\ttest: 0.5856636\tbest: 0.5856636 (94)\ttotal: 3.27s\tremaining: 31.1s\n",
      "95:\tlearn: 0.5620548\ttest: 0.5853246\tbest: 0.5853246 (95)\ttotal: 3.29s\tremaining: 31s\n",
      "96:\tlearn: 0.5617832\ttest: 0.5851024\tbest: 0.5851024 (96)\ttotal: 3.33s\tremaining: 31s\n",
      "97:\tlearn: 0.5614892\ttest: 0.5848567\tbest: 0.5848567 (97)\ttotal: 3.35s\tremaining: 30.9s\n",
      "98:\tlearn: 0.5607236\ttest: 0.5843319\tbest: 0.5843319 (98)\ttotal: 3.38s\tremaining: 30.8s\n",
      "99:\tlearn: 0.5603564\ttest: 0.5841017\tbest: 0.5841017 (99)\ttotal: 3.41s\tremaining: 30.7s\n",
      "100:\tlearn: 0.5600644\ttest: 0.5837259\tbest: 0.5837259 (100)\ttotal: 3.44s\tremaining: 30.6s\n",
      "101:\tlearn: 0.5597632\ttest: 0.5835517\tbest: 0.5835517 (101)\ttotal: 3.47s\tremaining: 30.6s\n",
      "102:\tlearn: 0.5588015\ttest: 0.5831947\tbest: 0.5831947 (102)\ttotal: 3.5s\tremaining: 30.5s\n",
      "103:\tlearn: 0.5586490\ttest: 0.5830054\tbest: 0.5830054 (103)\ttotal: 3.52s\tremaining: 30.4s\n",
      "104:\tlearn: 0.5585077\ttest: 0.5828893\tbest: 0.5828893 (104)\ttotal: 3.55s\tremaining: 30.3s\n",
      "105:\tlearn: 0.5578744\ttest: 0.5828925\tbest: 0.5828893 (104)\ttotal: 3.59s\tremaining: 30.2s\n",
      "106:\tlearn: 0.5562925\ttest: 0.5825175\tbest: 0.5825175 (106)\ttotal: 3.62s\tremaining: 30.2s\n",
      "107:\tlearn: 0.5554704\ttest: 0.5823585\tbest: 0.5823585 (107)\ttotal: 3.65s\tremaining: 30.1s\n",
      "108:\tlearn: 0.5549727\ttest: 0.5819578\tbest: 0.5819578 (108)\ttotal: 3.68s\tremaining: 30.1s\n",
      "109:\tlearn: 0.5542178\ttest: 0.5813925\tbest: 0.5813925 (109)\ttotal: 3.71s\tremaining: 30s\n",
      "110:\tlearn: 0.5537085\ttest: 0.5812041\tbest: 0.5812041 (110)\ttotal: 3.74s\tremaining: 29.9s\n",
      "111:\tlearn: 0.5532545\ttest: 0.5810405\tbest: 0.5810405 (111)\ttotal: 3.76s\tremaining: 29.8s\n",
      "112:\tlearn: 0.5528459\ttest: 0.5810110\tbest: 0.5810110 (112)\ttotal: 3.79s\tremaining: 29.7s\n",
      "113:\tlearn: 0.5525870\ttest: 0.5806880\tbest: 0.5806880 (113)\ttotal: 3.82s\tremaining: 29.7s\n",
      "114:\tlearn: 0.5520407\ttest: 0.5805293\tbest: 0.5805293 (114)\ttotal: 3.84s\tremaining: 29.6s\n",
      "115:\tlearn: 0.5514446\ttest: 0.5802247\tbest: 0.5802247 (115)\ttotal: 3.87s\tremaining: 29.5s\n",
      "116:\tlearn: 0.5510527\ttest: 0.5799818\tbest: 0.5799818 (116)\ttotal: 3.89s\tremaining: 29.4s\n",
      "117:\tlearn: 0.5507613\ttest: 0.5798870\tbest: 0.5798870 (117)\ttotal: 3.92s\tremaining: 29.3s\n",
      "118:\tlearn: 0.5501043\ttest: 0.5797495\tbest: 0.5797495 (118)\ttotal: 3.95s\tremaining: 29.3s\n",
      "119:\tlearn: 0.5491378\ttest: 0.5795500\tbest: 0.5795500 (119)\ttotal: 3.98s\tremaining: 29.2s\n",
      "120:\tlearn: 0.5491112\ttest: 0.5794556\tbest: 0.5794556 (120)\ttotal: 4s\tremaining: 29.1s\n",
      "121:\tlearn: 0.5486398\ttest: 0.5793905\tbest: 0.5793905 (121)\ttotal: 4.03s\tremaining: 29s\n",
      "122:\tlearn: 0.5484384\ttest: 0.5793904\tbest: 0.5793904 (122)\ttotal: 4.05s\tremaining: 28.9s\n",
      "123:\tlearn: 0.5483787\ttest: 0.5793257\tbest: 0.5793257 (123)\ttotal: 4.08s\tremaining: 28.8s\n",
      "124:\tlearn: 0.5482950\ttest: 0.5791978\tbest: 0.5791978 (124)\ttotal: 4.12s\tremaining: 28.8s\n",
      "125:\tlearn: 0.5477528\ttest: 0.5790776\tbest: 0.5790776 (125)\ttotal: 4.14s\tremaining: 28.7s\n",
      "126:\tlearn: 0.5474810\ttest: 0.5790869\tbest: 0.5790776 (125)\ttotal: 4.17s\tremaining: 28.7s\n",
      "127:\tlearn: 0.5466289\ttest: 0.5785109\tbest: 0.5785109 (127)\ttotal: 4.2s\tremaining: 28.6s\n",
      "128:\tlearn: 0.5458360\ttest: 0.5780308\tbest: 0.5780308 (128)\ttotal: 4.23s\tremaining: 28.5s\n",
      "129:\tlearn: 0.5457655\ttest: 0.5779109\tbest: 0.5779109 (129)\ttotal: 4.26s\tremaining: 28.5s\n",
      "130:\tlearn: 0.5453785\ttest: 0.5777878\tbest: 0.5777878 (130)\ttotal: 4.29s\tremaining: 28.5s\n",
      "131:\tlearn: 0.5452062\ttest: 0.5776245\tbest: 0.5776245 (131)\ttotal: 4.32s\tremaining: 28.4s\n",
      "132:\tlearn: 0.5447353\ttest: 0.5773818\tbest: 0.5773818 (132)\ttotal: 4.35s\tremaining: 28.3s\n",
      "133:\tlearn: 0.5445810\ttest: 0.5772948\tbest: 0.5772948 (133)\ttotal: 4.37s\tremaining: 28.3s\n",
      "134:\tlearn: 0.5442565\ttest: 0.5770669\tbest: 0.5770669 (134)\ttotal: 4.4s\tremaining: 28.2s\n",
      "135:\tlearn: 0.5441204\ttest: 0.5770610\tbest: 0.5770610 (135)\ttotal: 4.43s\tremaining: 28.2s\n",
      "136:\tlearn: 0.5437195\ttest: 0.5769784\tbest: 0.5769784 (136)\ttotal: 4.46s\tremaining: 28.1s\n",
      "137:\tlearn: 0.5432451\ttest: 0.5767715\tbest: 0.5767715 (137)\ttotal: 4.49s\tremaining: 28s\n",
      "138:\tlearn: 0.5424172\ttest: 0.5764257\tbest: 0.5764257 (138)\ttotal: 4.52s\tremaining: 28s\n",
      "139:\tlearn: 0.5423337\ttest: 0.5763242\tbest: 0.5763242 (139)\ttotal: 4.54s\tremaining: 27.9s\n",
      "140:\tlearn: 0.5419223\ttest: 0.5760333\tbest: 0.5760333 (140)\ttotal: 4.57s\tremaining: 27.8s\n",
      "141:\tlearn: 0.5412714\ttest: 0.5755810\tbest: 0.5755810 (141)\ttotal: 4.59s\tremaining: 27.7s\n",
      "142:\tlearn: 0.5412000\ttest: 0.5755783\tbest: 0.5755783 (142)\ttotal: 4.62s\tremaining: 27.7s\n",
      "143:\tlearn: 0.5401111\ttest: 0.5750969\tbest: 0.5750969 (143)\ttotal: 4.65s\tremaining: 27.6s\n",
      "144:\tlearn: 0.5397071\ttest: 0.5747383\tbest: 0.5747383 (144)\ttotal: 4.67s\tremaining: 27.6s\n",
      "145:\tlearn: 0.5393578\ttest: 0.5745069\tbest: 0.5745069 (145)\ttotal: 4.7s\tremaining: 27.5s\n",
      "146:\tlearn: 0.5389071\ttest: 0.5744736\tbest: 0.5744736 (146)\ttotal: 4.73s\tremaining: 27.4s\n",
      "147:\tlearn: 0.5384179\ttest: 0.5741127\tbest: 0.5741127 (147)\ttotal: 4.76s\tremaining: 27.4s\n",
      "148:\tlearn: 0.5382811\ttest: 0.5739342\tbest: 0.5739342 (148)\ttotal: 4.79s\tremaining: 27.4s\n",
      "149:\tlearn: 0.5376306\ttest: 0.5734094\tbest: 0.5734094 (149)\ttotal: 4.82s\tremaining: 27.3s\n",
      "150:\tlearn: 0.5376296\ttest: 0.5734091\tbest: 0.5734091 (150)\ttotal: 4.83s\tremaining: 27.2s\n",
      "151:\tlearn: 0.5375030\ttest: 0.5733445\tbest: 0.5733445 (151)\ttotal: 4.87s\tremaining: 27.2s\n",
      "152:\tlearn: 0.5374077\ttest: 0.5732172\tbest: 0.5732172 (152)\ttotal: 4.9s\tremaining: 27.1s\n",
      "153:\tlearn: 0.5373143\ttest: 0.5730927\tbest: 0.5730927 (153)\ttotal: 4.93s\tremaining: 27.1s\n",
      "154:\tlearn: 0.5370516\ttest: 0.5730959\tbest: 0.5730927 (153)\ttotal: 4.96s\tremaining: 27s\n",
      "155:\tlearn: 0.5370238\ttest: 0.5730382\tbest: 0.5730382 (155)\ttotal: 4.99s\tremaining: 27s\n",
      "156:\tlearn: 0.5366855\ttest: 0.5729185\tbest: 0.5729185 (156)\ttotal: 5.04s\tremaining: 27s\n",
      "157:\tlearn: 0.5366829\ttest: 0.5729189\tbest: 0.5729185 (156)\ttotal: 5.07s\tremaining: 27s\n",
      "158:\tlearn: 0.5365368\ttest: 0.5728948\tbest: 0.5728948 (158)\ttotal: 5.12s\tremaining: 27.1s\n",
      "159:\tlearn: 0.5362365\ttest: 0.5727384\tbest: 0.5727384 (159)\ttotal: 5.15s\tremaining: 27s\n",
      "160:\tlearn: 0.5361340\ttest: 0.5725927\tbest: 0.5725927 (160)\ttotal: 5.18s\tremaining: 27s\n",
      "161:\tlearn: 0.5353746\ttest: 0.5723986\tbest: 0.5723986 (161)\ttotal: 5.23s\tremaining: 27.1s\n",
      "162:\tlearn: 0.5353739\ttest: 0.5724019\tbest: 0.5723986 (161)\ttotal: 5.25s\tremaining: 27s\n",
      "163:\tlearn: 0.5353190\ttest: 0.5723342\tbest: 0.5723342 (163)\ttotal: 5.28s\tremaining: 26.9s\n",
      "164:\tlearn: 0.5353184\ttest: 0.5723372\tbest: 0.5723342 (163)\ttotal: 5.29s\tremaining: 26.8s\n",
      "165:\tlearn: 0.5350613\ttest: 0.5719878\tbest: 0.5719878 (165)\ttotal: 5.34s\tremaining: 26.8s\n",
      "166:\tlearn: 0.5344002\ttest: 0.5716769\tbest: 0.5716769 (166)\ttotal: 5.37s\tremaining: 26.8s\n",
      "167:\tlearn: 0.5342366\ttest: 0.5716554\tbest: 0.5716554 (167)\ttotal: 5.4s\tremaining: 26.8s\n",
      "168:\tlearn: 0.5339412\ttest: 0.5713160\tbest: 0.5713160 (168)\ttotal: 5.46s\tremaining: 26.9s\n",
      "169:\tlearn: 0.5338395\ttest: 0.5711152\tbest: 0.5711152 (169)\ttotal: 5.51s\tremaining: 26.9s\n",
      "170:\tlearn: 0.5338395\ttest: 0.5711142\tbest: 0.5711142 (170)\ttotal: 5.53s\tremaining: 26.8s\n",
      "171:\tlearn: 0.5337336\ttest: 0.5710633\tbest: 0.5710633 (171)\ttotal: 5.58s\tremaining: 26.9s\n",
      "172:\tlearn: 0.5335474\ttest: 0.5710831\tbest: 0.5710633 (171)\ttotal: 5.67s\tremaining: 27.1s\n",
      "173:\tlearn: 0.5335463\ttest: 0.5710820\tbest: 0.5710633 (171)\ttotal: 5.81s\tremaining: 27.6s\n",
      "174:\tlearn: 0.5335265\ttest: 0.5710370\tbest: 0.5710370 (174)\ttotal: 5.85s\tremaining: 27.6s\n",
      "175:\tlearn: 0.5329505\ttest: 0.5706699\tbest: 0.5706699 (175)\ttotal: 5.88s\tremaining: 27.5s\n",
      "176:\tlearn: 0.5329505\ttest: 0.5706700\tbest: 0.5706699 (175)\ttotal: 5.89s\tremaining: 27.4s\n",
      "177:\tlearn: 0.5324052\ttest: 0.5704541\tbest: 0.5704541 (177)\ttotal: 5.93s\tremaining: 27.4s\n",
      "178:\tlearn: 0.5320061\ttest: 0.5703626\tbest: 0.5703626 (178)\ttotal: 5.96s\tremaining: 27.3s\n",
      "179:\tlearn: 0.5315031\ttest: 0.5703453\tbest: 0.5703453 (179)\ttotal: 5.99s\tremaining: 27.3s\n",
      "180:\tlearn: 0.5313312\ttest: 0.5703514\tbest: 0.5703453 (179)\ttotal: 6.02s\tremaining: 27.2s\n",
      "181:\tlearn: 0.5311516\ttest: 0.5702898\tbest: 0.5702898 (181)\ttotal: 6.06s\tremaining: 27.2s\n",
      "182:\tlearn: 0.5307791\ttest: 0.5698617\tbest: 0.5698617 (182)\ttotal: 6.09s\tremaining: 27.2s\n",
      "183:\tlearn: 0.5304985\ttest: 0.5695620\tbest: 0.5695620 (183)\ttotal: 6.11s\tremaining: 27.1s\n",
      "184:\tlearn: 0.5304147\ttest: 0.5694902\tbest: 0.5694902 (184)\ttotal: 6.15s\tremaining: 27.1s\n",
      "185:\tlearn: 0.5303846\ttest: 0.5695125\tbest: 0.5694902 (184)\ttotal: 6.18s\tremaining: 27s\n",
      "186:\tlearn: 0.5303846\ttest: 0.5695127\tbest: 0.5694902 (184)\ttotal: 6.19s\tremaining: 26.9s\n",
      "187:\tlearn: 0.5295666\ttest: 0.5694061\tbest: 0.5694061 (187)\ttotal: 6.22s\tremaining: 26.9s\n",
      "188:\tlearn: 0.5295183\ttest: 0.5694035\tbest: 0.5694035 (188)\ttotal: 6.25s\tremaining: 26.8s\n",
      "189:\tlearn: 0.5295121\ttest: 0.5693765\tbest: 0.5693765 (189)\ttotal: 6.28s\tremaining: 26.8s\n",
      "190:\tlearn: 0.5294358\ttest: 0.5693255\tbest: 0.5693255 (190)\ttotal: 6.31s\tremaining: 26.7s\n",
      "191:\tlearn: 0.5293732\ttest: 0.5693162\tbest: 0.5693162 (191)\ttotal: 6.34s\tremaining: 26.7s\n",
      "192:\tlearn: 0.5292914\ttest: 0.5692170\tbest: 0.5692170 (192)\ttotal: 6.36s\tremaining: 26.6s\n",
      "193:\tlearn: 0.5286849\ttest: 0.5691351\tbest: 0.5691351 (193)\ttotal: 6.39s\tremaining: 26.6s\n",
      "194:\tlearn: 0.5286778\ttest: 0.5691114\tbest: 0.5691114 (194)\ttotal: 6.42s\tremaining: 26.5s\n",
      "195:\tlearn: 0.5284552\ttest: 0.5690890\tbest: 0.5690890 (195)\ttotal: 6.45s\tremaining: 26.5s\n",
      "196:\tlearn: 0.5279265\ttest: 0.5686637\tbest: 0.5686637 (196)\ttotal: 6.48s\tremaining: 26.4s\n",
      "197:\tlearn: 0.5276708\ttest: 0.5686433\tbest: 0.5686433 (197)\ttotal: 6.52s\tremaining: 26.4s\n",
      "198:\tlearn: 0.5273883\ttest: 0.5683577\tbest: 0.5683577 (198)\ttotal: 6.54s\tremaining: 26.3s\n",
      "199:\tlearn: 0.5273814\ttest: 0.5683344\tbest: 0.5683344 (199)\ttotal: 6.58s\tremaining: 26.3s\n",
      "200:\tlearn: 0.5272008\ttest: 0.5681005\tbest: 0.5681005 (200)\ttotal: 6.66s\tremaining: 26.5s\n",
      "201:\tlearn: 0.5272007\ttest: 0.5681005\tbest: 0.5681005 (200)\ttotal: 6.67s\tremaining: 26.3s\n",
      "202:\tlearn: 0.5271552\ttest: 0.5680549\tbest: 0.5680549 (202)\ttotal: 6.7s\tremaining: 26.3s\n",
      "203:\tlearn: 0.5267876\ttest: 0.5680659\tbest: 0.5680549 (202)\ttotal: 6.75s\tremaining: 26.3s\n",
      "204:\tlearn: 0.5267053\ttest: 0.5679387\tbest: 0.5679387 (204)\ttotal: 6.79s\tremaining: 26.3s\n",
      "205:\tlearn: 0.5267053\ttest: 0.5679388\tbest: 0.5679387 (204)\ttotal: 6.8s\tremaining: 26.2s\n",
      "206:\tlearn: 0.5266532\ttest: 0.5679382\tbest: 0.5679382 (206)\ttotal: 6.83s\tremaining: 26.2s\n",
      "207:\tlearn: 0.5264524\ttest: 0.5678402\tbest: 0.5678402 (207)\ttotal: 6.86s\tremaining: 26.1s\n",
      "208:\tlearn: 0.5263636\ttest: 0.5677374\tbest: 0.5677374 (208)\ttotal: 6.89s\tremaining: 26.1s\n",
      "209:\tlearn: 0.5263586\ttest: 0.5677141\tbest: 0.5677141 (209)\ttotal: 6.91s\tremaining: 26s\n",
      "210:\tlearn: 0.5263586\ttest: 0.5677139\tbest: 0.5677139 (210)\ttotal: 6.93s\tremaining: 25.9s\n",
      "211:\tlearn: 0.5263526\ttest: 0.5676929\tbest: 0.5676929 (211)\ttotal: 6.95s\tremaining: 25.8s\n",
      "212:\tlearn: 0.5263526\ttest: 0.5676928\tbest: 0.5676928 (212)\ttotal: 6.97s\tremaining: 25.7s\n",
      "213:\tlearn: 0.5263467\ttest: 0.5676724\tbest: 0.5676724 (213)\ttotal: 6.99s\tremaining: 25.7s\n",
      "214:\tlearn: 0.5263411\ttest: 0.5676526\tbest: 0.5676526 (214)\ttotal: 7.01s\tremaining: 25.6s\n",
      "215:\tlearn: 0.5262107\ttest: 0.5676082\tbest: 0.5676082 (215)\ttotal: 7.05s\tremaining: 25.6s\n",
      "216:\tlearn: 0.5262053\ttest: 0.5675890\tbest: 0.5675890 (216)\ttotal: 7.08s\tremaining: 25.5s\n",
      "217:\tlearn: 0.5262053\ttest: 0.5675889\tbest: 0.5675889 (217)\ttotal: 7.09s\tremaining: 25.4s\n",
      "218:\tlearn: 0.5252972\ttest: 0.5670113\tbest: 0.5670113 (218)\ttotal: 7.13s\tremaining: 25.4s\n",
      "219:\tlearn: 0.5252922\ttest: 0.5669925\tbest: 0.5669925 (219)\ttotal: 7.15s\tremaining: 25.4s\n",
      "220:\tlearn: 0.5249588\ttest: 0.5668531\tbest: 0.5668531 (220)\ttotal: 7.19s\tremaining: 25.3s\n",
      "221:\tlearn: 0.5247570\ttest: 0.5666900\tbest: 0.5666900 (221)\ttotal: 7.23s\tremaining: 25.3s\n",
      "222:\tlearn: 0.5247570\ttest: 0.5666897\tbest: 0.5666897 (222)\ttotal: 7.24s\tremaining: 25.2s\n",
      "223:\tlearn: 0.5246984\ttest: 0.5666781\tbest: 0.5666781 (223)\ttotal: 7.27s\tremaining: 25.2s\n",
      "224:\tlearn: 0.5246734\ttest: 0.5666416\tbest: 0.5666416 (224)\ttotal: 7.3s\tremaining: 25.2s\n",
      "225:\tlearn: 0.5246216\ttest: 0.5666289\tbest: 0.5666289 (225)\ttotal: 7.33s\tremaining: 25.1s\n",
      "226:\tlearn: 0.5244456\ttest: 0.5665284\tbest: 0.5665284 (226)\ttotal: 7.36s\tremaining: 25.1s\n",
      "227:\tlearn: 0.5244456\ttest: 0.5665281\tbest: 0.5665281 (227)\ttotal: 7.37s\tremaining: 25s\n",
      "228:\tlearn: 0.5243299\ttest: 0.5664514\tbest: 0.5664514 (228)\ttotal: 7.4s\tremaining: 24.9s\n",
      "229:\tlearn: 0.5241235\ttest: 0.5664458\tbest: 0.5664458 (229)\ttotal: 7.43s\tremaining: 24.9s\n",
      "230:\tlearn: 0.5240891\ttest: 0.5664468\tbest: 0.5664458 (229)\ttotal: 7.47s\tremaining: 24.9s\n",
      "231:\tlearn: 0.5240891\ttest: 0.5664463\tbest: 0.5664458 (229)\ttotal: 7.48s\tremaining: 24.8s\n",
      "232:\tlearn: 0.5240454\ttest: 0.5664955\tbest: 0.5664458 (229)\ttotal: 7.5s\tremaining: 24.7s\n",
      "233:\tlearn: 0.5235038\ttest: 0.5661846\tbest: 0.5661846 (233)\ttotal: 7.53s\tremaining: 24.6s\n",
      "234:\tlearn: 0.5235010\ttest: 0.5661673\tbest: 0.5661673 (234)\ttotal: 7.54s\tremaining: 24.5s\n",
      "235:\tlearn: 0.5231195\ttest: 0.5659466\tbest: 0.5659466 (235)\ttotal: 7.58s\tremaining: 24.5s\n",
      "236:\tlearn: 0.5231168\ttest: 0.5659301\tbest: 0.5659301 (236)\ttotal: 7.59s\tremaining: 24.4s\n",
      "237:\tlearn: 0.5231129\ttest: 0.5659156\tbest: 0.5659156 (237)\ttotal: 7.61s\tremaining: 24.4s\n",
      "238:\tlearn: 0.5229533\ttest: 0.5657628\tbest: 0.5657628 (238)\ttotal: 7.64s\tremaining: 24.3s\n",
      "239:\tlearn: 0.5229508\ttest: 0.5657469\tbest: 0.5657469 (239)\ttotal: 7.66s\tremaining: 24.3s\n",
      "240:\tlearn: 0.5229061\ttest: 0.5658019\tbest: 0.5657469 (239)\ttotal: 7.69s\tremaining: 24.2s\n",
      "241:\tlearn: 0.5229032\ttest: 0.5657880\tbest: 0.5657469 (239)\ttotal: 7.72s\tremaining: 24.2s\n",
      "242:\tlearn: 0.5228559\ttest: 0.5657627\tbest: 0.5657469 (239)\ttotal: 7.75s\tremaining: 24.2s\n",
      "243:\tlearn: 0.5228532\ttest: 0.5657500\tbest: 0.5657469 (239)\ttotal: 7.78s\tremaining: 24.1s\n",
      "244:\tlearn: 0.5221379\ttest: 0.5655091\tbest: 0.5655091 (244)\ttotal: 7.81s\tremaining: 24.1s\n",
      "245:\tlearn: 0.5219852\ttest: 0.5655677\tbest: 0.5655091 (244)\ttotal: 7.85s\tremaining: 24.1s\n",
      "246:\tlearn: 0.5216377\ttest: 0.5652636\tbest: 0.5652636 (246)\ttotal: 7.88s\tremaining: 24s\n",
      "247:\tlearn: 0.5214478\ttest: 0.5652106\tbest: 0.5652106 (247)\ttotal: 7.91s\tremaining: 24s\n",
      "248:\tlearn: 0.5212490\ttest: 0.5651174\tbest: 0.5651174 (248)\ttotal: 7.94s\tremaining: 23.9s\n",
      "249:\tlearn: 0.5212464\ttest: 0.5651049\tbest: 0.5651049 (249)\ttotal: 7.96s\tremaining: 23.9s\n",
      "250:\tlearn: 0.5212444\ttest: 0.5650915\tbest: 0.5650915 (250)\ttotal: 7.97s\tremaining: 23.8s\n",
      "251:\tlearn: 0.5210573\ttest: 0.5649953\tbest: 0.5649953 (251)\ttotal: 8.01s\tremaining: 23.8s\n",
      "252:\tlearn: 0.5209387\ttest: 0.5648260\tbest: 0.5648260 (252)\ttotal: 8.04s\tremaining: 23.7s\n",
      "253:\tlearn: 0.5205034\ttest: 0.5646056\tbest: 0.5646056 (253)\ttotal: 8.08s\tremaining: 23.7s\n",
      "254:\tlearn: 0.5203333\ttest: 0.5645256\tbest: 0.5645256 (254)\ttotal: 8.12s\tremaining: 23.7s\n",
      "255:\tlearn: 0.5203001\ttest: 0.5645038\tbest: 0.5645038 (255)\ttotal: 8.16s\tremaining: 23.7s\n",
      "256:\tlearn: 0.5202984\ttest: 0.5644911\tbest: 0.5644911 (256)\ttotal: 8.18s\tremaining: 23.6s\n",
      "257:\tlearn: 0.5199360\ttest: 0.5642451\tbest: 0.5642451 (257)\ttotal: 8.22s\tremaining: 23.6s\n",
      "258:\tlearn: 0.5198146\ttest: 0.5640231\tbest: 0.5640231 (258)\ttotal: 8.25s\tremaining: 23.6s\n",
      "259:\tlearn: 0.5196324\ttest: 0.5639048\tbest: 0.5639048 (259)\ttotal: 8.29s\tremaining: 23.6s\n",
      "260:\tlearn: 0.5195936\ttest: 0.5638948\tbest: 0.5638948 (260)\ttotal: 8.31s\tremaining: 23.5s\n",
      "261:\tlearn: 0.5195212\ttest: 0.5637729\tbest: 0.5637729 (261)\ttotal: 8.35s\tremaining: 23.5s\n",
      "262:\tlearn: 0.5189140\ttest: 0.5638248\tbest: 0.5637729 (261)\ttotal: 8.38s\tremaining: 23.5s\n",
      "263:\tlearn: 0.5188728\ttest: 0.5637856\tbest: 0.5637729 (261)\ttotal: 8.41s\tremaining: 23.4s\n",
      "264:\tlearn: 0.5188539\ttest: 0.5637993\tbest: 0.5637729 (261)\ttotal: 8.44s\tremaining: 23.4s\n",
      "265:\tlearn: 0.5188180\ttest: 0.5639088\tbest: 0.5637729 (261)\ttotal: 8.46s\tremaining: 23.4s\n",
      "266:\tlearn: 0.5184588\ttest: 0.5636338\tbest: 0.5636338 (266)\ttotal: 8.49s\tremaining: 23.3s\n",
      "267:\tlearn: 0.5181528\ttest: 0.5634647\tbest: 0.5634647 (267)\ttotal: 8.52s\tremaining: 23.3s\n",
      "268:\tlearn: 0.5177624\ttest: 0.5632836\tbest: 0.5632836 (268)\ttotal: 8.56s\tremaining: 23.3s\n",
      "269:\tlearn: 0.5172025\ttest: 0.5630814\tbest: 0.5630814 (269)\ttotal: 8.59s\tremaining: 23.2s\n",
      "270:\tlearn: 0.5171592\ttest: 0.5630498\tbest: 0.5630498 (270)\ttotal: 8.61s\tremaining: 23.2s\n",
      "271:\tlearn: 0.5170953\ttest: 0.5629098\tbest: 0.5629098 (271)\ttotal: 8.64s\tremaining: 23.1s\n",
      "272:\tlearn: 0.5170161\ttest: 0.5628677\tbest: 0.5628677 (272)\ttotal: 8.68s\tremaining: 23.1s\n",
      "273:\tlearn: 0.5169919\ttest: 0.5628596\tbest: 0.5628596 (273)\ttotal: 8.71s\tremaining: 23.1s\n",
      "274:\tlearn: 0.5168694\ttest: 0.5628574\tbest: 0.5628574 (274)\ttotal: 8.74s\tremaining: 23s\n",
      "275:\tlearn: 0.5164936\ttest: 0.5626038\tbest: 0.5626038 (275)\ttotal: 8.77s\tremaining: 23s\n",
      "276:\tlearn: 0.5164650\ttest: 0.5625911\tbest: 0.5625911 (276)\ttotal: 8.8s\tremaining: 23s\n",
      "277:\tlearn: 0.5164341\ttest: 0.5625208\tbest: 0.5625208 (277)\ttotal: 8.83s\tremaining: 22.9s\n",
      "278:\tlearn: 0.5162603\ttest: 0.5624126\tbest: 0.5624126 (278)\ttotal: 8.86s\tremaining: 22.9s\n",
      "279:\tlearn: 0.5161020\ttest: 0.5621693\tbest: 0.5621693 (279)\ttotal: 8.89s\tremaining: 22.8s\n",
      "280:\tlearn: 0.5158592\ttest: 0.5620602\tbest: 0.5620602 (280)\ttotal: 8.92s\tremaining: 22.8s\n",
      "281:\tlearn: 0.5156275\ttest: 0.5619494\tbest: 0.5619494 (281)\ttotal: 8.95s\tremaining: 22.8s\n",
      "282:\tlearn: 0.5154988\ttest: 0.5618565\tbest: 0.5618565 (282)\ttotal: 8.98s\tremaining: 22.8s\n",
      "283:\tlearn: 0.5154694\ttest: 0.5618649\tbest: 0.5618565 (282)\ttotal: 9.01s\tremaining: 22.7s\n",
      "284:\tlearn: 0.5153520\ttest: 0.5618439\tbest: 0.5618439 (284)\ttotal: 9.04s\tremaining: 22.7s\n",
      "285:\tlearn: 0.5147499\ttest: 0.5614643\tbest: 0.5614643 (285)\ttotal: 9.07s\tremaining: 22.6s\n",
      "286:\tlearn: 0.5146392\ttest: 0.5613384\tbest: 0.5613384 (286)\ttotal: 9.09s\tremaining: 22.6s\n",
      "287:\tlearn: 0.5143138\ttest: 0.5615206\tbest: 0.5613384 (286)\ttotal: 9.12s\tremaining: 22.5s\n",
      "288:\tlearn: 0.5139884\ttest: 0.5612700\tbest: 0.5612700 (288)\ttotal: 9.15s\tremaining: 22.5s\n",
      "289:\tlearn: 0.5139327\ttest: 0.5612055\tbest: 0.5612055 (289)\ttotal: 9.18s\tremaining: 22.5s\n",
      "290:\tlearn: 0.5134063\ttest: 0.5608522\tbest: 0.5608522 (290)\ttotal: 9.2s\tremaining: 22.4s\n",
      "291:\tlearn: 0.5131487\ttest: 0.5607193\tbest: 0.5607193 (291)\ttotal: 9.22s\tremaining: 22.4s\n",
      "292:\tlearn: 0.5129363\ttest: 0.5606265\tbest: 0.5606265 (292)\ttotal: 9.25s\tremaining: 22.3s\n",
      "293:\tlearn: 0.5127003\ttest: 0.5604414\tbest: 0.5604414 (293)\ttotal: 9.28s\tremaining: 22.3s\n",
      "294:\tlearn: 0.5124893\ttest: 0.5603618\tbest: 0.5603618 (294)\ttotal: 9.31s\tremaining: 22.3s\n",
      "295:\tlearn: 0.5120912\ttest: 0.5601536\tbest: 0.5601536 (295)\ttotal: 9.35s\tremaining: 22.2s\n",
      "296:\tlearn: 0.5117078\ttest: 0.5600554\tbest: 0.5600554 (296)\ttotal: 9.38s\tremaining: 22.2s\n",
      "297:\tlearn: 0.5115574\ttest: 0.5599648\tbest: 0.5599648 (297)\ttotal: 9.41s\tremaining: 22.2s\n",
      "298:\tlearn: 0.5114623\ttest: 0.5598968\tbest: 0.5598968 (298)\ttotal: 9.44s\tremaining: 22.1s\n",
      "299:\tlearn: 0.5112513\ttest: 0.5598827\tbest: 0.5598827 (299)\ttotal: 9.47s\tremaining: 22.1s\n",
      "300:\tlearn: 0.5111038\ttest: 0.5597224\tbest: 0.5597224 (300)\ttotal: 9.5s\tremaining: 22.1s\n",
      "301:\tlearn: 0.5108038\ttest: 0.5594178\tbest: 0.5594178 (301)\ttotal: 9.53s\tremaining: 22s\n",
      "302:\tlearn: 0.5107590\ttest: 0.5593785\tbest: 0.5593785 (302)\ttotal: 9.55s\tremaining: 22s\n",
      "303:\tlearn: 0.5107180\ttest: 0.5593954\tbest: 0.5593785 (302)\ttotal: 9.59s\tremaining: 21.9s\n",
      "304:\tlearn: 0.5106684\ttest: 0.5593797\tbest: 0.5593785 (302)\ttotal: 9.62s\tremaining: 21.9s\n",
      "305:\tlearn: 0.5106347\ttest: 0.5593842\tbest: 0.5593785 (302)\ttotal: 9.64s\tremaining: 21.9s\n",
      "306:\tlearn: 0.5103050\ttest: 0.5592928\tbest: 0.5592928 (306)\ttotal: 9.67s\tremaining: 21.8s\n",
      "307:\tlearn: 0.5100796\ttest: 0.5591355\tbest: 0.5591355 (307)\ttotal: 9.7s\tremaining: 21.8s\n",
      "308:\tlearn: 0.5100507\ttest: 0.5591321\tbest: 0.5591321 (308)\ttotal: 9.72s\tremaining: 21.7s\n",
      "309:\tlearn: 0.5099487\ttest: 0.5591187\tbest: 0.5591187 (309)\ttotal: 9.76s\tremaining: 21.7s\n",
      "310:\tlearn: 0.5098165\ttest: 0.5592051\tbest: 0.5591187 (309)\ttotal: 9.79s\tremaining: 21.7s\n",
      "311:\tlearn: 0.5097814\ttest: 0.5591965\tbest: 0.5591187 (309)\ttotal: 9.82s\tremaining: 21.6s\n",
      "312:\tlearn: 0.5096606\ttest: 0.5591260\tbest: 0.5591187 (309)\ttotal: 9.85s\tremaining: 21.6s\n",
      "313:\tlearn: 0.5089773\ttest: 0.5590709\tbest: 0.5590709 (313)\ttotal: 9.88s\tremaining: 21.6s\n",
      "314:\tlearn: 0.5087975\ttest: 0.5590150\tbest: 0.5590150 (314)\ttotal: 9.9s\tremaining: 21.5s\n",
      "315:\tlearn: 0.5087414\ttest: 0.5590278\tbest: 0.5590150 (314)\ttotal: 9.93s\tremaining: 21.5s\n",
      "316:\tlearn: 0.5086077\ttest: 0.5589842\tbest: 0.5589842 (316)\ttotal: 9.96s\tremaining: 21.5s\n",
      "317:\tlearn: 0.5084241\ttest: 0.5589810\tbest: 0.5589810 (317)\ttotal: 9.99s\tremaining: 21.4s\n",
      "318:\tlearn: 0.5079724\ttest: 0.5588756\tbest: 0.5588756 (318)\ttotal: 10s\tremaining: 21.4s\n",
      "319:\tlearn: 0.5077669\ttest: 0.5587778\tbest: 0.5587778 (319)\ttotal: 10s\tremaining: 21.4s\n",
      "320:\tlearn: 0.5076329\ttest: 0.5587836\tbest: 0.5587778 (319)\ttotal: 10.1s\tremaining: 21.3s\n",
      "321:\tlearn: 0.5074639\ttest: 0.5586845\tbest: 0.5586845 (321)\ttotal: 10.1s\tremaining: 21.3s\n",
      "322:\tlearn: 0.5074053\ttest: 0.5586604\tbest: 0.5586604 (322)\ttotal: 10.1s\tremaining: 21.2s\n",
      "323:\tlearn: 0.5073472\ttest: 0.5587056\tbest: 0.5586604 (322)\ttotal: 10.2s\tremaining: 21.2s\n",
      "324:\tlearn: 0.5073129\ttest: 0.5587032\tbest: 0.5586604 (322)\ttotal: 10.2s\tremaining: 21.2s\n",
      "325:\tlearn: 0.5068279\ttest: 0.5586942\tbest: 0.5586604 (322)\ttotal: 10.2s\tremaining: 21.1s\n",
      "326:\tlearn: 0.5067838\ttest: 0.5588076\tbest: 0.5586604 (322)\ttotal: 10.3s\tremaining: 21.1s\n",
      "327:\tlearn: 0.5064283\ttest: 0.5587447\tbest: 0.5586604 (322)\ttotal: 10.3s\tremaining: 21.1s\n",
      "328:\tlearn: 0.5063968\ttest: 0.5586958\tbest: 0.5586604 (322)\ttotal: 10.3s\tremaining: 21s\n",
      "329:\tlearn: 0.5062790\ttest: 0.5586279\tbest: 0.5586279 (329)\ttotal: 10.3s\tremaining: 21s\n",
      "330:\tlearn: 0.5061458\ttest: 0.5585880\tbest: 0.5585880 (330)\ttotal: 10.4s\tremaining: 20.9s\n",
      "331:\tlearn: 0.5060359\ttest: 0.5585677\tbest: 0.5585677 (331)\ttotal: 10.4s\tremaining: 20.9s\n",
      "332:\tlearn: 0.5059760\ttest: 0.5585573\tbest: 0.5585573 (332)\ttotal: 10.4s\tremaining: 20.9s\n",
      "333:\tlearn: 0.5059454\ttest: 0.5585068\tbest: 0.5585068 (333)\ttotal: 10.5s\tremaining: 20.8s\n",
      "334:\tlearn: 0.5057585\ttest: 0.5584938\tbest: 0.5584938 (334)\ttotal: 10.5s\tremaining: 20.8s\n",
      "335:\tlearn: 0.5057547\ttest: 0.5584881\tbest: 0.5584881 (335)\ttotal: 10.5s\tremaining: 20.8s\n",
      "336:\tlearn: 0.5057435\ttest: 0.5584831\tbest: 0.5584831 (336)\ttotal: 10.5s\tremaining: 20.7s\n",
      "337:\tlearn: 0.5055233\ttest: 0.5584390\tbest: 0.5584390 (337)\ttotal: 10.6s\tremaining: 20.7s\n",
      "338:\tlearn: 0.5054358\ttest: 0.5584382\tbest: 0.5584382 (338)\ttotal: 10.6s\tremaining: 20.7s\n",
      "339:\tlearn: 0.5049800\ttest: 0.5581976\tbest: 0.5581976 (339)\ttotal: 10.6s\tremaining: 20.6s\n",
      "340:\tlearn: 0.5049776\ttest: 0.5582009\tbest: 0.5581976 (339)\ttotal: 10.6s\tremaining: 20.6s\n",
      "341:\tlearn: 0.5049755\ttest: 0.5582043\tbest: 0.5581976 (339)\ttotal: 10.7s\tremaining: 20.5s\n",
      "342:\tlearn: 0.5049523\ttest: 0.5581971\tbest: 0.5581971 (342)\ttotal: 10.7s\tremaining: 20.5s\n",
      "343:\tlearn: 0.5048321\ttest: 0.5581974\tbest: 0.5581971 (342)\ttotal: 10.7s\tremaining: 20.5s\n",
      "344:\tlearn: 0.5048159\ttest: 0.5582029\tbest: 0.5581971 (342)\ttotal: 10.8s\tremaining: 20.4s\n",
      "345:\tlearn: 0.5044388\ttest: 0.5581831\tbest: 0.5581831 (345)\ttotal: 10.8s\tremaining: 20.4s\n",
      "346:\tlearn: 0.5043190\ttest: 0.5581642\tbest: 0.5581642 (346)\ttotal: 10.8s\tremaining: 20.4s\n",
      "347:\tlearn: 0.5042310\ttest: 0.5581183\tbest: 0.5581183 (347)\ttotal: 10.8s\tremaining: 20.3s\n",
      "348:\tlearn: 0.5038504\ttest: 0.5580585\tbest: 0.5580585 (348)\ttotal: 10.9s\tremaining: 20.3s\n",
      "349:\tlearn: 0.5038321\ttest: 0.5580345\tbest: 0.5580345 (349)\ttotal: 10.9s\tremaining: 20.2s\n",
      "350:\tlearn: 0.5036166\ttest: 0.5579949\tbest: 0.5579949 (350)\ttotal: 10.9s\tremaining: 20.2s\n",
      "351:\tlearn: 0.5034229\ttest: 0.5579454\tbest: 0.5579454 (351)\ttotal: 11s\tremaining: 20.2s\n",
      "352:\tlearn: 0.5030242\ttest: 0.5578275\tbest: 0.5578275 (352)\ttotal: 11s\tremaining: 20.2s\n",
      "353:\tlearn: 0.5027824\ttest: 0.5576838\tbest: 0.5576838 (353)\ttotal: 11s\tremaining: 20.1s\n",
      "354:\tlearn: 0.5027802\ttest: 0.5576683\tbest: 0.5576683 (354)\ttotal: 11s\tremaining: 20.1s\n",
      "355:\tlearn: 0.5027492\ttest: 0.5576277\tbest: 0.5576277 (355)\ttotal: 11.1s\tremaining: 20s\n",
      "356:\tlearn: 0.5023392\ttest: 0.5574569\tbest: 0.5574569 (356)\ttotal: 11.1s\tremaining: 20s\n",
      "357:\tlearn: 0.5022358\ttest: 0.5574757\tbest: 0.5574569 (356)\ttotal: 11.1s\tremaining: 20s\n",
      "358:\tlearn: 0.5018653\ttest: 0.5574108\tbest: 0.5574108 (358)\ttotal: 11.2s\tremaining: 19.9s\n",
      "359:\tlearn: 0.5018558\ttest: 0.5574046\tbest: 0.5574046 (359)\ttotal: 11.2s\tremaining: 19.9s\n",
      "360:\tlearn: 0.5016543\ttest: 0.5573653\tbest: 0.5573653 (360)\ttotal: 11.2s\tremaining: 19.9s\n",
      "361:\tlearn: 0.5016412\ttest: 0.5573689\tbest: 0.5573653 (360)\ttotal: 11.3s\tremaining: 19.9s\n",
      "362:\tlearn: 0.5016063\ttest: 0.5573063\tbest: 0.5573063 (362)\ttotal: 11.3s\tremaining: 19.8s\n",
      "363:\tlearn: 0.5015895\ttest: 0.5572872\tbest: 0.5572872 (363)\ttotal: 11.3s\tremaining: 19.8s\n",
      "364:\tlearn: 0.5015090\ttest: 0.5572229\tbest: 0.5572229 (364)\ttotal: 11.4s\tremaining: 19.8s\n",
      "365:\tlearn: 0.5013384\ttest: 0.5571924\tbest: 0.5571924 (365)\ttotal: 11.4s\tremaining: 19.8s\n",
      "366:\tlearn: 0.5013265\ttest: 0.5571979\tbest: 0.5571924 (365)\ttotal: 11.4s\tremaining: 19.7s\n",
      "367:\tlearn: 0.5013183\ttest: 0.5572136\tbest: 0.5571924 (365)\ttotal: 11.5s\tremaining: 19.7s\n",
      "368:\tlearn: 0.5013158\ttest: 0.5572138\tbest: 0.5571924 (365)\ttotal: 11.5s\tremaining: 19.6s\n",
      "369:\tlearn: 0.5013135\ttest: 0.5572173\tbest: 0.5571924 (365)\ttotal: 11.5s\tremaining: 19.6s\n",
      "370:\tlearn: 0.5012653\ttest: 0.5571626\tbest: 0.5571626 (370)\ttotal: 11.5s\tremaining: 19.6s\n",
      "371:\tlearn: 0.5012403\ttest: 0.5571533\tbest: 0.5571533 (371)\ttotal: 11.6s\tremaining: 19.5s\n",
      "372:\tlearn: 0.5008156\ttest: 0.5570120\tbest: 0.5570120 (372)\ttotal: 11.6s\tremaining: 19.5s\n",
      "373:\tlearn: 0.5008070\ttest: 0.5570061\tbest: 0.5570061 (373)\ttotal: 11.6s\tremaining: 19.4s\n",
      "374:\tlearn: 0.5007988\ttest: 0.5570171\tbest: 0.5570061 (373)\ttotal: 11.6s\tremaining: 19.4s\n",
      "375:\tlearn: 0.5007974\ttest: 0.5570066\tbest: 0.5570061 (373)\ttotal: 11.7s\tremaining: 19.4s\n",
      "376:\tlearn: 0.5007960\ttest: 0.5569963\tbest: 0.5569963 (376)\ttotal: 11.7s\tremaining: 19.3s\n",
      "377:\tlearn: 0.5007942\ttest: 0.5569930\tbest: 0.5569930 (377)\ttotal: 11.7s\tremaining: 19.3s\n",
      "378:\tlearn: 0.5007877\ttest: 0.5570021\tbest: 0.5569930 (377)\ttotal: 11.7s\tremaining: 19.2s\n",
      "379:\tlearn: 0.5007803\ttest: 0.5570017\tbest: 0.5569930 (377)\ttotal: 11.8s\tremaining: 19.2s\n",
      "380:\tlearn: 0.5004265\ttest: 0.5569178\tbest: 0.5569178 (380)\ttotal: 11.8s\tremaining: 19.2s\n",
      "381:\tlearn: 0.5004257\ttest: 0.5569100\tbest: 0.5569100 (381)\ttotal: 11.8s\tremaining: 19.1s\n",
      "382:\tlearn: 0.5004249\ttest: 0.5569022\tbest: 0.5569022 (382)\ttotal: 11.8s\tremaining: 19.1s\n",
      "383:\tlearn: 0.5004094\ttest: 0.5568955\tbest: 0.5568955 (383)\ttotal: 11.9s\tremaining: 19s\n",
      "384:\tlearn: 0.5004087\ttest: 0.5568887\tbest: 0.5568887 (384)\ttotal: 11.9s\tremaining: 19s\n",
      "385:\tlearn: 0.5004079\ttest: 0.5568818\tbest: 0.5568818 (385)\ttotal: 11.9s\tremaining: 18.9s\n",
      "386:\tlearn: 0.5003977\ttest: 0.5568710\tbest: 0.5568710 (386)\ttotal: 11.9s\tremaining: 18.9s\n",
      "387:\tlearn: 0.5003916\ttest: 0.5568742\tbest: 0.5568710 (386)\ttotal: 11.9s\tremaining: 18.8s\n",
      "388:\tlearn: 0.5003909\ttest: 0.5568682\tbest: 0.5568682 (388)\ttotal: 12s\tremaining: 18.8s\n",
      "389:\tlearn: 0.5003817\ttest: 0.5568597\tbest: 0.5568597 (389)\ttotal: 12s\tremaining: 18.8s\n",
      "390:\tlearn: 0.5003775\ttest: 0.5568618\tbest: 0.5568597 (389)\ttotal: 12s\tremaining: 18.7s\n",
      "391:\tlearn: 0.5003640\ttest: 0.5568520\tbest: 0.5568520 (391)\ttotal: 12s\tremaining: 18.7s\n",
      "392:\tlearn: 0.5003602\ttest: 0.5568549\tbest: 0.5568520 (391)\ttotal: 12.1s\tremaining: 18.6s\n",
      "393:\tlearn: 0.5003550\ttest: 0.5568560\tbest: 0.5568520 (391)\ttotal: 12.1s\tremaining: 18.6s\n",
      "394:\tlearn: 0.5003513\ttest: 0.5568592\tbest: 0.5568520 (391)\ttotal: 12.1s\tremaining: 18.6s\n",
      "395:\tlearn: 0.5003333\ttest: 0.5568387\tbest: 0.5568387 (395)\ttotal: 12.1s\tremaining: 18.5s\n",
      "396:\tlearn: 0.5003219\ttest: 0.5568391\tbest: 0.5568387 (395)\ttotal: 12.2s\tremaining: 18.5s\n",
      "397:\tlearn: 0.5002605\ttest: 0.5567708\tbest: 0.5567708 (397)\ttotal: 12.2s\tremaining: 18.5s\n",
      "398:\tlearn: 0.5002245\ttest: 0.5567355\tbest: 0.5567355 (398)\ttotal: 12.2s\tremaining: 18.4s\n",
      "399:\tlearn: 0.5002205\ttest: 0.5567426\tbest: 0.5567355 (398)\ttotal: 12.3s\tremaining: 18.4s\n",
      "400:\tlearn: 0.5000462\ttest: 0.5568544\tbest: 0.5567355 (398)\ttotal: 12.3s\tremaining: 18.4s\n",
      "401:\tlearn: 0.5000429\ttest: 0.5568581\tbest: 0.5567355 (398)\ttotal: 12.3s\tremaining: 18.3s\n",
      "402:\tlearn: 0.5000411\ttest: 0.5568536\tbest: 0.5567355 (398)\ttotal: 12.3s\tremaining: 18.3s\n",
      "403:\tlearn: 0.5000329\ttest: 0.5568416\tbest: 0.5567355 (398)\ttotal: 12.4s\tremaining: 18.2s\n",
      "404:\tlearn: 0.5000148\ttest: 0.5568252\tbest: 0.5567355 (398)\ttotal: 12.4s\tremaining: 18.2s\n",
      "405:\tlearn: 0.5000133\ttest: 0.5568210\tbest: 0.5567355 (398)\ttotal: 12.4s\tremaining: 18.1s\n",
      "406:\tlearn: 0.5000118\ttest: 0.5568169\tbest: 0.5567355 (398)\ttotal: 12.4s\tremaining: 18.1s\n",
      "407:\tlearn: 0.4998876\ttest: 0.5568848\tbest: 0.5567355 (398)\ttotal: 12.5s\tremaining: 18.1s\n",
      "408:\tlearn: 0.4997263\ttest: 0.5568043\tbest: 0.5567355 (398)\ttotal: 12.5s\tremaining: 18.1s\n",
      "409:\tlearn: 0.4997263\ttest: 0.5568041\tbest: 0.5567355 (398)\ttotal: 12.5s\tremaining: 18s\n",
      "410:\tlearn: 0.4993226\ttest: 0.5566470\tbest: 0.5566470 (410)\ttotal: 12.5s\tremaining: 18s\n",
      "411:\tlearn: 0.4993196\ttest: 0.5566502\tbest: 0.5566470 (410)\ttotal: 12.6s\tremaining: 17.9s\n",
      "412:\tlearn: 0.4993051\ttest: 0.5566030\tbest: 0.5566030 (412)\ttotal: 12.6s\tremaining: 17.9s\n",
      "413:\tlearn: 0.4991452\ttest: 0.5565581\tbest: 0.5565581 (413)\ttotal: 12.6s\tremaining: 17.9s\n",
      "414:\tlearn: 0.4988500\ttest: 0.5565470\tbest: 0.5565470 (414)\ttotal: 12.6s\tremaining: 17.8s\n",
      "415:\tlearn: 0.4988500\ttest: 0.5565469\tbest: 0.5565469 (415)\ttotal: 12.7s\tremaining: 17.8s\n",
      "416:\tlearn: 0.4980757\ttest: 0.5562484\tbest: 0.5562484 (416)\ttotal: 12.7s\tremaining: 17.7s\n",
      "417:\tlearn: 0.4980355\ttest: 0.5562408\tbest: 0.5562408 (417)\ttotal: 12.7s\tremaining: 17.7s\n",
      "418:\tlearn: 0.4980330\ttest: 0.5562464\tbest: 0.5562408 (417)\ttotal: 12.7s\tremaining: 17.7s\n",
      "419:\tlearn: 0.4980105\ttest: 0.5562490\tbest: 0.5562408 (417)\ttotal: 12.8s\tremaining: 17.6s\n",
      "420:\tlearn: 0.4978810\ttest: 0.5562202\tbest: 0.5562202 (420)\ttotal: 12.8s\tremaining: 17.6s\n",
      "421:\tlearn: 0.4978086\ttest: 0.5562544\tbest: 0.5562202 (420)\ttotal: 12.8s\tremaining: 17.6s\n",
      "422:\tlearn: 0.4977361\ttest: 0.5562766\tbest: 0.5562202 (420)\ttotal: 12.9s\tremaining: 17.5s\n",
      "423:\tlearn: 0.4977166\ttest: 0.5563001\tbest: 0.5562202 (420)\ttotal: 12.9s\tremaining: 17.5s\n",
      "424:\tlearn: 0.4977156\ttest: 0.5562991\tbest: 0.5562202 (420)\ttotal: 12.9s\tremaining: 17.5s\n",
      "425:\tlearn: 0.4977155\ttest: 0.5562999\tbest: 0.5562202 (420)\ttotal: 12.9s\tremaining: 17.4s\n",
      "426:\tlearn: 0.4977155\ttest: 0.5563007\tbest: 0.5562202 (420)\ttotal: 12.9s\tremaining: 17.4s\n",
      "427:\tlearn: 0.4977154\ttest: 0.5563014\tbest: 0.5562202 (420)\ttotal: 12.9s\tremaining: 17.3s\n",
      "428:\tlearn: 0.4977105\ttest: 0.5563067\tbest: 0.5562202 (420)\ttotal: 13s\tremaining: 17.3s\n",
      "429:\tlearn: 0.4977105\ttest: 0.5563073\tbest: 0.5562202 (420)\ttotal: 13s\tremaining: 17.2s\n",
      "430:\tlearn: 0.4977064\ttest: 0.5563117\tbest: 0.5562202 (420)\ttotal: 13s\tremaining: 17.2s\n",
      "431:\tlearn: 0.4976334\ttest: 0.5562538\tbest: 0.5562202 (420)\ttotal: 13s\tremaining: 17.1s\n",
      "432:\tlearn: 0.4976253\ttest: 0.5562628\tbest: 0.5562202 (420)\ttotal: 13.1s\tremaining: 17.1s\n",
      "433:\tlearn: 0.4972384\ttest: 0.5560029\tbest: 0.5560029 (433)\ttotal: 13.1s\tremaining: 17.1s\n",
      "434:\tlearn: 0.4972380\ttest: 0.5559994\tbest: 0.5559994 (434)\ttotal: 13.1s\tremaining: 17s\n",
      "435:\tlearn: 0.4972357\ttest: 0.5560034\tbest: 0.5559994 (434)\ttotal: 13.1s\tremaining: 17s\n",
      "436:\tlearn: 0.4966239\ttest: 0.5559762\tbest: 0.5559762 (436)\ttotal: 13.2s\tremaining: 17s\n",
      "437:\tlearn: 0.4964012\ttest: 0.5557865\tbest: 0.5557865 (437)\ttotal: 13.2s\tremaining: 16.9s\n",
      "438:\tlearn: 0.4963850\ttest: 0.5557941\tbest: 0.5557865 (437)\ttotal: 13.2s\tremaining: 16.9s\n",
      "439:\tlearn: 0.4963846\ttest: 0.5558026\tbest: 0.5557865 (437)\ttotal: 13.3s\tremaining: 16.9s\n",
      "440:\tlearn: 0.4963701\ttest: 0.5558106\tbest: 0.5557865 (437)\ttotal: 13.3s\tremaining: 16.8s\n",
      "441:\tlearn: 0.4963646\ttest: 0.5558263\tbest: 0.5557865 (437)\ttotal: 13.3s\tremaining: 16.8s\n",
      "442:\tlearn: 0.4963641\ttest: 0.5558344\tbest: 0.5557865 (437)\ttotal: 13.3s\tremaining: 16.8s\n",
      "443:\tlearn: 0.4963600\ttest: 0.5558491\tbest: 0.5557865 (437)\ttotal: 13.4s\tremaining: 16.7s\n",
      "444:\tlearn: 0.4963580\ttest: 0.5558536\tbest: 0.5557865 (437)\ttotal: 13.4s\tremaining: 16.7s\n",
      "445:\tlearn: 0.4963532\ttest: 0.5558692\tbest: 0.5557865 (437)\ttotal: 13.4s\tremaining: 16.7s\n",
      "446:\tlearn: 0.4963421\ttest: 0.5558585\tbest: 0.5557865 (437)\ttotal: 13.4s\tremaining: 16.6s\n",
      "447:\tlearn: 0.4963418\ttest: 0.5558558\tbest: 0.5557865 (437)\ttotal: 13.5s\tremaining: 16.6s\n",
      "448:\tlearn: 0.4963357\ttest: 0.5558261\tbest: 0.5557865 (437)\ttotal: 13.5s\tremaining: 16.6s\n",
      "449:\tlearn: 0.4963301\ttest: 0.5557994\tbest: 0.5557865 (437)\ttotal: 13.5s\tremaining: 16.5s\n",
      "450:\tlearn: 0.4963243\ttest: 0.5557859\tbest: 0.5557859 (450)\ttotal: 13.6s\tremaining: 16.5s\n",
      "451:\tlearn: 0.4963240\ttest: 0.5557929\tbest: 0.5557859 (450)\ttotal: 13.6s\tremaining: 16.5s\n",
      "452:\tlearn: 0.4963192\ttest: 0.5557734\tbest: 0.5557734 (452)\ttotal: 13.6s\tremaining: 16.4s\n",
      "453:\tlearn: 0.4963176\ttest: 0.5557757\tbest: 0.5557734 (452)\ttotal: 13.6s\tremaining: 16.4s\n",
      "454:\tlearn: 0.4963135\ttest: 0.5557582\tbest: 0.5557582 (454)\ttotal: 13.7s\tremaining: 16.4s\n",
      "455:\tlearn: 0.4963119\ttest: 0.5557612\tbest: 0.5557582 (454)\ttotal: 13.7s\tremaining: 16.3s\n",
      "456:\tlearn: 0.4963103\ttest: 0.5557644\tbest: 0.5557582 (454)\ttotal: 13.7s\tremaining: 16.3s\n",
      "457:\tlearn: 0.4962642\ttest: 0.5557341\tbest: 0.5557341 (457)\ttotal: 13.7s\tremaining: 16.3s\n",
      "458:\tlearn: 0.4962639\ttest: 0.5557403\tbest: 0.5557341 (457)\ttotal: 13.8s\tremaining: 16.2s\n",
      "459:\tlearn: 0.4962637\ttest: 0.5557464\tbest: 0.5557341 (457)\ttotal: 13.8s\tremaining: 16.2s\n",
      "460:\tlearn: 0.4962635\ttest: 0.5557522\tbest: 0.5557341 (457)\ttotal: 13.8s\tremaining: 16.1s\n",
      "461:\tlearn: 0.4962620\ttest: 0.5557551\tbest: 0.5557341 (457)\ttotal: 13.8s\tremaining: 16.1s\n",
      "462:\tlearn: 0.4962609\ttest: 0.5557599\tbest: 0.5557341 (457)\ttotal: 13.9s\tremaining: 16.1s\n",
      "463:\tlearn: 0.4962595\ttest: 0.5557631\tbest: 0.5557341 (457)\ttotal: 13.9s\tremaining: 16s\n",
      "464:\tlearn: 0.4962594\ttest: 0.5557687\tbest: 0.5557341 (457)\ttotal: 13.9s\tremaining: 16s\n",
      "465:\tlearn: 0.4962551\ttest: 0.5557512\tbest: 0.5557341 (457)\ttotal: 13.9s\tremaining: 16s\n",
      "466:\tlearn: 0.4962531\ttest: 0.5557567\tbest: 0.5557341 (457)\ttotal: 14s\tremaining: 15.9s\n",
      "467:\tlearn: 0.4962389\ttest: 0.5557571\tbest: 0.5557341 (457)\ttotal: 14s\tremaining: 15.9s\n",
      "468:\tlearn: 0.4960678\ttest: 0.5556731\tbest: 0.5556731 (468)\ttotal: 14s\tremaining: 15.9s\n",
      "469:\tlearn: 0.4954927\ttest: 0.5556109\tbest: 0.5556109 (469)\ttotal: 14s\tremaining: 15.8s\n",
      "470:\tlearn: 0.4954857\ttest: 0.5556126\tbest: 0.5556109 (469)\ttotal: 14.1s\tremaining: 15.8s\n",
      "471:\tlearn: 0.4954187\ttest: 0.5555908\tbest: 0.5555908 (471)\ttotal: 14.1s\tremaining: 15.8s\n",
      "472:\tlearn: 0.4953985\ttest: 0.5555856\tbest: 0.5555856 (472)\ttotal: 14.1s\tremaining: 15.7s\n",
      "473:\tlearn: 0.4952090\ttest: 0.5555295\tbest: 0.5555295 (473)\ttotal: 14.2s\tremaining: 15.7s\n",
      "474:\tlearn: 0.4951756\ttest: 0.5555528\tbest: 0.5555295 (473)\ttotal: 14.2s\tremaining: 15.7s\n",
      "475:\tlearn: 0.4950191\ttest: 0.5555037\tbest: 0.5555037 (475)\ttotal: 14.2s\tremaining: 15.6s\n",
      "476:\tlearn: 0.4950034\ttest: 0.5555014\tbest: 0.5555014 (476)\ttotal: 14.2s\tremaining: 15.6s\n",
      "477:\tlearn: 0.4949949\ttest: 0.5554911\tbest: 0.5554911 (477)\ttotal: 14.3s\tremaining: 15.6s\n",
      "478:\tlearn: 0.4949769\ttest: 0.5555194\tbest: 0.5554911 (477)\ttotal: 14.3s\tremaining: 15.5s\n",
      "479:\tlearn: 0.4949763\ttest: 0.5555244\tbest: 0.5554911 (477)\ttotal: 14.3s\tremaining: 15.5s\n",
      "480:\tlearn: 0.4949686\ttest: 0.5555147\tbest: 0.5554911 (477)\ttotal: 14.3s\tremaining: 15.5s\n",
      "481:\tlearn: 0.4949654\ttest: 0.5555185\tbest: 0.5554911 (477)\ttotal: 14.4s\tremaining: 15.4s\n",
      "482:\tlearn: 0.4949625\ttest: 0.5555220\tbest: 0.5554911 (477)\ttotal: 14.4s\tremaining: 15.4s\n",
      "483:\tlearn: 0.4949596\ttest: 0.5555256\tbest: 0.5554911 (477)\ttotal: 14.4s\tremaining: 15.4s\n",
      "484:\tlearn: 0.4949571\ttest: 0.5555289\tbest: 0.5554911 (477)\ttotal: 14.4s\tremaining: 15.3s\n",
      "485:\tlearn: 0.4946497\ttest: 0.5554049\tbest: 0.5554049 (485)\ttotal: 14.5s\tremaining: 15.3s\n",
      "486:\tlearn: 0.4946463\ttest: 0.5554047\tbest: 0.5554047 (486)\ttotal: 14.5s\tremaining: 15.3s\n",
      "487:\tlearn: 0.4946456\ttest: 0.5554101\tbest: 0.5554047 (486)\ttotal: 14.5s\tremaining: 15.2s\n",
      "488:\tlearn: 0.4945110\ttest: 0.5553618\tbest: 0.5553618 (488)\ttotal: 14.5s\tremaining: 15.2s\n",
      "489:\tlearn: 0.4945109\ttest: 0.5553624\tbest: 0.5553618 (488)\ttotal: 14.6s\tremaining: 15.2s\n",
      "490:\tlearn: 0.4944892\ttest: 0.5553414\tbest: 0.5553414 (490)\ttotal: 14.6s\tremaining: 15.1s\n",
      "491:\tlearn: 0.4943848\ttest: 0.5553613\tbest: 0.5553414 (490)\ttotal: 14.6s\tremaining: 15.1s\n",
      "492:\tlearn: 0.4943837\ttest: 0.5553625\tbest: 0.5553414 (490)\ttotal: 14.6s\tremaining: 15.1s\n",
      "493:\tlearn: 0.4943833\ttest: 0.5553643\tbest: 0.5553414 (490)\ttotal: 14.7s\tremaining: 15s\n",
      "494:\tlearn: 0.4943833\ttest: 0.5553656\tbest: 0.5553414 (490)\ttotal: 14.7s\tremaining: 15s\n",
      "495:\tlearn: 0.4943771\ttest: 0.5553645\tbest: 0.5553414 (490)\ttotal: 14.7s\tremaining: 14.9s\n",
      "496:\tlearn: 0.4943771\ttest: 0.5553656\tbest: 0.5553414 (490)\ttotal: 14.7s\tremaining: 14.9s\n",
      "497:\tlearn: 0.4943761\ttest: 0.5553666\tbest: 0.5553414 (490)\ttotal: 14.7s\tremaining: 14.9s\n",
      "498:\tlearn: 0.4943698\ttest: 0.5553517\tbest: 0.5553414 (490)\ttotal: 14.8s\tremaining: 14.8s\n",
      "499:\tlearn: 0.4943676\ttest: 0.5553546\tbest: 0.5553414 (490)\ttotal: 14.8s\tremaining: 14.8s\n",
      "500:\tlearn: 0.4943671\ttest: 0.5553574\tbest: 0.5553414 (490)\ttotal: 14.8s\tremaining: 14.8s\n",
      "501:\tlearn: 0.4943665\ttest: 0.5553699\tbest: 0.5553414 (490)\ttotal: 14.8s\tremaining: 14.7s\n",
      "502:\tlearn: 0.4943661\ttest: 0.5553721\tbest: 0.5553414 (490)\ttotal: 14.9s\tremaining: 14.7s\n",
      "503:\tlearn: 0.4943597\ttest: 0.5553641\tbest: 0.5553414 (490)\ttotal: 14.9s\tremaining: 14.7s\n",
      "504:\tlearn: 0.4943563\ttest: 0.5553649\tbest: 0.5553414 (490)\ttotal: 14.9s\tremaining: 14.6s\n",
      "505:\tlearn: 0.4943563\ttest: 0.5553660\tbest: 0.5553414 (490)\ttotal: 14.9s\tremaining: 14.6s\n",
      "506:\tlearn: 0.4943422\ttest: 0.5553601\tbest: 0.5553414 (490)\ttotal: 15s\tremaining: 14.5s\n",
      "507:\tlearn: 0.4943404\ttest: 0.5553624\tbest: 0.5553414 (490)\ttotal: 15s\tremaining: 14.5s\n",
      "508:\tlearn: 0.4943404\ttest: 0.5553634\tbest: 0.5553414 (490)\ttotal: 15s\tremaining: 14.5s\n",
      "509:\tlearn: 0.4943388\ttest: 0.5553655\tbest: 0.5553414 (490)\ttotal: 15s\tremaining: 14.4s\n",
      "510:\tlearn: 0.4943385\ttest: 0.5553672\tbest: 0.5553414 (490)\ttotal: 15s\tremaining: 14.4s\n",
      "511:\tlearn: 0.4943385\ttest: 0.5553679\tbest: 0.5553414 (490)\ttotal: 15s\tremaining: 14.3s\n",
      "512:\tlearn: 0.4941564\ttest: 0.5551696\tbest: 0.5551696 (512)\ttotal: 15.1s\tremaining: 14.3s\n",
      "513:\tlearn: 0.4940235\ttest: 0.5550431\tbest: 0.5550431 (513)\ttotal: 15.1s\tremaining: 14.3s\n",
      "514:\tlearn: 0.4940221\ttest: 0.5550457\tbest: 0.5550431 (513)\ttotal: 15.1s\tremaining: 14.3s\n",
      "515:\tlearn: 0.4940111\ttest: 0.5550277\tbest: 0.5550277 (515)\ttotal: 15.2s\tremaining: 14.2s\n",
      "516:\tlearn: 0.4933833\ttest: 0.5551554\tbest: 0.5550277 (515)\ttotal: 15.2s\tremaining: 14.2s\n",
      "517:\tlearn: 0.4927644\ttest: 0.5548215\tbest: 0.5548215 (517)\ttotal: 15.2s\tremaining: 14.2s\n",
      "518:\tlearn: 0.4927547\ttest: 0.5548004\tbest: 0.5548004 (518)\ttotal: 15.3s\tremaining: 14.1s\n",
      "519:\tlearn: 0.4927374\ttest: 0.5548280\tbest: 0.5548004 (518)\ttotal: 15.3s\tremaining: 14.1s\n",
      "520:\tlearn: 0.4926315\ttest: 0.5547742\tbest: 0.5547742 (520)\ttotal: 15.3s\tremaining: 14.1s\n",
      "521:\tlearn: 0.4926314\ttest: 0.5547718\tbest: 0.5547718 (521)\ttotal: 15.3s\tremaining: 14.1s\n",
      "522:\tlearn: 0.4926313\ttest: 0.5547694\tbest: 0.5547694 (522)\ttotal: 15.4s\tremaining: 14s\n",
      "523:\tlearn: 0.4924693\ttest: 0.5547619\tbest: 0.5547619 (523)\ttotal: 15.4s\tremaining: 14s\n",
      "524:\tlearn: 0.4922604\ttest: 0.5546958\tbest: 0.5546958 (524)\ttotal: 15.4s\tremaining: 14s\n",
      "525:\tlearn: 0.4922503\ttest: 0.5546972\tbest: 0.5546958 (524)\ttotal: 15.5s\tremaining: 13.9s\n",
      "526:\tlearn: 0.4919594\ttest: 0.5546184\tbest: 0.5546184 (526)\ttotal: 15.5s\tremaining: 13.9s\n",
      "527:\tlearn: 0.4919559\ttest: 0.5546189\tbest: 0.5546184 (526)\ttotal: 15.5s\tremaining: 13.9s\n",
      "528:\tlearn: 0.4919126\ttest: 0.5546510\tbest: 0.5546184 (526)\ttotal: 15.5s\tremaining: 13.8s\n",
      "529:\tlearn: 0.4919122\ttest: 0.5546509\tbest: 0.5546184 (526)\ttotal: 15.6s\tremaining: 13.8s\n",
      "530:\tlearn: 0.4918992\ttest: 0.5546193\tbest: 0.5546184 (526)\ttotal: 15.6s\tremaining: 13.8s\n",
      "531:\tlearn: 0.4918939\ttest: 0.5546207\tbest: 0.5546184 (526)\ttotal: 15.6s\tremaining: 13.7s\n",
      "532:\tlearn: 0.4918926\ttest: 0.5546215\tbest: 0.5546184 (526)\ttotal: 15.6s\tremaining: 13.7s\n",
      "533:\tlearn: 0.4918836\ttest: 0.5546227\tbest: 0.5546184 (526)\ttotal: 15.7s\tremaining: 13.7s\n",
      "534:\tlearn: 0.4918836\ttest: 0.5546204\tbest: 0.5546184 (526)\ttotal: 15.7s\tremaining: 13.6s\n",
      "535:\tlearn: 0.4918816\ttest: 0.5546303\tbest: 0.5546184 (526)\ttotal: 15.7s\tremaining: 13.6s\n",
      "536:\tlearn: 0.4918804\ttest: 0.5546310\tbest: 0.5546184 (526)\ttotal: 15.7s\tremaining: 13.6s\n",
      "537:\tlearn: 0.4914412\ttest: 0.5546801\tbest: 0.5546184 (526)\ttotal: 15.8s\tremaining: 13.5s\n",
      "538:\tlearn: 0.4914351\ttest: 0.5546778\tbest: 0.5546184 (526)\ttotal: 15.8s\tremaining: 13.5s\n",
      "539:\tlearn: 0.4914351\ttest: 0.5546753\tbest: 0.5546184 (526)\ttotal: 15.8s\tremaining: 13.5s\n",
      "540:\tlearn: 0.4914242\ttest: 0.5546491\tbest: 0.5546184 (526)\ttotal: 15.8s\tremaining: 13.4s\n",
      "541:\tlearn: 0.4914230\ttest: 0.5546498\tbest: 0.5546184 (526)\ttotal: 15.9s\tremaining: 13.4s\n",
      "542:\tlearn: 0.4914216\ttest: 0.5546609\tbest: 0.5546184 (526)\ttotal: 15.9s\tremaining: 13.4s\n",
      "543:\tlearn: 0.4909468\ttest: 0.5544732\tbest: 0.5544732 (543)\ttotal: 15.9s\tremaining: 13.3s\n",
      "544:\tlearn: 0.4907809\ttest: 0.5544315\tbest: 0.5544315 (544)\ttotal: 15.9s\tremaining: 13.3s\n",
      "545:\tlearn: 0.4907768\ttest: 0.5544329\tbest: 0.5544315 (544)\ttotal: 16s\tremaining: 13.3s\n",
      "546:\tlearn: 0.4907749\ttest: 0.5544341\tbest: 0.5544315 (544)\ttotal: 16s\tremaining: 13.3s\n",
      "547:\tlearn: 0.4907703\ttest: 0.5544327\tbest: 0.5544315 (544)\ttotal: 16s\tremaining: 13.2s\n",
      "548:\tlearn: 0.4907610\ttest: 0.5544112\tbest: 0.5544112 (548)\ttotal: 16.1s\tremaining: 13.2s\n",
      "549:\tlearn: 0.4906756\ttest: 0.5544159\tbest: 0.5544112 (548)\ttotal: 16.1s\tremaining: 13.2s\n",
      "550:\tlearn: 0.4906751\ttest: 0.5544272\tbest: 0.5544112 (548)\ttotal: 16.1s\tremaining: 13.1s\n",
      "551:\tlearn: 0.4906553\ttest: 0.5544093\tbest: 0.5544093 (551)\ttotal: 16.1s\tremaining: 13.1s\n",
      "552:\tlearn: 0.4906537\ttest: 0.5544110\tbest: 0.5544093 (551)\ttotal: 16.2s\tremaining: 13.1s\n",
      "553:\tlearn: 0.4904810\ttest: 0.5543601\tbest: 0.5543601 (553)\ttotal: 16.2s\tremaining: 13s\n",
      "554:\tlearn: 0.4904802\ttest: 0.5543612\tbest: 0.5543601 (553)\ttotal: 16.2s\tremaining: 13s\n",
      "555:\tlearn: 0.4904739\ttest: 0.5543485\tbest: 0.5543485 (555)\ttotal: 16.2s\tremaining: 13s\n",
      "556:\tlearn: 0.4904718\ttest: 0.5543551\tbest: 0.5543485 (555)\ttotal: 16.3s\tremaining: 12.9s\n",
      "557:\tlearn: 0.4904687\ttest: 0.5543573\tbest: 0.5543485 (555)\ttotal: 16.3s\tremaining: 12.9s\n",
      "558:\tlearn: 0.4904685\ttest: 0.5543589\tbest: 0.5543485 (555)\ttotal: 16.3s\tremaining: 12.9s\n",
      "559:\tlearn: 0.4900316\ttest: 0.5543834\tbest: 0.5543485 (555)\ttotal: 16.3s\tremaining: 12.8s\n",
      "560:\tlearn: 0.4899139\ttest: 0.5543763\tbest: 0.5543485 (555)\ttotal: 16.4s\tremaining: 12.8s\n",
      "561:\tlearn: 0.4899137\ttest: 0.5543768\tbest: 0.5543485 (555)\ttotal: 16.4s\tremaining: 12.8s\n",
      "562:\tlearn: 0.4899131\ttest: 0.5543755\tbest: 0.5543485 (555)\ttotal: 16.4s\tremaining: 12.7s\n",
      "563:\tlearn: 0.4899045\ttest: 0.5543862\tbest: 0.5543485 (555)\ttotal: 16.4s\tremaining: 12.7s\n",
      "564:\tlearn: 0.4899039\ttest: 0.5543849\tbest: 0.5543485 (555)\ttotal: 16.5s\tremaining: 12.7s\n",
      "565:\tlearn: 0.4899025\ttest: 0.5543898\tbest: 0.5543485 (555)\ttotal: 16.5s\tremaining: 12.6s\n",
      "566:\tlearn: 0.4898222\ttest: 0.5543352\tbest: 0.5543352 (566)\ttotal: 16.5s\tremaining: 12.6s\n",
      "567:\tlearn: 0.4898183\ttest: 0.5543366\tbest: 0.5543352 (566)\ttotal: 16.5s\tremaining: 12.6s\n",
      "568:\tlearn: 0.4897962\ttest: 0.5543759\tbest: 0.5543352 (566)\ttotal: 16.6s\tremaining: 12.6s\n",
      "569:\tlearn: 0.4897441\ttest: 0.5543891\tbest: 0.5543352 (566)\ttotal: 16.6s\tremaining: 12.5s\n",
      "570:\tlearn: 0.4897429\ttest: 0.5543937\tbest: 0.5543352 (566)\ttotal: 16.6s\tremaining: 12.5s\n",
      "571:\tlearn: 0.4897415\ttest: 0.5543948\tbest: 0.5543352 (566)\ttotal: 16.7s\tremaining: 12.5s\n",
      "572:\tlearn: 0.4896862\ttest: 0.5544076\tbest: 0.5543352 (566)\ttotal: 16.7s\tremaining: 12.4s\n",
      "573:\tlearn: 0.4896813\ttest: 0.5544042\tbest: 0.5543352 (566)\ttotal: 16.8s\tremaining: 12.4s\n",
      "574:\tlearn: 0.4896805\ttest: 0.5544107\tbest: 0.5543352 (566)\ttotal: 16.8s\tremaining: 12.4s\n",
      "575:\tlearn: 0.4895234\ttest: 0.5545281\tbest: 0.5543352 (566)\ttotal: 16.8s\tremaining: 12.4s\n",
      "576:\tlearn: 0.4895223\ttest: 0.5545325\tbest: 0.5543352 (566)\ttotal: 16.8s\tremaining: 12.3s\n",
      "577:\tlearn: 0.4895214\ttest: 0.5545411\tbest: 0.5543352 (566)\ttotal: 16.9s\tremaining: 12.3s\n",
      "578:\tlearn: 0.4892387\ttest: 0.5544526\tbest: 0.5543352 (566)\ttotal: 16.9s\tremaining: 12.3s\n",
      "579:\tlearn: 0.4892386\ttest: 0.5544533\tbest: 0.5543352 (566)\ttotal: 16.9s\tremaining: 12.2s\n",
      "580:\tlearn: 0.4892375\ttest: 0.5544574\tbest: 0.5543352 (566)\ttotal: 16.9s\tremaining: 12.2s\n",
      "581:\tlearn: 0.4892366\ttest: 0.5544614\tbest: 0.5543352 (566)\ttotal: 17s\tremaining: 12.2s\n",
      "582:\tlearn: 0.4892205\ttest: 0.5544334\tbest: 0.5543352 (566)\ttotal: 17s\tremaining: 12.2s\n",
      "583:\tlearn: 0.4892191\ttest: 0.5544336\tbest: 0.5543352 (566)\ttotal: 17s\tremaining: 12.1s\n",
      "584:\tlearn: 0.4891319\ttest: 0.5544640\tbest: 0.5543352 (566)\ttotal: 17.1s\tremaining: 12.1s\n",
      "585:\tlearn: 0.4891305\ttest: 0.5544643\tbest: 0.5543352 (566)\ttotal: 17.1s\tremaining: 12.1s\n",
      "586:\tlearn: 0.4891306\ttest: 0.5544641\tbest: 0.5543352 (566)\ttotal: 17.1s\tremaining: 12s\n",
      "587:\tlearn: 0.4891306\ttest: 0.5544639\tbest: 0.5543352 (566)\ttotal: 17.1s\tremaining: 12s\n",
      "588:\tlearn: 0.4891305\ttest: 0.5544636\tbest: 0.5543352 (566)\ttotal: 17.2s\tremaining: 12s\n",
      "589:\tlearn: 0.4891305\ttest: 0.5544633\tbest: 0.5543352 (566)\ttotal: 17.2s\tremaining: 11.9s\n",
      "590:\tlearn: 0.4891016\ttest: 0.5544387\tbest: 0.5543352 (566)\ttotal: 17.2s\tremaining: 11.9s\n",
      "591:\tlearn: 0.4891008\ttest: 0.5544429\tbest: 0.5543352 (566)\ttotal: 17.2s\tremaining: 11.9s\n",
      "592:\tlearn: 0.4886814\ttest: 0.5544086\tbest: 0.5543352 (566)\ttotal: 17.3s\tremaining: 11.9s\n",
      "593:\tlearn: 0.4886808\ttest: 0.5544124\tbest: 0.5543352 (566)\ttotal: 17.3s\tremaining: 11.8s\n",
      "594:\tlearn: 0.4886805\ttest: 0.5544164\tbest: 0.5543352 (566)\ttotal: 17.3s\tremaining: 11.8s\n",
      "595:\tlearn: 0.4886800\ttest: 0.5544198\tbest: 0.5543352 (566)\ttotal: 17.4s\tremaining: 11.8s\n",
      "596:\tlearn: 0.4884603\ttest: 0.5542254\tbest: 0.5542254 (596)\ttotal: 17.4s\tremaining: 11.7s\n",
      "597:\tlearn: 0.4884022\ttest: 0.5541635\tbest: 0.5541635 (597)\ttotal: 17.4s\tremaining: 11.7s\n",
      "598:\tlearn: 0.4884017\ttest: 0.5541662\tbest: 0.5541635 (597)\ttotal: 17.4s\tremaining: 11.7s\n",
      "599:\tlearn: 0.4879371\ttest: 0.5542074\tbest: 0.5541635 (597)\ttotal: 17.5s\tremaining: 11.7s\n",
      "600:\tlearn: 0.4879366\ttest: 0.5542096\tbest: 0.5541635 (597)\ttotal: 17.5s\tremaining: 11.6s\n",
      "601:\tlearn: 0.4878448\ttest: 0.5541454\tbest: 0.5541454 (601)\ttotal: 17.5s\tremaining: 11.6s\n",
      "602:\tlearn: 0.4878444\ttest: 0.5541477\tbest: 0.5541454 (601)\ttotal: 17.6s\tremaining: 11.6s\n",
      "603:\tlearn: 0.4878440\ttest: 0.5541498\tbest: 0.5541454 (601)\ttotal: 17.6s\tremaining: 11.5s\n",
      "604:\tlearn: 0.4878434\ttest: 0.5541483\tbest: 0.5541454 (601)\ttotal: 17.6s\tremaining: 11.5s\n",
      "605:\tlearn: 0.4878430\ttest: 0.5541503\tbest: 0.5541454 (601)\ttotal: 17.6s\tremaining: 11.5s\n",
      "606:\tlearn: 0.4875870\ttest: 0.5542713\tbest: 0.5541454 (601)\ttotal: 17.7s\tremaining: 11.4s\n",
      "607:\tlearn: 0.4870912\ttest: 0.5542496\tbest: 0.5541454 (601)\ttotal: 17.7s\tremaining: 11.4s\n",
      "608:\tlearn: 0.4870755\ttest: 0.5543074\tbest: 0.5541454 (601)\ttotal: 17.7s\tremaining: 11.4s\n",
      "609:\tlearn: 0.4870751\ttest: 0.5543090\tbest: 0.5541454 (601)\ttotal: 17.8s\tremaining: 11.3s\n",
      "610:\tlearn: 0.4870725\ttest: 0.5543128\tbest: 0.5541454 (601)\ttotal: 17.8s\tremaining: 11.3s\n",
      "611:\tlearn: 0.4870704\ttest: 0.5543163\tbest: 0.5541454 (601)\ttotal: 17.8s\tremaining: 11.3s\n",
      "612:\tlearn: 0.4870674\ttest: 0.5543239\tbest: 0.5541454 (601)\ttotal: 17.8s\tremaining: 11.3s\n",
      "613:\tlearn: 0.4870552\ttest: 0.5543304\tbest: 0.5541454 (601)\ttotal: 17.9s\tremaining: 11.3s\n",
      "614:\tlearn: 0.4870359\ttest: 0.5543331\tbest: 0.5541454 (601)\ttotal: 17.9s\tremaining: 11.2s\n",
      "615:\tlearn: 0.4870356\ttest: 0.5543349\tbest: 0.5541454 (601)\ttotal: 18s\tremaining: 11.2s\n",
      "616:\tlearn: 0.4870340\ttest: 0.5543332\tbest: 0.5541454 (601)\ttotal: 18s\tremaining: 11.2s\n",
      "617:\tlearn: 0.4870338\ttest: 0.5543351\tbest: 0.5541454 (601)\ttotal: 18s\tremaining: 11.1s\n",
      "618:\tlearn: 0.4868268\ttest: 0.5543741\tbest: 0.5541454 (601)\ttotal: 18.1s\tremaining: 11.1s\n",
      "619:\tlearn: 0.4868265\ttest: 0.5543754\tbest: 0.5541454 (601)\ttotal: 18.1s\tremaining: 11.1s\n",
      "620:\tlearn: 0.4868264\ttest: 0.5543765\tbest: 0.5541454 (601)\ttotal: 18.1s\tremaining: 11.1s\n",
      "621:\tlearn: 0.4868263\ttest: 0.5543777\tbest: 0.5541454 (601)\ttotal: 18.1s\tremaining: 11s\n",
      "622:\tlearn: 0.4868261\ttest: 0.5543787\tbest: 0.5541454 (601)\ttotal: 18.2s\tremaining: 11s\n",
      "623:\tlearn: 0.4868259\ttest: 0.5543797\tbest: 0.5541454 (601)\ttotal: 18.2s\tremaining: 11s\n",
      "624:\tlearn: 0.4868258\ttest: 0.5543805\tbest: 0.5541454 (601)\ttotal: 18.2s\tremaining: 10.9s\n",
      "625:\tlearn: 0.4868257\ttest: 0.5543815\tbest: 0.5541454 (601)\ttotal: 18.2s\tremaining: 10.9s\n",
      "626:\tlearn: 0.4868256\ttest: 0.5543825\tbest: 0.5541454 (601)\ttotal: 18.3s\tremaining: 10.9s\n",
      "627:\tlearn: 0.4868254\ttest: 0.5543833\tbest: 0.5541454 (601)\ttotal: 18.3s\tremaining: 10.8s\n",
      "628:\tlearn: 0.4868253\ttest: 0.5543841\tbest: 0.5541454 (601)\ttotal: 18.3s\tremaining: 10.8s\n",
      "629:\tlearn: 0.4868253\ttest: 0.5543849\tbest: 0.5541454 (601)\ttotal: 18.4s\tremaining: 10.8s\n",
      "630:\tlearn: 0.4866479\ttest: 0.5543614\tbest: 0.5541454 (601)\ttotal: 18.4s\tremaining: 10.8s\n",
      "631:\tlearn: 0.4866478\ttest: 0.5543619\tbest: 0.5541454 (601)\ttotal: 18.4s\tremaining: 10.7s\n",
      "632:\tlearn: 0.4864389\ttest: 0.5544514\tbest: 0.5541454 (601)\ttotal: 18.4s\tremaining: 10.7s\n",
      "633:\tlearn: 0.4863612\ttest: 0.5543988\tbest: 0.5541454 (601)\ttotal: 18.5s\tremaining: 10.7s\n",
      "634:\tlearn: 0.4863612\ttest: 0.5543996\tbest: 0.5541454 (601)\ttotal: 18.5s\tremaining: 10.6s\n",
      "635:\tlearn: 0.4860371\ttest: 0.5544278\tbest: 0.5541454 (601)\ttotal: 18.5s\tremaining: 10.6s\n",
      "636:\tlearn: 0.4859939\ttest: 0.5544849\tbest: 0.5541454 (601)\ttotal: 18.5s\tremaining: 10.6s\n",
      "637:\tlearn: 0.4859939\ttest: 0.5544861\tbest: 0.5541454 (601)\ttotal: 18.6s\tremaining: 10.5s\n",
      "638:\tlearn: 0.4859939\ttest: 0.5544873\tbest: 0.5541454 (601)\ttotal: 18.6s\tremaining: 10.5s\n",
      "639:\tlearn: 0.4859939\ttest: 0.5544883\tbest: 0.5541454 (601)\ttotal: 18.6s\tremaining: 10.5s\n",
      "640:\tlearn: 0.4858396\ttest: 0.5544657\tbest: 0.5541454 (601)\ttotal: 18.7s\tremaining: 10.4s\n",
      "641:\tlearn: 0.4855397\ttest: 0.5543200\tbest: 0.5541454 (601)\ttotal: 18.7s\tremaining: 10.4s\n",
      "642:\tlearn: 0.4855363\ttest: 0.5543181\tbest: 0.5541454 (601)\ttotal: 18.7s\tremaining: 10.4s\n",
      "643:\tlearn: 0.4855224\ttest: 0.5542992\tbest: 0.5541454 (601)\ttotal: 18.7s\tremaining: 10.4s\n",
      "644:\tlearn: 0.4855223\ttest: 0.5542999\tbest: 0.5541454 (601)\ttotal: 18.8s\tremaining: 10.3s\n",
      "645:\tlearn: 0.4854762\ttest: 0.5543194\tbest: 0.5541454 (601)\ttotal: 18.8s\tremaining: 10.3s\n",
      "646:\tlearn: 0.4854762\ttest: 0.5543201\tbest: 0.5541454 (601)\ttotal: 18.8s\tremaining: 10.3s\n",
      "647:\tlearn: 0.4854761\ttest: 0.5543205\tbest: 0.5541454 (601)\ttotal: 18.9s\tremaining: 10.2s\n",
      "648:\tlearn: 0.4851559\ttest: 0.5540313\tbest: 0.5540313 (648)\ttotal: 18.9s\tremaining: 10.2s\n",
      "649:\tlearn: 0.4851375\ttest: 0.5540304\tbest: 0.5540304 (649)\ttotal: 18.9s\tremaining: 10.2s\n",
      "650:\tlearn: 0.4851375\ttest: 0.5540313\tbest: 0.5540304 (649)\ttotal: 18.9s\tremaining: 10.1s\n",
      "651:\tlearn: 0.4848768\ttest: 0.5539824\tbest: 0.5539824 (651)\ttotal: 19s\tremaining: 10.1s\n",
      "652:\tlearn: 0.4848699\ttest: 0.5539809\tbest: 0.5539809 (652)\ttotal: 19s\tremaining: 10.1s\n",
      "653:\tlearn: 0.4847773\ttest: 0.5538885\tbest: 0.5538885 (653)\ttotal: 19s\tremaining: 10.1s\n",
      "654:\tlearn: 0.4847773\ttest: 0.5538883\tbest: 0.5538883 (654)\ttotal: 19s\tremaining: 10s\n",
      "655:\tlearn: 0.4847613\ttest: 0.5538913\tbest: 0.5538883 (654)\ttotal: 19.1s\tremaining: 9.99s\n",
      "656:\tlearn: 0.4847613\ttest: 0.5538927\tbest: 0.5538883 (654)\ttotal: 19.1s\tremaining: 9.96s\n",
      "657:\tlearn: 0.4846528\ttest: 0.5539044\tbest: 0.5538883 (654)\ttotal: 19.1s\tremaining: 9.93s\n",
      "658:\tlearn: 0.4845353\ttest: 0.5539455\tbest: 0.5538883 (654)\ttotal: 19.1s\tremaining: 9.9s\n",
      "659:\tlearn: 0.4845352\ttest: 0.5539464\tbest: 0.5538883 (654)\ttotal: 19.1s\tremaining: 9.86s\n",
      "660:\tlearn: 0.4844932\ttest: 0.5538867\tbest: 0.5538867 (660)\ttotal: 19.2s\tremaining: 9.83s\n",
      "661:\tlearn: 0.4844932\ttest: 0.5538874\tbest: 0.5538867 (660)\ttotal: 19.2s\tremaining: 9.8s\n",
      "662:\tlearn: 0.4844443\ttest: 0.5539221\tbest: 0.5538867 (660)\ttotal: 19.2s\tremaining: 9.77s\n",
      "663:\tlearn: 0.4844314\ttest: 0.5539241\tbest: 0.5538867 (660)\ttotal: 19.2s\tremaining: 9.74s\n",
      "664:\tlearn: 0.4841487\ttest: 0.5538229\tbest: 0.5538229 (664)\ttotal: 19.3s\tremaining: 9.71s\n",
      "665:\tlearn: 0.4841487\ttest: 0.5538234\tbest: 0.5538229 (664)\ttotal: 19.3s\tremaining: 9.67s\n",
      "666:\tlearn: 0.4841487\ttest: 0.5538239\tbest: 0.5538229 (664)\ttotal: 19.3s\tremaining: 9.64s\n",
      "667:\tlearn: 0.4837630\ttest: 0.5536696\tbest: 0.5536696 (667)\ttotal: 19.3s\tremaining: 9.61s\n",
      "668:\tlearn: 0.4836315\ttest: 0.5535938\tbest: 0.5535938 (668)\ttotal: 19.4s\tremaining: 9.58s\n",
      "669:\tlearn: 0.4836277\ttest: 0.5535843\tbest: 0.5535843 (669)\ttotal: 19.4s\tremaining: 9.55s\n",
      "670:\tlearn: 0.4834937\ttest: 0.5535414\tbest: 0.5535414 (670)\ttotal: 19.4s\tremaining: 9.53s\n",
      "671:\tlearn: 0.4833030\ttest: 0.5536104\tbest: 0.5535414 (670)\ttotal: 19.5s\tremaining: 9.5s\n",
      "672:\tlearn: 0.4830496\ttest: 0.5535068\tbest: 0.5535068 (672)\ttotal: 19.5s\tremaining: 9.47s\n",
      "673:\tlearn: 0.4830215\ttest: 0.5534941\tbest: 0.5534941 (673)\ttotal: 19.5s\tremaining: 9.44s\n",
      "674:\tlearn: 0.4827978\ttest: 0.5535592\tbest: 0.5534941 (673)\ttotal: 19.5s\tremaining: 9.41s\n",
      "675:\tlearn: 0.4827860\ttest: 0.5535383\tbest: 0.5534941 (673)\ttotal: 19.6s\tremaining: 9.38s\n",
      "676:\tlearn: 0.4827840\ttest: 0.5535365\tbest: 0.5534941 (673)\ttotal: 19.6s\tremaining: 9.35s\n",
      "677:\tlearn: 0.4827840\ttest: 0.5535375\tbest: 0.5534941 (673)\ttotal: 19.6s\tremaining: 9.32s\n",
      "678:\tlearn: 0.4827840\ttest: 0.5535383\tbest: 0.5534941 (673)\ttotal: 19.7s\tremaining: 9.29s\n",
      "679:\tlearn: 0.4826197\ttest: 0.5535684\tbest: 0.5534941 (673)\ttotal: 19.7s\tremaining: 9.27s\n",
      "680:\tlearn: 0.4826128\ttest: 0.5535703\tbest: 0.5534941 (673)\ttotal: 19.7s\tremaining: 9.25s\n",
      "681:\tlearn: 0.4826127\ttest: 0.5535712\tbest: 0.5534941 (673)\ttotal: 19.8s\tremaining: 9.22s\n",
      "682:\tlearn: 0.4826127\ttest: 0.5535719\tbest: 0.5534941 (673)\ttotal: 19.8s\tremaining: 9.19s\n",
      "683:\tlearn: 0.4826127\ttest: 0.5535727\tbest: 0.5534941 (673)\ttotal: 19.8s\tremaining: 9.16s\n",
      "684:\tlearn: 0.4825572\ttest: 0.5535861\tbest: 0.5534941 (673)\ttotal: 19.9s\tremaining: 9.14s\n",
      "685:\tlearn: 0.4825572\ttest: 0.5535869\tbest: 0.5534941 (673)\ttotal: 19.9s\tremaining: 9.11s\n",
      "686:\tlearn: 0.4825572\ttest: 0.5535875\tbest: 0.5534941 (673)\ttotal: 19.9s\tremaining: 9.09s\n",
      "687:\tlearn: 0.4825572\ttest: 0.5535879\tbest: 0.5534941 (673)\ttotal: 20s\tremaining: 9.05s\n",
      "688:\tlearn: 0.4825572\ttest: 0.5535884\tbest: 0.5534941 (673)\ttotal: 20s\tremaining: 9.02s\n",
      "689:\tlearn: 0.4825572\ttest: 0.5535890\tbest: 0.5534941 (673)\ttotal: 20s\tremaining: 8.99s\n",
      "690:\tlearn: 0.4825543\ttest: 0.5535858\tbest: 0.5534941 (673)\ttotal: 20.1s\tremaining: 8.97s\n",
      "691:\tlearn: 0.4822813\ttest: 0.5536256\tbest: 0.5534941 (673)\ttotal: 20.1s\tremaining: 8.94s\n",
      "692:\tlearn: 0.4822813\ttest: 0.5536259\tbest: 0.5534941 (673)\ttotal: 20.1s\tremaining: 8.91s\n",
      "693:\tlearn: 0.4822813\ttest: 0.5536261\tbest: 0.5534941 (673)\ttotal: 20.1s\tremaining: 8.88s\n",
      "694:\tlearn: 0.4822781\ttest: 0.5536238\tbest: 0.5534941 (673)\ttotal: 20.2s\tremaining: 8.85s\n",
      "695:\tlearn: 0.4822695\ttest: 0.5536692\tbest: 0.5534941 (673)\ttotal: 20.2s\tremaining: 8.82s\n",
      "696:\tlearn: 0.4822695\ttest: 0.5536695\tbest: 0.5534941 (673)\ttotal: 20.2s\tremaining: 8.79s\n",
      "697:\tlearn: 0.4822638\ttest: 0.5536637\tbest: 0.5534941 (673)\ttotal: 20.2s\tremaining: 8.76s\n",
      "698:\tlearn: 0.4821911\ttest: 0.5536244\tbest: 0.5534941 (673)\ttotal: 20.3s\tremaining: 8.73s\n",
      "699:\tlearn: 0.4818396\ttest: 0.5535513\tbest: 0.5534941 (673)\ttotal: 20.3s\tremaining: 8.7s\n",
      "700:\tlearn: 0.4818145\ttest: 0.5535692\tbest: 0.5534941 (673)\ttotal: 20.3s\tremaining: 8.67s\n",
      "701:\tlearn: 0.4818145\ttest: 0.5535697\tbest: 0.5534941 (673)\ttotal: 20.3s\tremaining: 8.64s\n",
      "702:\tlearn: 0.4818145\ttest: 0.5535700\tbest: 0.5534941 (673)\ttotal: 20.4s\tremaining: 8.61s\n",
      "703:\tlearn: 0.4814485\ttest: 0.5533914\tbest: 0.5533914 (703)\ttotal: 20.4s\tremaining: 8.58s\n",
      "704:\tlearn: 0.4814485\ttest: 0.5533917\tbest: 0.5533914 (703)\ttotal: 20.4s\tremaining: 8.54s\n",
      "705:\tlearn: 0.4814485\ttest: 0.5533919\tbest: 0.5533914 (703)\ttotal: 20.4s\tremaining: 8.51s\n",
      "706:\tlearn: 0.4814485\ttest: 0.5533922\tbest: 0.5533914 (703)\ttotal: 20.4s\tremaining: 8.47s\n",
      "707:\tlearn: 0.4814486\ttest: 0.5533923\tbest: 0.5533914 (703)\ttotal: 20.5s\tremaining: 8.44s\n",
      "708:\tlearn: 0.4814486\ttest: 0.5533925\tbest: 0.5533914 (703)\ttotal: 20.5s\tremaining: 8.41s\n",
      "709:\tlearn: 0.4814480\ttest: 0.5533911\tbest: 0.5533911 (709)\ttotal: 20.5s\tremaining: 8.37s\n",
      "710:\tlearn: 0.4814480\ttest: 0.5533913\tbest: 0.5533911 (709)\ttotal: 20.5s\tremaining: 8.34s\n",
      "711:\tlearn: 0.4814110\ttest: 0.5533828\tbest: 0.5533828 (711)\ttotal: 20.5s\tremaining: 8.31s\n",
      "712:\tlearn: 0.4814110\ttest: 0.5533833\tbest: 0.5533828 (711)\ttotal: 20.6s\tremaining: 8.28s\n",
      "713:\tlearn: 0.4814075\ttest: 0.5533766\tbest: 0.5533766 (713)\ttotal: 20.6s\tremaining: 8.24s\n",
      "714:\tlearn: 0.4814075\ttest: 0.5533768\tbest: 0.5533766 (713)\ttotal: 20.6s\tremaining: 8.21s\n",
      "715:\tlearn: 0.4811846\ttest: 0.5534154\tbest: 0.5533766 (713)\ttotal: 20.6s\tremaining: 8.18s\n",
      "716:\tlearn: 0.4811459\ttest: 0.5533301\tbest: 0.5533301 (716)\ttotal: 20.7s\tremaining: 8.15s\n",
      "717:\tlearn: 0.4811079\ttest: 0.5533659\tbest: 0.5533301 (716)\ttotal: 20.7s\tremaining: 8.13s\n",
      "718:\tlearn: 0.4807900\ttest: 0.5533934\tbest: 0.5533301 (716)\ttotal: 20.7s\tremaining: 8.1s\n",
      "719:\tlearn: 0.4807892\ttest: 0.5533972\tbest: 0.5533301 (716)\ttotal: 20.8s\tremaining: 8.07s\n",
      "720:\tlearn: 0.4807630\ttest: 0.5534296\tbest: 0.5533301 (716)\ttotal: 20.8s\tremaining: 8.04s\n",
      "721:\tlearn: 0.4807230\ttest: 0.5534036\tbest: 0.5533301 (716)\ttotal: 20.8s\tremaining: 8.02s\n",
      "722:\tlearn: 0.4807056\ttest: 0.5533905\tbest: 0.5533301 (716)\ttotal: 20.9s\tremaining: 7.99s\n",
      "723:\tlearn: 0.4807025\ttest: 0.5534321\tbest: 0.5533301 (716)\ttotal: 20.9s\tremaining: 7.96s\n",
      "724:\tlearn: 0.4805319\ttest: 0.5533793\tbest: 0.5533301 (716)\ttotal: 20.9s\tremaining: 7.93s\n",
      "725:\tlearn: 0.4800190\ttest: 0.5535205\tbest: 0.5533301 (716)\ttotal: 20.9s\tremaining: 7.9s\n",
      "726:\tlearn: 0.4798724\ttest: 0.5534960\tbest: 0.5533301 (716)\ttotal: 21s\tremaining: 7.87s\n",
      "727:\tlearn: 0.4797923\ttest: 0.5535724\tbest: 0.5533301 (716)\ttotal: 21s\tremaining: 7.84s\n",
      "728:\tlearn: 0.4797894\ttest: 0.5535696\tbest: 0.5533301 (716)\ttotal: 21s\tremaining: 7.81s\n",
      "729:\tlearn: 0.4797840\ttest: 0.5535690\tbest: 0.5533301 (716)\ttotal: 21s\tremaining: 7.79s\n",
      "730:\tlearn: 0.4795659\ttest: 0.5534865\tbest: 0.5533301 (716)\ttotal: 21.1s\tremaining: 7.76s\n",
      "731:\tlearn: 0.4794040\ttest: 0.5534014\tbest: 0.5533301 (716)\ttotal: 21.1s\tremaining: 7.73s\n",
      "732:\tlearn: 0.4792639\ttest: 0.5534146\tbest: 0.5533301 (716)\ttotal: 21.1s\tremaining: 7.7s\n",
      "733:\tlearn: 0.4792497\ttest: 0.5534635\tbest: 0.5533301 (716)\ttotal: 21.2s\tremaining: 7.67s\n",
      "734:\tlearn: 0.4792492\ttest: 0.5534628\tbest: 0.5533301 (716)\ttotal: 21.2s\tremaining: 7.64s\n",
      "735:\tlearn: 0.4789754\ttest: 0.5532988\tbest: 0.5532988 (735)\ttotal: 21.2s\tremaining: 7.61s\n",
      "736:\tlearn: 0.4789186\ttest: 0.5533003\tbest: 0.5532988 (735)\ttotal: 21.2s\tremaining: 7.58s\n",
      "737:\tlearn: 0.4785638\ttest: 0.5533836\tbest: 0.5532988 (735)\ttotal: 21.3s\tremaining: 7.55s\n",
      "738:\tlearn: 0.4785535\ttest: 0.5533742\tbest: 0.5532988 (735)\ttotal: 21.3s\tremaining: 7.52s\n",
      "739:\tlearn: 0.4784806\ttest: 0.5534227\tbest: 0.5532988 (735)\ttotal: 21.3s\tremaining: 7.5s\n",
      "740:\tlearn: 0.4784752\ttest: 0.5534182\tbest: 0.5532988 (735)\ttotal: 21.4s\tremaining: 7.47s\n",
      "741:\tlearn: 0.4784576\ttest: 0.5534189\tbest: 0.5532988 (735)\ttotal: 21.4s\tremaining: 7.44s\n",
      "742:\tlearn: 0.4782962\ttest: 0.5533609\tbest: 0.5532988 (735)\ttotal: 21.5s\tremaining: 7.42s\n",
      "743:\tlearn: 0.4782911\ttest: 0.5533603\tbest: 0.5532988 (735)\ttotal: 21.5s\tremaining: 7.39s\n",
      "744:\tlearn: 0.4781134\ttest: 0.5533257\tbest: 0.5532988 (735)\ttotal: 21.6s\tremaining: 7.41s\n",
      "745:\tlearn: 0.4780295\ttest: 0.5533423\tbest: 0.5532988 (735)\ttotal: 21.7s\tremaining: 7.38s\n",
      "746:\tlearn: 0.4780103\ttest: 0.5533396\tbest: 0.5532988 (735)\ttotal: 21.7s\tremaining: 7.35s\n",
      "747:\tlearn: 0.4779492\ttest: 0.5533725\tbest: 0.5532988 (735)\ttotal: 21.7s\tremaining: 7.33s\n",
      "748:\tlearn: 0.4779447\ttest: 0.5533691\tbest: 0.5532988 (735)\ttotal: 21.8s\tremaining: 7.3s\n",
      "749:\tlearn: 0.4779445\ttest: 0.5533681\tbest: 0.5532988 (735)\ttotal: 21.8s\tremaining: 7.27s\n",
      "750:\tlearn: 0.4777535\ttest: 0.5534505\tbest: 0.5532988 (735)\ttotal: 21.8s\tremaining: 7.24s\n",
      "751:\tlearn: 0.4777444\ttest: 0.5534390\tbest: 0.5532988 (735)\ttotal: 21.9s\tremaining: 7.21s\n",
      "752:\tlearn: 0.4777444\ttest: 0.5534402\tbest: 0.5532988 (735)\ttotal: 21.9s\tremaining: 7.18s\n",
      "753:\tlearn: 0.4777444\ttest: 0.5534413\tbest: 0.5532988 (735)\ttotal: 21.9s\tremaining: 7.15s\n",
      "754:\tlearn: 0.4777429\ttest: 0.5534328\tbest: 0.5532988 (735)\ttotal: 21.9s\tremaining: 7.12s\n",
      "755:\tlearn: 0.4777426\ttest: 0.5534327\tbest: 0.5532988 (735)\ttotal: 22s\tremaining: 7.09s\n",
      "756:\tlearn: 0.4777323\ttest: 0.5534507\tbest: 0.5532988 (735)\ttotal: 22s\tremaining: 7.06s\n",
      "757:\tlearn: 0.4777323\ttest: 0.5534510\tbest: 0.5532988 (735)\ttotal: 22s\tremaining: 7.02s\n",
      "758:\tlearn: 0.4777323\ttest: 0.5534513\tbest: 0.5532988 (735)\ttotal: 22s\tremaining: 6.99s\n",
      "759:\tlearn: 0.4774996\ttest: 0.5532293\tbest: 0.5532293 (759)\ttotal: 22s\tremaining: 6.96s\n",
      "760:\tlearn: 0.4774996\ttest: 0.5532303\tbest: 0.5532293 (759)\ttotal: 22.1s\tremaining: 6.93s\n",
      "761:\tlearn: 0.4774994\ttest: 0.5532301\tbest: 0.5532293 (759)\ttotal: 22.1s\tremaining: 6.9s\n",
      "762:\tlearn: 0.4774990\ttest: 0.5532276\tbest: 0.5532276 (762)\ttotal: 22.1s\tremaining: 6.87s\n",
      "763:\tlearn: 0.4774979\ttest: 0.5532251\tbest: 0.5532251 (763)\ttotal: 22.1s\tremaining: 6.84s\n",
      "764:\tlearn: 0.4774979\ttest: 0.5532260\tbest: 0.5532251 (763)\ttotal: 22.2s\tremaining: 6.81s\n",
      "765:\tlearn: 0.4774968\ttest: 0.5532245\tbest: 0.5532245 (765)\ttotal: 22.2s\tremaining: 6.78s\n",
      "766:\tlearn: 0.4774968\ttest: 0.5532248\tbest: 0.5532245 (765)\ttotal: 22.2s\tremaining: 6.75s\n",
      "767:\tlearn: 0.4773652\ttest: 0.5532507\tbest: 0.5532245 (765)\ttotal: 22.2s\tremaining: 6.72s\n",
      "768:\tlearn: 0.4773652\ttest: 0.5532514\tbest: 0.5532245 (765)\ttotal: 22.3s\tremaining: 6.69s\n",
      "769:\tlearn: 0.4769292\ttest: 0.5531211\tbest: 0.5531211 (769)\ttotal: 22.3s\tremaining: 6.67s\n",
      "770:\tlearn: 0.4769292\ttest: 0.5531217\tbest: 0.5531211 (769)\ttotal: 22.3s\tremaining: 6.64s\n",
      "771:\tlearn: 0.4769252\ttest: 0.5531181\tbest: 0.5531181 (771)\ttotal: 22.4s\tremaining: 6.61s\n",
      "772:\tlearn: 0.4767117\ttest: 0.5530272\tbest: 0.5530272 (772)\ttotal: 22.4s\tremaining: 6.58s\n",
      "773:\tlearn: 0.4767117\ttest: 0.5530276\tbest: 0.5530272 (772)\ttotal: 22.4s\tremaining: 6.55s\n",
      "774:\tlearn: 0.4765454\ttest: 0.5530849\tbest: 0.5530272 (772)\ttotal: 22.5s\tremaining: 6.52s\n",
      "775:\tlearn: 0.4765454\ttest: 0.5530856\tbest: 0.5530272 (772)\ttotal: 22.5s\tremaining: 6.49s\n",
      "776:\tlearn: 0.4765454\ttest: 0.5530864\tbest: 0.5530272 (772)\ttotal: 22.5s\tremaining: 6.46s\n",
      "777:\tlearn: 0.4765437\ttest: 0.5530785\tbest: 0.5530272 (772)\ttotal: 22.6s\tremaining: 6.43s\n",
      "778:\tlearn: 0.4765421\ttest: 0.5530709\tbest: 0.5530272 (772)\ttotal: 22.6s\tremaining: 6.4s\n",
      "779:\tlearn: 0.4759816\ttest: 0.5531550\tbest: 0.5530272 (772)\ttotal: 22.6s\tremaining: 6.38s\n",
      "780:\tlearn: 0.4756529\ttest: 0.5532369\tbest: 0.5530272 (772)\ttotal: 22.6s\tremaining: 6.35s\n",
      "781:\tlearn: 0.4755340\ttest: 0.5532185\tbest: 0.5530272 (772)\ttotal: 22.7s\tremaining: 6.32s\n",
      "782:\tlearn: 0.4755340\ttest: 0.5532180\tbest: 0.5530272 (772)\ttotal: 22.7s\tremaining: 6.29s\n",
      "783:\tlearn: 0.4755340\ttest: 0.5532183\tbest: 0.5530272 (772)\ttotal: 22.7s\tremaining: 6.26s\n",
      "784:\tlearn: 0.4755329\ttest: 0.5532116\tbest: 0.5530272 (772)\ttotal: 22.7s\tremaining: 6.23s\n",
      "785:\tlearn: 0.4755329\ttest: 0.5532115\tbest: 0.5530272 (772)\ttotal: 22.8s\tremaining: 6.21s\n",
      "786:\tlearn: 0.4753487\ttest: 0.5531627\tbest: 0.5530272 (772)\ttotal: 22.8s\tremaining: 6.18s\n",
      "787:\tlearn: 0.4752553\ttest: 0.5531723\tbest: 0.5530272 (772)\ttotal: 22.9s\tremaining: 6.16s\n",
      "788:\tlearn: 0.4752311\ttest: 0.5531901\tbest: 0.5530272 (772)\ttotal: 22.9s\tremaining: 6.13s\n",
      "789:\tlearn: 0.4752232\ttest: 0.5531996\tbest: 0.5530272 (772)\ttotal: 22.9s\tremaining: 6.1s\n",
      "790:\tlearn: 0.4752195\ttest: 0.5531962\tbest: 0.5530272 (772)\ttotal: 23s\tremaining: 6.07s\n",
      "791:\tlearn: 0.4747447\ttest: 0.5532485\tbest: 0.5530272 (772)\ttotal: 23s\tremaining: 6.04s\n",
      "792:\tlearn: 0.4747447\ttest: 0.5532490\tbest: 0.5530272 (772)\ttotal: 23s\tremaining: 6.01s\n",
      "793:\tlearn: 0.4747160\ttest: 0.5532313\tbest: 0.5530272 (772)\ttotal: 23.1s\tremaining: 5.98s\n",
      "794:\tlearn: 0.4746324\ttest: 0.5531880\tbest: 0.5530272 (772)\ttotal: 23.1s\tremaining: 5.95s\n",
      "795:\tlearn: 0.4746324\ttest: 0.5531885\tbest: 0.5530272 (772)\ttotal: 23.1s\tremaining: 5.92s\n",
      "796:\tlearn: 0.4745453\ttest: 0.5531720\tbest: 0.5530272 (772)\ttotal: 23.1s\tremaining: 5.89s\n",
      "797:\tlearn: 0.4744109\ttest: 0.5532388\tbest: 0.5530272 (772)\ttotal: 23.2s\tremaining: 5.86s\n",
      "798:\tlearn: 0.4740061\ttest: 0.5532818\tbest: 0.5530272 (772)\ttotal: 23.2s\tremaining: 5.83s\n",
      "799:\tlearn: 0.4739677\ttest: 0.5532868\tbest: 0.5530272 (772)\ttotal: 23.2s\tremaining: 5.81s\n",
      "800:\tlearn: 0.4739531\ttest: 0.5533363\tbest: 0.5530272 (772)\ttotal: 23.3s\tremaining: 5.78s\n",
      "801:\tlearn: 0.4738227\ttest: 0.5534674\tbest: 0.5530272 (772)\ttotal: 23.3s\tremaining: 5.75s\n",
      "802:\tlearn: 0.4738227\ttest: 0.5534682\tbest: 0.5530272 (772)\ttotal: 23.3s\tremaining: 5.72s\n",
      "803:\tlearn: 0.4738227\ttest: 0.5534690\tbest: 0.5530272 (772)\ttotal: 23.3s\tremaining: 5.69s\n",
      "804:\tlearn: 0.4738227\ttest: 0.5534697\tbest: 0.5530272 (772)\ttotal: 23.4s\tremaining: 5.66s\n",
      "805:\tlearn: 0.4738140\ttest: 0.5535050\tbest: 0.5530272 (772)\ttotal: 23.4s\tremaining: 5.63s\n",
      "806:\tlearn: 0.4732824\ttest: 0.5531837\tbest: 0.5530272 (772)\ttotal: 23.4s\tremaining: 5.6s\n",
      "807:\tlearn: 0.4732440\ttest: 0.5532365\tbest: 0.5530272 (772)\ttotal: 23.5s\tremaining: 5.57s\n",
      "808:\tlearn: 0.4731553\ttest: 0.5532131\tbest: 0.5530272 (772)\ttotal: 23.5s\tremaining: 5.55s\n",
      "809:\tlearn: 0.4731553\ttest: 0.5532131\tbest: 0.5530272 (772)\ttotal: 23.5s\tremaining: 5.51s\n",
      "810:\tlearn: 0.4731540\ttest: 0.5532087\tbest: 0.5530272 (772)\ttotal: 23.5s\tremaining: 5.49s\n",
      "811:\tlearn: 0.4731540\ttest: 0.5532088\tbest: 0.5530272 (772)\ttotal: 23.6s\tremaining: 5.45s\n",
      "812:\tlearn: 0.4730549\ttest: 0.5532973\tbest: 0.5530272 (772)\ttotal: 23.6s\tremaining: 5.43s\n",
      "813:\tlearn: 0.4726902\ttest: 0.5533141\tbest: 0.5530272 (772)\ttotal: 23.6s\tremaining: 5.4s\n",
      "814:\tlearn: 0.4726752\ttest: 0.5533138\tbest: 0.5530272 (772)\ttotal: 23.7s\tremaining: 5.37s\n",
      "815:\tlearn: 0.4726645\ttest: 0.5533343\tbest: 0.5530272 (772)\ttotal: 23.7s\tremaining: 5.34s\n",
      "816:\tlearn: 0.4726644\ttest: 0.5533347\tbest: 0.5530272 (772)\ttotal: 23.7s\tremaining: 5.31s\n",
      "817:\tlearn: 0.4726430\ttest: 0.5533252\tbest: 0.5530272 (772)\ttotal: 23.7s\tremaining: 5.28s\n",
      "818:\tlearn: 0.4726430\ttest: 0.5533255\tbest: 0.5530272 (772)\ttotal: 23.8s\tremaining: 5.25s\n",
      "819:\tlearn: 0.4726430\ttest: 0.5533259\tbest: 0.5530272 (772)\ttotal: 23.8s\tremaining: 5.22s\n",
      "820:\tlearn: 0.4726430\ttest: 0.5533261\tbest: 0.5530272 (772)\ttotal: 23.8s\tremaining: 5.18s\n",
      "821:\tlearn: 0.4726430\ttest: 0.5533264\tbest: 0.5530272 (772)\ttotal: 23.8s\tremaining: 5.15s\n",
      "822:\tlearn: 0.4726430\ttest: 0.5533267\tbest: 0.5530272 (772)\ttotal: 23.8s\tremaining: 5.12s\n",
      "823:\tlearn: 0.4726266\ttest: 0.5533437\tbest: 0.5530272 (772)\ttotal: 23.9s\tremaining: 5.09s\n",
      "824:\tlearn: 0.4726252\ttest: 0.5533394\tbest: 0.5530272 (772)\ttotal: 23.9s\tremaining: 5.07s\n",
      "825:\tlearn: 0.4726252\ttest: 0.5533397\tbest: 0.5530272 (772)\ttotal: 23.9s\tremaining: 5.03s\n",
      "826:\tlearn: 0.4726252\ttest: 0.5533400\tbest: 0.5530272 (772)\ttotal: 23.9s\tremaining: 5s\n",
      "827:\tlearn: 0.4726251\ttest: 0.5533404\tbest: 0.5530272 (772)\ttotal: 23.9s\tremaining: 4.97s\n",
      "828:\tlearn: 0.4726251\ttest: 0.5533406\tbest: 0.5530272 (772)\ttotal: 24s\tremaining: 4.94s\n",
      "829:\tlearn: 0.4726252\ttest: 0.5533408\tbest: 0.5530272 (772)\ttotal: 24s\tremaining: 4.91s\n",
      "830:\tlearn: 0.4726252\ttest: 0.5533410\tbest: 0.5530272 (772)\ttotal: 24s\tremaining: 4.88s\n",
      "831:\tlearn: 0.4725342\ttest: 0.5533465\tbest: 0.5530272 (772)\ttotal: 24s\tremaining: 4.85s\n",
      "832:\tlearn: 0.4725311\ttest: 0.5533442\tbest: 0.5530272 (772)\ttotal: 24.1s\tremaining: 4.83s\n",
      "833:\tlearn: 0.4725311\ttest: 0.5533451\tbest: 0.5530272 (772)\ttotal: 24.1s\tremaining: 4.8s\n",
      "834:\tlearn: 0.4725282\ttest: 0.5533428\tbest: 0.5530272 (772)\ttotal: 24.1s\tremaining: 4.77s\n",
      "835:\tlearn: 0.4724029\ttest: 0.5532985\tbest: 0.5530272 (772)\ttotal: 24.2s\tremaining: 4.74s\n",
      "836:\tlearn: 0.4723946\ttest: 0.5532972\tbest: 0.5530272 (772)\ttotal: 24.2s\tremaining: 4.72s\n",
      "837:\tlearn: 0.4723913\ttest: 0.5532951\tbest: 0.5530272 (772)\ttotal: 24.3s\tremaining: 4.7s\n",
      "838:\tlearn: 0.4723898\ttest: 0.5532873\tbest: 0.5530272 (772)\ttotal: 24.3s\tremaining: 4.67s\n",
      "839:\tlearn: 0.4722656\ttest: 0.5532673\tbest: 0.5530272 (772)\ttotal: 24.4s\tremaining: 4.64s\n",
      "840:\tlearn: 0.4719453\ttest: 0.5531924\tbest: 0.5530272 (772)\ttotal: 24.4s\tremaining: 4.62s\n",
      "841:\tlearn: 0.4718463\ttest: 0.5532555\tbest: 0.5530272 (772)\ttotal: 24.5s\tremaining: 4.59s\n",
      "842:\tlearn: 0.4716697\ttest: 0.5530413\tbest: 0.5530272 (772)\ttotal: 24.5s\tremaining: 4.56s\n",
      "843:\tlearn: 0.4716199\ttest: 0.5530644\tbest: 0.5530272 (772)\ttotal: 24.5s\tremaining: 4.53s\n",
      "844:\tlearn: 0.4716198\ttest: 0.5530656\tbest: 0.5530272 (772)\ttotal: 24.6s\tremaining: 4.5s\n",
      "845:\tlearn: 0.4716198\ttest: 0.5530668\tbest: 0.5530272 (772)\ttotal: 24.6s\tremaining: 4.47s\n",
      "846:\tlearn: 0.4716197\ttest: 0.5530679\tbest: 0.5530272 (772)\ttotal: 24.6s\tremaining: 4.44s\n",
      "847:\tlearn: 0.4712892\ttest: 0.5529218\tbest: 0.5529218 (847)\ttotal: 24.6s\tremaining: 4.41s\n",
      "848:\tlearn: 0.4711871\ttest: 0.5529009\tbest: 0.5529009 (848)\ttotal: 24.7s\tremaining: 4.38s\n",
      "849:\tlearn: 0.4711248\ttest: 0.5529263\tbest: 0.5529009 (848)\ttotal: 24.7s\tremaining: 4.36s\n",
      "850:\tlearn: 0.4711085\ttest: 0.5529052\tbest: 0.5529009 (848)\ttotal: 24.7s\tremaining: 4.33s\n",
      "851:\tlearn: 0.4710409\ttest: 0.5529996\tbest: 0.5529009 (848)\ttotal: 24.7s\tremaining: 4.3s\n",
      "852:\tlearn: 0.4709485\ttest: 0.5529931\tbest: 0.5529009 (848)\ttotal: 24.8s\tremaining: 4.27s\n",
      "853:\tlearn: 0.4706344\ttest: 0.5529276\tbest: 0.5529009 (848)\ttotal: 24.8s\tremaining: 4.24s\n",
      "854:\tlearn: 0.4703120\ttest: 0.5528408\tbest: 0.5528408 (854)\ttotal: 24.8s\tremaining: 4.21s\n",
      "855:\tlearn: 0.4702549\ttest: 0.5528381\tbest: 0.5528381 (855)\ttotal: 24.9s\tremaining: 4.18s\n",
      "856:\tlearn: 0.4702251\ttest: 0.5528517\tbest: 0.5528381 (855)\ttotal: 24.9s\tremaining: 4.15s\n",
      "857:\tlearn: 0.4701308\ttest: 0.5527502\tbest: 0.5527502 (857)\ttotal: 24.9s\tremaining: 4.13s\n",
      "858:\tlearn: 0.4700520\ttest: 0.5527012\tbest: 0.5527012 (858)\ttotal: 25s\tremaining: 4.1s\n",
      "859:\tlearn: 0.4700449\ttest: 0.5527115\tbest: 0.5527012 (858)\ttotal: 25s\tremaining: 4.07s\n",
      "860:\tlearn: 0.4700274\ttest: 0.5526924\tbest: 0.5526924 (860)\ttotal: 25s\tremaining: 4.04s\n",
      "861:\tlearn: 0.4700263\ttest: 0.5526853\tbest: 0.5526853 (861)\ttotal: 25s\tremaining: 4.01s\n",
      "862:\tlearn: 0.4700088\ttest: 0.5526822\tbest: 0.5526822 (862)\ttotal: 25.1s\tremaining: 3.98s\n",
      "863:\tlearn: 0.4700055\ttest: 0.5527129\tbest: 0.5526822 (862)\ttotal: 25.1s\tremaining: 3.95s\n",
      "864:\tlearn: 0.4699242\ttest: 0.5527589\tbest: 0.5526822 (862)\ttotal: 25.1s\tremaining: 3.92s\n",
      "865:\tlearn: 0.4697389\ttest: 0.5526473\tbest: 0.5526473 (865)\ttotal: 25.2s\tremaining: 3.89s\n",
      "866:\tlearn: 0.4695270\ttest: 0.5525540\tbest: 0.5525540 (866)\ttotal: 25.2s\tremaining: 3.87s\n",
      "867:\tlearn: 0.4694849\ttest: 0.5525340\tbest: 0.5525340 (867)\ttotal: 25.2s\tremaining: 3.83s\n",
      "868:\tlearn: 0.4692953\ttest: 0.5524996\tbest: 0.5524996 (868)\ttotal: 25.2s\tremaining: 3.81s\n",
      "869:\tlearn: 0.4692172\ttest: 0.5525621\tbest: 0.5524996 (868)\ttotal: 25.3s\tremaining: 3.78s\n",
      "870:\tlearn: 0.4691063\ttest: 0.5524502\tbest: 0.5524502 (870)\ttotal: 25.3s\tremaining: 3.75s\n",
      "871:\tlearn: 0.4690943\ttest: 0.5524457\tbest: 0.5524457 (871)\ttotal: 25.3s\tremaining: 3.72s\n",
      "872:\tlearn: 0.4686058\ttest: 0.5523992\tbest: 0.5523992 (872)\ttotal: 25.4s\tremaining: 3.69s\n",
      "873:\tlearn: 0.4686031\ttest: 0.5523928\tbest: 0.5523928 (873)\ttotal: 25.4s\tremaining: 3.66s\n",
      "874:\tlearn: 0.4684212\ttest: 0.5524509\tbest: 0.5523928 (873)\ttotal: 25.4s\tremaining: 3.63s\n",
      "875:\tlearn: 0.4681821\ttest: 0.5524388\tbest: 0.5523928 (873)\ttotal: 25.5s\tremaining: 3.6s\n",
      "876:\tlearn: 0.4680155\ttest: 0.5524160\tbest: 0.5523928 (873)\ttotal: 25.5s\tremaining: 3.57s\n",
      "877:\tlearn: 0.4676187\ttest: 0.5525062\tbest: 0.5523928 (873)\ttotal: 25.5s\tremaining: 3.55s\n",
      "878:\tlearn: 0.4674527\ttest: 0.5525898\tbest: 0.5523928 (873)\ttotal: 25.6s\tremaining: 3.52s\n",
      "879:\tlearn: 0.4673734\ttest: 0.5526059\tbest: 0.5523928 (873)\ttotal: 25.6s\tremaining: 3.49s\n",
      "880:\tlearn: 0.4673733\ttest: 0.5526077\tbest: 0.5523928 (873)\ttotal: 25.6s\tremaining: 3.46s\n",
      "881:\tlearn: 0.4673676\ttest: 0.5525999\tbest: 0.5523928 (873)\ttotal: 25.6s\tremaining: 3.43s\n",
      "882:\tlearn: 0.4673517\ttest: 0.5526407\tbest: 0.5523928 (873)\ttotal: 25.7s\tremaining: 3.4s\n",
      "883:\tlearn: 0.4673516\ttest: 0.5526423\tbest: 0.5523928 (873)\ttotal: 25.7s\tremaining: 3.37s\n",
      "884:\tlearn: 0.4671380\ttest: 0.5526389\tbest: 0.5523928 (873)\ttotal: 25.7s\tremaining: 3.34s\n",
      "885:\tlearn: 0.4668621\ttest: 0.5525933\tbest: 0.5523928 (873)\ttotal: 25.8s\tremaining: 3.31s\n",
      "886:\tlearn: 0.4668555\ttest: 0.5526071\tbest: 0.5523928 (873)\ttotal: 25.8s\tremaining: 3.29s\n",
      "887:\tlearn: 0.4668554\ttest: 0.5526086\tbest: 0.5523928 (873)\ttotal: 25.8s\tremaining: 3.26s\n",
      "888:\tlearn: 0.4667986\ttest: 0.5526428\tbest: 0.5523928 (873)\ttotal: 25.9s\tremaining: 3.23s\n",
      "889:\tlearn: 0.4667944\ttest: 0.5526485\tbest: 0.5523928 (873)\ttotal: 25.9s\tremaining: 3.2s\n",
      "890:\tlearn: 0.4667943\ttest: 0.5526453\tbest: 0.5523928 (873)\ttotal: 25.9s\tremaining: 3.17s\n",
      "891:\tlearn: 0.4667251\ttest: 0.5526994\tbest: 0.5523928 (873)\ttotal: 26s\tremaining: 3.15s\n",
      "892:\tlearn: 0.4666612\ttest: 0.5527102\tbest: 0.5523928 (873)\ttotal: 26s\tremaining: 3.12s\n",
      "893:\tlearn: 0.4666276\ttest: 0.5527181\tbest: 0.5523928 (873)\ttotal: 26.1s\tremaining: 3.09s\n",
      "894:\tlearn: 0.4666195\ttest: 0.5527168\tbest: 0.5523928 (873)\ttotal: 26.1s\tremaining: 3.06s\n",
      "895:\tlearn: 0.4666195\ttest: 0.5527179\tbest: 0.5523928 (873)\ttotal: 26.1s\tremaining: 3.03s\n",
      "896:\tlearn: 0.4666193\ttest: 0.5527182\tbest: 0.5523928 (873)\ttotal: 26.1s\tremaining: 3s\n",
      "897:\tlearn: 0.4665230\ttest: 0.5527318\tbest: 0.5523928 (873)\ttotal: 26.2s\tremaining: 2.97s\n",
      "898:\tlearn: 0.4665221\ttest: 0.5527303\tbest: 0.5523928 (873)\ttotal: 26.2s\tremaining: 2.94s\n",
      "899:\tlearn: 0.4665221\ttest: 0.5527311\tbest: 0.5523928 (873)\ttotal: 26.2s\tremaining: 2.91s\n",
      "900:\tlearn: 0.4664464\ttest: 0.5527132\tbest: 0.5523928 (873)\ttotal: 26.2s\tremaining: 2.88s\n",
      "901:\tlearn: 0.4664462\ttest: 0.5527138\tbest: 0.5523928 (873)\ttotal: 26.3s\tremaining: 2.85s\n",
      "902:\tlearn: 0.4664462\ttest: 0.5527145\tbest: 0.5523928 (873)\ttotal: 26.3s\tremaining: 2.82s\n",
      "903:\tlearn: 0.4663878\ttest: 0.5527205\tbest: 0.5523928 (873)\ttotal: 26.3s\tremaining: 2.79s\n",
      "904:\tlearn: 0.4663878\ttest: 0.5527211\tbest: 0.5523928 (873)\ttotal: 26.3s\tremaining: 2.76s\n",
      "905:\tlearn: 0.4663877\ttest: 0.5527215\tbest: 0.5523928 (873)\ttotal: 26.3s\tremaining: 2.73s\n",
      "906:\tlearn: 0.4663839\ttest: 0.5527240\tbest: 0.5523928 (873)\ttotal: 26.4s\tremaining: 2.7s\n",
      "907:\tlearn: 0.4663812\ttest: 0.5527245\tbest: 0.5523928 (873)\ttotal: 26.4s\tremaining: 2.67s\n",
      "908:\tlearn: 0.4662861\ttest: 0.5526886\tbest: 0.5523928 (873)\ttotal: 26.4s\tremaining: 2.65s\n",
      "909:\tlearn: 0.4662860\ttest: 0.5526889\tbest: 0.5523928 (873)\ttotal: 26.5s\tremaining: 2.62s\n",
      "910:\tlearn: 0.4658942\ttest: 0.5526715\tbest: 0.5523928 (873)\ttotal: 26.5s\tremaining: 2.59s\n",
      "911:\tlearn: 0.4654532\ttest: 0.5528148\tbest: 0.5523928 (873)\ttotal: 26.5s\tremaining: 2.56s\n",
      "912:\tlearn: 0.4654532\ttest: 0.5528155\tbest: 0.5523928 (873)\ttotal: 26.6s\tremaining: 2.53s\n",
      "913:\tlearn: 0.4654505\ttest: 0.5528157\tbest: 0.5523928 (873)\ttotal: 26.6s\tremaining: 2.5s\n",
      "914:\tlearn: 0.4654505\ttest: 0.5528169\tbest: 0.5523928 (873)\ttotal: 26.6s\tremaining: 2.47s\n",
      "915:\tlearn: 0.4654503\ttest: 0.5528179\tbest: 0.5523928 (873)\ttotal: 26.7s\tremaining: 2.44s\n",
      "916:\tlearn: 0.4654503\ttest: 0.5528182\tbest: 0.5523928 (873)\ttotal: 26.7s\tremaining: 2.42s\n",
      "917:\tlearn: 0.4654297\ttest: 0.5528172\tbest: 0.5523928 (873)\ttotal: 26.8s\tremaining: 2.39s\n",
      "918:\tlearn: 0.4654296\ttest: 0.5528182\tbest: 0.5523928 (873)\ttotal: 26.8s\tremaining: 2.36s\n",
      "919:\tlearn: 0.4654296\ttest: 0.5528191\tbest: 0.5523928 (873)\ttotal: 26.8s\tremaining: 2.33s\n",
      "920:\tlearn: 0.4654217\ttest: 0.5528222\tbest: 0.5523928 (873)\ttotal: 26.8s\tremaining: 2.3s\n",
      "921:\tlearn: 0.4654216\ttest: 0.5528225\tbest: 0.5523928 (873)\ttotal: 26.9s\tremaining: 2.27s\n",
      "922:\tlearn: 0.4654215\ttest: 0.5528227\tbest: 0.5523928 (873)\ttotal: 26.9s\tremaining: 2.24s\n",
      "923:\tlearn: 0.4654215\ttest: 0.5528236\tbest: 0.5523928 (873)\ttotal: 26.9s\tremaining: 2.21s\n",
      "924:\tlearn: 0.4654215\ttest: 0.5528245\tbest: 0.5523928 (873)\ttotal: 26.9s\tremaining: 2.18s\n",
      "925:\tlearn: 0.4654214\ttest: 0.5528252\tbest: 0.5523928 (873)\ttotal: 26.9s\tremaining: 2.15s\n",
      "926:\tlearn: 0.4654214\ttest: 0.5528245\tbest: 0.5523928 (873)\ttotal: 27s\tremaining: 2.12s\n",
      "927:\tlearn: 0.4654213\ttest: 0.5528252\tbest: 0.5523928 (873)\ttotal: 27s\tremaining: 2.09s\n",
      "928:\tlearn: 0.4653275\ttest: 0.5529294\tbest: 0.5523928 (873)\ttotal: 27s\tremaining: 2.06s\n",
      "929:\tlearn: 0.4653274\ttest: 0.5529295\tbest: 0.5523928 (873)\ttotal: 27s\tremaining: 2.03s\n",
      "930:\tlearn: 0.4653274\ttest: 0.5529301\tbest: 0.5523928 (873)\ttotal: 27s\tremaining: 2s\n",
      "931:\tlearn: 0.4653274\ttest: 0.5529307\tbest: 0.5523928 (873)\ttotal: 27s\tremaining: 1.97s\n",
      "932:\tlearn: 0.4653274\ttest: 0.5529312\tbest: 0.5523928 (873)\ttotal: 27.1s\tremaining: 1.94s\n",
      "933:\tlearn: 0.4653274\ttest: 0.5529316\tbest: 0.5523928 (873)\ttotal: 27.1s\tremaining: 1.91s\n",
      "934:\tlearn: 0.4653273\ttest: 0.5529322\tbest: 0.5523928 (873)\ttotal: 27.1s\tremaining: 1.88s\n",
      "935:\tlearn: 0.4653273\ttest: 0.5529326\tbest: 0.5523928 (873)\ttotal: 27.1s\tremaining: 1.85s\n",
      "936:\tlearn: 0.4653272\ttest: 0.5529330\tbest: 0.5523928 (873)\ttotal: 27.1s\tremaining: 1.82s\n",
      "937:\tlearn: 0.4653272\ttest: 0.5529335\tbest: 0.5523928 (873)\ttotal: 27.1s\tremaining: 1.79s\n",
      "938:\tlearn: 0.4653272\ttest: 0.5529340\tbest: 0.5523928 (873)\ttotal: 27.1s\tremaining: 1.76s\n",
      "939:\tlearn: 0.4653272\ttest: 0.5529343\tbest: 0.5523928 (873)\ttotal: 27.2s\tremaining: 1.73s\n",
      "940:\tlearn: 0.4653271\ttest: 0.5529347\tbest: 0.5523928 (873)\ttotal: 27.2s\tremaining: 1.7s\n",
      "941:\tlearn: 0.4653271\ttest: 0.5529350\tbest: 0.5523928 (873)\ttotal: 27.2s\tremaining: 1.67s\n",
      "942:\tlearn: 0.4653271\ttest: 0.5529354\tbest: 0.5523928 (873)\ttotal: 27.2s\tremaining: 1.64s\n",
      "943:\tlearn: 0.4653271\ttest: 0.5529358\tbest: 0.5523928 (873)\ttotal: 27.2s\tremaining: 1.61s\n",
      "944:\tlearn: 0.4653271\ttest: 0.5529362\tbest: 0.5523928 (873)\ttotal: 27.2s\tremaining: 1.58s\n",
      "945:\tlearn: 0.4653271\ttest: 0.5529364\tbest: 0.5523928 (873)\ttotal: 27.2s\tremaining: 1.55s\n",
      "946:\tlearn: 0.4653270\ttest: 0.5529366\tbest: 0.5523928 (873)\ttotal: 27.3s\tremaining: 1.52s\n",
      "947:\tlearn: 0.4653270\ttest: 0.5529369\tbest: 0.5523928 (873)\ttotal: 27.3s\tremaining: 1.5s\n",
      "948:\tlearn: 0.4653270\ttest: 0.5529371\tbest: 0.5523928 (873)\ttotal: 27.3s\tremaining: 1.47s\n",
      "949:\tlearn: 0.4653270\ttest: 0.5529375\tbest: 0.5523928 (873)\ttotal: 27.3s\tremaining: 1.44s\n",
      "950:\tlearn: 0.4653270\ttest: 0.5529378\tbest: 0.5523928 (873)\ttotal: 27.3s\tremaining: 1.41s\n",
      "951:\tlearn: 0.4653270\ttest: 0.5529381\tbest: 0.5523928 (873)\ttotal: 27.3s\tremaining: 1.38s\n",
      "952:\tlearn: 0.4653269\ttest: 0.5529384\tbest: 0.5523928 (873)\ttotal: 27.4s\tremaining: 1.35s\n",
      "953:\tlearn: 0.4653269\ttest: 0.5529388\tbest: 0.5523928 (873)\ttotal: 27.4s\tremaining: 1.32s\n",
      "954:\tlearn: 0.4653269\ttest: 0.5529391\tbest: 0.5523928 (873)\ttotal: 27.4s\tremaining: 1.29s\n",
      "955:\tlearn: 0.4653269\ttest: 0.5529394\tbest: 0.5523928 (873)\ttotal: 27.4s\tremaining: 1.26s\n",
      "956:\tlearn: 0.4653269\ttest: 0.5529395\tbest: 0.5523928 (873)\ttotal: 27.4s\tremaining: 1.23s\n",
      "957:\tlearn: 0.4653268\ttest: 0.5529396\tbest: 0.5523928 (873)\ttotal: 27.4s\tremaining: 1.2s\n",
      "958:\tlearn: 0.4653268\ttest: 0.5529399\tbest: 0.5523928 (873)\ttotal: 27.4s\tremaining: 1.17s\n",
      "959:\tlearn: 0.4653268\ttest: 0.5529402\tbest: 0.5523928 (873)\ttotal: 27.5s\tremaining: 1.14s\n",
      "960:\tlearn: 0.4653268\ttest: 0.5529406\tbest: 0.5523928 (873)\ttotal: 27.5s\tremaining: 1.11s\n",
      "961:\tlearn: 0.4653267\ttest: 0.5529407\tbest: 0.5523928 (873)\ttotal: 27.5s\tremaining: 1.08s\n",
      "962:\tlearn: 0.4653266\ttest: 0.5529411\tbest: 0.5523928 (873)\ttotal: 27.6s\tremaining: 1.06s\n",
      "963:\tlearn: 0.4653266\ttest: 0.5529413\tbest: 0.5523928 (873)\ttotal: 27.6s\tremaining: 1.03s\n",
      "964:\tlearn: 0.4653267\ttest: 0.5529414\tbest: 0.5523928 (873)\ttotal: 27.6s\tremaining: 1s\n",
      "965:\tlearn: 0.4653267\ttest: 0.5529417\tbest: 0.5523928 (873)\ttotal: 27.6s\tremaining: 972ms\n",
      "966:\tlearn: 0.4653267\ttest: 0.5529418\tbest: 0.5523928 (873)\ttotal: 27.6s\tremaining: 943ms\n",
      "967:\tlearn: 0.4653266\ttest: 0.5529421\tbest: 0.5523928 (873)\ttotal: 27.6s\tremaining: 914ms\n",
      "968:\tlearn: 0.4653266\ttest: 0.5529423\tbest: 0.5523928 (873)\ttotal: 27.7s\tremaining: 885ms\n",
      "969:\tlearn: 0.4653265\ttest: 0.5529425\tbest: 0.5523928 (873)\ttotal: 27.7s\tremaining: 856ms\n",
      "970:\tlearn: 0.4653265\ttest: 0.5529427\tbest: 0.5523928 (873)\ttotal: 27.7s\tremaining: 827ms\n",
      "971:\tlearn: 0.4653265\ttest: 0.5529429\tbest: 0.5523928 (873)\ttotal: 27.7s\tremaining: 798ms\n",
      "972:\tlearn: 0.4653265\ttest: 0.5529431\tbest: 0.5523928 (873)\ttotal: 27.7s\tremaining: 769ms\n",
      "973:\tlearn: 0.4653265\ttest: 0.5529434\tbest: 0.5523928 (873)\ttotal: 27.7s\tremaining: 741ms\n",
      "974:\tlearn: 0.4653265\ttest: 0.5529435\tbest: 0.5523928 (873)\ttotal: 27.8s\tremaining: 712ms\n",
      "975:\tlearn: 0.4653265\ttest: 0.5529438\tbest: 0.5523928 (873)\ttotal: 27.8s\tremaining: 683ms\n",
      "976:\tlearn: 0.4653265\ttest: 0.5529439\tbest: 0.5523928 (873)\ttotal: 27.8s\tremaining: 654ms\n",
      "977:\tlearn: 0.4653265\ttest: 0.5529440\tbest: 0.5523928 (873)\ttotal: 27.8s\tremaining: 626ms\n",
      "978:\tlearn: 0.4653265\ttest: 0.5529443\tbest: 0.5523928 (873)\ttotal: 27.8s\tremaining: 597ms\n",
      "979:\tlearn: 0.4653265\ttest: 0.5529446\tbest: 0.5523928 (873)\ttotal: 27.8s\tremaining: 568ms\n",
      "980:\tlearn: 0.4653265\ttest: 0.5529448\tbest: 0.5523928 (873)\ttotal: 27.9s\tremaining: 539ms\n",
      "981:\tlearn: 0.4653265\ttest: 0.5529449\tbest: 0.5523928 (873)\ttotal: 27.9s\tremaining: 511ms\n",
      "982:\tlearn: 0.4653265\ttest: 0.5529451\tbest: 0.5523928 (873)\ttotal: 27.9s\tremaining: 482ms\n",
      "983:\tlearn: 0.4653265\ttest: 0.5529454\tbest: 0.5523928 (873)\ttotal: 27.9s\tremaining: 454ms\n",
      "984:\tlearn: 0.4653265\ttest: 0.5529455\tbest: 0.5523928 (873)\ttotal: 27.9s\tremaining: 425ms\n",
      "985:\tlearn: 0.4653265\ttest: 0.5529457\tbest: 0.5523928 (873)\ttotal: 27.9s\tremaining: 397ms\n",
      "986:\tlearn: 0.4653265\ttest: 0.5529457\tbest: 0.5523928 (873)\ttotal: 28s\tremaining: 368ms\n",
      "987:\tlearn: 0.4653265\ttest: 0.5529460\tbest: 0.5523928 (873)\ttotal: 28s\tremaining: 340ms\n",
      "988:\tlearn: 0.4653264\ttest: 0.5529459\tbest: 0.5523928 (873)\ttotal: 28s\tremaining: 311ms\n",
      "989:\tlearn: 0.4651014\ttest: 0.5528678\tbest: 0.5523928 (873)\ttotal: 28s\tremaining: 283ms\n",
      "990:\tlearn: 0.4651014\ttest: 0.5528675\tbest: 0.5523928 (873)\ttotal: 28s\tremaining: 255ms\n",
      "991:\tlearn: 0.4651014\ttest: 0.5528673\tbest: 0.5523928 (873)\ttotal: 28.1s\tremaining: 226ms\n",
      "992:\tlearn: 0.4651015\ttest: 0.5528672\tbest: 0.5523928 (873)\ttotal: 28.1s\tremaining: 198ms\n",
      "993:\tlearn: 0.4651015\ttest: 0.5528670\tbest: 0.5523928 (873)\ttotal: 28.1s\tremaining: 170ms\n",
      "994:\tlearn: 0.4651016\ttest: 0.5528669\tbest: 0.5523928 (873)\ttotal: 28.1s\tremaining: 141ms\n",
      "995:\tlearn: 0.4651015\ttest: 0.5528671\tbest: 0.5523928 (873)\ttotal: 28.1s\tremaining: 113ms\n",
      "996:\tlearn: 0.4650138\ttest: 0.5528275\tbest: 0.5523928 (873)\ttotal: 28.2s\tremaining: 84.8ms\n",
      "997:\tlearn: 0.4648563\ttest: 0.5529765\tbest: 0.5523928 (873)\ttotal: 28.2s\tremaining: 56.5ms\n",
      "998:\tlearn: 0.4648435\ttest: 0.5529672\tbest: 0.5523928 (873)\ttotal: 28.2s\tremaining: 28.3ms\n",
      "999:\tlearn: 0.4648434\ttest: 0.5529651\tbest: 0.5523928 (873)\ttotal: 28.3s\tremaining: 0us\n",
      "bestTest = 0.5523927695\n",
      "bestIteration = 873\n",
      "Shrink model to first 874 iterations.\n",
      "[LightGBM] [Info] Auto-choosing col-wise multi-threading, the overhead of testing was 0.000285 seconds.\n",
      "You can set `force_col_wise=true` to remove the overhead.\n",
      "[LightGBM] [Info] Total Bins 3484\n",
      "[LightGBM] [Info] Number of data points in the train set: 4067, number of used features: 20\n",
      "[LightGBM] [Info] Start training from score 15.851403\n",
      "\n",
      "====== Models before Hyper Parameter Tuning ======\n"
     ]
    }
   ],
   "source": [
    "datasets = {\n",
    "    \"encoded\": {\n",
    "        \"train\": (X_train, y_train),\n",
    "        \"val\": (X_val, y_val),\n",
    "        \"test\": (X_test, y_test),\n",
    "    },\n",
    "    \"no_enc\": {\n",
    "        \"train\": (X_train_no_enc, y_train),\n",
    "        \"val\": (X_val_no_enc, y_val),\n",
    "        \"test\": (X_test_no_enc, y_test),\n",
    "    },\n",
    "}\n",
    "\n",
    "results_df = evaluate_models_with_pool_v2(\n",
    "    models=models,\n",
    "    datasets=datasets,\n",
    "    when=\"before\"\n",
    ")\n"
   ]
  },
  {
   "cell_type": "code",
   "execution_count": 111,
   "metadata": {},
   "outputs": [
    {
     "data": {
      "text/html": [
       "<div>\n",
       "<style scoped>\n",
       "    .dataframe tbody tr th:only-of-type {\n",
       "        vertical-align: middle;\n",
       "    }\n",
       "\n",
       "    .dataframe tbody tr th {\n",
       "        vertical-align: top;\n",
       "    }\n",
       "\n",
       "    .dataframe thead th {\n",
       "        text-align: right;\n",
       "    }\n",
       "</style>\n",
       "<table border=\"1\" class=\"dataframe\">\n",
       "  <thead>\n",
       "    <tr style=\"text-align: right;\">\n",
       "      <th></th>\n",
       "      <th>Model</th>\n",
       "      <th>Validation RMSE</th>\n",
       "      <th>Test RMSE</th>\n",
       "      <th>Validation RMSLE</th>\n",
       "      <th>Test RMSLE</th>\n",
       "      <th>Validation R2</th>\n",
       "      <th>Test R2</th>\n",
       "    </tr>\n",
       "  </thead>\n",
       "  <tbody>\n",
       "    <tr>\n",
       "      <th>0</th>\n",
       "      <td>CatBoost</td>\n",
       "      <td>0.5524</td>\n",
       "      <td>0.5488</td>\n",
       "      <td>0.0333</td>\n",
       "      <td>0.0328</td>\n",
       "      <td>0.7928</td>\n",
       "      <td>0.7862</td>\n",
       "    </tr>\n",
       "    <tr>\n",
       "      <th>1</th>\n",
       "      <td>LightGBM</td>\n",
       "      <td>0.5167</td>\n",
       "      <td>0.5819</td>\n",
       "      <td>0.0314</td>\n",
       "      <td>0.0349</td>\n",
       "      <td>0.8187</td>\n",
       "      <td>0.7596</td>\n",
       "    </tr>\n",
       "    <tr>\n",
       "      <th>2</th>\n",
       "      <td>Random Forest</td>\n",
       "      <td>0.5575</td>\n",
       "      <td>0.5875</td>\n",
       "      <td>0.0339</td>\n",
       "      <td>0.0352</td>\n",
       "      <td>0.7889</td>\n",
       "      <td>0.7549</td>\n",
       "    </tr>\n",
       "    <tr>\n",
       "      <th>3</th>\n",
       "      <td>XGBoost</td>\n",
       "      <td>0.5638</td>\n",
       "      <td>0.6172</td>\n",
       "      <td>0.0342</td>\n",
       "      <td>0.0369</td>\n",
       "      <td>0.7841</td>\n",
       "      <td>0.7296</td>\n",
       "    </tr>\n",
       "    <tr>\n",
       "      <th>4</th>\n",
       "      <td>Decision Tree</td>\n",
       "      <td>0.8017</td>\n",
       "      <td>0.8397</td>\n",
       "      <td>0.0487</td>\n",
       "      <td>0.0502</td>\n",
       "      <td>0.5635</td>\n",
       "      <td>0.4994</td>\n",
       "    </tr>\n",
       "  </tbody>\n",
       "</table>\n",
       "</div>"
      ],
      "text/plain": [
       "           Model  Validation RMSE  Test RMSE  Validation RMSLE  Test RMSLE  \\\n",
       "0       CatBoost           0.5524     0.5488            0.0333      0.0328   \n",
       "1       LightGBM           0.5167     0.5819            0.0314      0.0349   \n",
       "2  Random Forest           0.5575     0.5875            0.0339      0.0352   \n",
       "3        XGBoost           0.5638     0.6172            0.0342      0.0369   \n",
       "4  Decision Tree           0.8017     0.8397            0.0487      0.0502   \n",
       "\n",
       "   Validation R2  Test R2  \n",
       "0         0.7928   0.7862  \n",
       "1         0.8187   0.7596  \n",
       "2         0.7889   0.7549  \n",
       "3         0.7841   0.7296  \n",
       "4         0.5635   0.4994  "
      ]
     },
     "execution_count": 111,
     "metadata": {},
     "output_type": "execute_result"
    }
   ],
   "source": [
    "results_df"
   ]
  },
  {
   "cell_type": "code",
   "execution_count": null,
   "metadata": {},
   "outputs": [],
   "source": []
  },
  {
   "cell_type": "code",
   "execution_count": null,
   "metadata": {},
   "outputs": [],
   "source": []
  },
  {
   "cell_type": "code",
   "execution_count": 25,
   "metadata": {},
   "outputs": [],
   "source": [
    "# 범주형 변수를 따로 Target Encoding 거치지 않은 데이터셋으로 학습한 CatBoost 확인\n",
    "def model_list2(models):\n",
    "    models_results = []\n",
    "\n",
    "    for model_name, model in models:\n",
    "\n",
    "        if model_name == \"CatBoost\":\n",
    "\n",
    "            cat_features = X_train_no_enc.select_dtypes(exclude=np.number).columns.tolist()\n",
    "\n",
    "            # 모델 생성 및 훈련\n",
    "            model.fit(X_train_no_enc, y_train, cat_features=cat_features)\n",
    "\n",
    "            # Robust Scaling 거치지 않은 train 데이터를 바탕으로 예측\n",
    "            y_train_pred_cat = model.predict(X_train_no_enc)\n",
    "            y_val_pred_cat = model.predict(X_val_no_enc)\n",
    "            y_test_pred_cat = model.predict(X_test_no_enc)\n",
    "\n",
    "            # 모델의 MAE, MSE, RMSE, RMSLE, R2 score 확인\n",
    "            meanAbErr_cat = metrics.mean_absolute_error(y_test, y_test_pred_cat)\n",
    "            meanSqErr_cat = metrics.mean_squared_error(y_test, y_test_pred_cat)\n",
    "            rootMeanSqErr_cat = metrics.mean_squared_error(y_test, y_test_pred_cat, squared=False)\n",
    "            rootMeanSqLogErr_cat = get_rmsle(y_test, y_test_pred_cat)\n",
    "\n",
    "            # 결과를 리스트에 저장\n",
    "            models_results.append({\"Model\" : model_name,\n",
    "                                    \"MAE\" : '{:.2f}'.format(meanAbErr_cat),\n",
    "                                    \"MSE\" : '{:.2f}'.format(meanSqErr_cat),\n",
    "                                    \"RMSE\" : '{:.2f}'.format(rootMeanSqErr_cat),\n",
    "                                    \"RMSLE\" : '{:.2f}'.format(rootMeanSqLogErr_cat),\n",
    "                                    \"R2 Score\" : '{:.2f}'.format(model.score(X_test_no_enc, y_test))})\n",
    "        \n",
    "        else:\n",
    "            \n",
    "            # 모델 생성 및 훈련\n",
    "            model.fit(X_train, y_train)\n",
    "\n",
    "            y_train_pred = model.predict(X_train)\n",
    "            y_val_pred = model.predict(X_val)\n",
    "            y_test_pred = model.predict(X_test)\n",
    "\n",
    "            # 모델의 MAE, MSE, RMSE, RMSLE, R2 score 확인\n",
    "            meanAbErr = metrics.mean_absolute_error(y_test, y_test_pred)\n",
    "            meanSqErr = metrics.mean_squared_error(y_test, y_test_pred)\n",
    "            rootMeanSqErr = metrics.mean_squared_error(y_test, y_test_pred, squared=False)\n",
    "            rootMeanSqLogErr = get_rmsle(y_test, y_test_pred)\n",
    "\n",
    "\n",
    "            # 결과를 리스트에 저장\n",
    "            models_results.append({\"Model\" : model_name,\n",
    "                                    \"MAE\" : '{:.2f}'.format(meanAbErr),\n",
    "                                    \"MSE\" : '{:.2f}'.format(meanSqErr),\n",
    "                                    \"RMSE\" : '{:.2f}'.format(rootMeanSqErr),\n",
    "                                    \"RMSLE\" : '{:.2f}'.format(rootMeanSqLogErr),\n",
    "                                    \"R2 Score\" : '{:.2f}'.format(model.score(X_test, y_test))})\n",
    "    \n",
    "    # 결과 리스트를 DataFrame으로 변환\n",
    "    models_df = pd.DataFrame(models_results)\n",
    "\n",
    "    print(f\"\\n====== Models before Hyper Parameter Tuning ======\")\n",
    "    \n",
    "    return models_df.sort_values(by=[\"RMSLE\", \"R2 Score\"], ascending=[True, False]).reset_index(drop=True)"
   ]
  },
  {
   "cell_type": "code",
   "execution_count": 26,
   "metadata": {},
   "outputs": [
    {
     "name": "stdout",
     "output_type": "stream",
     "text": [
      "Learning rate set to 0.059334\n",
      "0:\tlearn: 13930548.5583636\ttotal: 34.3ms\tremaining: 34.3s\n",
      "1:\tlearn: 13577890.4655601\ttotal: 71.6ms\tremaining: 35.7s\n",
      "2:\tlearn: 13222271.2793252\ttotal: 111ms\tremaining: 37s\n",
      "3:\tlearn: 12899943.7729440\ttotal: 148ms\tremaining: 36.8s\n",
      "4:\tlearn: 12623886.1740279\ttotal: 185ms\tremaining: 36.9s\n",
      "5:\tlearn: 12340601.2050759\ttotal: 220ms\tremaining: 36.5s\n",
      "6:\tlearn: 12095714.7281121\ttotal: 253ms\tremaining: 35.8s\n",
      "7:\tlearn: 11858503.2699037\ttotal: 282ms\tremaining: 34.9s\n",
      "8:\tlearn: 11636685.6397711\ttotal: 312ms\tremaining: 34.4s\n",
      "9:\tlearn: 11439067.5152900\ttotal: 346ms\tremaining: 34.3s\n",
      "10:\tlearn: 11240777.4448081\ttotal: 377ms\tremaining: 33.9s\n",
      "11:\tlearn: 11059435.8285289\ttotal: 407ms\tremaining: 33.5s\n",
      "12:\tlearn: 10898438.6546236\ttotal: 437ms\tremaining: 33.2s\n",
      "13:\tlearn: 10741650.7373015\ttotal: 469ms\tremaining: 33s\n",
      "14:\tlearn: 10582372.9299953\ttotal: 498ms\tremaining: 32.7s\n",
      "15:\tlearn: 10423272.4012737\ttotal: 528ms\tremaining: 32.5s\n",
      "16:\tlearn: 10286684.8161792\ttotal: 558ms\tremaining: 32.3s\n",
      "17:\tlearn: 10174710.2297151\ttotal: 591ms\tremaining: 32.2s\n",
      "18:\tlearn: 10051220.9434261\ttotal: 625ms\tremaining: 32.3s\n",
      "19:\tlearn: 9923060.2529165\ttotal: 672ms\tremaining: 32.9s\n",
      "20:\tlearn: 9839310.6185314\ttotal: 717ms\tremaining: 33.4s\n",
      "21:\tlearn: 9740817.0829767\ttotal: 747ms\tremaining: 33.2s\n",
      "22:\tlearn: 9639351.5947375\ttotal: 780ms\tremaining: 33.1s\n",
      "23:\tlearn: 9544392.9996252\ttotal: 813ms\tremaining: 33.1s\n",
      "24:\tlearn: 9461774.3861881\ttotal: 847ms\tremaining: 33s\n",
      "25:\tlearn: 9369136.8885538\ttotal: 877ms\tremaining: 32.8s\n",
      "26:\tlearn: 9296716.9577079\ttotal: 907ms\tremaining: 32.7s\n",
      "27:\tlearn: 9223274.3386358\ttotal: 952ms\tremaining: 33s\n",
      "28:\tlearn: 9165536.7334720\ttotal: 983ms\tremaining: 32.9s\n",
      "29:\tlearn: 9108278.5313218\ttotal: 1.01s\tremaining: 32.7s\n",
      "30:\tlearn: 9050973.6867830\ttotal: 1.04s\tremaining: 32.5s\n",
      "31:\tlearn: 8997616.9147895\ttotal: 1.07s\tremaining: 32.5s\n",
      "32:\tlearn: 8943937.5753531\ttotal: 1.1s\tremaining: 32.3s\n",
      "33:\tlearn: 8899102.4631451\ttotal: 1.13s\tremaining: 32.2s\n",
      "34:\tlearn: 8868089.4737396\ttotal: 1.16s\tremaining: 32s\n",
      "35:\tlearn: 8830728.0046710\ttotal: 1.19s\tremaining: 32s\n",
      "36:\tlearn: 8789767.1052179\ttotal: 1.23s\tremaining: 31.9s\n",
      "37:\tlearn: 8752856.4930943\ttotal: 1.25s\tremaining: 31.8s\n",
      "38:\tlearn: 8715863.9104373\ttotal: 1.29s\tremaining: 31.7s\n",
      "39:\tlearn: 8676816.3163001\ttotal: 1.32s\tremaining: 31.6s\n",
      "40:\tlearn: 8639261.9994826\ttotal: 1.35s\tremaining: 31.6s\n",
      "41:\tlearn: 8611133.2626293\ttotal: 1.38s\tremaining: 31.5s\n",
      "42:\tlearn: 8574235.9719924\ttotal: 1.42s\tremaining: 31.5s\n",
      "43:\tlearn: 8551543.8966519\ttotal: 1.44s\tremaining: 31.4s\n",
      "44:\tlearn: 8518368.3273052\ttotal: 1.47s\tremaining: 31.3s\n",
      "45:\tlearn: 8483467.6285750\ttotal: 1.5s\tremaining: 31.2s\n",
      "46:\tlearn: 8458433.9271160\ttotal: 1.54s\tremaining: 31.2s\n",
      "47:\tlearn: 8432245.2144160\ttotal: 1.57s\tremaining: 31.1s\n",
      "48:\tlearn: 8413456.0369679\ttotal: 1.6s\tremaining: 31.1s\n",
      "49:\tlearn: 8398234.5301381\ttotal: 1.63s\tremaining: 31s\n",
      "50:\tlearn: 8381415.2627314\ttotal: 1.66s\tremaining: 31s\n",
      "51:\tlearn: 8355531.4248476\ttotal: 1.69s\tremaining: 30.8s\n",
      "52:\tlearn: 8329609.8066989\ttotal: 1.72s\tremaining: 30.7s\n",
      "53:\tlearn: 8301748.1708698\ttotal: 1.75s\tremaining: 30.7s\n",
      "54:\tlearn: 8280284.5519871\ttotal: 1.78s\tremaining: 30.6s\n",
      "55:\tlearn: 8255534.8241171\ttotal: 1.81s\tremaining: 30.6s\n",
      "56:\tlearn: 8236563.3452643\ttotal: 1.84s\tremaining: 30.5s\n",
      "57:\tlearn: 8213894.8685909\ttotal: 1.87s\tremaining: 30.4s\n",
      "58:\tlearn: 8196546.0798619\ttotal: 1.91s\tremaining: 30.4s\n",
      "59:\tlearn: 8181611.6605317\ttotal: 1.93s\tremaining: 30.3s\n",
      "60:\tlearn: 8169416.1371271\ttotal: 1.96s\tremaining: 30.2s\n",
      "61:\tlearn: 8148516.7193509\ttotal: 1.99s\tremaining: 30.2s\n",
      "62:\tlearn: 8135010.5513185\ttotal: 2.03s\tremaining: 30.1s\n",
      "63:\tlearn: 8117984.0183692\ttotal: 2.06s\tremaining: 30.1s\n",
      "64:\tlearn: 8104581.2796022\ttotal: 2.09s\tremaining: 30s\n",
      "65:\tlearn: 8092434.7480093\ttotal: 2.12s\tremaining: 30s\n",
      "66:\tlearn: 8076747.5926499\ttotal: 2.15s\tremaining: 29.9s\n",
      "67:\tlearn: 8064180.7047316\ttotal: 2.18s\tremaining: 29.8s\n",
      "68:\tlearn: 8046979.7533748\ttotal: 2.21s\tremaining: 29.8s\n",
      "69:\tlearn: 8032830.8756368\ttotal: 2.24s\tremaining: 29.7s\n",
      "70:\tlearn: 8023518.1104711\ttotal: 2.27s\tremaining: 29.7s\n",
      "71:\tlearn: 8008882.2168846\ttotal: 2.31s\tremaining: 29.8s\n",
      "72:\tlearn: 7993763.9749282\ttotal: 2.37s\tremaining: 30.1s\n",
      "73:\tlearn: 7977792.9739238\ttotal: 2.4s\tremaining: 30.1s\n",
      "74:\tlearn: 7957800.8553236\ttotal: 2.44s\tremaining: 30.1s\n",
      "75:\tlearn: 7949636.0395964\ttotal: 2.48s\tremaining: 30.1s\n",
      "76:\tlearn: 7943874.2599431\ttotal: 2.52s\tremaining: 30.2s\n",
      "77:\tlearn: 7934584.9762960\ttotal: 2.55s\tremaining: 30.2s\n",
      "78:\tlearn: 7926048.8762506\ttotal: 2.59s\tremaining: 30.2s\n",
      "79:\tlearn: 7919728.1431394\ttotal: 2.62s\tremaining: 30.1s\n",
      "80:\tlearn: 7904508.4562548\ttotal: 2.65s\tremaining: 30s\n",
      "81:\tlearn: 7892153.8443073\ttotal: 2.68s\tremaining: 30s\n",
      "82:\tlearn: 7883187.3518158\ttotal: 2.71s\tremaining: 29.9s\n",
      "83:\tlearn: 7874669.7715959\ttotal: 2.74s\tremaining: 29.9s\n",
      "84:\tlearn: 7864016.0795626\ttotal: 2.79s\tremaining: 30.1s\n",
      "85:\tlearn: 7851573.6869244\ttotal: 2.83s\tremaining: 30s\n",
      "86:\tlearn: 7846871.7059976\ttotal: 2.88s\tremaining: 30.3s\n",
      "87:\tlearn: 7843516.6877095\ttotal: 2.94s\tremaining: 30.4s\n",
      "88:\tlearn: 7829512.1560552\ttotal: 2.98s\tremaining: 30.5s\n",
      "89:\tlearn: 7823767.9183400\ttotal: 3.08s\tremaining: 31.1s\n",
      "90:\tlearn: 7823439.3150968\ttotal: 3.1s\tremaining: 31s\n",
      "91:\tlearn: 7818444.6905775\ttotal: 3.14s\tremaining: 31s\n",
      "92:\tlearn: 7804855.8461290\ttotal: 3.18s\tremaining: 31s\n",
      "93:\tlearn: 7796848.0338503\ttotal: 3.21s\tremaining: 31s\n",
      "94:\tlearn: 7787020.5274338\ttotal: 3.27s\tremaining: 31.1s\n",
      "95:\tlearn: 7770755.3086880\ttotal: 3.31s\tremaining: 31.2s\n",
      "96:\tlearn: 7765371.7908592\ttotal: 3.35s\tremaining: 31.2s\n",
      "97:\tlearn: 7751550.4324500\ttotal: 3.38s\tremaining: 31.2s\n",
      "98:\tlearn: 7751478.3083820\ttotal: 3.4s\tremaining: 31s\n",
      "99:\tlearn: 7742182.2522142\ttotal: 3.44s\tremaining: 30.9s\n",
      "100:\tlearn: 7733434.5772244\ttotal: 3.47s\tremaining: 30.9s\n",
      "101:\tlearn: 7720850.6558700\ttotal: 3.51s\tremaining: 30.9s\n",
      "102:\tlearn: 7717694.9403870\ttotal: 3.54s\tremaining: 30.8s\n",
      "103:\tlearn: 7713943.1920782\ttotal: 3.6s\tremaining: 31s\n",
      "104:\tlearn: 7700534.9301346\ttotal: 3.63s\tremaining: 31s\n",
      "105:\tlearn: 7696891.1520948\ttotal: 3.67s\tremaining: 31s\n",
      "106:\tlearn: 7690751.2487303\ttotal: 3.71s\tremaining: 31s\n",
      "107:\tlearn: 7687443.8565213\ttotal: 3.75s\tremaining: 31s\n",
      "108:\tlearn: 7674224.7365299\ttotal: 3.79s\tremaining: 31s\n",
      "109:\tlearn: 7661317.0193398\ttotal: 3.83s\tremaining: 31s\n",
      "110:\tlearn: 7655547.9301543\ttotal: 3.86s\tremaining: 30.9s\n",
      "111:\tlearn: 7649506.2233640\ttotal: 3.89s\tremaining: 30.9s\n",
      "112:\tlearn: 7647766.6391878\ttotal: 3.93s\tremaining: 30.9s\n",
      "113:\tlearn: 7638892.3602668\ttotal: 3.96s\tremaining: 30.8s\n",
      "114:\tlearn: 7627056.4520815\ttotal: 4s\tremaining: 30.8s\n",
      "115:\tlearn: 7614233.2814835\ttotal: 4.04s\tremaining: 30.8s\n",
      "116:\tlearn: 7604775.1807480\ttotal: 4.08s\tremaining: 30.8s\n",
      "117:\tlearn: 7597944.6078388\ttotal: 4.11s\tremaining: 30.8s\n",
      "118:\tlearn: 7591244.1219833\ttotal: 4.15s\tremaining: 30.8s\n",
      "119:\tlearn: 7591243.6610967\ttotal: 4.17s\tremaining: 30.6s\n",
      "120:\tlearn: 7585640.5188446\ttotal: 4.2s\tremaining: 30.5s\n",
      "121:\tlearn: 7584456.8646820\ttotal: 4.23s\tremaining: 30.4s\n",
      "122:\tlearn: 7575150.8845051\ttotal: 4.26s\tremaining: 30.4s\n",
      "123:\tlearn: 7562574.0781267\ttotal: 4.31s\tremaining: 30.4s\n",
      "124:\tlearn: 7545510.2032863\ttotal: 4.34s\tremaining: 30.4s\n",
      "125:\tlearn: 7535655.5373774\ttotal: 4.37s\tremaining: 30.3s\n",
      "126:\tlearn: 7530911.1250047\ttotal: 4.43s\tremaining: 30.5s\n",
      "127:\tlearn: 7528156.2633364\ttotal: 4.47s\tremaining: 30.4s\n",
      "128:\tlearn: 7523603.5326785\ttotal: 4.5s\tremaining: 30.4s\n",
      "129:\tlearn: 7515338.7931169\ttotal: 4.54s\tremaining: 30.4s\n",
      "130:\tlearn: 7504197.8567655\ttotal: 4.57s\tremaining: 30.3s\n",
      "131:\tlearn: 7499872.1287865\ttotal: 4.61s\tremaining: 30.3s\n",
      "132:\tlearn: 7494391.5728831\ttotal: 4.65s\tremaining: 30.3s\n",
      "133:\tlearn: 7483415.1149722\ttotal: 4.68s\tremaining: 30.3s\n",
      "134:\tlearn: 7475019.5756814\ttotal: 4.71s\tremaining: 30.2s\n",
      "135:\tlearn: 7469316.9726702\ttotal: 4.75s\tremaining: 30.2s\n",
      "136:\tlearn: 7461987.3505416\ttotal: 4.78s\tremaining: 30.1s\n",
      "137:\tlearn: 7459695.3274304\ttotal: 4.81s\tremaining: 30.1s\n",
      "138:\tlearn: 7455123.0998357\ttotal: 4.85s\tremaining: 30s\n",
      "139:\tlearn: 7437784.9307329\ttotal: 4.88s\tremaining: 30s\n",
      "140:\tlearn: 7433373.2760085\ttotal: 4.92s\tremaining: 29.9s\n",
      "141:\tlearn: 7426646.1230562\ttotal: 4.95s\tremaining: 29.9s\n",
      "142:\tlearn: 7422690.3554797\ttotal: 4.98s\tremaining: 29.8s\n",
      "143:\tlearn: 7412254.1943976\ttotal: 5.01s\tremaining: 29.8s\n",
      "144:\tlearn: 7409293.4571363\ttotal: 5.04s\tremaining: 29.8s\n",
      "145:\tlearn: 7405052.1120310\ttotal: 5.08s\tremaining: 29.7s\n",
      "146:\tlearn: 7399377.4709949\ttotal: 5.11s\tremaining: 29.7s\n",
      "147:\tlearn: 7396657.8128903\ttotal: 5.17s\tremaining: 29.7s\n",
      "148:\tlearn: 7386772.5419996\ttotal: 5.21s\tremaining: 29.8s\n",
      "149:\tlearn: 7381251.3406323\ttotal: 5.27s\tremaining: 29.8s\n",
      "150:\tlearn: 7376348.8820185\ttotal: 5.3s\tremaining: 29.8s\n",
      "151:\tlearn: 7372104.7465732\ttotal: 5.34s\tremaining: 29.8s\n",
      "152:\tlearn: 7362702.9674508\ttotal: 5.38s\tremaining: 29.8s\n",
      "153:\tlearn: 7359997.4827267\ttotal: 5.43s\tremaining: 29.8s\n",
      "154:\tlearn: 7355599.3040201\ttotal: 5.47s\tremaining: 29.8s\n",
      "155:\tlearn: 7349705.0211794\ttotal: 5.51s\tremaining: 29.8s\n",
      "156:\tlearn: 7342910.8955759\ttotal: 5.54s\tremaining: 29.8s\n",
      "157:\tlearn: 7329732.0224972\ttotal: 5.58s\tremaining: 29.7s\n",
      "158:\tlearn: 7325161.2463545\ttotal: 5.62s\tremaining: 29.7s\n",
      "159:\tlearn: 7317078.6922583\ttotal: 5.65s\tremaining: 29.7s\n",
      "160:\tlearn: 7312935.7322475\ttotal: 5.68s\tremaining: 29.6s\n",
      "161:\tlearn: 7307571.2223111\ttotal: 5.72s\tremaining: 29.6s\n",
      "162:\tlearn: 7302658.1392071\ttotal: 5.76s\tremaining: 29.6s\n",
      "163:\tlearn: 7301743.0224551\ttotal: 5.79s\tremaining: 29.5s\n",
      "164:\tlearn: 7292594.1588883\ttotal: 5.83s\tremaining: 29.5s\n",
      "165:\tlearn: 7282733.0422613\ttotal: 5.88s\tremaining: 29.5s\n",
      "166:\tlearn: 7282026.3068299\ttotal: 5.91s\tremaining: 29.5s\n",
      "167:\tlearn: 7274268.6941667\ttotal: 5.95s\tremaining: 29.5s\n",
      "168:\tlearn: 7271061.0265153\ttotal: 5.98s\tremaining: 29.4s\n",
      "169:\tlearn: 7265094.1093289\ttotal: 6.01s\tremaining: 29.4s\n",
      "170:\tlearn: 7251578.0417003\ttotal: 6.06s\tremaining: 29.4s\n",
      "171:\tlearn: 7246688.9950567\ttotal: 6.09s\tremaining: 29.3s\n",
      "172:\tlearn: 7236732.2397293\ttotal: 6.13s\tremaining: 29.3s\n",
      "173:\tlearn: 7230731.1954139\ttotal: 6.16s\tremaining: 29.3s\n",
      "174:\tlearn: 7223958.6997139\ttotal: 6.2s\tremaining: 29.2s\n",
      "175:\tlearn: 7223348.7236738\ttotal: 6.23s\tremaining: 29.2s\n",
      "176:\tlearn: 7221702.8474591\ttotal: 6.26s\tremaining: 29.1s\n",
      "177:\tlearn: 7214145.5061066\ttotal: 6.3s\tremaining: 29.1s\n",
      "178:\tlearn: 7208650.4283331\ttotal: 6.33s\tremaining: 29s\n",
      "179:\tlearn: 7202744.7358438\ttotal: 6.36s\tremaining: 29s\n",
      "180:\tlearn: 7189725.8751341\ttotal: 6.4s\tremaining: 29s\n",
      "181:\tlearn: 7185843.6003436\ttotal: 6.44s\tremaining: 28.9s\n",
      "182:\tlearn: 7181085.0102753\ttotal: 6.47s\tremaining: 28.9s\n",
      "183:\tlearn: 7175136.0822367\ttotal: 6.51s\tremaining: 28.9s\n",
      "184:\tlearn: 7172180.8011975\ttotal: 6.54s\tremaining: 28.8s\n",
      "185:\tlearn: 7162730.0992440\ttotal: 6.58s\tremaining: 28.8s\n",
      "186:\tlearn: 7159134.1121974\ttotal: 6.62s\tremaining: 28.8s\n",
      "187:\tlearn: 7149137.6636423\ttotal: 6.66s\tremaining: 28.8s\n",
      "188:\tlearn: 7148343.1007310\ttotal: 6.7s\tremaining: 28.7s\n",
      "189:\tlearn: 7147628.0302914\ttotal: 6.73s\tremaining: 28.7s\n",
      "190:\tlearn: 7142230.1872460\ttotal: 6.76s\tremaining: 28.6s\n",
      "191:\tlearn: 7137064.1434576\ttotal: 6.79s\tremaining: 28.6s\n",
      "192:\tlearn: 7123338.4936985\ttotal: 6.83s\tremaining: 28.6s\n",
      "193:\tlearn: 7119686.9788401\ttotal: 6.86s\tremaining: 28.5s\n",
      "194:\tlearn: 7115897.1969130\ttotal: 6.9s\tremaining: 28.5s\n",
      "195:\tlearn: 7109309.1899704\ttotal: 6.94s\tremaining: 28.5s\n",
      "196:\tlearn: 7101398.8189169\ttotal: 6.99s\tremaining: 28.5s\n",
      "197:\tlearn: 7096677.4160362\ttotal: 7.02s\tremaining: 28.5s\n",
      "198:\tlearn: 7088834.4572718\ttotal: 7.06s\tremaining: 28.4s\n",
      "199:\tlearn: 7087752.8220066\ttotal: 7.09s\tremaining: 28.4s\n",
      "200:\tlearn: 7087363.0002113\ttotal: 7.12s\tremaining: 28.3s\n",
      "201:\tlearn: 7083603.3385368\ttotal: 7.16s\tremaining: 28.3s\n",
      "202:\tlearn: 7077453.0671748\ttotal: 7.19s\tremaining: 28.2s\n",
      "203:\tlearn: 7074318.9118784\ttotal: 7.22s\tremaining: 28.2s\n",
      "204:\tlearn: 7072147.0152522\ttotal: 7.25s\tremaining: 28.1s\n",
      "205:\tlearn: 7067096.5400528\ttotal: 7.28s\tremaining: 28.1s\n",
      "206:\tlearn: 7062625.8173987\ttotal: 7.31s\tremaining: 28s\n",
      "207:\tlearn: 7058201.7401181\ttotal: 7.34s\tremaining: 28s\n",
      "208:\tlearn: 7054920.0996384\ttotal: 7.38s\tremaining: 27.9s\n",
      "209:\tlearn: 7046294.3989808\ttotal: 7.42s\tremaining: 27.9s\n",
      "210:\tlearn: 7037151.4984180\ttotal: 7.47s\tremaining: 27.9s\n",
      "211:\tlearn: 7036327.8483578\ttotal: 7.52s\tremaining: 27.9s\n",
      "212:\tlearn: 7031805.6274768\ttotal: 7.57s\tremaining: 28s\n",
      "213:\tlearn: 7027566.0220522\ttotal: 7.62s\tremaining: 28s\n",
      "214:\tlearn: 7022299.7922273\ttotal: 7.68s\tremaining: 28s\n",
      "215:\tlearn: 7019528.5253560\ttotal: 7.75s\tremaining: 28.1s\n",
      "216:\tlearn: 7014653.6947774\ttotal: 7.79s\tremaining: 28.1s\n",
      "217:\tlearn: 7009344.3259480\ttotal: 7.82s\tremaining: 28.1s\n",
      "218:\tlearn: 7006461.3264928\ttotal: 7.86s\tremaining: 28s\n",
      "219:\tlearn: 7005320.8378370\ttotal: 7.89s\tremaining: 28s\n",
      "220:\tlearn: 7000273.2856997\ttotal: 7.92s\tremaining: 27.9s\n",
      "221:\tlearn: 6993781.0783106\ttotal: 7.96s\tremaining: 27.9s\n",
      "222:\tlearn: 6993139.9436242\ttotal: 8s\tremaining: 27.9s\n",
      "223:\tlearn: 6986245.8771155\ttotal: 8.03s\tremaining: 27.8s\n",
      "224:\tlearn: 6984011.5416426\ttotal: 8.07s\tremaining: 27.8s\n",
      "225:\tlearn: 6979790.1630202\ttotal: 8.11s\tremaining: 27.8s\n",
      "226:\tlearn: 6979303.3830457\ttotal: 8.16s\tremaining: 27.8s\n",
      "227:\tlearn: 6974794.2609238\ttotal: 8.2s\tremaining: 27.8s\n",
      "228:\tlearn: 6973210.0914769\ttotal: 8.25s\tremaining: 27.8s\n",
      "229:\tlearn: 6969215.7026716\ttotal: 8.29s\tremaining: 27.8s\n",
      "230:\tlearn: 6966627.6960656\ttotal: 8.34s\tremaining: 27.7s\n",
      "231:\tlearn: 6966032.0633964\ttotal: 8.37s\tremaining: 27.7s\n",
      "232:\tlearn: 6964115.5077903\ttotal: 8.4s\tremaining: 27.6s\n",
      "233:\tlearn: 6961734.6901630\ttotal: 8.45s\tremaining: 27.6s\n",
      "234:\tlearn: 6959910.7576486\ttotal: 8.48s\tremaining: 27.6s\n",
      "235:\tlearn: 6957267.1891591\ttotal: 8.51s\tremaining: 27.5s\n",
      "236:\tlearn: 6953983.5986040\ttotal: 8.54s\tremaining: 27.5s\n",
      "237:\tlearn: 6946468.6233323\ttotal: 8.57s\tremaining: 27.4s\n",
      "238:\tlearn: 6943675.6420273\ttotal: 8.6s\tremaining: 27.4s\n",
      "239:\tlearn: 6941722.0638610\ttotal: 8.63s\tremaining: 27.3s\n",
      "240:\tlearn: 6934772.2272624\ttotal: 8.66s\tremaining: 27.3s\n",
      "241:\tlearn: 6932746.9342105\ttotal: 8.7s\tremaining: 27.2s\n",
      "242:\tlearn: 6924290.6175564\ttotal: 8.73s\tremaining: 27.2s\n",
      "243:\tlearn: 6921866.0184479\ttotal: 8.76s\tremaining: 27.1s\n",
      "244:\tlearn: 6919037.0870283\ttotal: 8.79s\tremaining: 27.1s\n",
      "245:\tlearn: 6913009.9952078\ttotal: 8.83s\tremaining: 27.1s\n",
      "246:\tlearn: 6907203.9560829\ttotal: 8.86s\tremaining: 27s\n",
      "247:\tlearn: 6900437.6237387\ttotal: 8.89s\tremaining: 27s\n",
      "248:\tlearn: 6897402.3348531\ttotal: 8.93s\tremaining: 26.9s\n",
      "249:\tlearn: 6889722.2762072\ttotal: 8.96s\tremaining: 26.9s\n",
      "250:\tlearn: 6884694.6118791\ttotal: 8.99s\tremaining: 26.8s\n",
      "251:\tlearn: 6884130.9098418\ttotal: 9.03s\tremaining: 26.8s\n",
      "252:\tlearn: 6883589.0563517\ttotal: 9.06s\tremaining: 26.8s\n",
      "253:\tlearn: 6876162.6660166\ttotal: 9.1s\tremaining: 26.7s\n",
      "254:\tlearn: 6866481.5207423\ttotal: 9.13s\tremaining: 26.7s\n",
      "255:\tlearn: 6864395.1166148\ttotal: 9.17s\tremaining: 26.7s\n",
      "256:\tlearn: 6856717.1574485\ttotal: 9.21s\tremaining: 26.6s\n",
      "257:\tlearn: 6855980.3524705\ttotal: 9.23s\tremaining: 26.6s\n",
      "258:\tlearn: 6855467.7799285\ttotal: 9.27s\tremaining: 26.5s\n",
      "259:\tlearn: 6847319.3971785\ttotal: 9.3s\tremaining: 26.5s\n",
      "260:\tlearn: 6844900.3117242\ttotal: 9.33s\tremaining: 26.4s\n",
      "261:\tlearn: 6841842.0727751\ttotal: 9.37s\tremaining: 26.4s\n",
      "262:\tlearn: 6839063.9079902\ttotal: 9.4s\tremaining: 26.3s\n",
      "263:\tlearn: 6838573.9503972\ttotal: 9.43s\tremaining: 26.3s\n",
      "264:\tlearn: 6836598.1588440\ttotal: 9.46s\tremaining: 26.2s\n",
      "265:\tlearn: 6831597.2611964\ttotal: 9.49s\tremaining: 26.2s\n",
      "266:\tlearn: 6823095.4161724\ttotal: 9.53s\tremaining: 26.1s\n",
      "267:\tlearn: 6814684.2783185\ttotal: 9.56s\tremaining: 26.1s\n",
      "268:\tlearn: 6805773.8269083\ttotal: 9.59s\tremaining: 26.1s\n",
      "269:\tlearn: 6797875.4772825\ttotal: 9.62s\tremaining: 26s\n",
      "270:\tlearn: 6794055.5134194\ttotal: 9.65s\tremaining: 26s\n",
      "271:\tlearn: 6792936.5098790\ttotal: 9.69s\tremaining: 25.9s\n",
      "272:\tlearn: 6790319.0684503\ttotal: 9.72s\tremaining: 25.9s\n",
      "273:\tlearn: 6786376.3682583\ttotal: 9.76s\tremaining: 25.9s\n",
      "274:\tlearn: 6784352.6941432\ttotal: 9.8s\tremaining: 25.8s\n",
      "275:\tlearn: 6775670.4072762\ttotal: 9.83s\tremaining: 25.8s\n",
      "276:\tlearn: 6774168.1584247\ttotal: 9.87s\tremaining: 25.8s\n",
      "277:\tlearn: 6771850.8364164\ttotal: 9.9s\tremaining: 25.7s\n",
      "278:\tlearn: 6769891.9169367\ttotal: 9.93s\tremaining: 25.7s\n",
      "279:\tlearn: 6769467.0155939\ttotal: 9.96s\tremaining: 25.6s\n",
      "280:\tlearn: 6769115.1818596\ttotal: 9.99s\tremaining: 25.6s\n",
      "281:\tlearn: 6759211.3833910\ttotal: 10s\tremaining: 25.5s\n",
      "282:\tlearn: 6758194.7757365\ttotal: 10.1s\tremaining: 25.5s\n",
      "283:\tlearn: 6751968.3043310\ttotal: 10.1s\tremaining: 25.4s\n",
      "284:\tlearn: 6749411.4179686\ttotal: 10.1s\tremaining: 25.4s\n",
      "285:\tlearn: 6748004.1217948\ttotal: 10.1s\tremaining: 25.3s\n",
      "286:\tlearn: 6744493.9178530\ttotal: 10.2s\tremaining: 25.3s\n",
      "287:\tlearn: 6738532.1114252\ttotal: 10.2s\tremaining: 25.2s\n",
      "288:\tlearn: 6736201.8943762\ttotal: 10.2s\tremaining: 25.2s\n",
      "289:\tlearn: 6732219.9261132\ttotal: 10.3s\tremaining: 25.1s\n",
      "290:\tlearn: 6730530.6625792\ttotal: 10.3s\tremaining: 25.1s\n",
      "291:\tlearn: 6728780.3695180\ttotal: 10.3s\tremaining: 25s\n",
      "292:\tlearn: 6725827.5465087\ttotal: 10.4s\tremaining: 25s\n",
      "293:\tlearn: 6723531.2193924\ttotal: 10.4s\tremaining: 24.9s\n",
      "294:\tlearn: 6719329.4418568\ttotal: 10.4s\tremaining: 24.9s\n",
      "295:\tlearn: 6716087.7719370\ttotal: 10.5s\tremaining: 24.9s\n",
      "296:\tlearn: 6715753.7665205\ttotal: 10.5s\tremaining: 24.8s\n",
      "297:\tlearn: 6714019.9853644\ttotal: 10.5s\tremaining: 24.8s\n",
      "298:\tlearn: 6713711.4003974\ttotal: 10.5s\tremaining: 24.7s\n",
      "299:\tlearn: 6704507.7218021\ttotal: 10.6s\tremaining: 24.7s\n",
      "300:\tlearn: 6704203.5926573\ttotal: 10.6s\tremaining: 24.6s\n",
      "301:\tlearn: 6703297.6896887\ttotal: 10.6s\tremaining: 24.6s\n",
      "302:\tlearn: 6701212.7935631\ttotal: 10.7s\tremaining: 24.5s\n",
      "303:\tlearn: 6700847.2609644\ttotal: 10.7s\tremaining: 24.5s\n",
      "304:\tlearn: 6694836.7906892\ttotal: 10.7s\tremaining: 24.5s\n",
      "305:\tlearn: 6694524.3275552\ttotal: 10.8s\tremaining: 24.4s\n",
      "306:\tlearn: 6690264.0788594\ttotal: 10.8s\tremaining: 24.4s\n",
      "307:\tlearn: 6688513.0970032\ttotal: 10.8s\tremaining: 24.3s\n",
      "308:\tlearn: 6683585.0664380\ttotal: 10.9s\tremaining: 24.3s\n",
      "309:\tlearn: 6677838.0136306\ttotal: 10.9s\tremaining: 24.2s\n",
      "310:\tlearn: 6672085.3007610\ttotal: 10.9s\tremaining: 24.2s\n",
      "311:\tlearn: 6668522.5751194\ttotal: 11s\tremaining: 24.2s\n",
      "312:\tlearn: 6666182.9294541\ttotal: 11s\tremaining: 24.1s\n",
      "313:\tlearn: 6665618.7799969\ttotal: 11s\tremaining: 24.1s\n",
      "314:\tlearn: 6654875.6865387\ttotal: 11s\tremaining: 24s\n",
      "315:\tlearn: 6649488.3532650\ttotal: 11.1s\tremaining: 24s\n",
      "316:\tlearn: 6647251.1351953\ttotal: 11.1s\tremaining: 24s\n",
      "317:\tlearn: 6640087.6268324\ttotal: 11.2s\tremaining: 23.9s\n",
      "318:\tlearn: 6637497.5655427\ttotal: 11.2s\tremaining: 23.9s\n",
      "319:\tlearn: 6635784.7211105\ttotal: 11.2s\tremaining: 23.8s\n",
      "320:\tlearn: 6632502.7503393\ttotal: 11.3s\tremaining: 23.8s\n",
      "321:\tlearn: 6629519.8450366\ttotal: 11.3s\tremaining: 23.8s\n",
      "322:\tlearn: 6618738.6095909\ttotal: 11.3s\tremaining: 23.7s\n",
      "323:\tlearn: 6616740.9319481\ttotal: 11.3s\tremaining: 23.7s\n",
      "324:\tlearn: 6607831.1137839\ttotal: 11.4s\tremaining: 23.6s\n",
      "325:\tlearn: 6603734.3386877\ttotal: 11.4s\tremaining: 23.6s\n",
      "326:\tlearn: 6601356.0658816\ttotal: 11.5s\tremaining: 23.6s\n",
      "327:\tlearn: 6594551.9671311\ttotal: 11.5s\tremaining: 23.5s\n",
      "328:\tlearn: 6590853.1903795\ttotal: 11.5s\tremaining: 23.5s\n",
      "329:\tlearn: 6584969.4560288\ttotal: 11.5s\tremaining: 23.4s\n",
      "330:\tlearn: 6579364.9815328\ttotal: 11.6s\tremaining: 23.4s\n",
      "331:\tlearn: 6574984.6210288\ttotal: 11.6s\tremaining: 23.4s\n",
      "332:\tlearn: 6569515.9465649\ttotal: 11.6s\tremaining: 23.3s\n",
      "333:\tlearn: 6566542.0678283\ttotal: 11.7s\tremaining: 23.3s\n",
      "334:\tlearn: 6566291.1589862\ttotal: 11.7s\tremaining: 23.2s\n",
      "335:\tlearn: 6562997.7515406\ttotal: 11.7s\tremaining: 23.2s\n",
      "336:\tlearn: 6557397.9710856\ttotal: 11.8s\tremaining: 23.1s\n",
      "337:\tlearn: 6556574.6707342\ttotal: 11.8s\tremaining: 23.1s\n",
      "338:\tlearn: 6552199.8971005\ttotal: 11.8s\tremaining: 23.1s\n",
      "339:\tlearn: 6550241.0401010\ttotal: 11.9s\tremaining: 23s\n",
      "340:\tlearn: 6546097.4045623\ttotal: 11.9s\tremaining: 23s\n",
      "341:\tlearn: 6539575.6275523\ttotal: 11.9s\tremaining: 22.9s\n",
      "342:\tlearn: 6535732.7443315\ttotal: 12s\tremaining: 22.9s\n",
      "343:\tlearn: 6528045.8744764\ttotal: 12s\tremaining: 22.9s\n",
      "344:\tlearn: 6527138.8630507\ttotal: 12s\tremaining: 22.9s\n",
      "345:\tlearn: 6526802.5004239\ttotal: 12.1s\tremaining: 22.8s\n",
      "346:\tlearn: 6522343.8494221\ttotal: 12.1s\tremaining: 22.8s\n",
      "347:\tlearn: 6520615.0323163\ttotal: 12.1s\tremaining: 22.8s\n",
      "348:\tlearn: 6520232.1074486\ttotal: 12.2s\tremaining: 22.7s\n",
      "349:\tlearn: 6518200.8964832\ttotal: 12.2s\tremaining: 22.7s\n",
      "350:\tlearn: 6515459.4369260\ttotal: 12.2s\tremaining: 22.6s\n",
      "351:\tlearn: 6511257.5047681\ttotal: 12.3s\tremaining: 22.6s\n",
      "352:\tlearn: 6509598.6463080\ttotal: 12.3s\tremaining: 22.5s\n",
      "353:\tlearn: 6503507.4555893\ttotal: 12.3s\tremaining: 22.5s\n",
      "354:\tlearn: 6502197.8907370\ttotal: 12.4s\tremaining: 22.4s\n",
      "355:\tlearn: 6499738.6252852\ttotal: 12.4s\tremaining: 22.4s\n",
      "356:\tlearn: 6496108.6819377\ttotal: 12.4s\tremaining: 22.4s\n",
      "357:\tlearn: 6494624.3258289\ttotal: 12.4s\tremaining: 22.3s\n",
      "358:\tlearn: 6490793.5089416\ttotal: 12.5s\tremaining: 22.3s\n",
      "359:\tlearn: 6488613.9429019\ttotal: 12.5s\tremaining: 22.2s\n",
      "360:\tlearn: 6487908.9609996\ttotal: 12.5s\tremaining: 22.2s\n",
      "361:\tlearn: 6487607.5476317\ttotal: 12.6s\tremaining: 22.1s\n",
      "362:\tlearn: 6483689.3580127\ttotal: 12.6s\tremaining: 22.1s\n",
      "363:\tlearn: 6482725.8666159\ttotal: 12.6s\tremaining: 22.1s\n",
      "364:\tlearn: 6482496.9228175\ttotal: 12.7s\tremaining: 22s\n",
      "365:\tlearn: 6476174.6003766\ttotal: 12.7s\tremaining: 22s\n",
      "366:\tlearn: 6473477.6033927\ttotal: 12.7s\tremaining: 21.9s\n",
      "367:\tlearn: 6468982.9324056\ttotal: 12.7s\tremaining: 21.9s\n",
      "368:\tlearn: 6468424.6845851\ttotal: 12.8s\tremaining: 21.9s\n",
      "369:\tlearn: 6466861.0430823\ttotal: 12.8s\tremaining: 21.8s\n",
      "370:\tlearn: 6463812.0529794\ttotal: 12.9s\tremaining: 21.8s\n",
      "371:\tlearn: 6462233.4099983\ttotal: 12.9s\tremaining: 21.8s\n",
      "372:\tlearn: 6458206.7536529\ttotal: 12.9s\tremaining: 21.7s\n",
      "373:\tlearn: 6457762.1841307\ttotal: 13s\tremaining: 21.7s\n",
      "374:\tlearn: 6453207.8079190\ttotal: 13s\tremaining: 21.7s\n",
      "375:\tlearn: 6451814.4158972\ttotal: 13s\tremaining: 21.6s\n",
      "376:\tlearn: 6445642.0838190\ttotal: 13s\tremaining: 21.6s\n",
      "377:\tlearn: 6445437.4807301\ttotal: 13.1s\tremaining: 21.5s\n",
      "378:\tlearn: 6441263.6354371\ttotal: 13.1s\tremaining: 21.5s\n",
      "379:\tlearn: 6441098.2368617\ttotal: 13.1s\tremaining: 21.4s\n",
      "380:\tlearn: 6439146.2685952\ttotal: 13.2s\tremaining: 21.4s\n",
      "381:\tlearn: 6434274.2111490\ttotal: 13.2s\tremaining: 21.3s\n",
      "382:\tlearn: 6432834.6169119\ttotal: 13.2s\tremaining: 21.3s\n",
      "383:\tlearn: 6428644.6491786\ttotal: 13.3s\tremaining: 21.3s\n",
      "384:\tlearn: 6425725.4202698\ttotal: 13.3s\tremaining: 21.3s\n",
      "385:\tlearn: 6425515.6076977\ttotal: 13.4s\tremaining: 21.3s\n",
      "386:\tlearn: 6420315.6517464\ttotal: 13.4s\tremaining: 21.2s\n",
      "387:\tlearn: 6418622.7999297\ttotal: 13.4s\tremaining: 21.2s\n",
      "388:\tlearn: 6417501.1031236\ttotal: 13.5s\tremaining: 21.2s\n",
      "389:\tlearn: 6414949.7231098\ttotal: 13.5s\tremaining: 21.2s\n",
      "390:\tlearn: 6412387.0742994\ttotal: 13.6s\tremaining: 21.1s\n",
      "391:\tlearn: 6407564.5974010\ttotal: 13.6s\tremaining: 21.1s\n",
      "392:\tlearn: 6405223.5748005\ttotal: 13.6s\tremaining: 21s\n",
      "393:\tlearn: 6405157.5405727\ttotal: 13.7s\tremaining: 21s\n",
      "394:\tlearn: 6402618.2978020\ttotal: 13.7s\tremaining: 21s\n",
      "395:\tlearn: 6399020.4719093\ttotal: 13.7s\tremaining: 20.9s\n",
      "396:\tlearn: 6396557.8502492\ttotal: 13.7s\tremaining: 20.9s\n",
      "397:\tlearn: 6396498.4339779\ttotal: 13.8s\tremaining: 20.8s\n",
      "398:\tlearn: 6391217.1945118\ttotal: 13.8s\tremaining: 20.8s\n",
      "399:\tlearn: 6387855.6424505\ttotal: 13.8s\tremaining: 20.7s\n",
      "400:\tlearn: 6383503.4713050\ttotal: 13.9s\tremaining: 20.7s\n",
      "401:\tlearn: 6380007.6010116\ttotal: 13.9s\tremaining: 20.7s\n",
      "402:\tlearn: 6377285.3774066\ttotal: 13.9s\tremaining: 20.6s\n",
      "403:\tlearn: 6371527.5873079\ttotal: 14s\tremaining: 20.6s\n",
      "404:\tlearn: 6365255.2384664\ttotal: 14s\tremaining: 20.6s\n",
      "405:\tlearn: 6365041.2848644\ttotal: 14s\tremaining: 20.5s\n",
      "406:\tlearn: 6361866.8748186\ttotal: 14.1s\tremaining: 20.5s\n",
      "407:\tlearn: 6361735.7689791\ttotal: 14.1s\tremaining: 20.4s\n",
      "408:\tlearn: 6358003.8360813\ttotal: 14.1s\tremaining: 20.4s\n",
      "409:\tlearn: 6352384.1711624\ttotal: 14.1s\tremaining: 20.4s\n",
      "410:\tlearn: 6351839.6990914\ttotal: 14.2s\tremaining: 20.3s\n",
      "411:\tlearn: 6350013.7751027\ttotal: 14.2s\tremaining: 20.3s\n",
      "412:\tlearn: 6344746.2386427\ttotal: 14.3s\tremaining: 20.3s\n",
      "413:\tlearn: 6342886.7750070\ttotal: 14.3s\tremaining: 20.3s\n",
      "414:\tlearn: 6342825.1095030\ttotal: 14.4s\tremaining: 20.2s\n",
      "415:\tlearn: 6338922.8803054\ttotal: 14.4s\tremaining: 20.2s\n",
      "416:\tlearn: 6338541.7750530\ttotal: 14.4s\tremaining: 20.2s\n",
      "417:\tlearn: 6335143.8952664\ttotal: 14.4s\tremaining: 20.1s\n",
      "418:\tlearn: 6334145.5572018\ttotal: 14.5s\tremaining: 20.1s\n",
      "419:\tlearn: 6325067.8009915\ttotal: 14.5s\tremaining: 20s\n",
      "420:\tlearn: 6324882.1131092\ttotal: 14.5s\tremaining: 20s\n",
      "421:\tlearn: 6320999.8482908\ttotal: 14.6s\tremaining: 20s\n",
      "422:\tlearn: 6317215.2554829\ttotal: 14.6s\tremaining: 19.9s\n",
      "423:\tlearn: 6314370.3807270\ttotal: 14.6s\tremaining: 19.9s\n",
      "424:\tlearn: 6313720.8997239\ttotal: 14.7s\tremaining: 19.9s\n",
      "425:\tlearn: 6312378.2656123\ttotal: 14.7s\tremaining: 19.8s\n",
      "426:\tlearn: 6312110.0484706\ttotal: 14.7s\tremaining: 19.8s\n",
      "427:\tlearn: 6306259.1165905\ttotal: 14.8s\tremaining: 19.7s\n",
      "428:\tlearn: 6303931.2672050\ttotal: 14.8s\tremaining: 19.7s\n",
      "429:\tlearn: 6301946.1505014\ttotal: 14.8s\tremaining: 19.7s\n",
      "430:\tlearn: 6299238.5805530\ttotal: 14.9s\tremaining: 19.6s\n",
      "431:\tlearn: 6296983.7530677\ttotal: 14.9s\tremaining: 19.6s\n",
      "432:\tlearn: 6296283.3867641\ttotal: 14.9s\tremaining: 19.6s\n",
      "433:\tlearn: 6293365.8934213\ttotal: 15s\tremaining: 19.5s\n",
      "434:\tlearn: 6288210.3502260\ttotal: 15s\tremaining: 19.5s\n",
      "435:\tlearn: 6282788.9976522\ttotal: 15s\tremaining: 19.4s\n",
      "436:\tlearn: 6276766.7653064\ttotal: 15.1s\tremaining: 19.4s\n",
      "437:\tlearn: 6274009.0753110\ttotal: 15.1s\tremaining: 19.4s\n",
      "438:\tlearn: 6273824.7682555\ttotal: 15.1s\tremaining: 19.3s\n",
      "439:\tlearn: 6273586.1840612\ttotal: 15.2s\tremaining: 19.3s\n",
      "440:\tlearn: 6273425.9956702\ttotal: 15.2s\tremaining: 19.3s\n",
      "441:\tlearn: 6270885.3371053\ttotal: 15.2s\tremaining: 19.2s\n",
      "442:\tlearn: 6270735.6546318\ttotal: 15.3s\tremaining: 19.2s\n",
      "443:\tlearn: 6263124.1672513\ttotal: 15.3s\tremaining: 19.2s\n",
      "444:\tlearn: 6258136.2903162\ttotal: 15.3s\tremaining: 19.1s\n",
      "445:\tlearn: 6254582.2367143\ttotal: 15.4s\tremaining: 19.1s\n",
      "446:\tlearn: 6250752.5114162\ttotal: 15.4s\tremaining: 19.1s\n",
      "447:\tlearn: 6249523.9732088\ttotal: 15.4s\tremaining: 19s\n",
      "448:\tlearn: 6245602.0972738\ttotal: 15.5s\tremaining: 19s\n",
      "449:\tlearn: 6240465.5332970\ttotal: 15.5s\tremaining: 18.9s\n",
      "450:\tlearn: 6240003.1199099\ttotal: 15.5s\tremaining: 18.9s\n",
      "451:\tlearn: 6237772.5238588\ttotal: 15.6s\tremaining: 18.9s\n",
      "452:\tlearn: 6236437.1253237\ttotal: 15.6s\tremaining: 18.8s\n",
      "453:\tlearn: 6236030.8614913\ttotal: 15.6s\tremaining: 18.8s\n",
      "454:\tlearn: 6234906.9949040\ttotal: 15.7s\tremaining: 18.8s\n",
      "455:\tlearn: 6232874.4772432\ttotal: 15.7s\tremaining: 18.7s\n",
      "456:\tlearn: 6230526.6695285\ttotal: 15.8s\tremaining: 18.7s\n",
      "457:\tlearn: 6225312.6757474\ttotal: 15.8s\tremaining: 18.7s\n",
      "458:\tlearn: 6222705.2599599\ttotal: 15.9s\tremaining: 18.7s\n",
      "459:\tlearn: 6218579.3114264\ttotal: 15.9s\tremaining: 18.7s\n",
      "460:\tlearn: 6215554.4831740\ttotal: 16s\tremaining: 18.7s\n",
      "461:\tlearn: 6212544.1549052\ttotal: 16s\tremaining: 18.6s\n",
      "462:\tlearn: 6211342.4075622\ttotal: 16s\tremaining: 18.6s\n",
      "463:\tlearn: 6208850.7324571\ttotal: 16.1s\tremaining: 18.6s\n",
      "464:\tlearn: 6208648.9240110\ttotal: 16.2s\tremaining: 18.6s\n",
      "465:\tlearn: 6206368.0621039\ttotal: 16.2s\tremaining: 18.6s\n",
      "466:\tlearn: 6201253.2962754\ttotal: 16.3s\tremaining: 18.6s\n",
      "467:\tlearn: 6198291.7522431\ttotal: 16.4s\tremaining: 18.6s\n",
      "468:\tlearn: 6197687.1221776\ttotal: 16.6s\tremaining: 18.8s\n",
      "469:\tlearn: 6194913.4665971\ttotal: 16.7s\tremaining: 18.8s\n",
      "470:\tlearn: 6191572.2693938\ttotal: 16.7s\tremaining: 18.8s\n",
      "471:\tlearn: 6190124.9715096\ttotal: 16.8s\tremaining: 18.8s\n",
      "472:\tlearn: 6189951.8639575\ttotal: 16.9s\tremaining: 18.8s\n",
      "473:\tlearn: 6187689.8289913\ttotal: 16.9s\tremaining: 18.8s\n",
      "474:\tlearn: 6177271.8671548\ttotal: 17s\tremaining: 18.8s\n",
      "475:\tlearn: 6177124.8963170\ttotal: 17.2s\tremaining: 18.9s\n",
      "476:\tlearn: 6176056.9568728\ttotal: 17.2s\tremaining: 18.9s\n",
      "477:\tlearn: 6175090.9718803\ttotal: 17.3s\tremaining: 18.8s\n",
      "478:\tlearn: 6169583.8842403\ttotal: 17.3s\tremaining: 18.8s\n",
      "479:\tlearn: 6167267.6570346\ttotal: 17.4s\tremaining: 18.8s\n",
      "480:\tlearn: 6163229.9456530\ttotal: 17.4s\tremaining: 18.8s\n",
      "481:\tlearn: 6162697.3503605\ttotal: 17.5s\tremaining: 18.8s\n",
      "482:\tlearn: 6161215.0673402\ttotal: 17.5s\tremaining: 18.8s\n",
      "483:\tlearn: 6159424.0590818\ttotal: 17.6s\tremaining: 18.7s\n",
      "484:\tlearn: 6155731.7932688\ttotal: 17.6s\tremaining: 18.7s\n",
      "485:\tlearn: 6154372.9671798\ttotal: 17.7s\tremaining: 18.7s\n",
      "486:\tlearn: 6151717.3270461\ttotal: 17.8s\tremaining: 18.7s\n",
      "487:\tlearn: 6151580.6220028\ttotal: 17.8s\tremaining: 18.7s\n",
      "488:\tlearn: 6149344.9477123\ttotal: 17.9s\tremaining: 18.7s\n",
      "489:\tlearn: 6146957.1736672\ttotal: 17.9s\tremaining: 18.7s\n",
      "490:\tlearn: 6144295.4084359\ttotal: 18s\tremaining: 18.6s\n",
      "491:\tlearn: 6142179.2793616\ttotal: 18s\tremaining: 18.6s\n",
      "492:\tlearn: 6141920.7991904\ttotal: 18s\tremaining: 18.5s\n",
      "493:\tlearn: 6140991.0961042\ttotal: 18.1s\tremaining: 18.5s\n",
      "494:\tlearn: 6139110.1784542\ttotal: 18.1s\tremaining: 18.5s\n",
      "495:\tlearn: 6138240.2999359\ttotal: 18.1s\tremaining: 18.4s\n",
      "496:\tlearn: 6135366.7193711\ttotal: 18.2s\tremaining: 18.4s\n",
      "497:\tlearn: 6132796.6659070\ttotal: 18.2s\tremaining: 18.3s\n",
      "498:\tlearn: 6130551.8282721\ttotal: 18.2s\tremaining: 18.3s\n",
      "499:\tlearn: 6129662.2921418\ttotal: 18.3s\tremaining: 18.3s\n",
      "500:\tlearn: 6124924.5734276\ttotal: 18.3s\tremaining: 18.2s\n",
      "501:\tlearn: 6123634.3213886\ttotal: 18.3s\tremaining: 18.2s\n",
      "502:\tlearn: 6111545.0681702\ttotal: 18.4s\tremaining: 18.1s\n",
      "503:\tlearn: 6109558.8113496\ttotal: 18.4s\tremaining: 18.1s\n",
      "504:\tlearn: 6107104.7500287\ttotal: 18.4s\tremaining: 18.1s\n",
      "505:\tlearn: 6096326.1876908\ttotal: 18.5s\tremaining: 18s\n",
      "506:\tlearn: 6092286.3226264\ttotal: 18.5s\tremaining: 18s\n",
      "507:\tlearn: 6088921.2744242\ttotal: 18.5s\tremaining: 17.9s\n",
      "508:\tlearn: 6081180.4559707\ttotal: 18.6s\tremaining: 17.9s\n",
      "509:\tlearn: 6075180.8985701\ttotal: 18.6s\tremaining: 17.9s\n",
      "510:\tlearn: 6074645.3418704\ttotal: 18.6s\tremaining: 17.8s\n",
      "511:\tlearn: 6069695.4867745\ttotal: 18.7s\tremaining: 17.8s\n",
      "512:\tlearn: 6065027.7375053\ttotal: 18.7s\tremaining: 17.8s\n",
      "513:\tlearn: 6062540.5197603\ttotal: 18.7s\tremaining: 17.7s\n",
      "514:\tlearn: 6056623.4545722\ttotal: 18.8s\tremaining: 17.7s\n",
      "515:\tlearn: 6053329.7729422\ttotal: 18.8s\tremaining: 17.6s\n",
      "516:\tlearn: 6051040.2881110\ttotal: 18.8s\tremaining: 17.6s\n",
      "517:\tlearn: 6046541.7038021\ttotal: 18.9s\tremaining: 17.5s\n",
      "518:\tlearn: 6045075.8713163\ttotal: 18.9s\tremaining: 17.5s\n",
      "519:\tlearn: 6043038.8009514\ttotal: 18.9s\tremaining: 17.5s\n",
      "520:\tlearn: 6039926.3610722\ttotal: 19s\tremaining: 17.4s\n",
      "521:\tlearn: 6039143.0562335\ttotal: 19s\tremaining: 17.4s\n",
      "522:\tlearn: 6038408.2439955\ttotal: 19.1s\tremaining: 17.4s\n",
      "523:\tlearn: 6034977.6211663\ttotal: 19.1s\tremaining: 17.3s\n",
      "524:\tlearn: 6030550.2811738\ttotal: 19.1s\tremaining: 17.3s\n",
      "525:\tlearn: 6029861.3683861\ttotal: 19.2s\tremaining: 17.3s\n",
      "526:\tlearn: 6028002.3776277\ttotal: 19.2s\tremaining: 17.2s\n",
      "527:\tlearn: 6026042.7251862\ttotal: 19.2s\tremaining: 17.2s\n",
      "528:\tlearn: 6020716.4423260\ttotal: 19.3s\tremaining: 17.2s\n",
      "529:\tlearn: 6017957.1801914\ttotal: 19.3s\tremaining: 17.1s\n",
      "530:\tlearn: 6015789.6649761\ttotal: 19.3s\tremaining: 17.1s\n",
      "531:\tlearn: 6012805.1775795\ttotal: 19.4s\tremaining: 17s\n",
      "532:\tlearn: 6007748.2491849\ttotal: 19.4s\tremaining: 17s\n",
      "533:\tlearn: 6004889.8518838\ttotal: 19.4s\tremaining: 17s\n",
      "534:\tlearn: 6001085.1747599\ttotal: 19.5s\tremaining: 16.9s\n",
      "535:\tlearn: 6000985.3222833\ttotal: 19.5s\tremaining: 16.9s\n",
      "536:\tlearn: 5998710.5682116\ttotal: 19.5s\tremaining: 16.8s\n",
      "537:\tlearn: 5992950.8002717\ttotal: 19.6s\tremaining: 16.8s\n",
      "538:\tlearn: 5989044.4161556\ttotal: 19.6s\tremaining: 16.8s\n",
      "539:\tlearn: 5985741.0917725\ttotal: 19.6s\tremaining: 16.7s\n",
      "540:\tlearn: 5983135.4972796\ttotal: 19.7s\tremaining: 16.7s\n",
      "541:\tlearn: 5982510.5434697\ttotal: 19.7s\tremaining: 16.6s\n",
      "542:\tlearn: 5979891.1726587\ttotal: 19.7s\tremaining: 16.6s\n",
      "543:\tlearn: 5976661.8205372\ttotal: 19.7s\tremaining: 16.6s\n",
      "544:\tlearn: 5974235.6007985\ttotal: 19.8s\tremaining: 16.5s\n",
      "545:\tlearn: 5971593.3210591\ttotal: 19.8s\tremaining: 16.5s\n",
      "546:\tlearn: 5969389.8224335\ttotal: 19.8s\tremaining: 16.4s\n",
      "547:\tlearn: 5965616.8239050\ttotal: 19.9s\tremaining: 16.4s\n",
      "548:\tlearn: 5964471.1656840\ttotal: 19.9s\tremaining: 16.4s\n",
      "549:\tlearn: 5962283.5807660\ttotal: 19.9s\tremaining: 16.3s\n",
      "550:\tlearn: 5959927.3256023\ttotal: 20s\tremaining: 16.3s\n",
      "551:\tlearn: 5956879.9665073\ttotal: 20s\tremaining: 16.2s\n",
      "552:\tlearn: 5952975.2062716\ttotal: 20s\tremaining: 16.2s\n",
      "553:\tlearn: 5950240.2125912\ttotal: 20.1s\tremaining: 16.2s\n",
      "554:\tlearn: 5947918.0005218\ttotal: 20.1s\tremaining: 16.1s\n",
      "555:\tlearn: 5947037.6523909\ttotal: 20.2s\tremaining: 16.1s\n",
      "556:\tlearn: 5944359.8099412\ttotal: 20.2s\tremaining: 16.1s\n",
      "557:\tlearn: 5939578.5618036\ttotal: 20.2s\tremaining: 16s\n",
      "558:\tlearn: 5936312.4137263\ttotal: 20.3s\tremaining: 16s\n",
      "559:\tlearn: 5933267.1517875\ttotal: 20.3s\tremaining: 16s\n",
      "560:\tlearn: 5932427.8293606\ttotal: 20.3s\tremaining: 15.9s\n",
      "561:\tlearn: 5928927.1770060\ttotal: 20.4s\tremaining: 15.9s\n",
      "562:\tlearn: 5925864.3260651\ttotal: 20.4s\tremaining: 15.9s\n",
      "563:\tlearn: 5924222.7714698\ttotal: 20.5s\tremaining: 15.8s\n",
      "564:\tlearn: 5917625.2808429\ttotal: 20.5s\tremaining: 15.8s\n",
      "565:\tlearn: 5910095.0955645\ttotal: 20.5s\tremaining: 15.7s\n",
      "566:\tlearn: 5909287.6224421\ttotal: 20.6s\tremaining: 15.7s\n",
      "567:\tlearn: 5908275.7822202\ttotal: 20.6s\tremaining: 15.7s\n",
      "568:\tlearn: 5906648.7102539\ttotal: 20.6s\tremaining: 15.6s\n",
      "569:\tlearn: 5896897.1761368\ttotal: 20.7s\tremaining: 15.6s\n",
      "570:\tlearn: 5894824.4249399\ttotal: 20.7s\tremaining: 15.6s\n",
      "571:\tlearn: 5892895.6200293\ttotal: 20.8s\tremaining: 15.5s\n",
      "572:\tlearn: 5892651.3293678\ttotal: 20.8s\tremaining: 15.5s\n",
      "573:\tlearn: 5888706.5798788\ttotal: 20.8s\tremaining: 15.5s\n",
      "574:\tlearn: 5885578.4718697\ttotal: 20.9s\tremaining: 15.4s\n",
      "575:\tlearn: 5884968.3302434\ttotal: 20.9s\tremaining: 15.4s\n",
      "576:\tlearn: 5880871.0579984\ttotal: 20.9s\tremaining: 15.3s\n",
      "577:\tlearn: 5874877.9122332\ttotal: 21s\tremaining: 15.3s\n",
      "578:\tlearn: 5868075.5641760\ttotal: 21s\tremaining: 15.3s\n",
      "579:\tlearn: 5866720.5760434\ttotal: 21s\tremaining: 15.2s\n",
      "580:\tlearn: 5865964.8617611\ttotal: 21.1s\tremaining: 15.2s\n",
      "581:\tlearn: 5862467.0615911\ttotal: 21.1s\tremaining: 15.1s\n",
      "582:\tlearn: 5862213.5231289\ttotal: 21.1s\tremaining: 15.1s\n",
      "583:\tlearn: 5859876.8485740\ttotal: 21.2s\tremaining: 15.1s\n",
      "584:\tlearn: 5856997.5654171\ttotal: 21.2s\tremaining: 15.1s\n",
      "585:\tlearn: 5854236.9658188\ttotal: 21.3s\tremaining: 15s\n",
      "586:\tlearn: 5851241.9490524\ttotal: 21.3s\tremaining: 15s\n",
      "587:\tlearn: 5849436.6262800\ttotal: 21.4s\tremaining: 15s\n",
      "588:\tlearn: 5847141.7238998\ttotal: 21.4s\tremaining: 15s\n",
      "589:\tlearn: 5843527.4308191\ttotal: 21.5s\tremaining: 14.9s\n",
      "590:\tlearn: 5842822.2387278\ttotal: 21.5s\tremaining: 14.9s\n",
      "591:\tlearn: 5842393.6248934\ttotal: 21.6s\tremaining: 14.9s\n",
      "592:\tlearn: 5839277.2302318\ttotal: 21.6s\tremaining: 14.8s\n",
      "593:\tlearn: 5837603.1700559\ttotal: 21.6s\tremaining: 14.8s\n",
      "594:\tlearn: 5837442.8325507\ttotal: 21.7s\tremaining: 14.8s\n",
      "595:\tlearn: 5836504.3384624\ttotal: 21.7s\tremaining: 14.7s\n",
      "596:\tlearn: 5836081.3377935\ttotal: 21.7s\tremaining: 14.7s\n",
      "597:\tlearn: 5834045.3916482\ttotal: 21.8s\tremaining: 14.7s\n",
      "598:\tlearn: 5831272.1641240\ttotal: 21.9s\tremaining: 14.7s\n",
      "599:\tlearn: 5828821.9539480\ttotal: 22s\tremaining: 14.7s\n",
      "600:\tlearn: 5826784.7358605\ttotal: 22s\tremaining: 14.6s\n",
      "601:\tlearn: 5826404.8837486\ttotal: 22.2s\tremaining: 14.6s\n",
      "602:\tlearn: 5824337.4103201\ttotal: 22.2s\tremaining: 14.6s\n",
      "603:\tlearn: 5822278.9588597\ttotal: 22.3s\tremaining: 14.6s\n",
      "604:\tlearn: 5821954.6150413\ttotal: 22.3s\tremaining: 14.6s\n",
      "605:\tlearn: 5821808.3020815\ttotal: 22.3s\tremaining: 14.5s\n",
      "606:\tlearn: 5821585.3836915\ttotal: 22.4s\tremaining: 14.5s\n",
      "607:\tlearn: 5820401.4438206\ttotal: 22.4s\tremaining: 14.5s\n",
      "608:\tlearn: 5818111.4414214\ttotal: 22.5s\tremaining: 14.4s\n",
      "609:\tlearn: 5814289.5626177\ttotal: 22.5s\tremaining: 14.4s\n",
      "610:\tlearn: 5808983.6314921\ttotal: 22.6s\tremaining: 14.4s\n",
      "611:\tlearn: 5806635.1360782\ttotal: 22.6s\tremaining: 14.3s\n",
      "612:\tlearn: 5804201.6728685\ttotal: 22.7s\tremaining: 14.3s\n",
      "613:\tlearn: 5802288.7647316\ttotal: 22.7s\tremaining: 14.3s\n",
      "614:\tlearn: 5802182.4004896\ttotal: 22.7s\tremaining: 14.2s\n",
      "615:\tlearn: 5798913.2019238\ttotal: 22.8s\tremaining: 14.2s\n",
      "616:\tlearn: 5798561.7168841\ttotal: 22.8s\tremaining: 14.2s\n",
      "617:\tlearn: 5794946.6915085\ttotal: 22.8s\tremaining: 14.1s\n",
      "618:\tlearn: 5790870.9603862\ttotal: 22.9s\tremaining: 14.1s\n",
      "619:\tlearn: 5788976.7533472\ttotal: 22.9s\tremaining: 14s\n",
      "620:\tlearn: 5787712.7294689\ttotal: 23s\tremaining: 14s\n",
      "621:\tlearn: 5786474.3679931\ttotal: 23s\tremaining: 14s\n",
      "622:\tlearn: 5783597.0916962\ttotal: 23s\tremaining: 13.9s\n",
      "623:\tlearn: 5780446.8495612\ttotal: 23.1s\tremaining: 13.9s\n",
      "624:\tlearn: 5778794.6548266\ttotal: 23.1s\tremaining: 13.9s\n",
      "625:\tlearn: 5775434.0050748\ttotal: 23.2s\tremaining: 13.8s\n",
      "626:\tlearn: 5773490.4592360\ttotal: 23.2s\tremaining: 13.8s\n",
      "627:\tlearn: 5773076.1301314\ttotal: 23.2s\tremaining: 13.8s\n",
      "628:\tlearn: 5766758.0475592\ttotal: 23.3s\tremaining: 13.7s\n",
      "629:\tlearn: 5765911.5740849\ttotal: 23.3s\tremaining: 13.7s\n",
      "630:\tlearn: 5762505.7958150\ttotal: 23.3s\tremaining: 13.6s\n",
      "631:\tlearn: 5760524.1875280\ttotal: 23.4s\tremaining: 13.6s\n",
      "632:\tlearn: 5758728.4378581\ttotal: 23.4s\tremaining: 13.6s\n",
      "633:\tlearn: 5756197.8602652\ttotal: 23.5s\tremaining: 13.6s\n",
      "634:\tlearn: 5755683.3207974\ttotal: 23.6s\tremaining: 13.5s\n",
      "635:\tlearn: 5753365.6784180\ttotal: 23.6s\tremaining: 13.5s\n",
      "636:\tlearn: 5752982.5093274\ttotal: 23.7s\tremaining: 13.5s\n",
      "637:\tlearn: 5751797.8560734\ttotal: 23.8s\tremaining: 13.5s\n",
      "638:\tlearn: 5749270.1978038\ttotal: 23.9s\tremaining: 13.5s\n",
      "639:\tlearn: 5747667.3108899\ttotal: 24s\tremaining: 13.5s\n",
      "640:\tlearn: 5746287.3419234\ttotal: 24s\tremaining: 13.4s\n",
      "641:\tlearn: 5744495.9468316\ttotal: 24s\tremaining: 13.4s\n",
      "642:\tlearn: 5742633.3742471\ttotal: 24.1s\tremaining: 13.4s\n",
      "643:\tlearn: 5741713.2114695\ttotal: 24.1s\tremaining: 13.3s\n",
      "644:\tlearn: 5740680.6703704\ttotal: 24.2s\tremaining: 13.3s\n",
      "645:\tlearn: 5735805.1303707\ttotal: 24.2s\tremaining: 13.3s\n",
      "646:\tlearn: 5734372.0166253\ttotal: 24.2s\tremaining: 13.2s\n",
      "647:\tlearn: 5733903.4075106\ttotal: 24.3s\tremaining: 13.2s\n",
      "648:\tlearn: 5732198.4246835\ttotal: 24.4s\tremaining: 13.2s\n",
      "649:\tlearn: 5731231.0561079\ttotal: 24.4s\tremaining: 13.1s\n",
      "650:\tlearn: 5729446.6345379\ttotal: 24.5s\tremaining: 13.1s\n",
      "651:\tlearn: 5728046.4235412\ttotal: 24.5s\tremaining: 13.1s\n",
      "652:\tlearn: 5726718.3203991\ttotal: 24.5s\tremaining: 13s\n",
      "653:\tlearn: 5724938.2691296\ttotal: 24.6s\tremaining: 13s\n",
      "654:\tlearn: 5723969.1116163\ttotal: 24.7s\tremaining: 13s\n",
      "655:\tlearn: 5723638.2219551\ttotal: 24.7s\tremaining: 13s\n",
      "656:\tlearn: 5721748.6409243\ttotal: 24.8s\tremaining: 12.9s\n",
      "657:\tlearn: 5719469.1210917\ttotal: 24.8s\tremaining: 12.9s\n",
      "658:\tlearn: 5717446.6550833\ttotal: 24.9s\tremaining: 12.9s\n",
      "659:\tlearn: 5715397.1528006\ttotal: 24.9s\tremaining: 12.8s\n",
      "660:\tlearn: 5715305.3231676\ttotal: 24.9s\tremaining: 12.8s\n",
      "661:\tlearn: 5715218.4782383\ttotal: 25s\tremaining: 12.7s\n",
      "662:\tlearn: 5711559.2900679\ttotal: 25s\tremaining: 12.7s\n",
      "663:\tlearn: 5709910.6743540\ttotal: 25s\tremaining: 12.7s\n",
      "664:\tlearn: 5706059.8348974\ttotal: 25.1s\tremaining: 12.6s\n",
      "665:\tlearn: 5705972.5073032\ttotal: 25.1s\tremaining: 12.6s\n",
      "666:\tlearn: 5704574.2594363\ttotal: 25.2s\tremaining: 12.6s\n",
      "667:\tlearn: 5702908.4292433\ttotal: 25.2s\tremaining: 12.5s\n",
      "668:\tlearn: 5701607.8044716\ttotal: 25.2s\tremaining: 12.5s\n",
      "669:\tlearn: 5698250.6831979\ttotal: 25.3s\tremaining: 12.5s\n",
      "670:\tlearn: 5697845.9292672\ttotal: 25.3s\tremaining: 12.4s\n",
      "671:\tlearn: 5696524.9457181\ttotal: 25.4s\tremaining: 12.4s\n",
      "672:\tlearn: 5694976.3144011\ttotal: 25.4s\tremaining: 12.3s\n",
      "673:\tlearn: 5694607.9597278\ttotal: 25.4s\tremaining: 12.3s\n",
      "674:\tlearn: 5690627.2472488\ttotal: 25.5s\tremaining: 12.3s\n",
      "675:\tlearn: 5688412.8826885\ttotal: 25.5s\tremaining: 12.2s\n",
      "676:\tlearn: 5687155.9539091\ttotal: 25.6s\tremaining: 12.2s\n",
      "677:\tlearn: 5684820.6815150\ttotal: 25.7s\tremaining: 12.2s\n",
      "678:\tlearn: 5683644.9617631\ttotal: 25.8s\tremaining: 12.2s\n",
      "679:\tlearn: 5682237.2699179\ttotal: 25.8s\tremaining: 12.2s\n",
      "680:\tlearn: 5679331.9048355\ttotal: 25.9s\tremaining: 12.1s\n",
      "681:\tlearn: 5678998.9936438\ttotal: 26s\tremaining: 12.1s\n",
      "682:\tlearn: 5678779.7952064\ttotal: 26s\tremaining: 12.1s\n",
      "683:\tlearn: 5676613.5577926\ttotal: 26s\tremaining: 12s\n",
      "684:\tlearn: 5673934.9117584\ttotal: 26.1s\tremaining: 12s\n",
      "685:\tlearn: 5672385.2727511\ttotal: 26.1s\tremaining: 11.9s\n",
      "686:\tlearn: 5670977.1115558\ttotal: 26.1s\tremaining: 11.9s\n",
      "687:\tlearn: 5667711.7371269\ttotal: 26.2s\tremaining: 11.9s\n",
      "688:\tlearn: 5665181.3219825\ttotal: 26.2s\tremaining: 11.8s\n",
      "689:\tlearn: 5664204.2571238\ttotal: 26.2s\tremaining: 11.8s\n",
      "690:\tlearn: 5664030.0221147\ttotal: 26.3s\tremaining: 11.7s\n",
      "691:\tlearn: 5660663.9035605\ttotal: 26.3s\tremaining: 11.7s\n",
      "692:\tlearn: 5658176.7346601\ttotal: 26.3s\tremaining: 11.7s\n",
      "693:\tlearn: 5651839.9656812\ttotal: 26.4s\tremaining: 11.6s\n",
      "694:\tlearn: 5651530.6157801\ttotal: 26.4s\tremaining: 11.6s\n",
      "695:\tlearn: 5647452.4926732\ttotal: 26.4s\tremaining: 11.5s\n",
      "696:\tlearn: 5646562.7295741\ttotal: 26.5s\tremaining: 11.5s\n",
      "697:\tlearn: 5638855.8973957\ttotal: 26.5s\tremaining: 11.5s\n",
      "698:\tlearn: 5638701.1234343\ttotal: 26.5s\tremaining: 11.4s\n",
      "699:\tlearn: 5635185.1568435\ttotal: 26.6s\tremaining: 11.4s\n",
      "700:\tlearn: 5629124.3818292\ttotal: 26.6s\tremaining: 11.3s\n",
      "701:\tlearn: 5626789.3861681\ttotal: 26.6s\tremaining: 11.3s\n",
      "702:\tlearn: 5623128.8449811\ttotal: 26.7s\tremaining: 11.3s\n",
      "703:\tlearn: 5622851.3112236\ttotal: 26.7s\tremaining: 11.2s\n",
      "704:\tlearn: 5621003.1530051\ttotal: 26.7s\tremaining: 11.2s\n",
      "705:\tlearn: 5617677.9655142\ttotal: 26.8s\tremaining: 11.2s\n",
      "706:\tlearn: 5615265.2781230\ttotal: 26.8s\tremaining: 11.1s\n",
      "707:\tlearn: 5611816.6128989\ttotal: 26.9s\tremaining: 11.1s\n",
      "708:\tlearn: 5609004.5462531\ttotal: 26.9s\tremaining: 11s\n",
      "709:\tlearn: 5604875.4872498\ttotal: 27s\tremaining: 11s\n",
      "710:\tlearn: 5601438.3277950\ttotal: 27s\tremaining: 11s\n",
      "711:\tlearn: 5600430.6983103\ttotal: 27s\tremaining: 10.9s\n",
      "712:\tlearn: 5597816.5659779\ttotal: 27.1s\tremaining: 10.9s\n",
      "713:\tlearn: 5597159.1672307\ttotal: 27.1s\tremaining: 10.8s\n",
      "714:\tlearn: 5593459.4975001\ttotal: 27.1s\tremaining: 10.8s\n",
      "715:\tlearn: 5590958.1021051\ttotal: 27.2s\tremaining: 10.8s\n",
      "716:\tlearn: 5589148.9343129\ttotal: 27.2s\tremaining: 10.7s\n",
      "717:\tlearn: 5585522.1352223\ttotal: 27.2s\tremaining: 10.7s\n",
      "718:\tlearn: 5584308.4707325\ttotal: 27.3s\tremaining: 10.7s\n",
      "719:\tlearn: 5583661.9870390\ttotal: 27.3s\tremaining: 10.6s\n",
      "720:\tlearn: 5582654.3801524\ttotal: 27.4s\tremaining: 10.6s\n",
      "721:\tlearn: 5582607.2493831\ttotal: 27.4s\tremaining: 10.6s\n",
      "722:\tlearn: 5581233.5123276\ttotal: 27.5s\tremaining: 10.5s\n",
      "723:\tlearn: 5581025.9200023\ttotal: 27.5s\tremaining: 10.5s\n",
      "724:\tlearn: 5579761.2032517\ttotal: 27.5s\tremaining: 10.4s\n",
      "725:\tlearn: 5577439.0736788\ttotal: 27.6s\tremaining: 10.4s\n",
      "726:\tlearn: 5573594.5095514\ttotal: 27.6s\tremaining: 10.4s\n",
      "727:\tlearn: 5570707.9797949\ttotal: 27.7s\tremaining: 10.3s\n",
      "728:\tlearn: 5569580.6041959\ttotal: 27.7s\tremaining: 10.3s\n",
      "729:\tlearn: 5568684.2927326\ttotal: 27.7s\tremaining: 10.3s\n",
      "730:\tlearn: 5567510.6522957\ttotal: 27.8s\tremaining: 10.2s\n",
      "731:\tlearn: 5565461.1771173\ttotal: 27.8s\tremaining: 10.2s\n",
      "732:\tlearn: 5565239.1660077\ttotal: 27.9s\tremaining: 10.1s\n",
      "733:\tlearn: 5564263.0499697\ttotal: 27.9s\tremaining: 10.1s\n",
      "734:\tlearn: 5564184.5128313\ttotal: 27.9s\tremaining: 10.1s\n",
      "735:\tlearn: 5563157.9294064\ttotal: 28s\tremaining: 10s\n",
      "736:\tlearn: 5560052.8860521\ttotal: 28s\tremaining: 9.99s\n",
      "737:\tlearn: 5558921.1108401\ttotal: 28s\tremaining: 9.95s\n",
      "738:\tlearn: 5555891.2195816\ttotal: 28.1s\tremaining: 9.91s\n",
      "739:\tlearn: 5553226.7773734\ttotal: 28.1s\tremaining: 9.88s\n",
      "740:\tlearn: 5551308.7429858\ttotal: 28.2s\tremaining: 9.84s\n",
      "741:\tlearn: 5551111.3220157\ttotal: 28.2s\tremaining: 9.8s\n",
      "742:\tlearn: 5548109.6498302\ttotal: 28.2s\tremaining: 9.77s\n",
      "743:\tlearn: 5547396.8370659\ttotal: 28.3s\tremaining: 9.73s\n",
      "744:\tlearn: 5546346.2125096\ttotal: 28.3s\tremaining: 9.69s\n",
      "745:\tlearn: 5544001.5394494\ttotal: 28.4s\tremaining: 9.65s\n",
      "746:\tlearn: 5543109.5273941\ttotal: 28.4s\tremaining: 9.61s\n",
      "747:\tlearn: 5540860.3733397\ttotal: 28.4s\tremaining: 9.57s\n",
      "748:\tlearn: 5540310.0415316\ttotal: 28.5s\tremaining: 9.54s\n",
      "749:\tlearn: 5536863.1702972\ttotal: 28.5s\tremaining: 9.5s\n",
      "750:\tlearn: 5532911.7159877\ttotal: 28.5s\tremaining: 9.46s\n",
      "751:\tlearn: 5529070.1083822\ttotal: 28.6s\tremaining: 9.42s\n",
      "752:\tlearn: 5526457.5154656\ttotal: 28.6s\tremaining: 9.38s\n",
      "753:\tlearn: 5523824.5826852\ttotal: 28.6s\tremaining: 9.34s\n",
      "754:\tlearn: 5521122.6303642\ttotal: 28.7s\tremaining: 9.3s\n",
      "755:\tlearn: 5520550.7406822\ttotal: 28.7s\tremaining: 9.26s\n",
      "756:\tlearn: 5519235.6901792\ttotal: 28.7s\tremaining: 9.22s\n",
      "757:\tlearn: 5517794.2246736\ttotal: 28.8s\tremaining: 9.19s\n",
      "758:\tlearn: 5514164.6976697\ttotal: 28.8s\tremaining: 9.15s\n",
      "759:\tlearn: 5513401.5307245\ttotal: 28.8s\tremaining: 9.11s\n",
      "760:\tlearn: 5512441.9556349\ttotal: 28.9s\tremaining: 9.07s\n",
      "761:\tlearn: 5511130.3453586\ttotal: 28.9s\tremaining: 9.03s\n",
      "762:\tlearn: 5507352.5062790\ttotal: 28.9s\tremaining: 8.99s\n",
      "763:\tlearn: 5506685.5609037\ttotal: 29s\tremaining: 8.95s\n",
      "764:\tlearn: 5505986.0945319\ttotal: 29s\tremaining: 8.91s\n",
      "765:\tlearn: 5505115.5730290\ttotal: 29.1s\tremaining: 8.88s\n",
      "766:\tlearn: 5502530.8166295\ttotal: 29.1s\tremaining: 8.84s\n",
      "767:\tlearn: 5502322.8137204\ttotal: 29.1s\tremaining: 8.8s\n",
      "768:\tlearn: 5498170.9895027\ttotal: 29.2s\tremaining: 8.76s\n",
      "769:\tlearn: 5495943.6477921\ttotal: 29.2s\tremaining: 8.72s\n",
      "770:\tlearn: 5490342.7643062\ttotal: 29.2s\tremaining: 8.68s\n",
      "771:\tlearn: 5488181.6856394\ttotal: 29.3s\tremaining: 8.64s\n",
      "772:\tlearn: 5486641.1486644\ttotal: 29.3s\tremaining: 8.61s\n",
      "773:\tlearn: 5484728.2918849\ttotal: 29.3s\tremaining: 8.57s\n",
      "774:\tlearn: 5482332.8332206\ttotal: 29.4s\tremaining: 8.53s\n",
      "775:\tlearn: 5479072.7305150\ttotal: 29.4s\tremaining: 8.49s\n",
      "776:\tlearn: 5478133.2007974\ttotal: 29.4s\tremaining: 8.45s\n",
      "777:\tlearn: 5475533.1516478\ttotal: 29.5s\tremaining: 8.41s\n",
      "778:\tlearn: 5471951.9725315\ttotal: 29.5s\tremaining: 8.37s\n",
      "779:\tlearn: 5468485.8107065\ttotal: 29.5s\tremaining: 8.33s\n",
      "780:\tlearn: 5464813.2943529\ttotal: 29.6s\tremaining: 8.29s\n",
      "781:\tlearn: 5463596.2298121\ttotal: 29.6s\tremaining: 8.25s\n",
      "782:\tlearn: 5461387.6803661\ttotal: 29.6s\tremaining: 8.21s\n",
      "783:\tlearn: 5456708.2375568\ttotal: 29.7s\tremaining: 8.17s\n",
      "784:\tlearn: 5456523.9696380\ttotal: 29.7s\tremaining: 8.14s\n",
      "785:\tlearn: 5453671.0466597\ttotal: 29.8s\tremaining: 8.11s\n",
      "786:\tlearn: 5452616.9400670\ttotal: 29.8s\tremaining: 8.06s\n",
      "787:\tlearn: 5450370.2667604\ttotal: 29.8s\tremaining: 8.03s\n",
      "788:\tlearn: 5449406.7764155\ttotal: 29.9s\tremaining: 7.99s\n",
      "789:\tlearn: 5448405.8259370\ttotal: 29.9s\tremaining: 7.95s\n",
      "790:\tlearn: 5448075.2684684\ttotal: 30s\tremaining: 7.92s\n",
      "791:\tlearn: 5447983.2152851\ttotal: 30s\tremaining: 7.88s\n",
      "792:\tlearn: 5446836.6444540\ttotal: 30s\tremaining: 7.84s\n",
      "793:\tlearn: 5444524.5721024\ttotal: 30.1s\tremaining: 7.8s\n",
      "794:\tlearn: 5444027.2818850\ttotal: 30.1s\tremaining: 7.76s\n",
      "795:\tlearn: 5443560.5448574\ttotal: 30.1s\tremaining: 7.72s\n",
      "796:\tlearn: 5442164.3285171\ttotal: 30.2s\tremaining: 7.68s\n",
      "797:\tlearn: 5440873.4723979\ttotal: 30.2s\tremaining: 7.64s\n",
      "798:\tlearn: 5440737.8308199\ttotal: 30.2s\tremaining: 7.6s\n",
      "799:\tlearn: 5439471.4182398\ttotal: 30.3s\tremaining: 7.56s\n",
      "800:\tlearn: 5437307.5004543\ttotal: 30.3s\tremaining: 7.53s\n",
      "801:\tlearn: 5437104.1726309\ttotal: 30.4s\tremaining: 7.5s\n",
      "802:\tlearn: 5436374.2699793\ttotal: 30.4s\tremaining: 7.46s\n",
      "803:\tlearn: 5434482.2169938\ttotal: 30.5s\tremaining: 7.42s\n",
      "804:\tlearn: 5431532.8414830\ttotal: 30.5s\tremaining: 7.39s\n",
      "805:\tlearn: 5426022.8947700\ttotal: 30.5s\tremaining: 7.35s\n",
      "806:\tlearn: 5425126.4999230\ttotal: 30.6s\tremaining: 7.31s\n",
      "807:\tlearn: 5424405.6739459\ttotal: 30.6s\tremaining: 7.27s\n",
      "808:\tlearn: 5424338.3692264\ttotal: 30.6s\tremaining: 7.24s\n",
      "809:\tlearn: 5421185.3124647\ttotal: 30.7s\tremaining: 7.2s\n",
      "810:\tlearn: 5417585.1154935\ttotal: 30.7s\tremaining: 7.16s\n",
      "811:\tlearn: 5416968.7996979\ttotal: 30.7s\tremaining: 7.12s\n",
      "812:\tlearn: 5415406.1841974\ttotal: 30.8s\tremaining: 7.08s\n",
      "813:\tlearn: 5413722.8291624\ttotal: 30.8s\tremaining: 7.04s\n",
      "814:\tlearn: 5412113.9912126\ttotal: 30.8s\tremaining: 7s\n",
      "815:\tlearn: 5410722.6290837\ttotal: 30.9s\tremaining: 6.96s\n",
      "816:\tlearn: 5409572.1334625\ttotal: 30.9s\tremaining: 6.92s\n",
      "817:\tlearn: 5407953.8593038\ttotal: 30.9s\tremaining: 6.88s\n",
      "818:\tlearn: 5405893.6530562\ttotal: 31s\tremaining: 6.84s\n",
      "819:\tlearn: 5405717.7221762\ttotal: 31s\tremaining: 6.8s\n",
      "820:\tlearn: 5403348.4845965\ttotal: 31s\tremaining: 6.76s\n",
      "821:\tlearn: 5402460.3031513\ttotal: 31.1s\tremaining: 6.72s\n",
      "822:\tlearn: 5400327.4219525\ttotal: 31.1s\tremaining: 6.69s\n",
      "823:\tlearn: 5399974.5216089\ttotal: 31.1s\tremaining: 6.65s\n",
      "824:\tlearn: 5399081.9443596\ttotal: 31.2s\tremaining: 6.61s\n",
      "825:\tlearn: 5397151.5294017\ttotal: 31.2s\tremaining: 6.57s\n",
      "826:\tlearn: 5395137.0342322\ttotal: 31.2s\tremaining: 6.53s\n",
      "827:\tlearn: 5394198.6605931\ttotal: 31.2s\tremaining: 6.49s\n",
      "828:\tlearn: 5393015.1150941\ttotal: 31.3s\tremaining: 6.45s\n",
      "829:\tlearn: 5390923.0152466\ttotal: 31.3s\tremaining: 6.41s\n",
      "830:\tlearn: 5386849.2340394\ttotal: 31.3s\tremaining: 6.37s\n",
      "831:\tlearn: 5383610.5159137\ttotal: 31.4s\tremaining: 6.33s\n",
      "832:\tlearn: 5382759.7380275\ttotal: 31.4s\tremaining: 6.29s\n",
      "833:\tlearn: 5382728.9796431\ttotal: 31.4s\tremaining: 6.26s\n",
      "834:\tlearn: 5380813.7215106\ttotal: 31.5s\tremaining: 6.22s\n",
      "835:\tlearn: 5380366.8832411\ttotal: 31.5s\tremaining: 6.18s\n",
      "836:\tlearn: 5378368.2292811\ttotal: 31.5s\tremaining: 6.14s\n",
      "837:\tlearn: 5376669.7815525\ttotal: 31.6s\tremaining: 6.1s\n",
      "838:\tlearn: 5375383.2194341\ttotal: 31.6s\tremaining: 6.06s\n",
      "839:\tlearn: 5373108.6781270\ttotal: 31.6s\tremaining: 6.02s\n",
      "840:\tlearn: 5368244.9125683\ttotal: 31.6s\tremaining: 5.98s\n",
      "841:\tlearn: 5367678.0505375\ttotal: 31.7s\tremaining: 5.94s\n",
      "842:\tlearn: 5367369.6658713\ttotal: 31.7s\tremaining: 5.91s\n",
      "843:\tlearn: 5367209.3770686\ttotal: 31.7s\tremaining: 5.87s\n",
      "844:\tlearn: 5365708.1940220\ttotal: 31.8s\tremaining: 5.83s\n",
      "845:\tlearn: 5364178.2546354\ttotal: 31.8s\tremaining: 5.79s\n",
      "846:\tlearn: 5363191.6198160\ttotal: 31.8s\tremaining: 5.75s\n",
      "847:\tlearn: 5362669.1443909\ttotal: 31.9s\tremaining: 5.71s\n",
      "848:\tlearn: 5358161.9265087\ttotal: 31.9s\tremaining: 5.67s\n",
      "849:\tlearn: 5356854.1763658\ttotal: 31.9s\tremaining: 5.63s\n",
      "850:\tlearn: 5353428.6985271\ttotal: 32s\tremaining: 5.59s\n",
      "851:\tlearn: 5352483.5284170\ttotal: 32s\tremaining: 5.56s\n",
      "852:\tlearn: 5352383.4442838\ttotal: 32s\tremaining: 5.52s\n",
      "853:\tlearn: 5351176.4425737\ttotal: 32s\tremaining: 5.48s\n",
      "854:\tlearn: 5351088.7331544\ttotal: 32.1s\tremaining: 5.44s\n",
      "855:\tlearn: 5348136.2964513\ttotal: 32.1s\tremaining: 5.4s\n",
      "856:\tlearn: 5345006.2317331\ttotal: 32.1s\tremaining: 5.36s\n",
      "857:\tlearn: 5343357.4300825\ttotal: 32.2s\tremaining: 5.32s\n",
      "858:\tlearn: 5340612.4473104\ttotal: 32.2s\tremaining: 5.28s\n",
      "859:\tlearn: 5339521.9920764\ttotal: 32.2s\tremaining: 5.25s\n",
      "860:\tlearn: 5338979.8901779\ttotal: 32.3s\tremaining: 5.21s\n",
      "861:\tlearn: 5336825.3807287\ttotal: 32.3s\tremaining: 5.17s\n",
      "862:\tlearn: 5335563.0199268\ttotal: 32.3s\tremaining: 5.13s\n",
      "863:\tlearn: 5334965.5791155\ttotal: 32.3s\tremaining: 5.09s\n",
      "864:\tlearn: 5334659.5246744\ttotal: 32.4s\tremaining: 5.05s\n",
      "865:\tlearn: 5333467.4198633\ttotal: 32.4s\tremaining: 5.01s\n",
      "866:\tlearn: 5332649.8243280\ttotal: 32.4s\tremaining: 4.97s\n",
      "867:\tlearn: 5329504.4580533\ttotal: 32.5s\tremaining: 4.94s\n",
      "868:\tlearn: 5328635.8481908\ttotal: 32.5s\tremaining: 4.9s\n",
      "869:\tlearn: 5326587.5147368\ttotal: 32.6s\tremaining: 4.87s\n",
      "870:\tlearn: 5325718.8217582\ttotal: 32.6s\tremaining: 4.83s\n",
      "871:\tlearn: 5324995.0512199\ttotal: 32.6s\tremaining: 4.79s\n",
      "872:\tlearn: 5321418.2368717\ttotal: 32.7s\tremaining: 4.75s\n",
      "873:\tlearn: 5318762.0988729\ttotal: 32.7s\tremaining: 4.72s\n",
      "874:\tlearn: 5317609.4866220\ttotal: 32.8s\tremaining: 4.68s\n",
      "875:\tlearn: 5315983.5112910\ttotal: 32.8s\tremaining: 4.64s\n",
      "876:\tlearn: 5314229.5664280\ttotal: 32.8s\tremaining: 4.6s\n",
      "877:\tlearn: 5312976.4638437\ttotal: 32.9s\tremaining: 4.56s\n",
      "878:\tlearn: 5311993.6092129\ttotal: 32.9s\tremaining: 4.53s\n",
      "879:\tlearn: 5311841.0262373\ttotal: 32.9s\tremaining: 4.49s\n",
      "880:\tlearn: 5310920.2807152\ttotal: 32.9s\tremaining: 4.45s\n",
      "881:\tlearn: 5310453.0630703\ttotal: 33s\tremaining: 4.41s\n",
      "882:\tlearn: 5309510.4903627\ttotal: 33s\tremaining: 4.37s\n",
      "883:\tlearn: 5307954.0716120\ttotal: 33s\tremaining: 4.33s\n",
      "884:\tlearn: 5306586.3244054\ttotal: 33.1s\tremaining: 4.3s\n",
      "885:\tlearn: 5305410.9449691\ttotal: 33.1s\tremaining: 4.26s\n",
      "886:\tlearn: 5304347.6572080\ttotal: 33.1s\tremaining: 4.22s\n",
      "887:\tlearn: 5301165.7992194\ttotal: 33.2s\tremaining: 4.18s\n",
      "888:\tlearn: 5299557.6569045\ttotal: 33.2s\tremaining: 4.14s\n",
      "889:\tlearn: 5298349.4785913\ttotal: 33.2s\tremaining: 4.11s\n",
      "890:\tlearn: 5294157.9221570\ttotal: 33.3s\tremaining: 4.07s\n",
      "891:\tlearn: 5293603.2457655\ttotal: 33.3s\tremaining: 4.03s\n",
      "892:\tlearn: 5292105.9713230\ttotal: 33.3s\tremaining: 3.99s\n",
      "893:\tlearn: 5290405.4029973\ttotal: 33.3s\tremaining: 3.95s\n",
      "894:\tlearn: 5288463.7139232\ttotal: 33.4s\tremaining: 3.92s\n",
      "895:\tlearn: 5285748.3791280\ttotal: 33.4s\tremaining: 3.88s\n",
      "896:\tlearn: 5281277.3491175\ttotal: 33.4s\tremaining: 3.84s\n",
      "897:\tlearn: 5279617.8114914\ttotal: 33.5s\tremaining: 3.8s\n",
      "898:\tlearn: 5279144.7804505\ttotal: 33.5s\tremaining: 3.76s\n",
      "899:\tlearn: 5278207.1903770\ttotal: 33.5s\tremaining: 3.73s\n",
      "900:\tlearn: 5277774.7335834\ttotal: 33.6s\tremaining: 3.69s\n",
      "901:\tlearn: 5277265.0903366\ttotal: 33.6s\tremaining: 3.65s\n",
      "902:\tlearn: 5276328.6455321\ttotal: 33.6s\tremaining: 3.61s\n",
      "903:\tlearn: 5275701.7746240\ttotal: 33.7s\tremaining: 3.57s\n",
      "904:\tlearn: 5273960.7012347\ttotal: 33.7s\tremaining: 3.54s\n",
      "905:\tlearn: 5272398.9047881\ttotal: 33.7s\tremaining: 3.5s\n",
      "906:\tlearn: 5271998.7264459\ttotal: 33.8s\tremaining: 3.46s\n",
      "907:\tlearn: 5270987.9897216\ttotal: 33.8s\tremaining: 3.42s\n",
      "908:\tlearn: 5268868.0479741\ttotal: 33.8s\tremaining: 3.38s\n",
      "909:\tlearn: 5264944.2679229\ttotal: 33.8s\tremaining: 3.35s\n",
      "910:\tlearn: 5261837.7577206\ttotal: 33.9s\tremaining: 3.31s\n",
      "911:\tlearn: 5261366.0683762\ttotal: 33.9s\tremaining: 3.27s\n",
      "912:\tlearn: 5259549.3873808\ttotal: 33.9s\tremaining: 3.23s\n",
      "913:\tlearn: 5257378.1933253\ttotal: 34s\tremaining: 3.2s\n",
      "914:\tlearn: 5255903.3136429\ttotal: 34s\tremaining: 3.16s\n",
      "915:\tlearn: 5253939.7137796\ttotal: 34s\tremaining: 3.12s\n",
      "916:\tlearn: 5253627.0442833\ttotal: 34.1s\tremaining: 3.08s\n",
      "917:\tlearn: 5252838.2680283\ttotal: 34.1s\tremaining: 3.04s\n",
      "918:\tlearn: 5251855.6360653\ttotal: 34.1s\tremaining: 3.01s\n",
      "919:\tlearn: 5250102.1656180\ttotal: 34.2s\tremaining: 2.97s\n",
      "920:\tlearn: 5246132.4019973\ttotal: 34.2s\tremaining: 2.93s\n",
      "921:\tlearn: 5245026.8899228\ttotal: 34.2s\tremaining: 2.9s\n",
      "922:\tlearn: 5243745.9318969\ttotal: 34.3s\tremaining: 2.86s\n",
      "923:\tlearn: 5240853.6836304\ttotal: 34.3s\tremaining: 2.82s\n",
      "924:\tlearn: 5240336.4221235\ttotal: 34.3s\tremaining: 2.78s\n",
      "925:\tlearn: 5240275.3874937\ttotal: 34.4s\tremaining: 2.75s\n",
      "926:\tlearn: 5239268.0462530\ttotal: 34.4s\tremaining: 2.71s\n",
      "927:\tlearn: 5237766.0845911\ttotal: 34.4s\tremaining: 2.67s\n",
      "928:\tlearn: 5231908.4351456\ttotal: 34.4s\tremaining: 2.63s\n",
      "929:\tlearn: 5231317.3944282\ttotal: 34.5s\tremaining: 2.59s\n",
      "930:\tlearn: 5228079.3063811\ttotal: 34.5s\tremaining: 2.56s\n",
      "931:\tlearn: 5227604.9125631\ttotal: 34.5s\tremaining: 2.52s\n",
      "932:\tlearn: 5225756.7443703\ttotal: 34.6s\tremaining: 2.48s\n",
      "933:\tlearn: 5224245.7095974\ttotal: 34.6s\tremaining: 2.44s\n",
      "934:\tlearn: 5223582.2196361\ttotal: 34.6s\tremaining: 2.41s\n",
      "935:\tlearn: 5221195.9880610\ttotal: 34.7s\tremaining: 2.37s\n",
      "936:\tlearn: 5217864.7054135\ttotal: 34.7s\tremaining: 2.33s\n",
      "937:\tlearn: 5216251.9646695\ttotal: 34.8s\tremaining: 2.3s\n",
      "938:\tlearn: 5215117.5936327\ttotal: 34.8s\tremaining: 2.26s\n",
      "939:\tlearn: 5212856.0523581\ttotal: 34.9s\tremaining: 2.23s\n",
      "940:\tlearn: 5210785.3496339\ttotal: 35s\tremaining: 2.19s\n",
      "941:\tlearn: 5208521.5332798\ttotal: 35s\tremaining: 2.15s\n",
      "942:\tlearn: 5207323.0022345\ttotal: 35s\tremaining: 2.12s\n",
      "943:\tlearn: 5206861.8798971\ttotal: 35.1s\tremaining: 2.08s\n",
      "944:\tlearn: 5203386.0444995\ttotal: 35.1s\tremaining: 2.04s\n",
      "945:\tlearn: 5202979.0832302\ttotal: 35.2s\tremaining: 2.01s\n",
      "946:\tlearn: 5202003.2577927\ttotal: 35.2s\tremaining: 1.97s\n",
      "947:\tlearn: 5198421.3253050\ttotal: 35.2s\tremaining: 1.93s\n",
      "948:\tlearn: 5197717.2437652\ttotal: 35.3s\tremaining: 1.9s\n",
      "949:\tlearn: 5194826.8212108\ttotal: 35.3s\tremaining: 1.86s\n",
      "950:\tlearn: 5194054.8236592\ttotal: 35.4s\tremaining: 1.82s\n",
      "951:\tlearn: 5192069.7429265\ttotal: 35.4s\tremaining: 1.78s\n",
      "952:\tlearn: 5189073.7317600\ttotal: 35.4s\tremaining: 1.75s\n",
      "953:\tlearn: 5186135.9753117\ttotal: 35.5s\tremaining: 1.71s\n",
      "954:\tlearn: 5184647.2953997\ttotal: 35.5s\tremaining: 1.67s\n",
      "955:\tlearn: 5180055.7758004\ttotal: 35.6s\tremaining: 1.64s\n",
      "956:\tlearn: 5177877.6023153\ttotal: 35.6s\tremaining: 1.6s\n",
      "957:\tlearn: 5176182.8880978\ttotal: 35.7s\tremaining: 1.56s\n",
      "958:\tlearn: 5175849.5229377\ttotal: 35.7s\tremaining: 1.53s\n",
      "959:\tlearn: 5174133.4089696\ttotal: 35.8s\tremaining: 1.49s\n",
      "960:\tlearn: 5173658.8737814\ttotal: 35.8s\tremaining: 1.45s\n",
      "961:\tlearn: 5172684.8386379\ttotal: 35.9s\tremaining: 1.42s\n",
      "962:\tlearn: 5169694.8641871\ttotal: 35.9s\tremaining: 1.38s\n",
      "963:\tlearn: 5168175.6595116\ttotal: 35.9s\tremaining: 1.34s\n",
      "964:\tlearn: 5165948.4560872\ttotal: 36s\tremaining: 1.3s\n",
      "965:\tlearn: 5163254.2164161\ttotal: 36s\tremaining: 1.27s\n",
      "966:\tlearn: 5162438.0202529\ttotal: 36.1s\tremaining: 1.23s\n",
      "967:\tlearn: 5162344.8110307\ttotal: 36.1s\tremaining: 1.19s\n",
      "968:\tlearn: 5161285.9711838\ttotal: 36.2s\tremaining: 1.16s\n",
      "969:\tlearn: 5160859.7350293\ttotal: 36.2s\tremaining: 1.12s\n",
      "970:\tlearn: 5160169.6892096\ttotal: 36.2s\tremaining: 1.08s\n",
      "971:\tlearn: 5157794.0474579\ttotal: 36.3s\tremaining: 1.04s\n",
      "972:\tlearn: 5157203.6828941\ttotal: 36.3s\tremaining: 1.01s\n",
      "973:\tlearn: 5155723.0771951\ttotal: 36.3s\tremaining: 970ms\n",
      "974:\tlearn: 5154508.3799868\ttotal: 36.4s\tremaining: 932ms\n",
      "975:\tlearn: 5152767.2393128\ttotal: 36.4s\tremaining: 895ms\n",
      "976:\tlearn: 5152177.0602222\ttotal: 36.4s\tremaining: 858ms\n",
      "977:\tlearn: 5151440.5695877\ttotal: 36.5s\tremaining: 821ms\n",
      "978:\tlearn: 5149489.9159769\ttotal: 36.5s\tremaining: 783ms\n",
      "979:\tlearn: 5148606.5047492\ttotal: 36.6s\tremaining: 746ms\n",
      "980:\tlearn: 5148375.2693390\ttotal: 36.6s\tremaining: 709ms\n",
      "981:\tlearn: 5147968.0507833\ttotal: 36.6s\tremaining: 672ms\n",
      "982:\tlearn: 5146623.5517118\ttotal: 36.7s\tremaining: 634ms\n",
      "983:\tlearn: 5145712.2706295\ttotal: 36.7s\tremaining: 597ms\n",
      "984:\tlearn: 5145507.8754933\ttotal: 36.8s\tremaining: 560ms\n",
      "985:\tlearn: 5144038.7566581\ttotal: 36.8s\tremaining: 522ms\n",
      "986:\tlearn: 5143235.4921945\ttotal: 36.8s\tremaining: 485ms\n",
      "987:\tlearn: 5142882.3736224\ttotal: 36.9s\tremaining: 448ms\n",
      "988:\tlearn: 5141307.5758926\ttotal: 36.9s\tremaining: 410ms\n",
      "989:\tlearn: 5140581.1633730\ttotal: 36.9s\tremaining: 373ms\n",
      "990:\tlearn: 5139606.7401540\ttotal: 37s\tremaining: 336ms\n",
      "991:\tlearn: 5134977.5672965\ttotal: 37s\tremaining: 298ms\n",
      "992:\tlearn: 5133424.7677920\ttotal: 37s\tremaining: 261ms\n",
      "993:\tlearn: 5130765.7614976\ttotal: 37.1s\tremaining: 224ms\n",
      "994:\tlearn: 5130554.0521180\ttotal: 37.1s\tremaining: 186ms\n",
      "995:\tlearn: 5129720.9354416\ttotal: 37.2s\tremaining: 149ms\n",
      "996:\tlearn: 5129126.1164257\ttotal: 37.2s\tremaining: 112ms\n",
      "997:\tlearn: 5127552.8667423\ttotal: 37.2s\tremaining: 74.6ms\n",
      "998:\tlearn: 5126120.1179633\ttotal: 37.3s\tremaining: 37.3ms\n",
      "999:\tlearn: 5125459.9813919\ttotal: 37.3s\tremaining: 0us\n",
      "[LightGBM] [Info] Auto-choosing col-wise multi-threading, the overhead of testing was 0.000286 seconds.\n",
      "You can set `force_col_wise=true` to remove the overhead.\n",
      "[LightGBM] [Info] Total Bins 1230\n",
      "[LightGBM] [Info] Number of data points in the train set: 10466, number of used features: 12\n",
      "[LightGBM] [Info] Start training from score 8995590.483470\n",
      "\n",
      "====== Models before Hyper Parameter Tuning ======\n"
     ]
    },
    {
     "data": {
      "text/html": [
       "<div>\n",
       "<style scoped>\n",
       "    .dataframe tbody tr th:only-of-type {\n",
       "        vertical-align: middle;\n",
       "    }\n",
       "\n",
       "    .dataframe tbody tr th {\n",
       "        vertical-align: top;\n",
       "    }\n",
       "\n",
       "    .dataframe thead th {\n",
       "        text-align: right;\n",
       "    }\n",
       "</style>\n",
       "<table border=\"1\" class=\"dataframe\">\n",
       "  <thead>\n",
       "    <tr style=\"text-align: right;\">\n",
       "      <th></th>\n",
       "      <th>Model</th>\n",
       "      <th>MAE</th>\n",
       "      <th>MSE</th>\n",
       "      <th>RMSE</th>\n",
       "      <th>RMSLE</th>\n",
       "      <th>R2 Score</th>\n",
       "    </tr>\n",
       "  </thead>\n",
       "  <tbody>\n",
       "    <tr>\n",
       "      <th>0</th>\n",
       "      <td>Random Forest</td>\n",
       "      <td>4199426.87</td>\n",
       "      <td>68593476438936.03</td>\n",
       "      <td>8282117.87</td>\n",
       "      <td>0.65</td>\n",
       "      <td>0.75</td>\n",
       "    </tr>\n",
       "    <tr>\n",
       "      <th>1</th>\n",
       "      <td>LightGBM</td>\n",
       "      <td>3880224.80</td>\n",
       "      <td>54696393930066.98</td>\n",
       "      <td>7395701.04</td>\n",
       "      <td>0.69</td>\n",
       "      <td>0.80</td>\n",
       "    </tr>\n",
       "    <tr>\n",
       "      <th>2</th>\n",
       "      <td>XGBoost</td>\n",
       "      <td>3972273.43</td>\n",
       "      <td>54660632274491.61</td>\n",
       "      <td>7393282.92</td>\n",
       "      <td>0.72</td>\n",
       "      <td>0.80</td>\n",
       "    </tr>\n",
       "    <tr>\n",
       "      <th>3</th>\n",
       "      <td>CatBoost</td>\n",
       "      <td>4174150.13</td>\n",
       "      <td>63399948620137.79</td>\n",
       "      <td>7962408.47</td>\n",
       "      <td>0.76</td>\n",
       "      <td>0.77</td>\n",
       "    </tr>\n",
       "    <tr>\n",
       "      <th>4</th>\n",
       "      <td>Decision Tree</td>\n",
       "      <td>5600848.77</td>\n",
       "      <td>118385415166323.73</td>\n",
       "      <td>10880506.20</td>\n",
       "      <td>0.89</td>\n",
       "      <td>0.57</td>\n",
       "    </tr>\n",
       "    <tr>\n",
       "      <th>5</th>\n",
       "      <td>Linear Regression</td>\n",
       "      <td>5367047.51</td>\n",
       "      <td>89344749369249.31</td>\n",
       "      <td>9452235.15</td>\n",
       "      <td>1.01</td>\n",
       "      <td>0.67</td>\n",
       "    </tr>\n",
       "  </tbody>\n",
       "</table>\n",
       "</div>"
      ],
      "text/plain": [
       "               Model         MAE                 MSE         RMSE RMSLE  \\\n",
       "0      Random Forest  4199426.87   68593476438936.03   8282117.87  0.65   \n",
       "1           LightGBM  3880224.80   54696393930066.98   7395701.04  0.69   \n",
       "2            XGBoost  3972273.43   54660632274491.61   7393282.92  0.72   \n",
       "3           CatBoost  4174150.13   63399948620137.79   7962408.47  0.76   \n",
       "4      Decision Tree  5600848.77  118385415166323.73  10880506.20  0.89   \n",
       "5  Linear Regression  5367047.51   89344749369249.31   9452235.15  1.01   \n",
       "\n",
       "  R2 Score  \n",
       "0     0.75  \n",
       "1     0.80  \n",
       "2     0.80  \n",
       "3     0.77  \n",
       "4     0.57  \n",
       "5     0.67  "
      ]
     },
     "execution_count": 26,
     "metadata": {},
     "output_type": "execute_result"
    }
   ],
   "source": [
    "model_list2(models)"
   ]
  },
  {
   "cell_type": "markdown",
   "metadata": {},
   "source": [
    "#### `CatBoost` 성능 비교\n",
    "- 별도로 `Target Encoding` 거친 데이터셋으로 진행(`model_list` 함수)한 `CatBoost`가 더 낮은 `RMSLE` 기록\n",
    "\n",
    "    - **0.73 vs 0.84** (Target Encoding 실행한 데이터셋으로 진행)"
   ]
  },
  {
   "cell_type": "markdown",
   "metadata": {},
   "source": [
    "### 하이퍼 파라미터 튜닝\n",
    "- `RMSLE`가 낮은 `Random Forest`, `CatBoost`, `LightGBM`, `XGBoost` 을 갖고 하이퍼 파라미터 튜닝\n",
    "    - Baseline 모델인 `Linear Regression`의 `RMSLE`보다 낮다 (0.98)\n",
    "\n",
    "- `optuna` 활용\n",
    "    - References : https://forecastegy.com/posts/xgboost-hyperparameter-tuning-with-optuna/\n"
   ]
  },
  {
   "cell_type": "code",
   "execution_count": 27,
   "metadata": {},
   "outputs": [],
   "source": [
    "# optuna sampling seed 고정\n",
    "sampler = TPESampler(seed=42)"
   ]
  },
  {
   "cell_type": "markdown",
   "metadata": {},
   "source": [
    "#### `Random Forest`"
   ]
  },
  {
   "cell_type": "code",
   "execution_count": 28,
   "metadata": {},
   "outputs": [],
   "source": [
    "def objective_rf(trial):\n",
    "    params = {\n",
    "        # \"iterations\": 1000,\n",
    "        \"n_estimators\" : trial.suggest_int('n_estimators', 500, 4000),\n",
    "        # \"learning_rate\": trial.suggest_float(\"learning_rate\", 1e-3, 0.1, log=True),\n",
    "        \"max_depth\": trial.suggest_int(\"max_depth\", 1, 10),\n",
    "        \"max_samples\": trial.suggest_float(\"max_samples\", 0.05, 1.0),\n",
    "        \"max_features\": trial.suggest_float(\"max_features\", 0.05, 1.0),\n",
    "        \"min_weight_fraction_leaf\": trial.suggest_int(\"min_weight_fraction_leaf\", 0.05, 0.5),\n",
    "    }\n",
    "\n",
    "    model = RandomForestRegressor(**params, random_state=42)\n",
    "    model.fit(X_train, y_train)\n",
    "    predictions = model.predict(X_test)\n",
    "    rmsle = get_rmsle(y_test, predictions)\n",
    "\n",
    "    return rmsle"
   ]
  },
  {
   "cell_type": "code",
   "execution_count": 29,
   "metadata": {},
   "outputs": [
    {
     "name": "stderr",
     "output_type": "stream",
     "text": [
      "[I 2024-05-12 20:29:38,014] A new study created in memory with name: no-name-53a3ce76-2e43-4de7-996b-7c74b09d0e0d\n",
      "[I 2024-05-12 20:30:09,331] Trial 0 finished with value: 0.6975107591356479 and parameters: {'n_estimators': 1811, 'max_depth': 10, 'max_samples': 0.7453942447208348, 'max_features': 0.6187255599871848, 'min_weight_fraction_leaf': 0}. Best is trial 0 with value: 0.6975107591356479.\n",
      "[I 2024-05-12 20:30:11,634] Trial 1 finished with value: 1.1595879913113714 and parameters: {'n_estimators': 1046, 'max_depth': 2, 'max_samples': 0.10517943155978948, 'max_features': 0.8728673384861885, 'min_weight_fraction_leaf': 0}. Best is trial 0 with value: 0.6975107591356479.\n",
      "[I 2024-05-12 20:30:22,084] Trial 2 finished with value: 0.7732653872695374 and parameters: {'n_estimators': 2604, 'max_depth': 8, 'max_samples': 0.06955526958101232, 'max_features': 0.9714143595538947, 'min_weight_fraction_leaf': 0}. Best is trial 0 with value: 0.6975107591356479.\n",
      "[I 2024-05-12 20:30:28,130] Trial 3 finished with value: 1.214294740843848 and parameters: {'n_estimators': 3414, 'max_depth': 3, 'max_samples': 0.2227337188467456, 'max_features': 0.22423428436076215, 'min_weight_fraction_leaf': 0}. Best is trial 0 with value: 0.6975107591356479.\n",
      "[I 2024-05-12 20:30:34,638] Trial 4 finished with value: 0.9253242267837046 and parameters: {'n_estimators': 1565, 'max_depth': 6, 'max_samples': 0.46034776771000996, 'max_features': 0.32666768318813977, 'min_weight_fraction_leaf': 0}. Best is trial 0 with value: 0.6975107591356479.\n",
      "[I 2024-05-12 20:30:40,569] Trial 5 finished with value: 1.224194129322173 and parameters: {'n_estimators': 2642, 'max_depth': 2, 'max_samples': 0.3275374161084572, 'max_features': 0.3980437511290071, 'min_weight_fraction_leaf': 0}. Best is trial 0 with value: 0.6975107591356479.\n",
      "[I 2024-05-12 20:30:52,831] Trial 6 finished with value: 0.7639324627460163 and parameters: {'n_estimators': 2096, 'max_depth': 8, 'max_samples': 0.23969009305044175, 'max_features': 0.538522716492931, 'min_weight_fraction_leaf': 0}. Best is trial 0 with value: 0.6975107591356479.\n",
      "[I 2024-05-12 20:30:57,234] Trial 7 finished with value: 1.4386553273344704 and parameters: {'n_estimators': 2574, 'max_depth': 1, 'max_samples': 0.6271676093063665, 'max_features': 0.21199791750292696, 'min_weight_fraction_leaf': 0}. Best is trial 0 with value: 0.6975107591356479.\n",
      "[I 2024-05-12 20:31:15,225] Trial 8 finished with value: 0.6956468752457899 and parameters: {'n_estimators': 727, 'max_depth': 10, 'max_samples': 0.9673504314208314, 'max_features': 0.8179774807106381, 'min_weight_fraction_leaf': 0}. Best is trial 8 with value: 0.6956468752457899.\n",
      "[I 2024-05-12 20:31:18,808] Trial 9 finished with value: 1.3654324150894075 and parameters: {'n_estimators': 1566, 'max_depth': 1, 'max_samples': 0.700021375186549, 'max_features': 0.4681448690526212, 'min_weight_fraction_leaf': 0}. Best is trial 8 with value: 0.6956468752457899.\n",
      "[I 2024-05-12 20:31:31,436] Trial 10 finished with value: 0.6959260705164123 and parameters: {'n_estimators': 571, 'max_depth': 10, 'max_samples': 0.9710602552484724, 'max_features': 0.7241578540621256, 'min_weight_fraction_leaf': 0}. Best is trial 8 with value: 0.6956468752457899.\n",
      "[I 2024-05-12 20:31:45,265] Trial 11 finished with value: 0.6955952060677775 and parameters: {'n_estimators': 550, 'max_depth': 10, 'max_samples': 0.9877470050017445, 'max_features': 0.7730149086140286, 'min_weight_fraction_leaf': 0}. Best is trial 11 with value: 0.6955952060677775.\n",
      "[I 2024-05-12 20:31:57,543] Trial 12 finished with value: 0.7517725350444968 and parameters: {'n_estimators': 620, 'max_depth': 8, 'max_samples': 0.9960533070015573, 'max_features': 0.7759762314591196, 'min_weight_fraction_leaf': 0}. Best is trial 11 with value: 0.6955952060677775.\n",
      "[I 2024-05-12 20:32:11,352] Trial 13 finished with value: 0.8415364879698982 and parameters: {'n_estimators': 1114, 'max_depth': 6, 'max_samples': 0.8649698988918638, 'max_features': 0.6928534052914541, 'min_weight_fraction_leaf': 0}. Best is trial 11 with value: 0.6955952060677775.\n",
      "[I 2024-05-12 20:32:38,312] Trial 14 finished with value: 0.6964514778797687 and parameters: {'n_estimators': 1060, 'max_depth': 10, 'max_samples': 0.8411074694429032, 'max_features': 0.8626263855845917, 'min_weight_fraction_leaf': 0}. Best is trial 11 with value: 0.6955952060677775.\n",
      "[I 2024-05-12 20:33:50,742] Trial 15 finished with value: 0.7231198535865726 and parameters: {'n_estimators': 3692, 'max_depth': 9, 'max_samples': 0.5415754267067965, 'max_features': 0.917606803555867, 'min_weight_fraction_leaf': 0}. Best is trial 11 with value: 0.6955952060677775.\n",
      "[I 2024-05-12 20:33:56,381] Trial 16 finished with value: 0.9188334135724725 and parameters: {'n_estimators': 552, 'max_depth': 5, 'max_samples': 0.8600923159660636, 'max_features': 0.611896464211815, 'min_weight_fraction_leaf': 0}. Best is trial 11 with value: 0.6955952060677775.\n",
      "[I 2024-05-12 20:34:18,105] Trial 17 finished with value: 0.7919811672968508 and parameters: {'n_estimators': 1182, 'max_depth': 7, 'max_samples': 0.9993943167094734, 'max_features': 0.8204389971281699, 'min_weight_fraction_leaf': 0}. Best is trial 11 with value: 0.6955952060677775.\n",
      "[I 2024-05-12 20:34:27,686] Trial 18 finished with value: 1.030643433354911 and parameters: {'n_estimators': 819, 'max_depth': 4, 'max_samples': 0.7960604413482161, 'max_features': 0.9974578705664652, 'min_weight_fraction_leaf': 0}. Best is trial 11 with value: 0.6955952060677775.\n",
      "[I 2024-05-12 20:35:14,253] Trial 19 finished with value: 0.7221568569123665 and parameters: {'n_estimators': 3055, 'max_depth': 9, 'max_samples': 0.663112282499336, 'max_features': 0.66139777585444, 'min_weight_fraction_leaf': 0}. Best is trial 11 with value: 0.6955952060677775.\n",
      "[I 2024-05-12 20:35:46,506] Trial 20 finished with value: 0.7204068974264376 and parameters: {'n_estimators': 1425, 'max_depth': 9, 'max_samples': 0.9128767181444559, 'max_features': 0.76246240109856, 'min_weight_fraction_leaf': 0}. Best is trial 11 with value: 0.6955952060677775.\n",
      "[I 2024-05-12 20:36:01,028] Trial 21 finished with value: 0.69465994281129 and parameters: {'n_estimators': 631, 'max_depth': 10, 'max_samples': 0.9390046689278375, 'max_features': 0.7376193928070954, 'min_weight_fraction_leaf': 0}. Best is trial 21 with value: 0.69465994281129.\n",
      "[I 2024-05-12 20:36:15,878] Trial 22 finished with value: 0.7005096917746608 and parameters: {'n_estimators': 844, 'max_depth': 10, 'max_samples': 0.8972728217311797, 'max_features': 0.5604133073320753, 'min_weight_fraction_leaf': 0}. Best is trial 21 with value: 0.69465994281129.\n",
      "[I 2024-05-12 20:36:18,313] Trial 23 finished with value: 1.0049440172698623 and parameters: {'n_estimators': 518, 'max_depth': 9, 'max_samples': 0.9247072737697439, 'max_features': 0.06986788815923367, 'min_weight_fraction_leaf': 0}. Best is trial 21 with value: 0.69465994281129.\n",
      "[I 2024-05-12 20:36:49,671] Trial 24 finished with value: 0.7911182974383083 and parameters: {'n_estimators': 1956, 'max_depth': 7, 'max_samples': 0.7755600251691103, 'max_features': 0.8137972740893099, 'min_weight_fraction_leaf': 0}. Best is trial 21 with value: 0.69465994281129.\n",
      "[I 2024-05-12 20:37:13,977] Trial 25 finished with value: 0.6992061494369404 and parameters: {'n_estimators': 1398, 'max_depth': 10, 'max_samples': 0.5637558013236805, 'max_features': 0.7006058378548264, 'min_weight_fraction_leaf': 0}. Best is trial 21 with value: 0.69465994281129.\n",
      "[I 2024-05-12 20:37:30,487] Trial 26 finished with value: 0.7978152099304125 and parameters: {'n_estimators': 844, 'max_depth': 7, 'max_samples': 0.807781667726049, 'max_features': 0.9306347108281664, 'min_weight_fraction_leaf': 0}. Best is trial 21 with value: 0.69465994281129.\n",
      "[I 2024-05-12 20:37:49,580] Trial 27 finished with value: 0.7530033482502843 and parameters: {'n_estimators': 852, 'max_depth': 8, 'max_samples': 0.9363222978288375, 'max_features': 0.8632838532746385, 'min_weight_fraction_leaf': 0}. Best is trial 21 with value: 0.69465994281129.\n",
      "[I 2024-05-12 20:38:01,062] Trial 28 finished with value: 0.7359600885928993 and parameters: {'n_estimators': 1267, 'max_depth': 9, 'max_samples': 0.43367205627959193, 'max_features': 0.4611083306214668, 'min_weight_fraction_leaf': 0}. Best is trial 21 with value: 0.69465994281129.\n",
      "[I 2024-05-12 20:38:30,584] Trial 29 finished with value: 0.698299563731551 and parameters: {'n_estimators': 1641, 'max_depth': 10, 'max_samples': 0.7367246383423717, 'max_features': 0.6217877744397861, 'min_weight_fraction_leaf': 0}. Best is trial 21 with value: 0.69465994281129.\n"
     ]
    }
   ],
   "source": [
    "study_rf = optuna.create_study(direction='minimize', sampler=sampler)\n",
    "study_rf.optimize(objective_rf, n_trials=30)"
   ]
  },
  {
   "cell_type": "code",
   "execution_count": 30,
   "metadata": {},
   "outputs": [
    {
     "name": "stdout",
     "output_type": "stream",
     "text": [
      "Best hyperparameters:\n",
      "{'n_estimators': 631, 'max_depth': 10, 'max_samples': 0.9390046689278375, 'max_features': 0.7376193928070954, 'min_weight_fraction_leaf': 0}\n",
      "-----------------------------------------------------------------------------------------------------------------\n",
      "Best RMSLE:\n",
      "0.69465994281129\n"
     ]
    }
   ],
   "source": [
    "print(\"Best hyperparameters:\", study_rf.best_params, sep=\"\\n\")\n",
    "print(\"-----------------------------------------------------------------------------------------------------------------\")\n",
    "print(\"Best RMSLE:\", study_rf.best_value, sep=\"\\n\")"
   ]
  },
  {
   "cell_type": "code",
   "execution_count": 31,
   "metadata": {},
   "outputs": [
    {
     "data": {
      "application/vnd.plotly.v1+json": {
       "config": {
        "plotlyServerURL": "https://plot.ly"
       },
       "data": [
        {
         "cliponaxis": false,
         "hovertemplate": [
          "min_weight_fraction_leaf (IntDistribution): 0.0<extra></extra>",
          "n_estimators (IntDistribution): 0.006935719687284937<extra></extra>",
          "max_samples (FloatDistribution): 0.008241064598069427<extra></extra>",
          "max_features (FloatDistribution): 0.05233685111358294<extra></extra>",
          "max_depth (IntDistribution): 0.9324863646010628<extra></extra>"
         ],
         "name": "Objective Value",
         "orientation": "h",
         "text": [
          "<0.01",
          "<0.01",
          "<0.01",
          "0.05",
          "0.93"
         ],
         "textposition": "outside",
         "type": "bar",
         "x": [
          0,
          0.006935719687284937,
          0.008241064598069427,
          0.05233685111358294,
          0.9324863646010628
         ],
         "y": [
          "min_weight_fraction_leaf",
          "n_estimators",
          "max_samples",
          "max_features",
          "max_depth"
         ]
        }
       ],
       "layout": {
        "template": {
         "data": {
          "bar": [
           {
            "error_x": {
             "color": "#2a3f5f"
            },
            "error_y": {
             "color": "#2a3f5f"
            },
            "marker": {
             "line": {
              "color": "#E5ECF6",
              "width": 0.5
             },
             "pattern": {
              "fillmode": "overlay",
              "size": 10,
              "solidity": 0.2
             }
            },
            "type": "bar"
           }
          ],
          "barpolar": [
           {
            "marker": {
             "line": {
              "color": "#E5ECF6",
              "width": 0.5
             },
             "pattern": {
              "fillmode": "overlay",
              "size": 10,
              "solidity": 0.2
             }
            },
            "type": "barpolar"
           }
          ],
          "carpet": [
           {
            "aaxis": {
             "endlinecolor": "#2a3f5f",
             "gridcolor": "white",
             "linecolor": "white",
             "minorgridcolor": "white",
             "startlinecolor": "#2a3f5f"
            },
            "baxis": {
             "endlinecolor": "#2a3f5f",
             "gridcolor": "white",
             "linecolor": "white",
             "minorgridcolor": "white",
             "startlinecolor": "#2a3f5f"
            },
            "type": "carpet"
           }
          ],
          "choropleth": [
           {
            "colorbar": {
             "outlinewidth": 0,
             "ticks": ""
            },
            "type": "choropleth"
           }
          ],
          "contour": [
           {
            "colorbar": {
             "outlinewidth": 0,
             "ticks": ""
            },
            "colorscale": [
             [
              0,
              "#0d0887"
             ],
             [
              0.1111111111111111,
              "#46039f"
             ],
             [
              0.2222222222222222,
              "#7201a8"
             ],
             [
              0.3333333333333333,
              "#9c179e"
             ],
             [
              0.4444444444444444,
              "#bd3786"
             ],
             [
              0.5555555555555556,
              "#d8576b"
             ],
             [
              0.6666666666666666,
              "#ed7953"
             ],
             [
              0.7777777777777778,
              "#fb9f3a"
             ],
             [
              0.8888888888888888,
              "#fdca26"
             ],
             [
              1,
              "#f0f921"
             ]
            ],
            "type": "contour"
           }
          ],
          "contourcarpet": [
           {
            "colorbar": {
             "outlinewidth": 0,
             "ticks": ""
            },
            "type": "contourcarpet"
           }
          ],
          "heatmap": [
           {
            "colorbar": {
             "outlinewidth": 0,
             "ticks": ""
            },
            "colorscale": [
             [
              0,
              "#0d0887"
             ],
             [
              0.1111111111111111,
              "#46039f"
             ],
             [
              0.2222222222222222,
              "#7201a8"
             ],
             [
              0.3333333333333333,
              "#9c179e"
             ],
             [
              0.4444444444444444,
              "#bd3786"
             ],
             [
              0.5555555555555556,
              "#d8576b"
             ],
             [
              0.6666666666666666,
              "#ed7953"
             ],
             [
              0.7777777777777778,
              "#fb9f3a"
             ],
             [
              0.8888888888888888,
              "#fdca26"
             ],
             [
              1,
              "#f0f921"
             ]
            ],
            "type": "heatmap"
           }
          ],
          "heatmapgl": [
           {
            "colorbar": {
             "outlinewidth": 0,
             "ticks": ""
            },
            "colorscale": [
             [
              0,
              "#0d0887"
             ],
             [
              0.1111111111111111,
              "#46039f"
             ],
             [
              0.2222222222222222,
              "#7201a8"
             ],
             [
              0.3333333333333333,
              "#9c179e"
             ],
             [
              0.4444444444444444,
              "#bd3786"
             ],
             [
              0.5555555555555556,
              "#d8576b"
             ],
             [
              0.6666666666666666,
              "#ed7953"
             ],
             [
              0.7777777777777778,
              "#fb9f3a"
             ],
             [
              0.8888888888888888,
              "#fdca26"
             ],
             [
              1,
              "#f0f921"
             ]
            ],
            "type": "heatmapgl"
           }
          ],
          "histogram": [
           {
            "marker": {
             "pattern": {
              "fillmode": "overlay",
              "size": 10,
              "solidity": 0.2
             }
            },
            "type": "histogram"
           }
          ],
          "histogram2d": [
           {
            "colorbar": {
             "outlinewidth": 0,
             "ticks": ""
            },
            "colorscale": [
             [
              0,
              "#0d0887"
             ],
             [
              0.1111111111111111,
              "#46039f"
             ],
             [
              0.2222222222222222,
              "#7201a8"
             ],
             [
              0.3333333333333333,
              "#9c179e"
             ],
             [
              0.4444444444444444,
              "#bd3786"
             ],
             [
              0.5555555555555556,
              "#d8576b"
             ],
             [
              0.6666666666666666,
              "#ed7953"
             ],
             [
              0.7777777777777778,
              "#fb9f3a"
             ],
             [
              0.8888888888888888,
              "#fdca26"
             ],
             [
              1,
              "#f0f921"
             ]
            ],
            "type": "histogram2d"
           }
          ],
          "histogram2dcontour": [
           {
            "colorbar": {
             "outlinewidth": 0,
             "ticks": ""
            },
            "colorscale": [
             [
              0,
              "#0d0887"
             ],
             [
              0.1111111111111111,
              "#46039f"
             ],
             [
              0.2222222222222222,
              "#7201a8"
             ],
             [
              0.3333333333333333,
              "#9c179e"
             ],
             [
              0.4444444444444444,
              "#bd3786"
             ],
             [
              0.5555555555555556,
              "#d8576b"
             ],
             [
              0.6666666666666666,
              "#ed7953"
             ],
             [
              0.7777777777777778,
              "#fb9f3a"
             ],
             [
              0.8888888888888888,
              "#fdca26"
             ],
             [
              1,
              "#f0f921"
             ]
            ],
            "type": "histogram2dcontour"
           }
          ],
          "mesh3d": [
           {
            "colorbar": {
             "outlinewidth": 0,
             "ticks": ""
            },
            "type": "mesh3d"
           }
          ],
          "parcoords": [
           {
            "line": {
             "colorbar": {
              "outlinewidth": 0,
              "ticks": ""
             }
            },
            "type": "parcoords"
           }
          ],
          "pie": [
           {
            "automargin": true,
            "type": "pie"
           }
          ],
          "scatter": [
           {
            "fillpattern": {
             "fillmode": "overlay",
             "size": 10,
             "solidity": 0.2
            },
            "type": "scatter"
           }
          ],
          "scatter3d": [
           {
            "line": {
             "colorbar": {
              "outlinewidth": 0,
              "ticks": ""
             }
            },
            "marker": {
             "colorbar": {
              "outlinewidth": 0,
              "ticks": ""
             }
            },
            "type": "scatter3d"
           }
          ],
          "scattercarpet": [
           {
            "marker": {
             "colorbar": {
              "outlinewidth": 0,
              "ticks": ""
             }
            },
            "type": "scattercarpet"
           }
          ],
          "scattergeo": [
           {
            "marker": {
             "colorbar": {
              "outlinewidth": 0,
              "ticks": ""
             }
            },
            "type": "scattergeo"
           }
          ],
          "scattergl": [
           {
            "marker": {
             "colorbar": {
              "outlinewidth": 0,
              "ticks": ""
             }
            },
            "type": "scattergl"
           }
          ],
          "scattermapbox": [
           {
            "marker": {
             "colorbar": {
              "outlinewidth": 0,
              "ticks": ""
             }
            },
            "type": "scattermapbox"
           }
          ],
          "scatterpolar": [
           {
            "marker": {
             "colorbar": {
              "outlinewidth": 0,
              "ticks": ""
             }
            },
            "type": "scatterpolar"
           }
          ],
          "scatterpolargl": [
           {
            "marker": {
             "colorbar": {
              "outlinewidth": 0,
              "ticks": ""
             }
            },
            "type": "scatterpolargl"
           }
          ],
          "scatterternary": [
           {
            "marker": {
             "colorbar": {
              "outlinewidth": 0,
              "ticks": ""
             }
            },
            "type": "scatterternary"
           }
          ],
          "surface": [
           {
            "colorbar": {
             "outlinewidth": 0,
             "ticks": ""
            },
            "colorscale": [
             [
              0,
              "#0d0887"
             ],
             [
              0.1111111111111111,
              "#46039f"
             ],
             [
              0.2222222222222222,
              "#7201a8"
             ],
             [
              0.3333333333333333,
              "#9c179e"
             ],
             [
              0.4444444444444444,
              "#bd3786"
             ],
             [
              0.5555555555555556,
              "#d8576b"
             ],
             [
              0.6666666666666666,
              "#ed7953"
             ],
             [
              0.7777777777777778,
              "#fb9f3a"
             ],
             [
              0.8888888888888888,
              "#fdca26"
             ],
             [
              1,
              "#f0f921"
             ]
            ],
            "type": "surface"
           }
          ],
          "table": [
           {
            "cells": {
             "fill": {
              "color": "#EBF0F8"
             },
             "line": {
              "color": "white"
             }
            },
            "header": {
             "fill": {
              "color": "#C8D4E3"
             },
             "line": {
              "color": "white"
             }
            },
            "type": "table"
           }
          ]
         },
         "layout": {
          "annotationdefaults": {
           "arrowcolor": "#2a3f5f",
           "arrowhead": 0,
           "arrowwidth": 1
          },
          "autotypenumbers": "strict",
          "coloraxis": {
           "colorbar": {
            "outlinewidth": 0,
            "ticks": ""
           }
          },
          "colorscale": {
           "diverging": [
            [
             0,
             "#8e0152"
            ],
            [
             0.1,
             "#c51b7d"
            ],
            [
             0.2,
             "#de77ae"
            ],
            [
             0.3,
             "#f1b6da"
            ],
            [
             0.4,
             "#fde0ef"
            ],
            [
             0.5,
             "#f7f7f7"
            ],
            [
             0.6,
             "#e6f5d0"
            ],
            [
             0.7,
             "#b8e186"
            ],
            [
             0.8,
             "#7fbc41"
            ],
            [
             0.9,
             "#4d9221"
            ],
            [
             1,
             "#276419"
            ]
           ],
           "sequential": [
            [
             0,
             "#0d0887"
            ],
            [
             0.1111111111111111,
             "#46039f"
            ],
            [
             0.2222222222222222,
             "#7201a8"
            ],
            [
             0.3333333333333333,
             "#9c179e"
            ],
            [
             0.4444444444444444,
             "#bd3786"
            ],
            [
             0.5555555555555556,
             "#d8576b"
            ],
            [
             0.6666666666666666,
             "#ed7953"
            ],
            [
             0.7777777777777778,
             "#fb9f3a"
            ],
            [
             0.8888888888888888,
             "#fdca26"
            ],
            [
             1,
             "#f0f921"
            ]
           ],
           "sequentialminus": [
            [
             0,
             "#0d0887"
            ],
            [
             0.1111111111111111,
             "#46039f"
            ],
            [
             0.2222222222222222,
             "#7201a8"
            ],
            [
             0.3333333333333333,
             "#9c179e"
            ],
            [
             0.4444444444444444,
             "#bd3786"
            ],
            [
             0.5555555555555556,
             "#d8576b"
            ],
            [
             0.6666666666666666,
             "#ed7953"
            ],
            [
             0.7777777777777778,
             "#fb9f3a"
            ],
            [
             0.8888888888888888,
             "#fdca26"
            ],
            [
             1,
             "#f0f921"
            ]
           ]
          },
          "colorway": [
           "#636efa",
           "#EF553B",
           "#00cc96",
           "#ab63fa",
           "#FFA15A",
           "#19d3f3",
           "#FF6692",
           "#B6E880",
           "#FF97FF",
           "#FECB52"
          ],
          "font": {
           "color": "#2a3f5f"
          },
          "geo": {
           "bgcolor": "white",
           "lakecolor": "white",
           "landcolor": "#E5ECF6",
           "showlakes": true,
           "showland": true,
           "subunitcolor": "white"
          },
          "hoverlabel": {
           "align": "left"
          },
          "hovermode": "closest",
          "mapbox": {
           "style": "light"
          },
          "paper_bgcolor": "white",
          "plot_bgcolor": "#E5ECF6",
          "polar": {
           "angularaxis": {
            "gridcolor": "white",
            "linecolor": "white",
            "ticks": ""
           },
           "bgcolor": "#E5ECF6",
           "radialaxis": {
            "gridcolor": "white",
            "linecolor": "white",
            "ticks": ""
           }
          },
          "scene": {
           "xaxis": {
            "backgroundcolor": "#E5ECF6",
            "gridcolor": "white",
            "gridwidth": 2,
            "linecolor": "white",
            "showbackground": true,
            "ticks": "",
            "zerolinecolor": "white"
           },
           "yaxis": {
            "backgroundcolor": "#E5ECF6",
            "gridcolor": "white",
            "gridwidth": 2,
            "linecolor": "white",
            "showbackground": true,
            "ticks": "",
            "zerolinecolor": "white"
           },
           "zaxis": {
            "backgroundcolor": "#E5ECF6",
            "gridcolor": "white",
            "gridwidth": 2,
            "linecolor": "white",
            "showbackground": true,
            "ticks": "",
            "zerolinecolor": "white"
           }
          },
          "shapedefaults": {
           "line": {
            "color": "#2a3f5f"
           }
          },
          "ternary": {
           "aaxis": {
            "gridcolor": "white",
            "linecolor": "white",
            "ticks": ""
           },
           "baxis": {
            "gridcolor": "white",
            "linecolor": "white",
            "ticks": ""
           },
           "bgcolor": "#E5ECF6",
           "caxis": {
            "gridcolor": "white",
            "linecolor": "white",
            "ticks": ""
           }
          },
          "title": {
           "x": 0.05
          },
          "xaxis": {
           "automargin": true,
           "gridcolor": "white",
           "linecolor": "white",
           "ticks": "",
           "title": {
            "standoff": 15
           },
           "zerolinecolor": "white",
           "zerolinewidth": 2
          },
          "yaxis": {
           "automargin": true,
           "gridcolor": "white",
           "linecolor": "white",
           "ticks": "",
           "title": {
            "standoff": 15
           },
           "zerolinecolor": "white",
           "zerolinewidth": 2
          }
         }
        },
        "title": {
         "text": "Hyperparameter Importances"
        },
        "xaxis": {
         "title": {
          "text": "Hyperparameter Importance"
         }
        },
        "yaxis": {
         "title": {
          "text": "Hyperparameter"
         }
        }
       }
      }
     },
     "metadata": {},
     "output_type": "display_data"
    }
   ],
   "source": [
    "# 하이퍼파라미터별 중요도를 확인할 수 있는 그래프\n",
    "optuna.visualization.plot_param_importances(study_rf)"
   ]
  },
  {
   "cell_type": "code",
   "execution_count": 32,
   "metadata": {},
   "outputs": [
    {
     "data": {
      "application/vnd.plotly.v1+json": {
       "config": {
        "plotlyServerURL": "https://plot.ly"
       },
       "data": [
        {
         "mode": "markers",
         "name": "Objective Value",
         "type": "scatter",
         "x": [
          0,
          1,
          2,
          3,
          4,
          5,
          6,
          7,
          8,
          9,
          10,
          11,
          12,
          13,
          14,
          15,
          16,
          17,
          18,
          19,
          20,
          21,
          22,
          23,
          24,
          25,
          26,
          27,
          28,
          29
         ],
         "y": [
          0.6975107591356479,
          1.1595879913113714,
          0.7732653872695374,
          1.214294740843848,
          0.9253242267837046,
          1.224194129322173,
          0.7639324627460163,
          1.4386553273344704,
          0.6956468752457899,
          1.3654324150894075,
          0.6959260705164123,
          0.6955952060677775,
          0.7517725350444968,
          0.8415364879698982,
          0.6964514778797687,
          0.7231198535865726,
          0.9188334135724725,
          0.7919811672968508,
          1.030643433354911,
          0.7221568569123665,
          0.7204068974264376,
          0.69465994281129,
          0.7005096917746608,
          1.0049440172698623,
          0.7911182974383083,
          0.6992061494369404,
          0.7978152099304125,
          0.7530033482502843,
          0.7359600885928993,
          0.698299563731551
         ]
        },
        {
         "mode": "lines",
         "name": "Best Value",
         "type": "scatter",
         "x": [
          0,
          1,
          2,
          3,
          4,
          5,
          6,
          7,
          8,
          9,
          10,
          11,
          12,
          13,
          14,
          15,
          16,
          17,
          18,
          19,
          20,
          21,
          22,
          23,
          24,
          25,
          26,
          27,
          28,
          29
         ],
         "y": [
          0.6975107591356479,
          0.6975107591356479,
          0.6975107591356479,
          0.6975107591356479,
          0.6975107591356479,
          0.6975107591356479,
          0.6975107591356479,
          0.6975107591356479,
          0.6956468752457899,
          0.6956468752457899,
          0.6956468752457899,
          0.6955952060677775,
          0.6955952060677775,
          0.6955952060677775,
          0.6955952060677775,
          0.6955952060677775,
          0.6955952060677775,
          0.6955952060677775,
          0.6955952060677775,
          0.6955952060677775,
          0.6955952060677775,
          0.69465994281129,
          0.69465994281129,
          0.69465994281129,
          0.69465994281129,
          0.69465994281129,
          0.69465994281129,
          0.69465994281129,
          0.69465994281129,
          0.69465994281129
         ]
        },
        {
         "marker": {
          "color": "#cccccc"
         },
         "mode": "markers",
         "name": "Infeasible Trial",
         "showlegend": false,
         "type": "scatter",
         "x": [],
         "y": []
        }
       ],
       "layout": {
        "template": {
         "data": {
          "bar": [
           {
            "error_x": {
             "color": "#2a3f5f"
            },
            "error_y": {
             "color": "#2a3f5f"
            },
            "marker": {
             "line": {
              "color": "#E5ECF6",
              "width": 0.5
             },
             "pattern": {
              "fillmode": "overlay",
              "size": 10,
              "solidity": 0.2
             }
            },
            "type": "bar"
           }
          ],
          "barpolar": [
           {
            "marker": {
             "line": {
              "color": "#E5ECF6",
              "width": 0.5
             },
             "pattern": {
              "fillmode": "overlay",
              "size": 10,
              "solidity": 0.2
             }
            },
            "type": "barpolar"
           }
          ],
          "carpet": [
           {
            "aaxis": {
             "endlinecolor": "#2a3f5f",
             "gridcolor": "white",
             "linecolor": "white",
             "minorgridcolor": "white",
             "startlinecolor": "#2a3f5f"
            },
            "baxis": {
             "endlinecolor": "#2a3f5f",
             "gridcolor": "white",
             "linecolor": "white",
             "minorgridcolor": "white",
             "startlinecolor": "#2a3f5f"
            },
            "type": "carpet"
           }
          ],
          "choropleth": [
           {
            "colorbar": {
             "outlinewidth": 0,
             "ticks": ""
            },
            "type": "choropleth"
           }
          ],
          "contour": [
           {
            "colorbar": {
             "outlinewidth": 0,
             "ticks": ""
            },
            "colorscale": [
             [
              0,
              "#0d0887"
             ],
             [
              0.1111111111111111,
              "#46039f"
             ],
             [
              0.2222222222222222,
              "#7201a8"
             ],
             [
              0.3333333333333333,
              "#9c179e"
             ],
             [
              0.4444444444444444,
              "#bd3786"
             ],
             [
              0.5555555555555556,
              "#d8576b"
             ],
             [
              0.6666666666666666,
              "#ed7953"
             ],
             [
              0.7777777777777778,
              "#fb9f3a"
             ],
             [
              0.8888888888888888,
              "#fdca26"
             ],
             [
              1,
              "#f0f921"
             ]
            ],
            "type": "contour"
           }
          ],
          "contourcarpet": [
           {
            "colorbar": {
             "outlinewidth": 0,
             "ticks": ""
            },
            "type": "contourcarpet"
           }
          ],
          "heatmap": [
           {
            "colorbar": {
             "outlinewidth": 0,
             "ticks": ""
            },
            "colorscale": [
             [
              0,
              "#0d0887"
             ],
             [
              0.1111111111111111,
              "#46039f"
             ],
             [
              0.2222222222222222,
              "#7201a8"
             ],
             [
              0.3333333333333333,
              "#9c179e"
             ],
             [
              0.4444444444444444,
              "#bd3786"
             ],
             [
              0.5555555555555556,
              "#d8576b"
             ],
             [
              0.6666666666666666,
              "#ed7953"
             ],
             [
              0.7777777777777778,
              "#fb9f3a"
             ],
             [
              0.8888888888888888,
              "#fdca26"
             ],
             [
              1,
              "#f0f921"
             ]
            ],
            "type": "heatmap"
           }
          ],
          "heatmapgl": [
           {
            "colorbar": {
             "outlinewidth": 0,
             "ticks": ""
            },
            "colorscale": [
             [
              0,
              "#0d0887"
             ],
             [
              0.1111111111111111,
              "#46039f"
             ],
             [
              0.2222222222222222,
              "#7201a8"
             ],
             [
              0.3333333333333333,
              "#9c179e"
             ],
             [
              0.4444444444444444,
              "#bd3786"
             ],
             [
              0.5555555555555556,
              "#d8576b"
             ],
             [
              0.6666666666666666,
              "#ed7953"
             ],
             [
              0.7777777777777778,
              "#fb9f3a"
             ],
             [
              0.8888888888888888,
              "#fdca26"
             ],
             [
              1,
              "#f0f921"
             ]
            ],
            "type": "heatmapgl"
           }
          ],
          "histogram": [
           {
            "marker": {
             "pattern": {
              "fillmode": "overlay",
              "size": 10,
              "solidity": 0.2
             }
            },
            "type": "histogram"
           }
          ],
          "histogram2d": [
           {
            "colorbar": {
             "outlinewidth": 0,
             "ticks": ""
            },
            "colorscale": [
             [
              0,
              "#0d0887"
             ],
             [
              0.1111111111111111,
              "#46039f"
             ],
             [
              0.2222222222222222,
              "#7201a8"
             ],
             [
              0.3333333333333333,
              "#9c179e"
             ],
             [
              0.4444444444444444,
              "#bd3786"
             ],
             [
              0.5555555555555556,
              "#d8576b"
             ],
             [
              0.6666666666666666,
              "#ed7953"
             ],
             [
              0.7777777777777778,
              "#fb9f3a"
             ],
             [
              0.8888888888888888,
              "#fdca26"
             ],
             [
              1,
              "#f0f921"
             ]
            ],
            "type": "histogram2d"
           }
          ],
          "histogram2dcontour": [
           {
            "colorbar": {
             "outlinewidth": 0,
             "ticks": ""
            },
            "colorscale": [
             [
              0,
              "#0d0887"
             ],
             [
              0.1111111111111111,
              "#46039f"
             ],
             [
              0.2222222222222222,
              "#7201a8"
             ],
             [
              0.3333333333333333,
              "#9c179e"
             ],
             [
              0.4444444444444444,
              "#bd3786"
             ],
             [
              0.5555555555555556,
              "#d8576b"
             ],
             [
              0.6666666666666666,
              "#ed7953"
             ],
             [
              0.7777777777777778,
              "#fb9f3a"
             ],
             [
              0.8888888888888888,
              "#fdca26"
             ],
             [
              1,
              "#f0f921"
             ]
            ],
            "type": "histogram2dcontour"
           }
          ],
          "mesh3d": [
           {
            "colorbar": {
             "outlinewidth": 0,
             "ticks": ""
            },
            "type": "mesh3d"
           }
          ],
          "parcoords": [
           {
            "line": {
             "colorbar": {
              "outlinewidth": 0,
              "ticks": ""
             }
            },
            "type": "parcoords"
           }
          ],
          "pie": [
           {
            "automargin": true,
            "type": "pie"
           }
          ],
          "scatter": [
           {
            "fillpattern": {
             "fillmode": "overlay",
             "size": 10,
             "solidity": 0.2
            },
            "type": "scatter"
           }
          ],
          "scatter3d": [
           {
            "line": {
             "colorbar": {
              "outlinewidth": 0,
              "ticks": ""
             }
            },
            "marker": {
             "colorbar": {
              "outlinewidth": 0,
              "ticks": ""
             }
            },
            "type": "scatter3d"
           }
          ],
          "scattercarpet": [
           {
            "marker": {
             "colorbar": {
              "outlinewidth": 0,
              "ticks": ""
             }
            },
            "type": "scattercarpet"
           }
          ],
          "scattergeo": [
           {
            "marker": {
             "colorbar": {
              "outlinewidth": 0,
              "ticks": ""
             }
            },
            "type": "scattergeo"
           }
          ],
          "scattergl": [
           {
            "marker": {
             "colorbar": {
              "outlinewidth": 0,
              "ticks": ""
             }
            },
            "type": "scattergl"
           }
          ],
          "scattermapbox": [
           {
            "marker": {
             "colorbar": {
              "outlinewidth": 0,
              "ticks": ""
             }
            },
            "type": "scattermapbox"
           }
          ],
          "scatterpolar": [
           {
            "marker": {
             "colorbar": {
              "outlinewidth": 0,
              "ticks": ""
             }
            },
            "type": "scatterpolar"
           }
          ],
          "scatterpolargl": [
           {
            "marker": {
             "colorbar": {
              "outlinewidth": 0,
              "ticks": ""
             }
            },
            "type": "scatterpolargl"
           }
          ],
          "scatterternary": [
           {
            "marker": {
             "colorbar": {
              "outlinewidth": 0,
              "ticks": ""
             }
            },
            "type": "scatterternary"
           }
          ],
          "surface": [
           {
            "colorbar": {
             "outlinewidth": 0,
             "ticks": ""
            },
            "colorscale": [
             [
              0,
              "#0d0887"
             ],
             [
              0.1111111111111111,
              "#46039f"
             ],
             [
              0.2222222222222222,
              "#7201a8"
             ],
             [
              0.3333333333333333,
              "#9c179e"
             ],
             [
              0.4444444444444444,
              "#bd3786"
             ],
             [
              0.5555555555555556,
              "#d8576b"
             ],
             [
              0.6666666666666666,
              "#ed7953"
             ],
             [
              0.7777777777777778,
              "#fb9f3a"
             ],
             [
              0.8888888888888888,
              "#fdca26"
             ],
             [
              1,
              "#f0f921"
             ]
            ],
            "type": "surface"
           }
          ],
          "table": [
           {
            "cells": {
             "fill": {
              "color": "#EBF0F8"
             },
             "line": {
              "color": "white"
             }
            },
            "header": {
             "fill": {
              "color": "#C8D4E3"
             },
             "line": {
              "color": "white"
             }
            },
            "type": "table"
           }
          ]
         },
         "layout": {
          "annotationdefaults": {
           "arrowcolor": "#2a3f5f",
           "arrowhead": 0,
           "arrowwidth": 1
          },
          "autotypenumbers": "strict",
          "coloraxis": {
           "colorbar": {
            "outlinewidth": 0,
            "ticks": ""
           }
          },
          "colorscale": {
           "diverging": [
            [
             0,
             "#8e0152"
            ],
            [
             0.1,
             "#c51b7d"
            ],
            [
             0.2,
             "#de77ae"
            ],
            [
             0.3,
             "#f1b6da"
            ],
            [
             0.4,
             "#fde0ef"
            ],
            [
             0.5,
             "#f7f7f7"
            ],
            [
             0.6,
             "#e6f5d0"
            ],
            [
             0.7,
             "#b8e186"
            ],
            [
             0.8,
             "#7fbc41"
            ],
            [
             0.9,
             "#4d9221"
            ],
            [
             1,
             "#276419"
            ]
           ],
           "sequential": [
            [
             0,
             "#0d0887"
            ],
            [
             0.1111111111111111,
             "#46039f"
            ],
            [
             0.2222222222222222,
             "#7201a8"
            ],
            [
             0.3333333333333333,
             "#9c179e"
            ],
            [
             0.4444444444444444,
             "#bd3786"
            ],
            [
             0.5555555555555556,
             "#d8576b"
            ],
            [
             0.6666666666666666,
             "#ed7953"
            ],
            [
             0.7777777777777778,
             "#fb9f3a"
            ],
            [
             0.8888888888888888,
             "#fdca26"
            ],
            [
             1,
             "#f0f921"
            ]
           ],
           "sequentialminus": [
            [
             0,
             "#0d0887"
            ],
            [
             0.1111111111111111,
             "#46039f"
            ],
            [
             0.2222222222222222,
             "#7201a8"
            ],
            [
             0.3333333333333333,
             "#9c179e"
            ],
            [
             0.4444444444444444,
             "#bd3786"
            ],
            [
             0.5555555555555556,
             "#d8576b"
            ],
            [
             0.6666666666666666,
             "#ed7953"
            ],
            [
             0.7777777777777778,
             "#fb9f3a"
            ],
            [
             0.8888888888888888,
             "#fdca26"
            ],
            [
             1,
             "#f0f921"
            ]
           ]
          },
          "colorway": [
           "#636efa",
           "#EF553B",
           "#00cc96",
           "#ab63fa",
           "#FFA15A",
           "#19d3f3",
           "#FF6692",
           "#B6E880",
           "#FF97FF",
           "#FECB52"
          ],
          "font": {
           "color": "#2a3f5f"
          },
          "geo": {
           "bgcolor": "white",
           "lakecolor": "white",
           "landcolor": "#E5ECF6",
           "showlakes": true,
           "showland": true,
           "subunitcolor": "white"
          },
          "hoverlabel": {
           "align": "left"
          },
          "hovermode": "closest",
          "mapbox": {
           "style": "light"
          },
          "paper_bgcolor": "white",
          "plot_bgcolor": "#E5ECF6",
          "polar": {
           "angularaxis": {
            "gridcolor": "white",
            "linecolor": "white",
            "ticks": ""
           },
           "bgcolor": "#E5ECF6",
           "radialaxis": {
            "gridcolor": "white",
            "linecolor": "white",
            "ticks": ""
           }
          },
          "scene": {
           "xaxis": {
            "backgroundcolor": "#E5ECF6",
            "gridcolor": "white",
            "gridwidth": 2,
            "linecolor": "white",
            "showbackground": true,
            "ticks": "",
            "zerolinecolor": "white"
           },
           "yaxis": {
            "backgroundcolor": "#E5ECF6",
            "gridcolor": "white",
            "gridwidth": 2,
            "linecolor": "white",
            "showbackground": true,
            "ticks": "",
            "zerolinecolor": "white"
           },
           "zaxis": {
            "backgroundcolor": "#E5ECF6",
            "gridcolor": "white",
            "gridwidth": 2,
            "linecolor": "white",
            "showbackground": true,
            "ticks": "",
            "zerolinecolor": "white"
           }
          },
          "shapedefaults": {
           "line": {
            "color": "#2a3f5f"
           }
          },
          "ternary": {
           "aaxis": {
            "gridcolor": "white",
            "linecolor": "white",
            "ticks": ""
           },
           "baxis": {
            "gridcolor": "white",
            "linecolor": "white",
            "ticks": ""
           },
           "bgcolor": "#E5ECF6",
           "caxis": {
            "gridcolor": "white",
            "linecolor": "white",
            "ticks": ""
           }
          },
          "title": {
           "x": 0.05
          },
          "xaxis": {
           "automargin": true,
           "gridcolor": "white",
           "linecolor": "white",
           "ticks": "",
           "title": {
            "standoff": 15
           },
           "zerolinecolor": "white",
           "zerolinewidth": 2
          },
          "yaxis": {
           "automargin": true,
           "gridcolor": "white",
           "linecolor": "white",
           "ticks": "",
           "title": {
            "standoff": 15
           },
           "zerolinecolor": "white",
           "zerolinewidth": 2
          }
         }
        },
        "title": {
         "text": "Optimization History Plot"
        },
        "xaxis": {
         "title": {
          "text": "Trial"
         }
        },
        "yaxis": {
         "title": {
          "text": "Objective Value"
         }
        }
       }
      }
     },
     "metadata": {},
     "output_type": "display_data"
    }
   ],
   "source": [
    "# 하이퍼파라미터 최적화 과정을 확인\n",
    "optuna.visualization.plot_optimization_history(study_rf)"
   ]
  },
  {
   "cell_type": "code",
   "execution_count": 33,
   "metadata": {},
   "outputs": [
    {
     "name": "stdout",
     "output_type": "stream",
     "text": [
      "\n",
      "====== Models After Hyper Parameter Tuning ======\n"
     ]
    },
    {
     "data": {
      "text/html": [
       "<div>\n",
       "<style scoped>\n",
       "    .dataframe tbody tr th:only-of-type {\n",
       "        vertical-align: middle;\n",
       "    }\n",
       "\n",
       "    .dataframe tbody tr th {\n",
       "        vertical-align: top;\n",
       "    }\n",
       "\n",
       "    .dataframe thead th {\n",
       "        text-align: right;\n",
       "    }\n",
       "</style>\n",
       "<table border=\"1\" class=\"dataframe\">\n",
       "  <thead>\n",
       "    <tr style=\"text-align: right;\">\n",
       "      <th></th>\n",
       "      <th>Model</th>\n",
       "      <th>MAE</th>\n",
       "      <th>MSE</th>\n",
       "      <th>RMSE</th>\n",
       "      <th>RMSLE</th>\n",
       "      <th>R2 Score</th>\n",
       "    </tr>\n",
       "  </thead>\n",
       "  <tbody>\n",
       "    <tr>\n",
       "      <th>0</th>\n",
       "      <td>RandomForest_tuned</td>\n",
       "      <td>4314788.99</td>\n",
       "      <td>70506305803398.89</td>\n",
       "      <td>8396803.31</td>\n",
       "      <td>0.69</td>\n",
       "      <td>0.74</td>\n",
       "    </tr>\n",
       "  </tbody>\n",
       "</table>\n",
       "</div>"
      ],
      "text/plain": [
       "                Model         MAE                MSE        RMSE RMSLE  \\\n",
       "0  RandomForest_tuned  4314788.99  70506305803398.89  8396803.31  0.69   \n",
       "\n",
       "  R2 Score  \n",
       "0     0.74  "
      ]
     },
     "execution_count": 33,
     "metadata": {},
     "output_type": "execute_result"
    }
   ],
   "source": [
    "rf_optuna = RandomForestRegressor(**study_rf.best_params)\n",
    "model_list([(\"RandomForest_tuned\", rf_optuna)], \"After\")"
   ]
  },
  {
   "cell_type": "markdown",
   "metadata": {},
   "source": [
    "#### `CatBoost`"
   ]
  },
  {
   "cell_type": "code",
   "execution_count": 34,
   "metadata": {},
   "outputs": [],
   "source": [
    "def objective_cat(trial):\n",
    "    params = {\n",
    "        # \"iterations\": 1000,\n",
    "        \"iterations\" : trial.suggest_int('n_estimators', 500, 4000),\n",
    "        \"learning_rate\": trial.suggest_float(\"learning_rate\", 1e-3, 0.1, log=True),\n",
    "        \"depth\": trial.suggest_int(\"depth\", 1, 10),\n",
    "        \"subsample\": trial.suggest_float(\"subsample\", 0.05, 1.0),\n",
    "        \"colsample_bylevel\": trial.suggest_float(\"colsample_bylevel\", 0.05, 1.0),\n",
    "        \"min_data_in_leaf\": trial.suggest_int(\"min_data_in_leaf\", 1, 100),\n",
    "    }\n",
    "\n",
    "    model = CatBoostRegressor(**params, silent=True, random_state=42)\n",
    "    model.fit(X_train, y_train)\n",
    "    predictions = model.predict(X_test)\n",
    "    rmsle = get_rmsle(y_test, predictions)\n",
    "\n",
    "    return rmsle"
   ]
  },
  {
   "cell_type": "code",
   "execution_count": 35,
   "metadata": {},
   "outputs": [
    {
     "name": "stderr",
     "output_type": "stream",
     "text": [
      "[I 2024-05-12 20:38:46,910] A new study created in memory with name: no-name-bf308c35-6a75-4fdd-a632-b75c986375e5\n"
     ]
    },
    {
     "name": "stderr",
     "output_type": "stream",
     "text": [
      "[I 2024-05-12 20:38:48,070] Trial 0 finished with value: 0.92993956901987 and parameters: {'n_estimators': 927, 'learning_rate': 0.009780337016659405, 'depth': 1, 'subsample': 0.9138543819748429, 'colsample_bylevel': 0.29584098252001606, 'min_data_in_leaf': 67}. Best is trial 0 with value: 0.92993956901987.\n",
      "[I 2024-05-12 20:38:52,532] Trial 1 finished with value: 0.7010139847811233 and parameters: {'n_estimators': 1591, 'learning_rate': 0.010968217207529524, 'depth': 6, 'subsample': 0.22561173274925067, 'colsample_bylevel': 0.9711053963763306, 'min_data_in_leaf': 78}. Best is trial 1 with value: 0.7010139847811233.\n",
      "[I 2024-05-12 20:38:59,378] Trial 2 finished with value: 0.7514566004672186 and parameters: {'n_estimators': 3789, 'learning_rate': 0.06161049539380966, 'depth': 6, 'subsample': 0.925780523271961, 'colsample_bylevel': 0.13406787694932354, 'min_data_in_leaf': 20}. Best is trial 1 with value: 0.7010139847811233.\n",
      "[I 2024-05-12 20:39:00,741] Trial 3 finished with value: 0.9608289778351752 and parameters: {'n_estimators': 658, 'learning_rate': 0.004473636174621266, 'depth': 4, 'subsample': 0.3077815801852011, 'colsample_bylevel': 0.8373006336943328, 'min_data_in_leaf': 36}. Best is trial 1 with value: 0.7010139847811233.\n",
      "[I 2024-05-12 20:39:02,651] Trial 4 finished with value: 0.8283644930314474 and parameters: {'n_estimators': 1483, 'learning_rate': 0.012172847081122434, 'depth': 2, 'subsample': 0.8120871317163377, 'colsample_bylevel': 0.12082311149578229, 'min_data_in_leaf': 99}. Best is trial 1 with value: 0.7010139847811233.\n",
      "[I 2024-05-12 20:39:06,588] Trial 5 finished with value: 0.9518609886344999 and parameters: {'n_estimators': 3203, 'learning_rate': 0.002497073714505273, 'depth': 1, 'subsample': 0.8246883570320924, 'colsample_bylevel': 0.7215144766552363, 'min_data_in_leaf': 73}. Best is trial 1 with value: 0.7010139847811233.\n",
      "[I 2024-05-12 20:39:12,281] Trial 6 finished with value: 0.8182304139827693 and parameters: {'n_estimators': 3200, 'learning_rate': 0.001406336677771817, 'depth': 4, 'subsample': 0.1600756065488732, 'colsample_bylevel': 0.8699482545818139, 'min_data_in_leaf': 63}. Best is trial 1 with value: 0.7010139847811233.\n",
      "[I 2024-05-12 20:39:15,490] Trial 7 finished with value: 1.0504327714419623 and parameters: {'n_estimators': 1658, 'learning_rate': 0.0013400367243354798, 'depth': 4, 'subsample': 0.35892415592540966, 'colsample_bylevel': 0.7431258694211609, 'min_data_in_leaf': 64}. Best is trial 1 with value: 0.7010139847811233.\n",
      "[I 2024-05-12 20:39:20,911] Trial 8 finished with value: 0.77708138912783 and parameters: {'n_estimators': 3606, 'learning_rate': 0.008798929749689027, 'depth': 2, 'subsample': 0.7275825478618453, 'colsample_bylevel': 0.7727457961860525, 'min_data_in_leaf': 57}. Best is trial 1 with value: 0.7010139847811233.\n",
      "[I 2024-05-12 20:39:24,895] Trial 9 finished with value: 0.7930688878458809 and parameters: {'n_estimators': 3199, 'learning_rate': 0.009718319944817401, 'depth': 6, 'subsample': 0.4561639674406221, 'colsample_bylevel': 0.07414817040689042, 'min_data_in_leaf': 11}. Best is trial 1 with value: 0.7010139847811233.\n",
      "[I 2024-05-12 20:40:12,515] Trial 10 finished with value: 0.6941614770462212 and parameters: {'n_estimators': 2269, 'learning_rate': 0.03935461796991323, 'depth': 10, 'subsample': 0.07215275100022916, 'colsample_bylevel': 0.9917133363364197, 'min_data_in_leaf': 94}. Best is trial 10 with value: 0.6941614770462212.\n",
      "[I 2024-05-12 20:40:55,280] Trial 11 finished with value: 0.6957066968264763 and parameters: {'n_estimators': 2299, 'learning_rate': 0.043260848327979155, 'depth': 10, 'subsample': 0.07580939800173264, 'colsample_bylevel': 0.9570215722060379, 'min_data_in_leaf': 97}. Best is trial 10 with value: 0.6941614770462212.\n",
      "[I 2024-05-12 20:41:29,283] Trial 12 finished with value: 0.7071006740300795 and parameters: {'n_estimators': 2431, 'learning_rate': 0.051974294568809226, 'depth': 10, 'subsample': 0.09185215383942102, 'colsample_bylevel': 0.5363494123908807, 'min_data_in_leaf': 99}. Best is trial 10 with value: 0.6941614770462212.\n",
      "[I 2024-05-12 20:42:12,940] Trial 13 finished with value: 0.6707888313323839 and parameters: {'n_estimators': 2292, 'learning_rate': 0.03026733982974222, 'depth': 10, 'subsample': 0.058129277019094754, 'colsample_bylevel': 0.9853322431635869, 'min_data_in_leaf': 87}. Best is trial 13 with value: 0.6707888313323839.\n",
      "[I 2024-05-12 20:42:30,107] Trial 14 finished with value: 0.7417666733220611 and parameters: {'n_estimators': 2626, 'learning_rate': 0.02734661238419533, 'depth': 8, 'subsample': 0.5846892919582982, 'colsample_bylevel': 0.6238514932598784, 'min_data_in_leaf': 83}. Best is trial 13 with value: 0.6707888313323839.\n",
      "[I 2024-05-12 20:42:39,632] Trial 15 finished with value: 0.7911594628267248 and parameters: {'n_estimators': 1877, 'learning_rate': 0.09526261766589357, 'depth': 8, 'subsample': 0.25901994116749316, 'colsample_bylevel': 0.3626407848328813, 'min_data_in_leaf': 86}. Best is trial 13 with value: 0.6707888313323839.\n",
      "[I 2024-05-12 20:42:55,895] Trial 16 finished with value: 0.7272962262225658 and parameters: {'n_estimators': 2739, 'learning_rate': 0.020068347526863116, 'depth': 8, 'subsample': 0.468216779570501, 'colsample_bylevel': 0.999328803229584, 'min_data_in_leaf': 43}. Best is trial 13 with value: 0.6707888313323839.\n",
      "[I 2024-05-12 20:43:15,372] Trial 17 finished with value: 0.6586354521712067 and parameters: {'n_estimators': 2022, 'learning_rate': 0.028204804864628587, 'depth': 9, 'subsample': 0.15650692277791461, 'colsample_bylevel': 0.6407165683110188, 'min_data_in_leaf': 87}. Best is trial 17 with value: 0.6586354521712067.\n",
      "[I 2024-05-12 20:43:25,538] Trial 18 finished with value: 0.6562093882389614 and parameters: {'n_estimators': 1217, 'learning_rate': 0.025146444860712838, 'depth': 9, 'subsample': 0.18684225593777123, 'colsample_bylevel': 0.39443584116734437, 'min_data_in_leaf': 47}. Best is trial 18 with value: 0.6562093882389614.\n",
      "[I 2024-05-12 20:43:35,655] Trial 19 finished with value: 0.6566601958247295 and parameters: {'n_estimators': 1156, 'learning_rate': 0.021830756010775536, 'depth': 9, 'subsample': 0.3713066586354785, 'colsample_bylevel': 0.39203848061678104, 'min_data_in_leaf': 31}. Best is trial 18 with value: 0.6562093882389614.\n",
      "[I 2024-05-12 20:43:42,061] Trial 20 finished with value: 0.65661404522623 and parameters: {'n_estimators': 1043, 'learning_rate': 0.017617945823043116, 'depth': 8, 'subsample': 0.5891158001277164, 'colsample_bylevel': 0.3984167453133531, 'min_data_in_leaf': 28}. Best is trial 18 with value: 0.6562093882389614.\n",
      "[I 2024-05-12 20:43:47,148] Trial 21 finished with value: 0.6756798539845023 and parameters: {'n_estimators': 1224, 'learning_rate': 0.016909930414359262, 'depth': 7, 'subsample': 0.586922332896244, 'colsample_bylevel': 0.37578135107745675, 'min_data_in_leaf': 32}. Best is trial 18 with value: 0.6562093882389614.\n",
      "[I 2024-05-12 20:43:57,478] Trial 22 finished with value: 0.6948976236608915 and parameters: {'n_estimators': 1093, 'learning_rate': 0.005336781020362286, 'depth': 9, 'subsample': 0.3807252612954833, 'colsample_bylevel': 0.4538115641047701, 'min_data_in_leaf': 25}. Best is trial 18 with value: 0.6562093882389614.\n",
      "[I 2024-05-12 20:44:03,400] Trial 23 finished with value: 0.6778720042489945 and parameters: {'n_estimators': 789, 'learning_rate': 0.018136660282569578, 'depth': 9, 'subsample': 0.6623864000102867, 'colsample_bylevel': 0.2643865170439803, 'min_data_in_leaf': 1}. Best is trial 18 with value: 0.6562093882389614.\n",
      "[I 2024-05-12 20:44:05,838] Trial 24 finished with value: 0.8787173469972637 and parameters: {'n_estimators': 505, 'learning_rate': 0.005699539915515584, 'depth': 7, 'subsample': 0.44359513024774083, 'colsample_bylevel': 0.47094777667443993, 'min_data_in_leaf': 49}. Best is trial 18 with value: 0.6562093882389614.\n",
      "[I 2024-05-12 20:44:10,250] Trial 25 finished with value: 0.7146648932141423 and parameters: {'n_estimators': 1289, 'learning_rate': 0.01495094685520591, 'depth': 7, 'subsample': 0.5392596282588794, 'colsample_bylevel': 0.21960045432039998, 'min_data_in_leaf': 42}. Best is trial 18 with value: 0.6562093882389614.\n",
      "[I 2024-05-12 20:44:18,679] Trial 26 finished with value: 0.6423127877354567 and parameters: {'n_estimators': 940, 'learning_rate': 0.023152906583498525, 'depth': 9, 'subsample': 0.3201012976753739, 'colsample_bylevel': 0.4050931876862345, 'min_data_in_leaf': 20}. Best is trial 26 with value: 0.6423127877354567.\n",
      "[I 2024-05-12 20:44:23,619] Trial 27 finished with value: 0.6808981436957371 and parameters: {'n_estimators': 823, 'learning_rate': 0.09484757015248084, 'depth': 8, 'subsample': 0.2132799363505668, 'colsample_bylevel': 0.54278395928228, 'min_data_in_leaf': 16}. Best is trial 26 with value: 0.6423127877354567.\n",
      "[I 2024-05-12 20:44:28,468] Trial 28 finished with value: 0.7560109210996725 and parameters: {'n_estimators': 1902, 'learning_rate': 0.062471258869099995, 'depth': 5, 'subsample': 0.6721250064244609, 'colsample_bylevel': 0.31905498964472034, 'min_data_in_leaf': 9}. Best is trial 26 with value: 0.6423127877354567.\n",
      "[I 2024-05-12 20:44:32,562] Trial 29 finished with value: 0.7246330513707838 and parameters: {'n_estimators': 928, 'learning_rate': 0.008400022418519058, 'depth': 9, 'subsample': 0.2933349452110509, 'colsample_bylevel': 0.19536707811926424, 'min_data_in_leaf': 25}. Best is trial 26 with value: 0.6423127877354567.\n"
     ]
    }
   ],
   "source": [
    "study_cat = optuna.create_study(direction='minimize', sampler=sampler)\n",
    "study_cat.optimize(objective_cat, n_trials=30)"
   ]
  },
  {
   "cell_type": "code",
   "execution_count": 36,
   "metadata": {},
   "outputs": [
    {
     "name": "stdout",
     "output_type": "stream",
     "text": [
      "Best hyperparameters:\n",
      "{'n_estimators': 940, 'learning_rate': 0.023152906583498525, 'depth': 9, 'subsample': 0.3201012976753739, 'colsample_bylevel': 0.4050931876862345, 'min_data_in_leaf': 20}\n",
      "-----------------------------------------------------------------------------------------------------------------\n",
      "Best RMSLE:\n",
      "0.6423127877354567\n"
     ]
    }
   ],
   "source": [
    "print(\"Best hyperparameters:\", study_cat.best_params, sep=\"\\n\")\n",
    "print(\"-----------------------------------------------------------------------------------------------------------------\")\n",
    "print(\"Best RMSLE:\", study_cat.best_value, sep=\"\\n\")"
   ]
  },
  {
   "cell_type": "code",
   "execution_count": 37,
   "metadata": {},
   "outputs": [
    {
     "data": {
      "application/vnd.plotly.v1+json": {
       "config": {
        "plotlyServerURL": "https://plot.ly"
       },
       "data": [
        {
         "cliponaxis": false,
         "hovertemplate": [
          "min_data_in_leaf (IntDistribution): 0.012807361737142333<extra></extra>",
          "subsample (FloatDistribution): 0.039229010064460695<extra></extra>",
          "colsample_bylevel (FloatDistribution): 0.05503958716188551<extra></extra>",
          "n_estimators (IntDistribution): 0.13689669788389672<extra></extra>",
          "learning_rate (FloatDistribution): 0.29145581201222104<extra></extra>",
          "depth (IntDistribution): 0.46457153114039373<extra></extra>"
         ],
         "name": "Objective Value",
         "orientation": "h",
         "text": [
          "0.01",
          "0.04",
          "0.06",
          "0.14",
          "0.29",
          "0.46"
         ],
         "textposition": "outside",
         "type": "bar",
         "x": [
          0.012807361737142333,
          0.039229010064460695,
          0.05503958716188551,
          0.13689669788389672,
          0.29145581201222104,
          0.46457153114039373
         ],
         "y": [
          "min_data_in_leaf",
          "subsample",
          "colsample_bylevel",
          "n_estimators",
          "learning_rate",
          "depth"
         ]
        }
       ],
       "layout": {
        "template": {
         "data": {
          "bar": [
           {
            "error_x": {
             "color": "#2a3f5f"
            },
            "error_y": {
             "color": "#2a3f5f"
            },
            "marker": {
             "line": {
              "color": "#E5ECF6",
              "width": 0.5
             },
             "pattern": {
              "fillmode": "overlay",
              "size": 10,
              "solidity": 0.2
             }
            },
            "type": "bar"
           }
          ],
          "barpolar": [
           {
            "marker": {
             "line": {
              "color": "#E5ECF6",
              "width": 0.5
             },
             "pattern": {
              "fillmode": "overlay",
              "size": 10,
              "solidity": 0.2
             }
            },
            "type": "barpolar"
           }
          ],
          "carpet": [
           {
            "aaxis": {
             "endlinecolor": "#2a3f5f",
             "gridcolor": "white",
             "linecolor": "white",
             "minorgridcolor": "white",
             "startlinecolor": "#2a3f5f"
            },
            "baxis": {
             "endlinecolor": "#2a3f5f",
             "gridcolor": "white",
             "linecolor": "white",
             "minorgridcolor": "white",
             "startlinecolor": "#2a3f5f"
            },
            "type": "carpet"
           }
          ],
          "choropleth": [
           {
            "colorbar": {
             "outlinewidth": 0,
             "ticks": ""
            },
            "type": "choropleth"
           }
          ],
          "contour": [
           {
            "colorbar": {
             "outlinewidth": 0,
             "ticks": ""
            },
            "colorscale": [
             [
              0,
              "#0d0887"
             ],
             [
              0.1111111111111111,
              "#46039f"
             ],
             [
              0.2222222222222222,
              "#7201a8"
             ],
             [
              0.3333333333333333,
              "#9c179e"
             ],
             [
              0.4444444444444444,
              "#bd3786"
             ],
             [
              0.5555555555555556,
              "#d8576b"
             ],
             [
              0.6666666666666666,
              "#ed7953"
             ],
             [
              0.7777777777777778,
              "#fb9f3a"
             ],
             [
              0.8888888888888888,
              "#fdca26"
             ],
             [
              1,
              "#f0f921"
             ]
            ],
            "type": "contour"
           }
          ],
          "contourcarpet": [
           {
            "colorbar": {
             "outlinewidth": 0,
             "ticks": ""
            },
            "type": "contourcarpet"
           }
          ],
          "heatmap": [
           {
            "colorbar": {
             "outlinewidth": 0,
             "ticks": ""
            },
            "colorscale": [
             [
              0,
              "#0d0887"
             ],
             [
              0.1111111111111111,
              "#46039f"
             ],
             [
              0.2222222222222222,
              "#7201a8"
             ],
             [
              0.3333333333333333,
              "#9c179e"
             ],
             [
              0.4444444444444444,
              "#bd3786"
             ],
             [
              0.5555555555555556,
              "#d8576b"
             ],
             [
              0.6666666666666666,
              "#ed7953"
             ],
             [
              0.7777777777777778,
              "#fb9f3a"
             ],
             [
              0.8888888888888888,
              "#fdca26"
             ],
             [
              1,
              "#f0f921"
             ]
            ],
            "type": "heatmap"
           }
          ],
          "heatmapgl": [
           {
            "colorbar": {
             "outlinewidth": 0,
             "ticks": ""
            },
            "colorscale": [
             [
              0,
              "#0d0887"
             ],
             [
              0.1111111111111111,
              "#46039f"
             ],
             [
              0.2222222222222222,
              "#7201a8"
             ],
             [
              0.3333333333333333,
              "#9c179e"
             ],
             [
              0.4444444444444444,
              "#bd3786"
             ],
             [
              0.5555555555555556,
              "#d8576b"
             ],
             [
              0.6666666666666666,
              "#ed7953"
             ],
             [
              0.7777777777777778,
              "#fb9f3a"
             ],
             [
              0.8888888888888888,
              "#fdca26"
             ],
             [
              1,
              "#f0f921"
             ]
            ],
            "type": "heatmapgl"
           }
          ],
          "histogram": [
           {
            "marker": {
             "pattern": {
              "fillmode": "overlay",
              "size": 10,
              "solidity": 0.2
             }
            },
            "type": "histogram"
           }
          ],
          "histogram2d": [
           {
            "colorbar": {
             "outlinewidth": 0,
             "ticks": ""
            },
            "colorscale": [
             [
              0,
              "#0d0887"
             ],
             [
              0.1111111111111111,
              "#46039f"
             ],
             [
              0.2222222222222222,
              "#7201a8"
             ],
             [
              0.3333333333333333,
              "#9c179e"
             ],
             [
              0.4444444444444444,
              "#bd3786"
             ],
             [
              0.5555555555555556,
              "#d8576b"
             ],
             [
              0.6666666666666666,
              "#ed7953"
             ],
             [
              0.7777777777777778,
              "#fb9f3a"
             ],
             [
              0.8888888888888888,
              "#fdca26"
             ],
             [
              1,
              "#f0f921"
             ]
            ],
            "type": "histogram2d"
           }
          ],
          "histogram2dcontour": [
           {
            "colorbar": {
             "outlinewidth": 0,
             "ticks": ""
            },
            "colorscale": [
             [
              0,
              "#0d0887"
             ],
             [
              0.1111111111111111,
              "#46039f"
             ],
             [
              0.2222222222222222,
              "#7201a8"
             ],
             [
              0.3333333333333333,
              "#9c179e"
             ],
             [
              0.4444444444444444,
              "#bd3786"
             ],
             [
              0.5555555555555556,
              "#d8576b"
             ],
             [
              0.6666666666666666,
              "#ed7953"
             ],
             [
              0.7777777777777778,
              "#fb9f3a"
             ],
             [
              0.8888888888888888,
              "#fdca26"
             ],
             [
              1,
              "#f0f921"
             ]
            ],
            "type": "histogram2dcontour"
           }
          ],
          "mesh3d": [
           {
            "colorbar": {
             "outlinewidth": 0,
             "ticks": ""
            },
            "type": "mesh3d"
           }
          ],
          "parcoords": [
           {
            "line": {
             "colorbar": {
              "outlinewidth": 0,
              "ticks": ""
             }
            },
            "type": "parcoords"
           }
          ],
          "pie": [
           {
            "automargin": true,
            "type": "pie"
           }
          ],
          "scatter": [
           {
            "fillpattern": {
             "fillmode": "overlay",
             "size": 10,
             "solidity": 0.2
            },
            "type": "scatter"
           }
          ],
          "scatter3d": [
           {
            "line": {
             "colorbar": {
              "outlinewidth": 0,
              "ticks": ""
             }
            },
            "marker": {
             "colorbar": {
              "outlinewidth": 0,
              "ticks": ""
             }
            },
            "type": "scatter3d"
           }
          ],
          "scattercarpet": [
           {
            "marker": {
             "colorbar": {
              "outlinewidth": 0,
              "ticks": ""
             }
            },
            "type": "scattercarpet"
           }
          ],
          "scattergeo": [
           {
            "marker": {
             "colorbar": {
              "outlinewidth": 0,
              "ticks": ""
             }
            },
            "type": "scattergeo"
           }
          ],
          "scattergl": [
           {
            "marker": {
             "colorbar": {
              "outlinewidth": 0,
              "ticks": ""
             }
            },
            "type": "scattergl"
           }
          ],
          "scattermapbox": [
           {
            "marker": {
             "colorbar": {
              "outlinewidth": 0,
              "ticks": ""
             }
            },
            "type": "scattermapbox"
           }
          ],
          "scatterpolar": [
           {
            "marker": {
             "colorbar": {
              "outlinewidth": 0,
              "ticks": ""
             }
            },
            "type": "scatterpolar"
           }
          ],
          "scatterpolargl": [
           {
            "marker": {
             "colorbar": {
              "outlinewidth": 0,
              "ticks": ""
             }
            },
            "type": "scatterpolargl"
           }
          ],
          "scatterternary": [
           {
            "marker": {
             "colorbar": {
              "outlinewidth": 0,
              "ticks": ""
             }
            },
            "type": "scatterternary"
           }
          ],
          "surface": [
           {
            "colorbar": {
             "outlinewidth": 0,
             "ticks": ""
            },
            "colorscale": [
             [
              0,
              "#0d0887"
             ],
             [
              0.1111111111111111,
              "#46039f"
             ],
             [
              0.2222222222222222,
              "#7201a8"
             ],
             [
              0.3333333333333333,
              "#9c179e"
             ],
             [
              0.4444444444444444,
              "#bd3786"
             ],
             [
              0.5555555555555556,
              "#d8576b"
             ],
             [
              0.6666666666666666,
              "#ed7953"
             ],
             [
              0.7777777777777778,
              "#fb9f3a"
             ],
             [
              0.8888888888888888,
              "#fdca26"
             ],
             [
              1,
              "#f0f921"
             ]
            ],
            "type": "surface"
           }
          ],
          "table": [
           {
            "cells": {
             "fill": {
              "color": "#EBF0F8"
             },
             "line": {
              "color": "white"
             }
            },
            "header": {
             "fill": {
              "color": "#C8D4E3"
             },
             "line": {
              "color": "white"
             }
            },
            "type": "table"
           }
          ]
         },
         "layout": {
          "annotationdefaults": {
           "arrowcolor": "#2a3f5f",
           "arrowhead": 0,
           "arrowwidth": 1
          },
          "autotypenumbers": "strict",
          "coloraxis": {
           "colorbar": {
            "outlinewidth": 0,
            "ticks": ""
           }
          },
          "colorscale": {
           "diverging": [
            [
             0,
             "#8e0152"
            ],
            [
             0.1,
             "#c51b7d"
            ],
            [
             0.2,
             "#de77ae"
            ],
            [
             0.3,
             "#f1b6da"
            ],
            [
             0.4,
             "#fde0ef"
            ],
            [
             0.5,
             "#f7f7f7"
            ],
            [
             0.6,
             "#e6f5d0"
            ],
            [
             0.7,
             "#b8e186"
            ],
            [
             0.8,
             "#7fbc41"
            ],
            [
             0.9,
             "#4d9221"
            ],
            [
             1,
             "#276419"
            ]
           ],
           "sequential": [
            [
             0,
             "#0d0887"
            ],
            [
             0.1111111111111111,
             "#46039f"
            ],
            [
             0.2222222222222222,
             "#7201a8"
            ],
            [
             0.3333333333333333,
             "#9c179e"
            ],
            [
             0.4444444444444444,
             "#bd3786"
            ],
            [
             0.5555555555555556,
             "#d8576b"
            ],
            [
             0.6666666666666666,
             "#ed7953"
            ],
            [
             0.7777777777777778,
             "#fb9f3a"
            ],
            [
             0.8888888888888888,
             "#fdca26"
            ],
            [
             1,
             "#f0f921"
            ]
           ],
           "sequentialminus": [
            [
             0,
             "#0d0887"
            ],
            [
             0.1111111111111111,
             "#46039f"
            ],
            [
             0.2222222222222222,
             "#7201a8"
            ],
            [
             0.3333333333333333,
             "#9c179e"
            ],
            [
             0.4444444444444444,
             "#bd3786"
            ],
            [
             0.5555555555555556,
             "#d8576b"
            ],
            [
             0.6666666666666666,
             "#ed7953"
            ],
            [
             0.7777777777777778,
             "#fb9f3a"
            ],
            [
             0.8888888888888888,
             "#fdca26"
            ],
            [
             1,
             "#f0f921"
            ]
           ]
          },
          "colorway": [
           "#636efa",
           "#EF553B",
           "#00cc96",
           "#ab63fa",
           "#FFA15A",
           "#19d3f3",
           "#FF6692",
           "#B6E880",
           "#FF97FF",
           "#FECB52"
          ],
          "font": {
           "color": "#2a3f5f"
          },
          "geo": {
           "bgcolor": "white",
           "lakecolor": "white",
           "landcolor": "#E5ECF6",
           "showlakes": true,
           "showland": true,
           "subunitcolor": "white"
          },
          "hoverlabel": {
           "align": "left"
          },
          "hovermode": "closest",
          "mapbox": {
           "style": "light"
          },
          "paper_bgcolor": "white",
          "plot_bgcolor": "#E5ECF6",
          "polar": {
           "angularaxis": {
            "gridcolor": "white",
            "linecolor": "white",
            "ticks": ""
           },
           "bgcolor": "#E5ECF6",
           "radialaxis": {
            "gridcolor": "white",
            "linecolor": "white",
            "ticks": ""
           }
          },
          "scene": {
           "xaxis": {
            "backgroundcolor": "#E5ECF6",
            "gridcolor": "white",
            "gridwidth": 2,
            "linecolor": "white",
            "showbackground": true,
            "ticks": "",
            "zerolinecolor": "white"
           },
           "yaxis": {
            "backgroundcolor": "#E5ECF6",
            "gridcolor": "white",
            "gridwidth": 2,
            "linecolor": "white",
            "showbackground": true,
            "ticks": "",
            "zerolinecolor": "white"
           },
           "zaxis": {
            "backgroundcolor": "#E5ECF6",
            "gridcolor": "white",
            "gridwidth": 2,
            "linecolor": "white",
            "showbackground": true,
            "ticks": "",
            "zerolinecolor": "white"
           }
          },
          "shapedefaults": {
           "line": {
            "color": "#2a3f5f"
           }
          },
          "ternary": {
           "aaxis": {
            "gridcolor": "white",
            "linecolor": "white",
            "ticks": ""
           },
           "baxis": {
            "gridcolor": "white",
            "linecolor": "white",
            "ticks": ""
           },
           "bgcolor": "#E5ECF6",
           "caxis": {
            "gridcolor": "white",
            "linecolor": "white",
            "ticks": ""
           }
          },
          "title": {
           "x": 0.05
          },
          "xaxis": {
           "automargin": true,
           "gridcolor": "white",
           "linecolor": "white",
           "ticks": "",
           "title": {
            "standoff": 15
           },
           "zerolinecolor": "white",
           "zerolinewidth": 2
          },
          "yaxis": {
           "automargin": true,
           "gridcolor": "white",
           "linecolor": "white",
           "ticks": "",
           "title": {
            "standoff": 15
           },
           "zerolinecolor": "white",
           "zerolinewidth": 2
          }
         }
        },
        "title": {
         "text": "Hyperparameter Importances"
        },
        "xaxis": {
         "title": {
          "text": "Hyperparameter Importance"
         }
        },
        "yaxis": {
         "title": {
          "text": "Hyperparameter"
         }
        }
       }
      }
     },
     "metadata": {},
     "output_type": "display_data"
    }
   ],
   "source": [
    "# 하이퍼파라미터별 중요도를 확인할 수 있는 그래프\n",
    "optuna.visualization.plot_param_importances(study_cat)"
   ]
  },
  {
   "cell_type": "code",
   "execution_count": 38,
   "metadata": {},
   "outputs": [
    {
     "data": {
      "application/vnd.plotly.v1+json": {
       "config": {
        "plotlyServerURL": "https://plot.ly"
       },
       "data": [
        {
         "mode": "markers",
         "name": "Objective Value",
         "type": "scatter",
         "x": [
          0,
          1,
          2,
          3,
          4,
          5,
          6,
          7,
          8,
          9,
          10,
          11,
          12,
          13,
          14,
          15,
          16,
          17,
          18,
          19,
          20,
          21,
          22,
          23,
          24,
          25,
          26,
          27,
          28,
          29
         ],
         "y": [
          0.92993956901987,
          0.7010139847811233,
          0.7514566004672186,
          0.9608289778351752,
          0.8283644930314474,
          0.9518609886344999,
          0.8182304139827693,
          1.0504327714419623,
          0.77708138912783,
          0.7930688878458809,
          0.6941614770462212,
          0.6957066968264763,
          0.7071006740300795,
          0.6707888313323839,
          0.7417666733220611,
          0.7911594628267248,
          0.7272962262225658,
          0.6586354521712067,
          0.6562093882389614,
          0.6566601958247295,
          0.65661404522623,
          0.6756798539845023,
          0.6948976236608915,
          0.6778720042489945,
          0.8787173469972637,
          0.7146648932141423,
          0.6423127877354567,
          0.6808981436957371,
          0.7560109210996725,
          0.7246330513707838
         ]
        },
        {
         "mode": "lines",
         "name": "Best Value",
         "type": "scatter",
         "x": [
          0,
          1,
          2,
          3,
          4,
          5,
          6,
          7,
          8,
          9,
          10,
          11,
          12,
          13,
          14,
          15,
          16,
          17,
          18,
          19,
          20,
          21,
          22,
          23,
          24,
          25,
          26,
          27,
          28,
          29
         ],
         "y": [
          0.92993956901987,
          0.7010139847811233,
          0.7010139847811233,
          0.7010139847811233,
          0.7010139847811233,
          0.7010139847811233,
          0.7010139847811233,
          0.7010139847811233,
          0.7010139847811233,
          0.7010139847811233,
          0.6941614770462212,
          0.6941614770462212,
          0.6941614770462212,
          0.6707888313323839,
          0.6707888313323839,
          0.6707888313323839,
          0.6707888313323839,
          0.6586354521712067,
          0.6562093882389614,
          0.6562093882389614,
          0.6562093882389614,
          0.6562093882389614,
          0.6562093882389614,
          0.6562093882389614,
          0.6562093882389614,
          0.6562093882389614,
          0.6423127877354567,
          0.6423127877354567,
          0.6423127877354567,
          0.6423127877354567
         ]
        },
        {
         "marker": {
          "color": "#cccccc"
         },
         "mode": "markers",
         "name": "Infeasible Trial",
         "showlegend": false,
         "type": "scatter",
         "x": [],
         "y": []
        }
       ],
       "layout": {
        "template": {
         "data": {
          "bar": [
           {
            "error_x": {
             "color": "#2a3f5f"
            },
            "error_y": {
             "color": "#2a3f5f"
            },
            "marker": {
             "line": {
              "color": "#E5ECF6",
              "width": 0.5
             },
             "pattern": {
              "fillmode": "overlay",
              "size": 10,
              "solidity": 0.2
             }
            },
            "type": "bar"
           }
          ],
          "barpolar": [
           {
            "marker": {
             "line": {
              "color": "#E5ECF6",
              "width": 0.5
             },
             "pattern": {
              "fillmode": "overlay",
              "size": 10,
              "solidity": 0.2
             }
            },
            "type": "barpolar"
           }
          ],
          "carpet": [
           {
            "aaxis": {
             "endlinecolor": "#2a3f5f",
             "gridcolor": "white",
             "linecolor": "white",
             "minorgridcolor": "white",
             "startlinecolor": "#2a3f5f"
            },
            "baxis": {
             "endlinecolor": "#2a3f5f",
             "gridcolor": "white",
             "linecolor": "white",
             "minorgridcolor": "white",
             "startlinecolor": "#2a3f5f"
            },
            "type": "carpet"
           }
          ],
          "choropleth": [
           {
            "colorbar": {
             "outlinewidth": 0,
             "ticks": ""
            },
            "type": "choropleth"
           }
          ],
          "contour": [
           {
            "colorbar": {
             "outlinewidth": 0,
             "ticks": ""
            },
            "colorscale": [
             [
              0,
              "#0d0887"
             ],
             [
              0.1111111111111111,
              "#46039f"
             ],
             [
              0.2222222222222222,
              "#7201a8"
             ],
             [
              0.3333333333333333,
              "#9c179e"
             ],
             [
              0.4444444444444444,
              "#bd3786"
             ],
             [
              0.5555555555555556,
              "#d8576b"
             ],
             [
              0.6666666666666666,
              "#ed7953"
             ],
             [
              0.7777777777777778,
              "#fb9f3a"
             ],
             [
              0.8888888888888888,
              "#fdca26"
             ],
             [
              1,
              "#f0f921"
             ]
            ],
            "type": "contour"
           }
          ],
          "contourcarpet": [
           {
            "colorbar": {
             "outlinewidth": 0,
             "ticks": ""
            },
            "type": "contourcarpet"
           }
          ],
          "heatmap": [
           {
            "colorbar": {
             "outlinewidth": 0,
             "ticks": ""
            },
            "colorscale": [
             [
              0,
              "#0d0887"
             ],
             [
              0.1111111111111111,
              "#46039f"
             ],
             [
              0.2222222222222222,
              "#7201a8"
             ],
             [
              0.3333333333333333,
              "#9c179e"
             ],
             [
              0.4444444444444444,
              "#bd3786"
             ],
             [
              0.5555555555555556,
              "#d8576b"
             ],
             [
              0.6666666666666666,
              "#ed7953"
             ],
             [
              0.7777777777777778,
              "#fb9f3a"
             ],
             [
              0.8888888888888888,
              "#fdca26"
             ],
             [
              1,
              "#f0f921"
             ]
            ],
            "type": "heatmap"
           }
          ],
          "heatmapgl": [
           {
            "colorbar": {
             "outlinewidth": 0,
             "ticks": ""
            },
            "colorscale": [
             [
              0,
              "#0d0887"
             ],
             [
              0.1111111111111111,
              "#46039f"
             ],
             [
              0.2222222222222222,
              "#7201a8"
             ],
             [
              0.3333333333333333,
              "#9c179e"
             ],
             [
              0.4444444444444444,
              "#bd3786"
             ],
             [
              0.5555555555555556,
              "#d8576b"
             ],
             [
              0.6666666666666666,
              "#ed7953"
             ],
             [
              0.7777777777777778,
              "#fb9f3a"
             ],
             [
              0.8888888888888888,
              "#fdca26"
             ],
             [
              1,
              "#f0f921"
             ]
            ],
            "type": "heatmapgl"
           }
          ],
          "histogram": [
           {
            "marker": {
             "pattern": {
              "fillmode": "overlay",
              "size": 10,
              "solidity": 0.2
             }
            },
            "type": "histogram"
           }
          ],
          "histogram2d": [
           {
            "colorbar": {
             "outlinewidth": 0,
             "ticks": ""
            },
            "colorscale": [
             [
              0,
              "#0d0887"
             ],
             [
              0.1111111111111111,
              "#46039f"
             ],
             [
              0.2222222222222222,
              "#7201a8"
             ],
             [
              0.3333333333333333,
              "#9c179e"
             ],
             [
              0.4444444444444444,
              "#bd3786"
             ],
             [
              0.5555555555555556,
              "#d8576b"
             ],
             [
              0.6666666666666666,
              "#ed7953"
             ],
             [
              0.7777777777777778,
              "#fb9f3a"
             ],
             [
              0.8888888888888888,
              "#fdca26"
             ],
             [
              1,
              "#f0f921"
             ]
            ],
            "type": "histogram2d"
           }
          ],
          "histogram2dcontour": [
           {
            "colorbar": {
             "outlinewidth": 0,
             "ticks": ""
            },
            "colorscale": [
             [
              0,
              "#0d0887"
             ],
             [
              0.1111111111111111,
              "#46039f"
             ],
             [
              0.2222222222222222,
              "#7201a8"
             ],
             [
              0.3333333333333333,
              "#9c179e"
             ],
             [
              0.4444444444444444,
              "#bd3786"
             ],
             [
              0.5555555555555556,
              "#d8576b"
             ],
             [
              0.6666666666666666,
              "#ed7953"
             ],
             [
              0.7777777777777778,
              "#fb9f3a"
             ],
             [
              0.8888888888888888,
              "#fdca26"
             ],
             [
              1,
              "#f0f921"
             ]
            ],
            "type": "histogram2dcontour"
           }
          ],
          "mesh3d": [
           {
            "colorbar": {
             "outlinewidth": 0,
             "ticks": ""
            },
            "type": "mesh3d"
           }
          ],
          "parcoords": [
           {
            "line": {
             "colorbar": {
              "outlinewidth": 0,
              "ticks": ""
             }
            },
            "type": "parcoords"
           }
          ],
          "pie": [
           {
            "automargin": true,
            "type": "pie"
           }
          ],
          "scatter": [
           {
            "fillpattern": {
             "fillmode": "overlay",
             "size": 10,
             "solidity": 0.2
            },
            "type": "scatter"
           }
          ],
          "scatter3d": [
           {
            "line": {
             "colorbar": {
              "outlinewidth": 0,
              "ticks": ""
             }
            },
            "marker": {
             "colorbar": {
              "outlinewidth": 0,
              "ticks": ""
             }
            },
            "type": "scatter3d"
           }
          ],
          "scattercarpet": [
           {
            "marker": {
             "colorbar": {
              "outlinewidth": 0,
              "ticks": ""
             }
            },
            "type": "scattercarpet"
           }
          ],
          "scattergeo": [
           {
            "marker": {
             "colorbar": {
              "outlinewidth": 0,
              "ticks": ""
             }
            },
            "type": "scattergeo"
           }
          ],
          "scattergl": [
           {
            "marker": {
             "colorbar": {
              "outlinewidth": 0,
              "ticks": ""
             }
            },
            "type": "scattergl"
           }
          ],
          "scattermapbox": [
           {
            "marker": {
             "colorbar": {
              "outlinewidth": 0,
              "ticks": ""
             }
            },
            "type": "scattermapbox"
           }
          ],
          "scatterpolar": [
           {
            "marker": {
             "colorbar": {
              "outlinewidth": 0,
              "ticks": ""
             }
            },
            "type": "scatterpolar"
           }
          ],
          "scatterpolargl": [
           {
            "marker": {
             "colorbar": {
              "outlinewidth": 0,
              "ticks": ""
             }
            },
            "type": "scatterpolargl"
           }
          ],
          "scatterternary": [
           {
            "marker": {
             "colorbar": {
              "outlinewidth": 0,
              "ticks": ""
             }
            },
            "type": "scatterternary"
           }
          ],
          "surface": [
           {
            "colorbar": {
             "outlinewidth": 0,
             "ticks": ""
            },
            "colorscale": [
             [
              0,
              "#0d0887"
             ],
             [
              0.1111111111111111,
              "#46039f"
             ],
             [
              0.2222222222222222,
              "#7201a8"
             ],
             [
              0.3333333333333333,
              "#9c179e"
             ],
             [
              0.4444444444444444,
              "#bd3786"
             ],
             [
              0.5555555555555556,
              "#d8576b"
             ],
             [
              0.6666666666666666,
              "#ed7953"
             ],
             [
              0.7777777777777778,
              "#fb9f3a"
             ],
             [
              0.8888888888888888,
              "#fdca26"
             ],
             [
              1,
              "#f0f921"
             ]
            ],
            "type": "surface"
           }
          ],
          "table": [
           {
            "cells": {
             "fill": {
              "color": "#EBF0F8"
             },
             "line": {
              "color": "white"
             }
            },
            "header": {
             "fill": {
              "color": "#C8D4E3"
             },
             "line": {
              "color": "white"
             }
            },
            "type": "table"
           }
          ]
         },
         "layout": {
          "annotationdefaults": {
           "arrowcolor": "#2a3f5f",
           "arrowhead": 0,
           "arrowwidth": 1
          },
          "autotypenumbers": "strict",
          "coloraxis": {
           "colorbar": {
            "outlinewidth": 0,
            "ticks": ""
           }
          },
          "colorscale": {
           "diverging": [
            [
             0,
             "#8e0152"
            ],
            [
             0.1,
             "#c51b7d"
            ],
            [
             0.2,
             "#de77ae"
            ],
            [
             0.3,
             "#f1b6da"
            ],
            [
             0.4,
             "#fde0ef"
            ],
            [
             0.5,
             "#f7f7f7"
            ],
            [
             0.6,
             "#e6f5d0"
            ],
            [
             0.7,
             "#b8e186"
            ],
            [
             0.8,
             "#7fbc41"
            ],
            [
             0.9,
             "#4d9221"
            ],
            [
             1,
             "#276419"
            ]
           ],
           "sequential": [
            [
             0,
             "#0d0887"
            ],
            [
             0.1111111111111111,
             "#46039f"
            ],
            [
             0.2222222222222222,
             "#7201a8"
            ],
            [
             0.3333333333333333,
             "#9c179e"
            ],
            [
             0.4444444444444444,
             "#bd3786"
            ],
            [
             0.5555555555555556,
             "#d8576b"
            ],
            [
             0.6666666666666666,
             "#ed7953"
            ],
            [
             0.7777777777777778,
             "#fb9f3a"
            ],
            [
             0.8888888888888888,
             "#fdca26"
            ],
            [
             1,
             "#f0f921"
            ]
           ],
           "sequentialminus": [
            [
             0,
             "#0d0887"
            ],
            [
             0.1111111111111111,
             "#46039f"
            ],
            [
             0.2222222222222222,
             "#7201a8"
            ],
            [
             0.3333333333333333,
             "#9c179e"
            ],
            [
             0.4444444444444444,
             "#bd3786"
            ],
            [
             0.5555555555555556,
             "#d8576b"
            ],
            [
             0.6666666666666666,
             "#ed7953"
            ],
            [
             0.7777777777777778,
             "#fb9f3a"
            ],
            [
             0.8888888888888888,
             "#fdca26"
            ],
            [
             1,
             "#f0f921"
            ]
           ]
          },
          "colorway": [
           "#636efa",
           "#EF553B",
           "#00cc96",
           "#ab63fa",
           "#FFA15A",
           "#19d3f3",
           "#FF6692",
           "#B6E880",
           "#FF97FF",
           "#FECB52"
          ],
          "font": {
           "color": "#2a3f5f"
          },
          "geo": {
           "bgcolor": "white",
           "lakecolor": "white",
           "landcolor": "#E5ECF6",
           "showlakes": true,
           "showland": true,
           "subunitcolor": "white"
          },
          "hoverlabel": {
           "align": "left"
          },
          "hovermode": "closest",
          "mapbox": {
           "style": "light"
          },
          "paper_bgcolor": "white",
          "plot_bgcolor": "#E5ECF6",
          "polar": {
           "angularaxis": {
            "gridcolor": "white",
            "linecolor": "white",
            "ticks": ""
           },
           "bgcolor": "#E5ECF6",
           "radialaxis": {
            "gridcolor": "white",
            "linecolor": "white",
            "ticks": ""
           }
          },
          "scene": {
           "xaxis": {
            "backgroundcolor": "#E5ECF6",
            "gridcolor": "white",
            "gridwidth": 2,
            "linecolor": "white",
            "showbackground": true,
            "ticks": "",
            "zerolinecolor": "white"
           },
           "yaxis": {
            "backgroundcolor": "#E5ECF6",
            "gridcolor": "white",
            "gridwidth": 2,
            "linecolor": "white",
            "showbackground": true,
            "ticks": "",
            "zerolinecolor": "white"
           },
           "zaxis": {
            "backgroundcolor": "#E5ECF6",
            "gridcolor": "white",
            "gridwidth": 2,
            "linecolor": "white",
            "showbackground": true,
            "ticks": "",
            "zerolinecolor": "white"
           }
          },
          "shapedefaults": {
           "line": {
            "color": "#2a3f5f"
           }
          },
          "ternary": {
           "aaxis": {
            "gridcolor": "white",
            "linecolor": "white",
            "ticks": ""
           },
           "baxis": {
            "gridcolor": "white",
            "linecolor": "white",
            "ticks": ""
           },
           "bgcolor": "#E5ECF6",
           "caxis": {
            "gridcolor": "white",
            "linecolor": "white",
            "ticks": ""
           }
          },
          "title": {
           "x": 0.05
          },
          "xaxis": {
           "automargin": true,
           "gridcolor": "white",
           "linecolor": "white",
           "ticks": "",
           "title": {
            "standoff": 15
           },
           "zerolinecolor": "white",
           "zerolinewidth": 2
          },
          "yaxis": {
           "automargin": true,
           "gridcolor": "white",
           "linecolor": "white",
           "ticks": "",
           "title": {
            "standoff": 15
           },
           "zerolinecolor": "white",
           "zerolinewidth": 2
          }
         }
        },
        "title": {
         "text": "Optimization History Plot"
        },
        "xaxis": {
         "title": {
          "text": "Trial"
         }
        },
        "yaxis": {
         "title": {
          "text": "Objective Value"
         }
        }
       }
      }
     },
     "metadata": {},
     "output_type": "display_data"
    }
   ],
   "source": [
    "# 하이퍼파라미터 최적화 과정을 확인\n",
    "optuna.visualization.plot_optimization_history(study_cat)"
   ]
  },
  {
   "cell_type": "code",
   "execution_count": 39,
   "metadata": {},
   "outputs": [
    {
     "name": "stdout",
     "output_type": "stream",
     "text": [
      "0:\tlearn: 14134287.3155772\ttotal: 7.81ms\tremaining: 7.33s\n",
      "1:\tlearn: 13952371.7553692\ttotal: 23.8ms\tremaining: 11.2s\n",
      "2:\tlearn: 13759849.1736415\ttotal: 34.1ms\tremaining: 10.6s\n",
      "3:\tlearn: 13567769.7270536\ttotal: 41.4ms\tremaining: 9.68s\n",
      "4:\tlearn: 13401280.7454485\ttotal: 51.3ms\tremaining: 9.59s\n",
      "5:\tlearn: 13221776.3055441\ttotal: 58ms\tremaining: 9.03s\n",
      "6:\tlearn: 13038708.7906264\ttotal: 67.1ms\tremaining: 8.95s\n",
      "7:\tlearn: 12871424.2299574\ttotal: 74.3ms\tremaining: 8.66s\n",
      "8:\tlearn: 12693936.6145597\ttotal: 84.3ms\tremaining: 8.72s\n",
      "9:\tlearn: 12519237.8278544\ttotal: 90.3ms\tremaining: 8.4s\n",
      "10:\tlearn: 12353353.0358067\ttotal: 99ms\tremaining: 8.36s\n",
      "11:\tlearn: 12183932.4781118\ttotal: 106ms\tremaining: 8.18s\n",
      "12:\tlearn: 12023317.1849084\ttotal: 114ms\tremaining: 8.1s\n",
      "13:\tlearn: 11870757.1946311\ttotal: 122ms\tremaining: 8.05s\n",
      "14:\tlearn: 11724818.2085006\ttotal: 131ms\tremaining: 8.1s\n",
      "15:\tlearn: 11578598.7709454\ttotal: 139ms\tremaining: 8.04s\n",
      "16:\tlearn: 11448382.2655006\ttotal: 148ms\tremaining: 8.01s\n",
      "17:\tlearn: 11322091.7019004\ttotal: 155ms\tremaining: 7.93s\n",
      "18:\tlearn: 11188351.0847734\ttotal: 164ms\tremaining: 7.94s\n",
      "19:\tlearn: 11051935.1833498\ttotal: 171ms\tremaining: 7.89s\n",
      "20:\tlearn: 10918505.1478913\ttotal: 180ms\tremaining: 7.88s\n",
      "21:\tlearn: 10786759.0444300\ttotal: 187ms\tremaining: 7.82s\n",
      "22:\tlearn: 10671454.4276123\ttotal: 198ms\tremaining: 7.88s\n",
      "23:\tlearn: 10560515.2966723\ttotal: 204ms\tremaining: 7.8s\n",
      "24:\tlearn: 10441667.0773335\ttotal: 214ms\tremaining: 7.83s\n",
      "25:\tlearn: 10331777.2892120\ttotal: 221ms\tremaining: 7.78s\n",
      "26:\tlearn: 10214440.8517161\ttotal: 231ms\tremaining: 7.81s\n",
      "27:\tlearn: 10108763.3346897\ttotal: 246ms\tremaining: 8.02s\n",
      "28:\tlearn: 10016441.7269102\ttotal: 254ms\tremaining: 7.99s\n",
      "29:\tlearn: 9913990.8645800\ttotal: 265ms\tremaining: 8.03s\n",
      "30:\tlearn: 9821154.0427648\ttotal: 274ms\tremaining: 8.03s\n",
      "31:\tlearn: 9720936.5760966\ttotal: 283ms\tremaining: 8.03s\n",
      "32:\tlearn: 9631376.8288474\ttotal: 294ms\tremaining: 8.09s\n",
      "33:\tlearn: 9549236.0350112\ttotal: 300ms\tremaining: 7.98s\n",
      "34:\tlearn: 9464503.5671383\ttotal: 308ms\tremaining: 7.95s\n",
      "35:\tlearn: 9378423.1550539\ttotal: 316ms\tremaining: 7.93s\n",
      "36:\tlearn: 9288107.0476287\ttotal: 327ms\tremaining: 7.97s\n",
      "37:\tlearn: 9202219.9387344\ttotal: 333ms\tremaining: 7.91s\n",
      "38:\tlearn: 9120470.0076149\ttotal: 341ms\tremaining: 7.88s\n",
      "39:\tlearn: 9048778.8772541\ttotal: 348ms\tremaining: 7.83s\n",
      "40:\tlearn: 8973677.8471970\ttotal: 359ms\tremaining: 7.86s\n",
      "41:\tlearn: 8898435.3844529\ttotal: 366ms\tremaining: 7.83s\n",
      "42:\tlearn: 8824556.4516027\ttotal: 375ms\tremaining: 7.83s\n",
      "43:\tlearn: 8757170.9033500\ttotal: 383ms\tremaining: 7.8s\n",
      "44:\tlearn: 8685751.5908236\ttotal: 396ms\tremaining: 7.87s\n",
      "45:\tlearn: 8621979.4360594\ttotal: 405ms\tremaining: 7.88s\n",
      "46:\tlearn: 8550526.7534725\ttotal: 410ms\tremaining: 7.79s\n",
      "47:\tlearn: 8481088.4057836\ttotal: 416ms\tremaining: 7.74s\n",
      "48:\tlearn: 8424054.9349474\ttotal: 426ms\tremaining: 7.74s\n",
      "49:\tlearn: 8372131.9810865\ttotal: 433ms\tremaining: 7.71s\n",
      "50:\tlearn: 8321756.5760992\ttotal: 446ms\tremaining: 7.77s\n",
      "51:\tlearn: 8262572.1446439\ttotal: 457ms\tremaining: 7.8s\n",
      "52:\tlearn: 8202319.9916767\ttotal: 469ms\tremaining: 7.85s\n",
      "53:\tlearn: 8142211.7024649\ttotal: 478ms\tremaining: 7.84s\n",
      "54:\tlearn: 8090520.2545347\ttotal: 490ms\tremaining: 7.89s\n",
      "55:\tlearn: 8032730.6402319\ttotal: 501ms\tremaining: 7.91s\n",
      "56:\tlearn: 7974419.3115600\ttotal: 509ms\tremaining: 7.88s\n",
      "57:\tlearn: 7924800.5555839\ttotal: 517ms\tremaining: 7.86s\n",
      "58:\tlearn: 7874198.5510509\ttotal: 525ms\tremaining: 7.83s\n",
      "59:\tlearn: 7824473.4725504\ttotal: 532ms\tremaining: 7.81s\n",
      "60:\tlearn: 7777811.5109688\ttotal: 541ms\tremaining: 7.79s\n",
      "61:\tlearn: 7731304.5854756\ttotal: 549ms\tremaining: 7.77s\n",
      "62:\tlearn: 7685823.0604149\ttotal: 558ms\tremaining: 7.76s\n",
      "63:\tlearn: 7638676.7315038\ttotal: 566ms\tremaining: 7.74s\n",
      "64:\tlearn: 7597628.9864183\ttotal: 634ms\tremaining: 8.54s\n",
      "65:\tlearn: 7555251.4890889\ttotal: 643ms\tremaining: 8.51s\n",
      "66:\tlearn: 7516751.8690209\ttotal: 659ms\tremaining: 8.59s\n",
      "67:\tlearn: 7477986.9154769\ttotal: 666ms\tremaining: 8.55s\n",
      "68:\tlearn: 7437478.6450148\ttotal: 674ms\tremaining: 8.5s\n",
      "69:\tlearn: 7397813.8092471\ttotal: 681ms\tremaining: 8.46s\n",
      "70:\tlearn: 7356120.5993530\ttotal: 686ms\tremaining: 8.4s\n",
      "71:\tlearn: 7314189.4981052\ttotal: 694ms\tremaining: 8.36s\n",
      "72:\tlearn: 7272143.4219845\ttotal: 699ms\tremaining: 8.3s\n",
      "73:\tlearn: 7236722.3624439\ttotal: 705ms\tremaining: 8.25s\n",
      "74:\tlearn: 7196591.7099769\ttotal: 714ms\tremaining: 8.24s\n",
      "75:\tlearn: 7162770.5266548\ttotal: 722ms\tremaining: 8.21s\n",
      "76:\tlearn: 7127539.5759826\ttotal: 729ms\tremaining: 8.17s\n",
      "77:\tlearn: 7094294.9756949\ttotal: 736ms\tremaining: 8.13s\n",
      "78:\tlearn: 7064516.7933741\ttotal: 743ms\tremaining: 8.1s\n",
      "79:\tlearn: 7031628.2787696\ttotal: 751ms\tremaining: 8.07s\n",
      "80:\tlearn: 6999015.7721516\ttotal: 757ms\tremaining: 8.03s\n",
      "81:\tlearn: 6970738.1565628\ttotal: 765ms\tremaining: 8s\n",
      "82:\tlearn: 6940082.5201712\ttotal: 773ms\tremaining: 7.98s\n",
      "83:\tlearn: 6914310.1773970\ttotal: 780ms\tremaining: 7.95s\n",
      "84:\tlearn: 6886490.2023386\ttotal: 788ms\tremaining: 7.93s\n",
      "85:\tlearn: 6854662.8754791\ttotal: 796ms\tremaining: 7.9s\n",
      "86:\tlearn: 6830822.0300474\ttotal: 805ms\tremaining: 7.89s\n",
      "87:\tlearn: 6807000.4388389\ttotal: 812ms\tremaining: 7.86s\n",
      "88:\tlearn: 6783024.7560718\ttotal: 822ms\tremaining: 7.86s\n",
      "89:\tlearn: 6753914.1654389\ttotal: 831ms\tremaining: 7.85s\n",
      "90:\tlearn: 6727379.0252337\ttotal: 840ms\tremaining: 7.83s\n",
      "91:\tlearn: 6706027.0560960\ttotal: 848ms\tremaining: 7.82s\n",
      "92:\tlearn: 6684161.4779599\ttotal: 861ms\tremaining: 7.84s\n",
      "93:\tlearn: 6662356.3319449\ttotal: 867ms\tremaining: 7.8s\n",
      "94:\tlearn: 6638204.0869443\ttotal: 873ms\tremaining: 7.77s\n",
      "95:\tlearn: 6619065.8203775\ttotal: 877ms\tremaining: 7.71s\n",
      "96:\tlearn: 6598759.5269648\ttotal: 884ms\tremaining: 7.69s\n",
      "97:\tlearn: 6576316.6709618\ttotal: 892ms\tremaining: 7.66s\n",
      "98:\tlearn: 6559174.8428264\ttotal: 900ms\tremaining: 7.64s\n",
      "99:\tlearn: 6537748.6179913\ttotal: 908ms\tremaining: 7.63s\n",
      "100:\tlearn: 6517082.1656402\ttotal: 914ms\tremaining: 7.59s\n",
      "101:\tlearn: 6499884.3560596\ttotal: 922ms\tremaining: 7.58s\n",
      "102:\tlearn: 6480376.1043098\ttotal: 929ms\tremaining: 7.55s\n",
      "103:\tlearn: 6463408.8076088\ttotal: 936ms\tremaining: 7.52s\n",
      "104:\tlearn: 6446805.1021685\ttotal: 944ms\tremaining: 7.51s\n",
      "105:\tlearn: 6425498.2248953\ttotal: 952ms\tremaining: 7.49s\n",
      "106:\tlearn: 6411562.8915323\ttotal: 960ms\tremaining: 7.47s\n",
      "107:\tlearn: 6391522.8015013\ttotal: 968ms\tremaining: 7.45s\n",
      "108:\tlearn: 6373604.9659163\ttotal: 983ms\tremaining: 7.49s\n",
      "109:\tlearn: 6356770.0539596\ttotal: 991ms\tremaining: 7.48s\n",
      "110:\tlearn: 6339221.4557000\ttotal: 999ms\tremaining: 7.46s\n",
      "111:\tlearn: 6323941.4701749\ttotal: 1.01s\tremaining: 7.45s\n",
      "112:\tlearn: 6308074.3292331\ttotal: 1.01s\tremaining: 7.43s\n",
      "113:\tlearn: 6288858.3921936\ttotal: 1.02s\tremaining: 7.42s\n",
      "114:\tlearn: 6274633.3703938\ttotal: 1.03s\tremaining: 7.4s\n",
      "115:\tlearn: 6256824.5203302\ttotal: 1.04s\tremaining: 7.38s\n",
      "116:\tlearn: 6239912.1797250\ttotal: 1.05s\tremaining: 7.37s\n",
      "117:\tlearn: 6223584.0923337\ttotal: 1.06s\tremaining: 7.37s\n",
      "118:\tlearn: 6209595.9409813\ttotal: 1.07s\tremaining: 7.36s\n",
      "119:\tlearn: 6196256.8647547\ttotal: 1.07s\tremaining: 7.35s\n",
      "120:\tlearn: 6181915.3718763\ttotal: 1.08s\tremaining: 7.33s\n",
      "121:\tlearn: 6167322.8199972\ttotal: 1.09s\tremaining: 7.32s\n",
      "122:\tlearn: 6154148.1768948\ttotal: 1.1s\tremaining: 7.3s\n",
      "123:\tlearn: 6140942.4550980\ttotal: 1.11s\tremaining: 7.29s\n",
      "124:\tlearn: 6127442.8157125\ttotal: 1.12s\tremaining: 7.28s\n",
      "125:\tlearn: 6111301.4349417\ttotal: 1.12s\tremaining: 7.26s\n",
      "126:\tlearn: 6097187.7015398\ttotal: 1.13s\tremaining: 7.24s\n",
      "127:\tlearn: 6084452.6748951\ttotal: 1.14s\tremaining: 7.23s\n",
      "128:\tlearn: 6070710.5971947\ttotal: 1.15s\tremaining: 7.21s\n",
      "129:\tlearn: 6055694.9294253\ttotal: 1.16s\tremaining: 7.21s\n",
      "130:\tlearn: 6043530.4461995\ttotal: 1.17s\tremaining: 7.2s\n",
      "131:\tlearn: 6031564.9691097\ttotal: 1.18s\tremaining: 7.2s\n",
      "132:\tlearn: 6020889.6555805\ttotal: 1.19s\tremaining: 7.22s\n",
      "133:\tlearn: 6008960.7281158\ttotal: 1.2s\tremaining: 7.22s\n",
      "134:\tlearn: 5999198.4862446\ttotal: 1.21s\tremaining: 7.21s\n",
      "135:\tlearn: 5990088.7269837\ttotal: 1.22s\tremaining: 7.19s\n",
      "136:\tlearn: 5979516.3394211\ttotal: 1.22s\tremaining: 7.17s\n",
      "137:\tlearn: 5964905.2643238\ttotal: 1.23s\tremaining: 7.17s\n",
      "138:\tlearn: 5951053.7373576\ttotal: 1.24s\tremaining: 7.15s\n",
      "139:\tlearn: 5942841.1265422\ttotal: 1.25s\tremaining: 7.12s\n",
      "140:\tlearn: 5929845.6296248\ttotal: 1.25s\tremaining: 7.11s\n",
      "141:\tlearn: 5920448.9301824\ttotal: 1.26s\tremaining: 7.09s\n",
      "142:\tlearn: 5909811.1883206\ttotal: 1.27s\tremaining: 7.09s\n",
      "143:\tlearn: 5900194.2496472\ttotal: 1.29s\tremaining: 7.15s\n",
      "144:\tlearn: 5890466.4210868\ttotal: 1.3s\tremaining: 7.15s\n",
      "145:\tlearn: 5879495.5542621\ttotal: 1.31s\tremaining: 7.12s\n",
      "146:\tlearn: 5871859.0630769\ttotal: 1.32s\tremaining: 7.14s\n",
      "147:\tlearn: 5863203.8030080\ttotal: 1.33s\tremaining: 7.13s\n",
      "148:\tlearn: 5854962.2080817\ttotal: 1.34s\tremaining: 7.11s\n",
      "149:\tlearn: 5844776.6956198\ttotal: 1.35s\tremaining: 7.1s\n",
      "150:\tlearn: 5836089.2688262\ttotal: 1.35s\tremaining: 7.08s\n",
      "151:\tlearn: 5828520.1450617\ttotal: 1.36s\tremaining: 7.07s\n",
      "152:\tlearn: 5819250.0261148\ttotal: 1.37s\tremaining: 7.05s\n",
      "153:\tlearn: 5811931.7442345\ttotal: 1.38s\tremaining: 7.04s\n",
      "154:\tlearn: 5800409.0589934\ttotal: 1.39s\tremaining: 7.02s\n",
      "155:\tlearn: 5791030.0166856\ttotal: 1.39s\tremaining: 7.01s\n",
      "156:\tlearn: 5782021.8181963\ttotal: 1.4s\tremaining: 6.99s\n",
      "157:\tlearn: 5774585.9522452\ttotal: 1.41s\tremaining: 6.98s\n",
      "158:\tlearn: 5767173.7473987\ttotal: 1.42s\tremaining: 6.98s\n",
      "159:\tlearn: 5756268.7346490\ttotal: 1.43s\tremaining: 6.96s\n",
      "160:\tlearn: 5745529.0325524\ttotal: 1.44s\tremaining: 6.95s\n",
      "161:\tlearn: 5736830.6634861\ttotal: 1.45s\tremaining: 6.94s\n",
      "162:\tlearn: 5731477.8537506\ttotal: 1.45s\tremaining: 6.92s\n",
      "163:\tlearn: 5722635.3645244\ttotal: 1.46s\tremaining: 6.92s\n",
      "164:\tlearn: 5714106.1878859\ttotal: 1.47s\tremaining: 6.9s\n",
      "165:\tlearn: 5706269.7417585\ttotal: 1.48s\tremaining: 6.88s\n",
      "166:\tlearn: 5700591.3162007\ttotal: 1.48s\tremaining: 6.86s\n",
      "167:\tlearn: 5695089.1793575\ttotal: 1.49s\tremaining: 6.84s\n",
      "168:\tlearn: 5686994.3667443\ttotal: 1.5s\tremaining: 6.84s\n",
      "169:\tlearn: 5681275.0393704\ttotal: 1.5s\tremaining: 6.81s\n",
      "170:\tlearn: 5672172.7562645\ttotal: 1.51s\tremaining: 6.8s\n",
      "171:\tlearn: 5665937.9507979\ttotal: 1.52s\tremaining: 6.78s\n",
      "172:\tlearn: 5658013.5410324\ttotal: 1.52s\tremaining: 6.75s\n",
      "173:\tlearn: 5645704.8865436\ttotal: 1.53s\tremaining: 6.74s\n",
      "174:\tlearn: 5642384.9025168\ttotal: 1.53s\tremaining: 6.7s\n",
      "175:\tlearn: 5637191.0354852\ttotal: 1.54s\tremaining: 6.68s\n",
      "176:\tlearn: 5632085.8455659\ttotal: 1.55s\tremaining: 6.68s\n",
      "177:\tlearn: 5626563.8486050\ttotal: 1.56s\tremaining: 6.67s\n",
      "178:\tlearn: 5620189.3395136\ttotal: 1.56s\tremaining: 6.65s\n",
      "179:\tlearn: 5610602.1185351\ttotal: 1.57s\tremaining: 6.63s\n",
      "180:\tlearn: 5603982.4086149\ttotal: 1.58s\tremaining: 6.62s\n",
      "181:\tlearn: 5596021.3698203\ttotal: 1.58s\tremaining: 6.6s\n",
      "182:\tlearn: 5591361.9563202\ttotal: 1.59s\tremaining: 6.59s\n",
      "183:\tlearn: 5583883.2386217\ttotal: 1.6s\tremaining: 6.58s\n",
      "184:\tlearn: 5576262.6297588\ttotal: 1.61s\tremaining: 6.56s\n",
      "185:\tlearn: 5570827.6235869\ttotal: 1.61s\tremaining: 6.55s\n",
      "186:\tlearn: 5566106.4312567\ttotal: 1.62s\tremaining: 6.54s\n",
      "187:\tlearn: 5562078.6394423\ttotal: 1.63s\tremaining: 6.53s\n",
      "188:\tlearn: 5556114.6545825\ttotal: 1.64s\tremaining: 6.51s\n",
      "189:\tlearn: 5548560.3138626\ttotal: 1.65s\tremaining: 6.5s\n",
      "190:\tlearn: 5542768.2417107\ttotal: 1.65s\tremaining: 6.49s\n",
      "191:\tlearn: 5536948.9781820\ttotal: 1.66s\tremaining: 6.47s\n",
      "192:\tlearn: 5530570.8811147\ttotal: 1.67s\tremaining: 6.45s\n",
      "193:\tlearn: 5524775.5838386\ttotal: 1.68s\tremaining: 6.45s\n",
      "194:\tlearn: 5519544.0641029\ttotal: 1.68s\tremaining: 6.43s\n",
      "195:\tlearn: 5511905.9151236\ttotal: 1.69s\tremaining: 6.42s\n",
      "196:\tlearn: 5507663.4793438\ttotal: 1.7s\tremaining: 6.41s\n",
      "197:\tlearn: 5500752.1947318\ttotal: 1.71s\tremaining: 6.39s\n",
      "198:\tlearn: 5496141.1577107\ttotal: 1.71s\tremaining: 6.38s\n",
      "199:\tlearn: 5491175.9121033\ttotal: 1.72s\tremaining: 6.36s\n",
      "200:\tlearn: 5485838.3778502\ttotal: 1.73s\tremaining: 6.35s\n",
      "201:\tlearn: 5478583.8691089\ttotal: 1.74s\tremaining: 6.35s\n",
      "202:\tlearn: 5473207.1490533\ttotal: 1.74s\tremaining: 6.33s\n",
      "203:\tlearn: 5467130.3336691\ttotal: 1.75s\tremaining: 6.32s\n",
      "204:\tlearn: 5458824.1735019\ttotal: 1.76s\tremaining: 6.32s\n",
      "205:\tlearn: 5453383.7174544\ttotal: 1.77s\tremaining: 6.31s\n",
      "206:\tlearn: 5447279.0629898\ttotal: 1.78s\tremaining: 6.3s\n",
      "207:\tlearn: 5443607.4752025\ttotal: 1.79s\tremaining: 6.29s\n",
      "208:\tlearn: 5433567.5047529\ttotal: 1.8s\tremaining: 6.28s\n",
      "209:\tlearn: 5428194.3519162\ttotal: 1.81s\tremaining: 6.28s\n",
      "210:\tlearn: 5422904.3429109\ttotal: 1.82s\tremaining: 6.28s\n",
      "211:\tlearn: 5418259.5881442\ttotal: 1.82s\tremaining: 6.26s\n",
      "212:\tlearn: 5415245.2761953\ttotal: 1.83s\tremaining: 6.25s\n",
      "213:\tlearn: 5411010.3594847\ttotal: 1.84s\tremaining: 6.24s\n",
      "214:\tlearn: 5405883.1315956\ttotal: 1.85s\tremaining: 6.24s\n",
      "215:\tlearn: 5401807.1022172\ttotal: 1.86s\tremaining: 6.23s\n",
      "216:\tlearn: 5398116.6251112\ttotal: 1.87s\tremaining: 6.23s\n",
      "217:\tlearn: 5394440.8348469\ttotal: 1.88s\tremaining: 6.22s\n",
      "218:\tlearn: 5387619.3527993\ttotal: 1.89s\tremaining: 6.22s\n",
      "219:\tlearn: 5380773.5470902\ttotal: 1.89s\tremaining: 6.2s\n",
      "220:\tlearn: 5372247.2889886\ttotal: 1.9s\tremaining: 6.18s\n",
      "221:\tlearn: 5367453.0022699\ttotal: 1.91s\tremaining: 6.17s\n",
      "222:\tlearn: 5363089.1510793\ttotal: 1.92s\tremaining: 6.17s\n",
      "223:\tlearn: 5359404.1634721\ttotal: 1.93s\tremaining: 6.16s\n",
      "224:\tlearn: 5352979.4616041\ttotal: 1.93s\tremaining: 6.15s\n",
      "225:\tlearn: 5350266.9861555\ttotal: 1.94s\tremaining: 6.13s\n",
      "226:\tlearn: 5345511.0876624\ttotal: 1.95s\tremaining: 6.13s\n",
      "227:\tlearn: 5340515.7151485\ttotal: 1.96s\tremaining: 6.12s\n",
      "228:\tlearn: 5337084.9430494\ttotal: 1.97s\tremaining: 6.11s\n",
      "229:\tlearn: 5330565.9233636\ttotal: 1.97s\tremaining: 6.09s\n",
      "230:\tlearn: 5327150.3221002\ttotal: 1.98s\tremaining: 6.08s\n",
      "231:\tlearn: 5324889.6216972\ttotal: 1.99s\tremaining: 6.07s\n",
      "232:\tlearn: 5317666.2577248\ttotal: 2s\tremaining: 6.08s\n",
      "233:\tlearn: 5312530.2637598\ttotal: 2.01s\tremaining: 6.08s\n",
      "234:\tlearn: 5309748.4506874\ttotal: 2.02s\tremaining: 6.06s\n",
      "235:\tlearn: 5304400.8697074\ttotal: 2.03s\tremaining: 6.06s\n",
      "236:\tlearn: 5299163.5839015\ttotal: 2.04s\tremaining: 6.05s\n",
      "237:\tlearn: 5293766.8843873\ttotal: 2.05s\tremaining: 6.04s\n",
      "238:\tlearn: 5288578.2871351\ttotal: 2.06s\tremaining: 6.03s\n",
      "239:\tlearn: 5286150.6135911\ttotal: 2.06s\tremaining: 6.02s\n",
      "240:\tlearn: 5282802.7231755\ttotal: 2.08s\tremaining: 6.02s\n",
      "241:\tlearn: 5277545.2533382\ttotal: 2.08s\tremaining: 6.01s\n",
      "242:\tlearn: 5273722.9848900\ttotal: 2.09s\tremaining: 5.99s\n",
      "243:\tlearn: 5271045.2805739\ttotal: 2.1s\tremaining: 5.99s\n",
      "244:\tlearn: 5264875.0793328\ttotal: 2.11s\tremaining: 5.98s\n",
      "245:\tlearn: 5259733.0934005\ttotal: 2.12s\tremaining: 5.97s\n",
      "246:\tlearn: 5253103.2233940\ttotal: 2.13s\tremaining: 5.97s\n",
      "247:\tlearn: 5249592.2511804\ttotal: 2.13s\tremaining: 5.96s\n",
      "248:\tlearn: 5247759.1322031\ttotal: 2.14s\tremaining: 5.95s\n",
      "249:\tlearn: 5241119.1813578\ttotal: 2.15s\tremaining: 5.94s\n",
      "250:\tlearn: 5232160.4453901\ttotal: 2.16s\tremaining: 5.93s\n",
      "251:\tlearn: 5227403.4745035\ttotal: 2.17s\tremaining: 5.92s\n",
      "252:\tlearn: 5220624.0918253\ttotal: 2.17s\tremaining: 5.91s\n",
      "253:\tlearn: 5218365.5704683\ttotal: 2.18s\tremaining: 5.9s\n",
      "254:\tlearn: 5215638.8255485\ttotal: 2.19s\tremaining: 5.88s\n",
      "255:\tlearn: 5210657.8982467\ttotal: 2.2s\tremaining: 5.87s\n",
      "256:\tlearn: 5205650.8087067\ttotal: 2.2s\tremaining: 5.86s\n",
      "257:\tlearn: 5201674.3131025\ttotal: 2.21s\tremaining: 5.85s\n",
      "258:\tlearn: 5197604.1692765\ttotal: 2.22s\tremaining: 5.83s\n",
      "259:\tlearn: 5194644.9954112\ttotal: 2.23s\tremaining: 5.83s\n",
      "260:\tlearn: 5192240.2918067\ttotal: 2.23s\tremaining: 5.82s\n",
      "261:\tlearn: 5189838.2524001\ttotal: 2.24s\tremaining: 5.8s\n",
      "262:\tlearn: 5184558.5161070\ttotal: 2.25s\tremaining: 5.8s\n",
      "263:\tlearn: 5182147.9085107\ttotal: 2.26s\tremaining: 5.79s\n",
      "264:\tlearn: 5179112.3761046\ttotal: 2.27s\tremaining: 5.78s\n",
      "265:\tlearn: 5175834.0554840\ttotal: 2.28s\tremaining: 5.77s\n",
      "266:\tlearn: 5173941.1053706\ttotal: 2.29s\tremaining: 5.76s\n",
      "267:\tlearn: 5168628.7704325\ttotal: 2.29s\tremaining: 5.75s\n",
      "268:\tlearn: 5165823.4041522\ttotal: 2.3s\tremaining: 5.74s\n",
      "269:\tlearn: 5160674.1162598\ttotal: 2.31s\tremaining: 5.73s\n",
      "270:\tlearn: 5155497.3591307\ttotal: 2.31s\tremaining: 5.71s\n",
      "271:\tlearn: 5151142.7785482\ttotal: 2.32s\tremaining: 5.71s\n",
      "272:\tlearn: 5149045.1499986\ttotal: 2.33s\tremaining: 5.7s\n",
      "273:\tlearn: 5146294.7370672\ttotal: 2.34s\tremaining: 5.69s\n",
      "274:\tlearn: 5141446.6416313\ttotal: 2.35s\tremaining: 5.68s\n",
      "275:\tlearn: 5137434.9599815\ttotal: 2.36s\tremaining: 5.68s\n",
      "276:\tlearn: 5130081.1402966\ttotal: 2.37s\tremaining: 5.67s\n",
      "277:\tlearn: 5127212.7652760\ttotal: 2.38s\tremaining: 5.66s\n",
      "278:\tlearn: 5120422.0709928\ttotal: 2.38s\tremaining: 5.65s\n",
      "279:\tlearn: 5114304.2015350\ttotal: 2.39s\tremaining: 5.64s\n",
      "280:\tlearn: 5108833.7436761\ttotal: 2.4s\tremaining: 5.63s\n",
      "281:\tlearn: 5104987.3082038\ttotal: 2.41s\tremaining: 5.62s\n",
      "282:\tlearn: 5102825.1476837\ttotal: 2.42s\tremaining: 5.61s\n",
      "283:\tlearn: 5098590.1270104\ttotal: 2.42s\tremaining: 5.6s\n",
      "284:\tlearn: 5092594.2022066\ttotal: 2.43s\tremaining: 5.58s\n",
      "285:\tlearn: 5091718.3602751\ttotal: 2.43s\tremaining: 5.56s\n",
      "286:\tlearn: 5087970.7980922\ttotal: 2.44s\tremaining: 5.55s\n",
      "287:\tlearn: 5084740.6570509\ttotal: 2.44s\tremaining: 5.54s\n",
      "288:\tlearn: 5079286.5063359\ttotal: 2.46s\tremaining: 5.53s\n",
      "289:\tlearn: 5072284.0018286\ttotal: 2.47s\tremaining: 5.53s\n",
      "290:\tlearn: 5067097.3310055\ttotal: 2.48s\tremaining: 5.52s\n",
      "291:\tlearn: 5063285.8197223\ttotal: 2.49s\tremaining: 5.53s\n",
      "292:\tlearn: 5060612.0865673\ttotal: 2.5s\tremaining: 5.52s\n",
      "293:\tlearn: 5056927.0864052\ttotal: 2.51s\tremaining: 5.51s\n",
      "294:\tlearn: 5053655.8284751\ttotal: 2.52s\tremaining: 5.5s\n",
      "295:\tlearn: 5051198.1133096\ttotal: 2.52s\tremaining: 5.49s\n",
      "296:\tlearn: 5047389.9643682\ttotal: 2.53s\tremaining: 5.48s\n",
      "297:\tlearn: 5043831.2113020\ttotal: 2.54s\tremaining: 5.46s\n",
      "298:\tlearn: 5042205.4615614\ttotal: 2.54s\tremaining: 5.45s\n",
      "299:\tlearn: 5039683.7308087\ttotal: 2.55s\tremaining: 5.44s\n",
      "300:\tlearn: 5036586.7682631\ttotal: 2.56s\tremaining: 5.43s\n",
      "301:\tlearn: 5035052.4972644\ttotal: 2.56s\tremaining: 5.42s\n",
      "302:\tlearn: 5032893.5350865\ttotal: 2.57s\tremaining: 5.41s\n",
      "303:\tlearn: 5029539.3791338\ttotal: 2.58s\tremaining: 5.41s\n",
      "304:\tlearn: 5025722.0916740\ttotal: 2.59s\tremaining: 5.39s\n",
      "305:\tlearn: 5019997.5057454\ttotal: 2.6s\tremaining: 5.39s\n",
      "306:\tlearn: 5014072.6405282\ttotal: 2.6s\tremaining: 5.37s\n",
      "307:\tlearn: 5010838.5731102\ttotal: 2.61s\tremaining: 5.36s\n",
      "308:\tlearn: 5003293.7868385\ttotal: 2.62s\tremaining: 5.35s\n",
      "309:\tlearn: 4999358.2758093\ttotal: 2.63s\tremaining: 5.34s\n",
      "310:\tlearn: 4995091.0850437\ttotal: 2.63s\tremaining: 5.33s\n",
      "311:\tlearn: 4991800.6565486\ttotal: 2.64s\tremaining: 5.32s\n",
      "312:\tlearn: 4988239.0747630\ttotal: 2.65s\tremaining: 5.31s\n",
      "313:\tlearn: 4984220.8727993\ttotal: 2.66s\tremaining: 5.29s\n",
      "314:\tlearn: 4981936.3154274\ttotal: 2.67s\tremaining: 5.29s\n",
      "315:\tlearn: 4979661.0204244\ttotal: 2.67s\tremaining: 5.28s\n",
      "316:\tlearn: 4977164.0645073\ttotal: 2.68s\tremaining: 5.27s\n",
      "317:\tlearn: 4972790.4406694\ttotal: 2.69s\tremaining: 5.26s\n",
      "318:\tlearn: 4968128.4888160\ttotal: 2.69s\tremaining: 5.25s\n",
      "319:\tlearn: 4963364.7154115\ttotal: 2.7s\tremaining: 5.24s\n",
      "320:\tlearn: 4959581.6165688\ttotal: 2.71s\tremaining: 5.23s\n",
      "321:\tlearn: 4956718.7446572\ttotal: 2.72s\tremaining: 5.22s\n",
      "322:\tlearn: 4956501.7285779\ttotal: 2.73s\tremaining: 5.21s\n",
      "323:\tlearn: 4951741.4095984\ttotal: 2.73s\tremaining: 5.19s\n",
      "324:\tlearn: 4946643.8939200\ttotal: 2.74s\tremaining: 5.19s\n",
      "325:\tlearn: 4943034.6857477\ttotal: 2.75s\tremaining: 5.18s\n",
      "326:\tlearn: 4937391.3712338\ttotal: 2.75s\tremaining: 5.16s\n",
      "327:\tlearn: 4935582.0155913\ttotal: 2.76s\tremaining: 5.15s\n",
      "328:\tlearn: 4927193.6356704\ttotal: 2.77s\tremaining: 5.14s\n",
      "329:\tlearn: 4922691.8914128\ttotal: 2.78s\tremaining: 5.13s\n",
      "330:\tlearn: 4920751.5367622\ttotal: 2.79s\tremaining: 5.12s\n",
      "331:\tlearn: 4916820.8560905\ttotal: 2.79s\tremaining: 5.11s\n",
      "332:\tlearn: 4915060.8134895\ttotal: 2.8s\tremaining: 5.1s\n",
      "333:\tlearn: 4913241.9293933\ttotal: 2.81s\tremaining: 5.09s\n",
      "334:\tlearn: 4908097.0606632\ttotal: 2.81s\tremaining: 5.08s\n",
      "335:\tlearn: 4906235.5482591\ttotal: 2.82s\tremaining: 5.08s\n",
      "336:\tlearn: 4904174.1179835\ttotal: 2.83s\tremaining: 5.07s\n",
      "337:\tlearn: 4897214.9949153\ttotal: 2.84s\tremaining: 5.06s\n",
      "338:\tlearn: 4894036.1706439\ttotal: 2.85s\tremaining: 5.04s\n",
      "339:\tlearn: 4892279.4692656\ttotal: 2.85s\tremaining: 5.03s\n",
      "340:\tlearn: 4886207.3187828\ttotal: 2.86s\tremaining: 5.02s\n",
      "341:\tlearn: 4881745.2866654\ttotal: 2.87s\tremaining: 5.01s\n",
      "342:\tlearn: 4878509.2301718\ttotal: 2.88s\tremaining: 5.01s\n",
      "343:\tlearn: 4876551.1613598\ttotal: 2.88s\tremaining: 5s\n",
      "344:\tlearn: 4870663.6803440\ttotal: 2.89s\tremaining: 4.99s\n",
      "345:\tlearn: 4867969.0078026\ttotal: 2.9s\tremaining: 4.98s\n",
      "346:\tlearn: 4864315.5136325\ttotal: 2.91s\tremaining: 4.97s\n",
      "347:\tlearn: 4860817.7875211\ttotal: 2.92s\tremaining: 4.96s\n",
      "348:\tlearn: 4858616.4495501\ttotal: 2.92s\tremaining: 4.95s\n",
      "349:\tlearn: 4856005.7810094\ttotal: 2.93s\tremaining: 4.94s\n",
      "350:\tlearn: 4852421.6177495\ttotal: 2.94s\tremaining: 4.94s\n",
      "351:\tlearn: 4850140.8139614\ttotal: 2.95s\tremaining: 4.93s\n",
      "352:\tlearn: 4845998.1613101\ttotal: 2.96s\tremaining: 4.92s\n",
      "353:\tlearn: 4843004.2868919\ttotal: 2.96s\tremaining: 4.91s\n",
      "354:\tlearn: 4840218.7745368\ttotal: 2.97s\tremaining: 4.9s\n",
      "355:\tlearn: 4838056.5216824\ttotal: 2.98s\tremaining: 4.89s\n",
      "356:\tlearn: 4831850.9137495\ttotal: 2.99s\tremaining: 4.88s\n",
      "357:\tlearn: 4828098.3420820\ttotal: 3s\tremaining: 4.87s\n",
      "358:\tlearn: 4825191.9405812\ttotal: 3s\tremaining: 4.86s\n",
      "359:\tlearn: 4823141.1435361\ttotal: 3.01s\tremaining: 4.85s\n",
      "360:\tlearn: 4818954.2674770\ttotal: 3.02s\tremaining: 4.84s\n",
      "361:\tlearn: 4814949.5695062\ttotal: 3.03s\tremaining: 4.83s\n",
      "362:\tlearn: 4811898.8519178\ttotal: 3.04s\tremaining: 4.83s\n",
      "363:\tlearn: 4810068.6130421\ttotal: 3.06s\tremaining: 4.83s\n",
      "364:\tlearn: 4804941.2352100\ttotal: 3.06s\tremaining: 4.83s\n",
      "365:\tlearn: 4801061.4612573\ttotal: 3.07s\tremaining: 4.82s\n",
      "366:\tlearn: 4798338.6150180\ttotal: 3.08s\tremaining: 4.81s\n",
      "367:\tlearn: 4794801.0698685\ttotal: 3.09s\tremaining: 4.8s\n",
      "368:\tlearn: 4791029.2842125\ttotal: 3.1s\tremaining: 4.79s\n",
      "369:\tlearn: 4787523.4224293\ttotal: 3.1s\tremaining: 4.78s\n",
      "370:\tlearn: 4780199.8958227\ttotal: 3.11s\tremaining: 4.78s\n",
      "371:\tlearn: 4775836.7917641\ttotal: 3.12s\tremaining: 4.77s\n",
      "372:\tlearn: 4773005.0226714\ttotal: 3.13s\tremaining: 4.76s\n",
      "373:\tlearn: 4771927.2893682\ttotal: 3.14s\tremaining: 4.75s\n",
      "374:\tlearn: 4769983.9861201\ttotal: 3.15s\tremaining: 4.74s\n",
      "375:\tlearn: 4765763.0984653\ttotal: 3.15s\tremaining: 4.73s\n",
      "376:\tlearn: 4760316.9743064\ttotal: 3.16s\tremaining: 4.73s\n",
      "377:\tlearn: 4757987.7842645\ttotal: 3.17s\tremaining: 4.72s\n",
      "378:\tlearn: 4754175.3021789\ttotal: 3.18s\tremaining: 4.71s\n",
      "379:\tlearn: 4752017.7976854\ttotal: 3.19s\tremaining: 4.7s\n",
      "380:\tlearn: 4748658.4259176\ttotal: 3.19s\tremaining: 4.69s\n",
      "381:\tlearn: 4745768.4200943\ttotal: 3.2s\tremaining: 4.68s\n",
      "382:\tlearn: 4742582.1548756\ttotal: 3.21s\tremaining: 4.67s\n",
      "383:\tlearn: 4738626.8262730\ttotal: 3.21s\tremaining: 4.65s\n",
      "384:\tlearn: 4734642.1253634\ttotal: 3.22s\tremaining: 4.65s\n",
      "385:\tlearn: 4730860.9647594\ttotal: 3.23s\tremaining: 4.64s\n",
      "386:\tlearn: 4726918.2678235\ttotal: 3.24s\tremaining: 4.63s\n",
      "387:\tlearn: 4725150.5563124\ttotal: 3.25s\tremaining: 4.62s\n",
      "388:\tlearn: 4723529.5140714\ttotal: 3.25s\tremaining: 4.61s\n",
      "389:\tlearn: 4720696.6474330\ttotal: 3.26s\tremaining: 4.6s\n",
      "390:\tlearn: 4717265.4720404\ttotal: 3.27s\tremaining: 4.59s\n",
      "391:\tlearn: 4715661.0282643\ttotal: 3.28s\tremaining: 4.59s\n",
      "392:\tlearn: 4710683.3011932\ttotal: 3.29s\tremaining: 4.58s\n",
      "393:\tlearn: 4705566.9372138\ttotal: 3.3s\tremaining: 4.57s\n",
      "394:\tlearn: 4700985.3571057\ttotal: 3.31s\tremaining: 4.56s\n",
      "395:\tlearn: 4696884.7712260\ttotal: 3.31s\tremaining: 4.55s\n",
      "396:\tlearn: 4691848.3457573\ttotal: 3.32s\tremaining: 4.54s\n",
      "397:\tlearn: 4689247.5189701\ttotal: 3.33s\tremaining: 4.54s\n",
      "398:\tlearn: 4682590.9356351\ttotal: 3.34s\tremaining: 4.53s\n",
      "399:\tlearn: 4679165.4164532\ttotal: 3.35s\tremaining: 4.52s\n",
      "400:\tlearn: 4674278.3540820\ttotal: 3.35s\tremaining: 4.51s\n",
      "401:\tlearn: 4672612.6198666\ttotal: 3.36s\tremaining: 4.5s\n",
      "402:\tlearn: 4671280.7270940\ttotal: 3.37s\tremaining: 4.49s\n",
      "403:\tlearn: 4668889.1350202\ttotal: 3.38s\tremaining: 4.48s\n",
      "404:\tlearn: 4668809.1742472\ttotal: 3.38s\tremaining: 4.47s\n",
      "405:\tlearn: 4665462.7030429\ttotal: 3.39s\tremaining: 4.46s\n",
      "406:\tlearn: 4662883.9893624\ttotal: 3.4s\tremaining: 4.45s\n",
      "407:\tlearn: 4659923.3401438\ttotal: 3.41s\tremaining: 4.44s\n",
      "408:\tlearn: 4657196.2185354\ttotal: 3.41s\tremaining: 4.43s\n",
      "409:\tlearn: 4652917.3700569\ttotal: 3.42s\tremaining: 4.42s\n",
      "410:\tlearn: 4649752.8230855\ttotal: 3.43s\tremaining: 4.41s\n",
      "411:\tlearn: 4648995.2777698\ttotal: 3.44s\tremaining: 4.4s\n",
      "412:\tlearn: 4646815.6178963\ttotal: 3.44s\tremaining: 4.39s\n",
      "413:\tlearn: 4643444.5665439\ttotal: 3.45s\tremaining: 4.38s\n",
      "414:\tlearn: 4638632.2016571\ttotal: 3.46s\tremaining: 4.38s\n",
      "415:\tlearn: 4638128.6478993\ttotal: 3.46s\tremaining: 4.36s\n",
      "416:\tlearn: 4633038.5940222\ttotal: 3.47s\tremaining: 4.35s\n",
      "417:\tlearn: 4628996.8702238\ttotal: 3.48s\tremaining: 4.34s\n",
      "418:\tlearn: 4627241.1755356\ttotal: 3.48s\tremaining: 4.33s\n",
      "419:\tlearn: 4623706.2502201\ttotal: 3.49s\tremaining: 4.33s\n",
      "420:\tlearn: 4621215.4046896\ttotal: 3.5s\tremaining: 4.32s\n",
      "421:\tlearn: 4618851.1354624\ttotal: 3.51s\tremaining: 4.31s\n",
      "422:\tlearn: 4616756.8469422\ttotal: 3.52s\tremaining: 4.3s\n",
      "423:\tlearn: 4613892.9544309\ttotal: 3.53s\tremaining: 4.29s\n",
      "424:\tlearn: 4611753.4467288\ttotal: 3.53s\tremaining: 4.28s\n",
      "425:\tlearn: 4607431.6360508\ttotal: 3.54s\tremaining: 4.27s\n",
      "426:\tlearn: 4605970.2741067\ttotal: 3.55s\tremaining: 4.27s\n",
      "427:\tlearn: 4604393.0889415\ttotal: 3.56s\tremaining: 4.26s\n",
      "428:\tlearn: 4602619.9401431\ttotal: 3.57s\tremaining: 4.25s\n",
      "429:\tlearn: 4600757.6279271\ttotal: 3.58s\tremaining: 4.24s\n",
      "430:\tlearn: 4597116.8100085\ttotal: 3.58s\tremaining: 4.23s\n",
      "431:\tlearn: 4591480.5852256\ttotal: 3.59s\tremaining: 4.22s\n",
      "432:\tlearn: 4589412.1830743\ttotal: 3.6s\tremaining: 4.21s\n",
      "433:\tlearn: 4585717.7049791\ttotal: 3.61s\tremaining: 4.21s\n",
      "434:\tlearn: 4583483.3955912\ttotal: 3.61s\tremaining: 4.19s\n",
      "435:\tlearn: 4578930.8904010\ttotal: 3.62s\tremaining: 4.18s\n",
      "436:\tlearn: 4574568.7002003\ttotal: 3.63s\tremaining: 4.18s\n",
      "437:\tlearn: 4571563.0414069\ttotal: 3.64s\tremaining: 4.17s\n",
      "438:\tlearn: 4568193.9444236\ttotal: 3.65s\tremaining: 4.16s\n",
      "439:\tlearn: 4565074.1551996\ttotal: 3.66s\tremaining: 4.16s\n",
      "440:\tlearn: 4560821.0436169\ttotal: 3.67s\tremaining: 4.15s\n",
      "441:\tlearn: 4558543.7194117\ttotal: 3.67s\tremaining: 4.14s\n",
      "442:\tlearn: 4555091.2132840\ttotal: 3.68s\tremaining: 4.13s\n",
      "443:\tlearn: 4552669.4153008\ttotal: 3.69s\tremaining: 4.12s\n",
      "444:\tlearn: 4548678.5676923\ttotal: 3.7s\tremaining: 4.11s\n",
      "445:\tlearn: 4541986.8427288\ttotal: 3.72s\tremaining: 4.12s\n",
      "446:\tlearn: 4540546.7321838\ttotal: 3.73s\tremaining: 4.11s\n",
      "447:\tlearn: 4537279.9970262\ttotal: 3.73s\tremaining: 4.1s\n",
      "448:\tlearn: 4533786.6981794\ttotal: 3.74s\tremaining: 4.09s\n",
      "449:\tlearn: 4531506.9781065\ttotal: 3.75s\tremaining: 4.08s\n",
      "450:\tlearn: 4529565.1576862\ttotal: 3.76s\tremaining: 4.08s\n",
      "451:\tlearn: 4526267.3524107\ttotal: 3.77s\tremaining: 4.07s\n",
      "452:\tlearn: 4522825.9088329\ttotal: 3.78s\tremaining: 4.07s\n",
      "453:\tlearn: 4519756.2120663\ttotal: 3.79s\tremaining: 4.06s\n",
      "454:\tlearn: 4519438.7215305\ttotal: 3.79s\tremaining: 4.04s\n",
      "455:\tlearn: 4517473.9258290\ttotal: 3.8s\tremaining: 4.03s\n",
      "456:\tlearn: 4513673.6294742\ttotal: 3.81s\tremaining: 4.02s\n",
      "457:\tlearn: 4511542.0413153\ttotal: 3.81s\tremaining: 4.01s\n",
      "458:\tlearn: 4508396.2927448\ttotal: 3.82s\tremaining: 4s\n",
      "459:\tlearn: 4506627.6233044\ttotal: 3.83s\tremaining: 4s\n",
      "460:\tlearn: 4502503.4744597\ttotal: 3.84s\tremaining: 3.99s\n",
      "461:\tlearn: 4501599.6932782\ttotal: 3.84s\tremaining: 3.98s\n",
      "462:\tlearn: 4497298.3694721\ttotal: 3.85s\tremaining: 3.97s\n",
      "463:\tlearn: 4494709.9258196\ttotal: 3.86s\tremaining: 3.96s\n",
      "464:\tlearn: 4492262.4155932\ttotal: 3.87s\tremaining: 3.95s\n",
      "465:\tlearn: 4491464.0378975\ttotal: 3.87s\tremaining: 3.94s\n",
      "466:\tlearn: 4490181.4191191\ttotal: 3.88s\tremaining: 3.93s\n",
      "467:\tlearn: 4488904.5817657\ttotal: 3.89s\tremaining: 3.92s\n",
      "468:\tlearn: 4487875.7157770\ttotal: 3.89s\tremaining: 3.91s\n",
      "469:\tlearn: 4486096.8341933\ttotal: 3.9s\tremaining: 3.9s\n",
      "470:\tlearn: 4484195.6763991\ttotal: 3.9s\tremaining: 3.89s\n",
      "471:\tlearn: 4479041.7176000\ttotal: 3.91s\tremaining: 3.88s\n",
      "472:\tlearn: 4474125.0471315\ttotal: 3.92s\tremaining: 3.87s\n",
      "473:\tlearn: 4470463.1826741\ttotal: 3.93s\tremaining: 3.86s\n",
      "474:\tlearn: 4467949.4631354\ttotal: 3.94s\tremaining: 3.85s\n",
      "475:\tlearn: 4464829.6528320\ttotal: 3.95s\tremaining: 3.85s\n",
      "476:\tlearn: 4460806.2551966\ttotal: 3.95s\tremaining: 3.84s\n",
      "477:\tlearn: 4457370.8758080\ttotal: 3.97s\tremaining: 3.84s\n",
      "478:\tlearn: 4453741.3677027\ttotal: 3.98s\tremaining: 3.83s\n",
      "479:\tlearn: 4449757.9467020\ttotal: 4s\tremaining: 3.83s\n",
      "480:\tlearn: 4449587.2498384\ttotal: 4s\tremaining: 3.82s\n",
      "481:\tlearn: 4447309.2918196\ttotal: 4.01s\tremaining: 3.81s\n",
      "482:\tlearn: 4445236.8255675\ttotal: 4.02s\tremaining: 3.81s\n",
      "483:\tlearn: 4441148.5250914\ttotal: 4.03s\tremaining: 3.8s\n",
      "484:\tlearn: 4437139.7641642\ttotal: 4.04s\tremaining: 3.79s\n",
      "485:\tlearn: 4433859.9413048\ttotal: 4.05s\tremaining: 3.78s\n",
      "486:\tlearn: 4430501.7791645\ttotal: 4.06s\tremaining: 3.77s\n",
      "487:\tlearn: 4426732.0444782\ttotal: 4.07s\tremaining: 3.77s\n",
      "488:\tlearn: 4426731.8246107\ttotal: 4.07s\tremaining: 3.75s\n",
      "489:\tlearn: 4424676.0785687\ttotal: 4.08s\tremaining: 3.74s\n",
      "490:\tlearn: 4422942.2620701\ttotal: 4.08s\tremaining: 3.73s\n",
      "491:\tlearn: 4419608.1743361\ttotal: 4.09s\tremaining: 3.73s\n",
      "492:\tlearn: 4419102.2036454\ttotal: 4.1s\tremaining: 3.72s\n",
      "493:\tlearn: 4415032.7674840\ttotal: 4.11s\tremaining: 3.71s\n",
      "494:\tlearn: 4412756.8868678\ttotal: 4.12s\tremaining: 3.7s\n",
      "495:\tlearn: 4411022.8874366\ttotal: 4.12s\tremaining: 3.69s\n",
      "496:\tlearn: 4408306.7725086\ttotal: 4.13s\tremaining: 3.68s\n",
      "497:\tlearn: 4406590.8159829\ttotal: 4.14s\tremaining: 3.68s\n",
      "498:\tlearn: 4405221.1282633\ttotal: 4.15s\tremaining: 3.67s\n",
      "499:\tlearn: 4404036.6005139\ttotal: 4.16s\tremaining: 3.66s\n",
      "500:\tlearn: 4401303.5083801\ttotal: 4.17s\tremaining: 3.65s\n",
      "501:\tlearn: 4398871.7636593\ttotal: 4.17s\tremaining: 3.64s\n",
      "502:\tlearn: 4396238.0469970\ttotal: 4.18s\tremaining: 3.63s\n",
      "503:\tlearn: 4391101.3898162\ttotal: 4.19s\tremaining: 3.63s\n",
      "504:\tlearn: 4388738.5288838\ttotal: 4.2s\tremaining: 3.62s\n",
      "505:\tlearn: 4385764.6865971\ttotal: 4.21s\tremaining: 3.61s\n",
      "506:\tlearn: 4382032.5300625\ttotal: 4.21s\tremaining: 3.6s\n",
      "507:\tlearn: 4379677.1621823\ttotal: 4.23s\tremaining: 3.6s\n",
      "508:\tlearn: 4378032.7881448\ttotal: 4.24s\tremaining: 3.59s\n",
      "509:\tlearn: 4376454.5232794\ttotal: 4.25s\tremaining: 3.58s\n",
      "510:\tlearn: 4373254.0590699\ttotal: 4.26s\tremaining: 3.57s\n",
      "511:\tlearn: 4371300.8860901\ttotal: 4.27s\tremaining: 3.57s\n",
      "512:\tlearn: 4367957.3399248\ttotal: 4.28s\tremaining: 3.56s\n",
      "513:\tlearn: 4366219.5114792\ttotal: 4.29s\tremaining: 3.56s\n",
      "514:\tlearn: 4362211.4079594\ttotal: 4.3s\tremaining: 3.55s\n",
      "515:\tlearn: 4358868.9215074\ttotal: 4.31s\tremaining: 3.54s\n",
      "516:\tlearn: 4354334.6385638\ttotal: 4.31s\tremaining: 3.53s\n",
      "517:\tlearn: 4350497.5494983\ttotal: 4.32s\tremaining: 3.52s\n",
      "518:\tlearn: 4346719.9112798\ttotal: 4.34s\tremaining: 3.52s\n",
      "519:\tlearn: 4345476.9421920\ttotal: 4.34s\tremaining: 3.51s\n",
      "520:\tlearn: 4341702.7446079\ttotal: 4.35s\tremaining: 3.5s\n",
      "521:\tlearn: 4338323.0282903\ttotal: 4.36s\tremaining: 3.49s\n",
      "522:\tlearn: 4337542.1174388\ttotal: 4.37s\tremaining: 3.48s\n",
      "523:\tlearn: 4334526.1040190\ttotal: 4.37s\tremaining: 3.47s\n",
      "524:\tlearn: 4332587.1044313\ttotal: 4.39s\tremaining: 3.47s\n",
      "525:\tlearn: 4329443.4490556\ttotal: 4.4s\tremaining: 3.46s\n",
      "526:\tlearn: 4326310.2958332\ttotal: 4.41s\tremaining: 3.45s\n",
      "527:\tlearn: 4324227.8348306\ttotal: 4.41s\tremaining: 3.44s\n",
      "528:\tlearn: 4322661.3680490\ttotal: 4.42s\tremaining: 3.43s\n",
      "529:\tlearn: 4319752.5940881\ttotal: 4.43s\tremaining: 3.42s\n",
      "530:\tlearn: 4316812.4400528\ttotal: 4.44s\tremaining: 3.42s\n",
      "531:\tlearn: 4314217.2226067\ttotal: 4.44s\tremaining: 3.41s\n",
      "532:\tlearn: 4310511.4037304\ttotal: 4.45s\tremaining: 3.4s\n",
      "533:\tlearn: 4307613.4713735\ttotal: 4.46s\tremaining: 3.39s\n",
      "534:\tlearn: 4304740.2725854\ttotal: 4.46s\tremaining: 3.38s\n",
      "535:\tlearn: 4300759.2180611\ttotal: 4.47s\tremaining: 3.37s\n",
      "536:\tlearn: 4298627.1181566\ttotal: 4.47s\tremaining: 3.36s\n",
      "537:\tlearn: 4295695.3793847\ttotal: 4.49s\tremaining: 3.36s\n",
      "538:\tlearn: 4293739.5951602\ttotal: 4.5s\tremaining: 3.35s\n",
      "539:\tlearn: 4292168.4272196\ttotal: 4.51s\tremaining: 3.34s\n",
      "540:\tlearn: 4287491.2765757\ttotal: 4.52s\tremaining: 3.33s\n",
      "541:\tlearn: 4285418.7490476\ttotal: 4.52s\tremaining: 3.32s\n",
      "542:\tlearn: 4283371.5402799\ttotal: 4.53s\tremaining: 3.31s\n",
      "543:\tlearn: 4280900.9655929\ttotal: 4.54s\tremaining: 3.3s\n",
      "544:\tlearn: 4279686.3172366\ttotal: 4.55s\tremaining: 3.29s\n",
      "545:\tlearn: 4277347.3959658\ttotal: 4.55s\tremaining: 3.29s\n",
      "546:\tlearn: 4274227.3074349\ttotal: 4.56s\tremaining: 3.28s\n",
      "547:\tlearn: 4270592.3870057\ttotal: 4.57s\tremaining: 3.27s\n",
      "548:\tlearn: 4267500.2446784\ttotal: 4.58s\tremaining: 3.26s\n",
      "549:\tlearn: 4263938.4849071\ttotal: 4.58s\tremaining: 3.25s\n",
      "550:\tlearn: 4261330.8169163\ttotal: 4.59s\tremaining: 3.24s\n",
      "551:\tlearn: 4256981.5510145\ttotal: 4.6s\tremaining: 3.23s\n",
      "552:\tlearn: 4253845.1471383\ttotal: 4.61s\tremaining: 3.23s\n",
      "553:\tlearn: 4249405.7269289\ttotal: 4.62s\tremaining: 3.22s\n",
      "554:\tlearn: 4243687.6276425\ttotal: 4.62s\tremaining: 3.21s\n",
      "555:\tlearn: 4242441.1425798\ttotal: 4.63s\tremaining: 3.2s\n",
      "556:\tlearn: 4239141.6208599\ttotal: 4.64s\tremaining: 3.19s\n",
      "557:\tlearn: 4237198.6447094\ttotal: 4.64s\tremaining: 3.18s\n",
      "558:\tlearn: 4234526.8487592\ttotal: 4.65s\tremaining: 3.17s\n",
      "559:\tlearn: 4233373.9388896\ttotal: 4.66s\tremaining: 3.16s\n",
      "560:\tlearn: 4230883.0352346\ttotal: 4.67s\tremaining: 3.15s\n",
      "561:\tlearn: 4228742.7242757\ttotal: 4.67s\tremaining: 3.14s\n",
      "562:\tlearn: 4226570.5727668\ttotal: 4.68s\tremaining: 3.14s\n",
      "563:\tlearn: 4223642.8373590\ttotal: 4.69s\tremaining: 3.13s\n",
      "564:\tlearn: 4222140.9757487\ttotal: 4.7s\tremaining: 3.12s\n",
      "565:\tlearn: 4219274.3246825\ttotal: 4.7s\tremaining: 3.11s\n",
      "566:\tlearn: 4216263.1928956\ttotal: 4.71s\tremaining: 3.1s\n",
      "567:\tlearn: 4214393.8024949\ttotal: 4.72s\tremaining: 3.09s\n",
      "568:\tlearn: 4212228.5226241\ttotal: 4.73s\tremaining: 3.08s\n",
      "569:\tlearn: 4208108.6752402\ttotal: 4.73s\tremaining: 3.07s\n",
      "570:\tlearn: 4205529.7629025\ttotal: 4.74s\tremaining: 3.06s\n",
      "571:\tlearn: 4202987.4110521\ttotal: 4.75s\tremaining: 3.06s\n",
      "572:\tlearn: 4200899.5854794\ttotal: 4.76s\tremaining: 3.05s\n",
      "573:\tlearn: 4199346.3233454\ttotal: 4.76s\tremaining: 3.04s\n",
      "574:\tlearn: 4194586.1830059\ttotal: 4.78s\tremaining: 3.03s\n",
      "575:\tlearn: 4193306.4883064\ttotal: 4.78s\tremaining: 3.02s\n",
      "576:\tlearn: 4187709.6679484\ttotal: 4.79s\tremaining: 3.02s\n",
      "577:\tlearn: 4183945.0779704\ttotal: 4.8s\tremaining: 3.01s\n",
      "578:\tlearn: 4181783.9331790\ttotal: 4.81s\tremaining: 3s\n",
      "579:\tlearn: 4179600.8521338\ttotal: 4.82s\tremaining: 2.99s\n",
      "580:\tlearn: 4178269.4195946\ttotal: 4.83s\tremaining: 2.98s\n",
      "581:\tlearn: 4174924.6370909\ttotal: 4.83s\tremaining: 2.97s\n",
      "582:\tlearn: 4172239.2222431\ttotal: 4.84s\tremaining: 2.96s\n",
      "583:\tlearn: 4169464.1460357\ttotal: 4.85s\tremaining: 2.96s\n",
      "584:\tlearn: 4163447.1958820\ttotal: 4.86s\tremaining: 2.95s\n",
      "585:\tlearn: 4159389.1974436\ttotal: 4.87s\tremaining: 2.94s\n",
      "586:\tlearn: 4157476.9855915\ttotal: 4.87s\tremaining: 2.93s\n",
      "587:\tlearn: 4154066.9959478\ttotal: 4.88s\tremaining: 2.92s\n",
      "588:\tlearn: 4152026.5970761\ttotal: 4.89s\tremaining: 2.91s\n",
      "589:\tlearn: 4149647.4233983\ttotal: 4.89s\tremaining: 2.9s\n",
      "590:\tlearn: 4148381.1817381\ttotal: 4.9s\tremaining: 2.89s\n",
      "591:\tlearn: 4144168.3680098\ttotal: 4.91s\tremaining: 2.89s\n",
      "592:\tlearn: 4141907.6394615\ttotal: 4.92s\tremaining: 2.88s\n",
      "593:\tlearn: 4139748.1683915\ttotal: 4.93s\tremaining: 2.87s\n",
      "594:\tlearn: 4137008.2934098\ttotal: 4.94s\tremaining: 2.86s\n",
      "595:\tlearn: 4132888.5054245\ttotal: 4.95s\tremaining: 2.86s\n",
      "596:\tlearn: 4128327.2145813\ttotal: 4.96s\tremaining: 2.85s\n",
      "597:\tlearn: 4126090.4654839\ttotal: 4.96s\tremaining: 2.84s\n",
      "598:\tlearn: 4124005.9718696\ttotal: 4.97s\tremaining: 2.83s\n",
      "599:\tlearn: 4121274.1785541\ttotal: 4.98s\tremaining: 2.82s\n",
      "600:\tlearn: 4119563.7623780\ttotal: 4.99s\tremaining: 2.81s\n",
      "601:\tlearn: 4115800.9193983\ttotal: 4.99s\tremaining: 2.8s\n",
      "602:\tlearn: 4115004.7771569\ttotal: 5s\tremaining: 2.8s\n",
      "603:\tlearn: 4113336.2402425\ttotal: 5.01s\tremaining: 2.79s\n",
      "604:\tlearn: 4111953.4415796\ttotal: 5.02s\tremaining: 2.78s\n",
      "605:\tlearn: 4109506.9682395\ttotal: 5.03s\tremaining: 2.77s\n",
      "606:\tlearn: 4106725.8961169\ttotal: 5.04s\tremaining: 2.76s\n",
      "607:\tlearn: 4102277.9035472\ttotal: 5.04s\tremaining: 2.75s\n",
      "608:\tlearn: 4099133.8573710\ttotal: 5.05s\tremaining: 2.75s\n",
      "609:\tlearn: 4096529.3251352\ttotal: 5.06s\tremaining: 2.74s\n",
      "610:\tlearn: 4094081.1895988\ttotal: 5.07s\tremaining: 2.73s\n",
      "611:\tlearn: 4091554.6368525\ttotal: 5.07s\tremaining: 2.72s\n",
      "612:\tlearn: 4090172.0710907\ttotal: 5.08s\tremaining: 2.71s\n",
      "613:\tlearn: 4087022.2799544\ttotal: 5.09s\tremaining: 2.7s\n",
      "614:\tlearn: 4083686.9412383\ttotal: 5.1s\tremaining: 2.69s\n",
      "615:\tlearn: 4081561.1736177\ttotal: 5.11s\tremaining: 2.69s\n",
      "616:\tlearn: 4079825.1612182\ttotal: 5.12s\tremaining: 2.68s\n",
      "617:\tlearn: 4077063.8848785\ttotal: 5.12s\tremaining: 2.67s\n",
      "618:\tlearn: 4074251.9895362\ttotal: 5.13s\tremaining: 2.66s\n",
      "619:\tlearn: 4072303.5198621\ttotal: 5.14s\tremaining: 2.65s\n",
      "620:\tlearn: 4070506.7211643\ttotal: 5.15s\tremaining: 2.65s\n",
      "621:\tlearn: 4065639.0169941\ttotal: 5.16s\tremaining: 2.64s\n",
      "622:\tlearn: 4063729.5753768\ttotal: 5.17s\tremaining: 2.63s\n",
      "623:\tlearn: 4062327.8941769\ttotal: 5.17s\tremaining: 2.62s\n",
      "624:\tlearn: 4060142.0812998\ttotal: 5.18s\tremaining: 2.61s\n",
      "625:\tlearn: 4056949.4531416\ttotal: 5.19s\tremaining: 2.6s\n",
      "626:\tlearn: 4055218.8569627\ttotal: 5.2s\tremaining: 2.59s\n",
      "627:\tlearn: 4053773.8247212\ttotal: 5.2s\tremaining: 2.58s\n",
      "628:\tlearn: 4051773.6171665\ttotal: 5.21s\tremaining: 2.58s\n",
      "629:\tlearn: 4049911.3774558\ttotal: 5.22s\tremaining: 2.57s\n",
      "630:\tlearn: 4047014.6975981\ttotal: 5.23s\tremaining: 2.56s\n",
      "631:\tlearn: 4044448.3273249\ttotal: 5.24s\tremaining: 2.55s\n",
      "632:\tlearn: 4042543.8168360\ttotal: 5.25s\tremaining: 2.54s\n",
      "633:\tlearn: 4039580.2514281\ttotal: 5.25s\tremaining: 2.54s\n",
      "634:\tlearn: 4038202.6635692\ttotal: 5.26s\tremaining: 2.53s\n",
      "635:\tlearn: 4035721.5250007\ttotal: 5.28s\tremaining: 2.52s\n",
      "636:\tlearn: 4033828.7702108\ttotal: 5.29s\tremaining: 2.51s\n",
      "637:\tlearn: 4032343.1630419\ttotal: 5.29s\tremaining: 2.5s\n",
      "638:\tlearn: 4029293.8384337\ttotal: 5.3s\tremaining: 2.5s\n",
      "639:\tlearn: 4027174.3788356\ttotal: 5.31s\tremaining: 2.49s\n",
      "640:\tlearn: 4025754.8570191\ttotal: 5.31s\tremaining: 2.48s\n",
      "641:\tlearn: 4024223.3906597\ttotal: 5.32s\tremaining: 2.47s\n",
      "642:\tlearn: 4022396.0145311\ttotal: 5.33s\tremaining: 2.46s\n",
      "643:\tlearn: 4022336.0285189\ttotal: 5.33s\tremaining: 2.45s\n",
      "644:\tlearn: 4020481.0780937\ttotal: 5.33s\tremaining: 2.44s\n",
      "645:\tlearn: 4016877.4332792\ttotal: 5.34s\tremaining: 2.43s\n",
      "646:\tlearn: 4014491.0535241\ttotal: 5.35s\tremaining: 2.42s\n",
      "647:\tlearn: 4011110.0338923\ttotal: 5.36s\tremaining: 2.42s\n",
      "648:\tlearn: 4009759.8291176\ttotal: 5.37s\tremaining: 2.41s\n",
      "649:\tlearn: 4006838.3879707\ttotal: 5.38s\tremaining: 2.4s\n",
      "650:\tlearn: 4003098.2512540\ttotal: 5.38s\tremaining: 2.39s\n",
      "651:\tlearn: 4001360.5862833\ttotal: 5.39s\tremaining: 2.38s\n",
      "652:\tlearn: 3998833.3615942\ttotal: 5.4s\tremaining: 2.37s\n",
      "653:\tlearn: 3996784.2586576\ttotal: 5.4s\tremaining: 2.36s\n",
      "654:\tlearn: 3994575.0218336\ttotal: 5.41s\tremaining: 2.35s\n",
      "655:\tlearn: 3992546.9962587\ttotal: 5.42s\tremaining: 2.35s\n",
      "656:\tlearn: 3989155.0185478\ttotal: 5.43s\tremaining: 2.34s\n",
      "657:\tlearn: 3987868.6487383\ttotal: 5.44s\tremaining: 2.33s\n",
      "658:\tlearn: 3986188.8799618\ttotal: 5.46s\tremaining: 2.33s\n",
      "659:\tlearn: 3984175.2950239\ttotal: 5.46s\tremaining: 2.32s\n",
      "660:\tlearn: 3982301.3832031\ttotal: 5.47s\tremaining: 2.31s\n",
      "661:\tlearn: 3979512.9407033\ttotal: 5.48s\tremaining: 2.3s\n",
      "662:\tlearn: 3977834.6570966\ttotal: 5.49s\tremaining: 2.29s\n",
      "663:\tlearn: 3975151.1571564\ttotal: 5.5s\tremaining: 2.28s\n",
      "664:\tlearn: 3973065.9784966\ttotal: 5.51s\tremaining: 2.28s\n",
      "665:\tlearn: 3971245.6938801\ttotal: 5.51s\tremaining: 2.27s\n",
      "666:\tlearn: 3970597.1354000\ttotal: 5.52s\tremaining: 2.26s\n",
      "667:\tlearn: 3967161.2753843\ttotal: 5.53s\tremaining: 2.25s\n",
      "668:\tlearn: 3962929.7017482\ttotal: 5.54s\tremaining: 2.24s\n",
      "669:\tlearn: 3960142.5033105\ttotal: 5.54s\tremaining: 2.23s\n",
      "670:\tlearn: 3957336.9387507\ttotal: 5.55s\tremaining: 2.23s\n",
      "671:\tlearn: 3955366.4457207\ttotal: 5.56s\tremaining: 2.22s\n",
      "672:\tlearn: 3953405.1216866\ttotal: 5.57s\tremaining: 2.21s\n",
      "673:\tlearn: 3951459.7515426\ttotal: 5.58s\tremaining: 2.2s\n",
      "674:\tlearn: 3949014.6582983\ttotal: 5.58s\tremaining: 2.19s\n",
      "675:\tlearn: 3948006.9484797\ttotal: 5.59s\tremaining: 2.18s\n",
      "676:\tlearn: 3943677.0168923\ttotal: 5.6s\tremaining: 2.17s\n",
      "677:\tlearn: 3942149.7592513\ttotal: 5.61s\tremaining: 2.17s\n",
      "678:\tlearn: 3940188.1502120\ttotal: 5.62s\tremaining: 2.16s\n",
      "679:\tlearn: 3938780.0487695\ttotal: 5.62s\tremaining: 2.15s\n",
      "680:\tlearn: 3936786.7143503\ttotal: 5.63s\tremaining: 2.14s\n",
      "681:\tlearn: 3934809.9482825\ttotal: 5.64s\tremaining: 2.13s\n",
      "682:\tlearn: 3933265.2604887\ttotal: 5.65s\tremaining: 2.13s\n",
      "683:\tlearn: 3929706.4545814\ttotal: 5.66s\tremaining: 2.12s\n",
      "684:\tlearn: 3927887.5590629\ttotal: 5.66s\tremaining: 2.11s\n",
      "685:\tlearn: 3926646.3144041\ttotal: 5.67s\tremaining: 2.1s\n",
      "686:\tlearn: 3924917.6085836\ttotal: 5.67s\tremaining: 2.09s\n",
      "687:\tlearn: 3922007.3400325\ttotal: 5.68s\tremaining: 2.08s\n",
      "688:\tlearn: 3920025.6147926\ttotal: 5.69s\tremaining: 2.07s\n",
      "689:\tlearn: 3917147.9755699\ttotal: 5.7s\tremaining: 2.06s\n",
      "690:\tlearn: 3914795.7494807\ttotal: 5.71s\tremaining: 2.06s\n",
      "691:\tlearn: 3912266.7901400\ttotal: 5.71s\tremaining: 2.05s\n",
      "692:\tlearn: 3910699.2667619\ttotal: 5.72s\tremaining: 2.04s\n",
      "693:\tlearn: 3908065.5610959\ttotal: 5.73s\tremaining: 2.03s\n",
      "694:\tlearn: 3904361.1301202\ttotal: 5.74s\tremaining: 2.02s\n",
      "695:\tlearn: 3902729.3756688\ttotal: 5.75s\tremaining: 2.01s\n",
      "696:\tlearn: 3899703.6499775\ttotal: 5.75s\tremaining: 2s\n",
      "697:\tlearn: 3897129.3269980\ttotal: 5.76s\tremaining: 2s\n",
      "698:\tlearn: 3894975.9637335\ttotal: 5.77s\tremaining: 1.99s\n",
      "699:\tlearn: 3894071.3875954\ttotal: 5.77s\tremaining: 1.98s\n",
      "700:\tlearn: 3890398.7003959\ttotal: 5.78s\tremaining: 1.97s\n",
      "701:\tlearn: 3888805.1899996\ttotal: 5.79s\tremaining: 1.96s\n",
      "702:\tlearn: 3887191.8498414\ttotal: 5.79s\tremaining: 1.95s\n",
      "703:\tlearn: 3884898.3240409\ttotal: 5.8s\tremaining: 1.94s\n",
      "704:\tlearn: 3882129.1308499\ttotal: 5.81s\tremaining: 1.94s\n",
      "705:\tlearn: 3879910.3945477\ttotal: 5.82s\tremaining: 1.93s\n",
      "706:\tlearn: 3878586.1317519\ttotal: 5.83s\tremaining: 1.92s\n",
      "707:\tlearn: 3876060.1328731\ttotal: 5.83s\tremaining: 1.91s\n",
      "708:\tlearn: 3873664.5418919\ttotal: 5.84s\tremaining: 1.9s\n",
      "709:\tlearn: 3872168.9219723\ttotal: 5.85s\tremaining: 1.9s\n",
      "710:\tlearn: 3871075.9353008\ttotal: 5.86s\tremaining: 1.89s\n",
      "711:\tlearn: 3869269.2250937\ttotal: 5.87s\tremaining: 1.88s\n",
      "712:\tlearn: 3866106.7962784\ttotal: 5.88s\tremaining: 1.87s\n",
      "713:\tlearn: 3863945.7238548\ttotal: 5.88s\tremaining: 1.86s\n",
      "714:\tlearn: 3862156.1726289\ttotal: 5.89s\tremaining: 1.85s\n",
      "715:\tlearn: 3860868.2891467\ttotal: 5.9s\tremaining: 1.85s\n",
      "716:\tlearn: 3859308.5023438\ttotal: 5.91s\tremaining: 1.84s\n",
      "717:\tlearn: 3858305.6061668\ttotal: 5.92s\tremaining: 1.83s\n",
      "718:\tlearn: 3855274.9171106\ttotal: 5.93s\tremaining: 1.82s\n",
      "719:\tlearn: 3853689.0170084\ttotal: 5.93s\tremaining: 1.81s\n",
      "720:\tlearn: 3851257.7285136\ttotal: 5.94s\tremaining: 1.8s\n",
      "721:\tlearn: 3848818.3754917\ttotal: 5.95s\tremaining: 1.8s\n",
      "722:\tlearn: 3846794.4903786\ttotal: 5.96s\tremaining: 1.79s\n",
      "723:\tlearn: 3845748.0179152\ttotal: 5.97s\tremaining: 1.78s\n",
      "724:\tlearn: 3843470.9718713\ttotal: 5.98s\tremaining: 1.77s\n",
      "725:\tlearn: 3842000.1674328\ttotal: 5.98s\tremaining: 1.76s\n",
      "726:\tlearn: 3840631.1239091\ttotal: 5.99s\tremaining: 1.75s\n",
      "727:\tlearn: 3838443.0392825\ttotal: 6s\tremaining: 1.75s\n",
      "728:\tlearn: 3836130.2021252\ttotal: 6.01s\tremaining: 1.74s\n",
      "729:\tlearn: 3834620.0654474\ttotal: 6.02s\tremaining: 1.73s\n",
      "730:\tlearn: 3832970.8572420\ttotal: 6.02s\tremaining: 1.72s\n",
      "731:\tlearn: 3830676.2118958\ttotal: 6.03s\tremaining: 1.71s\n",
      "732:\tlearn: 3828448.5803183\ttotal: 6.04s\tremaining: 1.7s\n",
      "733:\tlearn: 3827471.0394230\ttotal: 6.04s\tremaining: 1.7s\n",
      "734:\tlearn: 3824805.2338443\ttotal: 6.05s\tremaining: 1.69s\n",
      "735:\tlearn: 3823620.5145534\ttotal: 6.06s\tremaining: 1.68s\n",
      "736:\tlearn: 3821509.3355341\ttotal: 6.06s\tremaining: 1.67s\n",
      "737:\tlearn: 3819661.4084216\ttotal: 6.07s\tremaining: 1.66s\n",
      "738:\tlearn: 3817006.7410481\ttotal: 6.08s\tremaining: 1.65s\n",
      "739:\tlearn: 3815495.4649306\ttotal: 6.09s\tremaining: 1.65s\n",
      "740:\tlearn: 3815179.1597676\ttotal: 6.09s\tremaining: 1.64s\n",
      "741:\tlearn: 3812884.5816880\ttotal: 6.1s\tremaining: 1.63s\n",
      "742:\tlearn: 3810585.3798740\ttotal: 6.11s\tremaining: 1.62s\n",
      "743:\tlearn: 3806891.3338369\ttotal: 6.12s\tremaining: 1.61s\n",
      "744:\tlearn: 3804140.8464969\ttotal: 6.13s\tremaining: 1.6s\n",
      "745:\tlearn: 3803835.3847667\ttotal: 6.13s\tremaining: 1.59s\n",
      "746:\tlearn: 3802433.4137760\ttotal: 6.14s\tremaining: 1.59s\n",
      "747:\tlearn: 3800194.1489037\ttotal: 6.15s\tremaining: 1.58s\n",
      "748:\tlearn: 3798273.5233826\ttotal: 6.16s\tremaining: 1.57s\n",
      "749:\tlearn: 3796663.9632480\ttotal: 6.16s\tremaining: 1.56s\n",
      "750:\tlearn: 3794489.4539137\ttotal: 6.17s\tremaining: 1.55s\n",
      "751:\tlearn: 3791709.0489922\ttotal: 6.18s\tremaining: 1.54s\n",
      "752:\tlearn: 3790092.1406318\ttotal: 6.19s\tremaining: 1.54s\n",
      "753:\tlearn: 3788356.2227242\ttotal: 6.2s\tremaining: 1.53s\n",
      "754:\tlearn: 3787753.1578121\ttotal: 6.21s\tremaining: 1.52s\n",
      "755:\tlearn: 3786333.0706978\ttotal: 6.22s\tremaining: 1.51s\n",
      "756:\tlearn: 3783357.2253246\ttotal: 6.23s\tremaining: 1.51s\n",
      "757:\tlearn: 3781942.7658635\ttotal: 6.24s\tremaining: 1.5s\n",
      "758:\tlearn: 3778697.6895279\ttotal: 6.25s\tremaining: 1.49s\n",
      "759:\tlearn: 3776938.1343896\ttotal: 6.25s\tremaining: 1.48s\n",
      "760:\tlearn: 3776009.7405533\ttotal: 6.26s\tremaining: 1.47s\n",
      "761:\tlearn: 3774423.9305262\ttotal: 6.27s\tremaining: 1.46s\n",
      "762:\tlearn: 3773630.3688015\ttotal: 6.28s\tremaining: 1.46s\n",
      "763:\tlearn: 3771244.7681232\ttotal: 6.28s\tremaining: 1.45s\n",
      "764:\tlearn: 3769615.5314628\ttotal: 6.29s\tremaining: 1.44s\n",
      "765:\tlearn: 3768792.6040936\ttotal: 6.3s\tremaining: 1.43s\n",
      "766:\tlearn: 3767618.9018568\ttotal: 6.31s\tremaining: 1.42s\n",
      "767:\tlearn: 3765854.9926917\ttotal: 6.32s\tremaining: 1.41s\n",
      "768:\tlearn: 3763369.8600737\ttotal: 6.33s\tremaining: 1.41s\n",
      "769:\tlearn: 3761474.9168110\ttotal: 6.34s\tremaining: 1.4s\n",
      "770:\tlearn: 3757630.4966001\ttotal: 6.34s\tremaining: 1.39s\n",
      "771:\tlearn: 3755505.9594075\ttotal: 6.36s\tremaining: 1.38s\n",
      "772:\tlearn: 3753338.7873627\ttotal: 6.36s\tremaining: 1.37s\n",
      "773:\tlearn: 3752553.0248101\ttotal: 6.37s\tremaining: 1.37s\n",
      "774:\tlearn: 3750415.6042217\ttotal: 6.38s\tremaining: 1.36s\n",
      "775:\tlearn: 3748078.0096662\ttotal: 6.39s\tremaining: 1.35s\n",
      "776:\tlearn: 3745675.7184606\ttotal: 6.39s\tremaining: 1.34s\n",
      "777:\tlearn: 3742851.1029972\ttotal: 6.4s\tremaining: 1.33s\n",
      "778:\tlearn: 3738326.7567228\ttotal: 6.41s\tremaining: 1.32s\n",
      "779:\tlearn: 3736155.4169527\ttotal: 6.42s\tremaining: 1.32s\n",
      "780:\tlearn: 3734293.2176276\ttotal: 6.43s\tremaining: 1.31s\n",
      "781:\tlearn: 3732570.9098568\ttotal: 6.43s\tremaining: 1.3s\n",
      "782:\tlearn: 3730305.7135905\ttotal: 6.44s\tremaining: 1.29s\n",
      "783:\tlearn: 3727963.7243381\ttotal: 6.47s\tremaining: 1.29s\n",
      "784:\tlearn: 3725860.8534058\ttotal: 6.47s\tremaining: 1.28s\n",
      "785:\tlearn: 3723346.3873369\ttotal: 6.48s\tremaining: 1.27s\n",
      "786:\tlearn: 3721284.0214217\ttotal: 6.49s\tremaining: 1.26s\n",
      "787:\tlearn: 3719422.0980463\ttotal: 6.5s\tremaining: 1.25s\n",
      "788:\tlearn: 3718555.8980825\ttotal: 6.5s\tremaining: 1.24s\n",
      "789:\tlearn: 3716043.1357035\ttotal: 6.51s\tremaining: 1.24s\n",
      "790:\tlearn: 3713547.3980755\ttotal: 6.52s\tremaining: 1.23s\n",
      "791:\tlearn: 3710359.0638263\ttotal: 6.53s\tremaining: 1.22s\n",
      "792:\tlearn: 3708515.0080965\ttotal: 6.54s\tremaining: 1.21s\n",
      "793:\tlearn: 3706612.2238162\ttotal: 6.55s\tremaining: 1.2s\n",
      "794:\tlearn: 3704013.4397607\ttotal: 6.55s\tremaining: 1.2s\n",
      "795:\tlearn: 3702636.5283763\ttotal: 6.56s\tremaining: 1.19s\n",
      "796:\tlearn: 3701554.6040527\ttotal: 6.57s\tremaining: 1.18s\n",
      "797:\tlearn: 3699787.4522654\ttotal: 6.57s\tremaining: 1.17s\n",
      "798:\tlearn: 3697011.8698489\ttotal: 6.58s\tremaining: 1.16s\n",
      "799:\tlearn: 3694915.7680192\ttotal: 6.59s\tremaining: 1.15s\n",
      "800:\tlearn: 3693691.8592391\ttotal: 6.6s\tremaining: 1.14s\n",
      "801:\tlearn: 3690796.1435308\ttotal: 6.61s\tremaining: 1.14s\n",
      "802:\tlearn: 3688819.3106217\ttotal: 6.61s\tremaining: 1.13s\n",
      "803:\tlearn: 3687698.6585921\ttotal: 6.63s\tremaining: 1.12s\n",
      "804:\tlearn: 3685850.1276832\ttotal: 6.63s\tremaining: 1.11s\n",
      "805:\tlearn: 3684116.3494373\ttotal: 6.64s\tremaining: 1.1s\n",
      "806:\tlearn: 3683223.2413256\ttotal: 6.65s\tremaining: 1.1s\n",
      "807:\tlearn: 3680618.8566571\ttotal: 6.66s\tremaining: 1.09s\n",
      "808:\tlearn: 3679570.2134976\ttotal: 6.68s\tremaining: 1.08s\n",
      "809:\tlearn: 3677972.4461464\ttotal: 6.69s\tremaining: 1.07s\n",
      "810:\tlearn: 3676975.3769122\ttotal: 6.7s\tremaining: 1.06s\n",
      "811:\tlearn: 3674279.9044462\ttotal: 6.71s\tremaining: 1.06s\n",
      "812:\tlearn: 3672016.2229296\ttotal: 6.71s\tremaining: 1.05s\n",
      "813:\tlearn: 3669772.4453890\ttotal: 6.72s\tremaining: 1.04s\n",
      "814:\tlearn: 3668183.6309905\ttotal: 6.73s\tremaining: 1.03s\n",
      "815:\tlearn: 3666354.8772937\ttotal: 6.74s\tremaining: 1.02s\n",
      "816:\tlearn: 3664564.5104859\ttotal: 6.75s\tremaining: 1.02s\n",
      "817:\tlearn: 3663948.2774156\ttotal: 6.76s\tremaining: 1.01s\n",
      "818:\tlearn: 3660453.1978945\ttotal: 6.77s\tremaining: 1000ms\n",
      "819:\tlearn: 3658686.8039453\ttotal: 6.78s\tremaining: 992ms\n",
      "820:\tlearn: 3656939.6178853\ttotal: 6.79s\tremaining: 984ms\n",
      "821:\tlearn: 3654496.3193591\ttotal: 6.79s\tremaining: 975ms\n",
      "822:\tlearn: 3652495.3075204\ttotal: 6.8s\tremaining: 967ms\n",
      "823:\tlearn: 3650568.9078891\ttotal: 6.81s\tremaining: 958ms\n",
      "824:\tlearn: 3648195.8739205\ttotal: 6.81s\tremaining: 950ms\n",
      "825:\tlearn: 3646738.0554167\ttotal: 6.82s\tremaining: 942ms\n",
      "826:\tlearn: 3645317.9501609\ttotal: 6.83s\tremaining: 933ms\n",
      "827:\tlearn: 3643243.0966620\ttotal: 6.83s\tremaining: 925ms\n",
      "828:\tlearn: 3640716.5671009\ttotal: 6.84s\tremaining: 916ms\n",
      "829:\tlearn: 3639656.0418251\ttotal: 6.85s\tremaining: 908ms\n",
      "830:\tlearn: 3636759.2447494\ttotal: 6.86s\tremaining: 900ms\n",
      "831:\tlearn: 3635678.4310331\ttotal: 6.87s\tremaining: 891ms\n",
      "832:\tlearn: 3633362.9460085\ttotal: 6.87s\tremaining: 883ms\n",
      "833:\tlearn: 3632396.5407102\ttotal: 6.88s\tremaining: 875ms\n",
      "834:\tlearn: 3630468.1145674\ttotal: 6.89s\tremaining: 866ms\n",
      "835:\tlearn: 3628603.0894533\ttotal: 6.9s\tremaining: 858ms\n",
      "836:\tlearn: 3625758.7507029\ttotal: 6.91s\tremaining: 850ms\n",
      "837:\tlearn: 3624832.0670501\ttotal: 6.92s\tremaining: 842ms\n",
      "838:\tlearn: 3622096.6330239\ttotal: 6.93s\tremaining: 834ms\n",
      "839:\tlearn: 3620488.1035367\ttotal: 6.94s\tremaining: 826ms\n",
      "840:\tlearn: 3618473.7652923\ttotal: 6.95s\tremaining: 818ms\n",
      "841:\tlearn: 3617082.5401254\ttotal: 6.95s\tremaining: 809ms\n",
      "842:\tlearn: 3615179.7398693\ttotal: 6.96s\tremaining: 801ms\n",
      "843:\tlearn: 3613997.6461423\ttotal: 6.97s\tremaining: 793ms\n",
      "844:\tlearn: 3612127.7511054\ttotal: 6.98s\tremaining: 785ms\n",
      "845:\tlearn: 3609935.7049369\ttotal: 6.99s\tremaining: 776ms\n",
      "846:\tlearn: 3607564.4571254\ttotal: 6.99s\tremaining: 768ms\n",
      "847:\tlearn: 3606080.6392016\ttotal: 7s\tremaining: 760ms\n",
      "848:\tlearn: 3603403.7894608\ttotal: 7.01s\tremaining: 751ms\n",
      "849:\tlearn: 3601633.8933869\ttotal: 7.02s\tremaining: 743ms\n",
      "850:\tlearn: 3600963.6680904\ttotal: 7.03s\tremaining: 735ms\n",
      "851:\tlearn: 3599451.8599779\ttotal: 7.04s\tremaining: 727ms\n",
      "852:\tlearn: 3596297.6984842\ttotal: 7.05s\tremaining: 719ms\n",
      "853:\tlearn: 3594807.0541700\ttotal: 7.05s\tremaining: 710ms\n",
      "854:\tlearn: 3593580.5496226\ttotal: 7.06s\tremaining: 702ms\n",
      "855:\tlearn: 3592512.2766162\ttotal: 7.07s\tremaining: 694ms\n",
      "856:\tlearn: 3590610.6325847\ttotal: 7.08s\tremaining: 686ms\n",
      "857:\tlearn: 3589724.4763315\ttotal: 7.09s\tremaining: 677ms\n",
      "858:\tlearn: 3588511.2107363\ttotal: 7.09s\tremaining: 669ms\n",
      "859:\tlearn: 3586153.9534574\ttotal: 7.1s\tremaining: 661ms\n",
      "860:\tlearn: 3584002.8262327\ttotal: 7.11s\tremaining: 652ms\n",
      "861:\tlearn: 3583472.1052400\ttotal: 7.12s\tremaining: 644ms\n",
      "862:\tlearn: 3581301.1346819\ttotal: 7.12s\tremaining: 636ms\n",
      "863:\tlearn: 3578367.9256812\ttotal: 7.13s\tremaining: 627ms\n",
      "864:\tlearn: 3576530.2930125\ttotal: 7.14s\tremaining: 619ms\n",
      "865:\tlearn: 3575589.2801783\ttotal: 7.15s\tremaining: 611ms\n",
      "866:\tlearn: 3573603.9586012\ttotal: 7.16s\tremaining: 603ms\n",
      "867:\tlearn: 3572157.1347096\ttotal: 7.17s\tremaining: 594ms\n",
      "868:\tlearn: 3570125.2302126\ttotal: 7.17s\tremaining: 586ms\n",
      "869:\tlearn: 3568817.4919580\ttotal: 7.18s\tremaining: 578ms\n",
      "870:\tlearn: 3567288.0291038\ttotal: 7.19s\tremaining: 569ms\n",
      "871:\tlearn: 3566527.0826987\ttotal: 7.2s\tremaining: 561ms\n",
      "872:\tlearn: 3564417.8083468\ttotal: 7.21s\tremaining: 553ms\n",
      "873:\tlearn: 3561998.4256495\ttotal: 7.21s\tremaining: 545ms\n",
      "874:\tlearn: 3559919.7355980\ttotal: 7.22s\tremaining: 537ms\n",
      "875:\tlearn: 3558088.3167009\ttotal: 7.23s\tremaining: 528ms\n",
      "876:\tlearn: 3556404.4768589\ttotal: 7.24s\tremaining: 520ms\n",
      "877:\tlearn: 3554773.5688773\ttotal: 7.25s\tremaining: 512ms\n",
      "878:\tlearn: 3554640.3284928\ttotal: 7.25s\tremaining: 503ms\n",
      "879:\tlearn: 3553221.2948766\ttotal: 7.26s\tremaining: 495ms\n",
      "880:\tlearn: 3550874.7293619\ttotal: 7.27s\tremaining: 487ms\n",
      "881:\tlearn: 3549632.5641068\ttotal: 7.28s\tremaining: 479ms\n",
      "882:\tlearn: 3547192.2054537\ttotal: 7.29s\tremaining: 471ms\n",
      "883:\tlearn: 3545830.1330525\ttotal: 7.31s\tremaining: 463ms\n",
      "884:\tlearn: 3544408.5825459\ttotal: 7.33s\tremaining: 455ms\n",
      "885:\tlearn: 3543158.3045019\ttotal: 7.33s\tremaining: 447ms\n",
      "886:\tlearn: 3541320.2662917\ttotal: 7.34s\tremaining: 439ms\n",
      "887:\tlearn: 3538227.9598277\ttotal: 7.35s\tremaining: 430ms\n",
      "888:\tlearn: 3536115.6327128\ttotal: 7.36s\tremaining: 422ms\n",
      "889:\tlearn: 3533371.6280867\ttotal: 7.37s\tremaining: 414ms\n",
      "890:\tlearn: 3530910.1667635\ttotal: 7.38s\tremaining: 406ms\n",
      "891:\tlearn: 3528511.2461033\ttotal: 7.39s\tremaining: 397ms\n",
      "892:\tlearn: 3526561.3091630\ttotal: 7.39s\tremaining: 389ms\n",
      "893:\tlearn: 3526443.4646792\ttotal: 7.39s\tremaining: 381ms\n",
      "894:\tlearn: 3526158.0797967\ttotal: 7.4s\tremaining: 372ms\n",
      "895:\tlearn: 3524337.2153830\ttotal: 7.41s\tremaining: 364ms\n",
      "896:\tlearn: 3522387.4512402\ttotal: 7.42s\tremaining: 356ms\n",
      "897:\tlearn: 3520629.4495624\ttotal: 7.43s\tremaining: 347ms\n",
      "898:\tlearn: 3519020.3974443\ttotal: 7.43s\tremaining: 339ms\n",
      "899:\tlearn: 3517545.3833102\ttotal: 7.44s\tremaining: 331ms\n",
      "900:\tlearn: 3515253.7581462\ttotal: 7.45s\tremaining: 322ms\n",
      "901:\tlearn: 3512040.7771484\ttotal: 7.46s\tremaining: 314ms\n",
      "902:\tlearn: 3510640.6451321\ttotal: 7.46s\tremaining: 306ms\n",
      "903:\tlearn: 3509378.5594720\ttotal: 7.47s\tremaining: 297ms\n",
      "904:\tlearn: 3505598.4809048\ttotal: 7.48s\tremaining: 289ms\n",
      "905:\tlearn: 3503318.5763554\ttotal: 7.49s\tremaining: 281ms\n",
      "906:\tlearn: 3501454.0467188\ttotal: 7.49s\tremaining: 273ms\n",
      "907:\tlearn: 3499901.9061621\ttotal: 7.5s\tremaining: 264ms\n",
      "908:\tlearn: 3498963.5713886\ttotal: 7.52s\tremaining: 257ms\n",
      "909:\tlearn: 3497719.4223159\ttotal: 7.53s\tremaining: 248ms\n",
      "910:\tlearn: 3497041.9548576\ttotal: 7.54s\tremaining: 240ms\n",
      "911:\tlearn: 3494961.3482891\ttotal: 7.55s\tremaining: 232ms\n",
      "912:\tlearn: 3493426.8268348\ttotal: 7.56s\tremaining: 224ms\n",
      "913:\tlearn: 3491719.2275926\ttotal: 7.57s\tremaining: 215ms\n",
      "914:\tlearn: 3490743.8788579\ttotal: 7.57s\tremaining: 207ms\n",
      "915:\tlearn: 3487482.5981450\ttotal: 7.58s\tremaining: 199ms\n",
      "916:\tlearn: 3486380.7809600\ttotal: 7.59s\tremaining: 190ms\n",
      "917:\tlearn: 3485420.7353392\ttotal: 7.6s\tremaining: 182ms\n",
      "918:\tlearn: 3481085.8812631\ttotal: 7.61s\tremaining: 174ms\n",
      "919:\tlearn: 3479276.8716755\ttotal: 7.62s\tremaining: 166ms\n",
      "920:\tlearn: 3478163.3236811\ttotal: 7.63s\tremaining: 157ms\n",
      "921:\tlearn: 3477095.7178862\ttotal: 7.63s\tremaining: 149ms\n",
      "922:\tlearn: 3475827.4608144\ttotal: 7.64s\tremaining: 141ms\n",
      "923:\tlearn: 3474196.3054875\ttotal: 7.65s\tremaining: 132ms\n",
      "924:\tlearn: 3472286.5278382\ttotal: 7.66s\tremaining: 124ms\n",
      "925:\tlearn: 3470370.2328353\ttotal: 7.66s\tremaining: 116ms\n",
      "926:\tlearn: 3467629.5978301\ttotal: 7.67s\tremaining: 108ms\n",
      "927:\tlearn: 3466327.6570881\ttotal: 7.68s\tremaining: 99.3ms\n",
      "928:\tlearn: 3464278.7850531\ttotal: 7.69s\tremaining: 91ms\n",
      "929:\tlearn: 3463044.9102270\ttotal: 7.7s\tremaining: 82.8ms\n",
      "930:\tlearn: 3460235.3169775\ttotal: 7.71s\tremaining: 74.5ms\n",
      "931:\tlearn: 3459060.6329743\ttotal: 7.71s\tremaining: 66.2ms\n",
      "932:\tlearn: 3456321.1610953\ttotal: 7.72s\tremaining: 57.9ms\n",
      "933:\tlearn: 3454367.3289761\ttotal: 7.73s\tremaining: 49.7ms\n",
      "934:\tlearn: 3453172.7513709\ttotal: 7.74s\tremaining: 41.4ms\n",
      "935:\tlearn: 3452040.7230511\ttotal: 7.75s\tremaining: 33.1ms\n",
      "936:\tlearn: 3451600.9102960\ttotal: 7.76s\tremaining: 24.8ms\n",
      "937:\tlearn: 3449886.0354588\ttotal: 7.76s\tremaining: 16.6ms\n",
      "938:\tlearn: 3448439.3444267\ttotal: 7.77s\tremaining: 8.28ms\n",
      "939:\tlearn: 3447221.4900796\ttotal: 7.78s\tremaining: 0us\n",
      "\n",
      "====== Models After Hyper Parameter Tuning ======\n"
     ]
    },
    {
     "data": {
      "text/html": [
       "<div>\n",
       "<style scoped>\n",
       "    .dataframe tbody tr th:only-of-type {\n",
       "        vertical-align: middle;\n",
       "    }\n",
       "\n",
       "    .dataframe tbody tr th {\n",
       "        vertical-align: top;\n",
       "    }\n",
       "\n",
       "    .dataframe thead th {\n",
       "        text-align: right;\n",
       "    }\n",
       "</style>\n",
       "<table border=\"1\" class=\"dataframe\">\n",
       "  <thead>\n",
       "    <tr style=\"text-align: right;\">\n",
       "      <th></th>\n",
       "      <th>Model</th>\n",
       "      <th>MAE</th>\n",
       "      <th>MSE</th>\n",
       "      <th>RMSE</th>\n",
       "      <th>RMSLE</th>\n",
       "      <th>R2 Score</th>\n",
       "    </tr>\n",
       "  </thead>\n",
       "  <tbody>\n",
       "    <tr>\n",
       "      <th>0</th>\n",
       "      <td>CatBoost_tuned</td>\n",
       "      <td>3620686.62</td>\n",
       "      <td>50082968128629.12</td>\n",
       "      <td>7076932.11</td>\n",
       "      <td>0.64</td>\n",
       "      <td>0.82</td>\n",
       "    </tr>\n",
       "  </tbody>\n",
       "</table>\n",
       "</div>"
      ],
      "text/plain": [
       "            Model         MAE                MSE        RMSE RMSLE R2 Score\n",
       "0  CatBoost_tuned  3620686.62  50082968128629.12  7076932.11  0.64     0.82"
      ]
     },
     "execution_count": 39,
     "metadata": {},
     "output_type": "execute_result"
    }
   ],
   "source": [
    "cat_optuna = CatBoostRegressor(**study_cat.best_params)\n",
    "model_list([(\"CatBoost_tuned\", cat_optuna)], \"After\")"
   ]
  },
  {
   "cell_type": "markdown",
   "metadata": {},
   "source": [
    "#### `XGBoost`"
   ]
  },
  {
   "cell_type": "code",
   "execution_count": 40,
   "metadata": {},
   "outputs": [],
   "source": [
    "def objective_xgb(trial):\n",
    "    params = {\n",
    "        \"objective\": \"reg:squarederror\",\n",
    "        \"n_estimators\" : trial.suggest_int('n_estimators', 500, 4000),\n",
    "        \"verbosity\": 0,\n",
    "        \"learning_rate\": trial.suggest_float(\"learning_rate\", 1e-3, 0.1, log=True),\n",
    "        \"max_depth\": trial.suggest_int(\"max_depth\", 1, 10),\n",
    "        \"subsample\": trial.suggest_float(\"subsample\", 0.05, 1.0),\n",
    "        \"colsample_bytree\": trial.suggest_float(\"colsample_bytree\", 0.05, 1.0),\n",
    "        \"min_child_weight\": trial.suggest_int(\"min_child_weight\", 1, 20),\n",
    "    }\n",
    "\n",
    "    model = XGBRegressor(**params, random_state=42)\n",
    "    model.fit(X_train, y_train, verbose=False)\n",
    "    predictions = model.predict(X_test)\n",
    "    rmsle = get_rmsle(y_test, predictions)\n",
    "\n",
    "    return rmsle"
   ]
  },
  {
   "cell_type": "code",
   "execution_count": 41,
   "metadata": {},
   "outputs": [
    {
     "name": "stderr",
     "output_type": "stream",
     "text": [
      "[I 2024-05-12 20:44:41,258] A new study created in memory with name: no-name-1333f5c0-12fe-4c68-a7fe-3405bb7f219b\n",
      "[I 2024-05-12 20:44:43,611] Trial 0 finished with value: 0.7050247574495496 and parameters: {'n_estimators': 610, 'learning_rate': 0.0187422109855557, 'max_depth': 4, 'subsample': 0.5331421566064676, 'colsample_bytree': 0.9121881502297884, 'min_child_weight': 5}. Best is trial 0 with value: 0.7050247574495496.\n",
      "[I 2024-05-12 20:44:47,006] Trial 1 finished with value: 0.8560890185848851 and parameters: {'n_estimators': 1936, 'learning_rate': 0.03244160088734161, 'max_depth': 3, 'subsample': 0.12313091433735335, 'colsample_bytree': 0.3252638802680796, 'min_child_weight': 4}. Best is trial 0 with value: 0.7050247574495496.\n",
      "[I 2024-05-12 20:45:07,750] Trial 2 finished with value: 0.6987939140831612 and parameters: {'n_estimators': 3754, 'learning_rate': 0.04132765459466366, 'max_depth': 7, 'subsample': 0.8778875606783318, 'colsample_bytree': 0.8134884730541587, 'min_child_weight': 4}. Best is trial 2 with value: 0.6987939140831612.\n",
      "[I 2024-05-12 20:45:32,027] Trial 3 finished with value: 0.7452140071209885 and parameters: {'n_estimators': 3624, 'learning_rate': 0.011986281799901188, 'max_depth': 9, 'subsample': 0.9012867349273186, 'colsample_bytree': 0.35210330122327066, 'min_child_weight': 3}. Best is trial 2 with value: 0.6987939140831612.\n",
      "[I 2024-05-12 20:45:37,301] Trial 4 finished with value: 0.9509976349441963 and parameters: {'n_estimators': 1298, 'learning_rate': 0.007148510793512987, 'max_depth': 9, 'subsample': 0.8676940540935263, 'colsample_bytree': 0.056604524004631174, 'min_child_weight': 11}. Best is trial 2 with value: 0.6987939140831612.\n",
      "[I 2024-05-12 20:45:40,835] Trial 5 finished with value: 0.8584322191439044 and parameters: {'n_estimators': 1961, 'learning_rate': 0.0027810936979265548, 'max_depth': 2, 'subsample': 0.37073441283344655, 'colsample_bytree': 0.9457642187168932, 'min_child_weight': 7}. Best is trial 2 with value: 0.6987939140831612.\n",
      "[I 2024-05-12 20:45:47,867] Trial 6 finished with value: 0.7342520455509199 and parameters: {'n_estimators': 2316, 'learning_rate': 0.025470526233391178, 'max_depth': 4, 'subsample': 0.9731929785849126, 'colsample_bytree': 0.9643249301950056, 'min_child_weight': 6}. Best is trial 2 with value: 0.6987939140831612.\n",
      "[I 2024-05-12 20:45:52,083] Trial 7 finished with value: 0.7488612779439194 and parameters: {'n_estimators': 2240, 'learning_rate': 0.0039972068191218065, 'max_depth': 3, 'subsample': 0.08504259998680616, 'colsample_bytree': 0.629086117280902, 'min_child_weight': 11}. Best is trial 2 with value: 0.6987939140831612.\n",
      "[I 2024-05-12 20:45:55,257] Trial 8 finished with value: 1.002969826650959 and parameters: {'n_estimators': 680, 'learning_rate': 0.0036082193273637873, 'max_depth': 10, 'subsample': 0.2775837961336238, 'colsample_bytree': 0.18765012848666196, 'min_child_weight': 10}. Best is trial 2 with value: 0.6987939140831612.\n",
      "[I 2024-05-12 20:46:10,095] Trial 9 finished with value: 0.7581390200844778 and parameters: {'n_estimators': 3950, 'learning_rate': 0.0030486708834580683, 'max_depth': 7, 'subsample': 0.7735386345622817, 'colsample_bytree': 0.2757556667927797, 'min_child_weight': 15}. Best is trial 2 with value: 0.6987939140831612.\n",
      "[I 2024-05-12 20:46:24,528] Trial 10 finished with value: 0.7663439275554396 and parameters: {'n_estimators': 3144, 'learning_rate': 0.09014641611651211, 'max_depth': 6, 'subsample': 0.6500663219442422, 'colsample_bytree': 0.6894665030210763, 'min_child_weight': 1}. Best is trial 2 with value: 0.6987939140831612.\n",
      "[I 2024-05-12 20:46:26,846] Trial 11 finished with value: 0.6775867649893684 and parameters: {'n_estimators': 506, 'learning_rate': 0.04397173567702819, 'max_depth': 6, 'subsample': 0.5282616276488666, 'colsample_bytree': 0.7991788387784695, 'min_child_weight': 7}. Best is trial 11 with value: 0.6775867649893684.\n",
      "[I 2024-05-12 20:46:43,022] Trial 12 finished with value: 0.8136713545397443 and parameters: {'n_estimators': 3012, 'learning_rate': 0.08394055700072114, 'max_depth': 7, 'subsample': 0.6758831264094476, 'colsample_bytree': 0.7509770195103509, 'min_child_weight': 20}. Best is trial 11 with value: 0.6775867649893684.\n",
      "[I 2024-05-12 20:46:48,947] Trial 13 finished with value: 0.7530964800928249 and parameters: {'n_estimators': 1351, 'learning_rate': 0.03998281049250528, 'max_depth': 7, 'subsample': 0.4409411619895241, 'colsample_bytree': 0.4847895949163031, 'min_child_weight': 9}. Best is trial 11 with value: 0.6775867649893684.\n",
      "[I 2024-05-12 20:47:00,535] Trial 14 finished with value: 0.7716126643941337 and parameters: {'n_estimators': 2949, 'learning_rate': 0.04948183995043967, 'max_depth': 5, 'subsample': 0.5829637864552895, 'colsample_bytree': 0.8033480859603586, 'min_child_weight': 1}. Best is trial 11 with value: 0.6775867649893684.\n",
      "[I 2024-05-12 20:47:06,991] Trial 15 finished with value: 0.6560513241411298 and parameters: {'n_estimators': 1297, 'learning_rate': 0.01360007045156831, 'max_depth': 8, 'subsample': 0.7816825623480126, 'colsample_bytree': 0.5260025216795702, 'min_child_weight': 15}. Best is trial 15 with value: 0.6560513241411298.\n",
      "[I 2024-05-12 20:47:13,935] Trial 16 finished with value: 0.685623480205991 and parameters: {'n_estimators': 1045, 'learning_rate': 0.0014301571442349292, 'max_depth': 9, 'subsample': 0.7425956220516732, 'colsample_bytree': 0.5229272311737565, 'min_child_weight': 16}. Best is trial 15 with value: 0.6560513241411298.\n",
      "[I 2024-05-12 20:47:18,688] Trial 17 finished with value: 0.6658067988203481 and parameters: {'n_estimators': 964, 'learning_rate': 0.012823738684323396, 'max_depth': 8, 'subsample': 0.4093321940532649, 'colsample_bytree': 0.5658164941860635, 'min_child_weight': 14}. Best is trial 15 with value: 0.6560513241411298.\n",
      "[I 2024-05-12 20:47:25,514] Trial 18 finished with value: 0.704790789638211 and parameters: {'n_estimators': 1635, 'learning_rate': 0.008675810638413581, 'max_depth': 8, 'subsample': 0.25732330092227484, 'colsample_bytree': 0.438093634577228, 'min_child_weight': 14}. Best is trial 15 with value: 0.6560513241411298.\n",
      "[I 2024-05-12 20:47:31,748] Trial 19 finished with value: 0.6803492265085541 and parameters: {'n_estimators': 981, 'learning_rate': 0.016390940024491363, 'max_depth': 10, 'subsample': 0.4210404576224103, 'colsample_bytree': 0.6105331019703838, 'min_child_weight': 20}. Best is trial 15 with value: 0.6560513241411298.\n",
      "[I 2024-05-12 20:47:38,000] Trial 20 finished with value: 0.6617900064315024 and parameters: {'n_estimators': 1407, 'learning_rate': 0.006738587389128379, 'max_depth': 8, 'subsample': 0.22831047339275273, 'colsample_bytree': 0.5888074840960537, 'min_child_weight': 18}. Best is trial 15 with value: 0.6560513241411298.\n",
      "[I 2024-05-12 20:47:44,569] Trial 21 finished with value: 0.6694700252801636 and parameters: {'n_estimators': 1521, 'learning_rate': 0.006399933196370127, 'max_depth': 8, 'subsample': 0.21875783392982862, 'colsample_bytree': 0.5943400565091729, 'min_child_weight': 17}. Best is trial 15 with value: 0.6560513241411298.\n",
      "[I 2024-05-12 20:47:49,068] Trial 22 finished with value: 0.684979100532664 and parameters: {'n_estimators': 980, 'learning_rate': 0.011152913432711345, 'max_depth': 8, 'subsample': 0.3457814379042278, 'colsample_bytree': 0.4191434927328121, 'min_child_weight': 13}. Best is trial 15 with value: 0.6560513241411298.\n",
      "[I 2024-05-12 20:47:56,198] Trial 23 finished with value: 0.6859182210569422 and parameters: {'n_estimators': 1783, 'learning_rate': 0.006286885816712341, 'max_depth': 8, 'subsample': 0.1735332571627807, 'colsample_bytree': 0.5385491689580462, 'min_child_weight': 18}. Best is trial 15 with value: 0.6560513241411298.\n",
      "[I 2024-05-12 20:48:04,111] Trial 24 finished with value: 0.6511747508682267 and parameters: {'n_estimators': 1196, 'learning_rate': 0.013029874817864896, 'max_depth': 10, 'subsample': 0.4539325238666388, 'colsample_bytree': 0.6673211425224386, 'min_child_weight': 13}. Best is trial 24 with value: 0.6511747508682267.\n",
      "[I 2024-05-12 20:48:17,545] Trial 25 finished with value: 0.6870062897394354 and parameters: {'n_estimators': 2320, 'learning_rate': 0.019055749349426433, 'max_depth': 10, 'subsample': 0.31916062548628027, 'colsample_bytree': 0.6761216106637913, 'min_child_weight': 18}. Best is trial 24 with value: 0.6511747508682267.\n",
      "[I 2024-05-12 20:48:25,504] Trial 26 finished with value: 0.6378120512054563 and parameters: {'n_estimators': 1245, 'learning_rate': 0.005338679492821957, 'max_depth': 9, 'subsample': 0.47657941438505813, 'colsample_bytree': 0.7050046907622647, 'min_child_weight': 18}. Best is trial 26 with value: 0.6378120512054563.\n",
      "[I 2024-05-12 20:48:34,228] Trial 27 finished with value: 0.643497195741641 and parameters: {'n_estimators': 1206, 'learning_rate': 0.0014220834353280611, 'max_depth': 9, 'subsample': 0.4904273300416846, 'colsample_bytree': 0.721334384930303, 'min_child_weight': 13}. Best is trial 26 with value: 0.6378120512054563.\n",
      "[I 2024-05-12 20:48:44,913] Trial 28 finished with value: 0.6710840816669469 and parameters: {'n_estimators': 1140, 'learning_rate': 0.0010480038552445462, 'max_depth': 10, 'subsample': 0.47554178381684514, 'colsample_bytree': 0.8734516526929093, 'min_child_weight': 12}. Best is trial 26 with value: 0.6378120512054563.\n",
      "[I 2024-05-12 20:48:51,330] Trial 29 finished with value: 0.6535232118553951 and parameters: {'n_estimators': 795, 'learning_rate': 0.001829310266796715, 'max_depth': 9, 'subsample': 0.5607328921087464, 'colsample_bytree': 0.707323823727422, 'min_child_weight': 13}. Best is trial 26 with value: 0.6378120512054563.\n"
     ]
    }
   ],
   "source": [
    "study_xgb = optuna.create_study(direction='minimize', sampler=sampler)\n",
    "study_xgb.optimize(objective_xgb, n_trials=30)"
   ]
  },
  {
   "cell_type": "code",
   "execution_count": 42,
   "metadata": {},
   "outputs": [
    {
     "name": "stdout",
     "output_type": "stream",
     "text": [
      "Best hyperparameters:\n",
      "{'n_estimators': 1245, 'learning_rate': 0.005338679492821957, 'max_depth': 9, 'subsample': 0.47657941438505813, 'colsample_bytree': 0.7050046907622647, 'min_child_weight': 18}\n",
      "-----------------------------------------------------------------------------------------------------------------\n",
      "Best RMSLE:\n",
      "0.6378120512054563\n"
     ]
    }
   ],
   "source": [
    "print(\"Best hyperparameters:\", study_xgb.best_params, sep=\"\\n\")\n",
    "print(\"-----------------------------------------------------------------------------------------------------------------\")\n",
    "print(\"Best RMSLE:\", study_xgb.best_value, sep=\"\\n\")"
   ]
  },
  {
   "cell_type": "code",
   "execution_count": 43,
   "metadata": {},
   "outputs": [
    {
     "data": {
      "application/vnd.plotly.v1+json": {
       "config": {
        "plotlyServerURL": "https://plot.ly"
       },
       "data": [
        {
         "cliponaxis": false,
         "hovertemplate": [
          "subsample (FloatDistribution): 0.03143273947955601<extra></extra>",
          "learning_rate (FloatDistribution): 0.03198171597266386<extra></extra>",
          "min_child_weight (IntDistribution): 0.05643143910653531<extra></extra>",
          "max_depth (IntDistribution): 0.13804043583416037<extra></extra>",
          "n_estimators (IntDistribution): 0.14683951357623753<extra></extra>",
          "colsample_bytree (FloatDistribution): 0.5952741560308469<extra></extra>"
         ],
         "name": "Objective Value",
         "orientation": "h",
         "text": [
          "0.03",
          "0.03",
          "0.06",
          "0.14",
          "0.15",
          "0.60"
         ],
         "textposition": "outside",
         "type": "bar",
         "x": [
          0.03143273947955601,
          0.03198171597266386,
          0.05643143910653531,
          0.13804043583416037,
          0.14683951357623753,
          0.5952741560308469
         ],
         "y": [
          "subsample",
          "learning_rate",
          "min_child_weight",
          "max_depth",
          "n_estimators",
          "colsample_bytree"
         ]
        }
       ],
       "layout": {
        "template": {
         "data": {
          "bar": [
           {
            "error_x": {
             "color": "#2a3f5f"
            },
            "error_y": {
             "color": "#2a3f5f"
            },
            "marker": {
             "line": {
              "color": "#E5ECF6",
              "width": 0.5
             },
             "pattern": {
              "fillmode": "overlay",
              "size": 10,
              "solidity": 0.2
             }
            },
            "type": "bar"
           }
          ],
          "barpolar": [
           {
            "marker": {
             "line": {
              "color": "#E5ECF6",
              "width": 0.5
             },
             "pattern": {
              "fillmode": "overlay",
              "size": 10,
              "solidity": 0.2
             }
            },
            "type": "barpolar"
           }
          ],
          "carpet": [
           {
            "aaxis": {
             "endlinecolor": "#2a3f5f",
             "gridcolor": "white",
             "linecolor": "white",
             "minorgridcolor": "white",
             "startlinecolor": "#2a3f5f"
            },
            "baxis": {
             "endlinecolor": "#2a3f5f",
             "gridcolor": "white",
             "linecolor": "white",
             "minorgridcolor": "white",
             "startlinecolor": "#2a3f5f"
            },
            "type": "carpet"
           }
          ],
          "choropleth": [
           {
            "colorbar": {
             "outlinewidth": 0,
             "ticks": ""
            },
            "type": "choropleth"
           }
          ],
          "contour": [
           {
            "colorbar": {
             "outlinewidth": 0,
             "ticks": ""
            },
            "colorscale": [
             [
              0,
              "#0d0887"
             ],
             [
              0.1111111111111111,
              "#46039f"
             ],
             [
              0.2222222222222222,
              "#7201a8"
             ],
             [
              0.3333333333333333,
              "#9c179e"
             ],
             [
              0.4444444444444444,
              "#bd3786"
             ],
             [
              0.5555555555555556,
              "#d8576b"
             ],
             [
              0.6666666666666666,
              "#ed7953"
             ],
             [
              0.7777777777777778,
              "#fb9f3a"
             ],
             [
              0.8888888888888888,
              "#fdca26"
             ],
             [
              1,
              "#f0f921"
             ]
            ],
            "type": "contour"
           }
          ],
          "contourcarpet": [
           {
            "colorbar": {
             "outlinewidth": 0,
             "ticks": ""
            },
            "type": "contourcarpet"
           }
          ],
          "heatmap": [
           {
            "colorbar": {
             "outlinewidth": 0,
             "ticks": ""
            },
            "colorscale": [
             [
              0,
              "#0d0887"
             ],
             [
              0.1111111111111111,
              "#46039f"
             ],
             [
              0.2222222222222222,
              "#7201a8"
             ],
             [
              0.3333333333333333,
              "#9c179e"
             ],
             [
              0.4444444444444444,
              "#bd3786"
             ],
             [
              0.5555555555555556,
              "#d8576b"
             ],
             [
              0.6666666666666666,
              "#ed7953"
             ],
             [
              0.7777777777777778,
              "#fb9f3a"
             ],
             [
              0.8888888888888888,
              "#fdca26"
             ],
             [
              1,
              "#f0f921"
             ]
            ],
            "type": "heatmap"
           }
          ],
          "heatmapgl": [
           {
            "colorbar": {
             "outlinewidth": 0,
             "ticks": ""
            },
            "colorscale": [
             [
              0,
              "#0d0887"
             ],
             [
              0.1111111111111111,
              "#46039f"
             ],
             [
              0.2222222222222222,
              "#7201a8"
             ],
             [
              0.3333333333333333,
              "#9c179e"
             ],
             [
              0.4444444444444444,
              "#bd3786"
             ],
             [
              0.5555555555555556,
              "#d8576b"
             ],
             [
              0.6666666666666666,
              "#ed7953"
             ],
             [
              0.7777777777777778,
              "#fb9f3a"
             ],
             [
              0.8888888888888888,
              "#fdca26"
             ],
             [
              1,
              "#f0f921"
             ]
            ],
            "type": "heatmapgl"
           }
          ],
          "histogram": [
           {
            "marker": {
             "pattern": {
              "fillmode": "overlay",
              "size": 10,
              "solidity": 0.2
             }
            },
            "type": "histogram"
           }
          ],
          "histogram2d": [
           {
            "colorbar": {
             "outlinewidth": 0,
             "ticks": ""
            },
            "colorscale": [
             [
              0,
              "#0d0887"
             ],
             [
              0.1111111111111111,
              "#46039f"
             ],
             [
              0.2222222222222222,
              "#7201a8"
             ],
             [
              0.3333333333333333,
              "#9c179e"
             ],
             [
              0.4444444444444444,
              "#bd3786"
             ],
             [
              0.5555555555555556,
              "#d8576b"
             ],
             [
              0.6666666666666666,
              "#ed7953"
             ],
             [
              0.7777777777777778,
              "#fb9f3a"
             ],
             [
              0.8888888888888888,
              "#fdca26"
             ],
             [
              1,
              "#f0f921"
             ]
            ],
            "type": "histogram2d"
           }
          ],
          "histogram2dcontour": [
           {
            "colorbar": {
             "outlinewidth": 0,
             "ticks": ""
            },
            "colorscale": [
             [
              0,
              "#0d0887"
             ],
             [
              0.1111111111111111,
              "#46039f"
             ],
             [
              0.2222222222222222,
              "#7201a8"
             ],
             [
              0.3333333333333333,
              "#9c179e"
             ],
             [
              0.4444444444444444,
              "#bd3786"
             ],
             [
              0.5555555555555556,
              "#d8576b"
             ],
             [
              0.6666666666666666,
              "#ed7953"
             ],
             [
              0.7777777777777778,
              "#fb9f3a"
             ],
             [
              0.8888888888888888,
              "#fdca26"
             ],
             [
              1,
              "#f0f921"
             ]
            ],
            "type": "histogram2dcontour"
           }
          ],
          "mesh3d": [
           {
            "colorbar": {
             "outlinewidth": 0,
             "ticks": ""
            },
            "type": "mesh3d"
           }
          ],
          "parcoords": [
           {
            "line": {
             "colorbar": {
              "outlinewidth": 0,
              "ticks": ""
             }
            },
            "type": "parcoords"
           }
          ],
          "pie": [
           {
            "automargin": true,
            "type": "pie"
           }
          ],
          "scatter": [
           {
            "fillpattern": {
             "fillmode": "overlay",
             "size": 10,
             "solidity": 0.2
            },
            "type": "scatter"
           }
          ],
          "scatter3d": [
           {
            "line": {
             "colorbar": {
              "outlinewidth": 0,
              "ticks": ""
             }
            },
            "marker": {
             "colorbar": {
              "outlinewidth": 0,
              "ticks": ""
             }
            },
            "type": "scatter3d"
           }
          ],
          "scattercarpet": [
           {
            "marker": {
             "colorbar": {
              "outlinewidth": 0,
              "ticks": ""
             }
            },
            "type": "scattercarpet"
           }
          ],
          "scattergeo": [
           {
            "marker": {
             "colorbar": {
              "outlinewidth": 0,
              "ticks": ""
             }
            },
            "type": "scattergeo"
           }
          ],
          "scattergl": [
           {
            "marker": {
             "colorbar": {
              "outlinewidth": 0,
              "ticks": ""
             }
            },
            "type": "scattergl"
           }
          ],
          "scattermapbox": [
           {
            "marker": {
             "colorbar": {
              "outlinewidth": 0,
              "ticks": ""
             }
            },
            "type": "scattermapbox"
           }
          ],
          "scatterpolar": [
           {
            "marker": {
             "colorbar": {
              "outlinewidth": 0,
              "ticks": ""
             }
            },
            "type": "scatterpolar"
           }
          ],
          "scatterpolargl": [
           {
            "marker": {
             "colorbar": {
              "outlinewidth": 0,
              "ticks": ""
             }
            },
            "type": "scatterpolargl"
           }
          ],
          "scatterternary": [
           {
            "marker": {
             "colorbar": {
              "outlinewidth": 0,
              "ticks": ""
             }
            },
            "type": "scatterternary"
           }
          ],
          "surface": [
           {
            "colorbar": {
             "outlinewidth": 0,
             "ticks": ""
            },
            "colorscale": [
             [
              0,
              "#0d0887"
             ],
             [
              0.1111111111111111,
              "#46039f"
             ],
             [
              0.2222222222222222,
              "#7201a8"
             ],
             [
              0.3333333333333333,
              "#9c179e"
             ],
             [
              0.4444444444444444,
              "#bd3786"
             ],
             [
              0.5555555555555556,
              "#d8576b"
             ],
             [
              0.6666666666666666,
              "#ed7953"
             ],
             [
              0.7777777777777778,
              "#fb9f3a"
             ],
             [
              0.8888888888888888,
              "#fdca26"
             ],
             [
              1,
              "#f0f921"
             ]
            ],
            "type": "surface"
           }
          ],
          "table": [
           {
            "cells": {
             "fill": {
              "color": "#EBF0F8"
             },
             "line": {
              "color": "white"
             }
            },
            "header": {
             "fill": {
              "color": "#C8D4E3"
             },
             "line": {
              "color": "white"
             }
            },
            "type": "table"
           }
          ]
         },
         "layout": {
          "annotationdefaults": {
           "arrowcolor": "#2a3f5f",
           "arrowhead": 0,
           "arrowwidth": 1
          },
          "autotypenumbers": "strict",
          "coloraxis": {
           "colorbar": {
            "outlinewidth": 0,
            "ticks": ""
           }
          },
          "colorscale": {
           "diverging": [
            [
             0,
             "#8e0152"
            ],
            [
             0.1,
             "#c51b7d"
            ],
            [
             0.2,
             "#de77ae"
            ],
            [
             0.3,
             "#f1b6da"
            ],
            [
             0.4,
             "#fde0ef"
            ],
            [
             0.5,
             "#f7f7f7"
            ],
            [
             0.6,
             "#e6f5d0"
            ],
            [
             0.7,
             "#b8e186"
            ],
            [
             0.8,
             "#7fbc41"
            ],
            [
             0.9,
             "#4d9221"
            ],
            [
             1,
             "#276419"
            ]
           ],
           "sequential": [
            [
             0,
             "#0d0887"
            ],
            [
             0.1111111111111111,
             "#46039f"
            ],
            [
             0.2222222222222222,
             "#7201a8"
            ],
            [
             0.3333333333333333,
             "#9c179e"
            ],
            [
             0.4444444444444444,
             "#bd3786"
            ],
            [
             0.5555555555555556,
             "#d8576b"
            ],
            [
             0.6666666666666666,
             "#ed7953"
            ],
            [
             0.7777777777777778,
             "#fb9f3a"
            ],
            [
             0.8888888888888888,
             "#fdca26"
            ],
            [
             1,
             "#f0f921"
            ]
           ],
           "sequentialminus": [
            [
             0,
             "#0d0887"
            ],
            [
             0.1111111111111111,
             "#46039f"
            ],
            [
             0.2222222222222222,
             "#7201a8"
            ],
            [
             0.3333333333333333,
             "#9c179e"
            ],
            [
             0.4444444444444444,
             "#bd3786"
            ],
            [
             0.5555555555555556,
             "#d8576b"
            ],
            [
             0.6666666666666666,
             "#ed7953"
            ],
            [
             0.7777777777777778,
             "#fb9f3a"
            ],
            [
             0.8888888888888888,
             "#fdca26"
            ],
            [
             1,
             "#f0f921"
            ]
           ]
          },
          "colorway": [
           "#636efa",
           "#EF553B",
           "#00cc96",
           "#ab63fa",
           "#FFA15A",
           "#19d3f3",
           "#FF6692",
           "#B6E880",
           "#FF97FF",
           "#FECB52"
          ],
          "font": {
           "color": "#2a3f5f"
          },
          "geo": {
           "bgcolor": "white",
           "lakecolor": "white",
           "landcolor": "#E5ECF6",
           "showlakes": true,
           "showland": true,
           "subunitcolor": "white"
          },
          "hoverlabel": {
           "align": "left"
          },
          "hovermode": "closest",
          "mapbox": {
           "style": "light"
          },
          "paper_bgcolor": "white",
          "plot_bgcolor": "#E5ECF6",
          "polar": {
           "angularaxis": {
            "gridcolor": "white",
            "linecolor": "white",
            "ticks": ""
           },
           "bgcolor": "#E5ECF6",
           "radialaxis": {
            "gridcolor": "white",
            "linecolor": "white",
            "ticks": ""
           }
          },
          "scene": {
           "xaxis": {
            "backgroundcolor": "#E5ECF6",
            "gridcolor": "white",
            "gridwidth": 2,
            "linecolor": "white",
            "showbackground": true,
            "ticks": "",
            "zerolinecolor": "white"
           },
           "yaxis": {
            "backgroundcolor": "#E5ECF6",
            "gridcolor": "white",
            "gridwidth": 2,
            "linecolor": "white",
            "showbackground": true,
            "ticks": "",
            "zerolinecolor": "white"
           },
           "zaxis": {
            "backgroundcolor": "#E5ECF6",
            "gridcolor": "white",
            "gridwidth": 2,
            "linecolor": "white",
            "showbackground": true,
            "ticks": "",
            "zerolinecolor": "white"
           }
          },
          "shapedefaults": {
           "line": {
            "color": "#2a3f5f"
           }
          },
          "ternary": {
           "aaxis": {
            "gridcolor": "white",
            "linecolor": "white",
            "ticks": ""
           },
           "baxis": {
            "gridcolor": "white",
            "linecolor": "white",
            "ticks": ""
           },
           "bgcolor": "#E5ECF6",
           "caxis": {
            "gridcolor": "white",
            "linecolor": "white",
            "ticks": ""
           }
          },
          "title": {
           "x": 0.05
          },
          "xaxis": {
           "automargin": true,
           "gridcolor": "white",
           "linecolor": "white",
           "ticks": "",
           "title": {
            "standoff": 15
           },
           "zerolinecolor": "white",
           "zerolinewidth": 2
          },
          "yaxis": {
           "automargin": true,
           "gridcolor": "white",
           "linecolor": "white",
           "ticks": "",
           "title": {
            "standoff": 15
           },
           "zerolinecolor": "white",
           "zerolinewidth": 2
          }
         }
        },
        "title": {
         "text": "Hyperparameter Importances"
        },
        "xaxis": {
         "title": {
          "text": "Hyperparameter Importance"
         }
        },
        "yaxis": {
         "title": {
          "text": "Hyperparameter"
         }
        }
       }
      }
     },
     "metadata": {},
     "output_type": "display_data"
    }
   ],
   "source": [
    "# 하이퍼파라미터별 중요도를 확인할 수 있는 그래프\n",
    "optuna.visualization.plot_param_importances(study_xgb)"
   ]
  },
  {
   "cell_type": "code",
   "execution_count": 44,
   "metadata": {},
   "outputs": [
    {
     "data": {
      "application/vnd.plotly.v1+json": {
       "config": {
        "plotlyServerURL": "https://plot.ly"
       },
       "data": [
        {
         "mode": "markers",
         "name": "Objective Value",
         "type": "scatter",
         "x": [
          0,
          1,
          2,
          3,
          4,
          5,
          6,
          7,
          8,
          9,
          10,
          11,
          12,
          13,
          14,
          15,
          16,
          17,
          18,
          19,
          20,
          21,
          22,
          23,
          24,
          25,
          26,
          27,
          28,
          29
         ],
         "y": [
          0.7050247574495496,
          0.8560890185848851,
          0.6987939140831612,
          0.7452140071209885,
          0.9509976349441963,
          0.8584322191439044,
          0.7342520455509199,
          0.7488612779439194,
          1.002969826650959,
          0.7581390200844778,
          0.7663439275554396,
          0.6775867649893684,
          0.8136713545397443,
          0.7530964800928249,
          0.7716126643941337,
          0.6560513241411298,
          0.685623480205991,
          0.6658067988203481,
          0.704790789638211,
          0.6803492265085541,
          0.6617900064315024,
          0.6694700252801636,
          0.684979100532664,
          0.6859182210569422,
          0.6511747508682267,
          0.6870062897394354,
          0.6378120512054563,
          0.643497195741641,
          0.6710840816669469,
          0.6535232118553951
         ]
        },
        {
         "mode": "lines",
         "name": "Best Value",
         "type": "scatter",
         "x": [
          0,
          1,
          2,
          3,
          4,
          5,
          6,
          7,
          8,
          9,
          10,
          11,
          12,
          13,
          14,
          15,
          16,
          17,
          18,
          19,
          20,
          21,
          22,
          23,
          24,
          25,
          26,
          27,
          28,
          29
         ],
         "y": [
          0.7050247574495496,
          0.7050247574495496,
          0.6987939140831612,
          0.6987939140831612,
          0.6987939140831612,
          0.6987939140831612,
          0.6987939140831612,
          0.6987939140831612,
          0.6987939140831612,
          0.6987939140831612,
          0.6987939140831612,
          0.6775867649893684,
          0.6775867649893684,
          0.6775867649893684,
          0.6775867649893684,
          0.6560513241411298,
          0.6560513241411298,
          0.6560513241411298,
          0.6560513241411298,
          0.6560513241411298,
          0.6560513241411298,
          0.6560513241411298,
          0.6560513241411298,
          0.6560513241411298,
          0.6511747508682267,
          0.6511747508682267,
          0.6378120512054563,
          0.6378120512054563,
          0.6378120512054563,
          0.6378120512054563
         ]
        },
        {
         "marker": {
          "color": "#cccccc"
         },
         "mode": "markers",
         "name": "Infeasible Trial",
         "showlegend": false,
         "type": "scatter",
         "x": [],
         "y": []
        }
       ],
       "layout": {
        "template": {
         "data": {
          "bar": [
           {
            "error_x": {
             "color": "#2a3f5f"
            },
            "error_y": {
             "color": "#2a3f5f"
            },
            "marker": {
             "line": {
              "color": "#E5ECF6",
              "width": 0.5
             },
             "pattern": {
              "fillmode": "overlay",
              "size": 10,
              "solidity": 0.2
             }
            },
            "type": "bar"
           }
          ],
          "barpolar": [
           {
            "marker": {
             "line": {
              "color": "#E5ECF6",
              "width": 0.5
             },
             "pattern": {
              "fillmode": "overlay",
              "size": 10,
              "solidity": 0.2
             }
            },
            "type": "barpolar"
           }
          ],
          "carpet": [
           {
            "aaxis": {
             "endlinecolor": "#2a3f5f",
             "gridcolor": "white",
             "linecolor": "white",
             "minorgridcolor": "white",
             "startlinecolor": "#2a3f5f"
            },
            "baxis": {
             "endlinecolor": "#2a3f5f",
             "gridcolor": "white",
             "linecolor": "white",
             "minorgridcolor": "white",
             "startlinecolor": "#2a3f5f"
            },
            "type": "carpet"
           }
          ],
          "choropleth": [
           {
            "colorbar": {
             "outlinewidth": 0,
             "ticks": ""
            },
            "type": "choropleth"
           }
          ],
          "contour": [
           {
            "colorbar": {
             "outlinewidth": 0,
             "ticks": ""
            },
            "colorscale": [
             [
              0,
              "#0d0887"
             ],
             [
              0.1111111111111111,
              "#46039f"
             ],
             [
              0.2222222222222222,
              "#7201a8"
             ],
             [
              0.3333333333333333,
              "#9c179e"
             ],
             [
              0.4444444444444444,
              "#bd3786"
             ],
             [
              0.5555555555555556,
              "#d8576b"
             ],
             [
              0.6666666666666666,
              "#ed7953"
             ],
             [
              0.7777777777777778,
              "#fb9f3a"
             ],
             [
              0.8888888888888888,
              "#fdca26"
             ],
             [
              1,
              "#f0f921"
             ]
            ],
            "type": "contour"
           }
          ],
          "contourcarpet": [
           {
            "colorbar": {
             "outlinewidth": 0,
             "ticks": ""
            },
            "type": "contourcarpet"
           }
          ],
          "heatmap": [
           {
            "colorbar": {
             "outlinewidth": 0,
             "ticks": ""
            },
            "colorscale": [
             [
              0,
              "#0d0887"
             ],
             [
              0.1111111111111111,
              "#46039f"
             ],
             [
              0.2222222222222222,
              "#7201a8"
             ],
             [
              0.3333333333333333,
              "#9c179e"
             ],
             [
              0.4444444444444444,
              "#bd3786"
             ],
             [
              0.5555555555555556,
              "#d8576b"
             ],
             [
              0.6666666666666666,
              "#ed7953"
             ],
             [
              0.7777777777777778,
              "#fb9f3a"
             ],
             [
              0.8888888888888888,
              "#fdca26"
             ],
             [
              1,
              "#f0f921"
             ]
            ],
            "type": "heatmap"
           }
          ],
          "heatmapgl": [
           {
            "colorbar": {
             "outlinewidth": 0,
             "ticks": ""
            },
            "colorscale": [
             [
              0,
              "#0d0887"
             ],
             [
              0.1111111111111111,
              "#46039f"
             ],
             [
              0.2222222222222222,
              "#7201a8"
             ],
             [
              0.3333333333333333,
              "#9c179e"
             ],
             [
              0.4444444444444444,
              "#bd3786"
             ],
             [
              0.5555555555555556,
              "#d8576b"
             ],
             [
              0.6666666666666666,
              "#ed7953"
             ],
             [
              0.7777777777777778,
              "#fb9f3a"
             ],
             [
              0.8888888888888888,
              "#fdca26"
             ],
             [
              1,
              "#f0f921"
             ]
            ],
            "type": "heatmapgl"
           }
          ],
          "histogram": [
           {
            "marker": {
             "pattern": {
              "fillmode": "overlay",
              "size": 10,
              "solidity": 0.2
             }
            },
            "type": "histogram"
           }
          ],
          "histogram2d": [
           {
            "colorbar": {
             "outlinewidth": 0,
             "ticks": ""
            },
            "colorscale": [
             [
              0,
              "#0d0887"
             ],
             [
              0.1111111111111111,
              "#46039f"
             ],
             [
              0.2222222222222222,
              "#7201a8"
             ],
             [
              0.3333333333333333,
              "#9c179e"
             ],
             [
              0.4444444444444444,
              "#bd3786"
             ],
             [
              0.5555555555555556,
              "#d8576b"
             ],
             [
              0.6666666666666666,
              "#ed7953"
             ],
             [
              0.7777777777777778,
              "#fb9f3a"
             ],
             [
              0.8888888888888888,
              "#fdca26"
             ],
             [
              1,
              "#f0f921"
             ]
            ],
            "type": "histogram2d"
           }
          ],
          "histogram2dcontour": [
           {
            "colorbar": {
             "outlinewidth": 0,
             "ticks": ""
            },
            "colorscale": [
             [
              0,
              "#0d0887"
             ],
             [
              0.1111111111111111,
              "#46039f"
             ],
             [
              0.2222222222222222,
              "#7201a8"
             ],
             [
              0.3333333333333333,
              "#9c179e"
             ],
             [
              0.4444444444444444,
              "#bd3786"
             ],
             [
              0.5555555555555556,
              "#d8576b"
             ],
             [
              0.6666666666666666,
              "#ed7953"
             ],
             [
              0.7777777777777778,
              "#fb9f3a"
             ],
             [
              0.8888888888888888,
              "#fdca26"
             ],
             [
              1,
              "#f0f921"
             ]
            ],
            "type": "histogram2dcontour"
           }
          ],
          "mesh3d": [
           {
            "colorbar": {
             "outlinewidth": 0,
             "ticks": ""
            },
            "type": "mesh3d"
           }
          ],
          "parcoords": [
           {
            "line": {
             "colorbar": {
              "outlinewidth": 0,
              "ticks": ""
             }
            },
            "type": "parcoords"
           }
          ],
          "pie": [
           {
            "automargin": true,
            "type": "pie"
           }
          ],
          "scatter": [
           {
            "fillpattern": {
             "fillmode": "overlay",
             "size": 10,
             "solidity": 0.2
            },
            "type": "scatter"
           }
          ],
          "scatter3d": [
           {
            "line": {
             "colorbar": {
              "outlinewidth": 0,
              "ticks": ""
             }
            },
            "marker": {
             "colorbar": {
              "outlinewidth": 0,
              "ticks": ""
             }
            },
            "type": "scatter3d"
           }
          ],
          "scattercarpet": [
           {
            "marker": {
             "colorbar": {
              "outlinewidth": 0,
              "ticks": ""
             }
            },
            "type": "scattercarpet"
           }
          ],
          "scattergeo": [
           {
            "marker": {
             "colorbar": {
              "outlinewidth": 0,
              "ticks": ""
             }
            },
            "type": "scattergeo"
           }
          ],
          "scattergl": [
           {
            "marker": {
             "colorbar": {
              "outlinewidth": 0,
              "ticks": ""
             }
            },
            "type": "scattergl"
           }
          ],
          "scattermapbox": [
           {
            "marker": {
             "colorbar": {
              "outlinewidth": 0,
              "ticks": ""
             }
            },
            "type": "scattermapbox"
           }
          ],
          "scatterpolar": [
           {
            "marker": {
             "colorbar": {
              "outlinewidth": 0,
              "ticks": ""
             }
            },
            "type": "scatterpolar"
           }
          ],
          "scatterpolargl": [
           {
            "marker": {
             "colorbar": {
              "outlinewidth": 0,
              "ticks": ""
             }
            },
            "type": "scatterpolargl"
           }
          ],
          "scatterternary": [
           {
            "marker": {
             "colorbar": {
              "outlinewidth": 0,
              "ticks": ""
             }
            },
            "type": "scatterternary"
           }
          ],
          "surface": [
           {
            "colorbar": {
             "outlinewidth": 0,
             "ticks": ""
            },
            "colorscale": [
             [
              0,
              "#0d0887"
             ],
             [
              0.1111111111111111,
              "#46039f"
             ],
             [
              0.2222222222222222,
              "#7201a8"
             ],
             [
              0.3333333333333333,
              "#9c179e"
             ],
             [
              0.4444444444444444,
              "#bd3786"
             ],
             [
              0.5555555555555556,
              "#d8576b"
             ],
             [
              0.6666666666666666,
              "#ed7953"
             ],
             [
              0.7777777777777778,
              "#fb9f3a"
             ],
             [
              0.8888888888888888,
              "#fdca26"
             ],
             [
              1,
              "#f0f921"
             ]
            ],
            "type": "surface"
           }
          ],
          "table": [
           {
            "cells": {
             "fill": {
              "color": "#EBF0F8"
             },
             "line": {
              "color": "white"
             }
            },
            "header": {
             "fill": {
              "color": "#C8D4E3"
             },
             "line": {
              "color": "white"
             }
            },
            "type": "table"
           }
          ]
         },
         "layout": {
          "annotationdefaults": {
           "arrowcolor": "#2a3f5f",
           "arrowhead": 0,
           "arrowwidth": 1
          },
          "autotypenumbers": "strict",
          "coloraxis": {
           "colorbar": {
            "outlinewidth": 0,
            "ticks": ""
           }
          },
          "colorscale": {
           "diverging": [
            [
             0,
             "#8e0152"
            ],
            [
             0.1,
             "#c51b7d"
            ],
            [
             0.2,
             "#de77ae"
            ],
            [
             0.3,
             "#f1b6da"
            ],
            [
             0.4,
             "#fde0ef"
            ],
            [
             0.5,
             "#f7f7f7"
            ],
            [
             0.6,
             "#e6f5d0"
            ],
            [
             0.7,
             "#b8e186"
            ],
            [
             0.8,
             "#7fbc41"
            ],
            [
             0.9,
             "#4d9221"
            ],
            [
             1,
             "#276419"
            ]
           ],
           "sequential": [
            [
             0,
             "#0d0887"
            ],
            [
             0.1111111111111111,
             "#46039f"
            ],
            [
             0.2222222222222222,
             "#7201a8"
            ],
            [
             0.3333333333333333,
             "#9c179e"
            ],
            [
             0.4444444444444444,
             "#bd3786"
            ],
            [
             0.5555555555555556,
             "#d8576b"
            ],
            [
             0.6666666666666666,
             "#ed7953"
            ],
            [
             0.7777777777777778,
             "#fb9f3a"
            ],
            [
             0.8888888888888888,
             "#fdca26"
            ],
            [
             1,
             "#f0f921"
            ]
           ],
           "sequentialminus": [
            [
             0,
             "#0d0887"
            ],
            [
             0.1111111111111111,
             "#46039f"
            ],
            [
             0.2222222222222222,
             "#7201a8"
            ],
            [
             0.3333333333333333,
             "#9c179e"
            ],
            [
             0.4444444444444444,
             "#bd3786"
            ],
            [
             0.5555555555555556,
             "#d8576b"
            ],
            [
             0.6666666666666666,
             "#ed7953"
            ],
            [
             0.7777777777777778,
             "#fb9f3a"
            ],
            [
             0.8888888888888888,
             "#fdca26"
            ],
            [
             1,
             "#f0f921"
            ]
           ]
          },
          "colorway": [
           "#636efa",
           "#EF553B",
           "#00cc96",
           "#ab63fa",
           "#FFA15A",
           "#19d3f3",
           "#FF6692",
           "#B6E880",
           "#FF97FF",
           "#FECB52"
          ],
          "font": {
           "color": "#2a3f5f"
          },
          "geo": {
           "bgcolor": "white",
           "lakecolor": "white",
           "landcolor": "#E5ECF6",
           "showlakes": true,
           "showland": true,
           "subunitcolor": "white"
          },
          "hoverlabel": {
           "align": "left"
          },
          "hovermode": "closest",
          "mapbox": {
           "style": "light"
          },
          "paper_bgcolor": "white",
          "plot_bgcolor": "#E5ECF6",
          "polar": {
           "angularaxis": {
            "gridcolor": "white",
            "linecolor": "white",
            "ticks": ""
           },
           "bgcolor": "#E5ECF6",
           "radialaxis": {
            "gridcolor": "white",
            "linecolor": "white",
            "ticks": ""
           }
          },
          "scene": {
           "xaxis": {
            "backgroundcolor": "#E5ECF6",
            "gridcolor": "white",
            "gridwidth": 2,
            "linecolor": "white",
            "showbackground": true,
            "ticks": "",
            "zerolinecolor": "white"
           },
           "yaxis": {
            "backgroundcolor": "#E5ECF6",
            "gridcolor": "white",
            "gridwidth": 2,
            "linecolor": "white",
            "showbackground": true,
            "ticks": "",
            "zerolinecolor": "white"
           },
           "zaxis": {
            "backgroundcolor": "#E5ECF6",
            "gridcolor": "white",
            "gridwidth": 2,
            "linecolor": "white",
            "showbackground": true,
            "ticks": "",
            "zerolinecolor": "white"
           }
          },
          "shapedefaults": {
           "line": {
            "color": "#2a3f5f"
           }
          },
          "ternary": {
           "aaxis": {
            "gridcolor": "white",
            "linecolor": "white",
            "ticks": ""
           },
           "baxis": {
            "gridcolor": "white",
            "linecolor": "white",
            "ticks": ""
           },
           "bgcolor": "#E5ECF6",
           "caxis": {
            "gridcolor": "white",
            "linecolor": "white",
            "ticks": ""
           }
          },
          "title": {
           "x": 0.05
          },
          "xaxis": {
           "automargin": true,
           "gridcolor": "white",
           "linecolor": "white",
           "ticks": "",
           "title": {
            "standoff": 15
           },
           "zerolinecolor": "white",
           "zerolinewidth": 2
          },
          "yaxis": {
           "automargin": true,
           "gridcolor": "white",
           "linecolor": "white",
           "ticks": "",
           "title": {
            "standoff": 15
           },
           "zerolinecolor": "white",
           "zerolinewidth": 2
          }
         }
        },
        "title": {
         "text": "Optimization History Plot"
        },
        "xaxis": {
         "title": {
          "text": "Trial"
         }
        },
        "yaxis": {
         "title": {
          "text": "Objective Value"
         }
        }
       }
      }
     },
     "metadata": {},
     "output_type": "display_data"
    }
   ],
   "source": [
    "# 하이퍼파라미터 최적화 과정을 확인\n",
    "optuna.visualization.plot_optimization_history(study_xgb)"
   ]
  },
  {
   "cell_type": "code",
   "execution_count": 45,
   "metadata": {},
   "outputs": [
    {
     "name": "stdout",
     "output_type": "stream",
     "text": [
      "\n",
      "====== Models After Hyper Parameter Tuning ======\n"
     ]
    },
    {
     "data": {
      "text/html": [
       "<div>\n",
       "<style scoped>\n",
       "    .dataframe tbody tr th:only-of-type {\n",
       "        vertical-align: middle;\n",
       "    }\n",
       "\n",
       "    .dataframe tbody tr th {\n",
       "        vertical-align: top;\n",
       "    }\n",
       "\n",
       "    .dataframe thead th {\n",
       "        text-align: right;\n",
       "    }\n",
       "</style>\n",
       "<table border=\"1\" class=\"dataframe\">\n",
       "  <thead>\n",
       "    <tr style=\"text-align: right;\">\n",
       "      <th></th>\n",
       "      <th>Model</th>\n",
       "      <th>MAE</th>\n",
       "      <th>MSE</th>\n",
       "      <th>RMSE</th>\n",
       "      <th>RMSLE</th>\n",
       "      <th>R2 Score</th>\n",
       "    </tr>\n",
       "  </thead>\n",
       "  <tbody>\n",
       "    <tr>\n",
       "      <th>0</th>\n",
       "      <td>XGBoost_tuned</td>\n",
       "      <td>3839750.82</td>\n",
       "      <td>59691794416657.45</td>\n",
       "      <td>7726046.49</td>\n",
       "      <td>0.63</td>\n",
       "      <td>0.78</td>\n",
       "    </tr>\n",
       "  </tbody>\n",
       "</table>\n",
       "</div>"
      ],
      "text/plain": [
       "           Model         MAE                MSE        RMSE RMSLE R2 Score\n",
       "0  XGBoost_tuned  3839750.82  59691794416657.45  7726046.49  0.63     0.78"
      ]
     },
     "execution_count": 45,
     "metadata": {},
     "output_type": "execute_result"
    }
   ],
   "source": [
    "xgb_optuna = XGBRegressor(**study_xgb.best_params)\n",
    "model_list([(\"XGBoost_tuned\", xgb_optuna)], \"After\")"
   ]
  },
  {
   "cell_type": "markdown",
   "metadata": {},
   "source": [
    "#### `LightGBM`"
   ]
  },
  {
   "cell_type": "code",
   "execution_count": 46,
   "metadata": {},
   "outputs": [],
   "source": [
    "def objective_lgbm(trial):\n",
    "    params = {\n",
    "        \"objective\": \"regression\",\n",
    "        \"metric\": \"rmse\",\n",
    "        \"n_estimators\": trial.suggest_int('n_estimators', 500, 4000),\n",
    "        \"verbosity\": -1,\n",
    "        \"bagging_freq\": 1,\n",
    "        \"learning_rate\": trial.suggest_float(\"learning_rate\", 1e-3, 0.1, log=True),\n",
    "        \"num_leaves\": trial.suggest_int(\"num_leaves\", 2, 2**10),\n",
    "        \"subsample\": trial.suggest_float(\"subsample\", 0.05, 1.0),\n",
    "        \"colsample_bytree\": trial.suggest_float(\"colsample_bytree\", 0.05, 1.0),\n",
    "        \"min_data_in_leaf\": trial.suggest_int(\"min_data_in_leaf\", 1, 100),\n",
    "    }\n",
    "\n",
    "    model = LGBMRegressor(**params, random_state=42)\n",
    "    model.fit(X_train, y_train)\n",
    "    predictions = model.predict(X_test)\n",
    "    rmsle = get_rmsle(y_test, predictions)\n",
    "\n",
    "\n",
    "    return rmsle"
   ]
  },
  {
   "cell_type": "code",
   "execution_count": 47,
   "metadata": {},
   "outputs": [
    {
     "name": "stderr",
     "output_type": "stream",
     "text": [
      "[I 2024-05-12 20:49:01,501] A new study created in memory with name: no-name-9f88dacd-0d10-4116-a89c-1d36a37f116f\n"
     ]
    },
    {
     "name": "stderr",
     "output_type": "stream",
     "text": [
      "[I 2024-05-12 20:49:05,005] Trial 0 finished with value: 0.8323080127110625 and parameters: {'n_estimators': 1787, 'learning_rate': 0.018391267498289014, 'num_leaves': 650, 'subsample': 0.5589859498710206, 'colsample_bytree': 0.1357752815516879, 'min_data_in_leaf': 84}. Best is trial 0 with value: 0.8323080127110625.\n",
      "[I 2024-05-12 20:49:07,747] Trial 1 finished with value: 0.7313443310728845 and parameters: {'n_estimators': 1623, 'learning_rate': 0.0023606794572813066, 'num_leaves': 43, 'subsample': 0.6113482960288298, 'colsample_bytree': 0.6936861437501683, 'min_data_in_leaf': 2}. Best is trial 1 with value: 0.7313443310728845.\n",
      "[I 2024-05-12 20:49:11,920] Trial 2 finished with value: 0.6664629796192838 and parameters: {'n_estimators': 2292, 'learning_rate': 0.002837863814617626, 'num_leaves': 662, 'subsample': 0.21564810755474184, 'colsample_bytree': 0.7063908511973427, 'min_data_in_leaf': 39}. Best is trial 2 with value: 0.6664629796192838.\n",
      "[I 2024-05-12 20:49:15,226] Trial 3 finished with value: 0.7313219278447008 and parameters: {'n_estimators': 3779, 'learning_rate': 0.0018838307787619744, 'num_leaves': 350, 'subsample': 0.1577998451785596, 'colsample_bytree': 0.9284589373646347, 'min_data_in_leaf': 88}. Best is trial 2 with value: 0.6664629796192838.\n",
      "[I 2024-05-12 20:49:28,025] Trial 4 finished with value: 0.7605735631976308 and parameters: {'n_estimators': 1403, 'learning_rate': 0.020891426343856455, 'num_leaves': 838, 'subsample': 0.5774407710194892, 'colsample_bytree': 0.5531680494382062, 'min_data_in_leaf': 25}. Best is trial 2 with value: 0.6664629796192838.\n",
      "[I 2024-05-12 20:49:33,059] Trial 5 finished with value: 0.8440822822020995 and parameters: {'n_estimators': 825, 'learning_rate': 0.06229189113188561, 'num_leaves': 923, 'subsample': 0.6514463844096046, 'colsample_bytree': 0.37207830149626564, 'min_data_in_leaf': 35}. Best is trial 2 with value: 0.6664629796192838.\n",
      "[I 2024-05-12 20:50:35,620] Trial 6 finished with value: 0.7315613240500882 and parameters: {'n_estimators': 3041, 'learning_rate': 0.06226163482363463, 'num_leaves': 909, 'subsample': 0.7908817685647427, 'colsample_bytree': 0.6599300638465734, 'min_data_in_leaf': 9}. Best is trial 2 with value: 0.6664629796192838.\n",
      "[I 2024-05-12 20:50:36,139] Trial 7 finished with value: 0.8609960075967863 and parameters: {'n_estimators': 1065, 'learning_rate': 0.06267702540388488, 'num_leaves': 622, 'subsample': 0.05873719903579817, 'colsample_bytree': 0.1463979657227305, 'min_data_in_leaf': 67}. Best is trial 2 with value: 0.6664629796192838.\n",
      "[I 2024-05-12 20:50:39,486] Trial 8 finished with value: 1.1200734917590698 and parameters: {'n_estimators': 517, 'learning_rate': 0.002097085333143113, 'num_leaves': 563, 'subsample': 0.7073004378080586, 'colsample_bytree': 0.6693631965274706, 'min_data_in_leaf': 23}. Best is trial 2 with value: 0.6664629796192838.\n",
      "[I 2024-05-12 20:50:46,443] Trial 9 finished with value: 0.6503867970062382 and parameters: {'n_estimators': 2993, 'learning_rate': 0.0029819350171149347, 'num_leaves': 334, 'subsample': 0.759166834862123, 'colsample_bytree': 0.667151254094854, 'min_data_in_leaf': 85}. Best is trial 9 with value: 0.6503867970062382.\n",
      "[I 2024-05-12 20:50:56,876] Trial 10 finished with value: 0.663842553009561 and parameters: {'n_estimators': 2800, 'learning_rate': 0.006255099151959623, 'num_leaves': 319, 'subsample': 0.9332261305937902, 'colsample_bytree': 0.9412204852224804, 'min_data_in_leaf': 61}. Best is trial 9 with value: 0.6503867970062382.\n",
      "[I 2024-05-12 20:51:07,256] Trial 11 finished with value: 0.6903237657957396 and parameters: {'n_estimators': 2772, 'learning_rate': 0.006335880121976287, 'num_leaves': 279, 'subsample': 0.9781040832854553, 'colsample_bytree': 0.9696274793843228, 'min_data_in_leaf': 64}. Best is trial 9 with value: 0.6503867970062382.\n",
      "[I 2024-05-12 20:51:16,140] Trial 12 finished with value: 0.6764482770875595 and parameters: {'n_estimators': 3434, 'learning_rate': 0.006010581387385467, 'num_leaves': 283, 'subsample': 0.9981149449011189, 'colsample_bytree': 0.8456609448442974, 'min_data_in_leaf': 100}. Best is trial 9 with value: 0.6503867970062382.\n",
      "[I 2024-05-12 20:51:22,396] Trial 13 finished with value: 0.8130498892925396 and parameters: {'n_estimators': 2529, 'learning_rate': 0.0011374343355988734, 'num_leaves': 89, 'subsample': 0.855878754785938, 'colsample_bytree': 0.4289581412052062, 'min_data_in_leaf': 66}. Best is trial 9 with value: 0.6503867970062382.\n",
      "[I 2024-05-12 20:51:29,977] Trial 14 finished with value: 0.6749486263750021 and parameters: {'n_estimators': 3149, 'learning_rate': 0.005482783702298094, 'num_leaves': 454, 'subsample': 0.41253520831950063, 'colsample_bytree': 0.8266577266815927, 'min_data_in_leaf': 53}. Best is trial 9 with value: 0.6503867970062382.\n",
      "[I 2024-05-12 20:51:42,699] Trial 15 finished with value: 0.7101481350252681 and parameters: {'n_estimators': 3709, 'learning_rate': 0.010972879777282604, 'num_leaves': 177, 'subsample': 0.8511095160241513, 'colsample_bytree': 0.8337462401191255, 'min_data_in_leaf': 80}. Best is trial 9 with value: 0.6503867970062382.\n",
      "[I 2024-05-12 20:51:47,281] Trial 16 finished with value: 0.6879278349875313 and parameters: {'n_estimators': 2197, 'learning_rate': 0.00399295498193365, 'num_leaves': 432, 'subsample': 0.4215464075147128, 'colsample_bytree': 0.4807794455506006, 'min_data_in_leaf': 100}. Best is trial 9 with value: 0.6503867970062382.\n",
      "[I 2024-05-12 20:51:58,279] Trial 17 finished with value: 0.8639270476161369 and parameters: {'n_estimators': 2830, 'learning_rate': 0.011977523093198592, 'num_leaves': 186, 'subsample': 0.7474209546627465, 'colsample_bytree': 0.27776929212141305, 'min_data_in_leaf': 50}. Best is trial 9 with value: 0.6503867970062382.\n",
      "[I 2024-05-12 20:52:10,040] Trial 18 finished with value: 0.6739124238473356 and parameters: {'n_estimators': 3397, 'learning_rate': 0.0010872303142300094, 'num_leaves': 777, 'subsample': 0.9221376630758907, 'colsample_bytree': 0.5582551748298528, 'min_data_in_leaf': 75}. Best is trial 9 with value: 0.6503867970062382.\n",
      "[I 2024-05-12 20:52:19,278] Trial 19 finished with value: 0.7457787935540258 and parameters: {'n_estimators': 2044, 'learning_rate': 0.0336916493054695, 'num_leaves': 368, 'subsample': 0.8475221175084156, 'colsample_bytree': 0.7604668250110277, 'min_data_in_leaf': 49}. Best is trial 9 with value: 0.6503867970062382.\n",
      "[I 2024-05-12 20:52:24,816] Trial 20 finished with value: 0.6511218119212288 and parameters: {'n_estimators': 2536, 'learning_rate': 0.0033777073427027266, 'num_leaves': 186, 'subsample': 0.4724176890547538, 'colsample_bytree': 0.9215515664820655, 'min_data_in_leaf': 90}. Best is trial 9 with value: 0.6503867970062382.\n",
      "[I 2024-05-12 20:52:29,462] Trial 21 finished with value: 0.6514881313286296 and parameters: {'n_estimators': 2534, 'learning_rate': 0.003641851398471511, 'num_leaves': 154, 'subsample': 0.4206102586344741, 'colsample_bytree': 0.927240086425561, 'min_data_in_leaf': 91}. Best is trial 9 with value: 0.6503867970062382.\n",
      "[I 2024-05-12 20:52:35,926] Trial 22 finished with value: 0.6459875721145336 and parameters: {'n_estimators': 2436, 'learning_rate': 0.0034956693185660193, 'num_leaves': 196, 'subsample': 0.44191463378260454, 'colsample_bytree': 0.9983565779828419, 'min_data_in_leaf': 92}. Best is trial 22 with value: 0.6459875721145336.\n",
      "[I 2024-05-12 20:52:38,398] Trial 23 finished with value: 0.7037422192326162 and parameters: {'n_estimators': 2448, 'learning_rate': 0.0017151759927169499, 'num_leaves': 12, 'subsample': 0.3131433052790014, 'colsample_bytree': 0.9930528602891825, 'min_data_in_leaf': 92}. Best is trial 22 with value: 0.6459875721145336.\n",
      "[I 2024-05-12 20:52:43,629] Trial 24 finished with value: 0.6372956453834581 and parameters: {'n_estimators': 1809, 'learning_rate': 0.0037465770584115725, 'num_leaves': 229, 'subsample': 0.4837982574707694, 'colsample_bytree': 0.860635974488167, 'min_data_in_leaf': 77}. Best is trial 24 with value: 0.6372956453834581.\n",
      "[I 2024-05-12 20:52:46,618] Trial 25 finished with value: 0.7303839593710869 and parameters: {'n_estimators': 1926, 'learning_rate': 0.0014974433171992035, 'num_leaves': 245, 'subsample': 0.31702164500111435, 'colsample_bytree': 0.7898226364651648, 'min_data_in_leaf': 74}. Best is trial 24 with value: 0.6372956453834581.\n",
      "[I 2024-05-12 20:52:50,807] Trial 26 finished with value: 0.66210072037074 and parameters: {'n_estimators': 1333, 'learning_rate': 0.0043347593277868555, 'num_leaves': 424, 'subsample': 0.5000279582201539, 'colsample_bytree': 0.6095568095941746, 'min_data_in_leaf': 78}. Best is trial 24 with value: 0.6372956453834581.\n",
      "[I 2024-05-12 20:52:54,241] Trial 27 finished with value: 0.6560452749003112 and parameters: {'n_estimators': 1745, 'learning_rate': 0.008160019545346087, 'num_leaves': 504, 'subsample': 0.3250317022251363, 'colsample_bytree': 0.8662984278911205, 'min_data_in_leaf': 71}. Best is trial 24 with value: 0.6372956453834581.\n",
      "[I 2024-05-12 20:53:04,328] Trial 28 finished with value: 0.626879511370602 and parameters: {'n_estimators': 3162, 'learning_rate': 0.002483285435681272, 'num_leaves': 100, 'subsample': 0.6590829870608579, 'colsample_bytree': 0.7800080912868288, 'min_data_in_leaf': 56}. Best is trial 28 with value: 0.626879511370602.\n",
      "[I 2024-05-12 20:53:16,196] Trial 29 finished with value: 0.6353656375268748 and parameters: {'n_estimators': 3447, 'learning_rate': 0.0024908167737544974, 'num_leaves': 86, 'subsample': 0.5362337287749178, 'colsample_bytree': 0.7598026928069445, 'min_data_in_leaf': 57}. Best is trial 28 with value: 0.626879511370602.\n"
     ]
    }
   ],
   "source": [
    "study_lgbm = optuna.create_study(direction='minimize', sampler=sampler)\n",
    "study_lgbm.optimize(objective_lgbm, n_trials=30)"
   ]
  },
  {
   "cell_type": "code",
   "execution_count": 48,
   "metadata": {},
   "outputs": [
    {
     "name": "stdout",
     "output_type": "stream",
     "text": [
      "Best hyperparameters:\n",
      "{'n_estimators': 3162, 'learning_rate': 0.002483285435681272, 'num_leaves': 100, 'subsample': 0.6590829870608579, 'colsample_bytree': 0.7800080912868288, 'min_data_in_leaf': 56}\n",
      "-----------------------------------------------------------------------------------------------------------------\n",
      "Best RMSLE:\n",
      "0.626879511370602\n"
     ]
    }
   ],
   "source": [
    "print(\"Best hyperparameters:\", study_lgbm.best_params, sep=\"\\n\")\n",
    "print(\"-----------------------------------------------------------------------------------------------------------------\")\n",
    "print(\"Best RMSLE:\", study_lgbm.best_value, sep=\"\\n\")"
   ]
  },
  {
   "cell_type": "code",
   "execution_count": 49,
   "metadata": {},
   "outputs": [
    {
     "data": {
      "application/vnd.plotly.v1+json": {
       "config": {
        "plotlyServerURL": "https://plot.ly"
       },
       "data": [
        {
         "cliponaxis": false,
         "hovertemplate": [
          "subsample (FloatDistribution): 0.00749472571450216<extra></extra>",
          "num_leaves (IntDistribution): 0.007803952552947816<extra></extra>",
          "min_data_in_leaf (IntDistribution): 0.017704423598451337<extra></extra>",
          "learning_rate (FloatDistribution): 0.04606920598965983<extra></extra>",
          "n_estimators (IntDistribution): 0.36262054964386264<extra></extra>",
          "colsample_bytree (FloatDistribution): 0.5583071425005761<extra></extra>"
         ],
         "name": "Objective Value",
         "orientation": "h",
         "text": [
          "<0.01",
          "<0.01",
          "0.02",
          "0.05",
          "0.36",
          "0.56"
         ],
         "textposition": "outside",
         "type": "bar",
         "x": [
          0.00749472571450216,
          0.007803952552947816,
          0.017704423598451337,
          0.04606920598965983,
          0.36262054964386264,
          0.5583071425005761
         ],
         "y": [
          "subsample",
          "num_leaves",
          "min_data_in_leaf",
          "learning_rate",
          "n_estimators",
          "colsample_bytree"
         ]
        }
       ],
       "layout": {
        "template": {
         "data": {
          "bar": [
           {
            "error_x": {
             "color": "#2a3f5f"
            },
            "error_y": {
             "color": "#2a3f5f"
            },
            "marker": {
             "line": {
              "color": "#E5ECF6",
              "width": 0.5
             },
             "pattern": {
              "fillmode": "overlay",
              "size": 10,
              "solidity": 0.2
             }
            },
            "type": "bar"
           }
          ],
          "barpolar": [
           {
            "marker": {
             "line": {
              "color": "#E5ECF6",
              "width": 0.5
             },
             "pattern": {
              "fillmode": "overlay",
              "size": 10,
              "solidity": 0.2
             }
            },
            "type": "barpolar"
           }
          ],
          "carpet": [
           {
            "aaxis": {
             "endlinecolor": "#2a3f5f",
             "gridcolor": "white",
             "linecolor": "white",
             "minorgridcolor": "white",
             "startlinecolor": "#2a3f5f"
            },
            "baxis": {
             "endlinecolor": "#2a3f5f",
             "gridcolor": "white",
             "linecolor": "white",
             "minorgridcolor": "white",
             "startlinecolor": "#2a3f5f"
            },
            "type": "carpet"
           }
          ],
          "choropleth": [
           {
            "colorbar": {
             "outlinewidth": 0,
             "ticks": ""
            },
            "type": "choropleth"
           }
          ],
          "contour": [
           {
            "colorbar": {
             "outlinewidth": 0,
             "ticks": ""
            },
            "colorscale": [
             [
              0,
              "#0d0887"
             ],
             [
              0.1111111111111111,
              "#46039f"
             ],
             [
              0.2222222222222222,
              "#7201a8"
             ],
             [
              0.3333333333333333,
              "#9c179e"
             ],
             [
              0.4444444444444444,
              "#bd3786"
             ],
             [
              0.5555555555555556,
              "#d8576b"
             ],
             [
              0.6666666666666666,
              "#ed7953"
             ],
             [
              0.7777777777777778,
              "#fb9f3a"
             ],
             [
              0.8888888888888888,
              "#fdca26"
             ],
             [
              1,
              "#f0f921"
             ]
            ],
            "type": "contour"
           }
          ],
          "contourcarpet": [
           {
            "colorbar": {
             "outlinewidth": 0,
             "ticks": ""
            },
            "type": "contourcarpet"
           }
          ],
          "heatmap": [
           {
            "colorbar": {
             "outlinewidth": 0,
             "ticks": ""
            },
            "colorscale": [
             [
              0,
              "#0d0887"
             ],
             [
              0.1111111111111111,
              "#46039f"
             ],
             [
              0.2222222222222222,
              "#7201a8"
             ],
             [
              0.3333333333333333,
              "#9c179e"
             ],
             [
              0.4444444444444444,
              "#bd3786"
             ],
             [
              0.5555555555555556,
              "#d8576b"
             ],
             [
              0.6666666666666666,
              "#ed7953"
             ],
             [
              0.7777777777777778,
              "#fb9f3a"
             ],
             [
              0.8888888888888888,
              "#fdca26"
             ],
             [
              1,
              "#f0f921"
             ]
            ],
            "type": "heatmap"
           }
          ],
          "heatmapgl": [
           {
            "colorbar": {
             "outlinewidth": 0,
             "ticks": ""
            },
            "colorscale": [
             [
              0,
              "#0d0887"
             ],
             [
              0.1111111111111111,
              "#46039f"
             ],
             [
              0.2222222222222222,
              "#7201a8"
             ],
             [
              0.3333333333333333,
              "#9c179e"
             ],
             [
              0.4444444444444444,
              "#bd3786"
             ],
             [
              0.5555555555555556,
              "#d8576b"
             ],
             [
              0.6666666666666666,
              "#ed7953"
             ],
             [
              0.7777777777777778,
              "#fb9f3a"
             ],
             [
              0.8888888888888888,
              "#fdca26"
             ],
             [
              1,
              "#f0f921"
             ]
            ],
            "type": "heatmapgl"
           }
          ],
          "histogram": [
           {
            "marker": {
             "pattern": {
              "fillmode": "overlay",
              "size": 10,
              "solidity": 0.2
             }
            },
            "type": "histogram"
           }
          ],
          "histogram2d": [
           {
            "colorbar": {
             "outlinewidth": 0,
             "ticks": ""
            },
            "colorscale": [
             [
              0,
              "#0d0887"
             ],
             [
              0.1111111111111111,
              "#46039f"
             ],
             [
              0.2222222222222222,
              "#7201a8"
             ],
             [
              0.3333333333333333,
              "#9c179e"
             ],
             [
              0.4444444444444444,
              "#bd3786"
             ],
             [
              0.5555555555555556,
              "#d8576b"
             ],
             [
              0.6666666666666666,
              "#ed7953"
             ],
             [
              0.7777777777777778,
              "#fb9f3a"
             ],
             [
              0.8888888888888888,
              "#fdca26"
             ],
             [
              1,
              "#f0f921"
             ]
            ],
            "type": "histogram2d"
           }
          ],
          "histogram2dcontour": [
           {
            "colorbar": {
             "outlinewidth": 0,
             "ticks": ""
            },
            "colorscale": [
             [
              0,
              "#0d0887"
             ],
             [
              0.1111111111111111,
              "#46039f"
             ],
             [
              0.2222222222222222,
              "#7201a8"
             ],
             [
              0.3333333333333333,
              "#9c179e"
             ],
             [
              0.4444444444444444,
              "#bd3786"
             ],
             [
              0.5555555555555556,
              "#d8576b"
             ],
             [
              0.6666666666666666,
              "#ed7953"
             ],
             [
              0.7777777777777778,
              "#fb9f3a"
             ],
             [
              0.8888888888888888,
              "#fdca26"
             ],
             [
              1,
              "#f0f921"
             ]
            ],
            "type": "histogram2dcontour"
           }
          ],
          "mesh3d": [
           {
            "colorbar": {
             "outlinewidth": 0,
             "ticks": ""
            },
            "type": "mesh3d"
           }
          ],
          "parcoords": [
           {
            "line": {
             "colorbar": {
              "outlinewidth": 0,
              "ticks": ""
             }
            },
            "type": "parcoords"
           }
          ],
          "pie": [
           {
            "automargin": true,
            "type": "pie"
           }
          ],
          "scatter": [
           {
            "fillpattern": {
             "fillmode": "overlay",
             "size": 10,
             "solidity": 0.2
            },
            "type": "scatter"
           }
          ],
          "scatter3d": [
           {
            "line": {
             "colorbar": {
              "outlinewidth": 0,
              "ticks": ""
             }
            },
            "marker": {
             "colorbar": {
              "outlinewidth": 0,
              "ticks": ""
             }
            },
            "type": "scatter3d"
           }
          ],
          "scattercarpet": [
           {
            "marker": {
             "colorbar": {
              "outlinewidth": 0,
              "ticks": ""
             }
            },
            "type": "scattercarpet"
           }
          ],
          "scattergeo": [
           {
            "marker": {
             "colorbar": {
              "outlinewidth": 0,
              "ticks": ""
             }
            },
            "type": "scattergeo"
           }
          ],
          "scattergl": [
           {
            "marker": {
             "colorbar": {
              "outlinewidth": 0,
              "ticks": ""
             }
            },
            "type": "scattergl"
           }
          ],
          "scattermapbox": [
           {
            "marker": {
             "colorbar": {
              "outlinewidth": 0,
              "ticks": ""
             }
            },
            "type": "scattermapbox"
           }
          ],
          "scatterpolar": [
           {
            "marker": {
             "colorbar": {
              "outlinewidth": 0,
              "ticks": ""
             }
            },
            "type": "scatterpolar"
           }
          ],
          "scatterpolargl": [
           {
            "marker": {
             "colorbar": {
              "outlinewidth": 0,
              "ticks": ""
             }
            },
            "type": "scatterpolargl"
           }
          ],
          "scatterternary": [
           {
            "marker": {
             "colorbar": {
              "outlinewidth": 0,
              "ticks": ""
             }
            },
            "type": "scatterternary"
           }
          ],
          "surface": [
           {
            "colorbar": {
             "outlinewidth": 0,
             "ticks": ""
            },
            "colorscale": [
             [
              0,
              "#0d0887"
             ],
             [
              0.1111111111111111,
              "#46039f"
             ],
             [
              0.2222222222222222,
              "#7201a8"
             ],
             [
              0.3333333333333333,
              "#9c179e"
             ],
             [
              0.4444444444444444,
              "#bd3786"
             ],
             [
              0.5555555555555556,
              "#d8576b"
             ],
             [
              0.6666666666666666,
              "#ed7953"
             ],
             [
              0.7777777777777778,
              "#fb9f3a"
             ],
             [
              0.8888888888888888,
              "#fdca26"
             ],
             [
              1,
              "#f0f921"
             ]
            ],
            "type": "surface"
           }
          ],
          "table": [
           {
            "cells": {
             "fill": {
              "color": "#EBF0F8"
             },
             "line": {
              "color": "white"
             }
            },
            "header": {
             "fill": {
              "color": "#C8D4E3"
             },
             "line": {
              "color": "white"
             }
            },
            "type": "table"
           }
          ]
         },
         "layout": {
          "annotationdefaults": {
           "arrowcolor": "#2a3f5f",
           "arrowhead": 0,
           "arrowwidth": 1
          },
          "autotypenumbers": "strict",
          "coloraxis": {
           "colorbar": {
            "outlinewidth": 0,
            "ticks": ""
           }
          },
          "colorscale": {
           "diverging": [
            [
             0,
             "#8e0152"
            ],
            [
             0.1,
             "#c51b7d"
            ],
            [
             0.2,
             "#de77ae"
            ],
            [
             0.3,
             "#f1b6da"
            ],
            [
             0.4,
             "#fde0ef"
            ],
            [
             0.5,
             "#f7f7f7"
            ],
            [
             0.6,
             "#e6f5d0"
            ],
            [
             0.7,
             "#b8e186"
            ],
            [
             0.8,
             "#7fbc41"
            ],
            [
             0.9,
             "#4d9221"
            ],
            [
             1,
             "#276419"
            ]
           ],
           "sequential": [
            [
             0,
             "#0d0887"
            ],
            [
             0.1111111111111111,
             "#46039f"
            ],
            [
             0.2222222222222222,
             "#7201a8"
            ],
            [
             0.3333333333333333,
             "#9c179e"
            ],
            [
             0.4444444444444444,
             "#bd3786"
            ],
            [
             0.5555555555555556,
             "#d8576b"
            ],
            [
             0.6666666666666666,
             "#ed7953"
            ],
            [
             0.7777777777777778,
             "#fb9f3a"
            ],
            [
             0.8888888888888888,
             "#fdca26"
            ],
            [
             1,
             "#f0f921"
            ]
           ],
           "sequentialminus": [
            [
             0,
             "#0d0887"
            ],
            [
             0.1111111111111111,
             "#46039f"
            ],
            [
             0.2222222222222222,
             "#7201a8"
            ],
            [
             0.3333333333333333,
             "#9c179e"
            ],
            [
             0.4444444444444444,
             "#bd3786"
            ],
            [
             0.5555555555555556,
             "#d8576b"
            ],
            [
             0.6666666666666666,
             "#ed7953"
            ],
            [
             0.7777777777777778,
             "#fb9f3a"
            ],
            [
             0.8888888888888888,
             "#fdca26"
            ],
            [
             1,
             "#f0f921"
            ]
           ]
          },
          "colorway": [
           "#636efa",
           "#EF553B",
           "#00cc96",
           "#ab63fa",
           "#FFA15A",
           "#19d3f3",
           "#FF6692",
           "#B6E880",
           "#FF97FF",
           "#FECB52"
          ],
          "font": {
           "color": "#2a3f5f"
          },
          "geo": {
           "bgcolor": "white",
           "lakecolor": "white",
           "landcolor": "#E5ECF6",
           "showlakes": true,
           "showland": true,
           "subunitcolor": "white"
          },
          "hoverlabel": {
           "align": "left"
          },
          "hovermode": "closest",
          "mapbox": {
           "style": "light"
          },
          "paper_bgcolor": "white",
          "plot_bgcolor": "#E5ECF6",
          "polar": {
           "angularaxis": {
            "gridcolor": "white",
            "linecolor": "white",
            "ticks": ""
           },
           "bgcolor": "#E5ECF6",
           "radialaxis": {
            "gridcolor": "white",
            "linecolor": "white",
            "ticks": ""
           }
          },
          "scene": {
           "xaxis": {
            "backgroundcolor": "#E5ECF6",
            "gridcolor": "white",
            "gridwidth": 2,
            "linecolor": "white",
            "showbackground": true,
            "ticks": "",
            "zerolinecolor": "white"
           },
           "yaxis": {
            "backgroundcolor": "#E5ECF6",
            "gridcolor": "white",
            "gridwidth": 2,
            "linecolor": "white",
            "showbackground": true,
            "ticks": "",
            "zerolinecolor": "white"
           },
           "zaxis": {
            "backgroundcolor": "#E5ECF6",
            "gridcolor": "white",
            "gridwidth": 2,
            "linecolor": "white",
            "showbackground": true,
            "ticks": "",
            "zerolinecolor": "white"
           }
          },
          "shapedefaults": {
           "line": {
            "color": "#2a3f5f"
           }
          },
          "ternary": {
           "aaxis": {
            "gridcolor": "white",
            "linecolor": "white",
            "ticks": ""
           },
           "baxis": {
            "gridcolor": "white",
            "linecolor": "white",
            "ticks": ""
           },
           "bgcolor": "#E5ECF6",
           "caxis": {
            "gridcolor": "white",
            "linecolor": "white",
            "ticks": ""
           }
          },
          "title": {
           "x": 0.05
          },
          "xaxis": {
           "automargin": true,
           "gridcolor": "white",
           "linecolor": "white",
           "ticks": "",
           "title": {
            "standoff": 15
           },
           "zerolinecolor": "white",
           "zerolinewidth": 2
          },
          "yaxis": {
           "automargin": true,
           "gridcolor": "white",
           "linecolor": "white",
           "ticks": "",
           "title": {
            "standoff": 15
           },
           "zerolinecolor": "white",
           "zerolinewidth": 2
          }
         }
        },
        "title": {
         "text": "Hyperparameter Importances"
        },
        "xaxis": {
         "title": {
          "text": "Hyperparameter Importance"
         }
        },
        "yaxis": {
         "title": {
          "text": "Hyperparameter"
         }
        }
       }
      }
     },
     "metadata": {},
     "output_type": "display_data"
    }
   ],
   "source": [
    "# 하이퍼파라미터별 중요도를 확인할 수 있는 그래프\n",
    "optuna.visualization.plot_param_importances(study_lgbm)"
   ]
  },
  {
   "cell_type": "code",
   "execution_count": 50,
   "metadata": {},
   "outputs": [
    {
     "data": {
      "application/vnd.plotly.v1+json": {
       "config": {
        "plotlyServerURL": "https://plot.ly"
       },
       "data": [
        {
         "mode": "markers",
         "name": "Objective Value",
         "type": "scatter",
         "x": [
          0,
          1,
          2,
          3,
          4,
          5,
          6,
          7,
          8,
          9,
          10,
          11,
          12,
          13,
          14,
          15,
          16,
          17,
          18,
          19,
          20,
          21,
          22,
          23,
          24,
          25,
          26,
          27,
          28,
          29
         ],
         "y": [
          0.8323080127110625,
          0.7313443310728845,
          0.6664629796192838,
          0.7313219278447008,
          0.7605735631976308,
          0.8440822822020995,
          0.7315613240500882,
          0.8609960075967863,
          1.1200734917590698,
          0.6503867970062382,
          0.663842553009561,
          0.6903237657957396,
          0.6764482770875595,
          0.8130498892925396,
          0.6749486263750021,
          0.7101481350252681,
          0.6879278349875313,
          0.8639270476161369,
          0.6739124238473356,
          0.7457787935540258,
          0.6511218119212288,
          0.6514881313286296,
          0.6459875721145336,
          0.7037422192326162,
          0.6372956453834581,
          0.7303839593710869,
          0.66210072037074,
          0.6560452749003112,
          0.626879511370602,
          0.6353656375268748
         ]
        },
        {
         "mode": "lines",
         "name": "Best Value",
         "type": "scatter",
         "x": [
          0,
          1,
          2,
          3,
          4,
          5,
          6,
          7,
          8,
          9,
          10,
          11,
          12,
          13,
          14,
          15,
          16,
          17,
          18,
          19,
          20,
          21,
          22,
          23,
          24,
          25,
          26,
          27,
          28,
          29
         ],
         "y": [
          0.8323080127110625,
          0.7313443310728845,
          0.6664629796192838,
          0.6664629796192838,
          0.6664629796192838,
          0.6664629796192838,
          0.6664629796192838,
          0.6664629796192838,
          0.6664629796192838,
          0.6503867970062382,
          0.6503867970062382,
          0.6503867970062382,
          0.6503867970062382,
          0.6503867970062382,
          0.6503867970062382,
          0.6503867970062382,
          0.6503867970062382,
          0.6503867970062382,
          0.6503867970062382,
          0.6503867970062382,
          0.6503867970062382,
          0.6503867970062382,
          0.6459875721145336,
          0.6459875721145336,
          0.6372956453834581,
          0.6372956453834581,
          0.6372956453834581,
          0.6372956453834581,
          0.626879511370602,
          0.626879511370602
         ]
        },
        {
         "marker": {
          "color": "#cccccc"
         },
         "mode": "markers",
         "name": "Infeasible Trial",
         "showlegend": false,
         "type": "scatter",
         "x": [],
         "y": []
        }
       ],
       "layout": {
        "template": {
         "data": {
          "bar": [
           {
            "error_x": {
             "color": "#2a3f5f"
            },
            "error_y": {
             "color": "#2a3f5f"
            },
            "marker": {
             "line": {
              "color": "#E5ECF6",
              "width": 0.5
             },
             "pattern": {
              "fillmode": "overlay",
              "size": 10,
              "solidity": 0.2
             }
            },
            "type": "bar"
           }
          ],
          "barpolar": [
           {
            "marker": {
             "line": {
              "color": "#E5ECF6",
              "width": 0.5
             },
             "pattern": {
              "fillmode": "overlay",
              "size": 10,
              "solidity": 0.2
             }
            },
            "type": "barpolar"
           }
          ],
          "carpet": [
           {
            "aaxis": {
             "endlinecolor": "#2a3f5f",
             "gridcolor": "white",
             "linecolor": "white",
             "minorgridcolor": "white",
             "startlinecolor": "#2a3f5f"
            },
            "baxis": {
             "endlinecolor": "#2a3f5f",
             "gridcolor": "white",
             "linecolor": "white",
             "minorgridcolor": "white",
             "startlinecolor": "#2a3f5f"
            },
            "type": "carpet"
           }
          ],
          "choropleth": [
           {
            "colorbar": {
             "outlinewidth": 0,
             "ticks": ""
            },
            "type": "choropleth"
           }
          ],
          "contour": [
           {
            "colorbar": {
             "outlinewidth": 0,
             "ticks": ""
            },
            "colorscale": [
             [
              0,
              "#0d0887"
             ],
             [
              0.1111111111111111,
              "#46039f"
             ],
             [
              0.2222222222222222,
              "#7201a8"
             ],
             [
              0.3333333333333333,
              "#9c179e"
             ],
             [
              0.4444444444444444,
              "#bd3786"
             ],
             [
              0.5555555555555556,
              "#d8576b"
             ],
             [
              0.6666666666666666,
              "#ed7953"
             ],
             [
              0.7777777777777778,
              "#fb9f3a"
             ],
             [
              0.8888888888888888,
              "#fdca26"
             ],
             [
              1,
              "#f0f921"
             ]
            ],
            "type": "contour"
           }
          ],
          "contourcarpet": [
           {
            "colorbar": {
             "outlinewidth": 0,
             "ticks": ""
            },
            "type": "contourcarpet"
           }
          ],
          "heatmap": [
           {
            "colorbar": {
             "outlinewidth": 0,
             "ticks": ""
            },
            "colorscale": [
             [
              0,
              "#0d0887"
             ],
             [
              0.1111111111111111,
              "#46039f"
             ],
             [
              0.2222222222222222,
              "#7201a8"
             ],
             [
              0.3333333333333333,
              "#9c179e"
             ],
             [
              0.4444444444444444,
              "#bd3786"
             ],
             [
              0.5555555555555556,
              "#d8576b"
             ],
             [
              0.6666666666666666,
              "#ed7953"
             ],
             [
              0.7777777777777778,
              "#fb9f3a"
             ],
             [
              0.8888888888888888,
              "#fdca26"
             ],
             [
              1,
              "#f0f921"
             ]
            ],
            "type": "heatmap"
           }
          ],
          "heatmapgl": [
           {
            "colorbar": {
             "outlinewidth": 0,
             "ticks": ""
            },
            "colorscale": [
             [
              0,
              "#0d0887"
             ],
             [
              0.1111111111111111,
              "#46039f"
             ],
             [
              0.2222222222222222,
              "#7201a8"
             ],
             [
              0.3333333333333333,
              "#9c179e"
             ],
             [
              0.4444444444444444,
              "#bd3786"
             ],
             [
              0.5555555555555556,
              "#d8576b"
             ],
             [
              0.6666666666666666,
              "#ed7953"
             ],
             [
              0.7777777777777778,
              "#fb9f3a"
             ],
             [
              0.8888888888888888,
              "#fdca26"
             ],
             [
              1,
              "#f0f921"
             ]
            ],
            "type": "heatmapgl"
           }
          ],
          "histogram": [
           {
            "marker": {
             "pattern": {
              "fillmode": "overlay",
              "size": 10,
              "solidity": 0.2
             }
            },
            "type": "histogram"
           }
          ],
          "histogram2d": [
           {
            "colorbar": {
             "outlinewidth": 0,
             "ticks": ""
            },
            "colorscale": [
             [
              0,
              "#0d0887"
             ],
             [
              0.1111111111111111,
              "#46039f"
             ],
             [
              0.2222222222222222,
              "#7201a8"
             ],
             [
              0.3333333333333333,
              "#9c179e"
             ],
             [
              0.4444444444444444,
              "#bd3786"
             ],
             [
              0.5555555555555556,
              "#d8576b"
             ],
             [
              0.6666666666666666,
              "#ed7953"
             ],
             [
              0.7777777777777778,
              "#fb9f3a"
             ],
             [
              0.8888888888888888,
              "#fdca26"
             ],
             [
              1,
              "#f0f921"
             ]
            ],
            "type": "histogram2d"
           }
          ],
          "histogram2dcontour": [
           {
            "colorbar": {
             "outlinewidth": 0,
             "ticks": ""
            },
            "colorscale": [
             [
              0,
              "#0d0887"
             ],
             [
              0.1111111111111111,
              "#46039f"
             ],
             [
              0.2222222222222222,
              "#7201a8"
             ],
             [
              0.3333333333333333,
              "#9c179e"
             ],
             [
              0.4444444444444444,
              "#bd3786"
             ],
             [
              0.5555555555555556,
              "#d8576b"
             ],
             [
              0.6666666666666666,
              "#ed7953"
             ],
             [
              0.7777777777777778,
              "#fb9f3a"
             ],
             [
              0.8888888888888888,
              "#fdca26"
             ],
             [
              1,
              "#f0f921"
             ]
            ],
            "type": "histogram2dcontour"
           }
          ],
          "mesh3d": [
           {
            "colorbar": {
             "outlinewidth": 0,
             "ticks": ""
            },
            "type": "mesh3d"
           }
          ],
          "parcoords": [
           {
            "line": {
             "colorbar": {
              "outlinewidth": 0,
              "ticks": ""
             }
            },
            "type": "parcoords"
           }
          ],
          "pie": [
           {
            "automargin": true,
            "type": "pie"
           }
          ],
          "scatter": [
           {
            "fillpattern": {
             "fillmode": "overlay",
             "size": 10,
             "solidity": 0.2
            },
            "type": "scatter"
           }
          ],
          "scatter3d": [
           {
            "line": {
             "colorbar": {
              "outlinewidth": 0,
              "ticks": ""
             }
            },
            "marker": {
             "colorbar": {
              "outlinewidth": 0,
              "ticks": ""
             }
            },
            "type": "scatter3d"
           }
          ],
          "scattercarpet": [
           {
            "marker": {
             "colorbar": {
              "outlinewidth": 0,
              "ticks": ""
             }
            },
            "type": "scattercarpet"
           }
          ],
          "scattergeo": [
           {
            "marker": {
             "colorbar": {
              "outlinewidth": 0,
              "ticks": ""
             }
            },
            "type": "scattergeo"
           }
          ],
          "scattergl": [
           {
            "marker": {
             "colorbar": {
              "outlinewidth": 0,
              "ticks": ""
             }
            },
            "type": "scattergl"
           }
          ],
          "scattermapbox": [
           {
            "marker": {
             "colorbar": {
              "outlinewidth": 0,
              "ticks": ""
             }
            },
            "type": "scattermapbox"
           }
          ],
          "scatterpolar": [
           {
            "marker": {
             "colorbar": {
              "outlinewidth": 0,
              "ticks": ""
             }
            },
            "type": "scatterpolar"
           }
          ],
          "scatterpolargl": [
           {
            "marker": {
             "colorbar": {
              "outlinewidth": 0,
              "ticks": ""
             }
            },
            "type": "scatterpolargl"
           }
          ],
          "scatterternary": [
           {
            "marker": {
             "colorbar": {
              "outlinewidth": 0,
              "ticks": ""
             }
            },
            "type": "scatterternary"
           }
          ],
          "surface": [
           {
            "colorbar": {
             "outlinewidth": 0,
             "ticks": ""
            },
            "colorscale": [
             [
              0,
              "#0d0887"
             ],
             [
              0.1111111111111111,
              "#46039f"
             ],
             [
              0.2222222222222222,
              "#7201a8"
             ],
             [
              0.3333333333333333,
              "#9c179e"
             ],
             [
              0.4444444444444444,
              "#bd3786"
             ],
             [
              0.5555555555555556,
              "#d8576b"
             ],
             [
              0.6666666666666666,
              "#ed7953"
             ],
             [
              0.7777777777777778,
              "#fb9f3a"
             ],
             [
              0.8888888888888888,
              "#fdca26"
             ],
             [
              1,
              "#f0f921"
             ]
            ],
            "type": "surface"
           }
          ],
          "table": [
           {
            "cells": {
             "fill": {
              "color": "#EBF0F8"
             },
             "line": {
              "color": "white"
             }
            },
            "header": {
             "fill": {
              "color": "#C8D4E3"
             },
             "line": {
              "color": "white"
             }
            },
            "type": "table"
           }
          ]
         },
         "layout": {
          "annotationdefaults": {
           "arrowcolor": "#2a3f5f",
           "arrowhead": 0,
           "arrowwidth": 1
          },
          "autotypenumbers": "strict",
          "coloraxis": {
           "colorbar": {
            "outlinewidth": 0,
            "ticks": ""
           }
          },
          "colorscale": {
           "diverging": [
            [
             0,
             "#8e0152"
            ],
            [
             0.1,
             "#c51b7d"
            ],
            [
             0.2,
             "#de77ae"
            ],
            [
             0.3,
             "#f1b6da"
            ],
            [
             0.4,
             "#fde0ef"
            ],
            [
             0.5,
             "#f7f7f7"
            ],
            [
             0.6,
             "#e6f5d0"
            ],
            [
             0.7,
             "#b8e186"
            ],
            [
             0.8,
             "#7fbc41"
            ],
            [
             0.9,
             "#4d9221"
            ],
            [
             1,
             "#276419"
            ]
           ],
           "sequential": [
            [
             0,
             "#0d0887"
            ],
            [
             0.1111111111111111,
             "#46039f"
            ],
            [
             0.2222222222222222,
             "#7201a8"
            ],
            [
             0.3333333333333333,
             "#9c179e"
            ],
            [
             0.4444444444444444,
             "#bd3786"
            ],
            [
             0.5555555555555556,
             "#d8576b"
            ],
            [
             0.6666666666666666,
             "#ed7953"
            ],
            [
             0.7777777777777778,
             "#fb9f3a"
            ],
            [
             0.8888888888888888,
             "#fdca26"
            ],
            [
             1,
             "#f0f921"
            ]
           ],
           "sequentialminus": [
            [
             0,
             "#0d0887"
            ],
            [
             0.1111111111111111,
             "#46039f"
            ],
            [
             0.2222222222222222,
             "#7201a8"
            ],
            [
             0.3333333333333333,
             "#9c179e"
            ],
            [
             0.4444444444444444,
             "#bd3786"
            ],
            [
             0.5555555555555556,
             "#d8576b"
            ],
            [
             0.6666666666666666,
             "#ed7953"
            ],
            [
             0.7777777777777778,
             "#fb9f3a"
            ],
            [
             0.8888888888888888,
             "#fdca26"
            ],
            [
             1,
             "#f0f921"
            ]
           ]
          },
          "colorway": [
           "#636efa",
           "#EF553B",
           "#00cc96",
           "#ab63fa",
           "#FFA15A",
           "#19d3f3",
           "#FF6692",
           "#B6E880",
           "#FF97FF",
           "#FECB52"
          ],
          "font": {
           "color": "#2a3f5f"
          },
          "geo": {
           "bgcolor": "white",
           "lakecolor": "white",
           "landcolor": "#E5ECF6",
           "showlakes": true,
           "showland": true,
           "subunitcolor": "white"
          },
          "hoverlabel": {
           "align": "left"
          },
          "hovermode": "closest",
          "mapbox": {
           "style": "light"
          },
          "paper_bgcolor": "white",
          "plot_bgcolor": "#E5ECF6",
          "polar": {
           "angularaxis": {
            "gridcolor": "white",
            "linecolor": "white",
            "ticks": ""
           },
           "bgcolor": "#E5ECF6",
           "radialaxis": {
            "gridcolor": "white",
            "linecolor": "white",
            "ticks": ""
           }
          },
          "scene": {
           "xaxis": {
            "backgroundcolor": "#E5ECF6",
            "gridcolor": "white",
            "gridwidth": 2,
            "linecolor": "white",
            "showbackground": true,
            "ticks": "",
            "zerolinecolor": "white"
           },
           "yaxis": {
            "backgroundcolor": "#E5ECF6",
            "gridcolor": "white",
            "gridwidth": 2,
            "linecolor": "white",
            "showbackground": true,
            "ticks": "",
            "zerolinecolor": "white"
           },
           "zaxis": {
            "backgroundcolor": "#E5ECF6",
            "gridcolor": "white",
            "gridwidth": 2,
            "linecolor": "white",
            "showbackground": true,
            "ticks": "",
            "zerolinecolor": "white"
           }
          },
          "shapedefaults": {
           "line": {
            "color": "#2a3f5f"
           }
          },
          "ternary": {
           "aaxis": {
            "gridcolor": "white",
            "linecolor": "white",
            "ticks": ""
           },
           "baxis": {
            "gridcolor": "white",
            "linecolor": "white",
            "ticks": ""
           },
           "bgcolor": "#E5ECF6",
           "caxis": {
            "gridcolor": "white",
            "linecolor": "white",
            "ticks": ""
           }
          },
          "title": {
           "x": 0.05
          },
          "xaxis": {
           "automargin": true,
           "gridcolor": "white",
           "linecolor": "white",
           "ticks": "",
           "title": {
            "standoff": 15
           },
           "zerolinecolor": "white",
           "zerolinewidth": 2
          },
          "yaxis": {
           "automargin": true,
           "gridcolor": "white",
           "linecolor": "white",
           "ticks": "",
           "title": {
            "standoff": 15
           },
           "zerolinecolor": "white",
           "zerolinewidth": 2
          }
         }
        },
        "title": {
         "text": "Optimization History Plot"
        },
        "xaxis": {
         "title": {
          "text": "Trial"
         }
        },
        "yaxis": {
         "title": {
          "text": "Objective Value"
         }
        }
       }
      }
     },
     "metadata": {},
     "output_type": "display_data"
    }
   ],
   "source": [
    "# 하이퍼파라미터 최적화 과정을 확인\n",
    "optuna.visualization.plot_optimization_history(study_lgbm)"
   ]
  },
  {
   "cell_type": "code",
   "execution_count": 51,
   "metadata": {},
   "outputs": [
    {
     "name": "stdout",
     "output_type": "stream",
     "text": [
      "[LightGBM] [Warning] min_data_in_leaf is set=56, min_child_samples=20 will be ignored. Current value: min_data_in_leaf=56\n",
      "[LightGBM] [Warning] min_data_in_leaf is set=56, min_child_samples=20 will be ignored. Current value: min_data_in_leaf=56\n",
      "[LightGBM] [Info] Auto-choosing col-wise multi-threading, the overhead of testing was 0.000455 seconds.\n",
      "You can set `force_col_wise=true` to remove the overhead.\n",
      "[LightGBM] [Info] Total Bins 1230\n",
      "[LightGBM] [Info] Number of data points in the train set: 10466, number of used features: 12\n",
      "[LightGBM] [Info] Start training from score 8995590.483470\n",
      "[LightGBM] [Warning] min_data_in_leaf is set=56, min_child_samples=20 will be ignored. Current value: min_data_in_leaf=56\n",
      "[LightGBM] [Warning] min_data_in_leaf is set=56, min_child_samples=20 will be ignored. Current value: min_data_in_leaf=56\n",
      "[LightGBM] [Warning] min_data_in_leaf is set=56, min_child_samples=20 will be ignored. Current value: min_data_in_leaf=56\n",
      "[LightGBM] [Warning] min_data_in_leaf is set=56, min_child_samples=20 will be ignored. Current value: min_data_in_leaf=56\n",
      "\n",
      "====== Models After Hyper Parameter Tuning ======\n"
     ]
    },
    {
     "data": {
      "text/html": [
       "<div>\n",
       "<style scoped>\n",
       "    .dataframe tbody tr th:only-of-type {\n",
       "        vertical-align: middle;\n",
       "    }\n",
       "\n",
       "    .dataframe tbody tr th {\n",
       "        vertical-align: top;\n",
       "    }\n",
       "\n",
       "    .dataframe thead th {\n",
       "        text-align: right;\n",
       "    }\n",
       "</style>\n",
       "<table border=\"1\" class=\"dataframe\">\n",
       "  <thead>\n",
       "    <tr style=\"text-align: right;\">\n",
       "      <th></th>\n",
       "      <th>Model</th>\n",
       "      <th>MAE</th>\n",
       "      <th>MSE</th>\n",
       "      <th>RMSE</th>\n",
       "      <th>RMSLE</th>\n",
       "      <th>R2 Score</th>\n",
       "    </tr>\n",
       "  </thead>\n",
       "  <tbody>\n",
       "    <tr>\n",
       "      <th>0</th>\n",
       "      <td>LightGBM_tuned</td>\n",
       "      <td>3853679.65</td>\n",
       "      <td>60814712238048.47</td>\n",
       "      <td>7798378.82</td>\n",
       "      <td>0.64</td>\n",
       "      <td>0.78</td>\n",
       "    </tr>\n",
       "  </tbody>\n",
       "</table>\n",
       "</div>"
      ],
      "text/plain": [
       "            Model         MAE                MSE        RMSE RMSLE R2 Score\n",
       "0  LightGBM_tuned  3853679.65  60814712238048.47  7798378.82  0.64     0.78"
      ]
     },
     "execution_count": 51,
     "metadata": {},
     "output_type": "execute_result"
    }
   ],
   "source": [
    "lgbm_optuna = LGBMRegressor(**study_lgbm.best_params)\n",
    "model_list([(\"LightGBM_tuned\", lgbm_optuna)], \"After\")"
   ]
  },
  {
   "cell_type": "markdown",
   "metadata": {},
   "source": [
    "#### 튜닝한 모델들 비교"
   ]
  },
  {
   "cell_type": "code",
   "execution_count": 52,
   "metadata": {},
   "outputs": [],
   "source": [
    "models_tuned = models = [\n",
    "    (\"RandomForest_tuned\", rf_optuna),\n",
    "    (\"CatBoost_tuned\", cat_optuna),\n",
    "    (\"LightGBM_tuned\", lgbm_optuna),\n",
    "    (\"XGBoost_tuned\", xgb_optuna)\n",
    "]"
   ]
  },
  {
   "cell_type": "code",
   "execution_count": 53,
   "metadata": {},
   "outputs": [
    {
     "name": "stdout",
     "output_type": "stream",
     "text": [
      "0:\tlearn: 14134287.3155772\ttotal: 6.67ms\tremaining: 6.26s\n",
      "1:\tlearn: 13952371.7553692\ttotal: 16.7ms\tremaining: 7.84s\n",
      "2:\tlearn: 13759849.1736415\ttotal: 25.2ms\tremaining: 7.87s\n",
      "3:\tlearn: 13567769.7270536\ttotal: 33.6ms\tremaining: 7.87s\n",
      "4:\tlearn: 13401280.7454485\ttotal: 42.2ms\tremaining: 7.89s\n",
      "5:\tlearn: 13221776.3055441\ttotal: 49.8ms\tremaining: 7.76s\n",
      "6:\tlearn: 13038708.7906264\ttotal: 57.8ms\tremaining: 7.71s\n",
      "7:\tlearn: 12871424.2299574\ttotal: 66.8ms\tremaining: 7.78s\n",
      "8:\tlearn: 12693936.6145597\ttotal: 77ms\tremaining: 7.96s\n",
      "9:\tlearn: 12519237.8278544\ttotal: 84.1ms\tremaining: 7.82s\n",
      "10:\tlearn: 12353353.0358067\ttotal: 94.8ms\tremaining: 8.01s\n",
      "11:\tlearn: 12183932.4781118\ttotal: 102ms\tremaining: 7.88s\n",
      "12:\tlearn: 12023317.1849084\ttotal: 108ms\tremaining: 7.72s\n",
      "13:\tlearn: 11870757.1946311\ttotal: 117ms\tremaining: 7.72s\n",
      "14:\tlearn: 11724818.2085006\ttotal: 126ms\tremaining: 7.78s\n",
      "15:\tlearn: 11578598.7709454\ttotal: 134ms\tremaining: 7.74s\n",
      "16:\tlearn: 11448382.2655006\ttotal: 142ms\tremaining: 7.72s\n",
      "17:\tlearn: 11322091.7019004\ttotal: 150ms\tremaining: 7.67s\n",
      "18:\tlearn: 11188351.0847734\ttotal: 164ms\tremaining: 7.96s\n",
      "19:\tlearn: 11051935.1833498\ttotal: 174ms\tremaining: 7.99s\n",
      "20:\tlearn: 10918505.1478913\ttotal: 181ms\tremaining: 7.91s\n",
      "21:\tlearn: 10786759.0444300\ttotal: 188ms\tremaining: 7.85s\n",
      "22:\tlearn: 10671454.4276123\ttotal: 197ms\tremaining: 7.86s\n",
      "23:\tlearn: 10560515.2966723\ttotal: 206ms\tremaining: 7.85s\n",
      "24:\tlearn: 10441667.0773335\ttotal: 213ms\tremaining: 7.8s\n",
      "25:\tlearn: 10331777.2892120\ttotal: 223ms\tremaining: 7.85s\n",
      "26:\tlearn: 10214440.8517161\ttotal: 231ms\tremaining: 7.8s\n",
      "27:\tlearn: 10108763.3346897\ttotal: 242ms\tremaining: 7.87s\n",
      "28:\tlearn: 10016441.7269102\ttotal: 248ms\tremaining: 7.8s\n",
      "29:\tlearn: 9913990.8645800\ttotal: 260ms\tremaining: 7.88s\n",
      "30:\tlearn: 9821154.0427648\ttotal: 271ms\tremaining: 7.93s\n",
      "31:\tlearn: 9720936.5760966\ttotal: 278ms\tremaining: 7.89s\n",
      "32:\tlearn: 9631376.8288474\ttotal: 288ms\tremaining: 7.91s\n",
      "33:\tlearn: 9549236.0350112\ttotal: 293ms\tremaining: 7.8s\n",
      "34:\tlearn: 9464503.5671383\ttotal: 299ms\tremaining: 7.73s\n",
      "35:\tlearn: 9378423.1550539\ttotal: 307ms\tremaining: 7.71s\n",
      "36:\tlearn: 9288107.0476287\ttotal: 314ms\tremaining: 7.67s\n",
      "37:\tlearn: 9202219.9387344\ttotal: 322ms\tremaining: 7.63s\n",
      "38:\tlearn: 9120470.0076149\ttotal: 329ms\tremaining: 7.59s\n",
      "39:\tlearn: 9048778.8772541\ttotal: 337ms\tremaining: 7.58s\n",
      "40:\tlearn: 8973677.8471970\ttotal: 344ms\tremaining: 7.54s\n",
      "41:\tlearn: 8898435.3844529\ttotal: 352ms\tremaining: 7.52s\n",
      "42:\tlearn: 8824556.4516027\ttotal: 359ms\tremaining: 7.49s\n",
      "43:\tlearn: 8757170.9033500\ttotal: 368ms\tremaining: 7.49s\n",
      "44:\tlearn: 8685751.5908236\ttotal: 375ms\tremaining: 7.45s\n",
      "45:\tlearn: 8621979.4360594\ttotal: 384ms\tremaining: 7.47s\n",
      "46:\tlearn: 8550526.7534725\ttotal: 390ms\tremaining: 7.4s\n",
      "47:\tlearn: 8481088.4057836\ttotal: 395ms\tremaining: 7.35s\n",
      "48:\tlearn: 8424054.9349474\ttotal: 404ms\tremaining: 7.36s\n",
      "49:\tlearn: 8372131.9810865\ttotal: 413ms\tremaining: 7.35s\n",
      "50:\tlearn: 8321756.5760992\ttotal: 420ms\tremaining: 7.33s\n",
      "51:\tlearn: 8262572.1446439\ttotal: 428ms\tremaining: 7.31s\n",
      "52:\tlearn: 8202319.9916767\ttotal: 435ms\tremaining: 7.28s\n",
      "53:\tlearn: 8142211.7024649\ttotal: 442ms\tremaining: 7.26s\n",
      "54:\tlearn: 8090520.2545347\ttotal: 450ms\tremaining: 7.25s\n",
      "55:\tlearn: 8032730.6402319\ttotal: 458ms\tremaining: 7.22s\n",
      "56:\tlearn: 7974419.3115600\ttotal: 468ms\tremaining: 7.26s\n",
      "57:\tlearn: 7924800.5555839\ttotal: 477ms\tremaining: 7.25s\n",
      "58:\tlearn: 7874198.5510509\ttotal: 491ms\tremaining: 7.32s\n",
      "59:\tlearn: 7824473.4725504\ttotal: 502ms\tremaining: 7.36s\n",
      "60:\tlearn: 7777811.5109688\ttotal: 509ms\tremaining: 7.33s\n",
      "61:\tlearn: 7731304.5854756\ttotal: 518ms\tremaining: 7.34s\n",
      "62:\tlearn: 7685823.0604149\ttotal: 525ms\tremaining: 7.32s\n",
      "63:\tlearn: 7638676.7315038\ttotal: 536ms\tremaining: 7.33s\n",
      "64:\tlearn: 7597628.9864183\ttotal: 546ms\tremaining: 7.35s\n",
      "65:\tlearn: 7555251.4890889\ttotal: 553ms\tremaining: 7.32s\n",
      "66:\tlearn: 7516751.8690209\ttotal: 562ms\tremaining: 7.32s\n",
      "67:\tlearn: 7477986.9154769\ttotal: 569ms\tremaining: 7.3s\n",
      "68:\tlearn: 7437478.6450148\ttotal: 577ms\tremaining: 7.28s\n",
      "69:\tlearn: 7397813.8092471\ttotal: 585ms\tremaining: 7.26s\n",
      "70:\tlearn: 7356120.5993530\ttotal: 590ms\tremaining: 7.22s\n",
      "71:\tlearn: 7314189.4981052\ttotal: 600ms\tremaining: 7.23s\n",
      "72:\tlearn: 7272143.4219845\ttotal: 605ms\tremaining: 7.18s\n",
      "73:\tlearn: 7236722.3624439\ttotal: 613ms\tremaining: 7.17s\n",
      "74:\tlearn: 7196591.7099769\ttotal: 622ms\tremaining: 7.18s\n",
      "75:\tlearn: 7162770.5266548\ttotal: 630ms\tremaining: 7.16s\n",
      "76:\tlearn: 7127539.5759826\ttotal: 638ms\tremaining: 7.15s\n",
      "77:\tlearn: 7094294.9756949\ttotal: 647ms\tremaining: 7.15s\n",
      "78:\tlearn: 7064516.7933741\ttotal: 654ms\tremaining: 7.12s\n",
      "79:\tlearn: 7031628.2787696\ttotal: 663ms\tremaining: 7.12s\n",
      "80:\tlearn: 6999015.7721516\ttotal: 668ms\tremaining: 7.09s\n",
      "81:\tlearn: 6970738.1565628\ttotal: 678ms\tremaining: 7.09s\n",
      "82:\tlearn: 6940082.5201712\ttotal: 685ms\tremaining: 7.08s\n",
      "83:\tlearn: 6914310.1773970\ttotal: 694ms\tremaining: 7.07s\n",
      "84:\tlearn: 6886490.2023386\ttotal: 701ms\tremaining: 7.05s\n",
      "85:\tlearn: 6854662.8754791\ttotal: 710ms\tremaining: 7.05s\n",
      "86:\tlearn: 6830822.0300474\ttotal: 717ms\tremaining: 7.03s\n",
      "87:\tlearn: 6807000.4388389\ttotal: 728ms\tremaining: 7.05s\n",
      "88:\tlearn: 6783024.7560718\ttotal: 735ms\tremaining: 7.03s\n",
      "89:\tlearn: 6753914.1654389\ttotal: 745ms\tremaining: 7.04s\n",
      "90:\tlearn: 6727379.0252337\ttotal: 753ms\tremaining: 7.03s\n",
      "91:\tlearn: 6706027.0560960\ttotal: 761ms\tremaining: 7.02s\n",
      "92:\tlearn: 6684161.4779599\ttotal: 769ms\tremaining: 7s\n",
      "93:\tlearn: 6662356.3319449\ttotal: 777ms\tremaining: 6.99s\n",
      "94:\tlearn: 6638204.0869443\ttotal: 783ms\tremaining: 6.97s\n",
      "95:\tlearn: 6619065.8203775\ttotal: 789ms\tremaining: 6.93s\n",
      "96:\tlearn: 6598759.5269648\ttotal: 796ms\tremaining: 6.92s\n",
      "97:\tlearn: 6576316.6709618\ttotal: 803ms\tremaining: 6.9s\n",
      "98:\tlearn: 6559174.8428264\ttotal: 812ms\tremaining: 6.9s\n",
      "99:\tlearn: 6537748.6179913\ttotal: 821ms\tremaining: 6.89s\n",
      "100:\tlearn: 6517082.1656402\ttotal: 827ms\tremaining: 6.87s\n",
      "101:\tlearn: 6499884.3560596\ttotal: 835ms\tremaining: 6.86s\n",
      "102:\tlearn: 6480376.1043098\ttotal: 844ms\tremaining: 6.86s\n",
      "103:\tlearn: 6463408.8076088\ttotal: 853ms\tremaining: 6.86s\n",
      "104:\tlearn: 6446805.1021685\ttotal: 861ms\tremaining: 6.84s\n",
      "105:\tlearn: 6425498.2248953\ttotal: 870ms\tremaining: 6.84s\n",
      "106:\tlearn: 6411562.8915323\ttotal: 877ms\tremaining: 6.83s\n",
      "107:\tlearn: 6391522.8015013\ttotal: 887ms\tremaining: 6.83s\n",
      "108:\tlearn: 6373604.9659163\ttotal: 895ms\tremaining: 6.82s\n",
      "109:\tlearn: 6356770.0539596\ttotal: 908ms\tremaining: 6.85s\n",
      "110:\tlearn: 6339221.4557000\ttotal: 916ms\tremaining: 6.84s\n",
      "111:\tlearn: 6323941.4701749\ttotal: 925ms\tremaining: 6.83s\n",
      "112:\tlearn: 6308074.3292331\ttotal: 935ms\tremaining: 6.84s\n",
      "113:\tlearn: 6288858.3921936\ttotal: 943ms\tremaining: 6.83s\n",
      "114:\tlearn: 6274633.3703938\ttotal: 952ms\tremaining: 6.83s\n",
      "115:\tlearn: 6256824.5203302\ttotal: 960ms\tremaining: 6.82s\n",
      "116:\tlearn: 6239912.1797250\ttotal: 973ms\tremaining: 6.85s\n",
      "117:\tlearn: 6223584.0923337\ttotal: 986ms\tremaining: 6.87s\n",
      "118:\tlearn: 6209595.9409813\ttotal: 995ms\tremaining: 6.86s\n",
      "119:\tlearn: 6196256.8647547\ttotal: 1s\tremaining: 6.87s\n",
      "120:\tlearn: 6181915.3718763\ttotal: 1.01s\tremaining: 6.88s\n",
      "121:\tlearn: 6167322.8199972\ttotal: 1.02s\tremaining: 6.87s\n",
      "122:\tlearn: 6154148.1768948\ttotal: 1.03s\tremaining: 6.87s\n",
      "123:\tlearn: 6140942.4550980\ttotal: 1.04s\tremaining: 6.86s\n",
      "124:\tlearn: 6127442.8157125\ttotal: 1.05s\tremaining: 6.88s\n",
      "125:\tlearn: 6111301.4349417\ttotal: 1.07s\tremaining: 6.89s\n",
      "126:\tlearn: 6097187.7015398\ttotal: 1.07s\tremaining: 6.88s\n",
      "127:\tlearn: 6084452.6748951\ttotal: 1.08s\tremaining: 6.88s\n",
      "128:\tlearn: 6070710.5971947\ttotal: 1.09s\tremaining: 6.87s\n",
      "129:\tlearn: 6055694.9294253\ttotal: 1.1s\tremaining: 6.88s\n",
      "130:\tlearn: 6043530.4461995\ttotal: 1.12s\tremaining: 6.94s\n",
      "131:\tlearn: 6031564.9691097\ttotal: 1.14s\tremaining: 6.95s\n",
      "132:\tlearn: 6020889.6555805\ttotal: 1.15s\tremaining: 6.95s\n",
      "133:\tlearn: 6008960.7281158\ttotal: 1.16s\tremaining: 6.95s\n",
      "134:\tlearn: 5999198.4862446\ttotal: 1.17s\tremaining: 6.95s\n",
      "135:\tlearn: 5990088.7269837\ttotal: 1.17s\tremaining: 6.93s\n",
      "136:\tlearn: 5979516.3394211\ttotal: 1.18s\tremaining: 6.92s\n",
      "137:\tlearn: 5964905.2643238\ttotal: 1.19s\tremaining: 6.91s\n",
      "138:\tlearn: 5951053.7373576\ttotal: 1.2s\tremaining: 6.9s\n",
      "139:\tlearn: 5942841.1265422\ttotal: 1.2s\tremaining: 6.87s\n",
      "140:\tlearn: 5929845.6296248\ttotal: 1.21s\tremaining: 6.88s\n",
      "141:\tlearn: 5920448.9301824\ttotal: 1.22s\tremaining: 6.86s\n",
      "142:\tlearn: 5909811.1883206\ttotal: 1.23s\tremaining: 6.87s\n",
      "143:\tlearn: 5900194.2496472\ttotal: 1.24s\tremaining: 6.87s\n",
      "144:\tlearn: 5890466.4210868\ttotal: 1.25s\tremaining: 6.86s\n",
      "145:\tlearn: 5879495.5542621\ttotal: 1.26s\tremaining: 6.83s\n",
      "146:\tlearn: 5871859.0630769\ttotal: 1.27s\tremaining: 6.84s\n",
      "147:\tlearn: 5863203.8030080\ttotal: 1.28s\tremaining: 6.86s\n",
      "148:\tlearn: 5854962.2080817\ttotal: 1.29s\tremaining: 6.85s\n",
      "149:\tlearn: 5844776.6956198\ttotal: 1.3s\tremaining: 6.84s\n",
      "150:\tlearn: 5836089.2688262\ttotal: 1.31s\tremaining: 6.83s\n",
      "151:\tlearn: 5828520.1450617\ttotal: 1.32s\tremaining: 6.84s\n",
      "152:\tlearn: 5819250.0261148\ttotal: 1.33s\tremaining: 6.85s\n",
      "153:\tlearn: 5811931.7442345\ttotal: 1.34s\tremaining: 6.85s\n",
      "154:\tlearn: 5800409.0589934\ttotal: 1.36s\tremaining: 6.87s\n",
      "155:\tlearn: 5791030.0166856\ttotal: 1.37s\tremaining: 6.87s\n",
      "156:\tlearn: 5782021.8181963\ttotal: 1.38s\tremaining: 6.88s\n",
      "157:\tlearn: 5774585.9522452\ttotal: 1.39s\tremaining: 6.87s\n",
      "158:\tlearn: 5767173.7473987\ttotal: 1.4s\tremaining: 6.87s\n",
      "159:\tlearn: 5756268.7346490\ttotal: 1.41s\tremaining: 6.87s\n",
      "160:\tlearn: 5745529.0325524\ttotal: 1.42s\tremaining: 6.86s\n",
      "161:\tlearn: 5736830.6634861\ttotal: 1.43s\tremaining: 6.88s\n",
      "162:\tlearn: 5731477.8537506\ttotal: 1.55s\tremaining: 7.39s\n",
      "163:\tlearn: 5722635.3645244\ttotal: 1.58s\tremaining: 7.46s\n",
      "164:\tlearn: 5714106.1878859\ttotal: 1.58s\tremaining: 7.44s\n",
      "165:\tlearn: 5706269.7417585\ttotal: 1.59s\tremaining: 7.43s\n",
      "166:\tlearn: 5700591.3162007\ttotal: 1.6s\tremaining: 7.41s\n",
      "167:\tlearn: 5695089.1793575\ttotal: 1.61s\tremaining: 7.4s\n",
      "168:\tlearn: 5686994.3667443\ttotal: 1.62s\tremaining: 7.39s\n",
      "169:\tlearn: 5681275.0393704\ttotal: 1.62s\tremaining: 7.36s\n",
      "170:\tlearn: 5672172.7562645\ttotal: 1.63s\tremaining: 7.34s\n",
      "171:\tlearn: 5665937.9507979\ttotal: 1.64s\tremaining: 7.32s\n",
      "172:\tlearn: 5658013.5410324\ttotal: 1.64s\tremaining: 7.29s\n",
      "173:\tlearn: 5645704.8865436\ttotal: 1.65s\tremaining: 7.28s\n",
      "174:\tlearn: 5642384.9025168\ttotal: 1.66s\tremaining: 7.24s\n",
      "175:\tlearn: 5637191.0354852\ttotal: 1.66s\tremaining: 7.22s\n",
      "176:\tlearn: 5632085.8455659\ttotal: 1.67s\tremaining: 7.22s\n",
      "177:\tlearn: 5626563.8486050\ttotal: 1.68s\tremaining: 7.21s\n",
      "178:\tlearn: 5620189.3395136\ttotal: 1.69s\tremaining: 7.19s\n",
      "179:\tlearn: 5610602.1185351\ttotal: 1.7s\tremaining: 7.18s\n",
      "180:\tlearn: 5603982.4086149\ttotal: 1.71s\tremaining: 7.17s\n",
      "181:\tlearn: 5596021.3698203\ttotal: 1.72s\tremaining: 7.16s\n",
      "182:\tlearn: 5591361.9563202\ttotal: 1.73s\tremaining: 7.14s\n",
      "183:\tlearn: 5583883.2386217\ttotal: 1.74s\tremaining: 7.14s\n",
      "184:\tlearn: 5576262.6297588\ttotal: 1.75s\tremaining: 7.13s\n",
      "185:\tlearn: 5570827.6235869\ttotal: 1.76s\tremaining: 7.12s\n",
      "186:\tlearn: 5566106.4312567\ttotal: 1.77s\tremaining: 7.13s\n",
      "187:\tlearn: 5562078.6394423\ttotal: 1.78s\tremaining: 7.12s\n",
      "188:\tlearn: 5556114.6545825\ttotal: 1.8s\tremaining: 7.14s\n",
      "189:\tlearn: 5548560.3138626\ttotal: 1.81s\tremaining: 7.14s\n",
      "190:\tlearn: 5542768.2417107\ttotal: 1.82s\tremaining: 7.14s\n",
      "191:\tlearn: 5536948.9781820\ttotal: 1.83s\tremaining: 7.13s\n",
      "192:\tlearn: 5530570.8811147\ttotal: 1.84s\tremaining: 7.11s\n",
      "193:\tlearn: 5524775.5838386\ttotal: 1.85s\tremaining: 7.12s\n",
      "194:\tlearn: 5519544.0641029\ttotal: 1.87s\tremaining: 7.13s\n",
      "195:\tlearn: 5511905.9151236\ttotal: 1.87s\tremaining: 7.11s\n",
      "196:\tlearn: 5507663.4793438\ttotal: 1.88s\tremaining: 7.11s\n",
      "197:\tlearn: 5500752.1947318\ttotal: 1.89s\tremaining: 7.09s\n",
      "198:\tlearn: 5496141.1577107\ttotal: 1.91s\tremaining: 7.09s\n",
      "199:\tlearn: 5491175.9121033\ttotal: 1.92s\tremaining: 7.11s\n",
      "200:\tlearn: 5485838.3778502\ttotal: 1.94s\tremaining: 7.12s\n",
      "201:\tlearn: 5478583.8691089\ttotal: 1.95s\tremaining: 7.13s\n",
      "202:\tlearn: 5473207.1490533\ttotal: 1.96s\tremaining: 7.13s\n",
      "203:\tlearn: 5467130.3336691\ttotal: 1.97s\tremaining: 7.12s\n",
      "204:\tlearn: 5458824.1735019\ttotal: 1.99s\tremaining: 7.12s\n",
      "205:\tlearn: 5453383.7174544\ttotal: 2s\tremaining: 7.12s\n",
      "206:\tlearn: 5447279.0629898\ttotal: 2s\tremaining: 7.1s\n",
      "207:\tlearn: 5443607.4752025\ttotal: 2.02s\tremaining: 7.1s\n",
      "208:\tlearn: 5433567.5047529\ttotal: 2.03s\tremaining: 7.11s\n",
      "209:\tlearn: 5428194.3519162\ttotal: 2.04s\tremaining: 7.1s\n",
      "210:\tlearn: 5422904.3429109\ttotal: 2.05s\tremaining: 7.09s\n",
      "211:\tlearn: 5418259.5881442\ttotal: 2.06s\tremaining: 7.07s\n",
      "212:\tlearn: 5415245.2761953\ttotal: 2.07s\tremaining: 7.05s\n",
      "213:\tlearn: 5411010.3594847\ttotal: 2.08s\tremaining: 7.05s\n",
      "214:\tlearn: 5405883.1315956\ttotal: 2.09s\tremaining: 7.04s\n",
      "215:\tlearn: 5401807.1022172\ttotal: 2.1s\tremaining: 7.04s\n",
      "216:\tlearn: 5398116.6251112\ttotal: 2.11s\tremaining: 7.03s\n",
      "217:\tlearn: 5394440.8348469\ttotal: 2.12s\tremaining: 7.01s\n",
      "218:\tlearn: 5387619.3527993\ttotal: 2.13s\tremaining: 7.02s\n",
      "219:\tlearn: 5380773.5470902\ttotal: 2.13s\tremaining: 6.99s\n",
      "220:\tlearn: 5372247.2889886\ttotal: 2.15s\tremaining: 6.99s\n",
      "221:\tlearn: 5367453.0022699\ttotal: 2.16s\tremaining: 6.98s\n",
      "222:\tlearn: 5363089.1510793\ttotal: 2.17s\tremaining: 6.96s\n",
      "223:\tlearn: 5359404.1634721\ttotal: 2.18s\tremaining: 6.96s\n",
      "224:\tlearn: 5352979.4616041\ttotal: 2.19s\tremaining: 6.95s\n",
      "225:\tlearn: 5350266.9861555\ttotal: 2.19s\tremaining: 6.93s\n",
      "226:\tlearn: 5345511.0876624\ttotal: 2.21s\tremaining: 6.92s\n",
      "227:\tlearn: 5340515.7151485\ttotal: 2.21s\tremaining: 6.91s\n",
      "228:\tlearn: 5337084.9430494\ttotal: 2.22s\tremaining: 6.89s\n",
      "229:\tlearn: 5330565.9233636\ttotal: 2.23s\tremaining: 6.87s\n",
      "230:\tlearn: 5327150.3221002\ttotal: 2.23s\tremaining: 6.86s\n",
      "231:\tlearn: 5324889.6216972\ttotal: 2.24s\tremaining: 6.84s\n",
      "232:\tlearn: 5317666.2577248\ttotal: 2.25s\tremaining: 6.82s\n",
      "233:\tlearn: 5312530.2637598\ttotal: 2.26s\tremaining: 6.81s\n",
      "234:\tlearn: 5309748.4506874\ttotal: 2.27s\tremaining: 6.8s\n",
      "235:\tlearn: 5304400.8697074\ttotal: 2.28s\tremaining: 6.79s\n",
      "236:\tlearn: 5299163.5839015\ttotal: 2.29s\tremaining: 6.78s\n",
      "237:\tlearn: 5293766.8843873\ttotal: 2.29s\tremaining: 6.76s\n",
      "238:\tlearn: 5288578.2871351\ttotal: 2.3s\tremaining: 6.75s\n",
      "239:\tlearn: 5286150.6135911\ttotal: 2.32s\tremaining: 6.77s\n",
      "240:\tlearn: 5282802.7231755\ttotal: 2.33s\tremaining: 6.76s\n",
      "241:\tlearn: 5277545.2533382\ttotal: 2.34s\tremaining: 6.75s\n",
      "242:\tlearn: 5273722.9848900\ttotal: 2.35s\tremaining: 6.73s\n",
      "243:\tlearn: 5271045.2805739\ttotal: 2.36s\tremaining: 6.73s\n",
      "244:\tlearn: 5264875.0793328\ttotal: 2.37s\tremaining: 6.73s\n",
      "245:\tlearn: 5259733.0934005\ttotal: 2.39s\tremaining: 6.75s\n",
      "246:\tlearn: 5253103.2233940\ttotal: 2.41s\tremaining: 6.75s\n",
      "247:\tlearn: 5249592.2511804\ttotal: 2.42s\tremaining: 6.75s\n",
      "248:\tlearn: 5247759.1322031\ttotal: 2.43s\tremaining: 6.74s\n",
      "249:\tlearn: 5241119.1813578\ttotal: 2.44s\tremaining: 6.74s\n",
      "250:\tlearn: 5232160.4453901\ttotal: 2.46s\tremaining: 6.74s\n",
      "251:\tlearn: 5227403.4745035\ttotal: 2.46s\tremaining: 6.73s\n",
      "252:\tlearn: 5220624.0918253\ttotal: 2.47s\tremaining: 6.71s\n",
      "253:\tlearn: 5218365.5704683\ttotal: 2.48s\tremaining: 6.7s\n",
      "254:\tlearn: 5215638.8255485\ttotal: 2.49s\tremaining: 6.7s\n",
      "255:\tlearn: 5210657.8982467\ttotal: 2.5s\tremaining: 6.69s\n",
      "256:\tlearn: 5205650.8087067\ttotal: 2.51s\tremaining: 6.67s\n",
      "257:\tlearn: 5201674.3131025\ttotal: 2.52s\tremaining: 6.67s\n",
      "258:\tlearn: 5197604.1692765\ttotal: 2.53s\tremaining: 6.64s\n",
      "259:\tlearn: 5194644.9954112\ttotal: 2.54s\tremaining: 6.63s\n",
      "260:\tlearn: 5192240.2918067\ttotal: 2.55s\tremaining: 6.63s\n",
      "261:\tlearn: 5189838.2524001\ttotal: 2.55s\tremaining: 6.61s\n",
      "262:\tlearn: 5184558.5161070\ttotal: 2.56s\tremaining: 6.61s\n",
      "263:\tlearn: 5182147.9085107\ttotal: 2.57s\tremaining: 6.59s\n",
      "264:\tlearn: 5179112.3761046\ttotal: 2.58s\tremaining: 6.58s\n",
      "265:\tlearn: 5175834.0554840\ttotal: 2.59s\tremaining: 6.56s\n",
      "266:\tlearn: 5173941.1053706\ttotal: 2.6s\tremaining: 6.56s\n",
      "267:\tlearn: 5168628.7704325\ttotal: 2.61s\tremaining: 6.55s\n",
      "268:\tlearn: 5165823.4041522\ttotal: 2.62s\tremaining: 6.53s\n",
      "269:\tlearn: 5160674.1162598\ttotal: 2.63s\tremaining: 6.52s\n",
      "270:\tlearn: 5155497.3591307\ttotal: 2.63s\tremaining: 6.5s\n",
      "271:\tlearn: 5151142.7785482\ttotal: 2.64s\tremaining: 6.48s\n",
      "272:\tlearn: 5149045.1499986\ttotal: 2.65s\tremaining: 6.47s\n",
      "273:\tlearn: 5146294.7370672\ttotal: 2.66s\tremaining: 6.46s\n",
      "274:\tlearn: 5141446.6416313\ttotal: 2.67s\tremaining: 6.45s\n",
      "275:\tlearn: 5137434.9599815\ttotal: 2.67s\tremaining: 6.43s\n",
      "276:\tlearn: 5130081.1402966\ttotal: 2.68s\tremaining: 6.42s\n",
      "277:\tlearn: 5127212.7652760\ttotal: 2.69s\tremaining: 6.4s\n",
      "278:\tlearn: 5120422.0709928\ttotal: 2.7s\tremaining: 6.39s\n",
      "279:\tlearn: 5114304.2015350\ttotal: 2.7s\tremaining: 6.37s\n",
      "280:\tlearn: 5108833.7436761\ttotal: 2.71s\tremaining: 6.36s\n",
      "281:\tlearn: 5104987.3082038\ttotal: 2.72s\tremaining: 6.35s\n",
      "282:\tlearn: 5102825.1476837\ttotal: 2.73s\tremaining: 6.35s\n",
      "283:\tlearn: 5098590.1270104\ttotal: 2.75s\tremaining: 6.34s\n",
      "284:\tlearn: 5092594.2022066\ttotal: 2.75s\tremaining: 6.32s\n",
      "285:\tlearn: 5091718.3602751\ttotal: 2.75s\tremaining: 6.3s\n",
      "286:\tlearn: 5087970.7980922\ttotal: 2.76s\tremaining: 6.29s\n",
      "287:\tlearn: 5084740.6570509\ttotal: 2.77s\tremaining: 6.27s\n",
      "288:\tlearn: 5079286.5063359\ttotal: 2.78s\tremaining: 6.26s\n",
      "289:\tlearn: 5072284.0018286\ttotal: 2.79s\tremaining: 6.24s\n",
      "290:\tlearn: 5067097.3310055\ttotal: 2.79s\tremaining: 6.23s\n",
      "291:\tlearn: 5063285.8197223\ttotal: 2.8s\tremaining: 6.22s\n",
      "292:\tlearn: 5060612.0865673\ttotal: 2.81s\tremaining: 6.2s\n",
      "293:\tlearn: 5056927.0864052\ttotal: 2.81s\tremaining: 6.18s\n",
      "294:\tlearn: 5053655.8284751\ttotal: 2.82s\tremaining: 6.16s\n",
      "295:\tlearn: 5051198.1133096\ttotal: 2.83s\tremaining: 6.15s\n",
      "296:\tlearn: 5047389.9643682\ttotal: 2.84s\tremaining: 6.14s\n",
      "297:\tlearn: 5043831.2113020\ttotal: 2.85s\tremaining: 6.13s\n",
      "298:\tlearn: 5042205.4615614\ttotal: 2.85s\tremaining: 6.12s\n",
      "299:\tlearn: 5039683.7308087\ttotal: 2.86s\tremaining: 6.1s\n",
      "300:\tlearn: 5036586.7682631\ttotal: 2.87s\tremaining: 6.09s\n",
      "301:\tlearn: 5035052.4972644\ttotal: 2.88s\tremaining: 6.08s\n",
      "302:\tlearn: 5032893.5350865\ttotal: 2.89s\tremaining: 6.07s\n",
      "303:\tlearn: 5029539.3791338\ttotal: 2.9s\tremaining: 6.06s\n",
      "304:\tlearn: 5025722.0916740\ttotal: 2.91s\tremaining: 6.05s\n",
      "305:\tlearn: 5019997.5057454\ttotal: 2.92s\tremaining: 6.04s\n",
      "306:\tlearn: 5014072.6405282\ttotal: 2.92s\tremaining: 6.03s\n",
      "307:\tlearn: 5010838.5731102\ttotal: 2.93s\tremaining: 6.01s\n",
      "308:\tlearn: 5003293.7868385\ttotal: 2.94s\tremaining: 6s\n",
      "309:\tlearn: 4999358.2758093\ttotal: 2.95s\tremaining: 5.99s\n",
      "310:\tlearn: 4995091.0850437\ttotal: 2.96s\tremaining: 5.98s\n",
      "311:\tlearn: 4991800.6565486\ttotal: 2.97s\tremaining: 5.98s\n",
      "312:\tlearn: 4988239.0747630\ttotal: 2.98s\tremaining: 5.97s\n",
      "313:\tlearn: 4984220.8727993\ttotal: 3.02s\tremaining: 6.03s\n",
      "314:\tlearn: 4981936.3154274\ttotal: 3.05s\tremaining: 6.04s\n",
      "315:\tlearn: 4979661.0204244\ttotal: 3.06s\tremaining: 6.04s\n",
      "316:\tlearn: 4977164.0645073\ttotal: 3.06s\tremaining: 6.02s\n",
      "317:\tlearn: 4972790.4406694\ttotal: 3.07s\tremaining: 6.01s\n",
      "318:\tlearn: 4968128.4888160\ttotal: 3.09s\tremaining: 6.01s\n",
      "319:\tlearn: 4963364.7154115\ttotal: 3.1s\tremaining: 6.01s\n",
      "320:\tlearn: 4959581.6165688\ttotal: 3.11s\tremaining: 6s\n",
      "321:\tlearn: 4956718.7446572\ttotal: 3.12s\tremaining: 6s\n",
      "322:\tlearn: 4956501.7285779\ttotal: 3.13s\tremaining: 5.97s\n",
      "323:\tlearn: 4951741.4095984\ttotal: 3.13s\tremaining: 5.96s\n",
      "324:\tlearn: 4946643.8939200\ttotal: 3.14s\tremaining: 5.94s\n",
      "325:\tlearn: 4943034.6857477\ttotal: 3.16s\tremaining: 5.95s\n",
      "326:\tlearn: 4937391.3712338\ttotal: 3.17s\tremaining: 5.94s\n",
      "327:\tlearn: 4935582.0155913\ttotal: 3.17s\tremaining: 5.92s\n",
      "328:\tlearn: 4927193.6356704\ttotal: 3.18s\tremaining: 5.91s\n",
      "329:\tlearn: 4922691.8914128\ttotal: 3.19s\tremaining: 5.9s\n",
      "330:\tlearn: 4920751.5367622\ttotal: 3.21s\tremaining: 5.9s\n",
      "331:\tlearn: 4916820.8560905\ttotal: 3.21s\tremaining: 5.88s\n",
      "332:\tlearn: 4915060.8134895\ttotal: 3.22s\tremaining: 5.87s\n",
      "333:\tlearn: 4913241.9293933\ttotal: 3.23s\tremaining: 5.86s\n",
      "334:\tlearn: 4908097.0606632\ttotal: 3.24s\tremaining: 5.84s\n",
      "335:\tlearn: 4906235.5482591\ttotal: 3.24s\tremaining: 5.83s\n",
      "336:\tlearn: 4904174.1179835\ttotal: 3.25s\tremaining: 5.82s\n",
      "337:\tlearn: 4897214.9949153\ttotal: 3.26s\tremaining: 5.81s\n",
      "338:\tlearn: 4894036.1706439\ttotal: 3.27s\tremaining: 5.79s\n",
      "339:\tlearn: 4892279.4692656\ttotal: 3.27s\tremaining: 5.77s\n",
      "340:\tlearn: 4886207.3187828\ttotal: 3.29s\tremaining: 5.79s\n",
      "341:\tlearn: 4881745.2866654\ttotal: 3.3s\tremaining: 5.77s\n",
      "342:\tlearn: 4878509.2301718\ttotal: 3.31s\tremaining: 5.77s\n",
      "343:\tlearn: 4876551.1613598\ttotal: 3.32s\tremaining: 5.75s\n",
      "344:\tlearn: 4870663.6803440\ttotal: 3.33s\tremaining: 5.74s\n",
      "345:\tlearn: 4867969.0078026\ttotal: 3.34s\tremaining: 5.73s\n",
      "346:\tlearn: 4864315.5136325\ttotal: 3.35s\tremaining: 5.72s\n",
      "347:\tlearn: 4860817.7875211\ttotal: 3.35s\tremaining: 5.7s\n",
      "348:\tlearn: 4858616.4495501\ttotal: 3.36s\tremaining: 5.69s\n",
      "349:\tlearn: 4856005.7810094\ttotal: 3.37s\tremaining: 5.68s\n",
      "350:\tlearn: 4852421.6177495\ttotal: 3.38s\tremaining: 5.67s\n",
      "351:\tlearn: 4850140.8139614\ttotal: 3.38s\tremaining: 5.65s\n",
      "352:\tlearn: 4845998.1613101\ttotal: 3.39s\tremaining: 5.64s\n",
      "353:\tlearn: 4843004.2868919\ttotal: 3.4s\tremaining: 5.63s\n",
      "354:\tlearn: 4840218.7745368\ttotal: 3.41s\tremaining: 5.62s\n",
      "355:\tlearn: 4838056.5216824\ttotal: 3.42s\tremaining: 5.6s\n",
      "356:\tlearn: 4831850.9137495\ttotal: 3.43s\tremaining: 5.59s\n",
      "357:\tlearn: 4828098.3420820\ttotal: 3.43s\tremaining: 5.58s\n",
      "358:\tlearn: 4825191.9405812\ttotal: 3.44s\tremaining: 5.57s\n",
      "359:\tlearn: 4823141.1435361\ttotal: 3.46s\tremaining: 5.58s\n",
      "360:\tlearn: 4818954.2674770\ttotal: 3.47s\tremaining: 5.56s\n",
      "361:\tlearn: 4814949.5695062\ttotal: 3.48s\tremaining: 5.55s\n",
      "362:\tlearn: 4811898.8519178\ttotal: 3.48s\tremaining: 5.54s\n",
      "363:\tlearn: 4810068.6130421\ttotal: 3.49s\tremaining: 5.53s\n",
      "364:\tlearn: 4804941.2352100\ttotal: 3.5s\tremaining: 5.51s\n",
      "365:\tlearn: 4801061.4612573\ttotal: 3.51s\tremaining: 5.5s\n",
      "366:\tlearn: 4798338.6150180\ttotal: 3.52s\tremaining: 5.49s\n",
      "367:\tlearn: 4794801.0698685\ttotal: 3.52s\tremaining: 5.48s\n",
      "368:\tlearn: 4791029.2842125\ttotal: 3.53s\tremaining: 5.47s\n",
      "369:\tlearn: 4787523.4224293\ttotal: 3.54s\tremaining: 5.46s\n",
      "370:\tlearn: 4780199.8958227\ttotal: 3.56s\tremaining: 5.47s\n",
      "371:\tlearn: 4775836.7917641\ttotal: 3.58s\tremaining: 5.46s\n",
      "372:\tlearn: 4773005.0226714\ttotal: 3.58s\tremaining: 5.45s\n",
      "373:\tlearn: 4771927.2893682\ttotal: 3.59s\tremaining: 5.44s\n",
      "374:\tlearn: 4769983.9861201\ttotal: 3.6s\tremaining: 5.42s\n",
      "375:\tlearn: 4765763.0984653\ttotal: 3.61s\tremaining: 5.41s\n",
      "376:\tlearn: 4760316.9743064\ttotal: 3.62s\tremaining: 5.4s\n",
      "377:\tlearn: 4757987.7842645\ttotal: 3.63s\tremaining: 5.39s\n",
      "378:\tlearn: 4754175.3021789\ttotal: 3.63s\tremaining: 5.38s\n",
      "379:\tlearn: 4752017.7976854\ttotal: 3.64s\tremaining: 5.37s\n",
      "380:\tlearn: 4748658.4259176\ttotal: 3.65s\tremaining: 5.35s\n",
      "381:\tlearn: 4745768.4200943\ttotal: 3.66s\tremaining: 5.34s\n",
      "382:\tlearn: 4742582.1548756\ttotal: 3.67s\tremaining: 5.33s\n",
      "383:\tlearn: 4738626.8262730\ttotal: 3.67s\tremaining: 5.32s\n",
      "384:\tlearn: 4734642.1253634\ttotal: 3.68s\tremaining: 5.31s\n",
      "385:\tlearn: 4730860.9647594\ttotal: 3.69s\tremaining: 5.3s\n",
      "386:\tlearn: 4726918.2678235\ttotal: 3.7s\tremaining: 5.29s\n",
      "387:\tlearn: 4725150.5563124\ttotal: 3.71s\tremaining: 5.27s\n",
      "388:\tlearn: 4723529.5140714\ttotal: 3.71s\tremaining: 5.26s\n",
      "389:\tlearn: 4720696.6474330\ttotal: 3.72s\tremaining: 5.25s\n",
      "390:\tlearn: 4717265.4720404\ttotal: 3.73s\tremaining: 5.24s\n",
      "391:\tlearn: 4715661.0282643\ttotal: 3.74s\tremaining: 5.23s\n",
      "392:\tlearn: 4710683.3011932\ttotal: 3.74s\tremaining: 5.21s\n",
      "393:\tlearn: 4705566.9372138\ttotal: 3.75s\tremaining: 5.2s\n",
      "394:\tlearn: 4700985.3571057\ttotal: 3.76s\tremaining: 5.19s\n",
      "395:\tlearn: 4696884.7712260\ttotal: 3.77s\tremaining: 5.18s\n",
      "396:\tlearn: 4691848.3457573\ttotal: 3.78s\tremaining: 5.16s\n",
      "397:\tlearn: 4689247.5189701\ttotal: 3.79s\tremaining: 5.16s\n",
      "398:\tlearn: 4682590.9356351\ttotal: 3.8s\tremaining: 5.15s\n",
      "399:\tlearn: 4679165.4164532\ttotal: 3.81s\tremaining: 5.14s\n",
      "400:\tlearn: 4674278.3540820\ttotal: 3.82s\tremaining: 5.13s\n",
      "401:\tlearn: 4672612.6198666\ttotal: 3.83s\tremaining: 5.12s\n",
      "402:\tlearn: 4671280.7270940\ttotal: 3.84s\tremaining: 5.11s\n",
      "403:\tlearn: 4668889.1350202\ttotal: 3.84s\tremaining: 5.1s\n",
      "404:\tlearn: 4668809.1742472\ttotal: 3.85s\tremaining: 5.08s\n",
      "405:\tlearn: 4665462.7030429\ttotal: 3.85s\tremaining: 5.07s\n",
      "406:\tlearn: 4662883.9893624\ttotal: 3.86s\tremaining: 5.06s\n",
      "407:\tlearn: 4659923.3401438\ttotal: 3.87s\tremaining: 5.05s\n",
      "408:\tlearn: 4657196.2185354\ttotal: 3.88s\tremaining: 5.04s\n",
      "409:\tlearn: 4652917.3700569\ttotal: 3.89s\tremaining: 5.03s\n",
      "410:\tlearn: 4649752.8230855\ttotal: 3.9s\tremaining: 5.02s\n",
      "411:\tlearn: 4648995.2777698\ttotal: 3.91s\tremaining: 5.01s\n",
      "412:\tlearn: 4646815.6178963\ttotal: 3.92s\tremaining: 5s\n",
      "413:\tlearn: 4643444.5665439\ttotal: 3.93s\tremaining: 4.99s\n",
      "414:\tlearn: 4638632.2016571\ttotal: 3.94s\tremaining: 4.98s\n",
      "415:\tlearn: 4638128.6478993\ttotal: 3.94s\tremaining: 4.96s\n",
      "416:\tlearn: 4633038.5940222\ttotal: 3.95s\tremaining: 4.95s\n",
      "417:\tlearn: 4628996.8702238\ttotal: 3.96s\tremaining: 4.94s\n",
      "418:\tlearn: 4627241.1755356\ttotal: 3.97s\tremaining: 4.93s\n",
      "419:\tlearn: 4623706.2502201\ttotal: 3.98s\tremaining: 4.92s\n",
      "420:\tlearn: 4621215.4046896\ttotal: 3.98s\tremaining: 4.91s\n",
      "421:\tlearn: 4618851.1354624\ttotal: 3.99s\tremaining: 4.9s\n",
      "422:\tlearn: 4616756.8469422\ttotal: 4s\tremaining: 4.89s\n",
      "423:\tlearn: 4613892.9544309\ttotal: 4.01s\tremaining: 4.88s\n",
      "424:\tlearn: 4611753.4467288\ttotal: 4.02s\tremaining: 4.87s\n",
      "425:\tlearn: 4607431.6360508\ttotal: 4.03s\tremaining: 4.86s\n",
      "426:\tlearn: 4605970.2741067\ttotal: 4.04s\tremaining: 4.85s\n",
      "427:\tlearn: 4604393.0889415\ttotal: 4.05s\tremaining: 4.84s\n",
      "428:\tlearn: 4602619.9401431\ttotal: 4.05s\tremaining: 4.83s\n",
      "429:\tlearn: 4600757.6279271\ttotal: 4.07s\tremaining: 4.83s\n",
      "430:\tlearn: 4597116.8100085\ttotal: 4.08s\tremaining: 4.82s\n",
      "431:\tlearn: 4591480.5852256\ttotal: 4.09s\tremaining: 4.81s\n",
      "432:\tlearn: 4589412.1830743\ttotal: 4.11s\tremaining: 4.81s\n",
      "433:\tlearn: 4585717.7049791\ttotal: 4.12s\tremaining: 4.8s\n",
      "434:\tlearn: 4583483.3955912\ttotal: 4.13s\tremaining: 4.8s\n",
      "435:\tlearn: 4578930.8904010\ttotal: 4.14s\tremaining: 4.79s\n",
      "436:\tlearn: 4574568.7002003\ttotal: 4.16s\tremaining: 4.78s\n",
      "437:\tlearn: 4571563.0414069\ttotal: 4.17s\tremaining: 4.78s\n",
      "438:\tlearn: 4568193.9444236\ttotal: 4.18s\tremaining: 4.77s\n",
      "439:\tlearn: 4565074.1551996\ttotal: 4.2s\tremaining: 4.78s\n",
      "440:\tlearn: 4560821.0436169\ttotal: 4.24s\tremaining: 4.8s\n",
      "441:\tlearn: 4558543.7194117\ttotal: 4.26s\tremaining: 4.8s\n",
      "442:\tlearn: 4555091.2132840\ttotal: 4.28s\tremaining: 4.8s\n",
      "443:\tlearn: 4552669.4153008\ttotal: 4.3s\tremaining: 4.8s\n",
      "444:\tlearn: 4548678.5676923\ttotal: 4.31s\tremaining: 4.79s\n",
      "445:\tlearn: 4541986.8427288\ttotal: 4.32s\tremaining: 4.79s\n",
      "446:\tlearn: 4540546.7321838\ttotal: 4.33s\tremaining: 4.78s\n",
      "447:\tlearn: 4537279.9970262\ttotal: 4.34s\tremaining: 4.77s\n",
      "448:\tlearn: 4533786.6981794\ttotal: 4.35s\tremaining: 4.76s\n",
      "449:\tlearn: 4531506.9781065\ttotal: 4.36s\tremaining: 4.75s\n",
      "450:\tlearn: 4529565.1576862\ttotal: 4.37s\tremaining: 4.74s\n",
      "451:\tlearn: 4526267.3524107\ttotal: 4.38s\tremaining: 4.73s\n",
      "452:\tlearn: 4522825.9088329\ttotal: 4.39s\tremaining: 4.72s\n",
      "453:\tlearn: 4519756.2120663\ttotal: 4.4s\tremaining: 4.71s\n",
      "454:\tlearn: 4519438.7215305\ttotal: 4.4s\tremaining: 4.69s\n",
      "455:\tlearn: 4517473.9258290\ttotal: 4.41s\tremaining: 4.68s\n",
      "456:\tlearn: 4513673.6294742\ttotal: 4.42s\tremaining: 4.67s\n",
      "457:\tlearn: 4511542.0413153\ttotal: 4.43s\tremaining: 4.66s\n",
      "458:\tlearn: 4508396.2927448\ttotal: 4.44s\tremaining: 4.65s\n",
      "459:\tlearn: 4506627.6233044\ttotal: 4.45s\tremaining: 4.64s\n",
      "460:\tlearn: 4502503.4744597\ttotal: 4.46s\tremaining: 4.63s\n",
      "461:\tlearn: 4501599.6932782\ttotal: 4.47s\tremaining: 4.62s\n",
      "462:\tlearn: 4497298.3694721\ttotal: 4.47s\tremaining: 4.61s\n",
      "463:\tlearn: 4494709.9258196\ttotal: 4.48s\tremaining: 4.6s\n",
      "464:\tlearn: 4492262.4155932\ttotal: 4.49s\tremaining: 4.59s\n",
      "465:\tlearn: 4491464.0378975\ttotal: 4.5s\tremaining: 4.58s\n",
      "466:\tlearn: 4490181.4191191\ttotal: 4.51s\tremaining: 4.56s\n",
      "467:\tlearn: 4488904.5817657\ttotal: 4.51s\tremaining: 4.55s\n",
      "468:\tlearn: 4487875.7157770\ttotal: 4.52s\tremaining: 4.54s\n",
      "469:\tlearn: 4486096.8341933\ttotal: 4.52s\tremaining: 4.52s\n",
      "470:\tlearn: 4484195.6763991\ttotal: 4.53s\tremaining: 4.51s\n",
      "471:\tlearn: 4479041.7176000\ttotal: 4.54s\tremaining: 4.5s\n",
      "472:\tlearn: 4474125.0471315\ttotal: 4.54s\tremaining: 4.49s\n",
      "473:\tlearn: 4470463.1826741\ttotal: 4.55s\tremaining: 4.48s\n",
      "474:\tlearn: 4467949.4631354\ttotal: 4.56s\tremaining: 4.47s\n",
      "475:\tlearn: 4464829.6528320\ttotal: 4.57s\tremaining: 4.46s\n",
      "476:\tlearn: 4460806.2551966\ttotal: 4.58s\tremaining: 4.44s\n",
      "477:\tlearn: 4457370.8758080\ttotal: 4.59s\tremaining: 4.43s\n",
      "478:\tlearn: 4453741.3677027\ttotal: 4.59s\tremaining: 4.42s\n",
      "479:\tlearn: 4449757.9467020\ttotal: 4.6s\tremaining: 4.41s\n",
      "480:\tlearn: 4449587.2498384\ttotal: 4.61s\tremaining: 4.4s\n",
      "481:\tlearn: 4447309.2918196\ttotal: 4.62s\tremaining: 4.39s\n",
      "482:\tlearn: 4445236.8255675\ttotal: 4.63s\tremaining: 4.38s\n",
      "483:\tlearn: 4441148.5250914\ttotal: 4.63s\tremaining: 4.36s\n",
      "484:\tlearn: 4437139.7641642\ttotal: 4.64s\tremaining: 4.35s\n",
      "485:\tlearn: 4433859.9413048\ttotal: 4.65s\tremaining: 4.34s\n",
      "486:\tlearn: 4430501.7791645\ttotal: 4.66s\tremaining: 4.33s\n",
      "487:\tlearn: 4426732.0444782\ttotal: 4.67s\tremaining: 4.32s\n",
      "488:\tlearn: 4426731.8246107\ttotal: 4.67s\tremaining: 4.3s\n",
      "489:\tlearn: 4424676.0785687\ttotal: 4.67s\tremaining: 4.29s\n",
      "490:\tlearn: 4422942.2620701\ttotal: 4.68s\tremaining: 4.28s\n",
      "491:\tlearn: 4419608.1743361\ttotal: 4.69s\tremaining: 4.27s\n",
      "492:\tlearn: 4419102.2036454\ttotal: 4.69s\tremaining: 4.25s\n",
      "493:\tlearn: 4415032.7674840\ttotal: 4.7s\tremaining: 4.24s\n",
      "494:\tlearn: 4412756.8868678\ttotal: 4.71s\tremaining: 4.23s\n",
      "495:\tlearn: 4411022.8874366\ttotal: 4.71s\tremaining: 4.22s\n",
      "496:\tlearn: 4408306.7725086\ttotal: 4.72s\tremaining: 4.21s\n",
      "497:\tlearn: 4406590.8159829\ttotal: 4.73s\tremaining: 4.2s\n",
      "498:\tlearn: 4405221.1282633\ttotal: 4.74s\tremaining: 4.19s\n",
      "499:\tlearn: 4404036.6005139\ttotal: 4.75s\tremaining: 4.18s\n",
      "500:\tlearn: 4401303.5083801\ttotal: 4.76s\tremaining: 4.17s\n",
      "501:\tlearn: 4398871.7636593\ttotal: 4.77s\tremaining: 4.16s\n",
      "502:\tlearn: 4396238.0469970\ttotal: 4.78s\tremaining: 4.15s\n",
      "503:\tlearn: 4391101.3898162\ttotal: 4.79s\tremaining: 4.14s\n",
      "504:\tlearn: 4388738.5288838\ttotal: 4.79s\tremaining: 4.13s\n",
      "505:\tlearn: 4385764.6865971\ttotal: 4.8s\tremaining: 4.12s\n",
      "506:\tlearn: 4382032.5300625\ttotal: 4.81s\tremaining: 4.11s\n",
      "507:\tlearn: 4379677.1621823\ttotal: 4.82s\tremaining: 4.1s\n",
      "508:\tlearn: 4378032.7881448\ttotal: 4.83s\tremaining: 4.09s\n",
      "509:\tlearn: 4376454.5232794\ttotal: 4.84s\tremaining: 4.08s\n",
      "510:\tlearn: 4373254.0590699\ttotal: 4.85s\tremaining: 4.07s\n",
      "511:\tlearn: 4371300.8860901\ttotal: 4.86s\tremaining: 4.06s\n",
      "512:\tlearn: 4367957.3399248\ttotal: 4.88s\tremaining: 4.06s\n",
      "513:\tlearn: 4366219.5114792\ttotal: 4.89s\tremaining: 4.05s\n",
      "514:\tlearn: 4362211.4079594\ttotal: 4.91s\tremaining: 4.05s\n",
      "515:\tlearn: 4358868.9215074\ttotal: 4.92s\tremaining: 4.04s\n",
      "516:\tlearn: 4354334.6385638\ttotal: 4.94s\tremaining: 4.04s\n",
      "517:\tlearn: 4350497.5494983\ttotal: 4.96s\tremaining: 4.04s\n",
      "518:\tlearn: 4346719.9112798\ttotal: 4.99s\tremaining: 4.04s\n",
      "519:\tlearn: 4345476.9421920\ttotal: 5s\tremaining: 4.03s\n",
      "520:\tlearn: 4341702.7446079\ttotal: 5.01s\tremaining: 4.03s\n",
      "521:\tlearn: 4338323.0282903\ttotal: 5.02s\tremaining: 4.02s\n",
      "522:\tlearn: 4337542.1174388\ttotal: 5.03s\tremaining: 4.01s\n",
      "523:\tlearn: 4334526.1040190\ttotal: 5.04s\tremaining: 4s\n",
      "524:\tlearn: 4332587.1044313\ttotal: 5.05s\tremaining: 3.99s\n",
      "525:\tlearn: 4329443.4490556\ttotal: 5.07s\tremaining: 3.99s\n",
      "526:\tlearn: 4326310.2958332\ttotal: 5.08s\tremaining: 3.98s\n",
      "527:\tlearn: 4324227.8348306\ttotal: 5.09s\tremaining: 3.97s\n",
      "528:\tlearn: 4322661.3680490\ttotal: 5.1s\tremaining: 3.96s\n",
      "529:\tlearn: 4319752.5940881\ttotal: 5.1s\tremaining: 3.95s\n",
      "530:\tlearn: 4316812.4400528\ttotal: 5.11s\tremaining: 3.94s\n",
      "531:\tlearn: 4314217.2226067\ttotal: 5.12s\tremaining: 3.93s\n",
      "532:\tlearn: 4310511.4037304\ttotal: 5.13s\tremaining: 3.91s\n",
      "533:\tlearn: 4307613.4713735\ttotal: 5.14s\tremaining: 3.9s\n",
      "534:\tlearn: 4304740.2725854\ttotal: 5.14s\tremaining: 3.89s\n",
      "535:\tlearn: 4300759.2180611\ttotal: 5.15s\tremaining: 3.88s\n",
      "536:\tlearn: 4298627.1181566\ttotal: 5.16s\tremaining: 3.87s\n",
      "537:\tlearn: 4295695.3793847\ttotal: 5.17s\tremaining: 3.86s\n",
      "538:\tlearn: 4293739.5951602\ttotal: 5.17s\tremaining: 3.85s\n",
      "539:\tlearn: 4292168.4272196\ttotal: 5.18s\tremaining: 3.84s\n",
      "540:\tlearn: 4287491.2765757\ttotal: 5.2s\tremaining: 3.83s\n",
      "541:\tlearn: 4285418.7490476\ttotal: 5.2s\tremaining: 3.82s\n",
      "542:\tlearn: 4283371.5402799\ttotal: 5.21s\tremaining: 3.81s\n",
      "543:\tlearn: 4280900.9655929\ttotal: 5.22s\tremaining: 3.8s\n",
      "544:\tlearn: 4279686.3172366\ttotal: 5.23s\tremaining: 3.79s\n",
      "545:\tlearn: 4277347.3959658\ttotal: 5.23s\tremaining: 3.78s\n",
      "546:\tlearn: 4274227.3074349\ttotal: 5.24s\tremaining: 3.77s\n",
      "547:\tlearn: 4270592.3870057\ttotal: 5.25s\tremaining: 3.75s\n",
      "548:\tlearn: 4267500.2446784\ttotal: 5.26s\tremaining: 3.75s\n",
      "549:\tlearn: 4263938.4849071\ttotal: 5.27s\tremaining: 3.73s\n",
      "550:\tlearn: 4261330.8169163\ttotal: 5.27s\tremaining: 3.72s\n",
      "551:\tlearn: 4256981.5510145\ttotal: 5.28s\tremaining: 3.71s\n",
      "552:\tlearn: 4253845.1471383\ttotal: 5.29s\tremaining: 3.7s\n",
      "553:\tlearn: 4249405.7269289\ttotal: 5.3s\tremaining: 3.69s\n",
      "554:\tlearn: 4243687.6276425\ttotal: 5.3s\tremaining: 3.68s\n",
      "555:\tlearn: 4242441.1425798\ttotal: 5.31s\tremaining: 3.67s\n",
      "556:\tlearn: 4239141.6208599\ttotal: 5.32s\tremaining: 3.66s\n",
      "557:\tlearn: 4237198.6447094\ttotal: 5.33s\tremaining: 3.65s\n",
      "558:\tlearn: 4234526.8487592\ttotal: 5.33s\tremaining: 3.63s\n",
      "559:\tlearn: 4233373.9388896\ttotal: 5.34s\tremaining: 3.62s\n",
      "560:\tlearn: 4230883.0352346\ttotal: 5.35s\tremaining: 3.61s\n",
      "561:\tlearn: 4228742.7242757\ttotal: 5.36s\tremaining: 3.6s\n",
      "562:\tlearn: 4226570.5727668\ttotal: 5.36s\tremaining: 3.59s\n",
      "563:\tlearn: 4223642.8373590\ttotal: 5.37s\tremaining: 3.58s\n",
      "564:\tlearn: 4222140.9757487\ttotal: 5.38s\tremaining: 3.57s\n",
      "565:\tlearn: 4219274.3246825\ttotal: 5.38s\tremaining: 3.56s\n",
      "566:\tlearn: 4216263.1928956\ttotal: 5.39s\tremaining: 3.55s\n",
      "567:\tlearn: 4214393.8024949\ttotal: 5.4s\tremaining: 3.54s\n",
      "568:\tlearn: 4212228.5226241\ttotal: 5.41s\tremaining: 3.53s\n",
      "569:\tlearn: 4208108.6752402\ttotal: 5.42s\tremaining: 3.52s\n",
      "570:\tlearn: 4205529.7629025\ttotal: 5.43s\tremaining: 3.51s\n",
      "571:\tlearn: 4202987.4110521\ttotal: 5.44s\tremaining: 3.5s\n",
      "572:\tlearn: 4200899.5854794\ttotal: 5.44s\tremaining: 3.49s\n",
      "573:\tlearn: 4199346.3233454\ttotal: 5.45s\tremaining: 3.48s\n",
      "574:\tlearn: 4194586.1830059\ttotal: 5.46s\tremaining: 3.46s\n",
      "575:\tlearn: 4193306.4883064\ttotal: 5.47s\tremaining: 3.46s\n",
      "576:\tlearn: 4187709.6679484\ttotal: 5.48s\tremaining: 3.44s\n",
      "577:\tlearn: 4183945.0779704\ttotal: 5.48s\tremaining: 3.43s\n",
      "578:\tlearn: 4181783.9331790\ttotal: 5.49s\tremaining: 3.42s\n",
      "579:\tlearn: 4179600.8521338\ttotal: 5.5s\tremaining: 3.41s\n",
      "580:\tlearn: 4178269.4195946\ttotal: 5.5s\tremaining: 3.4s\n",
      "581:\tlearn: 4174924.6370909\ttotal: 5.51s\tremaining: 3.39s\n",
      "582:\tlearn: 4172239.2222431\ttotal: 5.52s\tremaining: 3.38s\n",
      "583:\tlearn: 4169464.1460357\ttotal: 5.53s\tremaining: 3.37s\n",
      "584:\tlearn: 4163447.1958820\ttotal: 5.54s\tremaining: 3.36s\n",
      "585:\tlearn: 4159389.1974436\ttotal: 5.54s\tremaining: 3.35s\n",
      "586:\tlearn: 4157476.9855915\ttotal: 5.55s\tremaining: 3.34s\n",
      "587:\tlearn: 4154066.9959478\ttotal: 5.56s\tremaining: 3.33s\n",
      "588:\tlearn: 4152026.5970761\ttotal: 5.56s\tremaining: 3.32s\n",
      "589:\tlearn: 4149647.4233983\ttotal: 5.57s\tremaining: 3.3s\n",
      "590:\tlearn: 4148381.1817381\ttotal: 5.58s\tremaining: 3.29s\n",
      "591:\tlearn: 4144168.3680098\ttotal: 5.59s\tremaining: 3.28s\n",
      "592:\tlearn: 4141907.6394615\ttotal: 5.59s\tremaining: 3.27s\n",
      "593:\tlearn: 4139748.1683915\ttotal: 5.6s\tremaining: 3.26s\n",
      "594:\tlearn: 4137008.2934098\ttotal: 5.61s\tremaining: 3.25s\n",
      "595:\tlearn: 4132888.5054245\ttotal: 5.62s\tremaining: 3.24s\n",
      "596:\tlearn: 4128327.2145813\ttotal: 5.62s\tremaining: 3.23s\n",
      "597:\tlearn: 4126090.4654839\ttotal: 5.63s\tremaining: 3.22s\n",
      "598:\tlearn: 4124005.9718696\ttotal: 5.64s\tremaining: 3.21s\n",
      "599:\tlearn: 4121274.1785541\ttotal: 5.65s\tremaining: 3.2s\n",
      "600:\tlearn: 4119563.7623780\ttotal: 5.65s\tremaining: 3.19s\n",
      "601:\tlearn: 4115800.9193983\ttotal: 5.66s\tremaining: 3.18s\n",
      "602:\tlearn: 4115004.7771569\ttotal: 5.67s\tremaining: 3.17s\n",
      "603:\tlearn: 4113336.2402425\ttotal: 5.68s\tremaining: 3.16s\n",
      "604:\tlearn: 4111953.4415796\ttotal: 5.68s\tremaining: 3.15s\n",
      "605:\tlearn: 4109506.9682395\ttotal: 5.69s\tremaining: 3.14s\n",
      "606:\tlearn: 4106725.8961169\ttotal: 5.7s\tremaining: 3.13s\n",
      "607:\tlearn: 4102277.9035472\ttotal: 5.7s\tremaining: 3.12s\n",
      "608:\tlearn: 4099133.8573710\ttotal: 5.71s\tremaining: 3.1s\n",
      "609:\tlearn: 4096529.3251352\ttotal: 5.72s\tremaining: 3.09s\n",
      "610:\tlearn: 4094081.1895988\ttotal: 5.72s\tremaining: 3.08s\n",
      "611:\tlearn: 4091554.6368525\ttotal: 5.73s\tremaining: 3.07s\n",
      "612:\tlearn: 4090172.0710907\ttotal: 5.74s\tremaining: 3.06s\n",
      "613:\tlearn: 4087022.2799544\ttotal: 5.75s\tremaining: 3.05s\n",
      "614:\tlearn: 4083686.9412383\ttotal: 5.76s\tremaining: 3.04s\n",
      "615:\tlearn: 4081561.1736177\ttotal: 5.77s\tremaining: 3.04s\n",
      "616:\tlearn: 4079825.1612182\ttotal: 5.78s\tremaining: 3.03s\n",
      "617:\tlearn: 4077063.8848785\ttotal: 5.79s\tremaining: 3.02s\n",
      "618:\tlearn: 4074251.9895362\ttotal: 5.8s\tremaining: 3.01s\n",
      "619:\tlearn: 4072303.5198621\ttotal: 5.81s\tremaining: 3s\n",
      "620:\tlearn: 4070506.7211643\ttotal: 5.82s\tremaining: 2.99s\n",
      "621:\tlearn: 4065639.0169941\ttotal: 5.82s\tremaining: 2.98s\n",
      "622:\tlearn: 4063729.5753768\ttotal: 5.83s\tremaining: 2.97s\n",
      "623:\tlearn: 4062327.8941769\ttotal: 5.84s\tremaining: 2.96s\n",
      "624:\tlearn: 4060142.0812998\ttotal: 5.85s\tremaining: 2.95s\n",
      "625:\tlearn: 4056949.4531416\ttotal: 5.86s\tremaining: 2.94s\n",
      "626:\tlearn: 4055218.8569627\ttotal: 5.86s\tremaining: 2.93s\n",
      "627:\tlearn: 4053773.8247212\ttotal: 5.87s\tremaining: 2.92s\n",
      "628:\tlearn: 4051773.6171665\ttotal: 5.88s\tremaining: 2.91s\n",
      "629:\tlearn: 4049911.3774558\ttotal: 5.89s\tremaining: 2.9s\n",
      "630:\tlearn: 4047014.6975981\ttotal: 5.9s\tremaining: 2.89s\n",
      "631:\tlearn: 4044448.3273249\ttotal: 5.9s\tremaining: 2.88s\n",
      "632:\tlearn: 4042543.8168360\ttotal: 5.91s\tremaining: 2.87s\n",
      "633:\tlearn: 4039580.2514281\ttotal: 5.92s\tremaining: 2.86s\n",
      "634:\tlearn: 4038202.6635692\ttotal: 5.93s\tremaining: 2.85s\n",
      "635:\tlearn: 4035721.5250007\ttotal: 5.93s\tremaining: 2.84s\n",
      "636:\tlearn: 4033828.7702108\ttotal: 5.94s\tremaining: 2.83s\n",
      "637:\tlearn: 4032343.1630419\ttotal: 5.95s\tremaining: 2.82s\n",
      "638:\tlearn: 4029293.8384337\ttotal: 5.96s\tremaining: 2.81s\n",
      "639:\tlearn: 4027174.3788356\ttotal: 5.97s\tremaining: 2.8s\n",
      "640:\tlearn: 4025754.8570191\ttotal: 5.98s\tremaining: 2.79s\n",
      "641:\tlearn: 4024223.3906597\ttotal: 5.98s\tremaining: 2.78s\n",
      "642:\tlearn: 4022396.0145311\ttotal: 6s\tremaining: 2.77s\n",
      "643:\tlearn: 4022336.0285189\ttotal: 6s\tremaining: 2.76s\n",
      "644:\tlearn: 4020481.0780937\ttotal: 6s\tremaining: 2.75s\n",
      "645:\tlearn: 4016877.4332792\ttotal: 6.01s\tremaining: 2.74s\n",
      "646:\tlearn: 4014491.0535241\ttotal: 6.02s\tremaining: 2.73s\n",
      "647:\tlearn: 4011110.0338923\ttotal: 6.03s\tremaining: 2.72s\n",
      "648:\tlearn: 4009759.8291176\ttotal: 6.04s\tremaining: 2.71s\n",
      "649:\tlearn: 4006838.3879707\ttotal: 6.04s\tremaining: 2.69s\n",
      "650:\tlearn: 4003098.2512540\ttotal: 6.05s\tremaining: 2.69s\n",
      "651:\tlearn: 4001360.5862833\ttotal: 6.06s\tremaining: 2.67s\n",
      "652:\tlearn: 3998833.3615942\ttotal: 6.06s\tremaining: 2.66s\n",
      "653:\tlearn: 3996784.2586576\ttotal: 6.07s\tremaining: 2.65s\n",
      "654:\tlearn: 3994575.0218336\ttotal: 6.08s\tremaining: 2.64s\n",
      "655:\tlearn: 3992546.9962587\ttotal: 6.08s\tremaining: 2.63s\n",
      "656:\tlearn: 3989155.0185478\ttotal: 6.09s\tremaining: 2.62s\n",
      "657:\tlearn: 3987868.6487383\ttotal: 6.1s\tremaining: 2.61s\n",
      "658:\tlearn: 3986188.8799618\ttotal: 6.1s\tremaining: 2.6s\n",
      "659:\tlearn: 3984175.2950239\ttotal: 6.11s\tremaining: 2.59s\n",
      "660:\tlearn: 3982301.3832031\ttotal: 6.12s\tremaining: 2.58s\n",
      "661:\tlearn: 3979512.9407033\ttotal: 6.13s\tremaining: 2.57s\n",
      "662:\tlearn: 3977834.6570966\ttotal: 6.13s\tremaining: 2.56s\n",
      "663:\tlearn: 3975151.1571564\ttotal: 6.14s\tremaining: 2.55s\n",
      "664:\tlearn: 3973065.9784966\ttotal: 6.15s\tremaining: 2.54s\n",
      "665:\tlearn: 3971245.6938801\ttotal: 6.16s\tremaining: 2.53s\n",
      "666:\tlearn: 3970597.1354000\ttotal: 6.16s\tremaining: 2.52s\n",
      "667:\tlearn: 3967161.2753843\ttotal: 6.17s\tremaining: 2.51s\n",
      "668:\tlearn: 3962929.7017482\ttotal: 6.18s\tremaining: 2.5s\n",
      "669:\tlearn: 3960142.5033105\ttotal: 6.19s\tremaining: 2.49s\n",
      "670:\tlearn: 3957336.9387507\ttotal: 6.2s\tremaining: 2.48s\n",
      "671:\tlearn: 3955366.4457207\ttotal: 6.2s\tremaining: 2.47s\n",
      "672:\tlearn: 3953405.1216866\ttotal: 6.21s\tremaining: 2.46s\n",
      "673:\tlearn: 3951459.7515426\ttotal: 6.22s\tremaining: 2.45s\n",
      "674:\tlearn: 3949014.6582983\ttotal: 6.22s\tremaining: 2.44s\n",
      "675:\tlearn: 3948006.9484797\ttotal: 6.23s\tremaining: 2.43s\n",
      "676:\tlearn: 3943677.0168923\ttotal: 6.24s\tremaining: 2.42s\n",
      "677:\tlearn: 3942149.7592513\ttotal: 6.25s\tremaining: 2.42s\n",
      "678:\tlearn: 3940188.1502120\ttotal: 6.26s\tremaining: 2.4s\n",
      "679:\tlearn: 3938780.0487695\ttotal: 6.27s\tremaining: 2.4s\n",
      "680:\tlearn: 3936786.7143503\ttotal: 6.27s\tremaining: 2.38s\n",
      "681:\tlearn: 3934809.9482825\ttotal: 6.28s\tremaining: 2.38s\n",
      "682:\tlearn: 3933265.2604887\ttotal: 6.29s\tremaining: 2.37s\n",
      "683:\tlearn: 3929706.4545814\ttotal: 6.29s\tremaining: 2.36s\n",
      "684:\tlearn: 3927887.5590629\ttotal: 6.3s\tremaining: 2.35s\n",
      "685:\tlearn: 3926646.3144041\ttotal: 6.31s\tremaining: 2.33s\n",
      "686:\tlearn: 3924917.6085836\ttotal: 6.31s\tremaining: 2.33s\n",
      "687:\tlearn: 3922007.3400325\ttotal: 6.32s\tremaining: 2.31s\n",
      "688:\tlearn: 3920025.6147926\ttotal: 6.33s\tremaining: 2.31s\n",
      "689:\tlearn: 3917147.9755699\ttotal: 6.34s\tremaining: 2.29s\n",
      "690:\tlearn: 3914795.7494807\ttotal: 6.34s\tremaining: 2.29s\n",
      "691:\tlearn: 3912266.7901400\ttotal: 6.36s\tremaining: 2.28s\n",
      "692:\tlearn: 3910699.2667619\ttotal: 6.37s\tremaining: 2.27s\n",
      "693:\tlearn: 3908065.5610959\ttotal: 6.37s\tremaining: 2.26s\n",
      "694:\tlearn: 3904361.1301202\ttotal: 6.38s\tremaining: 2.25s\n",
      "695:\tlearn: 3902729.3756688\ttotal: 6.39s\tremaining: 2.24s\n",
      "696:\tlearn: 3899703.6499775\ttotal: 6.4s\tremaining: 2.23s\n",
      "697:\tlearn: 3897129.3269980\ttotal: 6.4s\tremaining: 2.22s\n",
      "698:\tlearn: 3894975.9637335\ttotal: 6.41s\tremaining: 2.21s\n",
      "699:\tlearn: 3894071.3875954\ttotal: 6.42s\tremaining: 2.2s\n",
      "700:\tlearn: 3890398.7003959\ttotal: 6.42s\tremaining: 2.19s\n",
      "701:\tlearn: 3888805.1899996\ttotal: 6.43s\tremaining: 2.18s\n",
      "702:\tlearn: 3887191.8498414\ttotal: 6.44s\tremaining: 2.17s\n",
      "703:\tlearn: 3884898.3240409\ttotal: 6.45s\tremaining: 2.16s\n",
      "704:\tlearn: 3882129.1308499\ttotal: 6.46s\tremaining: 2.15s\n",
      "705:\tlearn: 3879910.3945477\ttotal: 6.47s\tremaining: 2.14s\n",
      "706:\tlearn: 3878586.1317519\ttotal: 6.48s\tremaining: 2.13s\n",
      "707:\tlearn: 3876060.1328731\ttotal: 6.49s\tremaining: 2.13s\n",
      "708:\tlearn: 3873664.5418919\ttotal: 6.5s\tremaining: 2.12s\n",
      "709:\tlearn: 3872168.9219723\ttotal: 6.5s\tremaining: 2.11s\n",
      "710:\tlearn: 3871075.9353008\ttotal: 6.51s\tremaining: 2.1s\n",
      "711:\tlearn: 3869269.2250937\ttotal: 6.52s\tremaining: 2.09s\n",
      "712:\tlearn: 3866106.7962784\ttotal: 6.53s\tremaining: 2.08s\n",
      "713:\tlearn: 3863945.7238548\ttotal: 6.54s\tremaining: 2.07s\n",
      "714:\tlearn: 3862156.1726289\ttotal: 6.55s\tremaining: 2.06s\n",
      "715:\tlearn: 3860868.2891467\ttotal: 6.55s\tremaining: 2.05s\n",
      "716:\tlearn: 3859308.5023438\ttotal: 6.56s\tremaining: 2.04s\n",
      "717:\tlearn: 3858305.6061668\ttotal: 6.57s\tremaining: 2.03s\n",
      "718:\tlearn: 3855274.9171106\ttotal: 6.58s\tremaining: 2.02s\n",
      "719:\tlearn: 3853689.0170084\ttotal: 6.59s\tremaining: 2.01s\n",
      "720:\tlearn: 3851257.7285136\ttotal: 6.6s\tremaining: 2s\n",
      "721:\tlearn: 3848818.3754917\ttotal: 6.61s\tremaining: 2s\n",
      "722:\tlearn: 3846794.4903786\ttotal: 6.62s\tremaining: 1.99s\n",
      "723:\tlearn: 3845748.0179152\ttotal: 6.63s\tremaining: 1.98s\n",
      "724:\tlearn: 3843470.9718713\ttotal: 6.63s\tremaining: 1.97s\n",
      "725:\tlearn: 3842000.1674328\ttotal: 6.64s\tremaining: 1.96s\n",
      "726:\tlearn: 3840631.1239091\ttotal: 6.65s\tremaining: 1.95s\n",
      "727:\tlearn: 3838443.0392825\ttotal: 6.66s\tremaining: 1.94s\n",
      "728:\tlearn: 3836130.2021252\ttotal: 6.67s\tremaining: 1.93s\n",
      "729:\tlearn: 3834620.0654474\ttotal: 6.68s\tremaining: 1.92s\n",
      "730:\tlearn: 3832970.8572420\ttotal: 6.69s\tremaining: 1.91s\n",
      "731:\tlearn: 3830676.2118958\ttotal: 6.69s\tremaining: 1.9s\n",
      "732:\tlearn: 3828448.5803183\ttotal: 6.7s\tremaining: 1.89s\n",
      "733:\tlearn: 3827471.0394230\ttotal: 6.71s\tremaining: 1.88s\n",
      "734:\tlearn: 3824805.2338443\ttotal: 6.72s\tremaining: 1.87s\n",
      "735:\tlearn: 3823620.5145534\ttotal: 6.72s\tremaining: 1.86s\n",
      "736:\tlearn: 3821509.3355341\ttotal: 6.73s\tremaining: 1.85s\n",
      "737:\tlearn: 3819661.4084216\ttotal: 6.74s\tremaining: 1.84s\n",
      "738:\tlearn: 3817006.7410481\ttotal: 6.75s\tremaining: 1.84s\n",
      "739:\tlearn: 3815495.4649306\ttotal: 6.76s\tremaining: 1.83s\n",
      "740:\tlearn: 3815179.1597676\ttotal: 6.76s\tremaining: 1.82s\n",
      "741:\tlearn: 3812884.5816880\ttotal: 6.77s\tremaining: 1.81s\n",
      "742:\tlearn: 3810585.3798740\ttotal: 6.78s\tremaining: 1.8s\n",
      "743:\tlearn: 3806891.3338369\ttotal: 6.79s\tremaining: 1.79s\n",
      "744:\tlearn: 3804140.8464969\ttotal: 6.8s\tremaining: 1.78s\n",
      "745:\tlearn: 3803835.3847667\ttotal: 6.81s\tremaining: 1.77s\n",
      "746:\tlearn: 3802433.4137760\ttotal: 6.82s\tremaining: 1.76s\n",
      "747:\tlearn: 3800194.1489037\ttotal: 6.84s\tremaining: 1.75s\n",
      "748:\tlearn: 3798273.5233826\ttotal: 6.86s\tremaining: 1.75s\n",
      "749:\tlearn: 3796663.9632480\ttotal: 6.87s\tremaining: 1.74s\n",
      "750:\tlearn: 3794489.4539137\ttotal: 6.88s\tremaining: 1.73s\n",
      "751:\tlearn: 3791709.0489922\ttotal: 6.89s\tremaining: 1.72s\n",
      "752:\tlearn: 3790092.1406318\ttotal: 6.89s\tremaining: 1.71s\n",
      "753:\tlearn: 3788356.2227242\ttotal: 6.91s\tremaining: 1.7s\n",
      "754:\tlearn: 3787753.1578121\ttotal: 6.91s\tremaining: 1.69s\n",
      "755:\tlearn: 3786333.0706978\ttotal: 6.92s\tremaining: 1.69s\n",
      "756:\tlearn: 3783357.2253246\ttotal: 6.94s\tremaining: 1.68s\n",
      "757:\tlearn: 3781942.7658635\ttotal: 6.95s\tremaining: 1.67s\n",
      "758:\tlearn: 3778697.6895279\ttotal: 6.96s\tremaining: 1.66s\n",
      "759:\tlearn: 3776938.1343896\ttotal: 6.97s\tremaining: 1.65s\n",
      "760:\tlearn: 3776009.7405533\ttotal: 6.98s\tremaining: 1.64s\n",
      "761:\tlearn: 3774423.9305262\ttotal: 6.99s\tremaining: 1.63s\n",
      "762:\tlearn: 3773630.3688015\ttotal: 6.99s\tremaining: 1.62s\n",
      "763:\tlearn: 3771244.7681232\ttotal: 7s\tremaining: 1.61s\n",
      "764:\tlearn: 3769615.5314628\ttotal: 7.01s\tremaining: 1.6s\n",
      "765:\tlearn: 3768792.6040936\ttotal: 7.02s\tremaining: 1.59s\n",
      "766:\tlearn: 3767618.9018568\ttotal: 7.03s\tremaining: 1.59s\n",
      "767:\tlearn: 3765854.9926917\ttotal: 7.04s\tremaining: 1.58s\n",
      "768:\tlearn: 3763369.8600737\ttotal: 7.05s\tremaining: 1.57s\n",
      "769:\tlearn: 3761474.9168110\ttotal: 7.07s\tremaining: 1.56s\n",
      "770:\tlearn: 3757630.4966001\ttotal: 7.08s\tremaining: 1.55s\n",
      "771:\tlearn: 3755505.9594075\ttotal: 7.09s\tremaining: 1.54s\n",
      "772:\tlearn: 3753338.7873627\ttotal: 7.1s\tremaining: 1.53s\n",
      "773:\tlearn: 3752553.0248101\ttotal: 7.1s\tremaining: 1.52s\n",
      "774:\tlearn: 3750415.6042217\ttotal: 7.12s\tremaining: 1.51s\n",
      "775:\tlearn: 3748078.0096662\ttotal: 7.13s\tremaining: 1.51s\n",
      "776:\tlearn: 3745675.7184606\ttotal: 7.14s\tremaining: 1.5s\n",
      "777:\tlearn: 3742851.1029972\ttotal: 7.15s\tremaining: 1.49s\n",
      "778:\tlearn: 3738326.7567228\ttotal: 7.16s\tremaining: 1.48s\n",
      "779:\tlearn: 3736155.4169527\ttotal: 7.18s\tremaining: 1.47s\n",
      "780:\tlearn: 3734293.2176276\ttotal: 7.19s\tremaining: 1.46s\n",
      "781:\tlearn: 3732570.9098568\ttotal: 7.2s\tremaining: 1.45s\n",
      "782:\tlearn: 3730305.7135905\ttotal: 7.21s\tremaining: 1.45s\n",
      "783:\tlearn: 3727963.7243381\ttotal: 7.22s\tremaining: 1.44s\n",
      "784:\tlearn: 3725860.8534058\ttotal: 7.23s\tremaining: 1.43s\n",
      "785:\tlearn: 3723346.3873369\ttotal: 7.23s\tremaining: 1.42s\n",
      "786:\tlearn: 3721284.0214217\ttotal: 7.24s\tremaining: 1.41s\n",
      "787:\tlearn: 3719422.0980463\ttotal: 7.25s\tremaining: 1.4s\n",
      "788:\tlearn: 3718555.8980825\ttotal: 7.26s\tremaining: 1.39s\n",
      "789:\tlearn: 3716043.1357035\ttotal: 7.27s\tremaining: 1.38s\n",
      "790:\tlearn: 3713547.3980755\ttotal: 7.28s\tremaining: 1.37s\n",
      "791:\tlearn: 3710359.0638263\ttotal: 7.29s\tremaining: 1.36s\n",
      "792:\tlearn: 3708515.0080965\ttotal: 7.3s\tremaining: 1.35s\n",
      "793:\tlearn: 3706612.2238162\ttotal: 7.31s\tremaining: 1.34s\n",
      "794:\tlearn: 3704013.4397607\ttotal: 7.32s\tremaining: 1.33s\n",
      "795:\tlearn: 3702636.5283763\ttotal: 7.33s\tremaining: 1.32s\n",
      "796:\tlearn: 3701554.6040527\ttotal: 7.33s\tremaining: 1.31s\n",
      "797:\tlearn: 3699787.4522654\ttotal: 7.34s\tremaining: 1.31s\n",
      "798:\tlearn: 3697011.8698489\ttotal: 7.36s\tremaining: 1.3s\n",
      "799:\tlearn: 3694915.7680192\ttotal: 7.36s\tremaining: 1.29s\n",
      "800:\tlearn: 3693691.8592391\ttotal: 7.38s\tremaining: 1.28s\n",
      "801:\tlearn: 3690796.1435308\ttotal: 7.38s\tremaining: 1.27s\n",
      "802:\tlearn: 3688819.3106217\ttotal: 7.39s\tremaining: 1.26s\n",
      "803:\tlearn: 3687698.6585921\ttotal: 7.4s\tremaining: 1.25s\n",
      "804:\tlearn: 3685850.1276832\ttotal: 7.41s\tremaining: 1.24s\n",
      "805:\tlearn: 3684116.3494373\ttotal: 7.42s\tremaining: 1.23s\n",
      "806:\tlearn: 3683223.2413256\ttotal: 7.44s\tremaining: 1.23s\n",
      "807:\tlearn: 3680618.8566571\ttotal: 7.45s\tremaining: 1.22s\n",
      "808:\tlearn: 3679570.2134976\ttotal: 7.46s\tremaining: 1.21s\n",
      "809:\tlearn: 3677972.4461464\ttotal: 7.48s\tremaining: 1.2s\n",
      "810:\tlearn: 3676975.3769122\ttotal: 7.49s\tremaining: 1.19s\n",
      "811:\tlearn: 3674279.9044462\ttotal: 7.5s\tremaining: 1.18s\n",
      "812:\tlearn: 3672016.2229296\ttotal: 7.51s\tremaining: 1.17s\n",
      "813:\tlearn: 3669772.4453890\ttotal: 7.53s\tremaining: 1.17s\n",
      "814:\tlearn: 3668183.6309905\ttotal: 7.54s\tremaining: 1.16s\n",
      "815:\tlearn: 3666354.8772937\ttotal: 7.55s\tremaining: 1.15s\n",
      "816:\tlearn: 3664564.5104859\ttotal: 7.57s\tremaining: 1.14s\n",
      "817:\tlearn: 3663948.2774156\ttotal: 7.58s\tremaining: 1.13s\n",
      "818:\tlearn: 3660453.1978945\ttotal: 7.59s\tremaining: 1.12s\n",
      "819:\tlearn: 3658686.8039453\ttotal: 7.6s\tremaining: 1.11s\n",
      "820:\tlearn: 3656939.6178853\ttotal: 7.61s\tremaining: 1.1s\n",
      "821:\tlearn: 3654496.3193591\ttotal: 7.63s\tremaining: 1.09s\n",
      "822:\tlearn: 3652495.3075204\ttotal: 7.64s\tremaining: 1.08s\n",
      "823:\tlearn: 3650568.9078891\ttotal: 7.65s\tremaining: 1.08s\n",
      "824:\tlearn: 3648195.8739205\ttotal: 7.66s\tremaining: 1.07s\n",
      "825:\tlearn: 3646738.0554167\ttotal: 7.67s\tremaining: 1.06s\n",
      "826:\tlearn: 3645317.9501609\ttotal: 7.67s\tremaining: 1.05s\n",
      "827:\tlearn: 3643243.0966620\ttotal: 7.68s\tremaining: 1.04s\n",
      "828:\tlearn: 3640716.5671009\ttotal: 7.69s\tremaining: 1.03s\n",
      "829:\tlearn: 3639656.0418251\ttotal: 7.7s\tremaining: 1.02s\n",
      "830:\tlearn: 3636759.2447494\ttotal: 7.72s\tremaining: 1.01s\n",
      "831:\tlearn: 3635678.4310331\ttotal: 7.73s\tremaining: 1s\n",
      "832:\tlearn: 3633362.9460085\ttotal: 7.74s\tremaining: 994ms\n",
      "833:\tlearn: 3632396.5407102\ttotal: 7.75s\tremaining: 984ms\n",
      "834:\tlearn: 3630468.1145674\ttotal: 7.76s\tremaining: 975ms\n",
      "835:\tlearn: 3628603.0894533\ttotal: 7.77s\tremaining: 966ms\n",
      "836:\tlearn: 3625758.7507029\ttotal: 7.78s\tremaining: 957ms\n",
      "837:\tlearn: 3624832.0670501\ttotal: 7.79s\tremaining: 949ms\n",
      "838:\tlearn: 3622096.6330239\ttotal: 7.8s\tremaining: 939ms\n",
      "839:\tlearn: 3620488.1035367\ttotal: 7.81s\tremaining: 930ms\n",
      "840:\tlearn: 3618473.7652923\ttotal: 7.83s\tremaining: 921ms\n",
      "841:\tlearn: 3617082.5401254\ttotal: 7.83s\tremaining: 911ms\n",
      "842:\tlearn: 3615179.7398693\ttotal: 7.84s\tremaining: 902ms\n",
      "843:\tlearn: 3613997.6461423\ttotal: 7.85s\tremaining: 893ms\n",
      "844:\tlearn: 3612127.7511054\ttotal: 7.86s\tremaining: 884ms\n",
      "845:\tlearn: 3609935.7049369\ttotal: 7.87s\tremaining: 875ms\n",
      "846:\tlearn: 3607564.4571254\ttotal: 7.88s\tremaining: 865ms\n",
      "847:\tlearn: 3606080.6392016\ttotal: 7.89s\tremaining: 856ms\n",
      "848:\tlearn: 3603403.7894608\ttotal: 7.9s\tremaining: 847ms\n",
      "849:\tlearn: 3601633.8933869\ttotal: 7.91s\tremaining: 838ms\n",
      "850:\tlearn: 3600963.6680904\ttotal: 7.92s\tremaining: 828ms\n",
      "851:\tlearn: 3599451.8599779\ttotal: 7.93s\tremaining: 819ms\n",
      "852:\tlearn: 3596297.6984842\ttotal: 7.94s\tremaining: 809ms\n",
      "853:\tlearn: 3594807.0541700\ttotal: 7.94s\tremaining: 800ms\n",
      "854:\tlearn: 3593580.5496226\ttotal: 7.95s\tremaining: 791ms\n",
      "855:\tlearn: 3592512.2766162\ttotal: 7.96s\tremaining: 781ms\n",
      "856:\tlearn: 3590610.6325847\ttotal: 7.97s\tremaining: 772ms\n",
      "857:\tlearn: 3589724.4763315\ttotal: 7.98s\tremaining: 762ms\n",
      "858:\tlearn: 3588511.2107363\ttotal: 7.99s\tremaining: 753ms\n",
      "859:\tlearn: 3586153.9534574\ttotal: 7.99s\tremaining: 744ms\n",
      "860:\tlearn: 3584002.8262327\ttotal: 8.01s\tremaining: 735ms\n",
      "861:\tlearn: 3583472.1052400\ttotal: 8.01s\tremaining: 725ms\n",
      "862:\tlearn: 3581301.1346819\ttotal: 8.02s\tremaining: 716ms\n",
      "863:\tlearn: 3578367.9256812\ttotal: 8.03s\tremaining: 706ms\n",
      "864:\tlearn: 3576530.2930125\ttotal: 8.04s\tremaining: 697ms\n",
      "865:\tlearn: 3575589.2801783\ttotal: 8.05s\tremaining: 688ms\n",
      "866:\tlearn: 3573603.9586012\ttotal: 8.06s\tremaining: 678ms\n",
      "867:\tlearn: 3572157.1347096\ttotal: 8.07s\tremaining: 669ms\n",
      "868:\tlearn: 3570125.2302126\ttotal: 8.07s\tremaining: 660ms\n",
      "869:\tlearn: 3568817.4919580\ttotal: 8.08s\tremaining: 650ms\n",
      "870:\tlearn: 3567288.0291038\ttotal: 8.09s\tremaining: 641ms\n",
      "871:\tlearn: 3566527.0826987\ttotal: 8.1s\tremaining: 632ms\n",
      "872:\tlearn: 3564417.8083468\ttotal: 8.11s\tremaining: 622ms\n",
      "873:\tlearn: 3561998.4256495\ttotal: 8.12s\tremaining: 613ms\n",
      "874:\tlearn: 3559919.7355980\ttotal: 8.13s\tremaining: 604ms\n",
      "875:\tlearn: 3558088.3167009\ttotal: 8.14s\tremaining: 595ms\n",
      "876:\tlearn: 3556404.4768589\ttotal: 8.15s\tremaining: 585ms\n",
      "877:\tlearn: 3554773.5688773\ttotal: 8.16s\tremaining: 576ms\n",
      "878:\tlearn: 3554640.3284928\ttotal: 8.16s\tremaining: 567ms\n",
      "879:\tlearn: 3553221.2948766\ttotal: 8.17s\tremaining: 557ms\n",
      "880:\tlearn: 3550874.7293619\ttotal: 8.18s\tremaining: 548ms\n",
      "881:\tlearn: 3549632.5641068\ttotal: 8.19s\tremaining: 539ms\n",
      "882:\tlearn: 3547192.2054537\ttotal: 8.2s\tremaining: 529ms\n",
      "883:\tlearn: 3545830.1330525\ttotal: 8.21s\tremaining: 520ms\n",
      "884:\tlearn: 3544408.5825459\ttotal: 8.22s\tremaining: 511ms\n",
      "885:\tlearn: 3543158.3045019\ttotal: 8.23s\tremaining: 501ms\n",
      "886:\tlearn: 3541320.2662917\ttotal: 8.23s\tremaining: 492ms\n",
      "887:\tlearn: 3538227.9598277\ttotal: 8.24s\tremaining: 483ms\n",
      "888:\tlearn: 3536115.6327128\ttotal: 8.25s\tremaining: 473ms\n",
      "889:\tlearn: 3533371.6280867\ttotal: 8.26s\tremaining: 464ms\n",
      "890:\tlearn: 3530910.1667635\ttotal: 8.27s\tremaining: 455ms\n",
      "891:\tlearn: 3528511.2461033\ttotal: 8.28s\tremaining: 445ms\n",
      "892:\tlearn: 3526561.3091630\ttotal: 8.29s\tremaining: 436ms\n",
      "893:\tlearn: 3526443.4646792\ttotal: 8.29s\tremaining: 426ms\n",
      "894:\tlearn: 3526158.0797967\ttotal: 8.3s\tremaining: 417ms\n",
      "895:\tlearn: 3524337.2153830\ttotal: 8.3s\tremaining: 408ms\n",
      "896:\tlearn: 3522387.4512402\ttotal: 8.31s\tremaining: 399ms\n",
      "897:\tlearn: 3520629.4495624\ttotal: 8.32s\tremaining: 389ms\n",
      "898:\tlearn: 3519020.3974443\ttotal: 8.33s\tremaining: 380ms\n",
      "899:\tlearn: 3517545.3833102\ttotal: 8.34s\tremaining: 371ms\n",
      "900:\tlearn: 3515253.7581462\ttotal: 8.35s\tremaining: 361ms\n",
      "901:\tlearn: 3512040.7771484\ttotal: 8.36s\tremaining: 352ms\n",
      "902:\tlearn: 3510640.6451321\ttotal: 8.36s\tremaining: 343ms\n",
      "903:\tlearn: 3509378.5594720\ttotal: 8.37s\tremaining: 333ms\n",
      "904:\tlearn: 3505598.4809048\ttotal: 8.38s\tremaining: 324ms\n",
      "905:\tlearn: 3503318.5763554\ttotal: 8.39s\tremaining: 315ms\n",
      "906:\tlearn: 3501454.0467188\ttotal: 8.39s\tremaining: 305ms\n",
      "907:\tlearn: 3499901.9061621\ttotal: 8.4s\tremaining: 296ms\n",
      "908:\tlearn: 3498963.5713886\ttotal: 8.41s\tremaining: 287ms\n",
      "909:\tlearn: 3497719.4223159\ttotal: 8.42s\tremaining: 278ms\n",
      "910:\tlearn: 3497041.9548576\ttotal: 8.43s\tremaining: 268ms\n",
      "911:\tlearn: 3494961.3482891\ttotal: 8.43s\tremaining: 259ms\n",
      "912:\tlearn: 3493426.8268348\ttotal: 8.45s\tremaining: 250ms\n",
      "913:\tlearn: 3491719.2275926\ttotal: 8.45s\tremaining: 240ms\n",
      "914:\tlearn: 3490743.8788579\ttotal: 8.46s\tremaining: 231ms\n",
      "915:\tlearn: 3487482.5981450\ttotal: 8.47s\tremaining: 222ms\n",
      "916:\tlearn: 3486380.7809600\ttotal: 8.48s\tremaining: 213ms\n",
      "917:\tlearn: 3485420.7353392\ttotal: 8.49s\tremaining: 203ms\n",
      "918:\tlearn: 3481085.8812631\ttotal: 8.5s\tremaining: 194ms\n",
      "919:\tlearn: 3479276.8716755\ttotal: 8.51s\tremaining: 185ms\n",
      "920:\tlearn: 3478163.3236811\ttotal: 8.52s\tremaining: 176ms\n",
      "921:\tlearn: 3477095.7178862\ttotal: 8.52s\tremaining: 166ms\n",
      "922:\tlearn: 3475827.4608144\ttotal: 8.53s\tremaining: 157ms\n",
      "923:\tlearn: 3474196.3054875\ttotal: 8.54s\tremaining: 148ms\n",
      "924:\tlearn: 3472286.5278382\ttotal: 8.54s\tremaining: 139ms\n",
      "925:\tlearn: 3470370.2328353\ttotal: 8.55s\tremaining: 129ms\n",
      "926:\tlearn: 3467629.5978301\ttotal: 8.56s\tremaining: 120ms\n",
      "927:\tlearn: 3466327.6570881\ttotal: 8.57s\tremaining: 111ms\n",
      "928:\tlearn: 3464278.7850531\ttotal: 8.58s\tremaining: 102ms\n",
      "929:\tlearn: 3463044.9102270\ttotal: 8.59s\tremaining: 92.4ms\n",
      "930:\tlearn: 3460235.3169775\ttotal: 8.6s\tremaining: 83.2ms\n",
      "931:\tlearn: 3459060.6329743\ttotal: 8.61s\tremaining: 73.9ms\n",
      "932:\tlearn: 3456321.1610953\ttotal: 8.62s\tremaining: 64.7ms\n",
      "933:\tlearn: 3454367.3289761\ttotal: 8.63s\tremaining: 55.4ms\n",
      "934:\tlearn: 3453172.7513709\ttotal: 8.64s\tremaining: 46.2ms\n",
      "935:\tlearn: 3452040.7230511\ttotal: 8.65s\tremaining: 37ms\n",
      "936:\tlearn: 3451600.9102960\ttotal: 8.66s\tremaining: 27.7ms\n",
      "937:\tlearn: 3449886.0354588\ttotal: 8.68s\tremaining: 18.5ms\n",
      "938:\tlearn: 3448439.3444267\ttotal: 8.7s\tremaining: 9.26ms\n",
      "939:\tlearn: 3447221.4900796\ttotal: 8.71s\tremaining: 0us\n",
      "[LightGBM] [Warning] min_data_in_leaf is set=56, min_child_samples=20 will be ignored. Current value: min_data_in_leaf=56\n",
      "[LightGBM] [Warning] min_data_in_leaf is set=56, min_child_samples=20 will be ignored. Current value: min_data_in_leaf=56\n",
      "[LightGBM] [Info] Auto-choosing col-wise multi-threading, the overhead of testing was 0.000507 seconds.\n",
      "You can set `force_col_wise=true` to remove the overhead.\n",
      "[LightGBM] [Info] Total Bins 1230\n",
      "[LightGBM] [Info] Number of data points in the train set: 10466, number of used features: 12\n",
      "[LightGBM] [Info] Start training from score 8995590.483470\n",
      "[LightGBM] [Warning] min_data_in_leaf is set=56, min_child_samples=20 will be ignored. Current value: min_data_in_leaf=56\n",
      "[LightGBM] [Warning] min_data_in_leaf is set=56, min_child_samples=20 will be ignored. Current value: min_data_in_leaf=56\n",
      "[LightGBM] [Warning] min_data_in_leaf is set=56, min_child_samples=20 will be ignored. Current value: min_data_in_leaf=56\n",
      "[LightGBM] [Warning] min_data_in_leaf is set=56, min_child_samples=20 will be ignored. Current value: min_data_in_leaf=56\n",
      "\n",
      "====== Models After Hyper Parameter Tuning ======\n"
     ]
    },
    {
     "data": {
      "text/html": [
       "<div>\n",
       "<style scoped>\n",
       "    .dataframe tbody tr th:only-of-type {\n",
       "        vertical-align: middle;\n",
       "    }\n",
       "\n",
       "    .dataframe tbody tr th {\n",
       "        vertical-align: top;\n",
       "    }\n",
       "\n",
       "    .dataframe thead th {\n",
       "        text-align: right;\n",
       "    }\n",
       "</style>\n",
       "<table border=\"1\" class=\"dataframe\">\n",
       "  <thead>\n",
       "    <tr style=\"text-align: right;\">\n",
       "      <th></th>\n",
       "      <th>Model</th>\n",
       "      <th>MAE</th>\n",
       "      <th>MSE</th>\n",
       "      <th>RMSE</th>\n",
       "      <th>RMSLE</th>\n",
       "      <th>R2 Score</th>\n",
       "    </tr>\n",
       "  </thead>\n",
       "  <tbody>\n",
       "    <tr>\n",
       "      <th>0</th>\n",
       "      <td>XGBoost_tuned</td>\n",
       "      <td>3839750.82</td>\n",
       "      <td>59691794416657.45</td>\n",
       "      <td>7726046.49</td>\n",
       "      <td>0.63</td>\n",
       "      <td>0.78</td>\n",
       "    </tr>\n",
       "    <tr>\n",
       "      <th>1</th>\n",
       "      <td>CatBoost_tuned</td>\n",
       "      <td>3620686.62</td>\n",
       "      <td>50082968128629.12</td>\n",
       "      <td>7076932.11</td>\n",
       "      <td>0.64</td>\n",
       "      <td>0.82</td>\n",
       "    </tr>\n",
       "    <tr>\n",
       "      <th>2</th>\n",
       "      <td>LightGBM_tuned</td>\n",
       "      <td>3853679.65</td>\n",
       "      <td>60814712238048.47</td>\n",
       "      <td>7798378.82</td>\n",
       "      <td>0.64</td>\n",
       "      <td>0.78</td>\n",
       "    </tr>\n",
       "    <tr>\n",
       "      <th>3</th>\n",
       "      <td>RandomForest_tuned</td>\n",
       "      <td>4325417.57</td>\n",
       "      <td>70855410663501.44</td>\n",
       "      <td>8417565.60</td>\n",
       "      <td>0.69</td>\n",
       "      <td>0.74</td>\n",
       "    </tr>\n",
       "  </tbody>\n",
       "</table>\n",
       "</div>"
      ],
      "text/plain": [
       "                Model         MAE                MSE        RMSE RMSLE  \\\n",
       "0       XGBoost_tuned  3839750.82  59691794416657.45  7726046.49  0.63   \n",
       "1      CatBoost_tuned  3620686.62  50082968128629.12  7076932.11  0.64   \n",
       "2      LightGBM_tuned  3853679.65  60814712238048.47  7798378.82  0.64   \n",
       "3  RandomForest_tuned  4325417.57  70855410663501.44  8417565.60  0.69   \n",
       "\n",
       "  R2 Score  \n",
       "0     0.78  \n",
       "1     0.82  \n",
       "2     0.78  \n",
       "3     0.74  "
      ]
     },
     "execution_count": 53,
     "metadata": {},
     "output_type": "execute_result"
    }
   ],
   "source": [
    "model_list(models_tuned, \"After\")"
   ]
  },
  {
   "cell_type": "markdown",
   "metadata": {},
   "source": [
    "##### 모델별 최적의 하이퍼파라미터"
   ]
  },
  {
   "cell_type": "code",
   "execution_count": 54,
   "metadata": {},
   "outputs": [],
   "source": [
    "best_params_rf = {'n_estimators': 631, \n",
    "                  'max_depth': 10, \n",
    "                  'max_samples': 0.9390046689278375, \n",
    "                  'max_features': 0.7376193928070954, \n",
    "                  'min_weight_fraction_leaf': 0}\n",
    "\n",
    "best_params_cat = {'n_estimators': 940, \n",
    "                   'learning_rate': 0.023152906583498525, \n",
    "                   'depth': 9, \n",
    "                   'subsample': 0.3201012976753739, \n",
    "                   'colsample_bylevel': 0.4050931876862345, \n",
    "                   'min_data_in_leaf': 20}\n",
    "\n",
    "best_params_xgb = {'n_estimators': 1245, \n",
    "                   'learning_rate': 0.005338679492821957, \n",
    "                   'max_depth': 9, \n",
    "                   'subsample': 0.47657941438505813, \n",
    "                   'colsample_bytree': 0.7050046907622647, \n",
    "                   'min_child_weight': 18}\n",
    "\n",
    "best_params_lgbm = {'n_estimators': 3162, \n",
    "                    'learning_rate': 0.002483285435681272, \n",
    "                    'num_leaves': 100, \n",
    "                    'subsample': 0.6590829870608579, \n",
    "                    'colsample_bytree': 0.7800080912868288, \n",
    "                    'min_data_in_leaf': 56}"
   ]
  },
  {
   "cell_type": "markdown",
   "metadata": {},
   "source": [
    "### 최적화 후 모델 재생성\n",
    "- `XGBoost` : 가장 작은 `RMSLE` 기록\n",
    "    - RMSLE : 0.63\n",
    "    - R2 Score : 0.78\n",
    "- `CatBoost` : 가장 높은 `R2 Score` 기록\n",
    "    - RMSLE : 0.64\n",
    "    - R@ Score : 0.82"
   ]
  },
  {
   "cell_type": "code",
   "execution_count": 55,
   "metadata": {},
   "outputs": [
    {
     "data": {
      "text/html": [
       "<style>#sk-container-id-2 {\n",
       "  /* Definition of color scheme common for light and dark mode */\n",
       "  --sklearn-color-text: black;\n",
       "  --sklearn-color-line: gray;\n",
       "  /* Definition of color scheme for unfitted estimators */\n",
       "  --sklearn-color-unfitted-level-0: #fff5e6;\n",
       "  --sklearn-color-unfitted-level-1: #f6e4d2;\n",
       "  --sklearn-color-unfitted-level-2: #ffe0b3;\n",
       "  --sklearn-color-unfitted-level-3: chocolate;\n",
       "  /* Definition of color scheme for fitted estimators */\n",
       "  --sklearn-color-fitted-level-0: #f0f8ff;\n",
       "  --sklearn-color-fitted-level-1: #d4ebff;\n",
       "  --sklearn-color-fitted-level-2: #b3dbfd;\n",
       "  --sklearn-color-fitted-level-3: cornflowerblue;\n",
       "\n",
       "  /* Specific color for light theme */\n",
       "  --sklearn-color-text-on-default-background: var(--sg-text-color, var(--theme-code-foreground, var(--jp-content-font-color1, black)));\n",
       "  --sklearn-color-background: var(--sg-background-color, var(--theme-background, var(--jp-layout-color0, white)));\n",
       "  --sklearn-color-border-box: var(--sg-text-color, var(--theme-code-foreground, var(--jp-content-font-color1, black)));\n",
       "  --sklearn-color-icon: #696969;\n",
       "\n",
       "  @media (prefers-color-scheme: dark) {\n",
       "    /* Redefinition of color scheme for dark theme */\n",
       "    --sklearn-color-text-on-default-background: var(--sg-text-color, var(--theme-code-foreground, var(--jp-content-font-color1, white)));\n",
       "    --sklearn-color-background: var(--sg-background-color, var(--theme-background, var(--jp-layout-color0, #111)));\n",
       "    --sklearn-color-border-box: var(--sg-text-color, var(--theme-code-foreground, var(--jp-content-font-color1, white)));\n",
       "    --sklearn-color-icon: #878787;\n",
       "  }\n",
       "}\n",
       "\n",
       "#sk-container-id-2 {\n",
       "  color: var(--sklearn-color-text);\n",
       "}\n",
       "\n",
       "#sk-container-id-2 pre {\n",
       "  padding: 0;\n",
       "}\n",
       "\n",
       "#sk-container-id-2 input.sk-hidden--visually {\n",
       "  border: 0;\n",
       "  clip: rect(1px 1px 1px 1px);\n",
       "  clip: rect(1px, 1px, 1px, 1px);\n",
       "  height: 1px;\n",
       "  margin: -1px;\n",
       "  overflow: hidden;\n",
       "  padding: 0;\n",
       "  position: absolute;\n",
       "  width: 1px;\n",
       "}\n",
       "\n",
       "#sk-container-id-2 div.sk-dashed-wrapped {\n",
       "  border: 1px dashed var(--sklearn-color-line);\n",
       "  margin: 0 0.4em 0.5em 0.4em;\n",
       "  box-sizing: border-box;\n",
       "  padding-bottom: 0.4em;\n",
       "  background-color: var(--sklearn-color-background);\n",
       "}\n",
       "\n",
       "#sk-container-id-2 div.sk-container {\n",
       "  /* jupyter's `normalize.less` sets `[hidden] { display: none; }`\n",
       "     but bootstrap.min.css set `[hidden] { display: none !important; }`\n",
       "     so we also need the `!important` here to be able to override the\n",
       "     default hidden behavior on the sphinx rendered scikit-learn.org.\n",
       "     See: https://github.com/scikit-learn/scikit-learn/issues/21755 */\n",
       "  display: inline-block !important;\n",
       "  position: relative;\n",
       "}\n",
       "\n",
       "#sk-container-id-2 div.sk-text-repr-fallback {\n",
       "  display: none;\n",
       "}\n",
       "\n",
       "div.sk-parallel-item,\n",
       "div.sk-serial,\n",
       "div.sk-item {\n",
       "  /* draw centered vertical line to link estimators */\n",
       "  background-image: linear-gradient(var(--sklearn-color-text-on-default-background), var(--sklearn-color-text-on-default-background));\n",
       "  background-size: 2px 100%;\n",
       "  background-repeat: no-repeat;\n",
       "  background-position: center center;\n",
       "}\n",
       "\n",
       "/* Parallel-specific style estimator block */\n",
       "\n",
       "#sk-container-id-2 div.sk-parallel-item::after {\n",
       "  content: \"\";\n",
       "  width: 100%;\n",
       "  border-bottom: 2px solid var(--sklearn-color-text-on-default-background);\n",
       "  flex-grow: 1;\n",
       "}\n",
       "\n",
       "#sk-container-id-2 div.sk-parallel {\n",
       "  display: flex;\n",
       "  align-items: stretch;\n",
       "  justify-content: center;\n",
       "  background-color: var(--sklearn-color-background);\n",
       "  position: relative;\n",
       "}\n",
       "\n",
       "#sk-container-id-2 div.sk-parallel-item {\n",
       "  display: flex;\n",
       "  flex-direction: column;\n",
       "}\n",
       "\n",
       "#sk-container-id-2 div.sk-parallel-item:first-child::after {\n",
       "  align-self: flex-end;\n",
       "  width: 50%;\n",
       "}\n",
       "\n",
       "#sk-container-id-2 div.sk-parallel-item:last-child::after {\n",
       "  align-self: flex-start;\n",
       "  width: 50%;\n",
       "}\n",
       "\n",
       "#sk-container-id-2 div.sk-parallel-item:only-child::after {\n",
       "  width: 0;\n",
       "}\n",
       "\n",
       "/* Serial-specific style estimator block */\n",
       "\n",
       "#sk-container-id-2 div.sk-serial {\n",
       "  display: flex;\n",
       "  flex-direction: column;\n",
       "  align-items: center;\n",
       "  background-color: var(--sklearn-color-background);\n",
       "  padding-right: 1em;\n",
       "  padding-left: 1em;\n",
       "}\n",
       "\n",
       "\n",
       "/* Toggleable style: style used for estimator/Pipeline/ColumnTransformer box that is\n",
       "clickable and can be expanded/collapsed.\n",
       "- Pipeline and ColumnTransformer use this feature and define the default style\n",
       "- Estimators will overwrite some part of the style using the `sk-estimator` class\n",
       "*/\n",
       "\n",
       "/* Pipeline and ColumnTransformer style (default) */\n",
       "\n",
       "#sk-container-id-2 div.sk-toggleable {\n",
       "  /* Default theme specific background. It is overwritten whether we have a\n",
       "  specific estimator or a Pipeline/ColumnTransformer */\n",
       "  background-color: var(--sklearn-color-background);\n",
       "}\n",
       "\n",
       "/* Toggleable label */\n",
       "#sk-container-id-2 label.sk-toggleable__label {\n",
       "  cursor: pointer;\n",
       "  display: block;\n",
       "  width: 100%;\n",
       "  margin-bottom: 0;\n",
       "  padding: 0.5em;\n",
       "  box-sizing: border-box;\n",
       "  text-align: center;\n",
       "}\n",
       "\n",
       "#sk-container-id-2 label.sk-toggleable__label-arrow:before {\n",
       "  /* Arrow on the left of the label */\n",
       "  content: \"▸\";\n",
       "  float: left;\n",
       "  margin-right: 0.25em;\n",
       "  color: var(--sklearn-color-icon);\n",
       "}\n",
       "\n",
       "#sk-container-id-2 label.sk-toggleable__label-arrow:hover:before {\n",
       "  color: var(--sklearn-color-text);\n",
       "}\n",
       "\n",
       "/* Toggleable content - dropdown */\n",
       "\n",
       "#sk-container-id-2 div.sk-toggleable__content {\n",
       "  max-height: 0;\n",
       "  max-width: 0;\n",
       "  overflow: hidden;\n",
       "  text-align: left;\n",
       "  /* unfitted */\n",
       "  background-color: var(--sklearn-color-unfitted-level-0);\n",
       "}\n",
       "\n",
       "#sk-container-id-2 div.sk-toggleable__content.fitted {\n",
       "  /* fitted */\n",
       "  background-color: var(--sklearn-color-fitted-level-0);\n",
       "}\n",
       "\n",
       "#sk-container-id-2 div.sk-toggleable__content pre {\n",
       "  margin: 0.2em;\n",
       "  border-radius: 0.25em;\n",
       "  color: var(--sklearn-color-text);\n",
       "  /* unfitted */\n",
       "  background-color: var(--sklearn-color-unfitted-level-0);\n",
       "}\n",
       "\n",
       "#sk-container-id-2 div.sk-toggleable__content.fitted pre {\n",
       "  /* unfitted */\n",
       "  background-color: var(--sklearn-color-fitted-level-0);\n",
       "}\n",
       "\n",
       "#sk-container-id-2 input.sk-toggleable__control:checked~div.sk-toggleable__content {\n",
       "  /* Expand drop-down */\n",
       "  max-height: 200px;\n",
       "  max-width: 100%;\n",
       "  overflow: auto;\n",
       "}\n",
       "\n",
       "#sk-container-id-2 input.sk-toggleable__control:checked~label.sk-toggleable__label-arrow:before {\n",
       "  content: \"▾\";\n",
       "}\n",
       "\n",
       "/* Pipeline/ColumnTransformer-specific style */\n",
       "\n",
       "#sk-container-id-2 div.sk-label input.sk-toggleable__control:checked~label.sk-toggleable__label {\n",
       "  color: var(--sklearn-color-text);\n",
       "  background-color: var(--sklearn-color-unfitted-level-2);\n",
       "}\n",
       "\n",
       "#sk-container-id-2 div.sk-label.fitted input.sk-toggleable__control:checked~label.sk-toggleable__label {\n",
       "  background-color: var(--sklearn-color-fitted-level-2);\n",
       "}\n",
       "\n",
       "/* Estimator-specific style */\n",
       "\n",
       "/* Colorize estimator box */\n",
       "#sk-container-id-2 div.sk-estimator input.sk-toggleable__control:checked~label.sk-toggleable__label {\n",
       "  /* unfitted */\n",
       "  background-color: var(--sklearn-color-unfitted-level-2);\n",
       "}\n",
       "\n",
       "#sk-container-id-2 div.sk-estimator.fitted input.sk-toggleable__control:checked~label.sk-toggleable__label {\n",
       "  /* fitted */\n",
       "  background-color: var(--sklearn-color-fitted-level-2);\n",
       "}\n",
       "\n",
       "#sk-container-id-2 div.sk-label label.sk-toggleable__label,\n",
       "#sk-container-id-2 div.sk-label label {\n",
       "  /* The background is the default theme color */\n",
       "  color: var(--sklearn-color-text-on-default-background);\n",
       "}\n",
       "\n",
       "/* On hover, darken the color of the background */\n",
       "#sk-container-id-2 div.sk-label:hover label.sk-toggleable__label {\n",
       "  color: var(--sklearn-color-text);\n",
       "  background-color: var(--sklearn-color-unfitted-level-2);\n",
       "}\n",
       "\n",
       "/* Label box, darken color on hover, fitted */\n",
       "#sk-container-id-2 div.sk-label.fitted:hover label.sk-toggleable__label.fitted {\n",
       "  color: var(--sklearn-color-text);\n",
       "  background-color: var(--sklearn-color-fitted-level-2);\n",
       "}\n",
       "\n",
       "/* Estimator label */\n",
       "\n",
       "#sk-container-id-2 div.sk-label label {\n",
       "  font-family: monospace;\n",
       "  font-weight: bold;\n",
       "  display: inline-block;\n",
       "  line-height: 1.2em;\n",
       "}\n",
       "\n",
       "#sk-container-id-2 div.sk-label-container {\n",
       "  text-align: center;\n",
       "}\n",
       "\n",
       "/* Estimator-specific */\n",
       "#sk-container-id-2 div.sk-estimator {\n",
       "  font-family: monospace;\n",
       "  border: 1px dotted var(--sklearn-color-border-box);\n",
       "  border-radius: 0.25em;\n",
       "  box-sizing: border-box;\n",
       "  margin-bottom: 0.5em;\n",
       "  /* unfitted */\n",
       "  background-color: var(--sklearn-color-unfitted-level-0);\n",
       "}\n",
       "\n",
       "#sk-container-id-2 div.sk-estimator.fitted {\n",
       "  /* fitted */\n",
       "  background-color: var(--sklearn-color-fitted-level-0);\n",
       "}\n",
       "\n",
       "/* on hover */\n",
       "#sk-container-id-2 div.sk-estimator:hover {\n",
       "  /* unfitted */\n",
       "  background-color: var(--sklearn-color-unfitted-level-2);\n",
       "}\n",
       "\n",
       "#sk-container-id-2 div.sk-estimator.fitted:hover {\n",
       "  /* fitted */\n",
       "  background-color: var(--sklearn-color-fitted-level-2);\n",
       "}\n",
       "\n",
       "/* Specification for estimator info (e.g. \"i\" and \"?\") */\n",
       "\n",
       "/* Common style for \"i\" and \"?\" */\n",
       "\n",
       ".sk-estimator-doc-link,\n",
       "a:link.sk-estimator-doc-link,\n",
       "a:visited.sk-estimator-doc-link {\n",
       "  float: right;\n",
       "  font-size: smaller;\n",
       "  line-height: 1em;\n",
       "  font-family: monospace;\n",
       "  background-color: var(--sklearn-color-background);\n",
       "  border-radius: 1em;\n",
       "  height: 1em;\n",
       "  width: 1em;\n",
       "  text-decoration: none !important;\n",
       "  margin-left: 1ex;\n",
       "  /* unfitted */\n",
       "  border: var(--sklearn-color-unfitted-level-1) 1pt solid;\n",
       "  color: var(--sklearn-color-unfitted-level-1);\n",
       "}\n",
       "\n",
       ".sk-estimator-doc-link.fitted,\n",
       "a:link.sk-estimator-doc-link.fitted,\n",
       "a:visited.sk-estimator-doc-link.fitted {\n",
       "  /* fitted */\n",
       "  border: var(--sklearn-color-fitted-level-1) 1pt solid;\n",
       "  color: var(--sklearn-color-fitted-level-1);\n",
       "}\n",
       "\n",
       "/* On hover */\n",
       "div.sk-estimator:hover .sk-estimator-doc-link:hover,\n",
       ".sk-estimator-doc-link:hover,\n",
       "div.sk-label-container:hover .sk-estimator-doc-link:hover,\n",
       ".sk-estimator-doc-link:hover {\n",
       "  /* unfitted */\n",
       "  background-color: var(--sklearn-color-unfitted-level-3);\n",
       "  color: var(--sklearn-color-background);\n",
       "  text-decoration: none;\n",
       "}\n",
       "\n",
       "div.sk-estimator.fitted:hover .sk-estimator-doc-link.fitted:hover,\n",
       ".sk-estimator-doc-link.fitted:hover,\n",
       "div.sk-label-container:hover .sk-estimator-doc-link.fitted:hover,\n",
       ".sk-estimator-doc-link.fitted:hover {\n",
       "  /* fitted */\n",
       "  background-color: var(--sklearn-color-fitted-level-3);\n",
       "  color: var(--sklearn-color-background);\n",
       "  text-decoration: none;\n",
       "}\n",
       "\n",
       "/* Span, style for the box shown on hovering the info icon */\n",
       ".sk-estimator-doc-link span {\n",
       "  display: none;\n",
       "  z-index: 9999;\n",
       "  position: relative;\n",
       "  font-weight: normal;\n",
       "  right: .2ex;\n",
       "  padding: .5ex;\n",
       "  margin: .5ex;\n",
       "  width: min-content;\n",
       "  min-width: 20ex;\n",
       "  max-width: 50ex;\n",
       "  color: var(--sklearn-color-text);\n",
       "  box-shadow: 2pt 2pt 4pt #999;\n",
       "  /* unfitted */\n",
       "  background: var(--sklearn-color-unfitted-level-0);\n",
       "  border: .5pt solid var(--sklearn-color-unfitted-level-3);\n",
       "}\n",
       "\n",
       ".sk-estimator-doc-link.fitted span {\n",
       "  /* fitted */\n",
       "  background: var(--sklearn-color-fitted-level-0);\n",
       "  border: var(--sklearn-color-fitted-level-3);\n",
       "}\n",
       "\n",
       ".sk-estimator-doc-link:hover span {\n",
       "  display: block;\n",
       "}\n",
       "\n",
       "/* \"?\"-specific style due to the `<a>` HTML tag */\n",
       "\n",
       "#sk-container-id-2 a.estimator_doc_link {\n",
       "  float: right;\n",
       "  font-size: 1rem;\n",
       "  line-height: 1em;\n",
       "  font-family: monospace;\n",
       "  background-color: var(--sklearn-color-background);\n",
       "  border-radius: 1rem;\n",
       "  height: 1rem;\n",
       "  width: 1rem;\n",
       "  text-decoration: none;\n",
       "  /* unfitted */\n",
       "  color: var(--sklearn-color-unfitted-level-1);\n",
       "  border: var(--sklearn-color-unfitted-level-1) 1pt solid;\n",
       "}\n",
       "\n",
       "#sk-container-id-2 a.estimator_doc_link.fitted {\n",
       "  /* fitted */\n",
       "  border: var(--sklearn-color-fitted-level-1) 1pt solid;\n",
       "  color: var(--sklearn-color-fitted-level-1);\n",
       "}\n",
       "\n",
       "/* On hover */\n",
       "#sk-container-id-2 a.estimator_doc_link:hover {\n",
       "  /* unfitted */\n",
       "  background-color: var(--sklearn-color-unfitted-level-3);\n",
       "  color: var(--sklearn-color-background);\n",
       "  text-decoration: none;\n",
       "}\n",
       "\n",
       "#sk-container-id-2 a.estimator_doc_link.fitted:hover {\n",
       "  /* fitted */\n",
       "  background-color: var(--sklearn-color-fitted-level-3);\n",
       "}\n",
       "</style><div id=\"sk-container-id-2\" class=\"sk-top-container\"><div class=\"sk-text-repr-fallback\"><pre>XGBRegressor(base_score=None, booster=None, callbacks=None,\n",
       "             colsample_bylevel=None, colsample_bynode=None,\n",
       "             colsample_bytree=0.7050046907622647, early_stopping_rounds=None,\n",
       "             enable_categorical=False, eval_metric=None, feature_types=None,\n",
       "             gamma=None, gpu_id=None, grow_policy=None, importance_type=None,\n",
       "             interaction_constraints=None, learning_rate=0.005338679492821957,\n",
       "             max_bin=None, max_cat_threshold=None, max_cat_to_onehot=None,\n",
       "             max_delta_step=None, max_depth=9, max_leaves=None,\n",
       "             min_child_weight=18, missing=nan, monotone_constraints=None,\n",
       "             n_estimators=1245, n_jobs=None, num_parallel_tree=None,\n",
       "             predictor=None, random_state=None, ...)</pre><b>In a Jupyter environment, please rerun this cell to show the HTML representation or trust the notebook. <br />On GitHub, the HTML representation is unable to render, please try loading this page with nbviewer.org.</b></div><div class=\"sk-container\" hidden><div class=\"sk-item\"><div class=\"sk-estimator fitted sk-toggleable\"><input class=\"sk-toggleable__control sk-hidden--visually\" id=\"sk-estimator-id-2\" type=\"checkbox\" checked><label for=\"sk-estimator-id-2\" class=\"sk-toggleable__label fitted sk-toggleable__label-arrow fitted\">&nbsp;XGBRegressor<span class=\"sk-estimator-doc-link fitted\">i<span>Fitted</span></span></label><div class=\"sk-toggleable__content fitted\"><pre>XGBRegressor(base_score=None, booster=None, callbacks=None,\n",
       "             colsample_bylevel=None, colsample_bynode=None,\n",
       "             colsample_bytree=0.7050046907622647, early_stopping_rounds=None,\n",
       "             enable_categorical=False, eval_metric=None, feature_types=None,\n",
       "             gamma=None, gpu_id=None, grow_policy=None, importance_type=None,\n",
       "             interaction_constraints=None, learning_rate=0.005338679492821957,\n",
       "             max_bin=None, max_cat_threshold=None, max_cat_to_onehot=None,\n",
       "             max_delta_step=None, max_depth=9, max_leaves=None,\n",
       "             min_child_weight=18, missing=nan, monotone_constraints=None,\n",
       "             n_estimators=1245, n_jobs=None, num_parallel_tree=None,\n",
       "             predictor=None, random_state=None, ...)</pre></div> </div></div></div></div>"
      ],
      "text/plain": [
       "XGBRegressor(base_score=None, booster=None, callbacks=None,\n",
       "             colsample_bylevel=None, colsample_bynode=None,\n",
       "             colsample_bytree=0.7050046907622647, early_stopping_rounds=None,\n",
       "             enable_categorical=False, eval_metric=None, feature_types=None,\n",
       "             gamma=None, gpu_id=None, grow_policy=None, importance_type=None,\n",
       "             interaction_constraints=None, learning_rate=0.005338679492821957,\n",
       "             max_bin=None, max_cat_threshold=None, max_cat_to_onehot=None,\n",
       "             max_delta_step=None, max_depth=9, max_leaves=None,\n",
       "             min_child_weight=18, missing=nan, monotone_constraints=None,\n",
       "             n_estimators=1245, n_jobs=None, num_parallel_tree=None,\n",
       "             predictor=None, random_state=None, ...)"
      ]
     },
     "execution_count": 55,
     "metadata": {},
     "output_type": "execute_result"
    }
   ],
   "source": [
    "# optuna를 통해 생성한 하이퍼 파라미터로 조정하여, xgb 모델 생성\n",
    "xgb_optuna.fit(X_train, y_train)"
   ]
  },
  {
   "cell_type": "markdown",
   "metadata": {},
   "source": [
    "#### Feature Importance 확인\n",
    "- player_name, goals, current_club_name, assists 순서\n",
    "    - `player_name` : 선수 이름에 따라 몸값이 다르게 매겨지기 때문에 가장 크게 나온 것으로 보인다\n",
    "    - `goals`\n",
    "    - `current_club_name` : 소속 팀에 따라 가치가 매겨지는 경우가 있어서 중요도 있는 것으로 나옴 (ex. 빅클럽 이적)\n",
    "    - `assists`"
   ]
  },
  {
   "cell_type": "code",
   "execution_count": 56,
   "metadata": {},
   "outputs": [
    {
     "data": {
      "image/png": "[encoded data removed]",
      "text/plain": [
       "<Figure size 800x400 with 1 Axes>"
      ]
     },
     "metadata": {
      "image/png": {
       "height": 392,
       "width": 801
      }
     },
     "output_type": "display_data"
    }
   ],
   "source": [
    "# feature importance 파악\n",
    "\n",
    "# 배열형태로 반환\n",
    "xgb_importance_values = xgb_optuna.feature_importances_\n",
    "\n",
    "# 정렬과 시각화를 쉽게 하기 위해 series 전환\n",
    "xgb_series = pd.Series(xgb_importance_values, index = X_train.columns)\n",
    "xgb_top10 = xgb_series.sort_values(ascending=False)[:10]\n",
    "\n",
    "# 시각화\n",
    "plt.figure(figsize=(8,4))\n",
    "plt.title('Feature Importance Top 10')\n",
    "sns.barplot(x=xgb_top10, y=xgb_top10.index)\n",
    "plt.show()\n",
    "\n",
    "\n",
    "# 이 지표는 절대적이지 않다.\n",
    "# 중요도는 낮게 평가되었지만 실제로 중요한 특성일 수도 있고,\n",
    "# 그렇기 때문에 제거했을 경우 성능이 떨어질 수도 있다.\n",
    "# -> 상위 n개의 특성들을 제외한 나머지 특성들을 모두 제거하는 방식은 바람직하지 못함\n",
    "\n",
    "# feature importance를 고려하여 특성별로 A/B test 를 진행하며 feature selection 해야 한다\n",
    "# https://hwi-doc.tistory.com/entry/Feature-selection-feature-importance-vs-permutation-importance"
   ]
  },
  {
   "cell_type": "markdown",
   "metadata": {},
   "source": [
    "### `XGBoost` 모델로 예측한 test 값을 y_test 값과 비교"
   ]
  },
  {
   "cell_type": "code",
   "execution_count": 74,
   "metadata": {},
   "outputs": [],
   "source": [
    "# test 데이터프레임 copy\n",
    "test_copy_xgb = test.copy()\n",
    "\n",
    "# xgb_optuna 모델로 예측한 X_test의 몸값을 담은 컬럼을 test_copy에 생성\n",
    "test_copy_xgb[\"market_value_pred\"] = xgb_optuna.predict(X_test)"
   ]
  },
  {
   "cell_type": "code",
   "execution_count": 75,
   "metadata": {},
   "outputs": [],
   "source": [
    "# get_rmsle 함수 활용하여, 실제 몸값과 예측 몸값의 차이 RMSLE 계산한 컬럼 생성\n",
    "test_copy_xgb['market_value_rmsle'] = test_copy_xgb.apply(lambda x:get_rmsle(x[\"market_value_per_season\"], x[\"market_value_pred\"]), axis=1)"
   ]
  },
  {
   "cell_type": "code",
   "execution_count": 76,
   "metadata": {},
   "outputs": [],
   "source": [
    "test_copy_xgb = test_copy_xgb[['player_name', 'market_value_per_season', 'market_value_pred', 'market_value_rmsle',\n",
    "                       'start_season', 'goals', 'assists', 'minutes_played',\n",
    "                       'competition_code', 'age', 'position', 'current_club_name', 'country', \n",
    "                       'foot', 'height_in_cm']]"
   ]
  },
  {
   "cell_type": "code",
   "execution_count": 77,
   "metadata": {},
   "outputs": [],
   "source": [
    "pd.options.display.float_format = '{:.2f}'.format"
   ]
  },
  {
   "cell_type": "code",
   "execution_count": 78,
   "metadata": {},
   "outputs": [
    {
     "data": {
      "text/html": [
       "<div>\n",
       "<style scoped>\n",
       "    .dataframe tbody tr th:only-of-type {\n",
       "        vertical-align: middle;\n",
       "    }\n",
       "\n",
       "    .dataframe tbody tr th {\n",
       "        vertical-align: top;\n",
       "    }\n",
       "\n",
       "    .dataframe thead th {\n",
       "        text-align: right;\n",
       "    }\n",
       "</style>\n",
       "<table border=\"1\" class=\"dataframe\">\n",
       "  <thead>\n",
       "    <tr style=\"text-align: right;\">\n",
       "      <th></th>\n",
       "      <th>market_value_per_season</th>\n",
       "      <th>market_value_pred</th>\n",
       "      <th>market_value_rmsle</th>\n",
       "      <th>start_season</th>\n",
       "      <th>goals</th>\n",
       "      <th>assists</th>\n",
       "      <th>minutes_played</th>\n",
       "      <th>age</th>\n",
       "      <th>height_in_cm</th>\n",
       "    </tr>\n",
       "  </thead>\n",
       "  <tbody>\n",
       "    <tr>\n",
       "      <th>count</th>\n",
       "      <td>2916.00</td>\n",
       "      <td>2916.00</td>\n",
       "      <td>2903.00</td>\n",
       "      <td>2916.00</td>\n",
       "      <td>2916.00</td>\n",
       "      <td>2916.00</td>\n",
       "      <td>2916.00</td>\n",
       "      <td>2916.00</td>\n",
       "      <td>2916.00</td>\n",
       "    </tr>\n",
       "    <tr>\n",
       "      <th>mean</th>\n",
       "      <td>10746150.55</td>\n",
       "      <td>9572428.00</td>\n",
       "      <td>0.47</td>\n",
       "      <td>2023.00</td>\n",
       "      <td>1.75</td>\n",
       "      <td>1.35</td>\n",
       "      <td>1242.71</td>\n",
       "      <td>26.22</td>\n",
       "      <td>182.77</td>\n",
       "    </tr>\n",
       "    <tr>\n",
       "      <th>std</th>\n",
       "      <td>16543013.03</td>\n",
       "      <td>12551638.00</td>\n",
       "      <td>0.42</td>\n",
       "      <td>0.00</td>\n",
       "      <td>3.13</td>\n",
       "      <td>2.01</td>\n",
       "      <td>868.15</td>\n",
       "      <td>4.39</td>\n",
       "      <td>6.75</td>\n",
       "    </tr>\n",
       "    <tr>\n",
       "      <th>min</th>\n",
       "      <td>50000.00</td>\n",
       "      <td>-764650.44</td>\n",
       "      <td>0.00</td>\n",
       "      <td>2023.00</td>\n",
       "      <td>0.00</td>\n",
       "      <td>0.00</td>\n",
       "      <td>1.00</td>\n",
       "      <td>16.00</td>\n",
       "      <td>163.00</td>\n",
       "    </tr>\n",
       "    <tr>\n",
       "      <th>25%</th>\n",
       "      <td>1700000.00</td>\n",
       "      <td>2241690.25</td>\n",
       "      <td>0.16</td>\n",
       "      <td>2023.00</td>\n",
       "      <td>0.00</td>\n",
       "      <td>0.00</td>\n",
       "      <td>451.50</td>\n",
       "      <td>23.00</td>\n",
       "      <td>178.00</td>\n",
       "    </tr>\n",
       "    <tr>\n",
       "      <th>50%</th>\n",
       "      <td>4500000.00</td>\n",
       "      <td>4960468.75</td>\n",
       "      <td>0.35</td>\n",
       "      <td>2023.00</td>\n",
       "      <td>1.00</td>\n",
       "      <td>1.00</td>\n",
       "      <td>1178.00</td>\n",
       "      <td>26.00</td>\n",
       "      <td>183.00</td>\n",
       "    </tr>\n",
       "    <tr>\n",
       "      <th>75%</th>\n",
       "      <td>13000000.00</td>\n",
       "      <td>11673470.00</td>\n",
       "      <td>0.64</td>\n",
       "      <td>2023.00</td>\n",
       "      <td>2.00</td>\n",
       "      <td>2.00</td>\n",
       "      <td>1942.25</td>\n",
       "      <td>29.00</td>\n",
       "      <td>188.00</td>\n",
       "    </tr>\n",
       "    <tr>\n",
       "      <th>max</th>\n",
       "      <td>180000000.00</td>\n",
       "      <td>116938584.00</td>\n",
       "      <td>3.83</td>\n",
       "      <td>2023.00</td>\n",
       "      <td>36.00</td>\n",
       "      <td>14.00</td>\n",
       "      <td>3240.00</td>\n",
       "      <td>41.00</td>\n",
       "      <td>206.00</td>\n",
       "    </tr>\n",
       "  </tbody>\n",
       "</table>\n",
       "</div>"
      ],
      "text/plain": [
       "       market_value_per_season  market_value_pred  market_value_rmsle  \\\n",
       "count                  2916.00            2916.00             2903.00   \n",
       "mean               10746150.55         9572428.00                0.47   \n",
       "std                16543013.03        12551638.00                0.42   \n",
       "min                   50000.00         -764650.44                0.00   \n",
       "25%                 1700000.00         2241690.25                0.16   \n",
       "50%                 4500000.00         4960468.75                0.35   \n",
       "75%                13000000.00        11673470.00                0.64   \n",
       "max               180000000.00       116938584.00                3.83   \n",
       "\n",
       "       start_season   goals  assists  minutes_played     age  height_in_cm  \n",
       "count       2916.00 2916.00  2916.00         2916.00 2916.00       2916.00  \n",
       "mean        2023.00    1.75     1.35         1242.71   26.22        182.77  \n",
       "std            0.00    3.13     2.01          868.15    4.39          6.75  \n",
       "min         2023.00    0.00     0.00            1.00   16.00        163.00  \n",
       "25%         2023.00    0.00     0.00          451.50   23.00        178.00  \n",
       "50%         2023.00    1.00     1.00         1178.00   26.00        183.00  \n",
       "75%         2023.00    2.00     2.00         1942.25   29.00        188.00  \n",
       "max         2023.00   36.00    14.00         3240.00   41.00        206.00  "
      ]
     },
     "execution_count": 78,
     "metadata": {},
     "output_type": "execute_result"
    }
   ],
   "source": [
    "test_copy_xgb.describe()"
   ]
  },
  {
   "cell_type": "code",
   "execution_count": 79,
   "metadata": {},
   "outputs": [
    {
     "data": {
      "text/html": [
       "<div>\n",
       "<style scoped>\n",
       "    .dataframe tbody tr th:only-of-type {\n",
       "        vertical-align: middle;\n",
       "    }\n",
       "\n",
       "    .dataframe tbody tr th {\n",
       "        vertical-align: top;\n",
       "    }\n",
       "\n",
       "    .dataframe thead th {\n",
       "        text-align: right;\n",
       "    }\n",
       "</style>\n",
       "<table border=\"1\" class=\"dataframe\">\n",
       "  <thead>\n",
       "    <tr style=\"text-align: right;\">\n",
       "      <th></th>\n",
       "      <th>player_name</th>\n",
       "      <th>market_value_per_season</th>\n",
       "      <th>market_value_pred</th>\n",
       "      <th>market_value_rmsle</th>\n",
       "      <th>start_season</th>\n",
       "      <th>goals</th>\n",
       "      <th>assists</th>\n",
       "      <th>minutes_played</th>\n",
       "      <th>competition_code</th>\n",
       "      <th>age</th>\n",
       "      <th>position</th>\n",
       "      <th>current_club_name</th>\n",
       "      <th>country</th>\n",
       "      <th>foot</th>\n",
       "      <th>height_in_cm</th>\n",
       "    </tr>\n",
       "  </thead>\n",
       "  <tbody>\n",
       "    <tr>\n",
       "      <th>5627</th>\n",
       "      <td>Harry Kane</td>\n",
       "      <td>110000000.00</td>\n",
       "      <td>111698504.00</td>\n",
       "      <td>0.02</td>\n",
       "      <td>2023</td>\n",
       "      <td>36</td>\n",
       "      <td>8</td>\n",
       "      <td>2843</td>\n",
       "      <td>bundesliga</td>\n",
       "      <td>30</td>\n",
       "      <td>Centre-Forward</td>\n",
       "      <td>FC Bayern München</td>\n",
       "      <td>England</td>\n",
       "      <td>right</td>\n",
       "      <td>188.00</td>\n",
       "    </tr>\n",
       "    <tr>\n",
       "      <th>7709</th>\n",
       "      <td>Julián Álvarez</td>\n",
       "      <td>90000000.00</td>\n",
       "      <td>90180120.00</td>\n",
       "      <td>0.00</td>\n",
       "      <td>2023</td>\n",
       "      <td>10</td>\n",
       "      <td>9</td>\n",
       "      <td>2650</td>\n",
       "      <td>premier-league</td>\n",
       "      <td>24</td>\n",
       "      <td>Second Striker</td>\n",
       "      <td>Manchester City Football Club</td>\n",
       "      <td>Argentina</td>\n",
       "      <td>right</td>\n",
       "      <td>170.00</td>\n",
       "    </tr>\n",
       "    <tr>\n",
       "      <th>8581</th>\n",
       "      <td>Leroy Sané</td>\n",
       "      <td>70000000.00</td>\n",
       "      <td>69747992.00</td>\n",
       "      <td>0.00</td>\n",
       "      <td>2023</td>\n",
       "      <td>8</td>\n",
       "      <td>11</td>\n",
       "      <td>2137</td>\n",
       "      <td>bundesliga</td>\n",
       "      <td>28</td>\n",
       "      <td>Right Winger</td>\n",
       "      <td>FC Bayern München</td>\n",
       "      <td>Germany</td>\n",
       "      <td>left</td>\n",
       "      <td>183.00</td>\n",
       "    </tr>\n",
       "    <tr>\n",
       "      <th>3200</th>\n",
       "      <td>Darwin Núñez</td>\n",
       "      <td>70000000.00</td>\n",
       "      <td>70615416.00</td>\n",
       "      <td>0.01</td>\n",
       "      <td>2023</td>\n",
       "      <td>11</td>\n",
       "      <td>8</td>\n",
       "      <td>2011</td>\n",
       "      <td>premier-league</td>\n",
       "      <td>24</td>\n",
       "      <td>Centre-Forward</td>\n",
       "      <td>Liverpool Football Club</td>\n",
       "      <td>Uruguay</td>\n",
       "      <td>right</td>\n",
       "      <td>187.00</td>\n",
       "    </tr>\n",
       "    <tr>\n",
       "      <th>2111</th>\n",
       "      <td>Bruno Fernandes</td>\n",
       "      <td>70000000.00</td>\n",
       "      <td>72835856.00</td>\n",
       "      <td>0.04</td>\n",
       "      <td>2023</td>\n",
       "      <td>10</td>\n",
       "      <td>7</td>\n",
       "      <td>2970</td>\n",
       "      <td>premier-league</td>\n",
       "      <td>29</td>\n",
       "      <td>Attacking Midfield</td>\n",
       "      <td>Manchester United Football Club</td>\n",
       "      <td>Portugal</td>\n",
       "      <td>right</td>\n",
       "      <td>179.00</td>\n",
       "    </tr>\n",
       "    <tr>\n",
       "      <th>11596</th>\n",
       "      <td>Ollie Watkins</td>\n",
       "      <td>65000000.00</td>\n",
       "      <td>65060764.00</td>\n",
       "      <td>0.00</td>\n",
       "      <td>2023</td>\n",
       "      <td>19</td>\n",
       "      <td>12</td>\n",
       "      <td>3068</td>\n",
       "      <td>premier-league</td>\n",
       "      <td>28</td>\n",
       "      <td>Centre-Forward</td>\n",
       "      <td>Aston Villa Football Club</td>\n",
       "      <td>England</td>\n",
       "      <td>right</td>\n",
       "      <td>180.00</td>\n",
       "    </tr>\n",
       "    <tr>\n",
       "      <th>3350</th>\n",
       "      <td>Dayot Upamecano</td>\n",
       "      <td>50000000.00</td>\n",
       "      <td>49242968.00</td>\n",
       "      <td>0.02</td>\n",
       "      <td>2023</td>\n",
       "      <td>1</td>\n",
       "      <td>0</td>\n",
       "      <td>1590</td>\n",
       "      <td>bundesliga</td>\n",
       "      <td>25</td>\n",
       "      <td>Centre-Back</td>\n",
       "      <td>FC Bayern München</td>\n",
       "      <td>France</td>\n",
       "      <td>right</td>\n",
       "      <td>186.00</td>\n",
       "    </tr>\n",
       "    <tr>\n",
       "      <th>7653</th>\n",
       "      <td>Jules Koundé</td>\n",
       "      <td>50000000.00</td>\n",
       "      <td>52263056.00</td>\n",
       "      <td>0.04</td>\n",
       "      <td>2023</td>\n",
       "      <td>1</td>\n",
       "      <td>2</td>\n",
       "      <td>2539</td>\n",
       "      <td>laliga</td>\n",
       "      <td>25</td>\n",
       "      <td>Centre-Back</td>\n",
       "      <td>Futbol Club Barcelona</td>\n",
       "      <td>France</td>\n",
       "      <td>right</td>\n",
       "      <td>180.00</td>\n",
       "    </tr>\n",
       "    <tr>\n",
       "      <th>2065</th>\n",
       "      <td>Brennan Johnson</td>\n",
       "      <td>48000000.00</td>\n",
       "      <td>49321336.00</td>\n",
       "      <td>0.03</td>\n",
       "      <td>2023</td>\n",
       "      <td>5</td>\n",
       "      <td>8</td>\n",
       "      <td>1823</td>\n",
       "      <td>premier-league</td>\n",
       "      <td>22</td>\n",
       "      <td>Right Winger</td>\n",
       "      <td>Tottenham Hotspur Football Club</td>\n",
       "      <td>Wales</td>\n",
       "      <td>right</td>\n",
       "      <td>186.00</td>\n",
       "    </tr>\n",
       "    <tr>\n",
       "      <th>13766</th>\n",
       "      <td>Serge Gnabry</td>\n",
       "      <td>45000000.00</td>\n",
       "      <td>44091620.00</td>\n",
       "      <td>0.02</td>\n",
       "      <td>2023</td>\n",
       "      <td>3</td>\n",
       "      <td>2</td>\n",
       "      <td>433</td>\n",
       "      <td>bundesliga</td>\n",
       "      <td>28</td>\n",
       "      <td>Right Winger</td>\n",
       "      <td>FC Bayern München</td>\n",
       "      <td>Germany</td>\n",
       "      <td>right</td>\n",
       "      <td>176.00</td>\n",
       "    </tr>\n",
       "    <tr>\n",
       "      <th>8865</th>\n",
       "      <td>Lucas Hernández</td>\n",
       "      <td>45000000.00</td>\n",
       "      <td>43612740.00</td>\n",
       "      <td>0.03</td>\n",
       "      <td>2023</td>\n",
       "      <td>1</td>\n",
       "      <td>2</td>\n",
       "      <td>1915</td>\n",
       "      <td>ligue-1</td>\n",
       "      <td>28</td>\n",
       "      <td>Left-Back</td>\n",
       "      <td>Paris Saint-Germain Football Club</td>\n",
       "      <td>France</td>\n",
       "      <td>left</td>\n",
       "      <td>184.00</td>\n",
       "    </tr>\n",
       "    <tr>\n",
       "      <th>10005</th>\n",
       "      <td>Matheus Cunha</td>\n",
       "      <td>42000000.00</td>\n",
       "      <td>40328896.00</td>\n",
       "      <td>0.04</td>\n",
       "      <td>2023</td>\n",
       "      <td>11</td>\n",
       "      <td>7</td>\n",
       "      <td>2286</td>\n",
       "      <td>premier-league</td>\n",
       "      <td>24</td>\n",
       "      <td>Centre-Forward</td>\n",
       "      <td>Wolverhampton Wanderers Football Club</td>\n",
       "      <td>Brazil</td>\n",
       "      <td>right</td>\n",
       "      <td>183.00</td>\n",
       "    </tr>\n",
       "    <tr>\n",
       "      <th>9382</th>\n",
       "      <td>Manuel Akanji</td>\n",
       "      <td>42000000.00</td>\n",
       "      <td>41711456.00</td>\n",
       "      <td>0.01</td>\n",
       "      <td>2023</td>\n",
       "      <td>2</td>\n",
       "      <td>0</td>\n",
       "      <td>2263</td>\n",
       "      <td>premier-league</td>\n",
       "      <td>28</td>\n",
       "      <td>Centre-Back</td>\n",
       "      <td>Manchester City Football Club</td>\n",
       "      <td>Switzerland</td>\n",
       "      <td>right</td>\n",
       "      <td>188.00</td>\n",
       "    </tr>\n",
       "    <tr>\n",
       "      <th>9929</th>\n",
       "      <td>Mason Mount</td>\n",
       "      <td>40000000.00</td>\n",
       "      <td>38538500.00</td>\n",
       "      <td>0.04</td>\n",
       "      <td>2023</td>\n",
       "      <td>1</td>\n",
       "      <td>0</td>\n",
       "      <td>514</td>\n",
       "      <td>premier-league</td>\n",
       "      <td>25</td>\n",
       "      <td>Attacking Midfield</td>\n",
       "      <td>Manchester United Football Club</td>\n",
       "      <td>England</td>\n",
       "      <td>right</td>\n",
       "      <td>181.00</td>\n",
       "    </tr>\n",
       "    <tr>\n",
       "      <th>10649</th>\n",
       "      <td>Milan Skriniar</td>\n",
       "      <td>40000000.00</td>\n",
       "      <td>41425044.00</td>\n",
       "      <td>0.04</td>\n",
       "      <td>2023</td>\n",
       "      <td>0</td>\n",
       "      <td>0</td>\n",
       "      <td>1425</td>\n",
       "      <td>ligue-1</td>\n",
       "      <td>29</td>\n",
       "      <td>Centre-Back</td>\n",
       "      <td>Paris Saint-Germain Football Club</td>\n",
       "      <td>Slovakia</td>\n",
       "      <td>right</td>\n",
       "      <td>188.00</td>\n",
       "    </tr>\n",
       "    <tr>\n",
       "      <th>3865</th>\n",
       "      <td>Ederson</td>\n",
       "      <td>40000000.00</td>\n",
       "      <td>38965816.00</td>\n",
       "      <td>0.03</td>\n",
       "      <td>2023</td>\n",
       "      <td>0</td>\n",
       "      <td>0</td>\n",
       "      <td>2629</td>\n",
       "      <td>premier-league</td>\n",
       "      <td>30</td>\n",
       "      <td>Goalkeeper</td>\n",
       "      <td>Manchester City Football Club</td>\n",
       "      <td>Brazil</td>\n",
       "      <td>left</td>\n",
       "      <td>188.00</td>\n",
       "    </tr>\n",
       "    <tr>\n",
       "      <th>5651</th>\n",
       "      <td>Harvey Elliott</td>\n",
       "      <td>35000000.00</td>\n",
       "      <td>35717044.00</td>\n",
       "      <td>0.02</td>\n",
       "      <td>2023</td>\n",
       "      <td>3</td>\n",
       "      <td>4</td>\n",
       "      <td>1179</td>\n",
       "      <td>premier-league</td>\n",
       "      <td>21</td>\n",
       "      <td>Attacking Midfield</td>\n",
       "      <td>Liverpool Football Club</td>\n",
       "      <td>England</td>\n",
       "      <td>left</td>\n",
       "      <td>170.00</td>\n",
       "    </tr>\n",
       "    <tr>\n",
       "      <th>5647</th>\n",
       "      <td>Harvey Barnes</td>\n",
       "      <td>35000000.00</td>\n",
       "      <td>35281288.00</td>\n",
       "      <td>0.01</td>\n",
       "      <td>2023</td>\n",
       "      <td>4</td>\n",
       "      <td>3</td>\n",
       "      <td>691</td>\n",
       "      <td>premier-league</td>\n",
       "      <td>26</td>\n",
       "      <td>Left Winger</td>\n",
       "      <td>Newcastle United Football Club</td>\n",
       "      <td>England</td>\n",
       "      <td>right</td>\n",
       "      <td>182.00</td>\n",
       "    </tr>\n",
       "    <tr>\n",
       "      <th>1826</th>\n",
       "      <td>Benoît Badiashile</td>\n",
       "      <td>32000000.00</td>\n",
       "      <td>33424160.00</td>\n",
       "      <td>0.04</td>\n",
       "      <td>2023</td>\n",
       "      <td>0</td>\n",
       "      <td>1</td>\n",
       "      <td>1100</td>\n",
       "      <td>premier-league</td>\n",
       "      <td>23</td>\n",
       "      <td>Centre-Back</td>\n",
       "      <td>Chelsea Football Club</td>\n",
       "      <td>France</td>\n",
       "      <td>left</td>\n",
       "      <td>194.00</td>\n",
       "    </tr>\n",
       "    <tr>\n",
       "      <th>1727</th>\n",
       "      <td>Ben Chilwell</td>\n",
       "      <td>30000000.00</td>\n",
       "      <td>29879696.00</td>\n",
       "      <td>0.00</td>\n",
       "      <td>2023</td>\n",
       "      <td>0</td>\n",
       "      <td>1</td>\n",
       "      <td>757</td>\n",
       "      <td>premier-league</td>\n",
       "      <td>27</td>\n",
       "      <td>Left-Back</td>\n",
       "      <td>Chelsea Football Club</td>\n",
       "      <td>England</td>\n",
       "      <td>left</td>\n",
       "      <td>180.00</td>\n",
       "    </tr>\n",
       "  </tbody>\n",
       "</table>\n",
       "</div>"
      ],
      "text/plain": [
       "             player_name  market_value_per_season  market_value_pred  \\\n",
       "5627          Harry Kane             110000000.00       111698504.00   \n",
       "7709      Julián Álvarez              90000000.00        90180120.00   \n",
       "8581          Leroy Sané              70000000.00        69747992.00   \n",
       "3200        Darwin Núñez              70000000.00        70615416.00   \n",
       "2111     Bruno Fernandes              70000000.00        72835856.00   \n",
       "11596      Ollie Watkins              65000000.00        65060764.00   \n",
       "3350     Dayot Upamecano              50000000.00        49242968.00   \n",
       "7653        Jules Koundé              50000000.00        52263056.00   \n",
       "2065     Brennan Johnson              48000000.00        49321336.00   \n",
       "13766       Serge Gnabry              45000000.00        44091620.00   \n",
       "8865     Lucas Hernández              45000000.00        43612740.00   \n",
       "10005      Matheus Cunha              42000000.00        40328896.00   \n",
       "9382       Manuel Akanji              42000000.00        41711456.00   \n",
       "9929         Mason Mount              40000000.00        38538500.00   \n",
       "10649     Milan Skriniar              40000000.00        41425044.00   \n",
       "3865             Ederson              40000000.00        38965816.00   \n",
       "5651      Harvey Elliott              35000000.00        35717044.00   \n",
       "5647       Harvey Barnes              35000000.00        35281288.00   \n",
       "1826   Benoît Badiashile              32000000.00        33424160.00   \n",
       "1727        Ben Chilwell              30000000.00        29879696.00   \n",
       "\n",
       "       market_value_rmsle  start_season  goals  assists  minutes_played  \\\n",
       "5627                 0.02          2023     36        8            2843   \n",
       "7709                 0.00          2023     10        9            2650   \n",
       "8581                 0.00          2023      8       11            2137   \n",
       "3200                 0.01          2023     11        8            2011   \n",
       "2111                 0.04          2023     10        7            2970   \n",
       "11596                0.00          2023     19       12            3068   \n",
       "3350                 0.02          2023      1        0            1590   \n",
       "7653                 0.04          2023      1        2            2539   \n",
       "2065                 0.03          2023      5        8            1823   \n",
       "13766                0.02          2023      3        2             433   \n",
       "8865                 0.03          2023      1        2            1915   \n",
       "10005                0.04          2023     11        7            2286   \n",
       "9382                 0.01          2023      2        0            2263   \n",
       "9929                 0.04          2023      1        0             514   \n",
       "10649                0.04          2023      0        0            1425   \n",
       "3865                 0.03          2023      0        0            2629   \n",
       "5651                 0.02          2023      3        4            1179   \n",
       "5647                 0.01          2023      4        3             691   \n",
       "1826                 0.04          2023      0        1            1100   \n",
       "1727                 0.00          2023      0        1             757   \n",
       "\n",
       "      competition_code  age            position  \\\n",
       "5627        bundesliga   30      Centre-Forward   \n",
       "7709    premier-league   24      Second Striker   \n",
       "8581        bundesliga   28        Right Winger   \n",
       "3200    premier-league   24      Centre-Forward   \n",
       "2111    premier-league   29  Attacking Midfield   \n",
       "11596   premier-league   28      Centre-Forward   \n",
       "3350        bundesliga   25         Centre-Back   \n",
       "7653            laliga   25         Centre-Back   \n",
       "2065    premier-league   22        Right Winger   \n",
       "13766       bundesliga   28        Right Winger   \n",
       "8865           ligue-1   28           Left-Back   \n",
       "10005   premier-league   24      Centre-Forward   \n",
       "9382    premier-league   28         Centre-Back   \n",
       "9929    premier-league   25  Attacking Midfield   \n",
       "10649          ligue-1   29         Centre-Back   \n",
       "3865    premier-league   30          Goalkeeper   \n",
       "5651    premier-league   21  Attacking Midfield   \n",
       "5647    premier-league   26         Left Winger   \n",
       "1826    premier-league   23         Centre-Back   \n",
       "1727    premier-league   27           Left-Back   \n",
       "\n",
       "                           current_club_name      country   foot  height_in_cm  \n",
       "5627                       FC Bayern München      England  right        188.00  \n",
       "7709           Manchester City Football Club    Argentina  right        170.00  \n",
       "8581                       FC Bayern München      Germany   left        183.00  \n",
       "3200                 Liverpool Football Club      Uruguay  right        187.00  \n",
       "2111         Manchester United Football Club     Portugal  right        179.00  \n",
       "11596              Aston Villa Football Club      England  right        180.00  \n",
       "3350                       FC Bayern München       France  right        186.00  \n",
       "7653                   Futbol Club Barcelona       France  right        180.00  \n",
       "2065         Tottenham Hotspur Football Club        Wales  right        186.00  \n",
       "13766                      FC Bayern München      Germany  right        176.00  \n",
       "8865       Paris Saint-Germain Football Club       France   left        184.00  \n",
       "10005  Wolverhampton Wanderers Football Club       Brazil  right        183.00  \n",
       "9382           Manchester City Football Club  Switzerland  right        188.00  \n",
       "9929         Manchester United Football Club      England  right        181.00  \n",
       "10649      Paris Saint-Germain Football Club     Slovakia  right        188.00  \n",
       "3865           Manchester City Football Club       Brazil   left        188.00  \n",
       "5651                 Liverpool Football Club      England   left        170.00  \n",
       "5647          Newcastle United Football Club      England  right        182.00  \n",
       "1826                   Chelsea Football Club       France   left        194.00  \n",
       "1727                   Chelsea Football Club      England   left        180.00  "
      ]
     },
     "execution_count": 79,
     "metadata": {},
     "output_type": "execute_result"
    }
   ],
   "source": [
    "# RMSLE 값이 0.05 이하인 예측 값 확인\n",
    "test_copy_xgb[test_copy_xgb.market_value_rmsle <= 0.05].sort_values(by=\"market_value_per_season\", ascending=False).head(20)"
   ]
  },
  {
   "cell_type": "code",
   "execution_count": 80,
   "metadata": {},
   "outputs": [
    {
     "data": {
      "text/html": [
       "<div>\n",
       "<style scoped>\n",
       "    .dataframe tbody tr th:only-of-type {\n",
       "        vertical-align: middle;\n",
       "    }\n",
       "\n",
       "    .dataframe tbody tr th {\n",
       "        vertical-align: top;\n",
       "    }\n",
       "\n",
       "    .dataframe thead th {\n",
       "        text-align: right;\n",
       "    }\n",
       "</style>\n",
       "<table border=\"1\" class=\"dataframe\">\n",
       "  <thead>\n",
       "    <tr style=\"text-align: right;\">\n",
       "      <th></th>\n",
       "      <th>player_name</th>\n",
       "      <th>market_value_per_season</th>\n",
       "      <th>market_value_pred</th>\n",
       "      <th>market_value_rmsle</th>\n",
       "      <th>start_season</th>\n",
       "      <th>goals</th>\n",
       "      <th>assists</th>\n",
       "      <th>minutes_played</th>\n",
       "      <th>competition_code</th>\n",
       "      <th>age</th>\n",
       "      <th>position</th>\n",
       "      <th>current_club_name</th>\n",
       "      <th>country</th>\n",
       "      <th>foot</th>\n",
       "      <th>height_in_cm</th>\n",
       "    </tr>\n",
       "  </thead>\n",
       "  <tbody>\n",
       "    <tr>\n",
       "      <th>711</th>\n",
       "      <td>Alfie Gilchrist</td>\n",
       "      <td>300000.00</td>\n",
       "      <td>13825467.00</td>\n",
       "      <td>3.83</td>\n",
       "      <td>2023</td>\n",
       "      <td>1</td>\n",
       "      <td>0</td>\n",
       "      <td>202</td>\n",
       "      <td>premier-league</td>\n",
       "      <td>20</td>\n",
       "      <td>Centre-Back</td>\n",
       "      <td>Chelsea Football Club</td>\n",
       "      <td>England</td>\n",
       "      <td>right</td>\n",
       "      <td>183.00</td>\n",
       "    </tr>\n",
       "    <tr>\n",
       "      <th>6410</th>\n",
       "      <td>James Tomkins</td>\n",
       "      <td>700000.00</td>\n",
       "      <td>26270.54</td>\n",
       "      <td>3.28</td>\n",
       "      <td>2023</td>\n",
       "      <td>0</td>\n",
       "      <td>0</td>\n",
       "      <td>5</td>\n",
       "      <td>premier-league</td>\n",
       "      <td>35</td>\n",
       "      <td>Centre-Back</td>\n",
       "      <td>Crystal Palace Football Club</td>\n",
       "      <td>England</td>\n",
       "      <td>right</td>\n",
       "      <td>192.00</td>\n",
       "    </tr>\n",
       "    <tr>\n",
       "      <th>13489</th>\n",
       "      <td>Samu Omorodion</td>\n",
       "      <td>40000000.00</td>\n",
       "      <td>1676623.38</td>\n",
       "      <td>3.17</td>\n",
       "      <td>2023</td>\n",
       "      <td>1</td>\n",
       "      <td>0</td>\n",
       "      <td>82</td>\n",
       "      <td>laliga</td>\n",
       "      <td>20</td>\n",
       "      <td>Centre-Forward</td>\n",
       "      <td>Deportivo Alavés S.A.D.</td>\n",
       "      <td>Spain</td>\n",
       "      <td>right</td>\n",
       "      <td>193.00</td>\n",
       "    </tr>\n",
       "    <tr>\n",
       "      <th>14205</th>\n",
       "      <td>Steven Baseya</td>\n",
       "      <td>50000.00</td>\n",
       "      <td>1016353.50</td>\n",
       "      <td>3.01</td>\n",
       "      <td>2023</td>\n",
       "      <td>0</td>\n",
       "      <td>0</td>\n",
       "      <td>5</td>\n",
       "      <td>ligue-1</td>\n",
       "      <td>19</td>\n",
       "      <td>Centre-Back</td>\n",
       "      <td>Racing Club de Strasbourg Alsace</td>\n",
       "      <td>France</td>\n",
       "      <td>right</td>\n",
       "      <td>189.00</td>\n",
       "    </tr>\n",
       "    <tr>\n",
       "      <th>11566</th>\n",
       "      <td>Oliver Arblaster</td>\n",
       "      <td>450000.00</td>\n",
       "      <td>8046924.50</td>\n",
       "      <td>2.88</td>\n",
       "      <td>2023</td>\n",
       "      <td>0</td>\n",
       "      <td>0</td>\n",
       "      <td>821</td>\n",
       "      <td>premier-league</td>\n",
       "      <td>20</td>\n",
       "      <td>Central Midfield</td>\n",
       "      <td>Sheffield United Football Club</td>\n",
       "      <td>England</td>\n",
       "      <td>right</td>\n",
       "      <td>180.00</td>\n",
       "    </tr>\n",
       "    <tr>\n",
       "      <th>11782</th>\n",
       "      <td>Papa Amadou Diallo</td>\n",
       "      <td>250000.00</td>\n",
       "      <td>3568358.75</td>\n",
       "      <td>2.66</td>\n",
       "      <td>2023</td>\n",
       "      <td>2</td>\n",
       "      <td>0</td>\n",
       "      <td>710</td>\n",
       "      <td>ligue-1</td>\n",
       "      <td>19</td>\n",
       "      <td>Left Winger</td>\n",
       "      <td>Football Club de Metz</td>\n",
       "      <td>Senegal</td>\n",
       "      <td>right</td>\n",
       "      <td>182.00</td>\n",
       "    </tr>\n",
       "    <tr>\n",
       "      <th>4921</th>\n",
       "      <td>Fred Onyedinma</td>\n",
       "      <td>500000.00</td>\n",
       "      <td>6944979.50</td>\n",
       "      <td>2.63</td>\n",
       "      <td>2023</td>\n",
       "      <td>0</td>\n",
       "      <td>0</td>\n",
       "      <td>334</td>\n",
       "      <td>premier-league</td>\n",
       "      <td>27</td>\n",
       "      <td>Attacking Midfield</td>\n",
       "      <td>Luton Town Football Club</td>\n",
       "      <td>Nigeria</td>\n",
       "      <td>right</td>\n",
       "      <td>185.00</td>\n",
       "    </tr>\n",
       "    <tr>\n",
       "      <th>9135</th>\n",
       "      <td>Luke Berry</td>\n",
       "      <td>400000.00</td>\n",
       "      <td>5465769.00</td>\n",
       "      <td>2.61</td>\n",
       "      <td>2023</td>\n",
       "      <td>2</td>\n",
       "      <td>1</td>\n",
       "      <td>308</td>\n",
       "      <td>premier-league</td>\n",
       "      <td>31</td>\n",
       "      <td>Central Midfield</td>\n",
       "      <td>Luton Town Football Club</td>\n",
       "      <td>England</td>\n",
       "      <td>right</td>\n",
       "      <td>177.00</td>\n",
       "    </tr>\n",
       "    <tr>\n",
       "      <th>8972</th>\n",
       "      <td>Luck Zogbé</td>\n",
       "      <td>100000.00</td>\n",
       "      <td>1082397.50</td>\n",
       "      <td>2.38</td>\n",
       "      <td>2023</td>\n",
       "      <td>0</td>\n",
       "      <td>0</td>\n",
       "      <td>10</td>\n",
       "      <td>ligue-1</td>\n",
       "      <td>19</td>\n",
       "      <td>Right-Back</td>\n",
       "      <td>Stade brestois 29</td>\n",
       "      <td>Cote d'Ivoire</td>\n",
       "      <td>right</td>\n",
       "      <td>178.00</td>\n",
       "    </tr>\n",
       "    <tr>\n",
       "      <th>14949</th>\n",
       "      <td>Unai Marrero</td>\n",
       "      <td>300000.00</td>\n",
       "      <td>3239567.00</td>\n",
       "      <td>2.38</td>\n",
       "      <td>2023</td>\n",
       "      <td>0</td>\n",
       "      <td>0</td>\n",
       "      <td>141</td>\n",
       "      <td>laliga</td>\n",
       "      <td>22</td>\n",
       "      <td>Goalkeeper</td>\n",
       "      <td>Real Sociedad de Fútbol S.A.D.</td>\n",
       "      <td>Spain</td>\n",
       "      <td>right</td>\n",
       "      <td>189.00</td>\n",
       "    </tr>\n",
       "  </tbody>\n",
       "</table>\n",
       "</div>"
      ],
      "text/plain": [
       "              player_name  market_value_per_season  market_value_pred  \\\n",
       "711       Alfie Gilchrist                300000.00        13825467.00   \n",
       "6410        James Tomkins                700000.00           26270.54   \n",
       "13489      Samu Omorodion              40000000.00         1676623.38   \n",
       "14205       Steven Baseya                 50000.00         1016353.50   \n",
       "11566    Oliver Arblaster                450000.00         8046924.50   \n",
       "11782  Papa Amadou Diallo                250000.00         3568358.75   \n",
       "4921       Fred Onyedinma                500000.00         6944979.50   \n",
       "9135           Luke Berry                400000.00         5465769.00   \n",
       "8972           Luck Zogbé                100000.00         1082397.50   \n",
       "14949        Unai Marrero                300000.00         3239567.00   \n",
       "\n",
       "       market_value_rmsle  start_season  goals  assists  minutes_played  \\\n",
       "711                  3.83          2023      1        0             202   \n",
       "6410                 3.28          2023      0        0               5   \n",
       "13489                3.17          2023      1        0              82   \n",
       "14205                3.01          2023      0        0               5   \n",
       "11566                2.88          2023      0        0             821   \n",
       "11782                2.66          2023      2        0             710   \n",
       "4921                 2.63          2023      0        0             334   \n",
       "9135                 2.61          2023      2        1             308   \n",
       "8972                 2.38          2023      0        0              10   \n",
       "14949                2.38          2023      0        0             141   \n",
       "\n",
       "      competition_code  age            position  \\\n",
       "711     premier-league   20         Centre-Back   \n",
       "6410    premier-league   35         Centre-Back   \n",
       "13489           laliga   20      Centre-Forward   \n",
       "14205          ligue-1   19         Centre-Back   \n",
       "11566   premier-league   20    Central Midfield   \n",
       "11782          ligue-1   19         Left Winger   \n",
       "4921    premier-league   27  Attacking Midfield   \n",
       "9135    premier-league   31    Central Midfield   \n",
       "8972           ligue-1   19          Right-Back   \n",
       "14949           laliga   22          Goalkeeper   \n",
       "\n",
       "                      current_club_name        country   foot  height_in_cm  \n",
       "711               Chelsea Football Club        England  right        183.00  \n",
       "6410       Crystal Palace Football Club        England  right        192.00  \n",
       "13489           Deportivo Alavés S.A.D.          Spain  right        193.00  \n",
       "14205  Racing Club de Strasbourg Alsace         France  right        189.00  \n",
       "11566    Sheffield United Football Club        England  right        180.00  \n",
       "11782             Football Club de Metz        Senegal  right        182.00  \n",
       "4921           Luton Town Football Club        Nigeria  right        185.00  \n",
       "9135           Luton Town Football Club        England  right        177.00  \n",
       "8972                  Stade brestois 29  Cote d'Ivoire  right        178.00  \n",
       "14949    Real Sociedad de Fútbol S.A.D.          Spain  right        189.00  "
      ]
     },
     "execution_count": 80,
     "metadata": {},
     "output_type": "execute_result"
    }
   ],
   "source": [
    "# RMSLE 값이 0.64 (75%) 이상인 예측 값 확인\n",
    "# RMSLE 값 최대치 : 약 3.83\n",
    "\n",
    "test_copy_xgb[test_copy_xgb.market_value_rmsle >= 0.64].sort_values(by=\"market_value_rmsle\", ascending=False).head(10)"
   ]
  },
  {
   "cell_type": "code",
   "execution_count": 81,
   "metadata": {},
   "outputs": [
    {
     "data": {
      "text/html": [
       "<div>\n",
       "<style scoped>\n",
       "    .dataframe tbody tr th:only-of-type {\n",
       "        vertical-align: middle;\n",
       "    }\n",
       "\n",
       "    .dataframe tbody tr th {\n",
       "        vertical-align: top;\n",
       "    }\n",
       "\n",
       "    .dataframe thead th {\n",
       "        text-align: right;\n",
       "    }\n",
       "</style>\n",
       "<table border=\"1\" class=\"dataframe\">\n",
       "  <thead>\n",
       "    <tr style=\"text-align: right;\">\n",
       "      <th></th>\n",
       "      <th>player_name</th>\n",
       "      <th>market_value_per_season</th>\n",
       "      <th>market_value_pred</th>\n",
       "      <th>market_value_rmsle</th>\n",
       "      <th>start_season</th>\n",
       "      <th>goals</th>\n",
       "      <th>assists</th>\n",
       "      <th>minutes_played</th>\n",
       "      <th>competition_code</th>\n",
       "      <th>age</th>\n",
       "      <th>position</th>\n",
       "      <th>current_club_name</th>\n",
       "      <th>country</th>\n",
       "      <th>foot</th>\n",
       "      <th>height_in_cm</th>\n",
       "    </tr>\n",
       "  </thead>\n",
       "  <tbody>\n",
       "    <tr>\n",
       "      <th>7075</th>\n",
       "      <td>Jonathan Clauss</td>\n",
       "      <td>15000000.00</td>\n",
       "      <td>7857662.50</td>\n",
       "      <td>0.65</td>\n",
       "      <td>2023</td>\n",
       "      <td>3</td>\n",
       "      <td>2</td>\n",
       "      <td>1914</td>\n",
       "      <td>ligue-1</td>\n",
       "      <td>31</td>\n",
       "      <td>Right-Back</td>\n",
       "      <td>Olympique de Marseille</td>\n",
       "      <td>France</td>\n",
       "      <td>right</td>\n",
       "      <td>178.00</td>\n",
       "    </tr>\n",
       "    <tr>\n",
       "      <th>3758</th>\n",
       "      <td>Donny van de Beek</td>\n",
       "      <td>7000000.00</td>\n",
       "      <td>13355163.00</td>\n",
       "      <td>0.65</td>\n",
       "      <td>2023</td>\n",
       "      <td>0</td>\n",
       "      <td>0</td>\n",
       "      <td>357</td>\n",
       "      <td>bundesliga</td>\n",
       "      <td>27</td>\n",
       "      <td>Central Midfield</td>\n",
       "      <td>Eintracht Frankfurt Fußball AG</td>\n",
       "      <td>Netherlands</td>\n",
       "      <td>right</td>\n",
       "      <td>184.00</td>\n",
       "    </tr>\n",
       "    <tr>\n",
       "      <th>1829</th>\n",
       "      <td>Benson Manuel</td>\n",
       "      <td>6000000.00</td>\n",
       "      <td>3149801.50</td>\n",
       "      <td>0.64</td>\n",
       "      <td>2023</td>\n",
       "      <td>0</td>\n",
       "      <td>0</td>\n",
       "      <td>92</td>\n",
       "      <td>premier-league</td>\n",
       "      <td>27</td>\n",
       "      <td>Right Winger</td>\n",
       "      <td>Burnley Football Club</td>\n",
       "      <td>Belgium</td>\n",
       "      <td>left</td>\n",
       "      <td>166.00</td>\n",
       "    </tr>\n",
       "    <tr>\n",
       "      <th>13965</th>\n",
       "      <td>Simon Kjaer</td>\n",
       "      <td>2000000.00</td>\n",
       "      <td>3808230.00</td>\n",
       "      <td>0.64</td>\n",
       "      <td>2023</td>\n",
       "      <td>0</td>\n",
       "      <td>1</td>\n",
       "      <td>1169</td>\n",
       "      <td>serie-a</td>\n",
       "      <td>35</td>\n",
       "      <td>Centre-Back</td>\n",
       "      <td>Associazione Calcio Milan</td>\n",
       "      <td>Denmark</td>\n",
       "      <td>right</td>\n",
       "      <td>191.00</td>\n",
       "    </tr>\n",
       "    <tr>\n",
       "      <th>13123</th>\n",
       "      <td>Roman Yaremchuk</td>\n",
       "      <td>4000000.00</td>\n",
       "      <td>7611204.00</td>\n",
       "      <td>0.64</td>\n",
       "      <td>2023</td>\n",
       "      <td>3</td>\n",
       "      <td>0</td>\n",
       "      <td>796</td>\n",
       "      <td>laliga</td>\n",
       "      <td>28</td>\n",
       "      <td>Centre-Forward</td>\n",
       "      <td>Valencia Club de Fútbol S. A. D.</td>\n",
       "      <td>Ukraine</td>\n",
       "      <td>right</td>\n",
       "      <td>191.00</td>\n",
       "    </tr>\n",
       "    <tr>\n",
       "      <th>973</th>\n",
       "      <td>Andrea Petagna</td>\n",
       "      <td>5000000.00</td>\n",
       "      <td>9507698.00</td>\n",
       "      <td>0.64</td>\n",
       "      <td>2023</td>\n",
       "      <td>1</td>\n",
       "      <td>1</td>\n",
       "      <td>997</td>\n",
       "      <td>serie-a</td>\n",
       "      <td>28</td>\n",
       "      <td>Centre-Forward</td>\n",
       "      <td>Cagliari Calcio</td>\n",
       "      <td>Italy</td>\n",
       "      <td>left</td>\n",
       "      <td>190.00</td>\n",
       "    </tr>\n",
       "    <tr>\n",
       "      <th>2648</th>\n",
       "      <td>Christopher Nkunku</td>\n",
       "      <td>70000000.00</td>\n",
       "      <td>36829252.00</td>\n",
       "      <td>0.64</td>\n",
       "      <td>2023</td>\n",
       "      <td>2</td>\n",
       "      <td>0</td>\n",
       "      <td>333</td>\n",
       "      <td>premier-league</td>\n",
       "      <td>26</td>\n",
       "      <td>Attacking Midfield</td>\n",
       "      <td>Chelsea Football Club</td>\n",
       "      <td>France</td>\n",
       "      <td>right</td>\n",
       "      <td>177.00</td>\n",
       "    </tr>\n",
       "    <tr>\n",
       "      <th>10815</th>\n",
       "      <td>Moritz Nicolas</td>\n",
       "      <td>2000000.00</td>\n",
       "      <td>3800011.25</td>\n",
       "      <td>0.64</td>\n",
       "      <td>2023</td>\n",
       "      <td>0</td>\n",
       "      <td>0</td>\n",
       "      <td>2430</td>\n",
       "      <td>bundesliga</td>\n",
       "      <td>26</td>\n",
       "      <td>Goalkeeper</td>\n",
       "      <td>Borussia Verein für Leibesübungen 1900 Mönchen...</td>\n",
       "      <td>Germany</td>\n",
       "      <td>right</td>\n",
       "      <td>193.00</td>\n",
       "    </tr>\n",
       "    <tr>\n",
       "      <th>15443</th>\n",
       "      <td>Wout Weghorst</td>\n",
       "      <td>7000000.00</td>\n",
       "      <td>13294334.00</td>\n",
       "      <td>0.64</td>\n",
       "      <td>2023</td>\n",
       "      <td>7</td>\n",
       "      <td>3</td>\n",
       "      <td>1980</td>\n",
       "      <td>bundesliga</td>\n",
       "      <td>31</td>\n",
       "      <td>Centre-Forward</td>\n",
       "      <td>TSG 1899 Hoffenheim Fußball-Spielbetriebs GmbH</td>\n",
       "      <td>Netherlands</td>\n",
       "      <td>right</td>\n",
       "      <td>197.00</td>\n",
       "    </tr>\n",
       "    <tr>\n",
       "      <th>2996</th>\n",
       "      <td>Dani Parejo</td>\n",
       "      <td>3000000.00</td>\n",
       "      <td>5693035.00</td>\n",
       "      <td>0.64</td>\n",
       "      <td>2023</td>\n",
       "      <td>3</td>\n",
       "      <td>5</td>\n",
       "      <td>2334</td>\n",
       "      <td>laliga</td>\n",
       "      <td>35</td>\n",
       "      <td>Central Midfield</td>\n",
       "      <td>Villarreal Club de Fútbol S.A.D.</td>\n",
       "      <td>Spain</td>\n",
       "      <td>right</td>\n",
       "      <td>182.00</td>\n",
       "    </tr>\n",
       "  </tbody>\n",
       "</table>\n",
       "</div>"
      ],
      "text/plain": [
       "              player_name  market_value_per_season  market_value_pred  \\\n",
       "7075      Jonathan Clauss              15000000.00         7857662.50   \n",
       "3758    Donny van de Beek               7000000.00        13355163.00   \n",
       "1829        Benson Manuel               6000000.00         3149801.50   \n",
       "13965         Simon Kjaer               2000000.00         3808230.00   \n",
       "13123     Roman Yaremchuk               4000000.00         7611204.00   \n",
       "973        Andrea Petagna               5000000.00         9507698.00   \n",
       "2648   Christopher Nkunku              70000000.00        36829252.00   \n",
       "10815      Moritz Nicolas               2000000.00         3800011.25   \n",
       "15443       Wout Weghorst               7000000.00        13294334.00   \n",
       "2996          Dani Parejo               3000000.00         5693035.00   \n",
       "\n",
       "       market_value_rmsle  start_season  goals  assists  minutes_played  \\\n",
       "7075                 0.65          2023      3        2            1914   \n",
       "3758                 0.65          2023      0        0             357   \n",
       "1829                 0.64          2023      0        0              92   \n",
       "13965                0.64          2023      0        1            1169   \n",
       "13123                0.64          2023      3        0             796   \n",
       "973                  0.64          2023      1        1             997   \n",
       "2648                 0.64          2023      2        0             333   \n",
       "10815                0.64          2023      0        0            2430   \n",
       "15443                0.64          2023      7        3            1980   \n",
       "2996                 0.64          2023      3        5            2334   \n",
       "\n",
       "      competition_code  age            position  \\\n",
       "7075           ligue-1   31          Right-Back   \n",
       "3758        bundesliga   27    Central Midfield   \n",
       "1829    premier-league   27        Right Winger   \n",
       "13965          serie-a   35         Centre-Back   \n",
       "13123           laliga   28      Centre-Forward   \n",
       "973            serie-a   28      Centre-Forward   \n",
       "2648    premier-league   26  Attacking Midfield   \n",
       "10815       bundesliga   26          Goalkeeper   \n",
       "15443       bundesliga   31      Centre-Forward   \n",
       "2996            laliga   35    Central Midfield   \n",
       "\n",
       "                                       current_club_name      country   foot  \\\n",
       "7075                              Olympique de Marseille       France  right   \n",
       "3758                      Eintracht Frankfurt Fußball AG  Netherlands  right   \n",
       "1829                               Burnley Football Club      Belgium   left   \n",
       "13965                          Associazione Calcio Milan      Denmark  right   \n",
       "13123                   Valencia Club de Fútbol S. A. D.      Ukraine  right   \n",
       "973                                      Cagliari Calcio        Italy   left   \n",
       "2648                               Chelsea Football Club       France  right   \n",
       "10815  Borussia Verein für Leibesübungen 1900 Mönchen...      Germany  right   \n",
       "15443     TSG 1899 Hoffenheim Fußball-Spielbetriebs GmbH  Netherlands  right   \n",
       "2996                    Villarreal Club de Fútbol S.A.D.        Spain  right   \n",
       "\n",
       "       height_in_cm  \n",
       "7075         178.00  \n",
       "3758         184.00  \n",
       "1829         166.00  \n",
       "13965        191.00  \n",
       "13123        191.00  \n",
       "973          190.00  \n",
       "2648         177.00  \n",
       "10815        193.00  \n",
       "15443        197.00  \n",
       "2996         182.00  "
      ]
     },
     "execution_count": 81,
     "metadata": {},
     "output_type": "execute_result"
    }
   ],
   "source": [
    "# RMSLE 값이 0.64 (75%) 이상인 예측 값 확인\n",
    "# RMSLE 값 최대치 : 약 3.83\n",
    "\n",
    "test_copy_xgb[test_copy_xgb.market_value_rmsle >= 0.64].sort_values(by=\"market_value_rmsle\", ascending=False).tail(10)\n"
   ]
  },
  {
   "cell_type": "code",
   "execution_count": 82,
   "metadata": {},
   "outputs": [
    {
     "data": {
      "text/html": [
       "<div>\n",
       "<style scoped>\n",
       "    .dataframe tbody tr th:only-of-type {\n",
       "        vertical-align: middle;\n",
       "    }\n",
       "\n",
       "    .dataframe tbody tr th {\n",
       "        vertical-align: top;\n",
       "    }\n",
       "\n",
       "    .dataframe thead th {\n",
       "        text-align: right;\n",
       "    }\n",
       "</style>\n",
       "<table border=\"1\" class=\"dataframe\">\n",
       "  <thead>\n",
       "    <tr style=\"text-align: right;\">\n",
       "      <th></th>\n",
       "      <th>player_name</th>\n",
       "      <th>market_value_per_season</th>\n",
       "      <th>market_value_pred</th>\n",
       "      <th>market_value_rmsle</th>\n",
       "      <th>start_season</th>\n",
       "      <th>goals</th>\n",
       "      <th>assists</th>\n",
       "      <th>minutes_played</th>\n",
       "      <th>competition_code</th>\n",
       "      <th>age</th>\n",
       "      <th>position</th>\n",
       "      <th>current_club_name</th>\n",
       "      <th>country</th>\n",
       "      <th>foot</th>\n",
       "      <th>height_in_cm</th>\n",
       "    </tr>\n",
       "  </thead>\n",
       "  <tbody>\n",
       "    <tr>\n",
       "      <th>10720</th>\n",
       "      <td>Mohamed Elneny</td>\n",
       "      <td>4500000.00</td>\n",
       "      <td>4399555.00</td>\n",
       "      <td>0.02</td>\n",
       "      <td>2023</td>\n",
       "      <td>0</td>\n",
       "      <td>0</td>\n",
       "      <td>25</td>\n",
       "      <td>premier-league</td>\n",
       "      <td>31</td>\n",
       "      <td>Defensive Midfield</td>\n",
       "      <td>Arsenal Football Club</td>\n",
       "      <td>Egypt</td>\n",
       "      <td>right</td>\n",
       "      <td>179.00</td>\n",
       "    </tr>\n",
       "    <tr>\n",
       "      <th>12641</th>\n",
       "      <td>Reiss Nelson</td>\n",
       "      <td>15000000.00</td>\n",
       "      <td>14280841.00</td>\n",
       "      <td>0.05</td>\n",
       "      <td>2023</td>\n",
       "      <td>0</td>\n",
       "      <td>0</td>\n",
       "      <td>257</td>\n",
       "      <td>premier-league</td>\n",
       "      <td>24</td>\n",
       "      <td>Right Winger</td>\n",
       "      <td>Arsenal Football Club</td>\n",
       "      <td>England</td>\n",
       "      <td>right</td>\n",
       "      <td>175.00</td>\n",
       "    </tr>\n",
       "    <tr>\n",
       "      <th>8492</th>\n",
       "      <td>Leandro Trossard</td>\n",
       "      <td>38000000.00</td>\n",
       "      <td>40276092.00</td>\n",
       "      <td>0.06</td>\n",
       "      <td>2023</td>\n",
       "      <td>11</td>\n",
       "      <td>1</td>\n",
       "      <td>1502</td>\n",
       "      <td>premier-league</td>\n",
       "      <td>29</td>\n",
       "      <td>Left Winger</td>\n",
       "      <td>Arsenal Football Club</td>\n",
       "      <td>Belgium</td>\n",
       "      <td>right</td>\n",
       "      <td>172.00</td>\n",
       "    </tr>\n",
       "    <tr>\n",
       "      <th>3850</th>\n",
       "      <td>Eddie Nketiah</td>\n",
       "      <td>30000000.00</td>\n",
       "      <td>28169056.00</td>\n",
       "      <td>0.06</td>\n",
       "      <td>2023</td>\n",
       "      <td>5</td>\n",
       "      <td>2</td>\n",
       "      <td>1072</td>\n",
       "      <td>premier-league</td>\n",
       "      <td>24</td>\n",
       "      <td>Centre-Forward</td>\n",
       "      <td>Arsenal Football Club</td>\n",
       "      <td>England</td>\n",
       "      <td>right</td>\n",
       "      <td>175.00</td>\n",
       "    </tr>\n",
       "    <tr>\n",
       "      <th>4980</th>\n",
       "      <td>Fábio Vieira</td>\n",
       "      <td>25000000.00</td>\n",
       "      <td>23328020.00</td>\n",
       "      <td>0.07</td>\n",
       "      <td>2023</td>\n",
       "      <td>1</td>\n",
       "      <td>2</td>\n",
       "      <td>292</td>\n",
       "      <td>premier-league</td>\n",
       "      <td>23</td>\n",
       "      <td>Attacking Midfield</td>\n",
       "      <td>Arsenal Football Club</td>\n",
       "      <td>Portugal</td>\n",
       "      <td>left</td>\n",
       "      <td>170.00</td>\n",
       "    </tr>\n",
       "    <tr>\n",
       "      <th>7243</th>\n",
       "      <td>Jorginho</td>\n",
       "      <td>15000000.00</td>\n",
       "      <td>16667352.00</td>\n",
       "      <td>0.11</td>\n",
       "      <td>2023</td>\n",
       "      <td>0</td>\n",
       "      <td>2</td>\n",
       "      <td>919</td>\n",
       "      <td>premier-league</td>\n",
       "      <td>32</td>\n",
       "      <td>Defensive Midfield</td>\n",
       "      <td>Arsenal Football Club</td>\n",
       "      <td>Italy</td>\n",
       "      <td>right</td>\n",
       "      <td>178.00</td>\n",
       "    </tr>\n",
       "    <tr>\n",
       "      <th>6353</th>\n",
       "      <td>Jakub Kiwior</td>\n",
       "      <td>25000000.00</td>\n",
       "      <td>22267338.00</td>\n",
       "      <td>0.12</td>\n",
       "      <td>2023</td>\n",
       "      <td>1</td>\n",
       "      <td>3</td>\n",
       "      <td>944</td>\n",
       "      <td>premier-league</td>\n",
       "      <td>24</td>\n",
       "      <td>Left-Back</td>\n",
       "      <td>Arsenal Football Club</td>\n",
       "      <td>Poland</td>\n",
       "      <td>left</td>\n",
       "      <td>189.00</td>\n",
       "    </tr>\n",
       "    <tr>\n",
       "      <th>1758</th>\n",
       "      <td>Ben White</td>\n",
       "      <td>55000000.00</td>\n",
       "      <td>62565724.00</td>\n",
       "      <td>0.13</td>\n",
       "      <td>2023</td>\n",
       "      <td>4</td>\n",
       "      <td>4</td>\n",
       "      <td>2836</td>\n",
       "      <td>premier-league</td>\n",
       "      <td>26</td>\n",
       "      <td>Right-Back</td>\n",
       "      <td>Arsenal Football Club</td>\n",
       "      <td>England</td>\n",
       "      <td>right</td>\n",
       "      <td>186.00</td>\n",
       "    </tr>\n",
       "    <tr>\n",
       "      <th>4067</th>\n",
       "      <td>Emile Smith Rowe</td>\n",
       "      <td>25000000.00</td>\n",
       "      <td>29130590.00</td>\n",
       "      <td>0.15</td>\n",
       "      <td>2023</td>\n",
       "      <td>0</td>\n",
       "      <td>2</td>\n",
       "      <td>325</td>\n",
       "      <td>premier-league</td>\n",
       "      <td>23</td>\n",
       "      <td>Attacking Midfield</td>\n",
       "      <td>Arsenal Football Club</td>\n",
       "      <td>England</td>\n",
       "      <td>right</td>\n",
       "      <td>182.00</td>\n",
       "    </tr>\n",
       "    <tr>\n",
       "      <th>14537</th>\n",
       "      <td>Thomas Partey</td>\n",
       "      <td>20000000.00</td>\n",
       "      <td>23930734.00</td>\n",
       "      <td>0.18</td>\n",
       "      <td>2023</td>\n",
       "      <td>0</td>\n",
       "      <td>0</td>\n",
       "      <td>630</td>\n",
       "      <td>premier-league</td>\n",
       "      <td>30</td>\n",
       "      <td>Defensive Midfield</td>\n",
       "      <td>Arsenal Football Club</td>\n",
       "      <td>Ghana</td>\n",
       "      <td>right</td>\n",
       "      <td>185.00</td>\n",
       "    </tr>\n",
       "  </tbody>\n",
       "</table>\n",
       "</div>"
      ],
      "text/plain": [
       "            player_name  market_value_per_season  market_value_pred  \\\n",
       "10720    Mohamed Elneny               4500000.00         4399555.00   \n",
       "12641      Reiss Nelson              15000000.00        14280841.00   \n",
       "8492   Leandro Trossard              38000000.00        40276092.00   \n",
       "3850      Eddie Nketiah              30000000.00        28169056.00   \n",
       "4980       Fábio Vieira              25000000.00        23328020.00   \n",
       "7243           Jorginho              15000000.00        16667352.00   \n",
       "6353       Jakub Kiwior              25000000.00        22267338.00   \n",
       "1758          Ben White              55000000.00        62565724.00   \n",
       "4067   Emile Smith Rowe              25000000.00        29130590.00   \n",
       "14537     Thomas Partey              20000000.00        23930734.00   \n",
       "\n",
       "       market_value_rmsle  start_season  goals  assists  minutes_played  \\\n",
       "10720                0.02          2023      0        0              25   \n",
       "12641                0.05          2023      0        0             257   \n",
       "8492                 0.06          2023     11        1            1502   \n",
       "3850                 0.06          2023      5        2            1072   \n",
       "4980                 0.07          2023      1        2             292   \n",
       "7243                 0.11          2023      0        2             919   \n",
       "6353                 0.12          2023      1        3             944   \n",
       "1758                 0.13          2023      4        4            2836   \n",
       "4067                 0.15          2023      0        2             325   \n",
       "14537                0.18          2023      0        0             630   \n",
       "\n",
       "      competition_code  age            position      current_club_name  \\\n",
       "10720   premier-league   31  Defensive Midfield  Arsenal Football Club   \n",
       "12641   premier-league   24        Right Winger  Arsenal Football Club   \n",
       "8492    premier-league   29         Left Winger  Arsenal Football Club   \n",
       "3850    premier-league   24      Centre-Forward  Arsenal Football Club   \n",
       "4980    premier-league   23  Attacking Midfield  Arsenal Football Club   \n",
       "7243    premier-league   32  Defensive Midfield  Arsenal Football Club   \n",
       "6353    premier-league   24           Left-Back  Arsenal Football Club   \n",
       "1758    premier-league   26          Right-Back  Arsenal Football Club   \n",
       "4067    premier-league   23  Attacking Midfield  Arsenal Football Club   \n",
       "14537   premier-league   30  Defensive Midfield  Arsenal Football Club   \n",
       "\n",
       "        country   foot  height_in_cm  \n",
       "10720     Egypt  right        179.00  \n",
       "12641   England  right        175.00  \n",
       "8492    Belgium  right        172.00  \n",
       "3850    England  right        175.00  \n",
       "4980   Portugal   left        170.00  \n",
       "7243      Italy  right        178.00  \n",
       "6353     Poland   left        189.00  \n",
       "1758    England  right        186.00  \n",
       "4067    England  right        182.00  \n",
       "14537     Ghana  right        185.00  "
      ]
     },
     "execution_count": 82,
     "metadata": {},
     "output_type": "execute_result"
    }
   ],
   "source": [
    "# Arsenal 선수들의 2324 시즌 몸값 비교\n",
    "test_copy_xgb[test_copy_xgb.current_club_name==\"Arsenal Football Club\"].sort_values(\"market_value_rmsle\").head(10)"
   ]
  },
  {
   "cell_type": "code",
   "execution_count": 83,
   "metadata": {},
   "outputs": [
    {
     "data": {
      "text/html": [
       "<div>\n",
       "<style scoped>\n",
       "    .dataframe tbody tr th:only-of-type {\n",
       "        vertical-align: middle;\n",
       "    }\n",
       "\n",
       "    .dataframe tbody tr th {\n",
       "        vertical-align: top;\n",
       "    }\n",
       "\n",
       "    .dataframe thead th {\n",
       "        text-align: right;\n",
       "    }\n",
       "</style>\n",
       "<table border=\"1\" class=\"dataframe\">\n",
       "  <thead>\n",
       "    <tr style=\"text-align: right;\">\n",
       "      <th></th>\n",
       "      <th>player_name</th>\n",
       "      <th>market_value_per_season</th>\n",
       "      <th>market_value_pred</th>\n",
       "      <th>market_value_rmsle</th>\n",
       "      <th>start_season</th>\n",
       "      <th>goals</th>\n",
       "      <th>assists</th>\n",
       "      <th>minutes_played</th>\n",
       "      <th>competition_code</th>\n",
       "      <th>age</th>\n",
       "      <th>position</th>\n",
       "      <th>current_club_name</th>\n",
       "      <th>country</th>\n",
       "      <th>foot</th>\n",
       "      <th>height_in_cm</th>\n",
       "    </tr>\n",
       "  </thead>\n",
       "  <tbody>\n",
       "    <tr>\n",
       "      <th>2065</th>\n",
       "      <td>Brennan Johnson</td>\n",
       "      <td>48000000.00</td>\n",
       "      <td>49321336.00</td>\n",
       "      <td>0.03</td>\n",
       "      <td>2023</td>\n",
       "      <td>5</td>\n",
       "      <td>8</td>\n",
       "      <td>1823</td>\n",
       "      <td>premier-league</td>\n",
       "      <td>22</td>\n",
       "      <td>Right Winger</td>\n",
       "      <td>Tottenham Hotspur Football Club</td>\n",
       "      <td>Wales</td>\n",
       "      <td>right</td>\n",
       "      <td>186.00</td>\n",
       "    </tr>\n",
       "    <tr>\n",
       "      <th>11585</th>\n",
       "      <td>Oliver Skipp</td>\n",
       "      <td>15000000.00</td>\n",
       "      <td>15694277.00</td>\n",
       "      <td>0.05</td>\n",
       "      <td>2023</td>\n",
       "      <td>0</td>\n",
       "      <td>0</td>\n",
       "      <td>600</td>\n",
       "      <td>premier-league</td>\n",
       "      <td>23</td>\n",
       "      <td>Defensive Midfield</td>\n",
       "      <td>Tottenham Hotspur Football Club</td>\n",
       "      <td>England</td>\n",
       "      <td>right</td>\n",
       "      <td>175.00</td>\n",
       "    </tr>\n",
       "    <tr>\n",
       "      <th>12794</th>\n",
       "      <td>Richarlison</td>\n",
       "      <td>40000000.00</td>\n",
       "      <td>44921416.00</td>\n",
       "      <td>0.12</td>\n",
       "      <td>2023</td>\n",
       "      <td>11</td>\n",
       "      <td>4</td>\n",
       "      <td>1492</td>\n",
       "      <td>premier-league</td>\n",
       "      <td>27</td>\n",
       "      <td>Centre-Forward</td>\n",
       "      <td>Tottenham Hotspur Football Club</td>\n",
       "      <td>Brazil</td>\n",
       "      <td>right</td>\n",
       "      <td>184.00</td>\n",
       "    </tr>\n",
       "    <tr>\n",
       "      <th>3380</th>\n",
       "      <td>Dejan Kulusevski</td>\n",
       "      <td>55000000.00</td>\n",
       "      <td>48371032.00</td>\n",
       "      <td>0.13</td>\n",
       "      <td>2023</td>\n",
       "      <td>6</td>\n",
       "      <td>3</td>\n",
       "      <td>2566</td>\n",
       "      <td>premier-league</td>\n",
       "      <td>24</td>\n",
       "      <td>Right Winger</td>\n",
       "      <td>Tottenham Hotspur Football Club</td>\n",
       "      <td>Sweden</td>\n",
       "      <td>left</td>\n",
       "      <td>186.00</td>\n",
       "    </tr>\n",
       "    <tr>\n",
       "      <th>1732</th>\n",
       "      <td>Ben Davies</td>\n",
       "      <td>12000000.00</td>\n",
       "      <td>10492647.00</td>\n",
       "      <td>0.13</td>\n",
       "      <td>2023</td>\n",
       "      <td>1</td>\n",
       "      <td>0</td>\n",
       "      <td>1086</td>\n",
       "      <td>premier-league</td>\n",
       "      <td>31</td>\n",
       "      <td>Left-Back</td>\n",
       "      <td>Tottenham Hotspur Football Club</td>\n",
       "      <td>Wales</td>\n",
       "      <td>left</td>\n",
       "      <td>181.00</td>\n",
       "    </tr>\n",
       "    <tr>\n",
       "      <th>5728</th>\n",
       "      <td>Heung-min Son</td>\n",
       "      <td>50000000.00</td>\n",
       "      <td>58188860.00</td>\n",
       "      <td>0.15</td>\n",
       "      <td>2023</td>\n",
       "      <td>17</td>\n",
       "      <td>9</td>\n",
       "      <td>2680</td>\n",
       "      <td>premier-league</td>\n",
       "      <td>31</td>\n",
       "      <td>Left Winger</td>\n",
       "      <td>Tottenham Hotspur Football Club</td>\n",
       "      <td>Korea, South</td>\n",
       "      <td>both</td>\n",
       "      <td>184.00</td>\n",
       "    </tr>\n",
       "    <tr>\n",
       "      <th>2191</th>\n",
       "      <td>Bryan Gil</td>\n",
       "      <td>16000000.00</td>\n",
       "      <td>19503770.00</td>\n",
       "      <td>0.20</td>\n",
       "      <td>2023</td>\n",
       "      <td>0</td>\n",
       "      <td>0</td>\n",
       "      <td>201</td>\n",
       "      <td>premier-league</td>\n",
       "      <td>23</td>\n",
       "      <td>Right Winger</td>\n",
       "      <td>Tottenham Hotspur Football Club</td>\n",
       "      <td>Spain</td>\n",
       "      <td>left</td>\n",
       "      <td>175.00</td>\n",
       "    </tr>\n",
       "    <tr>\n",
       "      <th>13000</th>\n",
       "      <td>Rodrigo Bentancur</td>\n",
       "      <td>35000000.00</td>\n",
       "      <td>27864444.00</td>\n",
       "      <td>0.23</td>\n",
       "      <td>2023</td>\n",
       "      <td>1</td>\n",
       "      <td>1</td>\n",
       "      <td>861</td>\n",
       "      <td>premier-league</td>\n",
       "      <td>26</td>\n",
       "      <td>Central Midfield</td>\n",
       "      <td>Tottenham Hotspur Football Club</td>\n",
       "      <td>Uruguay</td>\n",
       "      <td>right</td>\n",
       "      <td>187.00</td>\n",
       "    </tr>\n",
       "    <tr>\n",
       "      <th>4040</th>\n",
       "      <td>Emerson Royal</td>\n",
       "      <td>18000000.00</td>\n",
       "      <td>22955328.00</td>\n",
       "      <td>0.24</td>\n",
       "      <td>2023</td>\n",
       "      <td>1</td>\n",
       "      <td>0</td>\n",
       "      <td>1141</td>\n",
       "      <td>premier-league</td>\n",
       "      <td>25</td>\n",
       "      <td>Right-Back</td>\n",
       "      <td>Tottenham Hotspur Football Club</td>\n",
       "      <td>Brazil</td>\n",
       "      <td>right</td>\n",
       "      <td>183.00</td>\n",
       "    </tr>\n",
       "    <tr>\n",
       "      <th>12264</th>\n",
       "      <td>Pierre-Emile Højbjerg</td>\n",
       "      <td>20000000.00</td>\n",
       "      <td>26612196.00</td>\n",
       "      <td>0.29</td>\n",
       "      <td>2023</td>\n",
       "      <td>0</td>\n",
       "      <td>0</td>\n",
       "      <td>1182</td>\n",
       "      <td>premier-league</td>\n",
       "      <td>28</td>\n",
       "      <td>Defensive Midfield</td>\n",
       "      <td>Tottenham Hotspur Football Club</td>\n",
       "      <td>Denmark</td>\n",
       "      <td>right</td>\n",
       "      <td>185.00</td>\n",
       "    </tr>\n",
       "  </tbody>\n",
       "</table>\n",
       "</div>"
      ],
      "text/plain": [
       "                 player_name  market_value_per_season  market_value_pred  \\\n",
       "2065         Brennan Johnson              48000000.00        49321336.00   \n",
       "11585           Oliver Skipp              15000000.00        15694277.00   \n",
       "12794            Richarlison              40000000.00        44921416.00   \n",
       "3380        Dejan Kulusevski              55000000.00        48371032.00   \n",
       "1732              Ben Davies              12000000.00        10492647.00   \n",
       "5728           Heung-min Son              50000000.00        58188860.00   \n",
       "2191               Bryan Gil              16000000.00        19503770.00   \n",
       "13000      Rodrigo Bentancur              35000000.00        27864444.00   \n",
       "4040           Emerson Royal              18000000.00        22955328.00   \n",
       "12264  Pierre-Emile Højbjerg              20000000.00        26612196.00   \n",
       "\n",
       "       market_value_rmsle  start_season  goals  assists  minutes_played  \\\n",
       "2065                 0.03          2023      5        8            1823   \n",
       "11585                0.05          2023      0        0             600   \n",
       "12794                0.12          2023     11        4            1492   \n",
       "3380                 0.13          2023      6        3            2566   \n",
       "1732                 0.13          2023      1        0            1086   \n",
       "5728                 0.15          2023     17        9            2680   \n",
       "2191                 0.20          2023      0        0             201   \n",
       "13000                0.23          2023      1        1             861   \n",
       "4040                 0.24          2023      1        0            1141   \n",
       "12264                0.29          2023      0        0            1182   \n",
       "\n",
       "      competition_code  age            position  \\\n",
       "2065    premier-league   22        Right Winger   \n",
       "11585   premier-league   23  Defensive Midfield   \n",
       "12794   premier-league   27      Centre-Forward   \n",
       "3380    premier-league   24        Right Winger   \n",
       "1732    premier-league   31           Left-Back   \n",
       "5728    premier-league   31         Left Winger   \n",
       "2191    premier-league   23        Right Winger   \n",
       "13000   premier-league   26    Central Midfield   \n",
       "4040    premier-league   25          Right-Back   \n",
       "12264   premier-league   28  Defensive Midfield   \n",
       "\n",
       "                     current_club_name       country   foot  height_in_cm  \n",
       "2065   Tottenham Hotspur Football Club         Wales  right        186.00  \n",
       "11585  Tottenham Hotspur Football Club       England  right        175.00  \n",
       "12794  Tottenham Hotspur Football Club        Brazil  right        184.00  \n",
       "3380   Tottenham Hotspur Football Club        Sweden   left        186.00  \n",
       "1732   Tottenham Hotspur Football Club         Wales   left        181.00  \n",
       "5728   Tottenham Hotspur Football Club  Korea, South   both        184.00  \n",
       "2191   Tottenham Hotspur Football Club         Spain   left        175.00  \n",
       "13000  Tottenham Hotspur Football Club       Uruguay  right        187.00  \n",
       "4040   Tottenham Hotspur Football Club        Brazil  right        183.00  \n",
       "12264  Tottenham Hotspur Football Club       Denmark  right        185.00  "
      ]
     },
     "execution_count": 83,
     "metadata": {},
     "output_type": "execute_result"
    }
   ],
   "source": [
    "# Tottenham 선수들의 2324 시즌 몸값 비교\n",
    "test_copy_xgb[test_copy_xgb.current_club_name==\"Tottenham Hotspur Football Club\"].sort_values(\"market_value_rmsle\").head(10)"
   ]
  },
  {
   "cell_type": "markdown",
   "metadata": {},
   "source": [
    "#### `CatBoost` 모델로 예측한 test 값을 y_test 값과 비교"
   ]
  },
  {
   "cell_type": "code",
   "execution_count": 84,
   "metadata": {},
   "outputs": [],
   "source": [
    "# test 데이터프레임 copy\n",
    "test_copy_cat = test.copy()\n",
    "\n",
    "# xgb_optuna 모델로 예측한 X_test의 몸값을 담은 컬럼을 test_copy에 생성\n",
    "test_copy_cat[\"market_value_pred\"] = cat_optuna.predict(X_test)"
   ]
  },
  {
   "cell_type": "code",
   "execution_count": 85,
   "metadata": {},
   "outputs": [],
   "source": [
    "# get_rmsle 함수 활용하여, 실제 몸값과 예측 몸값의 차이 RMSLE 계산한 컬럼 생성\n",
    "test_copy_cat['market_value_rmsle'] = test_copy_cat.apply(lambda x:get_rmsle(x[\"market_value_per_season\"], x[\"market_value_pred\"]), axis=1)"
   ]
  },
  {
   "cell_type": "code",
   "execution_count": 87,
   "metadata": {},
   "outputs": [],
   "source": [
    "test_copy_cat = test_copy_cat[['player_name', 'market_value_per_season', 'market_value_pred', 'market_value_rmsle',\n",
    "                       'start_season', 'goals', 'assists', 'minutes_played',\n",
    "                       'competition_code', 'age', 'position', 'current_club_name', 'country', \n",
    "                       'foot', 'height_in_cm']]"
   ]
  },
  {
   "cell_type": "code",
   "execution_count": 88,
   "metadata": {},
   "outputs": [
    {
     "data": {
      "text/html": [
       "<div>\n",
       "<style scoped>\n",
       "    .dataframe tbody tr th:only-of-type {\n",
       "        vertical-align: middle;\n",
       "    }\n",
       "\n",
       "    .dataframe tbody tr th {\n",
       "        vertical-align: top;\n",
       "    }\n",
       "\n",
       "    .dataframe thead th {\n",
       "        text-align: right;\n",
       "    }\n",
       "</style>\n",
       "<table border=\"1\" class=\"dataframe\">\n",
       "  <thead>\n",
       "    <tr style=\"text-align: right;\">\n",
       "      <th></th>\n",
       "      <th>market_value_per_season</th>\n",
       "      <th>market_value_pred</th>\n",
       "      <th>market_value_rmsle</th>\n",
       "      <th>start_season</th>\n",
       "      <th>goals</th>\n",
       "      <th>assists</th>\n",
       "      <th>minutes_played</th>\n",
       "      <th>age</th>\n",
       "      <th>height_in_cm</th>\n",
       "    </tr>\n",
       "  </thead>\n",
       "  <tbody>\n",
       "    <tr>\n",
       "      <th>count</th>\n",
       "      <td>2916.00</td>\n",
       "      <td>2916.00</td>\n",
       "      <td>2877.00</td>\n",
       "      <td>2916.00</td>\n",
       "      <td>2916.00</td>\n",
       "      <td>2916.00</td>\n",
       "      <td>2916.00</td>\n",
       "      <td>2916.00</td>\n",
       "      <td>2916.00</td>\n",
       "    </tr>\n",
       "    <tr>\n",
       "      <th>mean</th>\n",
       "      <td>10746150.55</td>\n",
       "      <td>9564350.63</td>\n",
       "      <td>0.47</td>\n",
       "      <td>2023.00</td>\n",
       "      <td>1.75</td>\n",
       "      <td>1.35</td>\n",
       "      <td>1242.71</td>\n",
       "      <td>26.22</td>\n",
       "      <td>182.77</td>\n",
       "    </tr>\n",
       "    <tr>\n",
       "      <th>std</th>\n",
       "      <td>16543013.03</td>\n",
       "      <td>12831692.82</td>\n",
       "      <td>0.43</td>\n",
       "      <td>0.00</td>\n",
       "      <td>3.13</td>\n",
       "      <td>2.01</td>\n",
       "      <td>868.15</td>\n",
       "      <td>4.39</td>\n",
       "      <td>6.75</td>\n",
       "    </tr>\n",
       "    <tr>\n",
       "      <th>min</th>\n",
       "      <td>50000.00</td>\n",
       "      <td>-715139.31</td>\n",
       "      <td>0.00</td>\n",
       "      <td>2023.00</td>\n",
       "      <td>0.00</td>\n",
       "      <td>0.00</td>\n",
       "      <td>1.00</td>\n",
       "      <td>16.00</td>\n",
       "      <td>163.00</td>\n",
       "    </tr>\n",
       "    <tr>\n",
       "      <th>25%</th>\n",
       "      <td>1700000.00</td>\n",
       "      <td>2093361.06</td>\n",
       "      <td>0.17</td>\n",
       "      <td>2023.00</td>\n",
       "      <td>0.00</td>\n",
       "      <td>0.00</td>\n",
       "      <td>451.50</td>\n",
       "      <td>23.00</td>\n",
       "      <td>178.00</td>\n",
       "    </tr>\n",
       "    <tr>\n",
       "      <th>50%</th>\n",
       "      <td>4500000.00</td>\n",
       "      <td>4879022.46</td>\n",
       "      <td>0.36</td>\n",
       "      <td>2023.00</td>\n",
       "      <td>1.00</td>\n",
       "      <td>1.00</td>\n",
       "      <td>1178.00</td>\n",
       "      <td>26.00</td>\n",
       "      <td>183.00</td>\n",
       "    </tr>\n",
       "    <tr>\n",
       "      <th>75%</th>\n",
       "      <td>13000000.00</td>\n",
       "      <td>11943671.78</td>\n",
       "      <td>0.64</td>\n",
       "      <td>2023.00</td>\n",
       "      <td>2.00</td>\n",
       "      <td>2.00</td>\n",
       "      <td>1942.25</td>\n",
       "      <td>29.00</td>\n",
       "      <td>188.00</td>\n",
       "    </tr>\n",
       "    <tr>\n",
       "      <th>max</th>\n",
       "      <td>180000000.00</td>\n",
       "      <td>141823847.86</td>\n",
       "      <td>3.92</td>\n",
       "      <td>2023.00</td>\n",
       "      <td>36.00</td>\n",
       "      <td>14.00</td>\n",
       "      <td>3240.00</td>\n",
       "      <td>41.00</td>\n",
       "      <td>206.00</td>\n",
       "    </tr>\n",
       "  </tbody>\n",
       "</table>\n",
       "</div>"
      ],
      "text/plain": [
       "       market_value_per_season  market_value_pred  market_value_rmsle  \\\n",
       "count                  2916.00            2916.00             2877.00   \n",
       "mean               10746150.55         9564350.63                0.47   \n",
       "std                16543013.03        12831692.82                0.43   \n",
       "min                   50000.00         -715139.31                0.00   \n",
       "25%                 1700000.00         2093361.06                0.17   \n",
       "50%                 4500000.00         4879022.46                0.36   \n",
       "75%                13000000.00        11943671.78                0.64   \n",
       "max               180000000.00       141823847.86                3.92   \n",
       "\n",
       "       start_season   goals  assists  minutes_played     age  height_in_cm  \n",
       "count       2916.00 2916.00  2916.00         2916.00 2916.00       2916.00  \n",
       "mean        2023.00    1.75     1.35         1242.71   26.22        182.77  \n",
       "std            0.00    3.13     2.01          868.15    4.39          6.75  \n",
       "min         2023.00    0.00     0.00            1.00   16.00        163.00  \n",
       "25%         2023.00    0.00     0.00          451.50   23.00        178.00  \n",
       "50%         2023.00    1.00     1.00         1178.00   26.00        183.00  \n",
       "75%         2023.00    2.00     2.00         1942.25   29.00        188.00  \n",
       "max         2023.00   36.00    14.00         3240.00   41.00        206.00  "
      ]
     },
     "execution_count": 88,
     "metadata": {},
     "output_type": "execute_result"
    }
   ],
   "source": [
    "test_copy_cat.describe()"
   ]
  },
  {
   "cell_type": "code",
   "execution_count": 90,
   "metadata": {},
   "outputs": [
    {
     "data": {
      "text/html": [
       "<div>\n",
       "<style scoped>\n",
       "    .dataframe tbody tr th:only-of-type {\n",
       "        vertical-align: middle;\n",
       "    }\n",
       "\n",
       "    .dataframe tbody tr th {\n",
       "        vertical-align: top;\n",
       "    }\n",
       "\n",
       "    .dataframe thead th {\n",
       "        text-align: right;\n",
       "    }\n",
       "</style>\n",
       "<table border=\"1\" class=\"dataframe\">\n",
       "  <thead>\n",
       "    <tr style=\"text-align: right;\">\n",
       "      <th></th>\n",
       "      <th>player_name</th>\n",
       "      <th>market_value_per_season</th>\n",
       "      <th>market_value_pred</th>\n",
       "      <th>market_value_rmsle</th>\n",
       "      <th>start_season</th>\n",
       "      <th>goals</th>\n",
       "      <th>assists</th>\n",
       "      <th>minutes_played</th>\n",
       "      <th>competition_code</th>\n",
       "      <th>age</th>\n",
       "      <th>position</th>\n",
       "      <th>current_club_name</th>\n",
       "      <th>country</th>\n",
       "      <th>foot</th>\n",
       "      <th>height_in_cm</th>\n",
       "    </tr>\n",
       "  </thead>\n",
       "  <tbody>\n",
       "    <tr>\n",
       "      <th>7709</th>\n",
       "      <td>Julián Álvarez</td>\n",
       "      <td>90000000.00</td>\n",
       "      <td>89680973.24</td>\n",
       "      <td>0.00</td>\n",
       "      <td>2023</td>\n",
       "      <td>10</td>\n",
       "      <td>9</td>\n",
       "      <td>2650</td>\n",
       "      <td>premier-league</td>\n",
       "      <td>24</td>\n",
       "      <td>Second Striker</td>\n",
       "      <td>Manchester City Football Club</td>\n",
       "      <td>Argentina</td>\n",
       "      <td>right</td>\n",
       "      <td>170.00</td>\n",
       "    </tr>\n",
       "    <tr>\n",
       "      <th>2111</th>\n",
       "      <td>Bruno Fernandes</td>\n",
       "      <td>70000000.00</td>\n",
       "      <td>71176534.59</td>\n",
       "      <td>0.02</td>\n",
       "      <td>2023</td>\n",
       "      <td>10</td>\n",
       "      <td>7</td>\n",
       "      <td>2970</td>\n",
       "      <td>premier-league</td>\n",
       "      <td>29</td>\n",
       "      <td>Attacking Midfield</td>\n",
       "      <td>Manchester United Football Club</td>\n",
       "      <td>Portugal</td>\n",
       "      <td>right</td>\n",
       "      <td>179.00</td>\n",
       "    </tr>\n",
       "    <tr>\n",
       "      <th>3200</th>\n",
       "      <td>Darwin Núñez</td>\n",
       "      <td>70000000.00</td>\n",
       "      <td>72664106.91</td>\n",
       "      <td>0.04</td>\n",
       "      <td>2023</td>\n",
       "      <td>11</td>\n",
       "      <td>8</td>\n",
       "      <td>2011</td>\n",
       "      <td>premier-league</td>\n",
       "      <td>24</td>\n",
       "      <td>Centre-Forward</td>\n",
       "      <td>Liverpool Football Club</td>\n",
       "      <td>Uruguay</td>\n",
       "      <td>right</td>\n",
       "      <td>187.00</td>\n",
       "    </tr>\n",
       "    <tr>\n",
       "      <th>10732</th>\n",
       "      <td>Mohamed Salah</td>\n",
       "      <td>65000000.00</td>\n",
       "      <td>67782418.50</td>\n",
       "      <td>0.04</td>\n",
       "      <td>2023</td>\n",
       "      <td>18</td>\n",
       "      <td>10</td>\n",
       "      <td>2356</td>\n",
       "      <td>premier-league</td>\n",
       "      <td>31</td>\n",
       "      <td>Right Winger</td>\n",
       "      <td>Liverpool Football Club</td>\n",
       "      <td>Egypt</td>\n",
       "      <td>left</td>\n",
       "      <td>175.00</td>\n",
       "    </tr>\n",
       "    <tr>\n",
       "      <th>3380</th>\n",
       "      <td>Dejan Kulusevski</td>\n",
       "      <td>55000000.00</td>\n",
       "      <td>53048275.79</td>\n",
       "      <td>0.04</td>\n",
       "      <td>2023</td>\n",
       "      <td>6</td>\n",
       "      <td>3</td>\n",
       "      <td>2566</td>\n",
       "      <td>premier-league</td>\n",
       "      <td>24</td>\n",
       "      <td>Right Winger</td>\n",
       "      <td>Tottenham Hotspur Football Club</td>\n",
       "      <td>Sweden</td>\n",
       "      <td>left</td>\n",
       "      <td>186.00</td>\n",
       "    </tr>\n",
       "    <tr>\n",
       "      <th>2737</th>\n",
       "      <td>Cole Palmer</td>\n",
       "      <td>55000000.00</td>\n",
       "      <td>54822166.82</td>\n",
       "      <td>0.00</td>\n",
       "      <td>2023</td>\n",
       "      <td>21</td>\n",
       "      <td>9</td>\n",
       "      <td>2349</td>\n",
       "      <td>premier-league</td>\n",
       "      <td>22</td>\n",
       "      <td>Attacking Midfield</td>\n",
       "      <td>Chelsea Football Club</td>\n",
       "      <td>England</td>\n",
       "      <td>left</td>\n",
       "      <td>189.00</td>\n",
       "    </tr>\n",
       "    <tr>\n",
       "      <th>3350</th>\n",
       "      <td>Dayot Upamecano</td>\n",
       "      <td>50000000.00</td>\n",
       "      <td>49826182.77</td>\n",
       "      <td>0.00</td>\n",
       "      <td>2023</td>\n",
       "      <td>1</td>\n",
       "      <td>0</td>\n",
       "      <td>1590</td>\n",
       "      <td>bundesliga</td>\n",
       "      <td>25</td>\n",
       "      <td>Centre-Back</td>\n",
       "      <td>FC Bayern München</td>\n",
       "      <td>France</td>\n",
       "      <td>right</td>\n",
       "      <td>186.00</td>\n",
       "    </tr>\n",
       "    <tr>\n",
       "      <th>10015</th>\n",
       "      <td>Matheus Nunes</td>\n",
       "      <td>50000000.00</td>\n",
       "      <td>49067776.68</td>\n",
       "      <td>0.02</td>\n",
       "      <td>2023</td>\n",
       "      <td>0</td>\n",
       "      <td>2</td>\n",
       "      <td>654</td>\n",
       "      <td>premier-league</td>\n",
       "      <td>25</td>\n",
       "      <td>Central Midfield</td>\n",
       "      <td>Manchester City Football Club</td>\n",
       "      <td>Portugal</td>\n",
       "      <td>right</td>\n",
       "      <td>183.00</td>\n",
       "    </tr>\n",
       "    <tr>\n",
       "      <th>10016</th>\n",
       "      <td>Matheus Nunes</td>\n",
       "      <td>50000000.00</td>\n",
       "      <td>49286870.18</td>\n",
       "      <td>0.01</td>\n",
       "      <td>2023</td>\n",
       "      <td>0</td>\n",
       "      <td>0</td>\n",
       "      <td>180</td>\n",
       "      <td>premier-league</td>\n",
       "      <td>25</td>\n",
       "      <td>Central Midfield</td>\n",
       "      <td>Manchester City Football Club</td>\n",
       "      <td>Portugal</td>\n",
       "      <td>right</td>\n",
       "      <td>183.00</td>\n",
       "    </tr>\n",
       "    <tr>\n",
       "      <th>8865</th>\n",
       "      <td>Lucas Hernández</td>\n",
       "      <td>45000000.00</td>\n",
       "      <td>44446864.60</td>\n",
       "      <td>0.01</td>\n",
       "      <td>2023</td>\n",
       "      <td>1</td>\n",
       "      <td>2</td>\n",
       "      <td>1915</td>\n",
       "      <td>ligue-1</td>\n",
       "      <td>28</td>\n",
       "      <td>Left-Back</td>\n",
       "      <td>Paris Saint-Germain Football Club</td>\n",
       "      <td>France</td>\n",
       "      <td>left</td>\n",
       "      <td>184.00</td>\n",
       "    </tr>\n",
       "    <tr>\n",
       "      <th>12479</th>\n",
       "      <td>Raheem Sterling</td>\n",
       "      <td>45000000.00</td>\n",
       "      <td>47093303.52</td>\n",
       "      <td>0.05</td>\n",
       "      <td>2023</td>\n",
       "      <td>6</td>\n",
       "      <td>4</td>\n",
       "      <td>1881</td>\n",
       "      <td>premier-league</td>\n",
       "      <td>29</td>\n",
       "      <td>Left Winger</td>\n",
       "      <td>Chelsea Football Club</td>\n",
       "      <td>England</td>\n",
       "      <td>right</td>\n",
       "      <td>170.00</td>\n",
       "    </tr>\n",
       "    <tr>\n",
       "      <th>5901</th>\n",
       "      <td>Ibrahima Konaté</td>\n",
       "      <td>45000000.00</td>\n",
       "      <td>47143487.26</td>\n",
       "      <td>0.05</td>\n",
       "      <td>2023</td>\n",
       "      <td>0</td>\n",
       "      <td>0</td>\n",
       "      <td>1573</td>\n",
       "      <td>premier-league</td>\n",
       "      <td>24</td>\n",
       "      <td>Centre-Back</td>\n",
       "      <td>Liverpool Football Club</td>\n",
       "      <td>France</td>\n",
       "      <td>right</td>\n",
       "      <td>194.00</td>\n",
       "    </tr>\n",
       "    <tr>\n",
       "      <th>994</th>\n",
       "      <td>Andreas Christensen</td>\n",
       "      <td>40000000.00</td>\n",
       "      <td>38925463.54</td>\n",
       "      <td>0.03</td>\n",
       "      <td>2023</td>\n",
       "      <td>2</td>\n",
       "      <td>2</td>\n",
       "      <td>1810</td>\n",
       "      <td>laliga</td>\n",
       "      <td>28</td>\n",
       "      <td>Centre-Back</td>\n",
       "      <td>Futbol Club Barcelona</td>\n",
       "      <td>Denmark</td>\n",
       "      <td>right</td>\n",
       "      <td>187.00</td>\n",
       "    </tr>\n",
       "    <tr>\n",
       "      <th>9929</th>\n",
       "      <td>Mason Mount</td>\n",
       "      <td>40000000.00</td>\n",
       "      <td>40237838.11</td>\n",
       "      <td>0.01</td>\n",
       "      <td>2023</td>\n",
       "      <td>1</td>\n",
       "      <td>0</td>\n",
       "      <td>514</td>\n",
       "      <td>premier-league</td>\n",
       "      <td>25</td>\n",
       "      <td>Attacking Midfield</td>\n",
       "      <td>Manchester United Football Club</td>\n",
       "      <td>England</td>\n",
       "      <td>right</td>\n",
       "      <td>181.00</td>\n",
       "    </tr>\n",
       "    <tr>\n",
       "      <th>11054</th>\n",
       "      <td>Nathan Aké</td>\n",
       "      <td>40000000.00</td>\n",
       "      <td>39161407.80</td>\n",
       "      <td>0.02</td>\n",
       "      <td>2023</td>\n",
       "      <td>2</td>\n",
       "      <td>2</td>\n",
       "      <td>2003</td>\n",
       "      <td>premier-league</td>\n",
       "      <td>29</td>\n",
       "      <td>Centre-Back</td>\n",
       "      <td>Manchester City Football Club</td>\n",
       "      <td>Netherlands</td>\n",
       "      <td>left</td>\n",
       "      <td>180.00</td>\n",
       "    </tr>\n",
       "    <tr>\n",
       "      <th>2012</th>\n",
       "      <td>Brahim Díaz</td>\n",
       "      <td>35000000.00</td>\n",
       "      <td>34383171.35</td>\n",
       "      <td>0.02</td>\n",
       "      <td>2023</td>\n",
       "      <td>6</td>\n",
       "      <td>4</td>\n",
       "      <td>1393</td>\n",
       "      <td>laliga</td>\n",
       "      <td>24</td>\n",
       "      <td>Attacking Midfield</td>\n",
       "      <td>Real Madrid Club de Fútbol</td>\n",
       "      <td>Morocco</td>\n",
       "      <td>both</td>\n",
       "      <td>170.00</td>\n",
       "    </tr>\n",
       "    <tr>\n",
       "      <th>1051</th>\n",
       "      <td>Andrew Robertson</td>\n",
       "      <td>35000000.00</td>\n",
       "      <td>36109617.78</td>\n",
       "      <td>0.03</td>\n",
       "      <td>2023</td>\n",
       "      <td>3</td>\n",
       "      <td>2</td>\n",
       "      <td>1602</td>\n",
       "      <td>premier-league</td>\n",
       "      <td>30</td>\n",
       "      <td>Left-Back</td>\n",
       "      <td>Liverpool Football Club</td>\n",
       "      <td>Scotland</td>\n",
       "      <td>left</td>\n",
       "      <td>178.00</td>\n",
       "    </tr>\n",
       "    <tr>\n",
       "      <th>2862</th>\n",
       "      <td>Curtis Jones</td>\n",
       "      <td>35000000.00</td>\n",
       "      <td>33339619.50</td>\n",
       "      <td>0.05</td>\n",
       "      <td>2023</td>\n",
       "      <td>1</td>\n",
       "      <td>1</td>\n",
       "      <td>1143</td>\n",
       "      <td>premier-league</td>\n",
       "      <td>23</td>\n",
       "      <td>Central Midfield</td>\n",
       "      <td>Liverpool Football Club</td>\n",
       "      <td>England</td>\n",
       "      <td>right</td>\n",
       "      <td>185.00</td>\n",
       "    </tr>\n",
       "    <tr>\n",
       "      <th>14760</th>\n",
       "      <td>Tomas Soucek</td>\n",
       "      <td>35000000.00</td>\n",
       "      <td>36169576.82</td>\n",
       "      <td>0.03</td>\n",
       "      <td>2023</td>\n",
       "      <td>6</td>\n",
       "      <td>2</td>\n",
       "      <td>2694</td>\n",
       "      <td>premier-league</td>\n",
       "      <td>29</td>\n",
       "      <td>Defensive Midfield</td>\n",
       "      <td>West Ham United Football Club</td>\n",
       "      <td>Czech Republic</td>\n",
       "      <td>right</td>\n",
       "      <td>192.00</td>\n",
       "    </tr>\n",
       "    <tr>\n",
       "      <th>9405</th>\n",
       "      <td>Manuel Locatelli</td>\n",
       "      <td>33000000.00</td>\n",
       "      <td>31747402.61</td>\n",
       "      <td>0.04</td>\n",
       "      <td>2023</td>\n",
       "      <td>1</td>\n",
       "      <td>3</td>\n",
       "      <td>2831</td>\n",
       "      <td>serie-a</td>\n",
       "      <td>26</td>\n",
       "      <td>Defensive Midfield</td>\n",
       "      <td>Juventus Football Club</td>\n",
       "      <td>Italy</td>\n",
       "      <td>right</td>\n",
       "      <td>185.00</td>\n",
       "    </tr>\n",
       "  </tbody>\n",
       "</table>\n",
       "</div>"
      ],
      "text/plain": [
       "               player_name  market_value_per_season  market_value_pred  \\\n",
       "7709        Julián Álvarez              90000000.00        89680973.24   \n",
       "2111       Bruno Fernandes              70000000.00        71176534.59   \n",
       "3200          Darwin Núñez              70000000.00        72664106.91   \n",
       "10732        Mohamed Salah              65000000.00        67782418.50   \n",
       "3380      Dejan Kulusevski              55000000.00        53048275.79   \n",
       "2737           Cole Palmer              55000000.00        54822166.82   \n",
       "3350       Dayot Upamecano              50000000.00        49826182.77   \n",
       "10015        Matheus Nunes              50000000.00        49067776.68   \n",
       "10016        Matheus Nunes              50000000.00        49286870.18   \n",
       "8865       Lucas Hernández              45000000.00        44446864.60   \n",
       "12479      Raheem Sterling              45000000.00        47093303.52   \n",
       "5901       Ibrahima Konaté              45000000.00        47143487.26   \n",
       "994    Andreas Christensen              40000000.00        38925463.54   \n",
       "9929           Mason Mount              40000000.00        40237838.11   \n",
       "11054           Nathan Aké              40000000.00        39161407.80   \n",
       "2012           Brahim Díaz              35000000.00        34383171.35   \n",
       "1051      Andrew Robertson              35000000.00        36109617.78   \n",
       "2862          Curtis Jones              35000000.00        33339619.50   \n",
       "14760         Tomas Soucek              35000000.00        36169576.82   \n",
       "9405      Manuel Locatelli              33000000.00        31747402.61   \n",
       "\n",
       "       market_value_rmsle  start_season  goals  assists  minutes_played  \\\n",
       "7709                 0.00          2023     10        9            2650   \n",
       "2111                 0.02          2023     10        7            2970   \n",
       "3200                 0.04          2023     11        8            2011   \n",
       "10732                0.04          2023     18       10            2356   \n",
       "3380                 0.04          2023      6        3            2566   \n",
       "2737                 0.00          2023     21        9            2349   \n",
       "3350                 0.00          2023      1        0            1590   \n",
       "10015                0.02          2023      0        2             654   \n",
       "10016                0.01          2023      0        0             180   \n",
       "8865                 0.01          2023      1        2            1915   \n",
       "12479                0.05          2023      6        4            1881   \n",
       "5901                 0.05          2023      0        0            1573   \n",
       "994                  0.03          2023      2        2            1810   \n",
       "9929                 0.01          2023      1        0             514   \n",
       "11054                0.02          2023      2        2            2003   \n",
       "2012                 0.02          2023      6        4            1393   \n",
       "1051                 0.03          2023      3        2            1602   \n",
       "2862                 0.05          2023      1        1            1143   \n",
       "14760                0.03          2023      6        2            2694   \n",
       "9405                 0.04          2023      1        3            2831   \n",
       "\n",
       "      competition_code  age            position  \\\n",
       "7709    premier-league   24      Second Striker   \n",
       "2111    premier-league   29  Attacking Midfield   \n",
       "3200    premier-league   24      Centre-Forward   \n",
       "10732   premier-league   31        Right Winger   \n",
       "3380    premier-league   24        Right Winger   \n",
       "2737    premier-league   22  Attacking Midfield   \n",
       "3350        bundesliga   25         Centre-Back   \n",
       "10015   premier-league   25    Central Midfield   \n",
       "10016   premier-league   25    Central Midfield   \n",
       "8865           ligue-1   28           Left-Back   \n",
       "12479   premier-league   29         Left Winger   \n",
       "5901    premier-league   24         Centre-Back   \n",
       "994             laliga   28         Centre-Back   \n",
       "9929    premier-league   25  Attacking Midfield   \n",
       "11054   premier-league   29         Centre-Back   \n",
       "2012            laliga   24  Attacking Midfield   \n",
       "1051    premier-league   30           Left-Back   \n",
       "2862    premier-league   23    Central Midfield   \n",
       "14760   premier-league   29  Defensive Midfield   \n",
       "9405           serie-a   26  Defensive Midfield   \n",
       "\n",
       "                       current_club_name         country   foot  height_in_cm  \n",
       "7709       Manchester City Football Club       Argentina  right        170.00  \n",
       "2111     Manchester United Football Club        Portugal  right        179.00  \n",
       "3200             Liverpool Football Club         Uruguay  right        187.00  \n",
       "10732            Liverpool Football Club           Egypt   left        175.00  \n",
       "3380     Tottenham Hotspur Football Club          Sweden   left        186.00  \n",
       "2737               Chelsea Football Club         England   left        189.00  \n",
       "3350                   FC Bayern München          France  right        186.00  \n",
       "10015      Manchester City Football Club        Portugal  right        183.00  \n",
       "10016      Manchester City Football Club        Portugal  right        183.00  \n",
       "8865   Paris Saint-Germain Football Club          France   left        184.00  \n",
       "12479              Chelsea Football Club         England  right        170.00  \n",
       "5901             Liverpool Football Club          France  right        194.00  \n",
       "994                Futbol Club Barcelona         Denmark  right        187.00  \n",
       "9929     Manchester United Football Club         England  right        181.00  \n",
       "11054      Manchester City Football Club     Netherlands   left        180.00  \n",
       "2012          Real Madrid Club de Fútbol         Morocco   both        170.00  \n",
       "1051             Liverpool Football Club        Scotland   left        178.00  \n",
       "2862             Liverpool Football Club         England  right        185.00  \n",
       "14760      West Ham United Football Club  Czech Republic  right        192.00  \n",
       "9405              Juventus Football Club           Italy  right        185.00  "
      ]
     },
     "execution_count": 90,
     "metadata": {},
     "output_type": "execute_result"
    }
   ],
   "source": [
    "# RMSLE 값이 0.05 이하인 예측 값 확인\n",
    "test_copy_cat[test_copy_cat.market_value_rmsle <= 0.05].sort_values(by=\"market_value_per_season\", ascending=False).head(20)"
   ]
  },
  {
   "cell_type": "code",
   "execution_count": 92,
   "metadata": {},
   "outputs": [
    {
     "data": {
      "text/html": [
       "<div>\n",
       "<style scoped>\n",
       "    .dataframe tbody tr th:only-of-type {\n",
       "        vertical-align: middle;\n",
       "    }\n",
       "\n",
       "    .dataframe tbody tr th {\n",
       "        vertical-align: top;\n",
       "    }\n",
       "\n",
       "    .dataframe thead th {\n",
       "        text-align: right;\n",
       "    }\n",
       "</style>\n",
       "<table border=\"1\" class=\"dataframe\">\n",
       "  <thead>\n",
       "    <tr style=\"text-align: right;\">\n",
       "      <th></th>\n",
       "      <th>player_name</th>\n",
       "      <th>market_value_per_season</th>\n",
       "      <th>market_value_pred</th>\n",
       "      <th>market_value_rmsle</th>\n",
       "      <th>start_season</th>\n",
       "      <th>goals</th>\n",
       "      <th>assists</th>\n",
       "      <th>minutes_played</th>\n",
       "      <th>competition_code</th>\n",
       "      <th>age</th>\n",
       "      <th>position</th>\n",
       "      <th>current_club_name</th>\n",
       "      <th>country</th>\n",
       "      <th>foot</th>\n",
       "      <th>height_in_cm</th>\n",
       "    </tr>\n",
       "  </thead>\n",
       "  <tbody>\n",
       "    <tr>\n",
       "      <th>711</th>\n",
       "      <td>Alfie Gilchrist</td>\n",
       "      <td>300000.00</td>\n",
       "      <td>15141259.96</td>\n",
       "      <td>3.92</td>\n",
       "      <td>2023</td>\n",
       "      <td>1</td>\n",
       "      <td>0</td>\n",
       "      <td>202</td>\n",
       "      <td>premier-league</td>\n",
       "      <td>20</td>\n",
       "      <td>Centre-Back</td>\n",
       "      <td>Chelsea Football Club</td>\n",
       "      <td>England</td>\n",
       "      <td>right</td>\n",
       "      <td>183.00</td>\n",
       "    </tr>\n",
       "    <tr>\n",
       "      <th>1997</th>\n",
       "      <td>Bouna Sarr</td>\n",
       "      <td>2000000.00</td>\n",
       "      <td>65237.58</td>\n",
       "      <td>3.42</td>\n",
       "      <td>2023</td>\n",
       "      <td>0</td>\n",
       "      <td>0</td>\n",
       "      <td>105</td>\n",
       "      <td>bundesliga</td>\n",
       "      <td>32</td>\n",
       "      <td>Right-Back</td>\n",
       "      <td>FC Bayern München</td>\n",
       "      <td>Senegal</td>\n",
       "      <td>right</td>\n",
       "      <td>178.00</td>\n",
       "    </tr>\n",
       "    <tr>\n",
       "      <th>6827</th>\n",
       "      <td>Jhonatan</td>\n",
       "      <td>800000.00</td>\n",
       "      <td>26466.64</td>\n",
       "      <td>3.41</td>\n",
       "      <td>2023</td>\n",
       "      <td>0</td>\n",
       "      <td>0</td>\n",
       "      <td>2250</td>\n",
       "      <td>liga-portugal-bwin</td>\n",
       "      <td>33</td>\n",
       "      <td>Goalkeeper</td>\n",
       "      <td>Rio Ave Futebol Clube</td>\n",
       "      <td>Brazil</td>\n",
       "      <td>right</td>\n",
       "      <td>190.00</td>\n",
       "    </tr>\n",
       "    <tr>\n",
       "      <th>13489</th>\n",
       "      <td>Samu Omorodion</td>\n",
       "      <td>40000000.00</td>\n",
       "      <td>1339617.18</td>\n",
       "      <td>3.40</td>\n",
       "      <td>2023</td>\n",
       "      <td>1</td>\n",
       "      <td>0</td>\n",
       "      <td>82</td>\n",
       "      <td>laliga</td>\n",
       "      <td>20</td>\n",
       "      <td>Centre-Forward</td>\n",
       "      <td>Deportivo Alavés S.A.D.</td>\n",
       "      <td>Spain</td>\n",
       "      <td>right</td>\n",
       "      <td>193.00</td>\n",
       "    </tr>\n",
       "    <tr>\n",
       "      <th>2543</th>\n",
       "      <td>Chris Smalling</td>\n",
       "      <td>3500000.00</td>\n",
       "      <td>144187.40</td>\n",
       "      <td>3.19</td>\n",
       "      <td>2023</td>\n",
       "      <td>0</td>\n",
       "      <td>0</td>\n",
       "      <td>390</td>\n",
       "      <td>serie-a</td>\n",
       "      <td>34</td>\n",
       "      <td>Centre-Back</td>\n",
       "      <td>Associazione Sportiva Roma</td>\n",
       "      <td>England</td>\n",
       "      <td>right</td>\n",
       "      <td>194.00</td>\n",
       "    </tr>\n",
       "    <tr>\n",
       "      <th>11566</th>\n",
       "      <td>Oliver Arblaster</td>\n",
       "      <td>450000.00</td>\n",
       "      <td>8435197.60</td>\n",
       "      <td>2.93</td>\n",
       "      <td>2023</td>\n",
       "      <td>0</td>\n",
       "      <td>0</td>\n",
       "      <td>821</td>\n",
       "      <td>premier-league</td>\n",
       "      <td>20</td>\n",
       "      <td>Central Midfield</td>\n",
       "      <td>Sheffield United Football Club</td>\n",
       "      <td>England</td>\n",
       "      <td>right</td>\n",
       "      <td>180.00</td>\n",
       "    </tr>\n",
       "    <tr>\n",
       "      <th>14205</th>\n",
       "      <td>Steven Baseya</td>\n",
       "      <td>50000.00</td>\n",
       "      <td>794148.38</td>\n",
       "      <td>2.77</td>\n",
       "      <td>2023</td>\n",
       "      <td>0</td>\n",
       "      <td>0</td>\n",
       "      <td>5</td>\n",
       "      <td>ligue-1</td>\n",
       "      <td>19</td>\n",
       "      <td>Centre-Back</td>\n",
       "      <td>Racing Club de Strasbourg Alsace</td>\n",
       "      <td>France</td>\n",
       "      <td>right</td>\n",
       "      <td>189.00</td>\n",
       "    </tr>\n",
       "    <tr>\n",
       "      <th>7108</th>\n",
       "      <td>Jonathan Viera</td>\n",
       "      <td>1200000.00</td>\n",
       "      <td>87047.20</td>\n",
       "      <td>2.62</td>\n",
       "      <td>2023</td>\n",
       "      <td>0</td>\n",
       "      <td>2</td>\n",
       "      <td>680</td>\n",
       "      <td>laliga</td>\n",
       "      <td>34</td>\n",
       "      <td>Attacking Midfield</td>\n",
       "      <td>Unión Deportiva Almería S.A.D.</td>\n",
       "      <td>Spain</td>\n",
       "      <td>right</td>\n",
       "      <td>171.00</td>\n",
       "    </tr>\n",
       "    <tr>\n",
       "      <th>11782</th>\n",
       "      <td>Papa Amadou Diallo</td>\n",
       "      <td>250000.00</td>\n",
       "      <td>3360063.66</td>\n",
       "      <td>2.60</td>\n",
       "      <td>2023</td>\n",
       "      <td>2</td>\n",
       "      <td>0</td>\n",
       "      <td>710</td>\n",
       "      <td>ligue-1</td>\n",
       "      <td>19</td>\n",
       "      <td>Left Winger</td>\n",
       "      <td>Football Club de Metz</td>\n",
       "      <td>Senegal</td>\n",
       "      <td>right</td>\n",
       "      <td>182.00</td>\n",
       "    </tr>\n",
       "    <tr>\n",
       "      <th>14949</th>\n",
       "      <td>Unai Marrero</td>\n",
       "      <td>300000.00</td>\n",
       "      <td>3959824.37</td>\n",
       "      <td>2.58</td>\n",
       "      <td>2023</td>\n",
       "      <td>0</td>\n",
       "      <td>0</td>\n",
       "      <td>141</td>\n",
       "      <td>laliga</td>\n",
       "      <td>22</td>\n",
       "      <td>Goalkeeper</td>\n",
       "      <td>Real Sociedad de Fútbol S.A.D.</td>\n",
       "      <td>Spain</td>\n",
       "      <td>right</td>\n",
       "      <td>189.00</td>\n",
       "    </tr>\n",
       "  </tbody>\n",
       "</table>\n",
       "</div>"
      ],
      "text/plain": [
       "              player_name  market_value_per_season  market_value_pred  \\\n",
       "711       Alfie Gilchrist                300000.00        15141259.96   \n",
       "1997           Bouna Sarr               2000000.00           65237.58   \n",
       "6827             Jhonatan                800000.00           26466.64   \n",
       "13489      Samu Omorodion              40000000.00         1339617.18   \n",
       "2543       Chris Smalling               3500000.00          144187.40   \n",
       "11566    Oliver Arblaster                450000.00         8435197.60   \n",
       "14205       Steven Baseya                 50000.00          794148.38   \n",
       "7108       Jonathan Viera               1200000.00           87047.20   \n",
       "11782  Papa Amadou Diallo                250000.00         3360063.66   \n",
       "14949        Unai Marrero                300000.00         3959824.37   \n",
       "\n",
       "       market_value_rmsle  start_season  goals  assists  minutes_played  \\\n",
       "711                  3.92          2023      1        0             202   \n",
       "1997                 3.42          2023      0        0             105   \n",
       "6827                 3.41          2023      0        0            2250   \n",
       "13489                3.40          2023      1        0              82   \n",
       "2543                 3.19          2023      0        0             390   \n",
       "11566                2.93          2023      0        0             821   \n",
       "14205                2.77          2023      0        0               5   \n",
       "7108                 2.62          2023      0        2             680   \n",
       "11782                2.60          2023      2        0             710   \n",
       "14949                2.58          2023      0        0             141   \n",
       "\n",
       "         competition_code  age            position  \\\n",
       "711        premier-league   20         Centre-Back   \n",
       "1997           bundesliga   32          Right-Back   \n",
       "6827   liga-portugal-bwin   33          Goalkeeper   \n",
       "13489              laliga   20      Centre-Forward   \n",
       "2543              serie-a   34         Centre-Back   \n",
       "11566      premier-league   20    Central Midfield   \n",
       "14205             ligue-1   19         Centre-Back   \n",
       "7108               laliga   34  Attacking Midfield   \n",
       "11782             ligue-1   19         Left Winger   \n",
       "14949              laliga   22          Goalkeeper   \n",
       "\n",
       "                      current_club_name  country   foot  height_in_cm  \n",
       "711               Chelsea Football Club  England  right        183.00  \n",
       "1997                  FC Bayern München  Senegal  right        178.00  \n",
       "6827              Rio Ave Futebol Clube   Brazil  right        190.00  \n",
       "13489           Deportivo Alavés S.A.D.    Spain  right        193.00  \n",
       "2543         Associazione Sportiva Roma  England  right        194.00  \n",
       "11566    Sheffield United Football Club  England  right        180.00  \n",
       "14205  Racing Club de Strasbourg Alsace   France  right        189.00  \n",
       "7108     Unión Deportiva Almería S.A.D.    Spain  right        171.00  \n",
       "11782             Football Club de Metz  Senegal  right        182.00  \n",
       "14949    Real Sociedad de Fútbol S.A.D.    Spain  right        189.00  "
      ]
     },
     "execution_count": 92,
     "metadata": {},
     "output_type": "execute_result"
    }
   ],
   "source": [
    "# RMSLE 값이 0.64 (75%) 이상인 예측 값 확인\n",
    "# RMSLE 값 최대치 : 약 3.92\n",
    "\n",
    "test_copy_cat[test_copy_cat.market_value_rmsle >= 0.64].sort_values(by=\"market_value_rmsle\", ascending=False).head(10)"
   ]
  },
  {
   "cell_type": "code",
   "execution_count": 93,
   "metadata": {},
   "outputs": [
    {
     "data": {
      "text/html": [
       "<div>\n",
       "<style scoped>\n",
       "    .dataframe tbody tr th:only-of-type {\n",
       "        vertical-align: middle;\n",
       "    }\n",
       "\n",
       "    .dataframe tbody tr th {\n",
       "        vertical-align: top;\n",
       "    }\n",
       "\n",
       "    .dataframe thead th {\n",
       "        text-align: right;\n",
       "    }\n",
       "</style>\n",
       "<table border=\"1\" class=\"dataframe\">\n",
       "  <thead>\n",
       "    <tr style=\"text-align: right;\">\n",
       "      <th></th>\n",
       "      <th>player_name</th>\n",
       "      <th>market_value_per_season</th>\n",
       "      <th>market_value_pred</th>\n",
       "      <th>market_value_rmsle</th>\n",
       "      <th>start_season</th>\n",
       "      <th>goals</th>\n",
       "      <th>assists</th>\n",
       "      <th>minutes_played</th>\n",
       "      <th>competition_code</th>\n",
       "      <th>age</th>\n",
       "      <th>position</th>\n",
       "      <th>current_club_name</th>\n",
       "      <th>country</th>\n",
       "      <th>foot</th>\n",
       "      <th>height_in_cm</th>\n",
       "    </tr>\n",
       "  </thead>\n",
       "  <tbody>\n",
       "    <tr>\n",
       "      <th>10598</th>\n",
       "      <td>Mike Trésor</td>\n",
       "      <td>13000000.00</td>\n",
       "      <td>6812110.58</td>\n",
       "      <td>0.65</td>\n",
       "      <td>2023</td>\n",
       "      <td>0</td>\n",
       "      <td>0</td>\n",
       "      <td>404</td>\n",
       "      <td>premier-league</td>\n",
       "      <td>24</td>\n",
       "      <td>Left Winger</td>\n",
       "      <td>Burnley Football Club</td>\n",
       "      <td>Belgium</td>\n",
       "      <td>right</td>\n",
       "      <td>172.00</td>\n",
       "    </tr>\n",
       "    <tr>\n",
       "      <th>8215</th>\n",
       "      <td>Kilian Fischer</td>\n",
       "      <td>1500000.00</td>\n",
       "      <td>2862208.11</td>\n",
       "      <td>0.65</td>\n",
       "      <td>2023</td>\n",
       "      <td>0</td>\n",
       "      <td>0</td>\n",
       "      <td>201</td>\n",
       "      <td>bundesliga</td>\n",
       "      <td>23</td>\n",
       "      <td>Right-Back</td>\n",
       "      <td>Verein für Leibesübungen Wolfsburg</td>\n",
       "      <td>Germany</td>\n",
       "      <td>both</td>\n",
       "      <td>182.00</td>\n",
       "    </tr>\n",
       "    <tr>\n",
       "      <th>948</th>\n",
       "      <td>Andrea Consigli</td>\n",
       "      <td>1000000.00</td>\n",
       "      <td>1907365.10</td>\n",
       "      <td>0.65</td>\n",
       "      <td>2023</td>\n",
       "      <td>0</td>\n",
       "      <td>0</td>\n",
       "      <td>2970</td>\n",
       "      <td>serie-a</td>\n",
       "      <td>37</td>\n",
       "      <td>Goalkeeper</td>\n",
       "      <td>Unione Sportiva Sassuolo Calcio</td>\n",
       "      <td>Italy</td>\n",
       "      <td>right</td>\n",
       "      <td>189.00</td>\n",
       "    </tr>\n",
       "    <tr>\n",
       "      <th>1807</th>\n",
       "      <td>Benjamin Stambouli</td>\n",
       "      <td>800000.00</td>\n",
       "      <td>1525780.94</td>\n",
       "      <td>0.65</td>\n",
       "      <td>2023</td>\n",
       "      <td>0</td>\n",
       "      <td>1</td>\n",
       "      <td>190</td>\n",
       "      <td>ligue-1</td>\n",
       "      <td>33</td>\n",
       "      <td>Defensive Midfield</td>\n",
       "      <td>Stade de Reims</td>\n",
       "      <td>France</td>\n",
       "      <td>right</td>\n",
       "      <td>180.00</td>\n",
       "    </tr>\n",
       "    <tr>\n",
       "      <th>7535</th>\n",
       "      <td>João Pedro</td>\n",
       "      <td>45000000.00</td>\n",
       "      <td>23631881.30</td>\n",
       "      <td>0.64</td>\n",
       "      <td>2023</td>\n",
       "      <td>9</td>\n",
       "      <td>2</td>\n",
       "      <td>1867</td>\n",
       "      <td>premier-league</td>\n",
       "      <td>22</td>\n",
       "      <td>Centre-Forward</td>\n",
       "      <td>Brighton and Hove Albion Football Club</td>\n",
       "      <td>Brazil</td>\n",
       "      <td>right</td>\n",
       "      <td>182.00</td>\n",
       "    </tr>\n",
       "    <tr>\n",
       "      <th>4016</th>\n",
       "      <td>Elye Wahi</td>\n",
       "      <td>35000000.00</td>\n",
       "      <td>18396990.52</td>\n",
       "      <td>0.64</td>\n",
       "      <td>2023</td>\n",
       "      <td>8</td>\n",
       "      <td>2</td>\n",
       "      <td>1613</td>\n",
       "      <td>ligue-1</td>\n",
       "      <td>21</td>\n",
       "      <td>Centre-Forward</td>\n",
       "      <td>Racing Club de Lens</td>\n",
       "      <td>France</td>\n",
       "      <td>right</td>\n",
       "      <td>181.00</td>\n",
       "    </tr>\n",
       "    <tr>\n",
       "      <th>14480</th>\n",
       "      <td>Thilo Kehrer</td>\n",
       "      <td>9000000.00</td>\n",
       "      <td>17120013.40</td>\n",
       "      <td>0.64</td>\n",
       "      <td>2023</td>\n",
       "      <td>0</td>\n",
       "      <td>1</td>\n",
       "      <td>1144</td>\n",
       "      <td>ligue-1</td>\n",
       "      <td>27</td>\n",
       "      <td>Centre-Back</td>\n",
       "      <td>Association sportive de Monaco Football Club</td>\n",
       "      <td>Germany</td>\n",
       "      <td>right</td>\n",
       "      <td>186.00</td>\n",
       "    </tr>\n",
       "    <tr>\n",
       "      <th>14400</th>\n",
       "      <td>Telasco Segovia</td>\n",
       "      <td>400000.00</td>\n",
       "      <td>760818.15</td>\n",
       "      <td>0.64</td>\n",
       "      <td>2023</td>\n",
       "      <td>0</td>\n",
       "      <td>1</td>\n",
       "      <td>629</td>\n",
       "      <td>liga-portugal-bwin</td>\n",
       "      <td>21</td>\n",
       "      <td>Central Midfield</td>\n",
       "      <td>Casa Pia Atlético Clube</td>\n",
       "      <td>Venezuela</td>\n",
       "      <td>right</td>\n",
       "      <td>180.00</td>\n",
       "    </tr>\n",
       "    <tr>\n",
       "      <th>15624</th>\n",
       "      <td>Yorbe Vertessen</td>\n",
       "      <td>4000000.00</td>\n",
       "      <td>7608007.42</td>\n",
       "      <td>0.64</td>\n",
       "      <td>2023</td>\n",
       "      <td>3</td>\n",
       "      <td>2</td>\n",
       "      <td>530</td>\n",
       "      <td>bundesliga</td>\n",
       "      <td>23</td>\n",
       "      <td>Centre-Forward</td>\n",
       "      <td>1. FC Union Berlin</td>\n",
       "      <td>Belgium</td>\n",
       "      <td>right</td>\n",
       "      <td>174.00</td>\n",
       "    </tr>\n",
       "    <tr>\n",
       "      <th>1583</th>\n",
       "      <td>Aurélien Tchouaméni</td>\n",
       "      <td>90000000.00</td>\n",
       "      <td>47418553.07</td>\n",
       "      <td>0.64</td>\n",
       "      <td>2023</td>\n",
       "      <td>3</td>\n",
       "      <td>1</td>\n",
       "      <td>1986</td>\n",
       "      <td>laliga</td>\n",
       "      <td>24</td>\n",
       "      <td>Defensive Midfield</td>\n",
       "      <td>Real Madrid Club de Fútbol</td>\n",
       "      <td>France</td>\n",
       "      <td>right</td>\n",
       "      <td>188.00</td>\n",
       "    </tr>\n",
       "  </tbody>\n",
       "</table>\n",
       "</div>"
      ],
      "text/plain": [
       "               player_name  market_value_per_season  market_value_pred  \\\n",
       "10598          Mike Trésor              13000000.00         6812110.58   \n",
       "8215        Kilian Fischer               1500000.00         2862208.11   \n",
       "948        Andrea Consigli               1000000.00         1907365.10   \n",
       "1807    Benjamin Stambouli                800000.00         1525780.94   \n",
       "7535            João Pedro              45000000.00        23631881.30   \n",
       "4016             Elye Wahi              35000000.00        18396990.52   \n",
       "14480         Thilo Kehrer               9000000.00        17120013.40   \n",
       "14400      Telasco Segovia                400000.00          760818.15   \n",
       "15624      Yorbe Vertessen               4000000.00         7608007.42   \n",
       "1583   Aurélien Tchouaméni              90000000.00        47418553.07   \n",
       "\n",
       "       market_value_rmsle  start_season  goals  assists  minutes_played  \\\n",
       "10598                0.65          2023      0        0             404   \n",
       "8215                 0.65          2023      0        0             201   \n",
       "948                  0.65          2023      0        0            2970   \n",
       "1807                 0.65          2023      0        1             190   \n",
       "7535                 0.64          2023      9        2            1867   \n",
       "4016                 0.64          2023      8        2            1613   \n",
       "14480                0.64          2023      0        1            1144   \n",
       "14400                0.64          2023      0        1             629   \n",
       "15624                0.64          2023      3        2             530   \n",
       "1583                 0.64          2023      3        1            1986   \n",
       "\n",
       "         competition_code  age            position  \\\n",
       "10598      premier-league   24         Left Winger   \n",
       "8215           bundesliga   23          Right-Back   \n",
       "948               serie-a   37          Goalkeeper   \n",
       "1807              ligue-1   33  Defensive Midfield   \n",
       "7535       premier-league   22      Centre-Forward   \n",
       "4016              ligue-1   21      Centre-Forward   \n",
       "14480             ligue-1   27         Centre-Back   \n",
       "14400  liga-portugal-bwin   21    Central Midfield   \n",
       "15624          bundesliga   23      Centre-Forward   \n",
       "1583               laliga   24  Defensive Midfield   \n",
       "\n",
       "                                  current_club_name    country   foot  \\\n",
       "10598                         Burnley Football Club    Belgium  right   \n",
       "8215             Verein für Leibesübungen Wolfsburg    Germany   both   \n",
       "948                 Unione Sportiva Sassuolo Calcio      Italy  right   \n",
       "1807                                 Stade de Reims     France  right   \n",
       "7535         Brighton and Hove Albion Football Club     Brazil  right   \n",
       "4016                            Racing Club de Lens     France  right   \n",
       "14480  Association sportive de Monaco Football Club    Germany  right   \n",
       "14400                       Casa Pia Atlético Clube  Venezuela  right   \n",
       "15624                            1. FC Union Berlin    Belgium  right   \n",
       "1583                     Real Madrid Club de Fútbol     France  right   \n",
       "\n",
       "       height_in_cm  \n",
       "10598        172.00  \n",
       "8215         182.00  \n",
       "948          189.00  \n",
       "1807         180.00  \n",
       "7535         182.00  \n",
       "4016         181.00  \n",
       "14480        186.00  \n",
       "14400        180.00  \n",
       "15624        174.00  \n",
       "1583         188.00  "
      ]
     },
     "execution_count": 93,
     "metadata": {},
     "output_type": "execute_result"
    }
   ],
   "source": [
    "# RMSLE 값이 0.64 (75%) 이상인 예측 값 확인\n",
    "# RMSLE 값 최대치 : 약 3.92\n",
    "\n",
    "test_copy_cat[test_copy_cat.market_value_rmsle >= 0.64].sort_values(by=\"market_value_rmsle\", ascending=False).tail(10)\n"
   ]
  },
  {
   "cell_type": "code",
   "execution_count": 94,
   "metadata": {},
   "outputs": [
    {
     "data": {
      "text/html": [
       "<div>\n",
       "<style scoped>\n",
       "    .dataframe tbody tr th:only-of-type {\n",
       "        vertical-align: middle;\n",
       "    }\n",
       "\n",
       "    .dataframe tbody tr th {\n",
       "        vertical-align: top;\n",
       "    }\n",
       "\n",
       "    .dataframe thead th {\n",
       "        text-align: right;\n",
       "    }\n",
       "</style>\n",
       "<table border=\"1\" class=\"dataframe\">\n",
       "  <thead>\n",
       "    <tr style=\"text-align: right;\">\n",
       "      <th></th>\n",
       "      <th>player_name</th>\n",
       "      <th>market_value_per_season</th>\n",
       "      <th>market_value_pred</th>\n",
       "      <th>market_value_rmsle</th>\n",
       "      <th>start_season</th>\n",
       "      <th>goals</th>\n",
       "      <th>assists</th>\n",
       "      <th>minutes_played</th>\n",
       "      <th>competition_code</th>\n",
       "      <th>age</th>\n",
       "      <th>position</th>\n",
       "      <th>current_club_name</th>\n",
       "      <th>country</th>\n",
       "      <th>foot</th>\n",
       "      <th>height_in_cm</th>\n",
       "    </tr>\n",
       "  </thead>\n",
       "  <tbody>\n",
       "    <tr>\n",
       "      <th>6353</th>\n",
       "      <td>Jakub Kiwior</td>\n",
       "      <td>25000000.00</td>\n",
       "      <td>25619875.50</td>\n",
       "      <td>0.02</td>\n",
       "      <td>2023</td>\n",
       "      <td>1</td>\n",
       "      <td>3</td>\n",
       "      <td>944</td>\n",
       "      <td>premier-league</td>\n",
       "      <td>24</td>\n",
       "      <td>Left-Back</td>\n",
       "      <td>Arsenal Football Club</td>\n",
       "      <td>Poland</td>\n",
       "      <td>left</td>\n",
       "      <td>189.00</td>\n",
       "    </tr>\n",
       "    <tr>\n",
       "      <th>7243</th>\n",
       "      <td>Jorginho</td>\n",
       "      <td>15000000.00</td>\n",
       "      <td>14590855.71</td>\n",
       "      <td>0.03</td>\n",
       "      <td>2023</td>\n",
       "      <td>0</td>\n",
       "      <td>2</td>\n",
       "      <td>919</td>\n",
       "      <td>premier-league</td>\n",
       "      <td>32</td>\n",
       "      <td>Defensive Midfield</td>\n",
       "      <td>Arsenal Football Club</td>\n",
       "      <td>Italy</td>\n",
       "      <td>right</td>\n",
       "      <td>178.00</td>\n",
       "    </tr>\n",
       "    <tr>\n",
       "      <th>4980</th>\n",
       "      <td>Fábio Vieira</td>\n",
       "      <td>25000000.00</td>\n",
       "      <td>26333473.61</td>\n",
       "      <td>0.05</td>\n",
       "      <td>2023</td>\n",
       "      <td>1</td>\n",
       "      <td>2</td>\n",
       "      <td>292</td>\n",
       "      <td>premier-league</td>\n",
       "      <td>23</td>\n",
       "      <td>Attacking Midfield</td>\n",
       "      <td>Arsenal Football Club</td>\n",
       "      <td>Portugal</td>\n",
       "      <td>left</td>\n",
       "      <td>170.00</td>\n",
       "    </tr>\n",
       "    <tr>\n",
       "      <th>1758</th>\n",
       "      <td>Ben White</td>\n",
       "      <td>55000000.00</td>\n",
       "      <td>59238150.71</td>\n",
       "      <td>0.07</td>\n",
       "      <td>2023</td>\n",
       "      <td>4</td>\n",
       "      <td>4</td>\n",
       "      <td>2836</td>\n",
       "      <td>premier-league</td>\n",
       "      <td>26</td>\n",
       "      <td>Right-Back</td>\n",
       "      <td>Arsenal Football Club</td>\n",
       "      <td>England</td>\n",
       "      <td>right</td>\n",
       "      <td>186.00</td>\n",
       "    </tr>\n",
       "    <tr>\n",
       "      <th>2886</th>\n",
       "      <td>Cédric Soares</td>\n",
       "      <td>2000000.00</td>\n",
       "      <td>1835872.99</td>\n",
       "      <td>0.09</td>\n",
       "      <td>2023</td>\n",
       "      <td>0</td>\n",
       "      <td>0</td>\n",
       "      <td>59</td>\n",
       "      <td>premier-league</td>\n",
       "      <td>32</td>\n",
       "      <td>Right-Back</td>\n",
       "      <td>Arsenal Football Club</td>\n",
       "      <td>Portugal</td>\n",
       "      <td>right</td>\n",
       "      <td>171.00</td>\n",
       "    </tr>\n",
       "    <tr>\n",
       "      <th>8492</th>\n",
       "      <td>Leandro Trossard</td>\n",
       "      <td>38000000.00</td>\n",
       "      <td>34722488.48</td>\n",
       "      <td>0.09</td>\n",
       "      <td>2023</td>\n",
       "      <td>11</td>\n",
       "      <td>1</td>\n",
       "      <td>1502</td>\n",
       "      <td>premier-league</td>\n",
       "      <td>29</td>\n",
       "      <td>Left Winger</td>\n",
       "      <td>Arsenal Football Club</td>\n",
       "      <td>Belgium</td>\n",
       "      <td>right</td>\n",
       "      <td>172.00</td>\n",
       "    </tr>\n",
       "    <tr>\n",
       "      <th>3850</th>\n",
       "      <td>Eddie Nketiah</td>\n",
       "      <td>30000000.00</td>\n",
       "      <td>33982748.55</td>\n",
       "      <td>0.12</td>\n",
       "      <td>2023</td>\n",
       "      <td>5</td>\n",
       "      <td>2</td>\n",
       "      <td>1072</td>\n",
       "      <td>premier-league</td>\n",
       "      <td>24</td>\n",
       "      <td>Centre-Forward</td>\n",
       "      <td>Arsenal Football Club</td>\n",
       "      <td>England</td>\n",
       "      <td>right</td>\n",
       "      <td>175.00</td>\n",
       "    </tr>\n",
       "    <tr>\n",
       "      <th>14537</th>\n",
       "      <td>Thomas Partey</td>\n",
       "      <td>20000000.00</td>\n",
       "      <td>23851612.40</td>\n",
       "      <td>0.18</td>\n",
       "      <td>2023</td>\n",
       "      <td>0</td>\n",
       "      <td>0</td>\n",
       "      <td>630</td>\n",
       "      <td>premier-league</td>\n",
       "      <td>30</td>\n",
       "      <td>Defensive Midfield</td>\n",
       "      <td>Arsenal Football Club</td>\n",
       "      <td>Ghana</td>\n",
       "      <td>right</td>\n",
       "      <td>185.00</td>\n",
       "    </tr>\n",
       "    <tr>\n",
       "      <th>12641</th>\n",
       "      <td>Reiss Nelson</td>\n",
       "      <td>15000000.00</td>\n",
       "      <td>18058537.70</td>\n",
       "      <td>0.19</td>\n",
       "      <td>2023</td>\n",
       "      <td>0</td>\n",
       "      <td>0</td>\n",
       "      <td>257</td>\n",
       "      <td>premier-league</td>\n",
       "      <td>24</td>\n",
       "      <td>Right Winger</td>\n",
       "      <td>Arsenal Football Club</td>\n",
       "      <td>England</td>\n",
       "      <td>right</td>\n",
       "      <td>175.00</td>\n",
       "    </tr>\n",
       "    <tr>\n",
       "      <th>3268</th>\n",
       "      <td>David Raya</td>\n",
       "      <td>35000000.00</td>\n",
       "      <td>28360532.48</td>\n",
       "      <td>0.21</td>\n",
       "      <td>2023</td>\n",
       "      <td>0</td>\n",
       "      <td>0</td>\n",
       "      <td>2700</td>\n",
       "      <td>premier-league</td>\n",
       "      <td>28</td>\n",
       "      <td>Goalkeeper</td>\n",
       "      <td>Arsenal Football Club</td>\n",
       "      <td>Spain</td>\n",
       "      <td>right</td>\n",
       "      <td>183.00</td>\n",
       "    </tr>\n",
       "  </tbody>\n",
       "</table>\n",
       "</div>"
      ],
      "text/plain": [
       "            player_name  market_value_per_season  market_value_pred  \\\n",
       "6353       Jakub Kiwior              25000000.00        25619875.50   \n",
       "7243           Jorginho              15000000.00        14590855.71   \n",
       "4980       Fábio Vieira              25000000.00        26333473.61   \n",
       "1758          Ben White              55000000.00        59238150.71   \n",
       "2886      Cédric Soares               2000000.00         1835872.99   \n",
       "8492   Leandro Trossard              38000000.00        34722488.48   \n",
       "3850      Eddie Nketiah              30000000.00        33982748.55   \n",
       "14537     Thomas Partey              20000000.00        23851612.40   \n",
       "12641      Reiss Nelson              15000000.00        18058537.70   \n",
       "3268         David Raya              35000000.00        28360532.48   \n",
       "\n",
       "       market_value_rmsle  start_season  goals  assists  minutes_played  \\\n",
       "6353                 0.02          2023      1        3             944   \n",
       "7243                 0.03          2023      0        2             919   \n",
       "4980                 0.05          2023      1        2             292   \n",
       "1758                 0.07          2023      4        4            2836   \n",
       "2886                 0.09          2023      0        0              59   \n",
       "8492                 0.09          2023     11        1            1502   \n",
       "3850                 0.12          2023      5        2            1072   \n",
       "14537                0.18          2023      0        0             630   \n",
       "12641                0.19          2023      0        0             257   \n",
       "3268                 0.21          2023      0        0            2700   \n",
       "\n",
       "      competition_code  age            position      current_club_name  \\\n",
       "6353    premier-league   24           Left-Back  Arsenal Football Club   \n",
       "7243    premier-league   32  Defensive Midfield  Arsenal Football Club   \n",
       "4980    premier-league   23  Attacking Midfield  Arsenal Football Club   \n",
       "1758    premier-league   26          Right-Back  Arsenal Football Club   \n",
       "2886    premier-league   32          Right-Back  Arsenal Football Club   \n",
       "8492    premier-league   29         Left Winger  Arsenal Football Club   \n",
       "3850    premier-league   24      Centre-Forward  Arsenal Football Club   \n",
       "14537   premier-league   30  Defensive Midfield  Arsenal Football Club   \n",
       "12641   premier-league   24        Right Winger  Arsenal Football Club   \n",
       "3268    premier-league   28          Goalkeeper  Arsenal Football Club   \n",
       "\n",
       "        country   foot  height_in_cm  \n",
       "6353     Poland   left        189.00  \n",
       "7243      Italy  right        178.00  \n",
       "4980   Portugal   left        170.00  \n",
       "1758    England  right        186.00  \n",
       "2886   Portugal  right        171.00  \n",
       "8492    Belgium  right        172.00  \n",
       "3850    England  right        175.00  \n",
       "14537     Ghana  right        185.00  \n",
       "12641   England  right        175.00  \n",
       "3268      Spain  right        183.00  "
      ]
     },
     "execution_count": 94,
     "metadata": {},
     "output_type": "execute_result"
    }
   ],
   "source": [
    "# Arsenal 선수들의 2324 시즌 몸값 비교\n",
    "test_copy_cat[test_copy_cat.current_club_name==\"Arsenal Football Club\"].sort_values(\"market_value_rmsle\").head(10)"
   ]
  },
  {
   "cell_type": "code",
   "execution_count": 95,
   "metadata": {},
   "outputs": [
    {
     "data": {
      "text/html": [
       "<div>\n",
       "<style scoped>\n",
       "    .dataframe tbody tr th:only-of-type {\n",
       "        vertical-align: middle;\n",
       "    }\n",
       "\n",
       "    .dataframe tbody tr th {\n",
       "        vertical-align: top;\n",
       "    }\n",
       "\n",
       "    .dataframe thead th {\n",
       "        text-align: right;\n",
       "    }\n",
       "</style>\n",
       "<table border=\"1\" class=\"dataframe\">\n",
       "  <thead>\n",
       "    <tr style=\"text-align: right;\">\n",
       "      <th></th>\n",
       "      <th>player_name</th>\n",
       "      <th>market_value_per_season</th>\n",
       "      <th>market_value_pred</th>\n",
       "      <th>market_value_rmsle</th>\n",
       "      <th>start_season</th>\n",
       "      <th>goals</th>\n",
       "      <th>assists</th>\n",
       "      <th>minutes_played</th>\n",
       "      <th>competition_code</th>\n",
       "      <th>age</th>\n",
       "      <th>position</th>\n",
       "      <th>current_club_name</th>\n",
       "      <th>country</th>\n",
       "      <th>foot</th>\n",
       "      <th>height_in_cm</th>\n",
       "    </tr>\n",
       "  </thead>\n",
       "  <tbody>\n",
       "    <tr>\n",
       "      <th>3380</th>\n",
       "      <td>Dejan Kulusevski</td>\n",
       "      <td>55000000.00</td>\n",
       "      <td>53048275.79</td>\n",
       "      <td>0.04</td>\n",
       "      <td>2023</td>\n",
       "      <td>6</td>\n",
       "      <td>3</td>\n",
       "      <td>2566</td>\n",
       "      <td>premier-league</td>\n",
       "      <td>24</td>\n",
       "      <td>Right Winger</td>\n",
       "      <td>Tottenham Hotspur Football Club</td>\n",
       "      <td>Sweden</td>\n",
       "      <td>left</td>\n",
       "      <td>186.00</td>\n",
       "    </tr>\n",
       "    <tr>\n",
       "      <th>11801</th>\n",
       "      <td>Pape Matar Sarr</td>\n",
       "      <td>40000000.00</td>\n",
       "      <td>37071335.09</td>\n",
       "      <td>0.08</td>\n",
       "      <td>2023</td>\n",
       "      <td>3</td>\n",
       "      <td>3</td>\n",
       "      <td>1846</td>\n",
       "      <td>premier-league</td>\n",
       "      <td>21</td>\n",
       "      <td>Central Midfield</td>\n",
       "      <td>Tottenham Hotspur Football Club</td>\n",
       "      <td>Senegal</td>\n",
       "      <td>right</td>\n",
       "      <td>184.00</td>\n",
       "    </tr>\n",
       "    <tr>\n",
       "      <th>12794</th>\n",
       "      <td>Richarlison</td>\n",
       "      <td>40000000.00</td>\n",
       "      <td>43671831.30</td>\n",
       "      <td>0.09</td>\n",
       "      <td>2023</td>\n",
       "      <td>11</td>\n",
       "      <td>4</td>\n",
       "      <td>1492</td>\n",
       "      <td>premier-league</td>\n",
       "      <td>27</td>\n",
       "      <td>Centre-Forward</td>\n",
       "      <td>Tottenham Hotspur Football Club</td>\n",
       "      <td>Brazil</td>\n",
       "      <td>right</td>\n",
       "      <td>184.00</td>\n",
       "    </tr>\n",
       "    <tr>\n",
       "      <th>11585</th>\n",
       "      <td>Oliver Skipp</td>\n",
       "      <td>15000000.00</td>\n",
       "      <td>16815671.70</td>\n",
       "      <td>0.11</td>\n",
       "      <td>2023</td>\n",
       "      <td>0</td>\n",
       "      <td>0</td>\n",
       "      <td>600</td>\n",
       "      <td>premier-league</td>\n",
       "      <td>23</td>\n",
       "      <td>Defensive Midfield</td>\n",
       "      <td>Tottenham Hotspur Football Club</td>\n",
       "      <td>England</td>\n",
       "      <td>right</td>\n",
       "      <td>175.00</td>\n",
       "    </tr>\n",
       "    <tr>\n",
       "      <th>2065</th>\n",
       "      <td>Brennan Johnson</td>\n",
       "      <td>48000000.00</td>\n",
       "      <td>54919801.21</td>\n",
       "      <td>0.13</td>\n",
       "      <td>2023</td>\n",
       "      <td>5</td>\n",
       "      <td>8</td>\n",
       "      <td>1823</td>\n",
       "      <td>premier-league</td>\n",
       "      <td>22</td>\n",
       "      <td>Right Winger</td>\n",
       "      <td>Tottenham Hotspur Football Club</td>\n",
       "      <td>Wales</td>\n",
       "      <td>right</td>\n",
       "      <td>186.00</td>\n",
       "    </tr>\n",
       "    <tr>\n",
       "      <th>12264</th>\n",
       "      <td>Pierre-Emile Højbjerg</td>\n",
       "      <td>20000000.00</td>\n",
       "      <td>23325346.17</td>\n",
       "      <td>0.15</td>\n",
       "      <td>2023</td>\n",
       "      <td>0</td>\n",
       "      <td>0</td>\n",
       "      <td>1182</td>\n",
       "      <td>premier-league</td>\n",
       "      <td>28</td>\n",
       "      <td>Defensive Midfield</td>\n",
       "      <td>Tottenham Hotspur Football Club</td>\n",
       "      <td>Denmark</td>\n",
       "      <td>right</td>\n",
       "      <td>185.00</td>\n",
       "    </tr>\n",
       "    <tr>\n",
       "      <th>5728</th>\n",
       "      <td>Heung-min Son</td>\n",
       "      <td>50000000.00</td>\n",
       "      <td>42578859.23</td>\n",
       "      <td>0.16</td>\n",
       "      <td>2023</td>\n",
       "      <td>17</td>\n",
       "      <td>9</td>\n",
       "      <td>2680</td>\n",
       "      <td>premier-league</td>\n",
       "      <td>31</td>\n",
       "      <td>Left Winger</td>\n",
       "      <td>Tottenham Hotspur Football Club</td>\n",
       "      <td>Korea, South</td>\n",
       "      <td>both</td>\n",
       "      <td>184.00</td>\n",
       "    </tr>\n",
       "    <tr>\n",
       "      <th>2191</th>\n",
       "      <td>Bryan Gil</td>\n",
       "      <td>16000000.00</td>\n",
       "      <td>18935859.93</td>\n",
       "      <td>0.17</td>\n",
       "      <td>2023</td>\n",
       "      <td>0</td>\n",
       "      <td>0</td>\n",
       "      <td>201</td>\n",
       "      <td>premier-league</td>\n",
       "      <td>23</td>\n",
       "      <td>Right Winger</td>\n",
       "      <td>Tottenham Hotspur Football Club</td>\n",
       "      <td>Spain</td>\n",
       "      <td>left</td>\n",
       "      <td>175.00</td>\n",
       "    </tr>\n",
       "    <tr>\n",
       "      <th>12095</th>\n",
       "      <td>Pedro Porro</td>\n",
       "      <td>45000000.00</td>\n",
       "      <td>35501102.09</td>\n",
       "      <td>0.24</td>\n",
       "      <td>2023</td>\n",
       "      <td>1</td>\n",
       "      <td>7</td>\n",
       "      <td>2837</td>\n",
       "      <td>premier-league</td>\n",
       "      <td>24</td>\n",
       "      <td>Right-Back</td>\n",
       "      <td>Tottenham Hotspur Football Club</td>\n",
       "      <td>Spain</td>\n",
       "      <td>right</td>\n",
       "      <td>173.00</td>\n",
       "    </tr>\n",
       "    <tr>\n",
       "      <th>4040</th>\n",
       "      <td>Emerson Royal</td>\n",
       "      <td>18000000.00</td>\n",
       "      <td>22851922.36</td>\n",
       "      <td>0.24</td>\n",
       "      <td>2023</td>\n",
       "      <td>1</td>\n",
       "      <td>0</td>\n",
       "      <td>1141</td>\n",
       "      <td>premier-league</td>\n",
       "      <td>25</td>\n",
       "      <td>Right-Back</td>\n",
       "      <td>Tottenham Hotspur Football Club</td>\n",
       "      <td>Brazil</td>\n",
       "      <td>right</td>\n",
       "      <td>183.00</td>\n",
       "    </tr>\n",
       "  </tbody>\n",
       "</table>\n",
       "</div>"
      ],
      "text/plain": [
       "                 player_name  market_value_per_season  market_value_pred  \\\n",
       "3380        Dejan Kulusevski              55000000.00        53048275.79   \n",
       "11801        Pape Matar Sarr              40000000.00        37071335.09   \n",
       "12794            Richarlison              40000000.00        43671831.30   \n",
       "11585           Oliver Skipp              15000000.00        16815671.70   \n",
       "2065         Brennan Johnson              48000000.00        54919801.21   \n",
       "12264  Pierre-Emile Højbjerg              20000000.00        23325346.17   \n",
       "5728           Heung-min Son              50000000.00        42578859.23   \n",
       "2191               Bryan Gil              16000000.00        18935859.93   \n",
       "12095            Pedro Porro              45000000.00        35501102.09   \n",
       "4040           Emerson Royal              18000000.00        22851922.36   \n",
       "\n",
       "       market_value_rmsle  start_season  goals  assists  minutes_played  \\\n",
       "3380                 0.04          2023      6        3            2566   \n",
       "11801                0.08          2023      3        3            1846   \n",
       "12794                0.09          2023     11        4            1492   \n",
       "11585                0.11          2023      0        0             600   \n",
       "2065                 0.13          2023      5        8            1823   \n",
       "12264                0.15          2023      0        0            1182   \n",
       "5728                 0.16          2023     17        9            2680   \n",
       "2191                 0.17          2023      0        0             201   \n",
       "12095                0.24          2023      1        7            2837   \n",
       "4040                 0.24          2023      1        0            1141   \n",
       "\n",
       "      competition_code  age            position  \\\n",
       "3380    premier-league   24        Right Winger   \n",
       "11801   premier-league   21    Central Midfield   \n",
       "12794   premier-league   27      Centre-Forward   \n",
       "11585   premier-league   23  Defensive Midfield   \n",
       "2065    premier-league   22        Right Winger   \n",
       "12264   premier-league   28  Defensive Midfield   \n",
       "5728    premier-league   31         Left Winger   \n",
       "2191    premier-league   23        Right Winger   \n",
       "12095   premier-league   24          Right-Back   \n",
       "4040    premier-league   25          Right-Back   \n",
       "\n",
       "                     current_club_name       country   foot  height_in_cm  \n",
       "3380   Tottenham Hotspur Football Club        Sweden   left        186.00  \n",
       "11801  Tottenham Hotspur Football Club       Senegal  right        184.00  \n",
       "12794  Tottenham Hotspur Football Club        Brazil  right        184.00  \n",
       "11585  Tottenham Hotspur Football Club       England  right        175.00  \n",
       "2065   Tottenham Hotspur Football Club         Wales  right        186.00  \n",
       "12264  Tottenham Hotspur Football Club       Denmark  right        185.00  \n",
       "5728   Tottenham Hotspur Football Club  Korea, South   both        184.00  \n",
       "2191   Tottenham Hotspur Football Club         Spain   left        175.00  \n",
       "12095  Tottenham Hotspur Football Club         Spain  right        173.00  \n",
       "4040   Tottenham Hotspur Football Club        Brazil  right        183.00  "
      ]
     },
     "execution_count": 95,
     "metadata": {},
     "output_type": "execute_result"
    }
   ],
   "source": [
    "# Tottenham 선수들의 2324 시즌 몸값 비교\n",
    "test_copy_cat[test_copy_cat.current_club_name==\"Tottenham Hotspur Football Club\"].sort_values(\"market_value_rmsle\").head(10)"
   ]
  },
  {
   "cell_type": "code",
   "execution_count": null,
   "metadata": {},
   "outputs": [],
   "source": []
  }
 ],
 "metadata": {
  "kernelspec": {
   "display_name": "football",
   "language": "python",
   "name": "python3"
  },
  "language_info": {
   "codemirror_mode": {
    "name": "ipython",
    "version": 3
   },
   "file_extension": ".py",
   "mimetype": "text/x-python",
   "name": "python",
   "nbconvert_exporter": "python",
   "pygments_lexer": "ipython3",
   "version": "3.11.8"
  }
 },
 "nbformat": 4,
 "nbformat_minor": 2
}
